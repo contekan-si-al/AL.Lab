{
  "nbformat": 4,
  "nbformat_minor": 0,
  "metadata": {
    "colab": {
      "name": "Introduction to Data Science with R.ipynb",
      "provenance": []
    },
    "kernelspec": {
      "name": "ir",
      "display_name": "R"
    },
    "language_info": {
      "name": "R"
    }
  },
  "cells": [
    {
      "cell_type": "markdown",
      "source": [
        "## 1. Dasar Pemrograman R"
      ],
      "metadata": {
        "id": "fsjeI7xq1bVC"
      }
    },
    {
      "cell_type": "markdown",
      "source": [
        "#### [\"Hello World\" di R](https://academy.dqlab.id/main/livecode/111/211/1059?pr=0)"
      ],
      "metadata": {
        "id": "J0IBtD7n1juD"
      }
    },
    {
      "cell_type": "code",
      "execution_count": 1,
      "metadata": {
        "colab": {
          "base_uri": "https://localhost:8080/",
          "height": 34
        },
        "id": "LLw8S3wVt0ZK",
        "outputId": "c43a2997-3a51-4350-cc49-c90ba1f325b6"
      },
      "outputs": [
        {
          "output_type": "display_data",
          "data": {
            "text/html": [
              "'Hello World'"
            ],
            "text/markdown": "'Hello World'",
            "text/latex": "'Hello World'",
            "text/plain": [
              "[1] \"Hello World\""
            ]
          },
          "metadata": {}
        }
      ],
      "source": [
        "\"Hello World\""
      ]
    },
    {
      "cell_type": "markdown",
      "source": [
        "#### [Praktek: Perhitungan Sederhana](https://academy.dqlab.id/main/livecode/111/211/1062?pr=0)"
      ],
      "metadata": {
        "id": "xDJnQ9RL2Dsu"
      }
    },
    {
      "cell_type": "code",
      "source": [
        "9 + 4"
      ],
      "metadata": {
        "colab": {
          "base_uri": "https://localhost:8080/",
          "height": 34
        },
        "id": "ZFA8UZWe2GrA",
        "outputId": "65d26aba-adfe-4fa0-872f-1bef7420e345"
      },
      "execution_count": 2,
      "outputs": [
        {
          "output_type": "display_data",
          "data": {
            "text/html": [
              "13"
            ],
            "text/markdown": "13",
            "text/latex": "13",
            "text/plain": [
              "[1] 13"
            ]
          },
          "metadata": {}
        }
      ]
    },
    {
      "cell_type": "markdown",
      "source": [
        "#### [Variabel dalam R](https://academy.dqlab.id/main/livecode/111/211/1060?pr=0)"
      ],
      "metadata": {
        "id": "dCLIUWOL2cVX"
      }
    },
    {
      "cell_type": "code",
      "source": [
        "AL = 49\n",
        "\n",
        "print(AL)"
      ],
      "metadata": {
        "colab": {
          "base_uri": "https://localhost:8080/"
        },
        "id": "hVuBfl6T2elz",
        "outputId": "de81b644-d432-4d92-bcbd-7533f8ec3613"
      },
      "execution_count": 5,
      "outputs": [
        {
          "output_type": "stream",
          "name": "stdout",
          "text": [
            "[1] 49\n"
          ]
        }
      ]
    },
    {
      "cell_type": "markdown",
      "source": [
        "## 2. Lanjutan Dasar R"
      ],
      "metadata": {
        "id": "4rdCbAKv3dGP"
      }
    },
    {
      "cell_type": "markdown",
      "source": [
        "#### [Praktek: Penggunaan Comment](https://academy.dqlab.id/main/livecode/111/212/1064?pr=0)"
      ],
      "metadata": {
        "id": "7eCURrnq3lV_"
      }
    },
    {
      "cell_type": "code",
      "source": [
        "4 + 9 #Ini adalah baris komentar "
      ],
      "metadata": {
        "colab": {
          "base_uri": "https://localhost:8080/",
          "height": 34
        },
        "id": "qJoB9_J83xup",
        "outputId": "b84d1396-4ec2-490b-c8ea-d3b1ad4f6a04"
      },
      "execution_count": 8,
      "outputs": [
        {
          "output_type": "display_data",
          "data": {
            "text/html": [
              "13"
            ],
            "text/markdown": "13",
            "text/latex": "13",
            "text/plain": [
              "[1] 13"
            ]
          },
          "metadata": {}
        }
      ]
    },
    {
      "cell_type": "code",
      "source": [
        "# Ini adalah baris komentar.\n",
        "\n",
        "9 + 4"
      ],
      "metadata": {
        "colab": {
          "base_uri": "https://localhost:8080/",
          "height": 34
        },
        "id": "PitmbkJq36F_",
        "outputId": "aacb3a08-6ce0-400a-f34e-c2a50a9ae984"
      },
      "execution_count": 9,
      "outputs": [
        {
          "output_type": "display_data",
          "data": {
            "text/html": [
              "13"
            ],
            "text/markdown": "13",
            "text/latex": "13",
            "text/plain": [
              "[1] 13"
            ]
          },
          "metadata": {}
        }
      ]
    },
    {
      "cell_type": "markdown",
      "source": [
        "#### [Praktek: Penggunaan Vector - Bagian Satu](https://academy.dqlab.id/main/livecode/111/212/1066?pr=0)"
      ],
      "metadata": {
        "id": "07jkKHpn4TO4"
      }
    },
    {
      "cell_type": "code",
      "source": [
        "c(4, 9, 13)"
      ],
      "metadata": {
        "colab": {
          "base_uri": "https://localhost:8080/",
          "height": 34
        },
        "id": "je-26Orl4rFj",
        "outputId": "1844d3e5-a7f3-4bf9-e059-9038354ed47c"
      },
      "execution_count": 10,
      "outputs": [
        {
          "output_type": "display_data",
          "data": {
            "text/html": [
              "<style>\n",
              ".list-inline {list-style: none; margin:0; padding: 0}\n",
              ".list-inline>li {display: inline-block}\n",
              ".list-inline>li:not(:last-child)::after {content: \"\\00b7\"; padding: 0 .5ex}\n",
              "</style>\n",
              "<ol class=list-inline><li>4</li><li>9</li><li>13</li></ol>\n"
            ],
            "text/markdown": "1. 4\n2. 9\n3. 13\n\n\n",
            "text/latex": "\\begin{enumerate*}\n\\item 4\n\\item 9\n\\item 13\n\\end{enumerate*}\n",
            "text/plain": [
              "[1]  4  9 13"
            ]
          },
          "metadata": {}
        }
      ]
    },
    {
      "cell_type": "markdown",
      "source": [
        "#### [Praktek: Penggunaan Vector - Bagian Dua](https://academy.dqlab.id/main/livecode/111/212/1067?pr=0)"
      ],
      "metadata": {
        "id": "3OLppqp744Wo"
      }
    },
    {
      "cell_type": "code",
      "source": [
        "c(4:9)"
      ],
      "metadata": {
        "colab": {
          "base_uri": "https://localhost:8080/",
          "height": 34
        },
        "id": "i3mhDn3i4-6j",
        "outputId": "c14a4eb0-2152-445f-b623-b6c324af1276"
      },
      "execution_count": 11,
      "outputs": [
        {
          "output_type": "display_data",
          "data": {
            "text/html": [
              "<style>\n",
              ".list-inline {list-style: none; margin:0; padding: 0}\n",
              ".list-inline>li {display: inline-block}\n",
              ".list-inline>li:not(:last-child)::after {content: \"\\00b7\"; padding: 0 .5ex}\n",
              "</style>\n",
              "<ol class=list-inline><li>4</li><li>5</li><li>6</li><li>7</li><li>8</li><li>9</li></ol>\n"
            ],
            "text/markdown": "1. 4\n2. 5\n3. 6\n4. 7\n5. 8\n6. 9\n\n\n",
            "text/latex": "\\begin{enumerate*}\n\\item 4\n\\item 5\n\\item 6\n\\item 7\n\\item 8\n\\item 9\n\\end{enumerate*}\n",
            "text/plain": [
              "[1] 4 5 6 7 8 9"
            ]
          },
          "metadata": {}
        }
      ]
    },
    {
      "cell_type": "markdown",
      "source": [
        "#### [Menggunakan Fungsi Summary](https://academy.dqlab.id/main/livecode/111/212/1070?pr=0)"
      ],
      "metadata": {
        "id": "rbjHVRSk5NfC"
      }
    },
    {
      "cell_type": "code",
      "source": [
        "summary(c(9:13))"
      ],
      "metadata": {
        "colab": {
          "base_uri": "https://localhost:8080/",
          "height": 52
        },
        "id": "xeNaWV-85VN2",
        "outputId": "d2e37195-3e74-4e03-afc3-0f1d201e7103"
      },
      "execution_count": 12,
      "outputs": [
        {
          "output_type": "display_data",
          "data": {
            "text/plain": [
              "   Min. 1st Qu.  Median    Mean 3rd Qu.    Max. \n",
              "      9      10      11      11      12      13 "
            ]
          },
          "metadata": {}
        }
      ]
    }
  ]
}