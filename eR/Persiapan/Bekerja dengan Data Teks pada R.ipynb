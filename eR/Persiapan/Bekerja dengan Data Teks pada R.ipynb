{
  "nbformat": 4,
  "nbformat_minor": 0,
  "metadata": {
    "colab": {
      "provenance": [],
      "toc_visible": true
    },
    "kernelspec": {
      "name": "ir",
      "display_name": "R"
    },
    "language_info": {
      "name": "R"
    }
  },
  "cells": [
    {
      "cell_type": "markdown",
      "source": [
        "## Pengolahan dan Manipulasi Data String"
      ],
      "metadata": {
        "id": "Qz6T9iSK25-3"
      }
    },
    {
      "cell_type": "markdown",
      "source": [
        "#### [Mengimport dataset](https://academy.dqlab.id/main/livecode/359/811/4280?pr=0)"
      ],
      "metadata": {
        "id": "pLWAgrpV8Bwg"
      }
    },
    {
      "cell_type": "code",
      "source": [
        "#Preload dataset yang digunakan\n",
        "data <- read.table(\n",
        "  file = \"https://storage.googleapis.com/dqlab-dataset/datalahir_teks_dqlab.txt\",\n",
        "  header = FALSE, \n",
        "  sep = \"\\n\", \n",
        "  na.strings=c(\"NA\", \"N/A\", \"\"), \n",
        "  col.names = 'data_list',\n",
        "  skip = 1)"
      ],
      "metadata": {
        "id": "Ch4yvLK-8J0H"
      },
      "execution_count": 1,
      "outputs": []
    },
    {
      "cell_type": "code",
      "source": [
        "#Menampilkan data yang sudah di-load ke dalam workspace\n",
        "data"
      ],
      "metadata": {
        "colab": {
          "base_uri": "https://localhost:8080/",
          "height": 1000
        },
        "id": "iusT10uc9Ifx",
        "outputId": "1b7afdf1-9e46-499f-821b-c2f0126f1c11"
      },
      "execution_count": 2,
      "outputs": [
        {
          "output_type": "display_data",
          "data": {
            "text/html": [
              "<table class=\"dataframe\">\n",
              "<caption>A data.frame: 69 × 1</caption>\n",
              "<thead>\n",
              "\t<tr><th scope=col>data_list</th></tr>\n",
              "\t<tr><th scope=col>&lt;chr&gt;</th></tr>\n",
              "</thead>\n",
              "<tbody>\n",
              "\t<tr><td>Agung|||Semarang|||03 Juni 1992|||Jawa Tengah                        </td></tr>\n",
              "\t<tr><td>Agus|||Probolinggo|||19 Juni 1989|||Jawa Timur                       </td></tr>\n",
              "\t<tr><td>Andi|||Pangkalpinang|||11 April 1994|||Bangka Belitung               </td></tr>\n",
              "\t<tr><td>Andika|||Surabaya|||24 Mei 1999|||Jawa Timur                         </td></tr>\n",
              "\t<tr><td>Anggun|||Kota Administrasi Jakarta Pusat|||13 Juni 1981|||Jakarta    </td></tr>\n",
              "\t<tr><td>Ardi|||Depok|||16 Agustus 1984|||Jawa Barat                          </td></tr>\n",
              "\t<tr><td>Asep|||Malang|||16 Agustus 1996|||Jawa Timur                         </td></tr>\n",
              "\t<tr><td>Ayu|||Batu|||22 Februari 2002|||Jawa Timur                           </td></tr>\n",
              "\t<tr><td>Bagus|||Banda Aceh|||10 Juli 1995|||Aceh                             </td></tr>\n",
              "\t<tr><td>Bambang|||Kota Administrasi Jakarta Utara|||01 Oktober 1991|||Jakarta</td></tr>\n",
              "\t<tr><td>Bayu|||Sabang|||05 Februari 1987|||Aceh                              </td></tr>\n",
              "\t<tr><td>Bella|||Pasuruan|||17 April 1992|||Jawa Timur                        </td></tr>\n",
              "\t<tr><td>Citra|||Banjarmasin|||12 Desember 1986|||Kalimantan Selatan          </td></tr>\n",
              "\t<tr><td>Deni|||Denpasar|||14 Februari 1996|||Bali                            </td></tr>\n",
              "\t<tr><td>Diki|||Semarang|||21 Juli 1987|||Jawa Tengah                         </td></tr>\n",
              "\t<tr><td>Erlangga|||Tangerang Selatan|||31 Januari 1993|||Banten              </td></tr>\n",
              "\t<tr><td>Fajri|||Bogor|||06 Agustus 2003|||Jawa Barat                         </td></tr>\n",
              "\t<tr><td>Farah|||Tangerang Selatan|||06 Maret 1999|||Banten                   </td></tr>\n",
              "\t<tr><td>Feri|||Banjarbaru|||17 September 1991|||Kalimantan Selatan           </td></tr>\n",
              "\t<tr><td>Fitri|||Kota Administrasi Jakarta Utara|||21 Januari 1982|||Jakarta  </td></tr>\n",
              "\t<tr><td>Galang|||Banjarmasin|||01 Juni 1993|||Kalimantan Selatan             </td></tr>\n",
              "\t<tr><td>Gunawan (0834755)|||Tegal|||18 November 1993|||Jawa Tengah           </td></tr>\n",
              "\t<tr><td>Hadi|||Depok|||07 Juli 1983|||Jawa Barat                             </td></tr>\n",
              "\t<tr><td>Hasan|||Kota Administrasi Jakarta Selatan|||25 Juni 1992|||Jakarta   </td></tr>\n",
              "\t<tr><td>Hengky|||Tangerang|||21 Desember 1990|||Banten                       </td></tr>\n",
              "\t<tr><td>Indah|||Madiun|||28 Juli 1991|||Jawa Timur                           </td></tr>\n",
              "\t<tr><td>Iqbal|||Pekalongan|||11 Oktober 1997|||Jawa Tengah                   </td></tr>\n",
              "\t<tr><td>Jaya|||Sungai Penuh|||23 April 2005|||Jambi                          </td></tr>\n",
              "\t<tr><td>Kardi|||Cimahi|||25 Juni 1992|||Jawa Barat                           </td></tr>\n",
              "\t<tr><td>Komang|||Semarang|||31 Agustus 1998|||Jawa Tengah                    </td></tr>\n",
              "\t<tr><td>⋮</td></tr>\n",
              "\t<tr><td>Putra|||Tangerang|||07 Agustus 1996|||Banten                        </td></tr>\n",
              "\t<tr><td>Putri|||Kota Administrasi Jakarta Timur|||29 Desember 2002|||Jakarta</td></tr>\n",
              "\t<tr><td>Rafi|||Subulussalam|||25 Februari 1991|||Aceh                       </td></tr>\n",
              "\t<tr><td>Rahma|||Sabang|||22 September 1990|||Aceh                           </td></tr>\n",
              "\t<tr><td>Rahmad|||Probolinggo|||22 September 2003|||Jawa Timur               </td></tr>\n",
              "\t<tr><td>Randi|||Bekasi|||20 April 1985|||Jawa Barat                         </td></tr>\n",
              "\t<tr><td>Rasyid|||Bandung|||25 Agustus 1985|||Jawa Barat                     </td></tr>\n",
              "\t<tr><td>Rian|||Bekasi|||16 Januari 1987|||Jawa Barat                        </td></tr>\n",
              "\t<tr><td>Rita|||Singkawang|||01 Desember 2004|||Kalimantan Barat             </td></tr>\n",
              "\t<tr><td>Rizki|||Cimahi|||16 Februari 1991|||Jawa Barat                      </td></tr>\n",
              "\t<tr><td>Sandi|||Sukabumi|||01 Februari 1985|||Jawa Barat                    </td></tr>\n",
              "\t<tr><td>Sarah|||Bengkulu|||15 November 1980|||Bengkulu                      </td></tr>\n",
              "\t<tr><td>Silvia|||Malang|||06 Januari 1996|||Jawa Timur                      </td></tr>\n",
              "\t<tr><td>Siti|||Cimahi|||30 Januari 1985|||Jawa Barat                        </td></tr>\n",
              "\t<tr><td>Sri|||Pangkalpinang|||22 Juli 1990|||Bangka Belitung                </td></tr>\n",
              "\t<tr><td>Tasya|||Singkawang|||15 Oktober 1987|||Kalimantan Barat             </td></tr>\n",
              "\t<tr><td>Tia|||Kota Administrasi Jakarta Utara|||26 Desember 1985|||Jakarta  </td></tr>\n",
              "\t<tr><td>Tiara|||Madiun|||11 April 1992|||Jawa Timur                         </td></tr>\n",
              "\t<tr><td>Tika|||Cirebon|||07 April 1981|||Jawa Barat                         </td></tr>\n",
              "\t<tr><td>Tri|||Batu|||26 Januari 1994|||Jawa Timur                           </td></tr>\n",
              "\t<tr><td>Ujang|||Depok|||04 Juli 1999|||Jawa Barat                           </td></tr>\n",
              "\t<tr><td>Wahyu|||Mojokerto|||17 Maret 2000|||Jawa Timur                      </td></tr>\n",
              "\t<tr><td>Wardi|||Jambi|||23 Mei 1985|||Jambi                                 </td></tr>\n",
              "\t<tr><td>Wulan|||Langsa|||09 Maret 1990|||Aceh                               </td></tr>\n",
              "\t<tr><td>Yansen|||Cilegon|||14 Januari 1981|||Banten                         </td></tr>\n",
              "\t<tr><td>Yati|||Langsa|||20 September 1995|||Aceh                            </td></tr>\n",
              "\t<tr><td>Yudhi|||Yogyakarta|||29 Maret 1992|||Daerah Istimewa Yogyakarta     </td></tr>\n",
              "\t<tr><td>Yuli|||Jambi|||11 Januari 1984|||Jambi                              </td></tr>\n",
              "\t<tr><td>Zahra|||Langsa|||25 Juli 2002|||Aceh                                </td></tr>\n",
              "\t<tr><td>Zaki|||Cirebon|||31 Maret 1999|||Jawa Barat                         </td></tr>\n",
              "</tbody>\n",
              "</table>\n"
            ],
            "text/markdown": "\nA data.frame: 69 × 1\n\n| data_list &lt;chr&gt; |\n|---|\n| Agung|||Semarang|||03 Juni 1992|||Jawa Tengah                         |\n| Agus|||Probolinggo|||19 Juni 1989|||Jawa Timur                        |\n| Andi|||Pangkalpinang|||11 April 1994|||Bangka Belitung                |\n| Andika|||Surabaya|||24 Mei 1999|||Jawa Timur                          |\n| Anggun|||Kota Administrasi Jakarta Pusat|||13 Juni 1981|||Jakarta     |\n| Ardi|||Depok|||16 Agustus 1984|||Jawa Barat                           |\n| Asep|||Malang|||16 Agustus 1996|||Jawa Timur                          |\n| Ayu|||Batu|||22 Februari 2002|||Jawa Timur                            |\n| Bagus|||Banda Aceh|||10 Juli 1995|||Aceh                              |\n| Bambang|||Kota Administrasi Jakarta Utara|||01 Oktober 1991|||Jakarta |\n| Bayu|||Sabang|||05 Februari 1987|||Aceh                               |\n| Bella|||Pasuruan|||17 April 1992|||Jawa Timur                         |\n| Citra|||Banjarmasin|||12 Desember 1986|||Kalimantan Selatan           |\n| Deni|||Denpasar|||14 Februari 1996|||Bali                             |\n| Diki|||Semarang|||21 Juli 1987|||Jawa Tengah                          |\n| Erlangga|||Tangerang Selatan|||31 Januari 1993|||Banten               |\n| Fajri|||Bogor|||06 Agustus 2003|||Jawa Barat                          |\n| Farah|||Tangerang Selatan|||06 Maret 1999|||Banten                    |\n| Feri|||Banjarbaru|||17 September 1991|||Kalimantan Selatan            |\n| Fitri|||Kota Administrasi Jakarta Utara|||21 Januari 1982|||Jakarta   |\n| Galang|||Banjarmasin|||01 Juni 1993|||Kalimantan Selatan              |\n| Gunawan (0834755)|||Tegal|||18 November 1993|||Jawa Tengah            |\n| Hadi|||Depok|||07 Juli 1983|||Jawa Barat                              |\n| Hasan|||Kota Administrasi Jakarta Selatan|||25 Juni 1992|||Jakarta    |\n| Hengky|||Tangerang|||21 Desember 1990|||Banten                        |\n| Indah|||Madiun|||28 Juli 1991|||Jawa Timur                            |\n| Iqbal|||Pekalongan|||11 Oktober 1997|||Jawa Tengah                    |\n| Jaya|||Sungai Penuh|||23 April 2005|||Jambi                           |\n| Kardi|||Cimahi|||25 Juni 1992|||Jawa Barat                            |\n| Komang|||Semarang|||31 Agustus 1998|||Jawa Tengah                     |\n| ⋮ |\n| Putra|||Tangerang|||07 Agustus 1996|||Banten                         |\n| Putri|||Kota Administrasi Jakarta Timur|||29 Desember 2002|||Jakarta |\n| Rafi|||Subulussalam|||25 Februari 1991|||Aceh                        |\n| Rahma|||Sabang|||22 September 1990|||Aceh                            |\n| Rahmad|||Probolinggo|||22 September 2003|||Jawa Timur                |\n| Randi|||Bekasi|||20 April 1985|||Jawa Barat                          |\n| Rasyid|||Bandung|||25 Agustus 1985|||Jawa Barat                      |\n| Rian|||Bekasi|||16 Januari 1987|||Jawa Barat                         |\n| Rita|||Singkawang|||01 Desember 2004|||Kalimantan Barat              |\n| Rizki|||Cimahi|||16 Februari 1991|||Jawa Barat                       |\n| Sandi|||Sukabumi|||01 Februari 1985|||Jawa Barat                     |\n| Sarah|||Bengkulu|||15 November 1980|||Bengkulu                       |\n| Silvia|||Malang|||06 Januari 1996|||Jawa Timur                       |\n| Siti|||Cimahi|||30 Januari 1985|||Jawa Barat                         |\n| Sri|||Pangkalpinang|||22 Juli 1990|||Bangka Belitung                 |\n| Tasya|||Singkawang|||15 Oktober 1987|||Kalimantan Barat              |\n| Tia|||Kota Administrasi Jakarta Utara|||26 Desember 1985|||Jakarta   |\n| Tiara|||Madiun|||11 April 1992|||Jawa Timur                          |\n| Tika|||Cirebon|||07 April 1981|||Jawa Barat                          |\n| Tri|||Batu|||26 Januari 1994|||Jawa Timur                            |\n| Ujang|||Depok|||04 Juli 1999|||Jawa Barat                            |\n| Wahyu|||Mojokerto|||17 Maret 2000|||Jawa Timur                       |\n| Wardi|||Jambi|||23 Mei 1985|||Jambi                                  |\n| Wulan|||Langsa|||09 Maret 1990|||Aceh                                |\n| Yansen|||Cilegon|||14 Januari 1981|||Banten                          |\n| Yati|||Langsa|||20 September 1995|||Aceh                             |\n| Yudhi|||Yogyakarta|||29 Maret 1992|||Daerah Istimewa Yogyakarta      |\n| Yuli|||Jambi|||11 Januari 1984|||Jambi                               |\n| Zahra|||Langsa|||25 Juli 2002|||Aceh                                 |\n| Zaki|||Cirebon|||31 Maret 1999|||Jawa Barat                          |\n\n",
            "text/latex": "A data.frame: 69 × 1\n\\begin{tabular}{l}\n data\\_list\\\\\n <chr>\\\\\n\\hline\n\t Agung\\textbar{}\\textbar{}\\textbar{}Semarang\\textbar{}\\textbar{}\\textbar{}03 Juni 1992\\textbar{}\\textbar{}\\textbar{}Jawa Tengah                        \\\\\n\t Agus\\textbar{}\\textbar{}\\textbar{}Probolinggo\\textbar{}\\textbar{}\\textbar{}19 Juni 1989\\textbar{}\\textbar{}\\textbar{}Jawa Timur                       \\\\\n\t Andi\\textbar{}\\textbar{}\\textbar{}Pangkalpinang\\textbar{}\\textbar{}\\textbar{}11 April 1994\\textbar{}\\textbar{}\\textbar{}Bangka Belitung               \\\\\n\t Andika\\textbar{}\\textbar{}\\textbar{}Surabaya\\textbar{}\\textbar{}\\textbar{}24 Mei 1999\\textbar{}\\textbar{}\\textbar{}Jawa Timur                         \\\\\n\t Anggun\\textbar{}\\textbar{}\\textbar{}Kota Administrasi Jakarta Pusat\\textbar{}\\textbar{}\\textbar{}13 Juni 1981\\textbar{}\\textbar{}\\textbar{}Jakarta    \\\\\n\t Ardi\\textbar{}\\textbar{}\\textbar{}Depok\\textbar{}\\textbar{}\\textbar{}16 Agustus 1984\\textbar{}\\textbar{}\\textbar{}Jawa Barat                          \\\\\n\t Asep\\textbar{}\\textbar{}\\textbar{}Malang\\textbar{}\\textbar{}\\textbar{}16 Agustus 1996\\textbar{}\\textbar{}\\textbar{}Jawa Timur                         \\\\\n\t Ayu\\textbar{}\\textbar{}\\textbar{}Batu\\textbar{}\\textbar{}\\textbar{}22 Februari 2002\\textbar{}\\textbar{}\\textbar{}Jawa Timur                           \\\\\n\t Bagus\\textbar{}\\textbar{}\\textbar{}Banda Aceh\\textbar{}\\textbar{}\\textbar{}10 Juli 1995\\textbar{}\\textbar{}\\textbar{}Aceh                             \\\\\n\t Bambang\\textbar{}\\textbar{}\\textbar{}Kota Administrasi Jakarta Utara\\textbar{}\\textbar{}\\textbar{}01 Oktober 1991\\textbar{}\\textbar{}\\textbar{}Jakarta\\\\\n\t Bayu\\textbar{}\\textbar{}\\textbar{}Sabang\\textbar{}\\textbar{}\\textbar{}05 Februari 1987\\textbar{}\\textbar{}\\textbar{}Aceh                              \\\\\n\t Bella\\textbar{}\\textbar{}\\textbar{}Pasuruan\\textbar{}\\textbar{}\\textbar{}17 April 1992\\textbar{}\\textbar{}\\textbar{}Jawa Timur                        \\\\\n\t Citra\\textbar{}\\textbar{}\\textbar{}Banjarmasin\\textbar{}\\textbar{}\\textbar{}12 Desember 1986\\textbar{}\\textbar{}\\textbar{}Kalimantan Selatan          \\\\\n\t Deni\\textbar{}\\textbar{}\\textbar{}Denpasar\\textbar{}\\textbar{}\\textbar{}14 Februari 1996\\textbar{}\\textbar{}\\textbar{}Bali                            \\\\\n\t Diki\\textbar{}\\textbar{}\\textbar{}Semarang\\textbar{}\\textbar{}\\textbar{}21 Juli 1987\\textbar{}\\textbar{}\\textbar{}Jawa Tengah                         \\\\\n\t Erlangga\\textbar{}\\textbar{}\\textbar{}Tangerang Selatan\\textbar{}\\textbar{}\\textbar{}31 Januari 1993\\textbar{}\\textbar{}\\textbar{}Banten              \\\\\n\t Fajri\\textbar{}\\textbar{}\\textbar{}Bogor\\textbar{}\\textbar{}\\textbar{}06 Agustus 2003\\textbar{}\\textbar{}\\textbar{}Jawa Barat                         \\\\\n\t Farah\\textbar{}\\textbar{}\\textbar{}Tangerang Selatan\\textbar{}\\textbar{}\\textbar{}06 Maret 1999\\textbar{}\\textbar{}\\textbar{}Banten                   \\\\\n\t Feri\\textbar{}\\textbar{}\\textbar{}Banjarbaru\\textbar{}\\textbar{}\\textbar{}17 September 1991\\textbar{}\\textbar{}\\textbar{}Kalimantan Selatan           \\\\\n\t Fitri\\textbar{}\\textbar{}\\textbar{}Kota Administrasi Jakarta Utara\\textbar{}\\textbar{}\\textbar{}21 Januari 1982\\textbar{}\\textbar{}\\textbar{}Jakarta  \\\\\n\t Galang\\textbar{}\\textbar{}\\textbar{}Banjarmasin\\textbar{}\\textbar{}\\textbar{}01 Juni 1993\\textbar{}\\textbar{}\\textbar{}Kalimantan Selatan             \\\\\n\t Gunawan (0834755)\\textbar{}\\textbar{}\\textbar{}Tegal\\textbar{}\\textbar{}\\textbar{}18 November 1993\\textbar{}\\textbar{}\\textbar{}Jawa Tengah           \\\\\n\t Hadi\\textbar{}\\textbar{}\\textbar{}Depok\\textbar{}\\textbar{}\\textbar{}07 Juli 1983\\textbar{}\\textbar{}\\textbar{}Jawa Barat                             \\\\\n\t Hasan\\textbar{}\\textbar{}\\textbar{}Kota Administrasi Jakarta Selatan\\textbar{}\\textbar{}\\textbar{}25 Juni 1992\\textbar{}\\textbar{}\\textbar{}Jakarta   \\\\\n\t Hengky\\textbar{}\\textbar{}\\textbar{}Tangerang\\textbar{}\\textbar{}\\textbar{}21 Desember 1990\\textbar{}\\textbar{}\\textbar{}Banten                       \\\\\n\t Indah\\textbar{}\\textbar{}\\textbar{}Madiun\\textbar{}\\textbar{}\\textbar{}28 Juli 1991\\textbar{}\\textbar{}\\textbar{}Jawa Timur                           \\\\\n\t Iqbal\\textbar{}\\textbar{}\\textbar{}Pekalongan\\textbar{}\\textbar{}\\textbar{}11 Oktober 1997\\textbar{}\\textbar{}\\textbar{}Jawa Tengah                   \\\\\n\t Jaya\\textbar{}\\textbar{}\\textbar{}Sungai Penuh\\textbar{}\\textbar{}\\textbar{}23 April 2005\\textbar{}\\textbar{}\\textbar{}Jambi                          \\\\\n\t Kardi\\textbar{}\\textbar{}\\textbar{}Cimahi\\textbar{}\\textbar{}\\textbar{}25 Juni 1992\\textbar{}\\textbar{}\\textbar{}Jawa Barat                           \\\\\n\t Komang\\textbar{}\\textbar{}\\textbar{}Semarang\\textbar{}\\textbar{}\\textbar{}31 Agustus 1998\\textbar{}\\textbar{}\\textbar{}Jawa Tengah                    \\\\\n\t ⋮\\\\\n\t Putra\\textbar{}\\textbar{}\\textbar{}Tangerang\\textbar{}\\textbar{}\\textbar{}07 Agustus 1996\\textbar{}\\textbar{}\\textbar{}Banten                        \\\\\n\t Putri\\textbar{}\\textbar{}\\textbar{}Kota Administrasi Jakarta Timur\\textbar{}\\textbar{}\\textbar{}29 Desember 2002\\textbar{}\\textbar{}\\textbar{}Jakarta\\\\\n\t Rafi\\textbar{}\\textbar{}\\textbar{}Subulussalam\\textbar{}\\textbar{}\\textbar{}25 Februari 1991\\textbar{}\\textbar{}\\textbar{}Aceh                       \\\\\n\t Rahma\\textbar{}\\textbar{}\\textbar{}Sabang\\textbar{}\\textbar{}\\textbar{}22 September 1990\\textbar{}\\textbar{}\\textbar{}Aceh                           \\\\\n\t Rahmad\\textbar{}\\textbar{}\\textbar{}Probolinggo\\textbar{}\\textbar{}\\textbar{}22 September 2003\\textbar{}\\textbar{}\\textbar{}Jawa Timur               \\\\\n\t Randi\\textbar{}\\textbar{}\\textbar{}Bekasi\\textbar{}\\textbar{}\\textbar{}20 April 1985\\textbar{}\\textbar{}\\textbar{}Jawa Barat                         \\\\\n\t Rasyid\\textbar{}\\textbar{}\\textbar{}Bandung\\textbar{}\\textbar{}\\textbar{}25 Agustus 1985\\textbar{}\\textbar{}\\textbar{}Jawa Barat                     \\\\\n\t Rian\\textbar{}\\textbar{}\\textbar{}Bekasi\\textbar{}\\textbar{}\\textbar{}16 Januari 1987\\textbar{}\\textbar{}\\textbar{}Jawa Barat                        \\\\\n\t Rita\\textbar{}\\textbar{}\\textbar{}Singkawang\\textbar{}\\textbar{}\\textbar{}01 Desember 2004\\textbar{}\\textbar{}\\textbar{}Kalimantan Barat             \\\\\n\t Rizki\\textbar{}\\textbar{}\\textbar{}Cimahi\\textbar{}\\textbar{}\\textbar{}16 Februari 1991\\textbar{}\\textbar{}\\textbar{}Jawa Barat                      \\\\\n\t Sandi\\textbar{}\\textbar{}\\textbar{}Sukabumi\\textbar{}\\textbar{}\\textbar{}01 Februari 1985\\textbar{}\\textbar{}\\textbar{}Jawa Barat                    \\\\\n\t Sarah\\textbar{}\\textbar{}\\textbar{}Bengkulu\\textbar{}\\textbar{}\\textbar{}15 November 1980\\textbar{}\\textbar{}\\textbar{}Bengkulu                      \\\\\n\t Silvia\\textbar{}\\textbar{}\\textbar{}Malang\\textbar{}\\textbar{}\\textbar{}06 Januari 1996\\textbar{}\\textbar{}\\textbar{}Jawa Timur                      \\\\\n\t Siti\\textbar{}\\textbar{}\\textbar{}Cimahi\\textbar{}\\textbar{}\\textbar{}30 Januari 1985\\textbar{}\\textbar{}\\textbar{}Jawa Barat                        \\\\\n\t Sri\\textbar{}\\textbar{}\\textbar{}Pangkalpinang\\textbar{}\\textbar{}\\textbar{}22 Juli 1990\\textbar{}\\textbar{}\\textbar{}Bangka Belitung                \\\\\n\t Tasya\\textbar{}\\textbar{}\\textbar{}Singkawang\\textbar{}\\textbar{}\\textbar{}15 Oktober 1987\\textbar{}\\textbar{}\\textbar{}Kalimantan Barat             \\\\\n\t Tia\\textbar{}\\textbar{}\\textbar{}Kota Administrasi Jakarta Utara\\textbar{}\\textbar{}\\textbar{}26 Desember 1985\\textbar{}\\textbar{}\\textbar{}Jakarta  \\\\\n\t Tiara\\textbar{}\\textbar{}\\textbar{}Madiun\\textbar{}\\textbar{}\\textbar{}11 April 1992\\textbar{}\\textbar{}\\textbar{}Jawa Timur                         \\\\\n\t Tika\\textbar{}\\textbar{}\\textbar{}Cirebon\\textbar{}\\textbar{}\\textbar{}07 April 1981\\textbar{}\\textbar{}\\textbar{}Jawa Barat                         \\\\\n\t Tri\\textbar{}\\textbar{}\\textbar{}Batu\\textbar{}\\textbar{}\\textbar{}26 Januari 1994\\textbar{}\\textbar{}\\textbar{}Jawa Timur                           \\\\\n\t Ujang\\textbar{}\\textbar{}\\textbar{}Depok\\textbar{}\\textbar{}\\textbar{}04 Juli 1999\\textbar{}\\textbar{}\\textbar{}Jawa Barat                           \\\\\n\t Wahyu\\textbar{}\\textbar{}\\textbar{}Mojokerto\\textbar{}\\textbar{}\\textbar{}17 Maret 2000\\textbar{}\\textbar{}\\textbar{}Jawa Timur                      \\\\\n\t Wardi\\textbar{}\\textbar{}\\textbar{}Jambi\\textbar{}\\textbar{}\\textbar{}23 Mei 1985\\textbar{}\\textbar{}\\textbar{}Jambi                                 \\\\\n\t Wulan\\textbar{}\\textbar{}\\textbar{}Langsa\\textbar{}\\textbar{}\\textbar{}09 Maret 1990\\textbar{}\\textbar{}\\textbar{}Aceh                               \\\\\n\t Yansen\\textbar{}\\textbar{}\\textbar{}Cilegon\\textbar{}\\textbar{}\\textbar{}14 Januari 1981\\textbar{}\\textbar{}\\textbar{}Banten                         \\\\\n\t Yati\\textbar{}\\textbar{}\\textbar{}Langsa\\textbar{}\\textbar{}\\textbar{}20 September 1995\\textbar{}\\textbar{}\\textbar{}Aceh                            \\\\\n\t Yudhi\\textbar{}\\textbar{}\\textbar{}Yogyakarta\\textbar{}\\textbar{}\\textbar{}29 Maret 1992\\textbar{}\\textbar{}\\textbar{}Daerah Istimewa Yogyakarta     \\\\\n\t Yuli\\textbar{}\\textbar{}\\textbar{}Jambi\\textbar{}\\textbar{}\\textbar{}11 Januari 1984\\textbar{}\\textbar{}\\textbar{}Jambi                              \\\\\n\t Zahra\\textbar{}\\textbar{}\\textbar{}Langsa\\textbar{}\\textbar{}\\textbar{}25 Juli 2002\\textbar{}\\textbar{}\\textbar{}Aceh                                \\\\\n\t Zaki\\textbar{}\\textbar{}\\textbar{}Cirebon\\textbar{}\\textbar{}\\textbar{}31 Maret 1999\\textbar{}\\textbar{}\\textbar{}Jawa Barat                         \\\\\n\\end{tabular}\n",
            "text/plain": [
              "   data_list                                                            \n",
              "1  Agung|||Semarang|||03 Juni 1992|||Jawa Tengah                        \n",
              "2  Agus|||Probolinggo|||19 Juni 1989|||Jawa Timur                       \n",
              "3  Andi|||Pangkalpinang|||11 April 1994|||Bangka Belitung               \n",
              "4  Andika|||Surabaya|||24 Mei 1999|||Jawa Timur                         \n",
              "5  Anggun|||Kota Administrasi Jakarta Pusat|||13 Juni 1981|||Jakarta    \n",
              "6  Ardi|||Depok|||16 Agustus 1984|||Jawa Barat                          \n",
              "7  Asep|||Malang|||16 Agustus 1996|||Jawa Timur                         \n",
              "8  Ayu|||Batu|||22 Februari 2002|||Jawa Timur                           \n",
              "9  Bagus|||Banda Aceh|||10 Juli 1995|||Aceh                             \n",
              "10 Bambang|||Kota Administrasi Jakarta Utara|||01 Oktober 1991|||Jakarta\n",
              "11 Bayu|||Sabang|||05 Februari 1987|||Aceh                              \n",
              "12 Bella|||Pasuruan|||17 April 1992|||Jawa Timur                        \n",
              "13 Citra|||Banjarmasin|||12 Desember 1986|||Kalimantan Selatan          \n",
              "14 Deni|||Denpasar|||14 Februari 1996|||Bali                            \n",
              "15 Diki|||Semarang|||21 Juli 1987|||Jawa Tengah                         \n",
              "16 Erlangga|||Tangerang Selatan|||31 Januari 1993|||Banten              \n",
              "17 Fajri|||Bogor|||06 Agustus 2003|||Jawa Barat                         \n",
              "18 Farah|||Tangerang Selatan|||06 Maret 1999|||Banten                   \n",
              "19 Feri|||Banjarbaru|||17 September 1991|||Kalimantan Selatan           \n",
              "20 Fitri|||Kota Administrasi Jakarta Utara|||21 Januari 1982|||Jakarta  \n",
              "21 Galang|||Banjarmasin|||01 Juni 1993|||Kalimantan Selatan             \n",
              "22 Gunawan (0834755)|||Tegal|||18 November 1993|||Jawa Tengah           \n",
              "23 Hadi|||Depok|||07 Juli 1983|||Jawa Barat                             \n",
              "24 Hasan|||Kota Administrasi Jakarta Selatan|||25 Juni 1992|||Jakarta   \n",
              "25 Hengky|||Tangerang|||21 Desember 1990|||Banten                       \n",
              "26 Indah|||Madiun|||28 Juli 1991|||Jawa Timur                           \n",
              "27 Iqbal|||Pekalongan|||11 Oktober 1997|||Jawa Tengah                   \n",
              "28 Jaya|||Sungai Penuh|||23 April 2005|||Jambi                          \n",
              "29 Kardi|||Cimahi|||25 Juni 1992|||Jawa Barat                           \n",
              "30 Komang|||Semarang|||31 Agustus 1998|||Jawa Tengah                    \n",
              "⋮  ⋮                                                                    \n",
              "40 Putra|||Tangerang|||07 Agustus 1996|||Banten                         \n",
              "41 Putri|||Kota Administrasi Jakarta Timur|||29 Desember 2002|||Jakarta \n",
              "42 Rafi|||Subulussalam|||25 Februari 1991|||Aceh                        \n",
              "43 Rahma|||Sabang|||22 September 1990|||Aceh                            \n",
              "44 Rahmad|||Probolinggo|||22 September 2003|||Jawa Timur                \n",
              "45 Randi|||Bekasi|||20 April 1985|||Jawa Barat                          \n",
              "46 Rasyid|||Bandung|||25 Agustus 1985|||Jawa Barat                      \n",
              "47 Rian|||Bekasi|||16 Januari 1987|||Jawa Barat                         \n",
              "48 Rita|||Singkawang|||01 Desember 2004|||Kalimantan Barat              \n",
              "49 Rizki|||Cimahi|||16 Februari 1991|||Jawa Barat                       \n",
              "50 Sandi|||Sukabumi|||01 Februari 1985|||Jawa Barat                     \n",
              "51 Sarah|||Bengkulu|||15 November 1980|||Bengkulu                       \n",
              "52 Silvia|||Malang|||06 Januari 1996|||Jawa Timur                       \n",
              "53 Siti|||Cimahi|||30 Januari 1985|||Jawa Barat                         \n",
              "54 Sri|||Pangkalpinang|||22 Juli 1990|||Bangka Belitung                 \n",
              "55 Tasya|||Singkawang|||15 Oktober 1987|||Kalimantan Barat              \n",
              "56 Tia|||Kota Administrasi Jakarta Utara|||26 Desember 1985|||Jakarta   \n",
              "57 Tiara|||Madiun|||11 April 1992|||Jawa Timur                          \n",
              "58 Tika|||Cirebon|||07 April 1981|||Jawa Barat                          \n",
              "59 Tri|||Batu|||26 Januari 1994|||Jawa Timur                            \n",
              "60 Ujang|||Depok|||04 Juli 1999|||Jawa Barat                            \n",
              "61 Wahyu|||Mojokerto|||17 Maret 2000|||Jawa Timur                       \n",
              "62 Wardi|||Jambi|||23 Mei 1985|||Jambi                                  \n",
              "63 Wulan|||Langsa|||09 Maret 1990|||Aceh                                \n",
              "64 Yansen|||Cilegon|||14 Januari 1981|||Banten                          \n",
              "65 Yati|||Langsa|||20 September 1995|||Aceh                             \n",
              "66 Yudhi|||Yogyakarta|||29 Maret 1992|||Daerah Istimewa Yogyakarta      \n",
              "67 Yuli|||Jambi|||11 Januari 1984|||Jambi                               \n",
              "68 Zahra|||Langsa|||25 Juli 2002|||Aceh                                 \n",
              "69 Zaki|||Cirebon|||31 Maret 1999|||Jawa Barat                          "
            ]
          },
          "metadata": {}
        }
      ]
    },
    {
      "cell_type": "markdown",
      "source": [
        "#### [Function strsplit()](https://academy.dqlab.id/main/livecode/359/811/4281?pr=0)"
      ],
      "metadata": {
        "id": "yl1nIHIN9TF3"
      }
    },
    {
      "cell_type": "code",
      "source": [
        "#Menampilkan 5 data teratas  yang sudah di-load ke dalam workspace\n",
        "head(data)"
      ],
      "metadata": {
        "colab": {
          "base_uri": "https://localhost:8080/",
          "height": 286
        },
        "id": "DtJil7Ry9vI_",
        "outputId": "4af20d56-6333-43e7-d6f8-86be8ed06078"
      },
      "execution_count": 3,
      "outputs": [
        {
          "output_type": "display_data",
          "data": {
            "text/html": [
              "<table class=\"dataframe\">\n",
              "<caption>A data.frame: 6 × 1</caption>\n",
              "<thead>\n",
              "\t<tr><th></th><th scope=col>data_list</th></tr>\n",
              "\t<tr><th></th><th scope=col>&lt;chr&gt;</th></tr>\n",
              "</thead>\n",
              "<tbody>\n",
              "\t<tr><th scope=row>1</th><td>Agung|||Semarang|||03 Juni 1992|||Jawa Tengah                    </td></tr>\n",
              "\t<tr><th scope=row>2</th><td>Agus|||Probolinggo|||19 Juni 1989|||Jawa Timur                   </td></tr>\n",
              "\t<tr><th scope=row>3</th><td>Andi|||Pangkalpinang|||11 April 1994|||Bangka Belitung           </td></tr>\n",
              "\t<tr><th scope=row>4</th><td>Andika|||Surabaya|||24 Mei 1999|||Jawa Timur                     </td></tr>\n",
              "\t<tr><th scope=row>5</th><td>Anggun|||Kota Administrasi Jakarta Pusat|||13 Juni 1981|||Jakarta</td></tr>\n",
              "\t<tr><th scope=row>6</th><td>Ardi|||Depok|||16 Agustus 1984|||Jawa Barat                      </td></tr>\n",
              "</tbody>\n",
              "</table>\n"
            ],
            "text/markdown": "\nA data.frame: 6 × 1\n\n| <!--/--> | data_list &lt;chr&gt; |\n|---|---|\n| 1 | Agung|||Semarang|||03 Juni 1992|||Jawa Tengah                     |\n| 2 | Agus|||Probolinggo|||19 Juni 1989|||Jawa Timur                    |\n| 3 | Andi|||Pangkalpinang|||11 April 1994|||Bangka Belitung            |\n| 4 | Andika|||Surabaya|||24 Mei 1999|||Jawa Timur                      |\n| 5 | Anggun|||Kota Administrasi Jakarta Pusat|||13 Juni 1981|||Jakarta |\n| 6 | Ardi|||Depok|||16 Agustus 1984|||Jawa Barat                       |\n\n",
            "text/latex": "A data.frame: 6 × 1\n\\begin{tabular}{r|l}\n  & data\\_list\\\\\n  & <chr>\\\\\n\\hline\n\t1 & Agung\\textbar{}\\textbar{}\\textbar{}Semarang\\textbar{}\\textbar{}\\textbar{}03 Juni 1992\\textbar{}\\textbar{}\\textbar{}Jawa Tengah                    \\\\\n\t2 & Agus\\textbar{}\\textbar{}\\textbar{}Probolinggo\\textbar{}\\textbar{}\\textbar{}19 Juni 1989\\textbar{}\\textbar{}\\textbar{}Jawa Timur                   \\\\\n\t3 & Andi\\textbar{}\\textbar{}\\textbar{}Pangkalpinang\\textbar{}\\textbar{}\\textbar{}11 April 1994\\textbar{}\\textbar{}\\textbar{}Bangka Belitung           \\\\\n\t4 & Andika\\textbar{}\\textbar{}\\textbar{}Surabaya\\textbar{}\\textbar{}\\textbar{}24 Mei 1999\\textbar{}\\textbar{}\\textbar{}Jawa Timur                     \\\\\n\t5 & Anggun\\textbar{}\\textbar{}\\textbar{}Kota Administrasi Jakarta Pusat\\textbar{}\\textbar{}\\textbar{}13 Juni 1981\\textbar{}\\textbar{}\\textbar{}Jakarta\\\\\n\t6 & Ardi\\textbar{}\\textbar{}\\textbar{}Depok\\textbar{}\\textbar{}\\textbar{}16 Agustus 1984\\textbar{}\\textbar{}\\textbar{}Jawa Barat                      \\\\\n\\end{tabular}\n",
            "text/plain": [
              "  data_list                                                        \n",
              "1 Agung|||Semarang|||03 Juni 1992|||Jawa Tengah                    \n",
              "2 Agus|||Probolinggo|||19 Juni 1989|||Jawa Timur                   \n",
              "3 Andi|||Pangkalpinang|||11 April 1994|||Bangka Belitung           \n",
              "4 Andika|||Surabaya|||24 Mei 1999|||Jawa Timur                     \n",
              "5 Anggun|||Kota Administrasi Jakarta Pusat|||13 Juni 1981|||Jakarta\n",
              "6 Ardi|||Depok|||16 Agustus 1984|||Jawa Barat                      "
            ]
          },
          "metadata": {}
        }
      ]
    },
    {
      "cell_type": "code",
      "source": [
        "#Memisahkan data menggunakan strsplit\n",
        "data <- strsplit(data$data_list, split = \"|||\", fixed = TRUE)"
      ],
      "metadata": {
        "id": "pUrWw7-k-MLn"
      },
      "execution_count": 10,
      "outputs": []
    },
    {
      "cell_type": "code",
      "source": [
        "#Merubah data menjadid dataframe\n",
        "df <- data.frame(matrix(unlist(data), nrow=length(data), byrow=TRUE))"
      ],
      "metadata": {
        "id": "XkQstQjJCFJk"
      },
      "execution_count": 11,
      "outputs": []
    },
    {
      "cell_type": "code",
      "source": [
        "#Memberikan nama pada setiap kolom\n",
        "colnames(df) <- c('Nama','Tempat_Lahir', 'Tanggal_Lahir', 'Provinsi')"
      ],
      "metadata": {
        "id": "VLBid7SYCGGj"
      },
      "execution_count": 12,
      "outputs": []
    },
    {
      "cell_type": "code",
      "source": [
        "#Tampilkan 5 baris pertama dari df\n",
        "head(df, 5)"
      ],
      "metadata": {
        "colab": {
          "base_uri": "https://localhost:8080/",
          "height": 255
        },
        "id": "vGnLbsAKCKGk",
        "outputId": "5bb1c807-675d-4ec3-9d56-bd322a83ea80"
      },
      "execution_count": 13,
      "outputs": [
        {
          "output_type": "display_data",
          "data": {
            "text/html": [
              "<table class=\"dataframe\">\n",
              "<caption>A data.frame: 5 × 4</caption>\n",
              "<thead>\n",
              "\t<tr><th></th><th scope=col>Nama</th><th scope=col>Tempat_Lahir</th><th scope=col>Tanggal_Lahir</th><th scope=col>Provinsi</th></tr>\n",
              "\t<tr><th></th><th scope=col>&lt;chr&gt;</th><th scope=col>&lt;chr&gt;</th><th scope=col>&lt;chr&gt;</th><th scope=col>&lt;chr&gt;</th></tr>\n",
              "</thead>\n",
              "<tbody>\n",
              "\t<tr><th scope=row>1</th><td>Agung </td><td>Semarang                       </td><td>03 Juni 1992 </td><td>Jawa Tengah    </td></tr>\n",
              "\t<tr><th scope=row>2</th><td>Agus  </td><td>Probolinggo                    </td><td>19 Juni 1989 </td><td>Jawa Timur     </td></tr>\n",
              "\t<tr><th scope=row>3</th><td>Andi  </td><td>Pangkalpinang                  </td><td>11 April 1994</td><td>Bangka Belitung</td></tr>\n",
              "\t<tr><th scope=row>4</th><td>Andika</td><td>Surabaya                       </td><td>24 Mei 1999  </td><td>Jawa Timur     </td></tr>\n",
              "\t<tr><th scope=row>5</th><td>Anggun</td><td>Kota Administrasi Jakarta Pusat</td><td>13 Juni 1981 </td><td>Jakarta        </td></tr>\n",
              "</tbody>\n",
              "</table>\n"
            ],
            "text/markdown": "\nA data.frame: 5 × 4\n\n| <!--/--> | Nama &lt;chr&gt; | Tempat_Lahir &lt;chr&gt; | Tanggal_Lahir &lt;chr&gt; | Provinsi &lt;chr&gt; |\n|---|---|---|---|---|\n| 1 | Agung  | Semarang                        | 03 Juni 1992  | Jawa Tengah     |\n| 2 | Agus   | Probolinggo                     | 19 Juni 1989  | Jawa Timur      |\n| 3 | Andi   | Pangkalpinang                   | 11 April 1994 | Bangka Belitung |\n| 4 | Andika | Surabaya                        | 24 Mei 1999   | Jawa Timur      |\n| 5 | Anggun | Kota Administrasi Jakarta Pusat | 13 Juni 1981  | Jakarta         |\n\n",
            "text/latex": "A data.frame: 5 × 4\n\\begin{tabular}{r|llll}\n  & Nama & Tempat\\_Lahir & Tanggal\\_Lahir & Provinsi\\\\\n  & <chr> & <chr> & <chr> & <chr>\\\\\n\\hline\n\t1 & Agung  & Semarang                        & 03 Juni 1992  & Jawa Tengah    \\\\\n\t2 & Agus   & Probolinggo                     & 19 Juni 1989  & Jawa Timur     \\\\\n\t3 & Andi   & Pangkalpinang                   & 11 April 1994 & Bangka Belitung\\\\\n\t4 & Andika & Surabaya                        & 24 Mei 1999   & Jawa Timur     \\\\\n\t5 & Anggun & Kota Administrasi Jakarta Pusat & 13 Juni 1981  & Jakarta        \\\\\n\\end{tabular}\n",
            "text/plain": [
              "  Nama   Tempat_Lahir                    Tanggal_Lahir Provinsi       \n",
              "1 Agung  Semarang                        03 Juni 1992  Jawa Tengah    \n",
              "2 Agus   Probolinggo                     19 Juni 1989  Jawa Timur     \n",
              "3 Andi   Pangkalpinang                   11 April 1994 Bangka Belitung\n",
              "4 Andika Surabaya                        24 Mei 1999   Jawa Timur     \n",
              "5 Anggun Kota Administrasi Jakarta Pusat 13 Juni 1981  Jakarta        "
            ]
          },
          "metadata": {}
        }
      ]
    },
    {
      "cell_type": "markdown",
      "source": [
        "#### [Function paste()](https://academy.dqlab.id/main/livecode/359/811/4282?pr=0)"
      ],
      "metadata": {
        "id": "E9NjvyOuCQZA"
      }
    },
    {
      "cell_type": "code",
      "source": [
        "#Tambahkan kolom baru yang berisi tempat lahir dan provinsi\n",
        "df$kota_provinsi <- paste(df$Tempat_Lahir, \",\", df$Provinsi)"
      ],
      "metadata": {
        "id": "qJEKSEuxCVWo"
      },
      "execution_count": 14,
      "outputs": []
    },
    {
      "cell_type": "code",
      "source": [
        "#Tampilkan 5 data teratas dari df\n",
        "head(df, 5)"
      ],
      "metadata": {
        "colab": {
          "base_uri": "https://localhost:8080/",
          "height": 255
        },
        "id": "_k5PLZ-VC21r",
        "outputId": "2e73ac86-e28f-49c8-9028-040daefd6874"
      },
      "execution_count": 15,
      "outputs": [
        {
          "output_type": "display_data",
          "data": {
            "text/html": [
              "<table class=\"dataframe\">\n",
              "<caption>A data.frame: 5 × 5</caption>\n",
              "<thead>\n",
              "\t<tr><th></th><th scope=col>Nama</th><th scope=col>Tempat_Lahir</th><th scope=col>Tanggal_Lahir</th><th scope=col>Provinsi</th><th scope=col>kota_provinsi</th></tr>\n",
              "\t<tr><th></th><th scope=col>&lt;chr&gt;</th><th scope=col>&lt;chr&gt;</th><th scope=col>&lt;chr&gt;</th><th scope=col>&lt;chr&gt;</th><th scope=col>&lt;chr&gt;</th></tr>\n",
              "</thead>\n",
              "<tbody>\n",
              "\t<tr><th scope=row>1</th><td>Agung </td><td>Semarang                       </td><td>03 Juni 1992 </td><td>Jawa Tengah    </td><td>Semarang , Jawa Tengah                   </td></tr>\n",
              "\t<tr><th scope=row>2</th><td>Agus  </td><td>Probolinggo                    </td><td>19 Juni 1989 </td><td>Jawa Timur     </td><td>Probolinggo , Jawa Timur                 </td></tr>\n",
              "\t<tr><th scope=row>3</th><td>Andi  </td><td>Pangkalpinang                  </td><td>11 April 1994</td><td>Bangka Belitung</td><td>Pangkalpinang , Bangka Belitung          </td></tr>\n",
              "\t<tr><th scope=row>4</th><td>Andika</td><td>Surabaya                       </td><td>24 Mei 1999  </td><td>Jawa Timur     </td><td>Surabaya , Jawa Timur                    </td></tr>\n",
              "\t<tr><th scope=row>5</th><td>Anggun</td><td>Kota Administrasi Jakarta Pusat</td><td>13 Juni 1981 </td><td>Jakarta        </td><td>Kota Administrasi Jakarta Pusat , Jakarta</td></tr>\n",
              "</tbody>\n",
              "</table>\n"
            ],
            "text/markdown": "\nA data.frame: 5 × 5\n\n| <!--/--> | Nama &lt;chr&gt; | Tempat_Lahir &lt;chr&gt; | Tanggal_Lahir &lt;chr&gt; | Provinsi &lt;chr&gt; | kota_provinsi &lt;chr&gt; |\n|---|---|---|---|---|---|\n| 1 | Agung  | Semarang                        | 03 Juni 1992  | Jawa Tengah     | Semarang , Jawa Tengah                    |\n| 2 | Agus   | Probolinggo                     | 19 Juni 1989  | Jawa Timur      | Probolinggo , Jawa Timur                  |\n| 3 | Andi   | Pangkalpinang                   | 11 April 1994 | Bangka Belitung | Pangkalpinang , Bangka Belitung           |\n| 4 | Andika | Surabaya                        | 24 Mei 1999   | Jawa Timur      | Surabaya , Jawa Timur                     |\n| 5 | Anggun | Kota Administrasi Jakarta Pusat | 13 Juni 1981  | Jakarta         | Kota Administrasi Jakarta Pusat , Jakarta |\n\n",
            "text/latex": "A data.frame: 5 × 5\n\\begin{tabular}{r|lllll}\n  & Nama & Tempat\\_Lahir & Tanggal\\_Lahir & Provinsi & kota\\_provinsi\\\\\n  & <chr> & <chr> & <chr> & <chr> & <chr>\\\\\n\\hline\n\t1 & Agung  & Semarang                        & 03 Juni 1992  & Jawa Tengah     & Semarang , Jawa Tengah                   \\\\\n\t2 & Agus   & Probolinggo                     & 19 Juni 1989  & Jawa Timur      & Probolinggo , Jawa Timur                 \\\\\n\t3 & Andi   & Pangkalpinang                   & 11 April 1994 & Bangka Belitung & Pangkalpinang , Bangka Belitung          \\\\\n\t4 & Andika & Surabaya                        & 24 Mei 1999   & Jawa Timur      & Surabaya , Jawa Timur                    \\\\\n\t5 & Anggun & Kota Administrasi Jakarta Pusat & 13 Juni 1981  & Jakarta         & Kota Administrasi Jakarta Pusat , Jakarta\\\\\n\\end{tabular}\n",
            "text/plain": [
              "  Nama   Tempat_Lahir                    Tanggal_Lahir Provinsi       \n",
              "1 Agung  Semarang                        03 Juni 1992  Jawa Tengah    \n",
              "2 Agus   Probolinggo                     19 Juni 1989  Jawa Timur     \n",
              "3 Andi   Pangkalpinang                   11 April 1994 Bangka Belitung\n",
              "4 Andika Surabaya                        24 Mei 1999   Jawa Timur     \n",
              "5 Anggun Kota Administrasi Jakarta Pusat 13 Juni 1981  Jakarta        \n",
              "  kota_provinsi                            \n",
              "1 Semarang , Jawa Tengah                   \n",
              "2 Probolinggo , Jawa Timur                 \n",
              "3 Pangkalpinang , Bangka Belitung          \n",
              "4 Surabaya , Jawa Timur                    \n",
              "5 Kota Administrasi Jakarta Pusat , Jakarta"
            ]
          },
          "metadata": {}
        }
      ]
    },
    {
      "cell_type": "markdown",
      "source": [
        "#### [Penerapan Function Lainnya untuk Mengolah Data String](https://academy.dqlab.id/main/livecode/359/811/4284?pr=0)"
      ],
      "metadata": {
        "id": "f1wfgux4DFDn"
      }
    },
    {
      "cell_type": "code",
      "source": [
        "data_teks <- \"Ayo belajar data di DQLab untuk memulai karir di bidang data\""
      ],
      "metadata": {
        "id": "qRJGOEmaDKUv"
      },
      "execution_count": 16,
      "outputs": []
    },
    {
      "cell_type": "code",
      "source": [
        "#penggunaan function nchar()\n",
        "nchar(data_teks)"
      ],
      "metadata": {
        "colab": {
          "base_uri": "https://localhost:8080/",
          "height": 34
        },
        "id": "GdB6DZdoDeiw",
        "outputId": "dd76b787-ca79-4e21-bf44-be956ac0a008"
      },
      "execution_count": 17,
      "outputs": [
        {
          "output_type": "display_data",
          "data": {
            "text/html": [
              "60"
            ],
            "text/markdown": "60",
            "text/latex": "60",
            "text/plain": [
              "[1] 60"
            ]
          },
          "metadata": {}
        }
      ]
    },
    {
      "cell_type": "code",
      "source": [
        "#penggunaan substr()\n",
        "substr(data_teks, 21, 25)"
      ],
      "metadata": {
        "colab": {
          "base_uri": "https://localhost:8080/",
          "height": 34
        },
        "id": "wZPZ5kNsDgpg",
        "outputId": "49e44a05-76ba-43db-fc67-7e36343707aa"
      },
      "execution_count": 18,
      "outputs": [
        {
          "output_type": "display_data",
          "data": {
            "text/html": [
              "'DQLab'"
            ],
            "text/markdown": "'DQLab'",
            "text/latex": "'DQLab'",
            "text/plain": [
              "[1] \"DQLab\""
            ]
          },
          "metadata": {}
        }
      ]
    },
    {
      "cell_type": "code",
      "source": [
        "#pengunaan sub()\n",
        "sub(\"data\", \"data science\", data_teks)"
      ],
      "metadata": {
        "colab": {
          "base_uri": "https://localhost:8080/",
          "height": 34
        },
        "id": "84BO6dReDjoD",
        "outputId": "98b4a6bb-62c5-44c5-fdc6-a9793815acef"
      },
      "execution_count": 19,
      "outputs": [
        {
          "output_type": "display_data",
          "data": {
            "text/html": [
              "'Ayo belajar data science di DQLab untuk memulai karir di bidang data'"
            ],
            "text/markdown": "'Ayo belajar data science di DQLab untuk memulai karir di bidang data'",
            "text/latex": "'Ayo belajar data science di DQLab untuk memulai karir di bidang data'",
            "text/plain": [
              "[1] \"Ayo belajar data science di DQLab untuk memulai karir di bidang data\""
            ]
          },
          "metadata": {}
        }
      ]
    },
    {
      "cell_type": "code",
      "source": [
        "#pengunaan gsub()\n",
        "gsub(\"data\", \"data science\", data_teks)"
      ],
      "metadata": {
        "colab": {
          "base_uri": "https://localhost:8080/",
          "height": 34
        },
        "id": "58NyYUxcDq_z",
        "outputId": "5f3866df-19e7-4c7e-d2cc-a2ab786b2504"
      },
      "execution_count": 20,
      "outputs": [
        {
          "output_type": "display_data",
          "data": {
            "text/html": [
              "'Ayo belajar data science di DQLab untuk memulai karir di bidang data science'"
            ],
            "text/markdown": "'Ayo belajar data science di DQLab untuk memulai karir di bidang data science'",
            "text/latex": "'Ayo belajar data science di DQLab untuk memulai karir di bidang data science'",
            "text/plain": [
              "[1] \"Ayo belajar data science di DQLab untuk memulai karir di bidang data science\""
            ]
          },
          "metadata": {}
        }
      ]
    },
    {
      "cell_type": "markdown",
      "source": [
        "#### [Latihan Regex dan Function Grep](https://academy.dqlab.id/main/livecode/359/811/4285?pr=0)"
      ],
      "metadata": {
        "id": "hHnTrSlcD3vj"
      }
    },
    {
      "cell_type": "code",
      "source": [
        "#Mencari Nama yang mengandung angka\n",
        "name_with_num <- grep('\\\\d+', df$Nama)\n",
        "name_with_num"
      ],
      "metadata": {
        "colab": {
          "base_uri": "https://localhost:8080/",
          "height": 34
        },
        "id": "rN8sItFXD9tD",
        "outputId": "154565d4-77a7-4b01-83ba-d5518f9da79d"
      },
      "execution_count": 35,
      "outputs": [
        {
          "output_type": "display_data",
          "data": {
            "text/html": [
              "<style>\n",
              ".list-inline {list-style: none; margin:0; padding: 0}\n",
              ".list-inline>li {display: inline-block}\n",
              ".list-inline>li:not(:last-child)::after {content: \"\\00b7\"; padding: 0 .5ex}\n",
              "</style>\n",
              "<ol class=list-inline><li>22</li><li>39</li></ol>\n"
            ],
            "text/markdown": "1. 22\n2. 39\n\n\n",
            "text/latex": "\\begin{enumerate*}\n\\item 22\n\\item 39\n\\end{enumerate*}\n",
            "text/plain": [
              "[1] 22 39"
            ]
          },
          "metadata": {}
        }
      ]
    },
    {
      "cell_type": "code",
      "source": [
        "#Menampilkan data Nama yang mengandung angka\n",
        "df[name_with_num,]"
      ],
      "metadata": {
        "colab": {
          "base_uri": "https://localhost:8080/",
          "height": 161
        },
        "id": "V0IoNQDQD-F8",
        "outputId": "5359571d-f3a7-47fd-f0c7-c8a2729ee6ad"
      },
      "execution_count": 36,
      "outputs": [
        {
          "output_type": "display_data",
          "data": {
            "text/html": [
              "<table class=\"dataframe\">\n",
              "<caption>A data.frame: 2 × 5</caption>\n",
              "<thead>\n",
              "\t<tr><th></th><th scope=col>Nama</th><th scope=col>Tempat_Lahir</th><th scope=col>Tanggal_Lahir</th><th scope=col>Provinsi</th><th scope=col>kota_provinsi</th></tr>\n",
              "\t<tr><th></th><th scope=col>&lt;chr&gt;</th><th scope=col>&lt;chr&gt;</th><th scope=col>&lt;chr&gt;</th><th scope=col>&lt;chr&gt;</th><th scope=col>&lt;chr&gt;</th></tr>\n",
              "</thead>\n",
              "<tbody>\n",
              "\t<tr><th scope=row>22</th><td>Gunawan (0834755)</td><td>Tegal     </td><td>18 November 1993</td><td>Jawa Tengah       </td><td>Tegal , Jawa Tengah            </td></tr>\n",
              "\t<tr><th scope=row>39</th><td>Nur (089994)     </td><td>Banjarbaru</td><td>17 Maret 1981   </td><td>Kalimantan Selatan</td><td>Banjarbaru , Kalimantan Selatan</td></tr>\n",
              "</tbody>\n",
              "</table>\n"
            ],
            "text/markdown": "\nA data.frame: 2 × 5\n\n| <!--/--> | Nama &lt;chr&gt; | Tempat_Lahir &lt;chr&gt; | Tanggal_Lahir &lt;chr&gt; | Provinsi &lt;chr&gt; | kota_provinsi &lt;chr&gt; |\n|---|---|---|---|---|---|\n| 22 | Gunawan (0834755) | Tegal      | 18 November 1993 | Jawa Tengah        | Tegal , Jawa Tengah             |\n| 39 | Nur (089994)      | Banjarbaru | 17 Maret 1981    | Kalimantan Selatan | Banjarbaru , Kalimantan Selatan |\n\n",
            "text/latex": "A data.frame: 2 × 5\n\\begin{tabular}{r|lllll}\n  & Nama & Tempat\\_Lahir & Tanggal\\_Lahir & Provinsi & kota\\_provinsi\\\\\n  & <chr> & <chr> & <chr> & <chr> & <chr>\\\\\n\\hline\n\t22 & Gunawan (0834755) & Tegal      & 18 November 1993 & Jawa Tengah        & Tegal , Jawa Tengah            \\\\\n\t39 & Nur (089994)      & Banjarbaru & 17 Maret 1981    & Kalimantan Selatan & Banjarbaru , Kalimantan Selatan\\\\\n\\end{tabular}\n",
            "text/plain": [
              "   Nama              Tempat_Lahir Tanggal_Lahir    Provinsi          \n",
              "22 Gunawan (0834755) Tegal        18 November 1993 Jawa Tengah       \n",
              "39 Nur (089994)      Banjarbaru   17 Maret 1981    Kalimantan Selatan\n",
              "   kota_provinsi                  \n",
              "22 Tegal , Jawa Tengah            \n",
              "39 Banjarbaru , Kalimantan Selatan"
            ]
          },
          "metadata": {}
        }
      ]
    },
    {
      "cell_type": "code",
      "source": [
        "#Menghapus karakter yang bukan termasuk alphabet\n",
        "df$Nama <- gsub('\\\\[^A-Za-z]', '', df$Nama)"
      ],
      "metadata": {
        "id": "ZwTNOdqLD97U"
      },
      "execution_count": 37,
      "outputs": []
    },
    {
      "cell_type": "code",
      "source": [
        "df$Nama"
      ],
      "metadata": {
        "colab": {
          "base_uri": "https://localhost:8080/",
          "height": 69
        },
        "id": "zSVCRDWPH2Dn",
        "outputId": "13678249-3905-41ca-f348-7121f878757b"
      },
      "execution_count": 38,
      "outputs": [
        {
          "output_type": "display_data",
          "data": {
            "text/html": [
              "<style>\n",
              ".list-inline {list-style: none; margin:0; padding: 0}\n",
              ".list-inline>li {display: inline-block}\n",
              ".list-inline>li:not(:last-child)::after {content: \"\\00b7\"; padding: 0 .5ex}\n",
              "</style>\n",
              "<ol class=list-inline><li>'Agung'</li><li>'Agus'</li><li>'Andi'</li><li>'Andika'</li><li>'Anggun'</li><li>'Ardi'</li><li>'Asep'</li><li>'Ayu'</li><li>'Bagus'</li><li>'Bambang'</li><li>'Bayu'</li><li>'Bella'</li><li>'Citra'</li><li>'Deni'</li><li>'Diki'</li><li>'Erlangga'</li><li>'Fajri'</li><li>'Farah'</li><li>'Feri'</li><li>'Fitri'</li><li>'Galang'</li><li>'Gunawan (0834755)'</li><li>'Hadi'</li><li>'Hasan'</li><li>'Hengky'</li><li>'Indah'</li><li>'Iqbal'</li><li>'Jaya'</li><li>'Kardi'</li><li>'Komang'</li><li>'Krisda'</li><li>'Kurnia'</li><li>'Lestari'</li><li>'Mahmud'</li><li>'Marta'</li><li>'Mita, Mira'</li><li>'Murni'</li><li>'Nita'</li><li>'Nur (089994)'</li><li>'Putra'</li><li>'Putri'</li><li>'Rafi'</li><li>'Rahma'</li><li>'Rahmad'</li><li>'Randi'</li><li>'Rasyid'</li><li>'Rian'</li><li>'Rita'</li><li>'Rizki'</li><li>'Sandi'</li><li>'Sarah'</li><li>'Silvia'</li><li>'Siti'</li><li>'Sri'</li><li>'Tasya'</li><li>'Tia'</li><li>'Tiara'</li><li>'Tika'</li><li>'Tri'</li><li>'Ujang'</li><li>'Wahyu'</li><li>'Wardi'</li><li>'Wulan'</li><li>'Yansen'</li><li>'Yati'</li><li>'Yudhi'</li><li>'Yuli'</li><li>'Zahra'</li><li>'Zaki'</li></ol>\n"
            ],
            "text/markdown": "1. 'Agung'\n2. 'Agus'\n3. 'Andi'\n4. 'Andika'\n5. 'Anggun'\n6. 'Ardi'\n7. 'Asep'\n8. 'Ayu'\n9. 'Bagus'\n10. 'Bambang'\n11. 'Bayu'\n12. 'Bella'\n13. 'Citra'\n14. 'Deni'\n15. 'Diki'\n16. 'Erlangga'\n17. 'Fajri'\n18. 'Farah'\n19. 'Feri'\n20. 'Fitri'\n21. 'Galang'\n22. 'Gunawan (0834755)'\n23. 'Hadi'\n24. 'Hasan'\n25. 'Hengky'\n26. 'Indah'\n27. 'Iqbal'\n28. 'Jaya'\n29. 'Kardi'\n30. 'Komang'\n31. 'Krisda'\n32. 'Kurnia'\n33. 'Lestari'\n34. 'Mahmud'\n35. 'Marta'\n36. 'Mita, Mira'\n37. 'Murni'\n38. 'Nita'\n39. 'Nur (089994)'\n40. 'Putra'\n41. 'Putri'\n42. 'Rafi'\n43. 'Rahma'\n44. 'Rahmad'\n45. 'Randi'\n46. 'Rasyid'\n47. 'Rian'\n48. 'Rita'\n49. 'Rizki'\n50. 'Sandi'\n51. 'Sarah'\n52. 'Silvia'\n53. 'Siti'\n54. 'Sri'\n55. 'Tasya'\n56. 'Tia'\n57. 'Tiara'\n58. 'Tika'\n59. 'Tri'\n60. 'Ujang'\n61. 'Wahyu'\n62. 'Wardi'\n63. 'Wulan'\n64. 'Yansen'\n65. 'Yati'\n66. 'Yudhi'\n67. 'Yuli'\n68. 'Zahra'\n69. 'Zaki'\n\n\n",
            "text/latex": "\\begin{enumerate*}\n\\item 'Agung'\n\\item 'Agus'\n\\item 'Andi'\n\\item 'Andika'\n\\item 'Anggun'\n\\item 'Ardi'\n\\item 'Asep'\n\\item 'Ayu'\n\\item 'Bagus'\n\\item 'Bambang'\n\\item 'Bayu'\n\\item 'Bella'\n\\item 'Citra'\n\\item 'Deni'\n\\item 'Diki'\n\\item 'Erlangga'\n\\item 'Fajri'\n\\item 'Farah'\n\\item 'Feri'\n\\item 'Fitri'\n\\item 'Galang'\n\\item 'Gunawan (0834755)'\n\\item 'Hadi'\n\\item 'Hasan'\n\\item 'Hengky'\n\\item 'Indah'\n\\item 'Iqbal'\n\\item 'Jaya'\n\\item 'Kardi'\n\\item 'Komang'\n\\item 'Krisda'\n\\item 'Kurnia'\n\\item 'Lestari'\n\\item 'Mahmud'\n\\item 'Marta'\n\\item 'Mita, Mira'\n\\item 'Murni'\n\\item 'Nita'\n\\item 'Nur (089994)'\n\\item 'Putra'\n\\item 'Putri'\n\\item 'Rafi'\n\\item 'Rahma'\n\\item 'Rahmad'\n\\item 'Randi'\n\\item 'Rasyid'\n\\item 'Rian'\n\\item 'Rita'\n\\item 'Rizki'\n\\item 'Sandi'\n\\item 'Sarah'\n\\item 'Silvia'\n\\item 'Siti'\n\\item 'Sri'\n\\item 'Tasya'\n\\item 'Tia'\n\\item 'Tiara'\n\\item 'Tika'\n\\item 'Tri'\n\\item 'Ujang'\n\\item 'Wahyu'\n\\item 'Wardi'\n\\item 'Wulan'\n\\item 'Yansen'\n\\item 'Yati'\n\\item 'Yudhi'\n\\item 'Yuli'\n\\item 'Zahra'\n\\item 'Zaki'\n\\end{enumerate*}\n",
            "text/plain": [
              " [1] \"Agung\"             \"Agus\"              \"Andi\"             \n",
              " [4] \"Andika\"            \"Anggun\"            \"Ardi\"             \n",
              " [7] \"Asep\"              \"Ayu\"               \"Bagus\"            \n",
              "[10] \"Bambang\"           \"Bayu\"              \"Bella\"            \n",
              "[13] \"Citra\"             \"Deni\"              \"Diki\"             \n",
              "[16] \"Erlangga\"          \"Fajri\"             \"Farah\"            \n",
              "[19] \"Feri\"              \"Fitri\"             \"Galang\"           \n",
              "[22] \"Gunawan (0834755)\" \"Hadi\"              \"Hasan\"            \n",
              "[25] \"Hengky\"            \"Indah\"             \"Iqbal\"            \n",
              "[28] \"Jaya\"              \"Kardi\"             \"Komang\"           \n",
              "[31] \"Krisda\"            \"Kurnia\"            \"Lestari\"          \n",
              "[34] \"Mahmud\"            \"Marta\"             \"Mita, Mira\"       \n",
              "[37] \"Murni\"             \"Nita\"              \"Nur (089994)\"     \n",
              "[40] \"Putra\"             \"Putri\"             \"Rafi\"             \n",
              "[43] \"Rahma\"             \"Rahmad\"            \"Randi\"            \n",
              "[46] \"Rasyid\"            \"Rian\"              \"Rita\"             \n",
              "[49] \"Rizki\"             \"Sandi\"             \"Sarah\"            \n",
              "[52] \"Silvia\"            \"Siti\"              \"Sri\"              \n",
              "[55] \"Tasya\"             \"Tia\"               \"Tiara\"            \n",
              "[58] \"Tika\"              \"Tri\"               \"Ujang\"            \n",
              "[61] \"Wahyu\"             \"Wardi\"             \"Wulan\"            \n",
              "[64] \"Yansen\"            \"Yati\"              \"Yudhi\"            \n",
              "[67] \"Yuli\"              \"Zahra\"             \"Zaki\"             "
            ]
          },
          "metadata": {}
        }
      ]
    },
    {
      "cell_type": "markdown",
      "source": [
        "## Mini Project"
      ],
      "metadata": {
        "id": "60JAPeW53Do8"
      }
    },
    {
      "cell_type": "markdown",
      "source": [
        "#### [Memformat Dataset yang Bersumber dari Data Teks](https://academy.dqlab.id/main/livecode/359/812/4286?pr=0)"
      ],
      "metadata": {
        "id": "nyWiBXKTIgpp"
      }
    },
    {
      "cell_type": "code",
      "source": [
        "#Melakukan import file\n",
        "data <- read.table(\n",
        "  file = \"https://storage.googleapis.com/dqlab-dataset/datalahir_teks_dqlab.txt\",\n",
        "  header = FALSE, \n",
        "  sep = \"\\n\", \n",
        "  na.strings=c(\"NA\", \"N/A\", \"\"), \n",
        "  col.names = 'data_list',\n",
        "  skip = 1)\n",
        "\n",
        "#Menampilkan 5 data teratas\n",
        "head(data,5)\n",
        "\n",
        "#Memisahkan data menggunakan strsplit\n",
        "data <- strsplit(data$data_list, split = \"|||\", fixed = TRUE)\n",
        "\n",
        "#Merubah data menjadid dataframe\n",
        "df <- data.frame(matrix(unlist(data), nrow=length(data), byrow=TRUE))\n",
        "\n",
        "#Memberikan nama pada setiap kolom\n",
        "colnames(df) <- c('Nama','Tempat_Lahir', 'Tanggal_Lahir', 'Provinsi')\n",
        "\n",
        "#Tampilkan 5 baris pertama dari df\n",
        "head(df,5)\n",
        "\n",
        "#Tambahkan kolom baru yang berisi tempat lahir dan provinsi\n",
        "df$kota_provinsi <- paste(df$Tempat_Lahir, \",\", df$Provinsi)\n",
        "\n",
        "#Tampilkan 5 data teratas dari df\n",
        "head(df,5)\n",
        "\n",
        "#Menghapus karakter yang bukan termasuk alphabet pada kolom Nama\n",
        "df$Nama <- gsub('\\\\[^A-Za-z]', '', df$Nama)\n",
        "\n",
        "#Tampilkan isi dari df\n",
        "df"
      ],
      "metadata": {
        "colab": {
          "base_uri": "https://localhost:8080/",
          "height": 1000
        },
        "id": "ZVnGsHUjIkc8",
        "outputId": "2e7ffce8-c04f-47be-8b2d-e34d57d4048c"
      },
      "execution_count": 39,
      "outputs": [
        {
          "output_type": "display_data",
          "data": {
            "text/html": [
              "<table class=\"dataframe\">\n",
              "<caption>A data.frame: 5 × 1</caption>\n",
              "<thead>\n",
              "\t<tr><th></th><th scope=col>data_list</th></tr>\n",
              "\t<tr><th></th><th scope=col>&lt;chr&gt;</th></tr>\n",
              "</thead>\n",
              "<tbody>\n",
              "\t<tr><th scope=row>1</th><td>Agung|||Semarang|||03 Juni 1992|||Jawa Tengah                    </td></tr>\n",
              "\t<tr><th scope=row>2</th><td>Agus|||Probolinggo|||19 Juni 1989|||Jawa Timur                   </td></tr>\n",
              "\t<tr><th scope=row>3</th><td>Andi|||Pangkalpinang|||11 April 1994|||Bangka Belitung           </td></tr>\n",
              "\t<tr><th scope=row>4</th><td>Andika|||Surabaya|||24 Mei 1999|||Jawa Timur                     </td></tr>\n",
              "\t<tr><th scope=row>5</th><td>Anggun|||Kota Administrasi Jakarta Pusat|||13 Juni 1981|||Jakarta</td></tr>\n",
              "</tbody>\n",
              "</table>\n"
            ],
            "text/markdown": "\nA data.frame: 5 × 1\n\n| <!--/--> | data_list &lt;chr&gt; |\n|---|---|\n| 1 | Agung|||Semarang|||03 Juni 1992|||Jawa Tengah                     |\n| 2 | Agus|||Probolinggo|||19 Juni 1989|||Jawa Timur                    |\n| 3 | Andi|||Pangkalpinang|||11 April 1994|||Bangka Belitung            |\n| 4 | Andika|||Surabaya|||24 Mei 1999|||Jawa Timur                      |\n| 5 | Anggun|||Kota Administrasi Jakarta Pusat|||13 Juni 1981|||Jakarta |\n\n",
            "text/latex": "A data.frame: 5 × 1\n\\begin{tabular}{r|l}\n  & data\\_list\\\\\n  & <chr>\\\\\n\\hline\n\t1 & Agung\\textbar{}\\textbar{}\\textbar{}Semarang\\textbar{}\\textbar{}\\textbar{}03 Juni 1992\\textbar{}\\textbar{}\\textbar{}Jawa Tengah                    \\\\\n\t2 & Agus\\textbar{}\\textbar{}\\textbar{}Probolinggo\\textbar{}\\textbar{}\\textbar{}19 Juni 1989\\textbar{}\\textbar{}\\textbar{}Jawa Timur                   \\\\\n\t3 & Andi\\textbar{}\\textbar{}\\textbar{}Pangkalpinang\\textbar{}\\textbar{}\\textbar{}11 April 1994\\textbar{}\\textbar{}\\textbar{}Bangka Belitung           \\\\\n\t4 & Andika\\textbar{}\\textbar{}\\textbar{}Surabaya\\textbar{}\\textbar{}\\textbar{}24 Mei 1999\\textbar{}\\textbar{}\\textbar{}Jawa Timur                     \\\\\n\t5 & Anggun\\textbar{}\\textbar{}\\textbar{}Kota Administrasi Jakarta Pusat\\textbar{}\\textbar{}\\textbar{}13 Juni 1981\\textbar{}\\textbar{}\\textbar{}Jakarta\\\\\n\\end{tabular}\n",
            "text/plain": [
              "  data_list                                                        \n",
              "1 Agung|||Semarang|||03 Juni 1992|||Jawa Tengah                    \n",
              "2 Agus|||Probolinggo|||19 Juni 1989|||Jawa Timur                   \n",
              "3 Andi|||Pangkalpinang|||11 April 1994|||Bangka Belitung           \n",
              "4 Andika|||Surabaya|||24 Mei 1999|||Jawa Timur                     \n",
              "5 Anggun|||Kota Administrasi Jakarta Pusat|||13 Juni 1981|||Jakarta"
            ]
          },
          "metadata": {}
        },
        {
          "output_type": "display_data",
          "data": {
            "text/html": [
              "<table class=\"dataframe\">\n",
              "<caption>A data.frame: 5 × 4</caption>\n",
              "<thead>\n",
              "\t<tr><th></th><th scope=col>Nama</th><th scope=col>Tempat_Lahir</th><th scope=col>Tanggal_Lahir</th><th scope=col>Provinsi</th></tr>\n",
              "\t<tr><th></th><th scope=col>&lt;chr&gt;</th><th scope=col>&lt;chr&gt;</th><th scope=col>&lt;chr&gt;</th><th scope=col>&lt;chr&gt;</th></tr>\n",
              "</thead>\n",
              "<tbody>\n",
              "\t<tr><th scope=row>1</th><td>Agung </td><td>Semarang                       </td><td>03 Juni 1992 </td><td>Jawa Tengah    </td></tr>\n",
              "\t<tr><th scope=row>2</th><td>Agus  </td><td>Probolinggo                    </td><td>19 Juni 1989 </td><td>Jawa Timur     </td></tr>\n",
              "\t<tr><th scope=row>3</th><td>Andi  </td><td>Pangkalpinang                  </td><td>11 April 1994</td><td>Bangka Belitung</td></tr>\n",
              "\t<tr><th scope=row>4</th><td>Andika</td><td>Surabaya                       </td><td>24 Mei 1999  </td><td>Jawa Timur     </td></tr>\n",
              "\t<tr><th scope=row>5</th><td>Anggun</td><td>Kota Administrasi Jakarta Pusat</td><td>13 Juni 1981 </td><td>Jakarta        </td></tr>\n",
              "</tbody>\n",
              "</table>\n"
            ],
            "text/markdown": "\nA data.frame: 5 × 4\n\n| <!--/--> | Nama &lt;chr&gt; | Tempat_Lahir &lt;chr&gt; | Tanggal_Lahir &lt;chr&gt; | Provinsi &lt;chr&gt; |\n|---|---|---|---|---|\n| 1 | Agung  | Semarang                        | 03 Juni 1992  | Jawa Tengah     |\n| 2 | Agus   | Probolinggo                     | 19 Juni 1989  | Jawa Timur      |\n| 3 | Andi   | Pangkalpinang                   | 11 April 1994 | Bangka Belitung |\n| 4 | Andika | Surabaya                        | 24 Mei 1999   | Jawa Timur      |\n| 5 | Anggun | Kota Administrasi Jakarta Pusat | 13 Juni 1981  | Jakarta         |\n\n",
            "text/latex": "A data.frame: 5 × 4\n\\begin{tabular}{r|llll}\n  & Nama & Tempat\\_Lahir & Tanggal\\_Lahir & Provinsi\\\\\n  & <chr> & <chr> & <chr> & <chr>\\\\\n\\hline\n\t1 & Agung  & Semarang                        & 03 Juni 1992  & Jawa Tengah    \\\\\n\t2 & Agus   & Probolinggo                     & 19 Juni 1989  & Jawa Timur     \\\\\n\t3 & Andi   & Pangkalpinang                   & 11 April 1994 & Bangka Belitung\\\\\n\t4 & Andika & Surabaya                        & 24 Mei 1999   & Jawa Timur     \\\\\n\t5 & Anggun & Kota Administrasi Jakarta Pusat & 13 Juni 1981  & Jakarta        \\\\\n\\end{tabular}\n",
            "text/plain": [
              "  Nama   Tempat_Lahir                    Tanggal_Lahir Provinsi       \n",
              "1 Agung  Semarang                        03 Juni 1992  Jawa Tengah    \n",
              "2 Agus   Probolinggo                     19 Juni 1989  Jawa Timur     \n",
              "3 Andi   Pangkalpinang                   11 April 1994 Bangka Belitung\n",
              "4 Andika Surabaya                        24 Mei 1999   Jawa Timur     \n",
              "5 Anggun Kota Administrasi Jakarta Pusat 13 Juni 1981  Jakarta        "
            ]
          },
          "metadata": {}
        },
        {
          "output_type": "display_data",
          "data": {
            "text/html": [
              "<table class=\"dataframe\">\n",
              "<caption>A data.frame: 5 × 5</caption>\n",
              "<thead>\n",
              "\t<tr><th></th><th scope=col>Nama</th><th scope=col>Tempat_Lahir</th><th scope=col>Tanggal_Lahir</th><th scope=col>Provinsi</th><th scope=col>kota_provinsi</th></tr>\n",
              "\t<tr><th></th><th scope=col>&lt;chr&gt;</th><th scope=col>&lt;chr&gt;</th><th scope=col>&lt;chr&gt;</th><th scope=col>&lt;chr&gt;</th><th scope=col>&lt;chr&gt;</th></tr>\n",
              "</thead>\n",
              "<tbody>\n",
              "\t<tr><th scope=row>1</th><td>Agung </td><td>Semarang                       </td><td>03 Juni 1992 </td><td>Jawa Tengah    </td><td>Semarang , Jawa Tengah                   </td></tr>\n",
              "\t<tr><th scope=row>2</th><td>Agus  </td><td>Probolinggo                    </td><td>19 Juni 1989 </td><td>Jawa Timur     </td><td>Probolinggo , Jawa Timur                 </td></tr>\n",
              "\t<tr><th scope=row>3</th><td>Andi  </td><td>Pangkalpinang                  </td><td>11 April 1994</td><td>Bangka Belitung</td><td>Pangkalpinang , Bangka Belitung          </td></tr>\n",
              "\t<tr><th scope=row>4</th><td>Andika</td><td>Surabaya                       </td><td>24 Mei 1999  </td><td>Jawa Timur     </td><td>Surabaya , Jawa Timur                    </td></tr>\n",
              "\t<tr><th scope=row>5</th><td>Anggun</td><td>Kota Administrasi Jakarta Pusat</td><td>13 Juni 1981 </td><td>Jakarta        </td><td>Kota Administrasi Jakarta Pusat , Jakarta</td></tr>\n",
              "</tbody>\n",
              "</table>\n"
            ],
            "text/markdown": "\nA data.frame: 5 × 5\n\n| <!--/--> | Nama &lt;chr&gt; | Tempat_Lahir &lt;chr&gt; | Tanggal_Lahir &lt;chr&gt; | Provinsi &lt;chr&gt; | kota_provinsi &lt;chr&gt; |\n|---|---|---|---|---|---|\n| 1 | Agung  | Semarang                        | 03 Juni 1992  | Jawa Tengah     | Semarang , Jawa Tengah                    |\n| 2 | Agus   | Probolinggo                     | 19 Juni 1989  | Jawa Timur      | Probolinggo , Jawa Timur                  |\n| 3 | Andi   | Pangkalpinang                   | 11 April 1994 | Bangka Belitung | Pangkalpinang , Bangka Belitung           |\n| 4 | Andika | Surabaya                        | 24 Mei 1999   | Jawa Timur      | Surabaya , Jawa Timur                     |\n| 5 | Anggun | Kota Administrasi Jakarta Pusat | 13 Juni 1981  | Jakarta         | Kota Administrasi Jakarta Pusat , Jakarta |\n\n",
            "text/latex": "A data.frame: 5 × 5\n\\begin{tabular}{r|lllll}\n  & Nama & Tempat\\_Lahir & Tanggal\\_Lahir & Provinsi & kota\\_provinsi\\\\\n  & <chr> & <chr> & <chr> & <chr> & <chr>\\\\\n\\hline\n\t1 & Agung  & Semarang                        & 03 Juni 1992  & Jawa Tengah     & Semarang , Jawa Tengah                   \\\\\n\t2 & Agus   & Probolinggo                     & 19 Juni 1989  & Jawa Timur      & Probolinggo , Jawa Timur                 \\\\\n\t3 & Andi   & Pangkalpinang                   & 11 April 1994 & Bangka Belitung & Pangkalpinang , Bangka Belitung          \\\\\n\t4 & Andika & Surabaya                        & 24 Mei 1999   & Jawa Timur      & Surabaya , Jawa Timur                    \\\\\n\t5 & Anggun & Kota Administrasi Jakarta Pusat & 13 Juni 1981  & Jakarta         & Kota Administrasi Jakarta Pusat , Jakarta\\\\\n\\end{tabular}\n",
            "text/plain": [
              "  Nama   Tempat_Lahir                    Tanggal_Lahir Provinsi       \n",
              "1 Agung  Semarang                        03 Juni 1992  Jawa Tengah    \n",
              "2 Agus   Probolinggo                     19 Juni 1989  Jawa Timur     \n",
              "3 Andi   Pangkalpinang                   11 April 1994 Bangka Belitung\n",
              "4 Andika Surabaya                        24 Mei 1999   Jawa Timur     \n",
              "5 Anggun Kota Administrasi Jakarta Pusat 13 Juni 1981  Jakarta        \n",
              "  kota_provinsi                            \n",
              "1 Semarang , Jawa Tengah                   \n",
              "2 Probolinggo , Jawa Timur                 \n",
              "3 Pangkalpinang , Bangka Belitung          \n",
              "4 Surabaya , Jawa Timur                    \n",
              "5 Kota Administrasi Jakarta Pusat , Jakarta"
            ]
          },
          "metadata": {}
        },
        {
          "output_type": "display_data",
          "data": {
            "text/html": [
              "<table class=\"dataframe\">\n",
              "<caption>A data.frame: 69 × 5</caption>\n",
              "<thead>\n",
              "\t<tr><th scope=col>Nama</th><th scope=col>Tempat_Lahir</th><th scope=col>Tanggal_Lahir</th><th scope=col>Provinsi</th><th scope=col>kota_provinsi</th></tr>\n",
              "\t<tr><th scope=col>&lt;chr&gt;</th><th scope=col>&lt;chr&gt;</th><th scope=col>&lt;chr&gt;</th><th scope=col>&lt;chr&gt;</th><th scope=col>&lt;chr&gt;</th></tr>\n",
              "</thead>\n",
              "<tbody>\n",
              "\t<tr><td>Agung            </td><td>Semarang                         </td><td>03 Juni 1992     </td><td>Jawa Tengah       </td><td>Semarang , Jawa Tengah                     </td></tr>\n",
              "\t<tr><td>Agus             </td><td>Probolinggo                      </td><td>19 Juni 1989     </td><td>Jawa Timur        </td><td>Probolinggo , Jawa Timur                   </td></tr>\n",
              "\t<tr><td>Andi             </td><td>Pangkalpinang                    </td><td>11 April 1994    </td><td>Bangka Belitung   </td><td>Pangkalpinang , Bangka Belitung            </td></tr>\n",
              "\t<tr><td>Andika           </td><td>Surabaya                         </td><td>24 Mei 1999      </td><td>Jawa Timur        </td><td>Surabaya , Jawa Timur                      </td></tr>\n",
              "\t<tr><td>Anggun           </td><td>Kota Administrasi Jakarta Pusat  </td><td>13 Juni 1981     </td><td>Jakarta           </td><td>Kota Administrasi Jakarta Pusat , Jakarta  </td></tr>\n",
              "\t<tr><td>Ardi             </td><td>Depok                            </td><td>16 Agustus 1984  </td><td>Jawa Barat        </td><td>Depok , Jawa Barat                         </td></tr>\n",
              "\t<tr><td>Asep             </td><td>Malang                           </td><td>16 Agustus 1996  </td><td>Jawa Timur        </td><td>Malang , Jawa Timur                        </td></tr>\n",
              "\t<tr><td>Ayu              </td><td>Batu                             </td><td>22 Februari 2002 </td><td>Jawa Timur        </td><td>Batu , Jawa Timur                          </td></tr>\n",
              "\t<tr><td>Bagus            </td><td>Banda Aceh                       </td><td>10 Juli 1995     </td><td>Aceh              </td><td>Banda Aceh , Aceh                          </td></tr>\n",
              "\t<tr><td>Bambang          </td><td>Kota Administrasi Jakarta Utara  </td><td>01 Oktober 1991  </td><td>Jakarta           </td><td>Kota Administrasi Jakarta Utara , Jakarta  </td></tr>\n",
              "\t<tr><td>Bayu             </td><td>Sabang                           </td><td>05 Februari 1987 </td><td>Aceh              </td><td>Sabang , Aceh                              </td></tr>\n",
              "\t<tr><td>Bella            </td><td>Pasuruan                         </td><td>17 April 1992    </td><td>Jawa Timur        </td><td>Pasuruan , Jawa Timur                      </td></tr>\n",
              "\t<tr><td>Citra            </td><td>Banjarmasin                      </td><td>12 Desember 1986 </td><td>Kalimantan Selatan</td><td>Banjarmasin , Kalimantan Selatan           </td></tr>\n",
              "\t<tr><td>Deni             </td><td>Denpasar                         </td><td>14 Februari 1996 </td><td>Bali              </td><td>Denpasar , Bali                            </td></tr>\n",
              "\t<tr><td>Diki             </td><td>Semarang                         </td><td>21 Juli 1987     </td><td>Jawa Tengah       </td><td>Semarang , Jawa Tengah                     </td></tr>\n",
              "\t<tr><td>Erlangga         </td><td>Tangerang Selatan                </td><td>31 Januari 1993  </td><td>Banten            </td><td>Tangerang Selatan , Banten                 </td></tr>\n",
              "\t<tr><td>Fajri            </td><td>Bogor                            </td><td>06 Agustus 2003  </td><td>Jawa Barat        </td><td>Bogor , Jawa Barat                         </td></tr>\n",
              "\t<tr><td>Farah            </td><td>Tangerang Selatan                </td><td>06 Maret 1999    </td><td>Banten            </td><td>Tangerang Selatan , Banten                 </td></tr>\n",
              "\t<tr><td>Feri             </td><td>Banjarbaru                       </td><td>17 September 1991</td><td>Kalimantan Selatan</td><td>Banjarbaru , Kalimantan Selatan            </td></tr>\n",
              "\t<tr><td>Fitri            </td><td>Kota Administrasi Jakarta Utara  </td><td>21 Januari 1982  </td><td>Jakarta           </td><td>Kota Administrasi Jakarta Utara , Jakarta  </td></tr>\n",
              "\t<tr><td>Galang           </td><td>Banjarmasin                      </td><td>01 Juni 1993     </td><td>Kalimantan Selatan</td><td>Banjarmasin , Kalimantan Selatan           </td></tr>\n",
              "\t<tr><td>Gunawan (0834755)</td><td>Tegal                            </td><td>18 November 1993 </td><td>Jawa Tengah       </td><td>Tegal , Jawa Tengah                        </td></tr>\n",
              "\t<tr><td>Hadi             </td><td>Depok                            </td><td>07 Juli 1983     </td><td>Jawa Barat        </td><td>Depok , Jawa Barat                         </td></tr>\n",
              "\t<tr><td>Hasan            </td><td>Kota Administrasi Jakarta Selatan</td><td>25 Juni 1992     </td><td>Jakarta           </td><td>Kota Administrasi Jakarta Selatan , Jakarta</td></tr>\n",
              "\t<tr><td>Hengky           </td><td>Tangerang                        </td><td>21 Desember 1990 </td><td>Banten            </td><td>Tangerang , Banten                         </td></tr>\n",
              "\t<tr><td>Indah            </td><td>Madiun                           </td><td>28 Juli 1991     </td><td>Jawa Timur        </td><td>Madiun , Jawa Timur                        </td></tr>\n",
              "\t<tr><td>Iqbal            </td><td>Pekalongan                       </td><td>11 Oktober 1997  </td><td>Jawa Tengah       </td><td>Pekalongan , Jawa Tengah                   </td></tr>\n",
              "\t<tr><td>Jaya             </td><td>Sungai Penuh                     </td><td>23 April 2005    </td><td>Jambi             </td><td>Sungai Penuh , Jambi                       </td></tr>\n",
              "\t<tr><td>Kardi            </td><td>Cimahi                           </td><td>25 Juni 1992     </td><td>Jawa Barat        </td><td>Cimahi , Jawa Barat                        </td></tr>\n",
              "\t<tr><td>Komang           </td><td>Semarang                         </td><td>31 Agustus 1998  </td><td>Jawa Tengah       </td><td>Semarang , Jawa Tengah                     </td></tr>\n",
              "\t<tr><td>⋮</td><td>⋮</td><td>⋮</td><td>⋮</td><td>⋮</td></tr>\n",
              "\t<tr><td>Putra </td><td>Tangerang                      </td><td>07 Agustus 1996  </td><td>Banten                    </td><td>Tangerang , Banten                       </td></tr>\n",
              "\t<tr><td>Putri </td><td>Kota Administrasi Jakarta Timur</td><td>29 Desember 2002 </td><td>Jakarta                   </td><td>Kota Administrasi Jakarta Timur , Jakarta</td></tr>\n",
              "\t<tr><td>Rafi  </td><td>Subulussalam                   </td><td>25 Februari 1991 </td><td>Aceh                      </td><td>Subulussalam , Aceh                      </td></tr>\n",
              "\t<tr><td>Rahma </td><td>Sabang                         </td><td>22 September 1990</td><td>Aceh                      </td><td>Sabang , Aceh                            </td></tr>\n",
              "\t<tr><td>Rahmad</td><td>Probolinggo                    </td><td>22 September 2003</td><td>Jawa Timur                </td><td>Probolinggo , Jawa Timur                 </td></tr>\n",
              "\t<tr><td>Randi </td><td>Bekasi                         </td><td>20 April 1985    </td><td>Jawa Barat                </td><td>Bekasi , Jawa Barat                      </td></tr>\n",
              "\t<tr><td>Rasyid</td><td>Bandung                        </td><td>25 Agustus 1985  </td><td>Jawa Barat                </td><td>Bandung , Jawa Barat                     </td></tr>\n",
              "\t<tr><td>Rian  </td><td>Bekasi                         </td><td>16 Januari 1987  </td><td>Jawa Barat                </td><td>Bekasi , Jawa Barat                      </td></tr>\n",
              "\t<tr><td>Rita  </td><td>Singkawang                     </td><td>01 Desember 2004 </td><td>Kalimantan Barat          </td><td>Singkawang , Kalimantan Barat            </td></tr>\n",
              "\t<tr><td>Rizki </td><td>Cimahi                         </td><td>16 Februari 1991 </td><td>Jawa Barat                </td><td>Cimahi , Jawa Barat                      </td></tr>\n",
              "\t<tr><td>Sandi </td><td>Sukabumi                       </td><td>01 Februari 1985 </td><td>Jawa Barat                </td><td>Sukabumi , Jawa Barat                    </td></tr>\n",
              "\t<tr><td>Sarah </td><td>Bengkulu                       </td><td>15 November 1980 </td><td>Bengkulu                  </td><td>Bengkulu , Bengkulu                      </td></tr>\n",
              "\t<tr><td>Silvia</td><td>Malang                         </td><td>06 Januari 1996  </td><td>Jawa Timur                </td><td>Malang , Jawa Timur                      </td></tr>\n",
              "\t<tr><td>Siti  </td><td>Cimahi                         </td><td>30 Januari 1985  </td><td>Jawa Barat                </td><td>Cimahi , Jawa Barat                      </td></tr>\n",
              "\t<tr><td>Sri   </td><td>Pangkalpinang                  </td><td>22 Juli 1990     </td><td>Bangka Belitung           </td><td>Pangkalpinang , Bangka Belitung          </td></tr>\n",
              "\t<tr><td>Tasya </td><td>Singkawang                     </td><td>15 Oktober 1987  </td><td>Kalimantan Barat          </td><td>Singkawang , Kalimantan Barat            </td></tr>\n",
              "\t<tr><td>Tia   </td><td>Kota Administrasi Jakarta Utara</td><td>26 Desember 1985 </td><td>Jakarta                   </td><td>Kota Administrasi Jakarta Utara , Jakarta</td></tr>\n",
              "\t<tr><td>Tiara </td><td>Madiun                         </td><td>11 April 1992    </td><td>Jawa Timur                </td><td>Madiun , Jawa Timur                      </td></tr>\n",
              "\t<tr><td>Tika  </td><td>Cirebon                        </td><td>07 April 1981    </td><td>Jawa Barat                </td><td>Cirebon , Jawa Barat                     </td></tr>\n",
              "\t<tr><td>Tri   </td><td>Batu                           </td><td>26 Januari 1994  </td><td>Jawa Timur                </td><td>Batu , Jawa Timur                        </td></tr>\n",
              "\t<tr><td>Ujang </td><td>Depok                          </td><td>04 Juli 1999     </td><td>Jawa Barat                </td><td>Depok , Jawa Barat                       </td></tr>\n",
              "\t<tr><td>Wahyu </td><td>Mojokerto                      </td><td>17 Maret 2000    </td><td>Jawa Timur                </td><td>Mojokerto , Jawa Timur                   </td></tr>\n",
              "\t<tr><td>Wardi </td><td>Jambi                          </td><td>23 Mei 1985      </td><td>Jambi                     </td><td>Jambi , Jambi                            </td></tr>\n",
              "\t<tr><td>Wulan </td><td>Langsa                         </td><td>09 Maret 1990    </td><td>Aceh                      </td><td>Langsa , Aceh                            </td></tr>\n",
              "\t<tr><td>Yansen</td><td>Cilegon                        </td><td>14 Januari 1981  </td><td>Banten                    </td><td>Cilegon , Banten                         </td></tr>\n",
              "\t<tr><td>Yati  </td><td>Langsa                         </td><td>20 September 1995</td><td>Aceh                      </td><td>Langsa , Aceh                            </td></tr>\n",
              "\t<tr><td>Yudhi </td><td>Yogyakarta                     </td><td>29 Maret 1992    </td><td>Daerah Istimewa Yogyakarta</td><td>Yogyakarta , Daerah Istimewa Yogyakarta  </td></tr>\n",
              "\t<tr><td>Yuli  </td><td>Jambi                          </td><td>11 Januari 1984  </td><td>Jambi                     </td><td>Jambi , Jambi                            </td></tr>\n",
              "\t<tr><td>Zahra </td><td>Langsa                         </td><td>25 Juli 2002     </td><td>Aceh                      </td><td>Langsa , Aceh                            </td></tr>\n",
              "\t<tr><td>Zaki  </td><td>Cirebon                        </td><td>31 Maret 1999    </td><td>Jawa Barat                </td><td>Cirebon , Jawa Barat                     </td></tr>\n",
              "</tbody>\n",
              "</table>\n"
            ],
            "text/markdown": "\nA data.frame: 69 × 5\n\n| Nama &lt;chr&gt; | Tempat_Lahir &lt;chr&gt; | Tanggal_Lahir &lt;chr&gt; | Provinsi &lt;chr&gt; | kota_provinsi &lt;chr&gt; |\n|---|---|---|---|---|\n| Agung             | Semarang                          | 03 Juni 1992      | Jawa Tengah        | Semarang , Jawa Tengah                      |\n| Agus              | Probolinggo                       | 19 Juni 1989      | Jawa Timur         | Probolinggo , Jawa Timur                    |\n| Andi              | Pangkalpinang                     | 11 April 1994     | Bangka Belitung    | Pangkalpinang , Bangka Belitung             |\n| Andika            | Surabaya                          | 24 Mei 1999       | Jawa Timur         | Surabaya , Jawa Timur                       |\n| Anggun            | Kota Administrasi Jakarta Pusat   | 13 Juni 1981      | Jakarta            | Kota Administrasi Jakarta Pusat , Jakarta   |\n| Ardi              | Depok                             | 16 Agustus 1984   | Jawa Barat         | Depok , Jawa Barat                          |\n| Asep              | Malang                            | 16 Agustus 1996   | Jawa Timur         | Malang , Jawa Timur                         |\n| Ayu               | Batu                              | 22 Februari 2002  | Jawa Timur         | Batu , Jawa Timur                           |\n| Bagus             | Banda Aceh                        | 10 Juli 1995      | Aceh               | Banda Aceh , Aceh                           |\n| Bambang           | Kota Administrasi Jakarta Utara   | 01 Oktober 1991   | Jakarta            | Kota Administrasi Jakarta Utara , Jakarta   |\n| Bayu              | Sabang                            | 05 Februari 1987  | Aceh               | Sabang , Aceh                               |\n| Bella             | Pasuruan                          | 17 April 1992     | Jawa Timur         | Pasuruan , Jawa Timur                       |\n| Citra             | Banjarmasin                       | 12 Desember 1986  | Kalimantan Selatan | Banjarmasin , Kalimantan Selatan            |\n| Deni              | Denpasar                          | 14 Februari 1996  | Bali               | Denpasar , Bali                             |\n| Diki              | Semarang                          | 21 Juli 1987      | Jawa Tengah        | Semarang , Jawa Tengah                      |\n| Erlangga          | Tangerang Selatan                 | 31 Januari 1993   | Banten             | Tangerang Selatan , Banten                  |\n| Fajri             | Bogor                             | 06 Agustus 2003   | Jawa Barat         | Bogor , Jawa Barat                          |\n| Farah             | Tangerang Selatan                 | 06 Maret 1999     | Banten             | Tangerang Selatan , Banten                  |\n| Feri              | Banjarbaru                        | 17 September 1991 | Kalimantan Selatan | Banjarbaru , Kalimantan Selatan             |\n| Fitri             | Kota Administrasi Jakarta Utara   | 21 Januari 1982   | Jakarta            | Kota Administrasi Jakarta Utara , Jakarta   |\n| Galang            | Banjarmasin                       | 01 Juni 1993      | Kalimantan Selatan | Banjarmasin , Kalimantan Selatan            |\n| Gunawan (0834755) | Tegal                             | 18 November 1993  | Jawa Tengah        | Tegal , Jawa Tengah                         |\n| Hadi              | Depok                             | 07 Juli 1983      | Jawa Barat         | Depok , Jawa Barat                          |\n| Hasan             | Kota Administrasi Jakarta Selatan | 25 Juni 1992      | Jakarta            | Kota Administrasi Jakarta Selatan , Jakarta |\n| Hengky            | Tangerang                         | 21 Desember 1990  | Banten             | Tangerang , Banten                          |\n| Indah             | Madiun                            | 28 Juli 1991      | Jawa Timur         | Madiun , Jawa Timur                         |\n| Iqbal             | Pekalongan                        | 11 Oktober 1997   | Jawa Tengah        | Pekalongan , Jawa Tengah                    |\n| Jaya              | Sungai Penuh                      | 23 April 2005     | Jambi              | Sungai Penuh , Jambi                        |\n| Kardi             | Cimahi                            | 25 Juni 1992      | Jawa Barat         | Cimahi , Jawa Barat                         |\n| Komang            | Semarang                          | 31 Agustus 1998   | Jawa Tengah        | Semarang , Jawa Tengah                      |\n| ⋮ | ⋮ | ⋮ | ⋮ | ⋮ |\n| Putra  | Tangerang                       | 07 Agustus 1996   | Banten                     | Tangerang , Banten                        |\n| Putri  | Kota Administrasi Jakarta Timur | 29 Desember 2002  | Jakarta                    | Kota Administrasi Jakarta Timur , Jakarta |\n| Rafi   | Subulussalam                    | 25 Februari 1991  | Aceh                       | Subulussalam , Aceh                       |\n| Rahma  | Sabang                          | 22 September 1990 | Aceh                       | Sabang , Aceh                             |\n| Rahmad | Probolinggo                     | 22 September 2003 | Jawa Timur                 | Probolinggo , Jawa Timur                  |\n| Randi  | Bekasi                          | 20 April 1985     | Jawa Barat                 | Bekasi , Jawa Barat                       |\n| Rasyid | Bandung                         | 25 Agustus 1985   | Jawa Barat                 | Bandung , Jawa Barat                      |\n| Rian   | Bekasi                          | 16 Januari 1987   | Jawa Barat                 | Bekasi , Jawa Barat                       |\n| Rita   | Singkawang                      | 01 Desember 2004  | Kalimantan Barat           | Singkawang , Kalimantan Barat             |\n| Rizki  | Cimahi                          | 16 Februari 1991  | Jawa Barat                 | Cimahi , Jawa Barat                       |\n| Sandi  | Sukabumi                        | 01 Februari 1985  | Jawa Barat                 | Sukabumi , Jawa Barat                     |\n| Sarah  | Bengkulu                        | 15 November 1980  | Bengkulu                   | Bengkulu , Bengkulu                       |\n| Silvia | Malang                          | 06 Januari 1996   | Jawa Timur                 | Malang , Jawa Timur                       |\n| Siti   | Cimahi                          | 30 Januari 1985   | Jawa Barat                 | Cimahi , Jawa Barat                       |\n| Sri    | Pangkalpinang                   | 22 Juli 1990      | Bangka Belitung            | Pangkalpinang , Bangka Belitung           |\n| Tasya  | Singkawang                      | 15 Oktober 1987   | Kalimantan Barat           | Singkawang , Kalimantan Barat             |\n| Tia    | Kota Administrasi Jakarta Utara | 26 Desember 1985  | Jakarta                    | Kota Administrasi Jakarta Utara , Jakarta |\n| Tiara  | Madiun                          | 11 April 1992     | Jawa Timur                 | Madiun , Jawa Timur                       |\n| Tika   | Cirebon                         | 07 April 1981     | Jawa Barat                 | Cirebon , Jawa Barat                      |\n| Tri    | Batu                            | 26 Januari 1994   | Jawa Timur                 | Batu , Jawa Timur                         |\n| Ujang  | Depok                           | 04 Juli 1999      | Jawa Barat                 | Depok , Jawa Barat                        |\n| Wahyu  | Mojokerto                       | 17 Maret 2000     | Jawa Timur                 | Mojokerto , Jawa Timur                    |\n| Wardi  | Jambi                           | 23 Mei 1985       | Jambi                      | Jambi , Jambi                             |\n| Wulan  | Langsa                          | 09 Maret 1990     | Aceh                       | Langsa , Aceh                             |\n| Yansen | Cilegon                         | 14 Januari 1981   | Banten                     | Cilegon , Banten                          |\n| Yati   | Langsa                          | 20 September 1995 | Aceh                       | Langsa , Aceh                             |\n| Yudhi  | Yogyakarta                      | 29 Maret 1992     | Daerah Istimewa Yogyakarta | Yogyakarta , Daerah Istimewa Yogyakarta   |\n| Yuli   | Jambi                           | 11 Januari 1984   | Jambi                      | Jambi , Jambi                             |\n| Zahra  | Langsa                          | 25 Juli 2002      | Aceh                       | Langsa , Aceh                             |\n| Zaki   | Cirebon                         | 31 Maret 1999     | Jawa Barat                 | Cirebon , Jawa Barat                      |\n\n",
            "text/latex": "A data.frame: 69 × 5\n\\begin{tabular}{lllll}\n Nama & Tempat\\_Lahir & Tanggal\\_Lahir & Provinsi & kota\\_provinsi\\\\\n <chr> & <chr> & <chr> & <chr> & <chr>\\\\\n\\hline\n\t Agung             & Semarang                          & 03 Juni 1992      & Jawa Tengah        & Semarang , Jawa Tengah                     \\\\\n\t Agus              & Probolinggo                       & 19 Juni 1989      & Jawa Timur         & Probolinggo , Jawa Timur                   \\\\\n\t Andi              & Pangkalpinang                     & 11 April 1994     & Bangka Belitung    & Pangkalpinang , Bangka Belitung            \\\\\n\t Andika            & Surabaya                          & 24 Mei 1999       & Jawa Timur         & Surabaya , Jawa Timur                      \\\\\n\t Anggun            & Kota Administrasi Jakarta Pusat   & 13 Juni 1981      & Jakarta            & Kota Administrasi Jakarta Pusat , Jakarta  \\\\\n\t Ardi              & Depok                             & 16 Agustus 1984   & Jawa Barat         & Depok , Jawa Barat                         \\\\\n\t Asep              & Malang                            & 16 Agustus 1996   & Jawa Timur         & Malang , Jawa Timur                        \\\\\n\t Ayu               & Batu                              & 22 Februari 2002  & Jawa Timur         & Batu , Jawa Timur                          \\\\\n\t Bagus             & Banda Aceh                        & 10 Juli 1995      & Aceh               & Banda Aceh , Aceh                          \\\\\n\t Bambang           & Kota Administrasi Jakarta Utara   & 01 Oktober 1991   & Jakarta            & Kota Administrasi Jakarta Utara , Jakarta  \\\\\n\t Bayu              & Sabang                            & 05 Februari 1987  & Aceh               & Sabang , Aceh                              \\\\\n\t Bella             & Pasuruan                          & 17 April 1992     & Jawa Timur         & Pasuruan , Jawa Timur                      \\\\\n\t Citra             & Banjarmasin                       & 12 Desember 1986  & Kalimantan Selatan & Banjarmasin , Kalimantan Selatan           \\\\\n\t Deni              & Denpasar                          & 14 Februari 1996  & Bali               & Denpasar , Bali                            \\\\\n\t Diki              & Semarang                          & 21 Juli 1987      & Jawa Tengah        & Semarang , Jawa Tengah                     \\\\\n\t Erlangga          & Tangerang Selatan                 & 31 Januari 1993   & Banten             & Tangerang Selatan , Banten                 \\\\\n\t Fajri             & Bogor                             & 06 Agustus 2003   & Jawa Barat         & Bogor , Jawa Barat                         \\\\\n\t Farah             & Tangerang Selatan                 & 06 Maret 1999     & Banten             & Tangerang Selatan , Banten                 \\\\\n\t Feri              & Banjarbaru                        & 17 September 1991 & Kalimantan Selatan & Banjarbaru , Kalimantan Selatan            \\\\\n\t Fitri             & Kota Administrasi Jakarta Utara   & 21 Januari 1982   & Jakarta            & Kota Administrasi Jakarta Utara , Jakarta  \\\\\n\t Galang            & Banjarmasin                       & 01 Juni 1993      & Kalimantan Selatan & Banjarmasin , Kalimantan Selatan           \\\\\n\t Gunawan (0834755) & Tegal                             & 18 November 1993  & Jawa Tengah        & Tegal , Jawa Tengah                        \\\\\n\t Hadi              & Depok                             & 07 Juli 1983      & Jawa Barat         & Depok , Jawa Barat                         \\\\\n\t Hasan             & Kota Administrasi Jakarta Selatan & 25 Juni 1992      & Jakarta            & Kota Administrasi Jakarta Selatan , Jakarta\\\\\n\t Hengky            & Tangerang                         & 21 Desember 1990  & Banten             & Tangerang , Banten                         \\\\\n\t Indah             & Madiun                            & 28 Juli 1991      & Jawa Timur         & Madiun , Jawa Timur                        \\\\\n\t Iqbal             & Pekalongan                        & 11 Oktober 1997   & Jawa Tengah        & Pekalongan , Jawa Tengah                   \\\\\n\t Jaya              & Sungai Penuh                      & 23 April 2005     & Jambi              & Sungai Penuh , Jambi                       \\\\\n\t Kardi             & Cimahi                            & 25 Juni 1992      & Jawa Barat         & Cimahi , Jawa Barat                        \\\\\n\t Komang            & Semarang                          & 31 Agustus 1998   & Jawa Tengah        & Semarang , Jawa Tengah                     \\\\\n\t ⋮ & ⋮ & ⋮ & ⋮ & ⋮\\\\\n\t Putra  & Tangerang                       & 07 Agustus 1996   & Banten                     & Tangerang , Banten                       \\\\\n\t Putri  & Kota Administrasi Jakarta Timur & 29 Desember 2002  & Jakarta                    & Kota Administrasi Jakarta Timur , Jakarta\\\\\n\t Rafi   & Subulussalam                    & 25 Februari 1991  & Aceh                       & Subulussalam , Aceh                      \\\\\n\t Rahma  & Sabang                          & 22 September 1990 & Aceh                       & Sabang , Aceh                            \\\\\n\t Rahmad & Probolinggo                     & 22 September 2003 & Jawa Timur                 & Probolinggo , Jawa Timur                 \\\\\n\t Randi  & Bekasi                          & 20 April 1985     & Jawa Barat                 & Bekasi , Jawa Barat                      \\\\\n\t Rasyid & Bandung                         & 25 Agustus 1985   & Jawa Barat                 & Bandung , Jawa Barat                     \\\\\n\t Rian   & Bekasi                          & 16 Januari 1987   & Jawa Barat                 & Bekasi , Jawa Barat                      \\\\\n\t Rita   & Singkawang                      & 01 Desember 2004  & Kalimantan Barat           & Singkawang , Kalimantan Barat            \\\\\n\t Rizki  & Cimahi                          & 16 Februari 1991  & Jawa Barat                 & Cimahi , Jawa Barat                      \\\\\n\t Sandi  & Sukabumi                        & 01 Februari 1985  & Jawa Barat                 & Sukabumi , Jawa Barat                    \\\\\n\t Sarah  & Bengkulu                        & 15 November 1980  & Bengkulu                   & Bengkulu , Bengkulu                      \\\\\n\t Silvia & Malang                          & 06 Januari 1996   & Jawa Timur                 & Malang , Jawa Timur                      \\\\\n\t Siti   & Cimahi                          & 30 Januari 1985   & Jawa Barat                 & Cimahi , Jawa Barat                      \\\\\n\t Sri    & Pangkalpinang                   & 22 Juli 1990      & Bangka Belitung            & Pangkalpinang , Bangka Belitung          \\\\\n\t Tasya  & Singkawang                      & 15 Oktober 1987   & Kalimantan Barat           & Singkawang , Kalimantan Barat            \\\\\n\t Tia    & Kota Administrasi Jakarta Utara & 26 Desember 1985  & Jakarta                    & Kota Administrasi Jakarta Utara , Jakarta\\\\\n\t Tiara  & Madiun                          & 11 April 1992     & Jawa Timur                 & Madiun , Jawa Timur                      \\\\\n\t Tika   & Cirebon                         & 07 April 1981     & Jawa Barat                 & Cirebon , Jawa Barat                     \\\\\n\t Tri    & Batu                            & 26 Januari 1994   & Jawa Timur                 & Batu , Jawa Timur                        \\\\\n\t Ujang  & Depok                           & 04 Juli 1999      & Jawa Barat                 & Depok , Jawa Barat                       \\\\\n\t Wahyu  & Mojokerto                       & 17 Maret 2000     & Jawa Timur                 & Mojokerto , Jawa Timur                   \\\\\n\t Wardi  & Jambi                           & 23 Mei 1985       & Jambi                      & Jambi , Jambi                            \\\\\n\t Wulan  & Langsa                          & 09 Maret 1990     & Aceh                       & Langsa , Aceh                            \\\\\n\t Yansen & Cilegon                         & 14 Januari 1981   & Banten                     & Cilegon , Banten                         \\\\\n\t Yati   & Langsa                          & 20 September 1995 & Aceh                       & Langsa , Aceh                            \\\\\n\t Yudhi  & Yogyakarta                      & 29 Maret 1992     & Daerah Istimewa Yogyakarta & Yogyakarta , Daerah Istimewa Yogyakarta  \\\\\n\t Yuli   & Jambi                           & 11 Januari 1984   & Jambi                      & Jambi , Jambi                            \\\\\n\t Zahra  & Langsa                          & 25 Juli 2002      & Aceh                       & Langsa , Aceh                            \\\\\n\t Zaki   & Cirebon                         & 31 Maret 1999     & Jawa Barat                 & Cirebon , Jawa Barat                     \\\\\n\\end{tabular}\n",
            "text/plain": [
              "   Nama              Tempat_Lahir                      Tanggal_Lahir    \n",
              "1  Agung             Semarang                          03 Juni 1992     \n",
              "2  Agus              Probolinggo                       19 Juni 1989     \n",
              "3  Andi              Pangkalpinang                     11 April 1994    \n",
              "4  Andika            Surabaya                          24 Mei 1999      \n",
              "5  Anggun            Kota Administrasi Jakarta Pusat   13 Juni 1981     \n",
              "6  Ardi              Depok                             16 Agustus 1984  \n",
              "7  Asep              Malang                            16 Agustus 1996  \n",
              "8  Ayu               Batu                              22 Februari 2002 \n",
              "9  Bagus             Banda Aceh                        10 Juli 1995     \n",
              "10 Bambang           Kota Administrasi Jakarta Utara   01 Oktober 1991  \n",
              "11 Bayu              Sabang                            05 Februari 1987 \n",
              "12 Bella             Pasuruan                          17 April 1992    \n",
              "13 Citra             Banjarmasin                       12 Desember 1986 \n",
              "14 Deni              Denpasar                          14 Februari 1996 \n",
              "15 Diki              Semarang                          21 Juli 1987     \n",
              "16 Erlangga          Tangerang Selatan                 31 Januari 1993  \n",
              "17 Fajri             Bogor                             06 Agustus 2003  \n",
              "18 Farah             Tangerang Selatan                 06 Maret 1999    \n",
              "19 Feri              Banjarbaru                        17 September 1991\n",
              "20 Fitri             Kota Administrasi Jakarta Utara   21 Januari 1982  \n",
              "21 Galang            Banjarmasin                       01 Juni 1993     \n",
              "22 Gunawan (0834755) Tegal                             18 November 1993 \n",
              "23 Hadi              Depok                             07 Juli 1983     \n",
              "24 Hasan             Kota Administrasi Jakarta Selatan 25 Juni 1992     \n",
              "25 Hengky            Tangerang                         21 Desember 1990 \n",
              "26 Indah             Madiun                            28 Juli 1991     \n",
              "27 Iqbal             Pekalongan                        11 Oktober 1997  \n",
              "28 Jaya              Sungai Penuh                      23 April 2005    \n",
              "29 Kardi             Cimahi                            25 Juni 1992     \n",
              "30 Komang            Semarang                          31 Agustus 1998  \n",
              "⋮  ⋮                 ⋮                                 ⋮                \n",
              "40 Putra             Tangerang                         07 Agustus 1996  \n",
              "41 Putri             Kota Administrasi Jakarta Timur   29 Desember 2002 \n",
              "42 Rafi              Subulussalam                      25 Februari 1991 \n",
              "43 Rahma             Sabang                            22 September 1990\n",
              "44 Rahmad            Probolinggo                       22 September 2003\n",
              "45 Randi             Bekasi                            20 April 1985    \n",
              "46 Rasyid            Bandung                           25 Agustus 1985  \n",
              "47 Rian              Bekasi                            16 Januari 1987  \n",
              "48 Rita              Singkawang                        01 Desember 2004 \n",
              "49 Rizki             Cimahi                            16 Februari 1991 \n",
              "50 Sandi             Sukabumi                          01 Februari 1985 \n",
              "51 Sarah             Bengkulu                          15 November 1980 \n",
              "52 Silvia            Malang                            06 Januari 1996  \n",
              "53 Siti              Cimahi                            30 Januari 1985  \n",
              "54 Sri               Pangkalpinang                     22 Juli 1990     \n",
              "55 Tasya             Singkawang                        15 Oktober 1987  \n",
              "56 Tia               Kota Administrasi Jakarta Utara   26 Desember 1985 \n",
              "57 Tiara             Madiun                            11 April 1992    \n",
              "58 Tika              Cirebon                           07 April 1981    \n",
              "59 Tri               Batu                              26 Januari 1994  \n",
              "60 Ujang             Depok                             04 Juli 1999     \n",
              "61 Wahyu             Mojokerto                         17 Maret 2000    \n",
              "62 Wardi             Jambi                             23 Mei 1985      \n",
              "63 Wulan             Langsa                            09 Maret 1990    \n",
              "64 Yansen            Cilegon                           14 Januari 1981  \n",
              "65 Yati              Langsa                            20 September 1995\n",
              "66 Yudhi             Yogyakarta                        29 Maret 1992    \n",
              "67 Yuli              Jambi                             11 Januari 1984  \n",
              "68 Zahra             Langsa                            25 Juli 2002     \n",
              "69 Zaki              Cirebon                           31 Maret 1999    \n",
              "   Provinsi                   kota_provinsi                              \n",
              "1  Jawa Tengah                Semarang , Jawa Tengah                     \n",
              "2  Jawa Timur                 Probolinggo , Jawa Timur                   \n",
              "3  Bangka Belitung            Pangkalpinang , Bangka Belitung            \n",
              "4  Jawa Timur                 Surabaya , Jawa Timur                      \n",
              "5  Jakarta                    Kota Administrasi Jakarta Pusat , Jakarta  \n",
              "6  Jawa Barat                 Depok , Jawa Barat                         \n",
              "7  Jawa Timur                 Malang , Jawa Timur                        \n",
              "8  Jawa Timur                 Batu , Jawa Timur                          \n",
              "9  Aceh                       Banda Aceh , Aceh                          \n",
              "10 Jakarta                    Kota Administrasi Jakarta Utara , Jakarta  \n",
              "11 Aceh                       Sabang , Aceh                              \n",
              "12 Jawa Timur                 Pasuruan , Jawa Timur                      \n",
              "13 Kalimantan Selatan         Banjarmasin , Kalimantan Selatan           \n",
              "14 Bali                       Denpasar , Bali                            \n",
              "15 Jawa Tengah                Semarang , Jawa Tengah                     \n",
              "16 Banten                     Tangerang Selatan , Banten                 \n",
              "17 Jawa Barat                 Bogor , Jawa Barat                         \n",
              "18 Banten                     Tangerang Selatan , Banten                 \n",
              "19 Kalimantan Selatan         Banjarbaru , Kalimantan Selatan            \n",
              "20 Jakarta                    Kota Administrasi Jakarta Utara , Jakarta  \n",
              "21 Kalimantan Selatan         Banjarmasin , Kalimantan Selatan           \n",
              "22 Jawa Tengah                Tegal , Jawa Tengah                        \n",
              "23 Jawa Barat                 Depok , Jawa Barat                         \n",
              "24 Jakarta                    Kota Administrasi Jakarta Selatan , Jakarta\n",
              "25 Banten                     Tangerang , Banten                         \n",
              "26 Jawa Timur                 Madiun , Jawa Timur                        \n",
              "27 Jawa Tengah                Pekalongan , Jawa Tengah                   \n",
              "28 Jambi                      Sungai Penuh , Jambi                       \n",
              "29 Jawa Barat                 Cimahi , Jawa Barat                        \n",
              "30 Jawa Tengah                Semarang , Jawa Tengah                     \n",
              "⋮  ⋮                          ⋮                                          \n",
              "40 Banten                     Tangerang , Banten                         \n",
              "41 Jakarta                    Kota Administrasi Jakarta Timur , Jakarta  \n",
              "42 Aceh                       Subulussalam , Aceh                        \n",
              "43 Aceh                       Sabang , Aceh                              \n",
              "44 Jawa Timur                 Probolinggo , Jawa Timur                   \n",
              "45 Jawa Barat                 Bekasi , Jawa Barat                        \n",
              "46 Jawa Barat                 Bandung , Jawa Barat                       \n",
              "47 Jawa Barat                 Bekasi , Jawa Barat                        \n",
              "48 Kalimantan Barat           Singkawang , Kalimantan Barat              \n",
              "49 Jawa Barat                 Cimahi , Jawa Barat                        \n",
              "50 Jawa Barat                 Sukabumi , Jawa Barat                      \n",
              "51 Bengkulu                   Bengkulu , Bengkulu                        \n",
              "52 Jawa Timur                 Malang , Jawa Timur                        \n",
              "53 Jawa Barat                 Cimahi , Jawa Barat                        \n",
              "54 Bangka Belitung            Pangkalpinang , Bangka Belitung            \n",
              "55 Kalimantan Barat           Singkawang , Kalimantan Barat              \n",
              "56 Jakarta                    Kota Administrasi Jakarta Utara , Jakarta  \n",
              "57 Jawa Timur                 Madiun , Jawa Timur                        \n",
              "58 Jawa Barat                 Cirebon , Jawa Barat                       \n",
              "59 Jawa Timur                 Batu , Jawa Timur                          \n",
              "60 Jawa Barat                 Depok , Jawa Barat                         \n",
              "61 Jawa Timur                 Mojokerto , Jawa Timur                     \n",
              "62 Jambi                      Jambi , Jambi                              \n",
              "63 Aceh                       Langsa , Aceh                              \n",
              "64 Banten                     Cilegon , Banten                           \n",
              "65 Aceh                       Langsa , Aceh                              \n",
              "66 Daerah Istimewa Yogyakarta Yogyakarta , Daerah Istimewa Yogyakarta    \n",
              "67 Jambi                      Jambi , Jambi                              \n",
              "68 Aceh                       Langsa , Aceh                              \n",
              "69 Jawa Barat                 Cirebon , Jawa Barat                       "
            ]
          },
          "metadata": {}
        }
      ]
    }
  ]
}