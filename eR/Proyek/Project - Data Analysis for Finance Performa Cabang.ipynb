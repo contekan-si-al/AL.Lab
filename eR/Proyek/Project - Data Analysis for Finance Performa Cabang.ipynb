{
  "nbformat": 4,
  "nbformat_minor": 0,
  "metadata": {
    "colab": {
      "name": "Project Data Analysis for Finance: Performa Cabang.ipynb",
      "provenance": []
    },
    "kernelspec": {
      "name": "ir",
      "display_name": "R"
    },
    "language_info": {
      "name": "R"
    }
  },
  "cells": [
    {
      "cell_type": "markdown",
      "source": [
        "## Library dan Data yang digunakan"
      ],
      "metadata": {
        "id": "JIsMzoqqKv95"
      }
    },
    {
      "cell_type": "markdown",
      "source": [
        "#### [Data yang digunakan](https://academy.dqlab.id/main/projectcode/215/398/1993?pr=0)"
      ],
      "metadata": {
        "id": "HHZ0sfObK5fj"
      }
    },
    {
      "cell_type": "code",
      "source": [
        "df_loan <- read.csv('https://storage.googleapis.com/dqlab-dataset/loan_disbursement.csv', stringsAsFactors = F)\n",
        "\n",
        "dplyr::glimpse(df_loan)"
      ],
      "metadata": {
        "colab": {
          "base_uri": "https://localhost:8080/"
        },
        "id": "OpeN2QqyK-FH",
        "outputId": "a054a097-1ed3-4589-c896-7857eea63a14"
      },
      "execution_count": 2,
      "outputs": [
        {
          "output_type": "stream",
          "name": "stdout",
          "text": [
            "Rows: 9,754\n",
            "Columns: 5\n",
            "$ loan_id      \u001b[3m\u001b[90m<int>\u001b[39m\u001b[23m 1, 2, 3, 4, 5, 6, 7, 8, 9, 10, 11, 12, 13, 14, 15, 16, 17…\n",
            "$ tanggal_cair \u001b[3m\u001b[90m<chr>\u001b[39m\u001b[23m \"2020-01-06\", \"2020-01-06\", \"2020-01-06\", \"2020-01-06\", \"…\n",
            "$ cabang       \u001b[3m\u001b[90m<chr>\u001b[39m\u001b[23m \"AA\", \"AA\", \"AA\", \"AA\", \"AA\", \"AA\", \"AB\", \"AB\", \"AB\", \"AB…\n",
            "$ agen         \u001b[3m\u001b[90m<chr>\u001b[39m\u001b[23m \"AA-1\", \"AA-1\", \"AA-1\", \"AA-2\", \"AA-2\", \"AA-2\", \"AB-1\", \"…\n",
            "$ amount       \u001b[3m\u001b[90m<int>\u001b[39m\u001b[23m 320000, 440000, 200000, 430000, 360000, 220000, 320000, 4…\n"
          ]
        }
      ]
    },
    {
      "cell_type": "markdown",
      "source": [
        "## Summary data bulan lalu (Mei 2020)"
      ],
      "metadata": {
        "id": "snLhMM5_LKqo"
      }
    },
    {
      "cell_type": "markdown",
      "source": [
        "#### [Memfilter data bulan Mei 2020, dan jumlahkan data per cabang](https://academy.dqlab.id/main/livecode/215/399/1994?pr=0)"
      ],
      "metadata": {
        "id": "tW6UOpCFLX0O"
      }
    },
    {
      "cell_type": "code",
      "source": [
        "library(dplyr)\n",
        "\n",
        "df_loan_mei <- df_loan %>% \n",
        "  filter(tanggal_cair >= '2020-05-01', tanggal_cair <= '2020-05-31') %>% \n",
        "  group_by(cabang) %>% \n",
        "  summarise(total_amount = sum(amount))\n",
        "  \n",
        "df_loan_mei"
      ],
      "metadata": {
        "colab": {
          "base_uri": "https://localhost:8080/",
          "height": 788
        },
        "id": "SDpwWUWWLc4b",
        "outputId": "c95c64c5-695f-4c63-dfde-e4f7c672473a"
      },
      "execution_count": 3,
      "outputs": [
        {
          "output_type": "display_data",
          "data": {
            "text/html": [
              "<table class=\"dataframe\">\n",
              "<caption>A tibble: 22 × 2</caption>\n",
              "<thead>\n",
              "\t<tr><th scope=col>cabang</th><th scope=col>total_amount</th></tr>\n",
              "\t<tr><th scope=col>&lt;chr&gt;</th><th scope=col>&lt;int&gt;</th></tr>\n",
              "</thead>\n",
              "<tbody>\n",
              "\t<tr><td>AA</td><td>75710000</td></tr>\n",
              "\t<tr><td>AB</td><td>81440000</td></tr>\n",
              "\t<tr><td>AC</td><td>83990000</td></tr>\n",
              "\t<tr><td>AD</td><td>76080000</td></tr>\n",
              "\t<tr><td>AE</td><td>54200000</td></tr>\n",
              "\t<tr><td>AF</td><td>68040000</td></tr>\n",
              "\t<tr><td>AG</td><td>74080000</td></tr>\n",
              "\t<tr><td>AH</td><td>73840000</td></tr>\n",
              "\t<tr><td>AI</td><td>46640000</td></tr>\n",
              "\t<tr><td>AJ</td><td>43580000</td></tr>\n",
              "\t<tr><td>AK</td><td>44590000</td></tr>\n",
              "\t<tr><td>AL</td><td>40650000</td></tr>\n",
              "\t<tr><td>AM</td><td>44010000</td></tr>\n",
              "\t<tr><td>AN</td><td>39700000</td></tr>\n",
              "\t<tr><td>AO</td><td>39120000</td></tr>\n",
              "\t<tr><td>AP</td><td>44740000</td></tr>\n",
              "\t<tr><td>AQ</td><td>39190000</td></tr>\n",
              "\t<tr><td>AR</td><td>44230000</td></tr>\n",
              "\t<tr><td>AS</td><td>31740000</td></tr>\n",
              "\t<tr><td>AT</td><td>34840000</td></tr>\n",
              "\t<tr><td>AU</td><td>35610000</td></tr>\n",
              "\t<tr><td>AV</td><td>30280000</td></tr>\n",
              "</tbody>\n",
              "</table>\n"
            ],
            "text/markdown": "\nA tibble: 22 × 2\n\n| cabang &lt;chr&gt; | total_amount &lt;int&gt; |\n|---|---|\n| AA | 75710000 |\n| AB | 81440000 |\n| AC | 83990000 |\n| AD | 76080000 |\n| AE | 54200000 |\n| AF | 68040000 |\n| AG | 74080000 |\n| AH | 73840000 |\n| AI | 46640000 |\n| AJ | 43580000 |\n| AK | 44590000 |\n| AL | 40650000 |\n| AM | 44010000 |\n| AN | 39700000 |\n| AO | 39120000 |\n| AP | 44740000 |\n| AQ | 39190000 |\n| AR | 44230000 |\n| AS | 31740000 |\n| AT | 34840000 |\n| AU | 35610000 |\n| AV | 30280000 |\n\n",
            "text/latex": "A tibble: 22 × 2\n\\begin{tabular}{ll}\n cabang & total\\_amount\\\\\n <chr> & <int>\\\\\n\\hline\n\t AA & 75710000\\\\\n\t AB & 81440000\\\\\n\t AC & 83990000\\\\\n\t AD & 76080000\\\\\n\t AE & 54200000\\\\\n\t AF & 68040000\\\\\n\t AG & 74080000\\\\\n\t AH & 73840000\\\\\n\t AI & 46640000\\\\\n\t AJ & 43580000\\\\\n\t AK & 44590000\\\\\n\t AL & 40650000\\\\\n\t AM & 44010000\\\\\n\t AN & 39700000\\\\\n\t AO & 39120000\\\\\n\t AP & 44740000\\\\\n\t AQ & 39190000\\\\\n\t AR & 44230000\\\\\n\t AS & 31740000\\\\\n\t AT & 34840000\\\\\n\t AU & 35610000\\\\\n\t AV & 30280000\\\\\n\\end{tabular}\n",
            "text/plain": [
              "   cabang total_amount\n",
              "1  AA     75710000    \n",
              "2  AB     81440000    \n",
              "3  AC     83990000    \n",
              "4  AD     76080000    \n",
              "5  AE     54200000    \n",
              "6  AF     68040000    \n",
              "7  AG     74080000    \n",
              "8  AH     73840000    \n",
              "9  AI     46640000    \n",
              "10 AJ     43580000    \n",
              "11 AK     44590000    \n",
              "12 AL     40650000    \n",
              "13 AM     44010000    \n",
              "14 AN     39700000    \n",
              "15 AO     39120000    \n",
              "16 AP     44740000    \n",
              "17 AQ     39190000    \n",
              "18 AR     44230000    \n",
              "19 AS     31740000    \n",
              "20 AT     34840000    \n",
              "21 AU     35610000    \n",
              "22 AV     30280000    "
            ]
          },
          "metadata": {}
        }
      ]
    },
    {
      "cell_type": "markdown",
      "source": [
        "#### [Tampilkan data 5 cabang dengan total amount paling besar](https://academy.dqlab.id/main/livecode/215/399/1995?pr=0)"
      ],
      "metadata": {
        "id": "YL7vrqKZLjmP"
      }
    },
    {
      "cell_type": "code",
      "source": [
        "library(scales)\n",
        "\n",
        "df_loan_mei %>% \n",
        "  arrange(desc(total_amount)) %>% \n",
        "  mutate(total_amount = comma(total_amount)) %>% \n",
        "  head(5)"
      ],
      "metadata": {
        "colab": {
          "base_uri": "https://localhost:8080/",
          "height": 255
        },
        "id": "JkQecvfHLrVM",
        "outputId": "84037a84-daf1-42a9-ef0f-97db8ccfea66"
      },
      "execution_count": 4,
      "outputs": [
        {
          "output_type": "display_data",
          "data": {
            "text/html": [
              "<table class=\"dataframe\">\n",
              "<caption>A tibble: 5 × 2</caption>\n",
              "<thead>\n",
              "\t<tr><th scope=col>cabang</th><th scope=col>total_amount</th></tr>\n",
              "\t<tr><th scope=col>&lt;chr&gt;</th><th scope=col>&lt;chr&gt;</th></tr>\n",
              "</thead>\n",
              "<tbody>\n",
              "\t<tr><td>AC</td><td>83,990,000</td></tr>\n",
              "\t<tr><td>AB</td><td>81,440,000</td></tr>\n",
              "\t<tr><td>AD</td><td>76,080,000</td></tr>\n",
              "\t<tr><td>AA</td><td>75,710,000</td></tr>\n",
              "\t<tr><td>AG</td><td>74,080,000</td></tr>\n",
              "</tbody>\n",
              "</table>\n"
            ],
            "text/markdown": "\nA tibble: 5 × 2\n\n| cabang &lt;chr&gt; | total_amount &lt;chr&gt; |\n|---|---|\n| AC | 83,990,000 |\n| AB | 81,440,000 |\n| AD | 76,080,000 |\n| AA | 75,710,000 |\n| AG | 74,080,000 |\n\n",
            "text/latex": "A tibble: 5 × 2\n\\begin{tabular}{ll}\n cabang & total\\_amount\\\\\n <chr> & <chr>\\\\\n\\hline\n\t AC & 83,990,000\\\\\n\t AB & 81,440,000\\\\\n\t AD & 76,080,000\\\\\n\t AA & 75,710,000\\\\\n\t AG & 74,080,000\\\\\n\\end{tabular}\n",
            "text/plain": [
              "  cabang total_amount\n",
              "1 AC     83,990,000  \n",
              "2 AB     81,440,000  \n",
              "3 AD     76,080,000  \n",
              "4 AA     75,710,000  \n",
              "5 AG     74,080,000  "
            ]
          },
          "metadata": {}
        }
      ]
    },
    {
      "cell_type": "markdown",
      "source": [
        "#### [Tampilkan data 5 cabang dengan total amount paling kecil](https://academy.dqlab.id/main/livecode/215/399/1996?pr=0)"
      ],
      "metadata": {
        "id": "D4UYmg1bL3N_"
      }
    },
    {
      "cell_type": "code",
      "source": [
        "df_loan_mei %>% \n",
        "  arrange(total_amount) %>% \n",
        "  mutate(total_amount = comma(total_amount)) %>% \n",
        "  head(5)"
      ],
      "metadata": {
        "colab": {
          "base_uri": "https://localhost:8080/",
          "height": 255
        },
        "id": "RUdiSQL2L7Vq",
        "outputId": "df22fdf5-84fa-4ad1-88f7-30e9df925ae3"
      },
      "execution_count": 5,
      "outputs": [
        {
          "output_type": "display_data",
          "data": {
            "text/html": [
              "<table class=\"dataframe\">\n",
              "<caption>A tibble: 5 × 2</caption>\n",
              "<thead>\n",
              "\t<tr><th scope=col>cabang</th><th scope=col>total_amount</th></tr>\n",
              "\t<tr><th scope=col>&lt;chr&gt;</th><th scope=col>&lt;chr&gt;</th></tr>\n",
              "</thead>\n",
              "<tbody>\n",
              "\t<tr><td>AV</td><td>30,280,000</td></tr>\n",
              "\t<tr><td>AS</td><td>31,740,000</td></tr>\n",
              "\t<tr><td>AT</td><td>34,840,000</td></tr>\n",
              "\t<tr><td>AU</td><td>35,610,000</td></tr>\n",
              "\t<tr><td>AO</td><td>39,120,000</td></tr>\n",
              "</tbody>\n",
              "</table>\n"
            ],
            "text/markdown": "\nA tibble: 5 × 2\n\n| cabang &lt;chr&gt; | total_amount &lt;chr&gt; |\n|---|---|\n| AV | 30,280,000 |\n| AS | 31,740,000 |\n| AT | 34,840,000 |\n| AU | 35,610,000 |\n| AO | 39,120,000 |\n\n",
            "text/latex": "A tibble: 5 × 2\n\\begin{tabular}{ll}\n cabang & total\\_amount\\\\\n <chr> & <chr>\\\\\n\\hline\n\t AV & 30,280,000\\\\\n\t AS & 31,740,000\\\\\n\t AT & 34,840,000\\\\\n\t AU & 35,610,000\\\\\n\t AO & 39,120,000\\\\\n\\end{tabular}\n",
            "text/plain": [
              "  cabang total_amount\n",
              "1 AV     30,280,000  \n",
              "2 AS     31,740,000  \n",
              "3 AT     34,840,000  \n",
              "4 AU     35,610,000  \n",
              "5 AO     39,120,000  "
            ]
          },
          "metadata": {}
        }
      ]
    },
    {
      "cell_type": "markdown",
      "source": [
        "Terjadi perbedaan yang sangat signifikan antara top 5 dengan bottom 5. Hal ini mungkin karena umur cabang yang berbeda beda karena ada pertumbuhan cabang baru setiap bulannya."
      ],
      "metadata": {
        "id": "0PUGkNlQMEuS"
      }
    },
    {
      "cell_type": "markdown",
      "source": [
        "## Melihat hubungan umur cabang dengan total amount"
      ],
      "metadata": {
        "id": "DxBiF442LMDm"
      }
    },
    {
      "cell_type": "markdown",
      "source": [
        "#### [Menghitung umur cabang (dalam bulan)](https://academy.dqlab.id/main/livecode/215/400/1998?pr=0)"
      ],
      "metadata": {
        "id": "Ht7msicfMTvg"
      }
    },
    {
      "cell_type": "code",
      "source": [
        "df_cabang_umur <- df_loan %>%\n",
        "  group_by(cabang) %>% \n",
        "  summarise(pertama_cair = min(tanggal_cair)) %>% \n",
        "  mutate(umur = as.numeric(as.Date('2020-05-15') - as.Date(pertama_cair)) %/% 30) \n",
        "\n",
        "df_cabang_umur"
      ],
      "metadata": {
        "colab": {
          "base_uri": "https://localhost:8080/",
          "height": 788
        },
        "id": "mb7VQKtIMXZ2",
        "outputId": "cb1d6001-7a46-4111-e72f-ce80ca5c8745"
      },
      "execution_count": 6,
      "outputs": [
        {
          "output_type": "display_data",
          "data": {
            "text/html": [
              "<table class=\"dataframe\">\n",
              "<caption>A tibble: 22 × 3</caption>\n",
              "<thead>\n",
              "\t<tr><th scope=col>cabang</th><th scope=col>pertama_cair</th><th scope=col>umur</th></tr>\n",
              "\t<tr><th scope=col>&lt;chr&gt;</th><th scope=col>&lt;chr&gt;</th><th scope=col>&lt;dbl&gt;</th></tr>\n",
              "</thead>\n",
              "<tbody>\n",
              "\t<tr><td>AA</td><td>2020-01-06</td><td>4</td></tr>\n",
              "\t<tr><td>AB</td><td>2020-01-06</td><td>4</td></tr>\n",
              "\t<tr><td>AC</td><td>2020-01-06</td><td>4</td></tr>\n",
              "\t<tr><td>AD</td><td>2020-01-06</td><td>4</td></tr>\n",
              "\t<tr><td>AE</td><td>2020-02-03</td><td>3</td></tr>\n",
              "\t<tr><td>AF</td><td>2020-02-03</td><td>3</td></tr>\n",
              "\t<tr><td>AG</td><td>2020-02-03</td><td>3</td></tr>\n",
              "\t<tr><td>AH</td><td>2020-02-03</td><td>3</td></tr>\n",
              "\t<tr><td>AI</td><td>2020-03-02</td><td>2</td></tr>\n",
              "\t<tr><td>AJ</td><td>2020-03-02</td><td>2</td></tr>\n",
              "\t<tr><td>AK</td><td>2020-03-02</td><td>2</td></tr>\n",
              "\t<tr><td>AL</td><td>2020-03-02</td><td>2</td></tr>\n",
              "\t<tr><td>AM</td><td>2020-03-02</td><td>2</td></tr>\n",
              "\t<tr><td>AN</td><td>2020-04-06</td><td>1</td></tr>\n",
              "\t<tr><td>AO</td><td>2020-04-06</td><td>1</td></tr>\n",
              "\t<tr><td>AP</td><td>2020-04-06</td><td>1</td></tr>\n",
              "\t<tr><td>AQ</td><td>2020-04-06</td><td>1</td></tr>\n",
              "\t<tr><td>AR</td><td>2020-04-06</td><td>1</td></tr>\n",
              "\t<tr><td>AS</td><td>2020-05-04</td><td>0</td></tr>\n",
              "\t<tr><td>AT</td><td>2020-05-04</td><td>0</td></tr>\n",
              "\t<tr><td>AU</td><td>2020-05-04</td><td>0</td></tr>\n",
              "\t<tr><td>AV</td><td>2020-05-04</td><td>0</td></tr>\n",
              "</tbody>\n",
              "</table>\n"
            ],
            "text/markdown": "\nA tibble: 22 × 3\n\n| cabang &lt;chr&gt; | pertama_cair &lt;chr&gt; | umur &lt;dbl&gt; |\n|---|---|---|\n| AA | 2020-01-06 | 4 |\n| AB | 2020-01-06 | 4 |\n| AC | 2020-01-06 | 4 |\n| AD | 2020-01-06 | 4 |\n| AE | 2020-02-03 | 3 |\n| AF | 2020-02-03 | 3 |\n| AG | 2020-02-03 | 3 |\n| AH | 2020-02-03 | 3 |\n| AI | 2020-03-02 | 2 |\n| AJ | 2020-03-02 | 2 |\n| AK | 2020-03-02 | 2 |\n| AL | 2020-03-02 | 2 |\n| AM | 2020-03-02 | 2 |\n| AN | 2020-04-06 | 1 |\n| AO | 2020-04-06 | 1 |\n| AP | 2020-04-06 | 1 |\n| AQ | 2020-04-06 | 1 |\n| AR | 2020-04-06 | 1 |\n| AS | 2020-05-04 | 0 |\n| AT | 2020-05-04 | 0 |\n| AU | 2020-05-04 | 0 |\n| AV | 2020-05-04 | 0 |\n\n",
            "text/latex": "A tibble: 22 × 3\n\\begin{tabular}{lll}\n cabang & pertama\\_cair & umur\\\\\n <chr> & <chr> & <dbl>\\\\\n\\hline\n\t AA & 2020-01-06 & 4\\\\\n\t AB & 2020-01-06 & 4\\\\\n\t AC & 2020-01-06 & 4\\\\\n\t AD & 2020-01-06 & 4\\\\\n\t AE & 2020-02-03 & 3\\\\\n\t AF & 2020-02-03 & 3\\\\\n\t AG & 2020-02-03 & 3\\\\\n\t AH & 2020-02-03 & 3\\\\\n\t AI & 2020-03-02 & 2\\\\\n\t AJ & 2020-03-02 & 2\\\\\n\t AK & 2020-03-02 & 2\\\\\n\t AL & 2020-03-02 & 2\\\\\n\t AM & 2020-03-02 & 2\\\\\n\t AN & 2020-04-06 & 1\\\\\n\t AO & 2020-04-06 & 1\\\\\n\t AP & 2020-04-06 & 1\\\\\n\t AQ & 2020-04-06 & 1\\\\\n\t AR & 2020-04-06 & 1\\\\\n\t AS & 2020-05-04 & 0\\\\\n\t AT & 2020-05-04 & 0\\\\\n\t AU & 2020-05-04 & 0\\\\\n\t AV & 2020-05-04 & 0\\\\\n\\end{tabular}\n",
            "text/plain": [
              "   cabang pertama_cair umur\n",
              "1  AA     2020-01-06   4   \n",
              "2  AB     2020-01-06   4   \n",
              "3  AC     2020-01-06   4   \n",
              "4  AD     2020-01-06   4   \n",
              "5  AE     2020-02-03   3   \n",
              "6  AF     2020-02-03   3   \n",
              "7  AG     2020-02-03   3   \n",
              "8  AH     2020-02-03   3   \n",
              "9  AI     2020-03-02   2   \n",
              "10 AJ     2020-03-02   2   \n",
              "11 AK     2020-03-02   2   \n",
              "12 AL     2020-03-02   2   \n",
              "13 AM     2020-03-02   2   \n",
              "14 AN     2020-04-06   1   \n",
              "15 AO     2020-04-06   1   \n",
              "16 AP     2020-04-06   1   \n",
              "17 AQ     2020-04-06   1   \n",
              "18 AR     2020-04-06   1   \n",
              "19 AS     2020-05-04   0   \n",
              "20 AT     2020-05-04   0   \n",
              "21 AU     2020-05-04   0   \n",
              "22 AV     2020-05-04   0   "
            ]
          },
          "metadata": {}
        }
      ]
    },
    {
      "cell_type": "markdown",
      "source": [
        "#### [Gabungkan data umur dan performa mei](https://academy.dqlab.id/main/livecode/215/400/1999?pr=0)"
      ],
      "metadata": {
        "id": "0X7vSUmvMbDm"
      }
    },
    {
      "cell_type": "code",
      "source": [
        "df_loan_mei_umur <- df_cabang_umur %>%\n",
        "  inner_join(df_loan_mei, by = 'cabang')\n",
        "\n",
        "df_loan_mei_umur"
      ],
      "metadata": {
        "colab": {
          "base_uri": "https://localhost:8080/",
          "height": 788
        },
        "id": "YWzsaFXhMheo",
        "outputId": "ee947b15-3477-45de-e5f1-23f3376bf680"
      },
      "execution_count": 8,
      "outputs": [
        {
          "output_type": "display_data",
          "data": {
            "text/html": [
              "<table class=\"dataframe\">\n",
              "<caption>A tibble: 22 × 4</caption>\n",
              "<thead>\n",
              "\t<tr><th scope=col>cabang</th><th scope=col>pertama_cair</th><th scope=col>umur</th><th scope=col>total_amount</th></tr>\n",
              "\t<tr><th scope=col>&lt;chr&gt;</th><th scope=col>&lt;chr&gt;</th><th scope=col>&lt;dbl&gt;</th><th scope=col>&lt;int&gt;</th></tr>\n",
              "</thead>\n",
              "<tbody>\n",
              "\t<tr><td>AA</td><td>2020-01-06</td><td>4</td><td>75710000</td></tr>\n",
              "\t<tr><td>AB</td><td>2020-01-06</td><td>4</td><td>81440000</td></tr>\n",
              "\t<tr><td>AC</td><td>2020-01-06</td><td>4</td><td>83990000</td></tr>\n",
              "\t<tr><td>AD</td><td>2020-01-06</td><td>4</td><td>76080000</td></tr>\n",
              "\t<tr><td>AE</td><td>2020-02-03</td><td>3</td><td>54200000</td></tr>\n",
              "\t<tr><td>AF</td><td>2020-02-03</td><td>3</td><td>68040000</td></tr>\n",
              "\t<tr><td>AG</td><td>2020-02-03</td><td>3</td><td>74080000</td></tr>\n",
              "\t<tr><td>AH</td><td>2020-02-03</td><td>3</td><td>73840000</td></tr>\n",
              "\t<tr><td>AI</td><td>2020-03-02</td><td>2</td><td>46640000</td></tr>\n",
              "\t<tr><td>AJ</td><td>2020-03-02</td><td>2</td><td>43580000</td></tr>\n",
              "\t<tr><td>AK</td><td>2020-03-02</td><td>2</td><td>44590000</td></tr>\n",
              "\t<tr><td>AL</td><td>2020-03-02</td><td>2</td><td>40650000</td></tr>\n",
              "\t<tr><td>AM</td><td>2020-03-02</td><td>2</td><td>44010000</td></tr>\n",
              "\t<tr><td>AN</td><td>2020-04-06</td><td>1</td><td>39700000</td></tr>\n",
              "\t<tr><td>AO</td><td>2020-04-06</td><td>1</td><td>39120000</td></tr>\n",
              "\t<tr><td>AP</td><td>2020-04-06</td><td>1</td><td>44740000</td></tr>\n",
              "\t<tr><td>AQ</td><td>2020-04-06</td><td>1</td><td>39190000</td></tr>\n",
              "\t<tr><td>AR</td><td>2020-04-06</td><td>1</td><td>44230000</td></tr>\n",
              "\t<tr><td>AS</td><td>2020-05-04</td><td>0</td><td>31740000</td></tr>\n",
              "\t<tr><td>AT</td><td>2020-05-04</td><td>0</td><td>34840000</td></tr>\n",
              "\t<tr><td>AU</td><td>2020-05-04</td><td>0</td><td>35610000</td></tr>\n",
              "\t<tr><td>AV</td><td>2020-05-04</td><td>0</td><td>30280000</td></tr>\n",
              "</tbody>\n",
              "</table>\n"
            ],
            "text/markdown": "\nA tibble: 22 × 4\n\n| cabang &lt;chr&gt; | pertama_cair &lt;chr&gt; | umur &lt;dbl&gt; | total_amount &lt;int&gt; |\n|---|---|---|---|\n| AA | 2020-01-06 | 4 | 75710000 |\n| AB | 2020-01-06 | 4 | 81440000 |\n| AC | 2020-01-06 | 4 | 83990000 |\n| AD | 2020-01-06 | 4 | 76080000 |\n| AE | 2020-02-03 | 3 | 54200000 |\n| AF | 2020-02-03 | 3 | 68040000 |\n| AG | 2020-02-03 | 3 | 74080000 |\n| AH | 2020-02-03 | 3 | 73840000 |\n| AI | 2020-03-02 | 2 | 46640000 |\n| AJ | 2020-03-02 | 2 | 43580000 |\n| AK | 2020-03-02 | 2 | 44590000 |\n| AL | 2020-03-02 | 2 | 40650000 |\n| AM | 2020-03-02 | 2 | 44010000 |\n| AN | 2020-04-06 | 1 | 39700000 |\n| AO | 2020-04-06 | 1 | 39120000 |\n| AP | 2020-04-06 | 1 | 44740000 |\n| AQ | 2020-04-06 | 1 | 39190000 |\n| AR | 2020-04-06 | 1 | 44230000 |\n| AS | 2020-05-04 | 0 | 31740000 |\n| AT | 2020-05-04 | 0 | 34840000 |\n| AU | 2020-05-04 | 0 | 35610000 |\n| AV | 2020-05-04 | 0 | 30280000 |\n\n",
            "text/latex": "A tibble: 22 × 4\n\\begin{tabular}{llll}\n cabang & pertama\\_cair & umur & total\\_amount\\\\\n <chr> & <chr> & <dbl> & <int>\\\\\n\\hline\n\t AA & 2020-01-06 & 4 & 75710000\\\\\n\t AB & 2020-01-06 & 4 & 81440000\\\\\n\t AC & 2020-01-06 & 4 & 83990000\\\\\n\t AD & 2020-01-06 & 4 & 76080000\\\\\n\t AE & 2020-02-03 & 3 & 54200000\\\\\n\t AF & 2020-02-03 & 3 & 68040000\\\\\n\t AG & 2020-02-03 & 3 & 74080000\\\\\n\t AH & 2020-02-03 & 3 & 73840000\\\\\n\t AI & 2020-03-02 & 2 & 46640000\\\\\n\t AJ & 2020-03-02 & 2 & 43580000\\\\\n\t AK & 2020-03-02 & 2 & 44590000\\\\\n\t AL & 2020-03-02 & 2 & 40650000\\\\\n\t AM & 2020-03-02 & 2 & 44010000\\\\\n\t AN & 2020-04-06 & 1 & 39700000\\\\\n\t AO & 2020-04-06 & 1 & 39120000\\\\\n\t AP & 2020-04-06 & 1 & 44740000\\\\\n\t AQ & 2020-04-06 & 1 & 39190000\\\\\n\t AR & 2020-04-06 & 1 & 44230000\\\\\n\t AS & 2020-05-04 & 0 & 31740000\\\\\n\t AT & 2020-05-04 & 0 & 34840000\\\\\n\t AU & 2020-05-04 & 0 & 35610000\\\\\n\t AV & 2020-05-04 & 0 & 30280000\\\\\n\\end{tabular}\n",
            "text/plain": [
              "   cabang pertama_cair umur total_amount\n",
              "1  AA     2020-01-06   4    75710000    \n",
              "2  AB     2020-01-06   4    81440000    \n",
              "3  AC     2020-01-06   4    83990000    \n",
              "4  AD     2020-01-06   4    76080000    \n",
              "5  AE     2020-02-03   3    54200000    \n",
              "6  AF     2020-02-03   3    68040000    \n",
              "7  AG     2020-02-03   3    74080000    \n",
              "8  AH     2020-02-03   3    73840000    \n",
              "9  AI     2020-03-02   2    46640000    \n",
              "10 AJ     2020-03-02   2    43580000    \n",
              "11 AK     2020-03-02   2    44590000    \n",
              "12 AL     2020-03-02   2    40650000    \n",
              "13 AM     2020-03-02   2    44010000    \n",
              "14 AN     2020-04-06   1    39700000    \n",
              "15 AO     2020-04-06   1    39120000    \n",
              "16 AP     2020-04-06   1    44740000    \n",
              "17 AQ     2020-04-06   1    39190000    \n",
              "18 AR     2020-04-06   1    44230000    \n",
              "19 AS     2020-05-04   0    31740000    \n",
              "20 AT     2020-05-04   0    34840000    \n",
              "21 AU     2020-05-04   0    35610000    \n",
              "22 AV     2020-05-04   0    30280000    "
            ]
          },
          "metadata": {}
        }
      ]
    },
    {
      "cell_type": "markdown",
      "source": [
        "#### [Plot relasi umur dan performa mei](https://academy.dqlab.id/main/livecode/215/400/2000?pr=0)"
      ],
      "metadata": {
        "id": "bQWANyHvMkNO"
      }
    },
    {
      "cell_type": "code",
      "source": [
        "library(ggplot2)\n",
        "\n",
        "ggplot(df_loan_mei_umur, aes(x = umur, y = total_amount)) +\n",
        "  geom_point() +\n",
        "  scale_y_continuous(labels = scales::comma) +\n",
        "  labs(title = \"Semakin berumur, perfoma cabang akan semakin baik\",\n",
        "       x = \"Umur (bulan)\",\n",
        "       y = \"Total Amount\")"
      ],
      "metadata": {
        "colab": {
          "base_uri": "https://localhost:8080/",
          "height": 437
        },
        "id": "4gqUC59_Mr6H",
        "outputId": "a4a1e0d1-66dc-4e52-ece8-f569ec9d4be0"
      },
      "execution_count": 9,
      "outputs": [
        {
          "output_type": "display_data",
          "data": {
            "text/plain": [
              "plot without title"
            ],
            "image/png": "[encoded data removed]"
          },
          "metadata": {
            "image/png": {
              "width": 420,
              "height": 420
            }
          }
        }
      ]
    },
    {
      "cell_type": "markdown",
      "source": [
        "Terlihat bahwa ada pola semakin tua cabang, maka performa nya semakin baik.\n",
        "Hal ini karena cabang tersebut masih berkembang sehingga belum sampai pada performa maksimal.\n",
        "\n",
        "Akan tetapi pada masing - masing umur itu juga ada cabang yang performanya dibawah yang lain."
      ],
      "metadata": {
        "id": "jscV3fbyMzWU"
      }
    },
    {
      "cell_type": "markdown",
      "source": [
        "## Cabang dengan performa rendah pada kelompok umur"
      ],
      "metadata": {
        "id": "DoQVpVuFLOpG"
      }
    },
    {
      "cell_type": "markdown",
      "source": [
        "#### [Mencari cabang yang perfoma rendah untuk setiap umur](https://academy.dqlab.id/main/livecode/215/401/2002?pr=0)"
      ],
      "metadata": {
        "id": "AxYzqMRsM8Bi"
      }
    },
    {
      "cell_type": "code",
      "source": [
        "df_loan_mei_flag <- df_loan_mei_umur %>% \n",
        "  group_by(umur) %>% \n",
        "  mutate(Q1 = quantile(total_amount, 0.25),\n",
        "\t   Q3 = quantile(total_amount, 0.75),\n",
        "\t  IQR = (Q3-Q1)) %>%\n",
        "  mutate(flag = ifelse(total_amount < (Q1 - IQR), 'rendah','baik'))\n",
        "\n",
        "df_loan_mei_flag %>% \n",
        "  filter(flag == 'rendah') %>% \n",
        "  mutate_if(is.numeric, funs(comma))"
      ],
      "metadata": {
        "colab": {
          "base_uri": "https://localhost:8080/",
          "height": 439
        },
        "id": "IX_nNPBONC_j",
        "outputId": "f5485c71-cbfa-4994-86ac-6db50d526b88"
      },
      "execution_count": 10,
      "outputs": [
        {
          "output_type": "stream",
          "name": "stderr",
          "text": [
            "\u001b[1m\u001b[22m`mutate_if()` ignored the following grouping variables:\n",
            "\u001b[36m•\u001b[39m Column `umur`\n",
            "Warning message:\n",
            "“`funs()` was deprecated in dplyr 0.8.0.\n",
            "Please use a list of either functions or lambdas: \n",
            "\n",
            "  # Simple named list: \n",
            "  list(mean = mean, median = median)\n",
            "\n",
            "  # Auto named with `tibble::lst()`: \n",
            "  tibble::lst(mean, median)\n",
            "\n",
            "  # Using lambdas\n",
            "  list(~ mean(., trim = .2), ~ median(., na.rm = TRUE))\n",
            "\u001b[90mThis warning is displayed once every 8 hours.\u001b[39m\n",
            "\u001b[90mCall `lifecycle::last_lifecycle_warnings()` to see where this warning was generated.\u001b[39m”\n"
          ]
        },
        {
          "output_type": "display_data",
          "data": {
            "text/html": [
              "<table class=\"dataframe\">\n",
              "<caption>A grouped_df: 2 × 8</caption>\n",
              "<thead>\n",
              "\t<tr><th scope=col>cabang</th><th scope=col>pertama_cair</th><th scope=col>umur</th><th scope=col>total_amount</th><th scope=col>Q1</th><th scope=col>Q3</th><th scope=col>IQR</th><th scope=col>flag</th></tr>\n",
              "\t<tr><th scope=col>&lt;chr&gt;</th><th scope=col>&lt;chr&gt;</th><th scope=col>&lt;dbl&gt;</th><th scope=col>&lt;chr&gt;</th><th scope=col>&lt;chr&gt;</th><th scope=col>&lt;chr&gt;</th><th scope=col>&lt;chr&gt;</th><th scope=col>&lt;chr&gt;</th></tr>\n",
              "</thead>\n",
              "<tbody>\n",
              "\t<tr><td>AE</td><td>2020-02-03</td><td>3</td><td>54,200,000</td><td>64,580,000</td><td>73,900,000</td><td>9,320,000</td><td>rendah</td></tr>\n",
              "\t<tr><td>AL</td><td>2020-03-02</td><td>2</td><td>40,650,000</td><td>43,580,000</td><td>44,590,000</td><td>1,010,000</td><td>rendah</td></tr>\n",
              "</tbody>\n",
              "</table>\n"
            ],
            "text/markdown": "\nA grouped_df: 2 × 8\n\n| cabang &lt;chr&gt; | pertama_cair &lt;chr&gt; | umur &lt;dbl&gt; | total_amount &lt;chr&gt; | Q1 &lt;chr&gt; | Q3 &lt;chr&gt; | IQR &lt;chr&gt; | flag &lt;chr&gt; |\n|---|---|---|---|---|---|---|---|\n| AE | 2020-02-03 | 3 | 54,200,000 | 64,580,000 | 73,900,000 | 9,320,000 | rendah |\n| AL | 2020-03-02 | 2 | 40,650,000 | 43,580,000 | 44,590,000 | 1,010,000 | rendah |\n\n",
            "text/latex": "A grouped\\_df: 2 × 8\n\\begin{tabular}{llllllll}\n cabang & pertama\\_cair & umur & total\\_amount & Q1 & Q3 & IQR & flag\\\\\n <chr> & <chr> & <dbl> & <chr> & <chr> & <chr> & <chr> & <chr>\\\\\n\\hline\n\t AE & 2020-02-03 & 3 & 54,200,000 & 64,580,000 & 73,900,000 & 9,320,000 & rendah\\\\\n\t AL & 2020-03-02 & 2 & 40,650,000 & 43,580,000 & 44,590,000 & 1,010,000 & rendah\\\\\n\\end{tabular}\n",
            "text/plain": [
              "  cabang pertama_cair umur total_amount Q1         Q3         IQR       flag  \n",
              "1 AE     2020-02-03   3    54,200,000   64,580,000 73,900,000 9,320,000 rendah\n",
              "2 AL     2020-03-02   2    40,650,000   43,580,000 44,590,000 1,010,000 rendah"
            ]
          },
          "metadata": {}
        }
      ]
    },
    {
      "cell_type": "markdown",
      "source": [
        "#### [Buat Scatterplot lagi dan beri warna merah pada cabang yang rendah tadi](https://academy.dqlab.id/main/livecode/215/401/2003?pr=0)"
      ],
      "metadata": {
        "id": "FnpsQtfYNU4B"
      }
    },
    {
      "cell_type": "code",
      "source": [
        "ggplot(df_loan_mei_flag, aes(x = umur, y = total_amount)) +\n",
        "  geom_point(aes(color = flag)) +\n",
        "  scale_color_manual(breaks = c(\"baik\", \"rendah\"),\n",
        "                     values = c(\"blue\", \"red\")) +\n",
        "  scale_y_continuous(labels = scales::comma) +\n",
        "  labs(title = \"Ada cabang berpeforma rendah padahal tidak termasuk bottom 5 nasional\",\n",
        "       color = \"\",\n",
        "       x = \"Umur (bulan)\",\n",
        "       y = \"Total Amount\")"
      ],
      "metadata": {
        "colab": {
          "base_uri": "https://localhost:8080/",
          "height": 437
        },
        "id": "yYf5rVDJNYza",
        "outputId": "1a450b9d-3f45-4bce-f69f-dd65f50f17d1"
      },
      "execution_count": 11,
      "outputs": [
        {
          "output_type": "display_data",
          "data": {
            "text/plain": [
              "plot without title"
            ],
            "image/png": "[encoded data removed]"
          },
          "metadata": {
            "image/png": {
              "width": 420,
              "height": 420
            }
          }
        }
      ]
    },
    {
      "cell_type": "markdown",
      "source": [
        "## Analisis cabang dengan performa rendah"
      ],
      "metadata": {
        "id": "RGRyfEHTLSTo"
      }
    },
    {
      "cell_type": "markdown",
      "source": [
        "#### [Lihat perbadingan performa cabang di umur yang sama](https://academy.dqlab.id/main/livecode/215/402/2004?pr=0)"
      ],
      "metadata": {
        "id": "_U3ZARWfN376"
      }
    },
    {
      "cell_type": "code",
      "source": [
        "df_loan_mei_flag %>% \n",
        "  filter(umur == 3) %>% \n",
        "  inner_join(df_loan, by = 'cabang') %>% \n",
        "  filter(tanggal_cair >= '2020-05-01', tanggal_cair <= '2020-05-31') %>% \n",
        "  group_by(cabang, flag) %>% \n",
        "  summarise(jumlah_hari = n_distinct(tanggal_cair),\n",
        "            agen_aktif = n_distinct(agen),\n",
        "            total_loan_cair = n_distinct(loan_id),\n",
        "            avg_amount = mean(amount), \n",
        "            total_amount = sum(amount)) %>% \n",
        "  arrange(total_amount) %>% \n",
        "  mutate_if(is.numeric, funs(comma))"
      ],
      "metadata": {
        "colab": {
          "base_uri": "https://localhost:8080/",
          "height": 293
        },
        "id": "FjcihEAmN8zC",
        "outputId": "a8319ca6-bdc9-4767-c93d-6cd89be9c067"
      },
      "execution_count": 12,
      "outputs": [
        {
          "output_type": "stream",
          "name": "stderr",
          "text": [
            "\u001b[1m\u001b[22m`summarise()` has grouped output by 'cabang'. You can override using the\n",
            "`.groups` argument.\n",
            "\u001b[1m\u001b[22m`mutate_if()` ignored the following grouping variables:\n",
            "\u001b[36m•\u001b[39m Column `cabang`\n"
          ]
        },
        {
          "output_type": "display_data",
          "data": {
            "text/html": [
              "<table class=\"dataframe\">\n",
              "<caption>A grouped_df: 4 × 7</caption>\n",
              "<thead>\n",
              "\t<tr><th scope=col>cabang</th><th scope=col>flag</th><th scope=col>jumlah_hari</th><th scope=col>agen_aktif</th><th scope=col>total_loan_cair</th><th scope=col>avg_amount</th><th scope=col>total_amount</th></tr>\n",
              "\t<tr><th scope=col>&lt;chr&gt;</th><th scope=col>&lt;chr&gt;</th><th scope=col>&lt;chr&gt;</th><th scope=col>&lt;chr&gt;</th><th scope=col>&lt;chr&gt;</th><th scope=col>&lt;chr&gt;</th><th scope=col>&lt;chr&gt;</th></tr>\n",
              "</thead>\n",
              "<tbody>\n",
              "\t<tr><td>AE</td><td>rendah</td><td>21</td><td>3</td><td>175</td><td>309,714</td><td>54,200,000</td></tr>\n",
              "\t<tr><td>AF</td><td>baik  </td><td>21</td><td>3</td><td>225</td><td>302,400</td><td>68,040,000</td></tr>\n",
              "\t<tr><td>AH</td><td>baik  </td><td>21</td><td>3</td><td>241</td><td>306,390</td><td>73,840,000</td></tr>\n",
              "\t<tr><td>AG</td><td>baik  </td><td>21</td><td>3</td><td>241</td><td>307,386</td><td>74,080,000</td></tr>\n",
              "</tbody>\n",
              "</table>\n"
            ],
            "text/markdown": "\nA grouped_df: 4 × 7\n\n| cabang &lt;chr&gt; | flag &lt;chr&gt; | jumlah_hari &lt;chr&gt; | agen_aktif &lt;chr&gt; | total_loan_cair &lt;chr&gt; | avg_amount &lt;chr&gt; | total_amount &lt;chr&gt; |\n|---|---|---|---|---|---|---|\n| AE | rendah | 21 | 3 | 175 | 309,714 | 54,200,000 |\n| AF | baik   | 21 | 3 | 225 | 302,400 | 68,040,000 |\n| AH | baik   | 21 | 3 | 241 | 306,390 | 73,840,000 |\n| AG | baik   | 21 | 3 | 241 | 307,386 | 74,080,000 |\n\n",
            "text/latex": "A grouped\\_df: 4 × 7\n\\begin{tabular}{lllllll}\n cabang & flag & jumlah\\_hari & agen\\_aktif & total\\_loan\\_cair & avg\\_amount & total\\_amount\\\\\n <chr> & <chr> & <chr> & <chr> & <chr> & <chr> & <chr>\\\\\n\\hline\n\t AE & rendah & 21 & 3 & 175 & 309,714 & 54,200,000\\\\\n\t AF & baik   & 21 & 3 & 225 & 302,400 & 68,040,000\\\\\n\t AH & baik   & 21 & 3 & 241 & 306,390 & 73,840,000\\\\\n\t AG & baik   & 21 & 3 & 241 & 307,386 & 74,080,000\\\\\n\\end{tabular}\n",
            "text/plain": [
              "  cabang flag   jumlah_hari agen_aktif total_loan_cair avg_amount total_amount\n",
              "1 AE     rendah 21          3          175             309,714    54,200,000  \n",
              "2 AF     baik   21          3          225             302,400    68,040,000  \n",
              "3 AH     baik   21          3          241             306,390    73,840,000  \n",
              "4 AG     baik   21          3          241             307,386    74,080,000  "
            ]
          },
          "metadata": {}
        }
      ]
    },
    {
      "cell_type": "markdown",
      "source": [
        "#### [Lihat perbadingan performa agen pada cabang yang rendah](https://academy.dqlab.id/main/livecode/215/402/2005?pr=0)"
      ],
      "metadata": {
        "id": "sLG1O72tOHMs"
      }
    },
    {
      "cell_type": "code",
      "source": [
        "df_loan_mei_flag %>% \n",
        "  filter(umur == 3, flag == 'rendah') %>% \n",
        "  inner_join(df_loan, by = 'cabang') %>% \n",
        "  filter(tanggal_cair >= '2020-05-01', tanggal_cair <= '2020-05-31') %>% \n",
        "  group_by(cabang, agen) %>% \n",
        "  summarise(jumlah_hari = n_distinct(tanggal_cair),\n",
        "            total_loan_cair = n_distinct(loan_id),\n",
        "            avg_amount = mean(amount), \n",
        "            total_amount = sum(amount)) %>% \n",
        "  arrange(total_amount) %>% \n",
        "  mutate_if(is.numeric, funs(comma))"
      ],
      "metadata": {
        "colab": {
          "base_uri": "https://localhost:8080/",
          "height": 262
        },
        "id": "0xQjbSLrOLYK",
        "outputId": "fb0ea281-254a-4b23-ede6-5e052c46577c"
      },
      "execution_count": 13,
      "outputs": [
        {
          "output_type": "stream",
          "name": "stderr",
          "text": [
            "\u001b[1m\u001b[22m`summarise()` has grouped output by 'cabang'. You can override using the\n",
            "`.groups` argument.\n",
            "\u001b[1m\u001b[22m`mutate_if()` ignored the following grouping variables:\n",
            "\u001b[36m•\u001b[39m Column `cabang`\n"
          ]
        },
        {
          "output_type": "display_data",
          "data": {
            "text/html": [
              "<table class=\"dataframe\">\n",
              "<caption>A grouped_df: 3 × 6</caption>\n",
              "<thead>\n",
              "\t<tr><th scope=col>cabang</th><th scope=col>agen</th><th scope=col>jumlah_hari</th><th scope=col>total_loan_cair</th><th scope=col>avg_amount</th><th scope=col>total_amount</th></tr>\n",
              "\t<tr><th scope=col>&lt;chr&gt;</th><th scope=col>&lt;chr&gt;</th><th scope=col>&lt;chr&gt;</th><th scope=col>&lt;chr&gt;</th><th scope=col>&lt;chr&gt;</th><th scope=col>&lt;chr&gt;</th></tr>\n",
              "</thead>\n",
              "<tbody>\n",
              "\t<tr><td>AE</td><td>AE-3</td><td>4 </td><td>16</td><td>310,625</td><td>4,970,000 </td></tr>\n",
              "\t<tr><td>AE</td><td>AE-2</td><td>18</td><td>73</td><td>320,274</td><td>23,380,000</td></tr>\n",
              "\t<tr><td>AE</td><td>AE-1</td><td>21</td><td>86</td><td>300,581</td><td>25,850,000</td></tr>\n",
              "</tbody>\n",
              "</table>\n"
            ],
            "text/markdown": "\nA grouped_df: 3 × 6\n\n| cabang &lt;chr&gt; | agen &lt;chr&gt; | jumlah_hari &lt;chr&gt; | total_loan_cair &lt;chr&gt; | avg_amount &lt;chr&gt; | total_amount &lt;chr&gt; |\n|---|---|---|---|---|---|\n| AE | AE-3 | 4  | 16 | 310,625 | 4,970,000  |\n| AE | AE-2 | 18 | 73 | 320,274 | 23,380,000 |\n| AE | AE-1 | 21 | 86 | 300,581 | 25,850,000 |\n\n",
            "text/latex": "A grouped\\_df: 3 × 6\n\\begin{tabular}{llllll}\n cabang & agen & jumlah\\_hari & total\\_loan\\_cair & avg\\_amount & total\\_amount\\\\\n <chr> & <chr> & <chr> & <chr> & <chr> & <chr>\\\\\n\\hline\n\t AE & AE-3 & 4  & 16 & 310,625 & 4,970,000 \\\\\n\t AE & AE-2 & 18 & 73 & 320,274 & 23,380,000\\\\\n\t AE & AE-1 & 21 & 86 & 300,581 & 25,850,000\\\\\n\\end{tabular}\n",
            "text/plain": [
              "  cabang agen jumlah_hari total_loan_cair avg_amount total_amount\n",
              "1 AE     AE-3 4           16              310,625    4,970,000   \n",
              "2 AE     AE-2 18          73              320,274    23,380,000  \n",
              "3 AE     AE-1 21          86              300,581    25,850,000  "
            ]
          },
          "metadata": {}
        }
      ]
    },
    {
      "cell_type": "markdown",
      "source": [
        "#### [Lihat perbadingan performa agen pada cabang yang paling baik umur 3 bulan](https://academy.dqlab.id/main/livecode/215/402/2007?pr=0)"
      ],
      "metadata": {
        "id": "6w5adiHAOYkT"
      }
    },
    {
      "cell_type": "code",
      "source": [
        "df_loan %>% \n",
        "  filter(cabang == 'AH') %>% \n",
        "  filter(tanggal_cair >= '2020-05-01', tanggal_cair <= '2020-05-31') %>% \n",
        "  group_by(cabang, agen) %>% \n",
        "  summarise(jumlah_hari = n_distinct(tanggal_cair),\n",
        "            total_loan_cair = n_distinct(loan_id),\n",
        "            avg_amount = mean(amount), \n",
        "            total_amount = sum(amount)) %>% \n",
        "  arrange(total_amount) %>% \n",
        "  mutate_if(is.numeric, funs(comma))"
      ],
      "metadata": {
        "colab": {
          "base_uri": "https://localhost:8080/",
          "height": 262
        },
        "id": "A46x_9VQOeFO",
        "outputId": "a80532fe-2862-4886-ae69-7d2ea31ba0d5"
      },
      "execution_count": 14,
      "outputs": [
        {
          "output_type": "stream",
          "name": "stderr",
          "text": [
            "\u001b[1m\u001b[22m`summarise()` has grouped output by 'cabang'. You can override using the\n",
            "`.groups` argument.\n",
            "\u001b[1m\u001b[22m`mutate_if()` ignored the following grouping variables:\n",
            "\u001b[36m•\u001b[39m Column `cabang`\n"
          ]
        },
        {
          "output_type": "display_data",
          "data": {
            "text/html": [
              "<table class=\"dataframe\">\n",
              "<caption>A grouped_df: 3 × 6</caption>\n",
              "<thead>\n",
              "\t<tr><th scope=col>cabang</th><th scope=col>agen</th><th scope=col>jumlah_hari</th><th scope=col>total_loan_cair</th><th scope=col>avg_amount</th><th scope=col>total_amount</th></tr>\n",
              "\t<tr><th scope=col>&lt;chr&gt;</th><th scope=col>&lt;chr&gt;</th><th scope=col>&lt;chr&gt;</th><th scope=col>&lt;chr&gt;</th><th scope=col>&lt;chr&gt;</th><th scope=col>&lt;chr&gt;</th></tr>\n",
              "</thead>\n",
              "<tbody>\n",
              "\t<tr><td>AH</td><td>AH-3</td><td>19</td><td>74</td><td>303,649</td><td>22,470,000</td></tr>\n",
              "\t<tr><td>AH</td><td>AH-1</td><td>21</td><td>81</td><td>301,358</td><td>24,410,000</td></tr>\n",
              "\t<tr><td>AH</td><td>AH-2</td><td>21</td><td>86</td><td>313,488</td><td>26,960,000</td></tr>\n",
              "</tbody>\n",
              "</table>\n"
            ],
            "text/markdown": "\nA grouped_df: 3 × 6\n\n| cabang &lt;chr&gt; | agen &lt;chr&gt; | jumlah_hari &lt;chr&gt; | total_loan_cair &lt;chr&gt; | avg_amount &lt;chr&gt; | total_amount &lt;chr&gt; |\n|---|---|---|---|---|---|\n| AH | AH-3 | 19 | 74 | 303,649 | 22,470,000 |\n| AH | AH-1 | 21 | 81 | 301,358 | 24,410,000 |\n| AH | AH-2 | 21 | 86 | 313,488 | 26,960,000 |\n\n",
            "text/latex": "A grouped\\_df: 3 × 6\n\\begin{tabular}{llllll}\n cabang & agen & jumlah\\_hari & total\\_loan\\_cair & avg\\_amount & total\\_amount\\\\\n <chr> & <chr> & <chr> & <chr> & <chr> & <chr>\\\\\n\\hline\n\t AH & AH-3 & 19 & 74 & 303,649 & 22,470,000\\\\\n\t AH & AH-1 & 21 & 81 & 301,358 & 24,410,000\\\\\n\t AH & AH-2 & 21 & 86 & 313,488 & 26,960,000\\\\\n\\end{tabular}\n",
            "text/plain": [
              "  cabang agen jumlah_hari total_loan_cair avg_amount total_amount\n",
              "1 AH     AH-3 19          74              303,649    22,470,000  \n",
              "2 AH     AH-1 21          81              301,358    24,410,000  \n",
              "3 AH     AH-2 21          86              313,488    26,960,000  "
            ]
          },
          "metadata": {}
        }
      ]
    },
    {
      "cell_type": "markdown",
      "source": [
        "Berdasarkan analisis tersebut, dapat disimpulkan bahwa rendahnya performa dari cabang AE adalah karena salah satu agen yang melakukan pencairan hanya 4 hari dalam 1 bulan, padahal agen lain bisa aktif 21 hari.\n",
        "\n",
        "Hal ini membuat total amount dari agen tersebut hanya 20% dibandingkan agen yang lainnya.\n",
        "\n",
        "Sedangkan pada cabang AH, performanya sangat baik karena ketiga agen melakukan pencairan hampir / selalu setiap hari kerja. 2 orang full 21 hari 1 orang 19 hari. Sehingga performa nya terjaga dengan baik.\n",
        "\n",
        "Perlu diperhatikan juga bahwa untuk membandingkan performa cabang itu sebaiknya di kelompokkan dulu berdasarkan karakteristik yang sama. Tidak langsung semua cabang dibandingkan tanpa mengetahui karakteristik nya.\n",
        "\n",
        "Apalagi ketika dalam real world nanti cabang ini bisa terletak di berbeda wilayah (pulau misalnya) yang mempunyai kultur yang berbeda\n",
        "\n",
        "Selanjutnya perlu dianalisis lebih lanjut kenapa ada agen yang hanya aktif beberapa hari saja dalam sebulan.\n",
        "\n",
        "Untuk kedepannya setiap agen agar dipastikan untuk bisa aktif setiap hari nya, sehingga bisa menjaga performa cabang."
      ],
      "metadata": {
        "id": "Hjdc17duOmF8"
      }
    }
  ]
}