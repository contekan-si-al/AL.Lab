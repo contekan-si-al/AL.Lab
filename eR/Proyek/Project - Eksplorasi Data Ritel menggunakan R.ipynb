{
  "nbformat": 4,
  "nbformat_minor": 0,
  "metadata": {
    "colab": {
      "provenance": [],
      "toc_visible": true
    },
    "kernelspec": {
      "name": "ir",
      "display_name": "R"
    },
    "language_info": {
      "name": "R"
    }
  },
  "cells": [
    {
      "cell_type": "markdown",
      "source": [
        "## Berkenalan dengan Data Ritel"
      ],
      "metadata": {
        "id": "kJiP0eoxbJhY"
      }
    },
    {
      "cell_type": "markdown",
      "source": [
        "#### [Import dan Eksplorasi Awal Data](https://academy.dqlab.id/main/livecode/360/805/4225?pr=0)"
      ],
      "metadata": {
        "id": "wfUxPh4LbP8o"
      }
    },
    {
      "cell_type": "code",
      "source": [
        "#Load data dan simpan ke dalam variable bernama ‘data’\n",
        "data <- read.csv(\"https://storage.googleapis.com/dqlab-dataset/transaksi_stok_dan_penjualan.tsv\", header = TRUE, sep = \"\\t\")"
      ],
      "metadata": {
        "id": "m7eBWB7TbXnc"
      },
      "execution_count": 1,
      "outputs": []
    },
    {
      "cell_type": "code",
      "source": [
        "#Tampilkan 5 data teratas \n",
        "head(data)"
      ],
      "metadata": {
        "colab": {
          "base_uri": "https://localhost:8080/",
          "height": 286
        },
        "id": "CRcs4d84bngf",
        "outputId": "ad4fc5f6-4973-41e2-8481-a97bc5c436c0"
      },
      "execution_count": 2,
      "outputs": [
        {
          "output_type": "display_data",
          "data": {
            "text/html": [
              "<table class=\"dataframe\">\n",
              "<caption>A data.frame: 6 × 8</caption>\n",
              "<thead>\n",
              "\t<tr><th></th><th scope=col>No.Transaksi</th><th scope=col>Jenis.Transaksi</th><th scope=col>Tanggal</th><th scope=col>Nama.Pelanggan</th><th scope=col>Kode.Produk</th><th scope=col>Nama.Produk</th><th scope=col>Jumlah</th><th scope=col>Harga</th></tr>\n",
              "\t<tr><th></th><th scope=col>&lt;int&gt;</th><th scope=col>&lt;chr&gt;</th><th scope=col>&lt;chr&gt;</th><th scope=col>&lt;chr&gt;</th><th scope=col>&lt;chr&gt;</th><th scope=col>&lt;chr&gt;</th><th scope=col>&lt;int&gt;</th><th scope=col>&lt;chr&gt;</th></tr>\n",
              "</thead>\n",
              "<tbody>\n",
              "\t<tr><th scope=row>1</th><td>1</td><td>Stok Masuk</td><td>01-04-2020</td><td>-</td><td>Item-01</td><td>Batere AA              </td><td> 44</td><td>-</td></tr>\n",
              "\t<tr><th scope=row>2</th><td>1</td><td>Stok Masuk</td><td>01-04-2020</td><td>-</td><td>Item-02</td><td>Bawang Putih 200 gram  </td><td> 26</td><td>-</td></tr>\n",
              "\t<tr><th scope=row>3</th><td>1</td><td>Stok Masuk</td><td>01-04-2020</td><td>-</td><td>Item-03</td><td>Gula Pasir Putih 1 kg  </td><td> 50</td><td>-</td></tr>\n",
              "\t<tr><th scope=row>4</th><td>1</td><td>Stok Masuk</td><td>01-04-2020</td><td>-</td><td>Item-04</td><td>Kopi Instant           </td><td> 27</td><td>-</td></tr>\n",
              "\t<tr><th scope=row>5</th><td>1</td><td>Stok Masuk</td><td>01-04-2020</td><td>-</td><td>Item-05</td><td>Mi Goreng Instant      </td><td>100</td><td>-</td></tr>\n",
              "\t<tr><th scope=row>6</th><td>1</td><td>Stok Masuk</td><td>01-04-2020</td><td>-</td><td>Item-06</td><td>Sabun Mandi Cair 100 ml</td><td> 56</td><td>-</td></tr>\n",
              "</tbody>\n",
              "</table>\n"
            ],
            "text/markdown": "\nA data.frame: 6 × 8\n\n| <!--/--> | No.Transaksi &lt;int&gt; | Jenis.Transaksi &lt;chr&gt; | Tanggal &lt;chr&gt; | Nama.Pelanggan &lt;chr&gt; | Kode.Produk &lt;chr&gt; | Nama.Produk &lt;chr&gt; | Jumlah &lt;int&gt; | Harga &lt;chr&gt; |\n|---|---|---|---|---|---|---|---|---|\n| 1 | 1 | Stok Masuk | 01-04-2020 | - | Item-01 | Batere AA               |  44 | - |\n| 2 | 1 | Stok Masuk | 01-04-2020 | - | Item-02 | Bawang Putih 200 gram   |  26 | - |\n| 3 | 1 | Stok Masuk | 01-04-2020 | - | Item-03 | Gula Pasir Putih 1 kg   |  50 | - |\n| 4 | 1 | Stok Masuk | 01-04-2020 | - | Item-04 | Kopi Instant            |  27 | - |\n| 5 | 1 | Stok Masuk | 01-04-2020 | - | Item-05 | Mi Goreng Instant       | 100 | - |\n| 6 | 1 | Stok Masuk | 01-04-2020 | - | Item-06 | Sabun Mandi Cair 100 ml |  56 | - |\n\n",
            "text/latex": "A data.frame: 6 × 8\n\\begin{tabular}{r|llllllll}\n  & No.Transaksi & Jenis.Transaksi & Tanggal & Nama.Pelanggan & Kode.Produk & Nama.Produk & Jumlah & Harga\\\\\n  & <int> & <chr> & <chr> & <chr> & <chr> & <chr> & <int> & <chr>\\\\\n\\hline\n\t1 & 1 & Stok Masuk & 01-04-2020 & - & Item-01 & Batere AA               &  44 & -\\\\\n\t2 & 1 & Stok Masuk & 01-04-2020 & - & Item-02 & Bawang Putih 200 gram   &  26 & -\\\\\n\t3 & 1 & Stok Masuk & 01-04-2020 & - & Item-03 & Gula Pasir Putih 1 kg   &  50 & -\\\\\n\t4 & 1 & Stok Masuk & 01-04-2020 & - & Item-04 & Kopi Instant            &  27 & -\\\\\n\t5 & 1 & Stok Masuk & 01-04-2020 & - & Item-05 & Mi Goreng Instant       & 100 & -\\\\\n\t6 & 1 & Stok Masuk & 01-04-2020 & - & Item-06 & Sabun Mandi Cair 100 ml &  56 & -\\\\\n\\end{tabular}\n",
            "text/plain": [
              "  No.Transaksi Jenis.Transaksi Tanggal    Nama.Pelanggan Kode.Produk\n",
              "1 1            Stok Masuk      01-04-2020 -              Item-01    \n",
              "2 1            Stok Masuk      01-04-2020 -              Item-02    \n",
              "3 1            Stok Masuk      01-04-2020 -              Item-03    \n",
              "4 1            Stok Masuk      01-04-2020 -              Item-04    \n",
              "5 1            Stok Masuk      01-04-2020 -              Item-05    \n",
              "6 1            Stok Masuk      01-04-2020 -              Item-06    \n",
              "  Nama.Produk             Jumlah Harga\n",
              "1 Batere AA                44    -    \n",
              "2 Bawang Putih 200 gram    26    -    \n",
              "3 Gula Pasir Putih 1 kg    50    -    \n",
              "4 Kopi Instant             27    -    \n",
              "5 Mi Goreng Instant       100    -    \n",
              "6 Sabun Mandi Cair 100 ml  56    -    "
            ]
          },
          "metadata": {}
        }
      ]
    },
    {
      "cell_type": "code",
      "source": [
        "#Tampilkan 5 data terbawah\n",
        "tail(data)"
      ],
      "metadata": {
        "colab": {
          "base_uri": "https://localhost:8080/",
          "height": 286
        },
        "id": "KJdhwrW7bnWU",
        "outputId": "87c0b37c-5997-45a2-a439-cadfa777d210"
      },
      "execution_count": 3,
      "outputs": [
        {
          "output_type": "display_data",
          "data": {
            "text/html": [
              "<table class=\"dataframe\">\n",
              "<caption>A data.frame: 6 × 8</caption>\n",
              "<thead>\n",
              "\t<tr><th></th><th scope=col>No.Transaksi</th><th scope=col>Jenis.Transaksi</th><th scope=col>Tanggal</th><th scope=col>Nama.Pelanggan</th><th scope=col>Kode.Produk</th><th scope=col>Nama.Produk</th><th scope=col>Jumlah</th><th scope=col>Harga</th></tr>\n",
              "\t<tr><th></th><th scope=col>&lt;int&gt;</th><th scope=col>&lt;chr&gt;</th><th scope=col>&lt;chr&gt;</th><th scope=col>&lt;chr&gt;</th><th scope=col>&lt;chr&gt;</th><th scope=col>&lt;chr&gt;</th><th scope=col>&lt;int&gt;</th><th scope=col>&lt;chr&gt;</th></tr>\n",
              "</thead>\n",
              "<tbody>\n",
              "\t<tr><th scope=row>1837</th><td>589</td><td>Stok Masuk</td><td>30-07-2020</td><td>-</td><td>Item-11</td><td>Sabun Cuci Piring    </td><td>33</td><td>-</td></tr>\n",
              "\t<tr><th scope=row>1838</th><td>589</td><td>Stok Masuk</td><td>30-07-2020</td><td>-</td><td>Item-18</td><td>Telur Ayam Negeri    </td><td>79</td><td>-</td></tr>\n",
              "\t<tr><th scope=row>1839</th><td>590</td><td>Stok Masuk</td><td>31-07-2020</td><td>-</td><td>Item-02</td><td>Bawang Putih 200 gram</td><td>26</td><td>-</td></tr>\n",
              "\t<tr><th scope=row>1840</th><td>590</td><td>Stok Masuk</td><td>31-07-2020</td><td>-</td><td>Item-03</td><td>Gula Pasir Putih 1 kg</td><td>50</td><td>-</td></tr>\n",
              "\t<tr><th scope=row>1841</th><td>590</td><td>Stok Masuk</td><td>31-07-2020</td><td>-</td><td>Item-07</td><td>Sabut Cuci Piring    </td><td> 6</td><td>-</td></tr>\n",
              "\t<tr><th scope=row>1842</th><td>590</td><td>Stok Masuk</td><td>31-07-2020</td><td>-</td><td>Item-09</td><td>Roti Tawar           </td><td>15</td><td>-</td></tr>\n",
              "</tbody>\n",
              "</table>\n"
            ],
            "text/markdown": "\nA data.frame: 6 × 8\n\n| <!--/--> | No.Transaksi &lt;int&gt; | Jenis.Transaksi &lt;chr&gt; | Tanggal &lt;chr&gt; | Nama.Pelanggan &lt;chr&gt; | Kode.Produk &lt;chr&gt; | Nama.Produk &lt;chr&gt; | Jumlah &lt;int&gt; | Harga &lt;chr&gt; |\n|---|---|---|---|---|---|---|---|---|\n| 1837 | 589 | Stok Masuk | 30-07-2020 | - | Item-11 | Sabun Cuci Piring     | 33 | - |\n| 1838 | 589 | Stok Masuk | 30-07-2020 | - | Item-18 | Telur Ayam Negeri     | 79 | - |\n| 1839 | 590 | Stok Masuk | 31-07-2020 | - | Item-02 | Bawang Putih 200 gram | 26 | - |\n| 1840 | 590 | Stok Masuk | 31-07-2020 | - | Item-03 | Gula Pasir Putih 1 kg | 50 | - |\n| 1841 | 590 | Stok Masuk | 31-07-2020 | - | Item-07 | Sabut Cuci Piring     |  6 | - |\n| 1842 | 590 | Stok Masuk | 31-07-2020 | - | Item-09 | Roti Tawar            | 15 | - |\n\n",
            "text/latex": "A data.frame: 6 × 8\n\\begin{tabular}{r|llllllll}\n  & No.Transaksi & Jenis.Transaksi & Tanggal & Nama.Pelanggan & Kode.Produk & Nama.Produk & Jumlah & Harga\\\\\n  & <int> & <chr> & <chr> & <chr> & <chr> & <chr> & <int> & <chr>\\\\\n\\hline\n\t1837 & 589 & Stok Masuk & 30-07-2020 & - & Item-11 & Sabun Cuci Piring     & 33 & -\\\\\n\t1838 & 589 & Stok Masuk & 30-07-2020 & - & Item-18 & Telur Ayam Negeri     & 79 & -\\\\\n\t1839 & 590 & Stok Masuk & 31-07-2020 & - & Item-02 & Bawang Putih 200 gram & 26 & -\\\\\n\t1840 & 590 & Stok Masuk & 31-07-2020 & - & Item-03 & Gula Pasir Putih 1 kg & 50 & -\\\\\n\t1841 & 590 & Stok Masuk & 31-07-2020 & - & Item-07 & Sabut Cuci Piring     &  6 & -\\\\\n\t1842 & 590 & Stok Masuk & 31-07-2020 & - & Item-09 & Roti Tawar            & 15 & -\\\\\n\\end{tabular}\n",
            "text/plain": [
              "     No.Transaksi Jenis.Transaksi Tanggal    Nama.Pelanggan Kode.Produk\n",
              "1837 589          Stok Masuk      30-07-2020 -              Item-11    \n",
              "1838 589          Stok Masuk      30-07-2020 -              Item-18    \n",
              "1839 590          Stok Masuk      31-07-2020 -              Item-02    \n",
              "1840 590          Stok Masuk      31-07-2020 -              Item-03    \n",
              "1841 590          Stok Masuk      31-07-2020 -              Item-07    \n",
              "1842 590          Stok Masuk      31-07-2020 -              Item-09    \n",
              "     Nama.Produk           Jumlah Harga\n",
              "1837 Sabun Cuci Piring     33     -    \n",
              "1838 Telur Ayam Negeri     79     -    \n",
              "1839 Bawang Putih 200 gram 26     -    \n",
              "1840 Gula Pasir Putih 1 kg 50     -    \n",
              "1841 Sabut Cuci Piring      6     -    \n",
              "1842 Roti Tawar            15     -    "
            ]
          },
          "metadata": {}
        }
      ]
    },
    {
      "cell_type": "code",
      "source": [
        "#Tampilkan informasi mengenai struktur dari data\n",
        "str(data)"
      ],
      "metadata": {
        "colab": {
          "base_uri": "https://localhost:8080/"
        },
        "id": "disTka5SbnL1",
        "outputId": "c2c02505-8876-47d1-efe6-a52baaf210b7"
      },
      "execution_count": 4,
      "outputs": [
        {
          "output_type": "stream",
          "name": "stdout",
          "text": [
            "'data.frame':\t1842 obs. of  8 variables:\n",
            " $ No.Transaksi   : int  1 1 1 1 1 1 1 1 1 1 ...\n",
            " $ Jenis.Transaksi: chr  \"Stok Masuk\" \"Stok Masuk\" \"Stok Masuk\" \"Stok Masuk\" ...\n",
            " $ Tanggal        : chr  \"01-04-2020\" \"01-04-2020\" \"01-04-2020\" \"01-04-2020\" ...\n",
            " $ Nama.Pelanggan : chr  \"-\" \"-\" \"-\" \"-\" ...\n",
            " $ Kode.Produk    : chr  \"Item-01\" \"Item-02\" \"Item-03\" \"Item-04\" ...\n",
            " $ Nama.Produk    : chr  \"Batere AA\" \"Bawang Putih 200 gram\" \"Gula Pasir Putih 1 kg\" \"Kopi Instant\" ...\n",
            " $ Jumlah         : int  44 26 50 27 100 56 6 25 15 67 ...\n",
            " $ Harga          : chr  \"-\" \"-\" \"-\" \"-\" ...\n"
          ]
        }
      ]
    },
    {
      "cell_type": "markdown",
      "source": [
        "#### [Mengubah Tipe Data Tanggal](https://academy.dqlab.id/main/livecode/360/805/4228?pr=0)"
      ],
      "metadata": {
        "id": "ZX8hl6e7cLS1"
      }
    },
    {
      "cell_type": "code",
      "source": [
        "#Ubah tipe data variabel Tanggal menjadi date\n",
        "data$Tanggal <- as.Date(data$Tanggal, \"%d-%m-%Y\")"
      ],
      "metadata": {
        "id": "aErEo0nHcPYu"
      },
      "execution_count": 5,
      "outputs": []
    },
    {
      "cell_type": "code",
      "source": [
        "#Cek apakah tipe data dari variabel Tanggal sudah menjadi date\n",
        "str(data$Tanggal)"
      ],
      "metadata": {
        "colab": {
          "base_uri": "https://localhost:8080/"
        },
        "id": "HY7LMHd6eBFo",
        "outputId": "992f3418-4bce-46a8-98b4-edf647d0992c"
      },
      "execution_count": 6,
      "outputs": [
        {
          "output_type": "stream",
          "name": "stdout",
          "text": [
            " Date[1:1842], format: \"2020-04-01\" \"2020-04-01\" \"2020-04-01\" \"2020-04-01\" \"2020-04-01\" ...\n"
          ]
        }
      ]
    },
    {
      "cell_type": "code",
      "source": [
        "#Tambahkan kolom baru untuk menyimpan data bulan\n",
        "data$Bulan_Tahun <- format(data$Tanggal, \"%m-%Y\")"
      ],
      "metadata": {
        "id": "irnadDXZeBCz"
      },
      "execution_count": 7,
      "outputs": []
    },
    {
      "cell_type": "code",
      "source": [
        "#Tampilkan 5 data teratas\n",
        "head(data, 5)"
      ],
      "metadata": {
        "colab": {
          "base_uri": "https://localhost:8080/",
          "height": 255
        },
        "id": "L9S5pV7IeBAy",
        "outputId": "447ef68d-aa6f-4c54-8c69-17e31ee5f907"
      },
      "execution_count": 8,
      "outputs": [
        {
          "output_type": "display_data",
          "data": {
            "text/html": [
              "<table class=\"dataframe\">\n",
              "<caption>A data.frame: 5 × 9</caption>\n",
              "<thead>\n",
              "\t<tr><th></th><th scope=col>No.Transaksi</th><th scope=col>Jenis.Transaksi</th><th scope=col>Tanggal</th><th scope=col>Nama.Pelanggan</th><th scope=col>Kode.Produk</th><th scope=col>Nama.Produk</th><th scope=col>Jumlah</th><th scope=col>Harga</th><th scope=col>Bulan_Tahun</th></tr>\n",
              "\t<tr><th></th><th scope=col>&lt;int&gt;</th><th scope=col>&lt;chr&gt;</th><th scope=col>&lt;date&gt;</th><th scope=col>&lt;chr&gt;</th><th scope=col>&lt;chr&gt;</th><th scope=col>&lt;chr&gt;</th><th scope=col>&lt;int&gt;</th><th scope=col>&lt;chr&gt;</th><th scope=col>&lt;chr&gt;</th></tr>\n",
              "</thead>\n",
              "<tbody>\n",
              "\t<tr><th scope=row>1</th><td>1</td><td>Stok Masuk</td><td>2020-04-01</td><td>-</td><td>Item-01</td><td>Batere AA            </td><td> 44</td><td>-</td><td>04-2020</td></tr>\n",
              "\t<tr><th scope=row>2</th><td>1</td><td>Stok Masuk</td><td>2020-04-01</td><td>-</td><td>Item-02</td><td>Bawang Putih 200 gram</td><td> 26</td><td>-</td><td>04-2020</td></tr>\n",
              "\t<tr><th scope=row>3</th><td>1</td><td>Stok Masuk</td><td>2020-04-01</td><td>-</td><td>Item-03</td><td>Gula Pasir Putih 1 kg</td><td> 50</td><td>-</td><td>04-2020</td></tr>\n",
              "\t<tr><th scope=row>4</th><td>1</td><td>Stok Masuk</td><td>2020-04-01</td><td>-</td><td>Item-04</td><td>Kopi Instant         </td><td> 27</td><td>-</td><td>04-2020</td></tr>\n",
              "\t<tr><th scope=row>5</th><td>1</td><td>Stok Masuk</td><td>2020-04-01</td><td>-</td><td>Item-05</td><td>Mi Goreng Instant    </td><td>100</td><td>-</td><td>04-2020</td></tr>\n",
              "</tbody>\n",
              "</table>\n"
            ],
            "text/markdown": "\nA data.frame: 5 × 9\n\n| <!--/--> | No.Transaksi &lt;int&gt; | Jenis.Transaksi &lt;chr&gt; | Tanggal &lt;date&gt; | Nama.Pelanggan &lt;chr&gt; | Kode.Produk &lt;chr&gt; | Nama.Produk &lt;chr&gt; | Jumlah &lt;int&gt; | Harga &lt;chr&gt; | Bulan_Tahun &lt;chr&gt; |\n|---|---|---|---|---|---|---|---|---|---|\n| 1 | 1 | Stok Masuk | 2020-04-01 | - | Item-01 | Batere AA             |  44 | - | 04-2020 |\n| 2 | 1 | Stok Masuk | 2020-04-01 | - | Item-02 | Bawang Putih 200 gram |  26 | - | 04-2020 |\n| 3 | 1 | Stok Masuk | 2020-04-01 | - | Item-03 | Gula Pasir Putih 1 kg |  50 | - | 04-2020 |\n| 4 | 1 | Stok Masuk | 2020-04-01 | - | Item-04 | Kopi Instant          |  27 | - | 04-2020 |\n| 5 | 1 | Stok Masuk | 2020-04-01 | - | Item-05 | Mi Goreng Instant     | 100 | - | 04-2020 |\n\n",
            "text/latex": "A data.frame: 5 × 9\n\\begin{tabular}{r|lllllllll}\n  & No.Transaksi & Jenis.Transaksi & Tanggal & Nama.Pelanggan & Kode.Produk & Nama.Produk & Jumlah & Harga & Bulan\\_Tahun\\\\\n  & <int> & <chr> & <date> & <chr> & <chr> & <chr> & <int> & <chr> & <chr>\\\\\n\\hline\n\t1 & 1 & Stok Masuk & 2020-04-01 & - & Item-01 & Batere AA             &  44 & - & 04-2020\\\\\n\t2 & 1 & Stok Masuk & 2020-04-01 & - & Item-02 & Bawang Putih 200 gram &  26 & - & 04-2020\\\\\n\t3 & 1 & Stok Masuk & 2020-04-01 & - & Item-03 & Gula Pasir Putih 1 kg &  50 & - & 04-2020\\\\\n\t4 & 1 & Stok Masuk & 2020-04-01 & - & Item-04 & Kopi Instant          &  27 & - & 04-2020\\\\\n\t5 & 1 & Stok Masuk & 2020-04-01 & - & Item-05 & Mi Goreng Instant     & 100 & - & 04-2020\\\\\n\\end{tabular}\n",
            "text/plain": [
              "  No.Transaksi Jenis.Transaksi Tanggal    Nama.Pelanggan Kode.Produk\n",
              "1 1            Stok Masuk      2020-04-01 -              Item-01    \n",
              "2 1            Stok Masuk      2020-04-01 -              Item-02    \n",
              "3 1            Stok Masuk      2020-04-01 -              Item-03    \n",
              "4 1            Stok Masuk      2020-04-01 -              Item-04    \n",
              "5 1            Stok Masuk      2020-04-01 -              Item-05    \n",
              "  Nama.Produk           Jumlah Harga Bulan_Tahun\n",
              "1 Batere AA              44    -     04-2020    \n",
              "2 Bawang Putih 200 gram  26    -     04-2020    \n",
              "3 Gula Pasir Putih 1 kg  50    -     04-2020    \n",
              "4 Kopi Instant           27    -     04-2020    \n",
              "5 Mi Goreng Instant     100    -     04-2020    "
            ]
          },
          "metadata": {}
        }
      ]
    },
    {
      "cell_type": "markdown",
      "source": [
        "#### [Mengubah Tipe Data Numerik](https://academy.dqlab.id/main/livecode/360/805/4535?pr=0)"
      ],
      "metadata": {
        "id": "tHyQZ2YfhY8g"
      }
    },
    {
      "cell_type": "code",
      "source": [
        "#Ubah tipe data variabel Harga menjadi numerik\n",
        "data$Harga <- as.numeric(data$Harga)"
      ],
      "metadata": {
        "colab": {
          "base_uri": "https://localhost:8080/"
        },
        "id": "oGJ1mj_9hcwF",
        "outputId": "863a7455-57be-4c08-ac3d-7c480d364574"
      },
      "execution_count": 9,
      "outputs": [
        {
          "output_type": "stream",
          "name": "stderr",
          "text": [
            "Warning message in eval(expr, envir, enclos):\n",
            "“NAs introduced by coercion”\n"
          ]
        }
      ]
    },
    {
      "cell_type": "code",
      "source": [
        "#Ubah data NA menjadi 0\n",
        "data$Harga[is.na(data$Harga)] <- 0"
      ],
      "metadata": {
        "id": "tjyyMMf7hdOv"
      },
      "execution_count": 10,
      "outputs": []
    },
    {
      "cell_type": "code",
      "source": [
        "#Cek apakah tipe data dari variabel Harga sudah menjadi tipe numerik\n",
        "str(data$Harga)"
      ],
      "metadata": {
        "colab": {
          "base_uri": "https://localhost:8080/"
        },
        "id": "MI07mp2yhdKM",
        "outputId": "2a8047ec-5899-48b0-b605-6b9a6d078bbb"
      },
      "execution_count": 11,
      "outputs": [
        {
          "output_type": "stream",
          "name": "stdout",
          "text": [
            " num [1:1842] 0 0 0 0 0 0 0 0 0 0 ...\n"
          ]
        }
      ]
    },
    {
      "cell_type": "code",
      "source": [
        "#Tampilkan 5 data teratas\n",
        "head(data, 5)"
      ],
      "metadata": {
        "colab": {
          "base_uri": "https://localhost:8080/",
          "height": 255
        },
        "id": "k55A5IpKhdEM",
        "outputId": "5e396856-442c-4e75-c5c6-9452ee9dfc7c"
      },
      "execution_count": 12,
      "outputs": [
        {
          "output_type": "display_data",
          "data": {
            "text/html": [
              "<table class=\"dataframe\">\n",
              "<caption>A data.frame: 5 × 9</caption>\n",
              "<thead>\n",
              "\t<tr><th></th><th scope=col>No.Transaksi</th><th scope=col>Jenis.Transaksi</th><th scope=col>Tanggal</th><th scope=col>Nama.Pelanggan</th><th scope=col>Kode.Produk</th><th scope=col>Nama.Produk</th><th scope=col>Jumlah</th><th scope=col>Harga</th><th scope=col>Bulan_Tahun</th></tr>\n",
              "\t<tr><th></th><th scope=col>&lt;int&gt;</th><th scope=col>&lt;chr&gt;</th><th scope=col>&lt;date&gt;</th><th scope=col>&lt;chr&gt;</th><th scope=col>&lt;chr&gt;</th><th scope=col>&lt;chr&gt;</th><th scope=col>&lt;int&gt;</th><th scope=col>&lt;dbl&gt;</th><th scope=col>&lt;chr&gt;</th></tr>\n",
              "</thead>\n",
              "<tbody>\n",
              "\t<tr><th scope=row>1</th><td>1</td><td>Stok Masuk</td><td>2020-04-01</td><td>-</td><td>Item-01</td><td>Batere AA            </td><td> 44</td><td>0</td><td>04-2020</td></tr>\n",
              "\t<tr><th scope=row>2</th><td>1</td><td>Stok Masuk</td><td>2020-04-01</td><td>-</td><td>Item-02</td><td>Bawang Putih 200 gram</td><td> 26</td><td>0</td><td>04-2020</td></tr>\n",
              "\t<tr><th scope=row>3</th><td>1</td><td>Stok Masuk</td><td>2020-04-01</td><td>-</td><td>Item-03</td><td>Gula Pasir Putih 1 kg</td><td> 50</td><td>0</td><td>04-2020</td></tr>\n",
              "\t<tr><th scope=row>4</th><td>1</td><td>Stok Masuk</td><td>2020-04-01</td><td>-</td><td>Item-04</td><td>Kopi Instant         </td><td> 27</td><td>0</td><td>04-2020</td></tr>\n",
              "\t<tr><th scope=row>5</th><td>1</td><td>Stok Masuk</td><td>2020-04-01</td><td>-</td><td>Item-05</td><td>Mi Goreng Instant    </td><td>100</td><td>0</td><td>04-2020</td></tr>\n",
              "</tbody>\n",
              "</table>\n"
            ],
            "text/markdown": "\nA data.frame: 5 × 9\n\n| <!--/--> | No.Transaksi &lt;int&gt; | Jenis.Transaksi &lt;chr&gt; | Tanggal &lt;date&gt; | Nama.Pelanggan &lt;chr&gt; | Kode.Produk &lt;chr&gt; | Nama.Produk &lt;chr&gt; | Jumlah &lt;int&gt; | Harga &lt;dbl&gt; | Bulan_Tahun &lt;chr&gt; |\n|---|---|---|---|---|---|---|---|---|---|\n| 1 | 1 | Stok Masuk | 2020-04-01 | - | Item-01 | Batere AA             |  44 | 0 | 04-2020 |\n| 2 | 1 | Stok Masuk | 2020-04-01 | - | Item-02 | Bawang Putih 200 gram |  26 | 0 | 04-2020 |\n| 3 | 1 | Stok Masuk | 2020-04-01 | - | Item-03 | Gula Pasir Putih 1 kg |  50 | 0 | 04-2020 |\n| 4 | 1 | Stok Masuk | 2020-04-01 | - | Item-04 | Kopi Instant          |  27 | 0 | 04-2020 |\n| 5 | 1 | Stok Masuk | 2020-04-01 | - | Item-05 | Mi Goreng Instant     | 100 | 0 | 04-2020 |\n\n",
            "text/latex": "A data.frame: 5 × 9\n\\begin{tabular}{r|lllllllll}\n  & No.Transaksi & Jenis.Transaksi & Tanggal & Nama.Pelanggan & Kode.Produk & Nama.Produk & Jumlah & Harga & Bulan\\_Tahun\\\\\n  & <int> & <chr> & <date> & <chr> & <chr> & <chr> & <int> & <dbl> & <chr>\\\\\n\\hline\n\t1 & 1 & Stok Masuk & 2020-04-01 & - & Item-01 & Batere AA             &  44 & 0 & 04-2020\\\\\n\t2 & 1 & Stok Masuk & 2020-04-01 & - & Item-02 & Bawang Putih 200 gram &  26 & 0 & 04-2020\\\\\n\t3 & 1 & Stok Masuk & 2020-04-01 & - & Item-03 & Gula Pasir Putih 1 kg &  50 & 0 & 04-2020\\\\\n\t4 & 1 & Stok Masuk & 2020-04-01 & - & Item-04 & Kopi Instant          &  27 & 0 & 04-2020\\\\\n\t5 & 1 & Stok Masuk & 2020-04-01 & - & Item-05 & Mi Goreng Instant     & 100 & 0 & 04-2020\\\\\n\\end{tabular}\n",
            "text/plain": [
              "  No.Transaksi Jenis.Transaksi Tanggal    Nama.Pelanggan Kode.Produk\n",
              "1 1            Stok Masuk      2020-04-01 -              Item-01    \n",
              "2 1            Stok Masuk      2020-04-01 -              Item-02    \n",
              "3 1            Stok Masuk      2020-04-01 -              Item-03    \n",
              "4 1            Stok Masuk      2020-04-01 -              Item-04    \n",
              "5 1            Stok Masuk      2020-04-01 -              Item-05    \n",
              "  Nama.Produk           Jumlah Harga Bulan_Tahun\n",
              "1 Batere AA              44    0     04-2020    \n",
              "2 Bawang Putih 200 gram  26    0     04-2020    \n",
              "3 Gula Pasir Putih 1 kg  50    0     04-2020    \n",
              "4 Kopi Instant           27    0     04-2020    \n",
              "5 Mi Goreng Instant     100    0     04-2020    "
            ]
          },
          "metadata": {}
        }
      ]
    },
    {
      "cell_type": "markdown",
      "source": [
        "## Analisis Data Ritel"
      ],
      "metadata": {
        "id": "jtUo9QxTbMwz"
      }
    },
    {
      "cell_type": "markdown",
      "source": [
        "#### [Analisis Penjualan per Bulan](https://academy.dqlab.id/main/livecode/360/806/4539?pr=0)"
      ],
      "metadata": {
        "id": "zhpONJ1Atfo1"
      }
    },
    {
      "cell_type": "code",
      "source": [
        "#Lalu ambillah data dengan jenis transaksi adalah Penjualan\n",
        "data_penjualan = data[data$Jenis.Transaksi==\"Penjualan\",]"
      ],
      "metadata": {
        "id": "LyFthrlq3DeN"
      },
      "execution_count": 13,
      "outputs": []
    },
    {
      "cell_type": "code",
      "source": [
        "data_penjualan"
      ],
      "metadata": {
        "colab": {
          "base_uri": "https://localhost:8080/",
          "height": 1000
        },
        "id": "1OscgUsj3DY4",
        "outputId": "cf7e3e7e-5d88-4a28-fd1a-160abeaa70f4"
      },
      "execution_count": 14,
      "outputs": [
        {
          "output_type": "display_data",
          "data": {
            "text/html": [
              "<table class=\"dataframe\">\n",
              "<caption>A data.frame: 1392 × 9</caption>\n",
              "<thead>\n",
              "\t<tr><th></th><th scope=col>No.Transaksi</th><th scope=col>Jenis.Transaksi</th><th scope=col>Tanggal</th><th scope=col>Nama.Pelanggan</th><th scope=col>Kode.Produk</th><th scope=col>Nama.Produk</th><th scope=col>Jumlah</th><th scope=col>Harga</th><th scope=col>Bulan_Tahun</th></tr>\n",
              "\t<tr><th></th><th scope=col>&lt;int&gt;</th><th scope=col>&lt;chr&gt;</th><th scope=col>&lt;date&gt;</th><th scope=col>&lt;chr&gt;</th><th scope=col>&lt;chr&gt;</th><th scope=col>&lt;chr&gt;</th><th scope=col>&lt;int&gt;</th><th scope=col>&lt;dbl&gt;</th><th scope=col>&lt;chr&gt;</th></tr>\n",
              "</thead>\n",
              "<tbody>\n",
              "\t<tr><th scope=row>48</th><td>10</td><td>Penjualan</td><td>2020-04-10</td><td>Fajri  </td><td>Item-11</td><td>Sabun Cuci Piring    </td><td>3</td><td>14000</td><td>04-2020</td></tr>\n",
              "\t<tr><th scope=row>49</th><td>11</td><td>Penjualan</td><td>2020-04-10</td><td>Fitri  </td><td>Item-11</td><td>Sabun Cuci Piring    </td><td>3</td><td>14000</td><td>04-2020</td></tr>\n",
              "\t<tr><th scope=row>50</th><td>12</td><td>Penjualan</td><td>2020-04-10</td><td>Nita   </td><td>Item-11</td><td>Sabun Cuci Piring    </td><td>2</td><td>14000</td><td>04-2020</td></tr>\n",
              "\t<tr><th scope=row>51</th><td>13</td><td>Penjualan</td><td>2020-04-10</td><td>Rian   </td><td>Item-02</td><td>Bawang Putih 200 gram</td><td>3</td><td>15000</td><td>04-2020</td></tr>\n",
              "\t<tr><th scope=row>52</th><td>13</td><td>Penjualan</td><td>2020-04-10</td><td>Rian   </td><td>Item-03</td><td>Gula Pasir Putih 1 kg</td><td>2</td><td>12500</td><td>04-2020</td></tr>\n",
              "\t<tr><th scope=row>53</th><td>13</td><td>Penjualan</td><td>2020-04-10</td><td>Rian   </td><td>Item-05</td><td>Mi Goreng Instant    </td><td>2</td><td> 2600</td><td>04-2020</td></tr>\n",
              "\t<tr><th scope=row>54</th><td>13</td><td>Penjualan</td><td>2020-04-10</td><td>Rian   </td><td>Item-11</td><td>Sabun Cuci Piring    </td><td>3</td><td>14000</td><td>04-2020</td></tr>\n",
              "\t<tr><th scope=row>55</th><td>14</td><td>Penjualan</td><td>2020-04-10</td><td>Zahra  </td><td>Item-03</td><td>Gula Pasir Putih 1 kg</td><td>3</td><td>12500</td><td>04-2020</td></tr>\n",
              "\t<tr><th scope=row>56</th><td>14</td><td>Penjualan</td><td>2020-04-10</td><td>Zahra  </td><td>Item-05</td><td>Mi Goreng Instant    </td><td>2</td><td> 2600</td><td>04-2020</td></tr>\n",
              "\t<tr><th scope=row>57</th><td>14</td><td>Penjualan</td><td>2020-04-10</td><td>Zahra  </td><td>Item-11</td><td>Sabun Cuci Piring    </td><td>4</td><td>14000</td><td>04-2020</td></tr>\n",
              "\t<tr><th scope=row>62</th><td>16</td><td>Penjualan</td><td>2020-04-11</td><td>Agung  </td><td>Item-05</td><td>Mi Goreng Instant    </td><td>2</td><td> 2600</td><td>04-2020</td></tr>\n",
              "\t<tr><th scope=row>63</th><td>16</td><td>Penjualan</td><td>2020-04-11</td><td>Agung  </td><td>Item-07</td><td>Sabut Cuci Piring    </td><td>1</td><td> 7500</td><td>04-2020</td></tr>\n",
              "\t<tr><th scope=row>64</th><td>16</td><td>Penjualan</td><td>2020-04-11</td><td>Agung  </td><td>Item-11</td><td>Sabun Cuci Piring    </td><td>2</td><td>14000</td><td>04-2020</td></tr>\n",
              "\t<tr><th scope=row>65</th><td>17</td><td>Penjualan</td><td>2020-04-11</td><td>Bagus  </td><td>Item-05</td><td>Mi Goreng Instant    </td><td>1</td><td> 2600</td><td>04-2020</td></tr>\n",
              "\t<tr><th scope=row>66</th><td>17</td><td>Penjualan</td><td>2020-04-11</td><td>Bagus  </td><td>Item-11</td><td>Sabun Cuci Piring    </td><td>3</td><td>14000</td><td>04-2020</td></tr>\n",
              "\t<tr><th scope=row>67</th><td>17</td><td>Penjualan</td><td>2020-04-11</td><td>Bagus  </td><td>Item-16</td><td>Balsem Putih 20 gram </td><td>1</td><td>22300</td><td>04-2020</td></tr>\n",
              "\t<tr><th scope=row>68</th><td>18</td><td>Penjualan</td><td>2020-04-11</td><td>Bambang</td><td>Item-05</td><td>Mi Goreng Instant    </td><td>3</td><td> 2600</td><td>04-2020</td></tr>\n",
              "\t<tr><th scope=row>69</th><td>18</td><td>Penjualan</td><td>2020-04-11</td><td>Bambang</td><td>Item-11</td><td>Sabun Cuci Piring    </td><td>4</td><td>14000</td><td>04-2020</td></tr>\n",
              "\t<tr><th scope=row>70</th><td>18</td><td>Penjualan</td><td>2020-04-11</td><td>Bambang</td><td>Item-16</td><td>Balsem Putih 20 gram </td><td>1</td><td>22300</td><td>04-2020</td></tr>\n",
              "\t<tr><th scope=row>71</th><td>19</td><td>Penjualan</td><td>2020-04-11</td><td>Indah  </td><td>Item-03</td><td>Gula Pasir Putih 1 kg</td><td>2</td><td>12500</td><td>04-2020</td></tr>\n",
              "\t<tr><th scope=row>72</th><td>19</td><td>Penjualan</td><td>2020-04-11</td><td>Indah  </td><td>Item-05</td><td>Mi Goreng Instant    </td><td>1</td><td> 2600</td><td>04-2020</td></tr>\n",
              "\t<tr><th scope=row>73</th><td>19</td><td>Penjualan</td><td>2020-04-11</td><td>Indah  </td><td>Item-07</td><td>Sabut Cuci Piring    </td><td>2</td><td> 7500</td><td>04-2020</td></tr>\n",
              "\t<tr><th scope=row>74</th><td>19</td><td>Penjualan</td><td>2020-04-11</td><td>Indah  </td><td>Item-11</td><td>Sabun Cuci Piring    </td><td>3</td><td>14000</td><td>04-2020</td></tr>\n",
              "\t<tr><th scope=row>75</th><td>20</td><td>Penjualan</td><td>2020-04-11</td><td>Murni  </td><td>Item-02</td><td>Bawang Putih 200 gram</td><td>1</td><td>15000</td><td>04-2020</td></tr>\n",
              "\t<tr><th scope=row>76</th><td>20</td><td>Penjualan</td><td>2020-04-11</td><td>Murni  </td><td>Item-03</td><td>Gula Pasir Putih 1 kg</td><td>2</td><td>12500</td><td>04-2020</td></tr>\n",
              "\t<tr><th scope=row>77</th><td>20</td><td>Penjualan</td><td>2020-04-11</td><td>Murni  </td><td>Item-05</td><td>Mi Goreng Instant    </td><td>1</td><td> 2600</td><td>04-2020</td></tr>\n",
              "\t<tr><th scope=row>78</th><td>20</td><td>Penjualan</td><td>2020-04-11</td><td>Murni  </td><td>Item-11</td><td>Sabun Cuci Piring    </td><td>2</td><td>14000</td><td>04-2020</td></tr>\n",
              "\t<tr><th scope=row>79</th><td>20</td><td>Penjualan</td><td>2020-04-11</td><td>Murni  </td><td>Item-17</td><td>Obat Batuk           </td><td>3</td><td> 5000</td><td>04-2020</td></tr>\n",
              "\t<tr><th scope=row>80</th><td>21</td><td>Penjualan</td><td>2020-04-11</td><td>Rahma  </td><td>Item-02</td><td>Bawang Putih 200 gram</td><td>2</td><td>15000</td><td>04-2020</td></tr>\n",
              "\t<tr><th scope=row>81</th><td>21</td><td>Penjualan</td><td>2020-04-11</td><td>Rahma  </td><td>Item-03</td><td>Gula Pasir Putih 1 kg</td><td>1</td><td>12500</td><td>04-2020</td></tr>\n",
              "\t<tr><th scope=row>⋮</th><td>⋮</td><td>⋮</td><td>⋮</td><td>⋮</td><td>⋮</td><td>⋮</td><td>⋮</td><td>⋮</td><td>⋮</td></tr>\n",
              "\t<tr><th scope=row>1611</th><td>523</td><td>Penjualan</td><td>2020-06-06</td><td>Kurnia</td><td>Item-05</td><td>Mi Goreng Instant    </td><td>1</td><td> 2600</td><td>06-2020</td></tr>\n",
              "\t<tr><th scope=row>1616</th><td>525</td><td>Penjualan</td><td>2020-06-07</td><td>Jaya  </td><td>Item-04</td><td>Kopi Instant         </td><td>4</td><td> 5200</td><td>06-2020</td></tr>\n",
              "\t<tr><th scope=row>1617</th><td>525</td><td>Penjualan</td><td>2020-06-07</td><td>Jaya  </td><td>Item-05</td><td>Mi Goreng Instant    </td><td>4</td><td> 2600</td><td>06-2020</td></tr>\n",
              "\t<tr><th scope=row>1622</th><td>527</td><td>Penjualan</td><td>2020-06-08</td><td>Agung </td><td>Item-03</td><td>Gula Pasir Putih 1 kg</td><td>2</td><td>12500</td><td>06-2020</td></tr>\n",
              "\t<tr><th scope=row>1623</th><td>527</td><td>Penjualan</td><td>2020-06-08</td><td>Agung </td><td>Item-04</td><td>Kopi Instant         </td><td>1</td><td> 5200</td><td>06-2020</td></tr>\n",
              "\t<tr><th scope=row>1624</th><td>527</td><td>Penjualan</td><td>2020-06-08</td><td>Agung </td><td>Item-05</td><td>Mi Goreng Instant    </td><td>1</td><td> 2600</td><td>06-2020</td></tr>\n",
              "\t<tr><th scope=row>1625</th><td>528</td><td>Penjualan</td><td>2020-06-08</td><td>Siti  </td><td>Item-03</td><td>Gula Pasir Putih 1 kg</td><td>3</td><td>12500</td><td>06-2020</td></tr>\n",
              "\t<tr><th scope=row>1626</th><td>528</td><td>Penjualan</td><td>2020-06-08</td><td>Siti  </td><td>Item-04</td><td>Kopi Instant         </td><td>1</td><td> 5200</td><td>06-2020</td></tr>\n",
              "\t<tr><th scope=row>1627</th><td>528</td><td>Penjualan</td><td>2020-06-08</td><td>Siti  </td><td>Item-05</td><td>Mi Goreng Instant    </td><td>3</td><td> 2600</td><td>06-2020</td></tr>\n",
              "\t<tr><th scope=row>1628</th><td>529</td><td>Penjualan</td><td>2020-06-08</td><td>Sri   </td><td>Item-04</td><td>Kopi Instant         </td><td>3</td><td> 5200</td><td>06-2020</td></tr>\n",
              "\t<tr><th scope=row>1629</th><td>529</td><td>Penjualan</td><td>2020-06-08</td><td>Sri   </td><td>Item-05</td><td>Mi Goreng Instant    </td><td>2</td><td> 2600</td><td>06-2020</td></tr>\n",
              "\t<tr><th scope=row>1640</th><td>533</td><td>Penjualan</td><td>2020-06-11</td><td>Andi  </td><td>Item-01</td><td>Batere AA            </td><td>2</td><td>12000</td><td>06-2020</td></tr>\n",
              "\t<tr><th scope=row>1641</th><td>533</td><td>Penjualan</td><td>2020-06-11</td><td>Andi  </td><td>Item-02</td><td>Bawang Putih 200 gram</td><td>4</td><td>15000</td><td>06-2020</td></tr>\n",
              "\t<tr><th scope=row>1642</th><td>533</td><td>Penjualan</td><td>2020-06-11</td><td>Andi  </td><td>Item-03</td><td>Gula Pasir Putih 1 kg</td><td>2</td><td>12500</td><td>06-2020</td></tr>\n",
              "\t<tr><th scope=row>1643</th><td>533</td><td>Penjualan</td><td>2020-06-11</td><td>Andi  </td><td>Item-04</td><td>Kopi Instant         </td><td>3</td><td> 5200</td><td>06-2020</td></tr>\n",
              "\t<tr><th scope=row>1644</th><td>533</td><td>Penjualan</td><td>2020-06-11</td><td>Andi  </td><td>Item-05</td><td>Mi Goreng Instant    </td><td>3</td><td> 2600</td><td>06-2020</td></tr>\n",
              "\t<tr><th scope=row>1645</th><td>534</td><td>Penjualan</td><td>2020-06-11</td><td>Feri  </td><td>Item-05</td><td>Mi Goreng Instant    </td><td>1</td><td> 2600</td><td>06-2020</td></tr>\n",
              "\t<tr><th scope=row>1646</th><td>535</td><td>Penjualan</td><td>2020-06-11</td><td>Jaya  </td><td>Item-05</td><td>Mi Goreng Instant    </td><td>3</td><td> 2600</td><td>06-2020</td></tr>\n",
              "\t<tr><th scope=row>1647</th><td>536</td><td>Penjualan</td><td>2020-06-11</td><td>Kardi </td><td>Item-02</td><td>Bawang Putih 200 gram</td><td>1</td><td>15000</td><td>06-2020</td></tr>\n",
              "\t<tr><th scope=row>1648</th><td>536</td><td>Penjualan</td><td>2020-06-11</td><td>Kardi </td><td>Item-03</td><td>Gula Pasir Putih 1 kg</td><td>1</td><td>12500</td><td>06-2020</td></tr>\n",
              "\t<tr><th scope=row>1649</th><td>536</td><td>Penjualan</td><td>2020-06-11</td><td>Kardi </td><td>Item-04</td><td>Kopi Instant         </td><td>3</td><td> 5200</td><td>06-2020</td></tr>\n",
              "\t<tr><th scope=row>1650</th><td>536</td><td>Penjualan</td><td>2020-06-11</td><td>Kardi </td><td>Item-05</td><td>Mi Goreng Instant    </td><td>1</td><td> 2600</td><td>06-2020</td></tr>\n",
              "\t<tr><th scope=row>1651</th><td>537</td><td>Penjualan</td><td>2020-06-11</td><td>Siti  </td><td>Item-05</td><td>Mi Goreng Instant    </td><td>3</td><td> 2600</td><td>06-2020</td></tr>\n",
              "\t<tr><th scope=row>1667</th><td>542</td><td>Penjualan</td><td>2020-06-15</td><td>Agung </td><td>Item-05</td><td>Mi Goreng Instant    </td><td>3</td><td> 2600</td><td>06-2020</td></tr>\n",
              "\t<tr><th scope=row>1670</th><td>544</td><td>Penjualan</td><td>2020-06-16</td><td>Kardi </td><td>Item-02</td><td>Bawang Putih 200 gram</td><td>2</td><td>15000</td><td>06-2020</td></tr>\n",
              "\t<tr><th scope=row>1671</th><td>544</td><td>Penjualan</td><td>2020-06-16</td><td>Kardi </td><td>Item-03</td><td>Gula Pasir Putih 1 kg</td><td>3</td><td>12500</td><td>06-2020</td></tr>\n",
              "\t<tr><th scope=row>1672</th><td>544</td><td>Penjualan</td><td>2020-06-16</td><td>Kardi </td><td>Item-04</td><td>Kopi Instant         </td><td>4</td><td> 5200</td><td>06-2020</td></tr>\n",
              "\t<tr><th scope=row>1673</th><td>544</td><td>Penjualan</td><td>2020-06-16</td><td>Kardi </td><td>Item-05</td><td>Mi Goreng Instant    </td><td>3</td><td> 2600</td><td>06-2020</td></tr>\n",
              "\t<tr><th scope=row>1693</th><td>550</td><td>Penjualan</td><td>2020-06-21</td><td>Feri  </td><td>Item-04</td><td>Kopi Instant         </td><td>3</td><td> 5200</td><td>06-2020</td></tr>\n",
              "\t<tr><th scope=row>1694</th><td>550</td><td>Penjualan</td><td>2020-06-21</td><td>Feri  </td><td>Item-05</td><td>Mi Goreng Instant    </td><td>4</td><td> 2600</td><td>06-2020</td></tr>\n",
              "</tbody>\n",
              "</table>\n"
            ],
            "text/markdown": "\nA data.frame: 1392 × 9\n\n| <!--/--> | No.Transaksi &lt;int&gt; | Jenis.Transaksi &lt;chr&gt; | Tanggal &lt;date&gt; | Nama.Pelanggan &lt;chr&gt; | Kode.Produk &lt;chr&gt; | Nama.Produk &lt;chr&gt; | Jumlah &lt;int&gt; | Harga &lt;dbl&gt; | Bulan_Tahun &lt;chr&gt; |\n|---|---|---|---|---|---|---|---|---|---|\n| 48 | 10 | Penjualan | 2020-04-10 | Fajri   | Item-11 | Sabun Cuci Piring     | 3 | 14000 | 04-2020 |\n| 49 | 11 | Penjualan | 2020-04-10 | Fitri   | Item-11 | Sabun Cuci Piring     | 3 | 14000 | 04-2020 |\n| 50 | 12 | Penjualan | 2020-04-10 | Nita    | Item-11 | Sabun Cuci Piring     | 2 | 14000 | 04-2020 |\n| 51 | 13 | Penjualan | 2020-04-10 | Rian    | Item-02 | Bawang Putih 200 gram | 3 | 15000 | 04-2020 |\n| 52 | 13 | Penjualan | 2020-04-10 | Rian    | Item-03 | Gula Pasir Putih 1 kg | 2 | 12500 | 04-2020 |\n| 53 | 13 | Penjualan | 2020-04-10 | Rian    | Item-05 | Mi Goreng Instant     | 2 |  2600 | 04-2020 |\n| 54 | 13 | Penjualan | 2020-04-10 | Rian    | Item-11 | Sabun Cuci Piring     | 3 | 14000 | 04-2020 |\n| 55 | 14 | Penjualan | 2020-04-10 | Zahra   | Item-03 | Gula Pasir Putih 1 kg | 3 | 12500 | 04-2020 |\n| 56 | 14 | Penjualan | 2020-04-10 | Zahra   | Item-05 | Mi Goreng Instant     | 2 |  2600 | 04-2020 |\n| 57 | 14 | Penjualan | 2020-04-10 | Zahra   | Item-11 | Sabun Cuci Piring     | 4 | 14000 | 04-2020 |\n| 62 | 16 | Penjualan | 2020-04-11 | Agung   | Item-05 | Mi Goreng Instant     | 2 |  2600 | 04-2020 |\n| 63 | 16 | Penjualan | 2020-04-11 | Agung   | Item-07 | Sabut Cuci Piring     | 1 |  7500 | 04-2020 |\n| 64 | 16 | Penjualan | 2020-04-11 | Agung   | Item-11 | Sabun Cuci Piring     | 2 | 14000 | 04-2020 |\n| 65 | 17 | Penjualan | 2020-04-11 | Bagus   | Item-05 | Mi Goreng Instant     | 1 |  2600 | 04-2020 |\n| 66 | 17 | Penjualan | 2020-04-11 | Bagus   | Item-11 | Sabun Cuci Piring     | 3 | 14000 | 04-2020 |\n| 67 | 17 | Penjualan | 2020-04-11 | Bagus   | Item-16 | Balsem Putih 20 gram  | 1 | 22300 | 04-2020 |\n| 68 | 18 | Penjualan | 2020-04-11 | Bambang | Item-05 | Mi Goreng Instant     | 3 |  2600 | 04-2020 |\n| 69 | 18 | Penjualan | 2020-04-11 | Bambang | Item-11 | Sabun Cuci Piring     | 4 | 14000 | 04-2020 |\n| 70 | 18 | Penjualan | 2020-04-11 | Bambang | Item-16 | Balsem Putih 20 gram  | 1 | 22300 | 04-2020 |\n| 71 | 19 | Penjualan | 2020-04-11 | Indah   | Item-03 | Gula Pasir Putih 1 kg | 2 | 12500 | 04-2020 |\n| 72 | 19 | Penjualan | 2020-04-11 | Indah   | Item-05 | Mi Goreng Instant     | 1 |  2600 | 04-2020 |\n| 73 | 19 | Penjualan | 2020-04-11 | Indah   | Item-07 | Sabut Cuci Piring     | 2 |  7500 | 04-2020 |\n| 74 | 19 | Penjualan | 2020-04-11 | Indah   | Item-11 | Sabun Cuci Piring     | 3 | 14000 | 04-2020 |\n| 75 | 20 | Penjualan | 2020-04-11 | Murni   | Item-02 | Bawang Putih 200 gram | 1 | 15000 | 04-2020 |\n| 76 | 20 | Penjualan | 2020-04-11 | Murni   | Item-03 | Gula Pasir Putih 1 kg | 2 | 12500 | 04-2020 |\n| 77 | 20 | Penjualan | 2020-04-11 | Murni   | Item-05 | Mi Goreng Instant     | 1 |  2600 | 04-2020 |\n| 78 | 20 | Penjualan | 2020-04-11 | Murni   | Item-11 | Sabun Cuci Piring     | 2 | 14000 | 04-2020 |\n| 79 | 20 | Penjualan | 2020-04-11 | Murni   | Item-17 | Obat Batuk            | 3 |  5000 | 04-2020 |\n| 80 | 21 | Penjualan | 2020-04-11 | Rahma   | Item-02 | Bawang Putih 200 gram | 2 | 15000 | 04-2020 |\n| 81 | 21 | Penjualan | 2020-04-11 | Rahma   | Item-03 | Gula Pasir Putih 1 kg | 1 | 12500 | 04-2020 |\n| ⋮ | ⋮ | ⋮ | ⋮ | ⋮ | ⋮ | ⋮ | ⋮ | ⋮ | ⋮ |\n| 1611 | 523 | Penjualan | 2020-06-06 | Kurnia | Item-05 | Mi Goreng Instant     | 1 |  2600 | 06-2020 |\n| 1616 | 525 | Penjualan | 2020-06-07 | Jaya   | Item-04 | Kopi Instant          | 4 |  5200 | 06-2020 |\n| 1617 | 525 | Penjualan | 2020-06-07 | Jaya   | Item-05 | Mi Goreng Instant     | 4 |  2600 | 06-2020 |\n| 1622 | 527 | Penjualan | 2020-06-08 | Agung  | Item-03 | Gula Pasir Putih 1 kg | 2 | 12500 | 06-2020 |\n| 1623 | 527 | Penjualan | 2020-06-08 | Agung  | Item-04 | Kopi Instant          | 1 |  5200 | 06-2020 |\n| 1624 | 527 | Penjualan | 2020-06-08 | Agung  | Item-05 | Mi Goreng Instant     | 1 |  2600 | 06-2020 |\n| 1625 | 528 | Penjualan | 2020-06-08 | Siti   | Item-03 | Gula Pasir Putih 1 kg | 3 | 12500 | 06-2020 |\n| 1626 | 528 | Penjualan | 2020-06-08 | Siti   | Item-04 | Kopi Instant          | 1 |  5200 | 06-2020 |\n| 1627 | 528 | Penjualan | 2020-06-08 | Siti   | Item-05 | Mi Goreng Instant     | 3 |  2600 | 06-2020 |\n| 1628 | 529 | Penjualan | 2020-06-08 | Sri    | Item-04 | Kopi Instant          | 3 |  5200 | 06-2020 |\n| 1629 | 529 | Penjualan | 2020-06-08 | Sri    | Item-05 | Mi Goreng Instant     | 2 |  2600 | 06-2020 |\n| 1640 | 533 | Penjualan | 2020-06-11 | Andi   | Item-01 | Batere AA             | 2 | 12000 | 06-2020 |\n| 1641 | 533 | Penjualan | 2020-06-11 | Andi   | Item-02 | Bawang Putih 200 gram | 4 | 15000 | 06-2020 |\n| 1642 | 533 | Penjualan | 2020-06-11 | Andi   | Item-03 | Gula Pasir Putih 1 kg | 2 | 12500 | 06-2020 |\n| 1643 | 533 | Penjualan | 2020-06-11 | Andi   | Item-04 | Kopi Instant          | 3 |  5200 | 06-2020 |\n| 1644 | 533 | Penjualan | 2020-06-11 | Andi   | Item-05 | Mi Goreng Instant     | 3 |  2600 | 06-2020 |\n| 1645 | 534 | Penjualan | 2020-06-11 | Feri   | Item-05 | Mi Goreng Instant     | 1 |  2600 | 06-2020 |\n| 1646 | 535 | Penjualan | 2020-06-11 | Jaya   | Item-05 | Mi Goreng Instant     | 3 |  2600 | 06-2020 |\n| 1647 | 536 | Penjualan | 2020-06-11 | Kardi  | Item-02 | Bawang Putih 200 gram | 1 | 15000 | 06-2020 |\n| 1648 | 536 | Penjualan | 2020-06-11 | Kardi  | Item-03 | Gula Pasir Putih 1 kg | 1 | 12500 | 06-2020 |\n| 1649 | 536 | Penjualan | 2020-06-11 | Kardi  | Item-04 | Kopi Instant          | 3 |  5200 | 06-2020 |\n| 1650 | 536 | Penjualan | 2020-06-11 | Kardi  | Item-05 | Mi Goreng Instant     | 1 |  2600 | 06-2020 |\n| 1651 | 537 | Penjualan | 2020-06-11 | Siti   | Item-05 | Mi Goreng Instant     | 3 |  2600 | 06-2020 |\n| 1667 | 542 | Penjualan | 2020-06-15 | Agung  | Item-05 | Mi Goreng Instant     | 3 |  2600 | 06-2020 |\n| 1670 | 544 | Penjualan | 2020-06-16 | Kardi  | Item-02 | Bawang Putih 200 gram | 2 | 15000 | 06-2020 |\n| 1671 | 544 | Penjualan | 2020-06-16 | Kardi  | Item-03 | Gula Pasir Putih 1 kg | 3 | 12500 | 06-2020 |\n| 1672 | 544 | Penjualan | 2020-06-16 | Kardi  | Item-04 | Kopi Instant          | 4 |  5200 | 06-2020 |\n| 1673 | 544 | Penjualan | 2020-06-16 | Kardi  | Item-05 | Mi Goreng Instant     | 3 |  2600 | 06-2020 |\n| 1693 | 550 | Penjualan | 2020-06-21 | Feri   | Item-04 | Kopi Instant          | 3 |  5200 | 06-2020 |\n| 1694 | 550 | Penjualan | 2020-06-21 | Feri   | Item-05 | Mi Goreng Instant     | 4 |  2600 | 06-2020 |\n\n",
            "text/latex": "A data.frame: 1392 × 9\n\\begin{tabular}{r|lllllllll}\n  & No.Transaksi & Jenis.Transaksi & Tanggal & Nama.Pelanggan & Kode.Produk & Nama.Produk & Jumlah & Harga & Bulan\\_Tahun\\\\\n  & <int> & <chr> & <date> & <chr> & <chr> & <chr> & <int> & <dbl> & <chr>\\\\\n\\hline\n\t48 & 10 & Penjualan & 2020-04-10 & Fajri   & Item-11 & Sabun Cuci Piring     & 3 & 14000 & 04-2020\\\\\n\t49 & 11 & Penjualan & 2020-04-10 & Fitri   & Item-11 & Sabun Cuci Piring     & 3 & 14000 & 04-2020\\\\\n\t50 & 12 & Penjualan & 2020-04-10 & Nita    & Item-11 & Sabun Cuci Piring     & 2 & 14000 & 04-2020\\\\\n\t51 & 13 & Penjualan & 2020-04-10 & Rian    & Item-02 & Bawang Putih 200 gram & 3 & 15000 & 04-2020\\\\\n\t52 & 13 & Penjualan & 2020-04-10 & Rian    & Item-03 & Gula Pasir Putih 1 kg & 2 & 12500 & 04-2020\\\\\n\t53 & 13 & Penjualan & 2020-04-10 & Rian    & Item-05 & Mi Goreng Instant     & 2 &  2600 & 04-2020\\\\\n\t54 & 13 & Penjualan & 2020-04-10 & Rian    & Item-11 & Sabun Cuci Piring     & 3 & 14000 & 04-2020\\\\\n\t55 & 14 & Penjualan & 2020-04-10 & Zahra   & Item-03 & Gula Pasir Putih 1 kg & 3 & 12500 & 04-2020\\\\\n\t56 & 14 & Penjualan & 2020-04-10 & Zahra   & Item-05 & Mi Goreng Instant     & 2 &  2600 & 04-2020\\\\\n\t57 & 14 & Penjualan & 2020-04-10 & Zahra   & Item-11 & Sabun Cuci Piring     & 4 & 14000 & 04-2020\\\\\n\t62 & 16 & Penjualan & 2020-04-11 & Agung   & Item-05 & Mi Goreng Instant     & 2 &  2600 & 04-2020\\\\\n\t63 & 16 & Penjualan & 2020-04-11 & Agung   & Item-07 & Sabut Cuci Piring     & 1 &  7500 & 04-2020\\\\\n\t64 & 16 & Penjualan & 2020-04-11 & Agung   & Item-11 & Sabun Cuci Piring     & 2 & 14000 & 04-2020\\\\\n\t65 & 17 & Penjualan & 2020-04-11 & Bagus   & Item-05 & Mi Goreng Instant     & 1 &  2600 & 04-2020\\\\\n\t66 & 17 & Penjualan & 2020-04-11 & Bagus   & Item-11 & Sabun Cuci Piring     & 3 & 14000 & 04-2020\\\\\n\t67 & 17 & Penjualan & 2020-04-11 & Bagus   & Item-16 & Balsem Putih 20 gram  & 1 & 22300 & 04-2020\\\\\n\t68 & 18 & Penjualan & 2020-04-11 & Bambang & Item-05 & Mi Goreng Instant     & 3 &  2600 & 04-2020\\\\\n\t69 & 18 & Penjualan & 2020-04-11 & Bambang & Item-11 & Sabun Cuci Piring     & 4 & 14000 & 04-2020\\\\\n\t70 & 18 & Penjualan & 2020-04-11 & Bambang & Item-16 & Balsem Putih 20 gram  & 1 & 22300 & 04-2020\\\\\n\t71 & 19 & Penjualan & 2020-04-11 & Indah   & Item-03 & Gula Pasir Putih 1 kg & 2 & 12500 & 04-2020\\\\\n\t72 & 19 & Penjualan & 2020-04-11 & Indah   & Item-05 & Mi Goreng Instant     & 1 &  2600 & 04-2020\\\\\n\t73 & 19 & Penjualan & 2020-04-11 & Indah   & Item-07 & Sabut Cuci Piring     & 2 &  7500 & 04-2020\\\\\n\t74 & 19 & Penjualan & 2020-04-11 & Indah   & Item-11 & Sabun Cuci Piring     & 3 & 14000 & 04-2020\\\\\n\t75 & 20 & Penjualan & 2020-04-11 & Murni   & Item-02 & Bawang Putih 200 gram & 1 & 15000 & 04-2020\\\\\n\t76 & 20 & Penjualan & 2020-04-11 & Murni   & Item-03 & Gula Pasir Putih 1 kg & 2 & 12500 & 04-2020\\\\\n\t77 & 20 & Penjualan & 2020-04-11 & Murni   & Item-05 & Mi Goreng Instant     & 1 &  2600 & 04-2020\\\\\n\t78 & 20 & Penjualan & 2020-04-11 & Murni   & Item-11 & Sabun Cuci Piring     & 2 & 14000 & 04-2020\\\\\n\t79 & 20 & Penjualan & 2020-04-11 & Murni   & Item-17 & Obat Batuk            & 3 &  5000 & 04-2020\\\\\n\t80 & 21 & Penjualan & 2020-04-11 & Rahma   & Item-02 & Bawang Putih 200 gram & 2 & 15000 & 04-2020\\\\\n\t81 & 21 & Penjualan & 2020-04-11 & Rahma   & Item-03 & Gula Pasir Putih 1 kg & 1 & 12500 & 04-2020\\\\\n\t⋮ & ⋮ & ⋮ & ⋮ & ⋮ & ⋮ & ⋮ & ⋮ & ⋮ & ⋮\\\\\n\t1611 & 523 & Penjualan & 2020-06-06 & Kurnia & Item-05 & Mi Goreng Instant     & 1 &  2600 & 06-2020\\\\\n\t1616 & 525 & Penjualan & 2020-06-07 & Jaya   & Item-04 & Kopi Instant          & 4 &  5200 & 06-2020\\\\\n\t1617 & 525 & Penjualan & 2020-06-07 & Jaya   & Item-05 & Mi Goreng Instant     & 4 &  2600 & 06-2020\\\\\n\t1622 & 527 & Penjualan & 2020-06-08 & Agung  & Item-03 & Gula Pasir Putih 1 kg & 2 & 12500 & 06-2020\\\\\n\t1623 & 527 & Penjualan & 2020-06-08 & Agung  & Item-04 & Kopi Instant          & 1 &  5200 & 06-2020\\\\\n\t1624 & 527 & Penjualan & 2020-06-08 & Agung  & Item-05 & Mi Goreng Instant     & 1 &  2600 & 06-2020\\\\\n\t1625 & 528 & Penjualan & 2020-06-08 & Siti   & Item-03 & Gula Pasir Putih 1 kg & 3 & 12500 & 06-2020\\\\\n\t1626 & 528 & Penjualan & 2020-06-08 & Siti   & Item-04 & Kopi Instant          & 1 &  5200 & 06-2020\\\\\n\t1627 & 528 & Penjualan & 2020-06-08 & Siti   & Item-05 & Mi Goreng Instant     & 3 &  2600 & 06-2020\\\\\n\t1628 & 529 & Penjualan & 2020-06-08 & Sri    & Item-04 & Kopi Instant          & 3 &  5200 & 06-2020\\\\\n\t1629 & 529 & Penjualan & 2020-06-08 & Sri    & Item-05 & Mi Goreng Instant     & 2 &  2600 & 06-2020\\\\\n\t1640 & 533 & Penjualan & 2020-06-11 & Andi   & Item-01 & Batere AA             & 2 & 12000 & 06-2020\\\\\n\t1641 & 533 & Penjualan & 2020-06-11 & Andi   & Item-02 & Bawang Putih 200 gram & 4 & 15000 & 06-2020\\\\\n\t1642 & 533 & Penjualan & 2020-06-11 & Andi   & Item-03 & Gula Pasir Putih 1 kg & 2 & 12500 & 06-2020\\\\\n\t1643 & 533 & Penjualan & 2020-06-11 & Andi   & Item-04 & Kopi Instant          & 3 &  5200 & 06-2020\\\\\n\t1644 & 533 & Penjualan & 2020-06-11 & Andi   & Item-05 & Mi Goreng Instant     & 3 &  2600 & 06-2020\\\\\n\t1645 & 534 & Penjualan & 2020-06-11 & Feri   & Item-05 & Mi Goreng Instant     & 1 &  2600 & 06-2020\\\\\n\t1646 & 535 & Penjualan & 2020-06-11 & Jaya   & Item-05 & Mi Goreng Instant     & 3 &  2600 & 06-2020\\\\\n\t1647 & 536 & Penjualan & 2020-06-11 & Kardi  & Item-02 & Bawang Putih 200 gram & 1 & 15000 & 06-2020\\\\\n\t1648 & 536 & Penjualan & 2020-06-11 & Kardi  & Item-03 & Gula Pasir Putih 1 kg & 1 & 12500 & 06-2020\\\\\n\t1649 & 536 & Penjualan & 2020-06-11 & Kardi  & Item-04 & Kopi Instant          & 3 &  5200 & 06-2020\\\\\n\t1650 & 536 & Penjualan & 2020-06-11 & Kardi  & Item-05 & Mi Goreng Instant     & 1 &  2600 & 06-2020\\\\\n\t1651 & 537 & Penjualan & 2020-06-11 & Siti   & Item-05 & Mi Goreng Instant     & 3 &  2600 & 06-2020\\\\\n\t1667 & 542 & Penjualan & 2020-06-15 & Agung  & Item-05 & Mi Goreng Instant     & 3 &  2600 & 06-2020\\\\\n\t1670 & 544 & Penjualan & 2020-06-16 & Kardi  & Item-02 & Bawang Putih 200 gram & 2 & 15000 & 06-2020\\\\\n\t1671 & 544 & Penjualan & 2020-06-16 & Kardi  & Item-03 & Gula Pasir Putih 1 kg & 3 & 12500 & 06-2020\\\\\n\t1672 & 544 & Penjualan & 2020-06-16 & Kardi  & Item-04 & Kopi Instant          & 4 &  5200 & 06-2020\\\\\n\t1673 & 544 & Penjualan & 2020-06-16 & Kardi  & Item-05 & Mi Goreng Instant     & 3 &  2600 & 06-2020\\\\\n\t1693 & 550 & Penjualan & 2020-06-21 & Feri   & Item-04 & Kopi Instant          & 3 &  5200 & 06-2020\\\\\n\t1694 & 550 & Penjualan & 2020-06-21 & Feri   & Item-05 & Mi Goreng Instant     & 4 &  2600 & 06-2020\\\\\n\\end{tabular}\n",
            "text/plain": [
              "     No.Transaksi Jenis.Transaksi Tanggal    Nama.Pelanggan Kode.Produk\n",
              "48   10           Penjualan       2020-04-10 Fajri          Item-11    \n",
              "49   11           Penjualan       2020-04-10 Fitri          Item-11    \n",
              "50   12           Penjualan       2020-04-10 Nita           Item-11    \n",
              "51   13           Penjualan       2020-04-10 Rian           Item-02    \n",
              "52   13           Penjualan       2020-04-10 Rian           Item-03    \n",
              "53   13           Penjualan       2020-04-10 Rian           Item-05    \n",
              "54   13           Penjualan       2020-04-10 Rian           Item-11    \n",
              "55   14           Penjualan       2020-04-10 Zahra          Item-03    \n",
              "56   14           Penjualan       2020-04-10 Zahra          Item-05    \n",
              "57   14           Penjualan       2020-04-10 Zahra          Item-11    \n",
              "62   16           Penjualan       2020-04-11 Agung          Item-05    \n",
              "63   16           Penjualan       2020-04-11 Agung          Item-07    \n",
              "64   16           Penjualan       2020-04-11 Agung          Item-11    \n",
              "65   17           Penjualan       2020-04-11 Bagus          Item-05    \n",
              "66   17           Penjualan       2020-04-11 Bagus          Item-11    \n",
              "67   17           Penjualan       2020-04-11 Bagus          Item-16    \n",
              "68   18           Penjualan       2020-04-11 Bambang        Item-05    \n",
              "69   18           Penjualan       2020-04-11 Bambang        Item-11    \n",
              "70   18           Penjualan       2020-04-11 Bambang        Item-16    \n",
              "71   19           Penjualan       2020-04-11 Indah          Item-03    \n",
              "72   19           Penjualan       2020-04-11 Indah          Item-05    \n",
              "73   19           Penjualan       2020-04-11 Indah          Item-07    \n",
              "74   19           Penjualan       2020-04-11 Indah          Item-11    \n",
              "75   20           Penjualan       2020-04-11 Murni          Item-02    \n",
              "76   20           Penjualan       2020-04-11 Murni          Item-03    \n",
              "77   20           Penjualan       2020-04-11 Murni          Item-05    \n",
              "78   20           Penjualan       2020-04-11 Murni          Item-11    \n",
              "79   20           Penjualan       2020-04-11 Murni          Item-17    \n",
              "80   21           Penjualan       2020-04-11 Rahma          Item-02    \n",
              "81   21           Penjualan       2020-04-11 Rahma          Item-03    \n",
              "⋮    ⋮            ⋮               ⋮          ⋮              ⋮          \n",
              "1611 523          Penjualan       2020-06-06 Kurnia         Item-05    \n",
              "1616 525          Penjualan       2020-06-07 Jaya           Item-04    \n",
              "1617 525          Penjualan       2020-06-07 Jaya           Item-05    \n",
              "1622 527          Penjualan       2020-06-08 Agung          Item-03    \n",
              "1623 527          Penjualan       2020-06-08 Agung          Item-04    \n",
              "1624 527          Penjualan       2020-06-08 Agung          Item-05    \n",
              "1625 528          Penjualan       2020-06-08 Siti           Item-03    \n",
              "1626 528          Penjualan       2020-06-08 Siti           Item-04    \n",
              "1627 528          Penjualan       2020-06-08 Siti           Item-05    \n",
              "1628 529          Penjualan       2020-06-08 Sri            Item-04    \n",
              "1629 529          Penjualan       2020-06-08 Sri            Item-05    \n",
              "1640 533          Penjualan       2020-06-11 Andi           Item-01    \n",
              "1641 533          Penjualan       2020-06-11 Andi           Item-02    \n",
              "1642 533          Penjualan       2020-06-11 Andi           Item-03    \n",
              "1643 533          Penjualan       2020-06-11 Andi           Item-04    \n",
              "1644 533          Penjualan       2020-06-11 Andi           Item-05    \n",
              "1645 534          Penjualan       2020-06-11 Feri           Item-05    \n",
              "1646 535          Penjualan       2020-06-11 Jaya           Item-05    \n",
              "1647 536          Penjualan       2020-06-11 Kardi          Item-02    \n",
              "1648 536          Penjualan       2020-06-11 Kardi          Item-03    \n",
              "1649 536          Penjualan       2020-06-11 Kardi          Item-04    \n",
              "1650 536          Penjualan       2020-06-11 Kardi          Item-05    \n",
              "1651 537          Penjualan       2020-06-11 Siti           Item-05    \n",
              "1667 542          Penjualan       2020-06-15 Agung          Item-05    \n",
              "1670 544          Penjualan       2020-06-16 Kardi          Item-02    \n",
              "1671 544          Penjualan       2020-06-16 Kardi          Item-03    \n",
              "1672 544          Penjualan       2020-06-16 Kardi          Item-04    \n",
              "1673 544          Penjualan       2020-06-16 Kardi          Item-05    \n",
              "1693 550          Penjualan       2020-06-21 Feri           Item-04    \n",
              "1694 550          Penjualan       2020-06-21 Feri           Item-05    \n",
              "     Nama.Produk           Jumlah Harga Bulan_Tahun\n",
              "48   Sabun Cuci Piring     3      14000 04-2020    \n",
              "49   Sabun Cuci Piring     3      14000 04-2020    \n",
              "50   Sabun Cuci Piring     2      14000 04-2020    \n",
              "51   Bawang Putih 200 gram 3      15000 04-2020    \n",
              "52   Gula Pasir Putih 1 kg 2      12500 04-2020    \n",
              "53   Mi Goreng Instant     2       2600 04-2020    \n",
              "54   Sabun Cuci Piring     3      14000 04-2020    \n",
              "55   Gula Pasir Putih 1 kg 3      12500 04-2020    \n",
              "56   Mi Goreng Instant     2       2600 04-2020    \n",
              "57   Sabun Cuci Piring     4      14000 04-2020    \n",
              "62   Mi Goreng Instant     2       2600 04-2020    \n",
              "63   Sabut Cuci Piring     1       7500 04-2020    \n",
              "64   Sabun Cuci Piring     2      14000 04-2020    \n",
              "65   Mi Goreng Instant     1       2600 04-2020    \n",
              "66   Sabun Cuci Piring     3      14000 04-2020    \n",
              "67   Balsem Putih 20 gram  1      22300 04-2020    \n",
              "68   Mi Goreng Instant     3       2600 04-2020    \n",
              "69   Sabun Cuci Piring     4      14000 04-2020    \n",
              "70   Balsem Putih 20 gram  1      22300 04-2020    \n",
              "71   Gula Pasir Putih 1 kg 2      12500 04-2020    \n",
              "72   Mi Goreng Instant     1       2600 04-2020    \n",
              "73   Sabut Cuci Piring     2       7500 04-2020    \n",
              "74   Sabun Cuci Piring     3      14000 04-2020    \n",
              "75   Bawang Putih 200 gram 1      15000 04-2020    \n",
              "76   Gula Pasir Putih 1 kg 2      12500 04-2020    \n",
              "77   Mi Goreng Instant     1       2600 04-2020    \n",
              "78   Sabun Cuci Piring     2      14000 04-2020    \n",
              "79   Obat Batuk            3       5000 04-2020    \n",
              "80   Bawang Putih 200 gram 2      15000 04-2020    \n",
              "81   Gula Pasir Putih 1 kg 1      12500 04-2020    \n",
              "⋮    ⋮                     ⋮      ⋮     ⋮          \n",
              "1611 Mi Goreng Instant     1       2600 06-2020    \n",
              "1616 Kopi Instant          4       5200 06-2020    \n",
              "1617 Mi Goreng Instant     4       2600 06-2020    \n",
              "1622 Gula Pasir Putih 1 kg 2      12500 06-2020    \n",
              "1623 Kopi Instant          1       5200 06-2020    \n",
              "1624 Mi Goreng Instant     1       2600 06-2020    \n",
              "1625 Gula Pasir Putih 1 kg 3      12500 06-2020    \n",
              "1626 Kopi Instant          1       5200 06-2020    \n",
              "1627 Mi Goreng Instant     3       2600 06-2020    \n",
              "1628 Kopi Instant          3       5200 06-2020    \n",
              "1629 Mi Goreng Instant     2       2600 06-2020    \n",
              "1640 Batere AA             2      12000 06-2020    \n",
              "1641 Bawang Putih 200 gram 4      15000 06-2020    \n",
              "1642 Gula Pasir Putih 1 kg 2      12500 06-2020    \n",
              "1643 Kopi Instant          3       5200 06-2020    \n",
              "1644 Mi Goreng Instant     3       2600 06-2020    \n",
              "1645 Mi Goreng Instant     1       2600 06-2020    \n",
              "1646 Mi Goreng Instant     3       2600 06-2020    \n",
              "1647 Bawang Putih 200 gram 1      15000 06-2020    \n",
              "1648 Gula Pasir Putih 1 kg 1      12500 06-2020    \n",
              "1649 Kopi Instant          3       5200 06-2020    \n",
              "1650 Mi Goreng Instant     1       2600 06-2020    \n",
              "1651 Mi Goreng Instant     3       2600 06-2020    \n",
              "1667 Mi Goreng Instant     3       2600 06-2020    \n",
              "1670 Bawang Putih 200 gram 2      15000 06-2020    \n",
              "1671 Gula Pasir Putih 1 kg 3      12500 06-2020    \n",
              "1672 Kopi Instant          4       5200 06-2020    \n",
              "1673 Mi Goreng Instant     3       2600 06-2020    \n",
              "1693 Kopi Instant          3       5200 06-2020    \n",
              "1694 Mi Goreng Instant     4       2600 06-2020    "
            ]
          },
          "metadata": {}
        }
      ]
    },
    {
      "cell_type": "code",
      "source": [
        "#Lakukan fungsi aggregasi data untuk mendapatkan penjualan perbulan\n",
        "penjualan_perbulan = aggregate(x = data_penjualan$Jumlah, \n",
        "                     by = list(Bulan_Tahun = data_penjualan$Bulan_Tahun),\n",
        "                     FUN = sum)"
      ],
      "metadata": {
        "id": "1E_w1Hzh3DTJ"
      },
      "execution_count": 15,
      "outputs": []
    },
    {
      "cell_type": "code",
      "source": [
        "penjualan_perbulan"
      ],
      "metadata": {
        "colab": {
          "base_uri": "https://localhost:8080/",
          "height": 192
        },
        "id": "jBSQZjo83fmv",
        "outputId": "8d801d3c-049d-431b-fe5b-cc2b77a1c2cd"
      },
      "execution_count": 16,
      "outputs": [
        {
          "output_type": "display_data",
          "data": {
            "text/html": [
              "<table class=\"dataframe\">\n",
              "<caption>A data.frame: 3 × 2</caption>\n",
              "<thead>\n",
              "\t<tr><th scope=col>Bulan_Tahun</th><th scope=col>x</th></tr>\n",
              "\t<tr><th scope=col>&lt;chr&gt;</th><th scope=col>&lt;int&gt;</th></tr>\n",
              "</thead>\n",
              "<tbody>\n",
              "\t<tr><td>04-2020</td><td>1753</td></tr>\n",
              "\t<tr><td>05-2020</td><td>1485</td></tr>\n",
              "\t<tr><td>06-2020</td><td> 170</td></tr>\n",
              "</tbody>\n",
              "</table>\n"
            ],
            "text/markdown": "\nA data.frame: 3 × 2\n\n| Bulan_Tahun &lt;chr&gt; | x &lt;int&gt; |\n|---|---|\n| 04-2020 | 1753 |\n| 05-2020 | 1485 |\n| 06-2020 |  170 |\n\n",
            "text/latex": "A data.frame: 3 × 2\n\\begin{tabular}{ll}\n Bulan\\_Tahun & x\\\\\n <chr> & <int>\\\\\n\\hline\n\t 04-2020 & 1753\\\\\n\t 05-2020 & 1485\\\\\n\t 06-2020 &  170\\\\\n\\end{tabular}\n",
            "text/plain": [
              "  Bulan_Tahun x   \n",
              "1 04-2020     1753\n",
              "2 05-2020     1485\n",
              "3 06-2020      170"
            ]
          },
          "metadata": {}
        }
      ]
    },
    {
      "cell_type": "code",
      "source": [
        "#Keluarkan bar plot dari penjualan perbulan\n",
        "barplot(penjualan_perbulan$x,\n",
        "        names.arg =penjualan_perbulan$Bulan_Tahun,\n",
        "        xlab=\"Month\",\n",
        "        ylab=\"Penjualan\",\n",
        "        col=\"blue\",\n",
        "        main=\"Penjualan perbulan\",\n",
        "        border=\"red\")"
      ],
      "metadata": {
        "colab": {
          "base_uri": "https://localhost:8080/",
          "height": 437
        },
        "id": "SvUIu1cQ3fka",
        "outputId": "b9ce183c-39e1-425c-b9b5-7bb05d9ca2ea"
      },
      "execution_count": 17,
      "outputs": [
        {
          "output_type": "display_data",
          "data": {
            "text/plain": [
              "Plot with title “Penjualan perbulan”"
            ],
            "image/png": "[encoded data removed]"
          },
          "metadata": {
            "image/png": {
              "width": 420,
              "height": 420
            }
          }
        }
      ]
    },
    {
      "cell_type": "markdown",
      "source": [
        "#### [Customer dengan Pembelian Terbesar](https://academy.dqlab.id/main/livecode/360/806/4538?pr=0)"
      ],
      "metadata": {
        "id": "uqYRH3QAtkD5"
      }
    },
    {
      "cell_type": "code",
      "source": [
        "#Tentukan 10 customer mana saja yang memiliki pembelian terbesar!\n",
        "#Keluarkan data dengan jenis transaksi adalah Penjualan\n",
        "data_penjualan = data[data$Jenis.Transaksi==\"Penjualan\",]"
      ],
      "metadata": {
        "id": "EYXZQHMa-uuu"
      },
      "execution_count": 18,
      "outputs": []
    },
    {
      "cell_type": "code",
      "source": [
        "head(data_penjualan, 10)"
      ],
      "metadata": {
        "colab": {
          "base_uri": "https://localhost:8080/",
          "height": 412
        },
        "id": "rAAs8NPBL9xC",
        "outputId": "74dd88bf-a5b3-4668-b39c-828d02a517d0"
      },
      "execution_count": 19,
      "outputs": [
        {
          "output_type": "display_data",
          "data": {
            "text/html": [
              "<table class=\"dataframe\">\n",
              "<caption>A data.frame: 10 × 9</caption>\n",
              "<thead>\n",
              "\t<tr><th></th><th scope=col>No.Transaksi</th><th scope=col>Jenis.Transaksi</th><th scope=col>Tanggal</th><th scope=col>Nama.Pelanggan</th><th scope=col>Kode.Produk</th><th scope=col>Nama.Produk</th><th scope=col>Jumlah</th><th scope=col>Harga</th><th scope=col>Bulan_Tahun</th></tr>\n",
              "\t<tr><th></th><th scope=col>&lt;int&gt;</th><th scope=col>&lt;chr&gt;</th><th scope=col>&lt;date&gt;</th><th scope=col>&lt;chr&gt;</th><th scope=col>&lt;chr&gt;</th><th scope=col>&lt;chr&gt;</th><th scope=col>&lt;int&gt;</th><th scope=col>&lt;dbl&gt;</th><th scope=col>&lt;chr&gt;</th></tr>\n",
              "</thead>\n",
              "<tbody>\n",
              "\t<tr><th scope=row>48</th><td>10</td><td>Penjualan</td><td>2020-04-10</td><td>Fajri</td><td>Item-11</td><td>Sabun Cuci Piring    </td><td>3</td><td>14000</td><td>04-2020</td></tr>\n",
              "\t<tr><th scope=row>49</th><td>11</td><td>Penjualan</td><td>2020-04-10</td><td>Fitri</td><td>Item-11</td><td>Sabun Cuci Piring    </td><td>3</td><td>14000</td><td>04-2020</td></tr>\n",
              "\t<tr><th scope=row>50</th><td>12</td><td>Penjualan</td><td>2020-04-10</td><td>Nita </td><td>Item-11</td><td>Sabun Cuci Piring    </td><td>2</td><td>14000</td><td>04-2020</td></tr>\n",
              "\t<tr><th scope=row>51</th><td>13</td><td>Penjualan</td><td>2020-04-10</td><td>Rian </td><td>Item-02</td><td>Bawang Putih 200 gram</td><td>3</td><td>15000</td><td>04-2020</td></tr>\n",
              "\t<tr><th scope=row>52</th><td>13</td><td>Penjualan</td><td>2020-04-10</td><td>Rian </td><td>Item-03</td><td>Gula Pasir Putih 1 kg</td><td>2</td><td>12500</td><td>04-2020</td></tr>\n",
              "\t<tr><th scope=row>53</th><td>13</td><td>Penjualan</td><td>2020-04-10</td><td>Rian </td><td>Item-05</td><td>Mi Goreng Instant    </td><td>2</td><td> 2600</td><td>04-2020</td></tr>\n",
              "\t<tr><th scope=row>54</th><td>13</td><td>Penjualan</td><td>2020-04-10</td><td>Rian </td><td>Item-11</td><td>Sabun Cuci Piring    </td><td>3</td><td>14000</td><td>04-2020</td></tr>\n",
              "\t<tr><th scope=row>55</th><td>14</td><td>Penjualan</td><td>2020-04-10</td><td>Zahra</td><td>Item-03</td><td>Gula Pasir Putih 1 kg</td><td>3</td><td>12500</td><td>04-2020</td></tr>\n",
              "\t<tr><th scope=row>56</th><td>14</td><td>Penjualan</td><td>2020-04-10</td><td>Zahra</td><td>Item-05</td><td>Mi Goreng Instant    </td><td>2</td><td> 2600</td><td>04-2020</td></tr>\n",
              "\t<tr><th scope=row>57</th><td>14</td><td>Penjualan</td><td>2020-04-10</td><td>Zahra</td><td>Item-11</td><td>Sabun Cuci Piring    </td><td>4</td><td>14000</td><td>04-2020</td></tr>\n",
              "</tbody>\n",
              "</table>\n"
            ],
            "text/markdown": "\nA data.frame: 10 × 9\n\n| <!--/--> | No.Transaksi &lt;int&gt; | Jenis.Transaksi &lt;chr&gt; | Tanggal &lt;date&gt; | Nama.Pelanggan &lt;chr&gt; | Kode.Produk &lt;chr&gt; | Nama.Produk &lt;chr&gt; | Jumlah &lt;int&gt; | Harga &lt;dbl&gt; | Bulan_Tahun &lt;chr&gt; |\n|---|---|---|---|---|---|---|---|---|---|\n| 48 | 10 | Penjualan | 2020-04-10 | Fajri | Item-11 | Sabun Cuci Piring     | 3 | 14000 | 04-2020 |\n| 49 | 11 | Penjualan | 2020-04-10 | Fitri | Item-11 | Sabun Cuci Piring     | 3 | 14000 | 04-2020 |\n| 50 | 12 | Penjualan | 2020-04-10 | Nita  | Item-11 | Sabun Cuci Piring     | 2 | 14000 | 04-2020 |\n| 51 | 13 | Penjualan | 2020-04-10 | Rian  | Item-02 | Bawang Putih 200 gram | 3 | 15000 | 04-2020 |\n| 52 | 13 | Penjualan | 2020-04-10 | Rian  | Item-03 | Gula Pasir Putih 1 kg | 2 | 12500 | 04-2020 |\n| 53 | 13 | Penjualan | 2020-04-10 | Rian  | Item-05 | Mi Goreng Instant     | 2 |  2600 | 04-2020 |\n| 54 | 13 | Penjualan | 2020-04-10 | Rian  | Item-11 | Sabun Cuci Piring     | 3 | 14000 | 04-2020 |\n| 55 | 14 | Penjualan | 2020-04-10 | Zahra | Item-03 | Gula Pasir Putih 1 kg | 3 | 12500 | 04-2020 |\n| 56 | 14 | Penjualan | 2020-04-10 | Zahra | Item-05 | Mi Goreng Instant     | 2 |  2600 | 04-2020 |\n| 57 | 14 | Penjualan | 2020-04-10 | Zahra | Item-11 | Sabun Cuci Piring     | 4 | 14000 | 04-2020 |\n\n",
            "text/latex": "A data.frame: 10 × 9\n\\begin{tabular}{r|lllllllll}\n  & No.Transaksi & Jenis.Transaksi & Tanggal & Nama.Pelanggan & Kode.Produk & Nama.Produk & Jumlah & Harga & Bulan\\_Tahun\\\\\n  & <int> & <chr> & <date> & <chr> & <chr> & <chr> & <int> & <dbl> & <chr>\\\\\n\\hline\n\t48 & 10 & Penjualan & 2020-04-10 & Fajri & Item-11 & Sabun Cuci Piring     & 3 & 14000 & 04-2020\\\\\n\t49 & 11 & Penjualan & 2020-04-10 & Fitri & Item-11 & Sabun Cuci Piring     & 3 & 14000 & 04-2020\\\\\n\t50 & 12 & Penjualan & 2020-04-10 & Nita  & Item-11 & Sabun Cuci Piring     & 2 & 14000 & 04-2020\\\\\n\t51 & 13 & Penjualan & 2020-04-10 & Rian  & Item-02 & Bawang Putih 200 gram & 3 & 15000 & 04-2020\\\\\n\t52 & 13 & Penjualan & 2020-04-10 & Rian  & Item-03 & Gula Pasir Putih 1 kg & 2 & 12500 & 04-2020\\\\\n\t53 & 13 & Penjualan & 2020-04-10 & Rian  & Item-05 & Mi Goreng Instant     & 2 &  2600 & 04-2020\\\\\n\t54 & 13 & Penjualan & 2020-04-10 & Rian  & Item-11 & Sabun Cuci Piring     & 3 & 14000 & 04-2020\\\\\n\t55 & 14 & Penjualan & 2020-04-10 & Zahra & Item-03 & Gula Pasir Putih 1 kg & 3 & 12500 & 04-2020\\\\\n\t56 & 14 & Penjualan & 2020-04-10 & Zahra & Item-05 & Mi Goreng Instant     & 2 &  2600 & 04-2020\\\\\n\t57 & 14 & Penjualan & 2020-04-10 & Zahra & Item-11 & Sabun Cuci Piring     & 4 & 14000 & 04-2020\\\\\n\\end{tabular}\n",
            "text/plain": [
              "   No.Transaksi Jenis.Transaksi Tanggal    Nama.Pelanggan Kode.Produk\n",
              "48 10           Penjualan       2020-04-10 Fajri          Item-11    \n",
              "49 11           Penjualan       2020-04-10 Fitri          Item-11    \n",
              "50 12           Penjualan       2020-04-10 Nita           Item-11    \n",
              "51 13           Penjualan       2020-04-10 Rian           Item-02    \n",
              "52 13           Penjualan       2020-04-10 Rian           Item-03    \n",
              "53 13           Penjualan       2020-04-10 Rian           Item-05    \n",
              "54 13           Penjualan       2020-04-10 Rian           Item-11    \n",
              "55 14           Penjualan       2020-04-10 Zahra          Item-03    \n",
              "56 14           Penjualan       2020-04-10 Zahra          Item-05    \n",
              "57 14           Penjualan       2020-04-10 Zahra          Item-11    \n",
              "   Nama.Produk           Jumlah Harga Bulan_Tahun\n",
              "48 Sabun Cuci Piring     3      14000 04-2020    \n",
              "49 Sabun Cuci Piring     3      14000 04-2020    \n",
              "50 Sabun Cuci Piring     2      14000 04-2020    \n",
              "51 Bawang Putih 200 gram 3      15000 04-2020    \n",
              "52 Gula Pasir Putih 1 kg 2      12500 04-2020    \n",
              "53 Mi Goreng Instant     2       2600 04-2020    \n",
              "54 Sabun Cuci Piring     3      14000 04-2020    \n",
              "55 Gula Pasir Putih 1 kg 3      12500 04-2020    \n",
              "56 Mi Goreng Instant     2       2600 04-2020    \n",
              "57 Sabun Cuci Piring     4      14000 04-2020    "
            ]
          },
          "metadata": {}
        }
      ]
    },
    {
      "cell_type": "code",
      "source": [
        "#Lakukan fungsi aggregasi data untuk mendapatkan pembelian per customer\n",
        "pembelian_pelanggan = aggregate(\n",
        "             x = data_penjualan$Jumlah,\n",
        "             by = list(Pelanggan = data_penjualan$Nama.Pelanggan),\n",
        "             FUN = sum)"
      ],
      "metadata": {
        "id": "0Tdgqgfv-ufG"
      },
      "execution_count": 20,
      "outputs": []
    },
    {
      "cell_type": "code",
      "source": [
        "head(pembelian_pelanggan, 10)"
      ],
      "metadata": {
        "colab": {
          "base_uri": "https://localhost:8080/",
          "height": 412
        },
        "id": "eWfK7k77MMsg",
        "outputId": "787a05de-acd3-4770-bffa-7ef932c340f9"
      },
      "execution_count": 21,
      "outputs": [
        {
          "output_type": "display_data",
          "data": {
            "text/html": [
              "<table class=\"dataframe\">\n",
              "<caption>A data.frame: 10 × 2</caption>\n",
              "<thead>\n",
              "\t<tr><th></th><th scope=col>Pelanggan</th><th scope=col>x</th></tr>\n",
              "\t<tr><th></th><th scope=col>&lt;chr&gt;</th><th scope=col>&lt;int&gt;</th></tr>\n",
              "</thead>\n",
              "<tbody>\n",
              "\t<tr><th scope=row>1</th><td>Agung  </td><td>51</td></tr>\n",
              "\t<tr><th scope=row>2</th><td>Agus   </td><td>54</td></tr>\n",
              "\t<tr><th scope=row>3</th><td>Andi   </td><td>83</td></tr>\n",
              "\t<tr><th scope=row>4</th><td>Andika </td><td>17</td></tr>\n",
              "\t<tr><th scope=row>5</th><td>Anggun </td><td>48</td></tr>\n",
              "\t<tr><th scope=row>6</th><td>Ardi   </td><td>44</td></tr>\n",
              "\t<tr><th scope=row>7</th><td>Asep   </td><td>36</td></tr>\n",
              "\t<tr><th scope=row>8</th><td>Ayu    </td><td>40</td></tr>\n",
              "\t<tr><th scope=row>9</th><td>Bagus  </td><td>54</td></tr>\n",
              "\t<tr><th scope=row>10</th><td>Bambang</td><td>20</td></tr>\n",
              "</tbody>\n",
              "</table>\n"
            ],
            "text/markdown": "\nA data.frame: 10 × 2\n\n| <!--/--> | Pelanggan &lt;chr&gt; | x &lt;int&gt; |\n|---|---|---|\n| 1 | Agung   | 51 |\n| 2 | Agus    | 54 |\n| 3 | Andi    | 83 |\n| 4 | Andika  | 17 |\n| 5 | Anggun  | 48 |\n| 6 | Ardi    | 44 |\n| 7 | Asep    | 36 |\n| 8 | Ayu     | 40 |\n| 9 | Bagus   | 54 |\n| 10 | Bambang | 20 |\n\n",
            "text/latex": "A data.frame: 10 × 2\n\\begin{tabular}{r|ll}\n  & Pelanggan & x\\\\\n  & <chr> & <int>\\\\\n\\hline\n\t1 & Agung   & 51\\\\\n\t2 & Agus    & 54\\\\\n\t3 & Andi    & 83\\\\\n\t4 & Andika  & 17\\\\\n\t5 & Anggun  & 48\\\\\n\t6 & Ardi    & 44\\\\\n\t7 & Asep    & 36\\\\\n\t8 & Ayu     & 40\\\\\n\t9 & Bagus   & 54\\\\\n\t10 & Bambang & 20\\\\\n\\end{tabular}\n",
            "text/plain": [
              "   Pelanggan x \n",
              "1  Agung     51\n",
              "2  Agus      54\n",
              "3  Andi      83\n",
              "4  Andika    17\n",
              "5  Anggun    48\n",
              "6  Ardi      44\n",
              "7  Asep      36\n",
              "8  Ayu       40\n",
              "9  Bagus     54\n",
              "10 Bambang   20"
            ]
          },
          "metadata": {}
        }
      ]
    },
    {
      "cell_type": "code",
      "source": [
        "#Urutkan data pelanggan berdasarkan jumlah pembelian dari yang terbesar ke yang terkecil\n",
        "pembelian_pelanggan = pembelian_pelanggan[order(-pembelian_pelanggan$x), ]"
      ],
      "metadata": {
        "id": "dbvGrUHL-ubk"
      },
      "execution_count": 22,
      "outputs": []
    },
    {
      "cell_type": "code",
      "source": [
        "#Ambil 10 nilai tertinggi dari data diatas\n",
        "head(pembelian_pelanggan, 10)"
      ],
      "metadata": {
        "colab": {
          "base_uri": "https://localhost:8080/",
          "height": 412
        },
        "id": "TbzZkfE6-uX2",
        "outputId": "c9cb33d3-6a30-4a11-f491-6946c2b21b62"
      },
      "execution_count": 23,
      "outputs": [
        {
          "output_type": "display_data",
          "data": {
            "text/html": [
              "<table class=\"dataframe\">\n",
              "<caption>A data.frame: 10 × 2</caption>\n",
              "<thead>\n",
              "\t<tr><th></th><th scope=col>Pelanggan</th><th scope=col>x</th></tr>\n",
              "\t<tr><th></th><th scope=col>&lt;chr&gt;</th><th scope=col>&lt;int&gt;</th></tr>\n",
              "</thead>\n",
              "<tbody>\n",
              "\t<tr><th scope=row>63</th><td>Wulan     </td><td>87</td></tr>\n",
              "\t<tr><th scope=row>35</th><td>Marta     </td><td>85</td></tr>\n",
              "\t<tr><th scope=row>68</th><td>Zahra     </td><td>85</td></tr>\n",
              "\t<tr><th scope=row>3</th><td>Andi      </td><td>83</td></tr>\n",
              "\t<tr><th scope=row>53</th><td>Siti      </td><td>82</td></tr>\n",
              "\t<tr><th scope=row>36</th><td>Mita, Mira</td><td>81</td></tr>\n",
              "\t<tr><th scope=row>29</th><td>Kardi     </td><td>77</td></tr>\n",
              "\t<tr><th scope=row>26</th><td>Indah     </td><td>73</td></tr>\n",
              "\t<tr><th scope=row>18</th><td>Farah     </td><td>71</td></tr>\n",
              "\t<tr><th scope=row>31</th><td>Krisda    </td><td>71</td></tr>\n",
              "</tbody>\n",
              "</table>\n"
            ],
            "text/markdown": "\nA data.frame: 10 × 2\n\n| <!--/--> | Pelanggan &lt;chr&gt; | x &lt;int&gt; |\n|---|---|---|\n| 63 | Wulan      | 87 |\n| 35 | Marta      | 85 |\n| 68 | Zahra      | 85 |\n| 3 | Andi       | 83 |\n| 53 | Siti       | 82 |\n| 36 | Mita, Mira | 81 |\n| 29 | Kardi      | 77 |\n| 26 | Indah      | 73 |\n| 18 | Farah      | 71 |\n| 31 | Krisda     | 71 |\n\n",
            "text/latex": "A data.frame: 10 × 2\n\\begin{tabular}{r|ll}\n  & Pelanggan & x\\\\\n  & <chr> & <int>\\\\\n\\hline\n\t63 & Wulan      & 87\\\\\n\t35 & Marta      & 85\\\\\n\t68 & Zahra      & 85\\\\\n\t3 & Andi       & 83\\\\\n\t53 & Siti       & 82\\\\\n\t36 & Mita, Mira & 81\\\\\n\t29 & Kardi      & 77\\\\\n\t26 & Indah      & 73\\\\\n\t18 & Farah      & 71\\\\\n\t31 & Krisda     & 71\\\\\n\\end{tabular}\n",
            "text/plain": [
              "   Pelanggan  x \n",
              "63 Wulan      87\n",
              "35 Marta      85\n",
              "68 Zahra      85\n",
              "3  Andi       83\n",
              "53 Siti       82\n",
              "36 Mita, Mira 81\n",
              "29 Kardi      77\n",
              "26 Indah      73\n",
              "18 Farah      71\n",
              "31 Krisda     71"
            ]
          },
          "metadata": {}
        }
      ]
    },
    {
      "cell_type": "markdown",
      "source": [
        "#### [Analisis Perbandingan Barang Masuk dan Keluar](https://academy.dqlab.id/main/livecode/360/806/4230?pr=0)"
      ],
      "metadata": {
        "id": "5RRnVX6FtzMs"
      }
    },
    {
      "cell_type": "code",
      "source": [
        "#Perbandingan barang masuk dan keluar perbulan\n",
        "aggregate(\n",
        "  x=data$Jumlah, \n",
        "  by = list(Bulan = data$Bulan_Tahun, Jenis_Transaksi = data$Jenis.Transaksi), \n",
        "  FUN = sum)"
      ],
      "metadata": {
        "colab": {
          "base_uri": "https://localhost:8080/",
          "height": 318
        },
        "id": "q1nNarMEQO3z",
        "outputId": "ec2dd9c8-b7fb-4cc8-f2b6-9b6169280461"
      },
      "execution_count": 24,
      "outputs": [
        {
          "output_type": "display_data",
          "data": {
            "text/html": [
              "<table class=\"dataframe\">\n",
              "<caption>A data.frame: 7 × 3</caption>\n",
              "<thead>\n",
              "\t<tr><th scope=col>Bulan</th><th scope=col>Jenis_Transaksi</th><th scope=col>x</th></tr>\n",
              "\t<tr><th scope=col>&lt;chr&gt;</th><th scope=col>&lt;chr&gt;</th><th scope=col>&lt;int&gt;</th></tr>\n",
              "</thead>\n",
              "<tbody>\n",
              "\t<tr><td>04-2020</td><td>Penjualan </td><td>1753</td></tr>\n",
              "\t<tr><td>05-2020</td><td>Penjualan </td><td>1485</td></tr>\n",
              "\t<tr><td>06-2020</td><td>Penjualan </td><td> 170</td></tr>\n",
              "\t<tr><td>04-2020</td><td>Stok Masuk</td><td>4527</td></tr>\n",
              "\t<tr><td>05-2020</td><td>Stok Masuk</td><td>4306</td></tr>\n",
              "\t<tr><td>06-2020</td><td>Stok Masuk</td><td>4323</td></tr>\n",
              "\t<tr><td>07-2020</td><td>Stok Masuk</td><td>4509</td></tr>\n",
              "</tbody>\n",
              "</table>\n"
            ],
            "text/markdown": "\nA data.frame: 7 × 3\n\n| Bulan &lt;chr&gt; | Jenis_Transaksi &lt;chr&gt; | x &lt;int&gt; |\n|---|---|---|\n| 04-2020 | Penjualan  | 1753 |\n| 05-2020 | Penjualan  | 1485 |\n| 06-2020 | Penjualan  |  170 |\n| 04-2020 | Stok Masuk | 4527 |\n| 05-2020 | Stok Masuk | 4306 |\n| 06-2020 | Stok Masuk | 4323 |\n| 07-2020 | Stok Masuk | 4509 |\n\n",
            "text/latex": "A data.frame: 7 × 3\n\\begin{tabular}{lll}\n Bulan & Jenis\\_Transaksi & x\\\\\n <chr> & <chr> & <int>\\\\\n\\hline\n\t 04-2020 & Penjualan  & 1753\\\\\n\t 05-2020 & Penjualan  & 1485\\\\\n\t 06-2020 & Penjualan  &  170\\\\\n\t 04-2020 & Stok Masuk & 4527\\\\\n\t 05-2020 & Stok Masuk & 4306\\\\\n\t 06-2020 & Stok Masuk & 4323\\\\\n\t 07-2020 & Stok Masuk & 4509\\\\\n\\end{tabular}\n",
            "text/plain": [
              "  Bulan   Jenis_Transaksi x   \n",
              "1 04-2020 Penjualan       1753\n",
              "2 05-2020 Penjualan       1485\n",
              "3 06-2020 Penjualan        170\n",
              "4 04-2020 Stok Masuk      4527\n",
              "5 05-2020 Stok Masuk      4306\n",
              "6 06-2020 Stok Masuk      4323\n",
              "7 07-2020 Stok Masuk      4509"
            ]
          },
          "metadata": {}
        }
      ]
    },
    {
      "cell_type": "code",
      "source": [
        "#Visualisasikan data dengan chart yang sesuai\n",
        "#Buat tabel transaksi menggunakan fungsi aggregate\n",
        "data_transaksi = aggregate(\n",
        "  x=data$Jumlah, \n",
        "  by = list(Bulan = data$Bulan_Tahun, Jenis_Transaksi = data$Jenis.Transaksi), \n",
        "  FUN = sum)"
      ],
      "metadata": {
        "id": "68VTg2NWQOuX"
      },
      "execution_count": 25,
      "outputs": []
    },
    {
      "cell_type": "code",
      "source": [
        "data_transaksi"
      ],
      "metadata": {
        "colab": {
          "base_uri": "https://localhost:8080/",
          "height": 318
        },
        "id": "7tE-VBc2Sn8P",
        "outputId": "0ab9c9d5-4ceb-46a4-c4bb-9b020efba54e"
      },
      "execution_count": 26,
      "outputs": [
        {
          "output_type": "display_data",
          "data": {
            "text/html": [
              "<table class=\"dataframe\">\n",
              "<caption>A data.frame: 7 × 3</caption>\n",
              "<thead>\n",
              "\t<tr><th scope=col>Bulan</th><th scope=col>Jenis_Transaksi</th><th scope=col>x</th></tr>\n",
              "\t<tr><th scope=col>&lt;chr&gt;</th><th scope=col>&lt;chr&gt;</th><th scope=col>&lt;int&gt;</th></tr>\n",
              "</thead>\n",
              "<tbody>\n",
              "\t<tr><td>04-2020</td><td>Penjualan </td><td>1753</td></tr>\n",
              "\t<tr><td>05-2020</td><td>Penjualan </td><td>1485</td></tr>\n",
              "\t<tr><td>06-2020</td><td>Penjualan </td><td> 170</td></tr>\n",
              "\t<tr><td>04-2020</td><td>Stok Masuk</td><td>4527</td></tr>\n",
              "\t<tr><td>05-2020</td><td>Stok Masuk</td><td>4306</td></tr>\n",
              "\t<tr><td>06-2020</td><td>Stok Masuk</td><td>4323</td></tr>\n",
              "\t<tr><td>07-2020</td><td>Stok Masuk</td><td>4509</td></tr>\n",
              "</tbody>\n",
              "</table>\n"
            ],
            "text/markdown": "\nA data.frame: 7 × 3\n\n| Bulan &lt;chr&gt; | Jenis_Transaksi &lt;chr&gt; | x &lt;int&gt; |\n|---|---|---|\n| 04-2020 | Penjualan  | 1753 |\n| 05-2020 | Penjualan  | 1485 |\n| 06-2020 | Penjualan  |  170 |\n| 04-2020 | Stok Masuk | 4527 |\n| 05-2020 | Stok Masuk | 4306 |\n| 06-2020 | Stok Masuk | 4323 |\n| 07-2020 | Stok Masuk | 4509 |\n\n",
            "text/latex": "A data.frame: 7 × 3\n\\begin{tabular}{lll}\n Bulan & Jenis\\_Transaksi & x\\\\\n <chr> & <chr> & <int>\\\\\n\\hline\n\t 04-2020 & Penjualan  & 1753\\\\\n\t 05-2020 & Penjualan  & 1485\\\\\n\t 06-2020 & Penjualan  &  170\\\\\n\t 04-2020 & Stok Masuk & 4527\\\\\n\t 05-2020 & Stok Masuk & 4306\\\\\n\t 06-2020 & Stok Masuk & 4323\\\\\n\t 07-2020 & Stok Masuk & 4509\\\\\n\\end{tabular}\n",
            "text/plain": [
              "  Bulan   Jenis_Transaksi x   \n",
              "1 04-2020 Penjualan       1753\n",
              "2 05-2020 Penjualan       1485\n",
              "3 06-2020 Penjualan        170\n",
              "4 04-2020 Stok Masuk      4527\n",
              "5 05-2020 Stok Masuk      4306\n",
              "6 06-2020 Stok Masuk      4323\n",
              "7 07-2020 Stok Masuk      4509"
            ]
          },
          "metadata": {}
        }
      ]
    },
    {
      "cell_type": "code",
      "source": [
        "#Keluarkan data transaksi penjualan dan stok masuk\n",
        "data_penjualan <- data_transaksi[(data_transaksi$Jenis_Transaksi) == \"Penjualan\",]\n",
        "data_stok_masuk <- data_transaksi[(data_transaksi$Jenis_Transaksi) == \"Stok Masuk\",]"
      ],
      "metadata": {
        "id": "JGMvBuAvQOmq"
      },
      "execution_count": 27,
      "outputs": []
    },
    {
      "cell_type": "code",
      "source": [
        "data_penjualan"
      ],
      "metadata": {
        "colab": {
          "base_uri": "https://localhost:8080/",
          "height": 192
        },
        "id": "mPxH_eUFSshl",
        "outputId": "32298d83-fb06-484f-c58d-376e50ff06ff"
      },
      "execution_count": 28,
      "outputs": [
        {
          "output_type": "display_data",
          "data": {
            "text/html": [
              "<table class=\"dataframe\">\n",
              "<caption>A data.frame: 3 × 3</caption>\n",
              "<thead>\n",
              "\t<tr><th></th><th scope=col>Bulan</th><th scope=col>Jenis_Transaksi</th><th scope=col>x</th></tr>\n",
              "\t<tr><th></th><th scope=col>&lt;chr&gt;</th><th scope=col>&lt;chr&gt;</th><th scope=col>&lt;int&gt;</th></tr>\n",
              "</thead>\n",
              "<tbody>\n",
              "\t<tr><th scope=row>1</th><td>04-2020</td><td>Penjualan</td><td>1753</td></tr>\n",
              "\t<tr><th scope=row>2</th><td>05-2020</td><td>Penjualan</td><td>1485</td></tr>\n",
              "\t<tr><th scope=row>3</th><td>06-2020</td><td>Penjualan</td><td> 170</td></tr>\n",
              "</tbody>\n",
              "</table>\n"
            ],
            "text/markdown": "\nA data.frame: 3 × 3\n\n| <!--/--> | Bulan &lt;chr&gt; | Jenis_Transaksi &lt;chr&gt; | x &lt;int&gt; |\n|---|---|---|---|\n| 1 | 04-2020 | Penjualan | 1753 |\n| 2 | 05-2020 | Penjualan | 1485 |\n| 3 | 06-2020 | Penjualan |  170 |\n\n",
            "text/latex": "A data.frame: 3 × 3\n\\begin{tabular}{r|lll}\n  & Bulan & Jenis\\_Transaksi & x\\\\\n  & <chr> & <chr> & <int>\\\\\n\\hline\n\t1 & 04-2020 & Penjualan & 1753\\\\\n\t2 & 05-2020 & Penjualan & 1485\\\\\n\t3 & 06-2020 & Penjualan &  170\\\\\n\\end{tabular}\n",
            "text/plain": [
              "  Bulan   Jenis_Transaksi x   \n",
              "1 04-2020 Penjualan       1753\n",
              "2 05-2020 Penjualan       1485\n",
              "3 06-2020 Penjualan        170"
            ]
          },
          "metadata": {}
        }
      ]
    },
    {
      "cell_type": "code",
      "source": [
        "data_stok_masuk"
      ],
      "metadata": {
        "colab": {
          "base_uri": "https://localhost:8080/",
          "height": 224
        },
        "id": "rjwRRH_uSwA2",
        "outputId": "11159c26-2e88-443a-8a5d-467bfc85c912"
      },
      "execution_count": 29,
      "outputs": [
        {
          "output_type": "display_data",
          "data": {
            "text/html": [
              "<table class=\"dataframe\">\n",
              "<caption>A data.frame: 4 × 3</caption>\n",
              "<thead>\n",
              "\t<tr><th></th><th scope=col>Bulan</th><th scope=col>Jenis_Transaksi</th><th scope=col>x</th></tr>\n",
              "\t<tr><th></th><th scope=col>&lt;chr&gt;</th><th scope=col>&lt;chr&gt;</th><th scope=col>&lt;int&gt;</th></tr>\n",
              "</thead>\n",
              "<tbody>\n",
              "\t<tr><th scope=row>4</th><td>04-2020</td><td>Stok Masuk</td><td>4527</td></tr>\n",
              "\t<tr><th scope=row>5</th><td>05-2020</td><td>Stok Masuk</td><td>4306</td></tr>\n",
              "\t<tr><th scope=row>6</th><td>06-2020</td><td>Stok Masuk</td><td>4323</td></tr>\n",
              "\t<tr><th scope=row>7</th><td>07-2020</td><td>Stok Masuk</td><td>4509</td></tr>\n",
              "</tbody>\n",
              "</table>\n"
            ],
            "text/markdown": "\nA data.frame: 4 × 3\n\n| <!--/--> | Bulan &lt;chr&gt; | Jenis_Transaksi &lt;chr&gt; | x &lt;int&gt; |\n|---|---|---|---|\n| 4 | 04-2020 | Stok Masuk | 4527 |\n| 5 | 05-2020 | Stok Masuk | 4306 |\n| 6 | 06-2020 | Stok Masuk | 4323 |\n| 7 | 07-2020 | Stok Masuk | 4509 |\n\n",
            "text/latex": "A data.frame: 4 × 3\n\\begin{tabular}{r|lll}\n  & Bulan & Jenis\\_Transaksi & x\\\\\n  & <chr> & <chr> & <int>\\\\\n\\hline\n\t4 & 04-2020 & Stok Masuk & 4527\\\\\n\t5 & 05-2020 & Stok Masuk & 4306\\\\\n\t6 & 06-2020 & Stok Masuk & 4323\\\\\n\t7 & 07-2020 & Stok Masuk & 4509\\\\\n\\end{tabular}\n",
            "text/plain": [
              "  Bulan   Jenis_Transaksi x   \n",
              "4 04-2020 Stok Masuk      4527\n",
              "5 05-2020 Stok Masuk      4306\n",
              "6 06-2020 Stok Masuk      4323\n",
              "7 07-2020 Stok Masuk      4509"
            ]
          },
          "metadata": {}
        }
      ]
    },
    {
      "cell_type": "code",
      "source": [
        "#Gabungkan kedua data diatas menggunakan fungsi merge dengan left join\n",
        "data_gabungan = merge(data_stok_masuk,data_penjualan,by='Bulan', all.x=TRUE)\n",
        "data_gabungan = data.frame(Bulan = data_gabungan$Bulan,\n",
        "                           Stok_Masuk = data_gabungan$x.x,\n",
        "                           Penjualan = data_gabungan$x.y)"
      ],
      "metadata": {
        "id": "VAVZuhiQQOgM"
      },
      "execution_count": 30,
      "outputs": []
    },
    {
      "cell_type": "code",
      "source": [
        "data_gabungan"
      ],
      "metadata": {
        "colab": {
          "base_uri": "https://localhost:8080/",
          "height": 224
        },
        "id": "2a2Jk24nS3CO",
        "outputId": "3aecb4be-bfa7-466f-f491-2cb347931ea6"
      },
      "execution_count": 31,
      "outputs": [
        {
          "output_type": "display_data",
          "data": {
            "text/html": [
              "<table class=\"dataframe\">\n",
              "<caption>A data.frame: 4 × 3</caption>\n",
              "<thead>\n",
              "\t<tr><th scope=col>Bulan</th><th scope=col>Stok_Masuk</th><th scope=col>Penjualan</th></tr>\n",
              "\t<tr><th scope=col>&lt;chr&gt;</th><th scope=col>&lt;int&gt;</th><th scope=col>&lt;int&gt;</th></tr>\n",
              "</thead>\n",
              "<tbody>\n",
              "\t<tr><td>04-2020</td><td>4527</td><td>1753</td></tr>\n",
              "\t<tr><td>05-2020</td><td>4306</td><td>1485</td></tr>\n",
              "\t<tr><td>06-2020</td><td>4323</td><td> 170</td></tr>\n",
              "\t<tr><td>07-2020</td><td>4509</td><td>  NA</td></tr>\n",
              "</tbody>\n",
              "</table>\n"
            ],
            "text/markdown": "\nA data.frame: 4 × 3\n\n| Bulan &lt;chr&gt; | Stok_Masuk &lt;int&gt; | Penjualan &lt;int&gt; |\n|---|---|---|\n| 04-2020 | 4527 | 1753 |\n| 05-2020 | 4306 | 1485 |\n| 06-2020 | 4323 |  170 |\n| 07-2020 | 4509 |   NA |\n\n",
            "text/latex": "A data.frame: 4 × 3\n\\begin{tabular}{lll}\n Bulan & Stok\\_Masuk & Penjualan\\\\\n <chr> & <int> & <int>\\\\\n\\hline\n\t 04-2020 & 4527 & 1753\\\\\n\t 05-2020 & 4306 & 1485\\\\\n\t 06-2020 & 4323 &  170\\\\\n\t 07-2020 & 4509 &   NA\\\\\n\\end{tabular}\n",
            "text/plain": [
              "  Bulan   Stok_Masuk Penjualan\n",
              "1 04-2020 4527       1753     \n",
              "2 05-2020 4306       1485     \n",
              "3 06-2020 4323        170     \n",
              "4 07-2020 4509         NA     "
            ]
          },
          "metadata": {}
        }
      ]
    },
    {
      "cell_type": "code",
      "source": [
        "#Periksa apakah terdapat NA data. Jika terdapat NA data, kamu dapat menggantinya dengan 0\n",
        "data_gabungan$Penjualan[is.na(data_gabungan$Penjualan)] <- 0"
      ],
      "metadata": {
        "id": "ZdRrMU5YQOZB"
      },
      "execution_count": 32,
      "outputs": []
    },
    {
      "cell_type": "code",
      "source": [
        "data_gabungan"
      ],
      "metadata": {
        "colab": {
          "base_uri": "https://localhost:8080/",
          "height": 224
        },
        "id": "fzHmPFN0S6Tt",
        "outputId": "1c33a8d7-9686-4136-db38-8e1b7d493f79"
      },
      "execution_count": 33,
      "outputs": [
        {
          "output_type": "display_data",
          "data": {
            "text/html": [
              "<table class=\"dataframe\">\n",
              "<caption>A data.frame: 4 × 3</caption>\n",
              "<thead>\n",
              "\t<tr><th scope=col>Bulan</th><th scope=col>Stok_Masuk</th><th scope=col>Penjualan</th></tr>\n",
              "\t<tr><th scope=col>&lt;chr&gt;</th><th scope=col>&lt;int&gt;</th><th scope=col>&lt;dbl&gt;</th></tr>\n",
              "</thead>\n",
              "<tbody>\n",
              "\t<tr><td>04-2020</td><td>4527</td><td>1753</td></tr>\n",
              "\t<tr><td>05-2020</td><td>4306</td><td>1485</td></tr>\n",
              "\t<tr><td>06-2020</td><td>4323</td><td> 170</td></tr>\n",
              "\t<tr><td>07-2020</td><td>4509</td><td>   0</td></tr>\n",
              "</tbody>\n",
              "</table>\n"
            ],
            "text/markdown": "\nA data.frame: 4 × 3\n\n| Bulan &lt;chr&gt; | Stok_Masuk &lt;int&gt; | Penjualan &lt;dbl&gt; |\n|---|---|---|\n| 04-2020 | 4527 | 1753 |\n| 05-2020 | 4306 | 1485 |\n| 06-2020 | 4323 |  170 |\n| 07-2020 | 4509 |    0 |\n\n",
            "text/latex": "A data.frame: 4 × 3\n\\begin{tabular}{lll}\n Bulan & Stok\\_Masuk & Penjualan\\\\\n <chr> & <int> & <dbl>\\\\\n\\hline\n\t 04-2020 & 4527 & 1753\\\\\n\t 05-2020 & 4306 & 1485\\\\\n\t 06-2020 & 4323 &  170\\\\\n\t 07-2020 & 4509 &    0\\\\\n\\end{tabular}\n",
            "text/plain": [
              "  Bulan   Stok_Masuk Penjualan\n",
              "1 04-2020 4527       1753     \n",
              "2 05-2020 4306       1485     \n",
              "3 06-2020 4323        170     \n",
              "4 07-2020 4509          0     "
            ]
          },
          "metadata": {}
        }
      ]
    },
    {
      "cell_type": "code",
      "source": [
        "#Ubah format data gabungan dengan melakukan perintah transpose. Lalu ubah nama kolom menggunakan bulan\n",
        "data_gabung = t(as.matrix(data_gabungan[-1]))\n",
        "colnames(data_gabung) = data_gabungan$Bulan"
      ],
      "metadata": {
        "id": "EincBpSQQOTm"
      },
      "execution_count": 34,
      "outputs": []
    },
    {
      "cell_type": "code",
      "source": [
        "data_gabung"
      ],
      "metadata": {
        "colab": {
          "base_uri": "https://localhost:8080/",
          "height": 129
        },
        "id": "rUOtQz5TS9E2",
        "outputId": "0ac173e8-056f-46ee-e4cf-dc09de695683"
      },
      "execution_count": 35,
      "outputs": [
        {
          "output_type": "display_data",
          "data": {
            "text/html": [
              "<table class=\"dataframe\">\n",
              "<caption>A matrix: 2 × 4 of type dbl</caption>\n",
              "<thead>\n",
              "\t<tr><th></th><th scope=col>04-2020</th><th scope=col>05-2020</th><th scope=col>06-2020</th><th scope=col>07-2020</th></tr>\n",
              "</thead>\n",
              "<tbody>\n",
              "\t<tr><th scope=row>Stok_Masuk</th><td>4527</td><td>4306</td><td>4323</td><td>4509</td></tr>\n",
              "\t<tr><th scope=row>Penjualan</th><td>1753</td><td>1485</td><td> 170</td><td>   0</td></tr>\n",
              "</tbody>\n",
              "</table>\n"
            ],
            "text/markdown": "\nA matrix: 2 × 4 of type dbl\n\n| <!--/--> | 04-2020 | 05-2020 | 06-2020 | 07-2020 |\n|---|---|---|---|---|\n| Stok_Masuk | 4527 | 4306 | 4323 | 4509 |\n| Penjualan | 1753 | 1485 |  170 |    0 |\n\n",
            "text/latex": "A matrix: 2 × 4 of type dbl\n\\begin{tabular}{r|llll}\n  & 04-2020 & 05-2020 & 06-2020 & 07-2020\\\\\n\\hline\n\tStok\\_Masuk & 4527 & 4306 & 4323 & 4509\\\\\n\tPenjualan & 1753 & 1485 &  170 &    0\\\\\n\\end{tabular}\n",
            "text/plain": [
              "           04-2020 05-2020 06-2020 07-2020\n",
              "Stok_Masuk 4527    4306    4323    4509   \n",
              "Penjualan  1753    1485     170       0   "
            ]
          },
          "metadata": {}
        }
      ]
    },
    {
      "cell_type": "code",
      "source": [
        "#Keluarkan bar plot dengan multiple kategori untuk membandingkan stok masuk dengan penjualan. Lalu keluarkan legend dari barplot tersebut.\n",
        "barplot(data_gabung,\n",
        "        main='Perbandingan Penjualan dengan Stok Masuk',\n",
        "        ylab='Jumlah Barang', \n",
        "        xlab='Bulan',\n",
        "        beside = TRUE, \n",
        "        col=c(\"red\",\"blue\"))\n",
        "legend('topright',fill=c(\"red\",\"blue\"),legend=c('Stok Masuk','Penjualan'))"
      ],
      "metadata": {
        "colab": {
          "base_uri": "https://localhost:8080/",
          "height": 437
        },
        "id": "QpNpu_GQQON_",
        "outputId": "6a4aca93-8968-497b-adc3-e163bf336d8c"
      },
      "execution_count": 36,
      "outputs": [
        {
          "output_type": "display_data",
          "data": {
            "text/plain": [
              "Plot with title “Perbandingan Penjualan dengan Stok Masuk”"
            ],
            "image/png": "[encoded data removed]"
          },
          "metadata": {
            "image/png": {
              "width": 420,
              "height": 420
            }
          }
        }
      ]
    },
    {
      "cell_type": "markdown",
      "source": [
        "#### [Analisis Hubungan Antara Harga Barang dan Jumlah Transaksi](https://academy.dqlab.id/main/livecode/360/806/4231?pr=0)"
      ],
      "metadata": {
        "id": "vKxuClApuBik"
      }
    },
    {
      "cell_type": "code",
      "source": [
        "#Analisis hubungan antara Harga Barang dengan Jumlah Transaksi\n",
        "#Memilih data dengan jenis transaksi Penjualan\n",
        "data <- data[(data$Jenis.Transaksi) == \"Penjualan\",]"
      ],
      "metadata": {
        "id": "WOYb9IcKTJmB"
      },
      "execution_count": 64,
      "outputs": []
    },
    {
      "cell_type": "code",
      "source": [
        "head(data, 9)"
      ],
      "metadata": {
        "colab": {
          "base_uri": "https://localhost:8080/",
          "height": 380
        },
        "id": "WT3EPl2DTJed",
        "outputId": "e449010a-a021-422e-84a8-f4e1b799c494"
      },
      "execution_count": 66,
      "outputs": [
        {
          "output_type": "display_data",
          "data": {
            "text/html": [
              "<table class=\"dataframe\">\n",
              "<caption>A data.frame: 9 × 9</caption>\n",
              "<thead>\n",
              "\t<tr><th></th><th scope=col>No.Transaksi</th><th scope=col>Jenis.Transaksi</th><th scope=col>Tanggal</th><th scope=col>Nama.Pelanggan</th><th scope=col>Kode.Produk</th><th scope=col>Nama.Produk</th><th scope=col>Jumlah</th><th scope=col>Harga</th><th scope=col>Bulan_Tahun</th></tr>\n",
              "\t<tr><th></th><th scope=col>&lt;int&gt;</th><th scope=col>&lt;chr&gt;</th><th scope=col>&lt;date&gt;</th><th scope=col>&lt;chr&gt;</th><th scope=col>&lt;chr&gt;</th><th scope=col>&lt;chr&gt;</th><th scope=col>&lt;int&gt;</th><th scope=col>&lt;dbl&gt;</th><th scope=col>&lt;chr&gt;</th></tr>\n",
              "</thead>\n",
              "<tbody>\n",
              "\t<tr><th scope=row>48</th><td>10</td><td>Penjualan</td><td>2020-04-10</td><td>Fajri</td><td>Item-11</td><td>Sabun Cuci Piring    </td><td>3</td><td>14000</td><td>04-2020</td></tr>\n",
              "\t<tr><th scope=row>49</th><td>11</td><td>Penjualan</td><td>2020-04-10</td><td>Fitri</td><td>Item-11</td><td>Sabun Cuci Piring    </td><td>3</td><td>14000</td><td>04-2020</td></tr>\n",
              "\t<tr><th scope=row>50</th><td>12</td><td>Penjualan</td><td>2020-04-10</td><td>Nita </td><td>Item-11</td><td>Sabun Cuci Piring    </td><td>2</td><td>14000</td><td>04-2020</td></tr>\n",
              "\t<tr><th scope=row>51</th><td>13</td><td>Penjualan</td><td>2020-04-10</td><td>Rian </td><td>Item-02</td><td>Bawang Putih 200 gram</td><td>3</td><td>15000</td><td>04-2020</td></tr>\n",
              "\t<tr><th scope=row>52</th><td>13</td><td>Penjualan</td><td>2020-04-10</td><td>Rian </td><td>Item-03</td><td>Gula Pasir Putih 1 kg</td><td>2</td><td>12500</td><td>04-2020</td></tr>\n",
              "\t<tr><th scope=row>53</th><td>13</td><td>Penjualan</td><td>2020-04-10</td><td>Rian </td><td>Item-05</td><td>Mi Goreng Instant    </td><td>2</td><td> 2600</td><td>04-2020</td></tr>\n",
              "\t<tr><th scope=row>54</th><td>13</td><td>Penjualan</td><td>2020-04-10</td><td>Rian </td><td>Item-11</td><td>Sabun Cuci Piring    </td><td>3</td><td>14000</td><td>04-2020</td></tr>\n",
              "\t<tr><th scope=row>55</th><td>14</td><td>Penjualan</td><td>2020-04-10</td><td>Zahra</td><td>Item-03</td><td>Gula Pasir Putih 1 kg</td><td>3</td><td>12500</td><td>04-2020</td></tr>\n",
              "\t<tr><th scope=row>56</th><td>14</td><td>Penjualan</td><td>2020-04-10</td><td>Zahra</td><td>Item-05</td><td>Mi Goreng Instant    </td><td>2</td><td> 2600</td><td>04-2020</td></tr>\n",
              "</tbody>\n",
              "</table>\n"
            ],
            "text/markdown": "\nA data.frame: 9 × 9\n\n| <!--/--> | No.Transaksi &lt;int&gt; | Jenis.Transaksi &lt;chr&gt; | Tanggal &lt;date&gt; | Nama.Pelanggan &lt;chr&gt; | Kode.Produk &lt;chr&gt; | Nama.Produk &lt;chr&gt; | Jumlah &lt;int&gt; | Harga &lt;dbl&gt; | Bulan_Tahun &lt;chr&gt; |\n|---|---|---|---|---|---|---|---|---|---|\n| 48 | 10 | Penjualan | 2020-04-10 | Fajri | Item-11 | Sabun Cuci Piring     | 3 | 14000 | 04-2020 |\n| 49 | 11 | Penjualan | 2020-04-10 | Fitri | Item-11 | Sabun Cuci Piring     | 3 | 14000 | 04-2020 |\n| 50 | 12 | Penjualan | 2020-04-10 | Nita  | Item-11 | Sabun Cuci Piring     | 2 | 14000 | 04-2020 |\n| 51 | 13 | Penjualan | 2020-04-10 | Rian  | Item-02 | Bawang Putih 200 gram | 3 | 15000 | 04-2020 |\n| 52 | 13 | Penjualan | 2020-04-10 | Rian  | Item-03 | Gula Pasir Putih 1 kg | 2 | 12500 | 04-2020 |\n| 53 | 13 | Penjualan | 2020-04-10 | Rian  | Item-05 | Mi Goreng Instant     | 2 |  2600 | 04-2020 |\n| 54 | 13 | Penjualan | 2020-04-10 | Rian  | Item-11 | Sabun Cuci Piring     | 3 | 14000 | 04-2020 |\n| 55 | 14 | Penjualan | 2020-04-10 | Zahra | Item-03 | Gula Pasir Putih 1 kg | 3 | 12500 | 04-2020 |\n| 56 | 14 | Penjualan | 2020-04-10 | Zahra | Item-05 | Mi Goreng Instant     | 2 |  2600 | 04-2020 |\n\n",
            "text/latex": "A data.frame: 9 × 9\n\\begin{tabular}{r|lllllllll}\n  & No.Transaksi & Jenis.Transaksi & Tanggal & Nama.Pelanggan & Kode.Produk & Nama.Produk & Jumlah & Harga & Bulan\\_Tahun\\\\\n  & <int> & <chr> & <date> & <chr> & <chr> & <chr> & <int> & <dbl> & <chr>\\\\\n\\hline\n\t48 & 10 & Penjualan & 2020-04-10 & Fajri & Item-11 & Sabun Cuci Piring     & 3 & 14000 & 04-2020\\\\\n\t49 & 11 & Penjualan & 2020-04-10 & Fitri & Item-11 & Sabun Cuci Piring     & 3 & 14000 & 04-2020\\\\\n\t50 & 12 & Penjualan & 2020-04-10 & Nita  & Item-11 & Sabun Cuci Piring     & 2 & 14000 & 04-2020\\\\\n\t51 & 13 & Penjualan & 2020-04-10 & Rian  & Item-02 & Bawang Putih 200 gram & 3 & 15000 & 04-2020\\\\\n\t52 & 13 & Penjualan & 2020-04-10 & Rian  & Item-03 & Gula Pasir Putih 1 kg & 2 & 12500 & 04-2020\\\\\n\t53 & 13 & Penjualan & 2020-04-10 & Rian  & Item-05 & Mi Goreng Instant     & 2 &  2600 & 04-2020\\\\\n\t54 & 13 & Penjualan & 2020-04-10 & Rian  & Item-11 & Sabun Cuci Piring     & 3 & 14000 & 04-2020\\\\\n\t55 & 14 & Penjualan & 2020-04-10 & Zahra & Item-03 & Gula Pasir Putih 1 kg & 3 & 12500 & 04-2020\\\\\n\t56 & 14 & Penjualan & 2020-04-10 & Zahra & Item-05 & Mi Goreng Instant     & 2 &  2600 & 04-2020\\\\\n\\end{tabular}\n",
            "text/plain": [
              "   No.Transaksi Jenis.Transaksi Tanggal    Nama.Pelanggan Kode.Produk\n",
              "48 10           Penjualan       2020-04-10 Fajri          Item-11    \n",
              "49 11           Penjualan       2020-04-10 Fitri          Item-11    \n",
              "50 12           Penjualan       2020-04-10 Nita           Item-11    \n",
              "51 13           Penjualan       2020-04-10 Rian           Item-02    \n",
              "52 13           Penjualan       2020-04-10 Rian           Item-03    \n",
              "53 13           Penjualan       2020-04-10 Rian           Item-05    \n",
              "54 13           Penjualan       2020-04-10 Rian           Item-11    \n",
              "55 14           Penjualan       2020-04-10 Zahra          Item-03    \n",
              "56 14           Penjualan       2020-04-10 Zahra          Item-05    \n",
              "   Nama.Produk           Jumlah Harga Bulan_Tahun\n",
              "48 Sabun Cuci Piring     3      14000 04-2020    \n",
              "49 Sabun Cuci Piring     3      14000 04-2020    \n",
              "50 Sabun Cuci Piring     2      14000 04-2020    \n",
              "51 Bawang Putih 200 gram 3      15000 04-2020    \n",
              "52 Gula Pasir Putih 1 kg 2      12500 04-2020    \n",
              "53 Mi Goreng Instant     2       2600 04-2020    \n",
              "54 Sabun Cuci Piring     3      14000 04-2020    \n",
              "55 Gula Pasir Putih 1 kg 3      12500 04-2020    \n",
              "56 Mi Goreng Instant     2       2600 04-2020    "
            ]
          },
          "metadata": {}
        }
      ]
    },
    {
      "cell_type": "code",
      "source": [
        "#Mengubah data harga menjadi Integer\n",
        "data$Harga <- as.integer(data$Harga)"
      ],
      "metadata": {
        "id": "0HMBKDlNTJX0"
      },
      "execution_count": 67,
      "outputs": []
    },
    {
      "cell_type": "code",
      "source": [
        "str(data)"
      ],
      "metadata": {
        "colab": {
          "base_uri": "https://localhost:8080/"
        },
        "id": "DE7txW8eTJRp",
        "outputId": "08dab772-fc2a-4f20-c99e-fb0bb9303418"
      },
      "execution_count": 68,
      "outputs": [
        {
          "output_type": "stream",
          "name": "stdout",
          "text": [
            "'data.frame':\t1392 obs. of  9 variables:\n",
            " $ No.Transaksi   : int  10 11 12 13 13 13 13 14 14 14 ...\n",
            " $ Jenis.Transaksi: chr  \"Penjualan\" \"Penjualan\" \"Penjualan\" \"Penjualan\" ...\n",
            " $ Tanggal        : Date, format: \"2020-04-10\" \"2020-04-10\" ...\n",
            " $ Nama.Pelanggan : chr  \"Fajri\" \"Fitri\" \"Nita\" \"Rian\" ...\n",
            " $ Kode.Produk    : chr  \"Item-11\" \"Item-11\" \"Item-11\" \"Item-02\" ...\n",
            " $ Nama.Produk    : chr  \"Sabun Cuci Piring\" \"Sabun Cuci Piring\" \"Sabun Cuci Piring\" \"Bawang Putih 200 gram\" ...\n",
            " $ Jumlah         : int  3 3 2 3 2 2 3 3 2 4 ...\n",
            " $ Harga          : int  14000 14000 14000 15000 12500 2600 14000 12500 2600 14000 ...\n",
            " $ Bulan_Tahun    : chr  \"04-2020\" \"04-2020\" \"04-2020\" \"04-2020\" ...\n"
          ]
        }
      ]
    },
    {
      "cell_type": "code",
      "source": [
        "#Mengubah nilai NA menjadi 0\n",
        "data$Harga[is.na(data$Harga)] <- 0"
      ],
      "metadata": {
        "id": "PySR4NzuTJF5"
      },
      "execution_count": 69,
      "outputs": []
    },
    {
      "cell_type": "code",
      "source": [
        "#Menghitung jumlah transaksi berdasarkan rentang harga\n",
        "data_transaksi <- aggregate(\n",
        "  x = data$No.Transaksi, \n",
        "  by = list(Harga = data$Harga), \n",
        "  FUN = length)"
      ],
      "metadata": {
        "id": "AAYYuNOl0_iv"
      },
      "execution_count": 70,
      "outputs": []
    },
    {
      "cell_type": "code",
      "source": [
        "head(data_transaksi, 9)"
      ],
      "metadata": {
        "colab": {
          "base_uri": "https://localhost:8080/",
          "height": 380
        },
        "id": "VTQ2cPgT0_ZL",
        "outputId": "83a36ea2-4e0e-417d-8d23-6430787e8487"
      },
      "execution_count": 71,
      "outputs": [
        {
          "output_type": "display_data",
          "data": {
            "text/html": [
              "<table class=\"dataframe\">\n",
              "<caption>A data.frame: 9 × 2</caption>\n",
              "<thead>\n",
              "\t<tr><th></th><th scope=col>Harga</th><th scope=col>x</th></tr>\n",
              "\t<tr><th></th><th scope=col>&lt;dbl&gt;</th><th scope=col>&lt;int&gt;</th></tr>\n",
              "</thead>\n",
              "<tbody>\n",
              "\t<tr><th scope=row>1</th><td> 1700</td><td> 10</td></tr>\n",
              "\t<tr><th scope=row>2</th><td> 2000</td><td> 58</td></tr>\n",
              "\t<tr><th scope=row>3</th><td> 2600</td><td>261</td></tr>\n",
              "\t<tr><th scope=row>4</th><td> 5000</td><td> 34</td></tr>\n",
              "\t<tr><th scope=row>5</th><td> 5200</td><td>159</td></tr>\n",
              "\t<tr><th scope=row>6</th><td> 6500</td><td> 13</td></tr>\n",
              "\t<tr><th scope=row>7</th><td> 7500</td><td> 16</td></tr>\n",
              "\t<tr><th scope=row>8</th><td> 7800</td><td> 25</td></tr>\n",
              "\t<tr><th scope=row>9</th><td>10500</td><td>163</td></tr>\n",
              "</tbody>\n",
              "</table>\n"
            ],
            "text/markdown": "\nA data.frame: 9 × 2\n\n| <!--/--> | Harga &lt;dbl&gt; | x &lt;int&gt; |\n|---|---|---|\n| 1 |  1700 |  10 |\n| 2 |  2000 |  58 |\n| 3 |  2600 | 261 |\n| 4 |  5000 |  34 |\n| 5 |  5200 | 159 |\n| 6 |  6500 |  13 |\n| 7 |  7500 |  16 |\n| 8 |  7800 |  25 |\n| 9 | 10500 | 163 |\n\n",
            "text/latex": "A data.frame: 9 × 2\n\\begin{tabular}{r|ll}\n  & Harga & x\\\\\n  & <dbl> & <int>\\\\\n\\hline\n\t1 &  1700 &  10\\\\\n\t2 &  2000 &  58\\\\\n\t3 &  2600 & 261\\\\\n\t4 &  5000 &  34\\\\\n\t5 &  5200 & 159\\\\\n\t6 &  6500 &  13\\\\\n\t7 &  7500 &  16\\\\\n\t8 &  7800 &  25\\\\\n\t9 & 10500 & 163\\\\\n\\end{tabular}\n",
            "text/plain": [
              "  Harga x  \n",
              "1  1700  10\n",
              "2  2000  58\n",
              "3  2600 261\n",
              "4  5000  34\n",
              "5  5200 159\n",
              "6  6500  13\n",
              "7  7500  16\n",
              "8  7800  25\n",
              "9 10500 163"
            ]
          },
          "metadata": {}
        }
      ]
    },
    {
      "cell_type": "code",
      "source": [
        "#Mengurutkan data dari harga termahal\n",
        "data_transaksi = data_transaksi[order(-data_transaksi$Harga), ]"
      ],
      "metadata": {
        "id": "OH66iwiEVgjh"
      },
      "execution_count": 72,
      "outputs": []
    },
    {
      "cell_type": "code",
      "source": [
        "data_transaksi"
      ],
      "metadata": {
        "colab": {
          "base_uri": "https://localhost:8080/",
          "height": 631
        },
        "id": "MutZHmV_Vv3O",
        "outputId": "fbe08174-e2b9-4378-abdb-992fb56a06ea"
      },
      "execution_count": 73,
      "outputs": [
        {
          "output_type": "display_data",
          "data": {
            "text/html": [
              "<table class=\"dataframe\">\n",
              "<caption>A data.frame: 17 × 2</caption>\n",
              "<thead>\n",
              "\t<tr><th></th><th scope=col>Harga</th><th scope=col>x</th></tr>\n",
              "\t<tr><th></th><th scope=col>&lt;dbl&gt;</th><th scope=col>&lt;int&gt;</th></tr>\n",
              "</thead>\n",
              "<tbody>\n",
              "\t<tr><th scope=row>17</th><td>63000</td><td>  9</td></tr>\n",
              "\t<tr><th scope=row>16</th><td>24000</td><td> 53</td></tr>\n",
              "\t<tr><th scope=row>15</th><td>22300</td><td>  7</td></tr>\n",
              "\t<tr><th scope=row>14</th><td>18000</td><td> 11</td></tr>\n",
              "\t<tr><th scope=row>13</th><td>15000</td><td>157</td></tr>\n",
              "\t<tr><th scope=row>12</th><td>14000</td><td> 38</td></tr>\n",
              "\t<tr><th scope=row>11</th><td>12500</td><td>305</td></tr>\n",
              "\t<tr><th scope=row>10</th><td>12000</td><td> 73</td></tr>\n",
              "\t<tr><th scope=row>9</th><td>10500</td><td>163</td></tr>\n",
              "\t<tr><th scope=row>8</th><td> 7800</td><td> 25</td></tr>\n",
              "\t<tr><th scope=row>7</th><td> 7500</td><td> 16</td></tr>\n",
              "\t<tr><th scope=row>6</th><td> 6500</td><td> 13</td></tr>\n",
              "\t<tr><th scope=row>5</th><td> 5200</td><td>159</td></tr>\n",
              "\t<tr><th scope=row>4</th><td> 5000</td><td> 34</td></tr>\n",
              "\t<tr><th scope=row>3</th><td> 2600</td><td>261</td></tr>\n",
              "\t<tr><th scope=row>2</th><td> 2000</td><td> 58</td></tr>\n",
              "\t<tr><th scope=row>1</th><td> 1700</td><td> 10</td></tr>\n",
              "</tbody>\n",
              "</table>\n"
            ],
            "text/markdown": "\nA data.frame: 17 × 2\n\n| <!--/--> | Harga &lt;dbl&gt; | x &lt;int&gt; |\n|---|---|---|\n| 17 | 63000 |   9 |\n| 16 | 24000 |  53 |\n| 15 | 22300 |   7 |\n| 14 | 18000 |  11 |\n| 13 | 15000 | 157 |\n| 12 | 14000 |  38 |\n| 11 | 12500 | 305 |\n| 10 | 12000 |  73 |\n| 9 | 10500 | 163 |\n| 8 |  7800 |  25 |\n| 7 |  7500 |  16 |\n| 6 |  6500 |  13 |\n| 5 |  5200 | 159 |\n| 4 |  5000 |  34 |\n| 3 |  2600 | 261 |\n| 2 |  2000 |  58 |\n| 1 |  1700 |  10 |\n\n",
            "text/latex": "A data.frame: 17 × 2\n\\begin{tabular}{r|ll}\n  & Harga & x\\\\\n  & <dbl> & <int>\\\\\n\\hline\n\t17 & 63000 &   9\\\\\n\t16 & 24000 &  53\\\\\n\t15 & 22300 &   7\\\\\n\t14 & 18000 &  11\\\\\n\t13 & 15000 & 157\\\\\n\t12 & 14000 &  38\\\\\n\t11 & 12500 & 305\\\\\n\t10 & 12000 &  73\\\\\n\t9 & 10500 & 163\\\\\n\t8 &  7800 &  25\\\\\n\t7 &  7500 &  16\\\\\n\t6 &  6500 &  13\\\\\n\t5 &  5200 & 159\\\\\n\t4 &  5000 &  34\\\\\n\t3 &  2600 & 261\\\\\n\t2 &  2000 &  58\\\\\n\t1 &  1700 &  10\\\\\n\\end{tabular}\n",
            "text/plain": [
              "   Harga x  \n",
              "17 63000   9\n",
              "16 24000  53\n",
              "15 22300   7\n",
              "14 18000  11\n",
              "13 15000 157\n",
              "12 14000  38\n",
              "11 12500 305\n",
              "10 12000  73\n",
              "9  10500 163\n",
              "8   7800  25\n",
              "7   7500  16\n",
              "6   6500  13\n",
              "5   5200 159\n",
              "4   5000  34\n",
              "3   2600 261\n",
              "2   2000  58\n",
              "1   1700  10"
            ]
          },
          "metadata": {}
        }
      ]
    },
    {
      "cell_type": "code",
      "source": [
        "#Visualisasi data hubungan harga barang dengan jumlah transaksi\n",
        "#Sebelum menggunakan perintah hist() kamu perlu memecah data transaksi diatas menjadi bentuk data vektor sebagai berikut\n",
        "data_transaksi_freq = as.vector(rep(data_transaksi$Harga, data_transaksi$x))"
      ],
      "metadata": {
        "id": "yEPdvrgyWDMm"
      },
      "execution_count": 75,
      "outputs": []
    },
    {
      "cell_type": "code",
      "source": [
        "data_transaksi_freq"
      ],
      "metadata": {
        "colab": {
          "base_uri": "https://localhost:8080/",
          "height": 243
        },
        "id": "bEYoycSCWFNh",
        "outputId": "20d00aeb-1cf7-47dc-f26a-1596d3ff9bda"
      },
      "execution_count": 76,
      "outputs": [
        {
          "output_type": "display_data",
          "data": {
            "text/html": [
              "<style>\n",
              ".list-inline {list-style: none; margin:0; padding: 0}\n",
              ".list-inline>li {display: inline-block}\n",
              ".list-inline>li:not(:last-child)::after {content: \"\\00b7\"; padding: 0 .5ex}\n",
              "</style>\n",
              "<ol class=list-inline><li>63000</li><li>63000</li><li>63000</li><li>63000</li><li>63000</li><li>63000</li><li>63000</li><li>63000</li><li>63000</li><li>24000</li><li>24000</li><li>24000</li><li>24000</li><li>24000</li><li>24000</li><li>24000</li><li>24000</li><li>24000</li><li>24000</li><li>24000</li><li>24000</li><li>24000</li><li>24000</li><li>24000</li><li>24000</li><li>24000</li><li>24000</li><li>24000</li><li>24000</li><li>24000</li><li>24000</li><li>24000</li><li>24000</li><li>24000</li><li>24000</li><li>24000</li><li>24000</li><li>24000</li><li>24000</li><li>24000</li><li>24000</li><li>24000</li><li>24000</li><li>24000</li><li>24000</li><li>24000</li><li>24000</li><li>24000</li><li>24000</li><li>24000</li><li>24000</li><li>24000</li><li>24000</li><li>24000</li><li>24000</li><li>24000</li><li>24000</li><li>24000</li><li>24000</li><li>24000</li><li>24000</li><li>24000</li><li>22300</li><li>22300</li><li>22300</li><li>22300</li><li>22300</li><li>22300</li><li>22300</li><li>18000</li><li>18000</li><li>18000</li><li>18000</li><li>18000</li><li>18000</li><li>18000</li><li>18000</li><li>18000</li><li>18000</li><li>18000</li><li>15000</li><li>15000</li><li>15000</li><li>15000</li><li>15000</li><li>15000</li><li>15000</li><li>15000</li><li>15000</li><li>15000</li><li>15000</li><li>15000</li><li>15000</li><li>15000</li><li>15000</li><li>15000</li><li>15000</li><li>15000</li><li>15000</li><li>15000</li><li>15000</li><li>15000</li><li>15000</li><li>15000</li><li>15000</li><li>15000</li><li>15000</li><li>15000</li><li>15000</li><li>15000</li><li>15000</li><li>15000</li><li>15000</li><li>15000</li><li>15000</li><li>15000</li><li>15000</li><li>15000</li><li>15000</li><li>15000</li><li>15000</li><li>15000</li><li>15000</li><li>15000</li><li>15000</li><li>15000</li><li>15000</li><li>15000</li><li>15000</li><li>15000</li><li>15000</li><li>15000</li><li>15000</li><li>15000</li><li>15000</li><li>15000</li><li>15000</li><li>15000</li><li>15000</li><li>15000</li><li>15000</li><li>15000</li><li>15000</li><li>15000</li><li>15000</li><li>15000</li><li>15000</li><li>15000</li><li>15000</li><li>15000</li><li>15000</li><li>15000</li><li>15000</li><li>15000</li><li>15000</li><li>15000</li><li>15000</li><li>15000</li><li>15000</li><li>15000</li><li>15000</li><li>15000</li><li>15000</li><li>15000</li><li>15000</li><li>15000</li><li>15000</li><li>15000</li><li>15000</li><li>15000</li><li>15000</li><li>15000</li><li>15000</li><li>15000</li><li>15000</li><li>15000</li><li>15000</li><li>15000</li><li>15000</li><li>15000</li><li>15000</li><li>15000</li><li>15000</li><li>15000</li><li>15000</li><li>15000</li><li>15000</li><li>15000</li><li>15000</li><li>15000</li><li>15000</li><li>15000</li><li>15000</li><li>15000</li><li>15000</li><li>15000</li><li>15000</li><li>15000</li><li>15000</li><li>15000</li><li>⋯</li><li>2600</li><li>2600</li><li>2600</li><li>2600</li><li>2600</li><li>2600</li><li>2600</li><li>2600</li><li>2600</li><li>2600</li><li>2600</li><li>2600</li><li>2600</li><li>2600</li><li>2600</li><li>2600</li><li>2600</li><li>2600</li><li>2600</li><li>2600</li><li>2600</li><li>2600</li><li>2600</li><li>2600</li><li>2600</li><li>2600</li><li>2600</li><li>2600</li><li>2600</li><li>2600</li><li>2600</li><li>2600</li><li>2600</li><li>2600</li><li>2600</li><li>2600</li><li>2600</li><li>2600</li><li>2600</li><li>2600</li><li>2600</li><li>2600</li><li>2600</li><li>2600</li><li>2600</li><li>2600</li><li>2600</li><li>2600</li><li>2600</li><li>2600</li><li>2600</li><li>2600</li><li>2600</li><li>2600</li><li>2600</li><li>2600</li><li>2600</li><li>2600</li><li>2600</li><li>2600</li><li>2600</li><li>2600</li><li>2600</li><li>2600</li><li>2600</li><li>2600</li><li>2600</li><li>2600</li><li>2600</li><li>2600</li><li>2600</li><li>2600</li><li>2600</li><li>2600</li><li>2600</li><li>2600</li><li>2600</li><li>2600</li><li>2600</li><li>2600</li><li>2600</li><li>2600</li><li>2600</li><li>2600</li><li>2600</li><li>2600</li><li>2600</li><li>2600</li><li>2600</li><li>2600</li><li>2600</li><li>2600</li><li>2600</li><li>2600</li><li>2600</li><li>2600</li><li>2600</li><li>2600</li><li>2600</li><li>2600</li><li>2600</li><li>2600</li><li>2600</li><li>2600</li><li>2600</li><li>2600</li><li>2600</li><li>2600</li><li>2600</li><li>2600</li><li>2600</li><li>2600</li><li>2600</li><li>2600</li><li>2600</li><li>2600</li><li>2600</li><li>2600</li><li>2600</li><li>2600</li><li>2600</li><li>2600</li><li>2600</li><li>2600</li><li>2600</li><li>2600</li><li>2600</li><li>2600</li><li>2600</li><li>2600</li><li>2600</li><li>2600</li><li>2000</li><li>2000</li><li>2000</li><li>2000</li><li>2000</li><li>2000</li><li>2000</li><li>2000</li><li>2000</li><li>2000</li><li>2000</li><li>2000</li><li>2000</li><li>2000</li><li>2000</li><li>2000</li><li>2000</li><li>2000</li><li>2000</li><li>2000</li><li>2000</li><li>2000</li><li>2000</li><li>2000</li><li>2000</li><li>2000</li><li>2000</li><li>2000</li><li>2000</li><li>2000</li><li>2000</li><li>2000</li><li>2000</li><li>2000</li><li>2000</li><li>2000</li><li>2000</li><li>2000</li><li>2000</li><li>2000</li><li>2000</li><li>2000</li><li>2000</li><li>2000</li><li>2000</li><li>2000</li><li>2000</li><li>2000</li><li>2000</li><li>2000</li><li>2000</li><li>2000</li><li>2000</li><li>2000</li><li>2000</li><li>2000</li><li>2000</li><li>2000</li><li>1700</li><li>1700</li><li>1700</li><li>1700</li><li>1700</li><li>1700</li><li>1700</li><li>1700</li><li>1700</li><li>1700</li></ol>\n"
            ],
            "text/markdown": "1. 63000\n2. 63000\n3. 63000\n4. 63000\n5. 63000\n6. 63000\n7. 63000\n8. 63000\n9. 63000\n10. 24000\n11. 24000\n12. 24000\n13. 24000\n14. 24000\n15. 24000\n16. 24000\n17. 24000\n18. 24000\n19. 24000\n20. 24000\n21. 24000\n22. 24000\n23. 24000\n24. 24000\n25. 24000\n26. 24000\n27. 24000\n28. 24000\n29. 24000\n30. 24000\n31. 24000\n32. 24000\n33. 24000\n34. 24000\n35. 24000\n36. 24000\n37. 24000\n38. 24000\n39. 24000\n40. 24000\n41. 24000\n42. 24000\n43. 24000\n44. 24000\n45. 24000\n46. 24000\n47. 24000\n48. 24000\n49. 24000\n50. 24000\n51. 24000\n52. 24000\n53. 24000\n54. 24000\n55. 24000\n56. 24000\n57. 24000\n58. 24000\n59. 24000\n60. 24000\n61. 24000\n62. 24000\n63. 22300\n64. 22300\n65. 22300\n66. 22300\n67. 22300\n68. 22300\n69. 22300\n70. 18000\n71. 18000\n72. 18000\n73. 18000\n74. 18000\n75. 18000\n76. 18000\n77. 18000\n78. 18000\n79. 18000\n80. 18000\n81. 15000\n82. 15000\n83. 15000\n84. 15000\n85. 15000\n86. 15000\n87. 15000\n88. 15000\n89. 15000\n90. 15000\n91. 15000\n92. 15000\n93. 15000\n94. 15000\n95. 15000\n96. 15000\n97. 15000\n98. 15000\n99. 15000\n100. 15000\n101. 15000\n102. 15000\n103. 15000\n104. 15000\n105. 15000\n106. 15000\n107. 15000\n108. 15000\n109. 15000\n110. 15000\n111. 15000\n112. 15000\n113. 15000\n114. 15000\n115. 15000\n116. 15000\n117. 15000\n118. 15000\n119. 15000\n120. 15000\n121. 15000\n122. 15000\n123. 15000\n124. 15000\n125. 15000\n126. 15000\n127. 15000\n128. 15000\n129. 15000\n130. 15000\n131. 15000\n132. 15000\n133. 15000\n134. 15000\n135. 15000\n136. 15000\n137. 15000\n138. 15000\n139. 15000\n140. 15000\n141. 15000\n142. 15000\n143. 15000\n144. 15000\n145. 15000\n146. 15000\n147. 15000\n148. 15000\n149. 15000\n150. 15000\n151. 15000\n152. 15000\n153. 15000\n154. 15000\n155. 15000\n156. 15000\n157. 15000\n158. 15000\n159. 15000\n160. 15000\n161. 15000\n162. 15000\n163. 15000\n164. 15000\n165. 15000\n166. 15000\n167. 15000\n168. 15000\n169. 15000\n170. 15000\n171. 15000\n172. 15000\n173. 15000\n174. 15000\n175. 15000\n176. 15000\n177. 15000\n178. 15000\n179. 15000\n180. 15000\n181. 15000\n182. 15000\n183. 15000\n184. 15000\n185. 15000\n186. 15000\n187. 15000\n188. 15000\n189. 15000\n190. 15000\n191. 15000\n192. 15000\n193. 15000\n194. 15000\n195. 15000\n196. 15000\n197. 15000\n198. 15000\n199. 15000\n200. 15000\n201. ⋯\n202. 2600\n203. 2600\n204. 2600\n205. 2600\n206. 2600\n207. 2600\n208. 2600\n209. 2600\n210. 2600\n211. 2600\n212. 2600\n213. 2600\n214. 2600\n215. 2600\n216. 2600\n217. 2600\n218. 2600\n219. 2600\n220. 2600\n221. 2600\n222. 2600\n223. 2600\n224. 2600\n225. 2600\n226. 2600\n227. 2600\n228. 2600\n229. 2600\n230. 2600\n231. 2600\n232. 2600\n233. 2600\n234. 2600\n235. 2600\n236. 2600\n237. 2600\n238. 2600\n239. 2600\n240. 2600\n241. 2600\n242. 2600\n243. 2600\n244. 2600\n245. 2600\n246. 2600\n247. 2600\n248. 2600\n249. 2600\n250. 2600\n251. 2600\n252. 2600\n253. 2600\n254. 2600\n255. 2600\n256. 2600\n257. 2600\n258. 2600\n259. 2600\n260. 2600\n261. 2600\n262. 2600\n263. 2600\n264. 2600\n265. 2600\n266. 2600\n267. 2600\n268. 2600\n269. 2600\n270. 2600\n271. 2600\n272. 2600\n273. 2600\n274. 2600\n275. 2600\n276. 2600\n277. 2600\n278. 2600\n279. 2600\n280. 2600\n281. 2600\n282. 2600\n283. 2600\n284. 2600\n285. 2600\n286. 2600\n287. 2600\n288. 2600\n289. 2600\n290. 2600\n291. 2600\n292. 2600\n293. 2600\n294. 2600\n295. 2600\n296. 2600\n297. 2600\n298. 2600\n299. 2600\n300. 2600\n301. 2600\n302. 2600\n303. 2600\n304. 2600\n305. 2600\n306. 2600\n307. 2600\n308. 2600\n309. 2600\n310. 2600\n311. 2600\n312. 2600\n313. 2600\n314. 2600\n315. 2600\n316. 2600\n317. 2600\n318. 2600\n319. 2600\n320. 2600\n321. 2600\n322. 2600\n323. 2600\n324. 2600\n325. 2600\n326. 2600\n327. 2600\n328. 2600\n329. 2600\n330. 2600\n331. 2600\n332. 2600\n333. 2600\n334. 2000\n335. 2000\n336. 2000\n337. 2000\n338. 2000\n339. 2000\n340. 2000\n341. 2000\n342. 2000\n343. 2000\n344. 2000\n345. 2000\n346. 2000\n347. 2000\n348. 2000\n349. 2000\n350. 2000\n351. 2000\n352. 2000\n353. 2000\n354. 2000\n355. 2000\n356. 2000\n357. 2000\n358. 2000\n359. 2000\n360. 2000\n361. 2000\n362. 2000\n363. 2000\n364. 2000\n365. 2000\n366. 2000\n367. 2000\n368. 2000\n369. 2000\n370. 2000\n371. 2000\n372. 2000\n373. 2000\n374. 2000\n375. 2000\n376. 2000\n377. 2000\n378. 2000\n379. 2000\n380. 2000\n381. 2000\n382. 2000\n383. 2000\n384. 2000\n385. 2000\n386. 2000\n387. 2000\n388. 2000\n389. 2000\n390. 2000\n391. 2000\n392. 1700\n393. 1700\n394. 1700\n395. 1700\n396. 1700\n397. 1700\n398. 1700\n399. 1700\n400. 1700\n401. 1700\n\n\n",
            "text/latex": "\\begin{enumerate*}\n\\item 63000\n\\item 63000\n\\item 63000\n\\item 63000\n\\item 63000\n\\item 63000\n\\item 63000\n\\item 63000\n\\item 63000\n\\item 24000\n\\item 24000\n\\item 24000\n\\item 24000\n\\item 24000\n\\item 24000\n\\item 24000\n\\item 24000\n\\item 24000\n\\item 24000\n\\item 24000\n\\item 24000\n\\item 24000\n\\item 24000\n\\item 24000\n\\item 24000\n\\item 24000\n\\item 24000\n\\item 24000\n\\item 24000\n\\item 24000\n\\item 24000\n\\item 24000\n\\item 24000\n\\item 24000\n\\item 24000\n\\item 24000\n\\item 24000\n\\item 24000\n\\item 24000\n\\item 24000\n\\item 24000\n\\item 24000\n\\item 24000\n\\item 24000\n\\item 24000\n\\item 24000\n\\item 24000\n\\item 24000\n\\item 24000\n\\item 24000\n\\item 24000\n\\item 24000\n\\item 24000\n\\item 24000\n\\item 24000\n\\item 24000\n\\item 24000\n\\item 24000\n\\item 24000\n\\item 24000\n\\item 24000\n\\item 24000\n\\item 22300\n\\item 22300\n\\item 22300\n\\item 22300\n\\item 22300\n\\item 22300\n\\item 22300\n\\item 18000\n\\item 18000\n\\item 18000\n\\item 18000\n\\item 18000\n\\item 18000\n\\item 18000\n\\item 18000\n\\item 18000\n\\item 18000\n\\item 18000\n\\item 15000\n\\item 15000\n\\item 15000\n\\item 15000\n\\item 15000\n\\item 15000\n\\item 15000\n\\item 15000\n\\item 15000\n\\item 15000\n\\item 15000\n\\item 15000\n\\item 15000\n\\item 15000\n\\item 15000\n\\item 15000\n\\item 15000\n\\item 15000\n\\item 15000\n\\item 15000\n\\item 15000\n\\item 15000\n\\item 15000\n\\item 15000\n\\item 15000\n\\item 15000\n\\item 15000\n\\item 15000\n\\item 15000\n\\item 15000\n\\item 15000\n\\item 15000\n\\item 15000\n\\item 15000\n\\item 15000\n\\item 15000\n\\item 15000\n\\item 15000\n\\item 15000\n\\item 15000\n\\item 15000\n\\item 15000\n\\item 15000\n\\item 15000\n\\item 15000\n\\item 15000\n\\item 15000\n\\item 15000\n\\item 15000\n\\item 15000\n\\item 15000\n\\item 15000\n\\item 15000\n\\item 15000\n\\item 15000\n\\item 15000\n\\item 15000\n\\item 15000\n\\item 15000\n\\item 15000\n\\item 15000\n\\item 15000\n\\item 15000\n\\item 15000\n\\item 15000\n\\item 15000\n\\item 15000\n\\item 15000\n\\item 15000\n\\item 15000\n\\item 15000\n\\item 15000\n\\item 15000\n\\item 15000\n\\item 15000\n\\item 15000\n\\item 15000\n\\item 15000\n\\item 15000\n\\item 15000\n\\item 15000\n\\item 15000\n\\item 15000\n\\item 15000\n\\item 15000\n\\item 15000\n\\item 15000\n\\item 15000\n\\item 15000\n\\item 15000\n\\item 15000\n\\item 15000\n\\item 15000\n\\item 15000\n\\item 15000\n\\item 15000\n\\item 15000\n\\item 15000\n\\item 15000\n\\item 15000\n\\item 15000\n\\item 15000\n\\item 15000\n\\item 15000\n\\item 15000\n\\item 15000\n\\item 15000\n\\item 15000\n\\item 15000\n\\item 15000\n\\item 15000\n\\item 15000\n\\item 15000\n\\item 15000\n\\item 15000\n\\item 15000\n\\item 15000\n\\item 15000\n\\item 15000\n\\item 15000\n\\item ⋯\n\\item 2600\n\\item 2600\n\\item 2600\n\\item 2600\n\\item 2600\n\\item 2600\n\\item 2600\n\\item 2600\n\\item 2600\n\\item 2600\n\\item 2600\n\\item 2600\n\\item 2600\n\\item 2600\n\\item 2600\n\\item 2600\n\\item 2600\n\\item 2600\n\\item 2600\n\\item 2600\n\\item 2600\n\\item 2600\n\\item 2600\n\\item 2600\n\\item 2600\n\\item 2600\n\\item 2600\n\\item 2600\n\\item 2600\n\\item 2600\n\\item 2600\n\\item 2600\n\\item 2600\n\\item 2600\n\\item 2600\n\\item 2600\n\\item 2600\n\\item 2600\n\\item 2600\n\\item 2600\n\\item 2600\n\\item 2600\n\\item 2600\n\\item 2600\n\\item 2600\n\\item 2600\n\\item 2600\n\\item 2600\n\\item 2600\n\\item 2600\n\\item 2600\n\\item 2600\n\\item 2600\n\\item 2600\n\\item 2600\n\\item 2600\n\\item 2600\n\\item 2600\n\\item 2600\n\\item 2600\n\\item 2600\n\\item 2600\n\\item 2600\n\\item 2600\n\\item 2600\n\\item 2600\n\\item 2600\n\\item 2600\n\\item 2600\n\\item 2600\n\\item 2600\n\\item 2600\n\\item 2600\n\\item 2600\n\\item 2600\n\\item 2600\n\\item 2600\n\\item 2600\n\\item 2600\n\\item 2600\n\\item 2600\n\\item 2600\n\\item 2600\n\\item 2600\n\\item 2600\n\\item 2600\n\\item 2600\n\\item 2600\n\\item 2600\n\\item 2600\n\\item 2600\n\\item 2600\n\\item 2600\n\\item 2600\n\\item 2600\n\\item 2600\n\\item 2600\n\\item 2600\n\\item 2600\n\\item 2600\n\\item 2600\n\\item 2600\n\\item 2600\n\\item 2600\n\\item 2600\n\\item 2600\n\\item 2600\n\\item 2600\n\\item 2600\n\\item 2600\n\\item 2600\n\\item 2600\n\\item 2600\n\\item 2600\n\\item 2600\n\\item 2600\n\\item 2600\n\\item 2600\n\\item 2600\n\\item 2600\n\\item 2600\n\\item 2600\n\\item 2600\n\\item 2600\n\\item 2600\n\\item 2600\n\\item 2600\n\\item 2600\n\\item 2600\n\\item 2600\n\\item 2600\n\\item 2600\n\\item 2000\n\\item 2000\n\\item 2000\n\\item 2000\n\\item 2000\n\\item 2000\n\\item 2000\n\\item 2000\n\\item 2000\n\\item 2000\n\\item 2000\n\\item 2000\n\\item 2000\n\\item 2000\n\\item 2000\n\\item 2000\n\\item 2000\n\\item 2000\n\\item 2000\n\\item 2000\n\\item 2000\n\\item 2000\n\\item 2000\n\\item 2000\n\\item 2000\n\\item 2000\n\\item 2000\n\\item 2000\n\\item 2000\n\\item 2000\n\\item 2000\n\\item 2000\n\\item 2000\n\\item 2000\n\\item 2000\n\\item 2000\n\\item 2000\n\\item 2000\n\\item 2000\n\\item 2000\n\\item 2000\n\\item 2000\n\\item 2000\n\\item 2000\n\\item 2000\n\\item 2000\n\\item 2000\n\\item 2000\n\\item 2000\n\\item 2000\n\\item 2000\n\\item 2000\n\\item 2000\n\\item 2000\n\\item 2000\n\\item 2000\n\\item 2000\n\\item 2000\n\\item 1700\n\\item 1700\n\\item 1700\n\\item 1700\n\\item 1700\n\\item 1700\n\\item 1700\n\\item 1700\n\\item 1700\n\\item 1700\n\\end{enumerate*}\n",
            "text/plain": [
              "   [1] 63000 63000 63000 63000 63000 63000 63000 63000 63000 24000 24000 24000\n",
              "  [13] 24000 24000 24000 24000 24000 24000 24000 24000 24000 24000 24000 24000\n",
              "  [25] 24000 24000 24000 24000 24000 24000 24000 24000 24000 24000 24000 24000\n",
              "  [37] 24000 24000 24000 24000 24000 24000 24000 24000 24000 24000 24000 24000\n",
              "  [49] 24000 24000 24000 24000 24000 24000 24000 24000 24000 24000 24000 24000\n",
              "  [61] 24000 24000 22300 22300 22300 22300 22300 22300 22300 18000 18000 18000\n",
              "  [73] 18000 18000 18000 18000 18000 18000 18000 18000 15000 15000 15000 15000\n",
              "  [85] 15000 15000 15000 15000 15000 15000 15000 15000 15000 15000 15000 15000\n",
              "  [97] 15000 15000 15000 15000 15000 15000 15000 15000 15000 15000 15000 15000\n",
              " [109] 15000 15000 15000 15000 15000 15000 15000 15000 15000 15000 15000 15000\n",
              " [121] 15000 15000 15000 15000 15000 15000 15000 15000 15000 15000 15000 15000\n",
              " [133] 15000 15000 15000 15000 15000 15000 15000 15000 15000 15000 15000 15000\n",
              " [145] 15000 15000 15000 15000 15000 15000 15000 15000 15000 15000 15000 15000\n",
              " [157] 15000 15000 15000 15000 15000 15000 15000 15000 15000 15000 15000 15000\n",
              " [169] 15000 15000 15000 15000 15000 15000 15000 15000 15000 15000 15000 15000\n",
              " [181] 15000 15000 15000 15000 15000 15000 15000 15000 15000 15000 15000 15000\n",
              " [193] 15000 15000 15000 15000 15000 15000 15000 15000 15000 15000 15000 15000\n",
              " [205] 15000 15000 15000 15000 15000 15000 15000 15000 15000 15000 15000 15000\n",
              " [217] 15000 15000 15000 15000 15000 15000 15000 15000 15000 15000 15000 15000\n",
              " [229] 15000 15000 15000 15000 15000 15000 15000 15000 15000 14000 14000 14000\n",
              " [241] 14000 14000 14000 14000 14000 14000 14000 14000 14000 14000 14000 14000\n",
              " [253] 14000 14000 14000 14000 14000 14000 14000 14000 14000 14000 14000 14000\n",
              " [265] 14000 14000 14000 14000 14000 14000 14000 14000 14000 14000 14000 12500\n",
              " [277] 12500 12500 12500 12500 12500 12500 12500 12500 12500 12500 12500 12500\n",
              " [289] 12500 12500 12500 12500 12500 12500 12500 12500 12500 12500 12500 12500\n",
              " [301] 12500 12500 12500 12500 12500 12500 12500 12500 12500 12500 12500 12500\n",
              " [313] 12500 12500 12500 12500 12500 12500 12500 12500 12500 12500 12500 12500\n",
              " [325] 12500 12500 12500 12500 12500 12500 12500 12500 12500 12500 12500 12500\n",
              " [337] 12500 12500 12500 12500 12500 12500 12500 12500 12500 12500 12500 12500\n",
              " [349] 12500 12500 12500 12500 12500 12500 12500 12500 12500 12500 12500 12500\n",
              " [361] 12500 12500 12500 12500 12500 12500 12500 12500 12500 12500 12500 12500\n",
              " [373] 12500 12500 12500 12500 12500 12500 12500 12500 12500 12500 12500 12500\n",
              " [385] 12500 12500 12500 12500 12500 12500 12500 12500 12500 12500 12500 12500\n",
              " [397] 12500 12500 12500 12500 12500 12500 12500 12500 12500 12500 12500 12500\n",
              " [409] 12500 12500 12500 12500 12500 12500 12500 12500 12500 12500 12500 12500\n",
              " [421] 12500 12500 12500 12500 12500 12500 12500 12500 12500 12500 12500 12500\n",
              " [433] 12500 12500 12500 12500 12500 12500 12500 12500 12500 12500 12500 12500\n",
              " [445] 12500 12500 12500 12500 12500 12500 12500 12500 12500 12500 12500 12500\n",
              " [457] 12500 12500 12500 12500 12500 12500 12500 12500 12500 12500 12500 12500\n",
              " [469] 12500 12500 12500 12500 12500 12500 12500 12500 12500 12500 12500 12500\n",
              " [481] 12500 12500 12500 12500 12500 12500 12500 12500 12500 12500 12500 12500\n",
              " [493] 12500 12500 12500 12500 12500 12500 12500 12500 12500 12500 12500 12500\n",
              " [505] 12500 12500 12500 12500 12500 12500 12500 12500 12500 12500 12500 12500\n",
              " [517] 12500 12500 12500 12500 12500 12500 12500 12500 12500 12500 12500 12500\n",
              " [529] 12500 12500 12500 12500 12500 12500 12500 12500 12500 12500 12500 12500\n",
              " [541] 12500 12500 12500 12500 12500 12500 12500 12500 12500 12500 12500 12500\n",
              " [553] 12500 12500 12500 12500 12500 12500 12500 12500 12500 12500 12500 12500\n",
              " [565] 12500 12500 12500 12500 12500 12500 12500 12500 12500 12500 12500 12500\n",
              " [577] 12500 12500 12500 12500 12000 12000 12000 12000 12000 12000 12000 12000\n",
              " [589] 12000 12000 12000 12000 12000 12000 12000 12000 12000 12000 12000 12000\n",
              " [601] 12000 12000 12000 12000 12000 12000 12000 12000 12000 12000 12000 12000\n",
              " [613] 12000 12000 12000 12000 12000 12000 12000 12000 12000 12000 12000 12000\n",
              " [625] 12000 12000 12000 12000 12000 12000 12000 12000 12000 12000 12000 12000\n",
              " [637] 12000 12000 12000 12000 12000 12000 12000 12000 12000 12000 12000 12000\n",
              " [649] 12000 12000 12000 12000 12000 10500 10500 10500 10500 10500 10500 10500\n",
              " [661] 10500 10500 10500 10500 10500 10500 10500 10500 10500 10500 10500 10500\n",
              " [673] 10500 10500 10500 10500 10500 10500 10500 10500 10500 10500 10500 10500\n",
              " [685] 10500 10500 10500 10500 10500 10500 10500 10500 10500 10500 10500 10500\n",
              " [697] 10500 10500 10500 10500 10500 10500 10500 10500 10500 10500 10500 10500\n",
              " [709] 10500 10500 10500 10500 10500 10500 10500 10500 10500 10500 10500 10500\n",
              " [721] 10500 10500 10500 10500 10500 10500 10500 10500 10500 10500 10500 10500\n",
              " [733] 10500 10500 10500 10500 10500 10500 10500 10500 10500 10500 10500 10500\n",
              " [745] 10500 10500 10500 10500 10500 10500 10500 10500 10500 10500 10500 10500\n",
              " [757] 10500 10500 10500 10500 10500 10500 10500 10500 10500 10500 10500 10500\n",
              " [769] 10500 10500 10500 10500 10500 10500 10500 10500 10500 10500 10500 10500\n",
              " [781] 10500 10500 10500 10500 10500 10500 10500 10500 10500 10500 10500 10500\n",
              " [793] 10500 10500 10500 10500 10500 10500 10500 10500 10500 10500 10500 10500\n",
              " [805] 10500 10500 10500 10500 10500 10500 10500 10500 10500 10500 10500 10500\n",
              " [817]  7800  7800  7800  7800  7800  7800  7800  7800  7800  7800  7800  7800\n",
              " [829]  7800  7800  7800  7800  7800  7800  7800  7800  7800  7800  7800  7800\n",
              " [841]  7800  7500  7500  7500  7500  7500  7500  7500  7500  7500  7500  7500\n",
              " [853]  7500  7500  7500  7500  7500  6500  6500  6500  6500  6500  6500  6500\n",
              " [865]  6500  6500  6500  6500  6500  6500  5200  5200  5200  5200  5200  5200\n",
              " [877]  5200  5200  5200  5200  5200  5200  5200  5200  5200  5200  5200  5200\n",
              " [889]  5200  5200  5200  5200  5200  5200  5200  5200  5200  5200  5200  5200\n",
              " [901]  5200  5200  5200  5200  5200  5200  5200  5200  5200  5200  5200  5200\n",
              " [913]  5200  5200  5200  5200  5200  5200  5200  5200  5200  5200  5200  5200\n",
              " [925]  5200  5200  5200  5200  5200  5200  5200  5200  5200  5200  5200  5200\n",
              " [937]  5200  5200  5200  5200  5200  5200  5200  5200  5200  5200  5200  5200\n",
              " [949]  5200  5200  5200  5200  5200  5200  5200  5200  5200  5200  5200  5200\n",
              " [961]  5200  5200  5200  5200  5200  5200  5200  5200  5200  5200  5200  5200\n",
              " [973]  5200  5200  5200  5200  5200  5200  5200  5200  5200  5200  5200  5200\n",
              " [985]  5200  5200  5200  5200  5200  5200  5200  5200  5200  5200  5200  5200\n",
              " [997]  5200  5200  5200  5200  5200  5200  5200  5200  5200  5200  5200  5200\n",
              "[1009]  5200  5200  5200  5200  5200  5200  5200  5200  5200  5200  5200  5200\n",
              "[1021]  5200  5200  5200  5200  5200  5200  5200  5200  5200  5000  5000  5000\n",
              "[1033]  5000  5000  5000  5000  5000  5000  5000  5000  5000  5000  5000  5000\n",
              "[1045]  5000  5000  5000  5000  5000  5000  5000  5000  5000  5000  5000  5000\n",
              "[1057]  5000  5000  5000  5000  5000  5000  5000  2600  2600  2600  2600  2600\n",
              "[1069]  2600  2600  2600  2600  2600  2600  2600  2600  2600  2600  2600  2600\n",
              "[1081]  2600  2600  2600  2600  2600  2600  2600  2600  2600  2600  2600  2600\n",
              "[1093]  2600  2600  2600  2600  2600  2600  2600  2600  2600  2600  2600  2600\n",
              "[1105]  2600  2600  2600  2600  2600  2600  2600  2600  2600  2600  2600  2600\n",
              "[1117]  2600  2600  2600  2600  2600  2600  2600  2600  2600  2600  2600  2600\n",
              "[1129]  2600  2600  2600  2600  2600  2600  2600  2600  2600  2600  2600  2600\n",
              "[1141]  2600  2600  2600  2600  2600  2600  2600  2600  2600  2600  2600  2600\n",
              "[1153]  2600  2600  2600  2600  2600  2600  2600  2600  2600  2600  2600  2600\n",
              "[1165]  2600  2600  2600  2600  2600  2600  2600  2600  2600  2600  2600  2600\n",
              "[1177]  2600  2600  2600  2600  2600  2600  2600  2600  2600  2600  2600  2600\n",
              "[1189]  2600  2600  2600  2600  2600  2600  2600  2600  2600  2600  2600  2600\n",
              "[1201]  2600  2600  2600  2600  2600  2600  2600  2600  2600  2600  2600  2600\n",
              "[1213]  2600  2600  2600  2600  2600  2600  2600  2600  2600  2600  2600  2600\n",
              "[1225]  2600  2600  2600  2600  2600  2600  2600  2600  2600  2600  2600  2600\n",
              "[1237]  2600  2600  2600  2600  2600  2600  2600  2600  2600  2600  2600  2600\n",
              "[1249]  2600  2600  2600  2600  2600  2600  2600  2600  2600  2600  2600  2600\n",
              "[1261]  2600  2600  2600  2600  2600  2600  2600  2600  2600  2600  2600  2600\n",
              "[1273]  2600  2600  2600  2600  2600  2600  2600  2600  2600  2600  2600  2600\n",
              "[1285]  2600  2600  2600  2600  2600  2600  2600  2600  2600  2600  2600  2600\n",
              "[1297]  2600  2600  2600  2600  2600  2600  2600  2600  2600  2600  2600  2600\n",
              "[1309]  2600  2600  2600  2600  2600  2600  2600  2600  2600  2600  2600  2600\n",
              "[1321]  2600  2600  2600  2600  2000  2000  2000  2000  2000  2000  2000  2000\n",
              "[1333]  2000  2000  2000  2000  2000  2000  2000  2000  2000  2000  2000  2000\n",
              "[1345]  2000  2000  2000  2000  2000  2000  2000  2000  2000  2000  2000  2000\n",
              "[1357]  2000  2000  2000  2000  2000  2000  2000  2000  2000  2000  2000  2000\n",
              "[1369]  2000  2000  2000  2000  2000  2000  2000  2000  2000  2000  2000  2000\n",
              "[1381]  2000  2000  1700  1700  1700  1700  1700  1700  1700  1700  1700  1700"
            ]
          },
          "metadata": {}
        }
      ]
    },
    {
      "cell_type": "code",
      "source": [
        "#Setelah mendapatkan data diatas, kita dapat mengeluarkan histogram dari tabel diatas dengan menggunakan perintah hist()\n",
        "hist(data_transaksi_freq,\n",
        "     main=\"Hubungan antara harga barang dengan transaksi\",\n",
        "     xlab=\"Rentang harga barang\",\n",
        "     col=\"green\"\n",
        ")"
      ],
      "metadata": {
        "colab": {
          "base_uri": "https://localhost:8080/",
          "height": 437
        },
        "id": "PIdYcJNLWYAt",
        "outputId": "6dc1445f-147c-47ce-ccc7-728c35b6b533"
      },
      "execution_count": 77,
      "outputs": [
        {
          "output_type": "display_data",
          "data": {
            "text/plain": [
              "Plot with title “Hubungan antara harga barang dengan transaksi”"
            ],
            "image/png": "[encoded data removed]"
          },
          "metadata": {
            "image/png": {
              "width": 420,
              "height": 420
            }
          }
        }
      ]
    }
  ]
}