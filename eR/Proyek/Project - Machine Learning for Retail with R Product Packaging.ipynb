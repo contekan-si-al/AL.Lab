{
  "nbformat": 4,
  "nbformat_minor": 0,
  "metadata": {
    "colab": {
      "name": "Project Machine Learning for Retail with R: Product Packaging.ipynb",
      "provenance": []
    },
    "kernelspec": {
      "name": "ir",
      "display_name": "R"
    },
    "language_info": {
      "name": "R"
    }
  },
  "cells": [
    {
      "cell_type": "markdown",
      "source": [
        "#### [Petunjuk Penyelesaian Project](https://academy.dqlab.id/main/projectcode/16/109/516?pr=0)"
      ],
      "metadata": {
        "id": "F9FgQTTMEpxB"
      }
    },
    {
      "cell_type": "code",
      "source": [
        "install.packages(\"arules\")"
      ],
      "metadata": {
        "colab": {
          "base_uri": "https://localhost:8080/"
        },
        "id": "D9QygAX8Ex2R",
        "outputId": "a93e0aa1-ab8b-47c8-bd49-976ce8ffdf49"
      },
      "execution_count": 1,
      "outputs": [
        {
          "output_type": "stream",
          "name": "stderr",
          "text": [
            "Installing package into ‘/usr/local/lib/R/site-library’\n",
            "(as ‘lib’ is unspecified)\n",
            "\n"
          ]
        }
      ]
    },
    {
      "cell_type": "code",
      "source": [
        "library(Matrix)"
      ],
      "metadata": {
        "id": "78OBsx7DFIoA"
      },
      "execution_count": 3,
      "outputs": []
    },
    {
      "cell_type": "code",
      "source": [
        "library(arules)\n",
        "\n",
        "transaksi_tabular <- read.transactions(file=\"https://storage.googleapis.com/dqlab-dataset/transaksi_dqlab_retail.tsv\", format=\"single\", sep=\"\\t\", cols=c(1,2), skip=1)\n",
        "\n",
        "write(transaksi_tabular, file=\"test_project_retail_1.txt\", sep=\",\")\n"
      ],
      "metadata": {
        "id": "2pPgs_ZfE2W8"
      },
      "execution_count": 4,
      "outputs": []
    },
    {
      "cell_type": "markdown",
      "source": [
        "#### [Output Awal: Statistik Top 10](https://academy.dqlab.id/main/projectcode/16/109/517?pr=0)"
      ],
      "metadata": {
        "id": "aOm25PoyE9pU"
      }
    },
    {
      "cell_type": "code",
      "source": [
        "library(arules)\n",
        "\n",
        "transaksi_tabular <- read.transactions(file=\"https://storage.googleapis.com/dqlab-dataset/transaksi_dqlab_retail.tsv\", format=\"single\", sep=\"\\t\", cols=c(1,2), skip=1)\n",
        "\n",
        "top10 <- sort(itemFrequency(transaksi_tabular,type='absolute'), decreasing=TRUE)[1:10]\n",
        "top10 <- data.frame(\"Nama.Produk\"=names(top10), \"Jumlah\"=top10, row.names=NULL)\n",
        "\n",
        "write.csv(top10,file=\"top10_item_retail.txt\")"
      ],
      "metadata": {
        "id": "q-hejcXvFBdH"
      },
      "execution_count": 6,
      "outputs": []
    },
    {
      "cell_type": "markdown",
      "source": [
        "#### [Output Awal: Statistik Bottom 10](https://academy.dqlab.id/main/projectcode/16/109/518?pr=0)"
      ],
      "metadata": {
        "id": "MWRmt7lQFYUH"
      }
    },
    {
      "cell_type": "code",
      "source": [
        "library(arules)\n",
        "\n",
        "transaksi_tabular <- read.transactions(file=\"https://storage.googleapis.com/dqlab-dataset/transaksi_dqlab_retail.tsv\", format=\"single\", sep=\"\\t\", cols=c(1,2), skip=1)\n",
        "\n",
        "bottom10 <- sort(itemFrequency(transaksi_tabular,type='absolute'), decreasing=FALSE)[1:10]\n",
        "bottom10 <- data.frame(\"Nama.Produk\"=names(bottom10), \"Jumlah\"=bottom10, row.names=NULL)\n",
        "\n",
        "write.csv(bottom10,file=\"bottom10_item_retail.txt\")"
      ],
      "metadata": {
        "id": "bmguld06FgFA"
      },
      "execution_count": 8,
      "outputs": []
    },
    {
      "cell_type": "markdown",
      "source": [
        "#### [Mendapatkan Kombinasi Produk yang menarik](https://academy.dqlab.id/main/projectcode/16/109/519?pr=0)"
      ],
      "metadata": {
        "id": "9Dwgu450FnsP"
      }
    },
    {
      "cell_type": "code",
      "source": [
        "library(arules)\n",
        "\n",
        "transaksi_tabular <- read.transactions(file=\"https://storage.googleapis.com/dqlab-dataset/transaksi_dqlab_retail.tsv\", format=\"single\", sep=\"\\t\", cols=c(1,2), skip=1)\n",
        "\n",
        "rules <- apriori(transaksi_tabular, parameter = list(supp=10/length(transaksi_tabular), conf=0.5, minlen=2, maxlen=3))\n",
        "\n",
        "apriori_rules <- c(head(sort(rules, by=\"lift\"), n=10))\n",
        "\n",
        "write(apriori_rules, file=\"kombinasi_retail.txt\")"
      ],
      "metadata": {
        "colab": {
          "base_uri": "https://localhost:8080/"
        },
        "id": "458it1YCFsJU",
        "outputId": "a0f76a1d-9d1d-4798-eb23-4c818ceb102b"
      },
      "execution_count": 9,
      "outputs": [
        {
          "output_type": "stream",
          "name": "stdout",
          "text": [
            "Apriori\n",
            "\n",
            "Parameter specification:\n",
            " confidence minval smax arem  aval originalSupport maxtime     support minlen\n",
            "        0.5    0.1    1 none FALSE            TRUE       5 0.002898551      2\n",
            " maxlen target  ext\n",
            "      3  rules TRUE\n",
            "\n",
            "Algorithmic control:\n",
            " filter tree heap memopt load sort verbose\n",
            "    0.1 TRUE TRUE  FALSE TRUE    2    TRUE\n",
            "\n",
            "Absolute minimum support count: 10 \n",
            "\n",
            "set item appearances ...[0 item(s)] done [0.00s].\n",
            "set transactions ...[69 item(s), 3450 transaction(s)] done [0.00s].\n",
            "sorting and recoding items ... [68 item(s)] done [0.00s].\n",
            "creating transaction tree ... done [0.00s].\n",
            "checking subsets of size 1 2 3"
          ]
        },
        {
          "output_type": "stream",
          "name": "stderr",
          "text": [
            "Warning message in apriori(transaksi_tabular, parameter = list(supp = 10/length(transaksi_tabular), :\n",
            "“Mining stopped (maxlen reached). Only patterns up to a length of 3 returned!”\n"
          ]
        },
        {
          "output_type": "stream",
          "name": "stdout",
          "text": [
            " done [0.01s].\n",
            "writing ... [4637 rule(s)] done [0.00s].\n",
            "creating S4 object  ... done [0.00s].\n"
          ]
        }
      ]
    },
    {
      "cell_type": "markdown",
      "source": [
        "#### [Mencari Paket Produk yang bisa dipasangkan dengan Item Slow-Moving](https://academy.dqlab.id/main/projectcode/16/109/520?pr=0)"
      ],
      "metadata": {
        "id": "KQoiUlpTF5VJ"
      }
    },
    {
      "cell_type": "code",
      "source": [
        "library(arules)\n",
        "transaksi_tabular <- read.transactions(file=\"https://storage.googleapis.com/dqlab-dataset/transaksi_dqlab_retail.tsv\", format=\"single\", sep=\"\\t\", cols=c(1,2), skip=1)\n",
        "\n",
        "rules <- apriori(transaksi_tabular, parameter = list(minlen = 2, maxlen = 3, conf = 0.1, support=10/length(transaksi_tabular)))\n",
        "\n",
        "A <- subset(rules, rhs %in% \"Tas Makeup\" )\n",
        "L <- subset(rules, rhs %in% \"Baju Renang Pria Anak-anak\")\n",
        "\n",
        "A <- head(sort(A, by=\"lift\", decreasing=TRUE), n=3L)\n",
        "L <- head(sort(L, by=\"lift\", decreasing=TRUE), n=3L)\n",
        "\n",
        "AL <- c(A, L)\n",
        "\n",
        "inspect(AL)\n",
        "\n",
        "write(AL, file=\"kombinasi_retail_slow_moving.txt\")"
      ],
      "metadata": {
        "colab": {
          "base_uri": "https://localhost:8080/"
        },
        "id": "4s3cPl3oGCOP",
        "outputId": "55d50645-58e0-4c87-827a-bf28d17dd85c"
      },
      "execution_count": 10,
      "outputs": [
        {
          "output_type": "stream",
          "name": "stdout",
          "text": [
            "Apriori\n",
            "\n",
            "Parameter specification:\n",
            " confidence minval smax arem  aval originalSupport maxtime     support minlen\n",
            "        0.1    0.1    1 none FALSE            TRUE       5 0.002898551      2\n",
            " maxlen target  ext\n",
            "      3  rules TRUE\n",
            "\n",
            "Algorithmic control:\n",
            " filter tree heap memopt load sort verbose\n",
            "    0.1 TRUE TRUE  FALSE TRUE    2    TRUE\n",
            "\n",
            "Absolute minimum support count: 10 \n",
            "\n",
            "set item appearances ...[0 item(s)] done [0.00s].\n",
            "set transactions ...[69 item(s), 3450 transaction(s)] done [0.00s].\n",
            "sorting and recoding items ... [68 item(s)] done [0.00s].\n",
            "creating transaction tree ... done [0.00s].\n",
            "checking subsets of size 1 2 3"
          ]
        },
        {
          "output_type": "stream",
          "name": "stderr",
          "text": [
            "Warning message in apriori(transaksi_tabular, parameter = list(minlen = 2, maxlen = 3, :\n",
            "“Mining stopped (maxlen reached). Only patterns up to a length of 3 returned!”\n"
          ]
        },
        {
          "output_type": "stream",
          "name": "stdout",
          "text": [
            " done [0.01s].\n",
            "writing ... [39832 rule(s)] done [0.01s].\n",
            "creating S4 object  ... done [0.01s].\n",
            "    lhs                              rhs                              support confidence   coverage     lift count\n",
            "[1] {Baju Renang Anak Perempuan,                                                                                  \n",
            "     Tas Pinggang Wanita}         => {Tas Makeup}                 0.010434783  0.8000000 0.01304348 19.57447    36\n",
            "[2] {Baju Renang Anak Perempuan,                                                                                  \n",
            "     Tas Ransel Mini}             => {Tas Makeup}                 0.011304348  0.7959184 0.01420290 19.47460    39\n",
            "[3] {Baju Renang Anak Perempuan,                                                                                  \n",
            "     Celana Pendek Green/Hijau}   => {Tas Makeup}                 0.010144928  0.7777778 0.01304348 19.03073    35\n",
            "[4] {Gembok Koper,                                                                                                \n",
            "     Tas Waist Bag}               => {Baju Renang Pria Anak-anak} 0.004057971  0.2745098 0.01478261 29.59559    14\n",
            "[5] {Flat Shoes Ballerina,                                                                                        \n",
            "     Gembok Koper}                => {Baju Renang Pria Anak-anak} 0.004057971  0.1866667 0.02173913 20.12500    14\n",
            "[6] {Celana Jeans Sobek Wanita,                                                                                   \n",
            "     Jeans Jumbo}                 => {Baju Renang Pria Anak-anak} 0.005507246  0.1210191 0.04550725 13.04737    19\n"
          ]
        }
      ]
    }
  ]
}