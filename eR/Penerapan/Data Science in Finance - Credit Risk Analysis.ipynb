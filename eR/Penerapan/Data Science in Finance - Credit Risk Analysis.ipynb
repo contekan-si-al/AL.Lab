{
  "nbformat": 4,
  "nbformat_minor": 0,
  "metadata": {
    "colab": {
      "name": "Data Science in Finance: Credit Risk Analysis.ipynb",
      "provenance": []
    },
    "kernelspec": {
      "name": "ir",
      "display_name": "R"
    },
    "language_info": {
      "name": "R"
    },
    "accelerator": "GPU",
    "gpuClass": "standard"
  },
  "cells": [
    {
      "cell_type": "markdown",
      "source": [
        "## Desicion Tree"
      ],
      "metadata": {
        "id": "IfqWyFwL4mWj"
      }
    },
    {
      "cell_type": "markdown",
      "source": [
        "#### [Contoh Pemodelan Decision Tree dengan Machine Learning](https://academy.dqlab.id/main/livecode/81/152/657?pr=0)"
      ],
      "metadata": {
        "id": "rYYqjl4W4nnh"
      }
    },
    {
      "cell_type": "code",
      "source": [
        "install.packages(\"openxlsx\")\n"
      ],
      "metadata": {
        "colab": {
          "base_uri": "https://localhost:8080/"
        },
        "id": "bcwkEgaO4sGy",
        "outputId": "926b75c7-0fee-494d-ebbf-14a4fb2fcb32"
      },
      "execution_count": 3,
      "outputs": [
        {
          "output_type": "stream",
          "name": "stderr",
          "text": [
            "Installing package into ‘/usr/local/lib/R/site-library’\n",
            "(as ‘lib’ is unspecified)\n",
            "\n",
            "also installing the dependency ‘Rcpp’\n",
            "\n",
            "\n"
          ]
        }
      ]
    },
    {
      "cell_type": "code",
      "source": [
        "install.packages(\"C50\")"
      ],
      "metadata": {
        "colab": {
          "base_uri": "https://localhost:8080/"
        },
        "id": "-vbpsoZT4wDn",
        "outputId": "0329ec2d-dc34-47a8-ec57-0f20fb758121"
      },
      "execution_count": 4,
      "outputs": [
        {
          "output_type": "stream",
          "name": "stderr",
          "text": [
            "Installing package into ‘/usr/local/lib/R/site-library’\n",
            "(as ‘lib’ is unspecified)\n",
            "\n",
            "also installing the dependencies ‘plyr’, ‘libcoin’, ‘mvtnorm’, ‘Formula’, ‘inum’, ‘reshape2’, ‘partykit’, ‘Cubist’\n",
            "\n",
            "\n"
          ]
        }
      ]
    },
    {
      "cell_type": "code",
      "source": [
        "library(openxlsx)\n",
        "library(C50)\n",
        "\n",
        "#Mempersiapkan data\n",
        "dataCreditRating <- read.xlsx(xlsxFile = \"https://storage.googleapis.com/dqlab-dataset/credit_scoring_dqlab.xlsx\")\n",
        "dataCreditRating$risk_rating <- as.factor(dataCreditRating$risk_rating) \n",
        "\n",
        "#Menggunakan C5.0\n",
        "drop_columns <- c(\"kpr_aktif\", \"pendapatan_setahun_juta\", \"risk_rating\", \"rata_rata_overdue\")\n",
        "datafeed <- dataCreditRating[ , !(names(dataCreditRating) %in% drop_columns)]\n",
        "modelKu <- C5.0(datafeed, as.factor(dataCreditRating$risk_rating))\n",
        "summary(modelKu)"
      ],
      "metadata": {
        "colab": {
          "base_uri": "https://localhost:8080/",
          "height": 902
        },
        "id": "xJ-wTNYG48_8",
        "outputId": "a53f2c28-4d98-48f5-e13a-571649e97a4c"
      },
      "execution_count": 5,
      "outputs": [
        {
          "output_type": "display_data",
          "data": {
            "text/plain": [
              "\n",
              "Call:\n",
              "C5.0.default(x = datafeed, y = as.factor(dataCreditRating$risk_rating))\n",
              "\n",
              "\n",
              "C5.0 [Release 2.07 GPL Edition]  \tFri Aug  5 07:26:21 2022\n",
              "-------------------------------\n",
              "\n",
              "Class specified by attribute `outcome'\n",
              "\n",
              "Read 900 cases (4 attributes) from undefined.data\n",
              "\n",
              "Decision tree:\n",
              "\n",
              "jumlah_tanggungan > 4:\n",
              ":...durasi_pinjaman_bulan <= 24: 4 (112/30)\n",
              ":   durasi_pinjaman_bulan > 24: 5 (140/55)\n",
              "jumlah_tanggungan <= 4:\n",
              ":...jumlah_tanggungan > 2: 3 (246/22)\n",
              "    jumlah_tanggungan <= 2:\n",
              "    :...durasi_pinjaman_bulan <= 36: 1 (294/86)\n",
              "        durasi_pinjaman_bulan > 36:\n",
              "        :...jumlah_tanggungan <= 0: 2 (41/8)\n",
              "            jumlah_tanggungan > 0: 3 (67/4)\n",
              "\n",
              "\n",
              "Evaluation on training data (900 cases):\n",
              "\n",
              "\t    Decision Tree   \n",
              "\t  ----------------  \n",
              "\t  Size      Errors  \n",
              "\n",
              "\t     6  205(22.8%)   <<\n",
              "\n",
              "\n",
              "\t   (a)   (b)   (c)   (d)   (e)    <-classified as\n",
              "\t  ----  ----  ----  ----  ----\n",
              "\t   208     2     5     6     6    (a): class 1\n",
              "\t    86    33    21     6    13    (b): class 2\n",
              "\t           4   287                (c): class 3\n",
              "\t           2          82    36    (d): class 4\n",
              "\t                      18    85    (e): class 5\n",
              "\n",
              "\n",
              "\tAttribute usage:\n",
              "\n",
              "\t100.00%\tjumlah_tanggungan\n",
              "\t 72.67%\tdurasi_pinjaman_bulan\n",
              "\n",
              "\n",
              "Time: 0.0 secs\n"
            ]
          },
          "metadata": {}
        }
      ]
    },
    {
      "cell_type": "markdown",
      "source": [
        "Ini adalah bentuk representasi tree dalam bentuk teks. Dimana pengecekan akan dimulai dari variable jumlah_tanggungan. Sebagai contoh, jika jumlah tanggungan lebih dari 4 dan durasi pinjaman sampai dengan maksimal 24 bulan maka rating diberikan nilai 4."
      ],
      "metadata": {
        "id": "-2jN9GjN5wuT"
      }
    },
    {
      "cell_type": "markdown",
      "source": [
        "## Algoritma C5.0"
      ],
      "metadata": {
        "id": "24RoaUmj50mH"
      }
    },
    {
      "cell_type": "markdown",
      "source": [
        "#### [Data Preparation untuk Class Variable](https://academy.dqlab.id/main/livecode/81/153/659?pr=0)"
      ],
      "metadata": {
        "id": "C2L-Aep952xf"
      }
    },
    {
      "cell_type": "code",
      "source": [
        "#Mempersiapkan data\n",
        "dataCreditRating <- read.xlsx(xlsxFile = \"https://storage.googleapis.com/dqlab-dataset/credit_scoring_dqlab.xlsx\")\n",
        "str(dataCreditRating)\n",
        "\n",
        "#Melakukan konversi kolom risk_rating menjadi factor\n",
        "dataCreditRating$risk_rating <- as.factor(dataCreditRating$risk_rating)\n",
        "\n",
        "#Melihat struktur setelah konversi\n",
        "str(dataCreditRating)"
      ],
      "metadata": {
        "colab": {
          "base_uri": "https://localhost:8080/"
        },
        "id": "mmktuQCM6UGK",
        "outputId": "e51daba5-ec2b-4378-ede2-6a5ca1183f19"
      },
      "execution_count": 6,
      "outputs": [
        {
          "output_type": "stream",
          "name": "stdout",
          "text": [
            "'data.frame':\t900 obs. of  7 variables:\n",
            " $ kode_kontrak           : chr  \"AGR-000001\" \"AGR-000011\" \"AGR-000030\" \"AGR-000043\" ...\n",
            " $ pendapatan_setahun_juta: num  295 271 159 210 165 220 70 88 163 100 ...\n",
            " $ kpr_aktif              : chr  \"YA\" \"YA\" \"TIDAK\" \"YA\" ...\n",
            " $ durasi_pinjaman_bulan  : num  48 36 12 12 36 24 36 48 48 36 ...\n",
            " $ jumlah_tanggungan      : num  5 5 0 3 0 5 3 3 5 6 ...\n",
            " $ rata_rata_overdue      : chr  \"61 - 90 days\" \"61 - 90 days\" \"0 - 30 days\" \"46 - 60 days\" ...\n",
            " $ risk_rating            : num  4 4 1 3 2 1 2 2 2 2 ...\n",
            "'data.frame':\t900 obs. of  7 variables:\n",
            " $ kode_kontrak           : chr  \"AGR-000001\" \"AGR-000011\" \"AGR-000030\" \"AGR-000043\" ...\n",
            " $ pendapatan_setahun_juta: num  295 271 159 210 165 220 70 88 163 100 ...\n",
            " $ kpr_aktif              : chr  \"YA\" \"YA\" \"TIDAK\" \"YA\" ...\n",
            " $ durasi_pinjaman_bulan  : num  48 36 12 12 36 24 36 48 48 36 ...\n",
            " $ jumlah_tanggungan      : num  5 5 0 3 0 5 3 3 5 6 ...\n",
            " $ rata_rata_overdue      : chr  \"61 - 90 days\" \"61 - 90 days\" \"0 - 30 days\" \"46 - 60 days\" ...\n",
            " $ risk_rating            : Factor w/ 5 levels \"1\",\"2\",\"3\",\"4\",..: 4 4 1 3 2 1 2 2 2 2 ...\n"
          ]
        }
      ]
    },
    {
      "cell_type": "markdown",
      "source": [
        "#### [Data Preparation untuk Input Variables](https://academy.dqlab.id/main/livecode/81/153/660?pr=0)"
      ],
      "metadata": {
        "id": "-LeE_TZs66C6"
      }
    },
    {
      "cell_type": "code",
      "source": [
        "#Menghilangkan beberapa variable input dari dataset \n",
        "input_columns <- c(\"durasi_pinjaman_bulan\", \"jumlah_tanggungan\")\n",
        "datafeed <- dataCreditRating[ , input_columns ]\n",
        "str(datafeed)"
      ],
      "metadata": {
        "colab": {
          "base_uri": "https://localhost:8080/"
        },
        "id": "OD-eFqwd69Df",
        "outputId": "43e482e9-8c63-43fd-81ed-54e90bc7442e"
      },
      "execution_count": 7,
      "outputs": [
        {
          "output_type": "stream",
          "name": "stdout",
          "text": [
            "'data.frame':\t900 obs. of  2 variables:\n",
            " $ durasi_pinjaman_bulan: num  48 36 12 12 36 24 36 48 48 36 ...\n",
            " $ jumlah_tanggungan    : num  5 5 0 3 0 5 3 3 5 6 ...\n"
          ]
        }
      ]
    },
    {
      "cell_type": "markdown",
      "source": [
        "Catatan: **kode_kontrak** harusnya tidak dipilih karena unik untuk keseluruhan data, dan tidak menjadi penentu untuk membentuk pola. Tetapi ini dimasukkan dengan tujuan untuk menunjukkan C5.0 memiliki kemampuan untuk membuang variable input yang tidak relevan secara otomatis. "
      ],
      "metadata": {
        "id": "VBOHqAEc7Sz3"
      }
    },
    {
      "cell_type": "markdown",
      "source": [
        "#### [Mempersiapkan Training dan Testing Set](https://academy.dqlab.id/main/livecode/81/153/662?pr=0)"
      ],
      "metadata": {
        "id": "yeGstVLQ7b0y"
      }
    },
    {
      "cell_type": "code",
      "source": [
        "#Mempersiapkan porsi index acak untuk training dan testing set\n",
        "set.seed(100)\n",
        "indeks_training_set <- sample(900, 800)\n",
        "\n",
        "#Membuat dan menampilkan training set dan testing set\n",
        "input_training_set <- datafeed[indeks_training_set,]\n",
        "class_training_set <- dataCreditRating[indeks_training_set,]$risk_rating\n",
        "input_testing_set <- datafeed[-indeks_training_set,]\n",
        "\n",
        "str(input_training_set)\n",
        "str(class_training_set)\n",
        "str(input_testing_set)"
      ],
      "metadata": {
        "colab": {
          "base_uri": "https://localhost:8080/"
        },
        "id": "5NeOR59e8Jau",
        "outputId": "187d6ed2-07c9-4d73-ca41-b039007235ce"
      },
      "execution_count": 8,
      "outputs": [
        {
          "output_type": "stream",
          "name": "stdout",
          "text": [
            "'data.frame':\t800 obs. of  2 variables:\n",
            " $ durasi_pinjaman_bulan: num  36 24 36 36 36 24 12 48 48 12 ...\n",
            " $ jumlah_tanggungan    : num  1 1 5 1 5 3 3 3 0 0 ...\n",
            " Factor w/ 5 levels \"1\",\"2\",\"3\",\"4\",..: 1 1 4 1 5 3 3 3 2 1 ...\n",
            "'data.frame':\t100 obs. of  2 variables:\n",
            " $ durasi_pinjaman_bulan: num  12 36 48 36 48 48 12 12 12 12 ...\n",
            " $ jumlah_tanggungan    : num  0 0 3 3 6 5 0 0 0 4 ...\n"
          ]
        }
      ]
    },
    {
      "cell_type": "markdown",
      "source": [
        "#### [Menghasilkan Model dengan Fungsi C5.0](https://academy.dqlab.id/main/livecode/81/153/663?pr=0)"
      ],
      "metadata": {
        "id": "39RQpR9w8eXj"
      }
    },
    {
      "cell_type": "code",
      "source": [
        "#menghasilkan dan menampilkan summary model\n",
        "risk_rating_model <- C5.0(input_training_set, class_training_set)\n",
        "\n",
        "summary(risk_rating_model)"
      ],
      "metadata": {
        "colab": {
          "base_uri": "https://localhost:8080/",
          "height": 902
        },
        "id": "vK_-pcXw8mXO",
        "outputId": "a61cc08c-ad32-46e8-9acf-93d2475ae080"
      },
      "execution_count": 9,
      "outputs": [
        {
          "output_type": "display_data",
          "data": {
            "text/plain": [
              "\n",
              "Call:\n",
              "C5.0.default(x = input_training_set, y = class_training_set)\n",
              "\n",
              "\n",
              "C5.0 [Release 2.07 GPL Edition]  \tFri Aug  5 07:41:09 2022\n",
              "-------------------------------\n",
              "\n",
              "Class specified by attribute `outcome'\n",
              "\n",
              "Read 800 cases (3 attributes) from undefined.data\n",
              "\n",
              "Decision tree:\n",
              "\n",
              "jumlah_tanggungan > 4:\n",
              ":...durasi_pinjaman_bulan <= 24: 4 (105/30)\n",
              ":   durasi_pinjaman_bulan > 24: 5 (120/51)\n",
              "jumlah_tanggungan <= 4:\n",
              ":...jumlah_tanggungan > 2: 3 (216/20)\n",
              "    jumlah_tanggungan <= 2:\n",
              "    :...durasi_pinjaman_bulan <= 36: 1 (264/80)\n",
              "        durasi_pinjaman_bulan > 36:\n",
              "        :...jumlah_tanggungan <= 0: 2 (37/7)\n",
              "            jumlah_tanggungan > 0: 3 (58/4)\n",
              "\n",
              "\n",
              "Evaluation on training data (800 cases):\n",
              "\n",
              "\t    Decision Tree   \n",
              "\t  ----------------  \n",
              "\t  Size      Errors  \n",
              "\n",
              "\t     6  192(24.0%)   <<\n",
              "\n",
              "\n",
              "\t   (a)   (b)   (c)   (d)   (e)    <-classified as\n",
              "\t  ----  ----  ----  ----  ----\n",
              "\t   184     2     5     6     6    (a): class 1\n",
              "\t    80    30    19     6    11    (b): class 2\n",
              "\t           3   250                (c): class 3\n",
              "\t           2          75    34    (d): class 4\n",
              "\t                      18    69    (e): class 5\n",
              "\n",
              "\n",
              "\tAttribute usage:\n",
              "\n",
              "\t100.00%\tjumlah_tanggungan\n",
              "\t 73.00%\tdurasi_pinjaman_bulan\n",
              "\n",
              "\n",
              "Time: 0.0 secs\n"
            ]
          },
          "metadata": {}
        }
      ]
    },
    {
      "cell_type": "markdown",
      "source": [
        "#### [Menghasilkan Plot dari Model C5.0](https://academy.dqlab.id/main/livecode/81/153/696?pr=0)"
      ],
      "metadata": {
        "id": "9cmom93d9oxP"
      }
    },
    {
      "cell_type": "code",
      "source": [
        "plot(risk_rating_model)"
      ],
      "metadata": {
        "colab": {
          "base_uri": "https://localhost:8080/",
          "height": 437
        },
        "id": "CB_hbLBI9sdJ",
        "outputId": "b757d49d-4929-47c5-dd8c-9fcd99759649"
      },
      "execution_count": 10,
      "outputs": [
        {
          "output_type": "display_data",
          "data": {
            "text/plain": [
              "plot without title"
            ],
            "image/png": "[encoded data removed]"
          },
          "metadata": {
            "image/png": {
              "width": 420,
              "height": 420
            }
          }
        }
      ]
    },
    {
      "cell_type": "markdown",
      "source": [
        "## Memahami Output dari Fungsi C5.0"
      ],
      "metadata": {
        "id": "fh2bd1pR562O"
      }
    },
    {
      "cell_type": "markdown",
      "source": [
        "#### [Label dari Class](https://academy.dqlab.id/main/livecode/81/154/665?pr=0)"
      ],
      "metadata": {
        "id": "H0FfrdrD-dON"
      }
    },
    {
      "cell_type": "code",
      "source": [
        "#menghasilkan model\n",
        "risk_rating_model <- C5.0(input_training_set, class_training_set, control = C5.0Control(label=\"Risk Rating\"))\n",
        "\n",
        "summary(risk_rating_model)"
      ],
      "metadata": {
        "colab": {
          "base_uri": "https://localhost:8080/",
          "height": 920
        },
        "id": "45_AoiHq-gzN",
        "outputId": "5fcc66fb-1e16-4f82-af2e-3287064deead"
      },
      "execution_count": 11,
      "outputs": [
        {
          "output_type": "display_data",
          "data": {
            "text/plain": [
              "\n",
              "Call:\n",
              "C5.0.default(x = input_training_set, y = class_training_set, control\n",
              " = C5.0Control(label = \"Risk Rating\"))\n",
              "\n",
              "\n",
              "C5.0 [Release 2.07 GPL Edition]  \tFri Aug  5 07:49:06 2022\n",
              "-------------------------------\n",
              "\n",
              "Class specified by attribute `Risk Rating'\n",
              "\n",
              "Read 800 cases (3 attributes) from undefined.data\n",
              "\n",
              "Decision tree:\n",
              "\n",
              "jumlah_tanggungan > 4:\n",
              ":...durasi_pinjaman_bulan <= 24: 4 (105/30)\n",
              ":   durasi_pinjaman_bulan > 24: 5 (120/51)\n",
              "jumlah_tanggungan <= 4:\n",
              ":...jumlah_tanggungan > 2: 3 (216/20)\n",
              "    jumlah_tanggungan <= 2:\n",
              "    :...durasi_pinjaman_bulan <= 36: 1 (264/80)\n",
              "        durasi_pinjaman_bulan > 36:\n",
              "        :...jumlah_tanggungan <= 0: 2 (37/7)\n",
              "            jumlah_tanggungan > 0: 3 (58/4)\n",
              "\n",
              "\n",
              "Evaluation on training data (800 cases):\n",
              "\n",
              "\t    Decision Tree   \n",
              "\t  ----------------  \n",
              "\t  Size      Errors  \n",
              "\n",
              "\t     6  192(24.0%)   <<\n",
              "\n",
              "\n",
              "\t   (a)   (b)   (c)   (d)   (e)    <-classified as\n",
              "\t  ----  ----  ----  ----  ----\n",
              "\t   184     2     5     6     6    (a): class 1\n",
              "\t    80    30    19     6    11    (b): class 2\n",
              "\t           3   250                (c): class 3\n",
              "\t           2          75    34    (d): class 4\n",
              "\t                      18    69    (e): class 5\n",
              "\n",
              "\n",
              "\tAttribute usage:\n",
              "\n",
              "\t100.00%\tjumlah_tanggungan\n",
              "\t 73.00%\tdurasi_pinjaman_bulan\n",
              "\n",
              "\n",
              "Time: 0.0 secs\n"
            ]
          },
          "metadata": {}
        }
      ]
    },
    {
      "cell_type": "markdown",
      "source": [
        "#### [Jumlah Data dan Variable yang Digunakan](https://academy.dqlab.id/main/livecode/81/154/673?pr=0)"
      ],
      "metadata": {
        "id": "wKTebj0q-yFa"
      }
    },
    {
      "cell_type": "code",
      "source": [
        "#Mempersiapkan class dan input variables \n",
        "dataCreditRating$risk_rating <- as.factor(dataCreditRating$risk_rating) \n",
        "input_columns <- c(\"durasi_pinjaman_bulan\", \"jumlah_tanggungan\", \"kpr_aktif\")\n",
        "datafeed <- dataCreditRating[ , input_columns ]\n",
        "\n",
        "#Mempersiapkan training dan testing set\n",
        "set.seed(100) #untuk menyeragamkan hasil random antar tiap komputer\n",
        "indeks_training_set <- sample(900, 780)\n",
        "\n",
        "#Membuat dan menampilkan training set dan testing set\n",
        "input_training_set <- datafeed[indeks_training_set,]\n",
        "class_training_set <- dataCreditRating[indeks_training_set,]$risk_rating\n",
        "input_testing_set <- datafeed[-indeks_training_set,]\n",
        "\n",
        "#menghasilkan model\n",
        "risk_rating_model <- C5.0(input_training_set, class_training_set, control = C5.0Control(label=\"Risk Rating\"))\n",
        "summary(risk_rating_model)"
      ],
      "metadata": {
        "colab": {
          "base_uri": "https://localhost:8080/",
          "height": 902
        },
        "id": "VCtsh59t-1_5",
        "outputId": "5fde2dae-a06d-4ff5-e6b0-5853349a7e0b"
      },
      "execution_count": 12,
      "outputs": [
        {
          "output_type": "display_data",
          "data": {
            "text/plain": [
              "\n",
              "Call:\n",
              "C5.0.default(x = input_training_set, y = class_training_set, control\n",
              " = C5.0Control(label = \"Risk Rating\"))\n",
              "\n",
              "\n",
              "C5.0 [Release 2.07 GPL Edition]  \tFri Aug  5 07:52:49 2022\n",
              "-------------------------------\n",
              "\n",
              "Class specified by attribute `Risk Rating'\n",
              "\n",
              "Read 780 cases (4 attributes) from undefined.data\n",
              "\n",
              "Decision tree:\n",
              "\n",
              "kpr_aktif = TIDAK:\n",
              ":...durasi_pinjaman_bulan <= 36: 1 (293/103)\n",
              ":   durasi_pinjaman_bulan > 36: 2 (47/7)\n",
              "kpr_aktif = YA:\n",
              ":...jumlah_tanggungan <= 4: 3 (247/4)\n",
              "    jumlah_tanggungan > 4:\n",
              "    :...durasi_pinjaman_bulan <= 24: 4 (91/17)\n",
              "        durasi_pinjaman_bulan > 24: 5 (102/34)\n",
              "\n",
              "\n",
              "Evaluation on training data (780 cases):\n",
              "\n",
              "\t    Decision Tree   \n",
              "\t  ----------------  \n",
              "\t  Size      Errors  \n",
              "\n",
              "\t     5  165(21.2%)   <<\n",
              "\n",
              "\n",
              "\t   (a)   (b)   (c)   (d)   (e)    <-classified as\n",
              "\t  ----  ----  ----  ----  ----\n",
              "\t   190     5     2                (a): class 1\n",
              "\t   101    40                 1    (b): class 2\n",
              "\t     1     1   243                (c): class 3\n",
              "\t                 2    74    33    (d): class 4\n",
              "\t     1     1          17    68    (e): class 5\n",
              "\n",
              "\n",
              "\tAttribute usage:\n",
              "\n",
              "\t100.00%\tkpr_aktif\n",
              "\t 68.33%\tdurasi_pinjaman_bulan\n",
              "\t 56.41%\tjumlah_tanggungan\n",
              "\n",
              "\n",
              "Time: 0.0 secs\n"
            ]
          },
          "metadata": {}
        }
      ]
    },
    {
      "cell_type": "markdown",
      "source": [
        "#### [Merubah Label Class Variable](https://academy.dqlab.id/main/livecode/81/154/691?pr=0)"
      ],
      "metadata": {
        "id": "NYmHBvedAMAJ"
      }
    },
    {
      "cell_type": "code",
      "source": [
        "library(\"openxlsx\")\n",
        "library(\"C50\")\n",
        "\n",
        "#Mempersiapkan data\n",
        "dataCreditRating <- read.xlsx(xlsxFile = \"https://storage.googleapis.com/dqlab-dataset/credit_scoring_dqlab.xlsx\")\n",
        "\n",
        "#Mempersiapkan class dan input variables \n",
        "dataCreditRating$risk_rating[dataCreditRating$risk_rating == \"1\"]  <-  \"satu\"\n",
        "dataCreditRating$risk_rating[dataCreditRating$risk_rating == \"2\"]  <-  \"dua\"\n",
        "dataCreditRating$risk_rating[dataCreditRating$risk_rating == \"3\"]  <-  \"tiga\"\n",
        "dataCreditRating$risk_rating[dataCreditRating$risk_rating == \"4\"]  <-  \"empat\"\n",
        "dataCreditRating$risk_rating[dataCreditRating$risk_rating == \"5\"]  <-  \"lima\"\n",
        "dataCreditRating$risk_rating <- as.factor(dataCreditRating$risk_rating) \n",
        "input_columns <- c(\"durasi_pinjaman_bulan\", \"jumlah_tanggungan\")\n",
        "datafeed <- dataCreditRating[ , input_columns ]\n",
        "\n",
        "#Mempersiapkan training dan testing set\n",
        "set.seed(100) #untuk menyeragamkan hasil random antar tiap komputer\n",
        "indeks_training_set <- sample(900, 800)\n",
        "\n",
        "#Membuat dan menampilkan training set dan testing set\n",
        "input_training_set <- datafeed[indeks_training_set,]\n",
        "class_training_set <- dataCreditRating[indeks_training_set,]$risk_rating\n",
        "input_testing_set <- datafeed[-indeks_training_set,]\n",
        "\n",
        "#menghasilkan model\n",
        "risk_rating_model <- C5.0(input_training_set, class_training_set, control = C5.0Control(label=\"Risk Rating\"))\n",
        "summary(risk_rating_model)"
      ],
      "metadata": {
        "colab": {
          "base_uri": "https://localhost:8080/",
          "height": 920
        },
        "id": "8LKJe2QmAPQb",
        "outputId": "eb4db4f3-727b-4d0b-b4b8-4c781ee5b09b"
      },
      "execution_count": 14,
      "outputs": [
        {
          "output_type": "display_data",
          "data": {
            "text/plain": [
              "\n",
              "Call:\n",
              "C5.0.default(x = input_training_set, y = class_training_set, control\n",
              " = C5.0Control(label = \"Risk Rating\"))\n",
              "\n",
              "\n",
              "C5.0 [Release 2.07 GPL Edition]  \tFri Aug  5 07:58:02 2022\n",
              "-------------------------------\n",
              "\n",
              "Class specified by attribute `Risk Rating'\n",
              "\n",
              "Read 800 cases (3 attributes) from undefined.data\n",
              "\n",
              "Decision tree:\n",
              "\n",
              "jumlah_tanggungan > 4:\n",
              ":...durasi_pinjaman_bulan <= 24: empat (105/30)\n",
              ":   durasi_pinjaman_bulan > 24: lima (120/51)\n",
              "jumlah_tanggungan <= 4:\n",
              ":...jumlah_tanggungan > 2: tiga (216/20)\n",
              "    jumlah_tanggungan <= 2:\n",
              "    :...durasi_pinjaman_bulan <= 36: satu (264/80)\n",
              "        durasi_pinjaman_bulan > 36:\n",
              "        :...jumlah_tanggungan <= 0: dua (37/7)\n",
              "            jumlah_tanggungan > 0: tiga (58/4)\n",
              "\n",
              "\n",
              "Evaluation on training data (800 cases):\n",
              "\n",
              "\t    Decision Tree   \n",
              "\t  ----------------  \n",
              "\t  Size      Errors  \n",
              "\n",
              "\t     6  192(24.0%)   <<\n",
              "\n",
              "\n",
              "\t   (a)   (b)   (c)   (d)   (e)    <-classified as\n",
              "\t  ----  ----  ----  ----  ----\n",
              "\t    30     6    11    80    19    (a): class dua\n",
              "\t     2    75    34                (b): class empat\n",
              "\t          18    69                (c): class lima\n",
              "\t     2     6     6   184     5    (d): class satu\n",
              "\t     3                     250    (e): class tiga\n",
              "\n",
              "\n",
              "\tAttribute usage:\n",
              "\n",
              "\t100.00%\tjumlah_tanggungan\n",
              "\t 73.00%\tdurasi_pinjaman_bulan\n",
              "\n",
              "\n",
              "Time: 0.0 secs\n"
            ]
          },
          "metadata": {}
        }
      ]
    },
    {
      "cell_type": "markdown",
      "source": [
        "## Evaluasi Model"
      ],
      "metadata": {
        "id": "WsP9-JvQ6Afb"
      }
    },
    {
      "cell_type": "markdown",
      "source": [
        "#### [Menggunakan Fungsi Predict](https://academy.dqlab.id/main/livecode/81/155/672?pr=0)"
      ],
      "metadata": {
        "id": "f9l-Md4EBYVJ"
      }
    },
    {
      "cell_type": "code",
      "source": [
        "library(\"openxlsx\")\n",
        "library(\"C50\")\n",
        "\n",
        "#Mempersiapkan data\n",
        "dataCreditRating <- read.xlsx(xlsxFile = \"https://storage.googleapis.com/dqlab-dataset/credit_scoring_dqlab.xlsx\")\n",
        "\n",
        "#Mempersiapkan class dan input variables \n",
        "dataCreditRating$risk_rating <- as.factor(dataCreditRating$risk_rating) \n",
        "input_columns <- c(\"durasi_pinjaman_bulan\", \"jumlah_tanggungan\")\n",
        "datafeed <- dataCreditRating[ , input_columns ]\n",
        "\n",
        "#Mempersiapkan training dan testing set\n",
        "set.seed(100) #untuk menyeragamkan hasil random antar tiap komputer\n",
        "indeks_training_set <- sample(900, 800)\n",
        "\n",
        "#Membuat dan menampilkan training set dan testing set\n",
        "input_training_set <- datafeed[indeks_training_set,]\n",
        "class_training_set <- dataCreditRating[indeks_training_set,]$risk_rating\n",
        "input_testing_set <- datafeed[-indeks_training_set,]\n",
        "\n",
        "#menghasilkan model\n",
        "risk_rating_model <- C5.0(input_training_set, class_training_set, control = C5.0Control(label=\"Risk Rating\"))\n",
        "\n",
        "#menggunakan model untuk prediksi testing set\n",
        "predict(risk_rating_model, input_testing_set)"
      ],
      "metadata": {
        "colab": {
          "base_uri": "https://localhost:8080/",
          "height": 104
        },
        "id": "r0AEPyDgBgdY",
        "outputId": "a6a0b3e9-a21b-42cb-f774-7379f448eb0c"
      },
      "execution_count": 15,
      "outputs": [
        {
          "output_type": "display_data",
          "data": {
            "text/html": [
              "<style>\n",
              ".list-inline {list-style: none; margin:0; padding: 0}\n",
              ".list-inline>li {display: inline-block}\n",
              ".list-inline>li:not(:last-child)::after {content: \"\\00b7\"; padding: 0 .5ex}\n",
              "</style>\n",
              "<ol class=list-inline><li>1</li><li>1</li><li>3</li><li>3</li><li>5</li><li>5</li><li>1</li><li>1</li><li>1</li><li>3</li><li>1</li><li>2</li><li>1</li><li>1</li><li>3</li><li>3</li><li>1</li><li>3</li><li>3</li><li>3</li><li>3</li><li>3</li><li>1</li><li>5</li><li>1</li><li>1</li><li>3</li><li>1</li><li>3</li><li>5</li><li>1</li><li>1</li><li>2</li><li>1</li><li>5</li><li>1</li><li>1</li><li>5</li><li>3</li><li>3</li><li>3</li><li>3</li><li>4</li><li>3</li><li>3</li><li>1</li><li>3</li><li>5</li><li>2</li><li>3</li><li>2</li><li>5</li><li>3</li><li>5</li><li>1</li><li>5</li><li>4</li><li>5</li><li>3</li><li>4</li><li>1</li><li>3</li><li>4</li><li>4</li><li>3</li><li>5</li><li>5</li><li>5</li><li>3</li><li>1</li><li>1</li><li>1</li><li>1</li><li>3</li><li>5</li><li>1</li><li>4</li><li>5</li><li>3</li><li>1</li><li>3</li><li>3</li><li>3</li><li>3</li><li>3</li><li>1</li><li>3</li><li>3</li><li>5</li><li>4</li><li>5</li><li>3</li><li>3</li><li>3</li><li>1</li><li>1</li><li>5</li><li>5</li><li>3</li><li>3</li></ol>\n",
              "\n",
              "<details>\n",
              "\t<summary style=display:list-item;cursor:pointer>\n",
              "\t\t<strong>Levels</strong>:\n",
              "\t</summary>\n",
              "\t<style>\n",
              "\t.list-inline {list-style: none; margin:0; padding: 0}\n",
              "\t.list-inline>li {display: inline-block}\n",
              "\t.list-inline>li:not(:last-child)::after {content: \"\\00b7\"; padding: 0 .5ex}\n",
              "\t</style>\n",
              "\t<ol class=list-inline><li>'1'</li><li>'2'</li><li>'3'</li><li>'4'</li><li>'5'</li></ol>\n",
              "</details>"
            ],
            "text/markdown": "1. 1\n2. 1\n3. 3\n4. 3\n5. 5\n6. 5\n7. 1\n8. 1\n9. 1\n10. 3\n11. 1\n12. 2\n13. 1\n14. 1\n15. 3\n16. 3\n17. 1\n18. 3\n19. 3\n20. 3\n21. 3\n22. 3\n23. 1\n24. 5\n25. 1\n26. 1\n27. 3\n28. 1\n29. 3\n30. 5\n31. 1\n32. 1\n33. 2\n34. 1\n35. 5\n36. 1\n37. 1\n38. 5\n39. 3\n40. 3\n41. 3\n42. 3\n43. 4\n44. 3\n45. 3\n46. 1\n47. 3\n48. 5\n49. 2\n50. 3\n51. 2\n52. 5\n53. 3\n54. 5\n55. 1\n56. 5\n57. 4\n58. 5\n59. 3\n60. 4\n61. 1\n62. 3\n63. 4\n64. 4\n65. 3\n66. 5\n67. 5\n68. 5\n69. 3\n70. 1\n71. 1\n72. 1\n73. 1\n74. 3\n75. 5\n76. 1\n77. 4\n78. 5\n79. 3\n80. 1\n81. 3\n82. 3\n83. 3\n84. 3\n85. 3\n86. 1\n87. 3\n88. 3\n89. 5\n90. 4\n91. 5\n92. 3\n93. 3\n94. 3\n95. 1\n96. 1\n97. 5\n98. 5\n99. 3\n100. 3\n\n\n\n**Levels**: 1. '1'\n2. '2'\n3. '3'\n4. '4'\n5. '5'\n\n\n",
            "text/latex": "\\begin{enumerate*}\n\\item 1\n\\item 1\n\\item 3\n\\item 3\n\\item 5\n\\item 5\n\\item 1\n\\item 1\n\\item 1\n\\item 3\n\\item 1\n\\item 2\n\\item 1\n\\item 1\n\\item 3\n\\item 3\n\\item 1\n\\item 3\n\\item 3\n\\item 3\n\\item 3\n\\item 3\n\\item 1\n\\item 5\n\\item 1\n\\item 1\n\\item 3\n\\item 1\n\\item 3\n\\item 5\n\\item 1\n\\item 1\n\\item 2\n\\item 1\n\\item 5\n\\item 1\n\\item 1\n\\item 5\n\\item 3\n\\item 3\n\\item 3\n\\item 3\n\\item 4\n\\item 3\n\\item 3\n\\item 1\n\\item 3\n\\item 5\n\\item 2\n\\item 3\n\\item 2\n\\item 5\n\\item 3\n\\item 5\n\\item 1\n\\item 5\n\\item 4\n\\item 5\n\\item 3\n\\item 4\n\\item 1\n\\item 3\n\\item 4\n\\item 4\n\\item 3\n\\item 5\n\\item 5\n\\item 5\n\\item 3\n\\item 1\n\\item 1\n\\item 1\n\\item 1\n\\item 3\n\\item 5\n\\item 1\n\\item 4\n\\item 5\n\\item 3\n\\item 1\n\\item 3\n\\item 3\n\\item 3\n\\item 3\n\\item 3\n\\item 1\n\\item 3\n\\item 3\n\\item 5\n\\item 4\n\\item 5\n\\item 3\n\\item 3\n\\item 3\n\\item 1\n\\item 1\n\\item 5\n\\item 5\n\\item 3\n\\item 3\n\\end{enumerate*}\n\n\\emph{Levels}: \\begin{enumerate*}\n\\item '1'\n\\item '2'\n\\item '3'\n\\item '4'\n\\item '5'\n\\end{enumerate*}\n",
            "text/plain": [
              "  [1] 1 1 3 3 5 5 1 1 1 3 1 2 1 1 3 3 1 3 3 3 3 3 1 5 1 1 3 1 3 5 1 1 2 1 5 1 1\n",
              " [38] 5 3 3 3 3 4 3 3 1 3 5 2 3 2 5 3 5 1 5 4 5 3 4 1 3 4 4 3 5 5 5 3 1 1 1 1 3\n",
              " [75] 5 1 4 5 3 1 3 3 3 3 3 1 3 3 5 4 5 3 3 3 1 1 5 5 3 3\n",
              "Levels: 1 2 3 4 5"
            ]
          },
          "metadata": {}
        }
      ]
    },
    {
      "cell_type": "markdown",
      "source": [
        "#### [Menggabungkan Hasil Prediksi](https://academy.dqlab.id/main/livecode/81/155/693?pr=0)"
      ],
      "metadata": {
        "id": "ZYCPjcgNBynl"
      }
    },
    {
      "cell_type": "code",
      "source": [
        "#menyimpan hasil prediksi testing set ke dalam kolom hasil_prediksi\n",
        "input_testing_set$risk_rating <- dataCreditRating[-indeks_training_set,]$risk_rating\n",
        "input_testing_set$hasil_prediksi <- predict(risk_rating_model, input_testing_set)\n",
        "print(input_testing_set)"
      ],
      "metadata": {
        "colab": {
          "base_uri": "https://localhost:8080/"
        },
        "id": "rU5yy0oNB1yP",
        "outputId": "f7b89ae6-8a00-489e-e5e2-fe76a10327a6"
      },
      "execution_count": 16,
      "outputs": [
        {
          "output_type": "stream",
          "name": "stdout",
          "text": [
            "    durasi_pinjaman_bulan jumlah_tanggungan risk_rating hasil_prediksi\n",
            "3                      12                 0           1              1\n",
            "5                      36                 0           2              1\n",
            "8                      48                 3           2              3\n",
            "40                     36                 3           2              3\n",
            "41                     48                 6           2              5\n",
            "44                     48                 5           2              5\n",
            "58                     12                 0           1              1\n",
            "70                     12                 0           1              1\n",
            "109                    12                 0           1              1\n",
            "110                    12                 4           3              3\n",
            "122                    12                 0           1              1\n",
            "151                    48                 0           2              2\n",
            "179                    36                 1           1              1\n",
            "180                    36                 1           2              1\n",
            "182                    24                 4           3              3\n",
            "195                    48                 3           3              3\n",
            "200                    24                 0           1              1\n",
            "217                    12                 4           3              3\n",
            "230                    48                 2           3              3\n",
            "231                    12                 3           3              3\n",
            "234                    24                 3           3              3\n",
            "236                    24                 4           3              3\n",
            "238                    24                 0           1              1\n",
            "245                    36                 5           4              5\n",
            "252                    24                 0           1              1\n",
            "253                    24                 0           1              1\n",
            "260                    48                 1           3              3\n",
            "265                    36                 0           2              1\n",
            "275                    12                 3           3              3\n",
            "279                    36                 6           5              5\n",
            "285                    36                 1           1              1\n",
            "295                    24                 0           1              1\n",
            "317                    48                 0           2              2\n",
            "343                    24                 0           1              1\n",
            "350                    48                 6           5              5\n",
            "352                    12                 1           1              1\n",
            "356                    36                 2           2              1\n",
            "369                    48                 6           5              5\n",
            "373                    48                 3           3              3\n",
            "375                    48                 2           3              3\n",
            "384                    24                 3           3              3\n",
            "388                    36                 3           3              3\n",
            "399                    24                 6           4              4\n",
            "419                    48                 3           3              3\n",
            "433                    24                 4           3              3\n",
            "437                    36                 1           1              1\n",
            "446                    24                 3           3              3\n",
            "455                    48                 5           5              5\n",
            "493                    48                 0           2              2\n",
            "496                    12                 3           3              3\n",
            "501                    48                 0           3              2\n",
            "521                    48                 5           4              5\n",
            "524                    48                 2           3              3\n",
            "527                    36                 5           5              5\n",
            "534                    36                 1           1              1\n",
            "536                    48                 6           5              5\n",
            "544                    12                 5           4              4\n",
            "548                    48                 6           5              5\n",
            "561                    12                 3           3              3\n",
            "565                    12                 6           4              4\n",
            "574                    24                 1           1              1\n",
            "577                    48                 2           3              3\n",
            "587                    12                 6           4              4\n",
            "594                    12                 6           4              4\n",
            "612                    24                 4           3              3\n",
            "616                    48                 6           5              5\n",
            "621                    36                 5           5              5\n",
            "632                    48                 6           5              5\n",
            "641                    36                 4           3              3\n",
            "645                    12                 2           2              1\n",
            "657                    12                 2           1              1\n",
            "675                    12                 2           1              1\n",
            "687                    12                 2           1              1\n",
            "697                    36                 4           3              3\n",
            "704                    48                 6           5              5\n",
            "707                    12                 2           1              1\n",
            "716                    12                 5           4              4\n",
            "721                    36                 5           5              5\n",
            "729                    48                 1           3              3\n",
            "737                    12                 2           1              1\n",
            "743                    36                 3           3              3\n",
            "748                    48                 1           3              3\n",
            "749                    36                 4           3              3\n",
            "786                    48                 1           3              3\n",
            "799                    12                 3           3              3\n",
            "801                    24                 2           1              1\n",
            "806                    24                 4           3              3\n",
            "814                    36                 3           3              3\n",
            "825                    36                 6           5              5\n",
            "831                    24                 6           4              4\n",
            "861                    48                 5           5              5\n",
            "863                    12                 3           3              3\n",
            "869                    48                 3           3              3\n",
            "870                    48                 3           3              3\n",
            "872                    24                 2           1              1\n",
            "880                    36                 1           2              1\n",
            "888                    48                 5           5              5\n",
            "890                    48                 5           5              5\n",
            "893                    48                 3           3              3\n",
            "897                    48                 2           3              3\n"
          ]
        }
      ]
    },
    {
      "cell_type": "markdown",
      "source": [
        "#### [Membuat Table Confusion Matrix](https://academy.dqlab.id/main/livecode/81/155/686?pr=0)"
      ],
      "metadata": {
        "id": "tej6W_5xCBGh"
      }
    },
    {
      "cell_type": "code",
      "source": [
        "library(\"reshape2\")"
      ],
      "metadata": {
        "id": "QZW3kBNTCE3-"
      },
      "execution_count": 18,
      "outputs": []
    },
    {
      "cell_type": "code",
      "source": [
        "#membuat confusion matrix\n",
        "dcast(hasil_prediksi ~ risk_rating, data=input_testing_set)"
      ],
      "metadata": {
        "colab": {
          "base_uri": "https://localhost:8080/",
          "height": 324
        },
        "id": "SuavG0BVCKnK",
        "outputId": "d449445c-dcad-4c6c-8bee-7cb885166584"
      },
      "execution_count": 19,
      "outputs": [
        {
          "output_type": "stream",
          "name": "stderr",
          "text": [
            "Using hasil_prediksi as value column: use value.var to override.\n",
            "\n",
            "Aggregation function missing: defaulting to length\n",
            "\n"
          ]
        },
        {
          "output_type": "display_data",
          "data": {
            "text/html": [
              "<table class=\"dataframe\">\n",
              "<caption>A data.frame: 5 × 6</caption>\n",
              "<thead>\n",
              "\t<tr><th scope=col>hasil_prediksi</th><th scope=col>1</th><th scope=col>2</th><th scope=col>3</th><th scope=col>4</th><th scope=col>5</th></tr>\n",
              "\t<tr><th scope=col>&lt;fct&gt;</th><th scope=col>&lt;int&gt;</th><th scope=col>&lt;int&gt;</th><th scope=col>&lt;int&gt;</th><th scope=col>&lt;int&gt;</th><th scope=col>&lt;int&gt;</th></tr>\n",
              "</thead>\n",
              "<tbody>\n",
              "\t<tr><td>1</td><td>24</td><td>6</td><td> 0</td><td>0</td><td> 0</td></tr>\n",
              "\t<tr><td>2</td><td> 0</td><td>3</td><td> 1</td><td>0</td><td> 0</td></tr>\n",
              "\t<tr><td>3</td><td> 0</td><td>2</td><td>37</td><td>0</td><td> 0</td></tr>\n",
              "\t<tr><td>4</td><td> 0</td><td>0</td><td> 0</td><td>7</td><td> 0</td></tr>\n",
              "\t<tr><td>5</td><td> 0</td><td>2</td><td> 0</td><td>2</td><td>16</td></tr>\n",
              "</tbody>\n",
              "</table>\n"
            ],
            "text/markdown": "\nA data.frame: 5 × 6\n\n| hasil_prediksi &lt;fct&gt; | 1 &lt;int&gt; | 2 &lt;int&gt; | 3 &lt;int&gt; | 4 &lt;int&gt; | 5 &lt;int&gt; |\n|---|---|---|---|---|---|\n| 1 | 24 | 6 |  0 | 0 |  0 |\n| 2 |  0 | 3 |  1 | 0 |  0 |\n| 3 |  0 | 2 | 37 | 0 |  0 |\n| 4 |  0 | 0 |  0 | 7 |  0 |\n| 5 |  0 | 2 |  0 | 2 | 16 |\n\n",
            "text/latex": "A data.frame: 5 × 6\n\\begin{tabular}{llllll}\n hasil\\_prediksi & 1 & 2 & 3 & 4 & 5\\\\\n <fct> & <int> & <int> & <int> & <int> & <int>\\\\\n\\hline\n\t 1 & 24 & 6 &  0 & 0 &  0\\\\\n\t 2 &  0 & 3 &  1 & 0 &  0\\\\\n\t 3 &  0 & 2 & 37 & 0 &  0\\\\\n\t 4 &  0 & 0 &  0 & 7 &  0\\\\\n\t 5 &  0 & 2 &  0 & 2 & 16\\\\\n\\end{tabular}\n",
            "text/plain": [
              "  hasil_prediksi 1  2 3  4 5 \n",
              "1 1              24 6  0 0  0\n",
              "2 2               0 3  1 0  0\n",
              "3 3               0 2 37 0  0\n",
              "4 4               0 0  0 7  0\n",
              "5 5               0 2  0 2 16"
            ]
          },
          "metadata": {}
        }
      ]
    },
    {
      "cell_type": "markdown",
      "source": [
        "#### [Jumlah Data dengan Prediksi Benar](https://academy.dqlab.id/main/livecode/81/155/701?pr=0)"
      ],
      "metadata": {
        "id": "DDmj0LEZCbbS"
      }
    },
    {
      "cell_type": "code",
      "source": [
        "#Menghitung jumlah prediksi yang benar\n",
        "nrow(input_testing_set[input_testing_set$risk_rating==input_testing_set$hasil_prediksi,])"
      ],
      "metadata": {
        "colab": {
          "base_uri": "https://localhost:8080/",
          "height": 34
        },
        "id": "Td1QrOVCCfMl",
        "outputId": "f2e25c5e-e9ad-4aa4-a4f6-c955f015c421"
      },
      "execution_count": 20,
      "outputs": [
        {
          "output_type": "display_data",
          "data": {
            "text/html": [
              "87"
            ],
            "text/markdown": "87",
            "text/latex": "87",
            "text/plain": [
              "[1] 87"
            ]
          },
          "metadata": {}
        }
      ]
    },
    {
      "cell_type": "markdown",
      "source": [
        "#### [Jumlah Data dengan Prediksi Salah](https://academy.dqlab.id/main/livecode/81/155/702?pr=0)"
      ],
      "metadata": {
        "id": "rSqtZu3PCork"
      }
    },
    {
      "cell_type": "code",
      "source": [
        "#Menghitung jumlah prediksi yang salah\n",
        "nrow(input_testing_set[input_testing_set$risk_rating!=input_testing_set$hasil_prediksi,])"
      ],
      "metadata": {
        "colab": {
          "base_uri": "https://localhost:8080/",
          "height": 34
        },
        "id": "MU5_2o1JCsCs",
        "outputId": "47bf530a-c8f3-43f6-f9c0-ec27564cb8bd"
      },
      "execution_count": 21,
      "outputs": [
        {
          "output_type": "display_data",
          "data": {
            "text/html": [
              "13"
            ],
            "text/markdown": "13",
            "text/latex": "13",
            "text/plain": [
              "[1] 13"
            ]
          },
          "metadata": {}
        }
      ]
    },
    {
      "cell_type": "markdown",
      "source": [
        "## Menggunakan Model untuk Prediksi"
      ],
      "metadata": {
        "id": "pI-gNFPe6C6z"
      }
    },
    {
      "cell_type": "markdown",
      "source": [
        "#### [Mempersiapkan Data Pengajuan Baru](https://academy.dqlab.id/main/livecode/81/156/682?pr=0)"
      ],
      "metadata": {
        "id": "eOp3_irn6FD_"
      }
    },
    {
      "cell_type": "code",
      "source": [
        "#Membuat data frame aplikasi baru\n",
        "aplikasi_baru <- data.frame(jumlah_tanggungan = 6, durasi_pinjaman_bulan = 12)\n",
        "print(aplikasi_baru)"
      ],
      "metadata": {
        "colab": {
          "base_uri": "https://localhost:8080/"
        },
        "id": "FV7AyhInDJw1",
        "outputId": "1177e572-551f-4581-9817-e8c7749521e9"
      },
      "execution_count": 22,
      "outputs": [
        {
          "output_type": "stream",
          "name": "stdout",
          "text": [
            "  jumlah_tanggungan durasi_pinjaman_bulan\n",
            "1                 6                    12\n"
          ]
        }
      ]
    },
    {
      "cell_type": "markdown",
      "source": [
        "#### [Melakukan Prediksi terhadap Data Pengajuan Baru](https://academy.dqlab.id/main/livecode/81/156/681?pr=0)"
      ],
      "metadata": {
        "id": "zZZCAvN4DeNv"
      }
    },
    {
      "cell_type": "code",
      "source": [
        "library(\"openxlsx\")\n",
        "library(\"C50\")\n",
        "\n",
        "#Mempersiapkan data\n",
        "dataCreditRating <- read.xlsx(xlsxFile = \"https://storage.googleapis.com/dqlab-dataset/credit_scoring_dqlab.xlsx\")\n",
        "\n",
        "#Mempersiapkan class dan input variables \n",
        "dataCreditRating$risk_rating <- as.factor(dataCreditRating$risk_rating) \n",
        "input_columns <- c(\"durasi_pinjaman_bulan\", \"jumlah_tanggungan\")\n",
        "datafeed <- dataCreditRating[ , input_columns ]\n",
        "\n",
        "#Mempersiapkan training dan testing set\n",
        "set.seed(100) #untuk menyeragamkan hasil random antar tiap komputer\n",
        "indeks_training_set <- sample(900, 800)\n",
        "\n",
        "#Membuat dan menampilkan training set dan testing set\n",
        "input_training_set <- datafeed[indeks_training_set,]\n",
        "class_training_set <- dataCreditRating[indeks_training_set,]$risk_rating\n",
        "input_testing_set <- datafeed[-indeks_training_set,]\n",
        "\n",
        "#menghasilkan dan menampilkan summary model\n",
        "risk_rating_model <- C5.0(input_training_set, class_training_set)\n",
        "\n",
        "#Membuat data frame aplikasi baru\n",
        "aplikasi_baru <- data.frame(jumlah_tanggungan = 6, durasi_pinjaman_bulan = 12)\n",
        "\n",
        "#melakukan prediksi\n",
        "predict(risk_rating_model, aplikasi_baru)"
      ],
      "metadata": {
        "colab": {
          "base_uri": "https://localhost:8080/",
          "height": 69
        },
        "id": "gmNPKEG0DiU-",
        "outputId": "2b0b46fc-8c66-4862-cb18-2de84bff6d20"
      },
      "execution_count": 23,
      "outputs": [
        {
          "output_type": "display_data",
          "data": {
            "text/html": [
              "4\n",
              "<details>\n",
              "\t<summary style=display:list-item;cursor:pointer>\n",
              "\t\t<strong>Levels</strong>:\n",
              "\t</summary>\n",
              "\t<style>\n",
              "\t.list-inline {list-style: none; margin:0; padding: 0}\n",
              "\t.list-inline>li {display: inline-block}\n",
              "\t.list-inline>li:not(:last-child)::after {content: \"\\00b7\"; padding: 0 .5ex}\n",
              "\t</style>\n",
              "\t<ol class=list-inline><li>'1'</li><li>'2'</li><li>'3'</li><li>'4'</li><li>'5'</li></ol>\n",
              "</details>"
            ],
            "text/markdown": "4\n**Levels**: 1. '1'\n2. '2'\n3. '3'\n4. '4'\n5. '5'\n\n\n",
            "text/latex": "4\n\\emph{Levels}: \\begin{enumerate*}\n\\item '1'\n\\item '2'\n\\item '3'\n\\item '4'\n\\item '5'\n\\end{enumerate*}\n",
            "text/plain": [
              "[1] 4\n",
              "Levels: 1 2 3 4 5"
            ]
          },
          "metadata": {}
        }
      ]
    },
    {
      "cell_type": "markdown",
      "source": [
        "#### [Merubah Durasi Pinjaman](https://academy.dqlab.id/main/livecode/81/156/692?pr=0)"
      ],
      "metadata": {
        "id": "_DlqN5YaDyME"
      }
    },
    {
      "cell_type": "code",
      "source": [
        "#Membuat data frame aplikasi baru\n",
        "aplikasi_baru <- data.frame(jumlah_tanggungan = 6, durasi_pinjaman_bulan = 64)\n",
        "\n",
        "#melakukan prediksi\n",
        "predict(risk_rating_model, aplikasi_baru)"
      ],
      "metadata": {
        "colab": {
          "base_uri": "https://localhost:8080/",
          "height": 69
        },
        "id": "mEDGUKFfD07n",
        "outputId": "4f2f003e-2e34-4b0d-a1a5-2e268e4551fb"
      },
      "execution_count": 24,
      "outputs": [
        {
          "output_type": "display_data",
          "data": {
            "text/html": [
              "5\n",
              "<details>\n",
              "\t<summary style=display:list-item;cursor:pointer>\n",
              "\t\t<strong>Levels</strong>:\n",
              "\t</summary>\n",
              "\t<style>\n",
              "\t.list-inline {list-style: none; margin:0; padding: 0}\n",
              "\t.list-inline>li {display: inline-block}\n",
              "\t.list-inline>li:not(:last-child)::after {content: \"\\00b7\"; padding: 0 .5ex}\n",
              "\t</style>\n",
              "\t<ol class=list-inline><li>'1'</li><li>'2'</li><li>'3'</li><li>'4'</li><li>'5'</li></ol>\n",
              "</details>"
            ],
            "text/markdown": "5\n**Levels**: 1. '1'\n2. '2'\n3. '3'\n4. '4'\n5. '5'\n\n\n",
            "text/latex": "5\n\\emph{Levels}: \\begin{enumerate*}\n\\item '1'\n\\item '2'\n\\item '3'\n\\item '4'\n\\item '5'\n\\end{enumerate*}\n",
            "text/plain": [
              "[1] 5\n",
              "Levels: 1 2 3 4 5"
            ]
          },
          "metadata": {}
        }
      ]
    }
  ]
}