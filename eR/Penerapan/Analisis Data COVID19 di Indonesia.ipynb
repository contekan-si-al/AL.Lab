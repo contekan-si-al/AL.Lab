{
  "nbformat": 4,
  "nbformat_minor": 0,
  "metadata": {
    "colab": {
      "name": "Analisis Data COVID19 di Indonesia.ipynb",
      "provenance": []
    },
    "kernelspec": {
      "name": "ir",
      "display_name": "R"
    },
    "language_info": {
      "name": "R"
    },
    "accelerator": "GPU",
    "gpuClass": "standard"
  },
  "cells": [
    {
      "cell_type": "markdown",
      "source": [
        "## Pengantar"
      ],
      "metadata": {
        "id": "lPxkn9IgyuCM"
      }
    },
    {
      "cell_type": "markdown",
      "source": [
        "#### [Warming Up!](https://academy.dqlab.id/main/livecode/253/448/2254?pr=0)"
      ],
      "metadata": {
        "id": "2-XniqE2y4LA"
      }
    },
    {
      "cell_type": "code",
      "source": [
        "bersatulawancovid <- c(\"cuci tangan\", \"pakai masker\", \"jaga jarak\")\n",
        "\n",
        "bersatulawancovid"
      ],
      "metadata": {
        "colab": {
          "base_uri": "https://localhost:8080/",
          "height": 34
        },
        "id": "JCZy8H03y8K3",
        "outputId": "8a4f046f-af53-43b3-b5e7-909a67e80cdd"
      },
      "execution_count": 1,
      "outputs": [
        {
          "output_type": "display_data",
          "data": {
            "text/html": [
              "<style>\n",
              ".list-inline {list-style: none; margin:0; padding: 0}\n",
              ".list-inline>li {display: inline-block}\n",
              ".list-inline>li:not(:last-child)::after {content: \"\\00b7\"; padding: 0 .5ex}\n",
              "</style>\n",
              "<ol class=list-inline><li>'cuci tangan'</li><li>'pakai masker'</li><li>'jaga jarak'</li></ol>\n"
            ],
            "text/markdown": "1. 'cuci tangan'\n2. 'pakai masker'\n3. 'jaga jarak'\n\n\n",
            "text/latex": "\\begin{enumerate*}\n\\item 'cuci tangan'\n\\item 'pakai masker'\n\\item 'jaga jarak'\n\\end{enumerate*}\n",
            "text/plain": [
              "[1] \"cuci tangan\"  \"pakai masker\" \"jaga jarak\"  "
            ]
          },
          "metadata": {}
        }
      ]
    },
    {
      "cell_type": "markdown",
      "source": [
        "#### [Are You Ready?](https://academy.dqlab.id/main/livecode/253/448/2255?pr=0)"
      ],
      "metadata": {
        "id": "behnMUMHzCyq"
      }
    },
    {
      "cell_type": "code",
      "source": [
        "TRUE"
      ],
      "metadata": {
        "colab": {
          "base_uri": "https://localhost:8080/",
          "height": 34
        },
        "id": "3-LBYm8mzHBR",
        "outputId": "02bbf19c-51fc-4d0a-8671-65ad19e4a14e"
      },
      "execution_count": 2,
      "outputs": [
        {
          "output_type": "display_data",
          "data": {
            "text/html": [
              "TRUE"
            ],
            "text/markdown": "TRUE",
            "text/latex": "TRUE",
            "text/plain": [
              "[1] TRUE"
            ]
          },
          "metadata": {}
        }
      ]
    },
    {
      "cell_type": "markdown",
      "source": [
        "## Bermain API"
      ],
      "metadata": {
        "id": "4rmDhGlXyv4p"
      }
    },
    {
      "cell_type": "markdown",
      "source": [
        "#### [Mengakses API covid.go.id](https://academy.dqlab.id/main/livecode/253/449/2256?pr=0)"
      ],
      "metadata": {
        "id": "ttTeTVU_zJZd"
      }
    },
    {
      "cell_type": "code",
      "source": [
        "library(httr)\n",
        "\n",
        "set_config(config(ssl_verifypeer = 0L))\n",
        "\n",
        "resp <- GET (\"https://storage.googleapis.com/dqlab-dataset/update.json\")"
      ],
      "metadata": {
        "id": "2bhMq3omzRSt"
      },
      "execution_count": 4,
      "outputs": []
    },
    {
      "cell_type": "markdown",
      "source": [
        "#### [Status Code](https://academy.dqlab.id/main/livecode/253/449/2259?pr=0)"
      ],
      "metadata": {
        "id": "5on5o38IzdSY"
      }
    },
    {
      "cell_type": "code",
      "source": [
        "status_code (resp)"
      ],
      "metadata": {
        "colab": {
          "base_uri": "https://localhost:8080/",
          "height": 34
        },
        "id": "bL_sirmLzhGg",
        "outputId": "bb9fb9a6-5669-4aac-ce07-3230efa8a1e1"
      },
      "execution_count": 5,
      "outputs": [
        {
          "output_type": "display_data",
          "data": {
            "text/html": [
              "200"
            ],
            "text/markdown": "200",
            "text/latex": "200",
            "text/plain": [
              "[1] 200"
            ]
          },
          "metadata": {}
        }
      ]
    },
    {
      "cell_type": "markdown",
      "source": [
        "#### [Status Code - 2](https://academy.dqlab.id/main/livecode/253/449/2260?pr=0)"
      ],
      "metadata": {
        "id": "7cnk5Tzgzl-V"
      }
    },
    {
      "cell_type": "code",
      "source": [
        "resp$status_code\n",
        "\n",
        "identical(resp$status_code, status_code(resp))"
      ],
      "metadata": {
        "colab": {
          "base_uri": "https://localhost:8080/",
          "height": 52
        },
        "id": "DUSpOeB7zrEo",
        "outputId": "aee96395-1e38-46c3-d73d-9967bd1ba01b"
      },
      "execution_count": 6,
      "outputs": [
        {
          "output_type": "display_data",
          "data": {
            "text/html": [
              "200"
            ],
            "text/markdown": "200",
            "text/latex": "200",
            "text/plain": [
              "[1] 200"
            ]
          },
          "metadata": {}
        },
        {
          "output_type": "display_data",
          "data": {
            "text/html": [
              "TRUE"
            ],
            "text/markdown": "TRUE",
            "text/latex": "TRUE",
            "text/plain": [
              "[1] TRUE"
            ]
          },
          "metadata": {}
        }
      ]
    },
    {
      "cell_type": "markdown",
      "source": [
        "#### [Headers API](https://https://academy.dqlab.id/main/livecode/253/449/2261?pr=0)"
      ],
      "metadata": {
        "id": "P6v8jTaCzzQh"
      }
    },
    {
      "cell_type": "code",
      "source": [
        "headers(resp)"
      ],
      "metadata": {
        "colab": {
          "base_uri": "https://localhost:8080/",
          "height": 670
        },
        "id": "3ytcxdnkz4Nt",
        "outputId": "1a1b085b-bba3-47b4-e8ba-3f15aec4df9c"
      },
      "execution_count": 7,
      "outputs": [
        {
          "output_type": "display_data",
          "data": {
            "text/html": [
              "<dl>\n",
              "\t<dt>$`x-guploader-uploadid`</dt>\n",
              "\t\t<dd>'ADPycdsGgPE-JI-cpTp9lii0kZpT785NOnXtxClqRl5acljq6w4n4lVjaOWysrjelo2Dxajap7peRYHrSR-Lo-VHmtfUEcZdqNJH'</dd>\n",
              "\t<dt>$`x-goog-generation`</dt>\n",
              "\t\t<dd>'1654513959565478'</dd>\n",
              "\t<dt>$`x-goog-metageneration`</dt>\n",
              "\t\t<dd>'1'</dd>\n",
              "\t<dt>$`x-goog-stored-content-encoding`</dt>\n",
              "\t\t<dd>'identity'</dd>\n",
              "\t<dt>$`x-goog-stored-content-length`</dt>\n",
              "\t\t<dd>'311897'</dd>\n",
              "\t<dt>$`x-goog-hash`</dt>\n",
              "\t\t<dd>'crc32c=GMMqEA=='</dd>\n",
              "\t<dt>$`x-goog-hash`</dt>\n",
              "\t\t<dd>'md5=8aR/820+lfYyWNlv5bLUOQ=='</dd>\n",
              "\t<dt>$`x-goog-storage-class`</dt>\n",
              "\t\t<dd>'STANDARD'</dd>\n",
              "\t<dt>$`accept-ranges`</dt>\n",
              "\t\t<dd>'bytes'</dd>\n",
              "\t<dt>$`content-length`</dt>\n",
              "\t\t<dd>'311897'</dd>\n",
              "\t<dt>$server</dt>\n",
              "\t\t<dd>'UploadServer'</dd>\n",
              "\t<dt>$date</dt>\n",
              "\t\t<dd>'Fri, 05 Aug 2022 11:39:15 GMT'</dd>\n",
              "\t<dt>$expires</dt>\n",
              "\t\t<dd>'Fri, 05 Aug 2022 12:39:15 GMT'</dd>\n",
              "\t<dt>$`cache-control`</dt>\n",
              "\t\t<dd>'public, max-age=3600'</dd>\n",
              "\t<dt>$`last-modified`</dt>\n",
              "\t\t<dd>'Mon, 06 Jun 2022 11:12:39 GMT'</dd>\n",
              "\t<dt>$etag</dt>\n",
              "\t\t<dd>'\"f1a47ff36d3e95f63258d96fe5b2d439\"'</dd>\n",
              "\t<dt>$`content-type`</dt>\n",
              "\t\t<dd>'application/json'</dd>\n",
              "\t<dt>$age</dt>\n",
              "\t\t<dd>'0'</dd>\n",
              "</dl>\n"
            ],
            "text/markdown": "$`x-guploader-uploadid`\n:   'ADPycdsGgPE-JI-cpTp9lii0kZpT785NOnXtxClqRl5acljq6w4n4lVjaOWysrjelo2Dxajap7peRYHrSR-Lo-VHmtfUEcZdqNJH'\n$`x-goog-generation`\n:   '1654513959565478'\n$`x-goog-metageneration`\n:   '1'\n$`x-goog-stored-content-encoding`\n:   'identity'\n$`x-goog-stored-content-length`\n:   '311897'\n$`x-goog-hash`\n:   'crc32c=GMMqEA=='\n$`x-goog-hash`\n:   'md5=8aR/820+lfYyWNlv5bLUOQ=='\n$`x-goog-storage-class`\n:   'STANDARD'\n$`accept-ranges`\n:   'bytes'\n$`content-length`\n:   '311897'\n$server\n:   'UploadServer'\n$date\n:   'Fri, 05 Aug 2022 11:39:15 GMT'\n$expires\n:   'Fri, 05 Aug 2022 12:39:15 GMT'\n$`cache-control`\n:   'public, max-age=3600'\n$`last-modified`\n:   'Mon, 06 Jun 2022 11:12:39 GMT'\n$etag\n:   '\"f1a47ff36d3e95f63258d96fe5b2d439\"'\n$`content-type`\n:   'application/json'\n$age\n:   '0'\n\n\n",
            "text/latex": "\\begin{description}\n\\item[\\$`x-guploader-uploadid`] 'ADPycdsGgPE-JI-cpTp9lii0kZpT785NOnXtxClqRl5acljq6w4n4lVjaOWysrjelo2Dxajap7peRYHrSR-Lo-VHmtfUEcZdqNJH'\n\\item[\\$`x-goog-generation`] '1654513959565478'\n\\item[\\$`x-goog-metageneration`] '1'\n\\item[\\$`x-goog-stored-content-encoding`] 'identity'\n\\item[\\$`x-goog-stored-content-length`] '311897'\n\\item[\\$`x-goog-hash`] 'crc32c=GMMqEA=='\n\\item[\\$`x-goog-hash`] 'md5=8aR/820+lfYyWNlv5bLUOQ=='\n\\item[\\$`x-goog-storage-class`] 'STANDARD'\n\\item[\\$`accept-ranges`] 'bytes'\n\\item[\\$`content-length`] '311897'\n\\item[\\$server] 'UploadServer'\n\\item[\\$date] 'Fri, 05 Aug 2022 11:39:15 GMT'\n\\item[\\$expires] 'Fri, 05 Aug 2022 12:39:15 GMT'\n\\item[\\$`cache-control`] 'public, max-age=3600'\n\\item[\\$`last-modified`] 'Mon, 06 Jun 2022 11:12:39 GMT'\n\\item[\\$etag] '\"f1a47ff36d3e95f63258d96fe5b2d439\"'\n\\item[\\$`content-type`] 'application/json'\n\\item[\\$age] '0'\n\\end{description}\n",
            "text/plain": [
              "$`x-guploader-uploadid`\n",
              "[1] \"ADPycdsGgPE-JI-cpTp9lii0kZpT785NOnXtxClqRl5acljq6w4n4lVjaOWysrjelo2Dxajap7peRYHrSR-Lo-VHmtfUEcZdqNJH\"\n",
              "\n",
              "$`x-goog-generation`\n",
              "[1] \"1654513959565478\"\n",
              "\n",
              "$`x-goog-metageneration`\n",
              "[1] \"1\"\n",
              "\n",
              "$`x-goog-stored-content-encoding`\n",
              "[1] \"identity\"\n",
              "\n",
              "$`x-goog-stored-content-length`\n",
              "[1] \"311897\"\n",
              "\n",
              "$`x-goog-hash`\n",
              "[1] \"crc32c=GMMqEA==\"\n",
              "\n",
              "$`x-goog-hash`\n",
              "[1] \"md5=8aR/820+lfYyWNlv5bLUOQ==\"\n",
              "\n",
              "$`x-goog-storage-class`\n",
              "[1] \"STANDARD\"\n",
              "\n",
              "$`accept-ranges`\n",
              "[1] \"bytes\"\n",
              "\n",
              "$`content-length`\n",
              "[1] \"311897\"\n",
              "\n",
              "$server\n",
              "[1] \"UploadServer\"\n",
              "\n",
              "$date\n",
              "[1] \"Fri, 05 Aug 2022 11:39:15 GMT\"\n",
              "\n",
              "$expires\n",
              "[1] \"Fri, 05 Aug 2022 12:39:15 GMT\"\n",
              "\n",
              "$`cache-control`\n",
              "[1] \"public, max-age=3600\"\n",
              "\n",
              "$`last-modified`\n",
              "[1] \"Mon, 06 Jun 2022 11:12:39 GMT\"\n",
              "\n",
              "$etag\n",
              "[1] \"\\\"f1a47ff36d3e95f63258d96fe5b2d439\\\"\"\n",
              "\n",
              "$`content-type`\n",
              "[1] \"application/json\"\n",
              "\n",
              "$age\n",
              "[1] \"0\"\n",
              "\n",
              "attr(,\"class\")\n",
              "[1] \"insensitive\" \"list\"       "
            ]
          },
          "metadata": {}
        }
      ]
    },
    {
      "cell_type": "markdown",
      "source": [
        "#### [Mengekstrak isi Respon](https://academy.dqlab.id/main/livecode/253/449/2262?pr=0)"
      ],
      "metadata": {
        "id": "VJKPTlnhz7m1"
      }
    },
    {
      "cell_type": "code",
      "source": [
        "cov_id_raw <- content(resp, as = \"parsed\", simplifyVector = TRUE)"
      ],
      "metadata": {
        "id": "R428ba980QmM"
      },
      "execution_count": 8,
      "outputs": []
    },
    {
      "cell_type": "markdown",
      "source": [
        "#### [Mengekstrak isi Respon - Pt 2](https://academy.dqlab.id/main/livecode/253/449/2263?pr=0)"
      ],
      "metadata": {
        "id": "EimCRfCn0X-v"
      }
    },
    {
      "cell_type": "code",
      "source": [
        "length(cov_id_raw)\n",
        "names(cov_id_raw)\n",
        "cov_id_update <- cov_id_raw$update"
      ],
      "metadata": {
        "colab": {
          "base_uri": "https://localhost:8080/",
          "height": 52
        },
        "id": "gGe7lU-u0bcc",
        "outputId": "4afb604d-7df1-4dcc-d051-732400ed5554"
      },
      "execution_count": 9,
      "outputs": [
        {
          "output_type": "display_data",
          "data": {
            "text/html": [
              "2"
            ],
            "text/markdown": "2",
            "text/latex": "2",
            "text/plain": [
              "[1] 2"
            ]
          },
          "metadata": {}
        },
        {
          "output_type": "display_data",
          "data": {
            "text/html": [
              "<style>\n",
              ".list-inline {list-style: none; margin:0; padding: 0}\n",
              ".list-inline>li {display: inline-block}\n",
              ".list-inline>li:not(:last-child)::after {content: \"\\00b7\"; padding: 0 .5ex}\n",
              "</style>\n",
              "<ol class=list-inline><li>'data'</li><li>'update'</li></ol>\n"
            ],
            "text/markdown": "1. 'data'\n2. 'update'\n\n\n",
            "text/latex": "\\begin{enumerate*}\n\\item 'data'\n\\item 'update'\n\\end{enumerate*}\n",
            "text/plain": [
              "[1] \"data\"   \"update\""
            ]
          },
          "metadata": {}
        }
      ]
    },
    {
      "cell_type": "markdown",
      "source": [
        "#### [Analisa Data](https://academy.dqlab.id/main/livecode/253/449/2264?pr=0)"
      ],
      "metadata": {
        "id": "kUikHYqY0glI"
      }
    },
    {
      "cell_type": "code",
      "source": [
        "lapply(cov_id_update,names)\n",
        "cov_id_update$penambahan$tanggal\n",
        "cov_id_update$penambahan$jumlah_sembuh\n",
        "cov_id_update$penambahan$jumlah_meninggal\n",
        "cov_id_update$total$jumlah_positif\n",
        "cov_id_update$total$jumlah_meninggal"
      ],
      "metadata": {
        "colab": {
          "base_uri": "https://localhost:8080/",
          "height": 253
        },
        "id": "yiVyDSam0kBs",
        "outputId": "8522b215-f0dc-4042-9791-baa90211de09"
      },
      "execution_count": 10,
      "outputs": [
        {
          "output_type": "display_data",
          "data": {
            "text/html": [
              "<dl>\n",
              "\t<dt>$penambahan</dt>\n",
              "\t\t<dd><style>\n",
              ".list-inline {list-style: none; margin:0; padding: 0}\n",
              ".list-inline>li {display: inline-block}\n",
              ".list-inline>li:not(:last-child)::after {content: \"\\00b7\"; padding: 0 .5ex}\n",
              "</style>\n",
              "<ol class=list-inline><li>'jumlah_positif'</li><li>'jumlah_meninggal'</li><li>'jumlah_sembuh'</li><li>'jumlah_dirawat'</li><li>'tanggal'</li><li>'created'</li></ol>\n",
              "</dd>\n",
              "\t<dt>$harian</dt>\n",
              "\t\t<dd><style>\n",
              ".list-inline {list-style: none; margin:0; padding: 0}\n",
              ".list-inline>li {display: inline-block}\n",
              ".list-inline>li:not(:last-child)::after {content: \"\\00b7\"; padding: 0 .5ex}\n",
              "</style>\n",
              "<ol class=list-inline><li>'key_as_string'</li><li>'key'</li><li>'doc_count'</li><li>'jumlah_meninggal'</li><li>'jumlah_sembuh'</li><li>'jumlah_positif'</li><li>'jumlah_dirawat'</li><li>'jumlah_positif_kum'</li><li>'jumlah_sembuh_kum'</li><li>'jumlah_meninggal_kum'</li><li>'jumlah_dirawat_kum'</li></ol>\n",
              "</dd>\n",
              "\t<dt>$total</dt>\n",
              "\t\t<dd><style>\n",
              ".list-inline {list-style: none; margin:0; padding: 0}\n",
              ".list-inline>li {display: inline-block}\n",
              ".list-inline>li:not(:last-child)::after {content: \"\\00b7\"; padding: 0 .5ex}\n",
              "</style>\n",
              "<ol class=list-inline><li>'jumlah_positif'</li><li>'jumlah_dirawat'</li><li>'jumlah_sembuh'</li><li>'jumlah_meninggal'</li></ol>\n",
              "</dd>\n",
              "</dl>\n"
            ],
            "text/markdown": "$penambahan\n:   1. 'jumlah_positif'\n2. 'jumlah_meninggal'\n3. 'jumlah_sembuh'\n4. 'jumlah_dirawat'\n5. 'tanggal'\n6. 'created'\n\n\n\n$harian\n:   1. 'key_as_string'\n2. 'key'\n3. 'doc_count'\n4. 'jumlah_meninggal'\n5. 'jumlah_sembuh'\n6. 'jumlah_positif'\n7. 'jumlah_dirawat'\n8. 'jumlah_positif_kum'\n9. 'jumlah_sembuh_kum'\n10. 'jumlah_meninggal_kum'\n11. 'jumlah_dirawat_kum'\n\n\n\n$total\n:   1. 'jumlah_positif'\n2. 'jumlah_dirawat'\n3. 'jumlah_sembuh'\n4. 'jumlah_meninggal'\n\n\n\n\n\n",
            "text/latex": "\\begin{description}\n\\item[\\$penambahan] \\begin{enumerate*}\n\\item 'jumlah\\_positif'\n\\item 'jumlah\\_meninggal'\n\\item 'jumlah\\_sembuh'\n\\item 'jumlah\\_dirawat'\n\\item 'tanggal'\n\\item 'created'\n\\end{enumerate*}\n\n\\item[\\$harian] \\begin{enumerate*}\n\\item 'key\\_as\\_string'\n\\item 'key'\n\\item 'doc\\_count'\n\\item 'jumlah\\_meninggal'\n\\item 'jumlah\\_sembuh'\n\\item 'jumlah\\_positif'\n\\item 'jumlah\\_dirawat'\n\\item 'jumlah\\_positif\\_kum'\n\\item 'jumlah\\_sembuh\\_kum'\n\\item 'jumlah\\_meninggal\\_kum'\n\\item 'jumlah\\_dirawat\\_kum'\n\\end{enumerate*}\n\n\\item[\\$total] \\begin{enumerate*}\n\\item 'jumlah\\_positif'\n\\item 'jumlah\\_dirawat'\n\\item 'jumlah\\_sembuh'\n\\item 'jumlah\\_meninggal'\n\\end{enumerate*}\n\n\\end{description}\n",
            "text/plain": [
              "$penambahan\n",
              "[1] \"jumlah_positif\"   \"jumlah_meninggal\" \"jumlah_sembuh\"    \"jumlah_dirawat\"  \n",
              "[5] \"tanggal\"          \"created\"         \n",
              "\n",
              "$harian\n",
              " [1] \"key_as_string\"        \"key\"                  \"doc_count\"           \n",
              " [4] \"jumlah_meninggal\"     \"jumlah_sembuh\"        \"jumlah_positif\"      \n",
              " [7] \"jumlah_dirawat\"       \"jumlah_positif_kum\"   \"jumlah_sembuh_kum\"   \n",
              "[10] \"jumlah_meninggal_kum\" \"jumlah_dirawat_kum\"  \n",
              "\n",
              "$total\n",
              "[1] \"jumlah_positif\"   \"jumlah_dirawat\"   \"jumlah_sembuh\"    \"jumlah_meninggal\"\n"
            ]
          },
          "metadata": {}
        },
        {
          "output_type": "display_data",
          "data": {
            "text/html": [
              "'2022-05-14'"
            ],
            "text/markdown": "'2022-05-14'",
            "text/latex": "'2022-05-14'",
            "text/plain": [
              "[1] \"2022-05-14\""
            ]
          },
          "metadata": {}
        },
        {
          "output_type": "display_data",
          "data": {
            "text/html": [
              "416"
            ],
            "text/markdown": "416",
            "text/latex": "416",
            "text/plain": [
              "[1] 416"
            ]
          },
          "metadata": {}
        },
        {
          "output_type": "display_data",
          "data": {
            "text/html": [
              "5"
            ],
            "text/markdown": "5",
            "text/latex": "5",
            "text/plain": [
              "[1] 5"
            ]
          },
          "metadata": {}
        },
        {
          "output_type": "display_data",
          "data": {
            "text/html": [
              "6050519"
            ],
            "text/markdown": "6050519",
            "text/latex": "6050519",
            "text/plain": [
              "[1] 6050519"
            ]
          },
          "metadata": {}
        },
        {
          "output_type": "display_data",
          "data": {
            "text/html": [
              "156453"
            ],
            "text/markdown": "156453",
            "text/latex": "156453",
            "text/plain": [
              "[1] 156453"
            ]
          },
          "metadata": {}
        }
      ]
    },
    {
      "cell_type": "markdown",
      "source": [
        "## COVID-19 Di Sekitar"
      ],
      "metadata": {
        "id": "Hj28ru8Fyycu"
      }
    },
    {
      "cell_type": "markdown",
      "source": [
        "#### [Apa Kabar Jawa Barat?](https://academy.dqlab.id/main/livecode/253/450/2266?pr=0)"
      ],
      "metadata": {
        "id": "0G_0Kdie0wXU"
      }
    },
    {
      "cell_type": "code",
      "source": [
        "resp_jabar <- GET(\"https://storage.googleapis.com/dqlab-dataset/prov_detail_JAWA_BARAT.json\")\n",
        "cov_jabar_raw <- content(resp_jabar, as = \"parsed\", simplifyVector = TRUE)\n",
        "\n",
        "\n",
        "names(cov_jabar_raw)\n",
        "cov_jabar_raw$kasus_total\n",
        "cov_jabar_raw$meninggal_persen\n",
        "cov_jabar_raw$sembuh_persen"
      ],
      "metadata": {
        "colab": {
          "base_uri": "https://localhost:8080/",
          "height": 104
        },
        "id": "Y17CrbHc0zkE",
        "outputId": "19abe8d0-1707-4be8-f30e-9ce8e8c16930"
      },
      "execution_count": 11,
      "outputs": [
        {
          "output_type": "display_data",
          "data": {
            "text/html": [
              "<style>\n",
              ".list-inline {list-style: none; margin:0; padding: 0}\n",
              ".list-inline>li {display: inline-block}\n",
              ".list-inline>li:not(:last-child)::after {content: \"\\00b7\"; padding: 0 .5ex}\n",
              "</style>\n",
              "<ol class=list-inline><li>'last_date'</li><li>'provinsi'</li><li>'kasus_total'</li><li>'kasus_tanpa_tgl'</li><li>'kasus_dengan_tgl'</li><li>'meninggal_persen'</li><li>'meninggal_tanpa_tgl'</li><li>'meninggal_dengan_tgl'</li><li>'sembuh_persen'</li><li>'sembuh_tanpa_tgl'</li><li>'sembuh_dengan_tgl'</li><li>'list_perkembangan'</li><li>'data'</li></ol>\n"
            ],
            "text/markdown": "1. 'last_date'\n2. 'provinsi'\n3. 'kasus_total'\n4. 'kasus_tanpa_tgl'\n5. 'kasus_dengan_tgl'\n6. 'meninggal_persen'\n7. 'meninggal_tanpa_tgl'\n8. 'meninggal_dengan_tgl'\n9. 'sembuh_persen'\n10. 'sembuh_tanpa_tgl'\n11. 'sembuh_dengan_tgl'\n12. 'list_perkembangan'\n13. 'data'\n\n\n",
            "text/latex": "\\begin{enumerate*}\n\\item 'last\\_date'\n\\item 'provinsi'\n\\item 'kasus\\_total'\n\\item 'kasus\\_tanpa\\_tgl'\n\\item 'kasus\\_dengan\\_tgl'\n\\item 'meninggal\\_persen'\n\\item 'meninggal\\_tanpa\\_tgl'\n\\item 'meninggal\\_dengan\\_tgl'\n\\item 'sembuh\\_persen'\n\\item 'sembuh\\_tanpa\\_tgl'\n\\item 'sembuh\\_dengan\\_tgl'\n\\item 'list\\_perkembangan'\n\\item 'data'\n\\end{enumerate*}\n",
            "text/plain": [
              " [1] \"last_date\"            \"provinsi\"             \"kasus_total\"         \n",
              " [4] \"kasus_tanpa_tgl\"      \"kasus_dengan_tgl\"     \"meninggal_persen\"    \n",
              " [7] \"meninggal_tanpa_tgl\"  \"meninggal_dengan_tgl\" \"sembuh_persen\"       \n",
              "[10] \"sembuh_tanpa_tgl\"     \"sembuh_dengan_tgl\"    \"list_perkembangan\"   \n",
              "[13] \"data\"                "
            ]
          },
          "metadata": {}
        },
        {
          "output_type": "display_data",
          "data": {
            "text/html": [
              "1105134"
            ],
            "text/markdown": "1105134",
            "text/latex": "1105134",
            "text/plain": [
              "[1] 1105134"
            ]
          },
          "metadata": {}
        },
        {
          "output_type": "display_data",
          "data": {
            "text/html": [
              "1.42561897471257"
            ],
            "text/markdown": "1.42561897471257",
            "text/latex": "1.42561897471257",
            "text/plain": [
              "[1] 1.425619"
            ]
          },
          "metadata": {}
        },
        {
          "output_type": "display_data",
          "data": {
            "text/html": [
              "98.2823802362428"
            ],
            "text/markdown": "98.2823802362428",
            "text/latex": "98.2823802362428",
            "text/plain": [
              "[1] 98.28238"
            ]
          },
          "metadata": {}
        }
      ]
    },
    {
      "cell_type": "markdown",
      "source": [
        "#### [Memperoleh Informasi yang Lebih Lengkap](https://academy.dqlab.id/main/livecode/253/450/2267?pr=0)"
      ],
      "metadata": {
        "id": "NIms3XdG05Yh"
      }
    },
    {
      "cell_type": "code",
      "source": [
        "cov_jabar <- cov_jabar_raw$list_perkembangan\n",
        "str(cov_jabar)\n",
        "head(cov_jabar)"
      ],
      "metadata": {
        "colab": {
          "base_uri": "https://localhost:8080/",
          "height": 480
        },
        "id": "-AvLq_uL08jo",
        "outputId": "e3b3ee62-fbe0-483e-efec-dea92d9b1c06"
      },
      "execution_count": 12,
      "outputs": [
        {
          "output_type": "stream",
          "name": "stdout",
          "text": [
            "'data.frame':\t785 obs. of  9 variables:\n",
            " $ tanggal                     : num  1.58e+12 1.58e+12 1.58e+12 1.58e+12 1.58e+12 ...\n",
            " $ KASUS                       : int  1 1 1 1 0 0 0 0 0 1 ...\n",
            " $ MENINGGAL                   : int  1 0 0 0 0 0 0 0 1 0 ...\n",
            " $ SEMBUH                      : int  0 0 0 0 0 0 0 0 0 0 ...\n",
            " $ DIRAWAT_OR_ISOLASI          : int  0 1 1 1 0 0 0 0 -1 1 ...\n",
            " $ AKUMULASI_KASUS             : int  1 2 3 4 4 4 4 4 4 5 ...\n",
            " $ AKUMULASI_SEMBUH            : int  0 0 0 0 0 0 0 0 0 0 ...\n",
            " $ AKUMULASI_MENINGGAL         : int  1 1 1 1 1 1 1 1 2 2 ...\n",
            " $ AKUMULASI_DIRAWAT_OR_ISOLASI: int  0 1 2 3 3 3 3 3 2 3 ...\n"
          ]
        },
        {
          "output_type": "display_data",
          "data": {
            "text/html": [
              "<table class=\"dataframe\">\n",
              "<caption>A data.frame: 6 × 9</caption>\n",
              "<thead>\n",
              "\t<tr><th></th><th scope=col>tanggal</th><th scope=col>KASUS</th><th scope=col>MENINGGAL</th><th scope=col>SEMBUH</th><th scope=col>DIRAWAT_OR_ISOLASI</th><th scope=col>AKUMULASI_KASUS</th><th scope=col>AKUMULASI_SEMBUH</th><th scope=col>AKUMULASI_MENINGGAL</th><th scope=col>AKUMULASI_DIRAWAT_OR_ISOLASI</th></tr>\n",
              "\t<tr><th></th><th scope=col>&lt;dbl&gt;</th><th scope=col>&lt;int&gt;</th><th scope=col>&lt;int&gt;</th><th scope=col>&lt;int&gt;</th><th scope=col>&lt;int&gt;</th><th scope=col>&lt;int&gt;</th><th scope=col>&lt;int&gt;</th><th scope=col>&lt;int&gt;</th><th scope=col>&lt;int&gt;</th></tr>\n",
              "</thead>\n",
              "<tbody>\n",
              "\t<tr><th scope=row>1</th><td>1.583194e+12</td><td>1</td><td>1</td><td>0</td><td>0</td><td>1</td><td>0</td><td>1</td><td>0</td></tr>\n",
              "\t<tr><th scope=row>2</th><td>1.583280e+12</td><td>1</td><td>0</td><td>0</td><td>1</td><td>2</td><td>0</td><td>1</td><td>1</td></tr>\n",
              "\t<tr><th scope=row>3</th><td>1.583366e+12</td><td>1</td><td>0</td><td>0</td><td>1</td><td>3</td><td>0</td><td>1</td><td>2</td></tr>\n",
              "\t<tr><th scope=row>4</th><td>1.583453e+12</td><td>1</td><td>0</td><td>0</td><td>1</td><td>4</td><td>0</td><td>1</td><td>3</td></tr>\n",
              "\t<tr><th scope=row>5</th><td>1.583539e+12</td><td>0</td><td>0</td><td>0</td><td>0</td><td>4</td><td>0</td><td>1</td><td>3</td></tr>\n",
              "\t<tr><th scope=row>6</th><td>1.583626e+12</td><td>0</td><td>0</td><td>0</td><td>0</td><td>4</td><td>0</td><td>1</td><td>3</td></tr>\n",
              "</tbody>\n",
              "</table>\n"
            ],
            "text/markdown": "\nA data.frame: 6 × 9\n\n| <!--/--> | tanggal &lt;dbl&gt; | KASUS &lt;int&gt; | MENINGGAL &lt;int&gt; | SEMBUH &lt;int&gt; | DIRAWAT_OR_ISOLASI &lt;int&gt; | AKUMULASI_KASUS &lt;int&gt; | AKUMULASI_SEMBUH &lt;int&gt; | AKUMULASI_MENINGGAL &lt;int&gt; | AKUMULASI_DIRAWAT_OR_ISOLASI &lt;int&gt; |\n|---|---|---|---|---|---|---|---|---|---|\n| 1 | 1.583194e+12 | 1 | 1 | 0 | 0 | 1 | 0 | 1 | 0 |\n| 2 | 1.583280e+12 | 1 | 0 | 0 | 1 | 2 | 0 | 1 | 1 |\n| 3 | 1.583366e+12 | 1 | 0 | 0 | 1 | 3 | 0 | 1 | 2 |\n| 4 | 1.583453e+12 | 1 | 0 | 0 | 1 | 4 | 0 | 1 | 3 |\n| 5 | 1.583539e+12 | 0 | 0 | 0 | 0 | 4 | 0 | 1 | 3 |\n| 6 | 1.583626e+12 | 0 | 0 | 0 | 0 | 4 | 0 | 1 | 3 |\n\n",
            "text/latex": "A data.frame: 6 × 9\n\\begin{tabular}{r|lllllllll}\n  & tanggal & KASUS & MENINGGAL & SEMBUH & DIRAWAT\\_OR\\_ISOLASI & AKUMULASI\\_KASUS & AKUMULASI\\_SEMBUH & AKUMULASI\\_MENINGGAL & AKUMULASI\\_DIRAWAT\\_OR\\_ISOLASI\\\\\n  & <dbl> & <int> & <int> & <int> & <int> & <int> & <int> & <int> & <int>\\\\\n\\hline\n\t1 & 1.583194e+12 & 1 & 1 & 0 & 0 & 1 & 0 & 1 & 0\\\\\n\t2 & 1.583280e+12 & 1 & 0 & 0 & 1 & 2 & 0 & 1 & 1\\\\\n\t3 & 1.583366e+12 & 1 & 0 & 0 & 1 & 3 & 0 & 1 & 2\\\\\n\t4 & 1.583453e+12 & 1 & 0 & 0 & 1 & 4 & 0 & 1 & 3\\\\\n\t5 & 1.583539e+12 & 0 & 0 & 0 & 0 & 4 & 0 & 1 & 3\\\\\n\t6 & 1.583626e+12 & 0 & 0 & 0 & 0 & 4 & 0 & 1 & 3\\\\\n\\end{tabular}\n",
            "text/plain": [
              "  tanggal      KASUS MENINGGAL SEMBUH DIRAWAT_OR_ISOLASI AKUMULASI_KASUS\n",
              "1 1.583194e+12 1     1         0      0                  1              \n",
              "2 1.583280e+12 1     0         0      1                  2              \n",
              "3 1.583366e+12 1     0         0      1                  3              \n",
              "4 1.583453e+12 1     0         0      1                  4              \n",
              "5 1.583539e+12 0     0         0      0                  4              \n",
              "6 1.583626e+12 0     0         0      0                  4              \n",
              "  AKUMULASI_SEMBUH AKUMULASI_MENINGGAL AKUMULASI_DIRAWAT_OR_ISOLASI\n",
              "1 0                1                   0                           \n",
              "2 0                1                   1                           \n",
              "3 0                1                   2                           \n",
              "4 0                1                   3                           \n",
              "5 0                1                   3                           \n",
              "6 0                1                   3                           "
            ]
          },
          "metadata": {}
        }
      ]
    },
    {
      "cell_type": "markdown",
      "source": [
        "#### [Menjinakkan Data](https://academy.dqlab.id/main/livecode/253/450/2268?pr=0)"
      ],
      "metadata": {
        "id": "JuWrMTpa1FCQ"
      }
    },
    {
      "cell_type": "code",
      "source": [
        "library(dplyr)\n",
        "\n",
        "new_cov_jabar <-\n",
        "  cov_jabar %>% \n",
        "  select(-contains(\"DIRAWAT_OR_ISOLASI\")) %>% \n",
        "  select(-starts_with(\"AKUMULASI\")) %>% \n",
        "  rename(\n",
        "    kasus_baru = KASUS,\n",
        "    meninggal = MENINGGAL,\n",
        "    sembuh = SEMBUH\n",
        "    ) %>% \n",
        "  mutate(\n",
        "    tanggal = as.POSIXct(tanggal / 1000, origin = \"1970-01-01\"),\n",
        "    tanggal = as.Date(tanggal)\n",
        "  )\n",
        "  \n",
        "str(new_cov_jabar)"
      ],
      "metadata": {
        "colab": {
          "base_uri": "https://localhost:8080/"
        },
        "id": "K5pPnIJS1JUs",
        "outputId": "ca16cd7a-c8d0-44b5-d3c9-8c085024248c"
      },
      "execution_count": 13,
      "outputs": [
        {
          "output_type": "stream",
          "name": "stderr",
          "text": [
            "\n",
            "Attaching package: ‘dplyr’\n",
            "\n",
            "\n",
            "The following objects are masked from ‘package:stats’:\n",
            "\n",
            "    filter, lag\n",
            "\n",
            "\n",
            "The following objects are masked from ‘package:base’:\n",
            "\n",
            "    intersect, setdiff, setequal, union\n",
            "\n",
            "\n"
          ]
        },
        {
          "output_type": "stream",
          "name": "stdout",
          "text": [
            "'data.frame':\t785 obs. of  4 variables:\n",
            " $ tanggal   : Date, format: \"2020-03-03\" \"2020-03-04\" ...\n",
            " $ kasus_baru: int  1 1 1 1 0 0 0 0 0 1 ...\n",
            " $ meninggal : int  1 0 0 0 0 0 0 0 1 0 ...\n",
            " $ sembuh    : int  0 0 0 0 0 0 0 0 0 0 ...\n"
          ]
        }
      ]
    },
    {
      "cell_type": "markdown",
      "source": [
        "#### [Menunjukkan Melalui Gambar](https://academy.dqlab.id/main/livecode/253/450/2269?pr=0)"
      ],
      "metadata": {
        "id": "AebFFRET1Swk"
      }
    },
    {
      "cell_type": "code",
      "source": [
        "system('sudo apt install libcairo2-dev')\n",
        "install.packages('hrbrthemes')"
      ],
      "metadata": {
        "colab": {
          "base_uri": "https://localhost:8080/"
        },
        "id": "mnett0KI1YcA",
        "outputId": "839e2721-b698-4e81-ce23-20aced39e6a9"
      },
      "execution_count": 17,
      "outputs": [
        {
          "output_type": "stream",
          "name": "stderr",
          "text": [
            "Installing package into ‘/usr/local/lib/R/site-library’\n",
            "(as ‘lib’ is unspecified)\n",
            "\n",
            "also installing the dependency ‘gdtools’\n",
            "\n",
            "\n"
          ]
        }
      ]
    },
    {
      "cell_type": "code",
      "source": [
        "library(ggplot2)\n",
        "library(hrbrthemes)\n",
        "\n",
        "ggplot(data = new_cov_jabar, aes(x = tanggal, y = kasus_baru)) +\n",
        "  geom_col()"
      ],
      "metadata": {
        "colab": {
          "base_uri": "https://localhost:8080/",
          "height": 541
        },
        "id": "cnuPgh7d1V8Y",
        "outputId": "a3a8bc02-b50b-4d8c-ce0e-ea592691622b"
      },
      "execution_count": 18,
      "outputs": [
        {
          "output_type": "stream",
          "name": "stderr",
          "text": [
            "NOTE: Either Arial Narrow or Roboto Condensed fonts are required to use these themes.\n",
            "\n",
            "      Please use hrbrthemes::import_roboto_condensed() to install Roboto Condensed and\n",
            "\n",
            "      if Arial Narrow is not on your system, please see https://bit.ly/arialnarrow\n",
            "\n"
          ]
        },
        {
          "output_type": "display_data",
          "data": {
            "text/plain": [
              "plot without title"
            ],
            "image/png": "[encoded data removed]"
          },
          "metadata": {
            "image/png": {
              "width": 420,
              "height": 420
            }
          }
        }
      ]
    },
    {
      "cell_type": "markdown",
      "source": [
        "#### [Menunjukkan Melalui Gambar - Pt 2](https://academy.dqlab.id/main/livecode/253/450/2270?pr=0)"
      ],
      "metadata": {
        "id": "vqBjgRUr1dMU"
      }
    },
    {
      "cell_type": "code",
      "source": [
        "ggplot(new_cov_jabar, aes(tanggal, kasus_baru)) +\n",
        "  geom_col(fill = \"salmon\") +\n",
        "  labs(\n",
        "    x = NULL,\n",
        "    y = \"Jumlah kasus\",\n",
        "    title = \"Kasus Harian Positif COVID-19 di Jawa Barat\",\n",
        "    subtitle = \"Terjadi pelonjakan kasus di awal bulan Juli akibat klaster Secapa AD Bandung\",\n",
        "    caption = \"Sumber data: covid.19.go.id\"\n",
        "  ) +\n",
        "  theme_ipsum(\n",
        "    base_size = 13,\n",
        "    plot_title_size = 21,\n",
        "    grid = \"Y\",\n",
        "    ticks = TRUE\n",
        "  ) +\n",
        "  theme(plot.title.position = \"plot\")"
      ],
      "metadata": {
        "colab": {
          "base_uri": "https://localhost:8080/",
          "height": 437
        },
        "id": "ePvXINfd1i3Y",
        "outputId": "56d351c8-05b5-4698-ff8d-42afae96eab5"
      },
      "execution_count": 19,
      "outputs": [
        {
          "output_type": "display_data",
          "data": {
            "text/plain": [
              "plot without title"
            ],
            "image/png": "[encoded data removed]"
          },
          "metadata": {
            "image/png": {
              "width": 420,
              "height": 420
            }
          }
        }
      ]
    },
    {
      "cell_type": "markdown",
      "source": [
        "#### [Grafik untuk Kasus Sembuh](https://academy.dqlab.id/main/livecode/253/450/2271?pr=0)"
      ],
      "metadata": {
        "id": "sDB87loT2DNk"
      }
    },
    {
      "cell_type": "code",
      "source": [
        "ggplot(new_cov_jabar, aes(tanggal, sembuh)) +\n",
        "  geom_col(fill = \"olivedrab2\") +\n",
        "  labs(\n",
        "    x = NULL,\n",
        "    y = \"Jumlah kasus\",\n",
        "    title = \"Kasus Harian Sembuh Dari COVID-19 di Jawa Barat\",\n",
        "    caption = \"Sumber data: covid.19.go.id\"\n",
        "  ) +\n",
        "  theme_ipsum(\n",
        "    base_size = 13, \n",
        "    plot_title_size = 21,\n",
        "    grid = \"Y\",\n",
        "    ticks = TRUE\n",
        "  ) +\n",
        "  theme(plot.title.position = \"plot\")"
      ],
      "metadata": {
        "colab": {
          "base_uri": "https://localhost:8080/",
          "height": 437
        },
        "id": "Fw4hZRLO2GRp",
        "outputId": "80174c67-4a8b-4a33-f1ad-2185fcf8095b"
      },
      "execution_count": 20,
      "outputs": [
        {
          "output_type": "display_data",
          "data": {
            "text/plain": [
              "plot without title"
            ],
            "image/png": "[encoded data removed]"
          },
          "metadata": {
            "image/png": {
              "width": 420,
              "height": 420
            }
          }
        }
      ]
    },
    {
      "cell_type": "markdown",
      "source": [
        "#### [Grafik untuk Kasus Meninggal](https://academy.dqlab.id/main/livecode/253/450/2273?pr=0)"
      ],
      "metadata": {
        "id": "qkLq9AAp2N-k"
      }
    },
    {
      "cell_type": "code",
      "source": [
        "ggplot(new_cov_jabar, aes(tanggal, meninggal)) +\n",
        "  geom_col(fill = \"darkslategray4\") +\n",
        "  labs(\n",
        "    x = NULL,\n",
        "    y = \"Jumlah kasus\",\n",
        "    title = \"Kasus Harian Meninggal Akibat COVID-19 di Jawa Barat\",\n",
        "    caption = \"Sumber data: covid.19.go.id\"\n",
        "  ) +\n",
        "  theme_ipsum(\n",
        "    base_size = 13, \n",
        "    plot_title_size = 21,\n",
        "    grid = \"Y\",\n",
        "    ticks = TRUE\n",
        "  ) +\n",
        "  theme(plot.title.position = \"plot\")"
      ],
      "metadata": {
        "colab": {
          "base_uri": "https://localhost:8080/",
          "height": 437
        },
        "id": "bTo_UyP52SuK",
        "outputId": "756e69be-21a2-4167-f759-1c1770d4fded"
      },
      "execution_count": 21,
      "outputs": [
        {
          "output_type": "display_data",
          "data": {
            "text/plain": [
              "plot without title"
            ],
            "image/png": "[encoded data removed]"
          },
          "metadata": {
            "image/png": {
              "width": 420,
              "height": 420
            }
          }
        }
      ]
    },
    {
      "cell_type": "markdown",
      "source": [
        "## Menggali Lebih Dalam"
      ],
      "metadata": {
        "id": "W-JDY9acy0PB"
      }
    },
    {
      "cell_type": "markdown",
      "source": [
        "#### [Apakah Pekan ini Lebih Baik?](https://academy.dqlab.id/main/livecode/253/451/2274?pr=0)"
      ],
      "metadata": {
        "id": "V5sxg1RU2bBW"
      }
    },
    {
      "cell_type": "code",
      "source": [
        "library(lubridate)\n",
        "\n",
        "cov_jabar_pekanan <- new_cov_jabar %>% \n",
        "  count(\n",
        "    tahun = year(tanggal),\n",
        "    pekan_ke = week(tanggal),\n",
        "    wt = kasus_baru,\n",
        "    name = \"jumlah\"\n",
        "  )\n",
        "\n",
        "glimpse(cov_jabar_pekanan)"
      ],
      "metadata": {
        "colab": {
          "base_uri": "https://localhost:8080/"
        },
        "id": "bwt9G4mT2eyn",
        "outputId": "8d63ff88-317e-4de2-b29e-78aad31003b2"
      },
      "execution_count": 23,
      "outputs": [
        {
          "output_type": "stream",
          "name": "stdout",
          "text": [
            "Rows: 115\n",
            "Columns: 3\n",
            "$ tahun    \u001b[3m\u001b[90m<dbl>\u001b[39m\u001b[23m 2020, 2020, 2020, 2020, 2020, 2020, 2020, 2020, 2020, 2020, 2…\n",
            "$ pekan_ke \u001b[3m\u001b[90m<dbl>\u001b[39m\u001b[23m 9, 10, 11, 12, 13, 14, 15, 16, 17, 18, 19, 20, 21, 22, 23, 24…\n",
            "$ jumlah   \u001b[3m\u001b[90m<int>\u001b[39m\u001b[23m 1, 3, 16, 41, 98, 149, 153, 155, 156, 284, 803, 175, 395, 203…\n"
          ]
        }
      ]
    },
    {
      "cell_type": "markdown",
      "source": [
        "#### [Menjawab Pertanyaan](https://academy.dqlab.id/main/livecode/253/451/2275?pr=0)"
      ],
      "metadata": {
        "id": "G44BVm-i2oIr"
      }
    },
    {
      "cell_type": "code",
      "source": [
        "cov_jabar_pekanan <-\n",
        "  cov_jabar_pekanan %>% \n",
        "  mutate(\n",
        "    jumlah_pekanlalu = dplyr::lag(jumlah, 1),\n",
        "    jumlah_pekanlalu = ifelse(is.na(jumlah_pekanlalu), 0, jumlah_pekanlalu),\n",
        "    lebih_baik = jumlah < jumlah_pekanlalu\n",
        "  )\n",
        "  \n",
        "glimpse(cov_jabar_pekanan)"
      ],
      "metadata": {
        "colab": {
          "base_uri": "https://localhost:8080/"
        },
        "id": "OMkqSS1p2rr9",
        "outputId": "79741e6c-035f-40f9-ed8e-4f534720781d"
      },
      "execution_count": 24,
      "outputs": [
        {
          "output_type": "stream",
          "name": "stdout",
          "text": [
            "Rows: 115\n",
            "Columns: 5\n",
            "$ tahun            \u001b[3m\u001b[90m<dbl>\u001b[39m\u001b[23m 2020, 2020, 2020, 2020, 2020, 2020, 2020, 2020, 2020,…\n",
            "$ pekan_ke         \u001b[3m\u001b[90m<dbl>\u001b[39m\u001b[23m 9, 10, 11, 12, 13, 14, 15, 16, 17, 18, 19, 20, 21, 22…\n",
            "$ jumlah           \u001b[3m\u001b[90m<int>\u001b[39m\u001b[23m 1, 3, 16, 41, 98, 149, 153, 155, 156, 284, 803, 175, …\n",
            "$ jumlah_pekanlalu \u001b[3m\u001b[90m<dbl>\u001b[39m\u001b[23m 0, 1, 3, 16, 41, 98, 149, 153, 155, 156, 284, 803, 17…\n",
            "$ lebih_baik       \u001b[3m\u001b[90m<lgl>\u001b[39m\u001b[23m FALSE, FALSE, FALSE, FALSE, FALSE, FALSE, FALSE, FALS…\n"
          ]
        }
      ]
    },
    {
      "cell_type": "markdown",
      "source": [
        "#### [Membuat Bar Chart](https://academy.dqlab.id/main/livecode/253/451/2276?pr=0)"
      ],
      "metadata": {
        "id": "DaLM5VOn2ym2"
      }
    },
    {
      "cell_type": "code",
      "source": [
        "ggplot(cov_jabar_pekanan[cov_jabar_pekanan$tahun==2020,], aes(pekan_ke, jumlah, fill = lebih_baik)) +\n",
        "  geom_col(show.legend = FALSE) +\n",
        "  scale_x_continuous(breaks = 9:29, expand = c(0, 0)) +\n",
        "  scale_fill_manual(values = c(\"TRUE\" = \"seagreen3\", \"FALSE\" = \"salmon\")) +\n",
        "  labs(\n",
        "    x = NULL,\n",
        "    y = \"Jumlah kasus\",\n",
        "    title = \"Kasus Pekanan Positif COVID-19 di Jawa Barat\",\n",
        "    subtitle = \"Kolom hijau menunjukan penambahan kasus baru lebih sedikit dibandingkan satu pekan sebelumnya\",\n",
        "    caption = \"Sumber data: covid.19.go.id\"\n",
        "  ) +\n",
        "  theme_ipsum(\n",
        "    base_size = 13,\n",
        "    plot_title_size = 21,\n",
        "    grid = \"Y\",\n",
        "    ticks = TRUE\n",
        "  ) +\n",
        "  theme(plot.title.position = \"plot\")"
      ],
      "metadata": {
        "colab": {
          "base_uri": "https://localhost:8080/",
          "height": 437
        },
        "id": "AdtnGlWl218z",
        "outputId": "98ef4e27-c213-4b09-f489-bcc874da3acd"
      },
      "execution_count": 25,
      "outputs": [
        {
          "output_type": "display_data",
          "data": {
            "text/plain": [
              "plot without title"
            ],
            "image/png": "[encoded data removed]"
          },
          "metadata": {
            "image/png": {
              "width": 420,
              "height": 420
            }
          }
        }
      ]
    },
    {
      "cell_type": "markdown",
      "source": [
        "#### [Pola dan Dinamika](https://academy.dqlab.id/main/livecode/253/451/2277?pr=0)"
      ],
      "metadata": {
        "id": "0Unh6hN026Du"
      }
    },
    {
      "cell_type": "code",
      "source": [
        "cov_jabar_akumulasi <- \n",
        "  new_cov_jabar %>% \n",
        "  transmute(\n",
        "    tanggal,\n",
        "    akumulasi_aktif = cumsum(kasus_baru) - cumsum(sembuh) - cumsum(meninggal),\n",
        "    akumulasi_sembuh = cumsum(sembuh),\n",
        "    akumulasi_meninggal = cumsum(meninggal)\n",
        "  )\n",
        "\n",
        "tail(cov_jabar_akumulasi)"
      ],
      "metadata": {
        "colab": {
          "base_uri": "https://localhost:8080/",
          "height": 286
        },
        "id": "DfILRWQS29m3",
        "outputId": "5654be4f-8489-450b-8085-979c1daad0f3"
      },
      "execution_count": 26,
      "outputs": [
        {
          "output_type": "display_data",
          "data": {
            "text/html": [
              "<table class=\"dataframe\">\n",
              "<caption>A data.frame: 6 × 4</caption>\n",
              "<thead>\n",
              "\t<tr><th></th><th scope=col>tanggal</th><th scope=col>akumulasi_aktif</th><th scope=col>akumulasi_sembuh</th><th scope=col>akumulasi_meninggal</th></tr>\n",
              "\t<tr><th></th><th scope=col>&lt;date&gt;</th><th scope=col>&lt;int&gt;</th><th scope=col>&lt;int&gt;</th><th scope=col>&lt;int&gt;</th></tr>\n",
              "</thead>\n",
              "<tbody>\n",
              "\t<tr><th scope=row>780</th><td>2022-04-21</td><td>11628</td><td>1077361</td><td>15731</td></tr>\n",
              "\t<tr><th scope=row>781</th><td>2022-04-22</td><td>10753</td><td>1078344</td><td>15735</td></tr>\n",
              "\t<tr><th scope=row>782</th><td>2022-04-23</td><td> 9882</td><td>1079297</td><td>15737</td></tr>\n",
              "\t<tr><th scope=row>783</th><td>2022-04-24</td><td> 8709</td><td>1080519</td><td>15748</td></tr>\n",
              "\t<tr><th scope=row>784</th><td>2022-04-25</td><td> 5428</td><td>1083851</td><td>15751</td></tr>\n",
              "\t<tr><th scope=row>785</th><td>2022-04-26</td><td> 3253</td><td>1086129</td><td>15752</td></tr>\n",
              "</tbody>\n",
              "</table>\n"
            ],
            "text/markdown": "\nA data.frame: 6 × 4\n\n| <!--/--> | tanggal &lt;date&gt; | akumulasi_aktif &lt;int&gt; | akumulasi_sembuh &lt;int&gt; | akumulasi_meninggal &lt;int&gt; |\n|---|---|---|---|---|\n| 780 | 2022-04-21 | 11628 | 1077361 | 15731 |\n| 781 | 2022-04-22 | 10753 | 1078344 | 15735 |\n| 782 | 2022-04-23 |  9882 | 1079297 | 15737 |\n| 783 | 2022-04-24 |  8709 | 1080519 | 15748 |\n| 784 | 2022-04-25 |  5428 | 1083851 | 15751 |\n| 785 | 2022-04-26 |  3253 | 1086129 | 15752 |\n\n",
            "text/latex": "A data.frame: 6 × 4\n\\begin{tabular}{r|llll}\n  & tanggal & akumulasi\\_aktif & akumulasi\\_sembuh & akumulasi\\_meninggal\\\\\n  & <date> & <int> & <int> & <int>\\\\\n\\hline\n\t780 & 2022-04-21 & 11628 & 1077361 & 15731\\\\\n\t781 & 2022-04-22 & 10753 & 1078344 & 15735\\\\\n\t782 & 2022-04-23 &  9882 & 1079297 & 15737\\\\\n\t783 & 2022-04-24 &  8709 & 1080519 & 15748\\\\\n\t784 & 2022-04-25 &  5428 & 1083851 & 15751\\\\\n\t785 & 2022-04-26 &  3253 & 1086129 & 15752\\\\\n\\end{tabular}\n",
            "text/plain": [
              "    tanggal    akumulasi_aktif akumulasi_sembuh akumulasi_meninggal\n",
              "780 2022-04-21 11628           1077361          15731              \n",
              "781 2022-04-22 10753           1078344          15735              \n",
              "782 2022-04-23  9882           1079297          15737              \n",
              "783 2022-04-24  8709           1080519          15748              \n",
              "784 2022-04-25  5428           1083851          15751              \n",
              "785 2022-04-26  3253           1086129          15752              "
            ]
          },
          "metadata": {}
        }
      ]
    },
    {
      "cell_type": "markdown",
      "source": [
        "#### [Membuat Line Chart](https://academy.dqlab.id/main/livecode/253/451/2278?pr=0)"
      ],
      "metadata": {
        "id": "_MaWrBom3AOd"
      }
    },
    {
      "cell_type": "code",
      "source": [
        "ggplot(data = cov_jabar_akumulasi, aes(x = tanggal, y = akumulasi_aktif)) +\n",
        "  geom_line()"
      ],
      "metadata": {
        "colab": {
          "base_uri": "https://localhost:8080/",
          "height": 437
        },
        "id": "Wvzu1jrv3Fbn",
        "outputId": "4d486e92-308b-4dc6-fad7-ce7d935be281"
      },
      "execution_count": 27,
      "outputs": [
        {
          "output_type": "display_data",
          "data": {
            "text/plain": [
              "plot without title"
            ],
            "image/png": "[encoded data removed]"
          },
          "metadata": {
            "image/png": {
              "width": 420,
              "height": 420
            }
          }
        }
      ]
    },
    {
      "cell_type": "markdown",
      "source": [
        "#### [Kabar Buruk dan Kabar Baik](https://academy.dqlab.id/main/livecode/253/451/2279?pr=0)"
      ],
      "metadata": {
        "id": "5Rbu6lZN3H79"
      }
    },
    {
      "cell_type": "code",
      "source": [
        "TRUE"
      ],
      "metadata": {
        "colab": {
          "base_uri": "https://localhost:8080/",
          "height": 34
        },
        "id": "URGTlKuO3NW7",
        "outputId": "0d395de2-bdbc-4e2f-d865-93b623a6155d"
      },
      "execution_count": 28,
      "outputs": [
        {
          "output_type": "display_data",
          "data": {
            "text/html": [
              "TRUE"
            ],
            "text/markdown": "TRUE",
            "text/latex": "TRUE",
            "text/plain": [
              "[1] TRUE"
            ]
          },
          "metadata": {}
        }
      ]
    },
    {
      "cell_type": "markdown",
      "source": [
        "#### [Transformasi Data](https://academy.dqlab.id/main/livecode/253/451/2281?pr=0)"
      ],
      "metadata": {
        "id": "pPoUULVL3O39"
      }
    },
    {
      "cell_type": "code",
      "source": [
        "library(tidyr)\n",
        "\n",
        "dim(cov_jabar_akumulasi)\n",
        "\n",
        "cov_jabar_akumulasi_pivot <- \n",
        "  cov_jabar_akumulasi %>% \n",
        "  gather(\n",
        "    key = \"kategori\",\n",
        "    value = \"jumlah\",\n",
        "    -tanggal\n",
        "  ) %>% \n",
        "  mutate(\n",
        "    kategori = sub(pattern = \"akumulasi_\", replacement = \"\", kategori)\n",
        "  )\n",
        "\n",
        "dim(cov_jabar_akumulasi_pivot)\n",
        "\n",
        "glimpse(cov_jabar_akumulasi_pivot)"
      ],
      "metadata": {
        "colab": {
          "base_uri": "https://localhost:8080/",
          "height": 139
        },
        "id": "rhF0XYPa3UHv",
        "outputId": "7f271b85-9458-43ea-e097-50614ef3e234"
      },
      "execution_count": 37,
      "outputs": [
        {
          "output_type": "display_data",
          "data": {
            "text/html": [
              "<style>\n",
              ".list-inline {list-style: none; margin:0; padding: 0}\n",
              ".list-inline>li {display: inline-block}\n",
              ".list-inline>li:not(:last-child)::after {content: \"\\00b7\"; padding: 0 .5ex}\n",
              "</style>\n",
              "<ol class=list-inline><li>785</li><li>4</li></ol>\n"
            ],
            "text/markdown": "1. 785\n2. 4\n\n\n",
            "text/latex": "\\begin{enumerate*}\n\\item 785\n\\item 4\n\\end{enumerate*}\n",
            "text/plain": [
              "[1] 785   4"
            ]
          },
          "metadata": {}
        },
        {
          "output_type": "display_data",
          "data": {
            "text/html": [
              "<style>\n",
              ".list-inline {list-style: none; margin:0; padding: 0}\n",
              ".list-inline>li {display: inline-block}\n",
              ".list-inline>li:not(:last-child)::after {content: \"\\00b7\"; padding: 0 .5ex}\n",
              "</style>\n",
              "<ol class=list-inline><li>2355</li><li>3</li></ol>\n"
            ],
            "text/markdown": "1. 2355\n2. 3\n\n\n",
            "text/latex": "\\begin{enumerate*}\n\\item 2355\n\\item 3\n\\end{enumerate*}\n",
            "text/plain": [
              "[1] 2355    3"
            ]
          },
          "metadata": {}
        },
        {
          "output_type": "stream",
          "name": "stdout",
          "text": [
            "Rows: 2,355\n",
            "Columns: 3\n",
            "$ tanggal  \u001b[3m\u001b[90m<date>\u001b[39m\u001b[23m 2020-03-03, 2020-03-04, 2020-03-05, 2020-03-06, 2020-03-07, …\n",
            "$ kategori \u001b[3m\u001b[90m<chr>\u001b[39m\u001b[23m \"aktif\", \"aktif\", \"aktif\", \"aktif\", \"aktif\", \"aktif\", \"aktif\"…\n",
            "$ jumlah   \u001b[3m\u001b[90m<int>\u001b[39m\u001b[23m 0, 1, 2, 3, 3, 3, 3, 3, 2, 3, 6, 6, 4, 2, 13, 14, 17, 29, 34,…\n"
          ]
        }
      ]
    },
    {
      "cell_type": "markdown",
      "source": [
        "#### [pivot_longer()](https://academy.dqlab.id/main/livecode/253/451/2290?pr=0)"
      ],
      "metadata": {
        "id": "fve4yMf93dLm"
      }
    },
    {
      "cell_type": "code",
      "source": [
        "cov_jabar_akumulasi_pivot <-\n",
        "  cov_jabar_akumulasi %>%\n",
        "  pivot_longer(\n",
        "    cols = -tanggal,\n",
        "    names_to = \"kategori\",\n",
        "    names_prefix = \"akumulasi_\",\n",
        "    values_to = \"jumlah\"\n",
        "    )"
      ],
      "metadata": {
        "id": "SNpMlzCd3hFr"
      },
      "execution_count": 38,
      "outputs": []
    },
    {
      "cell_type": "code",
      "source": [
        "head(cov_jabar_akumulasi_pivot, 9)"
      ],
      "metadata": {
        "colab": {
          "base_uri": "https://localhost:8080/",
          "height": 380
        },
        "id": "jy0XfegS4Mg0",
        "outputId": "4ff45aee-9196-4d12-f5a3-a9ead00dfb45"
      },
      "execution_count": 39,
      "outputs": [
        {
          "output_type": "display_data",
          "data": {
            "text/html": [
              "<table class=\"dataframe\">\n",
              "<caption>A tibble: 9 × 3</caption>\n",
              "<thead>\n",
              "\t<tr><th scope=col>tanggal</th><th scope=col>kategori</th><th scope=col>jumlah</th></tr>\n",
              "\t<tr><th scope=col>&lt;date&gt;</th><th scope=col>&lt;chr&gt;</th><th scope=col>&lt;int&gt;</th></tr>\n",
              "</thead>\n",
              "<tbody>\n",
              "\t<tr><td>2020-03-03</td><td>aktif    </td><td>0</td></tr>\n",
              "\t<tr><td>2020-03-03</td><td>sembuh   </td><td>0</td></tr>\n",
              "\t<tr><td>2020-03-03</td><td>meninggal</td><td>1</td></tr>\n",
              "\t<tr><td>2020-03-04</td><td>aktif    </td><td>1</td></tr>\n",
              "\t<tr><td>2020-03-04</td><td>sembuh   </td><td>0</td></tr>\n",
              "\t<tr><td>2020-03-04</td><td>meninggal</td><td>1</td></tr>\n",
              "\t<tr><td>2020-03-05</td><td>aktif    </td><td>2</td></tr>\n",
              "\t<tr><td>2020-03-05</td><td>sembuh   </td><td>0</td></tr>\n",
              "\t<tr><td>2020-03-05</td><td>meninggal</td><td>1</td></tr>\n",
              "</tbody>\n",
              "</table>\n"
            ],
            "text/markdown": "\nA tibble: 9 × 3\n\n| tanggal &lt;date&gt; | kategori &lt;chr&gt; | jumlah &lt;int&gt; |\n|---|---|---|\n| 2020-03-03 | aktif     | 0 |\n| 2020-03-03 | sembuh    | 0 |\n| 2020-03-03 | meninggal | 1 |\n| 2020-03-04 | aktif     | 1 |\n| 2020-03-04 | sembuh    | 0 |\n| 2020-03-04 | meninggal | 1 |\n| 2020-03-05 | aktif     | 2 |\n| 2020-03-05 | sembuh    | 0 |\n| 2020-03-05 | meninggal | 1 |\n\n",
            "text/latex": "A tibble: 9 × 3\n\\begin{tabular}{lll}\n tanggal & kategori & jumlah\\\\\n <date> & <chr> & <int>\\\\\n\\hline\n\t 2020-03-03 & aktif     & 0\\\\\n\t 2020-03-03 & sembuh    & 0\\\\\n\t 2020-03-03 & meninggal & 1\\\\\n\t 2020-03-04 & aktif     & 1\\\\\n\t 2020-03-04 & sembuh    & 0\\\\\n\t 2020-03-04 & meninggal & 1\\\\\n\t 2020-03-05 & aktif     & 2\\\\\n\t 2020-03-05 & sembuh    & 0\\\\\n\t 2020-03-05 & meninggal & 1\\\\\n\\end{tabular}\n",
            "text/plain": [
              "  tanggal    kategori  jumlah\n",
              "1 2020-03-03 aktif     0     \n",
              "2 2020-03-03 sembuh    0     \n",
              "3 2020-03-03 meninggal 1     \n",
              "4 2020-03-04 aktif     1     \n",
              "5 2020-03-04 sembuh    0     \n",
              "6 2020-03-04 meninggal 1     \n",
              "7 2020-03-05 aktif     2     \n",
              "8 2020-03-05 sembuh    0     \n",
              "9 2020-03-05 meninggal 1     "
            ]
          },
          "metadata": {}
        }
      ]
    },
    {
      "cell_type": "markdown",
      "source": [
        "#### [Tahap Terakhir](https://academy.dqlab.id/main/livecode/253/451/2282?pr=0)"
      ],
      "metadata": {
        "id": "4G4IbWyL4VIP"
      }
    },
    {
      "cell_type": "code",
      "source": [
        "ggplot(cov_jabar_akumulasi_pivot, aes(tanggal, jumlah, colour = (kategori))) +\n",
        "  geom_line(size = 0.9) +\n",
        "  scale_y_continuous(sec.axis = dup_axis(name = NULL)) +\n",
        "  scale_colour_manual(\n",
        "    values = c(\n",
        "      \"aktif\" = \"salmon\",\n",
        "      \"meninggal\" = \"darkslategray4\",\n",
        "      \"sembuh\" = \"olivedrab2\"\n",
        "    ),\n",
        "    labels = c(\"Aktif\", \"Meninggal\", \"Sembuh\")\n",
        "  ) +\n",
        "  labs(\n",
        "    x = NULL,\n",
        "    y = \"Jumlah kasus akumulasi\",\n",
        "    colour = NULL,\n",
        "    title = \"Dinamika Kasus COVID-19 di Jawa Barat\",\n",
        "    caption = \"Sumber data: covid.19.go.id\"\n",
        "  ) +\n",
        "  theme_ipsum(\n",
        "    base_size = 13,\n",
        "    plot_title_size = 21,\n",
        "    grid = \"Y\",\n",
        "    ticks = TRUE\n",
        "  ) +\n",
        "  theme(\n",
        "    plot.title = element_text(hjust = 0.5),\n",
        "    legend.position = \"top\"\n",
        "  )"
      ],
      "metadata": {
        "colab": {
          "base_uri": "https://localhost:8080/",
          "height": 437
        },
        "id": "zC9ud1n-4ZFL",
        "outputId": "51203040-f5f2-419c-dac8-3952e14c283b"
      },
      "execution_count": 40,
      "outputs": [
        {
          "output_type": "display_data",
          "data": {
            "text/plain": [
              "plot without title"
            ],
            "image/png": "[encoded data removed]"
          },
          "metadata": {
            "image/png": {
              "width": 420,
              "height": 420
            }
          }
        }
      ]
    }
  ]
}