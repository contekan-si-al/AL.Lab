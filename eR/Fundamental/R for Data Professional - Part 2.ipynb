{
  "nbformat": 4,
  "nbformat_minor": 0,
  "metadata": {
    "colab": {
      "provenance": [],
      "toc_visible": true
    },
    "kernelspec": {
      "name": "ir",
      "display_name": "R"
    },
    "language_info": {
      "name": "R"
    }
  },
  "cells": [
    {
      "cell_type": "markdown",
      "source": [
        "## Vektor dalam Bahasa R"
      ],
      "metadata": {
        "id": "3buO6yvdd7s8"
      }
    },
    {
      "cell_type": "markdown",
      "source": [
        "#### [Berlatih Membuat Vectors - Praktikum](https://academy.dqlab.id/main/livecode/344/725/3756?pr=0)"
      ],
      "metadata": {
        "id": "b6a0PwwGeGRJ"
      }
    },
    {
      "cell_type": "code",
      "source": [
        "#buat vector bernama my_numeric yang berisi angka 1 - 10\n",
        "my_numeric <- c(1, 2, 3, 4, 5, 6, 7, 8, 9, 10)"
      ],
      "metadata": {
        "id": "ILQYmZinfHLP"
      },
      "execution_count": 3,
      "outputs": []
    },
    {
      "cell_type": "code",
      "source": [
        "my_numeric"
      ],
      "metadata": {
        "colab": {
          "base_uri": "https://localhost:8080/",
          "height": 34
        },
        "id": "iaHEMFlNfHnI",
        "outputId": "b171cc0c-7636-4706-c9a9-8bfa5d9ba105"
      },
      "execution_count": 4,
      "outputs": [
        {
          "output_type": "display_data",
          "data": {
            "text/html": [
              "<style>\n",
              ".list-inline {list-style: none; margin:0; padding: 0}\n",
              ".list-inline>li {display: inline-block}\n",
              ".list-inline>li:not(:last-child)::after {content: \"\\00b7\"; padding: 0 .5ex}\n",
              "</style>\n",
              "<ol class=list-inline><li>1</li><li>2</li><li>3</li><li>4</li><li>5</li><li>6</li><li>7</li><li>8</li><li>9</li><li>10</li></ol>\n"
            ],
            "text/markdown": "1. 1\n2. 2\n3. 3\n4. 4\n5. 5\n6. 6\n7. 7\n8. 8\n9. 9\n10. 10\n\n\n",
            "text/latex": "\\begin{enumerate*}\n\\item 1\n\\item 2\n\\item 3\n\\item 4\n\\item 5\n\\item 6\n\\item 7\n\\item 8\n\\item 9\n\\item 10\n\\end{enumerate*}\n",
            "text/plain": [
              " [1]  1  2  3  4  5  6  7  8  9 10"
            ]
          },
          "metadata": {}
        }
      ]
    },
    {
      "cell_type": "code",
      "source": [
        "#buat vector bernama my_color yang berisi 'merah','kuning','hijau','biru','ungu'\n",
        "my_color <- c('merah', 'kuning', 'hijau', 'biru', 'ungu')"
      ],
      "metadata": {
        "id": "h0Wi5btxfHa9"
      },
      "execution_count": 5,
      "outputs": []
    },
    {
      "cell_type": "code",
      "source": [
        "my_color"
      ],
      "metadata": {
        "colab": {
          "base_uri": "https://localhost:8080/",
          "height": 34
        },
        "id": "VVovwIaDgN7t",
        "outputId": "166ce361-2897-43c2-d9c3-9ef1b634a1ee"
      },
      "execution_count": 6,
      "outputs": [
        {
          "output_type": "display_data",
          "data": {
            "text/html": [
              "<style>\n",
              ".list-inline {list-style: none; margin:0; padding: 0}\n",
              ".list-inline>li {display: inline-block}\n",
              ".list-inline>li:not(:last-child)::after {content: \"\\00b7\"; padding: 0 .5ex}\n",
              "</style>\n",
              "<ol class=list-inline><li>'merah'</li><li>'kuning'</li><li>'hijau'</li><li>'biru'</li><li>'ungu'</li></ol>\n"
            ],
            "text/markdown": "1. 'merah'\n2. 'kuning'\n3. 'hijau'\n4. 'biru'\n5. 'ungu'\n\n\n",
            "text/latex": "\\begin{enumerate*}\n\\item 'merah'\n\\item 'kuning'\n\\item 'hijau'\n\\item 'biru'\n\\item 'ungu'\n\\end{enumerate*}\n",
            "text/plain": [
              "[1] \"merah\"  \"kuning\" \"hijau\"  \"biru\"   \"ungu\"  "
            ]
          },
          "metadata": {}
        }
      ]
    },
    {
      "cell_type": "code",
      "source": [
        "#buat vector bernama my_logical yang berisi FALSE FALSE TRUE FALSE secara berurutan\n",
        "my_logical <- c(FALSE, FALSE, TRUE, FALSE)"
      ],
      "metadata": {
        "id": "5qGbFMnSgPxd"
      },
      "execution_count": 7,
      "outputs": []
    },
    {
      "cell_type": "code",
      "source": [
        "my_logical"
      ],
      "metadata": {
        "colab": {
          "base_uri": "https://localhost:8080/",
          "height": 34
        },
        "id": "q2InSU5ygPt0",
        "outputId": "b442d7b0-d4eb-4713-b338-bb36e32cbd8d"
      },
      "execution_count": 8,
      "outputs": [
        {
          "output_type": "display_data",
          "data": {
            "text/html": [
              "<style>\n",
              ".list-inline {list-style: none; margin:0; padding: 0}\n",
              ".list-inline>li {display: inline-block}\n",
              ".list-inline>li:not(:last-child)::after {content: \"\\00b7\"; padding: 0 .5ex}\n",
              "</style>\n",
              "<ol class=list-inline><li>FALSE</li><li>FALSE</li><li>TRUE</li><li>FALSE</li></ol>\n"
            ],
            "text/markdown": "1. FALSE\n2. FALSE\n3. TRUE\n4. FALSE\n\n\n",
            "text/latex": "\\begin{enumerate*}\n\\item FALSE\n\\item FALSE\n\\item TRUE\n\\item FALSE\n\\end{enumerate*}\n",
            "text/plain": [
              "[1] FALSE FALSE  TRUE FALSE"
            ]
          },
          "metadata": {}
        }
      ]
    },
    {
      "cell_type": "markdown",
      "source": [
        "#### [Membuat Vector dengan Menggunakan Sequential Numeric Vectors - Praktikum](https://academy.dqlab.id/main/livecode/344/725/3758?pr=0)"
      ],
      "metadata": {
        "id": "jIurnVgvglao"
      }
    },
    {
      "cell_type": "code",
      "source": [
        "#Buat Vector Bernama \"my_vector\" yang Berisi Angka 1 - 25 menggunakan sequential numeric vector\n",
        "my_vector <- c(1:25)"
      ],
      "metadata": {
        "id": "V1E6MqOegpLh"
      },
      "execution_count": 9,
      "outputs": []
    },
    {
      "cell_type": "code",
      "source": [
        "#Tampilkan isi dari my_vector\n",
        "my_vector"
      ],
      "metadata": {
        "colab": {
          "base_uri": "https://localhost:8080/",
          "height": 34
        },
        "id": "dPs652Lygpmb",
        "outputId": "20c61830-8e49-4ec0-9890-ab5305dd721d"
      },
      "execution_count": 10,
      "outputs": [
        {
          "output_type": "display_data",
          "data": {
            "text/html": [
              "<style>\n",
              ".list-inline {list-style: none; margin:0; padding: 0}\n",
              ".list-inline>li {display: inline-block}\n",
              ".list-inline>li:not(:last-child)::after {content: \"\\00b7\"; padding: 0 .5ex}\n",
              "</style>\n",
              "<ol class=list-inline><li>1</li><li>2</li><li>3</li><li>4</li><li>5</li><li>6</li><li>7</li><li>8</li><li>9</li><li>10</li><li>11</li><li>12</li><li>13</li><li>14</li><li>15</li><li>16</li><li>17</li><li>18</li><li>19</li><li>20</li><li>21</li><li>22</li><li>23</li><li>24</li><li>25</li></ol>\n"
            ],
            "text/markdown": "1. 1\n2. 2\n3. 3\n4. 4\n5. 5\n6. 6\n7. 7\n8. 8\n9. 9\n10. 10\n11. 11\n12. 12\n13. 13\n14. 14\n15. 15\n16. 16\n17. 17\n18. 18\n19. 19\n20. 20\n21. 21\n22. 22\n23. 23\n24. 24\n25. 25\n\n\n",
            "text/latex": "\\begin{enumerate*}\n\\item 1\n\\item 2\n\\item 3\n\\item 4\n\\item 5\n\\item 6\n\\item 7\n\\item 8\n\\item 9\n\\item 10\n\\item 11\n\\item 12\n\\item 13\n\\item 14\n\\item 15\n\\item 16\n\\item 17\n\\item 18\n\\item 19\n\\item 20\n\\item 21\n\\item 22\n\\item 23\n\\item 24\n\\item 25\n\\end{enumerate*}\n",
            "text/plain": [
              " [1]  1  2  3  4  5  6  7  8  9 10 11 12 13 14 15 16 17 18 19 20 21 22 23 24 25"
            ]
          },
          "metadata": {}
        }
      ]
    },
    {
      "cell_type": "markdown",
      "source": [
        "#### [Membuat Vector Menggunakan seq() dan rep() - Praktikum](https://academy.dqlab.id/main/livecode/344/725/3760?pr=0)"
      ],
      "metadata": {
        "id": "p31pBO-ZhHGA"
      }
    },
    {
      "cell_type": "code",
      "source": [
        "#vector_seq berisi angka 1 - 2 dengan interval 0.2\n",
        "vector_seq <- seq(1, 2, 0.2)\n",
        "vector_seq"
      ],
      "metadata": {
        "colab": {
          "base_uri": "https://localhost:8080/",
          "height": 34
        },
        "id": "ZGV1Kc5whKtc",
        "outputId": "0426e667-64f9-49a7-a118-7041f48a6d35"
      },
      "execution_count": 11,
      "outputs": [
        {
          "output_type": "display_data",
          "data": {
            "text/html": [
              "<style>\n",
              ".list-inline {list-style: none; margin:0; padding: 0}\n",
              ".list-inline>li {display: inline-block}\n",
              ".list-inline>li:not(:last-child)::after {content: \"\\00b7\"; padding: 0 .5ex}\n",
              "</style>\n",
              "<ol class=list-inline><li>1</li><li>1.2</li><li>1.4</li><li>1.6</li><li>1.8</li><li>2</li></ol>\n"
            ],
            "text/markdown": "1. 1\n2. 1.2\n3. 1.4\n4. 1.6\n5. 1.8\n6. 2\n\n\n",
            "text/latex": "\\begin{enumerate*}\n\\item 1\n\\item 1.2\n\\item 1.4\n\\item 1.6\n\\item 1.8\n\\item 2\n\\end{enumerate*}\n",
            "text/plain": [
              "[1] 1.0 1.2 1.4 1.6 1.8 2.0"
            ]
          },
          "metadata": {}
        }
      ]
    },
    {
      "cell_type": "code",
      "source": [
        "#my_vector berisi \"Belajar\", \"Data Science\", \"di DQLab\"\n",
        "my_vector <- c(\"Belajar\", \"Data Science\", \"di DQLab\")\n",
        "my_vector"
      ],
      "metadata": {
        "colab": {
          "base_uri": "https://localhost:8080/",
          "height": 34
        },
        "id": "Vaj9_WvqhRSU",
        "outputId": "26d45884-15ab-4568-931f-163ad33908de"
      },
      "execution_count": 12,
      "outputs": [
        {
          "output_type": "display_data",
          "data": {
            "text/html": [
              "<style>\n",
              ".list-inline {list-style: none; margin:0; padding: 0}\n",
              ".list-inline>li {display: inline-block}\n",
              ".list-inline>li:not(:last-child)::after {content: \"\\00b7\"; padding: 0 .5ex}\n",
              "</style>\n",
              "<ol class=list-inline><li>'Belajar'</li><li>'Data Science'</li><li>'di DQLab'</li></ol>\n"
            ],
            "text/markdown": "1. 'Belajar'\n2. 'Data Science'\n3. 'di DQLab'\n\n\n",
            "text/latex": "\\begin{enumerate*}\n\\item 'Belajar'\n\\item 'Data Science'\n\\item 'di DQLab'\n\\end{enumerate*}\n",
            "text/plain": [
              "[1] \"Belajar\"      \"Data Science\" \"di DQLab\"    "
            ]
          },
          "metadata": {}
        }
      ]
    },
    {
      "cell_type": "code",
      "source": [
        "#vector_rep berisi perulangan my_vector sebanyak 3 kali\n",
        "vector_rep <- rep(my_vector, 3)\n",
        "vector_rep"
      ],
      "metadata": {
        "colab": {
          "base_uri": "https://localhost:8080/",
          "height": 34
        },
        "id": "WKnhGeQ3hRB9",
        "outputId": "65388cf0-46cb-4b02-ba22-ee244bc9ee60"
      },
      "execution_count": 13,
      "outputs": [
        {
          "output_type": "display_data",
          "data": {
            "text/html": [
              "<style>\n",
              ".list-inline {list-style: none; margin:0; padding: 0}\n",
              ".list-inline>li {display: inline-block}\n",
              ".list-inline>li:not(:last-child)::after {content: \"\\00b7\"; padding: 0 .5ex}\n",
              "</style>\n",
              "<ol class=list-inline><li>'Belajar'</li><li>'Data Science'</li><li>'di DQLab'</li><li>'Belajar'</li><li>'Data Science'</li><li>'di DQLab'</li><li>'Belajar'</li><li>'Data Science'</li><li>'di DQLab'</li></ol>\n"
            ],
            "text/markdown": "1. 'Belajar'\n2. 'Data Science'\n3. 'di DQLab'\n4. 'Belajar'\n5. 'Data Science'\n6. 'di DQLab'\n7. 'Belajar'\n8. 'Data Science'\n9. 'di DQLab'\n\n\n",
            "text/latex": "\\begin{enumerate*}\n\\item 'Belajar'\n\\item 'Data Science'\n\\item 'di DQLab'\n\\item 'Belajar'\n\\item 'Data Science'\n\\item 'di DQLab'\n\\item 'Belajar'\n\\item 'Data Science'\n\\item 'di DQLab'\n\\end{enumerate*}\n",
            "text/plain": [
              "[1] \"Belajar\"      \"Data Science\" \"di DQLab\"     \"Belajar\"      \"Data Science\"\n",
              "[6] \"di DQLab\"     \"Belajar\"      \"Data Science\" \"di DQLab\"    "
            ]
          },
          "metadata": {}
        }
      ]
    },
    {
      "cell_type": "markdown",
      "source": [
        "## Ayo Bantu Andra!"
      ],
      "metadata": {
        "id": "1AcYOnqRd-51"
      }
    },
    {
      "cell_type": "markdown",
      "source": [
        "#### [Berapa Jam Kerja Andra Selama 5 Hari Ini? - Praktikum](https://academy.dqlab.id/main/livecode/344/726/3761?pr=0)"
      ],
      "metadata": {
        "id": "NNjAEAYWjcWh"
      }
    },
    {
      "cell_type": "code",
      "source": [
        "#Masukkan nama hari dari Senin - Jumat\n",
        "nama_hari <- c(\"Senin\", \"Selasa\", \"Rabu\", \"Kamis\", \"Jumat\")"
      ],
      "metadata": {
        "id": "Dz2bA7sEjg15"
      },
      "execution_count": 14,
      "outputs": []
    },
    {
      "cell_type": "code",
      "source": [
        "nama_hari"
      ],
      "metadata": {
        "colab": {
          "base_uri": "https://localhost:8080/",
          "height": 34
        },
        "id": "8P4HUUXCjhQj",
        "outputId": "e76d0397-f48c-4bdd-a473-1f158699bb78"
      },
      "execution_count": 15,
      "outputs": [
        {
          "output_type": "display_data",
          "data": {
            "text/html": [
              "<style>\n",
              ".list-inline {list-style: none; margin:0; padding: 0}\n",
              ".list-inline>li {display: inline-block}\n",
              ".list-inline>li:not(:last-child)::after {content: \"\\00b7\"; padding: 0 .5ex}\n",
              "</style>\n",
              "<ol class=list-inline><li>'Senin'</li><li>'Selasa'</li><li>'Rabu'</li><li>'Kamis'</li><li>'Jumat'</li></ol>\n"
            ],
            "text/markdown": "1. 'Senin'\n2. 'Selasa'\n3. 'Rabu'\n4. 'Kamis'\n5. 'Jumat'\n\n\n",
            "text/latex": "\\begin{enumerate*}\n\\item 'Senin'\n\\item 'Selasa'\n\\item 'Rabu'\n\\item 'Kamis'\n\\item 'Jumat'\n\\end{enumerate*}\n",
            "text/plain": [
              "[1] \"Senin\"  \"Selasa\" \"Rabu\"   \"Kamis\"  \"Jumat\" "
            ]
          },
          "metadata": {}
        }
      ]
    },
    {
      "cell_type": "code",
      "source": [
        "#Masukkan jam kerja berurutan dari jam kerja di hari senin\n",
        "jam_kerja <- c(8, 7.5, 10, 7, 7.5)"
      ],
      "metadata": {
        "id": "6ADWOxWYjhJX"
      },
      "execution_count": 16,
      "outputs": []
    },
    {
      "cell_type": "code",
      "source": [
        "jam_kerja"
      ],
      "metadata": {
        "colab": {
          "base_uri": "https://localhost:8080/",
          "height": 34
        },
        "id": "eVazn0LljhBw",
        "outputId": "47d9f9cc-4d5a-42c1-f780-ea2a6fa2cc27"
      },
      "execution_count": 17,
      "outputs": [
        {
          "output_type": "display_data",
          "data": {
            "text/html": [
              "<style>\n",
              ".list-inline {list-style: none; margin:0; padding: 0}\n",
              ".list-inline>li {display: inline-block}\n",
              ".list-inline>li:not(:last-child)::after {content: \"\\00b7\"; padding: 0 .5ex}\n",
              "</style>\n",
              "<ol class=list-inline><li>8</li><li>7.5</li><li>10</li><li>7</li><li>7.5</li></ol>\n"
            ],
            "text/markdown": "1. 8\n2. 7.5\n3. 10\n4. 7\n5. 7.5\n\n\n",
            "text/latex": "\\begin{enumerate*}\n\\item 8\n\\item 7.5\n\\item 10\n\\item 7\n\\item 7.5\n\\end{enumerate*}\n",
            "text/plain": [
              "[1]  8.0  7.5 10.0  7.0  7.5"
            ]
          },
          "metadata": {}
        }
      ]
    },
    {
      "cell_type": "markdown",
      "source": [
        "#### [Memberikan Nama Pada Tiap Element Vector - Praktikum](https://academy.dqlab.id/main/livecode/344/726/3762?pr=0)"
      ],
      "metadata": {
        "id": "Fiv2mnZkkUSB"
      }
    },
    {
      "cell_type": "code",
      "source": [
        "#Masukkan nama hari dari Senin - Jumat\n",
        "nama_hari <- c(\"Senin\",\"Selasa\",\"Rabu\",\"Kamis\",\"Jumat\")"
      ],
      "metadata": {
        "id": "g8NYVs1tkXyh"
      },
      "execution_count": 18,
      "outputs": []
    },
    {
      "cell_type": "code",
      "source": [
        "#Masukkan jam kerja berurutan dari jam kerja di hari senin\n",
        "jam_kerja <- c(8, 7.5, 10, 7, 7.5)"
      ],
      "metadata": {
        "id": "H4F8n60DkZi-"
      },
      "execution_count": 19,
      "outputs": []
    },
    {
      "cell_type": "code",
      "source": [
        "#Memberikan nama pada vector jam_kerja\n",
        "names(nama_hari) <- jam_kerja"
      ],
      "metadata": {
        "id": "wgXGAfIDkZdM"
      },
      "execution_count": 20,
      "outputs": []
    },
    {
      "cell_type": "code",
      "source": [
        "#Tampilkan isi jam_kerja sekarang\n",
        "nama_hari"
      ],
      "metadata": {
        "colab": {
          "base_uri": "https://localhost:8080/",
          "height": 34
        },
        "id": "BsjWao6VkZWc",
        "outputId": "12d40c74-98b9-418a-8925-0ac973cde107"
      },
      "execution_count": 22,
      "outputs": [
        {
          "output_type": "display_data",
          "data": {
            "text/html": [
              "<style>\n",
              ".dl-inline {width: auto; margin:0; padding: 0}\n",
              ".dl-inline>dt, .dl-inline>dd {float: none; width: auto; display: inline-block}\n",
              ".dl-inline>dt::after {content: \":\\0020\"; padding-right: .5ex}\n",
              ".dl-inline>dt:not(:first-of-type) {padding-left: .5ex}\n",
              "</style><dl class=dl-inline><dt>8</dt><dd>'Senin'</dd><dt>7.5</dt><dd>'Selasa'</dd><dt>10</dt><dd>'Rabu'</dd><dt>7</dt><dd>'Kamis'</dd><dt>7.5</dt><dd>'Jumat'</dd></dl>\n"
            ],
            "text/markdown": "8\n:   'Senin'7.5\n:   'Selasa'10\n:   'Rabu'7\n:   'Kamis'7.5\n:   'Jumat'\n\n",
            "text/latex": "\\begin{description*}\n\\item[8] 'Senin'\n\\item[7.5] 'Selasa'\n\\item[10] 'Rabu'\n\\item[7] 'Kamis'\n\\item[7.5] 'Jumat'\n\\end{description*}\n",
            "text/plain": [
              "       8      7.5       10        7      7.5 \n",
              " \"Senin\" \"Selasa\"   \"Rabu\"  \"Kamis\"  \"Jumat\" "
            ]
          },
          "metadata": {}
        }
      ]
    },
    {
      "cell_type": "markdown",
      "source": [
        "#### [Mencoba Function pada Vector - Praktikum](https://academy.dqlab.id/main/livecode/344/726/3764?pr=0)"
      ],
      "metadata": {
        "id": "83m28F4emhW2"
      }
    },
    {
      "cell_type": "code",
      "source": [
        "#Membuat vector berisi 7 angka dengan menggunakan function rnorm()\n",
        "my_vector <- rnorm(7, mean = 0, sd = 1)"
      ],
      "metadata": {
        "id": "F9BXxIfpmlPF"
      },
      "execution_count": 23,
      "outputs": []
    },
    {
      "cell_type": "code",
      "source": [
        "#Tampilkan isi my_vector\n",
        "my_vector"
      ],
      "metadata": {
        "colab": {
          "base_uri": "https://localhost:8080/",
          "height": 34
        },
        "id": "o23xcGbenReY",
        "outputId": "8dbb1895-2be0-4720-b043-04062142eae9"
      },
      "execution_count": 24,
      "outputs": [
        {
          "output_type": "display_data",
          "data": {
            "text/html": [
              "<style>\n",
              ".list-inline {list-style: none; margin:0; padding: 0}\n",
              ".list-inline>li {display: inline-block}\n",
              ".list-inline>li:not(:last-child)::after {content: \"\\00b7\"; padding: 0 .5ex}\n",
              "</style>\n",
              "<ol class=list-inline><li>-0.669946421845836</li><li>-0.694885801770032</li><li>1.24430515573244</li><li>-0.819938925579671</li><li>0.76605624888606</li><li>-0.707422639040686</li><li>1.03091949846563</li></ol>\n"
            ],
            "text/markdown": "1. -0.669946421845836\n2. -0.694885801770032\n3. 1.24430515573244\n4. -0.819938925579671\n5. 0.76605624888606\n6. -0.707422639040686\n7. 1.03091949846563\n\n\n",
            "text/latex": "\\begin{enumerate*}\n\\item -0.669946421845836\n\\item -0.694885801770032\n\\item 1.24430515573244\n\\item -0.819938925579671\n\\item 0.76605624888606\n\\item -0.707422639040686\n\\item 1.03091949846563\n\\end{enumerate*}\n",
            "text/plain": [
              "[1] -0.6699464 -0.6948858  1.2443052 -0.8199389  0.7660562 -0.7074226  1.0309195"
            ]
          },
          "metadata": {}
        }
      ]
    },
    {
      "cell_type": "code",
      "source": [
        "#Aplikasikan function rev(x) pada my_vector\n",
        "rev(my_vector)"
      ],
      "metadata": {
        "colab": {
          "base_uri": "https://localhost:8080/",
          "height": 34
        },
        "id": "aGUyTKRcnSkc",
        "outputId": "a5533242-2d55-4392-f151-893f915b4360"
      },
      "execution_count": 25,
      "outputs": [
        {
          "output_type": "display_data",
          "data": {
            "text/html": [
              "<style>\n",
              ".list-inline {list-style: none; margin:0; padding: 0}\n",
              ".list-inline>li {display: inline-block}\n",
              ".list-inline>li:not(:last-child)::after {content: \"\\00b7\"; padding: 0 .5ex}\n",
              "</style>\n",
              "<ol class=list-inline><li>1.03091949846563</li><li>-0.707422639040686</li><li>0.76605624888606</li><li>-0.819938925579671</li><li>1.24430515573244</li><li>-0.694885801770032</li><li>-0.669946421845836</li></ol>\n"
            ],
            "text/markdown": "1. 1.03091949846563\n2. -0.707422639040686\n3. 0.76605624888606\n4. -0.819938925579671\n5. 1.24430515573244\n6. -0.694885801770032\n7. -0.669946421845836\n\n\n",
            "text/latex": "\\begin{enumerate*}\n\\item 1.03091949846563\n\\item -0.707422639040686\n\\item 0.76605624888606\n\\item -0.819938925579671\n\\item 1.24430515573244\n\\item -0.694885801770032\n\\item -0.669946421845836\n\\end{enumerate*}\n",
            "text/plain": [
              "[1]  1.0309195 -0.7074226  0.7660562 -0.8199389  1.2443052 -0.6948858 -0.6699464"
            ]
          },
          "metadata": {}
        }
      ]
    },
    {
      "cell_type": "code",
      "source": [
        "#Aplikasikan function max(x) pada my_vector\n",
        "max(my_vector)"
      ],
      "metadata": {
        "colab": {
          "base_uri": "https://localhost:8080/",
          "height": 34
        },
        "id": "KLOPBXjpnWEF",
        "outputId": "6b861319-0265-4812-8b6c-82323f3b40fd"
      },
      "execution_count": 26,
      "outputs": [
        {
          "output_type": "display_data",
          "data": {
            "text/html": [
              "1.24430515573244"
            ],
            "text/markdown": "1.24430515573244",
            "text/latex": "1.24430515573244",
            "text/plain": [
              "[1] 1.244305"
            ]
          },
          "metadata": {}
        }
      ]
    },
    {
      "cell_type": "code",
      "source": [
        "#Aplikasikan function min(x) pada my_vector\n",
        "min(my_vector)"
      ],
      "metadata": {
        "colab": {
          "base_uri": "https://localhost:8080/",
          "height": 34
        },
        "id": "WLJeRzTpnX7j",
        "outputId": "81af32ad-bf3e-4207-d7a7-369351b3fe96"
      },
      "execution_count": 27,
      "outputs": [
        {
          "output_type": "display_data",
          "data": {
            "text/html": [
              "-0.819938925579671"
            ],
            "text/markdown": "-0.819938925579671",
            "text/latex": "-0.819938925579671",
            "text/plain": [
              "[1] -0.8199389"
            ]
          },
          "metadata": {}
        }
      ]
    },
    {
      "cell_type": "code",
      "source": [
        "#Aplikasikan function mean(x) pada my_vector\n",
        "mean(my_vector)"
      ],
      "metadata": {
        "colab": {
          "base_uri": "https://localhost:8080/",
          "height": 34
        },
        "id": "J3PQ4SQonaL2",
        "outputId": "d3bdb9fb-677d-4e11-f1fa-3e579a82c22e"
      },
      "execution_count": 28,
      "outputs": [
        {
          "output_type": "display_data",
          "data": {
            "text/html": [
              "0.0212981592639875"
            ],
            "text/markdown": "0.0212981592639875",
            "text/latex": "0.0212981592639875",
            "text/plain": [
              "[1] 0.02129816"
            ]
          },
          "metadata": {}
        }
      ]
    },
    {
      "cell_type": "code",
      "source": [
        "#Aplikasikan function diff(x) pada my_vector\n",
        "diff(my_vector)"
      ],
      "metadata": {
        "colab": {
          "base_uri": "https://localhost:8080/",
          "height": 34
        },
        "id": "aTh86yr1nb-L",
        "outputId": "e9ea3229-ddae-440f-e05a-598036a23fd1"
      },
      "execution_count": 29,
      "outputs": [
        {
          "output_type": "display_data",
          "data": {
            "text/html": [
              "<style>\n",
              ".list-inline {list-style: none; margin:0; padding: 0}\n",
              ".list-inline>li {display: inline-block}\n",
              ".list-inline>li:not(:last-child)::after {content: \"\\00b7\"; padding: 0 .5ex}\n",
              "</style>\n",
              "<ol class=list-inline><li>-0.0249393799241959</li><li>1.93919095750248</li><li>-2.06424408131212</li><li>1.58599517446573</li><li>-1.47347888792675</li><li>1.73834213750632</li></ol>\n"
            ],
            "text/markdown": "1. -0.0249393799241959\n2. 1.93919095750248\n3. -2.06424408131212\n4. 1.58599517446573\n5. -1.47347888792675\n6. 1.73834213750632\n\n\n",
            "text/latex": "\\begin{enumerate*}\n\\item -0.0249393799241959\n\\item 1.93919095750248\n\\item -2.06424408131212\n\\item 1.58599517446573\n\\item -1.47347888792675\n\\item 1.73834213750632\n\\end{enumerate*}\n",
            "text/plain": [
              "[1] -0.02493938  1.93919096 -2.06424408  1.58599517 -1.47347889  1.73834214"
            ]
          },
          "metadata": {}
        }
      ]
    },
    {
      "cell_type": "code",
      "source": [
        "#Aplikasikan function sum(x) pada my_vector\n",
        "sum(my_vector)"
      ],
      "metadata": {
        "colab": {
          "base_uri": "https://localhost:8080/",
          "height": 34
        },
        "id": "b2iOGuNSnd09",
        "outputId": "ad1939d2-ca03-4052-868b-b88a15b04b81"
      },
      "execution_count": 30,
      "outputs": [
        {
          "output_type": "display_data",
          "data": {
            "text/html": [
              "0.149087114847912"
            ],
            "text/markdown": "0.149087114847912",
            "text/latex": "0.149087114847912",
            "text/plain": [
              "[1] 0.1490871"
            ]
          },
          "metadata": {}
        }
      ]
    },
    {
      "cell_type": "markdown",
      "source": [
        "#### [Berapa Lama Jam Kerja Andra di Minggu ini? - Praktikum](https://academy.dqlab.id/main/livecode/344/726/3765?pr=0)"
      ],
      "metadata": {
        "id": "DjIQtBc3nmM2"
      }
    },
    {
      "cell_type": "code",
      "source": [
        "#Masukkan nama hari dari Senin - Jumat\n",
        "nama_hari <- c(\"Senin\",\"Selasa\",\"Rabu\",\"Kamis\",\"Jumat\")"
      ],
      "metadata": {
        "id": "0nPZ7CRsnqZP"
      },
      "execution_count": 31,
      "outputs": []
    },
    {
      "cell_type": "code",
      "source": [
        "#Masukkan jam kerja berurutan dari jam kerja di hari senin\n",
        "jam_kerja <- c(8, 7.5, 10, 7, 7.5)"
      ],
      "metadata": {
        "id": "TjqIhpyqpjIr"
      },
      "execution_count": 32,
      "outputs": []
    },
    {
      "cell_type": "code",
      "source": [
        "#Memberikan nama pada vector jam_kerja\n",
        "names(jam_kerja) <- nama_hari"
      ],
      "metadata": {
        "id": "1b2BBk5BpmnA"
      },
      "execution_count": 33,
      "outputs": []
    },
    {
      "cell_type": "code",
      "source": [
        "#Tampilkan isi jam_kerja sekarang\n",
        "jam_kerja"
      ],
      "metadata": {
        "colab": {
          "base_uri": "https://localhost:8080/",
          "height": 34
        },
        "id": "SN10aeljpnfQ",
        "outputId": "a86ab4f3-447b-4b4a-f00c-5bd667f5c24a"
      },
      "execution_count": 34,
      "outputs": [
        {
          "output_type": "display_data",
          "data": {
            "text/html": [
              "<style>\n",
              ".dl-inline {width: auto; margin:0; padding: 0}\n",
              ".dl-inline>dt, .dl-inline>dd {float: none; width: auto; display: inline-block}\n",
              ".dl-inline>dt::after {content: \":\\0020\"; padding-right: .5ex}\n",
              ".dl-inline>dt:not(:first-of-type) {padding-left: .5ex}\n",
              "</style><dl class=dl-inline><dt>Senin</dt><dd>8</dd><dt>Selasa</dt><dd>7.5</dd><dt>Rabu</dt><dd>10</dd><dt>Kamis</dt><dd>7</dd><dt>Jumat</dt><dd>7.5</dd></dl>\n"
            ],
            "text/markdown": "Senin\n:   8Selasa\n:   7.5Rabu\n:   10Kamis\n:   7Jumat\n:   7.5\n\n",
            "text/latex": "\\begin{description*}\n\\item[Senin] 8\n\\item[Selasa] 7.5\n\\item[Rabu] 10\n\\item[Kamis] 7\n\\item[Jumat] 7.5\n\\end{description*}\n",
            "text/plain": [
              " Senin Selasa   Rabu  Kamis  Jumat \n",
              "   8.0    7.5   10.0    7.0    7.5 "
            ]
          },
          "metadata": {}
        }
      ]
    },
    {
      "cell_type": "code",
      "source": [
        "#Berapa total jam kerja Andra?\n",
        "sum(jam_kerja)"
      ],
      "metadata": {
        "colab": {
          "base_uri": "https://localhost:8080/",
          "height": 34
        },
        "id": "bQF65oVnpr2j",
        "outputId": "60cb2814-27ff-446d-80e7-3fbe10ac2df0"
      },
      "execution_count": 35,
      "outputs": [
        {
          "output_type": "display_data",
          "data": {
            "text/html": [
              "40"
            ],
            "text/markdown": "40",
            "text/latex": "40",
            "text/plain": [
              "[1] 40"
            ]
          },
          "metadata": {}
        }
      ]
    },
    {
      "cell_type": "code",
      "source": [
        "#Berapa durasi terlama Andra bekerja di minggu ini?\n",
        "max(jam_kerja)"
      ],
      "metadata": {
        "colab": {
          "base_uri": "https://localhost:8080/",
          "height": 34
        },
        "id": "LVq-raYfpttD",
        "outputId": "d861974d-17f6-4286-82c4-b5ef896057b8"
      },
      "execution_count": 36,
      "outputs": [
        {
          "output_type": "display_data",
          "data": {
            "text/html": [
              "10"
            ],
            "text/markdown": "10",
            "text/latex": "10",
            "text/plain": [
              "[1] 10"
            ]
          },
          "metadata": {}
        }
      ]
    },
    {
      "cell_type": "code",
      "source": [
        "#Berapa durasi terlama Andra terlambat di minggu ini?\n",
        "8 - min(jam_kerja)"
      ],
      "metadata": {
        "colab": {
          "base_uri": "https://localhost:8080/",
          "height": 34
        },
        "id": "OmeW2c2Kpvyg",
        "outputId": "beeaf42f-c27d-479d-f216-9708b49ff392"
      },
      "execution_count": 37,
      "outputs": [
        {
          "output_type": "display_data",
          "data": {
            "text/html": [
              "1"
            ],
            "text/markdown": "1",
            "text/latex": "1",
            "text/plain": [
              "[1] 1"
            ]
          },
          "metadata": {}
        }
      ]
    },
    {
      "cell_type": "code",
      "source": [
        "#Berapa selisih antara jam kerja terlama dan terpendek Andra?\n",
        "max(jam_kerja) - min(jam_kerja)"
      ],
      "metadata": {
        "colab": {
          "base_uri": "https://localhost:8080/",
          "height": 34
        },
        "id": "njcFcZS5pwyl",
        "outputId": "2bcfb8ee-45b4-4e76-b317-7fd39e784383"
      },
      "execution_count": 38,
      "outputs": [
        {
          "output_type": "display_data",
          "data": {
            "text/html": [
              "3"
            ],
            "text/markdown": "3",
            "text/latex": "3",
            "text/plain": [
              "[1] 3"
            ]
          },
          "metadata": {}
        }
      ]
    },
    {
      "cell_type": "markdown",
      "source": [
        "#### [Mencoba Mengakses Element pada Vector - Praktikum](https://academy.dqlab.id/main/livecode/344/726/3768?pr=0)"
      ],
      "metadata": {
        "id": "LO1g5ZzXqRL7"
      }
    },
    {
      "cell_type": "code",
      "source": [
        "#Jam kerja Andra di hari Senin\n",
        "jam_kerja[1]"
      ],
      "metadata": {
        "colab": {
          "base_uri": "https://localhost:8080/",
          "height": 34
        },
        "id": "pxALWjvgqU8E",
        "outputId": "c61816f6-7d70-464b-8320-075647d2390c"
      },
      "execution_count": 39,
      "outputs": [
        {
          "output_type": "display_data",
          "data": {
            "text/html": [
              "<strong>Senin:</strong> 8"
            ],
            "text/markdown": "**Senin:** 8",
            "text/latex": "\\textbf{Senin:} 8",
            "text/plain": [
              "Senin \n",
              "    8 "
            ]
          },
          "metadata": {}
        }
      ]
    },
    {
      "cell_type": "code",
      "source": [
        "#Jam kerja Andra di hari Senin - Rabu\n",
        "jam_kerja[1:3]"
      ],
      "metadata": {
        "colab": {
          "base_uri": "https://localhost:8080/",
          "height": 34
        },
        "id": "oebOQDCEq0KR",
        "outputId": "7c3a595e-8b69-4973-a28d-554b9056a778"
      },
      "execution_count": 40,
      "outputs": [
        {
          "output_type": "display_data",
          "data": {
            "text/html": [
              "<style>\n",
              ".dl-inline {width: auto; margin:0; padding: 0}\n",
              ".dl-inline>dt, .dl-inline>dd {float: none; width: auto; display: inline-block}\n",
              ".dl-inline>dt::after {content: \":\\0020\"; padding-right: .5ex}\n",
              ".dl-inline>dt:not(:first-of-type) {padding-left: .5ex}\n",
              "</style><dl class=dl-inline><dt>Senin</dt><dd>8</dd><dt>Selasa</dt><dd>7.5</dd><dt>Rabu</dt><dd>10</dd></dl>\n"
            ],
            "text/markdown": "Senin\n:   8Selasa\n:   7.5Rabu\n:   10\n\n",
            "text/latex": "\\begin{description*}\n\\item[Senin] 8\n\\item[Selasa] 7.5\n\\item[Rabu] 10\n\\end{description*}\n",
            "text/plain": [
              " Senin Selasa   Rabu \n",
              "   8.0    7.5   10.0 "
            ]
          },
          "metadata": {}
        }
      ]
    },
    {
      "cell_type": "code",
      "source": [
        "#Jam kerja Andra di hari Senin, Rabu, Jumat\n",
        "jam_kerja[c(1, 3, 5)]"
      ],
      "metadata": {
        "colab": {
          "base_uri": "https://localhost:8080/",
          "height": 34
        },
        "id": "D_8x4wErq2bb",
        "outputId": "e3f9e56c-7e47-47ec-9992-3bf0076bc861"
      },
      "execution_count": 41,
      "outputs": [
        {
          "output_type": "display_data",
          "data": {
            "text/html": [
              "<style>\n",
              ".dl-inline {width: auto; margin:0; padding: 0}\n",
              ".dl-inline>dt, .dl-inline>dd {float: none; width: auto; display: inline-block}\n",
              ".dl-inline>dt::after {content: \":\\0020\"; padding-right: .5ex}\n",
              ".dl-inline>dt:not(:first-of-type) {padding-left: .5ex}\n",
              "</style><dl class=dl-inline><dt>Senin</dt><dd>8</dd><dt>Rabu</dt><dd>10</dd><dt>Jumat</dt><dd>7.5</dd></dl>\n"
            ],
            "text/markdown": "Senin\n:   8Rabu\n:   10Jumat\n:   7.5\n\n",
            "text/latex": "\\begin{description*}\n\\item[Senin] 8\n\\item[Rabu] 10\n\\item[Jumat] 7.5\n\\end{description*}\n",
            "text/plain": [
              "Senin  Rabu Jumat \n",
              "  8.0  10.0   7.5 "
            ]
          },
          "metadata": {}
        }
      ]
    },
    {
      "cell_type": "markdown",
      "source": [
        "#### [Mengakses Element pada Vector dengan Menggunakan Nama - Praktikum](https://academy.dqlab.id/main/livecode/344/726/3769?pr=0)"
      ],
      "metadata": {
        "id": "1sX284vZq84J"
      }
    },
    {
      "cell_type": "code",
      "source": [
        "#Jam kerja Andra di hari Senin menggunakan nama\n",
        "jam_kerja[\"Senin\"]"
      ],
      "metadata": {
        "colab": {
          "base_uri": "https://localhost:8080/",
          "height": 34
        },
        "id": "WHxng40TrByV",
        "outputId": "df9d9c64-8183-46bf-a0d6-82c2eadba02e"
      },
      "execution_count": 42,
      "outputs": [
        {
          "output_type": "display_data",
          "data": {
            "text/html": [
              "<strong>Senin:</strong> 8"
            ],
            "text/markdown": "**Senin:** 8",
            "text/latex": "\\textbf{Senin:} 8",
            "text/plain": [
              "Senin \n",
              "    8 "
            ]
          },
          "metadata": {}
        }
      ]
    },
    {
      "cell_type": "code",
      "source": [
        "#Jam kerja Andra di hari Senin, Rabu, dan Jumat menggunakan nama\n",
        "jam_kerja[c(\"Senin\", \"Rabu\", \"Jumat\")]"
      ],
      "metadata": {
        "colab": {
          "base_uri": "https://localhost:8080/",
          "height": 34
        },
        "id": "TNQhtmpSrCBh",
        "outputId": "af19014d-be86-4880-fb4a-a5b35e64bbcc"
      },
      "execution_count": 43,
      "outputs": [
        {
          "output_type": "display_data",
          "data": {
            "text/html": [
              "<style>\n",
              ".dl-inline {width: auto; margin:0; padding: 0}\n",
              ".dl-inline>dt, .dl-inline>dd {float: none; width: auto; display: inline-block}\n",
              ".dl-inline>dt::after {content: \":\\0020\"; padding-right: .5ex}\n",
              ".dl-inline>dt:not(:first-of-type) {padding-left: .5ex}\n",
              "</style><dl class=dl-inline><dt>Senin</dt><dd>8</dd><dt>Rabu</dt><dd>10</dd><dt>Jumat</dt><dd>7.5</dd></dl>\n"
            ],
            "text/markdown": "Senin\n:   8Rabu\n:   10Jumat\n:   7.5\n\n",
            "text/latex": "\\begin{description*}\n\\item[Senin] 8\n\\item[Rabu] 10\n\\item[Jumat] 7.5\n\\end{description*}\n",
            "text/plain": [
              "Senin  Rabu Jumat \n",
              "  8.0  10.0   7.5 "
            ]
          },
          "metadata": {}
        }
      ]
    },
    {
      "cell_type": "code",
      "source": [
        "#Selisih jam kerja Andra di hari Senin dengan hari Rabu\n",
        "jam_kerja[\"Senin\"] - jam_kerja[\"Rabu\"]"
      ],
      "metadata": {
        "colab": {
          "base_uri": "https://localhost:8080/",
          "height": 34
        },
        "id": "r3lUXaBdrB6Y",
        "outputId": "e743b851-67a6-461e-ccc0-80c5533da7fc"
      },
      "execution_count": 44,
      "outputs": [
        {
          "output_type": "display_data",
          "data": {
            "text/html": [
              "<strong>Senin:</strong> -2"
            ],
            "text/markdown": "**Senin:** -2",
            "text/latex": "\\textbf{Senin:} -2",
            "text/plain": [
              "Senin \n",
              "   -2 "
            ]
          },
          "metadata": {}
        }
      ]
    },
    {
      "cell_type": "markdown",
      "source": [
        "#### [Mengakses Element pada Vector dengan Kondisi Logical Tertentu - Praktikum](https://academy.dqlab.id/main/livecode/344/726/3770?pr=0)"
      ],
      "metadata": {
        "id": "vhF4KvNRrr1Z"
      }
    },
    {
      "cell_type": "code",
      "source": [
        "#Tampilkan jam_kerja yang lebih kecil dibanding dengan jam kerja normal\n",
        "jam_kerja[jam_kerja < 8]"
      ],
      "metadata": {
        "colab": {
          "base_uri": "https://localhost:8080/",
          "height": 34
        },
        "id": "fLzqZC28rva3",
        "outputId": "3fa2efe8-0c7b-4506-cbaa-c21ed815b234"
      },
      "execution_count": 45,
      "outputs": [
        {
          "output_type": "display_data",
          "data": {
            "text/html": [
              "<style>\n",
              ".dl-inline {width: auto; margin:0; padding: 0}\n",
              ".dl-inline>dt, .dl-inline>dd {float: none; width: auto; display: inline-block}\n",
              ".dl-inline>dt::after {content: \":\\0020\"; padding-right: .5ex}\n",
              ".dl-inline>dt:not(:first-of-type) {padding-left: .5ex}\n",
              "</style><dl class=dl-inline><dt>Selasa</dt><dd>7.5</dd><dt>Kamis</dt><dd>7</dd><dt>Jumat</dt><dd>7.5</dd></dl>\n"
            ],
            "text/markdown": "Selasa\n:   7.5Kamis\n:   7Jumat\n:   7.5\n\n",
            "text/latex": "\\begin{description*}\n\\item[Selasa] 7.5\n\\item[Kamis] 7\n\\item[Jumat] 7.5\n\\end{description*}\n",
            "text/plain": [
              "Selasa  Kamis  Jumat \n",
              "   7.5    7.0    7.5 "
            ]
          },
          "metadata": {}
        }
      ]
    },
    {
      "cell_type": "code",
      "source": [
        "#Tampilkan jam_kerja yang lebih besar dibanding dengan jam kerja normal\n",
        "jam_kerja[jam_kerja > 8]"
      ],
      "metadata": {
        "colab": {
          "base_uri": "https://localhost:8080/",
          "height": 34
        },
        "id": "AFKnMApMrwwN",
        "outputId": "5205c7a8-320a-4b7f-c73e-761737ab5178"
      },
      "execution_count": 46,
      "outputs": [
        {
          "output_type": "display_data",
          "data": {
            "text/html": [
              "<strong>Rabu:</strong> 10"
            ],
            "text/markdown": "**Rabu:** 10",
            "text/latex": "\\textbf{Rabu:} 10",
            "text/plain": [
              "Rabu \n",
              "  10 "
            ]
          },
          "metadata": {}
        }
      ]
    },
    {
      "cell_type": "markdown",
      "source": [
        "## Mini Project"
      ],
      "metadata": {
        "id": "xPahjuO1eDSs"
      }
    },
    {
      "cell_type": "markdown",
      "source": [
        "#### [Mini Project](https://academy.dqlab.id/main/livecode/344/836/3771?pr=0)"
      ],
      "metadata": {
        "id": "j8Qx9gzXsM-5"
      }
    },
    {
      "cell_type": "code",
      "source": [
        "#variable sisa_cuti\n",
        "sisa_cuti <- c(13,10,6,12,7)"
      ],
      "metadata": {
        "id": "LcltMoQ6sQcw"
      },
      "execution_count": 47,
      "outputs": []
    },
    {
      "cell_type": "code",
      "source": [
        "#variable nama_karyawan\n",
        "nama_karyawan <- c(\"Senja\",\"Aksara\",\"Antara\",\"Kroma\",\"Andra\")"
      ],
      "metadata": {
        "id": "AsrZzYI1sXJQ"
      },
      "execution_count": 48,
      "outputs": []
    },
    {
      "cell_type": "code",
      "source": [
        "#memberi nama pada sisa_cuti\n",
        "names(sisa_cuti) <- nama_karyawan"
      ],
      "metadata": {
        "id": "q5VL1msxsXDj"
      },
      "execution_count": 49,
      "outputs": []
    },
    {
      "cell_type": "code",
      "source": [
        "sisa_cuti"
      ],
      "metadata": {
        "colab": {
          "base_uri": "https://localhost:8080/",
          "height": 34
        },
        "id": "6RuU1qs9sW_4",
        "outputId": "0631577c-9fcc-45c5-f6bd-9a34263e4e24"
      },
      "execution_count": 50,
      "outputs": [
        {
          "output_type": "display_data",
          "data": {
            "text/html": [
              "<style>\n",
              ".dl-inline {width: auto; margin:0; padding: 0}\n",
              ".dl-inline>dt, .dl-inline>dd {float: none; width: auto; display: inline-block}\n",
              ".dl-inline>dt::after {content: \":\\0020\"; padding-right: .5ex}\n",
              ".dl-inline>dt:not(:first-of-type) {padding-left: .5ex}\n",
              "</style><dl class=dl-inline><dt>Senja</dt><dd>13</dd><dt>Aksara</dt><dd>10</dd><dt>Antara</dt><dd>6</dd><dt>Kroma</dt><dd>12</dd><dt>Andra</dt><dd>7</dd></dl>\n"
            ],
            "text/markdown": "Senja\n:   13Aksara\n:   10Antara\n:   6Kroma\n:   12Andra\n:   7\n\n",
            "text/latex": "\\begin{description*}\n\\item[Senja] 13\n\\item[Aksara] 10\n\\item[Antara] 6\n\\item[Kroma] 12\n\\item[Andra] 7\n\\end{description*}\n",
            "text/plain": [
              " Senja Aksara Antara  Kroma  Andra \n",
              "    13     10      6     12      7 "
            ]
          },
          "metadata": {}
        }
      ]
    },
    {
      "cell_type": "code",
      "source": [
        "#karyawan yang memiliki sisa cuti lebih dari 10\n",
        "sisa_cuti[sisa_cuti > 10]"
      ],
      "metadata": {
        "colab": {
          "base_uri": "https://localhost:8080/",
          "height": 34
        },
        "id": "JXO8fKaEsW8E",
        "outputId": "1c458ef7-6635-4362-8261-a3ee2bf2da21"
      },
      "execution_count": 51,
      "outputs": [
        {
          "output_type": "display_data",
          "data": {
            "text/html": [
              "<style>\n",
              ".dl-inline {width: auto; margin:0; padding: 0}\n",
              ".dl-inline>dt, .dl-inline>dd {float: none; width: auto; display: inline-block}\n",
              ".dl-inline>dt::after {content: \":\\0020\"; padding-right: .5ex}\n",
              ".dl-inline>dt:not(:first-of-type) {padding-left: .5ex}\n",
              "</style><dl class=dl-inline><dt>Senja</dt><dd>13</dd><dt>Kroma</dt><dd>12</dd></dl>\n"
            ],
            "text/markdown": "Senja\n:   13Kroma\n:   12\n\n",
            "text/latex": "\\begin{description*}\n\\item[Senja] 13\n\\item[Kroma] 12\n\\end{description*}\n",
            "text/plain": [
              "Senja Kroma \n",
              "   13    12 "
            ]
          },
          "metadata": {}
        }
      ]
    },
    {
      "cell_type": "code",
      "source": [
        "#karyawan dengan sisa cuti terkecil\n",
        "min(sisa_cuti)"
      ],
      "metadata": {
        "colab": {
          "base_uri": "https://localhost:8080/",
          "height": 34
        },
        "id": "2Fz1vAhRsW4E",
        "outputId": "b217d8ba-c8e8-4613-bde6-1672125822ef"
      },
      "execution_count": 52,
      "outputs": [
        {
          "output_type": "display_data",
          "data": {
            "text/html": [
              "6"
            ],
            "text/markdown": "6",
            "text/latex": "6",
            "text/plain": [
              "[1] 6"
            ]
          },
          "metadata": {}
        }
      ]
    },
    {
      "cell_type": "code",
      "source": [
        "#rata-rata sisa cuti karyawan\n",
        "mean(sisa_cuti)"
      ],
      "metadata": {
        "colab": {
          "base_uri": "https://localhost:8080/",
          "height": 34
        },
        "id": "Mw6RRPzfsWzo",
        "outputId": "d2dc4b65-9ba8-41e7-853d-a83eed61a461"
      },
      "execution_count": 53,
      "outputs": [
        {
          "output_type": "display_data",
          "data": {
            "text/html": [
              "9.6"
            ],
            "text/markdown": "9.6",
            "text/latex": "9.6",
            "text/plain": [
              "[1] 9.6"
            ]
          },
          "metadata": {}
        }
      ]
    }
  ]
}