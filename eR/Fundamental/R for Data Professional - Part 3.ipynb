{
  "nbformat": 4,
  "nbformat_minor": 0,
  "metadata": {
    "colab": {
      "provenance": []
    },
    "kernelspec": {
      "name": "ir",
      "display_name": "R"
    },
    "language_info": {
      "name": "R"
    }
  },
  "cells": [
    {
      "cell_type": "markdown",
      "source": [
        "## Introduction"
      ],
      "metadata": {
        "id": "YJvHAHMqutFC"
      }
    },
    {
      "cell_type": "markdown",
      "source": [
        "#### [Mengenal Dataframe Bawaan R - Praktikum](https://academy.dqlab.id/main/livecode/345/727/3781?pr=0)"
      ],
      "metadata": {
        "id": "m4HEcPTkvmsM"
      }
    },
    {
      "cell_type": "code",
      "source": [
        "mtcars"
      ],
      "metadata": {
        "colab": {
          "base_uri": "https://localhost:8080/",
          "height": 1000
        },
        "id": "czqlbBe4vrCE",
        "outputId": "2dfb5a81-9800-4690-f686-f62975a6e957"
      },
      "execution_count": 1,
      "outputs": [
        {
          "output_type": "display_data",
          "data": {
            "text/html": [
              "<table class=\"dataframe\">\n",
              "<caption>A data.frame: 32 × 11</caption>\n",
              "<thead>\n",
              "\t<tr><th></th><th scope=col>mpg</th><th scope=col>cyl</th><th scope=col>disp</th><th scope=col>hp</th><th scope=col>drat</th><th scope=col>wt</th><th scope=col>qsec</th><th scope=col>vs</th><th scope=col>am</th><th scope=col>gear</th><th scope=col>carb</th></tr>\n",
              "\t<tr><th></th><th scope=col>&lt;dbl&gt;</th><th scope=col>&lt;dbl&gt;</th><th scope=col>&lt;dbl&gt;</th><th scope=col>&lt;dbl&gt;</th><th scope=col>&lt;dbl&gt;</th><th scope=col>&lt;dbl&gt;</th><th scope=col>&lt;dbl&gt;</th><th scope=col>&lt;dbl&gt;</th><th scope=col>&lt;dbl&gt;</th><th scope=col>&lt;dbl&gt;</th><th scope=col>&lt;dbl&gt;</th></tr>\n",
              "</thead>\n",
              "<tbody>\n",
              "\t<tr><th scope=row>Mazda RX4</th><td>21.0</td><td>6</td><td>160.0</td><td>110</td><td>3.90</td><td>2.620</td><td>16.46</td><td>0</td><td>1</td><td>4</td><td>4</td></tr>\n",
              "\t<tr><th scope=row>Mazda RX4 Wag</th><td>21.0</td><td>6</td><td>160.0</td><td>110</td><td>3.90</td><td>2.875</td><td>17.02</td><td>0</td><td>1</td><td>4</td><td>4</td></tr>\n",
              "\t<tr><th scope=row>Datsun 710</th><td>22.8</td><td>4</td><td>108.0</td><td> 93</td><td>3.85</td><td>2.320</td><td>18.61</td><td>1</td><td>1</td><td>4</td><td>1</td></tr>\n",
              "\t<tr><th scope=row>Hornet 4 Drive</th><td>21.4</td><td>6</td><td>258.0</td><td>110</td><td>3.08</td><td>3.215</td><td>19.44</td><td>1</td><td>0</td><td>3</td><td>1</td></tr>\n",
              "\t<tr><th scope=row>Hornet Sportabout</th><td>18.7</td><td>8</td><td>360.0</td><td>175</td><td>3.15</td><td>3.440</td><td>17.02</td><td>0</td><td>0</td><td>3</td><td>2</td></tr>\n",
              "\t<tr><th scope=row>Valiant</th><td>18.1</td><td>6</td><td>225.0</td><td>105</td><td>2.76</td><td>3.460</td><td>20.22</td><td>1</td><td>0</td><td>3</td><td>1</td></tr>\n",
              "\t<tr><th scope=row>Duster 360</th><td>14.3</td><td>8</td><td>360.0</td><td>245</td><td>3.21</td><td>3.570</td><td>15.84</td><td>0</td><td>0</td><td>3</td><td>4</td></tr>\n",
              "\t<tr><th scope=row>Merc 240D</th><td>24.4</td><td>4</td><td>146.7</td><td> 62</td><td>3.69</td><td>3.190</td><td>20.00</td><td>1</td><td>0</td><td>4</td><td>2</td></tr>\n",
              "\t<tr><th scope=row>Merc 230</th><td>22.8</td><td>4</td><td>140.8</td><td> 95</td><td>3.92</td><td>3.150</td><td>22.90</td><td>1</td><td>0</td><td>4</td><td>2</td></tr>\n",
              "\t<tr><th scope=row>Merc 280</th><td>19.2</td><td>6</td><td>167.6</td><td>123</td><td>3.92</td><td>3.440</td><td>18.30</td><td>1</td><td>0</td><td>4</td><td>4</td></tr>\n",
              "\t<tr><th scope=row>Merc 280C</th><td>17.8</td><td>6</td><td>167.6</td><td>123</td><td>3.92</td><td>3.440</td><td>18.90</td><td>1</td><td>0</td><td>4</td><td>4</td></tr>\n",
              "\t<tr><th scope=row>Merc 450SE</th><td>16.4</td><td>8</td><td>275.8</td><td>180</td><td>3.07</td><td>4.070</td><td>17.40</td><td>0</td><td>0</td><td>3</td><td>3</td></tr>\n",
              "\t<tr><th scope=row>Merc 450SL</th><td>17.3</td><td>8</td><td>275.8</td><td>180</td><td>3.07</td><td>3.730</td><td>17.60</td><td>0</td><td>0</td><td>3</td><td>3</td></tr>\n",
              "\t<tr><th scope=row>Merc 450SLC</th><td>15.2</td><td>8</td><td>275.8</td><td>180</td><td>3.07</td><td>3.780</td><td>18.00</td><td>0</td><td>0</td><td>3</td><td>3</td></tr>\n",
              "\t<tr><th scope=row>Cadillac Fleetwood</th><td>10.4</td><td>8</td><td>472.0</td><td>205</td><td>2.93</td><td>5.250</td><td>17.98</td><td>0</td><td>0</td><td>3</td><td>4</td></tr>\n",
              "\t<tr><th scope=row>Lincoln Continental</th><td>10.4</td><td>8</td><td>460.0</td><td>215</td><td>3.00</td><td>5.424</td><td>17.82</td><td>0</td><td>0</td><td>3</td><td>4</td></tr>\n",
              "\t<tr><th scope=row>Chrysler Imperial</th><td>14.7</td><td>8</td><td>440.0</td><td>230</td><td>3.23</td><td>5.345</td><td>17.42</td><td>0</td><td>0</td><td>3</td><td>4</td></tr>\n",
              "\t<tr><th scope=row>Fiat 128</th><td>32.4</td><td>4</td><td> 78.7</td><td> 66</td><td>4.08</td><td>2.200</td><td>19.47</td><td>1</td><td>1</td><td>4</td><td>1</td></tr>\n",
              "\t<tr><th scope=row>Honda Civic</th><td>30.4</td><td>4</td><td> 75.7</td><td> 52</td><td>4.93</td><td>1.615</td><td>18.52</td><td>1</td><td>1</td><td>4</td><td>2</td></tr>\n",
              "\t<tr><th scope=row>Toyota Corolla</th><td>33.9</td><td>4</td><td> 71.1</td><td> 65</td><td>4.22</td><td>1.835</td><td>19.90</td><td>1</td><td>1</td><td>4</td><td>1</td></tr>\n",
              "\t<tr><th scope=row>Toyota Corona</th><td>21.5</td><td>4</td><td>120.1</td><td> 97</td><td>3.70</td><td>2.465</td><td>20.01</td><td>1</td><td>0</td><td>3</td><td>1</td></tr>\n",
              "\t<tr><th scope=row>Dodge Challenger</th><td>15.5</td><td>8</td><td>318.0</td><td>150</td><td>2.76</td><td>3.520</td><td>16.87</td><td>0</td><td>0</td><td>3</td><td>2</td></tr>\n",
              "\t<tr><th scope=row>AMC Javelin</th><td>15.2</td><td>8</td><td>304.0</td><td>150</td><td>3.15</td><td>3.435</td><td>17.30</td><td>0</td><td>0</td><td>3</td><td>2</td></tr>\n",
              "\t<tr><th scope=row>Camaro Z28</th><td>13.3</td><td>8</td><td>350.0</td><td>245</td><td>3.73</td><td>3.840</td><td>15.41</td><td>0</td><td>0</td><td>3</td><td>4</td></tr>\n",
              "\t<tr><th scope=row>Pontiac Firebird</th><td>19.2</td><td>8</td><td>400.0</td><td>175</td><td>3.08</td><td>3.845</td><td>17.05</td><td>0</td><td>0</td><td>3</td><td>2</td></tr>\n",
              "\t<tr><th scope=row>Fiat X1-9</th><td>27.3</td><td>4</td><td> 79.0</td><td> 66</td><td>4.08</td><td>1.935</td><td>18.90</td><td>1</td><td>1</td><td>4</td><td>1</td></tr>\n",
              "\t<tr><th scope=row>Porsche 914-2</th><td>26.0</td><td>4</td><td>120.3</td><td> 91</td><td>4.43</td><td>2.140</td><td>16.70</td><td>0</td><td>1</td><td>5</td><td>2</td></tr>\n",
              "\t<tr><th scope=row>Lotus Europa</th><td>30.4</td><td>4</td><td> 95.1</td><td>113</td><td>3.77</td><td>1.513</td><td>16.90</td><td>1</td><td>1</td><td>5</td><td>2</td></tr>\n",
              "\t<tr><th scope=row>Ford Pantera L</th><td>15.8</td><td>8</td><td>351.0</td><td>264</td><td>4.22</td><td>3.170</td><td>14.50</td><td>0</td><td>1</td><td>5</td><td>4</td></tr>\n",
              "\t<tr><th scope=row>Ferrari Dino</th><td>19.7</td><td>6</td><td>145.0</td><td>175</td><td>3.62</td><td>2.770</td><td>15.50</td><td>0</td><td>1</td><td>5</td><td>6</td></tr>\n",
              "\t<tr><th scope=row>Maserati Bora</th><td>15.0</td><td>8</td><td>301.0</td><td>335</td><td>3.54</td><td>3.570</td><td>14.60</td><td>0</td><td>1</td><td>5</td><td>8</td></tr>\n",
              "\t<tr><th scope=row>Volvo 142E</th><td>21.4</td><td>4</td><td>121.0</td><td>109</td><td>4.11</td><td>2.780</td><td>18.60</td><td>1</td><td>1</td><td>4</td><td>2</td></tr>\n",
              "</tbody>\n",
              "</table>\n"
            ],
            "text/markdown": "\nA data.frame: 32 × 11\n\n| <!--/--> | mpg &lt;dbl&gt; | cyl &lt;dbl&gt; | disp &lt;dbl&gt; | hp &lt;dbl&gt; | drat &lt;dbl&gt; | wt &lt;dbl&gt; | qsec &lt;dbl&gt; | vs &lt;dbl&gt; | am &lt;dbl&gt; | gear &lt;dbl&gt; | carb &lt;dbl&gt; |\n|---|---|---|---|---|---|---|---|---|---|---|---|\n| Mazda RX4 | 21.0 | 6 | 160.0 | 110 | 3.90 | 2.620 | 16.46 | 0 | 1 | 4 | 4 |\n| Mazda RX4 Wag | 21.0 | 6 | 160.0 | 110 | 3.90 | 2.875 | 17.02 | 0 | 1 | 4 | 4 |\n| Datsun 710 | 22.8 | 4 | 108.0 |  93 | 3.85 | 2.320 | 18.61 | 1 | 1 | 4 | 1 |\n| Hornet 4 Drive | 21.4 | 6 | 258.0 | 110 | 3.08 | 3.215 | 19.44 | 1 | 0 | 3 | 1 |\n| Hornet Sportabout | 18.7 | 8 | 360.0 | 175 | 3.15 | 3.440 | 17.02 | 0 | 0 | 3 | 2 |\n| Valiant | 18.1 | 6 | 225.0 | 105 | 2.76 | 3.460 | 20.22 | 1 | 0 | 3 | 1 |\n| Duster 360 | 14.3 | 8 | 360.0 | 245 | 3.21 | 3.570 | 15.84 | 0 | 0 | 3 | 4 |\n| Merc 240D | 24.4 | 4 | 146.7 |  62 | 3.69 | 3.190 | 20.00 | 1 | 0 | 4 | 2 |\n| Merc 230 | 22.8 | 4 | 140.8 |  95 | 3.92 | 3.150 | 22.90 | 1 | 0 | 4 | 2 |\n| Merc 280 | 19.2 | 6 | 167.6 | 123 | 3.92 | 3.440 | 18.30 | 1 | 0 | 4 | 4 |\n| Merc 280C | 17.8 | 6 | 167.6 | 123 | 3.92 | 3.440 | 18.90 | 1 | 0 | 4 | 4 |\n| Merc 450SE | 16.4 | 8 | 275.8 | 180 | 3.07 | 4.070 | 17.40 | 0 | 0 | 3 | 3 |\n| Merc 450SL | 17.3 | 8 | 275.8 | 180 | 3.07 | 3.730 | 17.60 | 0 | 0 | 3 | 3 |\n| Merc 450SLC | 15.2 | 8 | 275.8 | 180 | 3.07 | 3.780 | 18.00 | 0 | 0 | 3 | 3 |\n| Cadillac Fleetwood | 10.4 | 8 | 472.0 | 205 | 2.93 | 5.250 | 17.98 | 0 | 0 | 3 | 4 |\n| Lincoln Continental | 10.4 | 8 | 460.0 | 215 | 3.00 | 5.424 | 17.82 | 0 | 0 | 3 | 4 |\n| Chrysler Imperial | 14.7 | 8 | 440.0 | 230 | 3.23 | 5.345 | 17.42 | 0 | 0 | 3 | 4 |\n| Fiat 128 | 32.4 | 4 |  78.7 |  66 | 4.08 | 2.200 | 19.47 | 1 | 1 | 4 | 1 |\n| Honda Civic | 30.4 | 4 |  75.7 |  52 | 4.93 | 1.615 | 18.52 | 1 | 1 | 4 | 2 |\n| Toyota Corolla | 33.9 | 4 |  71.1 |  65 | 4.22 | 1.835 | 19.90 | 1 | 1 | 4 | 1 |\n| Toyota Corona | 21.5 | 4 | 120.1 |  97 | 3.70 | 2.465 | 20.01 | 1 | 0 | 3 | 1 |\n| Dodge Challenger | 15.5 | 8 | 318.0 | 150 | 2.76 | 3.520 | 16.87 | 0 | 0 | 3 | 2 |\n| AMC Javelin | 15.2 | 8 | 304.0 | 150 | 3.15 | 3.435 | 17.30 | 0 | 0 | 3 | 2 |\n| Camaro Z28 | 13.3 | 8 | 350.0 | 245 | 3.73 | 3.840 | 15.41 | 0 | 0 | 3 | 4 |\n| Pontiac Firebird | 19.2 | 8 | 400.0 | 175 | 3.08 | 3.845 | 17.05 | 0 | 0 | 3 | 2 |\n| Fiat X1-9 | 27.3 | 4 |  79.0 |  66 | 4.08 | 1.935 | 18.90 | 1 | 1 | 4 | 1 |\n| Porsche 914-2 | 26.0 | 4 | 120.3 |  91 | 4.43 | 2.140 | 16.70 | 0 | 1 | 5 | 2 |\n| Lotus Europa | 30.4 | 4 |  95.1 | 113 | 3.77 | 1.513 | 16.90 | 1 | 1 | 5 | 2 |\n| Ford Pantera L | 15.8 | 8 | 351.0 | 264 | 4.22 | 3.170 | 14.50 | 0 | 1 | 5 | 4 |\n| Ferrari Dino | 19.7 | 6 | 145.0 | 175 | 3.62 | 2.770 | 15.50 | 0 | 1 | 5 | 6 |\n| Maserati Bora | 15.0 | 8 | 301.0 | 335 | 3.54 | 3.570 | 14.60 | 0 | 1 | 5 | 8 |\n| Volvo 142E | 21.4 | 4 | 121.0 | 109 | 4.11 | 2.780 | 18.60 | 1 | 1 | 4 | 2 |\n\n",
            "text/latex": "A data.frame: 32 × 11\n\\begin{tabular}{r|lllllllllll}\n  & mpg & cyl & disp & hp & drat & wt & qsec & vs & am & gear & carb\\\\\n  & <dbl> & <dbl> & <dbl> & <dbl> & <dbl> & <dbl> & <dbl> & <dbl> & <dbl> & <dbl> & <dbl>\\\\\n\\hline\n\tMazda RX4 & 21.0 & 6 & 160.0 & 110 & 3.90 & 2.620 & 16.46 & 0 & 1 & 4 & 4\\\\\n\tMazda RX4 Wag & 21.0 & 6 & 160.0 & 110 & 3.90 & 2.875 & 17.02 & 0 & 1 & 4 & 4\\\\\n\tDatsun 710 & 22.8 & 4 & 108.0 &  93 & 3.85 & 2.320 & 18.61 & 1 & 1 & 4 & 1\\\\\n\tHornet 4 Drive & 21.4 & 6 & 258.0 & 110 & 3.08 & 3.215 & 19.44 & 1 & 0 & 3 & 1\\\\\n\tHornet Sportabout & 18.7 & 8 & 360.0 & 175 & 3.15 & 3.440 & 17.02 & 0 & 0 & 3 & 2\\\\\n\tValiant & 18.1 & 6 & 225.0 & 105 & 2.76 & 3.460 & 20.22 & 1 & 0 & 3 & 1\\\\\n\tDuster 360 & 14.3 & 8 & 360.0 & 245 & 3.21 & 3.570 & 15.84 & 0 & 0 & 3 & 4\\\\\n\tMerc 240D & 24.4 & 4 & 146.7 &  62 & 3.69 & 3.190 & 20.00 & 1 & 0 & 4 & 2\\\\\n\tMerc 230 & 22.8 & 4 & 140.8 &  95 & 3.92 & 3.150 & 22.90 & 1 & 0 & 4 & 2\\\\\n\tMerc 280 & 19.2 & 6 & 167.6 & 123 & 3.92 & 3.440 & 18.30 & 1 & 0 & 4 & 4\\\\\n\tMerc 280C & 17.8 & 6 & 167.6 & 123 & 3.92 & 3.440 & 18.90 & 1 & 0 & 4 & 4\\\\\n\tMerc 450SE & 16.4 & 8 & 275.8 & 180 & 3.07 & 4.070 & 17.40 & 0 & 0 & 3 & 3\\\\\n\tMerc 450SL & 17.3 & 8 & 275.8 & 180 & 3.07 & 3.730 & 17.60 & 0 & 0 & 3 & 3\\\\\n\tMerc 450SLC & 15.2 & 8 & 275.8 & 180 & 3.07 & 3.780 & 18.00 & 0 & 0 & 3 & 3\\\\\n\tCadillac Fleetwood & 10.4 & 8 & 472.0 & 205 & 2.93 & 5.250 & 17.98 & 0 & 0 & 3 & 4\\\\\n\tLincoln Continental & 10.4 & 8 & 460.0 & 215 & 3.00 & 5.424 & 17.82 & 0 & 0 & 3 & 4\\\\\n\tChrysler Imperial & 14.7 & 8 & 440.0 & 230 & 3.23 & 5.345 & 17.42 & 0 & 0 & 3 & 4\\\\\n\tFiat 128 & 32.4 & 4 &  78.7 &  66 & 4.08 & 2.200 & 19.47 & 1 & 1 & 4 & 1\\\\\n\tHonda Civic & 30.4 & 4 &  75.7 &  52 & 4.93 & 1.615 & 18.52 & 1 & 1 & 4 & 2\\\\\n\tToyota Corolla & 33.9 & 4 &  71.1 &  65 & 4.22 & 1.835 & 19.90 & 1 & 1 & 4 & 1\\\\\n\tToyota Corona & 21.5 & 4 & 120.1 &  97 & 3.70 & 2.465 & 20.01 & 1 & 0 & 3 & 1\\\\\n\tDodge Challenger & 15.5 & 8 & 318.0 & 150 & 2.76 & 3.520 & 16.87 & 0 & 0 & 3 & 2\\\\\n\tAMC Javelin & 15.2 & 8 & 304.0 & 150 & 3.15 & 3.435 & 17.30 & 0 & 0 & 3 & 2\\\\\n\tCamaro Z28 & 13.3 & 8 & 350.0 & 245 & 3.73 & 3.840 & 15.41 & 0 & 0 & 3 & 4\\\\\n\tPontiac Firebird & 19.2 & 8 & 400.0 & 175 & 3.08 & 3.845 & 17.05 & 0 & 0 & 3 & 2\\\\\n\tFiat X1-9 & 27.3 & 4 &  79.0 &  66 & 4.08 & 1.935 & 18.90 & 1 & 1 & 4 & 1\\\\\n\tPorsche 914-2 & 26.0 & 4 & 120.3 &  91 & 4.43 & 2.140 & 16.70 & 0 & 1 & 5 & 2\\\\\n\tLotus Europa & 30.4 & 4 &  95.1 & 113 & 3.77 & 1.513 & 16.90 & 1 & 1 & 5 & 2\\\\\n\tFord Pantera L & 15.8 & 8 & 351.0 & 264 & 4.22 & 3.170 & 14.50 & 0 & 1 & 5 & 4\\\\\n\tFerrari Dino & 19.7 & 6 & 145.0 & 175 & 3.62 & 2.770 & 15.50 & 0 & 1 & 5 & 6\\\\\n\tMaserati Bora & 15.0 & 8 & 301.0 & 335 & 3.54 & 3.570 & 14.60 & 0 & 1 & 5 & 8\\\\\n\tVolvo 142E & 21.4 & 4 & 121.0 & 109 & 4.11 & 2.780 & 18.60 & 1 & 1 & 4 & 2\\\\\n\\end{tabular}\n",
            "text/plain": [
              "                    mpg  cyl disp  hp  drat wt    qsec  vs am gear carb\n",
              "Mazda RX4           21.0 6   160.0 110 3.90 2.620 16.46 0  1  4    4   \n",
              "Mazda RX4 Wag       21.0 6   160.0 110 3.90 2.875 17.02 0  1  4    4   \n",
              "Datsun 710          22.8 4   108.0  93 3.85 2.320 18.61 1  1  4    1   \n",
              "Hornet 4 Drive      21.4 6   258.0 110 3.08 3.215 19.44 1  0  3    1   \n",
              "Hornet Sportabout   18.7 8   360.0 175 3.15 3.440 17.02 0  0  3    2   \n",
              "Valiant             18.1 6   225.0 105 2.76 3.460 20.22 1  0  3    1   \n",
              "Duster 360          14.3 8   360.0 245 3.21 3.570 15.84 0  0  3    4   \n",
              "Merc 240D           24.4 4   146.7  62 3.69 3.190 20.00 1  0  4    2   \n",
              "Merc 230            22.8 4   140.8  95 3.92 3.150 22.90 1  0  4    2   \n",
              "Merc 280            19.2 6   167.6 123 3.92 3.440 18.30 1  0  4    4   \n",
              "Merc 280C           17.8 6   167.6 123 3.92 3.440 18.90 1  0  4    4   \n",
              "Merc 450SE          16.4 8   275.8 180 3.07 4.070 17.40 0  0  3    3   \n",
              "Merc 450SL          17.3 8   275.8 180 3.07 3.730 17.60 0  0  3    3   \n",
              "Merc 450SLC         15.2 8   275.8 180 3.07 3.780 18.00 0  0  3    3   \n",
              "Cadillac Fleetwood  10.4 8   472.0 205 2.93 5.250 17.98 0  0  3    4   \n",
              "Lincoln Continental 10.4 8   460.0 215 3.00 5.424 17.82 0  0  3    4   \n",
              "Chrysler Imperial   14.7 8   440.0 230 3.23 5.345 17.42 0  0  3    4   \n",
              "Fiat 128            32.4 4    78.7  66 4.08 2.200 19.47 1  1  4    1   \n",
              "Honda Civic         30.4 4    75.7  52 4.93 1.615 18.52 1  1  4    2   \n",
              "Toyota Corolla      33.9 4    71.1  65 4.22 1.835 19.90 1  1  4    1   \n",
              "Toyota Corona       21.5 4   120.1  97 3.70 2.465 20.01 1  0  3    1   \n",
              "Dodge Challenger    15.5 8   318.0 150 2.76 3.520 16.87 0  0  3    2   \n",
              "AMC Javelin         15.2 8   304.0 150 3.15 3.435 17.30 0  0  3    2   \n",
              "Camaro Z28          13.3 8   350.0 245 3.73 3.840 15.41 0  0  3    4   \n",
              "Pontiac Firebird    19.2 8   400.0 175 3.08 3.845 17.05 0  0  3    2   \n",
              "Fiat X1-9           27.3 4    79.0  66 4.08 1.935 18.90 1  1  4    1   \n",
              "Porsche 914-2       26.0 4   120.3  91 4.43 2.140 16.70 0  1  5    2   \n",
              "Lotus Europa        30.4 4    95.1 113 3.77 1.513 16.90 1  1  5    2   \n",
              "Ford Pantera L      15.8 8   351.0 264 4.22 3.170 14.50 0  1  5    4   \n",
              "Ferrari Dino        19.7 6   145.0 175 3.62 2.770 15.50 0  1  5    6   \n",
              "Maserati Bora       15.0 8   301.0 335 3.54 3.570 14.60 0  1  5    8   \n",
              "Volvo 142E          21.4 4   121.0 109 4.11 2.780 18.60 1  1  4    2   "
            ]
          },
          "metadata": {}
        }
      ]
    },
    {
      "cell_type": "markdown",
      "source": [
        "#### [‘Gambaran Menyeluruh’ dari Dataframe yang Digunakan - Praktikum](https://academy.dqlab.id/main/livecode/345/727/3783?pr=0)"
      ],
      "metadata": {
        "id": "le9PHmXXwBlb"
      }
    },
    {
      "cell_type": "code",
      "source": [
        "#Tampilkan 5 baris pertama dari Dataframe mtcars\n",
        "head(mtcars, 5)"
      ],
      "metadata": {
        "colab": {
          "base_uri": "https://localhost:8080/",
          "height": 255
        },
        "id": "4IURDi-wwFoP",
        "outputId": "c0f26c69-f646-40ef-b1a2-0114c3ee7c0f"
      },
      "execution_count": 2,
      "outputs": [
        {
          "output_type": "display_data",
          "data": {
            "text/html": [
              "<table class=\"dataframe\">\n",
              "<caption>A data.frame: 5 × 11</caption>\n",
              "<thead>\n",
              "\t<tr><th></th><th scope=col>mpg</th><th scope=col>cyl</th><th scope=col>disp</th><th scope=col>hp</th><th scope=col>drat</th><th scope=col>wt</th><th scope=col>qsec</th><th scope=col>vs</th><th scope=col>am</th><th scope=col>gear</th><th scope=col>carb</th></tr>\n",
              "\t<tr><th></th><th scope=col>&lt;dbl&gt;</th><th scope=col>&lt;dbl&gt;</th><th scope=col>&lt;dbl&gt;</th><th scope=col>&lt;dbl&gt;</th><th scope=col>&lt;dbl&gt;</th><th scope=col>&lt;dbl&gt;</th><th scope=col>&lt;dbl&gt;</th><th scope=col>&lt;dbl&gt;</th><th scope=col>&lt;dbl&gt;</th><th scope=col>&lt;dbl&gt;</th><th scope=col>&lt;dbl&gt;</th></tr>\n",
              "</thead>\n",
              "<tbody>\n",
              "\t<tr><th scope=row>Mazda RX4</th><td>21.0</td><td>6</td><td>160</td><td>110</td><td>3.90</td><td>2.620</td><td>16.46</td><td>0</td><td>1</td><td>4</td><td>4</td></tr>\n",
              "\t<tr><th scope=row>Mazda RX4 Wag</th><td>21.0</td><td>6</td><td>160</td><td>110</td><td>3.90</td><td>2.875</td><td>17.02</td><td>0</td><td>1</td><td>4</td><td>4</td></tr>\n",
              "\t<tr><th scope=row>Datsun 710</th><td>22.8</td><td>4</td><td>108</td><td> 93</td><td>3.85</td><td>2.320</td><td>18.61</td><td>1</td><td>1</td><td>4</td><td>1</td></tr>\n",
              "\t<tr><th scope=row>Hornet 4 Drive</th><td>21.4</td><td>6</td><td>258</td><td>110</td><td>3.08</td><td>3.215</td><td>19.44</td><td>1</td><td>0</td><td>3</td><td>1</td></tr>\n",
              "\t<tr><th scope=row>Hornet Sportabout</th><td>18.7</td><td>8</td><td>360</td><td>175</td><td>3.15</td><td>3.440</td><td>17.02</td><td>0</td><td>0</td><td>3</td><td>2</td></tr>\n",
              "</tbody>\n",
              "</table>\n"
            ],
            "text/markdown": "\nA data.frame: 5 × 11\n\n| <!--/--> | mpg &lt;dbl&gt; | cyl &lt;dbl&gt; | disp &lt;dbl&gt; | hp &lt;dbl&gt; | drat &lt;dbl&gt; | wt &lt;dbl&gt; | qsec &lt;dbl&gt; | vs &lt;dbl&gt; | am &lt;dbl&gt; | gear &lt;dbl&gt; | carb &lt;dbl&gt; |\n|---|---|---|---|---|---|---|---|---|---|---|---|\n| Mazda RX4 | 21.0 | 6 | 160 | 110 | 3.90 | 2.620 | 16.46 | 0 | 1 | 4 | 4 |\n| Mazda RX4 Wag | 21.0 | 6 | 160 | 110 | 3.90 | 2.875 | 17.02 | 0 | 1 | 4 | 4 |\n| Datsun 710 | 22.8 | 4 | 108 |  93 | 3.85 | 2.320 | 18.61 | 1 | 1 | 4 | 1 |\n| Hornet 4 Drive | 21.4 | 6 | 258 | 110 | 3.08 | 3.215 | 19.44 | 1 | 0 | 3 | 1 |\n| Hornet Sportabout | 18.7 | 8 | 360 | 175 | 3.15 | 3.440 | 17.02 | 0 | 0 | 3 | 2 |\n\n",
            "text/latex": "A data.frame: 5 × 11\n\\begin{tabular}{r|lllllllllll}\n  & mpg & cyl & disp & hp & drat & wt & qsec & vs & am & gear & carb\\\\\n  & <dbl> & <dbl> & <dbl> & <dbl> & <dbl> & <dbl> & <dbl> & <dbl> & <dbl> & <dbl> & <dbl>\\\\\n\\hline\n\tMazda RX4 & 21.0 & 6 & 160 & 110 & 3.90 & 2.620 & 16.46 & 0 & 1 & 4 & 4\\\\\n\tMazda RX4 Wag & 21.0 & 6 & 160 & 110 & 3.90 & 2.875 & 17.02 & 0 & 1 & 4 & 4\\\\\n\tDatsun 710 & 22.8 & 4 & 108 &  93 & 3.85 & 2.320 & 18.61 & 1 & 1 & 4 & 1\\\\\n\tHornet 4 Drive & 21.4 & 6 & 258 & 110 & 3.08 & 3.215 & 19.44 & 1 & 0 & 3 & 1\\\\\n\tHornet Sportabout & 18.7 & 8 & 360 & 175 & 3.15 & 3.440 & 17.02 & 0 & 0 & 3 & 2\\\\\n\\end{tabular}\n",
            "text/plain": [
              "                  mpg  cyl disp hp  drat wt    qsec  vs am gear carb\n",
              "Mazda RX4         21.0 6   160  110 3.90 2.620 16.46 0  1  4    4   \n",
              "Mazda RX4 Wag     21.0 6   160  110 3.90 2.875 17.02 0  1  4    4   \n",
              "Datsun 710        22.8 4   108   93 3.85 2.320 18.61 1  1  4    1   \n",
              "Hornet 4 Drive    21.4 6   258  110 3.08 3.215 19.44 1  0  3    1   \n",
              "Hornet Sportabout 18.7 8   360  175 3.15 3.440 17.02 0  0  3    2   "
            ]
          },
          "metadata": {}
        }
      ]
    },
    {
      "cell_type": "code",
      "source": [
        "#Tampilkan 5 baris terakhir dari Dataframe mtcars\n",
        "tail(mtcars, 5)"
      ],
      "metadata": {
        "colab": {
          "base_uri": "https://localhost:8080/",
          "height": 255
        },
        "id": "zFRySWOgwOj_",
        "outputId": "7049e216-7d8c-48a0-cf6d-99980830c348"
      },
      "execution_count": 3,
      "outputs": [
        {
          "output_type": "display_data",
          "data": {
            "text/html": [
              "<table class=\"dataframe\">\n",
              "<caption>A data.frame: 5 × 11</caption>\n",
              "<thead>\n",
              "\t<tr><th></th><th scope=col>mpg</th><th scope=col>cyl</th><th scope=col>disp</th><th scope=col>hp</th><th scope=col>drat</th><th scope=col>wt</th><th scope=col>qsec</th><th scope=col>vs</th><th scope=col>am</th><th scope=col>gear</th><th scope=col>carb</th></tr>\n",
              "\t<tr><th></th><th scope=col>&lt;dbl&gt;</th><th scope=col>&lt;dbl&gt;</th><th scope=col>&lt;dbl&gt;</th><th scope=col>&lt;dbl&gt;</th><th scope=col>&lt;dbl&gt;</th><th scope=col>&lt;dbl&gt;</th><th scope=col>&lt;dbl&gt;</th><th scope=col>&lt;dbl&gt;</th><th scope=col>&lt;dbl&gt;</th><th scope=col>&lt;dbl&gt;</th><th scope=col>&lt;dbl&gt;</th></tr>\n",
              "</thead>\n",
              "<tbody>\n",
              "\t<tr><th scope=row>Lotus Europa</th><td>30.4</td><td>4</td><td> 95.1</td><td>113</td><td>3.77</td><td>1.513</td><td>16.9</td><td>1</td><td>1</td><td>5</td><td>2</td></tr>\n",
              "\t<tr><th scope=row>Ford Pantera L</th><td>15.8</td><td>8</td><td>351.0</td><td>264</td><td>4.22</td><td>3.170</td><td>14.5</td><td>0</td><td>1</td><td>5</td><td>4</td></tr>\n",
              "\t<tr><th scope=row>Ferrari Dino</th><td>19.7</td><td>6</td><td>145.0</td><td>175</td><td>3.62</td><td>2.770</td><td>15.5</td><td>0</td><td>1</td><td>5</td><td>6</td></tr>\n",
              "\t<tr><th scope=row>Maserati Bora</th><td>15.0</td><td>8</td><td>301.0</td><td>335</td><td>3.54</td><td>3.570</td><td>14.6</td><td>0</td><td>1</td><td>5</td><td>8</td></tr>\n",
              "\t<tr><th scope=row>Volvo 142E</th><td>21.4</td><td>4</td><td>121.0</td><td>109</td><td>4.11</td><td>2.780</td><td>18.6</td><td>1</td><td>1</td><td>4</td><td>2</td></tr>\n",
              "</tbody>\n",
              "</table>\n"
            ],
            "text/markdown": "\nA data.frame: 5 × 11\n\n| <!--/--> | mpg &lt;dbl&gt; | cyl &lt;dbl&gt; | disp &lt;dbl&gt; | hp &lt;dbl&gt; | drat &lt;dbl&gt; | wt &lt;dbl&gt; | qsec &lt;dbl&gt; | vs &lt;dbl&gt; | am &lt;dbl&gt; | gear &lt;dbl&gt; | carb &lt;dbl&gt; |\n|---|---|---|---|---|---|---|---|---|---|---|---|\n| Lotus Europa | 30.4 | 4 |  95.1 | 113 | 3.77 | 1.513 | 16.9 | 1 | 1 | 5 | 2 |\n| Ford Pantera L | 15.8 | 8 | 351.0 | 264 | 4.22 | 3.170 | 14.5 | 0 | 1 | 5 | 4 |\n| Ferrari Dino | 19.7 | 6 | 145.0 | 175 | 3.62 | 2.770 | 15.5 | 0 | 1 | 5 | 6 |\n| Maserati Bora | 15.0 | 8 | 301.0 | 335 | 3.54 | 3.570 | 14.6 | 0 | 1 | 5 | 8 |\n| Volvo 142E | 21.4 | 4 | 121.0 | 109 | 4.11 | 2.780 | 18.6 | 1 | 1 | 4 | 2 |\n\n",
            "text/latex": "A data.frame: 5 × 11\n\\begin{tabular}{r|lllllllllll}\n  & mpg & cyl & disp & hp & drat & wt & qsec & vs & am & gear & carb\\\\\n  & <dbl> & <dbl> & <dbl> & <dbl> & <dbl> & <dbl> & <dbl> & <dbl> & <dbl> & <dbl> & <dbl>\\\\\n\\hline\n\tLotus Europa & 30.4 & 4 &  95.1 & 113 & 3.77 & 1.513 & 16.9 & 1 & 1 & 5 & 2\\\\\n\tFord Pantera L & 15.8 & 8 & 351.0 & 264 & 4.22 & 3.170 & 14.5 & 0 & 1 & 5 & 4\\\\\n\tFerrari Dino & 19.7 & 6 & 145.0 & 175 & 3.62 & 2.770 & 15.5 & 0 & 1 & 5 & 6\\\\\n\tMaserati Bora & 15.0 & 8 & 301.0 & 335 & 3.54 & 3.570 & 14.6 & 0 & 1 & 5 & 8\\\\\n\tVolvo 142E & 21.4 & 4 & 121.0 & 109 & 4.11 & 2.780 & 18.6 & 1 & 1 & 4 & 2\\\\\n\\end{tabular}\n",
            "text/plain": [
              "               mpg  cyl disp  hp  drat wt    qsec vs am gear carb\n",
              "Lotus Europa   30.4 4    95.1 113 3.77 1.513 16.9 1  1  5    2   \n",
              "Ford Pantera L 15.8 8   351.0 264 4.22 3.170 14.5 0  1  5    4   \n",
              "Ferrari Dino   19.7 6   145.0 175 3.62 2.770 15.5 0  1  5    6   \n",
              "Maserati Bora  15.0 8   301.0 335 3.54 3.570 14.6 0  1  5    8   \n",
              "Volvo 142E     21.4 4   121.0 109 4.11 2.780 18.6 1  1  4    2   "
            ]
          },
          "metadata": {}
        }
      ]
    },
    {
      "cell_type": "markdown",
      "source": [
        "#### [Melihat Struktur dari Dataframe - Praktikum](https://academy.dqlab.id/main/livecode/345/727/3784?pr=0)"
      ],
      "metadata": {
        "id": "T4pc5i9LwYLz"
      }
    },
    {
      "cell_type": "code",
      "source": [
        "str(mtcars)"
      ],
      "metadata": {
        "colab": {
          "base_uri": "https://localhost:8080/"
        },
        "id": "znVFsCMywb7T",
        "outputId": "14ddd9fb-9c0d-4e72-c6f2-de7081a69d13"
      },
      "execution_count": 4,
      "outputs": [
        {
          "output_type": "stream",
          "name": "stdout",
          "text": [
            "'data.frame':\t32 obs. of  11 variables:\n",
            " $ mpg : num  21 21 22.8 21.4 18.7 18.1 14.3 24.4 22.8 19.2 ...\n",
            " $ cyl : num  6 6 4 6 8 6 8 4 4 6 ...\n",
            " $ disp: num  160 160 108 258 360 ...\n",
            " $ hp  : num  110 110 93 110 175 105 245 62 95 123 ...\n",
            " $ drat: num  3.9 3.9 3.85 3.08 3.15 2.76 3.21 3.69 3.92 3.92 ...\n",
            " $ wt  : num  2.62 2.88 2.32 3.21 3.44 ...\n",
            " $ qsec: num  16.5 17 18.6 19.4 17 ...\n",
            " $ vs  : num  0 0 1 1 0 1 0 1 1 1 ...\n",
            " $ am  : num  1 1 1 0 0 0 0 0 0 0 ...\n",
            " $ gear: num  4 4 4 3 3 3 3 4 4 4 ...\n",
            " $ carb: num  4 4 1 1 2 1 4 2 2 4 ...\n"
          ]
        }
      ]
    },
    {
      "cell_type": "markdown",
      "source": [
        "#### [Menggunakan Function as.data.frame() - Praktikum](https://academy.dqlab.id/main/livecode/345/727/3785?pr=0)"
      ],
      "metadata": {
        "id": "R3yEci_Jwzrf"
      }
    },
    {
      "cell_type": "code",
      "source": [
        "#Buatlah sebuah vector berisi nama-nama anggota DQ Universe\n",
        "dq_universe <- c(\"Kroma\", \"Andra\", \"Aksara\", \"Antara\", \"Senja\", \"Sunyi\")"
      ],
      "metadata": {
        "id": "eHaxKcfew4Ia"
      },
      "execution_count": 5,
      "outputs": []
    },
    {
      "cell_type": "code",
      "source": [
        "dq_universe"
      ],
      "metadata": {
        "colab": {
          "base_uri": "https://localhost:8080/",
          "height": 34
        },
        "id": "Pyt1bDs3w4yg",
        "outputId": "875309ef-0539-4e58-8768-8f3f86a04ef0"
      },
      "execution_count": 6,
      "outputs": [
        {
          "output_type": "display_data",
          "data": {
            "text/html": [
              "<style>\n",
              ".list-inline {list-style: none; margin:0; padding: 0}\n",
              ".list-inline>li {display: inline-block}\n",
              ".list-inline>li:not(:last-child)::after {content: \"\\00b7\"; padding: 0 .5ex}\n",
              "</style>\n",
              "<ol class=list-inline><li>'Kroma'</li><li>'Andra'</li><li>'Aksara'</li><li>'Antara'</li><li>'Senja'</li><li>'Sunyi'</li></ol>\n"
            ],
            "text/markdown": "1. 'Kroma'\n2. 'Andra'\n3. 'Aksara'\n4. 'Antara'\n5. 'Senja'\n6. 'Sunyi'\n\n\n",
            "text/latex": "\\begin{enumerate*}\n\\item 'Kroma'\n\\item 'Andra'\n\\item 'Aksara'\n\\item 'Antara'\n\\item 'Senja'\n\\item 'Sunyi'\n\\end{enumerate*}\n",
            "text/plain": [
              "[1] \"Kroma\"  \"Andra\"  \"Aksara\" \"Antara\" \"Senja\"  \"Sunyi\" "
            ]
          },
          "metadata": {}
        }
      ]
    },
    {
      "cell_type": "code",
      "source": [
        "#Aplikasikan as.data.frame() untuk vector dq_universe\n",
        "df <- as.data.frame(dq_universe)"
      ],
      "metadata": {
        "id": "_CzzApMIw4qq"
      },
      "execution_count": 7,
      "outputs": []
    },
    {
      "cell_type": "code",
      "source": [
        "df"
      ],
      "metadata": {
        "colab": {
          "base_uri": "https://localhost:8080/",
          "height": 304
        },
        "id": "oisp4vtKxN1q",
        "outputId": "994c1605-aa94-41ab-95c9-29bc0e2c0bcb"
      },
      "execution_count": 8,
      "outputs": [
        {
          "output_type": "display_data",
          "data": {
            "text/html": [
              "<table class=\"dataframe\">\n",
              "<caption>A data.frame: 6 × 1</caption>\n",
              "<thead>\n",
              "\t<tr><th scope=col>dq_universe</th></tr>\n",
              "\t<tr><th scope=col>&lt;chr&gt;</th></tr>\n",
              "</thead>\n",
              "<tbody>\n",
              "\t<tr><td>Kroma </td></tr>\n",
              "\t<tr><td>Andra </td></tr>\n",
              "\t<tr><td>Aksara</td></tr>\n",
              "\t<tr><td>Antara</td></tr>\n",
              "\t<tr><td>Senja </td></tr>\n",
              "\t<tr><td>Sunyi </td></tr>\n",
              "</tbody>\n",
              "</table>\n"
            ],
            "text/markdown": "\nA data.frame: 6 × 1\n\n| dq_universe &lt;chr&gt; |\n|---|\n| Kroma  |\n| Andra  |\n| Aksara |\n| Antara |\n| Senja  |\n| Sunyi  |\n\n",
            "text/latex": "A data.frame: 6 × 1\n\\begin{tabular}{l}\n dq\\_universe\\\\\n <chr>\\\\\n\\hline\n\t Kroma \\\\\n\t Andra \\\\\n\t Aksara\\\\\n\t Antara\\\\\n\t Senja \\\\\n\t Sunyi \\\\\n\\end{tabular}\n",
            "text/plain": [
              "  dq_universe\n",
              "1 Kroma      \n",
              "2 Andra      \n",
              "3 Aksara     \n",
              "4 Antara     \n",
              "5 Senja      \n",
              "6 Sunyi      "
            ]
          },
          "metadata": {}
        }
      ]
    },
    {
      "cell_type": "code",
      "source": [
        "#cek apakah variable df merupakan Dataframe\n",
        "is.data.frame(df)"
      ],
      "metadata": {
        "colab": {
          "base_uri": "https://localhost:8080/",
          "height": 34
        },
        "id": "6ZgVR7EoxQPw",
        "outputId": "d9f719c9-64a2-464f-fadb-f2145b3dd6f2"
      },
      "execution_count": 9,
      "outputs": [
        {
          "output_type": "display_data",
          "data": {
            "text/html": [
              "TRUE"
            ],
            "text/markdown": "TRUE",
            "text/latex": "TRUE",
            "text/plain": [
              "[1] TRUE"
            ]
          },
          "metadata": {}
        }
      ]
    },
    {
      "cell_type": "markdown",
      "source": [
        "#### [Menggunakan Function data.frame() - Praktikum](https://academy.dqlab.id/main/livecode/345/727/3787?pr=0)"
      ],
      "metadata": {
        "id": "yPj5Tpkqxlyn"
      }
    },
    {
      "cell_type": "code",
      "source": [
        "#Buatlah vector sesuai dengan instruksi yang sudah diberikan\n",
        "nama <- c(\"Kroma\", \"Andra\", \"Aksara\", \"Antara\", \"Senja\")\n",
        "pekerjaan <- c(\"Manager\", \"Senior Data Scientist\", \"Data Analyst\", \"Data Engineer\", \"Senior Data Analyst\")\n",
        "periode_kerja <- c(5, 2, 1, 1, 3)"
      ],
      "metadata": {
        "id": "F5dQPkTexqGe"
      },
      "execution_count": 10,
      "outputs": []
    },
    {
      "cell_type": "code",
      "source": [
        "#Gabungkan ketiga vector menjadi sebuah Dataframe menggunakan data.frame()\n",
        "df <- data.frame(nama,pekerjaan,periode_kerja)\n",
        "df"
      ],
      "metadata": {
        "colab": {
          "base_uri": "https://localhost:8080/",
          "height": 255
        },
        "id": "jfCETvZSxrMh",
        "outputId": "9a7d27b4-5a9e-436b-da55-8df089ebb876"
      },
      "execution_count": 11,
      "outputs": [
        {
          "output_type": "display_data",
          "data": {
            "text/html": [
              "<table class=\"dataframe\">\n",
              "<caption>A data.frame: 5 × 3</caption>\n",
              "<thead>\n",
              "\t<tr><th scope=col>nama</th><th scope=col>pekerjaan</th><th scope=col>periode_kerja</th></tr>\n",
              "\t<tr><th scope=col>&lt;chr&gt;</th><th scope=col>&lt;chr&gt;</th><th scope=col>&lt;dbl&gt;</th></tr>\n",
              "</thead>\n",
              "<tbody>\n",
              "\t<tr><td>Kroma </td><td>Manager              </td><td>5</td></tr>\n",
              "\t<tr><td>Andra </td><td>Senior Data Scientist</td><td>2</td></tr>\n",
              "\t<tr><td>Aksara</td><td>Data Analyst         </td><td>1</td></tr>\n",
              "\t<tr><td>Antara</td><td>Data Engineer        </td><td>1</td></tr>\n",
              "\t<tr><td>Senja </td><td>Senior Data Analyst  </td><td>3</td></tr>\n",
              "</tbody>\n",
              "</table>\n"
            ],
            "text/markdown": "\nA data.frame: 5 × 3\n\n| nama &lt;chr&gt; | pekerjaan &lt;chr&gt; | periode_kerja &lt;dbl&gt; |\n|---|---|---|\n| Kroma  | Manager               | 5 |\n| Andra  | Senior Data Scientist | 2 |\n| Aksara | Data Analyst          | 1 |\n| Antara | Data Engineer         | 1 |\n| Senja  | Senior Data Analyst   | 3 |\n\n",
            "text/latex": "A data.frame: 5 × 3\n\\begin{tabular}{lll}\n nama & pekerjaan & periode\\_kerja\\\\\n <chr> & <chr> & <dbl>\\\\\n\\hline\n\t Kroma  & Manager               & 5\\\\\n\t Andra  & Senior Data Scientist & 2\\\\\n\t Aksara & Data Analyst          & 1\\\\\n\t Antara & Data Engineer         & 1\\\\\n\t Senja  & Senior Data Analyst   & 3\\\\\n\\end{tabular}\n",
            "text/plain": [
              "  nama   pekerjaan             periode_kerja\n",
              "1 Kroma  Manager               5            \n",
              "2 Andra  Senior Data Scientist 2            \n",
              "3 Aksara Data Analyst          1            \n",
              "4 Antara Data Engineer         1            \n",
              "5 Senja  Senior Data Analyst   3            "
            ]
          },
          "metadata": {}
        }
      ]
    },
    {
      "cell_type": "code",
      "source": [
        "#cek apakah variable df merupakan Dataframe\n",
        "is.data.frame(df)"
      ],
      "metadata": {
        "colab": {
          "base_uri": "https://localhost:8080/",
          "height": 34
        },
        "id": "ZPzjKzWpxrGB",
        "outputId": "555a6a2a-5f17-4007-fdcc-e5eb15e75555"
      },
      "execution_count": 12,
      "outputs": [
        {
          "output_type": "display_data",
          "data": {
            "text/html": [
              "TRUE"
            ],
            "text/markdown": "TRUE",
            "text/latex": "TRUE",
            "text/plain": [
              "[1] TRUE"
            ]
          },
          "metadata": {}
        }
      ]
    },
    {
      "cell_type": "markdown",
      "source": [
        "## Akses Elemen pada Dataframe"
      ],
      "metadata": {
        "id": "XoaIk-psuwKS"
      }
    },
    {
      "cell_type": "markdown",
      "source": [
        "#### [Mencoba Akses Element pada Dataframe - Praktikum](https://academy.dqlab.id/main/livecode/345/728/3790?pr=0)"
      ],
      "metadata": {
        "id": "LWtbs1XNy8bM"
      }
    },
    {
      "cell_type": "code",
      "source": [
        "#Tampilkan isi dari df\n",
        "df"
      ],
      "metadata": {
        "colab": {
          "base_uri": "https://localhost:8080/",
          "height": 255
        },
        "id": "5VtEUH4jzAjt",
        "outputId": "faf6eef7-e8ca-4408-9ff1-522bb10ba714"
      },
      "execution_count": 13,
      "outputs": [
        {
          "output_type": "display_data",
          "data": {
            "text/html": [
              "<table class=\"dataframe\">\n",
              "<caption>A data.frame: 5 × 3</caption>\n",
              "<thead>\n",
              "\t<tr><th scope=col>nama</th><th scope=col>pekerjaan</th><th scope=col>periode_kerja</th></tr>\n",
              "\t<tr><th scope=col>&lt;chr&gt;</th><th scope=col>&lt;chr&gt;</th><th scope=col>&lt;dbl&gt;</th></tr>\n",
              "</thead>\n",
              "<tbody>\n",
              "\t<tr><td>Kroma </td><td>Manager              </td><td>5</td></tr>\n",
              "\t<tr><td>Andra </td><td>Senior Data Scientist</td><td>2</td></tr>\n",
              "\t<tr><td>Aksara</td><td>Data Analyst         </td><td>1</td></tr>\n",
              "\t<tr><td>Antara</td><td>Data Engineer        </td><td>1</td></tr>\n",
              "\t<tr><td>Senja </td><td>Senior Data Analyst  </td><td>3</td></tr>\n",
              "</tbody>\n",
              "</table>\n"
            ],
            "text/markdown": "\nA data.frame: 5 × 3\n\n| nama &lt;chr&gt; | pekerjaan &lt;chr&gt; | periode_kerja &lt;dbl&gt; |\n|---|---|---|\n| Kroma  | Manager               | 5 |\n| Andra  | Senior Data Scientist | 2 |\n| Aksara | Data Analyst          | 1 |\n| Antara | Data Engineer         | 1 |\n| Senja  | Senior Data Analyst   | 3 |\n\n",
            "text/latex": "A data.frame: 5 × 3\n\\begin{tabular}{lll}\n nama & pekerjaan & periode\\_kerja\\\\\n <chr> & <chr> & <dbl>\\\\\n\\hline\n\t Kroma  & Manager               & 5\\\\\n\t Andra  & Senior Data Scientist & 2\\\\\n\t Aksara & Data Analyst          & 1\\\\\n\t Antara & Data Engineer         & 1\\\\\n\t Senja  & Senior Data Analyst   & 3\\\\\n\\end{tabular}\n",
            "text/plain": [
              "  nama   pekerjaan             periode_kerja\n",
              "1 Kroma  Manager               5            \n",
              "2 Andra  Senior Data Scientist 2            \n",
              "3 Aksara Data Analyst          1            \n",
              "4 Antara Data Engineer         1            \n",
              "5 Senja  Senior Data Analyst   3            "
            ]
          },
          "metadata": {}
        }
      ]
    },
    {
      "cell_type": "code",
      "source": [
        "#Tampilkan jabatan dari Kroma\n",
        "df[1,2]"
      ],
      "metadata": {
        "colab": {
          "base_uri": "https://localhost:8080/",
          "height": 34
        },
        "id": "4EQjjCUwzOAR",
        "outputId": "4eefdbac-183c-4c6e-d517-d5e4201e6f33"
      },
      "execution_count": 14,
      "outputs": [
        {
          "output_type": "display_data",
          "data": {
            "text/html": [
              "'Manager'"
            ],
            "text/markdown": "'Manager'",
            "text/latex": "'Manager'",
            "text/plain": [
              "[1] \"Manager\""
            ]
          },
          "metadata": {}
        }
      ]
    },
    {
      "cell_type": "code",
      "source": [
        "#Tampilkan jabatan dari Senja\n",
        "df[5,2]"
      ],
      "metadata": {
        "colab": {
          "base_uri": "https://localhost:8080/",
          "height": 34
        },
        "id": "B8vNkBAJzN8q",
        "outputId": "31a6911b-342e-460e-9fcd-53b85fc99ab4"
      },
      "execution_count": 15,
      "outputs": [
        {
          "output_type": "display_data",
          "data": {
            "text/html": [
              "'Senior Data Analyst'"
            ],
            "text/markdown": "'Senior Data Analyst'",
            "text/latex": "'Senior Data Analyst'",
            "text/plain": [
              "[1] \"Senior Data Analyst\""
            ]
          },
          "metadata": {}
        }
      ]
    },
    {
      "cell_type": "code",
      "source": [
        "#Tampilkan sudah berapa lama Andra bekerja di DQLab\n",
        "df[2,3]"
      ],
      "metadata": {
        "colab": {
          "base_uri": "https://localhost:8080/",
          "height": 34
        },
        "id": "J5dZXcdUzN3e",
        "outputId": "b92e49eb-4ef8-41da-f96e-bfa9137e7272"
      },
      "execution_count": 16,
      "outputs": [
        {
          "output_type": "display_data",
          "data": {
            "text/html": [
              "2"
            ],
            "text/markdown": "2",
            "text/latex": "2",
            "text/plain": [
              "[1] 2"
            ]
          },
          "metadata": {}
        }
      ]
    },
    {
      "cell_type": "code",
      "source": [
        "#Tampilkan sudah berapa lama Aksara bekerja di DQLab\n",
        "df[3,3]"
      ],
      "metadata": {
        "colab": {
          "base_uri": "https://localhost:8080/",
          "height": 34
        },
        "id": "yk4uEG0-z_gX",
        "outputId": "084cc1f5-df3e-48e7-a2ce-8d4394b24f9c"
      },
      "execution_count": 17,
      "outputs": [
        {
          "output_type": "display_data",
          "data": {
            "text/html": [
              "1"
            ],
            "text/markdown": "1",
            "text/latex": "1",
            "text/plain": [
              "[1] 1"
            ]
          },
          "metadata": {}
        }
      ]
    },
    {
      "cell_type": "code",
      "source": [
        "#Tampilkan semua informasi mengenai Antara\n",
        "df[4,]"
      ],
      "metadata": {
        "colab": {
          "base_uri": "https://localhost:8080/",
          "height": 129
        },
        "id": "ILRBdgk6z_Xk",
        "outputId": "41a81a0c-6522-493a-a099-c1d160db7b5b"
      },
      "execution_count": 18,
      "outputs": [
        {
          "output_type": "display_data",
          "data": {
            "text/html": [
              "<table class=\"dataframe\">\n",
              "<caption>A data.frame: 1 × 3</caption>\n",
              "<thead>\n",
              "\t<tr><th></th><th scope=col>nama</th><th scope=col>pekerjaan</th><th scope=col>periode_kerja</th></tr>\n",
              "\t<tr><th></th><th scope=col>&lt;chr&gt;</th><th scope=col>&lt;chr&gt;</th><th scope=col>&lt;dbl&gt;</th></tr>\n",
              "</thead>\n",
              "<tbody>\n",
              "\t<tr><th scope=row>4</th><td>Antara</td><td>Data Engineer</td><td>1</td></tr>\n",
              "</tbody>\n",
              "</table>\n"
            ],
            "text/markdown": "\nA data.frame: 1 × 3\n\n| <!--/--> | nama &lt;chr&gt; | pekerjaan &lt;chr&gt; | periode_kerja &lt;dbl&gt; |\n|---|---|---|---|\n| 4 | Antara | Data Engineer | 1 |\n\n",
            "text/latex": "A data.frame: 1 × 3\n\\begin{tabular}{r|lll}\n  & nama & pekerjaan & periode\\_kerja\\\\\n  & <chr> & <chr> & <dbl>\\\\\n\\hline\n\t4 & Antara & Data Engineer & 1\\\\\n\\end{tabular}\n",
            "text/plain": [
              "  nama   pekerjaan     periode_kerja\n",
              "4 Antara Data Engineer 1            "
            ]
          },
          "metadata": {}
        }
      ]
    },
    {
      "cell_type": "markdown",
      "source": [
        "#### [Cara Lain Untuk Mengakses Element pada Dataframe - Praktikum](https://academy.dqlab.id/main/livecode/345/728/3791?pr=0)"
      ],
      "metadata": {
        "id": "kWKML6Ks0chW"
      }
    },
    {
      "cell_type": "code",
      "source": [
        "#Tampilkan 3 baris pertama dari kolom 'pekerjaan'\n",
        "df[1:3,'pekerjaan']"
      ],
      "metadata": {
        "colab": {
          "base_uri": "https://localhost:8080/",
          "height": 34
        },
        "id": "R6X2LiYw0hXH",
        "outputId": "71ddf656-bbcb-41d7-f025-0462b03d26b3"
      },
      "execution_count": 19,
      "outputs": [
        {
          "output_type": "display_data",
          "data": {
            "text/html": [
              "<style>\n",
              ".list-inline {list-style: none; margin:0; padding: 0}\n",
              ".list-inline>li {display: inline-block}\n",
              ".list-inline>li:not(:last-child)::after {content: \"\\00b7\"; padding: 0 .5ex}\n",
              "</style>\n",
              "<ol class=list-inline><li>'Manager'</li><li>'Senior Data Scientist'</li><li>'Data Analyst'</li></ol>\n"
            ],
            "text/markdown": "1. 'Manager'\n2. 'Senior Data Scientist'\n3. 'Data Analyst'\n\n\n",
            "text/latex": "\\begin{enumerate*}\n\\item 'Manager'\n\\item 'Senior Data Scientist'\n\\item 'Data Analyst'\n\\end{enumerate*}\n",
            "text/plain": [
              "[1] \"Manager\"               \"Senior Data Scientist\" \"Data Analyst\"         "
            ]
          },
          "metadata": {}
        }
      ]
    },
    {
      "cell_type": "code",
      "source": [
        "#Tampilkan 2 baris pertama dari kolom 'periode_kerja'\n",
        "df[1:2,'periode_kerja']"
      ],
      "metadata": {
        "colab": {
          "base_uri": "https://localhost:8080/",
          "height": 34
        },
        "id": "r127j17g0hxh",
        "outputId": "a4281df4-5eb5-49fd-a733-fa21dd76cf7b"
      },
      "execution_count": 20,
      "outputs": [
        {
          "output_type": "display_data",
          "data": {
            "text/html": [
              "<style>\n",
              ".list-inline {list-style: none; margin:0; padding: 0}\n",
              ".list-inline>li {display: inline-block}\n",
              ".list-inline>li:not(:last-child)::after {content: \"\\00b7\"; padding: 0 .5ex}\n",
              "</style>\n",
              "<ol class=list-inline><li>5</li><li>2</li></ol>\n"
            ],
            "text/markdown": "1. 5\n2. 2\n\n\n",
            "text/latex": "\\begin{enumerate*}\n\\item 5\n\\item 2\n\\end{enumerate*}\n",
            "text/plain": [
              "[1] 5 2"
            ]
          },
          "metadata": {}
        }
      ]
    },
    {
      "cell_type": "markdown",
      "source": [
        "#### [Berkenalan dengan Tanda ($) - Praktikum](https://academy.dqlab.id/main/livecode/345/728/3792?pr=0)"
      ],
      "metadata": {
        "id": "x60kOwbn1Bfm"
      }
    },
    {
      "cell_type": "code",
      "source": [
        "#Tampilkan seluruh element pada kolom 'nama' dengan menggunakan $\n",
        "df$nama"
      ],
      "metadata": {
        "colab": {
          "base_uri": "https://localhost:8080/",
          "height": 34
        },
        "id": "2qF2si9q1Gt3",
        "outputId": "669e9b27-82f4-4eb5-99cc-93d1b6ad6ebd"
      },
      "execution_count": 21,
      "outputs": [
        {
          "output_type": "display_data",
          "data": {
            "text/html": [
              "<style>\n",
              ".list-inline {list-style: none; margin:0; padding: 0}\n",
              ".list-inline>li {display: inline-block}\n",
              ".list-inline>li:not(:last-child)::after {content: \"\\00b7\"; padding: 0 .5ex}\n",
              "</style>\n",
              "<ol class=list-inline><li>'Kroma'</li><li>'Andra'</li><li>'Aksara'</li><li>'Antara'</li><li>'Senja'</li></ol>\n"
            ],
            "text/markdown": "1. 'Kroma'\n2. 'Andra'\n3. 'Aksara'\n4. 'Antara'\n5. 'Senja'\n\n\n",
            "text/latex": "\\begin{enumerate*}\n\\item 'Kroma'\n\\item 'Andra'\n\\item 'Aksara'\n\\item 'Antara'\n\\item 'Senja'\n\\end{enumerate*}\n",
            "text/plain": [
              "[1] \"Kroma\"  \"Andra\"  \"Aksara\" \"Antara\" \"Senja\" "
            ]
          },
          "metadata": {}
        }
      ]
    },
    {
      "cell_type": "code",
      "source": [
        "#Tampilkan seluruh element pada kolom 'pekerjaan' dengan menggunakan $\n",
        "df$pekerjaan"
      ],
      "metadata": {
        "colab": {
          "base_uri": "https://localhost:8080/",
          "height": 34
        },
        "id": "ttPdDvks1HEK",
        "outputId": "5dd11b1d-4304-4ba9-c0a5-191a7a417a01"
      },
      "execution_count": 22,
      "outputs": [
        {
          "output_type": "display_data",
          "data": {
            "text/html": [
              "<style>\n",
              ".list-inline {list-style: none; margin:0; padding: 0}\n",
              ".list-inline>li {display: inline-block}\n",
              ".list-inline>li:not(:last-child)::after {content: \"\\00b7\"; padding: 0 .5ex}\n",
              "</style>\n",
              "<ol class=list-inline><li>'Manager'</li><li>'Senior Data Scientist'</li><li>'Data Analyst'</li><li>'Data Engineer'</li><li>'Senior Data Analyst'</li></ol>\n"
            ],
            "text/markdown": "1. 'Manager'\n2. 'Senior Data Scientist'\n3. 'Data Analyst'\n4. 'Data Engineer'\n5. 'Senior Data Analyst'\n\n\n",
            "text/latex": "\\begin{enumerate*}\n\\item 'Manager'\n\\item 'Senior Data Scientist'\n\\item 'Data Analyst'\n\\item 'Data Engineer'\n\\item 'Senior Data Analyst'\n\\end{enumerate*}\n",
            "text/plain": [
              "[1] \"Manager\"               \"Senior Data Scientist\" \"Data Analyst\"         \n",
              "[4] \"Data Engineer\"         \"Senior Data Analyst\"  "
            ]
          },
          "metadata": {}
        }
      ]
    },
    {
      "cell_type": "code",
      "source": [
        "#Tampilkan seluruh element pada kolom 'periode_kerja' dengan menggunakan $\n",
        "df$periode_kerja"
      ],
      "metadata": {
        "colab": {
          "base_uri": "https://localhost:8080/",
          "height": 34
        },
        "id": "avvJZk5k1G8C",
        "outputId": "ef17fe62-043c-49fe-ad08-4ad602cfbd1b"
      },
      "execution_count": 23,
      "outputs": [
        {
          "output_type": "display_data",
          "data": {
            "text/html": [
              "<style>\n",
              ".list-inline {list-style: none; margin:0; padding: 0}\n",
              ".list-inline>li {display: inline-block}\n",
              ".list-inline>li:not(:last-child)::after {content: \"\\00b7\"; padding: 0 .5ex}\n",
              "</style>\n",
              "<ol class=list-inline><li>5</li><li>2</li><li>1</li><li>1</li><li>3</li></ol>\n"
            ],
            "text/markdown": "1. 5\n2. 2\n3. 1\n4. 1\n5. 3\n\n\n",
            "text/latex": "\\begin{enumerate*}\n\\item 5\n\\item 2\n\\item 1\n\\item 1\n\\item 3\n\\end{enumerate*}\n",
            "text/plain": [
              "[1] 5 2 1 1 3"
            ]
          },
          "metadata": {}
        }
      ]
    },
    {
      "cell_type": "markdown",
      "source": [
        "## Keluarga Apply()"
      ],
      "metadata": {
        "id": "oPBt_nwOu0hy"
      }
    },
    {
      "cell_type": "markdown",
      "source": [
        "#### [Mengenal lapply() - Praktikum](https://academy.dqlab.id/main/livecode/345/729/3796?pr=0)"
      ],
      "metadata": {
        "id": "c22oKoWV2dpj"
      }
    },
    {
      "cell_type": "code",
      "source": [
        "#Ubahlah semua data character yang ada pada Dataframe df menjadi huruf kecil\n",
        "lapply(df, tolower)"
      ],
      "metadata": {
        "colab": {
          "base_uri": "https://localhost:8080/",
          "height": 149
        },
        "id": "IiPSphm42k4X",
        "outputId": "83593da9-964a-43f3-dd03-de0d4afd0945"
      },
      "execution_count": 24,
      "outputs": [
        {
          "output_type": "display_data",
          "data": {
            "text/html": [
              "<dl>\n",
              "\t<dt>$nama</dt>\n",
              "\t\t<dd><style>\n",
              ".list-inline {list-style: none; margin:0; padding: 0}\n",
              ".list-inline>li {display: inline-block}\n",
              ".list-inline>li:not(:last-child)::after {content: \"\\00b7\"; padding: 0 .5ex}\n",
              "</style>\n",
              "<ol class=list-inline><li>'kroma'</li><li>'andra'</li><li>'aksara'</li><li>'antara'</li><li>'senja'</li></ol>\n",
              "</dd>\n",
              "\t<dt>$pekerjaan</dt>\n",
              "\t\t<dd><style>\n",
              ".list-inline {list-style: none; margin:0; padding: 0}\n",
              ".list-inline>li {display: inline-block}\n",
              ".list-inline>li:not(:last-child)::after {content: \"\\00b7\"; padding: 0 .5ex}\n",
              "</style>\n",
              "<ol class=list-inline><li>'manager'</li><li>'senior data scientist'</li><li>'data analyst'</li><li>'data engineer'</li><li>'senior data analyst'</li></ol>\n",
              "</dd>\n",
              "\t<dt>$periode_kerja</dt>\n",
              "\t\t<dd><style>\n",
              ".list-inline {list-style: none; margin:0; padding: 0}\n",
              ".list-inline>li {display: inline-block}\n",
              ".list-inline>li:not(:last-child)::after {content: \"\\00b7\"; padding: 0 .5ex}\n",
              "</style>\n",
              "<ol class=list-inline><li>'5'</li><li>'2'</li><li>'1'</li><li>'1'</li><li>'3'</li></ol>\n",
              "</dd>\n",
              "</dl>\n"
            ],
            "text/markdown": "$nama\n:   1. 'kroma'\n2. 'andra'\n3. 'aksara'\n4. 'antara'\n5. 'senja'\n\n\n\n$pekerjaan\n:   1. 'manager'\n2. 'senior data scientist'\n3. 'data analyst'\n4. 'data engineer'\n5. 'senior data analyst'\n\n\n\n$periode_kerja\n:   1. '5'\n2. '2'\n3. '1'\n4. '1'\n5. '3'\n\n\n\n\n\n",
            "text/latex": "\\begin{description}\n\\item[\\$nama] \\begin{enumerate*}\n\\item 'kroma'\n\\item 'andra'\n\\item 'aksara'\n\\item 'antara'\n\\item 'senja'\n\\end{enumerate*}\n\n\\item[\\$pekerjaan] \\begin{enumerate*}\n\\item 'manager'\n\\item 'senior data scientist'\n\\item 'data analyst'\n\\item 'data engineer'\n\\item 'senior data analyst'\n\\end{enumerate*}\n\n\\item[\\$periode\\_kerja] \\begin{enumerate*}\n\\item '5'\n\\item '2'\n\\item '1'\n\\item '1'\n\\item '3'\n\\end{enumerate*}\n\n\\end{description}\n",
            "text/plain": [
              "$nama\n",
              "[1] \"kroma\"  \"andra\"  \"aksara\" \"antara\" \"senja\" \n",
              "\n",
              "$pekerjaan\n",
              "[1] \"manager\"               \"senior data scientist\" \"data analyst\"         \n",
              "[4] \"data engineer\"         \"senior data analyst\"  \n",
              "\n",
              "$periode_kerja\n",
              "[1] \"5\" \"2\" \"1\" \"1\" \"3\"\n"
            ]
          },
          "metadata": {}
        }
      ]
    },
    {
      "cell_type": "code",
      "source": [
        "#Tampilkan kelas atau tipe data dari tiap kolom pada df dengan menggunakan lapply()\n",
        "lapply(df, class)"
      ],
      "metadata": {
        "colab": {
          "base_uri": "https://localhost:8080/",
          "height": 149
        },
        "id": "6Ksoti6j2l5-",
        "outputId": "9fc2757a-9b90-498b-fb1f-79c3f7c845d3"
      },
      "execution_count": 25,
      "outputs": [
        {
          "output_type": "display_data",
          "data": {
            "text/html": [
              "<dl>\n",
              "\t<dt>$nama</dt>\n",
              "\t\t<dd>'character'</dd>\n",
              "\t<dt>$pekerjaan</dt>\n",
              "\t\t<dd>'character'</dd>\n",
              "\t<dt>$periode_kerja</dt>\n",
              "\t\t<dd>'numeric'</dd>\n",
              "</dl>\n"
            ],
            "text/markdown": "$nama\n:   'character'\n$pekerjaan\n:   'character'\n$periode_kerja\n:   'numeric'\n\n\n",
            "text/latex": "\\begin{description}\n\\item[\\$nama] 'character'\n\\item[\\$pekerjaan] 'character'\n\\item[\\$periode\\_kerja] 'numeric'\n\\end{description}\n",
            "text/plain": [
              "$nama\n",
              "[1] \"character\"\n",
              "\n",
              "$pekerjaan\n",
              "[1] \"character\"\n",
              "\n",
              "$periode_kerja\n",
              "[1] \"numeric\"\n"
            ]
          },
          "metadata": {}
        }
      ]
    },
    {
      "cell_type": "markdown",
      "source": [
        "#### [Mengenal sapply() - Praktikum](https://academy.dqlab.id/main/livecode/345/729/3797?pr=0)"
      ],
      "metadata": {
        "id": "yEUEHDxd3BVL"
      }
    },
    {
      "cell_type": "code",
      "source": [
        "#Tampilkan kelas atau tipe data dari tiap kolom pada df dengan menggunakan lapply()\n",
        "lapply <- lapply(df, class)"
      ],
      "metadata": {
        "id": "EOm7KvDw3EyC"
      },
      "execution_count": 26,
      "outputs": []
    },
    {
      "cell_type": "code",
      "source": [
        "#tampilkan isi dari variable lapply()\n",
        "lapply"
      ],
      "metadata": {
        "colab": {
          "base_uri": "https://localhost:8080/",
          "height": 149
        },
        "id": "bp3qLR2-3K-u",
        "outputId": "b23d6eef-0768-4ba8-d81e-f527513b1828"
      },
      "execution_count": 27,
      "outputs": [
        {
          "output_type": "display_data",
          "data": {
            "text/html": [
              "<dl>\n",
              "\t<dt>$nama</dt>\n",
              "\t\t<dd>'character'</dd>\n",
              "\t<dt>$pekerjaan</dt>\n",
              "\t\t<dd>'character'</dd>\n",
              "\t<dt>$periode_kerja</dt>\n",
              "\t\t<dd>'numeric'</dd>\n",
              "</dl>\n"
            ],
            "text/markdown": "$nama\n:   'character'\n$pekerjaan\n:   'character'\n$periode_kerja\n:   'numeric'\n\n\n",
            "text/latex": "\\begin{description}\n\\item[\\$nama] 'character'\n\\item[\\$pekerjaan] 'character'\n\\item[\\$periode\\_kerja] 'numeric'\n\\end{description}\n",
            "text/plain": [
              "$nama\n",
              "[1] \"character\"\n",
              "\n",
              "$pekerjaan\n",
              "[1] \"character\"\n",
              "\n",
              "$periode_kerja\n",
              "[1] \"numeric\"\n"
            ]
          },
          "metadata": {}
        }
      ]
    },
    {
      "cell_type": "code",
      "source": [
        "#tampilkan class dari variable lapply()\n",
        "class(lapply)"
      ],
      "metadata": {
        "colab": {
          "base_uri": "https://localhost:8080/",
          "height": 34
        },
        "id": "VMxg7Yr53KdD",
        "outputId": "a3cf97de-b6f0-4ede-86e4-9055a340b2df"
      },
      "execution_count": 28,
      "outputs": [
        {
          "output_type": "display_data",
          "data": {
            "text/html": [
              "'list'"
            ],
            "text/markdown": "'list'",
            "text/latex": "'list'",
            "text/plain": [
              "[1] \"list\""
            ]
          },
          "metadata": {}
        }
      ]
    },
    {
      "cell_type": "code",
      "source": [
        "#Tampilkan kelas atau tipe data dari tiap kolom pada df dengan menggunakan sapply()\n",
        "sapply <- sapply(df, class)"
      ],
      "metadata": {
        "id": "Syjls1ll3KaA"
      },
      "execution_count": 29,
      "outputs": []
    },
    {
      "cell_type": "code",
      "source": [
        "#tampilkan isi dari variable sapply()\n",
        "sapply"
      ],
      "metadata": {
        "colab": {
          "base_uri": "https://localhost:8080/",
          "height": 34
        },
        "id": "nbHwQiLK3KW2",
        "outputId": "f83c3e47-0626-4a67-d69b-a3fb45e9afbe"
      },
      "execution_count": 30,
      "outputs": [
        {
          "output_type": "display_data",
          "data": {
            "text/html": [
              "<style>\n",
              ".dl-inline {width: auto; margin:0; padding: 0}\n",
              ".dl-inline>dt, .dl-inline>dd {float: none; width: auto; display: inline-block}\n",
              ".dl-inline>dt::after {content: \":\\0020\"; padding-right: .5ex}\n",
              ".dl-inline>dt:not(:first-of-type) {padding-left: .5ex}\n",
              "</style><dl class=dl-inline><dt>nama</dt><dd>'character'</dd><dt>pekerjaan</dt><dd>'character'</dd><dt>periode_kerja</dt><dd>'numeric'</dd></dl>\n"
            ],
            "text/markdown": "nama\n:   'character'pekerjaan\n:   'character'periode_kerja\n:   'numeric'\n\n",
            "text/latex": "\\begin{description*}\n\\item[nama] 'character'\n\\item[pekerjaan] 'character'\n\\item[periode\\textbackslash{}\\_kerja] 'numeric'\n\\end{description*}\n",
            "text/plain": [
              "         nama     pekerjaan periode_kerja \n",
              "  \"character\"   \"character\"     \"numeric\" "
            ]
          },
          "metadata": {}
        }
      ]
    },
    {
      "cell_type": "code",
      "source": [
        "#tampilkan class dari variable sapply()\n",
        "class(sapply)"
      ],
      "metadata": {
        "colab": {
          "base_uri": "https://localhost:8080/",
          "height": 34
        },
        "id": "75DBUORN3KR3",
        "outputId": "47c78038-3235-4d01-f5db-f810b06af58c"
      },
      "execution_count": 31,
      "outputs": [
        {
          "output_type": "display_data",
          "data": {
            "text/html": [
              "'character'"
            ],
            "text/markdown": "'character'",
            "text/latex": "'character'",
            "text/plain": [
              "[1] \"character\""
            ]
          },
          "metadata": {}
        }
      ]
    },
    {
      "cell_type": "markdown",
      "source": [
        "## Melakukan Import Text File"
      ],
      "metadata": {
        "id": "Tko284lVu3We"
      }
    },
    {
      "cell_type": "markdown",
      "source": [
        "#### [Melakukan Import File TSV - Praktikum](https://academy.dqlab.id/main/livecode/345/730/3801?pr=0)"
      ],
      "metadata": {
        "id": "btpV16_y4ecu"
      }
    },
    {
      "cell_type": "code",
      "source": [
        "#Gunakan function read.csv untuk import customer_segmentation.tsv\n",
        "data <- read.csv(\"https://storage.googleapis.com/dqlab-dataset/customer_segments.txt\", sep=\"\\t\")"
      ],
      "metadata": {
        "id": "qV7KN4Ne4iCO"
      },
      "execution_count": 32,
      "outputs": []
    },
    {
      "cell_type": "code",
      "source": [
        "#Tampilkan isi dari variable data\n",
        "data"
      ],
      "metadata": {
        "colab": {
          "base_uri": "https://localhost:8080/",
          "height": 1000
        },
        "id": "AfEyDM7M4iUZ",
        "outputId": "11d4752f-97e2-4825-992b-3437f88efba2"
      },
      "execution_count": 33,
      "outputs": [
        {
          "output_type": "display_data",
          "data": {
            "text/html": [
              "<table class=\"dataframe\">\n",
              "<caption>A data.frame: 50 × 7</caption>\n",
              "<thead>\n",
              "\t<tr><th scope=col>Customer_ID</th><th scope=col>Nama.Pelanggan</th><th scope=col>Jenis.Kelamin</th><th scope=col>Umur</th><th scope=col>Profesi</th><th scope=col>Tipe.Residen</th><th scope=col>NilaiBelanjaSetahun</th></tr>\n",
              "\t<tr><th scope=col>&lt;chr&gt;</th><th scope=col>&lt;chr&gt;</th><th scope=col>&lt;chr&gt;</th><th scope=col>&lt;int&gt;</th><th scope=col>&lt;chr&gt;</th><th scope=col>&lt;chr&gt;</th><th scope=col>&lt;int&gt;</th></tr>\n",
              "</thead>\n",
              "<tbody>\n",
              "\t<tr><td>CUST-001</td><td>Budi Anggara         </td><td>Pria  </td><td>58</td><td>Wiraswasta      </td><td>Sector </td><td> 9497927</td></tr>\n",
              "\t<tr><td>CUST-002</td><td>Shirley Ratuwati     </td><td>Wanita</td><td>14</td><td>Pelajar         </td><td>Cluster</td><td> 2722700</td></tr>\n",
              "\t<tr><td>CUST-003</td><td>Agus Cahyono         </td><td>Pria  </td><td>48</td><td>Professional    </td><td>Cluster</td><td> 5286429</td></tr>\n",
              "\t<tr><td>CUST-004</td><td>Antonius Winarta     </td><td>Pria  </td><td>53</td><td>Professional    </td><td>Cluster</td><td> 5204498</td></tr>\n",
              "\t<tr><td>CUST-005</td><td>Ibu Sri Wahyuni, IR  </td><td>Wanita</td><td>41</td><td>Wiraswasta      </td><td>Cluster</td><td>10615206</td></tr>\n",
              "\t<tr><td>CUST-006</td><td>Rosalina Kurnia      </td><td>Wanita</td><td>24</td><td>Professional    </td><td>Cluster</td><td> 5215541</td></tr>\n",
              "\t<tr><td>CUST-007</td><td>Cahyono, Agus        </td><td>Pria  </td><td>64</td><td>Wiraswasta      </td><td>Sector </td><td> 9837260</td></tr>\n",
              "\t<tr><td>CUST-008</td><td>Danang Santosa       </td><td>Pria  </td><td>52</td><td>Professional    </td><td>Cluster</td><td> 5223569</td></tr>\n",
              "\t<tr><td>CUST-009</td><td>Elisabeth Suryadinata</td><td>Wanita</td><td>29</td><td>Professional    </td><td>Sector </td><td> 5993218</td></tr>\n",
              "\t<tr><td>CUST-010</td><td>Mario Setiawan       </td><td>Pria  </td><td>33</td><td>Professional    </td><td>Cluster</td><td> 5257448</td></tr>\n",
              "\t<tr><td>CUST-011</td><td>Maria Suryawan       </td><td>Wanita</td><td>50</td><td>Professional    </td><td>Sector </td><td> 5987367</td></tr>\n",
              "\t<tr><td>CUST-012</td><td>Erliana Widjaja      </td><td>Wanita</td><td>49</td><td>Professional    </td><td>Sector </td><td> 5941914</td></tr>\n",
              "\t<tr><td>CUST-013</td><td>Cahaya Putri         </td><td>Wanita</td><td>64</td><td>Wiraswasta      </td><td>Cluster</td><td> 9333168</td></tr>\n",
              "\t<tr><td>CUST-014</td><td>Mario Setiawan       </td><td>Pria  </td><td>60</td><td>Wiraswasta      </td><td>Cluster</td><td> 9471615</td></tr>\n",
              "\t<tr><td>CUST-015</td><td>Shirley Ratuwati     </td><td>Wanita</td><td>20</td><td>Wiraswasta      </td><td>Cluster</td><td>10365668</td></tr>\n",
              "\t<tr><td>CUST-016</td><td>Bambang Rudi         </td><td>Pria  </td><td>35</td><td>Professional    </td><td>Cluster</td><td> 5262521</td></tr>\n",
              "\t<tr><td>CUST-017</td><td>Yuni Sari            </td><td>Wanita</td><td>32</td><td>Ibu Rumah Tangga</td><td>Cluster</td><td> 5677762</td></tr>\n",
              "\t<tr><td>CUST-018</td><td>Nelly Halim          </td><td>Wanita</td><td>63</td><td>Ibu Rumah Tangga</td><td>Cluster</td><td> 5340690</td></tr>\n",
              "\t<tr><td>CUST-019</td><td>Mega Pranoto         </td><td>Wanita</td><td>32</td><td>Wiraswasta      </td><td>Cluster</td><td>10884508</td></tr>\n",
              "\t<tr><td>CUST-020</td><td>Irene Novianto       </td><td>Wanita</td><td>16</td><td>Pelajar         </td><td>Sector </td><td> 2896845</td></tr>\n",
              "\t<tr><td>CUST-021</td><td>Lestari Fabianto     </td><td>Wanita</td><td>38</td><td>Wiraswasta      </td><td>Cluster</td><td> 9222070</td></tr>\n",
              "\t<tr><td>CUST-022</td><td>Novita Purba         </td><td>Wanita</td><td>52</td><td>Professional    </td><td>Cluster</td><td> 5298157</td></tr>\n",
              "\t<tr><td>CUST-023</td><td>Denny Amiruddin      </td><td>Pria  </td><td>34</td><td>Professional    </td><td>Cluster</td><td> 5239290</td></tr>\n",
              "\t<tr><td>CUST-024</td><td>Putri Ginting        </td><td>Wanita</td><td>39</td><td>Wiraswasta      </td><td>Cluster</td><td>10259572</td></tr>\n",
              "\t<tr><td>CUST-025</td><td>Julia Setiawan       </td><td>Wanita</td><td>29</td><td>Wiraswasta      </td><td>Sector </td><td>10721998</td></tr>\n",
              "\t<tr><td>CUST-026</td><td>Christine Winarto    </td><td>Wanita</td><td>55</td><td>Professional    </td><td>Cluster</td><td> 5269392</td></tr>\n",
              "\t<tr><td>CUST-027</td><td>Grace Mulyati        </td><td>Wanita</td><td>35</td><td>Wiraswasta      </td><td>Cluster</td><td> 9114159</td></tr>\n",
              "\t<tr><td>CUST-028</td><td>Adeline Huang        </td><td>Wanita</td><td>40</td><td>Ibu Rumah Tangga</td><td>Cluster</td><td> 6631680</td></tr>\n",
              "\t<tr><td>CUST-029</td><td>Tia Hartanti         </td><td>Wanita</td><td>56</td><td>Professional    </td><td>Cluster</td><td> 5271845</td></tr>\n",
              "\t<tr><td>CUST-030</td><td>Rosita Saragih       </td><td>Wanita</td><td>46</td><td>Ibu Rumah Tangga</td><td>Sector </td><td> 5020976</td></tr>\n",
              "\t<tr><td>CUST-031</td><td>Eviana Handry        </td><td>Wanita</td><td>19</td><td>Mahasiswa       </td><td>Cluster</td><td> 3042773</td></tr>\n",
              "\t<tr><td>CUST-032</td><td>Chintya Winarni      </td><td>Wanita</td><td>47</td><td>Wiraswasta      </td><td>Sector </td><td>10663179</td></tr>\n",
              "\t<tr><td>CUST-033</td><td>Cecilia Kusnadi      </td><td>Wanita</td><td>19</td><td>Mahasiswa       </td><td>Cluster</td><td> 3047926</td></tr>\n",
              "\t<tr><td>CUST-034</td><td>Deasy Arisandi       </td><td>Wanita</td><td>21</td><td>Wiraswasta      </td><td>Sector </td><td> 9759822</td></tr>\n",
              "\t<tr><td>CUST-035</td><td>Ida Ayu              </td><td>Wanita</td><td>39</td><td>Professional    </td><td>Sector </td><td> 5962575</td></tr>\n",
              "\t<tr><td>CUST-036</td><td>Ni Made Suasti       </td><td>Wanita</td><td>30</td><td>Wiraswasta      </td><td>Cluster</td><td> 9678994</td></tr>\n",
              "\t<tr><td>CUST-037</td><td>Felicia Tandiono     </td><td>Wanita</td><td>25</td><td>Professional    </td><td>Sector </td><td> 5972787</td></tr>\n",
              "\t<tr><td>CUST-038</td><td>Agatha Salim         </td><td>Wanita</td><td>46</td><td>Wiraswasta      </td><td>Sector </td><td>10477127</td></tr>\n",
              "\t<tr><td>CUST-039</td><td>Gina Hidayat         </td><td>Wanita</td><td>20</td><td>Professional    </td><td>Cluster</td><td> 5257775</td></tr>\n",
              "\t<tr><td>CUST-040</td><td>Irene Darmawan       </td><td>Wanita</td><td>14</td><td>Pelajar         </td><td>Sector </td><td> 2861855</td></tr>\n",
              "\t<tr><td>CUST-041</td><td>Shinta Aritonang     </td><td>Wanita</td><td>24</td><td>Ibu Rumah Tangga</td><td>Cluster</td><td> 6820976</td></tr>\n",
              "\t<tr><td>CUST-042</td><td>Yuliana Wati         </td><td>Wanita</td><td>26</td><td>Wiraswasta      </td><td>Cluster</td><td> 9880607</td></tr>\n",
              "\t<tr><td>CUST-043</td><td>Yenna Sumadi         </td><td>Wanita</td><td>31</td><td>Professional    </td><td>Cluster</td><td> 5268410</td></tr>\n",
              "\t<tr><td>CUST-044</td><td>Anna                 </td><td>Wanita</td><td>18</td><td>Wiraswasta      </td><td>Cluster</td><td> 9339737</td></tr>\n",
              "\t<tr><td>CUST-045</td><td>Rismawati Juni       </td><td>Wanita</td><td>22</td><td>Professional    </td><td>Cluster</td><td> 5211041</td></tr>\n",
              "\t<tr><td>CUST-046</td><td>Elfira Surya         </td><td>Wanita</td><td>25</td><td>Wiraswasta      </td><td>Sector </td><td>10099807</td></tr>\n",
              "\t<tr><td>CUST-047</td><td>Mira Kurnia          </td><td>Wanita</td><td>55</td><td>Ibu Rumah Tangga</td><td>Cluster</td><td> 6130724</td></tr>\n",
              "\t<tr><td>CUST-048</td><td>Maria Hutagalung     </td><td>Wanita</td><td>45</td><td>Wiraswasta      </td><td>Sector </td><td>10390732</td></tr>\n",
              "\t<tr><td>CUST-049</td><td>Josephine Wahab      </td><td>Wanita</td><td>33</td><td>Ibu Rumah Tangga</td><td>Sector </td><td> 4992585</td></tr>\n",
              "\t<tr><td>CUST-050</td><td>Lianna Nugraha       </td><td>Wanita</td><td>55</td><td>Wiraswasta      </td><td>Sector </td><td>10569316</td></tr>\n",
              "</tbody>\n",
              "</table>\n"
            ],
            "text/markdown": "\nA data.frame: 50 × 7\n\n| Customer_ID &lt;chr&gt; | Nama.Pelanggan &lt;chr&gt; | Jenis.Kelamin &lt;chr&gt; | Umur &lt;int&gt; | Profesi &lt;chr&gt; | Tipe.Residen &lt;chr&gt; | NilaiBelanjaSetahun &lt;int&gt; |\n|---|---|---|---|---|---|---|\n| CUST-001 | Budi Anggara          | Pria   | 58 | Wiraswasta       | Sector  |  9497927 |\n| CUST-002 | Shirley Ratuwati      | Wanita | 14 | Pelajar          | Cluster |  2722700 |\n| CUST-003 | Agus Cahyono          | Pria   | 48 | Professional     | Cluster |  5286429 |\n| CUST-004 | Antonius Winarta      | Pria   | 53 | Professional     | Cluster |  5204498 |\n| CUST-005 | Ibu Sri Wahyuni, IR   | Wanita | 41 | Wiraswasta       | Cluster | 10615206 |\n| CUST-006 | Rosalina Kurnia       | Wanita | 24 | Professional     | Cluster |  5215541 |\n| CUST-007 | Cahyono, Agus         | Pria   | 64 | Wiraswasta       | Sector  |  9837260 |\n| CUST-008 | Danang Santosa        | Pria   | 52 | Professional     | Cluster |  5223569 |\n| CUST-009 | Elisabeth Suryadinata | Wanita | 29 | Professional     | Sector  |  5993218 |\n| CUST-010 | Mario Setiawan        | Pria   | 33 | Professional     | Cluster |  5257448 |\n| CUST-011 | Maria Suryawan        | Wanita | 50 | Professional     | Sector  |  5987367 |\n| CUST-012 | Erliana Widjaja       | Wanita | 49 | Professional     | Sector  |  5941914 |\n| CUST-013 | Cahaya Putri          | Wanita | 64 | Wiraswasta       | Cluster |  9333168 |\n| CUST-014 | Mario Setiawan        | Pria   | 60 | Wiraswasta       | Cluster |  9471615 |\n| CUST-015 | Shirley Ratuwati      | Wanita | 20 | Wiraswasta       | Cluster | 10365668 |\n| CUST-016 | Bambang Rudi          | Pria   | 35 | Professional     | Cluster |  5262521 |\n| CUST-017 | Yuni Sari             | Wanita | 32 | Ibu Rumah Tangga | Cluster |  5677762 |\n| CUST-018 | Nelly Halim           | Wanita | 63 | Ibu Rumah Tangga | Cluster |  5340690 |\n| CUST-019 | Mega Pranoto          | Wanita | 32 | Wiraswasta       | Cluster | 10884508 |\n| CUST-020 | Irene Novianto        | Wanita | 16 | Pelajar          | Sector  |  2896845 |\n| CUST-021 | Lestari Fabianto      | Wanita | 38 | Wiraswasta       | Cluster |  9222070 |\n| CUST-022 | Novita Purba          | Wanita | 52 | Professional     | Cluster |  5298157 |\n| CUST-023 | Denny Amiruddin       | Pria   | 34 | Professional     | Cluster |  5239290 |\n| CUST-024 | Putri Ginting         | Wanita | 39 | Wiraswasta       | Cluster | 10259572 |\n| CUST-025 | Julia Setiawan        | Wanita | 29 | Wiraswasta       | Sector  | 10721998 |\n| CUST-026 | Christine Winarto     | Wanita | 55 | Professional     | Cluster |  5269392 |\n| CUST-027 | Grace Mulyati         | Wanita | 35 | Wiraswasta       | Cluster |  9114159 |\n| CUST-028 | Adeline Huang         | Wanita | 40 | Ibu Rumah Tangga | Cluster |  6631680 |\n| CUST-029 | Tia Hartanti          | Wanita | 56 | Professional     | Cluster |  5271845 |\n| CUST-030 | Rosita Saragih        | Wanita | 46 | Ibu Rumah Tangga | Sector  |  5020976 |\n| CUST-031 | Eviana Handry         | Wanita | 19 | Mahasiswa        | Cluster |  3042773 |\n| CUST-032 | Chintya Winarni       | Wanita | 47 | Wiraswasta       | Sector  | 10663179 |\n| CUST-033 | Cecilia Kusnadi       | Wanita | 19 | Mahasiswa        | Cluster |  3047926 |\n| CUST-034 | Deasy Arisandi        | Wanita | 21 | Wiraswasta       | Sector  |  9759822 |\n| CUST-035 | Ida Ayu               | Wanita | 39 | Professional     | Sector  |  5962575 |\n| CUST-036 | Ni Made Suasti        | Wanita | 30 | Wiraswasta       | Cluster |  9678994 |\n| CUST-037 | Felicia Tandiono      | Wanita | 25 | Professional     | Sector  |  5972787 |\n| CUST-038 | Agatha Salim          | Wanita | 46 | Wiraswasta       | Sector  | 10477127 |\n| CUST-039 | Gina Hidayat          | Wanita | 20 | Professional     | Cluster |  5257775 |\n| CUST-040 | Irene Darmawan        | Wanita | 14 | Pelajar          | Sector  |  2861855 |\n| CUST-041 | Shinta Aritonang      | Wanita | 24 | Ibu Rumah Tangga | Cluster |  6820976 |\n| CUST-042 | Yuliana Wati          | Wanita | 26 | Wiraswasta       | Cluster |  9880607 |\n| CUST-043 | Yenna Sumadi          | Wanita | 31 | Professional     | Cluster |  5268410 |\n| CUST-044 | Anna                  | Wanita | 18 | Wiraswasta       | Cluster |  9339737 |\n| CUST-045 | Rismawati Juni        | Wanita | 22 | Professional     | Cluster |  5211041 |\n| CUST-046 | Elfira Surya          | Wanita | 25 | Wiraswasta       | Sector  | 10099807 |\n| CUST-047 | Mira Kurnia           | Wanita | 55 | Ibu Rumah Tangga | Cluster |  6130724 |\n| CUST-048 | Maria Hutagalung      | Wanita | 45 | Wiraswasta       | Sector  | 10390732 |\n| CUST-049 | Josephine Wahab       | Wanita | 33 | Ibu Rumah Tangga | Sector  |  4992585 |\n| CUST-050 | Lianna Nugraha        | Wanita | 55 | Wiraswasta       | Sector  | 10569316 |\n\n",
            "text/latex": "A data.frame: 50 × 7\n\\begin{tabular}{lllllll}\n Customer\\_ID & Nama.Pelanggan & Jenis.Kelamin & Umur & Profesi & Tipe.Residen & NilaiBelanjaSetahun\\\\\n <chr> & <chr> & <chr> & <int> & <chr> & <chr> & <int>\\\\\n\\hline\n\t CUST-001 & Budi Anggara          & Pria   & 58 & Wiraswasta       & Sector  &  9497927\\\\\n\t CUST-002 & Shirley Ratuwati      & Wanita & 14 & Pelajar          & Cluster &  2722700\\\\\n\t CUST-003 & Agus Cahyono          & Pria   & 48 & Professional     & Cluster &  5286429\\\\\n\t CUST-004 & Antonius Winarta      & Pria   & 53 & Professional     & Cluster &  5204498\\\\\n\t CUST-005 & Ibu Sri Wahyuni, IR   & Wanita & 41 & Wiraswasta       & Cluster & 10615206\\\\\n\t CUST-006 & Rosalina Kurnia       & Wanita & 24 & Professional     & Cluster &  5215541\\\\\n\t CUST-007 & Cahyono, Agus         & Pria   & 64 & Wiraswasta       & Sector  &  9837260\\\\\n\t CUST-008 & Danang Santosa        & Pria   & 52 & Professional     & Cluster &  5223569\\\\\n\t CUST-009 & Elisabeth Suryadinata & Wanita & 29 & Professional     & Sector  &  5993218\\\\\n\t CUST-010 & Mario Setiawan        & Pria   & 33 & Professional     & Cluster &  5257448\\\\\n\t CUST-011 & Maria Suryawan        & Wanita & 50 & Professional     & Sector  &  5987367\\\\\n\t CUST-012 & Erliana Widjaja       & Wanita & 49 & Professional     & Sector  &  5941914\\\\\n\t CUST-013 & Cahaya Putri          & Wanita & 64 & Wiraswasta       & Cluster &  9333168\\\\\n\t CUST-014 & Mario Setiawan        & Pria   & 60 & Wiraswasta       & Cluster &  9471615\\\\\n\t CUST-015 & Shirley Ratuwati      & Wanita & 20 & Wiraswasta       & Cluster & 10365668\\\\\n\t CUST-016 & Bambang Rudi          & Pria   & 35 & Professional     & Cluster &  5262521\\\\\n\t CUST-017 & Yuni Sari             & Wanita & 32 & Ibu Rumah Tangga & Cluster &  5677762\\\\\n\t CUST-018 & Nelly Halim           & Wanita & 63 & Ibu Rumah Tangga & Cluster &  5340690\\\\\n\t CUST-019 & Mega Pranoto          & Wanita & 32 & Wiraswasta       & Cluster & 10884508\\\\\n\t CUST-020 & Irene Novianto        & Wanita & 16 & Pelajar          & Sector  &  2896845\\\\\n\t CUST-021 & Lestari Fabianto      & Wanita & 38 & Wiraswasta       & Cluster &  9222070\\\\\n\t CUST-022 & Novita Purba          & Wanita & 52 & Professional     & Cluster &  5298157\\\\\n\t CUST-023 & Denny Amiruddin       & Pria   & 34 & Professional     & Cluster &  5239290\\\\\n\t CUST-024 & Putri Ginting         & Wanita & 39 & Wiraswasta       & Cluster & 10259572\\\\\n\t CUST-025 & Julia Setiawan        & Wanita & 29 & Wiraswasta       & Sector  & 10721998\\\\\n\t CUST-026 & Christine Winarto     & Wanita & 55 & Professional     & Cluster &  5269392\\\\\n\t CUST-027 & Grace Mulyati         & Wanita & 35 & Wiraswasta       & Cluster &  9114159\\\\\n\t CUST-028 & Adeline Huang         & Wanita & 40 & Ibu Rumah Tangga & Cluster &  6631680\\\\\n\t CUST-029 & Tia Hartanti          & Wanita & 56 & Professional     & Cluster &  5271845\\\\\n\t CUST-030 & Rosita Saragih        & Wanita & 46 & Ibu Rumah Tangga & Sector  &  5020976\\\\\n\t CUST-031 & Eviana Handry         & Wanita & 19 & Mahasiswa        & Cluster &  3042773\\\\\n\t CUST-032 & Chintya Winarni       & Wanita & 47 & Wiraswasta       & Sector  & 10663179\\\\\n\t CUST-033 & Cecilia Kusnadi       & Wanita & 19 & Mahasiswa        & Cluster &  3047926\\\\\n\t CUST-034 & Deasy Arisandi        & Wanita & 21 & Wiraswasta       & Sector  &  9759822\\\\\n\t CUST-035 & Ida Ayu               & Wanita & 39 & Professional     & Sector  &  5962575\\\\\n\t CUST-036 & Ni Made Suasti        & Wanita & 30 & Wiraswasta       & Cluster &  9678994\\\\\n\t CUST-037 & Felicia Tandiono      & Wanita & 25 & Professional     & Sector  &  5972787\\\\\n\t CUST-038 & Agatha Salim          & Wanita & 46 & Wiraswasta       & Sector  & 10477127\\\\\n\t CUST-039 & Gina Hidayat          & Wanita & 20 & Professional     & Cluster &  5257775\\\\\n\t CUST-040 & Irene Darmawan        & Wanita & 14 & Pelajar          & Sector  &  2861855\\\\\n\t CUST-041 & Shinta Aritonang      & Wanita & 24 & Ibu Rumah Tangga & Cluster &  6820976\\\\\n\t CUST-042 & Yuliana Wati          & Wanita & 26 & Wiraswasta       & Cluster &  9880607\\\\\n\t CUST-043 & Yenna Sumadi          & Wanita & 31 & Professional     & Cluster &  5268410\\\\\n\t CUST-044 & Anna                  & Wanita & 18 & Wiraswasta       & Cluster &  9339737\\\\\n\t CUST-045 & Rismawati Juni        & Wanita & 22 & Professional     & Cluster &  5211041\\\\\n\t CUST-046 & Elfira Surya          & Wanita & 25 & Wiraswasta       & Sector  & 10099807\\\\\n\t CUST-047 & Mira Kurnia           & Wanita & 55 & Ibu Rumah Tangga & Cluster &  6130724\\\\\n\t CUST-048 & Maria Hutagalung      & Wanita & 45 & Wiraswasta       & Sector  & 10390732\\\\\n\t CUST-049 & Josephine Wahab       & Wanita & 33 & Ibu Rumah Tangga & Sector  &  4992585\\\\\n\t CUST-050 & Lianna Nugraha        & Wanita & 55 & Wiraswasta       & Sector  & 10569316\\\\\n\\end{tabular}\n",
            "text/plain": [
              "   Customer_ID Nama.Pelanggan        Jenis.Kelamin Umur Profesi         \n",
              "1  CUST-001    Budi Anggara          Pria          58   Wiraswasta      \n",
              "2  CUST-002    Shirley Ratuwati      Wanita        14   Pelajar         \n",
              "3  CUST-003    Agus Cahyono          Pria          48   Professional    \n",
              "4  CUST-004    Antonius Winarta      Pria          53   Professional    \n",
              "5  CUST-005    Ibu Sri Wahyuni, IR   Wanita        41   Wiraswasta      \n",
              "6  CUST-006    Rosalina Kurnia       Wanita        24   Professional    \n",
              "7  CUST-007    Cahyono, Agus         Pria          64   Wiraswasta      \n",
              "8  CUST-008    Danang Santosa        Pria          52   Professional    \n",
              "9  CUST-009    Elisabeth Suryadinata Wanita        29   Professional    \n",
              "10 CUST-010    Mario Setiawan        Pria          33   Professional    \n",
              "11 CUST-011    Maria Suryawan        Wanita        50   Professional    \n",
              "12 CUST-012    Erliana Widjaja       Wanita        49   Professional    \n",
              "13 CUST-013    Cahaya Putri          Wanita        64   Wiraswasta      \n",
              "14 CUST-014    Mario Setiawan        Pria          60   Wiraswasta      \n",
              "15 CUST-015    Shirley Ratuwati      Wanita        20   Wiraswasta      \n",
              "16 CUST-016    Bambang Rudi          Pria          35   Professional    \n",
              "17 CUST-017    Yuni Sari             Wanita        32   Ibu Rumah Tangga\n",
              "18 CUST-018    Nelly Halim           Wanita        63   Ibu Rumah Tangga\n",
              "19 CUST-019    Mega Pranoto          Wanita        32   Wiraswasta      \n",
              "20 CUST-020    Irene Novianto        Wanita        16   Pelajar         \n",
              "21 CUST-021    Lestari Fabianto      Wanita        38   Wiraswasta      \n",
              "22 CUST-022    Novita Purba          Wanita        52   Professional    \n",
              "23 CUST-023    Denny Amiruddin       Pria          34   Professional    \n",
              "24 CUST-024    Putri Ginting         Wanita        39   Wiraswasta      \n",
              "25 CUST-025    Julia Setiawan        Wanita        29   Wiraswasta      \n",
              "26 CUST-026    Christine Winarto     Wanita        55   Professional    \n",
              "27 CUST-027    Grace Mulyati         Wanita        35   Wiraswasta      \n",
              "28 CUST-028    Adeline Huang         Wanita        40   Ibu Rumah Tangga\n",
              "29 CUST-029    Tia Hartanti          Wanita        56   Professional    \n",
              "30 CUST-030    Rosita Saragih        Wanita        46   Ibu Rumah Tangga\n",
              "31 CUST-031    Eviana Handry         Wanita        19   Mahasiswa       \n",
              "32 CUST-032    Chintya Winarni       Wanita        47   Wiraswasta      \n",
              "33 CUST-033    Cecilia Kusnadi       Wanita        19   Mahasiswa       \n",
              "34 CUST-034    Deasy Arisandi        Wanita        21   Wiraswasta      \n",
              "35 CUST-035    Ida Ayu               Wanita        39   Professional    \n",
              "36 CUST-036    Ni Made Suasti        Wanita        30   Wiraswasta      \n",
              "37 CUST-037    Felicia Tandiono      Wanita        25   Professional    \n",
              "38 CUST-038    Agatha Salim          Wanita        46   Wiraswasta      \n",
              "39 CUST-039    Gina Hidayat          Wanita        20   Professional    \n",
              "40 CUST-040    Irene Darmawan        Wanita        14   Pelajar         \n",
              "41 CUST-041    Shinta Aritonang      Wanita        24   Ibu Rumah Tangga\n",
              "42 CUST-042    Yuliana Wati          Wanita        26   Wiraswasta      \n",
              "43 CUST-043    Yenna Sumadi          Wanita        31   Professional    \n",
              "44 CUST-044    Anna                  Wanita        18   Wiraswasta      \n",
              "45 CUST-045    Rismawati Juni        Wanita        22   Professional    \n",
              "46 CUST-046    Elfira Surya          Wanita        25   Wiraswasta      \n",
              "47 CUST-047    Mira Kurnia           Wanita        55   Ibu Rumah Tangga\n",
              "48 CUST-048    Maria Hutagalung      Wanita        45   Wiraswasta      \n",
              "49 CUST-049    Josephine Wahab       Wanita        33   Ibu Rumah Tangga\n",
              "50 CUST-050    Lianna Nugraha        Wanita        55   Wiraswasta      \n",
              "   Tipe.Residen NilaiBelanjaSetahun\n",
              "1  Sector        9497927           \n",
              "2  Cluster       2722700           \n",
              "3  Cluster       5286429           \n",
              "4  Cluster       5204498           \n",
              "5  Cluster      10615206           \n",
              "6  Cluster       5215541           \n",
              "7  Sector        9837260           \n",
              "8  Cluster       5223569           \n",
              "9  Sector        5993218           \n",
              "10 Cluster       5257448           \n",
              "11 Sector        5987367           \n",
              "12 Sector        5941914           \n",
              "13 Cluster       9333168           \n",
              "14 Cluster       9471615           \n",
              "15 Cluster      10365668           \n",
              "16 Cluster       5262521           \n",
              "17 Cluster       5677762           \n",
              "18 Cluster       5340690           \n",
              "19 Cluster      10884508           \n",
              "20 Sector        2896845           \n",
              "21 Cluster       9222070           \n",
              "22 Cluster       5298157           \n",
              "23 Cluster       5239290           \n",
              "24 Cluster      10259572           \n",
              "25 Sector       10721998           \n",
              "26 Cluster       5269392           \n",
              "27 Cluster       9114159           \n",
              "28 Cluster       6631680           \n",
              "29 Cluster       5271845           \n",
              "30 Sector        5020976           \n",
              "31 Cluster       3042773           \n",
              "32 Sector       10663179           \n",
              "33 Cluster       3047926           \n",
              "34 Sector        9759822           \n",
              "35 Sector        5962575           \n",
              "36 Cluster       9678994           \n",
              "37 Sector        5972787           \n",
              "38 Sector       10477127           \n",
              "39 Cluster       5257775           \n",
              "40 Sector        2861855           \n",
              "41 Cluster       6820976           \n",
              "42 Cluster       9880607           \n",
              "43 Cluster       5268410           \n",
              "44 Cluster       9339737           \n",
              "45 Cluster       5211041           \n",
              "46 Sector       10099807           \n",
              "47 Cluster       6130724           \n",
              "48 Sector       10390732           \n",
              "49 Sector        4992585           \n",
              "50 Sector       10569316           "
            ]
          },
          "metadata": {}
        }
      ]
    },
    {
      "cell_type": "markdown",
      "source": [
        "#### [Menggunakan function aggregate() - Praktikum](https://academy.dqlab.id/main/livecode/345/730/3803?pr=0)"
      ],
      "metadata": {
        "id": "_ycyriHk5qVb"
      }
    },
    {
      "cell_type": "code",
      "source": [
        "#Konstruksi Dataframe\n",
        "nama <- c(\"Andra\",\"Andra\",\"Senja\",\"Senja\",\"Aksara\",\"Aksara\",\"Kroma\",\"Kroma\")\n",
        "hari <- c(\"Senin\",\"Selasa\",\"Senin\",\"Selasa\",\"Senin\",\"Selasa\",\"Senin\",\"Selasa\")\n",
        "jam_kerja <- c(8,9,8,8,9,9,8,10)"
      ],
      "metadata": {
        "id": "XMd7_sQF5vpy"
      },
      "execution_count": 34,
      "outputs": []
    },
    {
      "cell_type": "code",
      "source": [
        "data <- data.frame(nama,hari,jam_kerja)\n",
        "data"
      ],
      "metadata": {
        "colab": {
          "base_uri": "https://localhost:8080/",
          "height": 349
        },
        "id": "4kt4U5qR50cm",
        "outputId": "0818cd9a-0707-4663-a6c8-fd1c246c4773"
      },
      "execution_count": 35,
      "outputs": [
        {
          "output_type": "display_data",
          "data": {
            "text/html": [
              "<table class=\"dataframe\">\n",
              "<caption>A data.frame: 8 × 3</caption>\n",
              "<thead>\n",
              "\t<tr><th scope=col>nama</th><th scope=col>hari</th><th scope=col>jam_kerja</th></tr>\n",
              "\t<tr><th scope=col>&lt;chr&gt;</th><th scope=col>&lt;chr&gt;</th><th scope=col>&lt;dbl&gt;</th></tr>\n",
              "</thead>\n",
              "<tbody>\n",
              "\t<tr><td>Andra </td><td>Senin </td><td> 8</td></tr>\n",
              "\t<tr><td>Andra </td><td>Selasa</td><td> 9</td></tr>\n",
              "\t<tr><td>Senja </td><td>Senin </td><td> 8</td></tr>\n",
              "\t<tr><td>Senja </td><td>Selasa</td><td> 8</td></tr>\n",
              "\t<tr><td>Aksara</td><td>Senin </td><td> 9</td></tr>\n",
              "\t<tr><td>Aksara</td><td>Selasa</td><td> 9</td></tr>\n",
              "\t<tr><td>Kroma </td><td>Senin </td><td> 8</td></tr>\n",
              "\t<tr><td>Kroma </td><td>Selasa</td><td>10</td></tr>\n",
              "</tbody>\n",
              "</table>\n"
            ],
            "text/markdown": "\nA data.frame: 8 × 3\n\n| nama &lt;chr&gt; | hari &lt;chr&gt; | jam_kerja &lt;dbl&gt; |\n|---|---|---|\n| Andra  | Senin  |  8 |\n| Andra  | Selasa |  9 |\n| Senja  | Senin  |  8 |\n| Senja  | Selasa |  8 |\n| Aksara | Senin  |  9 |\n| Aksara | Selasa |  9 |\n| Kroma  | Senin  |  8 |\n| Kroma  | Selasa | 10 |\n\n",
            "text/latex": "A data.frame: 8 × 3\n\\begin{tabular}{lll}\n nama & hari & jam\\_kerja\\\\\n <chr> & <chr> & <dbl>\\\\\n\\hline\n\t Andra  & Senin  &  8\\\\\n\t Andra  & Selasa &  9\\\\\n\t Senja  & Senin  &  8\\\\\n\t Senja  & Selasa &  8\\\\\n\t Aksara & Senin  &  9\\\\\n\t Aksara & Selasa &  9\\\\\n\t Kroma  & Senin  &  8\\\\\n\t Kroma  & Selasa & 10\\\\\n\\end{tabular}\n",
            "text/plain": [
              "  nama   hari   jam_kerja\n",
              "1 Andra  Senin   8       \n",
              "2 Andra  Selasa  9       \n",
              "3 Senja  Senin   8       \n",
              "4 Senja  Selasa  8       \n",
              "5 Aksara Senin   9       \n",
              "6 Aksara Selasa  9       \n",
              "7 Kroma  Senin   8       \n",
              "8 Kroma  Selasa 10       "
            ]
          },
          "metadata": {}
        }
      ]
    },
    {
      "cell_type": "code",
      "source": [
        "#Jumlah jam kerja tiap individu\n",
        "aggregate(data$jam_kerja, list(data$nama), sum)"
      ],
      "metadata": {
        "colab": {
          "base_uri": "https://localhost:8080/",
          "height": 224
        },
        "id": "jyaPFSOF5v56",
        "outputId": "26984b91-281b-4da5-e7f1-c8df0e603939"
      },
      "execution_count": 36,
      "outputs": [
        {
          "output_type": "display_data",
          "data": {
            "text/html": [
              "<table class=\"dataframe\">\n",
              "<caption>A data.frame: 4 × 2</caption>\n",
              "<thead>\n",
              "\t<tr><th scope=col>Group.1</th><th scope=col>x</th></tr>\n",
              "\t<tr><th scope=col>&lt;chr&gt;</th><th scope=col>&lt;dbl&gt;</th></tr>\n",
              "</thead>\n",
              "<tbody>\n",
              "\t<tr><td>Aksara</td><td>18</td></tr>\n",
              "\t<tr><td>Andra </td><td>17</td></tr>\n",
              "\t<tr><td>Kroma </td><td>18</td></tr>\n",
              "\t<tr><td>Senja </td><td>16</td></tr>\n",
              "</tbody>\n",
              "</table>\n"
            ],
            "text/markdown": "\nA data.frame: 4 × 2\n\n| Group.1 &lt;chr&gt; | x &lt;dbl&gt; |\n|---|---|\n| Aksara | 18 |\n| Andra  | 17 |\n| Kroma  | 18 |\n| Senja  | 16 |\n\n",
            "text/latex": "A data.frame: 4 × 2\n\\begin{tabular}{ll}\n Group.1 & x\\\\\n <chr> & <dbl>\\\\\n\\hline\n\t Aksara & 18\\\\\n\t Andra  & 17\\\\\n\t Kroma  & 18\\\\\n\t Senja  & 16\\\\\n\\end{tabular}\n",
            "text/plain": [
              "  Group.1 x \n",
              "1 Aksara  18\n",
              "2 Andra   17\n",
              "3 Kroma   18\n",
              "4 Senja   16"
            ]
          },
          "metadata": {}
        }
      ]
    },
    {
      "cell_type": "code",
      "source": [
        "#Rata-rata jam kerja berdasarkan hari\n",
        "aggregate(data$jam_kerja, list(data$hari), mean)"
      ],
      "metadata": {
        "colab": {
          "base_uri": "https://localhost:8080/",
          "height": 161
        },
        "id": "yMn9J4Wj59ky",
        "outputId": "e9af079a-d464-4adb-f009-bbac6894c58f"
      },
      "execution_count": 37,
      "outputs": [
        {
          "output_type": "display_data",
          "data": {
            "text/html": [
              "<table class=\"dataframe\">\n",
              "<caption>A data.frame: 2 × 2</caption>\n",
              "<thead>\n",
              "\t<tr><th scope=col>Group.1</th><th scope=col>x</th></tr>\n",
              "\t<tr><th scope=col>&lt;chr&gt;</th><th scope=col>&lt;dbl&gt;</th></tr>\n",
              "</thead>\n",
              "<tbody>\n",
              "\t<tr><td>Selasa</td><td>9.00</td></tr>\n",
              "\t<tr><td>Senin </td><td>8.25</td></tr>\n",
              "</tbody>\n",
              "</table>\n"
            ],
            "text/markdown": "\nA data.frame: 2 × 2\n\n| Group.1 &lt;chr&gt; | x &lt;dbl&gt; |\n|---|---|\n| Selasa | 9.00 |\n| Senin  | 8.25 |\n\n",
            "text/latex": "A data.frame: 2 × 2\n\\begin{tabular}{ll}\n Group.1 & x\\\\\n <chr> & <dbl>\\\\\n\\hline\n\t Selasa & 9.00\\\\\n\t Senin  & 8.25\\\\\n\\end{tabular}\n",
            "text/plain": [
              "  Group.1 x   \n",
              "1 Selasa  9.00\n",
              "2 Senin   8.25"
            ]
          },
          "metadata": {}
        }
      ]
    },
    {
      "cell_type": "markdown",
      "source": [
        "## Mini Project"
      ],
      "metadata": {
        "id": "WDLgvt0Gu8Gy"
      }
    },
    {
      "cell_type": "markdown",
      "source": [
        "#### [Mini Project](https://academy.dqlab.id/main/livecode/345/837/3804?pr=0)"
      ],
      "metadata": {
        "id": "zK_20nuV6oXr"
      }
    },
    {
      "cell_type": "code",
      "source": [
        "#Import data customer_segmentation.tsv dan simpan ke dalam variable data_customer\n",
        "data_customer <- read.csv(\"https://storage.googleapis.com/dqlab-dataset/customer_segments.txt\", sep=\"\\t\")"
      ],
      "metadata": {
        "id": "fC2tUdxV6sz_"
      },
      "execution_count": 38,
      "outputs": []
    },
    {
      "cell_type": "code",
      "source": [
        "#Ubah data_customer menjadi Dataframe dengan as.data.frame jika belum merupakan Dataframe\n",
        "if (!is.data.frame(data_customer))\n",
        "    data_customer <- as.data.frame(data_customer)"
      ],
      "metadata": {
        "id": "pUmLwT1y7cn0"
      },
      "execution_count": 47,
      "outputs": []
    },
    {
      "cell_type": "code",
      "source": [
        "#Tampilkan 5 data teratas dari data_customer\n",
        "head(data_customer, 5)"
      ],
      "metadata": {
        "colab": {
          "base_uri": "https://localhost:8080/",
          "height": 255
        },
        "id": "oQaORylL7er9",
        "outputId": "2a5fe332-e9ba-41a1-f41d-d3140305da89"
      },
      "execution_count": 48,
      "outputs": [
        {
          "output_type": "display_data",
          "data": {
            "text/html": [
              "<table class=\"dataframe\">\n",
              "<caption>A data.frame: 5 × 7</caption>\n",
              "<thead>\n",
              "\t<tr><th></th><th scope=col>Customer_ID</th><th scope=col>Nama.Pelanggan</th><th scope=col>Jenis.Kelamin</th><th scope=col>Umur</th><th scope=col>Profesi</th><th scope=col>Tipe.Residen</th><th scope=col>NilaiBelanjaSetahun</th></tr>\n",
              "\t<tr><th></th><th scope=col>&lt;chr&gt;</th><th scope=col>&lt;chr&gt;</th><th scope=col>&lt;chr&gt;</th><th scope=col>&lt;int&gt;</th><th scope=col>&lt;chr&gt;</th><th scope=col>&lt;chr&gt;</th><th scope=col>&lt;int&gt;</th></tr>\n",
              "</thead>\n",
              "<tbody>\n",
              "\t<tr><th scope=row>1</th><td>CUST-001</td><td>Budi Anggara       </td><td>Pria  </td><td>58</td><td>Wiraswasta  </td><td>Sector </td><td> 9497927</td></tr>\n",
              "\t<tr><th scope=row>2</th><td>CUST-002</td><td>Shirley Ratuwati   </td><td>Wanita</td><td>14</td><td>Pelajar     </td><td>Cluster</td><td> 2722700</td></tr>\n",
              "\t<tr><th scope=row>3</th><td>CUST-003</td><td>Agus Cahyono       </td><td>Pria  </td><td>48</td><td>Professional</td><td>Cluster</td><td> 5286429</td></tr>\n",
              "\t<tr><th scope=row>4</th><td>CUST-004</td><td>Antonius Winarta   </td><td>Pria  </td><td>53</td><td>Professional</td><td>Cluster</td><td> 5204498</td></tr>\n",
              "\t<tr><th scope=row>5</th><td>CUST-005</td><td>Ibu Sri Wahyuni, IR</td><td>Wanita</td><td>41</td><td>Wiraswasta  </td><td>Cluster</td><td>10615206</td></tr>\n",
              "</tbody>\n",
              "</table>\n"
            ],
            "text/markdown": "\nA data.frame: 5 × 7\n\n| <!--/--> | Customer_ID &lt;chr&gt; | Nama.Pelanggan &lt;chr&gt; | Jenis.Kelamin &lt;chr&gt; | Umur &lt;int&gt; | Profesi &lt;chr&gt; | Tipe.Residen &lt;chr&gt; | NilaiBelanjaSetahun &lt;int&gt; |\n|---|---|---|---|---|---|---|---|\n| 1 | CUST-001 | Budi Anggara        | Pria   | 58 | Wiraswasta   | Sector  |  9497927 |\n| 2 | CUST-002 | Shirley Ratuwati    | Wanita | 14 | Pelajar      | Cluster |  2722700 |\n| 3 | CUST-003 | Agus Cahyono        | Pria   | 48 | Professional | Cluster |  5286429 |\n| 4 | CUST-004 | Antonius Winarta    | Pria   | 53 | Professional | Cluster |  5204498 |\n| 5 | CUST-005 | Ibu Sri Wahyuni, IR | Wanita | 41 | Wiraswasta   | Cluster | 10615206 |\n\n",
            "text/latex": "A data.frame: 5 × 7\n\\begin{tabular}{r|lllllll}\n  & Customer\\_ID & Nama.Pelanggan & Jenis.Kelamin & Umur & Profesi & Tipe.Residen & NilaiBelanjaSetahun\\\\\n  & <chr> & <chr> & <chr> & <int> & <chr> & <chr> & <int>\\\\\n\\hline\n\t1 & CUST-001 & Budi Anggara        & Pria   & 58 & Wiraswasta   & Sector  &  9497927\\\\\n\t2 & CUST-002 & Shirley Ratuwati    & Wanita & 14 & Pelajar      & Cluster &  2722700\\\\\n\t3 & CUST-003 & Agus Cahyono        & Pria   & 48 & Professional & Cluster &  5286429\\\\\n\t4 & CUST-004 & Antonius Winarta    & Pria   & 53 & Professional & Cluster &  5204498\\\\\n\t5 & CUST-005 & Ibu Sri Wahyuni, IR & Wanita & 41 & Wiraswasta   & Cluster & 10615206\\\\\n\\end{tabular}\n",
            "text/plain": [
              "  Customer_ID Nama.Pelanggan      Jenis.Kelamin Umur Profesi      Tipe.Residen\n",
              "1 CUST-001    Budi Anggara        Pria          58   Wiraswasta   Sector      \n",
              "2 CUST-002    Shirley Ratuwati    Wanita        14   Pelajar      Cluster     \n",
              "3 CUST-003    Agus Cahyono        Pria          48   Professional Cluster     \n",
              "4 CUST-004    Antonius Winarta    Pria          53   Professional Cluster     \n",
              "5 CUST-005    Ibu Sri Wahyuni, IR Wanita        41   Wiraswasta   Cluster     \n",
              "  NilaiBelanjaSetahun\n",
              "1  9497927           \n",
              "2  2722700           \n",
              "3  5286429           \n",
              "4  5204498           \n",
              "5 10615206           "
            ]
          },
          "metadata": {}
        }
      ]
    },
    {
      "cell_type": "code",
      "source": [
        "#Tampilkan 5 data terbawah dari data_customer\n",
        "tail(data_customer, 5)"
      ],
      "metadata": {
        "colab": {
          "base_uri": "https://localhost:8080/",
          "height": 255
        },
        "id": "YP_JeeF07mQb",
        "outputId": "8d2da583-1eb2-4697-8d61-e4332be87fb6"
      },
      "execution_count": 49,
      "outputs": [
        {
          "output_type": "display_data",
          "data": {
            "text/html": [
              "<table class=\"dataframe\">\n",
              "<caption>A data.frame: 5 × 7</caption>\n",
              "<thead>\n",
              "\t<tr><th></th><th scope=col>Customer_ID</th><th scope=col>Nama.Pelanggan</th><th scope=col>Jenis.Kelamin</th><th scope=col>Umur</th><th scope=col>Profesi</th><th scope=col>Tipe.Residen</th><th scope=col>NilaiBelanjaSetahun</th></tr>\n",
              "\t<tr><th></th><th scope=col>&lt;chr&gt;</th><th scope=col>&lt;chr&gt;</th><th scope=col>&lt;chr&gt;</th><th scope=col>&lt;int&gt;</th><th scope=col>&lt;chr&gt;</th><th scope=col>&lt;chr&gt;</th><th scope=col>&lt;int&gt;</th></tr>\n",
              "</thead>\n",
              "<tbody>\n",
              "\t<tr><th scope=row>46</th><td>CUST-046</td><td>Elfira Surya    </td><td>Wanita</td><td>25</td><td>Wiraswasta      </td><td>Sector </td><td>10099807</td></tr>\n",
              "\t<tr><th scope=row>47</th><td>CUST-047</td><td>Mira Kurnia     </td><td>Wanita</td><td>55</td><td>Ibu Rumah Tangga</td><td>Cluster</td><td> 6130724</td></tr>\n",
              "\t<tr><th scope=row>48</th><td>CUST-048</td><td>Maria Hutagalung</td><td>Wanita</td><td>45</td><td>Wiraswasta      </td><td>Sector </td><td>10390732</td></tr>\n",
              "\t<tr><th scope=row>49</th><td>CUST-049</td><td>Josephine Wahab </td><td>Wanita</td><td>33</td><td>Ibu Rumah Tangga</td><td>Sector </td><td> 4992585</td></tr>\n",
              "\t<tr><th scope=row>50</th><td>CUST-050</td><td>Lianna Nugraha  </td><td>Wanita</td><td>55</td><td>Wiraswasta      </td><td>Sector </td><td>10569316</td></tr>\n",
              "</tbody>\n",
              "</table>\n"
            ],
            "text/markdown": "\nA data.frame: 5 × 7\n\n| <!--/--> | Customer_ID &lt;chr&gt; | Nama.Pelanggan &lt;chr&gt; | Jenis.Kelamin &lt;chr&gt; | Umur &lt;int&gt; | Profesi &lt;chr&gt; | Tipe.Residen &lt;chr&gt; | NilaiBelanjaSetahun &lt;int&gt; |\n|---|---|---|---|---|---|---|---|\n| 46 | CUST-046 | Elfira Surya     | Wanita | 25 | Wiraswasta       | Sector  | 10099807 |\n| 47 | CUST-047 | Mira Kurnia      | Wanita | 55 | Ibu Rumah Tangga | Cluster |  6130724 |\n| 48 | CUST-048 | Maria Hutagalung | Wanita | 45 | Wiraswasta       | Sector  | 10390732 |\n| 49 | CUST-049 | Josephine Wahab  | Wanita | 33 | Ibu Rumah Tangga | Sector  |  4992585 |\n| 50 | CUST-050 | Lianna Nugraha   | Wanita | 55 | Wiraswasta       | Sector  | 10569316 |\n\n",
            "text/latex": "A data.frame: 5 × 7\n\\begin{tabular}{r|lllllll}\n  & Customer\\_ID & Nama.Pelanggan & Jenis.Kelamin & Umur & Profesi & Tipe.Residen & NilaiBelanjaSetahun\\\\\n  & <chr> & <chr> & <chr> & <int> & <chr> & <chr> & <int>\\\\\n\\hline\n\t46 & CUST-046 & Elfira Surya     & Wanita & 25 & Wiraswasta       & Sector  & 10099807\\\\\n\t47 & CUST-047 & Mira Kurnia      & Wanita & 55 & Ibu Rumah Tangga & Cluster &  6130724\\\\\n\t48 & CUST-048 & Maria Hutagalung & Wanita & 45 & Wiraswasta       & Sector  & 10390732\\\\\n\t49 & CUST-049 & Josephine Wahab  & Wanita & 33 & Ibu Rumah Tangga & Sector  &  4992585\\\\\n\t50 & CUST-050 & Lianna Nugraha   & Wanita & 55 & Wiraswasta       & Sector  & 10569316\\\\\n\\end{tabular}\n",
            "text/plain": [
              "   Customer_ID Nama.Pelanggan   Jenis.Kelamin Umur Profesi         \n",
              "46 CUST-046    Elfira Surya     Wanita        25   Wiraswasta      \n",
              "47 CUST-047    Mira Kurnia      Wanita        55   Ibu Rumah Tangga\n",
              "48 CUST-048    Maria Hutagalung Wanita        45   Wiraswasta      \n",
              "49 CUST-049    Josephine Wahab  Wanita        33   Ibu Rumah Tangga\n",
              "50 CUST-050    Lianna Nugraha   Wanita        55   Wiraswasta      \n",
              "   Tipe.Residen NilaiBelanjaSetahun\n",
              "46 Sector       10099807           \n",
              "47 Cluster       6130724           \n",
              "48 Sector       10390732           \n",
              "49 Sector        4992585           \n",
              "50 Sector       10569316           "
            ]
          },
          "metadata": {}
        }
      ]
    },
    {
      "cell_type": "code",
      "source": [
        "#Tampilkan struktur dari data_customer\n",
        "str(data_customer)"
      ],
      "metadata": {
        "colab": {
          "base_uri": "https://localhost:8080/"
        },
        "id": "BCCdrX5y7raQ",
        "outputId": "a083f766-677e-40e7-8e35-a9adc7724dcd"
      },
      "execution_count": 50,
      "outputs": [
        {
          "output_type": "stream",
          "name": "stdout",
          "text": [
            "'data.frame':\t50 obs. of  7 variables:\n",
            " $ Customer_ID        : chr  \"CUST-001\" \"CUST-002\" \"CUST-003\" \"CUST-004\" ...\n",
            " $ Nama.Pelanggan     : chr  \"Budi Anggara\" \"Shirley Ratuwati\" \"Agus Cahyono\" \"Antonius Winarta\" ...\n",
            " $ Jenis.Kelamin      : chr  \"Pria\" \"Wanita\" \"Pria\" \"Pria\" ...\n",
            " $ Umur               : int  58 14 48 53 41 24 64 52 29 33 ...\n",
            " $ Profesi            : chr  \"Wiraswasta\" \"Pelajar\" \"Professional\" \"Professional\" ...\n",
            " $ Tipe.Residen       : chr  \"Sector\" \"Cluster\" \"Cluster\" \"Cluster\" ...\n",
            " $ NilaiBelanjaSetahun: int  9497927 2722700 5286429 5204498 10615206 5215541 9837260 5223569 5993218 5257448 ...\n"
          ]
        }
      ]
    },
    {
      "cell_type": "code",
      "source": [
        "#Gunakan function lapply() untuk melihat tipe data dari masing-masing kolom pada data_customer\n",
        "lapply(data_customer, class)"
      ],
      "metadata": {
        "colab": {
          "base_uri": "https://localhost:8080/",
          "height": 288
        },
        "id": "95ii8ks67u-M",
        "outputId": "677b372c-7722-44d2-9d03-8469e3063058"
      },
      "execution_count": 51,
      "outputs": [
        {
          "output_type": "display_data",
          "data": {
            "text/html": [
              "<dl>\n",
              "\t<dt>$Customer_ID</dt>\n",
              "\t\t<dd>'character'</dd>\n",
              "\t<dt>$Nama.Pelanggan</dt>\n",
              "\t\t<dd>'character'</dd>\n",
              "\t<dt>$Jenis.Kelamin</dt>\n",
              "\t\t<dd>'character'</dd>\n",
              "\t<dt>$Umur</dt>\n",
              "\t\t<dd>'integer'</dd>\n",
              "\t<dt>$Profesi</dt>\n",
              "\t\t<dd>'character'</dd>\n",
              "\t<dt>$Tipe.Residen</dt>\n",
              "\t\t<dd>'character'</dd>\n",
              "\t<dt>$NilaiBelanjaSetahun</dt>\n",
              "\t\t<dd>'integer'</dd>\n",
              "</dl>\n"
            ],
            "text/markdown": "$Customer_ID\n:   'character'\n$Nama.Pelanggan\n:   'character'\n$Jenis.Kelamin\n:   'character'\n$Umur\n:   'integer'\n$Profesi\n:   'character'\n$Tipe.Residen\n:   'character'\n$NilaiBelanjaSetahun\n:   'integer'\n\n\n",
            "text/latex": "\\begin{description}\n\\item[\\$Customer\\_ID] 'character'\n\\item[\\$Nama.Pelanggan] 'character'\n\\item[\\$Jenis.Kelamin] 'character'\n\\item[\\$Umur] 'integer'\n\\item[\\$Profesi] 'character'\n\\item[\\$Tipe.Residen] 'character'\n\\item[\\$NilaiBelanjaSetahun] 'integer'\n\\end{description}\n",
            "text/plain": [
              "$Customer_ID\n",
              "[1] \"character\"\n",
              "\n",
              "$Nama.Pelanggan\n",
              "[1] \"character\"\n",
              "\n",
              "$Jenis.Kelamin\n",
              "[1] \"character\"\n",
              "\n",
              "$Umur\n",
              "[1] \"integer\"\n",
              "\n",
              "$Profesi\n",
              "[1] \"character\"\n",
              "\n",
              "$Tipe.Residen\n",
              "[1] \"character\"\n",
              "\n",
              "$NilaiBelanjaSetahun\n",
              "[1] \"integer\"\n"
            ]
          },
          "metadata": {}
        }
      ]
    },
    {
      "cell_type": "code",
      "source": [
        "#Rata-rata umur dari tiap jenis kelamin\n",
        "aggregate(data_customer$Umur, list(data_customer$Jenis.Kelamin), mean)"
      ],
      "metadata": {
        "colab": {
          "base_uri": "https://localhost:8080/",
          "height": 161
        },
        "id": "uONQtiOX7_7a",
        "outputId": "7c0c4aa4-1f02-47da-894d-736422fa88cb"
      },
      "execution_count": 52,
      "outputs": [
        {
          "output_type": "display_data",
          "data": {
            "text/html": [
              "<table class=\"dataframe\">\n",
              "<caption>A data.frame: 2 × 2</caption>\n",
              "<thead>\n",
              "\t<tr><th scope=col>Group.1</th><th scope=col>x</th></tr>\n",
              "\t<tr><th scope=col>&lt;chr&gt;</th><th scope=col>&lt;dbl&gt;</th></tr>\n",
              "</thead>\n",
              "<tbody>\n",
              "\t<tr><td>Pria  </td><td>48.55556</td></tr>\n",
              "\t<tr><td>Wanita</td><td>35.07317</td></tr>\n",
              "</tbody>\n",
              "</table>\n"
            ],
            "text/markdown": "\nA data.frame: 2 × 2\n\n| Group.1 &lt;chr&gt; | x &lt;dbl&gt; |\n|---|---|\n| Pria   | 48.55556 |\n| Wanita | 35.07317 |\n\n",
            "text/latex": "A data.frame: 2 × 2\n\\begin{tabular}{ll}\n Group.1 & x\\\\\n <chr> & <dbl>\\\\\n\\hline\n\t Pria   & 48.55556\\\\\n\t Wanita & 35.07317\\\\\n\\end{tabular}\n",
            "text/plain": [
              "  Group.1 x       \n",
              "1 Pria    48.55556\n",
              "2 Wanita  35.07317"
            ]
          },
          "metadata": {}
        }
      ]
    },
    {
      "cell_type": "code",
      "source": [
        "#Jumlah individu untuk setiap profesi (gunakan FUN = length)\n",
        "aggregate(data_customer$Profesi, list(data_customer$Profesi), length)"
      ],
      "metadata": {
        "colab": {
          "base_uri": "https://localhost:8080/",
          "height": 255
        },
        "id": "2MBdmSlp7_2j",
        "outputId": "3a035738-c2bc-4757-924f-eb0cb14e21e9"
      },
      "execution_count": 53,
      "outputs": [
        {
          "output_type": "display_data",
          "data": {
            "text/html": [
              "<table class=\"dataframe\">\n",
              "<caption>A data.frame: 5 × 2</caption>\n",
              "<thead>\n",
              "\t<tr><th scope=col>Group.1</th><th scope=col>x</th></tr>\n",
              "\t<tr><th scope=col>&lt;chr&gt;</th><th scope=col>&lt;int&gt;</th></tr>\n",
              "</thead>\n",
              "<tbody>\n",
              "\t<tr><td>Ibu Rumah Tangga</td><td> 7</td></tr>\n",
              "\t<tr><td>Mahasiswa       </td><td> 2</td></tr>\n",
              "\t<tr><td>Pelajar         </td><td> 3</td></tr>\n",
              "\t<tr><td>Professional    </td><td>18</td></tr>\n",
              "\t<tr><td>Wiraswasta      </td><td>20</td></tr>\n",
              "</tbody>\n",
              "</table>\n"
            ],
            "text/markdown": "\nA data.frame: 5 × 2\n\n| Group.1 &lt;chr&gt; | x &lt;int&gt; |\n|---|---|\n| Ibu Rumah Tangga |  7 |\n| Mahasiswa        |  2 |\n| Pelajar          |  3 |\n| Professional     | 18 |\n| Wiraswasta       | 20 |\n\n",
            "text/latex": "A data.frame: 5 × 2\n\\begin{tabular}{ll}\n Group.1 & x\\\\\n <chr> & <int>\\\\\n\\hline\n\t Ibu Rumah Tangga &  7\\\\\n\t Mahasiswa        &  2\\\\\n\t Pelajar          &  3\\\\\n\t Professional     & 18\\\\\n\t Wiraswasta       & 20\\\\\n\\end{tabular}\n",
            "text/plain": [
              "  Group.1          x \n",
              "1 Ibu Rumah Tangga  7\n",
              "2 Mahasiswa         2\n",
              "3 Pelajar           3\n",
              "4 Professional     18\n",
              "5 Wiraswasta       20"
            ]
          },
          "metadata": {}
        }
      ]
    },
    {
      "cell_type": "code",
      "source": [
        "#Rata-rata nilai belanja setahun berdasarkan profesi\n",
        "aggregate(data_customer$NilaiBelanjaSetahun, list(data_customer$Profesi), mean)"
      ],
      "metadata": {
        "colab": {
          "base_uri": "https://localhost:8080/",
          "height": 255
        },
        "id": "y4bqVQuN7_tT",
        "outputId": "311c969f-784e-4faa-d9e8-a7c4b2c19aa3"
      },
      "execution_count": 54,
      "outputs": [
        {
          "output_type": "display_data",
          "data": {
            "text/html": [
              "<table class=\"dataframe\">\n",
              "<caption>A data.frame: 5 × 2</caption>\n",
              "<thead>\n",
              "\t<tr><th scope=col>Group.1</th><th scope=col>x</th></tr>\n",
              "\t<tr><th scope=col>&lt;chr&gt;</th><th scope=col>&lt;dbl&gt;</th></tr>\n",
              "</thead>\n",
              "<tbody>\n",
              "\t<tr><td>Ibu Rumah Tangga</td><td> 5802199</td></tr>\n",
              "\t<tr><td>Mahasiswa       </td><td> 3045350</td></tr>\n",
              "\t<tr><td>Pelajar         </td><td> 2827133</td></tr>\n",
              "\t<tr><td>Professional    </td><td> 5451321</td></tr>\n",
              "\t<tr><td>Wiraswasta      </td><td>10009124</td></tr>\n",
              "</tbody>\n",
              "</table>\n"
            ],
            "text/markdown": "\nA data.frame: 5 × 2\n\n| Group.1 &lt;chr&gt; | x &lt;dbl&gt; |\n|---|---|\n| Ibu Rumah Tangga |  5802199 |\n| Mahasiswa        |  3045350 |\n| Pelajar          |  2827133 |\n| Professional     |  5451321 |\n| Wiraswasta       | 10009124 |\n\n",
            "text/latex": "A data.frame: 5 × 2\n\\begin{tabular}{ll}\n Group.1 & x\\\\\n <chr> & <dbl>\\\\\n\\hline\n\t Ibu Rumah Tangga &  5802199\\\\\n\t Mahasiswa        &  3045350\\\\\n\t Pelajar          &  2827133\\\\\n\t Professional     &  5451321\\\\\n\t Wiraswasta       & 10009124\\\\\n\\end{tabular}\n",
            "text/plain": [
              "  Group.1          x       \n",
              "1 Ibu Rumah Tangga  5802199\n",
              "2 Mahasiswa         3045350\n",
              "3 Pelajar           2827133\n",
              "4 Professional      5451321\n",
              "5 Wiraswasta       10009124"
            ]
          },
          "metadata": {}
        }
      ]
    }
  ]
}