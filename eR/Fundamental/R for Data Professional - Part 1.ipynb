{
  "nbformat": 4,
  "nbformat_minor": 0,
  "metadata": {
    "colab": {
      "provenance": [],
      "toc_visible": true
    },
    "kernelspec": {
      "name": "ir",
      "display_name": "R"
    },
    "language_info": {
      "name": "R"
    }
  },
  "cells": [
    {
      "cell_type": "markdown",
      "source": [
        "## Mengenal Operasi Matematika"
      ],
      "metadata": {
        "id": "p_12dYSNQEcH"
      }
    },
    {
      "cell_type": "markdown",
      "source": [
        "#### [Yuk, Kenalan Dengan Beberapa Operator Matematika - Praktikum](https://academy.dqlab.id/main/livecode/343/718/3729?pr=0)"
      ],
      "metadata": {
        "id": "xpE2j9-7QRbP"
      }
    },
    {
      "cell_type": "code",
      "source": [
        "#Berapa Hasil dari 15 + 46\n",
        "15 + 46"
      ],
      "metadata": {
        "colab": {
          "base_uri": "https://localhost:8080/",
          "height": 34
        },
        "id": "NhbHhEIFQWIR",
        "outputId": "efcf483a-e5fb-4cfe-b142-cff9590af6a9"
      },
      "execution_count": 1,
      "outputs": [
        {
          "output_type": "display_data",
          "data": {
            "text/html": [
              "61"
            ],
            "text/markdown": "61",
            "text/latex": "61",
            "text/plain": [
              "[1] 61"
            ]
          },
          "metadata": {}
        }
      ]
    },
    {
      "cell_type": "code",
      "source": [
        "#Berapa Hasil dari 65 / 13\n",
        "65 / 13"
      ],
      "metadata": {
        "colab": {
          "base_uri": "https://localhost:8080/",
          "height": 34
        },
        "id": "lwYFS-h_QxNA",
        "outputId": "16294e90-f645-44f0-9e00-5621ead3d83c"
      },
      "execution_count": 2,
      "outputs": [
        {
          "output_type": "display_data",
          "data": {
            "text/html": [
              "5"
            ],
            "text/markdown": "5",
            "text/latex": "5",
            "text/plain": [
              "[1] 5"
            ]
          },
          "metadata": {}
        }
      ]
    },
    {
      "cell_type": "code",
      "source": [
        "#Berapa Hasil dari 28 %% 5\n",
        "28 %% 5"
      ],
      "metadata": {
        "colab": {
          "base_uri": "https://localhost:8080/",
          "height": 34
        },
        "id": "Jp3qHMZVQ0Im",
        "outputId": "7aa17423-2d3a-492a-b15e-1133836dcb34"
      },
      "execution_count": 3,
      "outputs": [
        {
          "output_type": "display_data",
          "data": {
            "text/html": [
              "3"
            ],
            "text/markdown": "3",
            "text/latex": "3",
            "text/plain": [
              "[1] 3"
            ]
          },
          "metadata": {}
        }
      ]
    },
    {
      "cell_type": "code",
      "source": [
        "#Berapa Hasil dari 4 ^ 5\n",
        "4 ^ 5"
      ],
      "metadata": {
        "colab": {
          "base_uri": "https://localhost:8080/",
          "height": 34
        },
        "id": "GE2sz2DUQ0Fw",
        "outputId": "b50067d3-5553-49f1-dc1c-837ab3279473"
      },
      "execution_count": 4,
      "outputs": [
        {
          "output_type": "display_data",
          "data": {
            "text/html": [
              "1024"
            ],
            "text/markdown": "1024",
            "text/latex": "1024",
            "text/plain": [
              "[1] 1024"
            ]
          },
          "metadata": {}
        }
      ]
    },
    {
      "cell_type": "markdown",
      "source": [
        "#### [Menggunakan Operator Matematika untuk Menyelesaikan Masalah Sederhana - Praktikum](https://academy.dqlab.id/main/livecode/343/718/3730?pr=0)"
      ],
      "metadata": {
        "id": "DOUqEXd8RU29"
      }
    },
    {
      "cell_type": "code",
      "source": [
        "#Populasi manusia tahun depan\n",
        "7900000000 * 1.01"
      ],
      "metadata": {
        "colab": {
          "base_uri": "https://localhost:8080/",
          "height": 34
        },
        "id": "gmnD9x13RZPM",
        "outputId": "ad2aebd0-b245-4d35-f227-b1c67263a086"
      },
      "execution_count": 5,
      "outputs": [
        {
          "output_type": "display_data",
          "data": {
            "text/html": [
              "7.979e+09"
            ],
            "text/markdown": "7.979e+09",
            "text/latex": "7.979e+09",
            "text/plain": [
              "[1] 7.979e+09"
            ]
          },
          "metadata": {}
        }
      ]
    },
    {
      "cell_type": "code",
      "source": [
        "#Populasi manusia dua tahun mendatang\n",
        "7900000000 * 1.01 * 1.01"
      ],
      "metadata": {
        "colab": {
          "base_uri": "https://localhost:8080/",
          "height": 34
        },
        "id": "BMwYKZMGRaau",
        "outputId": "1d7e3a30-e4b1-4b60-fbab-57b0d3d6d67d"
      },
      "execution_count": 6,
      "outputs": [
        {
          "output_type": "display_data",
          "data": {
            "text/html": [
              "8058790000"
            ],
            "text/markdown": "8058790000",
            "text/latex": "8058790000",
            "text/plain": [
              "[1] 8058790000"
            ]
          },
          "metadata": {}
        }
      ]
    },
    {
      "cell_type": "code",
      "source": [
        "#Populasi manusia sepuluh tahun mendatang\n",
        "7900000000 * 1.01 * 10"
      ],
      "metadata": {
        "colab": {
          "base_uri": "https://localhost:8080/",
          "height": 34
        },
        "id": "1rZj3CnqRaT1",
        "outputId": "fe9ca502-8967-4915-eeb8-ebab91fd42b5"
      },
      "execution_count": 7,
      "outputs": [
        {
          "output_type": "display_data",
          "data": {
            "text/html": [
              "7.979e+10"
            ],
            "text/markdown": "7.979e+10",
            "text/latex": "7.979e+10",
            "text/plain": [
              "[1] 7.979e+10"
            ]
          },
          "metadata": {}
        }
      ]
    },
    {
      "cell_type": "markdown",
      "source": [
        "## Mengenal Variabel dalam Bahasa R"
      ],
      "metadata": {
        "id": "sCAdtekZSW1M"
      }
    },
    {
      "cell_type": "markdown",
      "source": [
        "#### [Melakukan Assign Value Pada Variable - Praktikum](https://academy.dqlab.id/main/livecode/343/719/3732?pr=0)"
      ],
      "metadata": {
        "id": "R086l-CESa1p"
      }
    },
    {
      "cell_type": "code",
      "source": [
        "#Simpan nilai apel ke dalam variable bernama ‘apel’\n",
        "apel <- 5"
      ],
      "metadata": {
        "id": "TWlF1ZE2SiB_"
      },
      "execution_count": 8,
      "outputs": []
    },
    {
      "cell_type": "code",
      "source": [
        "#Simpan nilai jeruk ke dalam variable bernama ‘jeruk’\n",
        "jeruk <- 7"
      ],
      "metadata": {
        "id": "THw1DlVvSjRx"
      },
      "execution_count": 9,
      "outputs": []
    },
    {
      "cell_type": "code",
      "source": [
        "#Tampilkan nilai dari variable ‘jeruk’\n",
        "jeruk"
      ],
      "metadata": {
        "colab": {
          "base_uri": "https://localhost:8080/",
          "height": 34
        },
        "id": "o8ln_qwISjJX",
        "outputId": "8202a487-c4b3-4980-fc6f-54e5a8b86c11"
      },
      "execution_count": 10,
      "outputs": [
        {
          "output_type": "display_data",
          "data": {
            "text/html": [
              "7"
            ],
            "text/markdown": "7",
            "text/latex": "7",
            "text/plain": [
              "[1] 7"
            ]
          },
          "metadata": {}
        }
      ]
    },
    {
      "cell_type": "markdown",
      "source": [
        "#### [Melakukan Operasi Matematika Sederhana Menggunakan Variabel - Praktikum](https://academy.dqlab.id/main/livecode/343/719/3733?pr=0)"
      ],
      "metadata": {
        "id": "ZW-bXXdyTCTm"
      }
    },
    {
      "cell_type": "code",
      "source": [
        "#Kamu memiliki 5 apel dan 7 jeruk\n",
        "apel <- 5\n",
        "jeruk <- 7"
      ],
      "metadata": {
        "id": "_k_z-WWxTG5H"
      },
      "execution_count": 11,
      "outputs": []
    },
    {
      "cell_type": "code",
      "source": [
        "#Jumlahkan buah-buahan yang kamu miliki\n",
        "apel + jeruk"
      ],
      "metadata": {
        "colab": {
          "base_uri": "https://localhost:8080/",
          "height": 34
        },
        "id": "XuA51VTZTHH2",
        "outputId": "2350be49-bd92-4dbe-b0cf-e770030a4268"
      },
      "execution_count": 12,
      "outputs": [
        {
          "output_type": "display_data",
          "data": {
            "text/html": [
              "12"
            ],
            "text/markdown": "12",
            "text/latex": "12",
            "text/plain": [
              "[1] 12"
            ]
          },
          "metadata": {}
        }
      ]
    },
    {
      "cell_type": "code",
      "source": [
        "#Simpan apel + jeruk ke dalam variable 'buah'\n",
        "buah <- apel + jeruk"
      ],
      "metadata": {
        "id": "M_3YWgsCTG9s"
      },
      "execution_count": 13,
      "outputs": []
    },
    {
      "cell_type": "code",
      "source": [
        "buah"
      ],
      "metadata": {
        "colab": {
          "base_uri": "https://localhost:8080/",
          "height": 34
        },
        "id": "Y2la8SdyVd8Q",
        "outputId": "386137f4-e2be-42cf-b67a-6df04ca1c043"
      },
      "execution_count": 26,
      "outputs": [
        {
          "output_type": "display_data",
          "data": {
            "text/html": [
              "12"
            ],
            "text/markdown": "12",
            "text/latex": "12",
            "text/plain": [
              "[1] 12"
            ]
          },
          "metadata": {}
        }
      ]
    },
    {
      "cell_type": "markdown",
      "source": [
        "## Mengenal Tipe Data dalam R"
      ],
      "metadata": {
        "id": "ID_5T-t9Tjqa"
      }
    },
    {
      "cell_type": "markdown",
      "source": [
        "#### [Apel ditambah Jeruk? Memang Bisa? - Praktikum](https://academy.dqlab.id/main/livecode/343/720/3735?pr=0)"
      ],
      "metadata": {
        "id": "DlW2ZxLcTrgZ"
      }
    },
    {
      "cell_type": "code",
      "source": [
        "#Kamu memiliki 5 apel dan 7 jeruk\n",
        "apel <- 5\n",
        "jeruk <- 7"
      ],
      "metadata": {
        "id": "f5_OLVy5T_LU"
      },
      "execution_count": 14,
      "outputs": []
    },
    {
      "cell_type": "code",
      "source": [
        "#Jumlahkan buah-buahan yang kamu miliki\n",
        "apel + jeruk"
      ],
      "metadata": {
        "colab": {
          "base_uri": "https://localhost:8080/",
          "height": 34
        },
        "id": "E9d5vxcKT_sq",
        "outputId": "84404644-fce9-4080-952e-8c5fb3be51e0"
      },
      "execution_count": 15,
      "outputs": [
        {
          "output_type": "display_data",
          "data": {
            "text/html": [
              "12"
            ],
            "text/markdown": "12",
            "text/latex": "12",
            "text/plain": [
              "[1] 12"
            ]
          },
          "metadata": {}
        }
      ]
    },
    {
      "cell_type": "code",
      "source": [
        "#Simpan apel + jeruk ke dalam variable 'buah'\n",
        "buah <- apel + jeruk"
      ],
      "metadata": {
        "id": "EnKAejbfT_e5"
      },
      "execution_count": 16,
      "outputs": []
    },
    {
      "cell_type": "code",
      "source": [
        "buah"
      ],
      "metadata": {
        "colab": {
          "base_uri": "https://localhost:8080/",
          "height": 34
        },
        "id": "OQUdpbcdVkbd",
        "outputId": "88c5068d-3f86-44d2-f7f1-99f83ed609e1"
      },
      "execution_count": 27,
      "outputs": [
        {
          "output_type": "display_data",
          "data": {
            "text/html": [
              "12"
            ],
            "text/markdown": "12",
            "text/latex": "12",
            "text/plain": [
              "[1] 12"
            ]
          },
          "metadata": {}
        }
      ]
    },
    {
      "cell_type": "markdown",
      "source": [
        "#### [Membuat Variable dengan Tipe Data yang Berbeda - Praktikum](https://academy.dqlab.id/main/livecode/343/720/3738?pr=0)"
      ],
      "metadata": {
        "id": "nF4cBkdOUwNb"
      }
    },
    {
      "cell_type": "code",
      "source": [
        "#buat variable data_numerik_1 yang berisi 7\n",
        "data_numerik_1 <- 7"
      ],
      "metadata": {
        "id": "qoLVVxZUU1n1"
      },
      "execution_count": 18,
      "outputs": []
    },
    {
      "cell_type": "code",
      "source": [
        "data_numerik_1"
      ],
      "metadata": {
        "colab": {
          "base_uri": "https://localhost:8080/",
          "height": 34
        },
        "id": "qd58fhvMVS6u",
        "outputId": "d7f14840-c1e3-4d4b-c6eb-9ec72c809f32"
      },
      "execution_count": 22,
      "outputs": [
        {
          "output_type": "display_data",
          "data": {
            "text/html": [
              "7"
            ],
            "text/markdown": "7",
            "text/latex": "7",
            "text/plain": [
              "[1] 7"
            ]
          },
          "metadata": {}
        }
      ]
    },
    {
      "cell_type": "code",
      "source": [
        "#buat variable data_numerik_2 yang berisi 77.7\n",
        "data_numerik_2 <- 77.7"
      ],
      "metadata": {
        "id": "pxzHNiS5U2F6"
      },
      "execution_count": 19,
      "outputs": []
    },
    {
      "cell_type": "code",
      "source": [
        "data_numerik_2"
      ],
      "metadata": {
        "colab": {
          "base_uri": "https://localhost:8080/",
          "height": 34
        },
        "id": "zmAop3I0VWDu",
        "outputId": "d845fac9-0676-4786-8eb0-05455ec8b905"
      },
      "execution_count": 23,
      "outputs": [
        {
          "output_type": "display_data",
          "data": {
            "text/html": [
              "77.7"
            ],
            "text/markdown": "77.7",
            "text/latex": "77.7",
            "text/plain": [
              "[1] 77.7"
            ]
          },
          "metadata": {}
        }
      ]
    },
    {
      "cell_type": "code",
      "source": [
        "#buat variable data_character yang berisi \"Belajar Data Science Sangat Menyenangkan!\"\n",
        "data_character <- \"Belajar Data Science Sangat Menyenangkan!\""
      ],
      "metadata": {
        "id": "CSSihfeqU19O"
      },
      "execution_count": 20,
      "outputs": []
    },
    {
      "cell_type": "code",
      "source": [
        "data_character"
      ],
      "metadata": {
        "colab": {
          "base_uri": "https://localhost:8080/",
          "height": 34
        },
        "id": "6mWjtOF2VX14",
        "outputId": "b22e3900-0fe1-408f-da6a-ff47689d5fe7"
      },
      "execution_count": 24,
      "outputs": [
        {
          "output_type": "display_data",
          "data": {
            "text/html": [
              "'Belajar Data Science Sangat Menyenangkan!'"
            ],
            "text/markdown": "'Belajar Data Science Sangat Menyenangkan!'",
            "text/latex": "'Belajar Data Science Sangat Menyenangkan!'",
            "text/plain": [
              "[1] \"Belajar Data Science Sangat Menyenangkan!\""
            ]
          },
          "metadata": {}
        }
      ]
    },
    {
      "cell_type": "code",
      "source": [
        "#buat variable data_logical yang berisi TRUE\n",
        "data_logical <- TRUE"
      ],
      "metadata": {
        "id": "zvLDQtiuU10u"
      },
      "execution_count": 21,
      "outputs": []
    },
    {
      "cell_type": "code",
      "source": [
        "data_logical"
      ],
      "metadata": {
        "colab": {
          "base_uri": "https://localhost:8080/",
          "height": 34
        },
        "id": "Vn4A4-6ZVZxI",
        "outputId": "4e159dab-6df9-4eae-9dbf-3dca49ca9f08"
      },
      "execution_count": 25,
      "outputs": [
        {
          "output_type": "display_data",
          "data": {
            "text/html": [
              "TRUE"
            ],
            "text/markdown": "TRUE",
            "text/latex": "TRUE",
            "text/plain": [
              "[1] TRUE"
            ]
          },
          "metadata": {}
        }
      ]
    },
    {
      "cell_type": "markdown",
      "source": [
        "#### [Apa ya Tipe Data dari Variabel ini? - Praktikum](https://academy.dqlab.id/main/livecode/343/720/3739?pr=0)"
      ],
      "metadata": {
        "id": "w_OPlNIcV1Sz"
      }
    },
    {
      "cell_type": "code",
      "source": [
        "#buat variable data_numerik_1 yang berisi 7\n",
        "data_numerik_1 <- 7\n",
        "class(data_numerik_1)"
      ],
      "metadata": {
        "colab": {
          "base_uri": "https://localhost:8080/",
          "height": 34
        },
        "id": "qF7Ufuk2V54N",
        "outputId": "2d234e25-c489-4ca7-f40e-276f02275822"
      },
      "execution_count": 28,
      "outputs": [
        {
          "output_type": "display_data",
          "data": {
            "text/html": [
              "'numeric'"
            ],
            "text/markdown": "'numeric'",
            "text/latex": "'numeric'",
            "text/plain": [
              "[1] \"numeric\""
            ]
          },
          "metadata": {}
        }
      ]
    },
    {
      "cell_type": "code",
      "source": [
        "#buat variable data_numerik_2 yang berisi 77.7\n",
        "data_numerik_2 <- 77.7\n",
        "class(data_numerik_2)"
      ],
      "metadata": {
        "colab": {
          "base_uri": "https://localhost:8080/",
          "height": 34
        },
        "id": "-VyRXlw9V7ci",
        "outputId": "50433a8c-f904-4e88-cfe9-00991d5a492f"
      },
      "execution_count": 29,
      "outputs": [
        {
          "output_type": "display_data",
          "data": {
            "text/html": [
              "'numeric'"
            ],
            "text/markdown": "'numeric'",
            "text/latex": "'numeric'",
            "text/plain": [
              "[1] \"numeric\""
            ]
          },
          "metadata": {}
        }
      ]
    },
    {
      "cell_type": "code",
      "source": [
        "#buat variable data_character yang berisi \"Belajar Data Science Sangat Menyenangkan!\"\n",
        "data_character <- \"Belajar Data Science Sangat Menyenangkan!\"\n",
        "class(data_character)"
      ],
      "metadata": {
        "colab": {
          "base_uri": "https://localhost:8080/",
          "height": 34
        },
        "id": "4AlB03uDV7Tp",
        "outputId": "64f8c000-3308-493f-b8c8-d8d3c3391ec2"
      },
      "execution_count": 30,
      "outputs": [
        {
          "output_type": "display_data",
          "data": {
            "text/html": [
              "'character'"
            ],
            "text/markdown": "'character'",
            "text/latex": "'character'",
            "text/plain": [
              "[1] \"character\""
            ]
          },
          "metadata": {}
        }
      ]
    },
    {
      "cell_type": "code",
      "source": [
        "#buat variable data_logical yang berisi TRUE\n",
        "data_logical <- TRUE\n",
        "class(data_logical)"
      ],
      "metadata": {
        "colab": {
          "base_uri": "https://localhost:8080/",
          "height": 34
        },
        "id": "hHJIHlJHV7Mo",
        "outputId": "cebc7500-40c0-4bb2-b1b1-4c38376af759"
      },
      "execution_count": 31,
      "outputs": [
        {
          "output_type": "display_data",
          "data": {
            "text/html": [
              "'logical'"
            ],
            "text/markdown": "'logical'",
            "text/latex": "'logical'",
            "text/plain": [
              "[1] \"logical\""
            ]
          },
          "metadata": {}
        }
      ]
    },
    {
      "cell_type": "markdown",
      "source": [
        "## Mengenal Fungsi dan Cara Menggunakannya"
      ],
      "metadata": {
        "id": "_-hBbqE9TmNd"
      }
    },
    {
      "cell_type": "markdown",
      "source": [
        "#### [Belajar Menggunakan Function - Praktikum](https://academy.dqlab.id/main/livecode/343/721/3742?pr=0)"
      ],
      "metadata": {
        "id": "L-exOS7EWXrv"
      }
    },
    {
      "cell_type": "code",
      "source": [
        "#Hitunglah factorial dari 10\n",
        "factorial(10)"
      ],
      "metadata": {
        "colab": {
          "base_uri": "https://localhost:8080/",
          "height": 34
        },
        "id": "T-zrob8tW2O1",
        "outputId": "2185731c-3d83-4714-f5fc-ee6e6f8234ef"
      },
      "execution_count": 32,
      "outputs": [
        {
          "output_type": "display_data",
          "data": {
            "text/html": [
              "3628800"
            ],
            "text/markdown": "3628800",
            "text/latex": "3628800",
            "text/plain": [
              "[1] 3628800"
            ]
          },
          "metadata": {}
        }
      ]
    },
    {
      "cell_type": "code",
      "source": [
        "#Tampilkan 5 bilangan acak yang memiliki distribusi normal\n",
        "rnorm(5, mean = 0, sd = 1)"
      ],
      "metadata": {
        "colab": {
          "base_uri": "https://localhost:8080/",
          "height": 34
        },
        "id": "M9xfE696W2w5",
        "outputId": "996e525a-00b6-4c9c-9299-eb2bc2b046a5"
      },
      "execution_count": 33,
      "outputs": [
        {
          "output_type": "display_data",
          "data": {
            "text/html": [
              "<style>\n",
              ".list-inline {list-style: none; margin:0; padding: 0}\n",
              ".list-inline>li {display: inline-block}\n",
              ".list-inline>li:not(:last-child)::after {content: \"\\00b7\"; padding: 0 .5ex}\n",
              "</style>\n",
              "<ol class=list-inline><li>-1.10461347592261</li><li>-0.324089658414291</li><li>1.34076763026601</li><li>-0.465547261768974</li><li>0.231162649871033</li></ol>\n"
            ],
            "text/markdown": "1. -1.10461347592261\n2. -0.324089658414291\n3. 1.34076763026601\n4. -0.465547261768974\n5. 0.231162649871033\n\n\n",
            "text/latex": "\\begin{enumerate*}\n\\item -1.10461347592261\n\\item -0.324089658414291\n\\item 1.34076763026601\n\\item -0.465547261768974\n\\item 0.231162649871033\n\\end{enumerate*}\n",
            "text/plain": [
              "[1] -1.1046135 -0.3240897  1.3407676 -0.4655473  0.2311626"
            ]
          },
          "metadata": {}
        }
      ]
    },
    {
      "cell_type": "code",
      "source": [
        "#Buatlah variabel bernama “my_variable” dan isilah dengan angka 345.678\n",
        "my_variable <- 345.678\n",
        "my_variable"
      ],
      "metadata": {
        "colab": {
          "base_uri": "https://localhost:8080/",
          "height": 34
        },
        "id": "MikefxBbW2qE",
        "outputId": "19b94efc-c5c9-437b-efc6-abd73d641250"
      },
      "execution_count": 34,
      "outputs": [
        {
          "output_type": "display_data",
          "data": {
            "text/html": [
              "345.678"
            ],
            "text/markdown": "345.678",
            "text/latex": "345.678",
            "text/plain": [
              "[1] 345.678"
            ]
          },
          "metadata": {}
        }
      ]
    },
    {
      "cell_type": "code",
      "source": [
        "#Berapakah bilangan terkecil yang lebih besar atau sama dengan my_variable?\n",
        "floor(my_variable)"
      ],
      "metadata": {
        "colab": {
          "base_uri": "https://localhost:8080/",
          "height": 34
        },
        "id": "PqmHzghCW2jK",
        "outputId": "86734b25-2c0d-4daa-9478-08c34504ead1"
      },
      "execution_count": 35,
      "outputs": [
        {
          "output_type": "display_data",
          "data": {
            "text/html": [
              "345"
            ],
            "text/markdown": "345",
            "text/latex": "345",
            "text/plain": [
              "[1] 345"
            ]
          },
          "metadata": {}
        }
      ]
    },
    {
      "cell_type": "code",
      "source": [
        "#Berapakah bilangan terbesar yang lebih kecil atau sama dengan my_variable?\n",
        "ceiling(my_variable)"
      ],
      "metadata": {
        "colab": {
          "base_uri": "https://localhost:8080/",
          "height": 34
        },
        "id": "w7gnB77uW2cB",
        "outputId": "66d05326-e0b0-4a07-ec09-b6d664f3ccbd"
      },
      "execution_count": 36,
      "outputs": [
        {
          "output_type": "display_data",
          "data": {
            "text/html": [
              "346"
            ],
            "text/markdown": "346",
            "text/latex": "346",
            "text/plain": [
              "[1] 346"
            ]
          },
          "metadata": {}
        }
      ]
    },
    {
      "cell_type": "code",
      "source": [
        "#Bulatkan my_variable hingga 1 angka di belakang koma\n",
        "round(my_variable, digits = 1)"
      ],
      "metadata": {
        "colab": {
          "base_uri": "https://localhost:8080/",
          "height": 34
        },
        "id": "6D3Jw_T3W2Wd",
        "outputId": "d861456e-cc9d-4523-d9fd-0b08c4f653bf"
      },
      "execution_count": 37,
      "outputs": [
        {
          "output_type": "display_data",
          "data": {
            "text/html": [
              "345.7"
            ],
            "text/markdown": "345.7",
            "text/latex": "345.7",
            "text/plain": [
              "[1] 345.7"
            ]
          },
          "metadata": {}
        }
      ]
    },
    {
      "cell_type": "markdown",
      "source": [
        "#### [Mengenal Format Tanggal Lebih Dalam - Praktikum](https://academy.dqlab.id/main/livecode/343/721/3744?pr=0)"
      ],
      "metadata": {
        "id": "vs1r16nsYz2X"
      }
    },
    {
      "cell_type": "code",
      "source": [
        "as.Date(\"2021-12-31\", \"%Y-%m-%d\")"
      ],
      "metadata": {
        "colab": {
          "base_uri": "https://localhost:8080/",
          "height": 34
        },
        "id": "Io3AkQokY7LR",
        "outputId": "2bbf434b-329e-4388-8605-2688c451fb96"
      },
      "execution_count": 38,
      "outputs": [
        {
          "output_type": "display_data",
          "data": {
            "text/html": [
              "<time datetime=\"2021-12-31\">2021-12-31</time>"
            ],
            "text/markdown": "2021-12-31",
            "text/latex": "2021-12-31",
            "text/plain": [
              "[1] \"2021-12-31\""
            ]
          },
          "metadata": {}
        }
      ]
    },
    {
      "cell_type": "code",
      "source": [
        "as.Date(\"7 July 2007\", \"%d %B %Y\")"
      ],
      "metadata": {
        "colab": {
          "base_uri": "https://localhost:8080/",
          "height": 34
        },
        "id": "ZqX9dbIpY7qD",
        "outputId": "51ba6f96-ec48-493e-8120-716ea8741a4c"
      },
      "execution_count": 39,
      "outputs": [
        {
          "output_type": "display_data",
          "data": {
            "text/html": [
              "<time datetime=\"2007-07-07\">2007-07-07</time>"
            ],
            "text/markdown": "2007-07-07",
            "text/latex": "2007-07-07",
            "text/plain": [
              "[1] \"2007-07-07\""
            ]
          },
          "metadata": {}
        }
      ]
    },
    {
      "cell_type": "code",
      "source": [
        "as.Date(\"1 Jan 70\", \"%d %b %y\")"
      ],
      "metadata": {
        "colab": {
          "base_uri": "https://localhost:8080/",
          "height": 34
        },
        "id": "3mocP5AqY7iZ",
        "outputId": "9b127696-6286-482b-aeb1-a4c4d6120611"
      },
      "execution_count": 40,
      "outputs": [
        {
          "output_type": "display_data",
          "data": {
            "text/html": [
              "<time datetime=\"1970-01-01\">1970-01-01</time>"
            ],
            "text/markdown": "1970-01-01",
            "text/latex": "1970-01-01",
            "text/plain": [
              "[1] \"1970-01-01\""
            ]
          },
          "metadata": {}
        }
      ]
    },
    {
      "cell_type": "code",
      "source": [
        "#Cek tipe data dari my_date\n",
        "my_date <- as.Date(\"Dec 25, 2021\", \"%b %d, %Y\")\n",
        "class(my_date)"
      ],
      "metadata": {
        "colab": {
          "base_uri": "https://localhost:8080/",
          "height": 34
        },
        "id": "HqFTzgxWY7ac",
        "outputId": "b78e9c49-846b-4307-f717-eaf23fd00d48"
      },
      "execution_count": 41,
      "outputs": [
        {
          "output_type": "display_data",
          "data": {
            "text/html": [
              "'Date'"
            ],
            "text/markdown": "'Date'",
            "text/latex": "'Date'",
            "text/plain": [
              "[1] \"Date\""
            ]
          },
          "metadata": {}
        }
      ]
    },
    {
      "cell_type": "markdown",
      "source": [
        "#### [Mini Project](https://academy.dqlab.id/main/livecode/343/721/3745?pr=0)"
      ],
      "metadata": {
        "id": "QtmJn7LHaUIE"
      }
    },
    {
      "cell_type": "code",
      "source": [
        "#variable hari_pahlawan\n",
        "hari_pahlawan <- as.Date(\"Nov 10, 2021\", \"%b %d, %Y\")"
      ],
      "metadata": {
        "id": "KjcmU0hgaatQ"
      },
      "execution_count": 42,
      "outputs": []
    },
    {
      "cell_type": "code",
      "source": [
        "#menampilkan variable hari_pahlawan\n",
        "hari_pahlawan"
      ],
      "metadata": {
        "colab": {
          "base_uri": "https://localhost:8080/",
          "height": 34
        },
        "id": "VxpGH_45abm1",
        "outputId": "b7b92f9b-7202-4ac8-988a-03c00dbd673d"
      },
      "execution_count": 43,
      "outputs": [
        {
          "output_type": "display_data",
          "data": {
            "text/html": [
              "<time datetime=\"2021-11-10\">2021-11-10</time>"
            ],
            "text/markdown": "2021-11-10",
            "text/latex": "2021-11-10",
            "text/plain": [
              "[1] \"2021-11-10\""
            ]
          },
          "metadata": {}
        }
      ]
    },
    {
      "cell_type": "code",
      "source": [
        "#variable radius\n",
        "radius <- 15"
      ],
      "metadata": {
        "id": "nlcafJ3xabgL"
      },
      "execution_count": 44,
      "outputs": []
    },
    {
      "cell_type": "code",
      "source": [
        "#variable luas_lingkaran\n",
        "luas_lingkaran <- 3.14 * radius ^ 2"
      ],
      "metadata": {
        "id": "VRHBcoWgabZQ"
      },
      "execution_count": 45,
      "outputs": []
    },
    {
      "cell_type": "code",
      "source": [
        "#menampilkan variable luas_lingkaran\n",
        "luas_lingkaran"
      ],
      "metadata": {
        "colab": {
          "base_uri": "https://localhost:8080/",
          "height": 34
        },
        "id": "L3K96ulUabRQ",
        "outputId": "105ef8f9-5602-4756-808e-f9a652654005"
      },
      "execution_count": 46,
      "outputs": [
        {
          "output_type": "display_data",
          "data": {
            "text/html": [
              "706.5"
            ],
            "text/markdown": "706.5",
            "text/latex": "706.5",
            "text/plain": [
              "[1] 706.5"
            ]
          },
          "metadata": {}
        }
      ]
    },
    {
      "cell_type": "code",
      "source": [
        "#pembulatan ke atas luas_lingkaran\n",
        "ceiling(luas_lingkaran)"
      ],
      "metadata": {
        "colab": {
          "base_uri": "https://localhost:8080/",
          "height": 34
        },
        "id": "mHqo8RKgabIQ",
        "outputId": "6e20a07e-0ad5-4e74-86f3-cb65ec7d39ff"
      },
      "execution_count": 47,
      "outputs": [
        {
          "output_type": "display_data",
          "data": {
            "text/html": [
              "707"
            ],
            "text/markdown": "707",
            "text/latex": "707",
            "text/plain": [
              "[1] 707"
            ]
          },
          "metadata": {}
        }
      ]
    },
    {
      "cell_type": "code",
      "source": [
        "#pembulatan ke bawah luas_lingkaran\n",
        "floor(luas_lingkaran)"
      ],
      "metadata": {
        "colab": {
          "base_uri": "https://localhost:8080/",
          "height": 34
        },
        "id": "AoXRAzr8aa7I",
        "outputId": "872d1c5d-20a2-482a-b0b0-3d7856aa08b7"
      },
      "execution_count": 48,
      "outputs": [
        {
          "output_type": "display_data",
          "data": {
            "text/html": [
              "706"
            ],
            "text/markdown": "706",
            "text/latex": "706",
            "text/plain": [
              "[1] 706"
            ]
          },
          "metadata": {}
        }
      ]
    }
  ]
}