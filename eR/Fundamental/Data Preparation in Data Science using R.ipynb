{
  "nbformat": 4,
  "nbformat_minor": 0,
  "metadata": {
    "colab": {
      "name": "Data Preparation in Data Science using R.ipynb",
      "provenance": []
    },
    "kernelspec": {
      "name": "ir",
      "display_name": "R"
    },
    "language_info": {
      "name": "R"
    }
  },
  "cells": [
    {
      "cell_type": "markdown",
      "source": [
        "## Missing Value di R"
      ],
      "metadata": {
        "id": "-35XmRq0dG2S"
      }
    },
    {
      "cell_type": "markdown",
      "source": [
        "#### [NA dan default type](https://academy.dqlab.id/main/livecode/12/44/243?pr=0)"
      ],
      "metadata": {
        "id": "3VxuxvLodK-h"
      }
    },
    {
      "cell_type": "code",
      "source": [
        "#Ketik nilai NA\n",
        "NA\n",
        "\n",
        "#Tampilkan type dari NA dengan function typeof\n",
        "typeof(NA)"
      ],
      "metadata": {
        "colab": {
          "base_uri": "https://localhost:8080/",
          "height": 52
        },
        "id": "r5-M4OzSdQXp",
        "outputId": "50135b7a-041f-416e-e9af-b547aed66757"
      },
      "execution_count": 1,
      "outputs": [
        {
          "output_type": "display_data",
          "data": {
            "text/html": [
              "&lt;NA&gt;"
            ],
            "text/markdown": "&lt;NA&gt;",
            "text/latex": "<NA>",
            "text/plain": [
              "[1] NA"
            ]
          },
          "metadata": {}
        },
        {
          "output_type": "display_data",
          "data": {
            "text/html": [
              "'logical'"
            ],
            "text/markdown": "'logical'",
            "text/latex": "'logical'",
            "text/plain": [
              "[1] \"logical\""
            ]
          },
          "metadata": {}
        }
      ]
    },
    {
      "cell_type": "markdown",
      "source": [
        "#### [Menggunakan function is.na](https://academy.dqlab.id/main/livecode/12/44/245?pr=0)"
      ],
      "metadata": {
        "id": "Wos_nmwsdXip"
      }
    },
    {
      "cell_type": "code",
      "source": [
        "#Buat variable x yang diisi dengan nilai NA\n",
        "x <- NA\n",
        "\n",
        "#Pengecekan variable x dengan nilai NA menggunakan operator ==\n",
        "x == NA\n",
        "\n",
        "#Pengecekan variable x dengan nilai NA menggunakan function is.na\n",
        "is.na(x)"
      ],
      "metadata": {
        "colab": {
          "base_uri": "https://localhost:8080/",
          "height": 52
        },
        "id": "j8K7zdEAdaxr",
        "outputId": "ab5c73ef-9c64-42ca-b536-eeac4c5a819a"
      },
      "execution_count": 2,
      "outputs": [
        {
          "output_type": "display_data",
          "data": {
            "text/html": [
              "&lt;NA&gt;"
            ],
            "text/markdown": "&lt;NA&gt;",
            "text/latex": "<NA>",
            "text/plain": [
              "[1] NA"
            ]
          },
          "metadata": {}
        },
        {
          "output_type": "display_data",
          "data": {
            "text/html": [
              "TRUE"
            ],
            "text/markdown": "TRUE",
            "text/latex": "TRUE",
            "text/plain": [
              "[1] TRUE"
            ]
          },
          "metadata": {}
        }
      ]
    },
    {
      "cell_type": "markdown",
      "source": [
        "#### [Variasi NA dan is.na](https://academy.dqlab.id/main/livecode/12/44/248?pr=0)"
      ],
      "metadata": {
        "id": "DvmNnQoRdyGd"
      }
    },
    {
      "cell_type": "code",
      "source": [
        "typeof(NA_integer_)\n",
        "typeof(NA_real_)\n",
        "typeof(NA_complex_)\n",
        "typeof(NA_character_)\n",
        "is.na(NA_integer_)\n",
        "is.na(NA_real_)\n",
        "is.na(NA_complex_)\n",
        "is.na(NA_character_)"
      ],
      "metadata": {
        "colab": {
          "base_uri": "https://localhost:8080/",
          "height": 156
        },
        "id": "kDbVwKPfd1rp",
        "outputId": "5e895b23-fc21-4673-b433-84b74c3d38c9"
      },
      "execution_count": 3,
      "outputs": [
        {
          "output_type": "display_data",
          "data": {
            "text/html": [
              "'integer'"
            ],
            "text/markdown": "'integer'",
            "text/latex": "'integer'",
            "text/plain": [
              "[1] \"integer\""
            ]
          },
          "metadata": {}
        },
        {
          "output_type": "display_data",
          "data": {
            "text/html": [
              "'double'"
            ],
            "text/markdown": "'double'",
            "text/latex": "'double'",
            "text/plain": [
              "[1] \"double\""
            ]
          },
          "metadata": {}
        },
        {
          "output_type": "display_data",
          "data": {
            "text/html": [
              "'complex'"
            ],
            "text/markdown": "'complex'",
            "text/latex": "'complex'",
            "text/plain": [
              "[1] \"complex\""
            ]
          },
          "metadata": {}
        },
        {
          "output_type": "display_data",
          "data": {
            "text/html": [
              "'character'"
            ],
            "text/markdown": "'character'",
            "text/latex": "'character'",
            "text/plain": [
              "[1] \"character\""
            ]
          },
          "metadata": {}
        },
        {
          "output_type": "display_data",
          "data": {
            "text/html": [
              "TRUE"
            ],
            "text/markdown": "TRUE",
            "text/latex": "TRUE",
            "text/plain": [
              "[1] TRUE"
            ]
          },
          "metadata": {}
        },
        {
          "output_type": "display_data",
          "data": {
            "text/html": [
              "TRUE"
            ],
            "text/markdown": "TRUE",
            "text/latex": "TRUE",
            "text/plain": [
              "[1] TRUE"
            ]
          },
          "metadata": {}
        },
        {
          "output_type": "display_data",
          "data": {
            "text/html": [
              "TRUE"
            ],
            "text/markdown": "TRUE",
            "text/latex": "TRUE",
            "text/plain": [
              "[1] TRUE"
            ]
          },
          "metadata": {}
        },
        {
          "output_type": "display_data",
          "data": {
            "text/html": [
              "TRUE"
            ],
            "text/markdown": "TRUE",
            "text/latex": "TRUE",
            "text/plain": [
              "[1] TRUE"
            ]
          },
          "metadata": {}
        }
      ]
    },
    {
      "cell_type": "markdown",
      "source": [
        "#### [Coercion pada Vector yang mengandung NA](https://academy.dqlab.id/main/livecode/12/44/252?pr=0)"
      ],
      "metadata": {
        "id": "JfiwTfBLeqel"
      }
    },
    {
      "cell_type": "code",
      "source": [
        "#Membuat vector bernama isi.vector dengan isi bilangan, dimana salah satunya memiliki missing value\n",
        "isi.vector <- c(1,2,3,NA,3,1)\n",
        "\n",
        "#Mengecek keseluruhan tipe data dengan perulangan lapply dan typeof\n",
        "lapply(isi.vector, typeof)\n",
        "\n",
        "#Menggunakan is.na untuk mengecek keberadaan missing value dari tiap elemen pada vector \n",
        "is.na(isi.vector)"
      ],
      "metadata": {
        "colab": {
          "base_uri": "https://localhost:8080/",
          "height": 167
        },
        "id": "mEr2TvM_euJJ",
        "outputId": "e40a15b7-28af-44b9-c159-7caf20b403c6"
      },
      "execution_count": 4,
      "outputs": [
        {
          "output_type": "display_data",
          "data": {
            "text/html": [
              "<ol>\n",
              "\t<li>'double'</li>\n",
              "\t<li>'double'</li>\n",
              "\t<li>'double'</li>\n",
              "\t<li>'double'</li>\n",
              "\t<li>'double'</li>\n",
              "\t<li>'double'</li>\n",
              "</ol>\n"
            ],
            "text/markdown": "1. 'double'\n2. 'double'\n3. 'double'\n4. 'double'\n5. 'double'\n6. 'double'\n\n\n",
            "text/latex": "\\begin{enumerate}\n\\item 'double'\n\\item 'double'\n\\item 'double'\n\\item 'double'\n\\item 'double'\n\\item 'double'\n\\end{enumerate}\n",
            "text/plain": [
              "[[1]]\n",
              "[1] \"double\"\n",
              "\n",
              "[[2]]\n",
              "[1] \"double\"\n",
              "\n",
              "[[3]]\n",
              "[1] \"double\"\n",
              "\n",
              "[[4]]\n",
              "[1] \"double\"\n",
              "\n",
              "[[5]]\n",
              "[1] \"double\"\n",
              "\n",
              "[[6]]\n",
              "[1] \"double\"\n"
            ]
          },
          "metadata": {}
        },
        {
          "output_type": "display_data",
          "data": {
            "text/html": [
              "<style>\n",
              ".list-inline {list-style: none; margin:0; padding: 0}\n",
              ".list-inline>li {display: inline-block}\n",
              ".list-inline>li:not(:last-child)::after {content: \"\\00b7\"; padding: 0 .5ex}\n",
              "</style>\n",
              "<ol class=list-inline><li>FALSE</li><li>FALSE</li><li>FALSE</li><li>TRUE</li><li>FALSE</li><li>FALSE</li></ol>\n"
            ],
            "text/markdown": "1. FALSE\n2. FALSE\n3. FALSE\n4. TRUE\n5. FALSE\n6. FALSE\n\n\n",
            "text/latex": "\\begin{enumerate*}\n\\item FALSE\n\\item FALSE\n\\item FALSE\n\\item TRUE\n\\item FALSE\n\\item FALSE\n\\end{enumerate*}\n",
            "text/plain": [
              "[1] FALSE FALSE FALSE  TRUE FALSE FALSE"
            ]
          },
          "metadata": {}
        }
      ]
    },
    {
      "cell_type": "markdown",
      "source": [
        "#### [NULL dan Vector](https://academy.dqlab.id/main/livecode/12/44/254?pr=0)"
      ],
      "metadata": {
        "id": "nI_8BbFGe1rX"
      }
    },
    {
      "cell_type": "code",
      "source": [
        "#Membuat vector dengan 7 elemen termasuk NA dan NULL\n",
        "isi.vector <- c(1, 2, 3, NA, 5, NULL, 7)\n",
        "\n",
        "#Menghitung jumlah elemen dari isi.vector\n",
        "length(isi.vector)"
      ],
      "metadata": {
        "colab": {
          "base_uri": "https://localhost:8080/",
          "height": 34
        },
        "id": "FGrTEvdme5Sh",
        "outputId": "fd49078b-d549-48f7-b9aa-e99801069aaa"
      },
      "execution_count": 5,
      "outputs": [
        {
          "output_type": "display_data",
          "data": {
            "text/html": [
              "6"
            ],
            "text/markdown": "6",
            "text/latex": "6",
            "text/plain": [
              "[1] 6"
            ]
          },
          "metadata": {}
        }
      ]
    },
    {
      "cell_type": "markdown",
      "source": [
        "#### [NULL dan List](https://academy.dqlab.id/main/livecode/12/44/259?pr=0)"
      ],
      "metadata": {
        "id": "9pcI4b90fIgJ"
      }
    },
    {
      "cell_type": "code",
      "source": [
        "#Membuat list dengan 3 elemen termasuk NA dan NULL \n",
        "isi.list <- list(1, NULL, 3, NA, 5)\n",
        "\n",
        "#Menghitung jumlah elemen dari isi.list\n",
        "length(isi.list)"
      ],
      "metadata": {
        "colab": {
          "base_uri": "https://localhost:8080/",
          "height": 34
        },
        "id": "9E11H1sQfOAa",
        "outputId": "55fe88ca-c6e1-4db7-82c6-b49d4e5b6a7d"
      },
      "execution_count": 6,
      "outputs": [
        {
          "output_type": "display_data",
          "data": {
            "text/html": [
              "5"
            ],
            "text/markdown": "5",
            "text/latex": "5",
            "text/plain": [
              "[1] 5"
            ]
          },
          "metadata": {}
        }
      ]
    },
    {
      "cell_type": "markdown",
      "source": [
        "#### [Inf untuk mewakili Infinite Number](https://academy.dqlab.id/main/livecode/12/44/261?pr=0)"
      ],
      "metadata": {
        "id": "9UxfOGudfdaJ"
      }
    },
    {
      "cell_type": "code",
      "source": [
        "#Hitung kalkulasi 5 dibagi dengan 0\n",
        "5/0\n",
        "\n",
        "#Hitung kalkulasi -120 dibagi dengan 0\n",
        "-120/0"
      ],
      "metadata": {
        "colab": {
          "base_uri": "https://localhost:8080/",
          "height": 52
        },
        "id": "T9NUcYYVfg8q",
        "outputId": "631d6080-443d-4d6e-993a-6bf4b2027e05"
      },
      "execution_count": 7,
      "outputs": [
        {
          "output_type": "display_data",
          "data": {
            "text/html": [
              "Inf"
            ],
            "text/markdown": "Inf",
            "text/latex": "Inf",
            "text/plain": [
              "[1] Inf"
            ]
          },
          "metadata": {}
        },
        {
          "output_type": "display_data",
          "data": {
            "text/html": [
              "-Inf"
            ],
            "text/markdown": "-Inf",
            "text/latex": "-Inf",
            "text/plain": [
              "[1] -Inf"
            ]
          },
          "metadata": {}
        }
      ]
    },
    {
      "cell_type": "markdown",
      "source": [
        "#### [NaN (Not a Number)](https://academy.dqlab.id/main/livecode/12/44/264?pr=0)"
      ],
      "metadata": {
        "id": "O3GyMTZ0fsxN"
      }
    },
    {
      "cell_type": "code",
      "source": [
        "#Hitung kalkulasi 0 dibagi dengan 0\n",
        "0/0"
      ],
      "metadata": {
        "colab": {
          "base_uri": "https://localhost:8080/",
          "height": 34
        },
        "id": "3VDN6ptSfwk6",
        "outputId": "171497e2-4b78-45e5-9e72-7088284a425c"
      },
      "execution_count": 8,
      "outputs": [
        {
          "output_type": "display_data",
          "data": {
            "text/html": [
              "NaN"
            ],
            "text/markdown": "NaN",
            "text/latex": "NaN",
            "text/plain": [
              "[1] NaN"
            ]
          },
          "metadata": {}
        }
      ]
    },
    {
      "cell_type": "markdown",
      "source": [
        "#### [NaN dari hasil function log()](https://academy.dqlab.id/main/livecode/12/44/266?pr=0)"
      ],
      "metadata": {
        "id": "0KfkZ-2bf0M8"
      }
    },
    {
      "cell_type": "code",
      "source": [
        "#Hitung logaritma dari angka -1000\n",
        "log(-1000)"
      ],
      "metadata": {
        "colab": {
          "base_uri": "https://localhost:8080/",
          "height": 69
        },
        "id": "rbMkVLXFf7th",
        "outputId": "6e9e51e8-e898-47f6-e3d7-e8e654b7820f"
      },
      "execution_count": 9,
      "outputs": [
        {
          "output_type": "stream",
          "name": "stderr",
          "text": [
            "Warning message in log(-1000):\n",
            "“NaNs produced”\n"
          ]
        },
        {
          "output_type": "display_data",
          "data": {
            "text/html": [
              "NaN"
            ],
            "text/markdown": "NaN",
            "text/latex": "NaN",
            "text/plain": [
              "[1] NaN"
            ]
          },
          "metadata": {}
        }
      ]
    },
    {
      "cell_type": "markdown",
      "source": [
        "#### [Fungsi is.nan](https://academy.dqlab.id/main/livecode/12/44/267?pr=0)"
      ],
      "metadata": {
        "id": "xz-o6L-6gB8x"
      }
    },
    {
      "cell_type": "code",
      "source": [
        "#Buat variable contoh.nan\n",
        "contoh.nan <- 0/0\n",
        "\n",
        "#Periksa dengan function is.nan\n",
        "is.nan(contoh.nan)"
      ],
      "metadata": {
        "colab": {
          "base_uri": "https://localhost:8080/",
          "height": 34
        },
        "id": "x3gB5apRgNR0",
        "outputId": "df700967-a828-41f2-c846-5ca8b5b1d0f0"
      },
      "execution_count": 10,
      "outputs": [
        {
          "output_type": "display_data",
          "data": {
            "text/html": [
              "TRUE"
            ],
            "text/markdown": "TRUE",
            "text/latex": "TRUE",
            "text/plain": [
              "[1] TRUE"
            ]
          },
          "metadata": {}
        }
      ]
    },
    {
      "cell_type": "markdown",
      "source": [
        "#### [NaN dan is.na versus NA dan is.nan](https://academy.dqlab.id/main/livecode/12/44/268?pr=0)"
      ],
      "metadata": {
        "id": "GLB7IVNogS4p"
      }
    },
    {
      "cell_type": "code",
      "source": [
        "#Masukkan code di bawah ini sesuai permintaan soal\n",
        "is.na(NaN)\n",
        "\n",
        "is.nan(NA)"
      ],
      "metadata": {
        "colab": {
          "base_uri": "https://localhost:8080/",
          "height": 52
        },
        "id": "89um0yhxgWE9",
        "outputId": "e7ab3883-cbea-41e4-f111-e2e28ba8a887"
      },
      "execution_count": 11,
      "outputs": [
        {
          "output_type": "display_data",
          "data": {
            "text/html": [
              "TRUE"
            ],
            "text/markdown": "TRUE",
            "text/latex": "TRUE",
            "text/plain": [
              "[1] TRUE"
            ]
          },
          "metadata": {}
        },
        {
          "output_type": "display_data",
          "data": {
            "text/html": [
              "FALSE"
            ],
            "text/markdown": "FALSE",
            "text/latex": "FALSE",
            "text/plain": [
              "[1] FALSE"
            ]
          },
          "metadata": {}
        }
      ]
    },
    {
      "cell_type": "markdown",
      "source": [
        "#### [Menghitung Jumlah Missing Values dari satu Vector](https://academy.dqlab.id/main/livecode/12/44/270?pr=0)"
      ],
      "metadata": {
        "id": "NLZSThZIgjeU"
      }
    },
    {
      "cell_type": "code",
      "source": [
        "#Masukkan code di bawah ini sesuai permintaan soal\n",
        "isi.vector <- c(1,2,NA,4,5,NaN,6)\n",
        "\n",
        "sum(is.na(isi.vector)==TRUE)"
      ],
      "metadata": {
        "colab": {
          "base_uri": "https://localhost:8080/",
          "height": 34
        },
        "id": "ysWsTN0XgobJ",
        "outputId": "f4ad01f2-4c56-4076-b437-1fdc92ffdfe8"
      },
      "execution_count": 12,
      "outputs": [
        {
          "output_type": "display_data",
          "data": {
            "text/html": [
              "2"
            ],
            "text/markdown": "2",
            "text/latex": "2",
            "text/plain": [
              "[1] 2"
            ]
          },
          "metadata": {}
        }
      ]
    },
    {
      "cell_type": "markdown",
      "source": [
        "## Faktor"
      ],
      "metadata": {
        "id": "bW0w0AU2gxPM"
      }
    },
    {
      "cell_type": "markdown",
      "source": [
        "#### [Membuat Factor di R](https://academy.dqlab.id/main/livecode/12/45/287?pr=0)"
      ],
      "metadata": {
        "id": "n8EFKZBtg001"
      }
    },
    {
      "cell_type": "code",
      "source": [
        "#Buatlah factor dengan isi nilai teks \"Jan\", \"Feb\", dan \"Mar\"\n",
        "factor(c(\"Jan\", \"Feb\", \"Mar\"))"
      ],
      "metadata": {
        "colab": {
          "base_uri": "https://localhost:8080/",
          "height": 69
        },
        "id": "Zkl4TvMChM8-",
        "outputId": "755542a8-070a-40e6-f82a-ca4b3e649ffa"
      },
      "execution_count": 13,
      "outputs": [
        {
          "output_type": "display_data",
          "data": {
            "text/html": [
              "<style>\n",
              ".list-inline {list-style: none; margin:0; padding: 0}\n",
              ".list-inline>li {display: inline-block}\n",
              ".list-inline>li:not(:last-child)::after {content: \"\\00b7\"; padding: 0 .5ex}\n",
              "</style>\n",
              "<ol class=list-inline><li>Jan</li><li>Feb</li><li>Mar</li></ol>\n",
              "\n",
              "<details>\n",
              "\t<summary style=display:list-item;cursor:pointer>\n",
              "\t\t<strong>Levels</strong>:\n",
              "\t</summary>\n",
              "\t<style>\n",
              "\t.list-inline {list-style: none; margin:0; padding: 0}\n",
              "\t.list-inline>li {display: inline-block}\n",
              "\t.list-inline>li:not(:last-child)::after {content: \"\\00b7\"; padding: 0 .5ex}\n",
              "\t</style>\n",
              "\t<ol class=list-inline><li>'Feb'</li><li>'Jan'</li><li>'Mar'</li></ol>\n",
              "</details>"
            ],
            "text/markdown": "1. Jan\n2. Feb\n3. Mar\n\n\n\n**Levels**: 1. 'Feb'\n2. 'Jan'\n3. 'Mar'\n\n\n",
            "text/latex": "\\begin{enumerate*}\n\\item Jan\n\\item Feb\n\\item Mar\n\\end{enumerate*}\n\n\\emph{Levels}: \\begin{enumerate*}\n\\item 'Feb'\n\\item 'Jan'\n\\item 'Mar'\n\\end{enumerate*}\n",
            "text/plain": [
              "[1] Jan Feb Mar\n",
              "Levels: Feb Jan Mar"
            ]
          },
          "metadata": {}
        }
      ]
    },
    {
      "cell_type": "markdown",
      "source": [
        "#### [Atribut levels dan class pada Factor](https://academy.dqlab.id/main/livecode/12/45/289?pr=0)"
      ],
      "metadata": {
        "id": "1V2hpTCChgwb"
      }
    },
    {
      "cell_type": "code",
      "source": [
        "#Variable factor bernama faktor.bulan dengan nilai teks \"Jan\", \"Feb\", dan \"Mar\"\n",
        "faktor.bulan <- factor(c(\"Jan\",\"Feb\",\"Mar\"))\n",
        "\n",
        "attributes(faktor.bulan)"
      ],
      "metadata": {
        "colab": {
          "base_uri": "https://localhost:8080/",
          "height": 114
        },
        "id": "YgM30Nyhhkq8",
        "outputId": "7abd57c2-e14e-4bcd-fe3a-71b719aad103"
      },
      "execution_count": 14,
      "outputs": [
        {
          "output_type": "display_data",
          "data": {
            "text/html": [
              "<dl>\n",
              "\t<dt>$levels</dt>\n",
              "\t\t<dd><style>\n",
              ".list-inline {list-style: none; margin:0; padding: 0}\n",
              ".list-inline>li {display: inline-block}\n",
              ".list-inline>li:not(:last-child)::after {content: \"\\00b7\"; padding: 0 .5ex}\n",
              "</style>\n",
              "<ol class=list-inline><li>'Feb'</li><li>'Jan'</li><li>'Mar'</li></ol>\n",
              "</dd>\n",
              "\t<dt>$class</dt>\n",
              "\t\t<dd>'factor'</dd>\n",
              "</dl>\n"
            ],
            "text/markdown": "$levels\n:   1. 'Feb'\n2. 'Jan'\n3. 'Mar'\n\n\n\n$class\n:   'factor'\n\n\n",
            "text/latex": "\\begin{description}\n\\item[\\$levels] \\begin{enumerate*}\n\\item 'Feb'\n\\item 'Jan'\n\\item 'Mar'\n\\end{enumerate*}\n\n\\item[\\$class] 'factor'\n\\end{description}\n",
            "text/plain": [
              "$levels\n",
              "[1] \"Feb\" \"Jan\" \"Mar\"\n",
              "\n",
              "$class\n",
              "[1] \"factor\"\n"
            ]
          },
          "metadata": {}
        }
      ]
    },
    {
      "cell_type": "markdown",
      "source": [
        "#### [Function levels dan class pada Factor](https://academy.dqlab.id/main/livecode/12/45/291?pr=0)"
      ],
      "metadata": {
        "id": "8_qIDaenhq5E"
      }
    },
    {
      "cell_type": "code",
      "source": [
        "#Variable factor bernama faktor.bulan dengan nilai teks \"Jan\", \"Feb\", dan \"Mar\"\n",
        "faktor.bulan <- factor(c(\"Jan\",\"Feb\",\"Mar\"))\n",
        "\n",
        "levels(faktor.bulan)\n",
        "\n",
        "class(faktor.bulan)"
      ],
      "metadata": {
        "colab": {
          "base_uri": "https://localhost:8080/",
          "height": 52
        },
        "id": "6ZSIFPRyhvbi",
        "outputId": "5d7c673f-c734-4745-9363-36c31f155569"
      },
      "execution_count": 15,
      "outputs": [
        {
          "output_type": "display_data",
          "data": {
            "text/html": [
              "<style>\n",
              ".list-inline {list-style: none; margin:0; padding: 0}\n",
              ".list-inline>li {display: inline-block}\n",
              ".list-inline>li:not(:last-child)::after {content: \"\\00b7\"; padding: 0 .5ex}\n",
              "</style>\n",
              "<ol class=list-inline><li>'Feb'</li><li>'Jan'</li><li>'Mar'</li></ol>\n"
            ],
            "text/markdown": "1. 'Feb'\n2. 'Jan'\n3. 'Mar'\n\n\n",
            "text/latex": "\\begin{enumerate*}\n\\item 'Feb'\n\\item 'Jan'\n\\item 'Mar'\n\\end{enumerate*}\n",
            "text/plain": [
              "[1] \"Feb\" \"Jan\" \"Mar\""
            ]
          },
          "metadata": {}
        },
        {
          "output_type": "display_data",
          "data": {
            "text/html": [
              "'factor'"
            ],
            "text/markdown": "'factor'",
            "text/latex": "'factor'",
            "text/plain": [
              "[1] \"factor\""
            ]
          },
          "metadata": {}
        }
      ]
    },
    {
      "cell_type": "markdown",
      "source": [
        "#### [Perulangan Nilai pada Factor](https://academy.dqlab.id/main/livecode/12/45/293?pr=0)"
      ],
      "metadata": {
        "id": "t17phz8Lh7Wk"
      }
    },
    {
      "cell_type": "code",
      "source": [
        "#Buatlah factor dengan teks \"Jan\", \"Feb\", \"Mar\",\"Jan\",\"Mar\", dan \"Jan\"\n",
        "factor(c(\"Jan\", \"Feb\", \"Mar\", \"Jan\", \"Mar\", \"Jan\"))"
      ],
      "metadata": {
        "colab": {
          "base_uri": "https://localhost:8080/",
          "height": 69
        },
        "id": "uBwcukdAiAoj",
        "outputId": "110ae390-2f52-4838-e2a1-4232dbc0524a"
      },
      "execution_count": 16,
      "outputs": [
        {
          "output_type": "display_data",
          "data": {
            "text/html": [
              "<style>\n",
              ".list-inline {list-style: none; margin:0; padding: 0}\n",
              ".list-inline>li {display: inline-block}\n",
              ".list-inline>li:not(:last-child)::after {content: \"\\00b7\"; padding: 0 .5ex}\n",
              "</style>\n",
              "<ol class=list-inline><li>Jan</li><li>Feb</li><li>Mar</li><li>Jan</li><li>Mar</li><li>Jan</li></ol>\n",
              "\n",
              "<details>\n",
              "\t<summary style=display:list-item;cursor:pointer>\n",
              "\t\t<strong>Levels</strong>:\n",
              "\t</summary>\n",
              "\t<style>\n",
              "\t.list-inline {list-style: none; margin:0; padding: 0}\n",
              "\t.list-inline>li {display: inline-block}\n",
              "\t.list-inline>li:not(:last-child)::after {content: \"\\00b7\"; padding: 0 .5ex}\n",
              "\t</style>\n",
              "\t<ol class=list-inline><li>'Feb'</li><li>'Jan'</li><li>'Mar'</li></ol>\n",
              "</details>"
            ],
            "text/markdown": "1. Jan\n2. Feb\n3. Mar\n4. Jan\n5. Mar\n6. Jan\n\n\n\n**Levels**: 1. 'Feb'\n2. 'Jan'\n3. 'Mar'\n\n\n",
            "text/latex": "\\begin{enumerate*}\n\\item Jan\n\\item Feb\n\\item Mar\n\\item Jan\n\\item Mar\n\\item Jan\n\\end{enumerate*}\n\n\\emph{Levels}: \\begin{enumerate*}\n\\item 'Feb'\n\\item 'Jan'\n\\item 'Mar'\n\\end{enumerate*}\n",
            "text/plain": [
              "[1] Jan Feb Mar Jan Mar Jan\n",
              "Levels: Feb Jan Mar"
            ]
          },
          "metadata": {}
        }
      ]
    },
    {
      "cell_type": "markdown",
      "source": [
        "#### [Penggunaan as.integer pada Factor](https://academy.dqlab.id/main/livecode/12/45/297?pr=0)"
      ],
      "metadata": {
        "id": "B4lrPMGUiLdu"
      }
    },
    {
      "cell_type": "code",
      "source": [
        "#Buatlah factor dengan teks \"Jan\", \"Feb\", \"Mar\",\"Jan\",\"Mar\", dan \"Jan\"\n",
        "factor.bulan <- factor(c(\"Jan\",\"Feb\",\"Mar\",\"Jan\",\"Mar\",\"Jan\"))\n",
        "\n",
        "as.integer(factor.bulan)"
      ],
      "metadata": {
        "colab": {
          "base_uri": "https://localhost:8080/",
          "height": 34
        },
        "id": "2Ni6z28yiXjL",
        "outputId": "5ca4a437-6493-4409-e75a-1ca89b976839"
      },
      "execution_count": 17,
      "outputs": [
        {
          "output_type": "display_data",
          "data": {
            "text/html": [
              "<style>\n",
              ".list-inline {list-style: none; margin:0; padding: 0}\n",
              ".list-inline>li {display: inline-block}\n",
              ".list-inline>li:not(:last-child)::after {content: \"\\00b7\"; padding: 0 .5ex}\n",
              "</style>\n",
              "<ol class=list-inline><li>2</li><li>1</li><li>3</li><li>2</li><li>3</li><li>2</li></ol>\n"
            ],
            "text/markdown": "1. 2\n2. 1\n3. 3\n4. 2\n5. 3\n6. 2\n\n\n",
            "text/latex": "\\begin{enumerate*}\n\\item 2\n\\item 1\n\\item 3\n\\item 2\n\\item 3\n\\item 2\n\\end{enumerate*}\n",
            "text/plain": [
              "[1] 2 1 3 2 3 2"
            ]
          },
          "metadata": {}
        }
      ]
    },
    {
      "cell_type": "markdown",
      "source": [
        "#### [Mengganti \"Jan\" menjadi \"Januari\"](https://academy.dqlab.id/main/livecode/12/45/299?pr=0)"
      ],
      "metadata": {
        "id": "qd10XXXIiih0"
      }
    },
    {
      "cell_type": "code",
      "source": [
        "#Buatlah factor dengan teks \"Jan\", \"Feb\", \"Mar\",\"Jan\",\"Mar\", dan \"Jan\"\n",
        "factor.bulan <- factor(c(\"Jan\",\"Feb\",\"Mar\",\"Jan\",\"Mar\",\"Jan\"))\n",
        "\n",
        "#Mengganti levels \n",
        "levels(factor.bulan)[2] <- \"Januari\"\n",
        "levels(factor.bulan)[3] <- \"Maret\"\n",
        "\n",
        "factor.bulan"
      ],
      "metadata": {
        "colab": {
          "base_uri": "https://localhost:8080/",
          "height": 69
        },
        "id": "Z-kkEBN6inBA",
        "outputId": "d436a181-025a-4a7f-f4ce-3dd03bc1e62a"
      },
      "execution_count": 18,
      "outputs": [
        {
          "output_type": "display_data",
          "data": {
            "text/html": [
              "<style>\n",
              ".list-inline {list-style: none; margin:0; padding: 0}\n",
              ".list-inline>li {display: inline-block}\n",
              ".list-inline>li:not(:last-child)::after {content: \"\\00b7\"; padding: 0 .5ex}\n",
              "</style>\n",
              "<ol class=list-inline><li>Januari</li><li>Feb</li><li>Maret</li><li>Januari</li><li>Maret</li><li>Januari</li></ol>\n",
              "\n",
              "<details>\n",
              "\t<summary style=display:list-item;cursor:pointer>\n",
              "\t\t<strong>Levels</strong>:\n",
              "\t</summary>\n",
              "\t<style>\n",
              "\t.list-inline {list-style: none; margin:0; padding: 0}\n",
              "\t.list-inline>li {display: inline-block}\n",
              "\t.list-inline>li:not(:last-child)::after {content: \"\\00b7\"; padding: 0 .5ex}\n",
              "\t</style>\n",
              "\t<ol class=list-inline><li>'Feb'</li><li>'Januari'</li><li>'Maret'</li></ol>\n",
              "</details>"
            ],
            "text/markdown": "1. Januari\n2. Feb\n3. Maret\n4. Januari\n5. Maret\n6. Januari\n\n\n\n**Levels**: 1. 'Feb'\n2. 'Januari'\n3. 'Maret'\n\n\n",
            "text/latex": "\\begin{enumerate*}\n\\item Januari\n\\item Feb\n\\item Maret\n\\item Januari\n\\item Maret\n\\item Januari\n\\end{enumerate*}\n\n\\emph{Levels}: \\begin{enumerate*}\n\\item 'Feb'\n\\item 'Januari'\n\\item 'Maret'\n\\end{enumerate*}\n",
            "text/plain": [
              "[1] Januari Feb     Maret   Januari Maret   Januari\n",
              "Levels: Feb Januari Maret"
            ]
          },
          "metadata": {}
        }
      ]
    },
    {
      "cell_type": "markdown",
      "source": [
        "#### [Angka sebagai Kategori](https://academy.dqlab.id/main/livecode/12/45/301?pr=0)"
      ],
      "metadata": {
        "id": "8dKiQVXBisWI"
      }
    },
    {
      "cell_type": "code",
      "source": [
        "#Buatlah factor bernama factor.umur dengan isi c(12, 35, 24, 12, 35, 37)\n",
        "factor.umur <- factor(c(12, 35, 24, 12, 35, 37))\n",
        "\n",
        "#Tampilkan variable factor.umur \n",
        "factor.umur"
      ],
      "metadata": {
        "colab": {
          "base_uri": "https://localhost:8080/",
          "height": 69
        },
        "id": "1-kwEomDiyh_",
        "outputId": "5f442fbf-b54e-42cd-d0b5-d45d777a28e3"
      },
      "execution_count": 19,
      "outputs": [
        {
          "output_type": "display_data",
          "data": {
            "text/html": [
              "<style>\n",
              ".list-inline {list-style: none; margin:0; padding: 0}\n",
              ".list-inline>li {display: inline-block}\n",
              ".list-inline>li:not(:last-child)::after {content: \"\\00b7\"; padding: 0 .5ex}\n",
              "</style>\n",
              "<ol class=list-inline><li>12</li><li>35</li><li>24</li><li>12</li><li>35</li><li>37</li></ol>\n",
              "\n",
              "<details>\n",
              "\t<summary style=display:list-item;cursor:pointer>\n",
              "\t\t<strong>Levels</strong>:\n",
              "\t</summary>\n",
              "\t<style>\n",
              "\t.list-inline {list-style: none; margin:0; padding: 0}\n",
              "\t.list-inline>li {display: inline-block}\n",
              "\t.list-inline>li:not(:last-child)::after {content: \"\\00b7\"; padding: 0 .5ex}\n",
              "\t</style>\n",
              "\t<ol class=list-inline><li>'12'</li><li>'24'</li><li>'35'</li><li>'37'</li></ol>\n",
              "</details>"
            ],
            "text/markdown": "1. 12\n2. 35\n3. 24\n4. 12\n5. 35\n6. 37\n\n\n\n**Levels**: 1. '12'\n2. '24'\n3. '35'\n4. '37'\n\n\n",
            "text/latex": "\\begin{enumerate*}\n\\item 12\n\\item 35\n\\item 24\n\\item 12\n\\item 35\n\\item 37\n\\end{enumerate*}\n\n\\emph{Levels}: \\begin{enumerate*}\n\\item '12'\n\\item '24'\n\\item '35'\n\\item '37'\n\\end{enumerate*}\n",
            "text/plain": [
              "[1] 12 35 24 12 35 37\n",
              "Levels: 12 24 35 37"
            ]
          },
          "metadata": {}
        }
      ]
    },
    {
      "cell_type": "markdown",
      "source": [
        "#### [NA, NaN, NULL pada saat pembentukan Factor](https://academy.dqlab.id/main/livecode/12/45/302?pr=0)"
      ],
      "metadata": {
        "id": "CoM0XKrijHup"
      }
    },
    {
      "cell_type": "code",
      "source": [
        "#Buatlah variable factor.lokasi dengan isi berupa vector c(\"Bandung\", \"Jakarta\", NA, \"Jakarta\", NaN, \"Medan\", NULL, NULL, \"Bandung\") \n",
        "factor.lokasi <- factor(c(\"Bandung\", \"Jakarta\", NA, \"Jakarta\", NaN, \"Medan\", NULL, NULL, \"Bandung\")) \n",
        "\n",
        "#Tampilkan factor.lokasi\n",
        "factor.lokasi"
      ],
      "metadata": {
        "colab": {
          "base_uri": "https://localhost:8080/",
          "height": 69
        },
        "id": "Ovm1FPvsjLbt",
        "outputId": "2bd48b4c-d54d-407c-d019-5de7cb297bc1"
      },
      "execution_count": 20,
      "outputs": [
        {
          "output_type": "display_data",
          "data": {
            "text/html": [
              "<style>\n",
              ".list-inline {list-style: none; margin:0; padding: 0}\n",
              ".list-inline>li {display: inline-block}\n",
              ".list-inline>li:not(:last-child)::after {content: \"\\00b7\"; padding: 0 .5ex}\n",
              "</style>\n",
              "<ol class=list-inline><li>Bandung</li><li>Jakarta</li><li>&lt;NA&gt;</li><li>Jakarta</li><li>NaN</li><li>Medan</li><li>Bandung</li></ol>\n",
              "\n",
              "<details>\n",
              "\t<summary style=display:list-item;cursor:pointer>\n",
              "\t\t<strong>Levels</strong>:\n",
              "\t</summary>\n",
              "\t<style>\n",
              "\t.list-inline {list-style: none; margin:0; padding: 0}\n",
              "\t.list-inline>li {display: inline-block}\n",
              "\t.list-inline>li:not(:last-child)::after {content: \"\\00b7\"; padding: 0 .5ex}\n",
              "\t</style>\n",
              "\t<ol class=list-inline><li>'Bandung'</li><li>'Jakarta'</li><li>'Medan'</li><li>'NaN'</li></ol>\n",
              "</details>"
            ],
            "text/markdown": "1. Bandung\n2. Jakarta\n3. &lt;NA&gt;\n4. Jakarta\n5. NaN\n6. Medan\n7. Bandung\n\n\n\n**Levels**: 1. 'Bandung'\n2. 'Jakarta'\n3. 'Medan'\n4. 'NaN'\n\n\n",
            "text/latex": "\\begin{enumerate*}\n\\item Bandung\n\\item Jakarta\n\\item <NA>\n\\item Jakarta\n\\item NaN\n\\item Medan\n\\item Bandung\n\\end{enumerate*}\n\n\\emph{Levels}: \\begin{enumerate*}\n\\item 'Bandung'\n\\item 'Jakarta'\n\\item 'Medan'\n\\item 'NaN'\n\\end{enumerate*}\n",
            "text/plain": [
              "[1] Bandung Jakarta <NA>    Jakarta NaN     Medan   Bandung\n",
              "Levels: Bandung Jakarta Medan NaN"
            ]
          },
          "metadata": {}
        }
      ]
    },
    {
      "cell_type": "markdown",
      "source": [
        "#### [Menghitung panjang Factor dengan length](https://academy.dqlab.id/main/livecode/12/45/303?pr=0)"
      ],
      "metadata": {
        "id": "f8GrRCCzjVmj"
      }
    },
    {
      "cell_type": "code",
      "source": [
        "#Buatlah variable factor.lokasi dengan isi berupa vector c(\"Bandung\", \"Jakarta\", NA, \"Jakarta\", NaN, \"Medan\", NULL, NULL, \"Bandung\") \n",
        "factor.lokasi <- factor(c(\"Bandung\", \"Jakarta\", NA, \"Jakarta\", NaN, \"Medan\", NULL, NULL, \"Bandung\"))\n",
        "\n",
        "#Tampilkan panjang dari variable factor.lokasi\n",
        "length(factor.lokasi)"
      ],
      "metadata": {
        "colab": {
          "base_uri": "https://localhost:8080/",
          "height": 34
        },
        "id": "Ko94fUSQjZRS",
        "outputId": "db21a3e1-001a-45a7-d9be-60af01dc83f3"
      },
      "execution_count": 21,
      "outputs": [
        {
          "output_type": "display_data",
          "data": {
            "text/html": [
              "7"
            ],
            "text/markdown": "7",
            "text/latex": "7",
            "text/plain": [
              "[1] 7"
            ]
          },
          "metadata": {}
        }
      ]
    },
    {
      "cell_type": "markdown",
      "source": [
        "#### [Menyusun levels dari awal](https://academy.dqlab.id/main/livecode/12/45/304?pr=0)"
      ],
      "metadata": {
        "id": "H6RFj6CujkNE"
      }
    },
    {
      "cell_type": "code",
      "source": [
        "#Variable factor dengan isi vector c(\"Jan\",\"Feb\",\"Mar\",\"Jan\",\"Mar\") \n",
        "factor(c(\"Jan\",\"Feb\",\"Mar\",\"Jan\",\"Mar\"), levels = c(\"Jan\", \"Feb\", \"Mar\"))"
      ],
      "metadata": {
        "colab": {
          "base_uri": "https://localhost:8080/",
          "height": 69
        },
        "id": "NLIaAkHvjn5O",
        "outputId": "3bdc2948-9831-402b-8c32-79164804e9c7"
      },
      "execution_count": 22,
      "outputs": [
        {
          "output_type": "display_data",
          "data": {
            "text/html": [
              "<style>\n",
              ".list-inline {list-style: none; margin:0; padding: 0}\n",
              ".list-inline>li {display: inline-block}\n",
              ".list-inline>li:not(:last-child)::after {content: \"\\00b7\"; padding: 0 .5ex}\n",
              "</style>\n",
              "<ol class=list-inline><li>Jan</li><li>Feb</li><li>Mar</li><li>Jan</li><li>Mar</li></ol>\n",
              "\n",
              "<details>\n",
              "\t<summary style=display:list-item;cursor:pointer>\n",
              "\t\t<strong>Levels</strong>:\n",
              "\t</summary>\n",
              "\t<style>\n",
              "\t.list-inline {list-style: none; margin:0; padding: 0}\n",
              "\t.list-inline>li {display: inline-block}\n",
              "\t.list-inline>li:not(:last-child)::after {content: \"\\00b7\"; padding: 0 .5ex}\n",
              "\t</style>\n",
              "\t<ol class=list-inline><li>'Jan'</li><li>'Feb'</li><li>'Mar'</li></ol>\n",
              "</details>"
            ],
            "text/markdown": "1. Jan\n2. Feb\n3. Mar\n4. Jan\n5. Mar\n\n\n\n**Levels**: 1. 'Jan'\n2. 'Feb'\n3. 'Mar'\n\n\n",
            "text/latex": "\\begin{enumerate*}\n\\item Jan\n\\item Feb\n\\item Mar\n\\item Jan\n\\item Mar\n\\end{enumerate*}\n\n\\emph{Levels}: \\begin{enumerate*}\n\\item 'Jan'\n\\item 'Feb'\n\\item 'Mar'\n\\end{enumerate*}\n",
            "text/plain": [
              "[1] Jan Feb Mar Jan Mar\n",
              "Levels: Jan Feb Mar"
            ]
          },
          "metadata": {}
        }
      ]
    },
    {
      "cell_type": "markdown",
      "source": [
        "## Membaca dari Text dan Excel"
      ],
      "metadata": {
        "id": "TkOjz4uaj1ed"
      }
    },
    {
      "cell_type": "markdown",
      "source": [
        "#### [Membaca Dataset CSV](https://academy.dqlab.id/main/livecode/12/46/310?pr=0)"
      ],
      "metadata": {
        "id": "-epxWwXZkF_p"
      }
    },
    {
      "cell_type": "code",
      "source": [
        "#Membaca dataset dengan read.csv dan dimasukkan ke variable penduduk.dki\n",
        "penduduk.dki <- read.csv(\"https://storage.googleapis.com/dqlab-dataset/dkikepadatankelurahan2013.csv\", sep=\",\")\n",
        "\n",
        "penduduk.dki"
      ],
      "metadata": {
        "colab": {
          "base_uri": "https://localhost:8080/",
          "height": 1000
        },
        "id": "NQTRI1PpkR-J",
        "outputId": "7754d8a2-1d33-4112-a6cf-a257350cf468"
      },
      "execution_count": 23,
      "outputs": [
        {
          "output_type": "display_data",
          "data": {
            "text/html": [
              "<table class=\"dataframe\">\n",
              "<caption>A data.frame: 267 × 37</caption>\n",
              "<thead>\n",
              "\t<tr><th scope=col>TAHUN</th><th scope=col>NAMA.PROVINSI</th><th scope=col>NAMA.KABUPATEN.KOTA</th><th scope=col>NAMA.KECAMATAN</th><th scope=col>NAMA.KELURAHAN</th><th scope=col>LUAS.WILAYAH..KM2.</th><th scope=col>KEPADATAN..JIWA.KM2.</th><th scope=col>X</th><th scope=col>X.1</th><th scope=col>X.2</th><th scope=col>⋯</th><th scope=col>X55.59.Laki.Laki</th><th scope=col>X55.59.Perempuan</th><th scope=col>X60.64.Laki.Laki</th><th scope=col>X60.64.Perempuan</th><th scope=col>X65.69.Laki.Laki</th><th scope=col>X65.69.Perempuan</th><th scope=col>X70.74.Laki.Laki</th><th scope=col>X70.74.Perempuan</th><th scope=col>X.75.Laki.Laki</th><th scope=col>X.75..Perempuan</th></tr>\n",
              "\t<tr><th scope=col>&lt;int&gt;</th><th scope=col>&lt;chr&gt;</th><th scope=col>&lt;chr&gt;</th><th scope=col>&lt;chr&gt;</th><th scope=col>&lt;chr&gt;</th><th scope=col>&lt;dbl&gt;</th><th scope=col>&lt;int&gt;</th><th scope=col>&lt;lgl&gt;</th><th scope=col>&lt;lgl&gt;</th><th scope=col>&lt;lgl&gt;</th><th scope=col>⋯</th><th scope=col>&lt;int&gt;</th><th scope=col>&lt;int&gt;</th><th scope=col>&lt;int&gt;</th><th scope=col>&lt;int&gt;</th><th scope=col>&lt;int&gt;</th><th scope=col>&lt;int&gt;</th><th scope=col>&lt;int&gt;</th><th scope=col>&lt;int&gt;</th><th scope=col>&lt;int&gt;</th><th scope=col>&lt;int&gt;</th></tr>\n",
              "</thead>\n",
              "<tbody>\n",
              "\t<tr><td>2013</td><td>PROVINSI DKI JAKARTA</td><td>KAB.ADM.KEP.SERIBU</td><td>KEP. SERIBU UTR</td><td>P. PANGGANG          </td><td>0.91</td><td> 6779</td><td>NA</td><td>NA</td><td>NA</td><td>⋯</td><td> 98</td><td>106</td><td> 72</td><td> 65</td><td> 36</td><td> 33</td><td> 33</td><td> 20</td><td> 13</td><td> 27</td></tr>\n",
              "\t<tr><td>2013</td><td>PROVINSI DKI JAKARTA</td><td>KAB.ADM.KEP.SERIBU</td><td>KEP. SERIBU UTR</td><td>P. KELAPA            </td><td>3.76</td><td> 1705</td><td>NA</td><td>NA</td><td>NA</td><td>⋯</td><td> 30</td><td> 39</td><td> 29</td><td> 24</td><td> 12</td><td> 21</td><td> 13</td><td>  5</td><td>  5</td><td>  8</td></tr>\n",
              "\t<tr><td>2013</td><td>PROVINSI DKI JAKARTA</td><td>KAB.ADM.KEP.SERIBU</td><td>KEP. SERIBU UTR</td><td>P. HARAPAN           </td><td>3.59</td><td>  628</td><td>NA</td><td>NA</td><td>NA</td><td>⋯</td><td>139</td><td>101</td><td> 73</td><td> 56</td><td> 18</td><td> 35</td><td> 24</td><td> 25</td><td> 18</td><td> 26</td></tr>\n",
              "\t<tr><td>2013</td><td>PROVINSI DKI JAKARTA</td><td>KAB.ADM.KEP.SERIBU</td><td>KEP. SERIBU SLT</td><td>P. UNTUNG JAWA       </td><td>0.59</td><td> 3625</td><td>NA</td><td>NA</td><td>NA</td><td>⋯</td><td> 97</td><td> 83</td><td> 58</td><td> 56</td><td> 40</td><td> 54</td><td> 26</td><td> 27</td><td> 16</td><td> 13</td></tr>\n",
              "\t<tr><td>2013</td><td>PROVINSI DKI JAKARTA</td><td>KAB.ADM.KEP.SERIBU</td><td>KEP. SERIBU SLT</td><td>P. TIDUNG            </td><td>1.57</td><td> 3084</td><td>NA</td><td>NA</td><td>NA</td><td>⋯</td><td> 37</td><td> 32</td><td> 22</td><td> 13</td><td> 18</td><td> 15</td><td> 10</td><td> 18</td><td> 11</td><td> 17</td></tr>\n",
              "\t<tr><td>2013</td><td>PROVINSI DKI JAKARTA</td><td>KAB.ADM.KEP.SERIBU</td><td>KEP. SERIBU SLT</td><td>P. PARI              </td><td>1.39</td><td> 1968</td><td>NA</td><td>NA</td><td>NA</td><td>⋯</td><td> 37</td><td> 36</td><td> 32</td><td> 26</td><td> 21</td><td> 14</td><td> 17</td><td> 11</td><td>  8</td><td>  7</td></tr>\n",
              "\t<tr><td>2013</td><td>PROVINSI DKI JAKARTA</td><td>JAKARTA PUSAT     </td><td>GAMBIR         </td><td>GAMBIR               </td><td>2.58</td><td> 1350</td><td>NA</td><td>NA</td><td>NA</td><td>⋯</td><td>108</td><td> 90</td><td> 88</td><td> 42</td><td> 68</td><td> 34</td><td> 37</td><td> 32</td><td> 34</td><td> 23</td></tr>\n",
              "\t<tr><td>2013</td><td>PROVINSI DKI JAKARTA</td><td>JAKARTA PUSAT     </td><td>GAMBIR         </td><td>CIDENG               </td><td>1.26</td><td>14584</td><td>NA</td><td>NA</td><td>NA</td><td>⋯</td><td>614</td><td>537</td><td>555</td><td>343</td><td>413</td><td>215</td><td>259</td><td>142</td><td>214</td><td>165</td></tr>\n",
              "\t<tr><td>2013</td><td>PROVINSI DKI JAKARTA</td><td>JAKARTA PUSAT     </td><td>GAMBIR         </td><td>PETOJO UTARA         </td><td>1.12</td><td>18987</td><td>NA</td><td>NA</td><td>NA</td><td>⋯</td><td>680</td><td>510</td><td>544</td><td>421</td><td>398</td><td>235</td><td>241</td><td>132</td><td>215</td><td>159</td></tr>\n",
              "\t<tr><td>2013</td><td>PROVINSI DKI JAKARTA</td><td>JAKARTA PUSAT     </td><td>GAMBIR         </td><td>PETOJO SELATAN       </td><td>1.14</td><td>14465</td><td>NA</td><td>NA</td><td>NA</td><td>⋯</td><td>539</td><td>466</td><td>428</td><td>279</td><td>328</td><td>160</td><td>215</td><td>116</td><td>150</td><td>121</td></tr>\n",
              "\t<tr><td>2013</td><td>PROVINSI DKI JAKARTA</td><td>JAKARTA PUSAT     </td><td>GAMBIR         </td><td>KEBON KELAPA         </td><td>0.78</td><td>15890</td><td>NA</td><td>NA</td><td>NA</td><td>⋯</td><td>432</td><td>329</td><td>353</td><td>263</td><td>246</td><td>140</td><td>152</td><td>100</td><td>136</td><td> 72</td></tr>\n",
              "\t<tr><td>2013</td><td>PROVINSI DKI JAKARTA</td><td>JAKARTA PUSAT     </td><td>GAMBIR         </td><td>DURI PULO            </td><td>0.72</td><td>35628</td><td>NA</td><td>NA</td><td>NA</td><td>⋯</td><td>742</td><td>616</td><td>597</td><td>404</td><td>409</td><td>215</td><td>255</td><td>156</td><td>196</td><td>138</td></tr>\n",
              "\t<tr><td>2013</td><td>PROVINSI DKI JAKARTA</td><td>JAKARTA PUSAT     </td><td>SAWAH BESAR    </td><td>PASAR BARU           </td><td>1.89</td><td> 8041</td><td>NA</td><td>NA</td><td>NA</td><td>⋯</td><td>495</td><td>435</td><td>486</td><td>401</td><td>407</td><td>265</td><td>243</td><td>147</td><td>203</td><td>136</td></tr>\n",
              "\t<tr><td>2013</td><td>PROVINSI DKI JAKARTA</td><td>JAKARTA PUSAT     </td><td>SAWAH BESAR    </td><td>KARANG ANYAR         </td><td>0.51</td><td>63122</td><td>NA</td><td>NA</td><td>NA</td><td>⋯</td><td>935</td><td>749</td><td>793</td><td>487</td><td>567</td><td>308</td><td>344</td><td>199</td><td>258</td><td>156</td></tr>\n",
              "\t<tr><td>2013</td><td>PROVINSI DKI JAKARTA</td><td>JAKARTA PUSAT     </td><td>SAWAH BESAR    </td><td>KARTINI              </td><td>0.55</td><td>49862</td><td>NA</td><td>NA</td><td>NA</td><td>⋯</td><td>877</td><td>688</td><td>743</td><td>515</td><td>542</td><td>272</td><td>360</td><td>187</td><td>284</td><td>180</td></tr>\n",
              "\t<tr><td>2013</td><td>PROVINSI DKI JAKARTA</td><td>JAKARTA PUSAT     </td><td>SAWAH BESAR    </td><td>GUNUNG SAHARI UTARA  </td><td>1.98</td><td> 9933</td><td>NA</td><td>NA</td><td>NA</td><td>⋯</td><td>648</td><td>525</td><td>539</td><td>388</td><td>458</td><td>240</td><td>289</td><td>184</td><td>203</td><td>168</td></tr>\n",
              "\t<tr><td>2013</td><td>PROVINSI DKI JAKARTA</td><td>JAKARTA PUSAT     </td><td>SAWAH BESAR    </td><td>MANGGA DUA SELATAN   </td><td>1.29</td><td>26203</td><td>NA</td><td>NA</td><td>NA</td><td>⋯</td><td>969</td><td>799</td><td>729</td><td>528</td><td>498</td><td>310</td><td>316</td><td>188</td><td>252</td><td>157</td></tr>\n",
              "\t<tr><td>2013</td><td>PROVINSI DKI JAKARTA</td><td>JAKARTA PUSAT     </td><td>KEMAYORAN      </td><td>KEMAYORAN            </td><td>0.55</td><td>44202</td><td>NA</td><td>NA</td><td>NA</td><td>⋯</td><td>696</td><td>601</td><td>608</td><td>410</td><td>414</td><td>191</td><td>262</td><td>163</td><td>199</td><td>140</td></tr>\n",
              "\t<tr><td>2013</td><td>PROVINSI DKI JAKARTA</td><td>JAKARTA PUSAT     </td><td>KEMAYORAN      </td><td>KEBON KOSONG         </td><td>1.13</td><td>28014</td><td>NA</td><td>NA</td><td>NA</td><td>⋯</td><td>837</td><td>650</td><td>685</td><td>448</td><td>448</td><td>271</td><td>259</td><td>186</td><td>179</td><td> 98</td></tr>\n",
              "\t<tr><td>2013</td><td>PROVINSI DKI JAKARTA</td><td>JAKARTA PUSAT     </td><td>KEMAYORAN      </td><td>HARAPAN MULIA        </td><td>0.91</td><td>29205</td><td>NA</td><td>NA</td><td>NA</td><td>⋯</td><td>737</td><td>584</td><td>619</td><td>346</td><td>365</td><td>218</td><td>267</td><td>147</td><td>171</td><td>100</td></tr>\n",
              "\t<tr><td>2013</td><td>PROVINSI DKI JAKARTA</td><td>JAKARTA PUSAT     </td><td>KEMAYORAN      </td><td>SERDANG              </td><td>0.82</td><td>41837</td><td>NA</td><td>NA</td><td>NA</td><td>⋯</td><td>901</td><td>627</td><td>650</td><td>418</td><td>521</td><td>279</td><td>358</td><td>289</td><td>294</td><td>180</td></tr>\n",
              "\t<tr><td>2013</td><td>PROVINSI DKI JAKARTA</td><td>JAKARTA PUSAT     </td><td>KEMAYORAN      </td><td>GUNUNG SAHARI SELATAN</td><td>0.53</td><td>43858</td><td>NA</td><td>NA</td><td>NA</td><td>⋯</td><td>717</td><td>602</td><td>585</td><td>396</td><td>460</td><td>282</td><td>273</td><td>169</td><td>192</td><td>130</td></tr>\n",
              "\t<tr><td>2013</td><td>PROVINSI DKI JAKARTA</td><td>JAKARTA PUSAT     </td><td>KEMAYORAN      </td><td>CEMPAKA BARU         </td><td>0.99</td><td>38088</td><td>NA</td><td>NA</td><td>NA</td><td>⋯</td><td>983</td><td>755</td><td>770</td><td>498</td><td>571</td><td>318</td><td>462</td><td>306</td><td>284</td><td>180</td></tr>\n",
              "\t<tr><td>2013</td><td>PROVINSI DKI JAKARTA</td><td>JAKARTA PUSAT     </td><td>KEMAYORAN      </td><td>SUMUR BATU           </td><td>1.15</td><td>23271</td><td>NA</td><td>NA</td><td>NA</td><td>⋯</td><td>689</td><td>549</td><td>636</td><td>383</td><td>465</td><td>279</td><td>309</td><td>227</td><td>205</td><td>113</td></tr>\n",
              "\t<tr><td>2013</td><td>PROVINSI DKI JAKARTA</td><td>JAKARTA PUSAT     </td><td>KEMAYORAN      </td><td>UTAN PANJANG         </td><td>1.05</td><td>31889</td><td>NA</td><td>NA</td><td>NA</td><td>⋯</td><td>912</td><td>731</td><td>719</td><td>424</td><td>395</td><td>197</td><td>295</td><td>179</td><td>209</td><td>133</td></tr>\n",
              "\t<tr><td>2013</td><td>PROVINSI DKI JAKARTA</td><td>JAKARTA PUSAT     </td><td>SENEN          </td><td>SENEN                </td><td>0.81</td><td>10158</td><td>NA</td><td>NA</td><td>NA</td><td>⋯</td><td>224</td><td>207</td><td>184</td><td>152</td><td>126</td><td> 84</td><td> 73</td><td> 40</td><td> 50</td><td> 31</td></tr>\n",
              "\t<tr><td>2013</td><td>PROVINSI DKI JAKARTA</td><td>JAKARTA PUSAT     </td><td>SENEN          </td><td>KENARI               </td><td>0.91</td><td>11757</td><td>NA</td><td>NA</td><td>NA</td><td>⋯</td><td>339</td><td>288</td><td>271</td><td>191</td><td>200</td><td> 96</td><td>122</td><td> 76</td><td> 88</td><td> 61</td></tr>\n",
              "\t<tr><td>2013</td><td>PROVINSI DKI JAKARTA</td><td>JAKARTA PUSAT     </td><td>SENEN          </td><td>PASEBAN              </td><td>0.71</td><td>38400</td><td>NA</td><td>NA</td><td>NA</td><td>⋯</td><td>914</td><td>697</td><td>666</td><td>436</td><td>428</td><td>203</td><td>264</td><td>142</td><td>169</td><td>121</td></tr>\n",
              "\t<tr><td>2013</td><td>PROVINSI DKI JAKARTA</td><td>JAKARTA PUSAT     </td><td>SENEN          </td><td>KRAMAT               </td><td>0.71</td><td>47630</td><td>NA</td><td>NA</td><td>NA</td><td>⋯</td><td>949</td><td>777</td><td>760</td><td>483</td><td>479</td><td>272</td><td>344</td><td>193</td><td>234</td><td>156</td></tr>\n",
              "\t<tr><td>2013</td><td>PROVINSI DKI JAKARTA</td><td>JAKARTA PUSAT     </td><td>SENEN          </td><td>KWITANG              </td><td>0.45</td><td>40724</td><td>NA</td><td>NA</td><td>NA</td><td>⋯</td><td>587</td><td>459</td><td>459</td><td>310</td><td>371</td><td>157</td><td>192</td><td>105</td><td>153</td><td> 95</td></tr>\n",
              "\t<tr><td>⋮</td><td>⋮</td><td>⋮</td><td>⋮</td><td>⋮</td><td>⋮</td><td>⋮</td><td>⋮</td><td>⋮</td><td>⋮</td><td>⋱</td><td>⋮</td><td>⋮</td><td>⋮</td><td>⋮</td><td>⋮</td><td>⋮</td><td>⋮</td><td>⋮</td><td>⋮</td><td>⋮</td></tr>\n",
              "\t<tr><td>2013</td><td>PROVINSI DKI JAKARTA</td><td>JAKARTA TIMUR</td><td>CAKUNG     </td><td>PENGGILINGAN         </td><td> 4.48</td><td>22483</td><td>NA</td><td>NA</td><td>NA</td><td>⋯</td><td>2063</td><td>1920</td><td>1365</td><td> 991</td><td>606</td><td>446</td><td>339</td><td>260</td><td>192</td><td>208</td></tr>\n",
              "\t<tr><td>2013</td><td>PROVINSI DKI JAKARTA</td><td>JAKARTA TIMUR</td><td>CAKUNG     </td><td>CAKUNG TIMUR         </td><td> 9.81</td><td> 6464</td><td>NA</td><td>NA</td><td>NA</td><td>⋯</td><td>1252</td><td>1129</td><td> 832</td><td> 558</td><td>339</td><td>269</td><td>183</td><td>168</td><td>102</td><td> 97</td></tr>\n",
              "\t<tr><td>2013</td><td>PROVINSI DKI JAKARTA</td><td>JAKARTA TIMUR</td><td>CAKUNG     </td><td>PULO GEBANG          </td><td> 6.86</td><td>13716</td><td>NA</td><td>NA</td><td>NA</td><td>⋯</td><td>2134</td><td>1992</td><td>1476</td><td>1170</td><td>645</td><td>507</td><td>423</td><td>280</td><td>195</td><td>232</td></tr>\n",
              "\t<tr><td>2013</td><td>PROVINSI DKI JAKARTA</td><td>JAKARTA TIMUR</td><td>CAKUNG     </td><td>UJUNG MENTENG        </td><td> 4.43</td><td> 6972</td><td>NA</td><td>NA</td><td>NA</td><td>⋯</td><td> 631</td><td> 586</td><td> 388</td><td> 300</td><td>194</td><td>181</td><td>114</td><td> 91</td><td> 63</td><td> 70</td></tr>\n",
              "\t<tr><td>2013</td><td>PROVINSI DKI JAKARTA</td><td>JAKARTA TIMUR</td><td>CAKUNG     </td><td>CAKUNG BARAT         </td><td> 6.19</td><td>10030</td><td>NA</td><td>NA</td><td>NA</td><td>⋯</td><td> 917</td><td> 821</td><td> 543</td><td> 406</td><td>253</td><td>218</td><td>139</td><td>138</td><td> 98</td><td> 97</td></tr>\n",
              "\t<tr><td>2013</td><td>PROVINSI DKI JAKARTA</td><td>JAKARTA TIMUR</td><td>DUREN SAWIT</td><td>DUREN SAWIT          </td><td> 4.58</td><td>14100</td><td>NA</td><td>NA</td><td>NA</td><td>⋯</td><td>1383</td><td>1480</td><td>1077</td><td>1069</td><td>646</td><td>625</td><td>428</td><td>352</td><td>235</td><td>268</td></tr>\n",
              "\t<tr><td>2013</td><td>PROVINSI DKI JAKARTA</td><td>JAKARTA TIMUR</td><td>DUREN SAWIT</td><td>PONDOK BAMBU         </td><td> 5.00</td><td>13285</td><td>NA</td><td>NA</td><td>NA</td><td>⋯</td><td>1338</td><td>1560</td><td>1145</td><td> 997</td><td>675</td><td>625</td><td>414</td><td>327</td><td>234</td><td>245</td></tr>\n",
              "\t<tr><td>2013</td><td>PROVINSI DKI JAKARTA</td><td>JAKARTA TIMUR</td><td>DUREN SAWIT</td><td>KLENDER              </td><td> 3.08</td><td>25456</td><td>NA</td><td>NA</td><td>NA</td><td>⋯</td><td>1636</td><td>1620</td><td>1127</td><td>1050</td><td>657</td><td>561</td><td>443</td><td>401</td><td>200</td><td>278</td></tr>\n",
              "\t<tr><td>2013</td><td>PROVINSI DKI JAKARTA</td><td>JAKARTA TIMUR</td><td>DUREN SAWIT</td><td>PONDOK KELAPA        </td><td> 5.72</td><td>12673</td><td>NA</td><td>NA</td><td>NA</td><td>⋯</td><td>1690</td><td>1783</td><td>1363</td><td>1157</td><td>735</td><td>605</td><td>458</td><td>344</td><td>221</td><td>299</td></tr>\n",
              "\t<tr><td>2013</td><td>PROVINSI DKI JAKARTA</td><td>JAKARTA TIMUR</td><td>DUREN SAWIT</td><td>MALAKA SARI          </td><td> 1.38</td><td>23592</td><td>NA</td><td>NA</td><td>NA</td><td>⋯</td><td> 647</td><td> 847</td><td> 527</td><td> 755</td><td>495</td><td>471</td><td>370</td><td>280</td><td>178</td><td>161</td></tr>\n",
              "\t<tr><td>2013</td><td>PROVINSI DKI JAKARTA</td><td>JAKARTA TIMUR</td><td>DUREN SAWIT</td><td>MALAKA JAYA          </td><td> 0.99</td><td>36535</td><td>NA</td><td>NA</td><td>NA</td><td>⋯</td><td> 611</td><td> 840</td><td> 496</td><td> 818</td><td>531</td><td>583</td><td>441</td><td>326</td><td>197</td><td>213</td></tr>\n",
              "\t<tr><td>2013</td><td>PROVINSI DKI JAKARTA</td><td>JAKARTA TIMUR</td><td>DUREN SAWIT</td><td>PONDOK KOPI          </td><td> 2.06</td><td>18136</td><td>NA</td><td>NA</td><td>NA</td><td>⋯</td><td> 868</td><td> 907</td><td> 629</td><td> 592</td><td>329</td><td>270</td><td>184</td><td>167</td><td>102</td><td>123</td></tr>\n",
              "\t<tr><td>2013</td><td>PROVINSI DKI JAKARTA</td><td>JAKARTA TIMUR</td><td>MAKASAR    </td><td>MAKASAR              </td><td> 1.85</td><td>20695</td><td>NA</td><td>NA</td><td>NA</td><td>⋯</td><td> 866</td><td> 879</td><td> 632</td><td> 574</td><td>337</td><td>284</td><td>211</td><td>176</td><td>111</td><td>146</td></tr>\n",
              "\t<tr><td>2013</td><td>PROVINSI DKI JAKARTA</td><td>JAKARTA TIMUR</td><td>MAKASAR    </td><td>PINANG RANTI         </td><td> 1.89</td><td>14793</td><td>NA</td><td>NA</td><td>NA</td><td>⋯</td><td> 588</td><td> 530</td><td> 383</td><td> 316</td><td>170</td><td>164</td><td>116</td><td> 95</td><td> 55</td><td> 66</td></tr>\n",
              "\t<tr><td>2013</td><td>PROVINSI DKI JAKARTA</td><td>JAKARTA TIMUR</td><td>MAKASAR    </td><td>KEBON PALA           </td><td> 2.30</td><td>22647</td><td>NA</td><td>NA</td><td>NA</td><td>⋯</td><td>1017</td><td>1108</td><td> 812</td><td> 723</td><td>427</td><td>377</td><td>264</td><td>217</td><td>160</td><td>156</td></tr>\n",
              "\t<tr><td>2013</td><td>PROVINSI DKI JAKARTA</td><td>JAKARTA TIMUR</td><td>MAKASAR    </td><td>HALIM PERDANA KUSUMAH</td><td>13.07</td><td> 2546</td><td>NA</td><td>NA</td><td>NA</td><td>⋯</td><td> 642</td><td> 461</td><td> 275</td><td> 284</td><td>156</td><td>177</td><td>115</td><td> 89</td><td> 55</td><td> 63</td></tr>\n",
              "\t<tr><td>2013</td><td>PROVINSI DKI JAKARTA</td><td>JAKARTA TIMUR</td><td>MAKASAR    </td><td>CIPINANG MELAYU      </td><td> 2.53</td><td>18551</td><td>NA</td><td>NA</td><td>NA</td><td>⋯</td><td>1106</td><td>1095</td><td> 750</td><td> 701</td><td>424</td><td>392</td><td>306</td><td>267</td><td>216</td><td>227</td></tr>\n",
              "\t<tr><td>2013</td><td>PROVINSI DKI JAKARTA</td><td>JAKARTA TIMUR</td><td>CIRACAS    </td><td>CIRACAS              </td><td> 3.93</td><td>17648</td><td>NA</td><td>NA</td><td>NA</td><td>⋯</td><td>1468</td><td>1511</td><td>1033</td><td> 714</td><td>413</td><td>330</td><td>203</td><td>207</td><td>117</td><td>147</td></tr>\n",
              "\t<tr><td>2013</td><td>PROVINSI DKI JAKARTA</td><td>JAKARTA TIMUR</td><td>CIRACAS    </td><td>CIBUBUR              </td><td> 4.50</td><td>15686</td><td>NA</td><td>NA</td><td>NA</td><td>⋯</td><td>1497</td><td>1564</td><td>1033</td><td> 972</td><td>560</td><td>522</td><td>453</td><td>294</td><td>185</td><td>250</td></tr>\n",
              "\t<tr><td>2013</td><td>PROVINSI DKI JAKARTA</td><td>JAKARTA TIMUR</td><td>CIRACAS    </td><td>KELAPA DUA WETAN     </td><td> 3.37</td><td>14203</td><td>NA</td><td>NA</td><td>NA</td><td>⋯</td><td>1149</td><td>1152</td><td> 787</td><td> 606</td><td>328</td><td>315</td><td>221</td><td>163</td><td>116</td><td>153</td></tr>\n",
              "\t<tr><td>2013</td><td>PROVINSI DKI JAKARTA</td><td>JAKARTA TIMUR</td><td>CIRACAS    </td><td>SUSUKAN              </td><td> 2.19</td><td>19019</td><td>NA</td><td>NA</td><td>NA</td><td>⋯</td><td> 828</td><td> 816</td><td> 606</td><td> 481</td><td>258</td><td>263</td><td>178</td><td>128</td><td> 83</td><td>104</td></tr>\n",
              "\t<tr><td>2013</td><td>PROVINSI DKI JAKARTA</td><td>JAKARTA TIMUR</td><td>CIRACAS    </td><td>RAMBUTAN             </td><td> 2.09</td><td>19324</td><td>NA</td><td>NA</td><td>NA</td><td>⋯</td><td> 782</td><td> 807</td><td> 539</td><td> 493</td><td>301</td><td>233</td><td>164</td><td>119</td><td>103</td><td>120</td></tr>\n",
              "\t<tr><td>2013</td><td>PROVINSI DKI JAKARTA</td><td>JAKARTA TIMUR</td><td>CIPAYUNG   </td><td>CIPAYUNG             </td><td> 3.08</td><td> 8441</td><td>NA</td><td>NA</td><td>NA</td><td>⋯</td><td> 539</td><td> 469</td><td> 374</td><td> 278</td><td>164</td><td>177</td><td>112</td><td>101</td><td> 61</td><td>110</td></tr>\n",
              "\t<tr><td>2013</td><td>PROVINSI DKI JAKARTA</td><td>JAKARTA TIMUR</td><td>CIPAYUNG   </td><td>CILANGKAP            </td><td> 6.03</td><td> 4396</td><td>NA</td><td>NA</td><td>NA</td><td>⋯</td><td> 452</td><td> 397</td><td> 267</td><td> 235</td><td>161</td><td>133</td><td> 77</td><td> 90</td><td> 52</td><td> 62</td></tr>\n",
              "\t<tr><td>2013</td><td>PROVINSI DKI JAKARTA</td><td>JAKARTA TIMUR</td><td>CIPAYUNG   </td><td>PONDOK RANGGON       </td><td> 3.66</td><td> 6772</td><td>NA</td><td>NA</td><td>NA</td><td>⋯</td><td> 453</td><td> 391</td><td> 271</td><td> 227</td><td>131</td><td>109</td><td> 80</td><td>105</td><td> 42</td><td> 82</td></tr>\n",
              "\t<tr><td>2013</td><td>PROVINSI DKI JAKARTA</td><td>JAKARTA TIMUR</td><td>CIPAYUNG   </td><td>MUNJUL               </td><td> 1.90</td><td>12734</td><td>NA</td><td>NA</td><td>NA</td><td>⋯</td><td> 482</td><td> 482</td><td> 302</td><td> 291</td><td>173</td><td>137</td><td>118</td><td> 94</td><td> 52</td><td> 51</td></tr>\n",
              "\t<tr><td>2013</td><td>PROVINSI DKI JAKARTA</td><td>JAKARTA TIMUR</td><td>CIPAYUNG   </td><td>SETU                 </td><td> 3.25</td><td> 6028</td><td>NA</td><td>NA</td><td>NA</td><td>⋯</td><td> 392</td><td> 354</td><td> 254</td><td> 211</td><td>124</td><td>115</td><td> 64</td><td> 83</td><td> 59</td><td> 64</td></tr>\n",
              "\t<tr><td>2013</td><td>PROVINSI DKI JAKARTA</td><td>JAKARTA TIMUR</td><td>CIPAYUNG   </td><td>BAMBU APUS           </td><td> 3.17</td><td> 8400</td><td>NA</td><td>NA</td><td>NA</td><td>⋯</td><td> 596</td><td> 476</td><td> 377</td><td> 250</td><td>169</td><td>179</td><td>108</td><td> 96</td><td> 70</td><td> 84</td></tr>\n",
              "\t<tr><td>2013</td><td>PROVINSI DKI JAKARTA</td><td>JAKARTA TIMUR</td><td>CIPAYUNG   </td><td>LUBANG BUAYA         </td><td> 3.72</td><td>18055</td><td>NA</td><td>NA</td><td>NA</td><td>⋯</td><td>1376</td><td>1308</td><td> 959</td><td> 739</td><td>393</td><td>385</td><td>293</td><td>291</td><td>160</td><td>165</td></tr>\n",
              "\t<tr><td>2013</td><td>PROVINSI DKI JAKARTA</td><td>JAKARTA TIMUR</td><td>CIPAYUNG   </td><td>CEGER                </td><td> 3.63</td><td> 5492</td><td>NA</td><td>NA</td><td>NA</td><td>⋯</td><td> 416</td><td> 390</td><td> 279</td><td> 214</td><td>110</td><td>153</td><td>101</td><td> 53</td><td> 45</td><td> 44</td></tr>\n",
              "</tbody>\n",
              "</table>\n"
            ],
            "text/markdown": "\nA data.frame: 267 × 37\n\n| TAHUN &lt;int&gt; | NAMA.PROVINSI &lt;chr&gt; | NAMA.KABUPATEN.KOTA &lt;chr&gt; | NAMA.KECAMATAN &lt;chr&gt; | NAMA.KELURAHAN &lt;chr&gt; | LUAS.WILAYAH..KM2. &lt;dbl&gt; | KEPADATAN..JIWA.KM2. &lt;int&gt; | X &lt;lgl&gt; | X.1 &lt;lgl&gt; | X.2 &lt;lgl&gt; | ⋯ ⋯ | X55.59.Laki.Laki &lt;int&gt; | X55.59.Perempuan &lt;int&gt; | X60.64.Laki.Laki &lt;int&gt; | X60.64.Perempuan &lt;int&gt; | X65.69.Laki.Laki &lt;int&gt; | X65.69.Perempuan &lt;int&gt; | X70.74.Laki.Laki &lt;int&gt; | X70.74.Perempuan &lt;int&gt; | X.75.Laki.Laki &lt;int&gt; | X.75..Perempuan &lt;int&gt; |\n|---|---|---|---|---|---|---|---|---|---|---|---|---|---|---|---|---|---|---|---|---|\n| 2013 | PROVINSI DKI JAKARTA | KAB.ADM.KEP.SERIBU | KEP. SERIBU UTR | P. PANGGANG           | 0.91 |  6779 | NA | NA | NA | ⋯ |  98 | 106 |  72 |  65 |  36 |  33 |  33 |  20 |  13 |  27 |\n| 2013 | PROVINSI DKI JAKARTA | KAB.ADM.KEP.SERIBU | KEP. SERIBU UTR | P. KELAPA             | 3.76 |  1705 | NA | NA | NA | ⋯ |  30 |  39 |  29 |  24 |  12 |  21 |  13 |   5 |   5 |   8 |\n| 2013 | PROVINSI DKI JAKARTA | KAB.ADM.KEP.SERIBU | KEP. SERIBU UTR | P. HARAPAN            | 3.59 |   628 | NA | NA | NA | ⋯ | 139 | 101 |  73 |  56 |  18 |  35 |  24 |  25 |  18 |  26 |\n| 2013 | PROVINSI DKI JAKARTA | KAB.ADM.KEP.SERIBU | KEP. SERIBU SLT | P. UNTUNG JAWA        | 0.59 |  3625 | NA | NA | NA | ⋯ |  97 |  83 |  58 |  56 |  40 |  54 |  26 |  27 |  16 |  13 |\n| 2013 | PROVINSI DKI JAKARTA | KAB.ADM.KEP.SERIBU | KEP. SERIBU SLT | P. TIDUNG             | 1.57 |  3084 | NA | NA | NA | ⋯ |  37 |  32 |  22 |  13 |  18 |  15 |  10 |  18 |  11 |  17 |\n| 2013 | PROVINSI DKI JAKARTA | KAB.ADM.KEP.SERIBU | KEP. SERIBU SLT | P. PARI               | 1.39 |  1968 | NA | NA | NA | ⋯ |  37 |  36 |  32 |  26 |  21 |  14 |  17 |  11 |   8 |   7 |\n| 2013 | PROVINSI DKI JAKARTA | JAKARTA PUSAT      | GAMBIR          | GAMBIR                | 2.58 |  1350 | NA | NA | NA | ⋯ | 108 |  90 |  88 |  42 |  68 |  34 |  37 |  32 |  34 |  23 |\n| 2013 | PROVINSI DKI JAKARTA | JAKARTA PUSAT      | GAMBIR          | CIDENG                | 1.26 | 14584 | NA | NA | NA | ⋯ | 614 | 537 | 555 | 343 | 413 | 215 | 259 | 142 | 214 | 165 |\n| 2013 | PROVINSI DKI JAKARTA | JAKARTA PUSAT      | GAMBIR          | PETOJO UTARA          | 1.12 | 18987 | NA | NA | NA | ⋯ | 680 | 510 | 544 | 421 | 398 | 235 | 241 | 132 | 215 | 159 |\n| 2013 | PROVINSI DKI JAKARTA | JAKARTA PUSAT      | GAMBIR          | PETOJO SELATAN        | 1.14 | 14465 | NA | NA | NA | ⋯ | 539 | 466 | 428 | 279 | 328 | 160 | 215 | 116 | 150 | 121 |\n| 2013 | PROVINSI DKI JAKARTA | JAKARTA PUSAT      | GAMBIR          | KEBON KELAPA          | 0.78 | 15890 | NA | NA | NA | ⋯ | 432 | 329 | 353 | 263 | 246 | 140 | 152 | 100 | 136 |  72 |\n| 2013 | PROVINSI DKI JAKARTA | JAKARTA PUSAT      | GAMBIR          | DURI PULO             | 0.72 | 35628 | NA | NA | NA | ⋯ | 742 | 616 | 597 | 404 | 409 | 215 | 255 | 156 | 196 | 138 |\n| 2013 | PROVINSI DKI JAKARTA | JAKARTA PUSAT      | SAWAH BESAR     | PASAR BARU            | 1.89 |  8041 | NA | NA | NA | ⋯ | 495 | 435 | 486 | 401 | 407 | 265 | 243 | 147 | 203 | 136 |\n| 2013 | PROVINSI DKI JAKARTA | JAKARTA PUSAT      | SAWAH BESAR     | KARANG ANYAR          | 0.51 | 63122 | NA | NA | NA | ⋯ | 935 | 749 | 793 | 487 | 567 | 308 | 344 | 199 | 258 | 156 |\n| 2013 | PROVINSI DKI JAKARTA | JAKARTA PUSAT      | SAWAH BESAR     | KARTINI               | 0.55 | 49862 | NA | NA | NA | ⋯ | 877 | 688 | 743 | 515 | 542 | 272 | 360 | 187 | 284 | 180 |\n| 2013 | PROVINSI DKI JAKARTA | JAKARTA PUSAT      | SAWAH BESAR     | GUNUNG SAHARI UTARA   | 1.98 |  9933 | NA | NA | NA | ⋯ | 648 | 525 | 539 | 388 | 458 | 240 | 289 | 184 | 203 | 168 |\n| 2013 | PROVINSI DKI JAKARTA | JAKARTA PUSAT      | SAWAH BESAR     | MANGGA DUA SELATAN    | 1.29 | 26203 | NA | NA | NA | ⋯ | 969 | 799 | 729 | 528 | 498 | 310 | 316 | 188 | 252 | 157 |\n| 2013 | PROVINSI DKI JAKARTA | JAKARTA PUSAT      | KEMAYORAN       | KEMAYORAN             | 0.55 | 44202 | NA | NA | NA | ⋯ | 696 | 601 | 608 | 410 | 414 | 191 | 262 | 163 | 199 | 140 |\n| 2013 | PROVINSI DKI JAKARTA | JAKARTA PUSAT      | KEMAYORAN       | KEBON KOSONG          | 1.13 | 28014 | NA | NA | NA | ⋯ | 837 | 650 | 685 | 448 | 448 | 271 | 259 | 186 | 179 |  98 |\n| 2013 | PROVINSI DKI JAKARTA | JAKARTA PUSAT      | KEMAYORAN       | HARAPAN MULIA         | 0.91 | 29205 | NA | NA | NA | ⋯ | 737 | 584 | 619 | 346 | 365 | 218 | 267 | 147 | 171 | 100 |\n| 2013 | PROVINSI DKI JAKARTA | JAKARTA PUSAT      | KEMAYORAN       | SERDANG               | 0.82 | 41837 | NA | NA | NA | ⋯ | 901 | 627 | 650 | 418 | 521 | 279 | 358 | 289 | 294 | 180 |\n| 2013 | PROVINSI DKI JAKARTA | JAKARTA PUSAT      | KEMAYORAN       | GUNUNG SAHARI SELATAN | 0.53 | 43858 | NA | NA | NA | ⋯ | 717 | 602 | 585 | 396 | 460 | 282 | 273 | 169 | 192 | 130 |\n| 2013 | PROVINSI DKI JAKARTA | JAKARTA PUSAT      | KEMAYORAN       | CEMPAKA BARU          | 0.99 | 38088 | NA | NA | NA | ⋯ | 983 | 755 | 770 | 498 | 571 | 318 | 462 | 306 | 284 | 180 |\n| 2013 | PROVINSI DKI JAKARTA | JAKARTA PUSAT      | KEMAYORAN       | SUMUR BATU            | 1.15 | 23271 | NA | NA | NA | ⋯ | 689 | 549 | 636 | 383 | 465 | 279 | 309 | 227 | 205 | 113 |\n| 2013 | PROVINSI DKI JAKARTA | JAKARTA PUSAT      | KEMAYORAN       | UTAN PANJANG          | 1.05 | 31889 | NA | NA | NA | ⋯ | 912 | 731 | 719 | 424 | 395 | 197 | 295 | 179 | 209 | 133 |\n| 2013 | PROVINSI DKI JAKARTA | JAKARTA PUSAT      | SENEN           | SENEN                 | 0.81 | 10158 | NA | NA | NA | ⋯ | 224 | 207 | 184 | 152 | 126 |  84 |  73 |  40 |  50 |  31 |\n| 2013 | PROVINSI DKI JAKARTA | JAKARTA PUSAT      | SENEN           | KENARI                | 0.91 | 11757 | NA | NA | NA | ⋯ | 339 | 288 | 271 | 191 | 200 |  96 | 122 |  76 |  88 |  61 |\n| 2013 | PROVINSI DKI JAKARTA | JAKARTA PUSAT      | SENEN           | PASEBAN               | 0.71 | 38400 | NA | NA | NA | ⋯ | 914 | 697 | 666 | 436 | 428 | 203 | 264 | 142 | 169 | 121 |\n| 2013 | PROVINSI DKI JAKARTA | JAKARTA PUSAT      | SENEN           | KRAMAT                | 0.71 | 47630 | NA | NA | NA | ⋯ | 949 | 777 | 760 | 483 | 479 | 272 | 344 | 193 | 234 | 156 |\n| 2013 | PROVINSI DKI JAKARTA | JAKARTA PUSAT      | SENEN           | KWITANG               | 0.45 | 40724 | NA | NA | NA | ⋯ | 587 | 459 | 459 | 310 | 371 | 157 | 192 | 105 | 153 |  95 |\n| ⋮ | ⋮ | ⋮ | ⋮ | ⋮ | ⋮ | ⋮ | ⋮ | ⋮ | ⋮ | ⋱ | ⋮ | ⋮ | ⋮ | ⋮ | ⋮ | ⋮ | ⋮ | ⋮ | ⋮ | ⋮ |\n| 2013 | PROVINSI DKI JAKARTA | JAKARTA TIMUR | CAKUNG      | PENGGILINGAN          |  4.48 | 22483 | NA | NA | NA | ⋯ | 2063 | 1920 | 1365 |  991 | 606 | 446 | 339 | 260 | 192 | 208 |\n| 2013 | PROVINSI DKI JAKARTA | JAKARTA TIMUR | CAKUNG      | CAKUNG TIMUR          |  9.81 |  6464 | NA | NA | NA | ⋯ | 1252 | 1129 |  832 |  558 | 339 | 269 | 183 | 168 | 102 |  97 |\n| 2013 | PROVINSI DKI JAKARTA | JAKARTA TIMUR | CAKUNG      | PULO GEBANG           |  6.86 | 13716 | NA | NA | NA | ⋯ | 2134 | 1992 | 1476 | 1170 | 645 | 507 | 423 | 280 | 195 | 232 |\n| 2013 | PROVINSI DKI JAKARTA | JAKARTA TIMUR | CAKUNG      | UJUNG MENTENG         |  4.43 |  6972 | NA | NA | NA | ⋯ |  631 |  586 |  388 |  300 | 194 | 181 | 114 |  91 |  63 |  70 |\n| 2013 | PROVINSI DKI JAKARTA | JAKARTA TIMUR | CAKUNG      | CAKUNG BARAT          |  6.19 | 10030 | NA | NA | NA | ⋯ |  917 |  821 |  543 |  406 | 253 | 218 | 139 | 138 |  98 |  97 |\n| 2013 | PROVINSI DKI JAKARTA | JAKARTA TIMUR | DUREN SAWIT | DUREN SAWIT           |  4.58 | 14100 | NA | NA | NA | ⋯ | 1383 | 1480 | 1077 | 1069 | 646 | 625 | 428 | 352 | 235 | 268 |\n| 2013 | PROVINSI DKI JAKARTA | JAKARTA TIMUR | DUREN SAWIT | PONDOK BAMBU          |  5.00 | 13285 | NA | NA | NA | ⋯ | 1338 | 1560 | 1145 |  997 | 675 | 625 | 414 | 327 | 234 | 245 |\n| 2013 | PROVINSI DKI JAKARTA | JAKARTA TIMUR | DUREN SAWIT | KLENDER               |  3.08 | 25456 | NA | NA | NA | ⋯ | 1636 | 1620 | 1127 | 1050 | 657 | 561 | 443 | 401 | 200 | 278 |\n| 2013 | PROVINSI DKI JAKARTA | JAKARTA TIMUR | DUREN SAWIT | PONDOK KELAPA         |  5.72 | 12673 | NA | NA | NA | ⋯ | 1690 | 1783 | 1363 | 1157 | 735 | 605 | 458 | 344 | 221 | 299 |\n| 2013 | PROVINSI DKI JAKARTA | JAKARTA TIMUR | DUREN SAWIT | MALAKA SARI           |  1.38 | 23592 | NA | NA | NA | ⋯ |  647 |  847 |  527 |  755 | 495 | 471 | 370 | 280 | 178 | 161 |\n| 2013 | PROVINSI DKI JAKARTA | JAKARTA TIMUR | DUREN SAWIT | MALAKA JAYA           |  0.99 | 36535 | NA | NA | NA | ⋯ |  611 |  840 |  496 |  818 | 531 | 583 | 441 | 326 | 197 | 213 |\n| 2013 | PROVINSI DKI JAKARTA | JAKARTA TIMUR | DUREN SAWIT | PONDOK KOPI           |  2.06 | 18136 | NA | NA | NA | ⋯ |  868 |  907 |  629 |  592 | 329 | 270 | 184 | 167 | 102 | 123 |\n| 2013 | PROVINSI DKI JAKARTA | JAKARTA TIMUR | MAKASAR     | MAKASAR               |  1.85 | 20695 | NA | NA | NA | ⋯ |  866 |  879 |  632 |  574 | 337 | 284 | 211 | 176 | 111 | 146 |\n| 2013 | PROVINSI DKI JAKARTA | JAKARTA TIMUR | MAKASAR     | PINANG RANTI          |  1.89 | 14793 | NA | NA | NA | ⋯ |  588 |  530 |  383 |  316 | 170 | 164 | 116 |  95 |  55 |  66 |\n| 2013 | PROVINSI DKI JAKARTA | JAKARTA TIMUR | MAKASAR     | KEBON PALA            |  2.30 | 22647 | NA | NA | NA | ⋯ | 1017 | 1108 |  812 |  723 | 427 | 377 | 264 | 217 | 160 | 156 |\n| 2013 | PROVINSI DKI JAKARTA | JAKARTA TIMUR | MAKASAR     | HALIM PERDANA KUSUMAH | 13.07 |  2546 | NA | NA | NA | ⋯ |  642 |  461 |  275 |  284 | 156 | 177 | 115 |  89 |  55 |  63 |\n| 2013 | PROVINSI DKI JAKARTA | JAKARTA TIMUR | MAKASAR     | CIPINANG MELAYU       |  2.53 | 18551 | NA | NA | NA | ⋯ | 1106 | 1095 |  750 |  701 | 424 | 392 | 306 | 267 | 216 | 227 |\n| 2013 | PROVINSI DKI JAKARTA | JAKARTA TIMUR | CIRACAS     | CIRACAS               |  3.93 | 17648 | NA | NA | NA | ⋯ | 1468 | 1511 | 1033 |  714 | 413 | 330 | 203 | 207 | 117 | 147 |\n| 2013 | PROVINSI DKI JAKARTA | JAKARTA TIMUR | CIRACAS     | CIBUBUR               |  4.50 | 15686 | NA | NA | NA | ⋯ | 1497 | 1564 | 1033 |  972 | 560 | 522 | 453 | 294 | 185 | 250 |\n| 2013 | PROVINSI DKI JAKARTA | JAKARTA TIMUR | CIRACAS     | KELAPA DUA WETAN      |  3.37 | 14203 | NA | NA | NA | ⋯ | 1149 | 1152 |  787 |  606 | 328 | 315 | 221 | 163 | 116 | 153 |\n| 2013 | PROVINSI DKI JAKARTA | JAKARTA TIMUR | CIRACAS     | SUSUKAN               |  2.19 | 19019 | NA | NA | NA | ⋯ |  828 |  816 |  606 |  481 | 258 | 263 | 178 | 128 |  83 | 104 |\n| 2013 | PROVINSI DKI JAKARTA | JAKARTA TIMUR | CIRACAS     | RAMBUTAN              |  2.09 | 19324 | NA | NA | NA | ⋯ |  782 |  807 |  539 |  493 | 301 | 233 | 164 | 119 | 103 | 120 |\n| 2013 | PROVINSI DKI JAKARTA | JAKARTA TIMUR | CIPAYUNG    | CIPAYUNG              |  3.08 |  8441 | NA | NA | NA | ⋯ |  539 |  469 |  374 |  278 | 164 | 177 | 112 | 101 |  61 | 110 |\n| 2013 | PROVINSI DKI JAKARTA | JAKARTA TIMUR | CIPAYUNG    | CILANGKAP             |  6.03 |  4396 | NA | NA | NA | ⋯ |  452 |  397 |  267 |  235 | 161 | 133 |  77 |  90 |  52 |  62 |\n| 2013 | PROVINSI DKI JAKARTA | JAKARTA TIMUR | CIPAYUNG    | PONDOK RANGGON        |  3.66 |  6772 | NA | NA | NA | ⋯ |  453 |  391 |  271 |  227 | 131 | 109 |  80 | 105 |  42 |  82 |\n| 2013 | PROVINSI DKI JAKARTA | JAKARTA TIMUR | CIPAYUNG    | MUNJUL                |  1.90 | 12734 | NA | NA | NA | ⋯ |  482 |  482 |  302 |  291 | 173 | 137 | 118 |  94 |  52 |  51 |\n| 2013 | PROVINSI DKI JAKARTA | JAKARTA TIMUR | CIPAYUNG    | SETU                  |  3.25 |  6028 | NA | NA | NA | ⋯ |  392 |  354 |  254 |  211 | 124 | 115 |  64 |  83 |  59 |  64 |\n| 2013 | PROVINSI DKI JAKARTA | JAKARTA TIMUR | CIPAYUNG    | BAMBU APUS            |  3.17 |  8400 | NA | NA | NA | ⋯ |  596 |  476 |  377 |  250 | 169 | 179 | 108 |  96 |  70 |  84 |\n| 2013 | PROVINSI DKI JAKARTA | JAKARTA TIMUR | CIPAYUNG    | LUBANG BUAYA          |  3.72 | 18055 | NA | NA | NA | ⋯ | 1376 | 1308 |  959 |  739 | 393 | 385 | 293 | 291 | 160 | 165 |\n| 2013 | PROVINSI DKI JAKARTA | JAKARTA TIMUR | CIPAYUNG    | CEGER                 |  3.63 |  5492 | NA | NA | NA | ⋯ |  416 |  390 |  279 |  214 | 110 | 153 | 101 |  53 |  45 |  44 |\n\n",
            "text/latex": "A data.frame: 267 × 37\n\\begin{tabular}{lllllllllllllllllllll}\n TAHUN & NAMA.PROVINSI & NAMA.KABUPATEN.KOTA & NAMA.KECAMATAN & NAMA.KELURAHAN & LUAS.WILAYAH..KM2. & KEPADATAN..JIWA.KM2. & X & X.1 & X.2 & ⋯ & X55.59.Laki.Laki & X55.59.Perempuan & X60.64.Laki.Laki & X60.64.Perempuan & X65.69.Laki.Laki & X65.69.Perempuan & X70.74.Laki.Laki & X70.74.Perempuan & X.75.Laki.Laki & X.75..Perempuan\\\\\n <int> & <chr> & <chr> & <chr> & <chr> & <dbl> & <int> & <lgl> & <lgl> & <lgl> & ⋯ & <int> & <int> & <int> & <int> & <int> & <int> & <int> & <int> & <int> & <int>\\\\\n\\hline\n\t 2013 & PROVINSI DKI JAKARTA & KAB.ADM.KEP.SERIBU & KEP. SERIBU UTR & P. PANGGANG           & 0.91 &  6779 & NA & NA & NA & ⋯ &  98 & 106 &  72 &  65 &  36 &  33 &  33 &  20 &  13 &  27\\\\\n\t 2013 & PROVINSI DKI JAKARTA & KAB.ADM.KEP.SERIBU & KEP. SERIBU UTR & P. KELAPA             & 3.76 &  1705 & NA & NA & NA & ⋯ &  30 &  39 &  29 &  24 &  12 &  21 &  13 &   5 &   5 &   8\\\\\n\t 2013 & PROVINSI DKI JAKARTA & KAB.ADM.KEP.SERIBU & KEP. SERIBU UTR & P. HARAPAN            & 3.59 &   628 & NA & NA & NA & ⋯ & 139 & 101 &  73 &  56 &  18 &  35 &  24 &  25 &  18 &  26\\\\\n\t 2013 & PROVINSI DKI JAKARTA & KAB.ADM.KEP.SERIBU & KEP. SERIBU SLT & P. UNTUNG JAWA        & 0.59 &  3625 & NA & NA & NA & ⋯ &  97 &  83 &  58 &  56 &  40 &  54 &  26 &  27 &  16 &  13\\\\\n\t 2013 & PROVINSI DKI JAKARTA & KAB.ADM.KEP.SERIBU & KEP. SERIBU SLT & P. TIDUNG             & 1.57 &  3084 & NA & NA & NA & ⋯ &  37 &  32 &  22 &  13 &  18 &  15 &  10 &  18 &  11 &  17\\\\\n\t 2013 & PROVINSI DKI JAKARTA & KAB.ADM.KEP.SERIBU & KEP. SERIBU SLT & P. PARI               & 1.39 &  1968 & NA & NA & NA & ⋯ &  37 &  36 &  32 &  26 &  21 &  14 &  17 &  11 &   8 &   7\\\\\n\t 2013 & PROVINSI DKI JAKARTA & JAKARTA PUSAT      & GAMBIR          & GAMBIR                & 2.58 &  1350 & NA & NA & NA & ⋯ & 108 &  90 &  88 &  42 &  68 &  34 &  37 &  32 &  34 &  23\\\\\n\t 2013 & PROVINSI DKI JAKARTA & JAKARTA PUSAT      & GAMBIR          & CIDENG                & 1.26 & 14584 & NA & NA & NA & ⋯ & 614 & 537 & 555 & 343 & 413 & 215 & 259 & 142 & 214 & 165\\\\\n\t 2013 & PROVINSI DKI JAKARTA & JAKARTA PUSAT      & GAMBIR          & PETOJO UTARA          & 1.12 & 18987 & NA & NA & NA & ⋯ & 680 & 510 & 544 & 421 & 398 & 235 & 241 & 132 & 215 & 159\\\\\n\t 2013 & PROVINSI DKI JAKARTA & JAKARTA PUSAT      & GAMBIR          & PETOJO SELATAN        & 1.14 & 14465 & NA & NA & NA & ⋯ & 539 & 466 & 428 & 279 & 328 & 160 & 215 & 116 & 150 & 121\\\\\n\t 2013 & PROVINSI DKI JAKARTA & JAKARTA PUSAT      & GAMBIR          & KEBON KELAPA          & 0.78 & 15890 & NA & NA & NA & ⋯ & 432 & 329 & 353 & 263 & 246 & 140 & 152 & 100 & 136 &  72\\\\\n\t 2013 & PROVINSI DKI JAKARTA & JAKARTA PUSAT      & GAMBIR          & DURI PULO             & 0.72 & 35628 & NA & NA & NA & ⋯ & 742 & 616 & 597 & 404 & 409 & 215 & 255 & 156 & 196 & 138\\\\\n\t 2013 & PROVINSI DKI JAKARTA & JAKARTA PUSAT      & SAWAH BESAR     & PASAR BARU            & 1.89 &  8041 & NA & NA & NA & ⋯ & 495 & 435 & 486 & 401 & 407 & 265 & 243 & 147 & 203 & 136\\\\\n\t 2013 & PROVINSI DKI JAKARTA & JAKARTA PUSAT      & SAWAH BESAR     & KARANG ANYAR          & 0.51 & 63122 & NA & NA & NA & ⋯ & 935 & 749 & 793 & 487 & 567 & 308 & 344 & 199 & 258 & 156\\\\\n\t 2013 & PROVINSI DKI JAKARTA & JAKARTA PUSAT      & SAWAH BESAR     & KARTINI               & 0.55 & 49862 & NA & NA & NA & ⋯ & 877 & 688 & 743 & 515 & 542 & 272 & 360 & 187 & 284 & 180\\\\\n\t 2013 & PROVINSI DKI JAKARTA & JAKARTA PUSAT      & SAWAH BESAR     & GUNUNG SAHARI UTARA   & 1.98 &  9933 & NA & NA & NA & ⋯ & 648 & 525 & 539 & 388 & 458 & 240 & 289 & 184 & 203 & 168\\\\\n\t 2013 & PROVINSI DKI JAKARTA & JAKARTA PUSAT      & SAWAH BESAR     & MANGGA DUA SELATAN    & 1.29 & 26203 & NA & NA & NA & ⋯ & 969 & 799 & 729 & 528 & 498 & 310 & 316 & 188 & 252 & 157\\\\\n\t 2013 & PROVINSI DKI JAKARTA & JAKARTA PUSAT      & KEMAYORAN       & KEMAYORAN             & 0.55 & 44202 & NA & NA & NA & ⋯ & 696 & 601 & 608 & 410 & 414 & 191 & 262 & 163 & 199 & 140\\\\\n\t 2013 & PROVINSI DKI JAKARTA & JAKARTA PUSAT      & KEMAYORAN       & KEBON KOSONG          & 1.13 & 28014 & NA & NA & NA & ⋯ & 837 & 650 & 685 & 448 & 448 & 271 & 259 & 186 & 179 &  98\\\\\n\t 2013 & PROVINSI DKI JAKARTA & JAKARTA PUSAT      & KEMAYORAN       & HARAPAN MULIA         & 0.91 & 29205 & NA & NA & NA & ⋯ & 737 & 584 & 619 & 346 & 365 & 218 & 267 & 147 & 171 & 100\\\\\n\t 2013 & PROVINSI DKI JAKARTA & JAKARTA PUSAT      & KEMAYORAN       & SERDANG               & 0.82 & 41837 & NA & NA & NA & ⋯ & 901 & 627 & 650 & 418 & 521 & 279 & 358 & 289 & 294 & 180\\\\\n\t 2013 & PROVINSI DKI JAKARTA & JAKARTA PUSAT      & KEMAYORAN       & GUNUNG SAHARI SELATAN & 0.53 & 43858 & NA & NA & NA & ⋯ & 717 & 602 & 585 & 396 & 460 & 282 & 273 & 169 & 192 & 130\\\\\n\t 2013 & PROVINSI DKI JAKARTA & JAKARTA PUSAT      & KEMAYORAN       & CEMPAKA BARU          & 0.99 & 38088 & NA & NA & NA & ⋯ & 983 & 755 & 770 & 498 & 571 & 318 & 462 & 306 & 284 & 180\\\\\n\t 2013 & PROVINSI DKI JAKARTA & JAKARTA PUSAT      & KEMAYORAN       & SUMUR BATU            & 1.15 & 23271 & NA & NA & NA & ⋯ & 689 & 549 & 636 & 383 & 465 & 279 & 309 & 227 & 205 & 113\\\\\n\t 2013 & PROVINSI DKI JAKARTA & JAKARTA PUSAT      & KEMAYORAN       & UTAN PANJANG          & 1.05 & 31889 & NA & NA & NA & ⋯ & 912 & 731 & 719 & 424 & 395 & 197 & 295 & 179 & 209 & 133\\\\\n\t 2013 & PROVINSI DKI JAKARTA & JAKARTA PUSAT      & SENEN           & SENEN                 & 0.81 & 10158 & NA & NA & NA & ⋯ & 224 & 207 & 184 & 152 & 126 &  84 &  73 &  40 &  50 &  31\\\\\n\t 2013 & PROVINSI DKI JAKARTA & JAKARTA PUSAT      & SENEN           & KENARI                & 0.91 & 11757 & NA & NA & NA & ⋯ & 339 & 288 & 271 & 191 & 200 &  96 & 122 &  76 &  88 &  61\\\\\n\t 2013 & PROVINSI DKI JAKARTA & JAKARTA PUSAT      & SENEN           & PASEBAN               & 0.71 & 38400 & NA & NA & NA & ⋯ & 914 & 697 & 666 & 436 & 428 & 203 & 264 & 142 & 169 & 121\\\\\n\t 2013 & PROVINSI DKI JAKARTA & JAKARTA PUSAT      & SENEN           & KRAMAT                & 0.71 & 47630 & NA & NA & NA & ⋯ & 949 & 777 & 760 & 483 & 479 & 272 & 344 & 193 & 234 & 156\\\\\n\t 2013 & PROVINSI DKI JAKARTA & JAKARTA PUSAT      & SENEN           & KWITANG               & 0.45 & 40724 & NA & NA & NA & ⋯ & 587 & 459 & 459 & 310 & 371 & 157 & 192 & 105 & 153 &  95\\\\\n\t ⋮ & ⋮ & ⋮ & ⋮ & ⋮ & ⋮ & ⋮ & ⋮ & ⋮ & ⋮ & ⋱ & ⋮ & ⋮ & ⋮ & ⋮ & ⋮ & ⋮ & ⋮ & ⋮ & ⋮ & ⋮\\\\\n\t 2013 & PROVINSI DKI JAKARTA & JAKARTA TIMUR & CAKUNG      & PENGGILINGAN          &  4.48 & 22483 & NA & NA & NA & ⋯ & 2063 & 1920 & 1365 &  991 & 606 & 446 & 339 & 260 & 192 & 208\\\\\n\t 2013 & PROVINSI DKI JAKARTA & JAKARTA TIMUR & CAKUNG      & CAKUNG TIMUR          &  9.81 &  6464 & NA & NA & NA & ⋯ & 1252 & 1129 &  832 &  558 & 339 & 269 & 183 & 168 & 102 &  97\\\\\n\t 2013 & PROVINSI DKI JAKARTA & JAKARTA TIMUR & CAKUNG      & PULO GEBANG           &  6.86 & 13716 & NA & NA & NA & ⋯ & 2134 & 1992 & 1476 & 1170 & 645 & 507 & 423 & 280 & 195 & 232\\\\\n\t 2013 & PROVINSI DKI JAKARTA & JAKARTA TIMUR & CAKUNG      & UJUNG MENTENG         &  4.43 &  6972 & NA & NA & NA & ⋯ &  631 &  586 &  388 &  300 & 194 & 181 & 114 &  91 &  63 &  70\\\\\n\t 2013 & PROVINSI DKI JAKARTA & JAKARTA TIMUR & CAKUNG      & CAKUNG BARAT          &  6.19 & 10030 & NA & NA & NA & ⋯ &  917 &  821 &  543 &  406 & 253 & 218 & 139 & 138 &  98 &  97\\\\\n\t 2013 & PROVINSI DKI JAKARTA & JAKARTA TIMUR & DUREN SAWIT & DUREN SAWIT           &  4.58 & 14100 & NA & NA & NA & ⋯ & 1383 & 1480 & 1077 & 1069 & 646 & 625 & 428 & 352 & 235 & 268\\\\\n\t 2013 & PROVINSI DKI JAKARTA & JAKARTA TIMUR & DUREN SAWIT & PONDOK BAMBU          &  5.00 & 13285 & NA & NA & NA & ⋯ & 1338 & 1560 & 1145 &  997 & 675 & 625 & 414 & 327 & 234 & 245\\\\\n\t 2013 & PROVINSI DKI JAKARTA & JAKARTA TIMUR & DUREN SAWIT & KLENDER               &  3.08 & 25456 & NA & NA & NA & ⋯ & 1636 & 1620 & 1127 & 1050 & 657 & 561 & 443 & 401 & 200 & 278\\\\\n\t 2013 & PROVINSI DKI JAKARTA & JAKARTA TIMUR & DUREN SAWIT & PONDOK KELAPA         &  5.72 & 12673 & NA & NA & NA & ⋯ & 1690 & 1783 & 1363 & 1157 & 735 & 605 & 458 & 344 & 221 & 299\\\\\n\t 2013 & PROVINSI DKI JAKARTA & JAKARTA TIMUR & DUREN SAWIT & MALAKA SARI           &  1.38 & 23592 & NA & NA & NA & ⋯ &  647 &  847 &  527 &  755 & 495 & 471 & 370 & 280 & 178 & 161\\\\\n\t 2013 & PROVINSI DKI JAKARTA & JAKARTA TIMUR & DUREN SAWIT & MALAKA JAYA           &  0.99 & 36535 & NA & NA & NA & ⋯ &  611 &  840 &  496 &  818 & 531 & 583 & 441 & 326 & 197 & 213\\\\\n\t 2013 & PROVINSI DKI JAKARTA & JAKARTA TIMUR & DUREN SAWIT & PONDOK KOPI           &  2.06 & 18136 & NA & NA & NA & ⋯ &  868 &  907 &  629 &  592 & 329 & 270 & 184 & 167 & 102 & 123\\\\\n\t 2013 & PROVINSI DKI JAKARTA & JAKARTA TIMUR & MAKASAR     & MAKASAR               &  1.85 & 20695 & NA & NA & NA & ⋯ &  866 &  879 &  632 &  574 & 337 & 284 & 211 & 176 & 111 & 146\\\\\n\t 2013 & PROVINSI DKI JAKARTA & JAKARTA TIMUR & MAKASAR     & PINANG RANTI          &  1.89 & 14793 & NA & NA & NA & ⋯ &  588 &  530 &  383 &  316 & 170 & 164 & 116 &  95 &  55 &  66\\\\\n\t 2013 & PROVINSI DKI JAKARTA & JAKARTA TIMUR & MAKASAR     & KEBON PALA            &  2.30 & 22647 & NA & NA & NA & ⋯ & 1017 & 1108 &  812 &  723 & 427 & 377 & 264 & 217 & 160 & 156\\\\\n\t 2013 & PROVINSI DKI JAKARTA & JAKARTA TIMUR & MAKASAR     & HALIM PERDANA KUSUMAH & 13.07 &  2546 & NA & NA & NA & ⋯ &  642 &  461 &  275 &  284 & 156 & 177 & 115 &  89 &  55 &  63\\\\\n\t 2013 & PROVINSI DKI JAKARTA & JAKARTA TIMUR & MAKASAR     & CIPINANG MELAYU       &  2.53 & 18551 & NA & NA & NA & ⋯ & 1106 & 1095 &  750 &  701 & 424 & 392 & 306 & 267 & 216 & 227\\\\\n\t 2013 & PROVINSI DKI JAKARTA & JAKARTA TIMUR & CIRACAS     & CIRACAS               &  3.93 & 17648 & NA & NA & NA & ⋯ & 1468 & 1511 & 1033 &  714 & 413 & 330 & 203 & 207 & 117 & 147\\\\\n\t 2013 & PROVINSI DKI JAKARTA & JAKARTA TIMUR & CIRACAS     & CIBUBUR               &  4.50 & 15686 & NA & NA & NA & ⋯ & 1497 & 1564 & 1033 &  972 & 560 & 522 & 453 & 294 & 185 & 250\\\\\n\t 2013 & PROVINSI DKI JAKARTA & JAKARTA TIMUR & CIRACAS     & KELAPA DUA WETAN      &  3.37 & 14203 & NA & NA & NA & ⋯ & 1149 & 1152 &  787 &  606 & 328 & 315 & 221 & 163 & 116 & 153\\\\\n\t 2013 & PROVINSI DKI JAKARTA & JAKARTA TIMUR & CIRACAS     & SUSUKAN               &  2.19 & 19019 & NA & NA & NA & ⋯ &  828 &  816 &  606 &  481 & 258 & 263 & 178 & 128 &  83 & 104\\\\\n\t 2013 & PROVINSI DKI JAKARTA & JAKARTA TIMUR & CIRACAS     & RAMBUTAN              &  2.09 & 19324 & NA & NA & NA & ⋯ &  782 &  807 &  539 &  493 & 301 & 233 & 164 & 119 & 103 & 120\\\\\n\t 2013 & PROVINSI DKI JAKARTA & JAKARTA TIMUR & CIPAYUNG    & CIPAYUNG              &  3.08 &  8441 & NA & NA & NA & ⋯ &  539 &  469 &  374 &  278 & 164 & 177 & 112 & 101 &  61 & 110\\\\\n\t 2013 & PROVINSI DKI JAKARTA & JAKARTA TIMUR & CIPAYUNG    & CILANGKAP             &  6.03 &  4396 & NA & NA & NA & ⋯ &  452 &  397 &  267 &  235 & 161 & 133 &  77 &  90 &  52 &  62\\\\\n\t 2013 & PROVINSI DKI JAKARTA & JAKARTA TIMUR & CIPAYUNG    & PONDOK RANGGON        &  3.66 &  6772 & NA & NA & NA & ⋯ &  453 &  391 &  271 &  227 & 131 & 109 &  80 & 105 &  42 &  82\\\\\n\t 2013 & PROVINSI DKI JAKARTA & JAKARTA TIMUR & CIPAYUNG    & MUNJUL                &  1.90 & 12734 & NA & NA & NA & ⋯ &  482 &  482 &  302 &  291 & 173 & 137 & 118 &  94 &  52 &  51\\\\\n\t 2013 & PROVINSI DKI JAKARTA & JAKARTA TIMUR & CIPAYUNG    & SETU                  &  3.25 &  6028 & NA & NA & NA & ⋯ &  392 &  354 &  254 &  211 & 124 & 115 &  64 &  83 &  59 &  64\\\\\n\t 2013 & PROVINSI DKI JAKARTA & JAKARTA TIMUR & CIPAYUNG    & BAMBU APUS            &  3.17 &  8400 & NA & NA & NA & ⋯ &  596 &  476 &  377 &  250 & 169 & 179 & 108 &  96 &  70 &  84\\\\\n\t 2013 & PROVINSI DKI JAKARTA & JAKARTA TIMUR & CIPAYUNG    & LUBANG BUAYA          &  3.72 & 18055 & NA & NA & NA & ⋯ & 1376 & 1308 &  959 &  739 & 393 & 385 & 293 & 291 & 160 & 165\\\\\n\t 2013 & PROVINSI DKI JAKARTA & JAKARTA TIMUR & CIPAYUNG    & CEGER                 &  3.63 &  5492 & NA & NA & NA & ⋯ &  416 &  390 &  279 &  214 & 110 & 153 & 101 &  53 &  45 &  44\\\\\n\\end{tabular}\n",
            "text/plain": [
              "    TAHUN NAMA.PROVINSI        NAMA.KABUPATEN.KOTA NAMA.KECAMATAN \n",
              "1   2013  PROVINSI DKI JAKARTA KAB.ADM.KEP.SERIBU  KEP. SERIBU UTR\n",
              "2   2013  PROVINSI DKI JAKARTA KAB.ADM.KEP.SERIBU  KEP. SERIBU UTR\n",
              "3   2013  PROVINSI DKI JAKARTA KAB.ADM.KEP.SERIBU  KEP. SERIBU UTR\n",
              "4   2013  PROVINSI DKI JAKARTA KAB.ADM.KEP.SERIBU  KEP. SERIBU SLT\n",
              "5   2013  PROVINSI DKI JAKARTA KAB.ADM.KEP.SERIBU  KEP. SERIBU SLT\n",
              "6   2013  PROVINSI DKI JAKARTA KAB.ADM.KEP.SERIBU  KEP. SERIBU SLT\n",
              "7   2013  PROVINSI DKI JAKARTA JAKARTA PUSAT       GAMBIR         \n",
              "8   2013  PROVINSI DKI JAKARTA JAKARTA PUSAT       GAMBIR         \n",
              "9   2013  PROVINSI DKI JAKARTA JAKARTA PUSAT       GAMBIR         \n",
              "10  2013  PROVINSI DKI JAKARTA JAKARTA PUSAT       GAMBIR         \n",
              "11  2013  PROVINSI DKI JAKARTA JAKARTA PUSAT       GAMBIR         \n",
              "12  2013  PROVINSI DKI JAKARTA JAKARTA PUSAT       GAMBIR         \n",
              "13  2013  PROVINSI DKI JAKARTA JAKARTA PUSAT       SAWAH BESAR    \n",
              "14  2013  PROVINSI DKI JAKARTA JAKARTA PUSAT       SAWAH BESAR    \n",
              "15  2013  PROVINSI DKI JAKARTA JAKARTA PUSAT       SAWAH BESAR    \n",
              "16  2013  PROVINSI DKI JAKARTA JAKARTA PUSAT       SAWAH BESAR    \n",
              "17  2013  PROVINSI DKI JAKARTA JAKARTA PUSAT       SAWAH BESAR    \n",
              "18  2013  PROVINSI DKI JAKARTA JAKARTA PUSAT       KEMAYORAN      \n",
              "19  2013  PROVINSI DKI JAKARTA JAKARTA PUSAT       KEMAYORAN      \n",
              "20  2013  PROVINSI DKI JAKARTA JAKARTA PUSAT       KEMAYORAN      \n",
              "21  2013  PROVINSI DKI JAKARTA JAKARTA PUSAT       KEMAYORAN      \n",
              "22  2013  PROVINSI DKI JAKARTA JAKARTA PUSAT       KEMAYORAN      \n",
              "23  2013  PROVINSI DKI JAKARTA JAKARTA PUSAT       KEMAYORAN      \n",
              "24  2013  PROVINSI DKI JAKARTA JAKARTA PUSAT       KEMAYORAN      \n",
              "25  2013  PROVINSI DKI JAKARTA JAKARTA PUSAT       KEMAYORAN      \n",
              "26  2013  PROVINSI DKI JAKARTA JAKARTA PUSAT       SENEN          \n",
              "27  2013  PROVINSI DKI JAKARTA JAKARTA PUSAT       SENEN          \n",
              "28  2013  PROVINSI DKI JAKARTA JAKARTA PUSAT       SENEN          \n",
              "29  2013  PROVINSI DKI JAKARTA JAKARTA PUSAT       SENEN          \n",
              "30  2013  PROVINSI DKI JAKARTA JAKARTA PUSAT       SENEN          \n",
              "⋮   ⋮     ⋮                    ⋮                   ⋮              \n",
              "238 2013  PROVINSI DKI JAKARTA JAKARTA TIMUR       CAKUNG         \n",
              "239 2013  PROVINSI DKI JAKARTA JAKARTA TIMUR       CAKUNG         \n",
              "240 2013  PROVINSI DKI JAKARTA JAKARTA TIMUR       CAKUNG         \n",
              "241 2013  PROVINSI DKI JAKARTA JAKARTA TIMUR       CAKUNG         \n",
              "242 2013  PROVINSI DKI JAKARTA JAKARTA TIMUR       CAKUNG         \n",
              "243 2013  PROVINSI DKI JAKARTA JAKARTA TIMUR       DUREN SAWIT    \n",
              "244 2013  PROVINSI DKI JAKARTA JAKARTA TIMUR       DUREN SAWIT    \n",
              "245 2013  PROVINSI DKI JAKARTA JAKARTA TIMUR       DUREN SAWIT    \n",
              "246 2013  PROVINSI DKI JAKARTA JAKARTA TIMUR       DUREN SAWIT    \n",
              "247 2013  PROVINSI DKI JAKARTA JAKARTA TIMUR       DUREN SAWIT    \n",
              "248 2013  PROVINSI DKI JAKARTA JAKARTA TIMUR       DUREN SAWIT    \n",
              "249 2013  PROVINSI DKI JAKARTA JAKARTA TIMUR       DUREN SAWIT    \n",
              "250 2013  PROVINSI DKI JAKARTA JAKARTA TIMUR       MAKASAR        \n",
              "251 2013  PROVINSI DKI JAKARTA JAKARTA TIMUR       MAKASAR        \n",
              "252 2013  PROVINSI DKI JAKARTA JAKARTA TIMUR       MAKASAR        \n",
              "253 2013  PROVINSI DKI JAKARTA JAKARTA TIMUR       MAKASAR        \n",
              "254 2013  PROVINSI DKI JAKARTA JAKARTA TIMUR       MAKASAR        \n",
              "255 2013  PROVINSI DKI JAKARTA JAKARTA TIMUR       CIRACAS        \n",
              "256 2013  PROVINSI DKI JAKARTA JAKARTA TIMUR       CIRACAS        \n",
              "257 2013  PROVINSI DKI JAKARTA JAKARTA TIMUR       CIRACAS        \n",
              "258 2013  PROVINSI DKI JAKARTA JAKARTA TIMUR       CIRACAS        \n",
              "259 2013  PROVINSI DKI JAKARTA JAKARTA TIMUR       CIRACAS        \n",
              "260 2013  PROVINSI DKI JAKARTA JAKARTA TIMUR       CIPAYUNG       \n",
              "261 2013  PROVINSI DKI JAKARTA JAKARTA TIMUR       CIPAYUNG       \n",
              "262 2013  PROVINSI DKI JAKARTA JAKARTA TIMUR       CIPAYUNG       \n",
              "263 2013  PROVINSI DKI JAKARTA JAKARTA TIMUR       CIPAYUNG       \n",
              "264 2013  PROVINSI DKI JAKARTA JAKARTA TIMUR       CIPAYUNG       \n",
              "265 2013  PROVINSI DKI JAKARTA JAKARTA TIMUR       CIPAYUNG       \n",
              "266 2013  PROVINSI DKI JAKARTA JAKARTA TIMUR       CIPAYUNG       \n",
              "267 2013  PROVINSI DKI JAKARTA JAKARTA TIMUR       CIPAYUNG       \n",
              "    NAMA.KELURAHAN        LUAS.WILAYAH..KM2. KEPADATAN..JIWA.KM2. X  X.1 X.2 ⋯\n",
              "1   P. PANGGANG           0.91                6779                NA NA  NA  ⋯\n",
              "2   P. KELAPA             3.76                1705                NA NA  NA  ⋯\n",
              "3   P. HARAPAN            3.59                 628                NA NA  NA  ⋯\n",
              "4   P. UNTUNG JAWA        0.59                3625                NA NA  NA  ⋯\n",
              "5   P. TIDUNG             1.57                3084                NA NA  NA  ⋯\n",
              "6   P. PARI               1.39                1968                NA NA  NA  ⋯\n",
              "7   GAMBIR                2.58                1350                NA NA  NA  ⋯\n",
              "8   CIDENG                1.26               14584                NA NA  NA  ⋯\n",
              "9   PETOJO UTARA          1.12               18987                NA NA  NA  ⋯\n",
              "10  PETOJO SELATAN        1.14               14465                NA NA  NA  ⋯\n",
              "11  KEBON KELAPA          0.78               15890                NA NA  NA  ⋯\n",
              "12  DURI PULO             0.72               35628                NA NA  NA  ⋯\n",
              "13  PASAR BARU            1.89                8041                NA NA  NA  ⋯\n",
              "14  KARANG ANYAR          0.51               63122                NA NA  NA  ⋯\n",
              "15  KARTINI               0.55               49862                NA NA  NA  ⋯\n",
              "16  GUNUNG SAHARI UTARA   1.98                9933                NA NA  NA  ⋯\n",
              "17  MANGGA DUA SELATAN    1.29               26203                NA NA  NA  ⋯\n",
              "18  KEMAYORAN             0.55               44202                NA NA  NA  ⋯\n",
              "19  KEBON KOSONG          1.13               28014                NA NA  NA  ⋯\n",
              "20  HARAPAN MULIA         0.91               29205                NA NA  NA  ⋯\n",
              "21  SERDANG               0.82               41837                NA NA  NA  ⋯\n",
              "22  GUNUNG SAHARI SELATAN 0.53               43858                NA NA  NA  ⋯\n",
              "23  CEMPAKA BARU          0.99               38088                NA NA  NA  ⋯\n",
              "24  SUMUR BATU            1.15               23271                NA NA  NA  ⋯\n",
              "25  UTAN PANJANG          1.05               31889                NA NA  NA  ⋯\n",
              "26  SENEN                 0.81               10158                NA NA  NA  ⋯\n",
              "27  KENARI                0.91               11757                NA NA  NA  ⋯\n",
              "28  PASEBAN               0.71               38400                NA NA  NA  ⋯\n",
              "29  KRAMAT                0.71               47630                NA NA  NA  ⋯\n",
              "30  KWITANG               0.45               40724                NA NA  NA  ⋯\n",
              "⋮   ⋮                     ⋮                  ⋮                    ⋮  ⋮   ⋮   ⋱\n",
              "238 PENGGILINGAN           4.48              22483                NA NA  NA  ⋯\n",
              "239 CAKUNG TIMUR           9.81               6464                NA NA  NA  ⋯\n",
              "240 PULO GEBANG            6.86              13716                NA NA  NA  ⋯\n",
              "241 UJUNG MENTENG          4.43               6972                NA NA  NA  ⋯\n",
              "242 CAKUNG BARAT           6.19              10030                NA NA  NA  ⋯\n",
              "243 DUREN SAWIT            4.58              14100                NA NA  NA  ⋯\n",
              "244 PONDOK BAMBU           5.00              13285                NA NA  NA  ⋯\n",
              "245 KLENDER                3.08              25456                NA NA  NA  ⋯\n",
              "246 PONDOK KELAPA          5.72              12673                NA NA  NA  ⋯\n",
              "247 MALAKA SARI            1.38              23592                NA NA  NA  ⋯\n",
              "248 MALAKA JAYA            0.99              36535                NA NA  NA  ⋯\n",
              "249 PONDOK KOPI            2.06              18136                NA NA  NA  ⋯\n",
              "250 MAKASAR                1.85              20695                NA NA  NA  ⋯\n",
              "251 PINANG RANTI           1.89              14793                NA NA  NA  ⋯\n",
              "252 KEBON PALA             2.30              22647                NA NA  NA  ⋯\n",
              "253 HALIM PERDANA KUSUMAH 13.07               2546                NA NA  NA  ⋯\n",
              "254 CIPINANG MELAYU        2.53              18551                NA NA  NA  ⋯\n",
              "255 CIRACAS                3.93              17648                NA NA  NA  ⋯\n",
              "256 CIBUBUR                4.50              15686                NA NA  NA  ⋯\n",
              "257 KELAPA DUA WETAN       3.37              14203                NA NA  NA  ⋯\n",
              "258 SUSUKAN                2.19              19019                NA NA  NA  ⋯\n",
              "259 RAMBUTAN               2.09              19324                NA NA  NA  ⋯\n",
              "260 CIPAYUNG               3.08               8441                NA NA  NA  ⋯\n",
              "261 CILANGKAP              6.03               4396                NA NA  NA  ⋯\n",
              "262 PONDOK RANGGON         3.66               6772                NA NA  NA  ⋯\n",
              "263 MUNJUL                 1.90              12734                NA NA  NA  ⋯\n",
              "264 SETU                   3.25               6028                NA NA  NA  ⋯\n",
              "265 BAMBU APUS             3.17               8400                NA NA  NA  ⋯\n",
              "266 LUBANG BUAYA           3.72              18055                NA NA  NA  ⋯\n",
              "267 CEGER                  3.63               5492                NA NA  NA  ⋯\n",
              "    X55.59.Laki.Laki X55.59.Perempuan X60.64.Laki.Laki X60.64.Perempuan\n",
              "1    98              106               72               65             \n",
              "2    30               39               29               24             \n",
              "3   139              101               73               56             \n",
              "4    97               83               58               56             \n",
              "5    37               32               22               13             \n",
              "6    37               36               32               26             \n",
              "7   108               90               88               42             \n",
              "8   614              537              555              343             \n",
              "9   680              510              544              421             \n",
              "10  539              466              428              279             \n",
              "11  432              329              353              263             \n",
              "12  742              616              597              404             \n",
              "13  495              435              486              401             \n",
              "14  935              749              793              487             \n",
              "15  877              688              743              515             \n",
              "16  648              525              539              388             \n",
              "17  969              799              729              528             \n",
              "18  696              601              608              410             \n",
              "19  837              650              685              448             \n",
              "20  737              584              619              346             \n",
              "21  901              627              650              418             \n",
              "22  717              602              585              396             \n",
              "23  983              755              770              498             \n",
              "24  689              549              636              383             \n",
              "25  912              731              719              424             \n",
              "26  224              207              184              152             \n",
              "27  339              288              271              191             \n",
              "28  914              697              666              436             \n",
              "29  949              777              760              483             \n",
              "30  587              459              459              310             \n",
              "⋮   ⋮                ⋮                ⋮                ⋮               \n",
              "238 2063             1920             1365              991            \n",
              "239 1252             1129              832              558            \n",
              "240 2134             1992             1476             1170            \n",
              "241  631              586              388              300            \n",
              "242  917              821              543              406            \n",
              "243 1383             1480             1077             1069            \n",
              "244 1338             1560             1145              997            \n",
              "245 1636             1620             1127             1050            \n",
              "246 1690             1783             1363             1157            \n",
              "247  647              847              527              755            \n",
              "248  611              840              496              818            \n",
              "249  868              907              629              592            \n",
              "250  866              879              632              574            \n",
              "251  588              530              383              316            \n",
              "252 1017             1108              812              723            \n",
              "253  642              461              275              284            \n",
              "254 1106             1095              750              701            \n",
              "255 1468             1511             1033              714            \n",
              "256 1497             1564             1033              972            \n",
              "257 1149             1152              787              606            \n",
              "258  828              816              606              481            \n",
              "259  782              807              539              493            \n",
              "260  539              469              374              278            \n",
              "261  452              397              267              235            \n",
              "262  453              391              271              227            \n",
              "263  482              482              302              291            \n",
              "264  392              354              254              211            \n",
              "265  596              476              377              250            \n",
              "266 1376             1308              959              739            \n",
              "267  416              390              279              214            \n",
              "    X65.69.Laki.Laki X65.69.Perempuan X70.74.Laki.Laki X70.74.Perempuan\n",
              "1    36               33               33               20             \n",
              "2    12               21               13                5             \n",
              "3    18               35               24               25             \n",
              "4    40               54               26               27             \n",
              "5    18               15               10               18             \n",
              "6    21               14               17               11             \n",
              "7    68               34               37               32             \n",
              "8   413              215              259              142             \n",
              "9   398              235              241              132             \n",
              "10  328              160              215              116             \n",
              "11  246              140              152              100             \n",
              "12  409              215              255              156             \n",
              "13  407              265              243              147             \n",
              "14  567              308              344              199             \n",
              "15  542              272              360              187             \n",
              "16  458              240              289              184             \n",
              "17  498              310              316              188             \n",
              "18  414              191              262              163             \n",
              "19  448              271              259              186             \n",
              "20  365              218              267              147             \n",
              "21  521              279              358              289             \n",
              "22  460              282              273              169             \n",
              "23  571              318              462              306             \n",
              "24  465              279              309              227             \n",
              "25  395              197              295              179             \n",
              "26  126               84               73               40             \n",
              "27  200               96              122               76             \n",
              "28  428              203              264              142             \n",
              "29  479              272              344              193             \n",
              "30  371              157              192              105             \n",
              "⋮   ⋮                ⋮                ⋮                ⋮               \n",
              "238 606              446              339              260             \n",
              "239 339              269              183              168             \n",
              "240 645              507              423              280             \n",
              "241 194              181              114               91             \n",
              "242 253              218              139              138             \n",
              "243 646              625              428              352             \n",
              "244 675              625              414              327             \n",
              "245 657              561              443              401             \n",
              "246 735              605              458              344             \n",
              "247 495              471              370              280             \n",
              "248 531              583              441              326             \n",
              "249 329              270              184              167             \n",
              "250 337              284              211              176             \n",
              "251 170              164              116               95             \n",
              "252 427              377              264              217             \n",
              "253 156              177              115               89             \n",
              "254 424              392              306              267             \n",
              "255 413              330              203              207             \n",
              "256 560              522              453              294             \n",
              "257 328              315              221              163             \n",
              "258 258              263              178              128             \n",
              "259 301              233              164              119             \n",
              "260 164              177              112              101             \n",
              "261 161              133               77               90             \n",
              "262 131              109               80              105             \n",
              "263 173              137              118               94             \n",
              "264 124              115               64               83             \n",
              "265 169              179              108               96             \n",
              "266 393              385              293              291             \n",
              "267 110              153              101               53             \n",
              "    X.75.Laki.Laki X.75..Perempuan\n",
              "1    13             27            \n",
              "2     5              8            \n",
              "3    18             26            \n",
              "4    16             13            \n",
              "5    11             17            \n",
              "6     8              7            \n",
              "7    34             23            \n",
              "8   214            165            \n",
              "9   215            159            \n",
              "10  150            121            \n",
              "11  136             72            \n",
              "12  196            138            \n",
              "13  203            136            \n",
              "14  258            156            \n",
              "15  284            180            \n",
              "16  203            168            \n",
              "17  252            157            \n",
              "18  199            140            \n",
              "19  179             98            \n",
              "20  171            100            \n",
              "21  294            180            \n",
              "22  192            130            \n",
              "23  284            180            \n",
              "24  205            113            \n",
              "25  209            133            \n",
              "26   50             31            \n",
              "27   88             61            \n",
              "28  169            121            \n",
              "29  234            156            \n",
              "30  153             95            \n",
              "⋮   ⋮              ⋮              \n",
              "238 192            208            \n",
              "239 102             97            \n",
              "240 195            232            \n",
              "241  63             70            \n",
              "242  98             97            \n",
              "243 235            268            \n",
              "244 234            245            \n",
              "245 200            278            \n",
              "246 221            299            \n",
              "247 178            161            \n",
              "248 197            213            \n",
              "249 102            123            \n",
              "250 111            146            \n",
              "251  55             66            \n",
              "252 160            156            \n",
              "253  55             63            \n",
              "254 216            227            \n",
              "255 117            147            \n",
              "256 185            250            \n",
              "257 116            153            \n",
              "258  83            104            \n",
              "259 103            120            \n",
              "260  61            110            \n",
              "261  52             62            \n",
              "262  42             82            \n",
              "263  52             51            \n",
              "264  59             64            \n",
              "265  70             84            \n",
              "266 160            165            \n",
              "267  45             44            "
            ]
          },
          "metadata": {}
        }
      ]
    },
    {
      "cell_type": "markdown",
      "source": [
        "#### [Profile Dataset dengan Function str](https://academy.dqlab.id/main/livecode/12/46/311?pr=0)"
      ],
      "metadata": {
        "id": "b_GQzCjzkXvq"
      }
    },
    {
      "cell_type": "code",
      "source": [
        "str(penduduk.dki)"
      ],
      "metadata": {
        "colab": {
          "base_uri": "https://localhost:8080/"
        },
        "id": "4y85z82lkbeW",
        "outputId": "74f1bf8a-43d8-4248-9e7e-2408af374266"
      },
      "execution_count": 24,
      "outputs": [
        {
          "output_type": "stream",
          "name": "stdout",
          "text": [
            "'data.frame':\t267 obs. of  37 variables:\n",
            " $ TAHUN               : int  2013 2013 2013 2013 2013 2013 2013 2013 2013 2013 ...\n",
            " $ NAMA.PROVINSI       : chr  \"PROVINSI DKI JAKARTA\" \"PROVINSI DKI JAKARTA\" \"PROVINSI DKI JAKARTA\" \"PROVINSI DKI JAKARTA\" ...\n",
            " $ NAMA.KABUPATEN.KOTA : chr  \"KAB.ADM.KEP.SERIBU\" \"KAB.ADM.KEP.SERIBU\" \"KAB.ADM.KEP.SERIBU\" \"KAB.ADM.KEP.SERIBU\" ...\n",
            " $ NAMA.KECAMATAN      : chr  \"KEP. SERIBU UTR\" \"KEP. SERIBU UTR\" \"KEP. SERIBU UTR\" \"KEP. SERIBU SLT\" ...\n",
            " $ NAMA.KELURAHAN      : chr  \"P. PANGGANG\" \"P. KELAPA\" \"P. HARAPAN\" \"P. UNTUNG JAWA\" ...\n",
            " $ LUAS.WILAYAH..KM2.  : num  0.91 3.76 3.59 0.59 1.57 1.39 2.58 1.26 1.12 1.14 ...\n",
            " $ KEPADATAN..JIWA.KM2.: int  6779 1705 628 3625 3084 1968 1350 14584 18987 14465 ...\n",
            " $ X                   : logi  NA NA NA NA NA NA ...\n",
            " $ X.1                 : logi  NA NA NA NA NA NA ...\n",
            " $ X.2                 : logi  NA NA NA NA NA NA ...\n",
            " $ X.3                 : logi  NA NA NA NA NA NA ...\n",
            " $ X.4                 : logi  NA NA NA NA NA NA ...\n",
            " $ X.5                 : logi  NA NA NA NA NA NA ...\n",
            " $ X.6                 : logi  NA NA NA NA NA NA ...\n",
            " $ X.7                 : logi  NA NA NA NA NA NA ...\n",
            " $ X.8                 : logi  NA NA NA NA NA NA ...\n",
            " $ X.9                 : logi  NA NA NA NA NA NA ...\n",
            " $ X.10                : logi  NA NA NA NA NA NA ...\n",
            " $ X.11                : logi  NA NA NA NA NA NA ...\n",
            " $ X35.39.Laki.Laki    : int  231 84 255 199 98 113 166 850 954 752 ...\n",
            " $ X35.39.Perempuan    : int  235 88 238 185 75 112 174 748 920 675 ...\n",
            " $ X40.44.Laki.Laki    : int  233 99 232 178 73 108 130 749 914 691 ...\n",
            " $ X40.44.Perempuan    : int  210 88 234 176 94 80 165 798 943 691 ...\n",
            " $ X45.49.Laki.Laki    : int  171 72 212 162 67 66 176 779 871 659 ...\n",
            " $ X45.49.Perempuan    : int  158 63 193 139 69 62 162 766 823 631 ...\n",
            " $ X50.54.Laki.Laki    : int  137 34 150 100 60 61 129 715 736 611 ...\n",
            " $ X50.54.Perempuan    : int  126 29 161 119 40 63 97 662 679 514 ...\n",
            " $ X55.59.Laki.Laki    : int  98 30 139 97 37 37 108 614 680 539 ...\n",
            " $ X55.59.Perempuan    : int  106 39 101 83 32 36 90 537 510 466 ...\n",
            " $ X60.64.Laki.Laki    : int  72 29 73 58 22 32 88 555 544 428 ...\n",
            " $ X60.64.Perempuan    : int  65 24 56 56 13 26 42 343 421 279 ...\n",
            " $ X65.69.Laki.Laki    : int  36 12 18 40 18 21 68 413 398 328 ...\n",
            " $ X65.69.Perempuan    : int  33 21 35 54 15 14 34 215 235 160 ...\n",
            " $ X70.74.Laki.Laki    : int  33 13 24 26 10 17 37 259 241 215 ...\n",
            " $ X70.74.Perempuan    : int  20 5 25 27 18 11 32 142 132 116 ...\n",
            " $ X.75.Laki.Laki      : int  13 5 18 16 11 8 34 214 215 150 ...\n",
            " $ X.75..Perempuan     : int  27 8 26 13 17 7 23 165 159 121 ...\n"
          ]
        }
      ]
    },
    {
      "cell_type": "markdown",
      "source": [
        "#### [Profile Dataset dengan Function summary](https://academy.dqlab.id/main/livecode/12/46/312?pr=0)"
      ],
      "metadata": {
        "id": "f5DYpIoFktGb"
      }
    },
    {
      "cell_type": "code",
      "source": [
        "summary(penduduk.dki)"
      ],
      "metadata": {
        "colab": {
          "base_uri": "https://localhost:8080/",
          "height": 1000
        },
        "id": "alvwoRiRkwQR",
        "outputId": "68d2ee0c-c069-463c-b616-4db4375bb8cb"
      },
      "execution_count": 25,
      "outputs": [
        {
          "output_type": "display_data",
          "data": {
            "text/plain": [
              "     TAHUN      NAMA.PROVINSI      NAMA.KABUPATEN.KOTA NAMA.KECAMATAN    \n",
              " Min.   :2013   Length:267         Length:267          Length:267        \n",
              " 1st Qu.:2013   Class :character   Class :character    Class :character  \n",
              " Median :2013   Mode  :character   Mode  :character    Mode  :character  \n",
              " Mean   :2013                                                            \n",
              " 3rd Qu.:2013                                                            \n",
              " Max.   :2013                                                            \n",
              " NAMA.KELURAHAN     LUAS.WILAYAH..KM2. KEPADATAN..JIWA.KM2.    X          \n",
              " Length:267         Min.   : 0.270     Min.   :  628        Mode:logical  \n",
              " Class :character   1st Qu.: 0.965     1st Qu.:11734        NA's:267      \n",
              " Mode  :character   Median : 1.800     Median :17304                      \n",
              "                    Mean   : 2.487     Mean   :21974                      \n",
              "                    3rd Qu.: 3.315     3rd Qu.:29226                      \n",
              "                    Max.   :13.070     Max.   :94166                      \n",
              "   X.1            X.2            X.3            X.4            X.5         \n",
              " Mode:logical   Mode:logical   Mode:logical   Mode:logical   Mode:logical  \n",
              " NA's:267       NA's:267       NA's:267       NA's:267       NA's:267      \n",
              "                                                                           \n",
              "                                                                           \n",
              "                                                                           \n",
              "                                                                           \n",
              "   X.6            X.7            X.8            X.9            X.10        \n",
              " Mode:logical   Mode:logical   Mode:logical   Mode:logical   Mode:logical  \n",
              " NA's:267       NA's:267       NA's:267       NA's:267       NA's:267      \n",
              "                                                                           \n",
              "                                                                           \n",
              "                                                                           \n",
              "                                                                           \n",
              "   X.11         X35.39.Laki.Laki X35.39.Perempuan X40.44.Laki.Laki\n",
              " Mode:logical   Min.   :   84    Min.   :  75     Min.   :  73    \n",
              " NA's:267       1st Qu.: 1186    1st Qu.:1062     1st Qu.:1023    \n",
              "                Median : 1880    Median :1631     Median :1576    \n",
              "                Mean   : 2264    Mean   :1741     Mean   :1676    \n",
              "                3rd Qu.: 2768    3rd Qu.:2213     3rd Qu.:2112    \n",
              "                Max.   :13011    Max.   :7488     Max.   :7243    \n",
              " X40.44.Perempuan X45.49.Laki.Laki X45.49.Perempuan X50.54.Laki.Laki\n",
              " Min.   :   80    Min.   :  66.0   Min.   :  62     Min.   :   34   \n",
              " 1st Qu.: 1084    1st Qu.: 957.5   1st Qu.: 886     1st Qu.:  790   \n",
              " Median : 1714    Median :1404.0   Median :1315     Median : 1216   \n",
              " Mean   : 2332    Mean   :1643.7   Mean   :1577     Mean   : 2259   \n",
              " 3rd Qu.: 2782    3rd Qu.:1949.0   3rd Qu.:1867     3rd Qu.: 2624   \n",
              " Max.   :14731    Max.   :8822.0   Max.   :8352     Max.   :17174   \n",
              " X50.54.Perempuan X55.59.Laki.Laki X55.59.Perempuan X60.64.Laki.Laki\n",
              " Min.   :  29.0   Min.   :  30.0   Min.   :   32    Min.   :  22.0  \n",
              " 1st Qu.: 712.5   1st Qu.: 595.5   1st Qu.:  557    1st Qu.: 419.5  \n",
              " Median :1107.0   Median : 909.0   Median :  889    Median : 650.0  \n",
              " Mean   :1336.1   Mean   :1178.6   Mean   : 1867    Mean   : 981.7  \n",
              " 3rd Qu.:1671.5   3rd Qu.:1405.5   3rd Qu.: 2342    3rd Qu.:1186.5  \n",
              " Max.   :7480.0   Max.   :6846.0   Max.   :14326    Max.   :6333.0  \n",
              " X60.64.Perempuan X65.69.Laki.Laki X65.69.Perempuan X70.74.Laki.Laki\n",
              " Min.   :  13.0   Min.   :   12    Min.   :  14.0   Min.   :  10.0  \n",
              " 1st Qu.: 366.0   1st Qu.:  253    1st Qu.: 215.5   1st Qu.: 170.0  \n",
              " Median : 587.0   Median :  413    Median : 354.0   Median : 285.0  \n",
              " Mean   : 876.7   Mean   : 1403    Mean   : 683.6   Mean   : 607.0  \n",
              " 3rd Qu.:1052.5   3rd Qu.: 2098    3rd Qu.: 928.5   3rd Qu.: 836.5  \n",
              " Max.   :5476.0   Max.   :11809    Max.   :4758.0   Max.   :4475.0  \n",
              " X70.74.Perempuan X.75.Laki.Laki   X.75..Perempuan \n",
              " Min.   :   5     Min.   :   5.0   Min.   :   7.0  \n",
              " 1st Qu.: 145     1st Qu.: 116.5   1st Qu.: 121.5  \n",
              " Median : 260     Median : 200.0   Median : 204.0  \n",
              " Mean   :1083     Mean   : 484.6   Mean   : 480.3  \n",
              " 3rd Qu.:1784     3rd Qu.: 716.0   3rd Qu.: 675.5  \n",
              " Max.   :9233     Max.   :3959.0   Max.   :3526.0  "
            ]
          },
          "metadata": {}
        }
      ]
    },
    {
      "cell_type": "markdown",
      "source": [
        "#### [Menggunakan argumen check.names = FALSE](https://academy.dqlab.id/main/livecode/12/46/315?pr=0)"
      ],
      "metadata": {
        "id": "wiioNkJfk0Jz"
      }
    },
    {
      "cell_type": "code",
      "source": [
        "#Membaca dataset dengan read.csv dan dimasukkan ke variable penduduk.dki\n",
        "penduduk.dki <- read.csv(\"https://storage.googleapis.com/dqlab-dataset/dkikepadatankelurahan2013.csv\", sep=\",\", check.names = FALSE)\n",
        "\n",
        "str(penduduk.dki)"
      ],
      "metadata": {
        "colab": {
          "base_uri": "https://localhost:8080/"
        },
        "id": "9Sojy_JEk_jr",
        "outputId": "3934e18d-3c4f-4a8a-de57-369ea1f3ba1a"
      },
      "execution_count": 27,
      "outputs": [
        {
          "output_type": "stream",
          "name": "stdout",
          "text": [
            "'data.frame':\t267 obs. of  37 variables:\n",
            " $ TAHUN               : int  2013 2013 2013 2013 2013 2013 2013 2013 2013 2013 ...\n",
            " $ NAMA PROVINSI       : chr  \"PROVINSI DKI JAKARTA\" \"PROVINSI DKI JAKARTA\" \"PROVINSI DKI JAKARTA\" \"PROVINSI DKI JAKARTA\" ...\n",
            " $ NAMA KABUPATEN/KOTA : chr  \"KAB.ADM.KEP.SERIBU\" \"KAB.ADM.KEP.SERIBU\" \"KAB.ADM.KEP.SERIBU\" \"KAB.ADM.KEP.SERIBU\" ...\n",
            " $ NAMA KECAMATAN      : chr  \"KEP. SERIBU UTR\" \"KEP. SERIBU UTR\" \"KEP. SERIBU UTR\" \"KEP. SERIBU SLT\" ...\n",
            " $ NAMA KELURAHAN      : chr  \"P. PANGGANG\" \"P. KELAPA\" \"P. HARAPAN\" \"P. UNTUNG JAWA\" ...\n",
            " $ LUAS WILAYAH (KM2)  : num  0.91 3.76 3.59 0.59 1.57 1.39 2.58 1.26 1.12 1.14 ...\n",
            " $ KEPADATAN (JIWA/KM2): int  6779 1705 628 3625 3084 1968 1350 14584 18987 14465 ...\n",
            " $                     : logi  NA NA NA NA NA NA ...\n",
            " $                     : logi  NA NA NA NA NA NA ...\n",
            " $                     : logi  NA NA NA NA NA NA ...\n",
            " $                     : logi  NA NA NA NA NA NA ...\n",
            " $                     : logi  NA NA NA NA NA NA ...\n",
            " $                     : logi  NA NA NA NA NA NA ...\n",
            " $                     : logi  NA NA NA NA NA NA ...\n",
            " $                     : logi  NA NA NA NA NA NA ...\n",
            " $                     : logi  NA NA NA NA NA NA ...\n",
            " $                     : logi  NA NA NA NA NA NA ...\n",
            " $                     : logi  NA NA NA NA NA NA ...\n",
            " $                     : logi  NA NA NA NA NA NA ...\n",
            " $ 35-39 Laki-Laki     : int  231 84 255 199 98 113 166 850 954 752 ...\n",
            " $ 35-39 Perempuan     : int  235 88 238 185 75 112 174 748 920 675 ...\n",
            " $ 40-44 Laki-Laki     : int  233 99 232 178 73 108 130 749 914 691 ...\n",
            " $ 40-44 Perempuan     : int  210 88 234 176 94 80 165 798 943 691 ...\n",
            " $ 45-49 Laki-Laki     : int  171 72 212 162 67 66 176 779 871 659 ...\n",
            " $ 45-49 Perempuan     : int  158 63 193 139 69 62 162 766 823 631 ...\n",
            " $ 50-54 Laki-Laki     : int  137 34 150 100 60 61 129 715 736 611 ...\n",
            " $ 50-54 Perempuan     : int  126 29 161 119 40 63 97 662 679 514 ...\n",
            " $ 55-59 Laki-Laki     : int  98 30 139 97 37 37 108 614 680 539 ...\n",
            " $ 55-59 Perempuan     : int  106 39 101 83 32 36 90 537 510 466 ...\n",
            " $ 60-64 Laki-Laki     : int  72 29 73 58 22 32 88 555 544 428 ...\n",
            " $ 60-64 Perempuan     : int  65 24 56 56 13 26 42 343 421 279 ...\n",
            " $ 65-69 Laki-Laki     : int  36 12 18 40 18 21 68 413 398 328 ...\n",
            " $ 65-69 Perempuan     : int  33 21 35 54 15 14 34 215 235 160 ...\n",
            " $ 70-74 Laki-Laki     : int  33 13 24 26 10 17 37 259 241 215 ...\n",
            " $ 70-74 Perempuan     : int  20 5 25 27 18 11 32 142 132 116 ...\n",
            " $ >75 Laki-Laki       : int  13 5 18 16 11 8 34 214 215 150 ...\n",
            " $ >75  Perempuan      : int  27 8 26 13 17 7 23 165 159 121 ...\n"
          ]
        }
      ]
    },
    {
      "cell_type": "markdown",
      "source": [
        "#### [Membaca Tab Separated Value (TSV)](https://academy.dqlab.id/main/livecode/12/46/316?pr=0)"
      ],
      "metadata": {
        "id": "GID-snT4lONg"
      }
    },
    {
      "cell_type": "code",
      "source": [
        "#Membaca dataset dengan read.csv dan dimasukkan ke variable penduduk.dki\n",
        "penduduk.dki <- read.csv(\"https://storage.googleapis.com/dqlab-dataset/dkikepadatankelurahan2013.tsv\", sep=\"\\t\")\n",
        "\n",
        "penduduk.dki"
      ],
      "metadata": {
        "colab": {
          "base_uri": "https://localhost:8080/",
          "height": 1000
        },
        "id": "V3sUXbpjlSEz",
        "outputId": "f68abe2e-0e66-40a4-a11b-4b7f524e5f32"
      },
      "execution_count": 28,
      "outputs": [
        {
          "output_type": "display_data",
          "data": {
            "text/html": [
              "<table class=\"dataframe\">\n",
              "<caption>A data.frame: 267 × 37</caption>\n",
              "<thead>\n",
              "\t<tr><th scope=col>TAHUN</th><th scope=col>NAMA.PROVINSI</th><th scope=col>NAMA.KABUPATEN.KOTA</th><th scope=col>NAMA.KECAMATAN</th><th scope=col>NAMA.KELURAHAN</th><th scope=col>LUAS.WILAYAH..KM2.</th><th scope=col>KEPADATAN..JIWA.KM2.</th><th scope=col>X</th><th scope=col>X.1</th><th scope=col>X.2</th><th scope=col>⋯</th><th scope=col>X55.59.Laki.Laki</th><th scope=col>X55.59.Perempuan</th><th scope=col>X60.64.Laki.Laki</th><th scope=col>X60.64.Perempuan</th><th scope=col>X65.69.Laki.Laki</th><th scope=col>X65.69.Perempuan</th><th scope=col>X70.74.Laki.Laki</th><th scope=col>X70.74.Perempuan</th><th scope=col>X.75.Laki.Laki</th><th scope=col>X.75..Perempuan</th></tr>\n",
              "\t<tr><th scope=col>&lt;int&gt;</th><th scope=col>&lt;chr&gt;</th><th scope=col>&lt;chr&gt;</th><th scope=col>&lt;chr&gt;</th><th scope=col>&lt;chr&gt;</th><th scope=col>&lt;dbl&gt;</th><th scope=col>&lt;int&gt;</th><th scope=col>&lt;lgl&gt;</th><th scope=col>&lt;lgl&gt;</th><th scope=col>&lt;lgl&gt;</th><th scope=col>⋯</th><th scope=col>&lt;int&gt;</th><th scope=col>&lt;int&gt;</th><th scope=col>&lt;int&gt;</th><th scope=col>&lt;int&gt;</th><th scope=col>&lt;int&gt;</th><th scope=col>&lt;int&gt;</th><th scope=col>&lt;int&gt;</th><th scope=col>&lt;int&gt;</th><th scope=col>&lt;int&gt;</th><th scope=col>&lt;int&gt;</th></tr>\n",
              "</thead>\n",
              "<tbody>\n",
              "\t<tr><td>2013</td><td>PROVINSI DKI JAKARTA</td><td>KAB.ADM.KEP.SERIBU</td><td>KEP. SERIBU UTR</td><td>P. PANGGANG          </td><td>0.91</td><td> 6779</td><td>NA</td><td>NA</td><td>NA</td><td>⋯</td><td> 98</td><td>106</td><td> 72</td><td> 65</td><td> 36</td><td> 33</td><td> 33</td><td> 20</td><td> 13</td><td> 27</td></tr>\n",
              "\t<tr><td>2013</td><td>PROVINSI DKI JAKARTA</td><td>KAB.ADM.KEP.SERIBU</td><td>KEP. SERIBU UTR</td><td>P. KELAPA            </td><td>3.76</td><td> 1705</td><td>NA</td><td>NA</td><td>NA</td><td>⋯</td><td> 30</td><td> 39</td><td> 29</td><td> 24</td><td> 12</td><td> 21</td><td> 13</td><td>  5</td><td>  5</td><td>  8</td></tr>\n",
              "\t<tr><td>2013</td><td>PROVINSI DKI JAKARTA</td><td>KAB.ADM.KEP.SERIBU</td><td>KEP. SERIBU UTR</td><td>P. HARAPAN           </td><td>3.59</td><td>  628</td><td>NA</td><td>NA</td><td>NA</td><td>⋯</td><td>139</td><td>101</td><td> 73</td><td> 56</td><td> 18</td><td> 35</td><td> 24</td><td> 25</td><td> 18</td><td> 26</td></tr>\n",
              "\t<tr><td>2013</td><td>PROVINSI DKI JAKARTA</td><td>KAB.ADM.KEP.SERIBU</td><td>KEP. SERIBU SLT</td><td>P. UNTUNG JAWA       </td><td>0.59</td><td> 3625</td><td>NA</td><td>NA</td><td>NA</td><td>⋯</td><td> 97</td><td> 83</td><td> 58</td><td> 56</td><td> 40</td><td> 54</td><td> 26</td><td> 27</td><td> 16</td><td> 13</td></tr>\n",
              "\t<tr><td>2013</td><td>PROVINSI DKI JAKARTA</td><td>KAB.ADM.KEP.SERIBU</td><td>KEP. SERIBU SLT</td><td>P. TIDUNG            </td><td>1.57</td><td> 3084</td><td>NA</td><td>NA</td><td>NA</td><td>⋯</td><td> 37</td><td> 32</td><td> 22</td><td> 13</td><td> 18</td><td> 15</td><td> 10</td><td> 18</td><td> 11</td><td> 17</td></tr>\n",
              "\t<tr><td>2013</td><td>PROVINSI DKI JAKARTA</td><td>KAB.ADM.KEP.SERIBU</td><td>KEP. SERIBU SLT</td><td>P. PARI              </td><td>1.39</td><td> 1968</td><td>NA</td><td>NA</td><td>NA</td><td>⋯</td><td> 37</td><td> 36</td><td> 32</td><td> 26</td><td> 21</td><td> 14</td><td> 17</td><td> 11</td><td>  8</td><td>  7</td></tr>\n",
              "\t<tr><td>2013</td><td>PROVINSI DKI JAKARTA</td><td>JAKARTA PUSAT     </td><td>GAMBIR         </td><td>GAMBIR               </td><td>2.58</td><td> 1350</td><td>NA</td><td>NA</td><td>NA</td><td>⋯</td><td>108</td><td> 90</td><td> 88</td><td> 42</td><td> 68</td><td> 34</td><td> 37</td><td> 32</td><td> 34</td><td> 23</td></tr>\n",
              "\t<tr><td>2013</td><td>PROVINSI DKI JAKARTA</td><td>JAKARTA PUSAT     </td><td>GAMBIR         </td><td>CIDENG               </td><td>1.26</td><td>14584</td><td>NA</td><td>NA</td><td>NA</td><td>⋯</td><td>614</td><td>537</td><td>555</td><td>343</td><td>413</td><td>215</td><td>259</td><td>142</td><td>214</td><td>165</td></tr>\n",
              "\t<tr><td>2013</td><td>PROVINSI DKI JAKARTA</td><td>JAKARTA PUSAT     </td><td>GAMBIR         </td><td>PETOJO UTARA         </td><td>1.12</td><td>18987</td><td>NA</td><td>NA</td><td>NA</td><td>⋯</td><td>680</td><td>510</td><td>544</td><td>421</td><td>398</td><td>235</td><td>241</td><td>132</td><td>215</td><td>159</td></tr>\n",
              "\t<tr><td>2013</td><td>PROVINSI DKI JAKARTA</td><td>JAKARTA PUSAT     </td><td>GAMBIR         </td><td>PETOJO SELATAN       </td><td>1.14</td><td>14465</td><td>NA</td><td>NA</td><td>NA</td><td>⋯</td><td>539</td><td>466</td><td>428</td><td>279</td><td>328</td><td>160</td><td>215</td><td>116</td><td>150</td><td>121</td></tr>\n",
              "\t<tr><td>2013</td><td>PROVINSI DKI JAKARTA</td><td>JAKARTA PUSAT     </td><td>GAMBIR         </td><td>KEBON KELAPA         </td><td>0.78</td><td>15890</td><td>NA</td><td>NA</td><td>NA</td><td>⋯</td><td>432</td><td>329</td><td>353</td><td>263</td><td>246</td><td>140</td><td>152</td><td>100</td><td>136</td><td> 72</td></tr>\n",
              "\t<tr><td>2013</td><td>PROVINSI DKI JAKARTA</td><td>JAKARTA PUSAT     </td><td>GAMBIR         </td><td>DURI PULO            </td><td>0.72</td><td>35628</td><td>NA</td><td>NA</td><td>NA</td><td>⋯</td><td>742</td><td>616</td><td>597</td><td>404</td><td>409</td><td>215</td><td>255</td><td>156</td><td>196</td><td>138</td></tr>\n",
              "\t<tr><td>2013</td><td>PROVINSI DKI JAKARTA</td><td>JAKARTA PUSAT     </td><td>SAWAH BESAR    </td><td>PASAR BARU           </td><td>1.89</td><td> 8041</td><td>NA</td><td>NA</td><td>NA</td><td>⋯</td><td>495</td><td>435</td><td>486</td><td>401</td><td>407</td><td>265</td><td>243</td><td>147</td><td>203</td><td>136</td></tr>\n",
              "\t<tr><td>2013</td><td>PROVINSI DKI JAKARTA</td><td>JAKARTA PUSAT     </td><td>SAWAH BESAR    </td><td>KARANG ANYAR         </td><td>0.51</td><td>63122</td><td>NA</td><td>NA</td><td>NA</td><td>⋯</td><td>935</td><td>749</td><td>793</td><td>487</td><td>567</td><td>308</td><td>344</td><td>199</td><td>258</td><td>156</td></tr>\n",
              "\t<tr><td>2013</td><td>PROVINSI DKI JAKARTA</td><td>JAKARTA PUSAT     </td><td>SAWAH BESAR    </td><td>KARTINI              </td><td>0.55</td><td>49862</td><td>NA</td><td>NA</td><td>NA</td><td>⋯</td><td>877</td><td>688</td><td>743</td><td>515</td><td>542</td><td>272</td><td>360</td><td>187</td><td>284</td><td>180</td></tr>\n",
              "\t<tr><td>2013</td><td>PROVINSI DKI JAKARTA</td><td>JAKARTA PUSAT     </td><td>SAWAH BESAR    </td><td>GUNUNG SAHARI UTARA  </td><td>1.98</td><td> 9933</td><td>NA</td><td>NA</td><td>NA</td><td>⋯</td><td>648</td><td>525</td><td>539</td><td>388</td><td>458</td><td>240</td><td>289</td><td>184</td><td>203</td><td>168</td></tr>\n",
              "\t<tr><td>2013</td><td>PROVINSI DKI JAKARTA</td><td>JAKARTA PUSAT     </td><td>SAWAH BESAR    </td><td>MANGGA DUA SELATAN   </td><td>1.29</td><td>26203</td><td>NA</td><td>NA</td><td>NA</td><td>⋯</td><td>969</td><td>799</td><td>729</td><td>528</td><td>498</td><td>310</td><td>316</td><td>188</td><td>252</td><td>157</td></tr>\n",
              "\t<tr><td>2013</td><td>PROVINSI DKI JAKARTA</td><td>JAKARTA PUSAT     </td><td>KEMAYORAN      </td><td>KEMAYORAN            </td><td>0.55</td><td>44202</td><td>NA</td><td>NA</td><td>NA</td><td>⋯</td><td>696</td><td>601</td><td>608</td><td>410</td><td>414</td><td>191</td><td>262</td><td>163</td><td>199</td><td>140</td></tr>\n",
              "\t<tr><td>2013</td><td>PROVINSI DKI JAKARTA</td><td>JAKARTA PUSAT     </td><td>KEMAYORAN      </td><td>KEBON KOSONG         </td><td>1.13</td><td>28014</td><td>NA</td><td>NA</td><td>NA</td><td>⋯</td><td>837</td><td>650</td><td>685</td><td>448</td><td>448</td><td>271</td><td>259</td><td>186</td><td>179</td><td> 98</td></tr>\n",
              "\t<tr><td>2013</td><td>PROVINSI DKI JAKARTA</td><td>JAKARTA PUSAT     </td><td>KEMAYORAN      </td><td>HARAPAN MULIA        </td><td>0.91</td><td>29205</td><td>NA</td><td>NA</td><td>NA</td><td>⋯</td><td>737</td><td>584</td><td>619</td><td>346</td><td>365</td><td>218</td><td>267</td><td>147</td><td>171</td><td>100</td></tr>\n",
              "\t<tr><td>2013</td><td>PROVINSI DKI JAKARTA</td><td>JAKARTA PUSAT     </td><td>KEMAYORAN      </td><td>SERDANG              </td><td>0.82</td><td>41837</td><td>NA</td><td>NA</td><td>NA</td><td>⋯</td><td>901</td><td>627</td><td>650</td><td>418</td><td>521</td><td>279</td><td>358</td><td>289</td><td>294</td><td>180</td></tr>\n",
              "\t<tr><td>2013</td><td>PROVINSI DKI JAKARTA</td><td>JAKARTA PUSAT     </td><td>KEMAYORAN      </td><td>GUNUNG SAHARI SELATAN</td><td>0.53</td><td>43858</td><td>NA</td><td>NA</td><td>NA</td><td>⋯</td><td>717</td><td>602</td><td>585</td><td>396</td><td>460</td><td>282</td><td>273</td><td>169</td><td>192</td><td>130</td></tr>\n",
              "\t<tr><td>2013</td><td>PROVINSI DKI JAKARTA</td><td>JAKARTA PUSAT     </td><td>KEMAYORAN      </td><td>CEMPAKA BARU         </td><td>0.99</td><td>38088</td><td>NA</td><td>NA</td><td>NA</td><td>⋯</td><td>983</td><td>755</td><td>770</td><td>498</td><td>571</td><td>318</td><td>462</td><td>306</td><td>284</td><td>180</td></tr>\n",
              "\t<tr><td>2013</td><td>PROVINSI DKI JAKARTA</td><td>JAKARTA PUSAT     </td><td>KEMAYORAN      </td><td>SUMUR BATU           </td><td>1.15</td><td>23271</td><td>NA</td><td>NA</td><td>NA</td><td>⋯</td><td>689</td><td>549</td><td>636</td><td>383</td><td>465</td><td>279</td><td>309</td><td>227</td><td>205</td><td>113</td></tr>\n",
              "\t<tr><td>2013</td><td>PROVINSI DKI JAKARTA</td><td>JAKARTA PUSAT     </td><td>KEMAYORAN      </td><td>UTAN PANJANG         </td><td>1.05</td><td>31889</td><td>NA</td><td>NA</td><td>NA</td><td>⋯</td><td>912</td><td>731</td><td>719</td><td>424</td><td>395</td><td>197</td><td>295</td><td>179</td><td>209</td><td>133</td></tr>\n",
              "\t<tr><td>2013</td><td>PROVINSI DKI JAKARTA</td><td>JAKARTA PUSAT     </td><td>SENEN          </td><td>SENEN                </td><td>0.81</td><td>10158</td><td>NA</td><td>NA</td><td>NA</td><td>⋯</td><td>224</td><td>207</td><td>184</td><td>152</td><td>126</td><td> 84</td><td> 73</td><td> 40</td><td> 50</td><td> 31</td></tr>\n",
              "\t<tr><td>2013</td><td>PROVINSI DKI JAKARTA</td><td>JAKARTA PUSAT     </td><td>SENEN          </td><td>KENARI               </td><td>0.91</td><td>11757</td><td>NA</td><td>NA</td><td>NA</td><td>⋯</td><td>339</td><td>288</td><td>271</td><td>191</td><td>200</td><td> 96</td><td>122</td><td> 76</td><td> 88</td><td> 61</td></tr>\n",
              "\t<tr><td>2013</td><td>PROVINSI DKI JAKARTA</td><td>JAKARTA PUSAT     </td><td>SENEN          </td><td>PASEBAN              </td><td>0.71</td><td>38400</td><td>NA</td><td>NA</td><td>NA</td><td>⋯</td><td>914</td><td>697</td><td>666</td><td>436</td><td>428</td><td>203</td><td>264</td><td>142</td><td>169</td><td>121</td></tr>\n",
              "\t<tr><td>2013</td><td>PROVINSI DKI JAKARTA</td><td>JAKARTA PUSAT     </td><td>SENEN          </td><td>KRAMAT               </td><td>0.71</td><td>47630</td><td>NA</td><td>NA</td><td>NA</td><td>⋯</td><td>949</td><td>777</td><td>760</td><td>483</td><td>479</td><td>272</td><td>344</td><td>193</td><td>234</td><td>156</td></tr>\n",
              "\t<tr><td>2013</td><td>PROVINSI DKI JAKARTA</td><td>JAKARTA PUSAT     </td><td>SENEN          </td><td>KWITANG              </td><td>0.45</td><td>40724</td><td>NA</td><td>NA</td><td>NA</td><td>⋯</td><td>587</td><td>459</td><td>459</td><td>310</td><td>371</td><td>157</td><td>192</td><td>105</td><td>153</td><td> 95</td></tr>\n",
              "\t<tr><td>⋮</td><td>⋮</td><td>⋮</td><td>⋮</td><td>⋮</td><td>⋮</td><td>⋮</td><td>⋮</td><td>⋮</td><td>⋮</td><td>⋱</td><td>⋮</td><td>⋮</td><td>⋮</td><td>⋮</td><td>⋮</td><td>⋮</td><td>⋮</td><td>⋮</td><td>⋮</td><td>⋮</td></tr>\n",
              "\t<tr><td>2013</td><td>PROVINSI DKI JAKARTA</td><td>JAKARTA TIMUR</td><td>CAKUNG     </td><td>PENGGILINGAN         </td><td> 4.48</td><td>22483</td><td>NA</td><td>NA</td><td>NA</td><td>⋯</td><td>2063</td><td>1920</td><td>1365</td><td> 991</td><td>606</td><td>446</td><td>339</td><td>260</td><td>192</td><td>208</td></tr>\n",
              "\t<tr><td>2013</td><td>PROVINSI DKI JAKARTA</td><td>JAKARTA TIMUR</td><td>CAKUNG     </td><td>CAKUNG TIMUR         </td><td> 9.81</td><td> 6464</td><td>NA</td><td>NA</td><td>NA</td><td>⋯</td><td>1252</td><td>1129</td><td> 832</td><td> 558</td><td>339</td><td>269</td><td>183</td><td>168</td><td>102</td><td> 97</td></tr>\n",
              "\t<tr><td>2013</td><td>PROVINSI DKI JAKARTA</td><td>JAKARTA TIMUR</td><td>CAKUNG     </td><td>PULO GEBANG          </td><td> 6.86</td><td>13716</td><td>NA</td><td>NA</td><td>NA</td><td>⋯</td><td>2134</td><td>1992</td><td>1476</td><td>1170</td><td>645</td><td>507</td><td>423</td><td>280</td><td>195</td><td>232</td></tr>\n",
              "\t<tr><td>2013</td><td>PROVINSI DKI JAKARTA</td><td>JAKARTA TIMUR</td><td>CAKUNG     </td><td>UJUNG MENTENG        </td><td> 4.43</td><td> 6972</td><td>NA</td><td>NA</td><td>NA</td><td>⋯</td><td> 631</td><td> 586</td><td> 388</td><td> 300</td><td>194</td><td>181</td><td>114</td><td> 91</td><td> 63</td><td> 70</td></tr>\n",
              "\t<tr><td>2013</td><td>PROVINSI DKI JAKARTA</td><td>JAKARTA TIMUR</td><td>CAKUNG     </td><td>CAKUNG BARAT         </td><td> 6.19</td><td>10030</td><td>NA</td><td>NA</td><td>NA</td><td>⋯</td><td> 917</td><td> 821</td><td> 543</td><td> 406</td><td>253</td><td>218</td><td>139</td><td>138</td><td> 98</td><td> 97</td></tr>\n",
              "\t<tr><td>2013</td><td>PROVINSI DKI JAKARTA</td><td>JAKARTA TIMUR</td><td>DUREN SAWIT</td><td>DUREN SAWIT          </td><td> 4.58</td><td>14100</td><td>NA</td><td>NA</td><td>NA</td><td>⋯</td><td>1383</td><td>1480</td><td>1077</td><td>1069</td><td>646</td><td>625</td><td>428</td><td>352</td><td>235</td><td>268</td></tr>\n",
              "\t<tr><td>2013</td><td>PROVINSI DKI JAKARTA</td><td>JAKARTA TIMUR</td><td>DUREN SAWIT</td><td>PONDOK BAMBU         </td><td> 5.00</td><td>13285</td><td>NA</td><td>NA</td><td>NA</td><td>⋯</td><td>1338</td><td>1560</td><td>1145</td><td> 997</td><td>675</td><td>625</td><td>414</td><td>327</td><td>234</td><td>245</td></tr>\n",
              "\t<tr><td>2013</td><td>PROVINSI DKI JAKARTA</td><td>JAKARTA TIMUR</td><td>DUREN SAWIT</td><td>KLENDER              </td><td> 3.08</td><td>25456</td><td>NA</td><td>NA</td><td>NA</td><td>⋯</td><td>1636</td><td>1620</td><td>1127</td><td>1050</td><td>657</td><td>561</td><td>443</td><td>401</td><td>200</td><td>278</td></tr>\n",
              "\t<tr><td>2013</td><td>PROVINSI DKI JAKARTA</td><td>JAKARTA TIMUR</td><td>DUREN SAWIT</td><td>PONDOK KELAPA        </td><td> 5.72</td><td>12673</td><td>NA</td><td>NA</td><td>NA</td><td>⋯</td><td>1690</td><td>1783</td><td>1363</td><td>1157</td><td>735</td><td>605</td><td>458</td><td>344</td><td>221</td><td>299</td></tr>\n",
              "\t<tr><td>2013</td><td>PROVINSI DKI JAKARTA</td><td>JAKARTA TIMUR</td><td>DUREN SAWIT</td><td>MALAKA SARI          </td><td> 1.38</td><td>23592</td><td>NA</td><td>NA</td><td>NA</td><td>⋯</td><td> 647</td><td> 847</td><td> 527</td><td> 755</td><td>495</td><td>471</td><td>370</td><td>280</td><td>178</td><td>161</td></tr>\n",
              "\t<tr><td>2013</td><td>PROVINSI DKI JAKARTA</td><td>JAKARTA TIMUR</td><td>DUREN SAWIT</td><td>MALAKA JAYA          </td><td> 0.99</td><td>36535</td><td>NA</td><td>NA</td><td>NA</td><td>⋯</td><td> 611</td><td> 840</td><td> 496</td><td> 818</td><td>531</td><td>583</td><td>441</td><td>326</td><td>197</td><td>213</td></tr>\n",
              "\t<tr><td>2013</td><td>PROVINSI DKI JAKARTA</td><td>JAKARTA TIMUR</td><td>DUREN SAWIT</td><td>PONDOK KOPI          </td><td> 2.06</td><td>18136</td><td>NA</td><td>NA</td><td>NA</td><td>⋯</td><td> 868</td><td> 907</td><td> 629</td><td> 592</td><td>329</td><td>270</td><td>184</td><td>167</td><td>102</td><td>123</td></tr>\n",
              "\t<tr><td>2013</td><td>PROVINSI DKI JAKARTA</td><td>JAKARTA TIMUR</td><td>MAKASAR    </td><td>MAKASAR              </td><td> 1.85</td><td>20695</td><td>NA</td><td>NA</td><td>NA</td><td>⋯</td><td> 866</td><td> 879</td><td> 632</td><td> 574</td><td>337</td><td>284</td><td>211</td><td>176</td><td>111</td><td>146</td></tr>\n",
              "\t<tr><td>2013</td><td>PROVINSI DKI JAKARTA</td><td>JAKARTA TIMUR</td><td>MAKASAR    </td><td>PINANG RANTI         </td><td> 1.89</td><td>14793</td><td>NA</td><td>NA</td><td>NA</td><td>⋯</td><td> 588</td><td> 530</td><td> 383</td><td> 316</td><td>170</td><td>164</td><td>116</td><td> 95</td><td> 55</td><td> 66</td></tr>\n",
              "\t<tr><td>2013</td><td>PROVINSI DKI JAKARTA</td><td>JAKARTA TIMUR</td><td>MAKASAR    </td><td>KEBON PALA           </td><td> 2.30</td><td>22647</td><td>NA</td><td>NA</td><td>NA</td><td>⋯</td><td>1017</td><td>1108</td><td> 812</td><td> 723</td><td>427</td><td>377</td><td>264</td><td>217</td><td>160</td><td>156</td></tr>\n",
              "\t<tr><td>2013</td><td>PROVINSI DKI JAKARTA</td><td>JAKARTA TIMUR</td><td>MAKASAR    </td><td>HALIM PERDANA KUSUMAH</td><td>13.07</td><td> 2546</td><td>NA</td><td>NA</td><td>NA</td><td>⋯</td><td> 642</td><td> 461</td><td> 275</td><td> 284</td><td>156</td><td>177</td><td>115</td><td> 89</td><td> 55</td><td> 63</td></tr>\n",
              "\t<tr><td>2013</td><td>PROVINSI DKI JAKARTA</td><td>JAKARTA TIMUR</td><td>MAKASAR    </td><td>CIPINANG MELAYU      </td><td> 2.53</td><td>18551</td><td>NA</td><td>NA</td><td>NA</td><td>⋯</td><td>1106</td><td>1095</td><td> 750</td><td> 701</td><td>424</td><td>392</td><td>306</td><td>267</td><td>216</td><td>227</td></tr>\n",
              "\t<tr><td>2013</td><td>PROVINSI DKI JAKARTA</td><td>JAKARTA TIMUR</td><td>CIRACAS    </td><td>CIRACAS              </td><td> 3.93</td><td>17648</td><td>NA</td><td>NA</td><td>NA</td><td>⋯</td><td>1468</td><td>1511</td><td>1033</td><td> 714</td><td>413</td><td>330</td><td>203</td><td>207</td><td>117</td><td>147</td></tr>\n",
              "\t<tr><td>2013</td><td>PROVINSI DKI JAKARTA</td><td>JAKARTA TIMUR</td><td>CIRACAS    </td><td>CIBUBUR              </td><td> 4.50</td><td>15686</td><td>NA</td><td>NA</td><td>NA</td><td>⋯</td><td>1497</td><td>1564</td><td>1033</td><td> 972</td><td>560</td><td>522</td><td>453</td><td>294</td><td>185</td><td>250</td></tr>\n",
              "\t<tr><td>2013</td><td>PROVINSI DKI JAKARTA</td><td>JAKARTA TIMUR</td><td>CIRACAS    </td><td>KELAPA DUA WETAN     </td><td> 3.37</td><td>14203</td><td>NA</td><td>NA</td><td>NA</td><td>⋯</td><td>1149</td><td>1152</td><td> 787</td><td> 606</td><td>328</td><td>315</td><td>221</td><td>163</td><td>116</td><td>153</td></tr>\n",
              "\t<tr><td>2013</td><td>PROVINSI DKI JAKARTA</td><td>JAKARTA TIMUR</td><td>CIRACAS    </td><td>SUSUKAN              </td><td> 2.19</td><td>19019</td><td>NA</td><td>NA</td><td>NA</td><td>⋯</td><td> 828</td><td> 816</td><td> 606</td><td> 481</td><td>258</td><td>263</td><td>178</td><td>128</td><td> 83</td><td>104</td></tr>\n",
              "\t<tr><td>2013</td><td>PROVINSI DKI JAKARTA</td><td>JAKARTA TIMUR</td><td>CIRACAS    </td><td>RAMBUTAN             </td><td> 2.09</td><td>19324</td><td>NA</td><td>NA</td><td>NA</td><td>⋯</td><td> 782</td><td> 807</td><td> 539</td><td> 493</td><td>301</td><td>233</td><td>164</td><td>119</td><td>103</td><td>120</td></tr>\n",
              "\t<tr><td>2013</td><td>PROVINSI DKI JAKARTA</td><td>JAKARTA TIMUR</td><td>CIPAYUNG   </td><td>CIPAYUNG             </td><td> 3.08</td><td> 8441</td><td>NA</td><td>NA</td><td>NA</td><td>⋯</td><td> 539</td><td> 469</td><td> 374</td><td> 278</td><td>164</td><td>177</td><td>112</td><td>101</td><td> 61</td><td>110</td></tr>\n",
              "\t<tr><td>2013</td><td>PROVINSI DKI JAKARTA</td><td>JAKARTA TIMUR</td><td>CIPAYUNG   </td><td>CILANGKAP            </td><td> 6.03</td><td> 4396</td><td>NA</td><td>NA</td><td>NA</td><td>⋯</td><td> 452</td><td> 397</td><td> 267</td><td> 235</td><td>161</td><td>133</td><td> 77</td><td> 90</td><td> 52</td><td> 62</td></tr>\n",
              "\t<tr><td>2013</td><td>PROVINSI DKI JAKARTA</td><td>JAKARTA TIMUR</td><td>CIPAYUNG   </td><td>PONDOK RANGGON       </td><td> 3.66</td><td> 6772</td><td>NA</td><td>NA</td><td>NA</td><td>⋯</td><td> 453</td><td> 391</td><td> 271</td><td> 227</td><td>131</td><td>109</td><td> 80</td><td>105</td><td> 42</td><td> 82</td></tr>\n",
              "\t<tr><td>2013</td><td>PROVINSI DKI JAKARTA</td><td>JAKARTA TIMUR</td><td>CIPAYUNG   </td><td>MUNJUL               </td><td> 1.90</td><td>12734</td><td>NA</td><td>NA</td><td>NA</td><td>⋯</td><td> 482</td><td> 482</td><td> 302</td><td> 291</td><td>173</td><td>137</td><td>118</td><td> 94</td><td> 52</td><td> 51</td></tr>\n",
              "\t<tr><td>2013</td><td>PROVINSI DKI JAKARTA</td><td>JAKARTA TIMUR</td><td>CIPAYUNG   </td><td>SETU                 </td><td> 3.25</td><td> 6028</td><td>NA</td><td>NA</td><td>NA</td><td>⋯</td><td> 392</td><td> 354</td><td> 254</td><td> 211</td><td>124</td><td>115</td><td> 64</td><td> 83</td><td> 59</td><td> 64</td></tr>\n",
              "\t<tr><td>2013</td><td>PROVINSI DKI JAKARTA</td><td>JAKARTA TIMUR</td><td>CIPAYUNG   </td><td>BAMBU APUS           </td><td> 3.17</td><td> 8400</td><td>NA</td><td>NA</td><td>NA</td><td>⋯</td><td> 596</td><td> 476</td><td> 377</td><td> 250</td><td>169</td><td>179</td><td>108</td><td> 96</td><td> 70</td><td> 84</td></tr>\n",
              "\t<tr><td>2013</td><td>PROVINSI DKI JAKARTA</td><td>JAKARTA TIMUR</td><td>CIPAYUNG   </td><td>LUBANG BUAYA         </td><td> 3.72</td><td>18055</td><td>NA</td><td>NA</td><td>NA</td><td>⋯</td><td>1376</td><td>1308</td><td> 959</td><td> 739</td><td>393</td><td>385</td><td>293</td><td>291</td><td>160</td><td>165</td></tr>\n",
              "\t<tr><td>2013</td><td>PROVINSI DKI JAKARTA</td><td>JAKARTA TIMUR</td><td>CIPAYUNG   </td><td>CEGER                </td><td> 3.63</td><td> 5492</td><td>NA</td><td>NA</td><td>NA</td><td>⋯</td><td> 416</td><td> 390</td><td> 279</td><td> 214</td><td>110</td><td>153</td><td>101</td><td> 53</td><td> 45</td><td> 44</td></tr>\n",
              "</tbody>\n",
              "</table>\n"
            ],
            "text/markdown": "\nA data.frame: 267 × 37\n\n| TAHUN &lt;int&gt; | NAMA.PROVINSI &lt;chr&gt; | NAMA.KABUPATEN.KOTA &lt;chr&gt; | NAMA.KECAMATAN &lt;chr&gt; | NAMA.KELURAHAN &lt;chr&gt; | LUAS.WILAYAH..KM2. &lt;dbl&gt; | KEPADATAN..JIWA.KM2. &lt;int&gt; | X &lt;lgl&gt; | X.1 &lt;lgl&gt; | X.2 &lt;lgl&gt; | ⋯ ⋯ | X55.59.Laki.Laki &lt;int&gt; | X55.59.Perempuan &lt;int&gt; | X60.64.Laki.Laki &lt;int&gt; | X60.64.Perempuan &lt;int&gt; | X65.69.Laki.Laki &lt;int&gt; | X65.69.Perempuan &lt;int&gt; | X70.74.Laki.Laki &lt;int&gt; | X70.74.Perempuan &lt;int&gt; | X.75.Laki.Laki &lt;int&gt; | X.75..Perempuan &lt;int&gt; |\n|---|---|---|---|---|---|---|---|---|---|---|---|---|---|---|---|---|---|---|---|---|\n| 2013 | PROVINSI DKI JAKARTA | KAB.ADM.KEP.SERIBU | KEP. SERIBU UTR | P. PANGGANG           | 0.91 |  6779 | NA | NA | NA | ⋯ |  98 | 106 |  72 |  65 |  36 |  33 |  33 |  20 |  13 |  27 |\n| 2013 | PROVINSI DKI JAKARTA | KAB.ADM.KEP.SERIBU | KEP. SERIBU UTR | P. KELAPA             | 3.76 |  1705 | NA | NA | NA | ⋯ |  30 |  39 |  29 |  24 |  12 |  21 |  13 |   5 |   5 |   8 |\n| 2013 | PROVINSI DKI JAKARTA | KAB.ADM.KEP.SERIBU | KEP. SERIBU UTR | P. HARAPAN            | 3.59 |   628 | NA | NA | NA | ⋯ | 139 | 101 |  73 |  56 |  18 |  35 |  24 |  25 |  18 |  26 |\n| 2013 | PROVINSI DKI JAKARTA | KAB.ADM.KEP.SERIBU | KEP. SERIBU SLT | P. UNTUNG JAWA        | 0.59 |  3625 | NA | NA | NA | ⋯ |  97 |  83 |  58 |  56 |  40 |  54 |  26 |  27 |  16 |  13 |\n| 2013 | PROVINSI DKI JAKARTA | KAB.ADM.KEP.SERIBU | KEP. SERIBU SLT | P. TIDUNG             | 1.57 |  3084 | NA | NA | NA | ⋯ |  37 |  32 |  22 |  13 |  18 |  15 |  10 |  18 |  11 |  17 |\n| 2013 | PROVINSI DKI JAKARTA | KAB.ADM.KEP.SERIBU | KEP. SERIBU SLT | P. PARI               | 1.39 |  1968 | NA | NA | NA | ⋯ |  37 |  36 |  32 |  26 |  21 |  14 |  17 |  11 |   8 |   7 |\n| 2013 | PROVINSI DKI JAKARTA | JAKARTA PUSAT      | GAMBIR          | GAMBIR                | 2.58 |  1350 | NA | NA | NA | ⋯ | 108 |  90 |  88 |  42 |  68 |  34 |  37 |  32 |  34 |  23 |\n| 2013 | PROVINSI DKI JAKARTA | JAKARTA PUSAT      | GAMBIR          | CIDENG                | 1.26 | 14584 | NA | NA | NA | ⋯ | 614 | 537 | 555 | 343 | 413 | 215 | 259 | 142 | 214 | 165 |\n| 2013 | PROVINSI DKI JAKARTA | JAKARTA PUSAT      | GAMBIR          | PETOJO UTARA          | 1.12 | 18987 | NA | NA | NA | ⋯ | 680 | 510 | 544 | 421 | 398 | 235 | 241 | 132 | 215 | 159 |\n| 2013 | PROVINSI DKI JAKARTA | JAKARTA PUSAT      | GAMBIR          | PETOJO SELATAN        | 1.14 | 14465 | NA | NA | NA | ⋯ | 539 | 466 | 428 | 279 | 328 | 160 | 215 | 116 | 150 | 121 |\n| 2013 | PROVINSI DKI JAKARTA | JAKARTA PUSAT      | GAMBIR          | KEBON KELAPA          | 0.78 | 15890 | NA | NA | NA | ⋯ | 432 | 329 | 353 | 263 | 246 | 140 | 152 | 100 | 136 |  72 |\n| 2013 | PROVINSI DKI JAKARTA | JAKARTA PUSAT      | GAMBIR          | DURI PULO             | 0.72 | 35628 | NA | NA | NA | ⋯ | 742 | 616 | 597 | 404 | 409 | 215 | 255 | 156 | 196 | 138 |\n| 2013 | PROVINSI DKI JAKARTA | JAKARTA PUSAT      | SAWAH BESAR     | PASAR BARU            | 1.89 |  8041 | NA | NA | NA | ⋯ | 495 | 435 | 486 | 401 | 407 | 265 | 243 | 147 | 203 | 136 |\n| 2013 | PROVINSI DKI JAKARTA | JAKARTA PUSAT      | SAWAH BESAR     | KARANG ANYAR          | 0.51 | 63122 | NA | NA | NA | ⋯ | 935 | 749 | 793 | 487 | 567 | 308 | 344 | 199 | 258 | 156 |\n| 2013 | PROVINSI DKI JAKARTA | JAKARTA PUSAT      | SAWAH BESAR     | KARTINI               | 0.55 | 49862 | NA | NA | NA | ⋯ | 877 | 688 | 743 | 515 | 542 | 272 | 360 | 187 | 284 | 180 |\n| 2013 | PROVINSI DKI JAKARTA | JAKARTA PUSAT      | SAWAH BESAR     | GUNUNG SAHARI UTARA   | 1.98 |  9933 | NA | NA | NA | ⋯ | 648 | 525 | 539 | 388 | 458 | 240 | 289 | 184 | 203 | 168 |\n| 2013 | PROVINSI DKI JAKARTA | JAKARTA PUSAT      | SAWAH BESAR     | MANGGA DUA SELATAN    | 1.29 | 26203 | NA | NA | NA | ⋯ | 969 | 799 | 729 | 528 | 498 | 310 | 316 | 188 | 252 | 157 |\n| 2013 | PROVINSI DKI JAKARTA | JAKARTA PUSAT      | KEMAYORAN       | KEMAYORAN             | 0.55 | 44202 | NA | NA | NA | ⋯ | 696 | 601 | 608 | 410 | 414 | 191 | 262 | 163 | 199 | 140 |\n| 2013 | PROVINSI DKI JAKARTA | JAKARTA PUSAT      | KEMAYORAN       | KEBON KOSONG          | 1.13 | 28014 | NA | NA | NA | ⋯ | 837 | 650 | 685 | 448 | 448 | 271 | 259 | 186 | 179 |  98 |\n| 2013 | PROVINSI DKI JAKARTA | JAKARTA PUSAT      | KEMAYORAN       | HARAPAN MULIA         | 0.91 | 29205 | NA | NA | NA | ⋯ | 737 | 584 | 619 | 346 | 365 | 218 | 267 | 147 | 171 | 100 |\n| 2013 | PROVINSI DKI JAKARTA | JAKARTA PUSAT      | KEMAYORAN       | SERDANG               | 0.82 | 41837 | NA | NA | NA | ⋯ | 901 | 627 | 650 | 418 | 521 | 279 | 358 | 289 | 294 | 180 |\n| 2013 | PROVINSI DKI JAKARTA | JAKARTA PUSAT      | KEMAYORAN       | GUNUNG SAHARI SELATAN | 0.53 | 43858 | NA | NA | NA | ⋯ | 717 | 602 | 585 | 396 | 460 | 282 | 273 | 169 | 192 | 130 |\n| 2013 | PROVINSI DKI JAKARTA | JAKARTA PUSAT      | KEMAYORAN       | CEMPAKA BARU          | 0.99 | 38088 | NA | NA | NA | ⋯ | 983 | 755 | 770 | 498 | 571 | 318 | 462 | 306 | 284 | 180 |\n| 2013 | PROVINSI DKI JAKARTA | JAKARTA PUSAT      | KEMAYORAN       | SUMUR BATU            | 1.15 | 23271 | NA | NA | NA | ⋯ | 689 | 549 | 636 | 383 | 465 | 279 | 309 | 227 | 205 | 113 |\n| 2013 | PROVINSI DKI JAKARTA | JAKARTA PUSAT      | KEMAYORAN       | UTAN PANJANG          | 1.05 | 31889 | NA | NA | NA | ⋯ | 912 | 731 | 719 | 424 | 395 | 197 | 295 | 179 | 209 | 133 |\n| 2013 | PROVINSI DKI JAKARTA | JAKARTA PUSAT      | SENEN           | SENEN                 | 0.81 | 10158 | NA | NA | NA | ⋯ | 224 | 207 | 184 | 152 | 126 |  84 |  73 |  40 |  50 |  31 |\n| 2013 | PROVINSI DKI JAKARTA | JAKARTA PUSAT      | SENEN           | KENARI                | 0.91 | 11757 | NA | NA | NA | ⋯ | 339 | 288 | 271 | 191 | 200 |  96 | 122 |  76 |  88 |  61 |\n| 2013 | PROVINSI DKI JAKARTA | JAKARTA PUSAT      | SENEN           | PASEBAN               | 0.71 | 38400 | NA | NA | NA | ⋯ | 914 | 697 | 666 | 436 | 428 | 203 | 264 | 142 | 169 | 121 |\n| 2013 | PROVINSI DKI JAKARTA | JAKARTA PUSAT      | SENEN           | KRAMAT                | 0.71 | 47630 | NA | NA | NA | ⋯ | 949 | 777 | 760 | 483 | 479 | 272 | 344 | 193 | 234 | 156 |\n| 2013 | PROVINSI DKI JAKARTA | JAKARTA PUSAT      | SENEN           | KWITANG               | 0.45 | 40724 | NA | NA | NA | ⋯ | 587 | 459 | 459 | 310 | 371 | 157 | 192 | 105 | 153 |  95 |\n| ⋮ | ⋮ | ⋮ | ⋮ | ⋮ | ⋮ | ⋮ | ⋮ | ⋮ | ⋮ | ⋱ | ⋮ | ⋮ | ⋮ | ⋮ | ⋮ | ⋮ | ⋮ | ⋮ | ⋮ | ⋮ |\n| 2013 | PROVINSI DKI JAKARTA | JAKARTA TIMUR | CAKUNG      | PENGGILINGAN          |  4.48 | 22483 | NA | NA | NA | ⋯ | 2063 | 1920 | 1365 |  991 | 606 | 446 | 339 | 260 | 192 | 208 |\n| 2013 | PROVINSI DKI JAKARTA | JAKARTA TIMUR | CAKUNG      | CAKUNG TIMUR          |  9.81 |  6464 | NA | NA | NA | ⋯ | 1252 | 1129 |  832 |  558 | 339 | 269 | 183 | 168 | 102 |  97 |\n| 2013 | PROVINSI DKI JAKARTA | JAKARTA TIMUR | CAKUNG      | PULO GEBANG           |  6.86 | 13716 | NA | NA | NA | ⋯ | 2134 | 1992 | 1476 | 1170 | 645 | 507 | 423 | 280 | 195 | 232 |\n| 2013 | PROVINSI DKI JAKARTA | JAKARTA TIMUR | CAKUNG      | UJUNG MENTENG         |  4.43 |  6972 | NA | NA | NA | ⋯ |  631 |  586 |  388 |  300 | 194 | 181 | 114 |  91 |  63 |  70 |\n| 2013 | PROVINSI DKI JAKARTA | JAKARTA TIMUR | CAKUNG      | CAKUNG BARAT          |  6.19 | 10030 | NA | NA | NA | ⋯ |  917 |  821 |  543 |  406 | 253 | 218 | 139 | 138 |  98 |  97 |\n| 2013 | PROVINSI DKI JAKARTA | JAKARTA TIMUR | DUREN SAWIT | DUREN SAWIT           |  4.58 | 14100 | NA | NA | NA | ⋯ | 1383 | 1480 | 1077 | 1069 | 646 | 625 | 428 | 352 | 235 | 268 |\n| 2013 | PROVINSI DKI JAKARTA | JAKARTA TIMUR | DUREN SAWIT | PONDOK BAMBU          |  5.00 | 13285 | NA | NA | NA | ⋯ | 1338 | 1560 | 1145 |  997 | 675 | 625 | 414 | 327 | 234 | 245 |\n| 2013 | PROVINSI DKI JAKARTA | JAKARTA TIMUR | DUREN SAWIT | KLENDER               |  3.08 | 25456 | NA | NA | NA | ⋯ | 1636 | 1620 | 1127 | 1050 | 657 | 561 | 443 | 401 | 200 | 278 |\n| 2013 | PROVINSI DKI JAKARTA | JAKARTA TIMUR | DUREN SAWIT | PONDOK KELAPA         |  5.72 | 12673 | NA | NA | NA | ⋯ | 1690 | 1783 | 1363 | 1157 | 735 | 605 | 458 | 344 | 221 | 299 |\n| 2013 | PROVINSI DKI JAKARTA | JAKARTA TIMUR | DUREN SAWIT | MALAKA SARI           |  1.38 | 23592 | NA | NA | NA | ⋯ |  647 |  847 |  527 |  755 | 495 | 471 | 370 | 280 | 178 | 161 |\n| 2013 | PROVINSI DKI JAKARTA | JAKARTA TIMUR | DUREN SAWIT | MALAKA JAYA           |  0.99 | 36535 | NA | NA | NA | ⋯ |  611 |  840 |  496 |  818 | 531 | 583 | 441 | 326 | 197 | 213 |\n| 2013 | PROVINSI DKI JAKARTA | JAKARTA TIMUR | DUREN SAWIT | PONDOK KOPI           |  2.06 | 18136 | NA | NA | NA | ⋯ |  868 |  907 |  629 |  592 | 329 | 270 | 184 | 167 | 102 | 123 |\n| 2013 | PROVINSI DKI JAKARTA | JAKARTA TIMUR | MAKASAR     | MAKASAR               |  1.85 | 20695 | NA | NA | NA | ⋯ |  866 |  879 |  632 |  574 | 337 | 284 | 211 | 176 | 111 | 146 |\n| 2013 | PROVINSI DKI JAKARTA | JAKARTA TIMUR | MAKASAR     | PINANG RANTI          |  1.89 | 14793 | NA | NA | NA | ⋯ |  588 |  530 |  383 |  316 | 170 | 164 | 116 |  95 |  55 |  66 |\n| 2013 | PROVINSI DKI JAKARTA | JAKARTA TIMUR | MAKASAR     | KEBON PALA            |  2.30 | 22647 | NA | NA | NA | ⋯ | 1017 | 1108 |  812 |  723 | 427 | 377 | 264 | 217 | 160 | 156 |\n| 2013 | PROVINSI DKI JAKARTA | JAKARTA TIMUR | MAKASAR     | HALIM PERDANA KUSUMAH | 13.07 |  2546 | NA | NA | NA | ⋯ |  642 |  461 |  275 |  284 | 156 | 177 | 115 |  89 |  55 |  63 |\n| 2013 | PROVINSI DKI JAKARTA | JAKARTA TIMUR | MAKASAR     | CIPINANG MELAYU       |  2.53 | 18551 | NA | NA | NA | ⋯ | 1106 | 1095 |  750 |  701 | 424 | 392 | 306 | 267 | 216 | 227 |\n| 2013 | PROVINSI DKI JAKARTA | JAKARTA TIMUR | CIRACAS     | CIRACAS               |  3.93 | 17648 | NA | NA | NA | ⋯ | 1468 | 1511 | 1033 |  714 | 413 | 330 | 203 | 207 | 117 | 147 |\n| 2013 | PROVINSI DKI JAKARTA | JAKARTA TIMUR | CIRACAS     | CIBUBUR               |  4.50 | 15686 | NA | NA | NA | ⋯ | 1497 | 1564 | 1033 |  972 | 560 | 522 | 453 | 294 | 185 | 250 |\n| 2013 | PROVINSI DKI JAKARTA | JAKARTA TIMUR | CIRACAS     | KELAPA DUA WETAN      |  3.37 | 14203 | NA | NA | NA | ⋯ | 1149 | 1152 |  787 |  606 | 328 | 315 | 221 | 163 | 116 | 153 |\n| 2013 | PROVINSI DKI JAKARTA | JAKARTA TIMUR | CIRACAS     | SUSUKAN               |  2.19 | 19019 | NA | NA | NA | ⋯ |  828 |  816 |  606 |  481 | 258 | 263 | 178 | 128 |  83 | 104 |\n| 2013 | PROVINSI DKI JAKARTA | JAKARTA TIMUR | CIRACAS     | RAMBUTAN              |  2.09 | 19324 | NA | NA | NA | ⋯ |  782 |  807 |  539 |  493 | 301 | 233 | 164 | 119 | 103 | 120 |\n| 2013 | PROVINSI DKI JAKARTA | JAKARTA TIMUR | CIPAYUNG    | CIPAYUNG              |  3.08 |  8441 | NA | NA | NA | ⋯ |  539 |  469 |  374 |  278 | 164 | 177 | 112 | 101 |  61 | 110 |\n| 2013 | PROVINSI DKI JAKARTA | JAKARTA TIMUR | CIPAYUNG    | CILANGKAP             |  6.03 |  4396 | NA | NA | NA | ⋯ |  452 |  397 |  267 |  235 | 161 | 133 |  77 |  90 |  52 |  62 |\n| 2013 | PROVINSI DKI JAKARTA | JAKARTA TIMUR | CIPAYUNG    | PONDOK RANGGON        |  3.66 |  6772 | NA | NA | NA | ⋯ |  453 |  391 |  271 |  227 | 131 | 109 |  80 | 105 |  42 |  82 |\n| 2013 | PROVINSI DKI JAKARTA | JAKARTA TIMUR | CIPAYUNG    | MUNJUL                |  1.90 | 12734 | NA | NA | NA | ⋯ |  482 |  482 |  302 |  291 | 173 | 137 | 118 |  94 |  52 |  51 |\n| 2013 | PROVINSI DKI JAKARTA | JAKARTA TIMUR | CIPAYUNG    | SETU                  |  3.25 |  6028 | NA | NA | NA | ⋯ |  392 |  354 |  254 |  211 | 124 | 115 |  64 |  83 |  59 |  64 |\n| 2013 | PROVINSI DKI JAKARTA | JAKARTA TIMUR | CIPAYUNG    | BAMBU APUS            |  3.17 |  8400 | NA | NA | NA | ⋯ |  596 |  476 |  377 |  250 | 169 | 179 | 108 |  96 |  70 |  84 |\n| 2013 | PROVINSI DKI JAKARTA | JAKARTA TIMUR | CIPAYUNG    | LUBANG BUAYA          |  3.72 | 18055 | NA | NA | NA | ⋯ | 1376 | 1308 |  959 |  739 | 393 | 385 | 293 | 291 | 160 | 165 |\n| 2013 | PROVINSI DKI JAKARTA | JAKARTA TIMUR | CIPAYUNG    | CEGER                 |  3.63 |  5492 | NA | NA | NA | ⋯ |  416 |  390 |  279 |  214 | 110 | 153 | 101 |  53 |  45 |  44 |\n\n",
            "text/latex": "A data.frame: 267 × 37\n\\begin{tabular}{lllllllllllllllllllll}\n TAHUN & NAMA.PROVINSI & NAMA.KABUPATEN.KOTA & NAMA.KECAMATAN & NAMA.KELURAHAN & LUAS.WILAYAH..KM2. & KEPADATAN..JIWA.KM2. & X & X.1 & X.2 & ⋯ & X55.59.Laki.Laki & X55.59.Perempuan & X60.64.Laki.Laki & X60.64.Perempuan & X65.69.Laki.Laki & X65.69.Perempuan & X70.74.Laki.Laki & X70.74.Perempuan & X.75.Laki.Laki & X.75..Perempuan\\\\\n <int> & <chr> & <chr> & <chr> & <chr> & <dbl> & <int> & <lgl> & <lgl> & <lgl> & ⋯ & <int> & <int> & <int> & <int> & <int> & <int> & <int> & <int> & <int> & <int>\\\\\n\\hline\n\t 2013 & PROVINSI DKI JAKARTA & KAB.ADM.KEP.SERIBU & KEP. SERIBU UTR & P. PANGGANG           & 0.91 &  6779 & NA & NA & NA & ⋯ &  98 & 106 &  72 &  65 &  36 &  33 &  33 &  20 &  13 &  27\\\\\n\t 2013 & PROVINSI DKI JAKARTA & KAB.ADM.KEP.SERIBU & KEP. SERIBU UTR & P. KELAPA             & 3.76 &  1705 & NA & NA & NA & ⋯ &  30 &  39 &  29 &  24 &  12 &  21 &  13 &   5 &   5 &   8\\\\\n\t 2013 & PROVINSI DKI JAKARTA & KAB.ADM.KEP.SERIBU & KEP. SERIBU UTR & P. HARAPAN            & 3.59 &   628 & NA & NA & NA & ⋯ & 139 & 101 &  73 &  56 &  18 &  35 &  24 &  25 &  18 &  26\\\\\n\t 2013 & PROVINSI DKI JAKARTA & KAB.ADM.KEP.SERIBU & KEP. SERIBU SLT & P. UNTUNG JAWA        & 0.59 &  3625 & NA & NA & NA & ⋯ &  97 &  83 &  58 &  56 &  40 &  54 &  26 &  27 &  16 &  13\\\\\n\t 2013 & PROVINSI DKI JAKARTA & KAB.ADM.KEP.SERIBU & KEP. SERIBU SLT & P. TIDUNG             & 1.57 &  3084 & NA & NA & NA & ⋯ &  37 &  32 &  22 &  13 &  18 &  15 &  10 &  18 &  11 &  17\\\\\n\t 2013 & PROVINSI DKI JAKARTA & KAB.ADM.KEP.SERIBU & KEP. SERIBU SLT & P. PARI               & 1.39 &  1968 & NA & NA & NA & ⋯ &  37 &  36 &  32 &  26 &  21 &  14 &  17 &  11 &   8 &   7\\\\\n\t 2013 & PROVINSI DKI JAKARTA & JAKARTA PUSAT      & GAMBIR          & GAMBIR                & 2.58 &  1350 & NA & NA & NA & ⋯ & 108 &  90 &  88 &  42 &  68 &  34 &  37 &  32 &  34 &  23\\\\\n\t 2013 & PROVINSI DKI JAKARTA & JAKARTA PUSAT      & GAMBIR          & CIDENG                & 1.26 & 14584 & NA & NA & NA & ⋯ & 614 & 537 & 555 & 343 & 413 & 215 & 259 & 142 & 214 & 165\\\\\n\t 2013 & PROVINSI DKI JAKARTA & JAKARTA PUSAT      & GAMBIR          & PETOJO UTARA          & 1.12 & 18987 & NA & NA & NA & ⋯ & 680 & 510 & 544 & 421 & 398 & 235 & 241 & 132 & 215 & 159\\\\\n\t 2013 & PROVINSI DKI JAKARTA & JAKARTA PUSAT      & GAMBIR          & PETOJO SELATAN        & 1.14 & 14465 & NA & NA & NA & ⋯ & 539 & 466 & 428 & 279 & 328 & 160 & 215 & 116 & 150 & 121\\\\\n\t 2013 & PROVINSI DKI JAKARTA & JAKARTA PUSAT      & GAMBIR          & KEBON KELAPA          & 0.78 & 15890 & NA & NA & NA & ⋯ & 432 & 329 & 353 & 263 & 246 & 140 & 152 & 100 & 136 &  72\\\\\n\t 2013 & PROVINSI DKI JAKARTA & JAKARTA PUSAT      & GAMBIR          & DURI PULO             & 0.72 & 35628 & NA & NA & NA & ⋯ & 742 & 616 & 597 & 404 & 409 & 215 & 255 & 156 & 196 & 138\\\\\n\t 2013 & PROVINSI DKI JAKARTA & JAKARTA PUSAT      & SAWAH BESAR     & PASAR BARU            & 1.89 &  8041 & NA & NA & NA & ⋯ & 495 & 435 & 486 & 401 & 407 & 265 & 243 & 147 & 203 & 136\\\\\n\t 2013 & PROVINSI DKI JAKARTA & JAKARTA PUSAT      & SAWAH BESAR     & KARANG ANYAR          & 0.51 & 63122 & NA & NA & NA & ⋯ & 935 & 749 & 793 & 487 & 567 & 308 & 344 & 199 & 258 & 156\\\\\n\t 2013 & PROVINSI DKI JAKARTA & JAKARTA PUSAT      & SAWAH BESAR     & KARTINI               & 0.55 & 49862 & NA & NA & NA & ⋯ & 877 & 688 & 743 & 515 & 542 & 272 & 360 & 187 & 284 & 180\\\\\n\t 2013 & PROVINSI DKI JAKARTA & JAKARTA PUSAT      & SAWAH BESAR     & GUNUNG SAHARI UTARA   & 1.98 &  9933 & NA & NA & NA & ⋯ & 648 & 525 & 539 & 388 & 458 & 240 & 289 & 184 & 203 & 168\\\\\n\t 2013 & PROVINSI DKI JAKARTA & JAKARTA PUSAT      & SAWAH BESAR     & MANGGA DUA SELATAN    & 1.29 & 26203 & NA & NA & NA & ⋯ & 969 & 799 & 729 & 528 & 498 & 310 & 316 & 188 & 252 & 157\\\\\n\t 2013 & PROVINSI DKI JAKARTA & JAKARTA PUSAT      & KEMAYORAN       & KEMAYORAN             & 0.55 & 44202 & NA & NA & NA & ⋯ & 696 & 601 & 608 & 410 & 414 & 191 & 262 & 163 & 199 & 140\\\\\n\t 2013 & PROVINSI DKI JAKARTA & JAKARTA PUSAT      & KEMAYORAN       & KEBON KOSONG          & 1.13 & 28014 & NA & NA & NA & ⋯ & 837 & 650 & 685 & 448 & 448 & 271 & 259 & 186 & 179 &  98\\\\\n\t 2013 & PROVINSI DKI JAKARTA & JAKARTA PUSAT      & KEMAYORAN       & HARAPAN MULIA         & 0.91 & 29205 & NA & NA & NA & ⋯ & 737 & 584 & 619 & 346 & 365 & 218 & 267 & 147 & 171 & 100\\\\\n\t 2013 & PROVINSI DKI JAKARTA & JAKARTA PUSAT      & KEMAYORAN       & SERDANG               & 0.82 & 41837 & NA & NA & NA & ⋯ & 901 & 627 & 650 & 418 & 521 & 279 & 358 & 289 & 294 & 180\\\\\n\t 2013 & PROVINSI DKI JAKARTA & JAKARTA PUSAT      & KEMAYORAN       & GUNUNG SAHARI SELATAN & 0.53 & 43858 & NA & NA & NA & ⋯ & 717 & 602 & 585 & 396 & 460 & 282 & 273 & 169 & 192 & 130\\\\\n\t 2013 & PROVINSI DKI JAKARTA & JAKARTA PUSAT      & KEMAYORAN       & CEMPAKA BARU          & 0.99 & 38088 & NA & NA & NA & ⋯ & 983 & 755 & 770 & 498 & 571 & 318 & 462 & 306 & 284 & 180\\\\\n\t 2013 & PROVINSI DKI JAKARTA & JAKARTA PUSAT      & KEMAYORAN       & SUMUR BATU            & 1.15 & 23271 & NA & NA & NA & ⋯ & 689 & 549 & 636 & 383 & 465 & 279 & 309 & 227 & 205 & 113\\\\\n\t 2013 & PROVINSI DKI JAKARTA & JAKARTA PUSAT      & KEMAYORAN       & UTAN PANJANG          & 1.05 & 31889 & NA & NA & NA & ⋯ & 912 & 731 & 719 & 424 & 395 & 197 & 295 & 179 & 209 & 133\\\\\n\t 2013 & PROVINSI DKI JAKARTA & JAKARTA PUSAT      & SENEN           & SENEN                 & 0.81 & 10158 & NA & NA & NA & ⋯ & 224 & 207 & 184 & 152 & 126 &  84 &  73 &  40 &  50 &  31\\\\\n\t 2013 & PROVINSI DKI JAKARTA & JAKARTA PUSAT      & SENEN           & KENARI                & 0.91 & 11757 & NA & NA & NA & ⋯ & 339 & 288 & 271 & 191 & 200 &  96 & 122 &  76 &  88 &  61\\\\\n\t 2013 & PROVINSI DKI JAKARTA & JAKARTA PUSAT      & SENEN           & PASEBAN               & 0.71 & 38400 & NA & NA & NA & ⋯ & 914 & 697 & 666 & 436 & 428 & 203 & 264 & 142 & 169 & 121\\\\\n\t 2013 & PROVINSI DKI JAKARTA & JAKARTA PUSAT      & SENEN           & KRAMAT                & 0.71 & 47630 & NA & NA & NA & ⋯ & 949 & 777 & 760 & 483 & 479 & 272 & 344 & 193 & 234 & 156\\\\\n\t 2013 & PROVINSI DKI JAKARTA & JAKARTA PUSAT      & SENEN           & KWITANG               & 0.45 & 40724 & NA & NA & NA & ⋯ & 587 & 459 & 459 & 310 & 371 & 157 & 192 & 105 & 153 &  95\\\\\n\t ⋮ & ⋮ & ⋮ & ⋮ & ⋮ & ⋮ & ⋮ & ⋮ & ⋮ & ⋮ & ⋱ & ⋮ & ⋮ & ⋮ & ⋮ & ⋮ & ⋮ & ⋮ & ⋮ & ⋮ & ⋮\\\\\n\t 2013 & PROVINSI DKI JAKARTA & JAKARTA TIMUR & CAKUNG      & PENGGILINGAN          &  4.48 & 22483 & NA & NA & NA & ⋯ & 2063 & 1920 & 1365 &  991 & 606 & 446 & 339 & 260 & 192 & 208\\\\\n\t 2013 & PROVINSI DKI JAKARTA & JAKARTA TIMUR & CAKUNG      & CAKUNG TIMUR          &  9.81 &  6464 & NA & NA & NA & ⋯ & 1252 & 1129 &  832 &  558 & 339 & 269 & 183 & 168 & 102 &  97\\\\\n\t 2013 & PROVINSI DKI JAKARTA & JAKARTA TIMUR & CAKUNG      & PULO GEBANG           &  6.86 & 13716 & NA & NA & NA & ⋯ & 2134 & 1992 & 1476 & 1170 & 645 & 507 & 423 & 280 & 195 & 232\\\\\n\t 2013 & PROVINSI DKI JAKARTA & JAKARTA TIMUR & CAKUNG      & UJUNG MENTENG         &  4.43 &  6972 & NA & NA & NA & ⋯ &  631 &  586 &  388 &  300 & 194 & 181 & 114 &  91 &  63 &  70\\\\\n\t 2013 & PROVINSI DKI JAKARTA & JAKARTA TIMUR & CAKUNG      & CAKUNG BARAT          &  6.19 & 10030 & NA & NA & NA & ⋯ &  917 &  821 &  543 &  406 & 253 & 218 & 139 & 138 &  98 &  97\\\\\n\t 2013 & PROVINSI DKI JAKARTA & JAKARTA TIMUR & DUREN SAWIT & DUREN SAWIT           &  4.58 & 14100 & NA & NA & NA & ⋯ & 1383 & 1480 & 1077 & 1069 & 646 & 625 & 428 & 352 & 235 & 268\\\\\n\t 2013 & PROVINSI DKI JAKARTA & JAKARTA TIMUR & DUREN SAWIT & PONDOK BAMBU          &  5.00 & 13285 & NA & NA & NA & ⋯ & 1338 & 1560 & 1145 &  997 & 675 & 625 & 414 & 327 & 234 & 245\\\\\n\t 2013 & PROVINSI DKI JAKARTA & JAKARTA TIMUR & DUREN SAWIT & KLENDER               &  3.08 & 25456 & NA & NA & NA & ⋯ & 1636 & 1620 & 1127 & 1050 & 657 & 561 & 443 & 401 & 200 & 278\\\\\n\t 2013 & PROVINSI DKI JAKARTA & JAKARTA TIMUR & DUREN SAWIT & PONDOK KELAPA         &  5.72 & 12673 & NA & NA & NA & ⋯ & 1690 & 1783 & 1363 & 1157 & 735 & 605 & 458 & 344 & 221 & 299\\\\\n\t 2013 & PROVINSI DKI JAKARTA & JAKARTA TIMUR & DUREN SAWIT & MALAKA SARI           &  1.38 & 23592 & NA & NA & NA & ⋯ &  647 &  847 &  527 &  755 & 495 & 471 & 370 & 280 & 178 & 161\\\\\n\t 2013 & PROVINSI DKI JAKARTA & JAKARTA TIMUR & DUREN SAWIT & MALAKA JAYA           &  0.99 & 36535 & NA & NA & NA & ⋯ &  611 &  840 &  496 &  818 & 531 & 583 & 441 & 326 & 197 & 213\\\\\n\t 2013 & PROVINSI DKI JAKARTA & JAKARTA TIMUR & DUREN SAWIT & PONDOK KOPI           &  2.06 & 18136 & NA & NA & NA & ⋯ &  868 &  907 &  629 &  592 & 329 & 270 & 184 & 167 & 102 & 123\\\\\n\t 2013 & PROVINSI DKI JAKARTA & JAKARTA TIMUR & MAKASAR     & MAKASAR               &  1.85 & 20695 & NA & NA & NA & ⋯ &  866 &  879 &  632 &  574 & 337 & 284 & 211 & 176 & 111 & 146\\\\\n\t 2013 & PROVINSI DKI JAKARTA & JAKARTA TIMUR & MAKASAR     & PINANG RANTI          &  1.89 & 14793 & NA & NA & NA & ⋯ &  588 &  530 &  383 &  316 & 170 & 164 & 116 &  95 &  55 &  66\\\\\n\t 2013 & PROVINSI DKI JAKARTA & JAKARTA TIMUR & MAKASAR     & KEBON PALA            &  2.30 & 22647 & NA & NA & NA & ⋯ & 1017 & 1108 &  812 &  723 & 427 & 377 & 264 & 217 & 160 & 156\\\\\n\t 2013 & PROVINSI DKI JAKARTA & JAKARTA TIMUR & MAKASAR     & HALIM PERDANA KUSUMAH & 13.07 &  2546 & NA & NA & NA & ⋯ &  642 &  461 &  275 &  284 & 156 & 177 & 115 &  89 &  55 &  63\\\\\n\t 2013 & PROVINSI DKI JAKARTA & JAKARTA TIMUR & MAKASAR     & CIPINANG MELAYU       &  2.53 & 18551 & NA & NA & NA & ⋯ & 1106 & 1095 &  750 &  701 & 424 & 392 & 306 & 267 & 216 & 227\\\\\n\t 2013 & PROVINSI DKI JAKARTA & JAKARTA TIMUR & CIRACAS     & CIRACAS               &  3.93 & 17648 & NA & NA & NA & ⋯ & 1468 & 1511 & 1033 &  714 & 413 & 330 & 203 & 207 & 117 & 147\\\\\n\t 2013 & PROVINSI DKI JAKARTA & JAKARTA TIMUR & CIRACAS     & CIBUBUR               &  4.50 & 15686 & NA & NA & NA & ⋯ & 1497 & 1564 & 1033 &  972 & 560 & 522 & 453 & 294 & 185 & 250\\\\\n\t 2013 & PROVINSI DKI JAKARTA & JAKARTA TIMUR & CIRACAS     & KELAPA DUA WETAN      &  3.37 & 14203 & NA & NA & NA & ⋯ & 1149 & 1152 &  787 &  606 & 328 & 315 & 221 & 163 & 116 & 153\\\\\n\t 2013 & PROVINSI DKI JAKARTA & JAKARTA TIMUR & CIRACAS     & SUSUKAN               &  2.19 & 19019 & NA & NA & NA & ⋯ &  828 &  816 &  606 &  481 & 258 & 263 & 178 & 128 &  83 & 104\\\\\n\t 2013 & PROVINSI DKI JAKARTA & JAKARTA TIMUR & CIRACAS     & RAMBUTAN              &  2.09 & 19324 & NA & NA & NA & ⋯ &  782 &  807 &  539 &  493 & 301 & 233 & 164 & 119 & 103 & 120\\\\\n\t 2013 & PROVINSI DKI JAKARTA & JAKARTA TIMUR & CIPAYUNG    & CIPAYUNG              &  3.08 &  8441 & NA & NA & NA & ⋯ &  539 &  469 &  374 &  278 & 164 & 177 & 112 & 101 &  61 & 110\\\\\n\t 2013 & PROVINSI DKI JAKARTA & JAKARTA TIMUR & CIPAYUNG    & CILANGKAP             &  6.03 &  4396 & NA & NA & NA & ⋯ &  452 &  397 &  267 &  235 & 161 & 133 &  77 &  90 &  52 &  62\\\\\n\t 2013 & PROVINSI DKI JAKARTA & JAKARTA TIMUR & CIPAYUNG    & PONDOK RANGGON        &  3.66 &  6772 & NA & NA & NA & ⋯ &  453 &  391 &  271 &  227 & 131 & 109 &  80 & 105 &  42 &  82\\\\\n\t 2013 & PROVINSI DKI JAKARTA & JAKARTA TIMUR & CIPAYUNG    & MUNJUL                &  1.90 & 12734 & NA & NA & NA & ⋯ &  482 &  482 &  302 &  291 & 173 & 137 & 118 &  94 &  52 &  51\\\\\n\t 2013 & PROVINSI DKI JAKARTA & JAKARTA TIMUR & CIPAYUNG    & SETU                  &  3.25 &  6028 & NA & NA & NA & ⋯ &  392 &  354 &  254 &  211 & 124 & 115 &  64 &  83 &  59 &  64\\\\\n\t 2013 & PROVINSI DKI JAKARTA & JAKARTA TIMUR & CIPAYUNG    & BAMBU APUS            &  3.17 &  8400 & NA & NA & NA & ⋯ &  596 &  476 &  377 &  250 & 169 & 179 & 108 &  96 &  70 &  84\\\\\n\t 2013 & PROVINSI DKI JAKARTA & JAKARTA TIMUR & CIPAYUNG    & LUBANG BUAYA          &  3.72 & 18055 & NA & NA & NA & ⋯ & 1376 & 1308 &  959 &  739 & 393 & 385 & 293 & 291 & 160 & 165\\\\\n\t 2013 & PROVINSI DKI JAKARTA & JAKARTA TIMUR & CIPAYUNG    & CEGER                 &  3.63 &  5492 & NA & NA & NA & ⋯ &  416 &  390 &  279 &  214 & 110 & 153 & 101 &  53 &  45 &  44\\\\\n\\end{tabular}\n",
            "text/plain": [
              "    TAHUN NAMA.PROVINSI        NAMA.KABUPATEN.KOTA NAMA.KECAMATAN \n",
              "1   2013  PROVINSI DKI JAKARTA KAB.ADM.KEP.SERIBU  KEP. SERIBU UTR\n",
              "2   2013  PROVINSI DKI JAKARTA KAB.ADM.KEP.SERIBU  KEP. SERIBU UTR\n",
              "3   2013  PROVINSI DKI JAKARTA KAB.ADM.KEP.SERIBU  KEP. SERIBU UTR\n",
              "4   2013  PROVINSI DKI JAKARTA KAB.ADM.KEP.SERIBU  KEP. SERIBU SLT\n",
              "5   2013  PROVINSI DKI JAKARTA KAB.ADM.KEP.SERIBU  KEP. SERIBU SLT\n",
              "6   2013  PROVINSI DKI JAKARTA KAB.ADM.KEP.SERIBU  KEP. SERIBU SLT\n",
              "7   2013  PROVINSI DKI JAKARTA JAKARTA PUSAT       GAMBIR         \n",
              "8   2013  PROVINSI DKI JAKARTA JAKARTA PUSAT       GAMBIR         \n",
              "9   2013  PROVINSI DKI JAKARTA JAKARTA PUSAT       GAMBIR         \n",
              "10  2013  PROVINSI DKI JAKARTA JAKARTA PUSAT       GAMBIR         \n",
              "11  2013  PROVINSI DKI JAKARTA JAKARTA PUSAT       GAMBIR         \n",
              "12  2013  PROVINSI DKI JAKARTA JAKARTA PUSAT       GAMBIR         \n",
              "13  2013  PROVINSI DKI JAKARTA JAKARTA PUSAT       SAWAH BESAR    \n",
              "14  2013  PROVINSI DKI JAKARTA JAKARTA PUSAT       SAWAH BESAR    \n",
              "15  2013  PROVINSI DKI JAKARTA JAKARTA PUSAT       SAWAH BESAR    \n",
              "16  2013  PROVINSI DKI JAKARTA JAKARTA PUSAT       SAWAH BESAR    \n",
              "17  2013  PROVINSI DKI JAKARTA JAKARTA PUSAT       SAWAH BESAR    \n",
              "18  2013  PROVINSI DKI JAKARTA JAKARTA PUSAT       KEMAYORAN      \n",
              "19  2013  PROVINSI DKI JAKARTA JAKARTA PUSAT       KEMAYORAN      \n",
              "20  2013  PROVINSI DKI JAKARTA JAKARTA PUSAT       KEMAYORAN      \n",
              "21  2013  PROVINSI DKI JAKARTA JAKARTA PUSAT       KEMAYORAN      \n",
              "22  2013  PROVINSI DKI JAKARTA JAKARTA PUSAT       KEMAYORAN      \n",
              "23  2013  PROVINSI DKI JAKARTA JAKARTA PUSAT       KEMAYORAN      \n",
              "24  2013  PROVINSI DKI JAKARTA JAKARTA PUSAT       KEMAYORAN      \n",
              "25  2013  PROVINSI DKI JAKARTA JAKARTA PUSAT       KEMAYORAN      \n",
              "26  2013  PROVINSI DKI JAKARTA JAKARTA PUSAT       SENEN          \n",
              "27  2013  PROVINSI DKI JAKARTA JAKARTA PUSAT       SENEN          \n",
              "28  2013  PROVINSI DKI JAKARTA JAKARTA PUSAT       SENEN          \n",
              "29  2013  PROVINSI DKI JAKARTA JAKARTA PUSAT       SENEN          \n",
              "30  2013  PROVINSI DKI JAKARTA JAKARTA PUSAT       SENEN          \n",
              "⋮   ⋮     ⋮                    ⋮                   ⋮              \n",
              "238 2013  PROVINSI DKI JAKARTA JAKARTA TIMUR       CAKUNG         \n",
              "239 2013  PROVINSI DKI JAKARTA JAKARTA TIMUR       CAKUNG         \n",
              "240 2013  PROVINSI DKI JAKARTA JAKARTA TIMUR       CAKUNG         \n",
              "241 2013  PROVINSI DKI JAKARTA JAKARTA TIMUR       CAKUNG         \n",
              "242 2013  PROVINSI DKI JAKARTA JAKARTA TIMUR       CAKUNG         \n",
              "243 2013  PROVINSI DKI JAKARTA JAKARTA TIMUR       DUREN SAWIT    \n",
              "244 2013  PROVINSI DKI JAKARTA JAKARTA TIMUR       DUREN SAWIT    \n",
              "245 2013  PROVINSI DKI JAKARTA JAKARTA TIMUR       DUREN SAWIT    \n",
              "246 2013  PROVINSI DKI JAKARTA JAKARTA TIMUR       DUREN SAWIT    \n",
              "247 2013  PROVINSI DKI JAKARTA JAKARTA TIMUR       DUREN SAWIT    \n",
              "248 2013  PROVINSI DKI JAKARTA JAKARTA TIMUR       DUREN SAWIT    \n",
              "249 2013  PROVINSI DKI JAKARTA JAKARTA TIMUR       DUREN SAWIT    \n",
              "250 2013  PROVINSI DKI JAKARTA JAKARTA TIMUR       MAKASAR        \n",
              "251 2013  PROVINSI DKI JAKARTA JAKARTA TIMUR       MAKASAR        \n",
              "252 2013  PROVINSI DKI JAKARTA JAKARTA TIMUR       MAKASAR        \n",
              "253 2013  PROVINSI DKI JAKARTA JAKARTA TIMUR       MAKASAR        \n",
              "254 2013  PROVINSI DKI JAKARTA JAKARTA TIMUR       MAKASAR        \n",
              "255 2013  PROVINSI DKI JAKARTA JAKARTA TIMUR       CIRACAS        \n",
              "256 2013  PROVINSI DKI JAKARTA JAKARTA TIMUR       CIRACAS        \n",
              "257 2013  PROVINSI DKI JAKARTA JAKARTA TIMUR       CIRACAS        \n",
              "258 2013  PROVINSI DKI JAKARTA JAKARTA TIMUR       CIRACAS        \n",
              "259 2013  PROVINSI DKI JAKARTA JAKARTA TIMUR       CIRACAS        \n",
              "260 2013  PROVINSI DKI JAKARTA JAKARTA TIMUR       CIPAYUNG       \n",
              "261 2013  PROVINSI DKI JAKARTA JAKARTA TIMUR       CIPAYUNG       \n",
              "262 2013  PROVINSI DKI JAKARTA JAKARTA TIMUR       CIPAYUNG       \n",
              "263 2013  PROVINSI DKI JAKARTA JAKARTA TIMUR       CIPAYUNG       \n",
              "264 2013  PROVINSI DKI JAKARTA JAKARTA TIMUR       CIPAYUNG       \n",
              "265 2013  PROVINSI DKI JAKARTA JAKARTA TIMUR       CIPAYUNG       \n",
              "266 2013  PROVINSI DKI JAKARTA JAKARTA TIMUR       CIPAYUNG       \n",
              "267 2013  PROVINSI DKI JAKARTA JAKARTA TIMUR       CIPAYUNG       \n",
              "    NAMA.KELURAHAN        LUAS.WILAYAH..KM2. KEPADATAN..JIWA.KM2. X  X.1 X.2 ⋯\n",
              "1   P. PANGGANG           0.91                6779                NA NA  NA  ⋯\n",
              "2   P. KELAPA             3.76                1705                NA NA  NA  ⋯\n",
              "3   P. HARAPAN            3.59                 628                NA NA  NA  ⋯\n",
              "4   P. UNTUNG JAWA        0.59                3625                NA NA  NA  ⋯\n",
              "5   P. TIDUNG             1.57                3084                NA NA  NA  ⋯\n",
              "6   P. PARI               1.39                1968                NA NA  NA  ⋯\n",
              "7   GAMBIR                2.58                1350                NA NA  NA  ⋯\n",
              "8   CIDENG                1.26               14584                NA NA  NA  ⋯\n",
              "9   PETOJO UTARA          1.12               18987                NA NA  NA  ⋯\n",
              "10  PETOJO SELATAN        1.14               14465                NA NA  NA  ⋯\n",
              "11  KEBON KELAPA          0.78               15890                NA NA  NA  ⋯\n",
              "12  DURI PULO             0.72               35628                NA NA  NA  ⋯\n",
              "13  PASAR BARU            1.89                8041                NA NA  NA  ⋯\n",
              "14  KARANG ANYAR          0.51               63122                NA NA  NA  ⋯\n",
              "15  KARTINI               0.55               49862                NA NA  NA  ⋯\n",
              "16  GUNUNG SAHARI UTARA   1.98                9933                NA NA  NA  ⋯\n",
              "17  MANGGA DUA SELATAN    1.29               26203                NA NA  NA  ⋯\n",
              "18  KEMAYORAN             0.55               44202                NA NA  NA  ⋯\n",
              "19  KEBON KOSONG          1.13               28014                NA NA  NA  ⋯\n",
              "20  HARAPAN MULIA         0.91               29205                NA NA  NA  ⋯\n",
              "21  SERDANG               0.82               41837                NA NA  NA  ⋯\n",
              "22  GUNUNG SAHARI SELATAN 0.53               43858                NA NA  NA  ⋯\n",
              "23  CEMPAKA BARU          0.99               38088                NA NA  NA  ⋯\n",
              "24  SUMUR BATU            1.15               23271                NA NA  NA  ⋯\n",
              "25  UTAN PANJANG          1.05               31889                NA NA  NA  ⋯\n",
              "26  SENEN                 0.81               10158                NA NA  NA  ⋯\n",
              "27  KENARI                0.91               11757                NA NA  NA  ⋯\n",
              "28  PASEBAN               0.71               38400                NA NA  NA  ⋯\n",
              "29  KRAMAT                0.71               47630                NA NA  NA  ⋯\n",
              "30  KWITANG               0.45               40724                NA NA  NA  ⋯\n",
              "⋮   ⋮                     ⋮                  ⋮                    ⋮  ⋮   ⋮   ⋱\n",
              "238 PENGGILINGAN           4.48              22483                NA NA  NA  ⋯\n",
              "239 CAKUNG TIMUR           9.81               6464                NA NA  NA  ⋯\n",
              "240 PULO GEBANG            6.86              13716                NA NA  NA  ⋯\n",
              "241 UJUNG MENTENG          4.43               6972                NA NA  NA  ⋯\n",
              "242 CAKUNG BARAT           6.19              10030                NA NA  NA  ⋯\n",
              "243 DUREN SAWIT            4.58              14100                NA NA  NA  ⋯\n",
              "244 PONDOK BAMBU           5.00              13285                NA NA  NA  ⋯\n",
              "245 KLENDER                3.08              25456                NA NA  NA  ⋯\n",
              "246 PONDOK KELAPA          5.72              12673                NA NA  NA  ⋯\n",
              "247 MALAKA SARI            1.38              23592                NA NA  NA  ⋯\n",
              "248 MALAKA JAYA            0.99              36535                NA NA  NA  ⋯\n",
              "249 PONDOK KOPI            2.06              18136                NA NA  NA  ⋯\n",
              "250 MAKASAR                1.85              20695                NA NA  NA  ⋯\n",
              "251 PINANG RANTI           1.89              14793                NA NA  NA  ⋯\n",
              "252 KEBON PALA             2.30              22647                NA NA  NA  ⋯\n",
              "253 HALIM PERDANA KUSUMAH 13.07               2546                NA NA  NA  ⋯\n",
              "254 CIPINANG MELAYU        2.53              18551                NA NA  NA  ⋯\n",
              "255 CIRACAS                3.93              17648                NA NA  NA  ⋯\n",
              "256 CIBUBUR                4.50              15686                NA NA  NA  ⋯\n",
              "257 KELAPA DUA WETAN       3.37              14203                NA NA  NA  ⋯\n",
              "258 SUSUKAN                2.19              19019                NA NA  NA  ⋯\n",
              "259 RAMBUTAN               2.09              19324                NA NA  NA  ⋯\n",
              "260 CIPAYUNG               3.08               8441                NA NA  NA  ⋯\n",
              "261 CILANGKAP              6.03               4396                NA NA  NA  ⋯\n",
              "262 PONDOK RANGGON         3.66               6772                NA NA  NA  ⋯\n",
              "263 MUNJUL                 1.90              12734                NA NA  NA  ⋯\n",
              "264 SETU                   3.25               6028                NA NA  NA  ⋯\n",
              "265 BAMBU APUS             3.17               8400                NA NA  NA  ⋯\n",
              "266 LUBANG BUAYA           3.72              18055                NA NA  NA  ⋯\n",
              "267 CEGER                  3.63               5492                NA NA  NA  ⋯\n",
              "    X55.59.Laki.Laki X55.59.Perempuan X60.64.Laki.Laki X60.64.Perempuan\n",
              "1    98              106               72               65             \n",
              "2    30               39               29               24             \n",
              "3   139              101               73               56             \n",
              "4    97               83               58               56             \n",
              "5    37               32               22               13             \n",
              "6    37               36               32               26             \n",
              "7   108               90               88               42             \n",
              "8   614              537              555              343             \n",
              "9   680              510              544              421             \n",
              "10  539              466              428              279             \n",
              "11  432              329              353              263             \n",
              "12  742              616              597              404             \n",
              "13  495              435              486              401             \n",
              "14  935              749              793              487             \n",
              "15  877              688              743              515             \n",
              "16  648              525              539              388             \n",
              "17  969              799              729              528             \n",
              "18  696              601              608              410             \n",
              "19  837              650              685              448             \n",
              "20  737              584              619              346             \n",
              "21  901              627              650              418             \n",
              "22  717              602              585              396             \n",
              "23  983              755              770              498             \n",
              "24  689              549              636              383             \n",
              "25  912              731              719              424             \n",
              "26  224              207              184              152             \n",
              "27  339              288              271              191             \n",
              "28  914              697              666              436             \n",
              "29  949              777              760              483             \n",
              "30  587              459              459              310             \n",
              "⋮   ⋮                ⋮                ⋮                ⋮               \n",
              "238 2063             1920             1365              991            \n",
              "239 1252             1129              832              558            \n",
              "240 2134             1992             1476             1170            \n",
              "241  631              586              388              300            \n",
              "242  917              821              543              406            \n",
              "243 1383             1480             1077             1069            \n",
              "244 1338             1560             1145              997            \n",
              "245 1636             1620             1127             1050            \n",
              "246 1690             1783             1363             1157            \n",
              "247  647              847              527              755            \n",
              "248  611              840              496              818            \n",
              "249  868              907              629              592            \n",
              "250  866              879              632              574            \n",
              "251  588              530              383              316            \n",
              "252 1017             1108              812              723            \n",
              "253  642              461              275              284            \n",
              "254 1106             1095              750              701            \n",
              "255 1468             1511             1033              714            \n",
              "256 1497             1564             1033              972            \n",
              "257 1149             1152              787              606            \n",
              "258  828              816              606              481            \n",
              "259  782              807              539              493            \n",
              "260  539              469              374              278            \n",
              "261  452              397              267              235            \n",
              "262  453              391              271              227            \n",
              "263  482              482              302              291            \n",
              "264  392              354              254              211            \n",
              "265  596              476              377              250            \n",
              "266 1376             1308              959              739            \n",
              "267  416              390              279              214            \n",
              "    X65.69.Laki.Laki X65.69.Perempuan X70.74.Laki.Laki X70.74.Perempuan\n",
              "1    36               33               33               20             \n",
              "2    12               21               13                5             \n",
              "3    18               35               24               25             \n",
              "4    40               54               26               27             \n",
              "5    18               15               10               18             \n",
              "6    21               14               17               11             \n",
              "7    68               34               37               32             \n",
              "8   413              215              259              142             \n",
              "9   398              235              241              132             \n",
              "10  328              160              215              116             \n",
              "11  246              140              152              100             \n",
              "12  409              215              255              156             \n",
              "13  407              265              243              147             \n",
              "14  567              308              344              199             \n",
              "15  542              272              360              187             \n",
              "16  458              240              289              184             \n",
              "17  498              310              316              188             \n",
              "18  414              191              262              163             \n",
              "19  448              271              259              186             \n",
              "20  365              218              267              147             \n",
              "21  521              279              358              289             \n",
              "22  460              282              273              169             \n",
              "23  571              318              462              306             \n",
              "24  465              279              309              227             \n",
              "25  395              197              295              179             \n",
              "26  126               84               73               40             \n",
              "27  200               96              122               76             \n",
              "28  428              203              264              142             \n",
              "29  479              272              344              193             \n",
              "30  371              157              192              105             \n",
              "⋮   ⋮                ⋮                ⋮                ⋮               \n",
              "238 606              446              339              260             \n",
              "239 339              269              183              168             \n",
              "240 645              507              423              280             \n",
              "241 194              181              114               91             \n",
              "242 253              218              139              138             \n",
              "243 646              625              428              352             \n",
              "244 675              625              414              327             \n",
              "245 657              561              443              401             \n",
              "246 735              605              458              344             \n",
              "247 495              471              370              280             \n",
              "248 531              583              441              326             \n",
              "249 329              270              184              167             \n",
              "250 337              284              211              176             \n",
              "251 170              164              116               95             \n",
              "252 427              377              264              217             \n",
              "253 156              177              115               89             \n",
              "254 424              392              306              267             \n",
              "255 413              330              203              207             \n",
              "256 560              522              453              294             \n",
              "257 328              315              221              163             \n",
              "258 258              263              178              128             \n",
              "259 301              233              164              119             \n",
              "260 164              177              112              101             \n",
              "261 161              133               77               90             \n",
              "262 131              109               80              105             \n",
              "263 173              137              118               94             \n",
              "264 124              115               64               83             \n",
              "265 169              179              108               96             \n",
              "266 393              385              293              291             \n",
              "267 110              153              101               53             \n",
              "    X.75.Laki.Laki X.75..Perempuan\n",
              "1    13             27            \n",
              "2     5              8            \n",
              "3    18             26            \n",
              "4    16             13            \n",
              "5    11             17            \n",
              "6     8              7            \n",
              "7    34             23            \n",
              "8   214            165            \n",
              "9   215            159            \n",
              "10  150            121            \n",
              "11  136             72            \n",
              "12  196            138            \n",
              "13  203            136            \n",
              "14  258            156            \n",
              "15  284            180            \n",
              "16  203            168            \n",
              "17  252            157            \n",
              "18  199            140            \n",
              "19  179             98            \n",
              "20  171            100            \n",
              "21  294            180            \n",
              "22  192            130            \n",
              "23  284            180            \n",
              "24  205            113            \n",
              "25  209            133            \n",
              "26   50             31            \n",
              "27   88             61            \n",
              "28  169            121            \n",
              "29  234            156            \n",
              "30  153             95            \n",
              "⋮   ⋮              ⋮              \n",
              "238 192            208            \n",
              "239 102             97            \n",
              "240 195            232            \n",
              "241  63             70            \n",
              "242  98             97            \n",
              "243 235            268            \n",
              "244 234            245            \n",
              "245 200            278            \n",
              "246 221            299            \n",
              "247 178            161            \n",
              "248 197            213            \n",
              "249 102            123            \n",
              "250 111            146            \n",
              "251  55             66            \n",
              "252 160            156            \n",
              "253  55             63            \n",
              "254 216            227            \n",
              "255 117            147            \n",
              "256 185            250            \n",
              "257 116            153            \n",
              "258  83            104            \n",
              "259 103            120            \n",
              "260  61            110            \n",
              "261  52             62            \n",
              "262  42             82            \n",
              "263  52             51            \n",
              "264  59             64            \n",
              "265  70             84            \n",
              "266 160            165            \n",
              "267  45             44            "
            ]
          },
          "metadata": {}
        }
      ]
    },
    {
      "cell_type": "markdown",
      "source": [
        "#### [Membaca Dataset File Excel dengan read.xlsx](https://academy.dqlab.id/main/livecode/12/46/318?pr=0)"
      ],
      "metadata": {
        "id": "r1To3-Tmlg9K"
      }
    },
    {
      "cell_type": "code",
      "source": [
        "install.packages(\"openxlsx\")"
      ],
      "metadata": {
        "colab": {
          "base_uri": "https://localhost:8080/"
        },
        "id": "D4n8pP2ylkae",
        "outputId": "57c8283b-1f85-48fd-d0d3-3fb3035cee8f"
      },
      "execution_count": 30,
      "outputs": [
        {
          "output_type": "stream",
          "name": "stderr",
          "text": [
            "Installing package into ‘/usr/local/lib/R/site-library’\n",
            "(as ‘lib’ is unspecified)\n",
            "\n",
            "also installing the dependency ‘Rcpp’\n",
            "\n",
            "\n"
          ]
        }
      ]
    },
    {
      "cell_type": "code",
      "source": [
        "library(openxlsx)\n",
        "\n",
        "#Membaca dataset dengan read.xlsx dan dimasukkan ke variable penduduk.dki\n",
        "penduduk.dki.xlsx <- read.xlsx(xlsxFile=\"https://storage.googleapis.com/dqlab-dataset/dkikepadatankelurahan2013.xlsx\")\n",
        "\n",
        "str(penduduk.dki.xlsx)"
      ],
      "metadata": {
        "colab": {
          "base_uri": "https://localhost:8080/"
        },
        "id": "yCPDwiVJl3da",
        "outputId": "e6209b9b-acbf-4b4c-baa4-09b66d023032"
      },
      "execution_count": 31,
      "outputs": [
        {
          "output_type": "stream",
          "name": "stdout",
          "text": [
            "'data.frame':\t267 obs. of  25 variables:\n",
            " $ TAHUN               : num  2013 2013 2013 2013 2013 ...\n",
            " $ NAMA.PROVINSI       : chr  \"PROVINSI DKI JAKARTA\" \"PROVINSI DKI JAKARTA\" \"PROVINSI DKI JAKARTA\" \"PROVINSI DKI JAKARTA\" ...\n",
            " $ NAMA.KABUPATEN/KOTA : chr  \"KAB.ADM.KEP.SERIBU\" \"KAB.ADM.KEP.SERIBU\" \"KAB.ADM.KEP.SERIBU\" \"KAB.ADM.KEP.SERIBU\" ...\n",
            " $ NAMA.KECAMATAN      : chr  \"KEP. SERIBU UTR\" \"KEP. SERIBU UTR\" \"KEP. SERIBU UTR\" \"KEP. SERIBU SLT\" ...\n",
            " $ NAMA.KELURAHAN      : chr  \"P. PANGGANG\" \"P. KELAPA\" \"P. HARAPAN\" \"P. UNTUNG JAWA\" ...\n",
            " $ LUAS.WILAYAH.(KM2)  : num  0.91 3.76 3.59 0.59 1.57 1.39 2.58 1.26 1.12 1.14 ...\n",
            " $ KEPADATAN.(JIWA/KM2): num  6779 1705 628 3625 3084 ...\n",
            " $ 35-39.Laki-Laki     : num  231 84 255 199 98 113 166 850 954 752 ...\n",
            " $ 35-39.Perempuan     : num  235 88 238 185 75 112 174 748 920 675 ...\n",
            " $ 40-44.Laki-Laki     : num  233 99 232 178 73 108 130 749 914 691 ...\n",
            " $ 40-44.Perempuan     : num  210 88 234 176 94 80 165 798 943 691 ...\n",
            " $ 45-49.Laki-Laki     : num  171 72 212 162 67 66 176 779 871 659 ...\n",
            " $ 45-49.Perempuan     : num  158 63 193 139 69 62 162 766 823 631 ...\n",
            " $ 50-54.Laki-Laki     : num  137 34 150 100 60 61 129 715 736 611 ...\n",
            " $ 50-54.Perempuan     : num  126 29 161 119 40 63 97 662 679 514 ...\n",
            " $ 55-59.Laki-Laki     : num  98 30 139 97 37 37 108 614 680 539 ...\n",
            " $ 55-59.Perempuan     : num  106 39 101 83 32 36 90 537 510 466 ...\n",
            " $ 60-64.Laki-Laki     : num  72 29 73 58 22 32 88 555 544 428 ...\n",
            " $ 60-64.Perempuan     : num  65 24 56 56 13 26 42 343 421 279 ...\n",
            " $ 65-69.Laki-Laki     : num  36 12 18 40 18 21 68 413 398 328 ...\n",
            " $ 65-69.Perempuan     : num  33 21 35 54 15 14 34 215 235 160 ...\n",
            " $ 70-74.Laki-Laki     : num  33 13 24 26 10 17 37 259 241 215 ...\n",
            " $ 70-74.Perempuan     : num  20 5 25 27 18 11 32 142 132 116 ...\n",
            " $ >75.Laki-Laki       : num  13 5 18 16 11 8 34 214 215 150 ...\n",
            " $ >75.Perempuan       : num  27 8 26 13 17 7 23 165 159 121 ...\n"
          ]
        }
      ]
    },
    {
      "cell_type": "markdown",
      "source": [
        "## Struktur Transformasi"
      ],
      "metadata": {
        "id": "ymkJ_jvhmAwP"
      }
    },
    {
      "cell_type": "markdown",
      "source": [
        "#### [Function names](https://academy.dqlab.id/main/livecode/12/47/324?pr=0)"
      ],
      "metadata": {
        "id": "Aa4YGIb0mDgm"
      }
    },
    {
      "cell_type": "code",
      "source": [
        "#Membaca dataset csv\n",
        "penduduk.dki.csv <-read.csv(\"https://storage.googleapis.com/dqlab-dataset/dkikepadatankelurahan2013.csv\", sep=\",\")\n",
        "\n",
        "#Menggunakan names untuk variable penduduk.dki.csv\n",
        "names(penduduk.dki.csv)"
      ],
      "metadata": {
        "colab": {
          "base_uri": "https://localhost:8080/",
          "height": 104
        },
        "id": "tC7hASf4mMp5",
        "outputId": "06a5fa99-7a2f-48a5-963e-8c0e35cdacba"
      },
      "execution_count": 32,
      "outputs": [
        {
          "output_type": "display_data",
          "data": {
            "text/html": [
              "<style>\n",
              ".list-inline {list-style: none; margin:0; padding: 0}\n",
              ".list-inline>li {display: inline-block}\n",
              ".list-inline>li:not(:last-child)::after {content: \"\\00b7\"; padding: 0 .5ex}\n",
              "</style>\n",
              "<ol class=list-inline><li>'TAHUN'</li><li>'NAMA.PROVINSI'</li><li>'NAMA.KABUPATEN.KOTA'</li><li>'NAMA.KECAMATAN'</li><li>'NAMA.KELURAHAN'</li><li>'LUAS.WILAYAH..KM2.'</li><li>'KEPADATAN..JIWA.KM2.'</li><li>'X'</li><li>'X.1'</li><li>'X.2'</li><li>'X.3'</li><li>'X.4'</li><li>'X.5'</li><li>'X.6'</li><li>'X.7'</li><li>'X.8'</li><li>'X.9'</li><li>'X.10'</li><li>'X.11'</li><li>'X35.39.Laki.Laki'</li><li>'X35.39.Perempuan'</li><li>'X40.44.Laki.Laki'</li><li>'X40.44.Perempuan'</li><li>'X45.49.Laki.Laki'</li><li>'X45.49.Perempuan'</li><li>'X50.54.Laki.Laki'</li><li>'X50.54.Perempuan'</li><li>'X55.59.Laki.Laki'</li><li>'X55.59.Perempuan'</li><li>'X60.64.Laki.Laki'</li><li>'X60.64.Perempuan'</li><li>'X65.69.Laki.Laki'</li><li>'X65.69.Perempuan'</li><li>'X70.74.Laki.Laki'</li><li>'X70.74.Perempuan'</li><li>'X.75.Laki.Laki'</li><li>'X.75..Perempuan'</li></ol>\n"
            ],
            "text/markdown": "1. 'TAHUN'\n2. 'NAMA.PROVINSI'\n3. 'NAMA.KABUPATEN.KOTA'\n4. 'NAMA.KECAMATAN'\n5. 'NAMA.KELURAHAN'\n6. 'LUAS.WILAYAH..KM2.'\n7. 'KEPADATAN..JIWA.KM2.'\n8. 'X'\n9. 'X.1'\n10. 'X.2'\n11. 'X.3'\n12. 'X.4'\n13. 'X.5'\n14. 'X.6'\n15. 'X.7'\n16. 'X.8'\n17. 'X.9'\n18. 'X.10'\n19. 'X.11'\n20. 'X35.39.Laki.Laki'\n21. 'X35.39.Perempuan'\n22. 'X40.44.Laki.Laki'\n23. 'X40.44.Perempuan'\n24. 'X45.49.Laki.Laki'\n25. 'X45.49.Perempuan'\n26. 'X50.54.Laki.Laki'\n27. 'X50.54.Perempuan'\n28. 'X55.59.Laki.Laki'\n29. 'X55.59.Perempuan'\n30. 'X60.64.Laki.Laki'\n31. 'X60.64.Perempuan'\n32. 'X65.69.Laki.Laki'\n33. 'X65.69.Perempuan'\n34. 'X70.74.Laki.Laki'\n35. 'X70.74.Perempuan'\n36. 'X.75.Laki.Laki'\n37. 'X.75..Perempuan'\n\n\n",
            "text/latex": "\\begin{enumerate*}\n\\item 'TAHUN'\n\\item 'NAMA.PROVINSI'\n\\item 'NAMA.KABUPATEN.KOTA'\n\\item 'NAMA.KECAMATAN'\n\\item 'NAMA.KELURAHAN'\n\\item 'LUAS.WILAYAH..KM2.'\n\\item 'KEPADATAN..JIWA.KM2.'\n\\item 'X'\n\\item 'X.1'\n\\item 'X.2'\n\\item 'X.3'\n\\item 'X.4'\n\\item 'X.5'\n\\item 'X.6'\n\\item 'X.7'\n\\item 'X.8'\n\\item 'X.9'\n\\item 'X.10'\n\\item 'X.11'\n\\item 'X35.39.Laki.Laki'\n\\item 'X35.39.Perempuan'\n\\item 'X40.44.Laki.Laki'\n\\item 'X40.44.Perempuan'\n\\item 'X45.49.Laki.Laki'\n\\item 'X45.49.Perempuan'\n\\item 'X50.54.Laki.Laki'\n\\item 'X50.54.Perempuan'\n\\item 'X55.59.Laki.Laki'\n\\item 'X55.59.Perempuan'\n\\item 'X60.64.Laki.Laki'\n\\item 'X60.64.Perempuan'\n\\item 'X65.69.Laki.Laki'\n\\item 'X65.69.Perempuan'\n\\item 'X70.74.Laki.Laki'\n\\item 'X70.74.Perempuan'\n\\item 'X.75.Laki.Laki'\n\\item 'X.75..Perempuan'\n\\end{enumerate*}\n",
            "text/plain": [
              " [1] \"TAHUN\"                \"NAMA.PROVINSI\"        \"NAMA.KABUPATEN.KOTA\" \n",
              " [4] \"NAMA.KECAMATAN\"       \"NAMA.KELURAHAN\"       \"LUAS.WILAYAH..KM2.\"  \n",
              " [7] \"KEPADATAN..JIWA.KM2.\" \"X\"                    \"X.1\"                 \n",
              "[10] \"X.2\"                  \"X.3\"                  \"X.4\"                 \n",
              "[13] \"X.5\"                  \"X.6\"                  \"X.7\"                 \n",
              "[16] \"X.8\"                  \"X.9\"                  \"X.10\"                \n",
              "[19] \"X.11\"                 \"X35.39.Laki.Laki\"     \"X35.39.Perempuan\"    \n",
              "[22] \"X40.44.Laki.Laki\"     \"X40.44.Perempuan\"     \"X45.49.Laki.Laki\"    \n",
              "[25] \"X45.49.Perempuan\"     \"X50.54.Laki.Laki\"     \"X50.54.Perempuan\"    \n",
              "[28] \"X55.59.Laki.Laki\"     \"X55.59.Perempuan\"     \"X60.64.Laki.Laki\"    \n",
              "[31] \"X60.64.Perempuan\"     \"X65.69.Laki.Laki\"     \"X65.69.Perempuan\"    \n",
              "[34] \"X70.74.Laki.Laki\"     \"X70.74.Perempuan\"     \"X.75.Laki.Laki\"      \n",
              "[37] \"X.75..Perempuan\"     "
            ]
          },
          "metadata": {}
        }
      ]
    },
    {
      "cell_type": "markdown",
      "source": [
        "#### [Merubah Satu Nama Kolom](https://academy.dqlab.id/main/livecode/12/47/325?pr=0)"
      ],
      "metadata": {
        "id": "e7xKogi4mVHq"
      }
    },
    {
      "cell_type": "code",
      "source": [
        "names(penduduk.dki.csv)[1] <- \"PERIODE\"\n",
        "names(penduduk.dki.csv)[2] <- \"PROPINSI\"\n",
        "\n",
        "names(penduduk.dki.csv)"
      ],
      "metadata": {
        "colab": {
          "base_uri": "https://localhost:8080/",
          "height": 104
        },
        "id": "bJRFzWNpmZAS",
        "outputId": "9d3df40c-d18a-48ec-cb42-c1684bf554fb"
      },
      "execution_count": 33,
      "outputs": [
        {
          "output_type": "display_data",
          "data": {
            "text/html": [
              "<style>\n",
              ".list-inline {list-style: none; margin:0; padding: 0}\n",
              ".list-inline>li {display: inline-block}\n",
              ".list-inline>li:not(:last-child)::after {content: \"\\00b7\"; padding: 0 .5ex}\n",
              "</style>\n",
              "<ol class=list-inline><li>'PERIODE'</li><li>'PROPINSI'</li><li>'NAMA.KABUPATEN.KOTA'</li><li>'NAMA.KECAMATAN'</li><li>'NAMA.KELURAHAN'</li><li>'LUAS.WILAYAH..KM2.'</li><li>'KEPADATAN..JIWA.KM2.'</li><li>'X'</li><li>'X.1'</li><li>'X.2'</li><li>'X.3'</li><li>'X.4'</li><li>'X.5'</li><li>'X.6'</li><li>'X.7'</li><li>'X.8'</li><li>'X.9'</li><li>'X.10'</li><li>'X.11'</li><li>'X35.39.Laki.Laki'</li><li>'X35.39.Perempuan'</li><li>'X40.44.Laki.Laki'</li><li>'X40.44.Perempuan'</li><li>'X45.49.Laki.Laki'</li><li>'X45.49.Perempuan'</li><li>'X50.54.Laki.Laki'</li><li>'X50.54.Perempuan'</li><li>'X55.59.Laki.Laki'</li><li>'X55.59.Perempuan'</li><li>'X60.64.Laki.Laki'</li><li>'X60.64.Perempuan'</li><li>'X65.69.Laki.Laki'</li><li>'X65.69.Perempuan'</li><li>'X70.74.Laki.Laki'</li><li>'X70.74.Perempuan'</li><li>'X.75.Laki.Laki'</li><li>'X.75..Perempuan'</li></ol>\n"
            ],
            "text/markdown": "1. 'PERIODE'\n2. 'PROPINSI'\n3. 'NAMA.KABUPATEN.KOTA'\n4. 'NAMA.KECAMATAN'\n5. 'NAMA.KELURAHAN'\n6. 'LUAS.WILAYAH..KM2.'\n7. 'KEPADATAN..JIWA.KM2.'\n8. 'X'\n9. 'X.1'\n10. 'X.2'\n11. 'X.3'\n12. 'X.4'\n13. 'X.5'\n14. 'X.6'\n15. 'X.7'\n16. 'X.8'\n17. 'X.9'\n18. 'X.10'\n19. 'X.11'\n20. 'X35.39.Laki.Laki'\n21. 'X35.39.Perempuan'\n22. 'X40.44.Laki.Laki'\n23. 'X40.44.Perempuan'\n24. 'X45.49.Laki.Laki'\n25. 'X45.49.Perempuan'\n26. 'X50.54.Laki.Laki'\n27. 'X50.54.Perempuan'\n28. 'X55.59.Laki.Laki'\n29. 'X55.59.Perempuan'\n30. 'X60.64.Laki.Laki'\n31. 'X60.64.Perempuan'\n32. 'X65.69.Laki.Laki'\n33. 'X65.69.Perempuan'\n34. 'X70.74.Laki.Laki'\n35. 'X70.74.Perempuan'\n36. 'X.75.Laki.Laki'\n37. 'X.75..Perempuan'\n\n\n",
            "text/latex": "\\begin{enumerate*}\n\\item 'PERIODE'\n\\item 'PROPINSI'\n\\item 'NAMA.KABUPATEN.KOTA'\n\\item 'NAMA.KECAMATAN'\n\\item 'NAMA.KELURAHAN'\n\\item 'LUAS.WILAYAH..KM2.'\n\\item 'KEPADATAN..JIWA.KM2.'\n\\item 'X'\n\\item 'X.1'\n\\item 'X.2'\n\\item 'X.3'\n\\item 'X.4'\n\\item 'X.5'\n\\item 'X.6'\n\\item 'X.7'\n\\item 'X.8'\n\\item 'X.9'\n\\item 'X.10'\n\\item 'X.11'\n\\item 'X35.39.Laki.Laki'\n\\item 'X35.39.Perempuan'\n\\item 'X40.44.Laki.Laki'\n\\item 'X40.44.Perempuan'\n\\item 'X45.49.Laki.Laki'\n\\item 'X45.49.Perempuan'\n\\item 'X50.54.Laki.Laki'\n\\item 'X50.54.Perempuan'\n\\item 'X55.59.Laki.Laki'\n\\item 'X55.59.Perempuan'\n\\item 'X60.64.Laki.Laki'\n\\item 'X60.64.Perempuan'\n\\item 'X65.69.Laki.Laki'\n\\item 'X65.69.Perempuan'\n\\item 'X70.74.Laki.Laki'\n\\item 'X70.74.Perempuan'\n\\item 'X.75.Laki.Laki'\n\\item 'X.75..Perempuan'\n\\end{enumerate*}\n",
            "text/plain": [
              " [1] \"PERIODE\"              \"PROPINSI\"             \"NAMA.KABUPATEN.KOTA\" \n",
              " [4] \"NAMA.KECAMATAN\"       \"NAMA.KELURAHAN\"       \"LUAS.WILAYAH..KM2.\"  \n",
              " [7] \"KEPADATAN..JIWA.KM2.\" \"X\"                    \"X.1\"                 \n",
              "[10] \"X.2\"                  \"X.3\"                  \"X.4\"                 \n",
              "[13] \"X.5\"                  \"X.6\"                  \"X.7\"                 \n",
              "[16] \"X.8\"                  \"X.9\"                  \"X.10\"                \n",
              "[19] \"X.11\"                 \"X35.39.Laki.Laki\"     \"X35.39.Perempuan\"    \n",
              "[22] \"X40.44.Laki.Laki\"     \"X40.44.Perempuan\"     \"X45.49.Laki.Laki\"    \n",
              "[25] \"X45.49.Perempuan\"     \"X50.54.Laki.Laki\"     \"X50.54.Perempuan\"    \n",
              "[28] \"X55.59.Laki.Laki\"     \"X55.59.Perempuan\"     \"X60.64.Laki.Laki\"    \n",
              "[31] \"X60.64.Perempuan\"     \"X65.69.Laki.Laki\"     \"X65.69.Perempuan\"    \n",
              "[34] \"X70.74.Laki.Laki\"     \"X70.74.Perempuan\"     \"X.75.Laki.Laki\"      \n",
              "[37] \"X.75..Perempuan\"     "
            ]
          },
          "metadata": {}
        }
      ]
    },
    {
      "cell_type": "markdown",
      "source": [
        "#### [Merubah Sejumlah Nama Kolom](https://academy.dqlab.id/main/livecode/12/47/327?pr=0)"
      ],
      "metadata": {
        "id": "zQIwoiTFm4oc"
      }
    },
    {
      "cell_type": "code",
      "source": [
        "#Membaca dataset csv\n",
        "penduduk.dki.csv <-read.csv(\"https://storage.googleapis.com/dqlab-dataset/dkikepadatankelurahan2013.csv\", sep=\",\")\n",
        "\n",
        "names(penduduk.dki.csv)[c(1:2)] <- c(\"PERIODE\", \"PROPINSI\")\n",
        "\n",
        "names(penduduk.dki.csv)"
      ],
      "metadata": {
        "colab": {
          "base_uri": "https://localhost:8080/",
          "height": 104
        },
        "id": "lKbPRvNum9XW",
        "outputId": "ff9ded28-0d7c-4673-9aa3-e4ac2cc83398"
      },
      "execution_count": 34,
      "outputs": [
        {
          "output_type": "display_data",
          "data": {
            "text/html": [
              "<style>\n",
              ".list-inline {list-style: none; margin:0; padding: 0}\n",
              ".list-inline>li {display: inline-block}\n",
              ".list-inline>li:not(:last-child)::after {content: \"\\00b7\"; padding: 0 .5ex}\n",
              "</style>\n",
              "<ol class=list-inline><li>'PERIODE'</li><li>'PROPINSI'</li><li>'NAMA.KABUPATEN.KOTA'</li><li>'NAMA.KECAMATAN'</li><li>'NAMA.KELURAHAN'</li><li>'LUAS.WILAYAH..KM2.'</li><li>'KEPADATAN..JIWA.KM2.'</li><li>'X'</li><li>'X.1'</li><li>'X.2'</li><li>'X.3'</li><li>'X.4'</li><li>'X.5'</li><li>'X.6'</li><li>'X.7'</li><li>'X.8'</li><li>'X.9'</li><li>'X.10'</li><li>'X.11'</li><li>'X35.39.Laki.Laki'</li><li>'X35.39.Perempuan'</li><li>'X40.44.Laki.Laki'</li><li>'X40.44.Perempuan'</li><li>'X45.49.Laki.Laki'</li><li>'X45.49.Perempuan'</li><li>'X50.54.Laki.Laki'</li><li>'X50.54.Perempuan'</li><li>'X55.59.Laki.Laki'</li><li>'X55.59.Perempuan'</li><li>'X60.64.Laki.Laki'</li><li>'X60.64.Perempuan'</li><li>'X65.69.Laki.Laki'</li><li>'X65.69.Perempuan'</li><li>'X70.74.Laki.Laki'</li><li>'X70.74.Perempuan'</li><li>'X.75.Laki.Laki'</li><li>'X.75..Perempuan'</li></ol>\n"
            ],
            "text/markdown": "1. 'PERIODE'\n2. 'PROPINSI'\n3. 'NAMA.KABUPATEN.KOTA'\n4. 'NAMA.KECAMATAN'\n5. 'NAMA.KELURAHAN'\n6. 'LUAS.WILAYAH..KM2.'\n7. 'KEPADATAN..JIWA.KM2.'\n8. 'X'\n9. 'X.1'\n10. 'X.2'\n11. 'X.3'\n12. 'X.4'\n13. 'X.5'\n14. 'X.6'\n15. 'X.7'\n16. 'X.8'\n17. 'X.9'\n18. 'X.10'\n19. 'X.11'\n20. 'X35.39.Laki.Laki'\n21. 'X35.39.Perempuan'\n22. 'X40.44.Laki.Laki'\n23. 'X40.44.Perempuan'\n24. 'X45.49.Laki.Laki'\n25. 'X45.49.Perempuan'\n26. 'X50.54.Laki.Laki'\n27. 'X50.54.Perempuan'\n28. 'X55.59.Laki.Laki'\n29. 'X55.59.Perempuan'\n30. 'X60.64.Laki.Laki'\n31. 'X60.64.Perempuan'\n32. 'X65.69.Laki.Laki'\n33. 'X65.69.Perempuan'\n34. 'X70.74.Laki.Laki'\n35. 'X70.74.Perempuan'\n36. 'X.75.Laki.Laki'\n37. 'X.75..Perempuan'\n\n\n",
            "text/latex": "\\begin{enumerate*}\n\\item 'PERIODE'\n\\item 'PROPINSI'\n\\item 'NAMA.KABUPATEN.KOTA'\n\\item 'NAMA.KECAMATAN'\n\\item 'NAMA.KELURAHAN'\n\\item 'LUAS.WILAYAH..KM2.'\n\\item 'KEPADATAN..JIWA.KM2.'\n\\item 'X'\n\\item 'X.1'\n\\item 'X.2'\n\\item 'X.3'\n\\item 'X.4'\n\\item 'X.5'\n\\item 'X.6'\n\\item 'X.7'\n\\item 'X.8'\n\\item 'X.9'\n\\item 'X.10'\n\\item 'X.11'\n\\item 'X35.39.Laki.Laki'\n\\item 'X35.39.Perempuan'\n\\item 'X40.44.Laki.Laki'\n\\item 'X40.44.Perempuan'\n\\item 'X45.49.Laki.Laki'\n\\item 'X45.49.Perempuan'\n\\item 'X50.54.Laki.Laki'\n\\item 'X50.54.Perempuan'\n\\item 'X55.59.Laki.Laki'\n\\item 'X55.59.Perempuan'\n\\item 'X60.64.Laki.Laki'\n\\item 'X60.64.Perempuan'\n\\item 'X65.69.Laki.Laki'\n\\item 'X65.69.Perempuan'\n\\item 'X70.74.Laki.Laki'\n\\item 'X70.74.Perempuan'\n\\item 'X.75.Laki.Laki'\n\\item 'X.75..Perempuan'\n\\end{enumerate*}\n",
            "text/plain": [
              " [1] \"PERIODE\"              \"PROPINSI\"             \"NAMA.KABUPATEN.KOTA\" \n",
              " [4] \"NAMA.KECAMATAN\"       \"NAMA.KELURAHAN\"       \"LUAS.WILAYAH..KM2.\"  \n",
              " [7] \"KEPADATAN..JIWA.KM2.\" \"X\"                    \"X.1\"                 \n",
              "[10] \"X.2\"                  \"X.3\"                  \"X.4\"                 \n",
              "[13] \"X.5\"                  \"X.6\"                  \"X.7\"                 \n",
              "[16] \"X.8\"                  \"X.9\"                  \"X.10\"                \n",
              "[19] \"X.11\"                 \"X35.39.Laki.Laki\"     \"X35.39.Perempuan\"    \n",
              "[22] \"X40.44.Laki.Laki\"     \"X40.44.Perempuan\"     \"X45.49.Laki.Laki\"    \n",
              "[25] \"X45.49.Perempuan\"     \"X50.54.Laki.Laki\"     \"X50.54.Perempuan\"    \n",
              "[28] \"X55.59.Laki.Laki\"     \"X55.59.Perempuan\"     \"X60.64.Laki.Laki\"    \n",
              "[31] \"X60.64.Perempuan\"     \"X65.69.Laki.Laki\"     \"X65.69.Perempuan\"    \n",
              "[34] \"X70.74.Laki.Laki\"     \"X70.74.Perempuan\"     \"X.75.Laki.Laki\"      \n",
              "[37] \"X.75..Perempuan\"     "
            ]
          },
          "metadata": {}
        }
      ]
    },
    {
      "cell_type": "markdown",
      "source": [
        "#### [Membuang Kolom dengan Bantuan Operator %in%](https://academy.dqlab.id/main/livecode/12/47/328?pr=0)"
      ],
      "metadata": {
        "id": "tGqBUXgpnS0c"
      }
    },
    {
      "cell_type": "code",
      "source": [
        "#Membuang kolom X, X.1, X.2 s/d X.11\n",
        "penduduk.dki.csv <- penduduk.dki.csv[,!names(penduduk.dki.csv) %in% c(\"X\", \"X.1\",\"X.2\",\"X.3\",\"X.4\",\"X.5\",\"X.6\",\"X.7\",\"X.8\",\"X.9\",\"X.10\",\"X.11\")]\n",
        "\n",
        "names(penduduk.dki.csv)"
      ],
      "metadata": {
        "colab": {
          "base_uri": "https://localhost:8080/",
          "height": 104
        },
        "id": "NIaAoIb1nV5b",
        "outputId": "1afaff8a-ddf8-45bb-c182-e3e21b4609b4"
      },
      "execution_count": 35,
      "outputs": [
        {
          "output_type": "display_data",
          "data": {
            "text/html": [
              "<style>\n",
              ".list-inline {list-style: none; margin:0; padding: 0}\n",
              ".list-inline>li {display: inline-block}\n",
              ".list-inline>li:not(:last-child)::after {content: \"\\00b7\"; padding: 0 .5ex}\n",
              "</style>\n",
              "<ol class=list-inline><li>'PERIODE'</li><li>'PROPINSI'</li><li>'NAMA.KABUPATEN.KOTA'</li><li>'NAMA.KECAMATAN'</li><li>'NAMA.KELURAHAN'</li><li>'LUAS.WILAYAH..KM2.'</li><li>'KEPADATAN..JIWA.KM2.'</li><li>'X35.39.Laki.Laki'</li><li>'X35.39.Perempuan'</li><li>'X40.44.Laki.Laki'</li><li>'X40.44.Perempuan'</li><li>'X45.49.Laki.Laki'</li><li>'X45.49.Perempuan'</li><li>'X50.54.Laki.Laki'</li><li>'X50.54.Perempuan'</li><li>'X55.59.Laki.Laki'</li><li>'X55.59.Perempuan'</li><li>'X60.64.Laki.Laki'</li><li>'X60.64.Perempuan'</li><li>'X65.69.Laki.Laki'</li><li>'X65.69.Perempuan'</li><li>'X70.74.Laki.Laki'</li><li>'X70.74.Perempuan'</li><li>'X.75.Laki.Laki'</li><li>'X.75..Perempuan'</li></ol>\n"
            ],
            "text/markdown": "1. 'PERIODE'\n2. 'PROPINSI'\n3. 'NAMA.KABUPATEN.KOTA'\n4. 'NAMA.KECAMATAN'\n5. 'NAMA.KELURAHAN'\n6. 'LUAS.WILAYAH..KM2.'\n7. 'KEPADATAN..JIWA.KM2.'\n8. 'X35.39.Laki.Laki'\n9. 'X35.39.Perempuan'\n10. 'X40.44.Laki.Laki'\n11. 'X40.44.Perempuan'\n12. 'X45.49.Laki.Laki'\n13. 'X45.49.Perempuan'\n14. 'X50.54.Laki.Laki'\n15. 'X50.54.Perempuan'\n16. 'X55.59.Laki.Laki'\n17. 'X55.59.Perempuan'\n18. 'X60.64.Laki.Laki'\n19. 'X60.64.Perempuan'\n20. 'X65.69.Laki.Laki'\n21. 'X65.69.Perempuan'\n22. 'X70.74.Laki.Laki'\n23. 'X70.74.Perempuan'\n24. 'X.75.Laki.Laki'\n25. 'X.75..Perempuan'\n\n\n",
            "text/latex": "\\begin{enumerate*}\n\\item 'PERIODE'\n\\item 'PROPINSI'\n\\item 'NAMA.KABUPATEN.KOTA'\n\\item 'NAMA.KECAMATAN'\n\\item 'NAMA.KELURAHAN'\n\\item 'LUAS.WILAYAH..KM2.'\n\\item 'KEPADATAN..JIWA.KM2.'\n\\item 'X35.39.Laki.Laki'\n\\item 'X35.39.Perempuan'\n\\item 'X40.44.Laki.Laki'\n\\item 'X40.44.Perempuan'\n\\item 'X45.49.Laki.Laki'\n\\item 'X45.49.Perempuan'\n\\item 'X50.54.Laki.Laki'\n\\item 'X50.54.Perempuan'\n\\item 'X55.59.Laki.Laki'\n\\item 'X55.59.Perempuan'\n\\item 'X60.64.Laki.Laki'\n\\item 'X60.64.Perempuan'\n\\item 'X65.69.Laki.Laki'\n\\item 'X65.69.Perempuan'\n\\item 'X70.74.Laki.Laki'\n\\item 'X70.74.Perempuan'\n\\item 'X.75.Laki.Laki'\n\\item 'X.75..Perempuan'\n\\end{enumerate*}\n",
            "text/plain": [
              " [1] \"PERIODE\"              \"PROPINSI\"             \"NAMA.KABUPATEN.KOTA\" \n",
              " [4] \"NAMA.KECAMATAN\"       \"NAMA.KELURAHAN\"       \"LUAS.WILAYAH..KM2.\"  \n",
              " [7] \"KEPADATAN..JIWA.KM2.\" \"X35.39.Laki.Laki\"     \"X35.39.Perempuan\"    \n",
              "[10] \"X40.44.Laki.Laki\"     \"X40.44.Perempuan\"     \"X45.49.Laki.Laki\"    \n",
              "[13] \"X45.49.Perempuan\"     \"X50.54.Laki.Laki\"     \"X50.54.Perempuan\"    \n",
              "[16] \"X55.59.Laki.Laki\"     \"X55.59.Perempuan\"     \"X60.64.Laki.Laki\"    \n",
              "[19] \"X60.64.Perempuan\"     \"X65.69.Laki.Laki\"     \"X65.69.Perempuan\"    \n",
              "[22] \"X70.74.Laki.Laki\"     \"X70.74.Perempuan\"     \"X.75.Laki.Laki\"      \n",
              "[25] \"X.75..Perempuan\"     "
            ]
          },
          "metadata": {}
        }
      ]
    },
    {
      "cell_type": "markdown",
      "source": [
        "#### [Merubah Tipe Kolom menjadi Factor](https://academy.dqlab.id/main/livecode/12/47/330?pr=0)"
      ],
      "metadata": {
        "id": "4njlIwgAn1eO"
      }
    },
    {
      "cell_type": "code",
      "source": [
        "library(openxlsx)\n",
        "\n",
        "#Membaca dataset dengan read.xlsx dan dimasukkan ke variable penduduk.dki\n",
        "penduduk.dki.xlsx <- read.xlsx(xlsxFile=\"https://storage.googleapis.com/dqlab-dataset/dkikepadatankelurahan2013.xlsx\")\n",
        "\n",
        "penduduk.dki.xlsx$NAMA.PROVINSI <- as.factor(penduduk.dki.xlsx$NAMA.PROVINSI)\n",
        "\n",
        "str(penduduk.dki.xlsx)"
      ],
      "metadata": {
        "colab": {
          "base_uri": "https://localhost:8080/"
        },
        "id": "_lkOPgDPn5gw",
        "outputId": "bedd4a33-cea9-435b-9804-e6bea5ba8f18"
      },
      "execution_count": 36,
      "outputs": [
        {
          "output_type": "stream",
          "name": "stdout",
          "text": [
            "'data.frame':\t267 obs. of  25 variables:\n",
            " $ TAHUN               : num  2013 2013 2013 2013 2013 ...\n",
            " $ NAMA.PROVINSI       : Factor w/ 1 level \"PROVINSI DKI JAKARTA\": 1 1 1 1 1 1 1 1 1 1 ...\n",
            " $ NAMA.KABUPATEN/KOTA : chr  \"KAB.ADM.KEP.SERIBU\" \"KAB.ADM.KEP.SERIBU\" \"KAB.ADM.KEP.SERIBU\" \"KAB.ADM.KEP.SERIBU\" ...\n",
            " $ NAMA.KECAMATAN      : chr  \"KEP. SERIBU UTR\" \"KEP. SERIBU UTR\" \"KEP. SERIBU UTR\" \"KEP. SERIBU SLT\" ...\n",
            " $ NAMA.KELURAHAN      : chr  \"P. PANGGANG\" \"P. KELAPA\" \"P. HARAPAN\" \"P. UNTUNG JAWA\" ...\n",
            " $ LUAS.WILAYAH.(KM2)  : num  0.91 3.76 3.59 0.59 1.57 1.39 2.58 1.26 1.12 1.14 ...\n",
            " $ KEPADATAN.(JIWA/KM2): num  6779 1705 628 3625 3084 ...\n",
            " $ 35-39.Laki-Laki     : num  231 84 255 199 98 113 166 850 954 752 ...\n",
            " $ 35-39.Perempuan     : num  235 88 238 185 75 112 174 748 920 675 ...\n",
            " $ 40-44.Laki-Laki     : num  233 99 232 178 73 108 130 749 914 691 ...\n",
            " $ 40-44.Perempuan     : num  210 88 234 176 94 80 165 798 943 691 ...\n",
            " $ 45-49.Laki-Laki     : num  171 72 212 162 67 66 176 779 871 659 ...\n",
            " $ 45-49.Perempuan     : num  158 63 193 139 69 62 162 766 823 631 ...\n",
            " $ 50-54.Laki-Laki     : num  137 34 150 100 60 61 129 715 736 611 ...\n",
            " $ 50-54.Perempuan     : num  126 29 161 119 40 63 97 662 679 514 ...\n",
            " $ 55-59.Laki-Laki     : num  98 30 139 97 37 37 108 614 680 539 ...\n",
            " $ 55-59.Perempuan     : num  106 39 101 83 32 36 90 537 510 466 ...\n",
            " $ 60-64.Laki-Laki     : num  72 29 73 58 22 32 88 555 544 428 ...\n",
            " $ 60-64.Perempuan     : num  65 24 56 56 13 26 42 343 421 279 ...\n",
            " $ 65-69.Laki-Laki     : num  36 12 18 40 18 21 68 413 398 328 ...\n",
            " $ 65-69.Perempuan     : num  33 21 35 54 15 14 34 215 235 160 ...\n",
            " $ 70-74.Laki-Laki     : num  33 13 24 26 10 17 37 259 241 215 ...\n",
            " $ 70-74.Perempuan     : num  20 5 25 27 18 11 32 142 132 116 ...\n",
            " $ >75.Laki-Laki       : num  13 5 18 16 11 8 34 214 215 150 ...\n",
            " $ >75.Perempuan       : num  27 8 26 13 17 7 23 165 159 121 ...\n"
          ]
        }
      ]
    },
    {
      "cell_type": "markdown",
      "source": [
        "#### [Mengambil Kolom Laki.Laki / Perempuan dengan grep](https://academy.dqlab.id/main/livecode/12/47/341?pr=0)"
      ],
      "metadata": {
        "id": "7IhG69RqoHWV"
      }
    },
    {
      "cell_type": "code",
      "source": [
        "#Tampilkan nama-nama kolom yang mengandung kata \"perempuan\".\n",
        "pola_nama_perempuan <- grep(pattern=\"perempuan\", x = names(penduduk.dki.xlsx), ignore.case=TRUE)\n",
        "names(penduduk.dki.xlsx[pola_nama_perempuan])\n",
        "\n",
        "#Tampilkan nama-nama kolom yang mengandung kata \"laki-laki\"\n",
        "pola_nama_laki_laki <- grep(pattern=\"laki-laki\", x = names(penduduk.dki.xlsx), ignore.case=TRUE)\n",
        "names(penduduk.dki.xlsx[pola_nama_laki_laki])"
      ],
      "metadata": {
        "colab": {
          "base_uri": "https://localhost:8080/",
          "height": 86
        },
        "id": "QDQiRK1zoM0p",
        "outputId": "c7b7e27e-2649-4757-9023-a9362f64ea41"
      },
      "execution_count": 37,
      "outputs": [
        {
          "output_type": "display_data",
          "data": {
            "text/html": [
              "<style>\n",
              ".list-inline {list-style: none; margin:0; padding: 0}\n",
              ".list-inline>li {display: inline-block}\n",
              ".list-inline>li:not(:last-child)::after {content: \"\\00b7\"; padding: 0 .5ex}\n",
              "</style>\n",
              "<ol class=list-inline><li>'35-39.Perempuan'</li><li>'40-44.Perempuan'</li><li>'45-49.Perempuan'</li><li>'50-54.Perempuan'</li><li>'55-59.Perempuan'</li><li>'60-64.Perempuan'</li><li>'65-69.Perempuan'</li><li>'70-74.Perempuan'</li><li>'&gt;75.Perempuan'</li></ol>\n"
            ],
            "text/markdown": "1. '35-39.Perempuan'\n2. '40-44.Perempuan'\n3. '45-49.Perempuan'\n4. '50-54.Perempuan'\n5. '55-59.Perempuan'\n6. '60-64.Perempuan'\n7. '65-69.Perempuan'\n8. '70-74.Perempuan'\n9. '&gt;75.Perempuan'\n\n\n",
            "text/latex": "\\begin{enumerate*}\n\\item '35-39.Perempuan'\n\\item '40-44.Perempuan'\n\\item '45-49.Perempuan'\n\\item '50-54.Perempuan'\n\\item '55-59.Perempuan'\n\\item '60-64.Perempuan'\n\\item '65-69.Perempuan'\n\\item '70-74.Perempuan'\n\\item '>75.Perempuan'\n\\end{enumerate*}\n",
            "text/plain": [
              "[1] \"35-39.Perempuan\" \"40-44.Perempuan\" \"45-49.Perempuan\" \"50-54.Perempuan\"\n",
              "[5] \"55-59.Perempuan\" \"60-64.Perempuan\" \"65-69.Perempuan\" \"70-74.Perempuan\"\n",
              "[9] \">75.Perempuan\"  "
            ]
          },
          "metadata": {}
        },
        {
          "output_type": "display_data",
          "data": {
            "text/html": [
              "<style>\n",
              ".list-inline {list-style: none; margin:0; padding: 0}\n",
              ".list-inline>li {display: inline-block}\n",
              ".list-inline>li:not(:last-child)::after {content: \"\\00b7\"; padding: 0 .5ex}\n",
              "</style>\n",
              "<ol class=list-inline><li>'35-39.Laki-Laki'</li><li>'40-44.Laki-Laki'</li><li>'45-49.Laki-Laki'</li><li>'50-54.Laki-Laki'</li><li>'55-59.Laki-Laki'</li><li>'60-64.Laki-Laki'</li><li>'65-69.Laki-Laki'</li><li>'70-74.Laki-Laki'</li><li>'&gt;75.Laki-Laki'</li></ol>\n"
            ],
            "text/markdown": "1. '35-39.Laki-Laki'\n2. '40-44.Laki-Laki'\n3. '45-49.Laki-Laki'\n4. '50-54.Laki-Laki'\n5. '55-59.Laki-Laki'\n6. '60-64.Laki-Laki'\n7. '65-69.Laki-Laki'\n8. '70-74.Laki-Laki'\n9. '&gt;75.Laki-Laki'\n\n\n",
            "text/latex": "\\begin{enumerate*}\n\\item '35-39.Laki-Laki'\n\\item '40-44.Laki-Laki'\n\\item '45-49.Laki-Laki'\n\\item '50-54.Laki-Laki'\n\\item '55-59.Laki-Laki'\n\\item '60-64.Laki-Laki'\n\\item '65-69.Laki-Laki'\n\\item '70-74.Laki-Laki'\n\\item '>75.Laki-Laki'\n\\end{enumerate*}\n",
            "text/plain": [
              "[1] \"35-39.Laki-Laki\" \"40-44.Laki-Laki\" \"45-49.Laki-Laki\" \"50-54.Laki-Laki\"\n",
              "[5] \"55-59.Laki-Laki\" \"60-64.Laki-Laki\" \"65-69.Laki-Laki\" \"70-74.Laki-Laki\"\n",
              "[9] \">75.Laki-Laki\"  "
            ]
          },
          "metadata": {}
        }
      ]
    },
    {
      "cell_type": "markdown",
      "source": [
        "#### [Menambahkan kolom Penjumlahan](https://academy.dqlab.id/main/livecode/12/47/331?pr=0)"
      ],
      "metadata": {
        "id": "wTK9FAq-oXZ8"
      }
    },
    {
      "cell_type": "code",
      "source": [
        "#Tampilkan nama-nama kolom yang mengandung kata \"perempuan\".\n",
        "pola_nama_perempuan <- grep(pattern=\"perempuan\", x = names(penduduk.dki.xlsx), ignore.case=TRUE)\n",
        "\n",
        "penduduk.dki.xlsx$PEREMPUAN35TAHUNKEATAS  <- rowSums(penduduk.dki.xlsx[pola_nama_perempuan])"
      ],
      "metadata": {
        "id": "lq8AoDkooao0"
      },
      "execution_count": 38,
      "outputs": []
    },
    {
      "cell_type": "code",
      "source": [
        "str(penduduk.dki.xlsx)"
      ],
      "metadata": {
        "colab": {
          "base_uri": "https://localhost:8080/"
        },
        "id": "kUX85hQ8onTZ",
        "outputId": "87afe004-1162-4e87-9342-55bdba5a701a"
      },
      "execution_count": 39,
      "outputs": [
        {
          "output_type": "stream",
          "name": "stdout",
          "text": [
            "'data.frame':\t267 obs. of  26 variables:\n",
            " $ TAHUN                 : num  2013 2013 2013 2013 2013 ...\n",
            " $ NAMA.PROVINSI         : Factor w/ 1 level \"PROVINSI DKI JAKARTA\": 1 1 1 1 1 1 1 1 1 1 ...\n",
            " $ NAMA.KABUPATEN/KOTA   : chr  \"KAB.ADM.KEP.SERIBU\" \"KAB.ADM.KEP.SERIBU\" \"KAB.ADM.KEP.SERIBU\" \"KAB.ADM.KEP.SERIBU\" ...\n",
            " $ NAMA.KECAMATAN        : chr  \"KEP. SERIBU UTR\" \"KEP. SERIBU UTR\" \"KEP. SERIBU UTR\" \"KEP. SERIBU SLT\" ...\n",
            " $ NAMA.KELURAHAN        : chr  \"P. PANGGANG\" \"P. KELAPA\" \"P. HARAPAN\" \"P. UNTUNG JAWA\" ...\n",
            " $ LUAS.WILAYAH.(KM2)    : num  0.91 3.76 3.59 0.59 1.57 1.39 2.58 1.26 1.12 1.14 ...\n",
            " $ KEPADATAN.(JIWA/KM2)  : num  6779 1705 628 3625 3084 ...\n",
            " $ 35-39.Laki-Laki       : num  231 84 255 199 98 113 166 850 954 752 ...\n",
            " $ 35-39.Perempuan       : num  235 88 238 185 75 112 174 748 920 675 ...\n",
            " $ 40-44.Laki-Laki       : num  233 99 232 178 73 108 130 749 914 691 ...\n",
            " $ 40-44.Perempuan       : num  210 88 234 176 94 80 165 798 943 691 ...\n",
            " $ 45-49.Laki-Laki       : num  171 72 212 162 67 66 176 779 871 659 ...\n",
            " $ 45-49.Perempuan       : num  158 63 193 139 69 62 162 766 823 631 ...\n",
            " $ 50-54.Laki-Laki       : num  137 34 150 100 60 61 129 715 736 611 ...\n",
            " $ 50-54.Perempuan       : num  126 29 161 119 40 63 97 662 679 514 ...\n",
            " $ 55-59.Laki-Laki       : num  98 30 139 97 37 37 108 614 680 539 ...\n",
            " $ 55-59.Perempuan       : num  106 39 101 83 32 36 90 537 510 466 ...\n",
            " $ 60-64.Laki-Laki       : num  72 29 73 58 22 32 88 555 544 428 ...\n",
            " $ 60-64.Perempuan       : num  65 24 56 56 13 26 42 343 421 279 ...\n",
            " $ 65-69.Laki-Laki       : num  36 12 18 40 18 21 68 413 398 328 ...\n",
            " $ 65-69.Perempuan       : num  33 21 35 54 15 14 34 215 235 160 ...\n",
            " $ 70-74.Laki-Laki       : num  33 13 24 26 10 17 37 259 241 215 ...\n",
            " $ 70-74.Perempuan       : num  20 5 25 27 18 11 32 142 132 116 ...\n",
            " $ >75.Laki-Laki         : num  13 5 18 16 11 8 34 214 215 150 ...\n",
            " $ >75.Perempuan         : num  27 8 26 13 17 7 23 165 159 121 ...\n",
            " $ PEREMPUAN35TAHUNKEATAS: num  980 365 1069 852 373 ...\n"
          ]
        }
      ]
    },
    {
      "cell_type": "markdown",
      "source": [
        "#### [Normalisasi Data dari Kolom ke Baris](https://academy.dqlab.id/main/livecode/12/47/332?pr=0)"
      ],
      "metadata": {
        "id": "ipfOsWHBoyWq"
      }
    },
    {
      "cell_type": "code",
      "source": [
        "install.packages(\"reshape2\")"
      ],
      "metadata": {
        "colab": {
          "base_uri": "https://localhost:8080/"
        },
        "id": "WV9yDg5jo2uB",
        "outputId": "ba057569-e840-4f12-c1b2-42c9d3aafb6d"
      },
      "execution_count": 41,
      "outputs": [
        {
          "output_type": "stream",
          "name": "stderr",
          "text": [
            "Installing package into ‘/usr/local/lib/R/site-library’\n",
            "(as ‘lib’ is unspecified)\n",
            "\n",
            "also installing the dependency ‘plyr’\n",
            "\n",
            "\n"
          ]
        }
      ]
    },
    {
      "cell_type": "code",
      "source": [
        "library(reshape2)\n",
        "\n",
        "#Transformasi kolom dataset penduduk.dki.xlsx, disimpan ke variable penduduk.dki.transform\n",
        "penduduk.dki.transform <- melt(data=penduduk.dki.xlsx, id.vars=c( \"NAMA.KECAMATAN\", \"NAMA.KELURAHAN\"), measure.vars = c(\"35-39.Laki-Laki\", \"35-39.Perempuan\"), variable.name = \"DEMOGRAFIK\", value.name=\"JUMLAH\")\n",
        "\n",
        "#Menampilkan variable penduduk.dki.transform\n",
        "penduduk.dki.transform"
      ],
      "metadata": {
        "colab": {
          "base_uri": "https://localhost:8080/",
          "height": 1000
        },
        "id": "39PKy7dfo9hM",
        "outputId": "1828401e-d488-4c4a-b17d-6c54b257e29f"
      },
      "execution_count": 42,
      "outputs": [
        {
          "output_type": "display_data",
          "data": {
            "text/html": [
              "<table class=\"dataframe\">\n",
              "<caption>A data.frame: 534 × 4</caption>\n",
              "<thead>\n",
              "\t<tr><th scope=col>NAMA.KECAMATAN</th><th scope=col>NAMA.KELURAHAN</th><th scope=col>DEMOGRAFIK</th><th scope=col>JUMLAH</th></tr>\n",
              "\t<tr><th scope=col>&lt;chr&gt;</th><th scope=col>&lt;chr&gt;</th><th scope=col>&lt;fct&gt;</th><th scope=col>&lt;dbl&gt;</th></tr>\n",
              "</thead>\n",
              "<tbody>\n",
              "\t<tr><td>KEP. SERIBU UTR</td><td>P. PANGGANG          </td><td>35-39.Laki-Laki</td><td> 231</td></tr>\n",
              "\t<tr><td>KEP. SERIBU UTR</td><td>P. KELAPA            </td><td>35-39.Laki-Laki</td><td>  84</td></tr>\n",
              "\t<tr><td>KEP. SERIBU UTR</td><td>P. HARAPAN           </td><td>35-39.Laki-Laki</td><td> 255</td></tr>\n",
              "\t<tr><td>KEP. SERIBU SLT</td><td>P. UNTUNG JAWA       </td><td>35-39.Laki-Laki</td><td> 199</td></tr>\n",
              "\t<tr><td>KEP. SERIBU SLT</td><td>P. TIDUNG            </td><td>35-39.Laki-Laki</td><td>  98</td></tr>\n",
              "\t<tr><td>KEP. SERIBU SLT</td><td>P. PARI              </td><td>35-39.Laki-Laki</td><td> 113</td></tr>\n",
              "\t<tr><td>GAMBIR         </td><td>GAMBIR               </td><td>35-39.Laki-Laki</td><td> 166</td></tr>\n",
              "\t<tr><td>GAMBIR         </td><td>CIDENG               </td><td>35-39.Laki-Laki</td><td> 850</td></tr>\n",
              "\t<tr><td>GAMBIR         </td><td>PETOJO UTARA         </td><td>35-39.Laki-Laki</td><td> 954</td></tr>\n",
              "\t<tr><td>GAMBIR         </td><td>PETOJO SELATAN       </td><td>35-39.Laki-Laki</td><td> 752</td></tr>\n",
              "\t<tr><td>GAMBIR         </td><td>KEBON KELAPA         </td><td>35-39.Laki-Laki</td><td> 592</td></tr>\n",
              "\t<tr><td>GAMBIR         </td><td>DURI PULO            </td><td>35-39.Laki-Laki</td><td>1213</td></tr>\n",
              "\t<tr><td>SAWAH BESAR    </td><td>PASAR BARU           </td><td>35-39.Laki-Laki</td><td> 714</td></tr>\n",
              "\t<tr><td>SAWAH BESAR    </td><td>KARANG ANYAR         </td><td>35-39.Laki-Laki</td><td>1575</td></tr>\n",
              "\t<tr><td>SAWAH BESAR    </td><td>KARTINI              </td><td>35-39.Laki-Laki</td><td>1307</td></tr>\n",
              "\t<tr><td>SAWAH BESAR    </td><td>GUNUNG SAHARI UTARA  </td><td>35-39.Laki-Laki</td><td> 817</td></tr>\n",
              "\t<tr><td>SAWAH BESAR    </td><td>MANGGA DUA SELATAN   </td><td>35-39.Laki-Laki</td><td>1683</td></tr>\n",
              "\t<tr><td>KEMAYORAN      </td><td>KEMAYORAN            </td><td>35-39.Laki-Laki</td><td>1164</td></tr>\n",
              "\t<tr><td>KEMAYORAN      </td><td>KEBON KOSONG         </td><td>35-39.Laki-Laki</td><td>1644</td></tr>\n",
              "\t<tr><td>KEMAYORAN      </td><td>HARAPAN MULIA        </td><td>35-39.Laki-Laki</td><td>1256</td></tr>\n",
              "\t<tr><td>KEMAYORAN      </td><td>SERDANG              </td><td>35-39.Laki-Laki</td><td>1603</td></tr>\n",
              "\t<tr><td>KEMAYORAN      </td><td>GUNUNG SAHARI SELATAN</td><td>35-39.Laki-Laki</td><td>1071</td></tr>\n",
              "\t<tr><td>KEMAYORAN      </td><td>CEMPAKA BARU         </td><td>35-39.Laki-Laki</td><td>1750</td></tr>\n",
              "\t<tr><td>KEMAYORAN      </td><td>SUMUR BATU           </td><td>35-39.Laki-Laki</td><td>1452</td></tr>\n",
              "\t<tr><td>KEMAYORAN      </td><td>UTAN PANJANG         </td><td>35-39.Laki-Laki</td><td>1610</td></tr>\n",
              "\t<tr><td>SENEN          </td><td>SENEN                </td><td>35-39.Laki-Laki</td><td> 398</td></tr>\n",
              "\t<tr><td>SENEN          </td><td>KENARI               </td><td>35-39.Laki-Laki</td><td> 456</td></tr>\n",
              "\t<tr><td>SENEN          </td><td>PASEBAN              </td><td>35-39.Laki-Laki</td><td>1266</td></tr>\n",
              "\t<tr><td>SENEN          </td><td>KRAMAT               </td><td>35-39.Laki-Laki</td><td>1552</td></tr>\n",
              "\t<tr><td>SENEN          </td><td>KWITANG              </td><td>35-39.Laki-Laki</td><td> 908</td></tr>\n",
              "\t<tr><td>⋮</td><td>⋮</td><td>⋮</td><td>⋮</td></tr>\n",
              "\t<tr><td>CAKUNG     </td><td>PENGGILINGAN         </td><td>35-39.Perempuan</td><td>4385</td></tr>\n",
              "\t<tr><td>CAKUNG     </td><td>CAKUNG TIMUR         </td><td>35-39.Perempuan</td><td>2953</td></tr>\n",
              "\t<tr><td>CAKUNG     </td><td>PULO GEBANG          </td><td>35-39.Perempuan</td><td>4030</td></tr>\n",
              "\t<tr><td>CAKUNG     </td><td>UJUNG MENTENG        </td><td>35-39.Perempuan</td><td>1441</td></tr>\n",
              "\t<tr><td>CAKUNG     </td><td>CAKUNG BARAT         </td><td>35-39.Perempuan</td><td>3275</td></tr>\n",
              "\t<tr><td>DUREN SAWIT</td><td>DUREN SAWIT          </td><td>35-39.Perempuan</td><td>3055</td></tr>\n",
              "\t<tr><td>DUREN SAWIT</td><td>PONDOK BAMBU         </td><td>35-39.Perempuan</td><td>3122</td></tr>\n",
              "\t<tr><td>DUREN SAWIT</td><td>KLENDER              </td><td>35-39.Perempuan</td><td>3569</td></tr>\n",
              "\t<tr><td>DUREN SAWIT</td><td>PONDOK KELAPA        </td><td>35-39.Perempuan</td><td>3356</td></tr>\n",
              "\t<tr><td>DUREN SAWIT</td><td>MALAKA SARI          </td><td>35-39.Perempuan</td><td>1703</td></tr>\n",
              "\t<tr><td>DUREN SAWIT</td><td>MALAKA JAYA          </td><td>35-39.Perempuan</td><td>1984</td></tr>\n",
              "\t<tr><td>DUREN SAWIT</td><td>PONDOK KOPI          </td><td>35-39.Perempuan</td><td>1604</td></tr>\n",
              "\t<tr><td>MAKASAR    </td><td>MAKASAR              </td><td>35-39.Perempuan</td><td>1815</td></tr>\n",
              "\t<tr><td>MAKASAR    </td><td>PINANG RANTI         </td><td>35-39.Perempuan</td><td>1284</td></tr>\n",
              "\t<tr><td>MAKASAR    </td><td>KEBON PALA           </td><td>35-39.Perempuan</td><td>2502</td></tr>\n",
              "\t<tr><td>MAKASAR    </td><td>HALIM PERDANA KUSUMAH</td><td>35-39.Perempuan</td><td>1576</td></tr>\n",
              "\t<tr><td>MAKASAR    </td><td>CIPINANG MELAYU      </td><td>35-39.Perempuan</td><td>2104</td></tr>\n",
              "\t<tr><td>CIRACAS    </td><td>CIRACAS              </td><td>35-39.Perempuan</td><td>3085</td></tr>\n",
              "\t<tr><td>CIRACAS    </td><td>CIBUBUR              </td><td>35-39.Perempuan</td><td>3175</td></tr>\n",
              "\t<tr><td>CIRACAS    </td><td>KELAPA DUA WETAN     </td><td>35-39.Perempuan</td><td>2177</td></tr>\n",
              "\t<tr><td>CIRACAS    </td><td>SUSUKAN              </td><td>35-39.Perempuan</td><td>1846</td></tr>\n",
              "\t<tr><td>CIRACAS    </td><td>RAMBUTAN             </td><td>35-39.Perempuan</td><td>1849</td></tr>\n",
              "\t<tr><td>CIPAYUNG   </td><td>CIPAYUNG             </td><td>35-39.Perempuan</td><td>1172</td></tr>\n",
              "\t<tr><td>CIPAYUNG   </td><td>CILANGKAP            </td><td>35-39.Perempuan</td><td>1276</td></tr>\n",
              "\t<tr><td>CIPAYUNG   </td><td>PONDOK RANGGON       </td><td>35-39.Perempuan</td><td>1064</td></tr>\n",
              "\t<tr><td>CIPAYUNG   </td><td>MUNJUL               </td><td>35-39.Perempuan</td><td>1112</td></tr>\n",
              "\t<tr><td>CIPAYUNG   </td><td>SETU                 </td><td>35-39.Perempuan</td><td> 928</td></tr>\n",
              "\t<tr><td>CIPAYUNG   </td><td>BAMBU APUS           </td><td>35-39.Perempuan</td><td>1187</td></tr>\n",
              "\t<tr><td>CIPAYUNG   </td><td>LUBANG BUAYA         </td><td>35-39.Perempuan</td><td>2988</td></tr>\n",
              "\t<tr><td>CIPAYUNG   </td><td>CEGER                </td><td>35-39.Perempuan</td><td> 930</td></tr>\n",
              "</tbody>\n",
              "</table>\n"
            ],
            "text/markdown": "\nA data.frame: 534 × 4\n\n| NAMA.KECAMATAN &lt;chr&gt; | NAMA.KELURAHAN &lt;chr&gt; | DEMOGRAFIK &lt;fct&gt; | JUMLAH &lt;dbl&gt; |\n|---|---|---|---|\n| KEP. SERIBU UTR | P. PANGGANG           | 35-39.Laki-Laki |  231 |\n| KEP. SERIBU UTR | P. KELAPA             | 35-39.Laki-Laki |   84 |\n| KEP. SERIBU UTR | P. HARAPAN            | 35-39.Laki-Laki |  255 |\n| KEP. SERIBU SLT | P. UNTUNG JAWA        | 35-39.Laki-Laki |  199 |\n| KEP. SERIBU SLT | P. TIDUNG             | 35-39.Laki-Laki |   98 |\n| KEP. SERIBU SLT | P. PARI               | 35-39.Laki-Laki |  113 |\n| GAMBIR          | GAMBIR                | 35-39.Laki-Laki |  166 |\n| GAMBIR          | CIDENG                | 35-39.Laki-Laki |  850 |\n| GAMBIR          | PETOJO UTARA          | 35-39.Laki-Laki |  954 |\n| GAMBIR          | PETOJO SELATAN        | 35-39.Laki-Laki |  752 |\n| GAMBIR          | KEBON KELAPA          | 35-39.Laki-Laki |  592 |\n| GAMBIR          | DURI PULO             | 35-39.Laki-Laki | 1213 |\n| SAWAH BESAR     | PASAR BARU            | 35-39.Laki-Laki |  714 |\n| SAWAH BESAR     | KARANG ANYAR          | 35-39.Laki-Laki | 1575 |\n| SAWAH BESAR     | KARTINI               | 35-39.Laki-Laki | 1307 |\n| SAWAH BESAR     | GUNUNG SAHARI UTARA   | 35-39.Laki-Laki |  817 |\n| SAWAH BESAR     | MANGGA DUA SELATAN    | 35-39.Laki-Laki | 1683 |\n| KEMAYORAN       | KEMAYORAN             | 35-39.Laki-Laki | 1164 |\n| KEMAYORAN       | KEBON KOSONG          | 35-39.Laki-Laki | 1644 |\n| KEMAYORAN       | HARAPAN MULIA         | 35-39.Laki-Laki | 1256 |\n| KEMAYORAN       | SERDANG               | 35-39.Laki-Laki | 1603 |\n| KEMAYORAN       | GUNUNG SAHARI SELATAN | 35-39.Laki-Laki | 1071 |\n| KEMAYORAN       | CEMPAKA BARU          | 35-39.Laki-Laki | 1750 |\n| KEMAYORAN       | SUMUR BATU            | 35-39.Laki-Laki | 1452 |\n| KEMAYORAN       | UTAN PANJANG          | 35-39.Laki-Laki | 1610 |\n| SENEN           | SENEN                 | 35-39.Laki-Laki |  398 |\n| SENEN           | KENARI                | 35-39.Laki-Laki |  456 |\n| SENEN           | PASEBAN               | 35-39.Laki-Laki | 1266 |\n| SENEN           | KRAMAT                | 35-39.Laki-Laki | 1552 |\n| SENEN           | KWITANG               | 35-39.Laki-Laki |  908 |\n| ⋮ | ⋮ | ⋮ | ⋮ |\n| CAKUNG      | PENGGILINGAN          | 35-39.Perempuan | 4385 |\n| CAKUNG      | CAKUNG TIMUR          | 35-39.Perempuan | 2953 |\n| CAKUNG      | PULO GEBANG           | 35-39.Perempuan | 4030 |\n| CAKUNG      | UJUNG MENTENG         | 35-39.Perempuan | 1441 |\n| CAKUNG      | CAKUNG BARAT          | 35-39.Perempuan | 3275 |\n| DUREN SAWIT | DUREN SAWIT           | 35-39.Perempuan | 3055 |\n| DUREN SAWIT | PONDOK BAMBU          | 35-39.Perempuan | 3122 |\n| DUREN SAWIT | KLENDER               | 35-39.Perempuan | 3569 |\n| DUREN SAWIT | PONDOK KELAPA         | 35-39.Perempuan | 3356 |\n| DUREN SAWIT | MALAKA SARI           | 35-39.Perempuan | 1703 |\n| DUREN SAWIT | MALAKA JAYA           | 35-39.Perempuan | 1984 |\n| DUREN SAWIT | PONDOK KOPI           | 35-39.Perempuan | 1604 |\n| MAKASAR     | MAKASAR               | 35-39.Perempuan | 1815 |\n| MAKASAR     | PINANG RANTI          | 35-39.Perempuan | 1284 |\n| MAKASAR     | KEBON PALA            | 35-39.Perempuan | 2502 |\n| MAKASAR     | HALIM PERDANA KUSUMAH | 35-39.Perempuan | 1576 |\n| MAKASAR     | CIPINANG MELAYU       | 35-39.Perempuan | 2104 |\n| CIRACAS     | CIRACAS               | 35-39.Perempuan | 3085 |\n| CIRACAS     | CIBUBUR               | 35-39.Perempuan | 3175 |\n| CIRACAS     | KELAPA DUA WETAN      | 35-39.Perempuan | 2177 |\n| CIRACAS     | SUSUKAN               | 35-39.Perempuan | 1846 |\n| CIRACAS     | RAMBUTAN              | 35-39.Perempuan | 1849 |\n| CIPAYUNG    | CIPAYUNG              | 35-39.Perempuan | 1172 |\n| CIPAYUNG    | CILANGKAP             | 35-39.Perempuan | 1276 |\n| CIPAYUNG    | PONDOK RANGGON        | 35-39.Perempuan | 1064 |\n| CIPAYUNG    | MUNJUL                | 35-39.Perempuan | 1112 |\n| CIPAYUNG    | SETU                  | 35-39.Perempuan |  928 |\n| CIPAYUNG    | BAMBU APUS            | 35-39.Perempuan | 1187 |\n| CIPAYUNG    | LUBANG BUAYA          | 35-39.Perempuan | 2988 |\n| CIPAYUNG    | CEGER                 | 35-39.Perempuan |  930 |\n\n",
            "text/latex": "A data.frame: 534 × 4\n\\begin{tabular}{llll}\n NAMA.KECAMATAN & NAMA.KELURAHAN & DEMOGRAFIK & JUMLAH\\\\\n <chr> & <chr> & <fct> & <dbl>\\\\\n\\hline\n\t KEP. SERIBU UTR & P. PANGGANG           & 35-39.Laki-Laki &  231\\\\\n\t KEP. SERIBU UTR & P. KELAPA             & 35-39.Laki-Laki &   84\\\\\n\t KEP. SERIBU UTR & P. HARAPAN            & 35-39.Laki-Laki &  255\\\\\n\t KEP. SERIBU SLT & P. UNTUNG JAWA        & 35-39.Laki-Laki &  199\\\\\n\t KEP. SERIBU SLT & P. TIDUNG             & 35-39.Laki-Laki &   98\\\\\n\t KEP. SERIBU SLT & P. PARI               & 35-39.Laki-Laki &  113\\\\\n\t GAMBIR          & GAMBIR                & 35-39.Laki-Laki &  166\\\\\n\t GAMBIR          & CIDENG                & 35-39.Laki-Laki &  850\\\\\n\t GAMBIR          & PETOJO UTARA          & 35-39.Laki-Laki &  954\\\\\n\t GAMBIR          & PETOJO SELATAN        & 35-39.Laki-Laki &  752\\\\\n\t GAMBIR          & KEBON KELAPA          & 35-39.Laki-Laki &  592\\\\\n\t GAMBIR          & DURI PULO             & 35-39.Laki-Laki & 1213\\\\\n\t SAWAH BESAR     & PASAR BARU            & 35-39.Laki-Laki &  714\\\\\n\t SAWAH BESAR     & KARANG ANYAR          & 35-39.Laki-Laki & 1575\\\\\n\t SAWAH BESAR     & KARTINI               & 35-39.Laki-Laki & 1307\\\\\n\t SAWAH BESAR     & GUNUNG SAHARI UTARA   & 35-39.Laki-Laki &  817\\\\\n\t SAWAH BESAR     & MANGGA DUA SELATAN    & 35-39.Laki-Laki & 1683\\\\\n\t KEMAYORAN       & KEMAYORAN             & 35-39.Laki-Laki & 1164\\\\\n\t KEMAYORAN       & KEBON KOSONG          & 35-39.Laki-Laki & 1644\\\\\n\t KEMAYORAN       & HARAPAN MULIA         & 35-39.Laki-Laki & 1256\\\\\n\t KEMAYORAN       & SERDANG               & 35-39.Laki-Laki & 1603\\\\\n\t KEMAYORAN       & GUNUNG SAHARI SELATAN & 35-39.Laki-Laki & 1071\\\\\n\t KEMAYORAN       & CEMPAKA BARU          & 35-39.Laki-Laki & 1750\\\\\n\t KEMAYORAN       & SUMUR BATU            & 35-39.Laki-Laki & 1452\\\\\n\t KEMAYORAN       & UTAN PANJANG          & 35-39.Laki-Laki & 1610\\\\\n\t SENEN           & SENEN                 & 35-39.Laki-Laki &  398\\\\\n\t SENEN           & KENARI                & 35-39.Laki-Laki &  456\\\\\n\t SENEN           & PASEBAN               & 35-39.Laki-Laki & 1266\\\\\n\t SENEN           & KRAMAT                & 35-39.Laki-Laki & 1552\\\\\n\t SENEN           & KWITANG               & 35-39.Laki-Laki &  908\\\\\n\t ⋮ & ⋮ & ⋮ & ⋮\\\\\n\t CAKUNG      & PENGGILINGAN          & 35-39.Perempuan & 4385\\\\\n\t CAKUNG      & CAKUNG TIMUR          & 35-39.Perempuan & 2953\\\\\n\t CAKUNG      & PULO GEBANG           & 35-39.Perempuan & 4030\\\\\n\t CAKUNG      & UJUNG MENTENG         & 35-39.Perempuan & 1441\\\\\n\t CAKUNG      & CAKUNG BARAT          & 35-39.Perempuan & 3275\\\\\n\t DUREN SAWIT & DUREN SAWIT           & 35-39.Perempuan & 3055\\\\\n\t DUREN SAWIT & PONDOK BAMBU          & 35-39.Perempuan & 3122\\\\\n\t DUREN SAWIT & KLENDER               & 35-39.Perempuan & 3569\\\\\n\t DUREN SAWIT & PONDOK KELAPA         & 35-39.Perempuan & 3356\\\\\n\t DUREN SAWIT & MALAKA SARI           & 35-39.Perempuan & 1703\\\\\n\t DUREN SAWIT & MALAKA JAYA           & 35-39.Perempuan & 1984\\\\\n\t DUREN SAWIT & PONDOK KOPI           & 35-39.Perempuan & 1604\\\\\n\t MAKASAR     & MAKASAR               & 35-39.Perempuan & 1815\\\\\n\t MAKASAR     & PINANG RANTI          & 35-39.Perempuan & 1284\\\\\n\t MAKASAR     & KEBON PALA            & 35-39.Perempuan & 2502\\\\\n\t MAKASAR     & HALIM PERDANA KUSUMAH & 35-39.Perempuan & 1576\\\\\n\t MAKASAR     & CIPINANG MELAYU       & 35-39.Perempuan & 2104\\\\\n\t CIRACAS     & CIRACAS               & 35-39.Perempuan & 3085\\\\\n\t CIRACAS     & CIBUBUR               & 35-39.Perempuan & 3175\\\\\n\t CIRACAS     & KELAPA DUA WETAN      & 35-39.Perempuan & 2177\\\\\n\t CIRACAS     & SUSUKAN               & 35-39.Perempuan & 1846\\\\\n\t CIRACAS     & RAMBUTAN              & 35-39.Perempuan & 1849\\\\\n\t CIPAYUNG    & CIPAYUNG              & 35-39.Perempuan & 1172\\\\\n\t CIPAYUNG    & CILANGKAP             & 35-39.Perempuan & 1276\\\\\n\t CIPAYUNG    & PONDOK RANGGON        & 35-39.Perempuan & 1064\\\\\n\t CIPAYUNG    & MUNJUL                & 35-39.Perempuan & 1112\\\\\n\t CIPAYUNG    & SETU                  & 35-39.Perempuan &  928\\\\\n\t CIPAYUNG    & BAMBU APUS            & 35-39.Perempuan & 1187\\\\\n\t CIPAYUNG    & LUBANG BUAYA          & 35-39.Perempuan & 2988\\\\\n\t CIPAYUNG    & CEGER                 & 35-39.Perempuan &  930\\\\\n\\end{tabular}\n",
            "text/plain": [
              "    NAMA.KECAMATAN  NAMA.KELURAHAN        DEMOGRAFIK      JUMLAH\n",
              "1   KEP. SERIBU UTR P. PANGGANG           35-39.Laki-Laki  231  \n",
              "2   KEP. SERIBU UTR P. KELAPA             35-39.Laki-Laki   84  \n",
              "3   KEP. SERIBU UTR P. HARAPAN            35-39.Laki-Laki  255  \n",
              "4   KEP. SERIBU SLT P. UNTUNG JAWA        35-39.Laki-Laki  199  \n",
              "5   KEP. SERIBU SLT P. TIDUNG             35-39.Laki-Laki   98  \n",
              "6   KEP. SERIBU SLT P. PARI               35-39.Laki-Laki  113  \n",
              "7   GAMBIR          GAMBIR                35-39.Laki-Laki  166  \n",
              "8   GAMBIR          CIDENG                35-39.Laki-Laki  850  \n",
              "9   GAMBIR          PETOJO UTARA          35-39.Laki-Laki  954  \n",
              "10  GAMBIR          PETOJO SELATAN        35-39.Laki-Laki  752  \n",
              "11  GAMBIR          KEBON KELAPA          35-39.Laki-Laki  592  \n",
              "12  GAMBIR          DURI PULO             35-39.Laki-Laki 1213  \n",
              "13  SAWAH BESAR     PASAR BARU            35-39.Laki-Laki  714  \n",
              "14  SAWAH BESAR     KARANG ANYAR          35-39.Laki-Laki 1575  \n",
              "15  SAWAH BESAR     KARTINI               35-39.Laki-Laki 1307  \n",
              "16  SAWAH BESAR     GUNUNG SAHARI UTARA   35-39.Laki-Laki  817  \n",
              "17  SAWAH BESAR     MANGGA DUA SELATAN    35-39.Laki-Laki 1683  \n",
              "18  KEMAYORAN       KEMAYORAN             35-39.Laki-Laki 1164  \n",
              "19  KEMAYORAN       KEBON KOSONG          35-39.Laki-Laki 1644  \n",
              "20  KEMAYORAN       HARAPAN MULIA         35-39.Laki-Laki 1256  \n",
              "21  KEMAYORAN       SERDANG               35-39.Laki-Laki 1603  \n",
              "22  KEMAYORAN       GUNUNG SAHARI SELATAN 35-39.Laki-Laki 1071  \n",
              "23  KEMAYORAN       CEMPAKA BARU          35-39.Laki-Laki 1750  \n",
              "24  KEMAYORAN       SUMUR BATU            35-39.Laki-Laki 1452  \n",
              "25  KEMAYORAN       UTAN PANJANG          35-39.Laki-Laki 1610  \n",
              "26  SENEN           SENEN                 35-39.Laki-Laki  398  \n",
              "27  SENEN           KENARI                35-39.Laki-Laki  456  \n",
              "28  SENEN           PASEBAN               35-39.Laki-Laki 1266  \n",
              "29  SENEN           KRAMAT                35-39.Laki-Laki 1552  \n",
              "30  SENEN           KWITANG               35-39.Laki-Laki  908  \n",
              "⋮   ⋮               ⋮                     ⋮               ⋮     \n",
              "505 CAKUNG          PENGGILINGAN          35-39.Perempuan 4385  \n",
              "506 CAKUNG          CAKUNG TIMUR          35-39.Perempuan 2953  \n",
              "507 CAKUNG          PULO GEBANG           35-39.Perempuan 4030  \n",
              "508 CAKUNG          UJUNG MENTENG         35-39.Perempuan 1441  \n",
              "509 CAKUNG          CAKUNG BARAT          35-39.Perempuan 3275  \n",
              "510 DUREN SAWIT     DUREN SAWIT           35-39.Perempuan 3055  \n",
              "511 DUREN SAWIT     PONDOK BAMBU          35-39.Perempuan 3122  \n",
              "512 DUREN SAWIT     KLENDER               35-39.Perempuan 3569  \n",
              "513 DUREN SAWIT     PONDOK KELAPA         35-39.Perempuan 3356  \n",
              "514 DUREN SAWIT     MALAKA SARI           35-39.Perempuan 1703  \n",
              "515 DUREN SAWIT     MALAKA JAYA           35-39.Perempuan 1984  \n",
              "516 DUREN SAWIT     PONDOK KOPI           35-39.Perempuan 1604  \n",
              "517 MAKASAR         MAKASAR               35-39.Perempuan 1815  \n",
              "518 MAKASAR         PINANG RANTI          35-39.Perempuan 1284  \n",
              "519 MAKASAR         KEBON PALA            35-39.Perempuan 2502  \n",
              "520 MAKASAR         HALIM PERDANA KUSUMAH 35-39.Perempuan 1576  \n",
              "521 MAKASAR         CIPINANG MELAYU       35-39.Perempuan 2104  \n",
              "522 CIRACAS         CIRACAS               35-39.Perempuan 3085  \n",
              "523 CIRACAS         CIBUBUR               35-39.Perempuan 3175  \n",
              "524 CIRACAS         KELAPA DUA WETAN      35-39.Perempuan 2177  \n",
              "525 CIRACAS         SUSUKAN               35-39.Perempuan 1846  \n",
              "526 CIRACAS         RAMBUTAN              35-39.Perempuan 1849  \n",
              "527 CIPAYUNG        CIPAYUNG              35-39.Perempuan 1172  \n",
              "528 CIPAYUNG        CILANGKAP             35-39.Perempuan 1276  \n",
              "529 CIPAYUNG        PONDOK RANGGON        35-39.Perempuan 1064  \n",
              "530 CIPAYUNG        MUNJUL                35-39.Perempuan 1112  \n",
              "531 CIPAYUNG        SETU                  35-39.Perempuan  928  \n",
              "532 CIPAYUNG        BAMBU APUS            35-39.Perempuan 1187  \n",
              "533 CIPAYUNG        LUBANG BUAYA          35-39.Perempuan 2988  \n",
              "534 CIPAYUNG        CEGER                 35-39.Perempuan  930  "
            ]
          },
          "metadata": {}
        }
      ]
    },
    {
      "cell_type": "markdown",
      "source": [
        "#### [Split Fields](https://academy.dqlab.id/main/livecode/12/47/334?pr=0)"
      ],
      "metadata": {
        "id": "-84jAQW9pwG1"
      }
    },
    {
      "cell_type": "code",
      "source": [
        "#Memecah isi kolom DEMOGRAFIK menjadi \"RENTANG.UMUR\" dan \"JENIS.KELAMIN\"\n",
        "penduduk.dki.transform[c(\"RENTANG.UMUR\", \"JENIS.KELAMIN\")] <- colsplit(penduduk.dki.transform$DEMOGRAFIK,\"\\\\.\",c(\"RENTANG.UMUR\",\"JENIS.KELAMIN\"))\n",
        "penduduk.dki.transform$DEMOGRAFIK <- NULL\n",
        "\n",
        "penduduk.dki.transform"
      ],
      "metadata": {
        "colab": {
          "base_uri": "https://localhost:8080/",
          "height": 1000
        },
        "id": "bt5Nivcwp0Ba",
        "outputId": "3f612032-29c9-48c5-d80b-d8f07cc5d4ba"
      },
      "execution_count": 43,
      "outputs": [
        {
          "output_type": "display_data",
          "data": {
            "text/html": [
              "<table class=\"dataframe\">\n",
              "<caption>A data.frame: 534 × 5</caption>\n",
              "<thead>\n",
              "\t<tr><th scope=col>NAMA.KECAMATAN</th><th scope=col>NAMA.KELURAHAN</th><th scope=col>JUMLAH</th><th scope=col>RENTANG.UMUR</th><th scope=col>JENIS.KELAMIN</th></tr>\n",
              "\t<tr><th scope=col>&lt;chr&gt;</th><th scope=col>&lt;chr&gt;</th><th scope=col>&lt;dbl&gt;</th><th scope=col>&lt;chr&gt;</th><th scope=col>&lt;chr&gt;</th></tr>\n",
              "</thead>\n",
              "<tbody>\n",
              "\t<tr><td>KEP. SERIBU UTR</td><td>P. PANGGANG          </td><td> 231</td><td>35-39</td><td>Laki-Laki</td></tr>\n",
              "\t<tr><td>KEP. SERIBU UTR</td><td>P. KELAPA            </td><td>  84</td><td>35-39</td><td>Laki-Laki</td></tr>\n",
              "\t<tr><td>KEP. SERIBU UTR</td><td>P. HARAPAN           </td><td> 255</td><td>35-39</td><td>Laki-Laki</td></tr>\n",
              "\t<tr><td>KEP. SERIBU SLT</td><td>P. UNTUNG JAWA       </td><td> 199</td><td>35-39</td><td>Laki-Laki</td></tr>\n",
              "\t<tr><td>KEP. SERIBU SLT</td><td>P. TIDUNG            </td><td>  98</td><td>35-39</td><td>Laki-Laki</td></tr>\n",
              "\t<tr><td>KEP. SERIBU SLT</td><td>P. PARI              </td><td> 113</td><td>35-39</td><td>Laki-Laki</td></tr>\n",
              "\t<tr><td>GAMBIR         </td><td>GAMBIR               </td><td> 166</td><td>35-39</td><td>Laki-Laki</td></tr>\n",
              "\t<tr><td>GAMBIR         </td><td>CIDENG               </td><td> 850</td><td>35-39</td><td>Laki-Laki</td></tr>\n",
              "\t<tr><td>GAMBIR         </td><td>PETOJO UTARA         </td><td> 954</td><td>35-39</td><td>Laki-Laki</td></tr>\n",
              "\t<tr><td>GAMBIR         </td><td>PETOJO SELATAN       </td><td> 752</td><td>35-39</td><td>Laki-Laki</td></tr>\n",
              "\t<tr><td>GAMBIR         </td><td>KEBON KELAPA         </td><td> 592</td><td>35-39</td><td>Laki-Laki</td></tr>\n",
              "\t<tr><td>GAMBIR         </td><td>DURI PULO            </td><td>1213</td><td>35-39</td><td>Laki-Laki</td></tr>\n",
              "\t<tr><td>SAWAH BESAR    </td><td>PASAR BARU           </td><td> 714</td><td>35-39</td><td>Laki-Laki</td></tr>\n",
              "\t<tr><td>SAWAH BESAR    </td><td>KARANG ANYAR         </td><td>1575</td><td>35-39</td><td>Laki-Laki</td></tr>\n",
              "\t<tr><td>SAWAH BESAR    </td><td>KARTINI              </td><td>1307</td><td>35-39</td><td>Laki-Laki</td></tr>\n",
              "\t<tr><td>SAWAH BESAR    </td><td>GUNUNG SAHARI UTARA  </td><td> 817</td><td>35-39</td><td>Laki-Laki</td></tr>\n",
              "\t<tr><td>SAWAH BESAR    </td><td>MANGGA DUA SELATAN   </td><td>1683</td><td>35-39</td><td>Laki-Laki</td></tr>\n",
              "\t<tr><td>KEMAYORAN      </td><td>KEMAYORAN            </td><td>1164</td><td>35-39</td><td>Laki-Laki</td></tr>\n",
              "\t<tr><td>KEMAYORAN      </td><td>KEBON KOSONG         </td><td>1644</td><td>35-39</td><td>Laki-Laki</td></tr>\n",
              "\t<tr><td>KEMAYORAN      </td><td>HARAPAN MULIA        </td><td>1256</td><td>35-39</td><td>Laki-Laki</td></tr>\n",
              "\t<tr><td>KEMAYORAN      </td><td>SERDANG              </td><td>1603</td><td>35-39</td><td>Laki-Laki</td></tr>\n",
              "\t<tr><td>KEMAYORAN      </td><td>GUNUNG SAHARI SELATAN</td><td>1071</td><td>35-39</td><td>Laki-Laki</td></tr>\n",
              "\t<tr><td>KEMAYORAN      </td><td>CEMPAKA BARU         </td><td>1750</td><td>35-39</td><td>Laki-Laki</td></tr>\n",
              "\t<tr><td>KEMAYORAN      </td><td>SUMUR BATU           </td><td>1452</td><td>35-39</td><td>Laki-Laki</td></tr>\n",
              "\t<tr><td>KEMAYORAN      </td><td>UTAN PANJANG         </td><td>1610</td><td>35-39</td><td>Laki-Laki</td></tr>\n",
              "\t<tr><td>SENEN          </td><td>SENEN                </td><td> 398</td><td>35-39</td><td>Laki-Laki</td></tr>\n",
              "\t<tr><td>SENEN          </td><td>KENARI               </td><td> 456</td><td>35-39</td><td>Laki-Laki</td></tr>\n",
              "\t<tr><td>SENEN          </td><td>PASEBAN              </td><td>1266</td><td>35-39</td><td>Laki-Laki</td></tr>\n",
              "\t<tr><td>SENEN          </td><td>KRAMAT               </td><td>1552</td><td>35-39</td><td>Laki-Laki</td></tr>\n",
              "\t<tr><td>SENEN          </td><td>KWITANG              </td><td> 908</td><td>35-39</td><td>Laki-Laki</td></tr>\n",
              "\t<tr><td>⋮</td><td>⋮</td><td>⋮</td><td>⋮</td><td>⋮</td></tr>\n",
              "\t<tr><td>CAKUNG     </td><td>PENGGILINGAN         </td><td>4385</td><td>35-39</td><td>Perempuan</td></tr>\n",
              "\t<tr><td>CAKUNG     </td><td>CAKUNG TIMUR         </td><td>2953</td><td>35-39</td><td>Perempuan</td></tr>\n",
              "\t<tr><td>CAKUNG     </td><td>PULO GEBANG          </td><td>4030</td><td>35-39</td><td>Perempuan</td></tr>\n",
              "\t<tr><td>CAKUNG     </td><td>UJUNG MENTENG        </td><td>1441</td><td>35-39</td><td>Perempuan</td></tr>\n",
              "\t<tr><td>CAKUNG     </td><td>CAKUNG BARAT         </td><td>3275</td><td>35-39</td><td>Perempuan</td></tr>\n",
              "\t<tr><td>DUREN SAWIT</td><td>DUREN SAWIT          </td><td>3055</td><td>35-39</td><td>Perempuan</td></tr>\n",
              "\t<tr><td>DUREN SAWIT</td><td>PONDOK BAMBU         </td><td>3122</td><td>35-39</td><td>Perempuan</td></tr>\n",
              "\t<tr><td>DUREN SAWIT</td><td>KLENDER              </td><td>3569</td><td>35-39</td><td>Perempuan</td></tr>\n",
              "\t<tr><td>DUREN SAWIT</td><td>PONDOK KELAPA        </td><td>3356</td><td>35-39</td><td>Perempuan</td></tr>\n",
              "\t<tr><td>DUREN SAWIT</td><td>MALAKA SARI          </td><td>1703</td><td>35-39</td><td>Perempuan</td></tr>\n",
              "\t<tr><td>DUREN SAWIT</td><td>MALAKA JAYA          </td><td>1984</td><td>35-39</td><td>Perempuan</td></tr>\n",
              "\t<tr><td>DUREN SAWIT</td><td>PONDOK KOPI          </td><td>1604</td><td>35-39</td><td>Perempuan</td></tr>\n",
              "\t<tr><td>MAKASAR    </td><td>MAKASAR              </td><td>1815</td><td>35-39</td><td>Perempuan</td></tr>\n",
              "\t<tr><td>MAKASAR    </td><td>PINANG RANTI         </td><td>1284</td><td>35-39</td><td>Perempuan</td></tr>\n",
              "\t<tr><td>MAKASAR    </td><td>KEBON PALA           </td><td>2502</td><td>35-39</td><td>Perempuan</td></tr>\n",
              "\t<tr><td>MAKASAR    </td><td>HALIM PERDANA KUSUMAH</td><td>1576</td><td>35-39</td><td>Perempuan</td></tr>\n",
              "\t<tr><td>MAKASAR    </td><td>CIPINANG MELAYU      </td><td>2104</td><td>35-39</td><td>Perempuan</td></tr>\n",
              "\t<tr><td>CIRACAS    </td><td>CIRACAS              </td><td>3085</td><td>35-39</td><td>Perempuan</td></tr>\n",
              "\t<tr><td>CIRACAS    </td><td>CIBUBUR              </td><td>3175</td><td>35-39</td><td>Perempuan</td></tr>\n",
              "\t<tr><td>CIRACAS    </td><td>KELAPA DUA WETAN     </td><td>2177</td><td>35-39</td><td>Perempuan</td></tr>\n",
              "\t<tr><td>CIRACAS    </td><td>SUSUKAN              </td><td>1846</td><td>35-39</td><td>Perempuan</td></tr>\n",
              "\t<tr><td>CIRACAS    </td><td>RAMBUTAN             </td><td>1849</td><td>35-39</td><td>Perempuan</td></tr>\n",
              "\t<tr><td>CIPAYUNG   </td><td>CIPAYUNG             </td><td>1172</td><td>35-39</td><td>Perempuan</td></tr>\n",
              "\t<tr><td>CIPAYUNG   </td><td>CILANGKAP            </td><td>1276</td><td>35-39</td><td>Perempuan</td></tr>\n",
              "\t<tr><td>CIPAYUNG   </td><td>PONDOK RANGGON       </td><td>1064</td><td>35-39</td><td>Perempuan</td></tr>\n",
              "\t<tr><td>CIPAYUNG   </td><td>MUNJUL               </td><td>1112</td><td>35-39</td><td>Perempuan</td></tr>\n",
              "\t<tr><td>CIPAYUNG   </td><td>SETU                 </td><td> 928</td><td>35-39</td><td>Perempuan</td></tr>\n",
              "\t<tr><td>CIPAYUNG   </td><td>BAMBU APUS           </td><td>1187</td><td>35-39</td><td>Perempuan</td></tr>\n",
              "\t<tr><td>CIPAYUNG   </td><td>LUBANG BUAYA         </td><td>2988</td><td>35-39</td><td>Perempuan</td></tr>\n",
              "\t<tr><td>CIPAYUNG   </td><td>CEGER                </td><td> 930</td><td>35-39</td><td>Perempuan</td></tr>\n",
              "</tbody>\n",
              "</table>\n"
            ],
            "text/markdown": "\nA data.frame: 534 × 5\n\n| NAMA.KECAMATAN &lt;chr&gt; | NAMA.KELURAHAN &lt;chr&gt; | JUMLAH &lt;dbl&gt; | RENTANG.UMUR &lt;chr&gt; | JENIS.KELAMIN &lt;chr&gt; |\n|---|---|---|---|---|\n| KEP. SERIBU UTR | P. PANGGANG           |  231 | 35-39 | Laki-Laki |\n| KEP. SERIBU UTR | P. KELAPA             |   84 | 35-39 | Laki-Laki |\n| KEP. SERIBU UTR | P. HARAPAN            |  255 | 35-39 | Laki-Laki |\n| KEP. SERIBU SLT | P. UNTUNG JAWA        |  199 | 35-39 | Laki-Laki |\n| KEP. SERIBU SLT | P. TIDUNG             |   98 | 35-39 | Laki-Laki |\n| KEP. SERIBU SLT | P. PARI               |  113 | 35-39 | Laki-Laki |\n| GAMBIR          | GAMBIR                |  166 | 35-39 | Laki-Laki |\n| GAMBIR          | CIDENG                |  850 | 35-39 | Laki-Laki |\n| GAMBIR          | PETOJO UTARA          |  954 | 35-39 | Laki-Laki |\n| GAMBIR          | PETOJO SELATAN        |  752 | 35-39 | Laki-Laki |\n| GAMBIR          | KEBON KELAPA          |  592 | 35-39 | Laki-Laki |\n| GAMBIR          | DURI PULO             | 1213 | 35-39 | Laki-Laki |\n| SAWAH BESAR     | PASAR BARU            |  714 | 35-39 | Laki-Laki |\n| SAWAH BESAR     | KARANG ANYAR          | 1575 | 35-39 | Laki-Laki |\n| SAWAH BESAR     | KARTINI               | 1307 | 35-39 | Laki-Laki |\n| SAWAH BESAR     | GUNUNG SAHARI UTARA   |  817 | 35-39 | Laki-Laki |\n| SAWAH BESAR     | MANGGA DUA SELATAN    | 1683 | 35-39 | Laki-Laki |\n| KEMAYORAN       | KEMAYORAN             | 1164 | 35-39 | Laki-Laki |\n| KEMAYORAN       | KEBON KOSONG          | 1644 | 35-39 | Laki-Laki |\n| KEMAYORAN       | HARAPAN MULIA         | 1256 | 35-39 | Laki-Laki |\n| KEMAYORAN       | SERDANG               | 1603 | 35-39 | Laki-Laki |\n| KEMAYORAN       | GUNUNG SAHARI SELATAN | 1071 | 35-39 | Laki-Laki |\n| KEMAYORAN       | CEMPAKA BARU          | 1750 | 35-39 | Laki-Laki |\n| KEMAYORAN       | SUMUR BATU            | 1452 | 35-39 | Laki-Laki |\n| KEMAYORAN       | UTAN PANJANG          | 1610 | 35-39 | Laki-Laki |\n| SENEN           | SENEN                 |  398 | 35-39 | Laki-Laki |\n| SENEN           | KENARI                |  456 | 35-39 | Laki-Laki |\n| SENEN           | PASEBAN               | 1266 | 35-39 | Laki-Laki |\n| SENEN           | KRAMAT                | 1552 | 35-39 | Laki-Laki |\n| SENEN           | KWITANG               |  908 | 35-39 | Laki-Laki |\n| ⋮ | ⋮ | ⋮ | ⋮ | ⋮ |\n| CAKUNG      | PENGGILINGAN          | 4385 | 35-39 | Perempuan |\n| CAKUNG      | CAKUNG TIMUR          | 2953 | 35-39 | Perempuan |\n| CAKUNG      | PULO GEBANG           | 4030 | 35-39 | Perempuan |\n| CAKUNG      | UJUNG MENTENG         | 1441 | 35-39 | Perempuan |\n| CAKUNG      | CAKUNG BARAT          | 3275 | 35-39 | Perempuan |\n| DUREN SAWIT | DUREN SAWIT           | 3055 | 35-39 | Perempuan |\n| DUREN SAWIT | PONDOK BAMBU          | 3122 | 35-39 | Perempuan |\n| DUREN SAWIT | KLENDER               | 3569 | 35-39 | Perempuan |\n| DUREN SAWIT | PONDOK KELAPA         | 3356 | 35-39 | Perempuan |\n| DUREN SAWIT | MALAKA SARI           | 1703 | 35-39 | Perempuan |\n| DUREN SAWIT | MALAKA JAYA           | 1984 | 35-39 | Perempuan |\n| DUREN SAWIT | PONDOK KOPI           | 1604 | 35-39 | Perempuan |\n| MAKASAR     | MAKASAR               | 1815 | 35-39 | Perempuan |\n| MAKASAR     | PINANG RANTI          | 1284 | 35-39 | Perempuan |\n| MAKASAR     | KEBON PALA            | 2502 | 35-39 | Perempuan |\n| MAKASAR     | HALIM PERDANA KUSUMAH | 1576 | 35-39 | Perempuan |\n| MAKASAR     | CIPINANG MELAYU       | 2104 | 35-39 | Perempuan |\n| CIRACAS     | CIRACAS               | 3085 | 35-39 | Perempuan |\n| CIRACAS     | CIBUBUR               | 3175 | 35-39 | Perempuan |\n| CIRACAS     | KELAPA DUA WETAN      | 2177 | 35-39 | Perempuan |\n| CIRACAS     | SUSUKAN               | 1846 | 35-39 | Perempuan |\n| CIRACAS     | RAMBUTAN              | 1849 | 35-39 | Perempuan |\n| CIPAYUNG    | CIPAYUNG              | 1172 | 35-39 | Perempuan |\n| CIPAYUNG    | CILANGKAP             | 1276 | 35-39 | Perempuan |\n| CIPAYUNG    | PONDOK RANGGON        | 1064 | 35-39 | Perempuan |\n| CIPAYUNG    | MUNJUL                | 1112 | 35-39 | Perempuan |\n| CIPAYUNG    | SETU                  |  928 | 35-39 | Perempuan |\n| CIPAYUNG    | BAMBU APUS            | 1187 | 35-39 | Perempuan |\n| CIPAYUNG    | LUBANG BUAYA          | 2988 | 35-39 | Perempuan |\n| CIPAYUNG    | CEGER                 |  930 | 35-39 | Perempuan |\n\n",
            "text/latex": "A data.frame: 534 × 5\n\\begin{tabular}{lllll}\n NAMA.KECAMATAN & NAMA.KELURAHAN & JUMLAH & RENTANG.UMUR & JENIS.KELAMIN\\\\\n <chr> & <chr> & <dbl> & <chr> & <chr>\\\\\n\\hline\n\t KEP. SERIBU UTR & P. PANGGANG           &  231 & 35-39 & Laki-Laki\\\\\n\t KEP. SERIBU UTR & P. KELAPA             &   84 & 35-39 & Laki-Laki\\\\\n\t KEP. SERIBU UTR & P. HARAPAN            &  255 & 35-39 & Laki-Laki\\\\\n\t KEP. SERIBU SLT & P. UNTUNG JAWA        &  199 & 35-39 & Laki-Laki\\\\\n\t KEP. SERIBU SLT & P. TIDUNG             &   98 & 35-39 & Laki-Laki\\\\\n\t KEP. SERIBU SLT & P. PARI               &  113 & 35-39 & Laki-Laki\\\\\n\t GAMBIR          & GAMBIR                &  166 & 35-39 & Laki-Laki\\\\\n\t GAMBIR          & CIDENG                &  850 & 35-39 & Laki-Laki\\\\\n\t GAMBIR          & PETOJO UTARA          &  954 & 35-39 & Laki-Laki\\\\\n\t GAMBIR          & PETOJO SELATAN        &  752 & 35-39 & Laki-Laki\\\\\n\t GAMBIR          & KEBON KELAPA          &  592 & 35-39 & Laki-Laki\\\\\n\t GAMBIR          & DURI PULO             & 1213 & 35-39 & Laki-Laki\\\\\n\t SAWAH BESAR     & PASAR BARU            &  714 & 35-39 & Laki-Laki\\\\\n\t SAWAH BESAR     & KARANG ANYAR          & 1575 & 35-39 & Laki-Laki\\\\\n\t SAWAH BESAR     & KARTINI               & 1307 & 35-39 & Laki-Laki\\\\\n\t SAWAH BESAR     & GUNUNG SAHARI UTARA   &  817 & 35-39 & Laki-Laki\\\\\n\t SAWAH BESAR     & MANGGA DUA SELATAN    & 1683 & 35-39 & Laki-Laki\\\\\n\t KEMAYORAN       & KEMAYORAN             & 1164 & 35-39 & Laki-Laki\\\\\n\t KEMAYORAN       & KEBON KOSONG          & 1644 & 35-39 & Laki-Laki\\\\\n\t KEMAYORAN       & HARAPAN MULIA         & 1256 & 35-39 & Laki-Laki\\\\\n\t KEMAYORAN       & SERDANG               & 1603 & 35-39 & Laki-Laki\\\\\n\t KEMAYORAN       & GUNUNG SAHARI SELATAN & 1071 & 35-39 & Laki-Laki\\\\\n\t KEMAYORAN       & CEMPAKA BARU          & 1750 & 35-39 & Laki-Laki\\\\\n\t KEMAYORAN       & SUMUR BATU            & 1452 & 35-39 & Laki-Laki\\\\\n\t KEMAYORAN       & UTAN PANJANG          & 1610 & 35-39 & Laki-Laki\\\\\n\t SENEN           & SENEN                 &  398 & 35-39 & Laki-Laki\\\\\n\t SENEN           & KENARI                &  456 & 35-39 & Laki-Laki\\\\\n\t SENEN           & PASEBAN               & 1266 & 35-39 & Laki-Laki\\\\\n\t SENEN           & KRAMAT                & 1552 & 35-39 & Laki-Laki\\\\\n\t SENEN           & KWITANG               &  908 & 35-39 & Laki-Laki\\\\\n\t ⋮ & ⋮ & ⋮ & ⋮ & ⋮\\\\\n\t CAKUNG      & PENGGILINGAN          & 4385 & 35-39 & Perempuan\\\\\n\t CAKUNG      & CAKUNG TIMUR          & 2953 & 35-39 & Perempuan\\\\\n\t CAKUNG      & PULO GEBANG           & 4030 & 35-39 & Perempuan\\\\\n\t CAKUNG      & UJUNG MENTENG         & 1441 & 35-39 & Perempuan\\\\\n\t CAKUNG      & CAKUNG BARAT          & 3275 & 35-39 & Perempuan\\\\\n\t DUREN SAWIT & DUREN SAWIT           & 3055 & 35-39 & Perempuan\\\\\n\t DUREN SAWIT & PONDOK BAMBU          & 3122 & 35-39 & Perempuan\\\\\n\t DUREN SAWIT & KLENDER               & 3569 & 35-39 & Perempuan\\\\\n\t DUREN SAWIT & PONDOK KELAPA         & 3356 & 35-39 & Perempuan\\\\\n\t DUREN SAWIT & MALAKA SARI           & 1703 & 35-39 & Perempuan\\\\\n\t DUREN SAWIT & MALAKA JAYA           & 1984 & 35-39 & Perempuan\\\\\n\t DUREN SAWIT & PONDOK KOPI           & 1604 & 35-39 & Perempuan\\\\\n\t MAKASAR     & MAKASAR               & 1815 & 35-39 & Perempuan\\\\\n\t MAKASAR     & PINANG RANTI          & 1284 & 35-39 & Perempuan\\\\\n\t MAKASAR     & KEBON PALA            & 2502 & 35-39 & Perempuan\\\\\n\t MAKASAR     & HALIM PERDANA KUSUMAH & 1576 & 35-39 & Perempuan\\\\\n\t MAKASAR     & CIPINANG MELAYU       & 2104 & 35-39 & Perempuan\\\\\n\t CIRACAS     & CIRACAS               & 3085 & 35-39 & Perempuan\\\\\n\t CIRACAS     & CIBUBUR               & 3175 & 35-39 & Perempuan\\\\\n\t CIRACAS     & KELAPA DUA WETAN      & 2177 & 35-39 & Perempuan\\\\\n\t CIRACAS     & SUSUKAN               & 1846 & 35-39 & Perempuan\\\\\n\t CIRACAS     & RAMBUTAN              & 1849 & 35-39 & Perempuan\\\\\n\t CIPAYUNG    & CIPAYUNG              & 1172 & 35-39 & Perempuan\\\\\n\t CIPAYUNG    & CILANGKAP             & 1276 & 35-39 & Perempuan\\\\\n\t CIPAYUNG    & PONDOK RANGGON        & 1064 & 35-39 & Perempuan\\\\\n\t CIPAYUNG    & MUNJUL                & 1112 & 35-39 & Perempuan\\\\\n\t CIPAYUNG    & SETU                  &  928 & 35-39 & Perempuan\\\\\n\t CIPAYUNG    & BAMBU APUS            & 1187 & 35-39 & Perempuan\\\\\n\t CIPAYUNG    & LUBANG BUAYA          & 2988 & 35-39 & Perempuan\\\\\n\t CIPAYUNG    & CEGER                 &  930 & 35-39 & Perempuan\\\\\n\\end{tabular}\n",
            "text/plain": [
              "    NAMA.KECAMATAN  NAMA.KELURAHAN        JUMLAH RENTANG.UMUR JENIS.KELAMIN\n",
              "1   KEP. SERIBU UTR P. PANGGANG            231   35-39        Laki-Laki    \n",
              "2   KEP. SERIBU UTR P. KELAPA               84   35-39        Laki-Laki    \n",
              "3   KEP. SERIBU UTR P. HARAPAN             255   35-39        Laki-Laki    \n",
              "4   KEP. SERIBU SLT P. UNTUNG JAWA         199   35-39        Laki-Laki    \n",
              "5   KEP. SERIBU SLT P. TIDUNG               98   35-39        Laki-Laki    \n",
              "6   KEP. SERIBU SLT P. PARI                113   35-39        Laki-Laki    \n",
              "7   GAMBIR          GAMBIR                 166   35-39        Laki-Laki    \n",
              "8   GAMBIR          CIDENG                 850   35-39        Laki-Laki    \n",
              "9   GAMBIR          PETOJO UTARA           954   35-39        Laki-Laki    \n",
              "10  GAMBIR          PETOJO SELATAN         752   35-39        Laki-Laki    \n",
              "11  GAMBIR          KEBON KELAPA           592   35-39        Laki-Laki    \n",
              "12  GAMBIR          DURI PULO             1213   35-39        Laki-Laki    \n",
              "13  SAWAH BESAR     PASAR BARU             714   35-39        Laki-Laki    \n",
              "14  SAWAH BESAR     KARANG ANYAR          1575   35-39        Laki-Laki    \n",
              "15  SAWAH BESAR     KARTINI               1307   35-39        Laki-Laki    \n",
              "16  SAWAH BESAR     GUNUNG SAHARI UTARA    817   35-39        Laki-Laki    \n",
              "17  SAWAH BESAR     MANGGA DUA SELATAN    1683   35-39        Laki-Laki    \n",
              "18  KEMAYORAN       KEMAYORAN             1164   35-39        Laki-Laki    \n",
              "19  KEMAYORAN       KEBON KOSONG          1644   35-39        Laki-Laki    \n",
              "20  KEMAYORAN       HARAPAN MULIA         1256   35-39        Laki-Laki    \n",
              "21  KEMAYORAN       SERDANG               1603   35-39        Laki-Laki    \n",
              "22  KEMAYORAN       GUNUNG SAHARI SELATAN 1071   35-39        Laki-Laki    \n",
              "23  KEMAYORAN       CEMPAKA BARU          1750   35-39        Laki-Laki    \n",
              "24  KEMAYORAN       SUMUR BATU            1452   35-39        Laki-Laki    \n",
              "25  KEMAYORAN       UTAN PANJANG          1610   35-39        Laki-Laki    \n",
              "26  SENEN           SENEN                  398   35-39        Laki-Laki    \n",
              "27  SENEN           KENARI                 456   35-39        Laki-Laki    \n",
              "28  SENEN           PASEBAN               1266   35-39        Laki-Laki    \n",
              "29  SENEN           KRAMAT                1552   35-39        Laki-Laki    \n",
              "30  SENEN           KWITANG                908   35-39        Laki-Laki    \n",
              "⋮   ⋮               ⋮                     ⋮      ⋮            ⋮            \n",
              "505 CAKUNG          PENGGILINGAN          4385   35-39        Perempuan    \n",
              "506 CAKUNG          CAKUNG TIMUR          2953   35-39        Perempuan    \n",
              "507 CAKUNG          PULO GEBANG           4030   35-39        Perempuan    \n",
              "508 CAKUNG          UJUNG MENTENG         1441   35-39        Perempuan    \n",
              "509 CAKUNG          CAKUNG BARAT          3275   35-39        Perempuan    \n",
              "510 DUREN SAWIT     DUREN SAWIT           3055   35-39        Perempuan    \n",
              "511 DUREN SAWIT     PONDOK BAMBU          3122   35-39        Perempuan    \n",
              "512 DUREN SAWIT     KLENDER               3569   35-39        Perempuan    \n",
              "513 DUREN SAWIT     PONDOK KELAPA         3356   35-39        Perempuan    \n",
              "514 DUREN SAWIT     MALAKA SARI           1703   35-39        Perempuan    \n",
              "515 DUREN SAWIT     MALAKA JAYA           1984   35-39        Perempuan    \n",
              "516 DUREN SAWIT     PONDOK KOPI           1604   35-39        Perempuan    \n",
              "517 MAKASAR         MAKASAR               1815   35-39        Perempuan    \n",
              "518 MAKASAR         PINANG RANTI          1284   35-39        Perempuan    \n",
              "519 MAKASAR         KEBON PALA            2502   35-39        Perempuan    \n",
              "520 MAKASAR         HALIM PERDANA KUSUMAH 1576   35-39        Perempuan    \n",
              "521 MAKASAR         CIPINANG MELAYU       2104   35-39        Perempuan    \n",
              "522 CIRACAS         CIRACAS               3085   35-39        Perempuan    \n",
              "523 CIRACAS         CIBUBUR               3175   35-39        Perempuan    \n",
              "524 CIRACAS         KELAPA DUA WETAN      2177   35-39        Perempuan    \n",
              "525 CIRACAS         SUSUKAN               1846   35-39        Perempuan    \n",
              "526 CIRACAS         RAMBUTAN              1849   35-39        Perempuan    \n",
              "527 CIPAYUNG        CIPAYUNG              1172   35-39        Perempuan    \n",
              "528 CIPAYUNG        CILANGKAP             1276   35-39        Perempuan    \n",
              "529 CIPAYUNG        PONDOK RANGGON        1064   35-39        Perempuan    \n",
              "530 CIPAYUNG        MUNJUL                1112   35-39        Perempuan    \n",
              "531 CIPAYUNG        SETU                   928   35-39        Perempuan    \n",
              "532 CIPAYUNG        BAMBU APUS            1187   35-39        Perempuan    \n",
              "533 CIPAYUNG        LUBANG BUAYA          2988   35-39        Perempuan    \n",
              "534 CIPAYUNG        CEGER                  930   35-39        Perempuan    "
            ]
          },
          "metadata": {}
        }
      ]
    }
  ]
}