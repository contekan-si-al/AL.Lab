{
  "nbformat": 4,
  "nbformat_minor": 0,
  "metadata": {
    "colab": {
      "name": "Project Simple ETL with Pandas.ipynb",
      "provenance": []
    },
    "kernelspec": {
      "name": "python3",
      "display_name": "Python 3"
    },
    "language_info": {
      "name": "python"
    }
  },
  "cells": [
    {
      "cell_type": "code",
      "execution_count": 2,
      "metadata": {
        "colab": {
          "base_uri": "https://localhost:8080/"
        },
        "id": "vn6LSN5hMHD0",
        "outputId": "2c97867c-e0ad-4938-c99d-60203d5537b8"
      },
      "outputs": [
        {
          "output_type": "stream",
          "name": "stdout",
          "text": [
            "Mounted at /content/drive\n"
          ]
        }
      ],
      "source": [
        "# singkronisasi ke g-drive\n",
        "\n",
        "from google.colab import drive\n",
        "drive.mount('/content/drive')"
      ]
    },
    {
      "cell_type": "markdown",
      "source": [
        "## Transform Data"
      ],
      "metadata": {
        "id": "SMPWM_ZCNcLh"
      }
    },
    {
      "cell_type": "markdown",
      "source": [
        "#### [Extract](https://academy.dqlab.id/main/projectcode/300/590/2945?pr=0)"
      ],
      "metadata": {
        "id": "wsVbrICjNn0A"
      }
    },
    {
      "cell_type": "code",
      "source": [
        "import pandas as pd\n",
        "\n",
        "df_participant = pd.read_csv('/content/drive/MyDrive/AL. Lab/Sanca/Datasets/dqthon-participants.csv')"
      ],
      "metadata": {
        "id": "FafRdGQ1Nrxg"
      },
      "execution_count": 7,
      "outputs": []
    },
    {
      "cell_type": "code",
      "source": [
        "df_participant.head(9)"
      ],
      "metadata": {
        "colab": {
          "base_uri": "https://localhost:8080/",
          "height": 376
        },
        "id": "s_NNGfzvOTrs",
        "outputId": "cdcf44f6-c218-42fc-be33-8c0831284b51"
      },
      "execution_count": 10,
      "outputs": [
        {
          "output_type": "execute_result",
          "data": {
            "text/plain": [
              "                         participant_id first_name   last_name   birth_date  \\\n",
              "0  bd9b6f88-b84f-4c4d-90f8-b67fe2f1a29a      Citra  Nurdiyanti  05 Feb 1991   \n",
              "1  7dfe3391-6f40-47b6-b4db-0c76ebaf5fc3       Aris    Setiawan  11 Jan 1993   \n",
              "2  19582d7f-b824-4fe5-a517-d5bf573fc768   Cornelia   Handayani  31 Jul 1993   \n",
              "3  aeb6d817-25f3-4867-8a74-8d92e0a0f633      Soleh      Rajasa  04 Nov 1991   \n",
              "4  1fdabdd9-5444-4c97-87b2-fe8833ad0d27       Vivi      Astuti  22 Jan 2003   \n",
              "5  f1e8749d-6dec-4ede-be25-efb31ce80f99  Bahuraksa  Mangunsong  13 Nov 1997   \n",
              "6  707219fa-cb0b-467c-ad32-e99c61603020      Tiara     Maryati  10 Mar 1994   \n",
              "7  bc4e9cc3-f49b-40a2-905c-3e9dcf3af958      Dimaz     Gunarto  16 Feb 2000   \n",
              "8  7ca0a2e8-bab0-42a3-b6aa-ef4df35c7800       Zizi   Puspasari  11 Apr 2002   \n",
              "\n",
              "                                             address        phone_number  \\\n",
              "0           Gg. Monginsidi No. 08\\nMedan, Aceh 80734     (0151) 081 2706   \n",
              "1     Gg. Rajawali Timur No. 7\\nPrabumulih, MA 09434  +62 (036) 461 7027   \n",
              "2             Jalan Kebonjati No. 0\\nAmbon, SS 57739        089 833 6695   \n",
              "3    Jl. Yos Sudarso No. 109\\nLubuklinggau, SR 76156  +62 (418) 329-4756   \n",
              "4  Jalan Gardujati No. 53\\nKediri, Sulawesi Tenga...          0812511835   \n",
              "5       Jl. Pacuan Kuda No. 58\\nDenpasar, Aceh 00880   +62 (11) 369-7082   \n",
              "6          Gg. Cihampelas No. 4\\nSamarinda, KT 48108     (0244) 430 7220   \n",
              "7           Gg. Sukabumi No. 7\\nParepare, Bali 64255  +62 (056) 931-9059   \n",
              "8                   Gg. Peta No. 01\\nMedan, BE 89056   +62 (11) 826-1289   \n",
              "\n",
              "                     country                         institute  \\\n",
              "0                    Georgia              UD Prakasa Mandasari   \n",
              "1                Korea Utara            Universitas Diponegoro   \n",
              "2                     Komoro          UD Hardiansyah Puspasari   \n",
              "3                    Eritrea         Perum Tampubolon Yuliarti   \n",
              "4                   Aljazair            PT Hardiansyah Rahimah   \n",
              "5                     Zambia             CV Mardhiyah Haryanto   \n",
              "6                      Libya                 UD Irawan Wahyuni   \n",
              "7  Republik Demokratik Kongo                   Perum Purnawati   \n",
              "8                     Gambia  Universitas Bhayangkara Surabaya   \n",
              "\n",
              "                       occupation  register_time  \n",
              "0  Business Intelligence Engineer   1.617634e+09  \n",
              "1               Frontend Engineer   1.617634e+09  \n",
              "2                Business Analyst   1.617634e+09  \n",
              "3                 DevOps Engineer   1.617634e+09  \n",
              "4                    Data Analyst   1.617634e+09  \n",
              "5                Business Analyst   1.617634e+09  \n",
              "6                 Product Analyst   1.617634e+09  \n",
              "7                  Data Scientist   1.617634e+09  \n",
              "8                    Data Analyst   1.617634e+09  "
            ],
            "text/html": [
              "\n",
              "  <div id=\"df-7bf0bf6f-2d46-4fed-aaef-6038c682df24\">\n",
              "    <div class=\"colab-df-container\">\n",
              "      <div>\n",
              "<style scoped>\n",
              "    .dataframe tbody tr th:only-of-type {\n",
              "        vertical-align: middle;\n",
              "    }\n",
              "\n",
              "    .dataframe tbody tr th {\n",
              "        vertical-align: top;\n",
              "    }\n",
              "\n",
              "    .dataframe thead th {\n",
              "        text-align: right;\n",
              "    }\n",
              "</style>\n",
              "<table border=\"1\" class=\"dataframe\">\n",
              "  <thead>\n",
              "    <tr style=\"text-align: right;\">\n",
              "      <th></th>\n",
              "      <th>participant_id</th>\n",
              "      <th>first_name</th>\n",
              "      <th>last_name</th>\n",
              "      <th>birth_date</th>\n",
              "      <th>address</th>\n",
              "      <th>phone_number</th>\n",
              "      <th>country</th>\n",
              "      <th>institute</th>\n",
              "      <th>occupation</th>\n",
              "      <th>register_time</th>\n",
              "    </tr>\n",
              "  </thead>\n",
              "  <tbody>\n",
              "    <tr>\n",
              "      <th>0</th>\n",
              "      <td>bd9b6f88-b84f-4c4d-90f8-b67fe2f1a29a</td>\n",
              "      <td>Citra</td>\n",
              "      <td>Nurdiyanti</td>\n",
              "      <td>05 Feb 1991</td>\n",
              "      <td>Gg. Monginsidi No. 08\\nMedan, Aceh 80734</td>\n",
              "      <td>(0151) 081 2706</td>\n",
              "      <td>Georgia</td>\n",
              "      <td>UD Prakasa Mandasari</td>\n",
              "      <td>Business Intelligence Engineer</td>\n",
              "      <td>1.617634e+09</td>\n",
              "    </tr>\n",
              "    <tr>\n",
              "      <th>1</th>\n",
              "      <td>7dfe3391-6f40-47b6-b4db-0c76ebaf5fc3</td>\n",
              "      <td>Aris</td>\n",
              "      <td>Setiawan</td>\n",
              "      <td>11 Jan 1993</td>\n",
              "      <td>Gg. Rajawali Timur No. 7\\nPrabumulih, MA 09434</td>\n",
              "      <td>+62 (036) 461 7027</td>\n",
              "      <td>Korea Utara</td>\n",
              "      <td>Universitas Diponegoro</td>\n",
              "      <td>Frontend Engineer</td>\n",
              "      <td>1.617634e+09</td>\n",
              "    </tr>\n",
              "    <tr>\n",
              "      <th>2</th>\n",
              "      <td>19582d7f-b824-4fe5-a517-d5bf573fc768</td>\n",
              "      <td>Cornelia</td>\n",
              "      <td>Handayani</td>\n",
              "      <td>31 Jul 1993</td>\n",
              "      <td>Jalan Kebonjati No. 0\\nAmbon, SS 57739</td>\n",
              "      <td>089 833 6695</td>\n",
              "      <td>Komoro</td>\n",
              "      <td>UD Hardiansyah Puspasari</td>\n",
              "      <td>Business Analyst</td>\n",
              "      <td>1.617634e+09</td>\n",
              "    </tr>\n",
              "    <tr>\n",
              "      <th>3</th>\n",
              "      <td>aeb6d817-25f3-4867-8a74-8d92e0a0f633</td>\n",
              "      <td>Soleh</td>\n",
              "      <td>Rajasa</td>\n",
              "      <td>04 Nov 1991</td>\n",
              "      <td>Jl. Yos Sudarso No. 109\\nLubuklinggau, SR 76156</td>\n",
              "      <td>+62 (418) 329-4756</td>\n",
              "      <td>Eritrea</td>\n",
              "      <td>Perum Tampubolon Yuliarti</td>\n",
              "      <td>DevOps Engineer</td>\n",
              "      <td>1.617634e+09</td>\n",
              "    </tr>\n",
              "    <tr>\n",
              "      <th>4</th>\n",
              "      <td>1fdabdd9-5444-4c97-87b2-fe8833ad0d27</td>\n",
              "      <td>Vivi</td>\n",
              "      <td>Astuti</td>\n",
              "      <td>22 Jan 2003</td>\n",
              "      <td>Jalan Gardujati No. 53\\nKediri, Sulawesi Tenga...</td>\n",
              "      <td>0812511835</td>\n",
              "      <td>Aljazair</td>\n",
              "      <td>PT Hardiansyah Rahimah</td>\n",
              "      <td>Data Analyst</td>\n",
              "      <td>1.617634e+09</td>\n",
              "    </tr>\n",
              "    <tr>\n",
              "      <th>5</th>\n",
              "      <td>f1e8749d-6dec-4ede-be25-efb31ce80f99</td>\n",
              "      <td>Bahuraksa</td>\n",
              "      <td>Mangunsong</td>\n",
              "      <td>13 Nov 1997</td>\n",
              "      <td>Jl. Pacuan Kuda No. 58\\nDenpasar, Aceh 00880</td>\n",
              "      <td>+62 (11) 369-7082</td>\n",
              "      <td>Zambia</td>\n",
              "      <td>CV Mardhiyah Haryanto</td>\n",
              "      <td>Business Analyst</td>\n",
              "      <td>1.617634e+09</td>\n",
              "    </tr>\n",
              "    <tr>\n",
              "      <th>6</th>\n",
              "      <td>707219fa-cb0b-467c-ad32-e99c61603020</td>\n",
              "      <td>Tiara</td>\n",
              "      <td>Maryati</td>\n",
              "      <td>10 Mar 1994</td>\n",
              "      <td>Gg. Cihampelas No. 4\\nSamarinda, KT 48108</td>\n",
              "      <td>(0244) 430 7220</td>\n",
              "      <td>Libya</td>\n",
              "      <td>UD Irawan Wahyuni</td>\n",
              "      <td>Product Analyst</td>\n",
              "      <td>1.617634e+09</td>\n",
              "    </tr>\n",
              "    <tr>\n",
              "      <th>7</th>\n",
              "      <td>bc4e9cc3-f49b-40a2-905c-3e9dcf3af958</td>\n",
              "      <td>Dimaz</td>\n",
              "      <td>Gunarto</td>\n",
              "      <td>16 Feb 2000</td>\n",
              "      <td>Gg. Sukabumi No. 7\\nParepare, Bali 64255</td>\n",
              "      <td>+62 (056) 931-9059</td>\n",
              "      <td>Republik Demokratik Kongo</td>\n",
              "      <td>Perum Purnawati</td>\n",
              "      <td>Data Scientist</td>\n",
              "      <td>1.617634e+09</td>\n",
              "    </tr>\n",
              "    <tr>\n",
              "      <th>8</th>\n",
              "      <td>7ca0a2e8-bab0-42a3-b6aa-ef4df35c7800</td>\n",
              "      <td>Zizi</td>\n",
              "      <td>Puspasari</td>\n",
              "      <td>11 Apr 2002</td>\n",
              "      <td>Gg. Peta No. 01\\nMedan, BE 89056</td>\n",
              "      <td>+62 (11) 826-1289</td>\n",
              "      <td>Gambia</td>\n",
              "      <td>Universitas Bhayangkara Surabaya</td>\n",
              "      <td>Data Analyst</td>\n",
              "      <td>1.617634e+09</td>\n",
              "    </tr>\n",
              "  </tbody>\n",
              "</table>\n",
              "</div>\n",
              "      <button class=\"colab-df-convert\" onclick=\"convertToInteractive('df-7bf0bf6f-2d46-4fed-aaef-6038c682df24')\"\n",
              "              title=\"Convert this dataframe to an interactive table.\"\n",
              "              style=\"display:none;\">\n",
              "        \n",
              "  <svg xmlns=\"http://www.w3.org/2000/svg\" height=\"24px\"viewBox=\"0 0 24 24\"\n",
              "       width=\"24px\">\n",
              "    <path d=\"M0 0h24v24H0V0z\" fill=\"none\"/>\n",
              "    <path d=\"M18.56 5.44l.94 2.06.94-2.06 2.06-.94-2.06-.94-.94-2.06-.94 2.06-2.06.94zm-11 1L8.5 8.5l.94-2.06 2.06-.94-2.06-.94L8.5 2.5l-.94 2.06-2.06.94zm10 10l.94 2.06.94-2.06 2.06-.94-2.06-.94-.94-2.06-.94 2.06-2.06.94z\"/><path d=\"M17.41 7.96l-1.37-1.37c-.4-.4-.92-.59-1.43-.59-.52 0-1.04.2-1.43.59L10.3 9.45l-7.72 7.72c-.78.78-.78 2.05 0 2.83L4 21.41c.39.39.9.59 1.41.59.51 0 1.02-.2 1.41-.59l7.78-7.78 2.81-2.81c.8-.78.8-2.07 0-2.86zM5.41 20L4 18.59l7.72-7.72 1.47 1.35L5.41 20z\"/>\n",
              "  </svg>\n",
              "      </button>\n",
              "      \n",
              "  <style>\n",
              "    .colab-df-container {\n",
              "      display:flex;\n",
              "      flex-wrap:wrap;\n",
              "      gap: 12px;\n",
              "    }\n",
              "\n",
              "    .colab-df-convert {\n",
              "      background-color: #E8F0FE;\n",
              "      border: none;\n",
              "      border-radius: 50%;\n",
              "      cursor: pointer;\n",
              "      display: none;\n",
              "      fill: #1967D2;\n",
              "      height: 32px;\n",
              "      padding: 0 0 0 0;\n",
              "      width: 32px;\n",
              "    }\n",
              "\n",
              "    .colab-df-convert:hover {\n",
              "      background-color: #E2EBFA;\n",
              "      box-shadow: 0px 1px 2px rgba(60, 64, 67, 0.3), 0px 1px 3px 1px rgba(60, 64, 67, 0.15);\n",
              "      fill: #174EA6;\n",
              "    }\n",
              "\n",
              "    [theme=dark] .colab-df-convert {\n",
              "      background-color: #3B4455;\n",
              "      fill: #D2E3FC;\n",
              "    }\n",
              "\n",
              "    [theme=dark] .colab-df-convert:hover {\n",
              "      background-color: #434B5C;\n",
              "      box-shadow: 0px 1px 3px 1px rgba(0, 0, 0, 0.15);\n",
              "      filter: drop-shadow(0px 1px 2px rgba(0, 0, 0, 0.3));\n",
              "      fill: #FFFFFF;\n",
              "    }\n",
              "  </style>\n",
              "\n",
              "      <script>\n",
              "        const buttonEl =\n",
              "          document.querySelector('#df-7bf0bf6f-2d46-4fed-aaef-6038c682df24 button.colab-df-convert');\n",
              "        buttonEl.style.display =\n",
              "          google.colab.kernel.accessAllowed ? 'block' : 'none';\n",
              "\n",
              "        async function convertToInteractive(key) {\n",
              "          const element = document.querySelector('#df-7bf0bf6f-2d46-4fed-aaef-6038c682df24');\n",
              "          const dataTable =\n",
              "            await google.colab.kernel.invokeFunction('convertToInteractive',\n",
              "                                                     [key], {});\n",
              "          if (!dataTable) return;\n",
              "\n",
              "          const docLinkHtml = 'Like what you see? Visit the ' +\n",
              "            '<a target=\"_blank\" href=https://colab.research.google.com/notebooks/data_table.ipynb>data table notebook</a>'\n",
              "            + ' to learn more about interactive tables.';\n",
              "          element.innerHTML = '';\n",
              "          dataTable['output_type'] = 'display_data';\n",
              "          await google.colab.output.renderOutput(dataTable, element);\n",
              "          const docLink = document.createElement('div');\n",
              "          docLink.innerHTML = docLinkHtml;\n",
              "          element.appendChild(docLink);\n",
              "        }\n",
              "      </script>\n",
              "    </div>\n",
              "  </div>\n",
              "  "
            ]
          },
          "metadata": {},
          "execution_count": 10
        }
      ]
    },
    {
      "cell_type": "markdown",
      "source": [
        "#### [Transform Bagian I - Kode Pos](https://academy.dqlab.id/main/projectcode/300/590/2947?pr=0)"
      ],
      "metadata": {
        "id": "MrTd3bMlN6MN"
      }
    },
    {
      "cell_type": "code",
      "source": [
        "#Masukkan regex Anda didalam fungsi extract\n",
        "\n",
        "df_participant['postal_code'] = df_participant['address'].str.extract(r'(\\d+)$') "
      ],
      "metadata": {
        "id": "tPQp9WjsN9tH"
      },
      "execution_count": 11,
      "outputs": []
    },
    {
      "cell_type": "code",
      "source": [
        "df_participant['postal_code'].head(9)"
      ],
      "metadata": {
        "colab": {
          "base_uri": "https://localhost:8080/"
        },
        "id": "9zsqZjeUOrGU",
        "outputId": "c9ddc167-0314-4acf-cf66-7cc3511e8fdf"
      },
      "execution_count": 12,
      "outputs": [
        {
          "output_type": "execute_result",
          "data": {
            "text/plain": [
              "0    80734\n",
              "1    09434\n",
              "2    57739\n",
              "3    76156\n",
              "4    70074\n",
              "5    00880\n",
              "6    48108\n",
              "7    64255\n",
              "8    89056\n",
              "Name: postal_code, dtype: object"
            ]
          },
          "metadata": {},
          "execution_count": 12
        }
      ]
    },
    {
      "cell_type": "markdown",
      "source": [
        "#### [Transform Bagian II - Kota](https://academy.dqlab.id/main/projectcode/300/590/2948?pr=0)"
      ],
      "metadata": {
        "id": "RO0B5ypAO1Ix"
      }
    },
    {
      "cell_type": "code",
      "source": [
        "#Masukkan regex Anda didalam fungsi extract\n",
        "\n",
        "df_participant['city'] = df_participant['address'].str.extract(r'(?<=\\n)(\\w.+)(?=,)')"
      ],
      "metadata": {
        "id": "xc6xC1FhO5Bk"
      },
      "execution_count": 13,
      "outputs": []
    },
    {
      "cell_type": "code",
      "source": [
        "df_participant['city'].head(9)"
      ],
      "metadata": {
        "colab": {
          "base_uri": "https://localhost:8080/"
        },
        "id": "wNJDLt8uPBR0",
        "outputId": "891056f6-87e5-4ea3-84a0-cde9a2bdfb6a"
      },
      "execution_count": 14,
      "outputs": [
        {
          "output_type": "execute_result",
          "data": {
            "text/plain": [
              "0           Medan\n",
              "1      Prabumulih\n",
              "2           Ambon\n",
              "3    Lubuklinggau\n",
              "4          Kediri\n",
              "5        Denpasar\n",
              "6       Samarinda\n",
              "7        Parepare\n",
              "8           Medan\n",
              "Name: city, dtype: object"
            ]
          },
          "metadata": {},
          "execution_count": 14
        }
      ]
    },
    {
      "cell_type": "markdown",
      "source": [
        "#### [Transform Bagian III - Github](https://academy.dqlab.id/main/projectcode/300/590/2949?pr=0)"
      ],
      "metadata": {
        "id": "oXkA0TJLPNlC"
      }
    },
    {
      "cell_type": "code",
      "source": [
        "df_participant['github_profile'] = 'https://github.com/' + df_participant['first_name'].str.lower() + df_participant['last_name'].str.lower()"
      ],
      "metadata": {
        "id": "usx6RNmFPQof"
      },
      "execution_count": 15,
      "outputs": []
    },
    {
      "cell_type": "code",
      "source": [
        "df_participant['github_profile'].head(9)"
      ],
      "metadata": {
        "colab": {
          "base_uri": "https://localhost:8080/"
        },
        "id": "j7aacV9EPZb8",
        "outputId": "da856ad5-0894-4416-8062-5e1c6658252a"
      },
      "execution_count": 16,
      "outputs": [
        {
          "output_type": "execute_result",
          "data": {
            "text/plain": [
              "0        https://github.com/citranurdiyanti\n",
              "1           https://github.com/arissetiawan\n",
              "2      https://github.com/corneliahandayani\n",
              "3            https://github.com/solehrajasa\n",
              "4             https://github.com/viviastuti\n",
              "5    https://github.com/bahuraksamangunsong\n",
              "6           https://github.com/tiaramaryati\n",
              "7           https://github.com/dimazgunarto\n",
              "8          https://github.com/zizipuspasari\n",
              "Name: github_profile, dtype: object"
            ]
          },
          "metadata": {},
          "execution_count": 16
        }
      ]
    },
    {
      "cell_type": "markdown",
      "source": [
        "#### [Transform Bagian IV - Nomor Handphone](https://academy.dqlab.id/main/projectcode/300/590/2950?pr=0)"
      ],
      "metadata": {
        "id": "8Kr7QiluPmkV"
      }
    },
    {
      "cell_type": "code",
      "source": [
        "#Masukkan regex anda pada parameter pertama dari fungsi replace\n",
        "df_participant['cleaned_phone_number'] = df_participant['phone_number'].str.replace(r'^(\\+62|62)', '0')\n",
        "df_participant['cleaned_phone_number'] = df_participant['cleaned_phone_number'].str.replace(r'[()-]', '')\n",
        "df_participant['cleaned_phone_number'] = df_participant['cleaned_phone_number'].str.replace(r'\\s+', '')"
      ],
      "metadata": {
        "colab": {
          "base_uri": "https://localhost:8080/"
        },
        "id": "Jr9IQtR2PqXU",
        "outputId": "d431978e-79e8-4b11-af87-480ca32828ff"
      },
      "execution_count": 17,
      "outputs": [
        {
          "output_type": "stream",
          "name": "stderr",
          "text": [
            "/usr/local/lib/python3.7/dist-packages/ipykernel_launcher.py:2: FutureWarning: The default value of regex will change from True to False in a future version.\n",
            "  \n",
            "/usr/local/lib/python3.7/dist-packages/ipykernel_launcher.py:3: FutureWarning: The default value of regex will change from True to False in a future version.\n",
            "  This is separate from the ipykernel package so we can avoid doing imports until\n",
            "/usr/local/lib/python3.7/dist-packages/ipykernel_launcher.py:4: FutureWarning: The default value of regex will change from True to False in a future version.\n",
            "  after removing the cwd from sys.path.\n"
          ]
        }
      ]
    },
    {
      "cell_type": "code",
      "source": [
        "df_participant['cleaned_phone_number'].head(9)"
      ],
      "metadata": {
        "colab": {
          "base_uri": "https://localhost:8080/"
        },
        "id": "EGLNtZ4JP1bR",
        "outputId": "5008df8a-adc1-4659-915f-5261579f3331"
      },
      "execution_count": 18,
      "outputs": [
        {
          "output_type": "execute_result",
          "data": {
            "text/plain": [
              "0    01510812706\n",
              "1    00364617027\n",
              "2     0898336695\n",
              "3    04183294756\n",
              "4     0812511835\n",
              "5     0113697082\n",
              "6    02444307220\n",
              "7    00569319059\n",
              "8     0118261289\n",
              "Name: cleaned_phone_number, dtype: object"
            ]
          },
          "metadata": {},
          "execution_count": 18
        }
      ]
    },
    {
      "cell_type": "markdown",
      "source": [
        "#### [Transform Bagian V - Nama Tim](https://academy.dqlab.id/main/projectcode/300/590/2951?pr=0)"
      ],
      "metadata": {
        "id": "tzWCnb06QVSh"
      }
    },
    {
      "cell_type": "code",
      "source": [
        "def func(col):\n",
        "    abbrev_name = \"%s%s\"%(col['first_name'][0],col['last_name'][0]) #Singkatan dari Nama Depan dan Nama Belakang dengan mengambil huruf pertama\n",
        "    country = col['country']\n",
        "    abbrev_institute = '%s'%(''.join(list(map(lambda word: word[0], col['institute'].split())))) #Singkatan dari value di kolom institute\n",
        "    return \"%s-%s-%s\"%(abbrev_name,country,abbrev_institute)\n",
        "\n",
        "df_participant['team_name'] = df_participant.apply(func, axis=1)"
      ],
      "metadata": {
        "id": "p_OkXhsUQZUg"
      },
      "execution_count": 20,
      "outputs": []
    },
    {
      "cell_type": "code",
      "source": [
        "df_participant['team_name'].head(9)"
      ],
      "metadata": {
        "colab": {
          "base_uri": "https://localhost:8080/"
        },
        "id": "Z8KOfjj_Qjvb",
        "outputId": "9825c9bd-666c-428b-a29e-f8fad9d4b89b"
      },
      "execution_count": 21,
      "outputs": [
        {
          "output_type": "execute_result",
          "data": {
            "text/plain": [
              "0                     CN-Georgia-UPM\n",
              "1                  AS-Korea Utara-UD\n",
              "2                      CH-Komoro-UHP\n",
              "3                     SR-Eritrea-PTY\n",
              "4                    VA-Aljazair-PHR\n",
              "5                      BM-Zambia-CMH\n",
              "6                       TM-Libya-UIW\n",
              "7    DG-Republik Demokratik Kongo-PP\n",
              "8                      ZP-Gambia-UBS\n",
              "Name: team_name, dtype: object"
            ]
          },
          "metadata": {},
          "execution_count": 21
        }
      ]
    },
    {
      "cell_type": "markdown",
      "source": [
        "#### [Transform Bagian VI - Email](https://academy.dqlab.id/main/projectcode/300/590/2953?pr=0)"
      ],
      "metadata": {
        "id": "xGS9vOMfQxRf"
      }
    },
    {
      "cell_type": "code",
      "source": [
        "def func(col):\n",
        "    first_name_lower = col['first_name'].lower()\n",
        "    last_name_lower = col['last_name'].lower()\n",
        "    institute = ''.join(list(map(lambda word: word[0], col['institute'].lower().split()))) #Singkatan dari nama perusahaan dalam lowercase\n",
        "\n",
        "    if 'Universitas' in col['institute']:\n",
        "        if len(col['country'].split()) > 1: #Kondisi untuk mengecek apakah jumlah kata dari country lebih dari 1\n",
        "            country = ''.join(list(map(lambda word: word[0], col['country'].lower().split())))\n",
        "        else:\n",
        "            country = col['country'][:3].lower()\n",
        "        return \"%s%s@%s.ac.%s\"%(first_name_lower,last_name_lower,institute,country)\n",
        "\n",
        "    return \"%s%s@%s.com\"%(first_name_lower,last_name_lower,institute)\n",
        "\n",
        "df_participant['email'] = df_participant.apply(func, axis=1)"
      ],
      "metadata": {
        "id": "xTo3fa6XQ2XT"
      },
      "execution_count": 22,
      "outputs": []
    },
    {
      "cell_type": "code",
      "source": [
        "df_participant['email'].head(9)"
      ],
      "metadata": {
        "colab": {
          "base_uri": "https://localhost:8080/"
        },
        "id": "e3D8ya0kRBiP",
        "outputId": "682f1a4d-8593-4337-ed49-0fd0a077e536"
      },
      "execution_count": 23,
      "outputs": [
        {
          "output_type": "execute_result",
          "data": {
            "text/plain": [
              "0        citranurdiyanti@upm.com\n",
              "1          arissetiawan@ud.ac.ku\n",
              "2      corneliahandayani@uhp.com\n",
              "3            solehrajasa@pty.com\n",
              "4             viviastuti@phr.com\n",
              "5    bahuraksamangunsong@cmh.com\n",
              "6           tiaramaryati@uiw.com\n",
              "7            dimazgunarto@pp.com\n",
              "8       zizipuspasari@ubs.ac.gam\n",
              "Name: email, dtype: object"
            ]
          },
          "metadata": {},
          "execution_count": 23
        }
      ]
    },
    {
      "cell_type": "markdown",
      "source": [
        "#### [Transform Bagian VII - Tanggal Lahir](https://academy.dqlab.id/main/projectcode/300/590/2954?pr=0)"
      ],
      "metadata": {
        "id": "iplLh_7cRQnB"
      }
    },
    {
      "cell_type": "code",
      "source": [
        "df_participant['birth_date'] = pd.to_datetime(df_participant['birth_date'], format='%d %b %Y')"
      ],
      "metadata": {
        "id": "UruZSWKORT4M"
      },
      "execution_count": 24,
      "outputs": []
    },
    {
      "cell_type": "code",
      "source": [
        "df_participant['birth_date'].head(9)"
      ],
      "metadata": {
        "colab": {
          "base_uri": "https://localhost:8080/"
        },
        "id": "juFyJdwNRW7n",
        "outputId": "3e10a4f0-3f87-4ffd-b191-27ed5b06d792"
      },
      "execution_count": 25,
      "outputs": [
        {
          "output_type": "execute_result",
          "data": {
            "text/plain": [
              "0   1991-02-05\n",
              "1   1993-01-11\n",
              "2   1993-07-31\n",
              "3   1991-11-04\n",
              "4   2003-01-22\n",
              "5   1997-11-13\n",
              "6   1994-03-10\n",
              "7   2000-02-16\n",
              "8   2002-04-11\n",
              "Name: birth_date, dtype: datetime64[ns]"
            ]
          },
          "metadata": {},
          "execution_count": 25
        }
      ]
    },
    {
      "cell_type": "markdown",
      "source": [
        "#### [Transform Bagian VII - Tanggal Daftar Kompetisi](https://academy.dqlab.id/main/projectcode/300/590/2955?pr=0)"
      ],
      "metadata": {
        "id": "uGQZRPYGRbny"
      }
    },
    {
      "cell_type": "code",
      "source": [
        "df_participant['register_at'] = pd.to_datetime(df_participant['register_time'], unit='s')"
      ],
      "metadata": {
        "id": "s_0mS5XwRgNM"
      },
      "execution_count": 26,
      "outputs": []
    },
    {
      "cell_type": "code",
      "source": [
        "df_participant['register_at'].head(9)"
      ],
      "metadata": {
        "colab": {
          "base_uri": "https://localhost:8080/"
        },
        "id": "KkW-nvSWRkLD",
        "outputId": "e883df4f-ec18-4880-a83a-33c8dddb99a2"
      },
      "execution_count": 27,
      "outputs": [
        {
          "output_type": "execute_result",
          "data": {
            "text/plain": [
              "0   2021-04-05 14:47:26\n",
              "1   2021-04-05 14:46:58\n",
              "2   2021-04-05 14:47:15\n",
              "3   2021-04-05 14:47:14\n",
              "4   2021-04-05 14:46:50\n",
              "5   2021-04-05 14:46:04\n",
              "6   2021-04-05 14:46:22\n",
              "7   2021-04-05 14:45:30\n",
              "8   2021-04-05 14:45:50\n",
              "Name: register_at, dtype: datetime64[ns]"
            ]
          },
          "metadata": {},
          "execution_count": 27
        }
      ]
    },
    {
      "cell_type": "code",
      "source": [
        "df_participant.head(9)"
      ],
      "metadata": {
        "colab": {
          "base_uri": "https://localhost:8080/",
          "height": 725
        },
        "id": "49azoJxaRvDA",
        "outputId": "d3f00211-cb90-4d22-bef9-9ebb4f2db234"
      },
      "execution_count": 28,
      "outputs": [
        {
          "output_type": "execute_result",
          "data": {
            "text/plain": [
              "                         participant_id first_name   last_name birth_date  \\\n",
              "0  bd9b6f88-b84f-4c4d-90f8-b67fe2f1a29a      Citra  Nurdiyanti 1991-02-05   \n",
              "1  7dfe3391-6f40-47b6-b4db-0c76ebaf5fc3       Aris    Setiawan 1993-01-11   \n",
              "2  19582d7f-b824-4fe5-a517-d5bf573fc768   Cornelia   Handayani 1993-07-31   \n",
              "3  aeb6d817-25f3-4867-8a74-8d92e0a0f633      Soleh      Rajasa 1991-11-04   \n",
              "4  1fdabdd9-5444-4c97-87b2-fe8833ad0d27       Vivi      Astuti 2003-01-22   \n",
              "5  f1e8749d-6dec-4ede-be25-efb31ce80f99  Bahuraksa  Mangunsong 1997-11-13   \n",
              "6  707219fa-cb0b-467c-ad32-e99c61603020      Tiara     Maryati 1994-03-10   \n",
              "7  bc4e9cc3-f49b-40a2-905c-3e9dcf3af958      Dimaz     Gunarto 2000-02-16   \n",
              "8  7ca0a2e8-bab0-42a3-b6aa-ef4df35c7800       Zizi   Puspasari 2002-04-11   \n",
              "\n",
              "                                             address        phone_number  \\\n",
              "0           Gg. Monginsidi No. 08\\nMedan, Aceh 80734     (0151) 081 2706   \n",
              "1     Gg. Rajawali Timur No. 7\\nPrabumulih, MA 09434  +62 (036) 461 7027   \n",
              "2             Jalan Kebonjati No. 0\\nAmbon, SS 57739        089 833 6695   \n",
              "3    Jl. Yos Sudarso No. 109\\nLubuklinggau, SR 76156  +62 (418) 329-4756   \n",
              "4  Jalan Gardujati No. 53\\nKediri, Sulawesi Tenga...          0812511835   \n",
              "5       Jl. Pacuan Kuda No. 58\\nDenpasar, Aceh 00880   +62 (11) 369-7082   \n",
              "6          Gg. Cihampelas No. 4\\nSamarinda, KT 48108     (0244) 430 7220   \n",
              "7           Gg. Sukabumi No. 7\\nParepare, Bali 64255  +62 (056) 931-9059   \n",
              "8                   Gg. Peta No. 01\\nMedan, BE 89056   +62 (11) 826-1289   \n",
              "\n",
              "                     country                         institute  \\\n",
              "0                    Georgia              UD Prakasa Mandasari   \n",
              "1                Korea Utara            Universitas Diponegoro   \n",
              "2                     Komoro          UD Hardiansyah Puspasari   \n",
              "3                    Eritrea         Perum Tampubolon Yuliarti   \n",
              "4                   Aljazair            PT Hardiansyah Rahimah   \n",
              "5                     Zambia             CV Mardhiyah Haryanto   \n",
              "6                      Libya                 UD Irawan Wahyuni   \n",
              "7  Republik Demokratik Kongo                   Perum Purnawati   \n",
              "8                     Gambia  Universitas Bhayangkara Surabaya   \n",
              "\n",
              "                       occupation  register_time postal_code          city  \\\n",
              "0  Business Intelligence Engineer   1.617634e+09       80734         Medan   \n",
              "1               Frontend Engineer   1.617634e+09       09434    Prabumulih   \n",
              "2                Business Analyst   1.617634e+09       57739         Ambon   \n",
              "3                 DevOps Engineer   1.617634e+09       76156  Lubuklinggau   \n",
              "4                    Data Analyst   1.617634e+09       70074        Kediri   \n",
              "5                Business Analyst   1.617634e+09       00880      Denpasar   \n",
              "6                 Product Analyst   1.617634e+09       48108     Samarinda   \n",
              "7                  Data Scientist   1.617634e+09       64255      Parepare   \n",
              "8                    Data Analyst   1.617634e+09       89056         Medan   \n",
              "\n",
              "                           github_profile cleaned_phone_number  \\\n",
              "0      https://github.com/citranurdiyanti          01510812706   \n",
              "1         https://github.com/arissetiawan          00364617027   \n",
              "2    https://github.com/corneliahandayani           0898336695   \n",
              "3          https://github.com/solehrajasa          04183294756   \n",
              "4           https://github.com/viviastuti           0812511835   \n",
              "5  https://github.com/bahuraksamangunsong           0113697082   \n",
              "6         https://github.com/tiaramaryati          02444307220   \n",
              "7         https://github.com/dimazgunarto          00569319059   \n",
              "8        https://github.com/zizipuspasari           0118261289   \n",
              "\n",
              "                         team_name                        email  \\\n",
              "0                   CN-Georgia-UPM      citranurdiyanti@upm.com   \n",
              "1                AS-Korea Utara-UD        arissetiawan@ud.ac.ku   \n",
              "2                    CH-Komoro-UHP    corneliahandayani@uhp.com   \n",
              "3                   SR-Eritrea-PTY          solehrajasa@pty.com   \n",
              "4                  VA-Aljazair-PHR           viviastuti@phr.com   \n",
              "5                    BM-Zambia-CMH  bahuraksamangunsong@cmh.com   \n",
              "6                     TM-Libya-UIW         tiaramaryati@uiw.com   \n",
              "7  DG-Republik Demokratik Kongo-PP          dimazgunarto@pp.com   \n",
              "8                    ZP-Gambia-UBS     zizipuspasari@ubs.ac.gam   \n",
              "\n",
              "          register_at  \n",
              "0 2021-04-05 14:47:26  \n",
              "1 2021-04-05 14:46:58  \n",
              "2 2021-04-05 14:47:15  \n",
              "3 2021-04-05 14:47:14  \n",
              "4 2021-04-05 14:46:50  \n",
              "5 2021-04-05 14:46:04  \n",
              "6 2021-04-05 14:46:22  \n",
              "7 2021-04-05 14:45:30  \n",
              "8 2021-04-05 14:45:50  "
            ],
            "text/html": [
              "\n",
              "  <div id=\"df-1c8aab2c-d697-4e01-bc21-00cc636a2495\">\n",
              "    <div class=\"colab-df-container\">\n",
              "      <div>\n",
              "<style scoped>\n",
              "    .dataframe tbody tr th:only-of-type {\n",
              "        vertical-align: middle;\n",
              "    }\n",
              "\n",
              "    .dataframe tbody tr th {\n",
              "        vertical-align: top;\n",
              "    }\n",
              "\n",
              "    .dataframe thead th {\n",
              "        text-align: right;\n",
              "    }\n",
              "</style>\n",
              "<table border=\"1\" class=\"dataframe\">\n",
              "  <thead>\n",
              "    <tr style=\"text-align: right;\">\n",
              "      <th></th>\n",
              "      <th>participant_id</th>\n",
              "      <th>first_name</th>\n",
              "      <th>last_name</th>\n",
              "      <th>birth_date</th>\n",
              "      <th>address</th>\n",
              "      <th>phone_number</th>\n",
              "      <th>country</th>\n",
              "      <th>institute</th>\n",
              "      <th>occupation</th>\n",
              "      <th>register_time</th>\n",
              "      <th>postal_code</th>\n",
              "      <th>city</th>\n",
              "      <th>github_profile</th>\n",
              "      <th>cleaned_phone_number</th>\n",
              "      <th>team_name</th>\n",
              "      <th>email</th>\n",
              "      <th>register_at</th>\n",
              "    </tr>\n",
              "  </thead>\n",
              "  <tbody>\n",
              "    <tr>\n",
              "      <th>0</th>\n",
              "      <td>bd9b6f88-b84f-4c4d-90f8-b67fe2f1a29a</td>\n",
              "      <td>Citra</td>\n",
              "      <td>Nurdiyanti</td>\n",
              "      <td>1991-02-05</td>\n",
              "      <td>Gg. Monginsidi No. 08\\nMedan, Aceh 80734</td>\n",
              "      <td>(0151) 081 2706</td>\n",
              "      <td>Georgia</td>\n",
              "      <td>UD Prakasa Mandasari</td>\n",
              "      <td>Business Intelligence Engineer</td>\n",
              "      <td>1.617634e+09</td>\n",
              "      <td>80734</td>\n",
              "      <td>Medan</td>\n",
              "      <td>https://github.com/citranurdiyanti</td>\n",
              "      <td>01510812706</td>\n",
              "      <td>CN-Georgia-UPM</td>\n",
              "      <td>citranurdiyanti@upm.com</td>\n",
              "      <td>2021-04-05 14:47:26</td>\n",
              "    </tr>\n",
              "    <tr>\n",
              "      <th>1</th>\n",
              "      <td>7dfe3391-6f40-47b6-b4db-0c76ebaf5fc3</td>\n",
              "      <td>Aris</td>\n",
              "      <td>Setiawan</td>\n",
              "      <td>1993-01-11</td>\n",
              "      <td>Gg. Rajawali Timur No. 7\\nPrabumulih, MA 09434</td>\n",
              "      <td>+62 (036) 461 7027</td>\n",
              "      <td>Korea Utara</td>\n",
              "      <td>Universitas Diponegoro</td>\n",
              "      <td>Frontend Engineer</td>\n",
              "      <td>1.617634e+09</td>\n",
              "      <td>09434</td>\n",
              "      <td>Prabumulih</td>\n",
              "      <td>https://github.com/arissetiawan</td>\n",
              "      <td>00364617027</td>\n",
              "      <td>AS-Korea Utara-UD</td>\n",
              "      <td>arissetiawan@ud.ac.ku</td>\n",
              "      <td>2021-04-05 14:46:58</td>\n",
              "    </tr>\n",
              "    <tr>\n",
              "      <th>2</th>\n",
              "      <td>19582d7f-b824-4fe5-a517-d5bf573fc768</td>\n",
              "      <td>Cornelia</td>\n",
              "      <td>Handayani</td>\n",
              "      <td>1993-07-31</td>\n",
              "      <td>Jalan Kebonjati No. 0\\nAmbon, SS 57739</td>\n",
              "      <td>089 833 6695</td>\n",
              "      <td>Komoro</td>\n",
              "      <td>UD Hardiansyah Puspasari</td>\n",
              "      <td>Business Analyst</td>\n",
              "      <td>1.617634e+09</td>\n",
              "      <td>57739</td>\n",
              "      <td>Ambon</td>\n",
              "      <td>https://github.com/corneliahandayani</td>\n",
              "      <td>0898336695</td>\n",
              "      <td>CH-Komoro-UHP</td>\n",
              "      <td>corneliahandayani@uhp.com</td>\n",
              "      <td>2021-04-05 14:47:15</td>\n",
              "    </tr>\n",
              "    <tr>\n",
              "      <th>3</th>\n",
              "      <td>aeb6d817-25f3-4867-8a74-8d92e0a0f633</td>\n",
              "      <td>Soleh</td>\n",
              "      <td>Rajasa</td>\n",
              "      <td>1991-11-04</td>\n",
              "      <td>Jl. Yos Sudarso No. 109\\nLubuklinggau, SR 76156</td>\n",
              "      <td>+62 (418) 329-4756</td>\n",
              "      <td>Eritrea</td>\n",
              "      <td>Perum Tampubolon Yuliarti</td>\n",
              "      <td>DevOps Engineer</td>\n",
              "      <td>1.617634e+09</td>\n",
              "      <td>76156</td>\n",
              "      <td>Lubuklinggau</td>\n",
              "      <td>https://github.com/solehrajasa</td>\n",
              "      <td>04183294756</td>\n",
              "      <td>SR-Eritrea-PTY</td>\n",
              "      <td>solehrajasa@pty.com</td>\n",
              "      <td>2021-04-05 14:47:14</td>\n",
              "    </tr>\n",
              "    <tr>\n",
              "      <th>4</th>\n",
              "      <td>1fdabdd9-5444-4c97-87b2-fe8833ad0d27</td>\n",
              "      <td>Vivi</td>\n",
              "      <td>Astuti</td>\n",
              "      <td>2003-01-22</td>\n",
              "      <td>Jalan Gardujati No. 53\\nKediri, Sulawesi Tenga...</td>\n",
              "      <td>0812511835</td>\n",
              "      <td>Aljazair</td>\n",
              "      <td>PT Hardiansyah Rahimah</td>\n",
              "      <td>Data Analyst</td>\n",
              "      <td>1.617634e+09</td>\n",
              "      <td>70074</td>\n",
              "      <td>Kediri</td>\n",
              "      <td>https://github.com/viviastuti</td>\n",
              "      <td>0812511835</td>\n",
              "      <td>VA-Aljazair-PHR</td>\n",
              "      <td>viviastuti@phr.com</td>\n",
              "      <td>2021-04-05 14:46:50</td>\n",
              "    </tr>\n",
              "    <tr>\n",
              "      <th>5</th>\n",
              "      <td>f1e8749d-6dec-4ede-be25-efb31ce80f99</td>\n",
              "      <td>Bahuraksa</td>\n",
              "      <td>Mangunsong</td>\n",
              "      <td>1997-11-13</td>\n",
              "      <td>Jl. Pacuan Kuda No. 58\\nDenpasar, Aceh 00880</td>\n",
              "      <td>+62 (11) 369-7082</td>\n",
              "      <td>Zambia</td>\n",
              "      <td>CV Mardhiyah Haryanto</td>\n",
              "      <td>Business Analyst</td>\n",
              "      <td>1.617634e+09</td>\n",
              "      <td>00880</td>\n",
              "      <td>Denpasar</td>\n",
              "      <td>https://github.com/bahuraksamangunsong</td>\n",
              "      <td>0113697082</td>\n",
              "      <td>BM-Zambia-CMH</td>\n",
              "      <td>bahuraksamangunsong@cmh.com</td>\n",
              "      <td>2021-04-05 14:46:04</td>\n",
              "    </tr>\n",
              "    <tr>\n",
              "      <th>6</th>\n",
              "      <td>707219fa-cb0b-467c-ad32-e99c61603020</td>\n",
              "      <td>Tiara</td>\n",
              "      <td>Maryati</td>\n",
              "      <td>1994-03-10</td>\n",
              "      <td>Gg. Cihampelas No. 4\\nSamarinda, KT 48108</td>\n",
              "      <td>(0244) 430 7220</td>\n",
              "      <td>Libya</td>\n",
              "      <td>UD Irawan Wahyuni</td>\n",
              "      <td>Product Analyst</td>\n",
              "      <td>1.617634e+09</td>\n",
              "      <td>48108</td>\n",
              "      <td>Samarinda</td>\n",
              "      <td>https://github.com/tiaramaryati</td>\n",
              "      <td>02444307220</td>\n",
              "      <td>TM-Libya-UIW</td>\n",
              "      <td>tiaramaryati@uiw.com</td>\n",
              "      <td>2021-04-05 14:46:22</td>\n",
              "    </tr>\n",
              "    <tr>\n",
              "      <th>7</th>\n",
              "      <td>bc4e9cc3-f49b-40a2-905c-3e9dcf3af958</td>\n",
              "      <td>Dimaz</td>\n",
              "      <td>Gunarto</td>\n",
              "      <td>2000-02-16</td>\n",
              "      <td>Gg. Sukabumi No. 7\\nParepare, Bali 64255</td>\n",
              "      <td>+62 (056) 931-9059</td>\n",
              "      <td>Republik Demokratik Kongo</td>\n",
              "      <td>Perum Purnawati</td>\n",
              "      <td>Data Scientist</td>\n",
              "      <td>1.617634e+09</td>\n",
              "      <td>64255</td>\n",
              "      <td>Parepare</td>\n",
              "      <td>https://github.com/dimazgunarto</td>\n",
              "      <td>00569319059</td>\n",
              "      <td>DG-Republik Demokratik Kongo-PP</td>\n",
              "      <td>dimazgunarto@pp.com</td>\n",
              "      <td>2021-04-05 14:45:30</td>\n",
              "    </tr>\n",
              "    <tr>\n",
              "      <th>8</th>\n",
              "      <td>7ca0a2e8-bab0-42a3-b6aa-ef4df35c7800</td>\n",
              "      <td>Zizi</td>\n",
              "      <td>Puspasari</td>\n",
              "      <td>2002-04-11</td>\n",
              "      <td>Gg. Peta No. 01\\nMedan, BE 89056</td>\n",
              "      <td>+62 (11) 826-1289</td>\n",
              "      <td>Gambia</td>\n",
              "      <td>Universitas Bhayangkara Surabaya</td>\n",
              "      <td>Data Analyst</td>\n",
              "      <td>1.617634e+09</td>\n",
              "      <td>89056</td>\n",
              "      <td>Medan</td>\n",
              "      <td>https://github.com/zizipuspasari</td>\n",
              "      <td>0118261289</td>\n",
              "      <td>ZP-Gambia-UBS</td>\n",
              "      <td>zizipuspasari@ubs.ac.gam</td>\n",
              "      <td>2021-04-05 14:45:50</td>\n",
              "    </tr>\n",
              "  </tbody>\n",
              "</table>\n",
              "</div>\n",
              "      <button class=\"colab-df-convert\" onclick=\"convertToInteractive('df-1c8aab2c-d697-4e01-bc21-00cc636a2495')\"\n",
              "              title=\"Convert this dataframe to an interactive table.\"\n",
              "              style=\"display:none;\">\n",
              "        \n",
              "  <svg xmlns=\"http://www.w3.org/2000/svg\" height=\"24px\"viewBox=\"0 0 24 24\"\n",
              "       width=\"24px\">\n",
              "    <path d=\"M0 0h24v24H0V0z\" fill=\"none\"/>\n",
              "    <path d=\"M18.56 5.44l.94 2.06.94-2.06 2.06-.94-2.06-.94-.94-2.06-.94 2.06-2.06.94zm-11 1L8.5 8.5l.94-2.06 2.06-.94-2.06-.94L8.5 2.5l-.94 2.06-2.06.94zm10 10l.94 2.06.94-2.06 2.06-.94-2.06-.94-.94-2.06-.94 2.06-2.06.94z\"/><path d=\"M17.41 7.96l-1.37-1.37c-.4-.4-.92-.59-1.43-.59-.52 0-1.04.2-1.43.59L10.3 9.45l-7.72 7.72c-.78.78-.78 2.05 0 2.83L4 21.41c.39.39.9.59 1.41.59.51 0 1.02-.2 1.41-.59l7.78-7.78 2.81-2.81c.8-.78.8-2.07 0-2.86zM5.41 20L4 18.59l7.72-7.72 1.47 1.35L5.41 20z\"/>\n",
              "  </svg>\n",
              "      </button>\n",
              "      \n",
              "  <style>\n",
              "    .colab-df-container {\n",
              "      display:flex;\n",
              "      flex-wrap:wrap;\n",
              "      gap: 12px;\n",
              "    }\n",
              "\n",
              "    .colab-df-convert {\n",
              "      background-color: #E8F0FE;\n",
              "      border: none;\n",
              "      border-radius: 50%;\n",
              "      cursor: pointer;\n",
              "      display: none;\n",
              "      fill: #1967D2;\n",
              "      height: 32px;\n",
              "      padding: 0 0 0 0;\n",
              "      width: 32px;\n",
              "    }\n",
              "\n",
              "    .colab-df-convert:hover {\n",
              "      background-color: #E2EBFA;\n",
              "      box-shadow: 0px 1px 2px rgba(60, 64, 67, 0.3), 0px 1px 3px 1px rgba(60, 64, 67, 0.15);\n",
              "      fill: #174EA6;\n",
              "    }\n",
              "\n",
              "    [theme=dark] .colab-df-convert {\n",
              "      background-color: #3B4455;\n",
              "      fill: #D2E3FC;\n",
              "    }\n",
              "\n",
              "    [theme=dark] .colab-df-convert:hover {\n",
              "      background-color: #434B5C;\n",
              "      box-shadow: 0px 1px 3px 1px rgba(0, 0, 0, 0.15);\n",
              "      filter: drop-shadow(0px 1px 2px rgba(0, 0, 0, 0.3));\n",
              "      fill: #FFFFFF;\n",
              "    }\n",
              "  </style>\n",
              "\n",
              "      <script>\n",
              "        const buttonEl =\n",
              "          document.querySelector('#df-1c8aab2c-d697-4e01-bc21-00cc636a2495 button.colab-df-convert');\n",
              "        buttonEl.style.display =\n",
              "          google.colab.kernel.accessAllowed ? 'block' : 'none';\n",
              "\n",
              "        async function convertToInteractive(key) {\n",
              "          const element = document.querySelector('#df-1c8aab2c-d697-4e01-bc21-00cc636a2495');\n",
              "          const dataTable =\n",
              "            await google.colab.kernel.invokeFunction('convertToInteractive',\n",
              "                                                     [key], {});\n",
              "          if (!dataTable) return;\n",
              "\n",
              "          const docLinkHtml = 'Like what you see? Visit the ' +\n",
              "            '<a target=\"_blank\" href=https://colab.research.google.com/notebooks/data_table.ipynb>data table notebook</a>'\n",
              "            + ' to learn more about interactive tables.';\n",
              "          element.innerHTML = '';\n",
              "          dataTable['output_type'] = 'display_data';\n",
              "          await google.colab.output.renderOutput(dataTable, element);\n",
              "          const docLink = document.createElement('div');\n",
              "          docLink.innerHTML = docLinkHtml;\n",
              "          element.appendChild(docLink);\n",
              "        }\n",
              "      </script>\n",
              "    </div>\n",
              "  </div>\n",
              "  "
            ]
          },
          "metadata": {},
          "execution_count": 28
        }
      ]
    }
  ]
}