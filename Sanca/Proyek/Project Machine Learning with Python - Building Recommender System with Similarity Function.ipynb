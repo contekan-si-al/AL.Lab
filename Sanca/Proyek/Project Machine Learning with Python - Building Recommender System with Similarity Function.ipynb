{
  "nbformat": 4,
  "nbformat_minor": 0,
  "metadata": {
    "colab": {
      "name": "Project Machine Learning with Python: Building Recommender System with Similarity Function.ipynb",
      "provenance": []
    },
    "kernelspec": {
      "name": "python3",
      "display_name": "Python 3"
    },
    "language_info": {
      "name": "python"
    }
  },
  "cells": [
    {
      "cell_type": "markdown",
      "source": [
        "### Kita akan membuat recommender system yang menggunakan Content/feature dari film/entitas tersebut, kemudian melakukan perhitungan terhadap kesamaannya satu dan yang lain sehingga ketika kita menunjuk ke satu film, kita akan mendapat beberapa film lain yang memiliki kesamaan dengan film tersebut. Hal ini biasa kita sebut sebagai Content Based Recommender System.\n",
        "\n",
        "### Dengan membandingkan kesamaan plot yang ada dan genre yang ada, ketika audience lebih menyukai film Narnia, maka content based recommender system ini akan juga merekomendasikan film seperti Harry Potter atau The Lords of The Rings yang memiliki genre yang mirip."
      ],
      "metadata": {
        "id": "faap6Ks_jVj5"
      }
    },
    {
      "cell_type": "code",
      "execution_count": 1,
      "metadata": {
        "colab": {
          "base_uri": "https://localhost:8080/"
        },
        "id": "1TkzYYh1VYUU",
        "outputId": "cf24f18a-6f4c-4e99-e54b-2cea8199ca65"
      },
      "outputs": [
        {
          "output_type": "stream",
          "name": "stdout",
          "text": [
            "Mounted at /content/drive\n"
          ]
        }
      ],
      "source": [
        "# singkronisasi ke g-drive\n",
        "\n",
        "from google.colab import drive\n",
        "drive.mount('/content/drive')"
      ]
    },
    {
      "cell_type": "markdown",
      "source": [
        "## Task 1 - Unloading and Checking Datasets"
      ],
      "metadata": {
        "id": "S7GYi6-uVg1U"
      }
    },
    {
      "cell_type": "markdown",
      "source": [
        "#### [Import Basics Library and File Unloading](https://academy.dqlab.id/main/projectcode/214/392/1969?pr=0)"
      ],
      "metadata": {
        "id": "jAQhnqu_js5s"
      }
    },
    {
      "cell_type": "code",
      "source": [
        "#import library yang dibutuhkan\n",
        "import pandas as pd\n",
        "import numpy as np\n",
        "\n",
        "\n",
        "#lakukan pembacaan dataset\n",
        "movie_rating_df = pd.read_csv('/content/drive/MyDrive/AL. Lab/Sanca/Datasets/movie_rating_df.csv') #untuk menyimpan movie_rating_df.csv"
      ],
      "metadata": {
        "id": "qQGV8MrJj_jz"
      },
      "execution_count": 5,
      "outputs": []
    },
    {
      "cell_type": "markdown",
      "source": [
        "#### [Menampilkan 5 data teratas dan info data](https://academy.dqlab.id/main/projectcode/214/392/1970?pr=0)"
      ],
      "metadata": {
        "id": "UnoainBMkUgT"
      }
    },
    {
      "cell_type": "code",
      "source": [
        "#tampilkan 5 baris teratas dari movive_rating_df\n",
        "print(movie_rating_df.head())\n",
        "\n",
        "#tampilkan info mengenai tipe data dari tiap kolom\n",
        "print(movie_rating_df.info())"
      ],
      "metadata": {
        "colab": {
          "base_uri": "https://localhost:8080/"
        },
        "id": "sJlYs_6tkYbg",
        "outputId": "887317d0-5488-4db7-b9b3-61f66b674d1e"
      },
      "execution_count": 6,
      "outputs": [
        {
          "output_type": "stream",
          "name": "stdout",
          "text": [
            "      tconst titleType            primaryTitle           originalTitle  \\\n",
            "0  tt0000001     short              Carmencita              Carmencita   \n",
            "1  tt0000002     short  Le clown et ses chiens  Le clown et ses chiens   \n",
            "2  tt0000003     short          Pauvre Pierrot          Pauvre Pierrot   \n",
            "3  tt0000004     short             Un bon bock             Un bon bock   \n",
            "4  tt0000005     short        Blacksmith Scene        Blacksmith Scene   \n",
            "\n",
            "   isAdult  startYear  endYear  runtimeMinutes                    genres  \\\n",
            "0        0     1894.0      NaN             1.0         Documentary,Short   \n",
            "1        0     1892.0      NaN             5.0           Animation,Short   \n",
            "2        0     1892.0      NaN             4.0  Animation,Comedy,Romance   \n",
            "3        0     1892.0      NaN            12.0           Animation,Short   \n",
            "4        0     1893.0      NaN             1.0              Comedy,Short   \n",
            "\n",
            "   averageRating  numVotes  \n",
            "0            5.6      1608  \n",
            "1            6.0       197  \n",
            "2            6.5      1285  \n",
            "3            6.1       121  \n",
            "4            6.1      2050  \n",
            "<class 'pandas.core.frame.DataFrame'>\n",
            "RangeIndex: 751614 entries, 0 to 751613\n",
            "Data columns (total 11 columns):\n",
            " #   Column          Non-Null Count   Dtype  \n",
            "---  ------          --------------   -----  \n",
            " 0   tconst          751614 non-null  object \n",
            " 1   titleType       751614 non-null  object \n",
            " 2   primaryTitle    751614 non-null  object \n",
            " 3   originalTitle   751614 non-null  object \n",
            " 4   isAdult         751614 non-null  int64  \n",
            " 5   startYear       751614 non-null  float64\n",
            " 6   endYear         16072 non-null   float64\n",
            " 7   runtimeMinutes  751614 non-null  float64\n",
            " 8   genres          486766 non-null  object \n",
            " 9   averageRating   751614 non-null  float64\n",
            " 10  numVotes        751614 non-null  int64  \n",
            "dtypes: float64(4), int64(2), object(5)\n",
            "memory usage: 63.1+ MB\n",
            "None\n"
          ]
        }
      ]
    },
    {
      "cell_type": "markdown",
      "source": [
        "#### [Add Actors Dataframe](https://academy.dqlab.id/main/projectcode/214/392/1971?pr=0)"
      ],
      "metadata": {
        "id": "HKZCJYayle-C"
      }
    },
    {
      "cell_type": "code",
      "source": [
        "pd.set_option('display.max_columns', None)\n",
        "\n",
        "name_df = pd.read_csv('/content/drive/MyDrive/AL. Lab/Sanca/Datasets/actor_name.csv')"
      ],
      "metadata": {
        "id": "9nLDasr6lqwa"
      },
      "execution_count": 7,
      "outputs": []
    },
    {
      "cell_type": "code",
      "source": [
        "#tampilkan 5 baris teratas dari name_df\n",
        "print(name_df.head())\n",
        "\n",
        "#tampilkan info mengenai tipe data dari tiap kolom\n",
        "print(name_df.info())"
      ],
      "metadata": {
        "colab": {
          "base_uri": "https://localhost:8080/"
        },
        "id": "3wZ8vUnTmNur",
        "outputId": "0fc8bf89-2af0-424c-cfb6-00ff4c54f06d"
      },
      "execution_count": 8,
      "outputs": [
        {
          "output_type": "stream",
          "name": "stdout",
          "text": [
            "       nconst          primaryName birthYear deathYear  \\\n",
            "0   nm1774132    Nathan McLaughlin      1973        \\N   \n",
            "1  nm10683464        Bridge Andrew        \\N        \\N   \n",
            "2   nm1021485    Brandon Fransvaag        \\N        \\N   \n",
            "3   nm6940929   Erwin van der Lely        \\N        \\N   \n",
            "4   nm5764974  Svetlana Shypitsyna        \\N        \\N   \n",
            "\n",
            "                    primaryProfession                           knownForTitles  \n",
            "0  special_effects,make_up_department  tt0417686,tt1713976,tt1891860,tt0454839  \n",
            "1                               actor                                tt7718088  \n",
            "2                       miscellaneous                                tt0168790  \n",
            "3                       miscellaneous                                tt4232168  \n",
            "4                             actress                                tt3014168  \n",
            "<class 'pandas.core.frame.DataFrame'>\n",
            "RangeIndex: 1000 entries, 0 to 999\n",
            "Data columns (total 6 columns):\n",
            " #   Column             Non-Null Count  Dtype \n",
            "---  ------             --------------  ----- \n",
            " 0   nconst             1000 non-null   object\n",
            " 1   primaryName        1000 non-null   object\n",
            " 2   birthYear          1000 non-null   object\n",
            " 3   deathYear          1000 non-null   object\n",
            " 4   primaryProfession  891 non-null    object\n",
            " 5   knownForTitles     1000 non-null   object\n",
            "dtypes: object(6)\n",
            "memory usage: 47.0+ KB\n",
            "None\n"
          ]
        }
      ]
    },
    {
      "cell_type": "markdown",
      "source": [
        "#### [Add Directors and Writers Dataframe](https://academy.dqlab.id/main/projectcode/214/392/1972?pr=0)"
      ],
      "metadata": {
        "id": "hVh4GN-Pl7qI"
      }
    },
    {
      "cell_type": "code",
      "source": [
        "pd.set_option('display.max_columns', None)\n",
        "\n",
        "director_writers = pd.read_csv('/content/drive/MyDrive/AL. Lab/Sanca/Datasets/directors_writers.csv')"
      ],
      "metadata": {
        "id": "RchpQLvfmAI3"
      },
      "execution_count": 9,
      "outputs": []
    },
    {
      "cell_type": "code",
      "source": [
        "#tampilkan 5 baris teratas dari director_writers\n",
        "print(director_writers.head())\n",
        "\n",
        "#tampilkan info mengenai tipe data dari tiap kolom\n",
        "print(director_writers.info())"
      ],
      "metadata": {
        "colab": {
          "base_uri": "https://localhost:8080/"
        },
        "id": "9nnONcgEmXrp",
        "outputId": "7c2431e2-ad62-4da9-8a07-8d099d844791"
      },
      "execution_count": 10,
      "outputs": [
        {
          "output_type": "stream",
          "name": "stdout",
          "text": [
            "      tconst                   director_name  \\\n",
            "0  tt0011414                  David Kirkland   \n",
            "1  tt0011890               Roy William Neill   \n",
            "2  tt0014341  Buster Keaton,John G. Blystone   \n",
            "3  tt0018054                Cecil B. DeMille   \n",
            "4  tt0024151                     James Cruze   \n",
            "\n",
            "                                       writer_name  \n",
            "0                          John Emerson,Anita Loos  \n",
            "1     Arthur F. Goodrich,Burns Mantle,Mary Murillo  \n",
            "2  Jean C. Havez,Clyde Bruckman,Joseph A. Mitchell  \n",
            "3                                Jeanie Macpherson  \n",
            "4                 Max Miller,Wells Root,Jack Jevne  \n",
            "<class 'pandas.core.frame.DataFrame'>\n",
            "RangeIndex: 986 entries, 0 to 985\n",
            "Data columns (total 3 columns):\n",
            " #   Column         Non-Null Count  Dtype \n",
            "---  ------         --------------  ----- \n",
            " 0   tconst         986 non-null    object\n",
            " 1   director_name  986 non-null    object\n",
            " 2   writer_name    986 non-null    object\n",
            "dtypes: object(3)\n",
            "memory usage: 23.2+ KB\n",
            "None\n"
          ]
        }
      ]
    },
    {
      "cell_type": "markdown",
      "source": [
        "#### [Convert into List](https://academy.dqlab.id/main/projectcode/214/392/1973?pr=0)"
      ],
      "metadata": {
        "id": "fYHiznnUkphe"
      }
    },
    {
      "cell_type": "code",
      "source": [
        "#Mengubah director_name menjadi list\n",
        "director_writers['director_name'] = director_writers['director_name'].apply(lambda row: row.split(','))\n",
        "director_writers['writer_name'] = director_writers['writer_name'].apply(lambda row: row.split(','))\n",
        "\n",
        "#Tampilkan 5 data teratas\n",
        "print(director_writers.head())"
      ],
      "metadata": {
        "colab": {
          "base_uri": "https://localhost:8080/"
        },
        "id": "UQYg7wAKktLc",
        "outputId": "f406115d-7021-4c63-a824-f1dfff179b67"
      },
      "execution_count": 11,
      "outputs": [
        {
          "output_type": "stream",
          "name": "stdout",
          "text": [
            "      tconst                      director_name  \\\n",
            "0  tt0011414                   [David Kirkland]   \n",
            "1  tt0011890                [Roy William Neill]   \n",
            "2  tt0014341  [Buster Keaton, John G. Blystone]   \n",
            "3  tt0018054                 [Cecil B. DeMille]   \n",
            "4  tt0024151                      [James Cruze]   \n",
            "\n",
            "                                         writer_name  \n",
            "0                         [John Emerson, Anita Loos]  \n",
            "1   [Arthur F. Goodrich, Burns Mantle, Mary Murillo]  \n",
            "2  [Jean C. Havez, Clyde Bruckman, Joseph A. Mitc...  \n",
            "3                                [Jeanie Macpherson]  \n",
            "4               [Max Miller, Wells Root, Jack Jevne]  \n"
          ]
        }
      ]
    },
    {
      "cell_type": "markdown",
      "source": [
        "## Task 2 - Cleaning and Processing Table Cast"
      ],
      "metadata": {
        "id": "6AFhkKlSmygq"
      }
    },
    {
      "cell_type": "markdown",
      "source": [
        "#### [Update name_df](https://academy.dqlab.id/main/livecode/214/393/1974?pr=0)"
      ],
      "metadata": {
        "id": "nz2RZX_gmzqX"
      }
    },
    {
      "cell_type": "code",
      "source": [
        "#Kita hanya akan membutuhkan kolom nconst, primaryName, dan knownForTitles\n",
        "name_df = name_df[['nconst','primaryName','knownForTitles']]\n",
        "\n",
        "#Tampilkan 5 baris teratas dari name_df\n",
        "print(name_df.head())"
      ],
      "metadata": {
        "colab": {
          "base_uri": "https://localhost:8080/"
        },
        "id": "kqYVFJ8om43Y",
        "outputId": "19b9e866-90c2-40ba-9ad5-36d89da1862c"
      },
      "execution_count": 12,
      "outputs": [
        {
          "output_type": "stream",
          "name": "stdout",
          "text": [
            "       nconst          primaryName                           knownForTitles\n",
            "0   nm1774132    Nathan McLaughlin  tt0417686,tt1713976,tt1891860,tt0454839\n",
            "1  nm10683464        Bridge Andrew                                tt7718088\n",
            "2   nm1021485    Brandon Fransvaag                                tt0168790\n",
            "3   nm6940929   Erwin van der Lely                                tt4232168\n",
            "4   nm5764974  Svetlana Shypitsyna                                tt3014168\n"
          ]
        }
      ]
    },
    {
      "cell_type": "markdown",
      "source": [
        "#### [Movies per Actor](https://academy.dqlab.id/main/livecode/214/393/1975?pr=0)"
      ],
      "metadata": {
        "id": "qAXm5jVKnQJI"
      }
    },
    {
      "cell_type": "code",
      "source": [
        "#Melakukan pengecekan variasi\n",
        "print(name_df['knownForTitles'].apply(lambda x: len(x.split(','))).unique())\n",
        "\n",
        "#Mengubah knownForTitles menjadi list of list\n",
        "name_df['knownForTitles'] = name_df['knownForTitles'].apply(lambda x: x.split(','))\n",
        "\n",
        "#Mencetak 5 baris teratas\n",
        "print(name_df.head())"
      ],
      "metadata": {
        "colab": {
          "base_uri": "https://localhost:8080/"
        },
        "id": "R9DIp4VanWBY",
        "outputId": "bd0090f5-eac9-488a-d68c-0ebf4b990356"
      },
      "execution_count": 13,
      "outputs": [
        {
          "output_type": "stream",
          "name": "stdout",
          "text": [
            "[4 1 2 3]\n",
            "       nconst          primaryName  \\\n",
            "0   nm1774132    Nathan McLaughlin   \n",
            "1  nm10683464        Bridge Andrew   \n",
            "2   nm1021485    Brandon Fransvaag   \n",
            "3   nm6940929   Erwin van der Lely   \n",
            "4   nm5764974  Svetlana Shypitsyna   \n",
            "\n",
            "                                 knownForTitles  \n",
            "0  [tt0417686, tt1713976, tt1891860, tt0454839]  \n",
            "1                                   [tt7718088]  \n",
            "2                                   [tt0168790]  \n",
            "3                                   [tt4232168]  \n",
            "4                                   [tt3014168]  \n"
          ]
        }
      ]
    },
    {
      "cell_type": "markdown",
      "source": [
        "### dapat dilihat bahwa seorang aktor dapat membintangi 1 sampai 4 film, diperlukan untuk membuat table yang mempunyai relasi 1-1 dari aktor ke masing-masing title movie tersebut"
      ],
      "metadata": {
        "id": "J78HS0VsoQBS"
      }
    },
    {
      "cell_type": "markdown",
      "source": [
        "#### [Korespondensi 1 - 1](https://academy.dqlab.id/main/livecode/214/393/1976?pr=0)"
      ],
      "metadata": {
        "id": "zGpfAwmln1Ix"
      }
    },
    {
      "cell_type": "code",
      "source": [
        "#menyiapkan bucket untuk dataframe\n",
        "df_uni = []\n",
        "\n",
        "for x in ['knownForTitles']:\n",
        "    #mengulang index dari tiap baris sampai tiap elemen dari knownForTitles\n",
        "    idx = name_df.index.repeat(name_df['knownForTitles'].str.len())\n",
        "   \n",
        "   #memecah values dari list di setiap baris dan menggabungkan nya dengan rows lain menjadi dataframe\n",
        "    df1 = pd.DataFrame({\n",
        "        x: np.concatenate(name_df[x].values)\n",
        "    })\n",
        "    \n",
        "    #mengganti index dataframe tersebut dengan idx yang sudah kita define di awal\n",
        "    df1.index = idx\n",
        "    #untuk setiap dataframe yang terbentuk, kita append ke dataframe bucket\n",
        "    df_uni.append(df1)\n",
        "    \n",
        "#menggabungkan semua dataframe menjadi satu\n",
        "df_concat = pd.concat(df_uni, axis=1)\n",
        "\n",
        "#left join dengan value dari dataframe yang awal\n",
        "unnested_df = df_concat.join(name_df.drop(['knownForTitles'], 1), how='left')\n",
        "\n",
        "#select kolom sesuai dengan dataframe awal\n",
        "unnested_df = unnested_df[name_df.columns.tolist()]\n",
        "print(unnested_df)"
      ],
      "metadata": {
        "colab": {
          "base_uri": "https://localhost:8080/"
        },
        "id": "b82UBetaoBcv",
        "outputId": "c6affb12-b2a8-4ed4-e6ce-3dfca82a6b97"
      },
      "execution_count": 14,
      "outputs": [
        {
          "output_type": "stream",
          "name": "stdout",
          "text": [
            "         nconst        primaryName knownForTitles\n",
            "0     nm1774132  Nathan McLaughlin      tt0417686\n",
            "0     nm1774132  Nathan McLaughlin      tt1713976\n",
            "0     nm1774132  Nathan McLaughlin      tt1891860\n",
            "0     nm1774132  Nathan McLaughlin      tt0454839\n",
            "1    nm10683464      Bridge Andrew      tt7718088\n",
            "..          ...                ...            ...\n",
            "998   nm5245804      Eliza Jenkins      tt1464058\n",
            "999   nm0948460         Greg Yolen      tt0436869\n",
            "999   nm0948460         Greg Yolen      tt0476663\n",
            "999   nm0948460         Greg Yolen      tt0109723\n",
            "999   nm0948460         Greg Yolen      tt0364484\n",
            "\n",
            "[1918 rows x 3 columns]\n"
          ]
        },
        {
          "output_type": "stream",
          "name": "stderr",
          "text": [
            "/usr/local/lib/python3.7/dist-packages/ipykernel_launcher.py:22: FutureWarning: In a future version of pandas all arguments of DataFrame.drop except for the argument 'labels' will be keyword-only\n"
          ]
        }
      ]
    },
    {
      "cell_type": "markdown",
      "source": [
        "## Task 3 - Nesting primaryName group by knownForTitles"
      ],
      "metadata": {
        "id": "y-bKqnoSpIT0"
      }
    },
    {
      "cell_type": "markdown",
      "source": [
        "#### [Mengelompokkan primaryName menjadi list group by knownForTitles](https://academy.dqlab.id/main/livecode/214/394/1977?pr=0)"
      ],
      "metadata": {
        "id": "Ruau-SMspKC_"
      }
    },
    {
      "cell_type": "code",
      "source": [
        "unnested_drop = unnested_df.drop(['nconst'], axis=1)\n",
        "\n",
        "#menyiapkan bucket untuk dataframe\n",
        "df_uni = []\n",
        "\n",
        "for col in ['primaryName']:\n",
        "    #agregasi kolom PrimaryName sesuai group_col yang sudah di define di atas\n",
        "    dfi = unnested_drop.groupby(['knownForTitles'])[col].apply(list)\n",
        "    #Lakukan append\n",
        "    df_uni.append(dfi)\n",
        "df_grouped = pd.concat(df_uni, axis=1).reset_index()\n",
        "df_grouped.columns = ['knownForTitles','cast_name']\n",
        "print(df_grouped)"
      ],
      "metadata": {
        "colab": {
          "base_uri": "https://localhost:8080/"
        },
        "id": "vbdRvmQGpPRM",
        "outputId": "966e91bd-17b5-4103-d72a-66a0a7ba1af5"
      },
      "execution_count": 15,
      "outputs": [
        {
          "output_type": "stream",
          "name": "stdout",
          "text": [
            "     knownForTitles           cast_name\n",
            "0         tt0008125    [Charles Harley]\n",
            "1         tt0009706    [Charles Harley]\n",
            "2         tt0010304  [Natalie Talmadge]\n",
            "3         tt0011414  [Natalie Talmadge]\n",
            "4         tt0011890  [Natalie Talmadge]\n",
            "...             ...                 ...\n",
            "1893      tt9610496  [Stefano Baffetti]\n",
            "1894      tt9714030        [Kevin Kain]\n",
            "1895      tt9741820   [Caroline Plyler]\n",
            "1896      tt9759814     [Ethan Francis]\n",
            "1897      tt9856236     [Nuala Maguire]\n",
            "\n",
            "[1898 rows x 2 columns]\n"
          ]
        }
      ]
    },
    {
      "cell_type": "markdown",
      "source": [
        "## Task 4 - Joining with Movie Table"
      ],
      "metadata": {
        "id": "hktl-k6opjz8"
      }
    },
    {
      "cell_type": "markdown",
      "source": [
        "#### [Join table](https://academy.dqlab.id/main/livecode/214/395/1978?pr=0)"
      ],
      "metadata": {
        "id": "yRi6UP44plDI"
      }
    },
    {
      "cell_type": "code",
      "source": [
        "#join antara movie table dan cast table \n",
        "base_df = pd.merge(df_grouped, movie_rating_df, left_on='knownForTitles', right_on='tconst', how='inner')\n",
        "\n",
        "#join antara base_df dengan director_writer table\n",
        "base_df = pd.merge(base_df, director_writers, left_on='tconst', right_on='tconst', how='left')\n",
        "\n",
        "print(base_df.head())"
      ],
      "metadata": {
        "colab": {
          "base_uri": "https://localhost:8080/"
        },
        "id": "RcVCO-k8pqpb",
        "outputId": "cd574a2b-4867-4a4f-d7ee-9421f6613787"
      },
      "execution_count": 16,
      "outputs": [
        {
          "output_type": "stream",
          "name": "stdout",
          "text": [
            "  knownForTitles           cast_name     tconst titleType  \\\n",
            "0      tt0011414  [Natalie Talmadge]  tt0011414     movie   \n",
            "1      tt0011890  [Natalie Talmadge]  tt0011890     movie   \n",
            "2      tt0014341  [Natalie Talmadge]  tt0014341     movie   \n",
            "3      tt0018054     [Reeka Roberts]  tt0018054     movie   \n",
            "4      tt0024151     [James Hackett]  tt0024151     movie   \n",
            "\n",
            "             primaryTitle           originalTitle  isAdult  startYear  \\\n",
            "0         The Love Expert         The Love Expert        0     1920.0   \n",
            "1               Yes or No               Yes or No        0     1920.0   \n",
            "2         Our Hospitality         Our Hospitality        0     1923.0   \n",
            "3       The King of Kings       The King of Kings        0     1927.0   \n",
            "4  I Cover the Waterfront  I Cover the Waterfront        0     1933.0   \n",
            "\n",
            "   endYear  runtimeMinutes                   genres  averageRating  numVotes  \\\n",
            "0      NaN            60.0           Comedy,Romance            4.9       136   \n",
            "1      NaN            72.0                      NaN            6.3         7   \n",
            "2      NaN            65.0  Comedy,Romance,Thriller            7.8      9621   \n",
            "3      NaN           155.0  Biography,Drama,History            7.3      1826   \n",
            "4      NaN            80.0            Drama,Romance            6.3       455   \n",
            "\n",
            "                       director_name  \\\n",
            "0                   [David Kirkland]   \n",
            "1                [Roy William Neill]   \n",
            "2  [Buster Keaton, John G. Blystone]   \n",
            "3                 [Cecil B. DeMille]   \n",
            "4                      [James Cruze]   \n",
            "\n",
            "                                         writer_name  \n",
            "0                         [John Emerson, Anita Loos]  \n",
            "1   [Arthur F. Goodrich, Burns Mantle, Mary Murillo]  \n",
            "2  [Jean C. Havez, Clyde Bruckman, Joseph A. Mitc...  \n",
            "3                                [Jeanie Macpherson]  \n",
            "4               [Max Miller, Wells Root, Jack Jevne]  \n"
          ]
        }
      ]
    },
    {
      "cell_type": "markdown",
      "source": [
        "#### [Cleaning data](https://academy.dqlab.id/main/livecode/214/395/1980?pr=0)"
      ],
      "metadata": {
        "id": "zrhN3sxxq8Jz"
      }
    },
    {
      "cell_type": "code",
      "source": [
        "#Melakukan drop terhadap kolom knownForTitles\n",
        "base_drop = base_df.drop(['knownForTitles'], axis=1)\n",
        "print(base_drop.info())\n",
        "\n",
        "#Mengganti nilai NULL pada kolom genres dengan 'Unknown'\n",
        "base_drop['genres'] = base_drop['genres'].fillna('Unknown')\n",
        "\n",
        "#Melakukan perhitungan jumlah nilai NULL pada tiap kolom\n",
        "print(base_drop.isnull().sum())\n",
        "\n",
        "#Mengganti nilai NULL pada kolom dorector_name dan writer_name dengan 'Unknown'\n",
        "base_drop[['director_name','writer_name']] = base_drop[['director_name','writer_name']].fillna('unknown')\n",
        "\n",
        "#karena value kolom genres terdapat multiple values, jadi kita akan bungkus menjadi list of list\n",
        "base_drop['genres'] = base_drop['genres'].apply(lambda x: x.split(','))"
      ],
      "metadata": {
        "colab": {
          "base_uri": "https://localhost:8080/"
        },
        "id": "Gw3tjyGFrAtb",
        "outputId": "cf6c585a-1ab8-4fcc-dca4-4105d54c38f7"
      },
      "execution_count": 17,
      "outputs": [
        {
          "output_type": "stream",
          "name": "stdout",
          "text": [
            "<class 'pandas.core.frame.DataFrame'>\n",
            "Int64Index: 1060 entries, 0 to 1059\n",
            "Data columns (total 14 columns):\n",
            " #   Column          Non-Null Count  Dtype  \n",
            "---  ------          --------------  -----  \n",
            " 0   cast_name       1060 non-null   object \n",
            " 1   tconst          1060 non-null   object \n",
            " 2   titleType       1060 non-null   object \n",
            " 3   primaryTitle    1060 non-null   object \n",
            " 4   originalTitle   1060 non-null   object \n",
            " 5   isAdult         1060 non-null   int64  \n",
            " 6   startYear       1060 non-null   float64\n",
            " 7   endYear         110 non-null    float64\n",
            " 8   runtimeMinutes  1060 non-null   float64\n",
            " 9   genres          745 non-null    object \n",
            " 10  averageRating   1060 non-null   float64\n",
            " 11  numVotes        1060 non-null   int64  \n",
            " 12  director_name   986 non-null    object \n",
            " 13  writer_name     986 non-null    object \n",
            "dtypes: float64(4), int64(2), object(8)\n",
            "memory usage: 124.2+ KB\n",
            "None\n",
            "cast_name           0\n",
            "tconst              0\n",
            "titleType           0\n",
            "primaryTitle        0\n",
            "originalTitle       0\n",
            "isAdult             0\n",
            "startYear           0\n",
            "endYear           950\n",
            "runtimeMinutes      0\n",
            "genres              0\n",
            "averageRating       0\n",
            "numVotes            0\n",
            "director_name      74\n",
            "writer_name        74\n",
            "dtype: int64\n"
          ]
        }
      ]
    },
    {
      "cell_type": "markdown",
      "source": [
        "#### [Reformat table base_df](https://academy.dqlab.id/main/livecode/214/395/1981?pr=0)"
      ],
      "metadata": {
        "id": "TYS1xAtzrw24"
      }
    },
    {
      "cell_type": "code",
      "source": [
        "#Drop kolom tconst, isAdult, endYear, originalTitle\n",
        "base_drop2 = base_drop.drop(['tconst','isAdult','endYear','originalTitle'], axis=1)\n",
        "\n",
        "base_drop2 = base_drop2[['primaryTitle','titleType','startYear','runtimeMinutes','genres','averageRating','numVotes','cast_name','director_name','writer_name']]\n",
        "\n",
        "# Gunakan petunjuk!\n",
        "base_drop2.columns = ['title','type','start','duration','genres','rating','votes','cast_name','director_name','writer_name']\n",
        "\n",
        "print(base_drop2.head())"
      ],
      "metadata": {
        "colab": {
          "base_uri": "https://localhost:8080/"
        },
        "id": "mL36OgKzr6Qj",
        "outputId": "83de4cd9-228a-418a-c871-5942b2ddde8d"
      },
      "execution_count": 18,
      "outputs": [
        {
          "output_type": "stream",
          "name": "stdout",
          "text": [
            "                    title   type   start  duration  \\\n",
            "0         The Love Expert  movie  1920.0      60.0   \n",
            "1               Yes or No  movie  1920.0      72.0   \n",
            "2         Our Hospitality  movie  1923.0      65.0   \n",
            "3       The King of Kings  movie  1927.0     155.0   \n",
            "4  I Cover the Waterfront  movie  1933.0      80.0   \n",
            "\n",
            "                        genres  rating  votes           cast_name  \\\n",
            "0            [Comedy, Romance]     4.9    136  [Natalie Talmadge]   \n",
            "1                    [Unknown]     6.3      7  [Natalie Talmadge]   \n",
            "2  [Comedy, Romance, Thriller]     7.8   9621  [Natalie Talmadge]   \n",
            "3  [Biography, Drama, History]     7.3   1826     [Reeka Roberts]   \n",
            "4             [Drama, Romance]     6.3    455     [James Hackett]   \n",
            "\n",
            "                       director_name  \\\n",
            "0                   [David Kirkland]   \n",
            "1                [Roy William Neill]   \n",
            "2  [Buster Keaton, John G. Blystone]   \n",
            "3                 [Cecil B. DeMille]   \n",
            "4                      [James Cruze]   \n",
            "\n",
            "                                         writer_name  \n",
            "0                         [John Emerson, Anita Loos]  \n",
            "1   [Arthur F. Goodrich, Burns Mantle, Mary Murillo]  \n",
            "2  [Jean C. Havez, Clyde Bruckman, Joseph A. Mitc...  \n",
            "3                                [Jeanie Macpherson]  \n",
            "4               [Max Miller, Wells Root, Jack Jevne]  \n"
          ]
        }
      ]
    },
    {
      "cell_type": "markdown",
      "source": [
        "## Task 5 - Creating Content-based Recommender System"
      ],
      "metadata": {
        "id": "idjfJrA_seXb"
      }
    },
    {
      "cell_type": "markdown",
      "source": [
        "#### [Klasifikasi Metadata](https://academy.dqlab.id/main/livecode/214/396/1982?pr=0)"
      ],
      "metadata": {
        "id": "VUaRtikusfuL"
      }
    },
    {
      "cell_type": "code",
      "source": [
        "#Klasifikasi berdasar title, cast_name, genres, director_name, dan writer_name\n",
        "feature_df = base_drop2[['title', 'cast_name', 'genres', 'director_name', 'writer_name']]\n",
        "\n",
        "#Tampilkan 5 baris teratas\n",
        "print(feature_df.head())"
      ],
      "metadata": {
        "colab": {
          "base_uri": "https://localhost:8080/"
        },
        "id": "ozcW_ffIskbX",
        "outputId": "b0e7145f-6b56-41c7-80d7-f172a15dddc5"
      },
      "execution_count": 19,
      "outputs": [
        {
          "output_type": "stream",
          "name": "stdout",
          "text": [
            "                    title           cast_name                       genres  \\\n",
            "0         The Love Expert  [Natalie Talmadge]            [Comedy, Romance]   \n",
            "1               Yes or No  [Natalie Talmadge]                    [Unknown]   \n",
            "2         Our Hospitality  [Natalie Talmadge]  [Comedy, Romance, Thriller]   \n",
            "3       The King of Kings     [Reeka Roberts]  [Biography, Drama, History]   \n",
            "4  I Cover the Waterfront     [James Hackett]             [Drama, Romance]   \n",
            "\n",
            "                       director_name  \\\n",
            "0                   [David Kirkland]   \n",
            "1                [Roy William Neill]   \n",
            "2  [Buster Keaton, John G. Blystone]   \n",
            "3                 [Cecil B. DeMille]   \n",
            "4                      [James Cruze]   \n",
            "\n",
            "                                         writer_name  \n",
            "0                         [John Emerson, Anita Loos]  \n",
            "1   [Arthur F. Goodrich, Burns Mantle, Mary Murillo]  \n",
            "2  [Jean C. Havez, Clyde Bruckman, Joseph A. Mitc...  \n",
            "3                                [Jeanie Macpherson]  \n",
            "4               [Max Miller, Wells Root, Jack Jevne]  \n"
          ]
        }
      ]
    },
    {
      "cell_type": "markdown",
      "source": [
        "#### [Pertanyaan 1: Bagaimana cara membuat fungsi untuk strip spaces dari setiap row dan setiap elemennya?](https://academy.dqlab.id/main/livecode/214/396/1983?pr=0)"
      ],
      "metadata": {
        "id": "GjXyvX9Vs1vW"
      }
    },
    {
      "cell_type": "code",
      "source": [
        "def sanitize(x):\n",
        "    try:\n",
        "        #kalau cell berisi list\n",
        "        if isinstance(x, list):\n",
        "            return [i.replace(' ','').lower() for i in x]\n",
        "        #kalau cell berisi string\n",
        "        else:\n",
        "            return [x.replace(' ','').lower()]\n",
        "    except:\n",
        "        print(x)\n",
        "        \n",
        "#Kolom : cast_name, genres, writer_name, director_name        \n",
        "feature_cols = ['cast_name','genres','writer_name','director_name']\n",
        "\n",
        "#Apply function sanitize \n",
        "for col in feature_cols:\n",
        "    feature_df[col] = feature_df[col].apply(sanitize)"
      ],
      "metadata": {
        "colab": {
          "base_uri": "https://localhost:8080/"
        },
        "id": "M3bNJm2-s5xr",
        "outputId": "4796dba6-b55d-444a-8e38-bcc8e65d8bf4"
      },
      "execution_count": 20,
      "outputs": [
        {
          "output_type": "stream",
          "name": "stderr",
          "text": [
            "/usr/local/lib/python3.7/dist-packages/ipykernel_launcher.py:17: SettingWithCopyWarning: \n",
            "A value is trying to be set on a copy of a slice from a DataFrame.\n",
            "Try using .loc[row_indexer,col_indexer] = value instead\n",
            "\n",
            "See the caveats in the documentation: https://pandas.pydata.org/pandas-docs/stable/user_guide/indexing.html#returning-a-view-versus-a-copy\n"
          ]
        }
      ]
    },
    {
      "cell_type": "markdown",
      "source": [
        "#### [Pertanyaan 2: Bagaimana cara membuat fungsi untuk membuat metadata soup (menggabungkan semua feature menjadi 1 bagian kalimat) untuk setiap judulnya?](https://academy.dqlab.id/main/livecode/214/396/1984?pr=0)"
      ],
      "metadata": {
        "id": "G_FCZcIwtjjY"
      }
    },
    {
      "cell_type": "code",
      "source": [
        "#kolom yang digunakan : cast_name, genres, director_name, writer_name\n",
        "def soup_feature(x):\n",
        "    return ' '.join(x['cast_name']) + ' ' + ' '.join(x['genres']) + ' ' + ' '.join(x['director_name']) + ' ' + ' '.join(x['writer_name'])\n",
        "\n",
        "#membuat soup menjadi 1 kolom \n",
        "feature_df['soup'] = feature_df.apply(soup_feature, axis=1)"
      ],
      "metadata": {
        "colab": {
          "base_uri": "https://localhost:8080/"
        },
        "id": "AdBIvSg4tpAm",
        "outputId": "cf5dafa7-297a-4b31-cc0c-531cc1302440"
      },
      "execution_count": 22,
      "outputs": [
        {
          "output_type": "stream",
          "name": "stderr",
          "text": [
            "/usr/local/lib/python3.7/dist-packages/ipykernel_launcher.py:6: SettingWithCopyWarning: \n",
            "A value is trying to be set on a copy of a slice from a DataFrame.\n",
            "Try using .loc[row_indexer,col_indexer] = value instead\n",
            "\n",
            "See the caveats in the documentation: https://pandas.pydata.org/pandas-docs/stable/user_guide/indexing.html#returning-a-view-versus-a-copy\n",
            "  \n"
          ]
        }
      ]
    },
    {
      "cell_type": "markdown",
      "source": [
        "#### [Pertanyaan 3: Cara menyiapkan CountVectorizer (stop_words = english) dan fit dengan soup yang kita buat di atas](https://academy.dqlab.id/main/livecode/214/396/1985?pr=0)"
      ],
      "metadata": {
        "id": "191zdcyQuZBu"
      }
    },
    {
      "cell_type": "markdown",
      "source": [
        "![CountVectorizer.png](data:image/png;base64,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)"
      ],
      "metadata": {
        "id": "BHoIi6GhwqDC"
      }
    },
    {
      "cell_type": "code",
      "source": [
        "#import CountVectorizer \n",
        "from sklearn.feature_extraction.text import CountVectorizer\n",
        "\n",
        "#definisikan CountVectorizer dan mengubah soup tadi menjadi bentuk vector\n",
        "count = CountVectorizer(stop_words='english')\n",
        "count_matrix = count.fit_transform(feature_df['soup'])\n",
        "\n",
        "print(count)\n",
        "print(count_matrix.shape)"
      ],
      "metadata": {
        "colab": {
          "base_uri": "https://localhost:8080/"
        },
        "id": "gRMFJqgbudnl",
        "outputId": "e2317ee4-434e-45ec-e9a9-42e3f2770471"
      },
      "execution_count": 23,
      "outputs": [
        {
          "output_type": "stream",
          "name": "stdout",
          "text": [
            "CountVectorizer(stop_words='english')\n",
            "(1060, 10026)\n"
          ]
        }
      ]
    },
    {
      "cell_type": "markdown",
      "source": [
        "#### [Pertanyaan 4: Cara membuat model similarity antara count matrix](https://academy.dqlab.id/main/livecode/214/396/1986?pr=0)"
      ],
      "metadata": {
        "id": "UVd7aVyuu5OC"
      }
    },
    {
      "cell_type": "markdown",
      "source": [
        "![Cosine Similarity.png](data:image/png;base64,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)"
      ],
      "metadata": {
        "id": "ROrfyUIPwxbH"
      }
    },
    {
      "cell_type": "code",
      "source": [
        "#Import cosine_similarity\n",
        "from sklearn.metrics.pairwise import cosine_similarity\n",
        "\n",
        "#Gunakan cosine_similarity antara count_matrix \n",
        "cosine_sim = cosine_similarity(count_matrix, count_matrix)\n",
        "\n",
        "#print hasilnya\n",
        "print(cosine_sim)"
      ],
      "metadata": {
        "colab": {
          "base_uri": "https://localhost:8080/"
        },
        "id": "0BDQXI5qu9Xb",
        "outputId": "dfb27e93-52a2-4315-d56d-d65c0c02ca0a"
      },
      "execution_count": 24,
      "outputs": [
        {
          "output_type": "stream",
          "name": "stdout",
          "text": [
            "[[1.         0.15430335 0.35355339 ... 0.         0.         0.13608276]\n",
            " [0.15430335 1.         0.10910895 ... 0.         0.         0.        ]\n",
            " [0.35355339 0.10910895 1.         ... 0.         0.08703883 0.09622504]\n",
            " ...\n",
            " [0.         0.         0.         ... 1.         0.         0.        ]\n",
            " [0.         0.         0.08703883 ... 0.         1.         0.10050378]\n",
            " [0.13608276 0.         0.09622504 ... 0.         0.10050378 1.        ]]\n"
          ]
        }
      ]
    },
    {
      "cell_type": "markdown",
      "source": [
        "#### [Pertanyaan 5: Cara membuat content based recommender system](https://academy.dqlab.id/main/livecode/214/396/1987?pr=0)"
      ],
      "metadata": {
        "id": "Eo1zDE5AvV60"
      }
    },
    {
      "cell_type": "code",
      "source": [
        "indices = pd.Series(feature_df.index, index=feature_df['title']).drop_duplicates()\n",
        "\n",
        "def content_recommender(title):\n",
        "    #mendapatkan index dari judul film (title) yang disebutkan\n",
        "    idx = indices[title]\n",
        "\n",
        "    #menjadikan list dari array similarity cosine sim \n",
        "    #hint: cosine_sim[idx]\n",
        "    sim_scores = list(enumerate(cosine_sim[idx]))\n",
        "\n",
        "    #mengurutkan film dari similarity tertinggi ke terendah\n",
        "    sim_scores = sorted(sim_scores, key=lambda x: x[1], reverse=True)\n",
        "\n",
        "    #untuk mendapatkan list judul dari item kedua sampe ke 11\n",
        "    sim_scores = sim_scores[1:11]\n",
        "\n",
        "    #mendapatkan index dari judul-judul yang muncul di sim_scores\n",
        "    movie_indices = [i[0] for i in sim_scores]\n",
        "\n",
        "    #dengan menggunakan iloc, kita bisa panggil balik berdasarkan index dari movie_indices\n",
        "    return base_df.iloc[movie_indices]\n",
        "\n",
        "#aplikasikan function di atas\n",
        "print(content_recommender('The Lion King'))"
      ],
      "metadata": {
        "colab": {
          "base_uri": "https://localhost:8080/"
        },
        "id": "NAESjWJQvaYF",
        "outputId": "3a54856b-d867-4771-8419-a1260425b645"
      },
      "execution_count": 25,
      "outputs": [
        {
          "output_type": "stream",
          "name": "stdout",
          "text": [
            "     knownForTitles                   cast_name      tconst titleType  \\\n",
            "848       tt3040964  [Cristina Carrión Márquez]   tt3040964     movie   \n",
            "383       tt0286336          [Francisco Bretas]   tt0286336  tvSeries   \n",
            "1002      tt7222086          [Hiroki Matsukawa]   tt7222086  tvSeries   \n",
            "73        tt0075147             [Joaquín Parra]   tt0075147     movie   \n",
            "232       tt0119051            [Chris Kosloski]   tt0119051     movie   \n",
            "556      tt10068158          [Hiroki Matsukawa]  tt10068158     movie   \n",
            "9         tt0028657            [Bernard Loftus]   tt0028657     movie   \n",
            "191       tt0107875               [Simon Mayal]   tt0107875     movie   \n",
            "803       tt2356464               [Sina Müller]   tt2356464     movie   \n",
            "983       tt6270328                   [Jo Boag]   tt6270328  tvSeries   \n",
            "\n",
            "                                         primaryTitle  \\\n",
            "848                                   The Jungle Book   \n",
            "383                      The Animals of Farthing Wood   \n",
            "1002                                    Made in Abyss   \n",
            "73                                   Robin and Marian   \n",
            "232                                          The Edge   \n",
            "556                     Made in Abyss: Journey's Dawn   \n",
            "9                               Boss of Lonely Valley   \n",
            "191                       The Princess and the Goblin   \n",
            "803                                           Ostwind   \n",
            "983   The Skinner Boys: Guardians of the Lost Secrets   \n",
            "\n",
            "                                        originalTitle  isAdult  startYear  \\\n",
            "848                                   The Jungle Book        0     2016.0   \n",
            "383                      The Animals of Farthing Wood        0     1993.0   \n",
            "1002                                    Made in Abyss        0     2017.0   \n",
            "73                                   Robin and Marian        0     1976.0   \n",
            "232                                          The Edge        0     1997.0   \n",
            "556                 Made in Abyss: Tabidachi no Yoake        0     2019.0   \n",
            "9                               Boss of Lonely Valley        0     1937.0   \n",
            "191                       The Princess and the Goblin        0     1991.0   \n",
            "803                                           Ostwind        0     2013.0   \n",
            "983   The Skinner Boys: Guardians of the Lost Secrets        0     2014.0   \n",
            "\n",
            "      endYear  runtimeMinutes                       genres  averageRating  \\\n",
            "848       NaN           106.0       Adventure,Drama,Family            7.4   \n",
            "383    1995.0            25.0    Adventure,Animation,Drama            8.3   \n",
            "1002      NaN           325.0    Adventure,Animation,Drama            8.4   \n",
            "73        NaN           106.0      Adventure,Drama,Romance            6.5   \n",
            "232       NaN           117.0       Action,Adventure,Drama            6.9   \n",
            "556       NaN           139.0  Adventure,Animation,Fantasy            7.4   \n",
            "9         NaN            60.0       Action,Adventure,Drama            6.2   \n",
            "191       NaN            82.0   Adventure,Animation,Comedy            6.8   \n",
            "803       NaN           101.0       Adventure,Drama,Family            6.8   \n",
            "983       NaN            23.0    Adventure,Animation,Drama            7.8   \n",
            "\n",
            "      numVotes                                      director_name  \\\n",
            "848     250994                                      [Jon Favreau]   \n",
            "383       3057             [Elphin Lloyd-Jones, Philippe Leclerc]   \n",
            "1002      4577  [Masayuki Kojima, Hitoshi Haga, Shinya Iino, T...   \n",
            "73       10830                                   [Richard Lester]   \n",
            "232      65673                                     [Lee Tamahori]   \n",
            "556         81                                  [Masayuki Kojima]   \n",
            "9           41                                       [Ray Taylor]   \n",
            "191       2350                                     [József Gémes]   \n",
            "803       1350                                [Katja von Garnier]   \n",
            "983         12        [Pablo De La Torre, Eugene Linkov, Jo Boag]   \n",
            "\n",
            "                                            writer_name  \n",
            "848                     [Justin Marks, Rudyard Kipling]  \n",
            "383   [Valerie Georgeson, Colin Dann, Jenny McDade, ...  \n",
            "1002  [Akihito Tsukushi, Keigo Koyanagi, Hideyuki Ku...  \n",
            "73                                      [James Goldman]  \n",
            "232                                       [David Mamet]  \n",
            "556                                  [Akihito Tsukushi]  \n",
            "9                       [Frances Guihan, Forrest Brown]  \n",
            "191                     [Robin Lyons, George MacDonald]  \n",
            "803          [Kristina Magdalena Henn, Lea Schmidbauer]  \n",
            "983   [David Witt, John Derevlany, David Evans, Pete...  \n"
          ]
        }
      ]
    }
  ]
}