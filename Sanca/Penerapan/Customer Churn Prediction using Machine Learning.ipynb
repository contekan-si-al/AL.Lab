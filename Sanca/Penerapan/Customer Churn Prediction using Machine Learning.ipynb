{
  "nbformat": 4,
  "nbformat_minor": 0,
  "metadata": {
    "colab": {
      "name": "Customer Churn Prediction using Machine Learning.ipynb",
      "provenance": []
    },
    "kernelspec": {
      "name": "python3",
      "display_name": "Python 3"
    },
    "language_info": {
      "name": "python"
    },
    "accelerator": "GPU",
    "gpuClass": "standard"
  },
  "cells": [
    {
      "cell_type": "code",
      "execution_count": 1,
      "metadata": {
        "colab": {
          "base_uri": "https://localhost:8080/"
        },
        "id": "JdvBoB_ctsLS",
        "outputId": "f0f0e201-ae65-4fec-8e07-573104a7f57e"
      },
      "outputs": [
        {
          "output_type": "stream",
          "name": "stdout",
          "text": [
            "Mounted at /content/drive\n"
          ]
        }
      ],
      "source": [
        "# singkronisasi ke g-drive\n",
        "\n",
        "from google.colab import drive\n",
        "drive.mount('/content/drive')"
      ]
    },
    {
      "cell_type": "markdown",
      "source": [
        "## Library dan Data yang Digunakan"
      ],
      "metadata": {
        "id": "Con5AH-Lvg3C"
      }
    },
    {
      "cell_type": "markdown",
      "source": [
        "#### [Import Library yang dibutuhkan](https://academy.dqlab.id/main/livecode/249/433/2163?pr=0)"
      ],
      "metadata": {
        "id": "d4Yk7iRov9HV"
      }
    },
    {
      "cell_type": "code",
      "source": [
        "#Import library yang dibutuhkan \n",
        "#Importing General packages\n",
        "import pandas as pd\n",
        "import numpy as np\n",
        "import matplotlib.pyplot as plt\n",
        "import seaborn as sns\n",
        "from sklearn.preprocessing import LabelEncoder\n",
        "from sklearn.model_selection import train_test_split\n",
        "from sklearn.linear_model import LogisticRegression\n",
        "from sklearn.ensemble import RandomForestClassifier\n",
        "from sklearn.ensemble import GradientBoostingClassifier\n",
        "from sklearn.metrics import confusion_matrix, classification_report\n",
        "import pickle\n",
        "from pathlib import Path"
      ],
      "metadata": {
        "id": "XkGN9MtiwA02"
      },
      "execution_count": 2,
      "outputs": []
    },
    {
      "cell_type": "markdown",
      "source": [
        "#### [File Unloading](https://academy.dqlab.id/main/livecode/249/433/2165?pr=0)"
      ],
      "metadata": {
        "id": "ABD_Dg-TwCMN"
      }
    },
    {
      "cell_type": "code",
      "source": [
        "#import dataset\n",
        "df_load = pd.read_csv('/content/drive/MyDrive/AL. Lab/Sanca/Datasets/dqlab_telco_final.csv')\n",
        "\n",
        "#Tampilkan bentuk dari dataset\n",
        "print(df_load.shape)\n",
        "\n",
        "#Tampilkan 5 data teratas\n",
        "print(df_load.head())\n",
        "\n",
        "#Tampilkan jumlah ID yang unik\n",
        "print(df_load.customerID.nunique())"
      ],
      "metadata": {
        "colab": {
          "base_uri": "https://localhost:8080/"
        },
        "id": "0zGCR4ZewIJt",
        "outputId": "ed74d221-f85e-4ebc-8631-63b6b692e607"
      },
      "execution_count": 3,
      "outputs": [
        {
          "output_type": "stream",
          "name": "stdout",
          "text": [
            "(6950, 13)\n",
            "   UpdatedAt   customerID  gender SeniorCitizen Partner  tenure PhoneService  \\\n",
            "0     202006  45759018157  Female            No     Yes       1           No   \n",
            "1     202006  45315483266    Male            No     Yes      60          Yes   \n",
            "2     202006  45236961615    Male            No      No       5          Yes   \n",
            "3     202006  45929827382  Female            No     Yes      72          Yes   \n",
            "4     202006  45305082233  Female            No     Yes      56          Yes   \n",
            "\n",
            "  StreamingTV InternetService PaperlessBilling  MonthlyCharges  TotalCharges  \\\n",
            "0          No             Yes              Yes           29.85         29.85   \n",
            "1          No              No              Yes           20.50       1198.80   \n",
            "2         Yes             Yes               No          104.10        541.90   \n",
            "3         Yes             Yes              Yes          115.50       8312.75   \n",
            "4         Yes             Yes               No           81.25       4620.40   \n",
            "\n",
            "  Churn  \n",
            "0    No  \n",
            "1    No  \n",
            "2   Yes  \n",
            "3    No  \n",
            "4    No  \n",
            "6950\n"
          ]
        }
      ]
    },
    {
      "cell_type": "markdown",
      "source": [
        "## Melakukan Exploratory Data Analysis (EDA)"
      ],
      "metadata": {
        "id": "nJGoIr-svjy5"
      }
    },
    {
      "cell_type": "markdown",
      "source": [
        "#### [Exploratory Data Analysis](https://academy.dqlab.id/main/livecode/249/434/2166?pr=0)"
      ],
      "metadata": {
        "id": "ye97GehIw7t0"
      }
    },
    {
      "cell_type": "code",
      "source": [
        "#import matplotlib dan seaborn\n",
        "import matplotlib.pyplot as plt\n",
        "import seaborn as sns"
      ],
      "metadata": {
        "id": "CZPLrFgfw_wC"
      },
      "execution_count": 4,
      "outputs": []
    },
    {
      "cell_type": "markdown",
      "source": [
        "#### [Memvisualisasikan Prosentase Churn](https://academy.dqlab.id/main/livecode/249/434/2167?pr=0)"
      ],
      "metadata": {
        "id": "eEvFljmpxzHm"
      }
    },
    {
      "cell_type": "code",
      "source": [
        "#Your codes here\n",
        "fig = plt.figure()\n",
        "ax = fig.add_axes([0,0,1,1])\n",
        "ax.axis('equal')\n",
        "labels = ['Yes','No']\n",
        "churn = df_load.Churn.value_counts()\n",
        "ax.pie(churn, labels=labels, autopct='%.0f%%')\n",
        "plt.show()"
      ],
      "metadata": {
        "colab": {
          "base_uri": "https://localhost:8080/",
          "height": 319
        },
        "id": "nOmlGJSJx6QW",
        "outputId": "16d6c62e-d0d3-499e-91a1-9e8082ce303b"
      },
      "execution_count": 5,
      "outputs": [
        {
          "output_type": "display_data",
          "data": {
            "text/plain": [
              "<Figure size 432x288 with 1 Axes>"
            ],
            "image/png": "[encoded data removed]"
          },
          "metadata": {}
        }
      ]
    },
    {
      "cell_type": "markdown",
      "source": [
        "#### [Exploratory Data Analysis (EDA) Variabel Numerik](https://academy.dqlab.id/main/livecode/249/434/2168?pr=0)"
      ],
      "metadata": {
        "id": "TZCfgU3ryC4o"
      }
    },
    {
      "cell_type": "code",
      "source": [
        "#creating bin in chart\n",
        "numerical_features = ['MonthlyCharges','TotalCharges','tenure']\n",
        "fig, ax = plt.subplots(1, 3, figsize=(15, 6))\n",
        "\n",
        "# Use the following code to plot two overlays of histogram per each numerical_features, use a color of blue and orange, respectively\n",
        "df_load[df_load.Churn == 'No'][numerical_features].hist(bins=20, color='blue', alpha=0.5, ax=ax)\n",
        "df_load[df_load.Churn == 'Yes'][numerical_features].hist(bins=20, color='orange', alpha=0.5, ax=ax)\n",
        "plt.show()"
      ],
      "metadata": {
        "colab": {
          "base_uri": "https://localhost:8080/",
          "height": 370
        },
        "id": "3hmrOfJeyJpy",
        "outputId": "d8eaaf84-42a4-4a2c-869b-3a811f8f88dd"
      },
      "execution_count": 6,
      "outputs": [
        {
          "output_type": "display_data",
          "data": {
            "text/plain": [
              "<Figure size 1080x432 with 3 Axes>"
            ],
            "image/png": "[encoded data removed]"
          },
          "metadata": {
            "needs_background": "light"
          }
        }
      ]
    },
    {
      "cell_type": "markdown",
      "source": [
        "#### [Exploratory Data Analysis (EDA) Variabel Kategorik](https://academy.dqlab.id/main/livecode/249/434/2169?pr=0)"
      ],
      "metadata": {
        "id": "ECIAPvYSyPxk"
      }
    },
    {
      "cell_type": "code",
      "source": [
        "# Your code goes here\n",
        "fig, ax = plt.subplots(3, 3, figsize=(14, 12))\n",
        "sns.countplot(data=df_load, x='gender', hue='Churn', ax=ax[0][0])\n",
        "sns.countplot(data=df_load, x='Partner', hue='Churn', ax=ax[0][1])\n",
        "sns.countplot(data=df_load, x='SeniorCitizen', hue='Churn', ax=ax[0][2])\n",
        "sns.countplot(data=df_load, x='PhoneService', hue='Churn', ax=ax[1][0])\n",
        "sns.countplot(data=df_load, x='StreamingTV', hue='Churn', ax=ax[1][1])\n",
        "sns.countplot(data=df_load, x='InternetService', hue='Churn', ax=ax[1][2])\n",
        "sns.countplot(data=df_load, x='PaperlessBilling', hue='Churn', ax=ax[2][1])\n",
        "plt.tight_layout()\n",
        "plt.show()"
      ],
      "metadata": {
        "colab": {
          "base_uri": "https://localhost:8080/",
          "height": 733
        },
        "id": "BYzAirZGyXbC",
        "outputId": "abdc751d-3cfd-4a45-e4cb-e5efe915b397"
      },
      "execution_count": 7,
      "outputs": [
        {
          "output_type": "display_data",
          "data": {
            "text/plain": [
              "<Figure size 1008x864 with 9 Axes>"
            ],
            "image/png": "[encoded data removed]"
          },
          "metadata": {
            "needs_background": "light"
          }
        }
      ]
    },
    {
      "cell_type": "markdown",
      "source": [
        "Berdasarkan hasil dan analisa di atas dapat disimpulkan :\n",
        "\n",
        "\n",
        "* pada tahap pertama dapat kita ketahui bahwa sebaran data secara kesuluruhan *customer* tidak melakukan *churn*, dengan detil **Churn** sebanyak 26% dan **No Churn** sebanyak 74%.\n",
        "* pada tahap kedua dapat kita ketahui bahwa untuk **MonthlyCharges** ada kecenderungan semakin kecil nilai biaya bulanan yang dikenakan, semakin kecil juga kecenderungan untuk melakukan *churn*. Untuk **TotalCharges** terlihat tidak ada kecenderungan apapun terhadap *churn customers*. Untuk **tenure** ada kecenderungan semakin lama berlangganan *customer*, semakin kecil kecenderungan untuk melakukan *churn*.\n",
        "* pada tahap ketiga dapat kita ketahui bahwa tidak ada perbedaan yang signifikan untuk orang melakukan *churn* dilihat dari faktor jenis kelamin (**gender**) dan layanan telfonnya (**PhoneService**). Akan tetapi ada kecenderungan bahwa orang yang melakukan *churn* adalah orang-orang yang tidak memiliki *partner* (**partner: No**), orang-orang yang statusnya adalah *senior citizen* (**SeniorCitizen: Yes**), orang-orang yang mempunyai layanan *streaming TV* (**StreamingTV: Yes**), orang-orang yang mempunyai layanan *Internet* (**internetService: Yes**) dan orang-orang yang tagihannya *paperless* (**PaperlessBilling: Yes**).\n",
        "\n"
      ],
      "metadata": {
        "id": "ytJtaW4sywj8"
      }
    },
    {
      "cell_type": "markdown",
      "source": [
        "## Melakukan Data PreProcessing"
      ],
      "metadata": {
        "id": "QU2RWhPMvmTA"
      }
    },
    {
      "cell_type": "markdown",
      "source": [
        "#### [Menghapus Unnecessary Columns dari data](https://academy.dqlab.id/main/livecode/249/435/2171?pr=0)"
      ],
      "metadata": {
        "id": "Y9wbe7V40AWg"
      }
    },
    {
      "cell_type": "code",
      "source": [
        "#Remove the unnecessary columns customerID & UpdatedAt\n",
        "cleaned_df = df_load.drop(['customerID','UpdatedAt'], axis=1)\n",
        "\n",
        "print(cleaned_df.head())"
      ],
      "metadata": {
        "colab": {
          "base_uri": "https://localhost:8080/"
        },
        "id": "w5GdioaA0HxE",
        "outputId": "43ad58e9-2be0-4f8f-f275-b05a05c20be3"
      },
      "execution_count": 8,
      "outputs": [
        {
          "output_type": "stream",
          "name": "stdout",
          "text": [
            "   gender SeniorCitizen Partner  tenure PhoneService StreamingTV  \\\n",
            "0  Female            No     Yes       1           No          No   \n",
            "1    Male            No     Yes      60          Yes          No   \n",
            "2    Male            No      No       5          Yes         Yes   \n",
            "3  Female            No     Yes      72          Yes         Yes   \n",
            "4  Female            No     Yes      56          Yes         Yes   \n",
            "\n",
            "  InternetService PaperlessBilling  MonthlyCharges  TotalCharges Churn  \n",
            "0             Yes              Yes           29.85         29.85    No  \n",
            "1              No              Yes           20.50       1198.80    No  \n",
            "2             Yes               No          104.10        541.90   Yes  \n",
            "3             Yes              Yes          115.50       8312.75    No  \n",
            "4             Yes               No           81.25       4620.40    No  \n"
          ]
        }
      ]
    },
    {
      "cell_type": "markdown",
      "source": [
        "#### [Encoding Data](https://academy.dqlab.id/main/livecode/249/435/2172?pr=0)"
      ],
      "metadata": {
        "id": "bDARrE-j0SHj"
      }
    },
    {
      "cell_type": "code",
      "source": [
        "#Convert all the non-numeric columns to numerical data types\n",
        "for column in cleaned_df.columns:\n",
        "\tif cleaned_df[column].dtype == np.number: continue\n",
        "    # Perform encoding for each non-numeric column\n",
        "\tcleaned_df[column] = LabelEncoder().fit_transform(cleaned_df[column])\n",
        "print(cleaned_df.describe())"
      ],
      "metadata": {
        "colab": {
          "base_uri": "https://localhost:8080/"
        },
        "id": "urOF6mvu0V-A",
        "outputId": "aec078ad-8a2d-4687-a226-684b010bad30"
      },
      "execution_count": 10,
      "outputs": [
        {
          "output_type": "stream",
          "name": "stdout",
          "text": [
            "            gender  SeniorCitizen      Partner       tenure  PhoneService  \\\n",
            "count  6950.000000    6950.000000  6950.000000  6950.000000   6950.000000   \n",
            "mean      0.504317       0.162302     0.483309    32.415827      0.903741   \n",
            "std       0.500017       0.368754     0.499757    24.561336      0.294967   \n",
            "min       0.000000       0.000000     0.000000     0.000000      0.000000   \n",
            "25%       0.000000       0.000000     0.000000     9.000000      1.000000   \n",
            "50%       1.000000       0.000000     0.000000    29.000000      1.000000   \n",
            "75%       1.000000       0.000000     1.000000    55.000000      1.000000   \n",
            "max       1.000000       1.000000     1.000000    73.000000      1.000000   \n",
            "\n",
            "       StreamingTV  InternetService  PaperlessBilling  MonthlyCharges  \\\n",
            "count  6950.000000      6950.000000       6950.000000     6950.000000   \n",
            "mean      0.384317         0.783453          0.591942       64.992201   \n",
            "std       0.486468         0.411921          0.491509       30.032040   \n",
            "min       0.000000         0.000000          0.000000        0.000000   \n",
            "25%       0.000000         1.000000          0.000000       36.462500   \n",
            "50%       0.000000         1.000000          1.000000       70.450000   \n",
            "75%       1.000000         1.000000          1.000000       89.850000   \n",
            "max       1.000000         1.000000          1.000000      169.931250   \n",
            "\n",
            "       TotalCharges        Churn  \n",
            "count   6950.000000  6950.000000  \n",
            "mean    2286.058750     0.264173  \n",
            "std     2265.702553     0.440923  \n",
            "min       19.000000     0.000000  \n",
            "25%      406.975000     0.000000  \n",
            "50%     1400.850000     0.000000  \n",
            "75%     3799.837500     1.000000  \n",
            "max     8889.131250     1.000000  \n"
          ]
        },
        {
          "output_type": "stream",
          "name": "stderr",
          "text": [
            "/usr/local/lib/python3.7/dist-packages/ipykernel_launcher.py:3: DeprecationWarning: Converting `np.inexact` or `np.floating` to a dtype is deprecated. The current result is `float64` which is not strictly correct.\n",
            "  This is separate from the ipykernel package so we can avoid doing imports until\n"
          ]
        }
      ]
    },
    {
      "cell_type": "markdown",
      "source": [
        "#### [Splitting Dataset](https://academy.dqlab.id/main/livecode/249/435/2173?pr=0)"
      ],
      "metadata": {
        "id": "1w3uDOah0v5U"
      }
    },
    {
      "cell_type": "code",
      "source": [
        "# Predictor dan target\n",
        "X = cleaned_df.drop('Churn', axis = 1)\n",
        "y = cleaned_df['Churn']\n",
        "\n",
        "# Splitting train and test\n",
        "x_train, x_test, y_train, y_test = train_test_split(X, y, test_size=0.3, random_state=42)\n",
        "\n",
        "# Print according to the expected result\n",
        "print('Jumlah baris dan kolom dari x_train adalah:', x_train.shape,', sedangkan Jumlah baris dan kolom dari y_train adalah:', y_train.shape)\n",
        "print('Prosentase Churn di data Training adalah:')\n",
        "print(y_train.value_counts(normalize=True))\n",
        "print('Jumlah baris dan kolom dari x_test adalah:', x_test.shape,', sedangkan Jumlah baris dan kolom dari y_test adalah:', y_test.shape)\n",
        "print('Prosentase Churn di data Testing adalah:')\n",
        "print(y_test.value_counts(normalize=True))"
      ],
      "metadata": {
        "colab": {
          "base_uri": "https://localhost:8080/"
        },
        "id": "9sLmdAB00zn_",
        "outputId": "3caa5bd3-b8cd-4c13-fd48-11c1b38514b0"
      },
      "execution_count": 11,
      "outputs": [
        {
          "output_type": "stream",
          "name": "stdout",
          "text": [
            "Jumlah baris dan kolom dari x_train adalah: (4865, 10) , sedangkan Jumlah baris dan kolom dari y_train adalah: (4865,)\n",
            "Prosentase Churn di data Training adalah:\n",
            "0    0.734841\n",
            "1    0.265159\n",
            "Name: Churn, dtype: float64\n",
            "Jumlah baris dan kolom dari x_test adalah: (2085, 10) , sedangkan Jumlah baris dan kolom dari y_test adalah: (2085,)\n",
            "Prosentase Churn di data Testing adalah:\n",
            "0    0.738129\n",
            "1    0.261871\n",
            "Name: Churn, dtype: float64\n"
          ]
        }
      ]
    },
    {
      "cell_type": "markdown",
      "source": [
        "Setelah kita analisis lebih lanjut, ternyata ada kolom yang tidak dibutuhkuan dalam model, yaitu Id Number pelanggannya (**customerID**) & periode pengambilan datanya (**UpdatedAt**), maka hal ini perlu dihapus. Kemudian kita lanjut mengubah *value* dari data yang masih berbentuk *string* menjadi *numeric* melalui **encoding**. Setelah dilakukan, terlihat di persebaran datanya khususnya kolom **min** dan **max** dari masing masing variabel sudah berubah menjadi **0** & **1**. Tahap terakhir adalah membagi data menjadi 2 bagian untuk keperluan *modelling*. Setelah dilakukan, terlihat dari jumlah baris dan kolom masing-masing data sudah sesuai & prosentase kolom *churn* juga sama dengan data di awal. Hal ini mengindikasikan bahwasannya data terpisah dengan baik dan benar."
      ],
      "metadata": {
        "id": "jjJsGoJU1DGn"
      }
    },
    {
      "cell_type": "markdown",
      "source": [
        "## Modelling: Logistic Regression"
      ],
      "metadata": {
        "id": "PB1e6Cqgvoi9"
      }
    },
    {
      "cell_type": "markdown",
      "source": [
        "#### [Pembuatan Model](https://academy.dqlab.id/main/livecode/249/436/2175?pr=0)"
      ],
      "metadata": {
        "id": "SQi33Xw31rri"
      }
    },
    {
      "cell_type": "code",
      "source": [
        "log_model = LogisticRegression(C=1.0, class_weight=None, dual=False, fit_intercept=True,\n",
        "                   intercept_scaling=1, l1_ratio=None, max_iter=1000,\n",
        "                   multi_class='auto', n_jobs=None, penalty='l2',\n",
        "                   random_state=None, solver='lbfgs', tol=0.0001, verbose=0,\n",
        "                   warm_start=False).fit(x_train, y_train) #max_iter 100 akan error\n",
        "\n",
        "print('Model Logistic Regression yang terbentuk adalah: \\n', log_model)"
      ],
      "metadata": {
        "colab": {
          "base_uri": "https://localhost:8080/"
        },
        "id": "_WdyZpfq13YJ",
        "outputId": "fab0f6f9-1faf-4e57-fa94-6bbc39753267"
      },
      "execution_count": 22,
      "outputs": [
        {
          "output_type": "stream",
          "name": "stdout",
          "text": [
            "Model Logistic Regression yang terbentuk adalah: \n",
            " LogisticRegression(max_iter=1000)\n"
          ]
        }
      ]
    },
    {
      "cell_type": "markdown",
      "source": [
        "#### [Performansi Model Training - Menampilkan Metrics](https://academy.dqlab.id/main/livecode/249/436/2176?pr=0)"
      ],
      "metadata": {
        "id": "2afU9JyQ4875"
      }
    },
    {
      "cell_type": "code",
      "source": [
        "# Predict\n",
        "y_train_pred = log_model.predict(x_train)\n",
        "\n",
        "# Print classification report \n",
        "print('Classification Report Training Model (Logistic Regression) :')\n",
        "print(classification_report(y_train, y_train_pred))"
      ],
      "metadata": {
        "colab": {
          "base_uri": "https://localhost:8080/"
        },
        "id": "z-iIJ2kz5AXO",
        "outputId": "0ddbba12-34f4-4328-c242-268176ff4a91"
      },
      "execution_count": 23,
      "outputs": [
        {
          "output_type": "stream",
          "name": "stdout",
          "text": [
            "Classification Report Training Model (Logistic Regression) :\n",
            "              precision    recall  f1-score   support\n",
            "\n",
            "           0       0.83      0.90      0.87      3575\n",
            "           1       0.65      0.50      0.56      1290\n",
            "\n",
            "    accuracy                           0.80      4865\n",
            "   macro avg       0.74      0.70      0.72      4865\n",
            "weighted avg       0.78      0.80      0.79      4865\n",
            "\n"
          ]
        }
      ]
    },
    {
      "cell_type": "markdown",
      "source": [
        "#### [Performansi Model Training - Menampilkan Plots](https://academy.dqlab.id/main/livecode/249/436/2246?pr=0)"
      ],
      "metadata": {
        "id": "-wnhBJVo5isV"
      }
    },
    {
      "cell_type": "code",
      "source": [
        "# Form confusion matrix as a DataFrame\n",
        "confusion_matrix_df = pd.DataFrame((confusion_matrix(y_train, y_train_pred)), ('No churn', 'Churn'), ('No churn', 'Churn'))\n",
        "\n",
        "# Plot confusion matrix\n",
        "plt.figure()\n",
        "heatmap = sns.heatmap(confusion_matrix_df, annot=True, annot_kws={'size': 14}, fmt='d', cmap='YlGnBu')\n",
        "heatmap.yaxis.set_ticklabels(heatmap.yaxis.get_ticklabels(), rotation=0, ha='right', fontsize=14)\n",
        "heatmap.xaxis.set_ticklabels(heatmap.xaxis.get_ticklabels(), rotation=0, ha='right', fontsize=14)\n",
        "\n",
        "plt.title('Confusion Matrix for Training Model\\n(Logistic Regression)', fontsize=18, color='darkblue')\n",
        "plt.ylabel('True label', fontsize=14)\n",
        "plt.xlabel('Predicted label', fontsize=14)\n",
        "plt.tight_layout()\n",
        "plt.show()"
      ],
      "metadata": {
        "colab": {
          "base_uri": "https://localhost:8080/",
          "height": 297
        },
        "id": "njRdj2Lz5mhd",
        "outputId": "bbf6c54e-7775-4b76-f427-346a250523ce"
      },
      "execution_count": 24,
      "outputs": [
        {
          "output_type": "display_data",
          "data": {
            "text/plain": [
              "<Figure size 432x288 with 2 Axes>"
            ],
            "image/png": "[encoded data removed]"
          },
          "metadata": {
            "needs_background": "light"
          }
        }
      ]
    },
    {
      "cell_type": "markdown",
      "source": [
        "#### [Performansi Data Testing - Menampilkan Metrics](https://https://academy.dqlab.id/main/livecode/249/436/2177?pr=0)"
      ],
      "metadata": {
        "id": "VofT_jmA55Eq"
      }
    },
    {
      "cell_type": "code",
      "source": [
        "# Predict\n",
        "y_test_pred = log_model.predict(x_test)\n",
        "\n",
        "# Print classification report\n",
        "print('Classification Report Testing Model (Logistic Regression):')\n",
        "print(classification_report(y_test, y_test_pred))"
      ],
      "metadata": {
        "colab": {
          "base_uri": "https://localhost:8080/"
        },
        "id": "sXt0adnx6Dun",
        "outputId": "678f5cb9-1a0a-4e13-d796-383c92de4ae2"
      },
      "execution_count": 25,
      "outputs": [
        {
          "output_type": "stream",
          "name": "stdout",
          "text": [
            "Classification Report Testing Model (Logistic Regression):\n",
            "              precision    recall  f1-score   support\n",
            "\n",
            "           0       0.83      0.90      0.87      1539\n",
            "           1       0.64      0.48      0.55       546\n",
            "\n",
            "    accuracy                           0.79      2085\n",
            "   macro avg       0.73      0.69      0.71      2085\n",
            "weighted avg       0.78      0.79      0.78      2085\n",
            "\n"
          ]
        }
      ]
    },
    {
      "cell_type": "markdown",
      "source": [
        "#### [Performansi Data Testing - Menampilkan Plots](https://academy.dqlab.id/main/livecode/249/436/2247?pr=0)"
      ],
      "metadata": {
        "id": "YMhhQtLv6fj5"
      }
    },
    {
      "cell_type": "code",
      "source": [
        "# Form confusion matrix as a DataFrame\n",
        "confusion_matrix_df = pd.DataFrame((confusion_matrix(y_test, y_test_pred)), ('No churn', 'Churn'), ('No churn', 'Churn'))\n",
        "\n",
        "# Plot confusion matrix\n",
        "plt.figure()\n",
        "heatmap = sns.heatmap(confusion_matrix_df, annot=True, annot_kws={'size': 14}, fmt='d', cmap='YlGnBu')\n",
        "heatmap.yaxis.set_ticklabels(heatmap.yaxis.get_ticklabels(), rotation=0, ha='right', fontsize=14)\n",
        "heatmap.xaxis.set_ticklabels(heatmap.xaxis.get_ticklabels(), rotation=0, ha='right', fontsize=14)\n",
        "\n",
        "plt.title('Confusion Matrix for Testing Model\\n(Logistic Regression)\\n', fontsize=18, color='darkblue')\n",
        "plt.ylabel('True label', fontsize=14)\n",
        "plt.xlabel('Predicted label', fontsize=14)\n",
        "plt.tight_layout()\n",
        "plt.show()"
      ],
      "metadata": {
        "colab": {
          "base_uri": "https://localhost:8080/",
          "height": 297
        },
        "id": "RoKAz8So6kZx",
        "outputId": "f8fde055-e9e0-4571-d45f-b0dc73f2d166"
      },
      "execution_count": 26,
      "outputs": [
        {
          "output_type": "display_data",
          "data": {
            "text/plain": [
              "<Figure size 432x288 with 2 Axes>"
            ],
            "image/png": "[encoded data removed]"
          },
          "metadata": {
            "needs_background": "light"
          }
        }
      ]
    },
    {
      "cell_type": "markdown",
      "source": [
        "Dari hasil dan analisa di atas, maka :\n",
        "\n",
        "\n",
        "* Jika kita menggunakan menggunakan algoritma *logistic regression* dengan memanggil `LogisticRegression()` dari `sklearn` tanpa menambahi parameter apapun, maka yang dihasilkan adalah model dengan seting *default* dari `sklearn`, untuk detilnya bisa dilihat di dokumentasinya.\n",
        "* Dari data *training* terlihat bahwasannya model mampu memprediksi data dengan menghasilkan akurasi sebesar 80%, dengan detil tebakan *churn* yang sebenernya benar *churn* adalah 643, tebakan tidak *churn* yang sebenernya tidak *churn* adalah 3228, tebakan tidak *churn* yang sebenernya benar *churn* adalah 647 dan tebakan *churn* yang sebenernya tidak *churn* adalah 347.\n",
        "* Dari data *testing* terlihat bahwasannya model mampu memprediksi data dengan menghasilkan akurasi sebesar 79%, dengan detil tebakan *churn* yang sebenernya benar *churn* adalah 262, tebakan tidak *churn* yang sebenernya tidak *churn* adalah 1390, tebakan tidak *churn* yang sebenernya benar *churn* adalah 284 dan tebakan *churn* yang sebenernya tidak *churn* adalah 149.\n"
      ],
      "metadata": {
        "id": "DV2ABFLx6uQ3"
      }
    },
    {
      "cell_type": "markdown",
      "source": [
        "## Modelling : Random Forest Classifier"
      ],
      "metadata": {
        "id": "LZWCiK3Ovq0p"
      }
    },
    {
      "cell_type": "markdown",
      "source": [
        "#### [Pembuatan Model](https://academy.dqlab.id/main/livecode/249/437/2179?pr=0)"
      ],
      "metadata": {
        "id": "CKkIbQre8LGM"
      }
    },
    {
      "cell_type": "code",
      "source": [
        "#Train the model\n",
        "rdf_model = RandomForestClassifier(bootstrap=True, ccp_alpha=0.0, class_weight=None,\n",
        "                       criterion='gini', max_depth=None, max_features='auto',\n",
        "                       max_leaf_nodes=None, max_samples=None,\n",
        "                       min_impurity_decrease=0.0, min_samples_leaf=1, min_samples_split=2,\n",
        "                       min_weight_fraction_leaf=0.0, n_estimators=100,\n",
        "                       n_jobs=None, oob_score=False, random_state=None,\n",
        "                       verbose=0, warm_start=False).fit(x_train, y_train)\n",
        "\n",
        "print(rdf_model)"
      ],
      "metadata": {
        "colab": {
          "base_uri": "https://localhost:8080/"
        },
        "id": "5xsGHGPm8Q_c",
        "outputId": "c0938b82-1e66-441f-d743-f501fa4b70cb"
      },
      "execution_count": 30,
      "outputs": [
        {
          "output_type": "stream",
          "name": "stdout",
          "text": [
            "RandomForestClassifier()\n"
          ]
        }
      ]
    },
    {
      "cell_type": "markdown",
      "source": [
        "#### [Performansi Data Training - Menampilkan Metrics](https://https://academy.dqlab.id/main/livecode/249/437/2180?pr=0)"
      ],
      "metadata": {
        "id": "lPQw84SH-QqE"
      }
    },
    {
      "cell_type": "code",
      "source": [
        "y_train_pred = rdf_model.predict(x_train)\n",
        "\n",
        "print('Classification Report Training Model (Random Forest Classifier) :')\n",
        "print(classification_report(y_train, y_train_pred))"
      ],
      "metadata": {
        "colab": {
          "base_uri": "https://localhost:8080/"
        },
        "id": "cPHeI89b-UWo",
        "outputId": "756ff51c-5a9a-4ba8-e466-ab651d870ca8"
      },
      "execution_count": 31,
      "outputs": [
        {
          "output_type": "stream",
          "name": "stdout",
          "text": [
            "Classification Report Training Model (Random Forest Classifier) :\n",
            "              precision    recall  f1-score   support\n",
            "\n",
            "           0       1.00      1.00      1.00      3575\n",
            "           1       0.99      0.99      0.99      1290\n",
            "\n",
            "    accuracy                           1.00      4865\n",
            "   macro avg       1.00      0.99      0.99      4865\n",
            "weighted avg       1.00      1.00      1.00      4865\n",
            "\n"
          ]
        }
      ]
    },
    {
      "cell_type": "markdown",
      "source": [
        "#### [Performansi Data Training - Menampilkan Plots](https://academy.dqlab.id/main/livecode/249/437/2248?pr=0)"
      ],
      "metadata": {
        "id": "EGq4_JI5-x3T"
      }
    },
    {
      "cell_type": "code",
      "source": [
        "# Form confusion matrix as a DataFrame\n",
        "confusion_matrix_df = pd.DataFrame((confusion_matrix(y_train, y_train_pred)), ('No churn', 'Churn'), ('No churn', 'Churn'))\n",
        "\n",
        "# Plot confusion matrix\n",
        "plt.figure()\n",
        "heatmap = sns.heatmap(confusion_matrix_df, annot=True, annot_kws={'size': 14}, fmt='d', cmap='YlGnBu')\n",
        "heatmap.yaxis.set_ticklabels(heatmap.yaxis.get_ticklabels(), rotation=0, ha='right', fontsize=14)\n",
        "heatmap.xaxis.set_ticklabels(heatmap.xaxis.get_ticklabels(), rotation=0, ha='right', fontsize=14)\n",
        "\n",
        "plt.title('Confusion Matrix for Training Model\\n(Random Forest)', fontsize=18, color='darkblue')\n",
        "plt.ylabel('True label', fontsize=14)\n",
        "plt.xlabel('Predicted label', fontsize=14)\n",
        "plt.tight_layout()\n",
        "plt.show()"
      ],
      "metadata": {
        "colab": {
          "base_uri": "https://localhost:8080/",
          "height": 297
        },
        "id": "OKRf9WG7-1sL",
        "outputId": "aef343a5-5686-42d3-dd8e-aa7d6b0eee42"
      },
      "execution_count": 32,
      "outputs": [
        {
          "output_type": "display_data",
          "data": {
            "text/plain": [
              "<Figure size 432x288 with 2 Axes>"
            ],
            "image/png": "[encoded data removed]"
          },
          "metadata": {
            "needs_background": "light"
          }
        }
      ]
    },
    {
      "cell_type": "markdown",
      "source": [
        "#### [Performansi Data Testing - Menampilkan Metrics](https://academy.dqlab.id/main/livecode/249/437/2181?pr=0)"
      ],
      "metadata": {
        "id": "fyJeRQDO--QL"
      }
    },
    {
      "cell_type": "code",
      "source": [
        "# Predict\n",
        "y_test_pred = rdf_model.predict(x_test)\n",
        "\n",
        "# Print classification report \n",
        "print('Classification Report Testing Model (Random Forest Classifier):')\n",
        "print(classification_report(y_test, y_test_pred))"
      ],
      "metadata": {
        "colab": {
          "base_uri": "https://localhost:8080/"
        },
        "id": "KxwoPD2s_BxW",
        "outputId": "74bee41e-7037-4523-ae57-15a067732507"
      },
      "execution_count": 33,
      "outputs": [
        {
          "output_type": "stream",
          "name": "stdout",
          "text": [
            "Classification Report Testing Model (Random Forest Classifier):\n",
            "              precision    recall  f1-score   support\n",
            "\n",
            "           0       0.83      0.89      0.86      1539\n",
            "           1       0.60      0.48      0.53       546\n",
            "\n",
            "    accuracy                           0.78      2085\n",
            "   macro avg       0.72      0.68      0.69      2085\n",
            "weighted avg       0.77      0.78      0.77      2085\n",
            "\n"
          ]
        }
      ]
    },
    {
      "cell_type": "markdown",
      "source": [
        "#### [Performansi Data Testing - Menampilkan Plots](https://academy.dqlab.id/main/livecode/249/437/2249?pr=0)"
      ],
      "metadata": {
        "id": "T1m3X4Z4_Sfl"
      }
    },
    {
      "cell_type": "code",
      "source": [
        "# Form confusion matrix as a DataFrame\n",
        "confusion_matrix_df = pd.DataFrame((confusion_matrix(y_test, y_test_pred)), ('No churn', 'Churn'), ('No churn', 'Churn'))\n",
        "\n",
        "# Plot confusion matrix\n",
        "plt.figure()\n",
        "heatmap = sns.heatmap(confusion_matrix_df, annot=True, annot_kws={'size': 14}, fmt='d', cmap='YlGnBu')\n",
        "heatmap.yaxis.set_ticklabels(heatmap.yaxis.get_ticklabels(), rotation=0, ha='right', fontsize=14)\n",
        "heatmap.xaxis.set_ticklabels(heatmap.xaxis.get_ticklabels(), rotation=0, ha='right', fontsize=14)\n",
        "\n",
        "plt.title('Confusion Matrix for Testing Model\\n(Random Forest)\\n', fontsize=18, color='darkblue')\n",
        "plt.ylabel('True label', fontsize=14)\n",
        "plt.xlabel('Predicted label', fontsize=14)\n",
        "plt.tight_layout()\n",
        "plt.show()"
      ],
      "metadata": {
        "colab": {
          "base_uri": "https://localhost:8080/",
          "height": 297
        },
        "id": "VJ2twu4c_WI3",
        "outputId": "9715e063-ba1a-45a5-d998-a3c92cdd6b32"
      },
      "execution_count": 34,
      "outputs": [
        {
          "output_type": "display_data",
          "data": {
            "text/plain": [
              "<Figure size 432x288 with 2 Axes>"
            ],
            "image/png": "[encoded data removed]"
          },
          "metadata": {
            "needs_background": "light"
          }
        }
      ]
    },
    {
      "cell_type": "markdown",
      "source": [
        "Dari hasil dan analisa di atas, maka:\n",
        "\n",
        "\n",
        "* Jika kita menggunakan menggunakan algoritma *Random Forest* dengan memanggil `RandomForestClassifier()` dari `sklearn` tanpa menambahi parameter apapun, maka yang dihasilkan adalah model dengan seting *defaul*t dari `sklearn`, untuk detilnya bisa dilihat di dokumentasinya.\n",
        "* Dari data *training* terlihat bahwasannya model mampu memprediksi data dengan menghasilkan akurasi sebesar 100%, dengan detil tebakan *churn* yang sebenernya benar *churn* adalah 1276, tebakan tidak *churn* yang sebenernya tidak *churn* adalah 3568, tebakan tidak *churn* yang sebenernya benar *churn* adalah 14 dan tebakan *churn* yang sebenernya tidak *churn* adalah 7.\n",
        "* Dari data *testing* terlihat bahwasannya model mampu memprediksi data dengan menghasilkan akurasi sebesar 78%, dengan detil tebakan *churn* yang sebenernya benar *churn* adalah 260, tebakan tidak *churn *yang sebenernya tidak *churn* adalah 1368, tebakan tidak *churn* yang sebenernya benar *churn* adalah 286 dan tebakan *churn* yang sebenernya tidak *churn* adalah 171.\n",
        "\n"
      ],
      "metadata": {
        "id": "wf3AtsB1APsn"
      }
    },
    {
      "cell_type": "markdown",
      "source": [
        "## Modelling: Gradient Boosting Classifier"
      ],
      "metadata": {
        "id": "rOev5xhYvtSd"
      }
    },
    {
      "cell_type": "markdown",
      "source": [
        "#### [Pembuatan Model](https://academy.dqlab.id/main/livecode/249/447/2231?pr=0)"
      ],
      "metadata": {
        "id": "p-tQzmlYBZ_M"
      }
    },
    {
      "cell_type": "code",
      "source": [
        "#Train the model\n",
        "gbt_model = GradientBoostingClassifier(ccp_alpha=0.0, criterion='friedman_mse', init=None,\n",
        "                           learning_rate=0.1, loss='deviance', max_depth=3,\n",
        "                           max_features=None, max_leaf_nodes=None,\n",
        "                           min_impurity_decrease=0.0, min_samples_leaf=1, min_samples_split=2,\n",
        "                           min_weight_fraction_leaf=0.0, n_estimators=100,\n",
        "                           n_iter_no_change=None, random_state=None, subsample=1.0, tol=0.0001,\n",
        "                           validation_fraction=0.1, verbose=0,\n",
        "                           warm_start=False).fit(x_train, y_train)\n",
        "\n",
        "print(gbt_model)"
      ],
      "metadata": {
        "colab": {
          "base_uri": "https://localhost:8080/"
        },
        "id": "4O84VwU-BeKi",
        "outputId": "1d6608e6-b3bd-49d8-c89a-0c986d94a7a1"
      },
      "execution_count": 38,
      "outputs": [
        {
          "output_type": "stream",
          "name": "stdout",
          "text": [
            "GradientBoostingClassifier()\n"
          ]
        }
      ]
    },
    {
      "cell_type": "markdown",
      "source": [
        "#### [Perfomansi Model Data Training - Menampilkan Metrics](https://academy.dqlab.id/main/livecode/249/447/2232?pr=0)"
      ],
      "metadata": {
        "id": "zaoiCBzcCBeL"
      }
    },
    {
      "cell_type": "code",
      "source": [
        "# Predict\n",
        "y_train_pred = gbt_model.predict(x_train)\n",
        "\n",
        "# Print classification report \n",
        "print('Classification Report Training Model (Gradient Boosting):')\n",
        "print(classification_report(y_train, y_train_pred))"
      ],
      "metadata": {
        "colab": {
          "base_uri": "https://localhost:8080/"
        },
        "id": "q-LMEpgACH12",
        "outputId": "ac2d4657-e46a-43b3-cf0c-68aee7e8f505"
      },
      "execution_count": 39,
      "outputs": [
        {
          "output_type": "stream",
          "name": "stdout",
          "text": [
            "Classification Report Training Model (Gradient Boosting):\n",
            "              precision    recall  f1-score   support\n",
            "\n",
            "           0       0.84      0.92      0.88      3575\n",
            "           1       0.70      0.53      0.60      1290\n",
            "\n",
            "    accuracy                           0.82      4865\n",
            "   macro avg       0.77      0.72      0.74      4865\n",
            "weighted avg       0.81      0.82      0.81      4865\n",
            "\n"
          ]
        }
      ]
    },
    {
      "cell_type": "markdown",
      "source": [
        "#### [Perfomansi Model Data Training - Menampilkan Plots](https://academy.dqlab.id/main/livecode/249/447/2250?pr=0)"
      ],
      "metadata": {
        "id": "wE9YHhytCVty"
      }
    },
    {
      "cell_type": "code",
      "source": [
        "# Form confusion matrix as a DataFrame\n",
        "confusion_matrix_df = pd.DataFrame((confusion_matrix(y_train, y_train_pred)), ('No churn', 'Churn'), ('No churn', 'Churn'))\n",
        "\n",
        "# Plot confusion matrix\n",
        "plt.figure()\n",
        "heatmap = sns.heatmap(confusion_matrix_df, annot=True, annot_kws={'size': 14}, fmt='d', cmap='YlGnBu')\n",
        "heatmap.yaxis.set_ticklabels(heatmap.yaxis.get_ticklabels(), rotation=0, ha='right', fontsize=14)\n",
        "heatmap.xaxis.set_ticklabels(heatmap.xaxis.get_ticklabels(), rotation=0, ha='right', fontsize=14)\n",
        "\n",
        "plt.title('Confusion Matrix for Training Model\\n(Gradient Boosting)', fontsize=18, color='darkblue')\n",
        "plt.ylabel('True label', fontsize=14)\n",
        "plt.xlabel('Predicted label', fontsize=14)\n",
        "plt.tight_layout()\n",
        "plt.show()"
      ],
      "metadata": {
        "colab": {
          "base_uri": "https://localhost:8080/",
          "height": 297
        },
        "id": "_s5P5bJUCZrU",
        "outputId": "397ec44d-9a0c-4b2e-d7d3-5480e0d96696"
      },
      "execution_count": 40,
      "outputs": [
        {
          "output_type": "display_data",
          "data": {
            "text/plain": [
              "<Figure size 432x288 with 2 Axes>"
            ],
            "image/png": "[encoded data removed]"
          },
          "metadata": {
            "needs_background": "light"
          }
        }
      ]
    },
    {
      "cell_type": "markdown",
      "source": [
        "#### [Performansi Model Data Testing - Menampilkan Metrics](https://academy.dqlab.id/main/livecode/249/447/2233?pr=0)"
      ],
      "metadata": {
        "id": "nKCnL1ShDQ31"
      }
    },
    {
      "cell_type": "code",
      "source": [
        "# Predict\n",
        "y_test_pred = gbt_model.predict(x_test)\n",
        "\n",
        "# Print classification report \n",
        "print('Classification Report Testing Model (Gradient Boosting):')\n",
        "print(classification_report(y_test, y_test_pred))"
      ],
      "metadata": {
        "colab": {
          "base_uri": "https://localhost:8080/"
        },
        "id": "p9qTP25BDVSW",
        "outputId": "45b4a6a2-0c6c-4d16-f42c-d4f8574d26e5"
      },
      "execution_count": 41,
      "outputs": [
        {
          "output_type": "stream",
          "name": "stdout",
          "text": [
            "Classification Report Testing Model (Gradient Boosting):\n",
            "              precision    recall  f1-score   support\n",
            "\n",
            "           0       0.83      0.91      0.87      1539\n",
            "           1       0.64      0.48      0.55       546\n",
            "\n",
            "    accuracy                           0.79      2085\n",
            "   macro avg       0.74      0.69      0.71      2085\n",
            "weighted avg       0.78      0.79      0.78      2085\n",
            "\n"
          ]
        }
      ]
    },
    {
      "cell_type": "markdown",
      "source": [
        "#### [Performansi Model Data Testing - Menampilkan Plots](https://academy.dqlab.id/main/livecode/249/447/2251?pr=0)"
      ],
      "metadata": {
        "id": "t1_OXpwrD5BY"
      }
    },
    {
      "cell_type": "code",
      "source": [
        "# Form confusion matrix as a DataFrame\n",
        "confusion_matrix_df = pd.DataFrame((confusion_matrix(y_test, y_test_pred)), ('No churn', 'Churn'), ('No churn', 'Churn'))\n",
        "\n",
        "# Plot confusion matrix\n",
        "plt.figure()\n",
        "heatmap = sns.heatmap(confusion_matrix_df, annot=True, annot_kws={'size': 14}, fmt='d', cmap='YlGnBu')\n",
        "heatmap.yaxis.set_ticklabels(heatmap.yaxis.get_ticklabels(), rotation=0, ha='right', fontsize=14)\n",
        "heatmap.xaxis.set_ticklabels(heatmap.xaxis.get_ticklabels(), rotation=0, ha='right', fontsize=14)\n",
        "\n",
        "plt.title('Confusion Matrix for Testing Model\\n(Gradient Boosting)', fontsize=18, color='darkblue')\n",
        "plt.ylabel('True label', fontsize=14)\n",
        "plt.xlabel('Predicted label', fontsize=14)\n",
        "plt.tight_layout()\n",
        "plt.show()"
      ],
      "metadata": {
        "colab": {
          "base_uri": "https://localhost:8080/",
          "height": 297
        },
        "id": "xkAqeyfsD97H",
        "outputId": "25ccb509-a2ad-4dbd-d6c5-0dff49049ee9"
      },
      "execution_count": 42,
      "outputs": [
        {
          "output_type": "display_data",
          "data": {
            "text/plain": [
              "<Figure size 432x288 with 2 Axes>"
            ],
            "image/png": "[encoded data removed]"
          },
          "metadata": {
            "needs_background": "light"
          }
        }
      ]
    },
    {
      "cell_type": "markdown",
      "source": [
        "Dari hasil dan analisa di atas, maka :\n",
        "\n",
        "\n",
        "* Jika kita menggunakan menggunakan algoritma *Gradient Boosting* dengan memanggil `GradientBoostingClassifier()` dari `sklearn` tanpa menambahi parameter apapun, maka yang dihasilkan adalah model dengan seting *default* dari `sklearn`, untuk detilnya bisa dilihat di dokumentasinya.\n",
        "* Dari data *training* terlihat bahwasannya model mampu memprediksi data dengan menghasilkan akurasi sebesar 82%, dengan detil tebakan *churn* yang sebenernya benar *churn* adalah 684, tebakan tidak *churn* yang sebenernya tidak *churn* adalah 3286, tebakan tidak *churn* yang sebenernya benar *churn* adalah 606 dan tebakan *churn* yang sebenernya tidak *churn* adalah 289.\n",
        "* Dari data *testing* terlihat bahwasannya model mampu memprediksi data dengan menghasilkan akurasi sebesar 79%, dengan detil tebakan *churn* yang sebenernya benar *churn* adalah 261, tebakan tidak *churn* yang sebenernya tidak *churn* adalah 1394, tebakan tidak *churn* yang sebenernya benar *churn* adalah 285 dan tebakan *churn* yang sebenernya tidak *churn* adalah 145.\n",
        "\n"
      ],
      "metadata": {
        "id": "tnvwCCGSEEKl"
      }
    },
    {
      "cell_type": "markdown",
      "source": [
        "## Memilih Model Terbaik"
      ],
      "metadata": {
        "id": "YwfBToMYvvg5"
      }
    },
    {
      "cell_type": "markdown",
      "source": [
        "#### [Menentukan Algoritma Model Terbaik](https://academy.dqlab.id/main/livecode/249/439/2187?pr=0)"
      ],
      "metadata": {
        "id": "z8qtKjjQFgcb"
      }
    },
    {
      "cell_type": "code",
      "source": [
        "print(log_model)"
      ],
      "metadata": {
        "colab": {
          "base_uri": "https://localhost:8080/"
        },
        "id": "n0uxQOL3Fpv3",
        "outputId": "5345b602-50f3-4c6e-96e8-03d8872de8e2"
      },
      "execution_count": 44,
      "outputs": [
        {
          "output_type": "stream",
          "name": "stdout",
          "text": [
            "LogisticRegression()\n"
          ]
        }
      ]
    },
    {
      "cell_type": "code",
      "source": [
        "#Save Model\n",
        "pickle.dump(log_model, open('best_model_churn.pkl', 'wb'))"
      ],
      "metadata": {
        "id": "i2eGEDYwGLl_"
      },
      "execution_count": 45,
      "outputs": []
    },
    {
      "cell_type": "markdown",
      "source": [
        "Model yang baik adalah model yang mampu memberikan performa bagus di fase training dan testing model.\n",
        "\n",
        "\n",
        "* **Over-Fitting** adalah suatu kondisi dimana model mampu memprediksi dengan sangat baik di fase *training*, akan tetapi tidak mampu memprediksi sama baiknya di fase *testing*.\n",
        "* **Under-Fitting** adalah suatu kondisi dimana model kurang mampu memprediksi dengan baik di fase *training*, akan tetapi mampu memprediksi dengan baik di fase *testing*.\n",
        "* **Appropriate-Fitting** adalah suatu kondisi dimana model mampu memprediksi dengan baik di fase *training* maupun di fase *testing*.\n"
      ],
      "metadata": {
        "id": "NJQuVjvbGXDw"
      }
    },
    {
      "cell_type": "markdown",
      "source": [
        "Berdasarkan pemodelan yang telah dilakukan dengan menggunakan *Logistic Regression*, *Random Forest* dan *Extreme Gradiant Boost*, maka dapat disimpulkan untuk memprediksi *churn* dari pelanggan *telco* dengan menggunakan *dataset* ini model terbaiknya adalah menggunakan algortima **Logistic Regression**. Hal ini dikarenakan performa dari model *Logistic Regression* cenderung mampu memprediksi sama baiknya di fase *training* maupun *testing* (akurasi *training* **80%**, akurasi *testing* **79%**), dilain sisi algoritma lainnya cenderung **Over-Fitting** performanya. Akan tetapi hal ini tidak menjadikan kita untuk menarik kesimpulan bahwsannya jika untuk melakukan pemodelan apapun maka digunakan *Logistic Regression*, kita tetap harus melakukan banyak percobaan model untuk menentukan mana yang terbaik."
      ],
      "metadata": {
        "id": "is3Vv4TiHIz2"
      }
    }
  ]
}