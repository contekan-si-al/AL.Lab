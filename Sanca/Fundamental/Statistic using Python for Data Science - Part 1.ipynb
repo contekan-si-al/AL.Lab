{
  "nbformat": 4,
  "nbformat_minor": 0,
  "metadata": {
    "colab": {
      "name": "Statistic using Python for Data Science - Part 1.ipynb",
      "provenance": []
    },
    "kernelspec": {
      "name": "python3",
      "display_name": "Python 3"
    },
    "language_info": {
      "name": "python"
    }
  },
  "cells": [
    {
      "cell_type": "code",
      "execution_count": 1,
      "metadata": {
        "colab": {
          "base_uri": "https://localhost:8080/"
        },
        "id": "7nntV3MO9JIr",
        "outputId": "67cd47f0-6a60-4d83-d8c2-6007a52d01e3"
      },
      "outputs": [
        {
          "output_type": "stream",
          "name": "stdout",
          "text": [
            "Mounted at /content/drive\n"
          ]
        }
      ],
      "source": [
        "# singkronisasi ke g-drive\n",
        "\n",
        "from google.colab import drive\n",
        "drive.mount('/content/drive')"
      ]
    },
    {
      "cell_type": "markdown",
      "source": [
        "## Pengenalan Numpy dan Pandas"
      ],
      "metadata": {
        "id": "BB5Y82U5ZYee"
      }
    },
    {
      "cell_type": "markdown",
      "source": [
        "#### [Load Library](https://academy.dqlab.id/main/livecode/288/538/2683?pr=0)"
      ],
      "metadata": {
        "id": "sYYJQQPlaQUm"
      }
    },
    {
      "cell_type": "code",
      "source": [
        "# memuat numpy sebagai np\n",
        "import numpy as np\n",
        " \n",
        "# memuat pandas sebagai pd\n",
        "import pandas as pd"
      ],
      "metadata": {
        "id": "3ALgPJo4aUzh"
      },
      "execution_count": 2,
      "outputs": []
    },
    {
      "cell_type": "markdown",
      "source": [
        "#### [Load Dataset](https://academy.dqlab.id/main/livecode/288/538/2684?pr=0)"
      ],
      "metadata": {
        "id": "yBw_36JCadU2"
      }
    },
    {
      "cell_type": "code",
      "source": [
        "# memuat data bernama 'dataset_statistics.csv' dan memasukkan hasilnya ke dalam 'raw_data'\n",
        "raw_data = pd.read_csv(\"/content/drive/MyDrive/AL. Lab/Sanca/Datasets/dataset_statistic.csv\", sep=';')"
      ],
      "metadata": {
        "id": "XcuEfIlwalNy"
      },
      "execution_count": 3,
      "outputs": []
    },
    {
      "cell_type": "markdown",
      "source": [
        "#### [Inspeksi Data](https://academy.dqlab.id/main/livecode/288/538/2685?pr=0)"
      ],
      "metadata": {
        "id": "OKR5tHCUawxj"
      }
    },
    {
      "cell_type": "code",
      "source": [
        "print (raw_data)\n",
        "\n",
        "# melihat 10 data pada baris pertama\n",
        "print (raw_data.head(10))\n",
        "\n",
        "# melihat 5 data pada baris terakhir\n",
        "print (raw_data.tail())"
      ],
      "metadata": {
        "colab": {
          "base_uri": "https://localhost:8080/"
        },
        "id": "sjS7hOApa1YG",
        "outputId": "4245c1be-fe20-4a47-9016-cb56ea3dc0ca"
      },
      "execution_count": 4,
      "outputs": [
        {
          "output_type": "stream",
          "name": "stdout",
          "text": [
            "    ID Pelanggan     Nama  Jenis Kelamin  Pendapatan Produk   Harga  Jumlah   \\\n",
            "0              1     Arif              1      600000      A  100000        4   \n",
            "1              2     Dian              2     1200000      D  250000        4   \n",
            "2              3    Dinda              2      950000      D  250000        3   \n",
            "3              4    Fajar              1      400000      A  100000        2   \n",
            "4              5      Ika              2     1200000      D  250000        4   \n",
            "5              6    Ilham              1      800000      B  150000        4   \n",
            "6              7    Indra              1      950000      B  150000        5   \n",
            "7              8  Kartika              2     1100000      E  300000        3   \n",
            "8              9  Lestari              2      800000      E  300000        2   \n",
            "9             10      Lia              2     1700000      E  300000        5   \n",
            "10            11    Maria              2      600000      A  100000        4   \n",
            "11            12     Maya              2      950000      B  150000        5   \n",
            "12            13     Mila              2      400000      C  200000        1   \n",
            "13            14    Nurul              2     6450000      D  250000        5   \n",
            "14            15    Retno              2     1000000      C  200000        4   \n",
            "15            16     Rini              2      800000      B  150000        4   \n",
            "16            17    Rizki              1     1200000      C  200000        5   \n",
            "17            18     Sari              2      700000      D  250000        2   \n",
            "18            19     Tyas              2      600000      A  100000        4   \n",
            "19            20    Wahyu              1      800000      C  200000        3   \n",
            "\n",
            "      Total  Tingkat Kepuasan  \n",
            "0    400000                 2  \n",
            "1   1000000                 2  \n",
            "2    750000                 3  \n",
            "3    200000                 3  \n",
            "4   1000000                 2  \n",
            "5    600000                 3  \n",
            "6    750000                 1  \n",
            "7    900000                 3  \n",
            "8    600000                 1  \n",
            "9   1500000                 1  \n",
            "10   400000                 3  \n",
            "11   750000                 3  \n",
            "12   200000                 2  \n",
            "13  1250000                 1  \n",
            "14   800000                 2  \n",
            "15   600000                 1  \n",
            "16  1000000                 3  \n",
            "17   500000                 1  \n",
            "18   400000                 3  \n",
            "19   600000                 1  \n",
            "   ID Pelanggan     Nama  Jenis Kelamin  Pendapatan Produk   Harga  Jumlah   \\\n",
            "0             1     Arif              1      600000      A  100000        4   \n",
            "1             2     Dian              2     1200000      D  250000        4   \n",
            "2             3    Dinda              2      950000      D  250000        3   \n",
            "3             4    Fajar              1      400000      A  100000        2   \n",
            "4             5      Ika              2     1200000      D  250000        4   \n",
            "5             6    Ilham              1      800000      B  150000        4   \n",
            "6             7    Indra              1      950000      B  150000        5   \n",
            "7             8  Kartika              2     1100000      E  300000        3   \n",
            "8             9  Lestari              2      800000      E  300000        2   \n",
            "9            10      Lia              2     1700000      E  300000        5   \n",
            "\n",
            "     Total  Tingkat Kepuasan  \n",
            "0   400000                 2  \n",
            "1  1000000                 2  \n",
            "2   750000                 3  \n",
            "3   200000                 3  \n",
            "4  1000000                 2  \n",
            "5   600000                 3  \n",
            "6   750000                 1  \n",
            "7   900000                 3  \n",
            "8   600000                 1  \n",
            "9  1500000                 1  \n",
            "    ID Pelanggan   Nama  Jenis Kelamin  Pendapatan Produk   Harga  Jumlah   \\\n",
            "15            16   Rini              2      800000      B  150000        4   \n",
            "16            17  Rizki              1     1200000      C  200000        5   \n",
            "17            18   Sari              2      700000      D  250000        2   \n",
            "18            19   Tyas              2      600000      A  100000        4   \n",
            "19            20  Wahyu              1      800000      C  200000        3   \n",
            "\n",
            "      Total  Tingkat Kepuasan  \n",
            "15   600000                 1  \n",
            "16  1000000                 3  \n",
            "17   500000                 1  \n",
            "18   400000                 3  \n",
            "19   600000                 1  \n"
          ]
        }
      ]
    },
    {
      "cell_type": "markdown",
      "source": [
        "#### [Metode Shape](https://academy.dqlab.id/main/livecode/288/538/2703?pr=0)"
      ],
      "metadata": {
        "id": "Qv6OM2fcb6-3"
      }
    },
    {
      "cell_type": "code",
      "source": [
        "# melihat dimensi dari raw_data\n",
        "print (raw_data.shape)\n",
        "\n",
        "# mengambil jumlah data\n",
        "print (raw_data.shape[0])"
      ],
      "metadata": {
        "colab": {
          "base_uri": "https://localhost:8080/"
        },
        "id": "_nckHLyeb_EE",
        "outputId": "631ef84b-7859-4e6f-cb99-4dcf93f16f5e"
      },
      "execution_count": 5,
      "outputs": [
        {
          "output_type": "stream",
          "name": "stdout",
          "text": [
            "(20, 9)\n",
            "20\n"
          ]
        }
      ]
    },
    {
      "cell_type": "markdown",
      "source": [
        "#### [Melihat Kolom Dalam Dataset](https://academy.dqlab.id/main/livecode/288/538/2704?pr=0)"
      ],
      "metadata": {
        "id": "x-0duMErcQlt"
      }
    },
    {
      "cell_type": "code",
      "source": [
        "print(raw_data.columns)"
      ],
      "metadata": {
        "colab": {
          "base_uri": "https://localhost:8080/"
        },
        "id": "Rq6C7mabcTmd",
        "outputId": "44f0055a-087f-4aa3-b0b4-a3ab3dde5129"
      },
      "execution_count": 7,
      "outputs": [
        {
          "output_type": "stream",
          "name": "stdout",
          "text": [
            "Index(['ID Pelanggan', 'Nama', 'Jenis Kelamin', 'Pendapatan', 'Produk',\n",
            "       'Harga', 'Jumlah ', 'Total', 'Tingkat Kepuasan'],\n",
            "      dtype='object')\n"
          ]
        }
      ]
    },
    {
      "cell_type": "markdown",
      "source": [
        "#### [Metode Isna](https://academy.dqlab.id/main/livecode/288/538/2705?pr=0)"
      ],
      "metadata": {
        "id": "a7NkMuyxchy9"
      }
    },
    {
      "cell_type": "code",
      "source": [
        "print (raw_data.isna())\n",
        "\n",
        "print (raw_data.isna().sum())"
      ],
      "metadata": {
        "colab": {
          "base_uri": "https://localhost:8080/"
        },
        "id": "xJCSAsChcmI1",
        "outputId": "ae4c7bb2-596f-4006-db05-c96c0bc97fdb"
      },
      "execution_count": 8,
      "outputs": [
        {
          "output_type": "stream",
          "name": "stdout",
          "text": [
            "    ID Pelanggan   Nama  Jenis Kelamin  Pendapatan  Produk  Harga  Jumlah   \\\n",
            "0          False  False          False       False   False  False    False   \n",
            "1          False  False          False       False   False  False    False   \n",
            "2          False  False          False       False   False  False    False   \n",
            "3          False  False          False       False   False  False    False   \n",
            "4          False  False          False       False   False  False    False   \n",
            "5          False  False          False       False   False  False    False   \n",
            "6          False  False          False       False   False  False    False   \n",
            "7          False  False          False       False   False  False    False   \n",
            "8          False  False          False       False   False  False    False   \n",
            "9          False  False          False       False   False  False    False   \n",
            "10         False  False          False       False   False  False    False   \n",
            "11         False  False          False       False   False  False    False   \n",
            "12         False  False          False       False   False  False    False   \n",
            "13         False  False          False       False   False  False    False   \n",
            "14         False  False          False       False   False  False    False   \n",
            "15         False  False          False       False   False  False    False   \n",
            "16         False  False          False       False   False  False    False   \n",
            "17         False  False          False       False   False  False    False   \n",
            "18         False  False          False       False   False  False    False   \n",
            "19         False  False          False       False   False  False    False   \n",
            "\n",
            "    Total  Tingkat Kepuasan  \n",
            "0   False             False  \n",
            "1   False             False  \n",
            "2   False             False  \n",
            "3   False             False  \n",
            "4   False             False  \n",
            "5   False             False  \n",
            "6   False             False  \n",
            "7   False             False  \n",
            "8   False             False  \n",
            "9   False             False  \n",
            "10  False             False  \n",
            "11  False             False  \n",
            "12  False             False  \n",
            "13  False             False  \n",
            "14  False             False  \n",
            "15  False             False  \n",
            "16  False             False  \n",
            "17  False             False  \n",
            "18  False             False  \n",
            "19  False             False  \n",
            "ID Pelanggan        0\n",
            "Nama                0\n",
            "Jenis Kelamin       0\n",
            "Pendapatan          0\n",
            "Produk              0\n",
            "Harga               0\n",
            "Jumlah              0\n",
            "Total               0\n",
            "Tingkat Kepuasan    0\n",
            "dtype: int64\n"
          ]
        }
      ]
    },
    {
      "cell_type": "markdown",
      "source": [
        "#### [Metode Describe](https://academy.dqlab.id/main/livecode/288/538/2706?pr=0)"
      ],
      "metadata": {
        "id": "5le-4v9ac0vd"
      }
    },
    {
      "cell_type": "code",
      "source": [
        "print (raw_data.describe())"
      ],
      "metadata": {
        "colab": {
          "base_uri": "https://localhost:8080/"
        },
        "id": "v6tDc2n9c4Bx",
        "outputId": "2eba5f7b-48e1-4d1c-fc82-3b0f91fbbb47"
      },
      "execution_count": 11,
      "outputs": [
        {
          "output_type": "stream",
          "name": "stdout",
          "text": [
            "       ID Pelanggan  Jenis Kelamin    Pendapatan          Harga    Jumlah   \\\n",
            "count      20.00000      20.000000  2.000000e+01      20.000000  20.000000   \n",
            "mean       10.50000       1.700000  1.160000e+06  197500.000000   3.650000   \n",
            "std         5.91608       0.470162  1.282842e+06   69726.910912   1.182103   \n",
            "min         1.00000       1.000000  4.000000e+05  100000.000000   1.000000   \n",
            "25%         5.75000       1.000000  6.750000e+05  150000.000000   3.000000   \n",
            "50%        10.50000       2.000000  8.750000e+05  200000.000000   4.000000   \n",
            "75%        15.25000       2.000000  1.125000e+06  250000.000000   4.250000   \n",
            "max        20.00000       2.000000  6.450000e+06  300000.000000   5.000000   \n",
            "\n",
            "              Total  Tingkat Kepuasan  \n",
            "count  2.000000e+01         20.000000  \n",
            "mean   7.100000e+05          2.050000  \n",
            "std    3.338768e+05          0.887041  \n",
            "min    2.000000e+05          1.000000  \n",
            "25%    4.750000e+05          1.000000  \n",
            "50%    6.750000e+05          2.000000  \n",
            "75%    9.250000e+05          3.000000  \n",
            "max    1.500000e+06          3.000000  \n"
          ]
        }
      ]
    },
    {
      "cell_type": "code",
      "source": [
        "# Mencari nilai maksimum dari tiap kolom\n",
        "raw_data.max()"
      ],
      "metadata": {
        "colab": {
          "base_uri": "https://localhost:8080/"
        },
        "id": "5T8kE5iaegXQ",
        "outputId": "36a25bf7-12ed-4ae9-e7e0-007db1a93403"
      },
      "execution_count": 12,
      "outputs": [
        {
          "output_type": "execute_result",
          "data": {
            "text/plain": [
              "ID Pelanggan             20\n",
              "Nama                  Wahyu\n",
              "Jenis Kelamin             2\n",
              "Pendapatan          6450000\n",
              "Produk                    E\n",
              "Harga                300000\n",
              "Jumlah                    5\n",
              "Total               1500000\n",
              "Tingkat Kepuasan          3\n",
              "dtype: object"
            ]
          },
          "metadata": {},
          "execution_count": 12
        }
      ]
    },
    {
      "cell_type": "code",
      "source": [
        "# Mencari nilai maksimum dari kolom 'Harga'\n",
        "raw_data['Harga'].max()"
      ],
      "metadata": {
        "colab": {
          "base_uri": "https://localhost:8080/"
        },
        "id": "DtwBek6oegOo",
        "outputId": "edba0ad4-1630-459b-d7fd-a1f86e20d3b9"
      },
      "execution_count": 13,
      "outputs": [
        {
          "output_type": "execute_result",
          "data": {
            "text/plain": [
              "300000"
            ]
          },
          "metadata": {},
          "execution_count": 13
        }
      ]
    },
    {
      "cell_type": "code",
      "source": [
        "# Mencari nilai minimum dari kolom 'Harga'\n",
        "raw_data['Harga'].min()"
      ],
      "metadata": {
        "colab": {
          "base_uri": "https://localhost:8080/"
        },
        "id": "zWhEta34egK-",
        "outputId": "e26598d2-4442-41ca-c1ac-f0315e5b606e"
      },
      "execution_count": 14,
      "outputs": [
        {
          "output_type": "execute_result",
          "data": {
            "text/plain": [
              "100000"
            ]
          },
          "metadata": {},
          "execution_count": 14
        }
      ]
    },
    {
      "cell_type": "markdown",
      "source": [
        "#### [Metode Sum](https://academy.dqlab.id/main/livecode/288/538/2707?pr=0)"
      ],
      "metadata": {
        "id": "dWSIxq6EeAm6"
      }
    },
    {
      "cell_type": "code",
      "source": [
        "# menghitung jumlah dari semua kolom\n",
        "print (raw_data.sum())"
      ],
      "metadata": {
        "colab": {
          "base_uri": "https://localhost:8080/"
        },
        "id": "Ng8Eo0TXeFfA",
        "outputId": "4e01c74e-1faf-4d35-ce1a-526020198eb8"
      },
      "execution_count": 15,
      "outputs": [
        {
          "output_type": "stream",
          "name": "stdout",
          "text": [
            "ID Pelanggan                                                      210\n",
            "Nama                ArifDianDindaFajarIkaIlhamIndraKartikaLestariL...\n",
            "Jenis Kelamin                                                      34\n",
            "Pendapatan                                                   23200000\n",
            "Produk                                           ADDADBBEEEABCDCBCDAC\n",
            "Harga                                                         3950000\n",
            "Jumlah                                                             73\n",
            "Total                                                        14200000\n",
            "Tingkat Kepuasan                                                   41\n",
            "dtype: object\n"
          ]
        }
      ]
    },
    {
      "cell_type": "code",
      "source": [
        "# menghitung jumlah dari semua kolom bertipe data numerik saja\n",
        "raw_data.sum(numeric_only=True)"
      ],
      "metadata": {
        "colab": {
          "base_uri": "https://localhost:8080/"
        },
        "id": "iiZxs8KZeznk",
        "outputId": "e0ca9fe3-7f47-42e1-8ae7-4d9ce4c04ecf"
      },
      "execution_count": 16,
      "outputs": [
        {
          "output_type": "execute_result",
          "data": {
            "text/plain": [
              "ID Pelanggan             210\n",
              "Jenis Kelamin             34\n",
              "Pendapatan          23200000\n",
              "Harga                3950000\n",
              "Jumlah                    73\n",
              "Total               14200000\n",
              "Tingkat Kepuasan          41\n",
              "dtype: int64"
            ]
          },
          "metadata": {},
          "execution_count": 16
        }
      ]
    },
    {
      "cell_type": "code",
      "source": [
        "# menghitung jumlah dari kolom 'Harga' dan 'Pendapatan'\n",
        "raw_data[['Harga', 'Pendapatan']].sum()"
      ],
      "metadata": {
        "colab": {
          "base_uri": "https://localhost:8080/"
        },
        "id": "z-WEgpkXezi0",
        "outputId": "eb0cdc01-44a1-43f1-b34a-2c183e0236f9"
      },
      "execution_count": 17,
      "outputs": [
        {
          "output_type": "execute_result",
          "data": {
            "text/plain": [
              "Harga          3950000\n",
              "Pendapatan    23200000\n",
              "dtype: int64"
            ]
          },
          "metadata": {},
          "execution_count": 17
        }
      ]
    },
    {
      "cell_type": "markdown",
      "source": [
        "#### [Manipulasi Dataframe - Memilih Kolom dan Baris](https://academy.dqlab.id/main/livecode/288/538/2708?pr=0)"
      ],
      "metadata": {
        "id": "qHc2bC4bfdSQ"
      }
    },
    {
      "cell_type": "code",
      "source": [
        "# Memilih kolom 'Pendapatan' saja\n",
        "print (raw_data['Pendapatan'])"
      ],
      "metadata": {
        "colab": {
          "base_uri": "https://localhost:8080/"
        },
        "id": "RitnBdEIfgvM",
        "outputId": "9291f0ff-e07e-4cfd-c8b1-a5cb0069ad45"
      },
      "execution_count": 18,
      "outputs": [
        {
          "output_type": "stream",
          "name": "stdout",
          "text": [
            "0      600000\n",
            "1     1200000\n",
            "2      950000\n",
            "3      400000\n",
            "4     1200000\n",
            "5      800000\n",
            "6      950000\n",
            "7     1100000\n",
            "8      800000\n",
            "9     1700000\n",
            "10     600000\n",
            "11     950000\n",
            "12     400000\n",
            "13    6450000\n",
            "14    1000000\n",
            "15     800000\n",
            "16    1200000\n",
            "17     700000\n",
            "18     600000\n",
            "19     800000\n",
            "Name: Pendapatan, dtype: int64\n"
          ]
        }
      ]
    },
    {
      "cell_type": "code",
      "source": [
        "# Memilih kolom 'Jenis Kelamin' dan 'Pendapatan'\n",
        "print (raw_data[['Jenis Kelamin', 'Pendapatan']])"
      ],
      "metadata": {
        "colab": {
          "base_uri": "https://localhost:8080/"
        },
        "id": "8V5reh0Nf_XK",
        "outputId": "36534085-0b61-46e8-da33-0f2bd06d54ec"
      },
      "execution_count": 19,
      "outputs": [
        {
          "output_type": "stream",
          "name": "stdout",
          "text": [
            "    Jenis Kelamin  Pendapatan\n",
            "0               1      600000\n",
            "1               2     1200000\n",
            "2               2      950000\n",
            "3               1      400000\n",
            "4               2     1200000\n",
            "5               1      800000\n",
            "6               1      950000\n",
            "7               2     1100000\n",
            "8               2      800000\n",
            "9               2     1700000\n",
            "10              2      600000\n",
            "11              2      950000\n",
            "12              2      400000\n",
            "13              2     6450000\n",
            "14              2     1000000\n",
            "15              2      800000\n",
            "16              1     1200000\n",
            "17              2      700000\n",
            "18              2      600000\n",
            "19              1      800000\n"
          ]
        }
      ]
    },
    {
      "cell_type": "markdown",
      "source": [
        "#### [Metode Loc](https://academy.dqlab.id/main/livecode/288/538/2709?pr=0)"
      ],
      "metadata": {
        "id": "X94DoNBkgDYk"
      }
    },
    {
      "cell_type": "code",
      "source": [
        "# mengambil data dari baris ke-0 sampai baris ke-(10-1) atau baris ke-9\n",
        "print(raw_data[:10])\n",
        " \n",
        "# mengambil data dari baris ke-3 sampai baris ke-(5-1) atau baris ke-4\n",
        "print(raw_data[3:5])\n",
        " \n",
        "# mengambil data pada baris ke-1, ke-3 dan ke-10\n",
        "print(raw_data.loc[[1,3,10]])\n",
        "\n",
        "# Mengambil kolom 'Jenis Kelamin' dan 'Pendapatan' dan ambil baris ke-1 sampai ke-9\n",
        "print(raw_data[['Jenis Kelamin', 'Pendapatan']][1:10])\n",
        " \n",
        "# Mengambil kolom 'Harga' dan 'Tingkat Kepuasan' dan ambil baris ke-1, ke-10 dan ke-15\n",
        "print(raw_data[['Harga', 'Tingkat Kepuasan']].loc[[1,10,15]])"
      ],
      "metadata": {
        "colab": {
          "base_uri": "https://localhost:8080/"
        },
        "id": "q2rCa-v2gJIr",
        "outputId": "4e7874a9-9b51-4f7c-e25e-1f6799c8327c"
      },
      "execution_count": 20,
      "outputs": [
        {
          "output_type": "stream",
          "name": "stdout",
          "text": [
            "   ID Pelanggan     Nama  Jenis Kelamin  Pendapatan Produk   Harga  Jumlah   \\\n",
            "0             1     Arif              1      600000      A  100000        4   \n",
            "1             2     Dian              2     1200000      D  250000        4   \n",
            "2             3    Dinda              2      950000      D  250000        3   \n",
            "3             4    Fajar              1      400000      A  100000        2   \n",
            "4             5      Ika              2     1200000      D  250000        4   \n",
            "5             6    Ilham              1      800000      B  150000        4   \n",
            "6             7    Indra              1      950000      B  150000        5   \n",
            "7             8  Kartika              2     1100000      E  300000        3   \n",
            "8             9  Lestari              2      800000      E  300000        2   \n",
            "9            10      Lia              2     1700000      E  300000        5   \n",
            "\n",
            "     Total  Tingkat Kepuasan  \n",
            "0   400000                 2  \n",
            "1  1000000                 2  \n",
            "2   750000                 3  \n",
            "3   200000                 3  \n",
            "4  1000000                 2  \n",
            "5   600000                 3  \n",
            "6   750000                 1  \n",
            "7   900000                 3  \n",
            "8   600000                 1  \n",
            "9  1500000                 1  \n",
            "   ID Pelanggan   Nama  Jenis Kelamin  Pendapatan Produk   Harga  Jumlah   \\\n",
            "3             4  Fajar              1      400000      A  100000        2   \n",
            "4             5    Ika              2     1200000      D  250000        4   \n",
            "\n",
            "     Total  Tingkat Kepuasan  \n",
            "3   200000                 3  \n",
            "4  1000000                 2  \n",
            "    ID Pelanggan   Nama  Jenis Kelamin  Pendapatan Produk   Harga  Jumlah   \\\n",
            "1              2   Dian              2     1200000      D  250000        4   \n",
            "3              4  Fajar              1      400000      A  100000        2   \n",
            "10            11  Maria              2      600000      A  100000        4   \n",
            "\n",
            "      Total  Tingkat Kepuasan  \n",
            "1   1000000                 2  \n",
            "3    200000                 3  \n",
            "10   400000                 3  \n",
            "   Jenis Kelamin  Pendapatan\n",
            "1              2     1200000\n",
            "2              2      950000\n",
            "3              1      400000\n",
            "4              2     1200000\n",
            "5              1      800000\n",
            "6              1      950000\n",
            "7              2     1100000\n",
            "8              2      800000\n",
            "9              2     1700000\n",
            "     Harga  Tingkat Kepuasan\n",
            "1   250000                 2\n",
            "10  100000                 3\n",
            "15  150000                 1\n"
          ]
        }
      ]
    },
    {
      "cell_type": "markdown",
      "source": [
        "## Ukuran Pusat"
      ],
      "metadata": {
        "id": "pBWX0cj0ZWEH"
      }
    },
    {
      "cell_type": "markdown",
      "source": [
        "#### [Rata-rata (Mean)](https://academy.dqlab.id/main/livecode/288/539/2687?pr=0)"
      ],
      "metadata": {
        "id": "i9lgdUQWkH9G"
      }
    },
    {
      "cell_type": "code",
      "source": [
        "# mengambil hanya data untuk produk 'A'\n",
        "produk_A = raw_data[raw_data['Produk'] == 'A']\n",
        " \n",
        "# menghitung rerata pendapatan menggunakan method .mean pada objek pandas DataFrame\n",
        "print (produk_A['Pendapatan'].mean())\n",
        " \n",
        "# menghitung rerata pendapatan menggunakan method .mean pada objek pandas DataFrame dengan numpy\n",
        "print (np.mean(produk_A['Pendapatan']))"
      ],
      "metadata": {
        "colab": {
          "base_uri": "https://localhost:8080/"
        },
        "id": "OqzW-g1hkLNC",
        "outputId": "9de33efb-86b1-423d-e9cb-970a949187c0"
      },
      "execution_count": 21,
      "outputs": [
        {
          "output_type": "stream",
          "name": "stdout",
          "text": [
            "550000.0\n",
            "550000.0\n"
          ]
        }
      ]
    },
    {
      "cell_type": "markdown",
      "source": [
        "#### [Median](https://academy.dqlab.id/main/livecode/288/539/2688?pr=0)"
      ],
      "metadata": {
        "id": "uqLR6oxtkWB5"
      }
    },
    {
      "cell_type": "code",
      "source": [
        "print (raw_data)"
      ],
      "metadata": {
        "colab": {
          "base_uri": "https://localhost:8080/"
        },
        "id": "lrsnjV1el54-",
        "outputId": "4d273637-f01e-4630-969e-3b4564e8ceb6"
      },
      "execution_count": 23,
      "outputs": [
        {
          "output_type": "stream",
          "name": "stdout",
          "text": [
            "    ID Pelanggan     Nama  Jenis Kelamin  Pendapatan Produk   Harga  Jumlah   \\\n",
            "0              1     Arif              1      600000      A  100000        4   \n",
            "1              2     Dian              2     1200000      D  250000        4   \n",
            "2              3    Dinda              2      950000      D  250000        3   \n",
            "3              4    Fajar              1      400000      A  100000        2   \n",
            "4              5      Ika              2     1200000      D  250000        4   \n",
            "5              6    Ilham              1      800000      B  150000        4   \n",
            "6              7    Indra              1      950000      B  150000        5   \n",
            "7              8  Kartika              2     1100000      E  300000        3   \n",
            "8              9  Lestari              2      800000      E  300000        2   \n",
            "9             10      Lia              2     1700000      E  300000        5   \n",
            "10            11    Maria              2      600000      A  100000        4   \n",
            "11            12     Maya              2      950000      B  150000        5   \n",
            "12            13     Mila              2      400000      C  200000        1   \n",
            "13            14    Nurul              2     6450000      D  250000        5   \n",
            "14            15    Retno              2     1000000      C  200000        4   \n",
            "15            16     Rini              2      800000      B  150000        4   \n",
            "16            17    Rizki              1     1200000      C  200000        5   \n",
            "17            18     Sari              2      700000      D  250000        2   \n",
            "18            19     Tyas              2      600000      A  100000        4   \n",
            "19            20    Wahyu              1      800000      C  200000        3   \n",
            "\n",
            "      Total  Tingkat Kepuasan  \n",
            "0    400000                 2  \n",
            "1   1000000                 2  \n",
            "2    750000                 3  \n",
            "3    200000                 3  \n",
            "4   1000000                 2  \n",
            "5    600000                 3  \n",
            "6    750000                 1  \n",
            "7    900000                 3  \n",
            "8    600000                 1  \n",
            "9   1500000                 1  \n",
            "10   400000                 3  \n",
            "11   750000                 3  \n",
            "12   200000                 2  \n",
            "13  1250000                 1  \n",
            "14   800000                 2  \n",
            "15   600000                 1  \n",
            "16  1000000                 3  \n",
            "17   500000                 1  \n",
            "18   400000                 3  \n",
            "19   600000                 1  \n"
          ]
        }
      ]
    },
    {
      "cell_type": "code",
      "source": [
        "# Hitung median dari pendapatan menggunakan pandas\n",
        "print (produk_A['Pendapatan'].median())\n",
        " \n",
        "# Hitung median dari pendapatan menggunakan numpy\n",
        "print (np.median(produk_A['Pendapatan']))"
      ],
      "metadata": {
        "colab": {
          "base_uri": "https://localhost:8080/"
        },
        "id": "XPvuu0eekQKa",
        "outputId": "d057cba0-c1dc-4d29-9574-a6b13dac68fb"
      },
      "execution_count": 24,
      "outputs": [
        {
          "output_type": "stream",
          "name": "stdout",
          "text": [
            "600000.0\n",
            "600000.0\n"
          ]
        }
      ]
    },
    {
      "cell_type": "markdown",
      "source": [
        "#### [Modus](https://academy.dqlab.id/main/livecode/288/539/2689?pr=0)"
      ],
      "metadata": {
        "id": "eGMZ-UgtmER1"
      }
    },
    {
      "cell_type": "code",
      "source": [
        "# Melihat jumlah dari masing-masing produk\n",
        "print (raw_data['Produk'].value_counts())"
      ],
      "metadata": {
        "colab": {
          "base_uri": "https://localhost:8080/"
        },
        "id": "FhJ02rlYmIFi",
        "outputId": "087a8f6e-416c-44f3-aead-26acd7e28393"
      },
      "execution_count": 25,
      "outputs": [
        {
          "output_type": "stream",
          "name": "stdout",
          "text": [
            "D    5\n",
            "A    4\n",
            "B    4\n",
            "C    4\n",
            "E    3\n",
            "Name: Produk, dtype: int64\n"
          ]
        }
      ]
    },
    {
      "cell_type": "markdown",
      "source": [
        "#### [Kuantil](https://academy.dqlab.id/main/livecode/288/539/2712?pr=0)"
      ],
      "metadata": {
        "id": "XJoOyHLgmZub"
      }
    },
    {
      "cell_type": "code",
      "source": [
        "# mencari median atau 50% dari data menggunakan pandas\n",
        "print (raw_data['Pendapatan'].quantile(q = 0.5))\n",
        " \n",
        "# mencari median atau 50% dari data menggunakan numpy\n",
        "print (np.quantile(raw_data['Pendapatan'], q=0.5)) "
      ],
      "metadata": {
        "colab": {
          "base_uri": "https://localhost:8080/"
        },
        "id": "HwPACw-ami8d",
        "outputId": "deb4aebd-bce1-48ce-8236-077a1cb1a75f"
      },
      "execution_count": 27,
      "outputs": [
        {
          "output_type": "stream",
          "name": "stdout",
          "text": [
            "875000.0\n",
            "875000.0\n"
          ]
        }
      ]
    },
    {
      "cell_type": "markdown",
      "source": [
        "#### [Agregasi Data dengan method .agg()](https://academy.dqlab.id/main/livecode/288/539/2713?pr=0)"
      ],
      "metadata": {
        "id": "zXphFFkXmoG0"
      }
    },
    {
      "cell_type": "code",
      "source": [
        "# menghitung rerata dan median 'Pendapatan' dan 'Harga'\n",
        "print (raw_data[['Pendapatan', 'Harga']].agg([np.mean, np.median]))\n",
        " \n",
        "# menghitung rerata dan median Pendapatan dan Harga dari tiap produk\n",
        "print (raw_data[['Pendapatan', 'Harga', 'Produk']].groupby('Produk').agg([np.mean, np.median]))"
      ],
      "metadata": {
        "colab": {
          "base_uri": "https://localhost:8080/"
        },
        "id": "NfV8aWkCms-R",
        "outputId": "8881c314-aa72-48c0-e763-093038da31b4"
      },
      "execution_count": 28,
      "outputs": [
        {
          "output_type": "stream",
          "name": "stdout",
          "text": [
            "        Pendapatan     Harga\n",
            "mean     1160000.0  197500.0\n",
            "median    875000.0  200000.0\n",
            "       Pendapatan                Harga          \n",
            "             mean     median      mean    median\n",
            "Produk                                          \n",
            "A        550000.0   600000.0  100000.0  100000.0\n",
            "B        875000.0   875000.0  150000.0  150000.0\n",
            "C        850000.0   900000.0  200000.0  200000.0\n",
            "D       2100000.0  1200000.0  250000.0  250000.0\n",
            "E       1200000.0  1100000.0  300000.0  300000.0\n"
          ]
        }
      ]
    },
    {
      "cell_type": "markdown",
      "source": [
        "## Ukuran Sebaran"
      ],
      "metadata": {
        "id": "4dl0NXbjZTVr"
      }
    },
    {
      "cell_type": "markdown",
      "source": [
        "#### [Proporsi Kategori](https://academy.dqlab.id/main/livecode/288/540/2691?pr=0)"
      ],
      "metadata": {
        "id": "w2-u_inznOOF"
      }
    },
    {
      "cell_type": "code",
      "source": [
        "# cari proporsi tiap Produk\n",
        "print (raw_data['Produk'].value_counts()/raw_data.shape[0])"
      ],
      "metadata": {
        "colab": {
          "base_uri": "https://localhost:8080/"
        },
        "id": "uCTasEZFnYkX",
        "outputId": "294141ad-d53e-4355-ef7b-9c059d532aa6"
      },
      "execution_count": 29,
      "outputs": [
        {
          "output_type": "stream",
          "name": "stdout",
          "text": [
            "D    0.25\n",
            "A    0.20\n",
            "B    0.20\n",
            "C    0.20\n",
            "E    0.15\n",
            "Name: Produk, dtype: float64\n"
          ]
        }
      ]
    },
    {
      "cell_type": "markdown",
      "source": [
        "#### [Ukuran Sebaran pada Data Interval dan Rasio](https://academy.dqlab.id/main/livecode/288/540/2692?pr=0)"
      ],
      "metadata": {
        "id": "7nqB17-Sni2R"
      }
    },
    {
      "cell_type": "code",
      "source": [
        "# Cari nilai rentang dari kolom 'Pendapatan'\n",
        "print (raw_data['Pendapatan'].max() - raw_data['Pendapatan'].min())"
      ],
      "metadata": {
        "colab": {
          "base_uri": "https://localhost:8080/"
        },
        "id": "sgZ-tJY1ntUg",
        "outputId": "82b8901b-4a73-4c49-bec2-0c59666a3fa6"
      },
      "execution_count": 30,
      "outputs": [
        {
          "output_type": "stream",
          "name": "stdout",
          "text": [
            "6050000\n"
          ]
        }
      ]
    },
    {
      "cell_type": "markdown",
      "source": [
        "#### [Variansi](https://academy.dqlab.id/main/livecode/288/540/2693?pr=0)"
      ],
      "metadata": {
        "id": "tTIdp73jn7AN"
      }
    },
    {
      "cell_type": "code",
      "source": [
        "# menghitung variansi umur menggunakan method .var() dari pandas\n",
        "print (raw_data['Pendapatan'].var())\n",
        " \n",
        "# menghitung variansi umur menggunakan method .var() dari numpy\n",
        "print (np.var(raw_data['Pendapatan']))\n",
        "\n",
        "# mengatur variansi populasi dengan method `.var()` dari pandas\n",
        "print (raw_data['Pendapatan'].var(ddof = 0))"
      ],
      "metadata": {
        "colab": {
          "base_uri": "https://localhost:8080/"
        },
        "id": "2UDuU04_oO4R",
        "outputId": "cca52611-b5de-45b0-a39f-977e973bf1b2"
      },
      "execution_count": 32,
      "outputs": [
        {
          "output_type": "stream",
          "name": "stdout",
          "text": [
            "1645684210526.3157\n",
            "1563400000000.0\n",
            "1563400000000.0\n"
          ]
        }
      ]
    },
    {
      "cell_type": "markdown",
      "source": [
        "#### [Deviasi Baku (Standard Deviation)](https://academy.dqlab.id/main/livecode/288/540/2694?pr=0)"
      ],
      "metadata": {
        "id": "WEv9smkNpMIt"
      }
    },
    {
      "cell_type": "code",
      "source": [
        "# menghitung deviasi baku sampel pendapatan menggunakan method std() dari pandas\n",
        "print (raw_data['Pendapatan'].std())\n",
        " \n",
        "# menghitung deviasi baku sampel pendapatan menggunakan method std() dari numpy\n",
        "print (np.std(raw_data['Pendapatan'], ddof = 1))"
      ],
      "metadata": {
        "colab": {
          "base_uri": "https://localhost:8080/"
        },
        "id": "mEZftCODpRYI",
        "outputId": "44110cb7-b8fb-459d-f5ca-2df95ac3cd95"
      },
      "execution_count": 33,
      "outputs": [
        {
          "output_type": "stream",
          "name": "stdout",
          "text": [
            "1282842.2391417876\n",
            "1282842.2391417876\n"
          ]
        }
      ]
    },
    {
      "cell_type": "markdown",
      "source": [
        "## Korelasi"
      ],
      "metadata": {
        "id": "rSCfiLygQmJM"
      }
    },
    {
      "cell_type": "markdown",
      "source": [
        "#### [Menghitung Korelasi](https://academy.dqlab.id/main/livecode/288/541/2720?pr=0)"
      ],
      "metadata": {
        "id": "Wnb9H0Rsp0g4"
      }
    },
    {
      "cell_type": "code",
      "source": [
        "# menghitung korelasi dari setiap pasang variabel pada raw_data\n",
        "print (raw_data.corr())\n",
        "\n",
        "# mencari korelasi 'kendall' untuk tiap pasang variabel\n",
        "print (raw_data.corr(method='kendall'))\n",
        " \n",
        "# mencari korelasi 'spearman' untuk tiap pasang variabel\n",
        "print (raw_data.corr(method='spearman'))"
      ],
      "metadata": {
        "colab": {
          "base_uri": "https://localhost:8080/"
        },
        "id": "CQwzOuU_p43L",
        "outputId": "65ad00f6-01c9-4390-a330-3b81bfc1a966"
      },
      "execution_count": 34,
      "outputs": [
        {
          "output_type": "stream",
          "name": "stdout",
          "text": [
            "                  ID Pelanggan  Jenis Kelamin  Pendapatan     Harga   Jumlah   \\\n",
            "ID Pelanggan          1.000000       0.151375    0.110958 -0.028707  0.011289   \n",
            "Jenis Kelamin         0.151375       1.000000    0.192849  0.457555 -0.104168   \n",
            "Pendapatan            0.110958       0.192849    1.000000  0.322443  0.399825   \n",
            "Harga                -0.028707       0.457555    0.322443  1.000000 -0.138883   \n",
            "Jumlah                0.011289      -0.104168    0.399825 -0.138883  1.000000   \n",
            "Total                -0.039968       0.238051    0.592044  0.645455  0.636097   \n",
            "Tingkat Kepuasan     -0.245717      -0.088339   -0.312663 -0.380798  0.017568   \n",
            "\n",
            "                     Total  Tingkat Kepuasan  \n",
            "ID Pelanggan     -0.039968         -0.245717  \n",
            "Jenis Kelamin     0.238051         -0.088339  \n",
            "Pendapatan        0.592044         -0.312663  \n",
            "Harga             0.645455         -0.380798  \n",
            "Jumlah            0.636097          0.017568  \n",
            "Total             1.000000         -0.268345  \n",
            "Tingkat Kepuasan -0.268345          1.000000  \n",
            "                  ID Pelanggan  Jenis Kelamin  Pendapatan     Harga   Jumlah   \\\n",
            "ID Pelanggan          1.000000       0.126650   -0.054998 -0.005753  0.024016   \n",
            "Jenis Kelamin         0.126650       1.000000    0.190245  0.415339 -0.090299   \n",
            "Pendapatan           -0.054998       0.190245    1.000000  0.523053  0.501925   \n",
            "Harga                -0.005753       0.415339    0.523053  1.000000 -0.098450   \n",
            "Jumlah                0.024016      -0.090299    0.501925 -0.098450  1.000000   \n",
            "Total                -0.065998       0.190245    0.988506  0.535078  0.501925   \n",
            "Tingkat Kepuasan     -0.183817      -0.085796   -0.165588 -0.325659 -0.028923   \n",
            "\n",
            "                     Total  Tingkat Kepuasan  \n",
            "ID Pelanggan     -0.065998         -0.183817  \n",
            "Jenis Kelamin     0.190245         -0.085796  \n",
            "Pendapatan        0.988506         -0.165588  \n",
            "Harga             0.535078         -0.325659  \n",
            "Jumlah            0.501925         -0.028923  \n",
            "Total             1.000000         -0.165588  \n",
            "Tingkat Kepuasan -0.165588          1.000000  \n",
            "                  ID Pelanggan  Jenis Kelamin  Pendapatan     Harga   Jumlah   \\\n",
            "ID Pelanggan          1.000000       0.151375   -0.063711 -0.039149  0.046356   \n",
            "Jenis Kelamin         0.151375       1.000000    0.219508  0.463635 -0.098864   \n",
            "Pendapatan           -0.063711       0.219508    1.000000  0.640000  0.607110   \n",
            "Harga                -0.039149       0.463635    0.640000  1.000000 -0.130749   \n",
            "Jumlah                0.046356      -0.098864    0.607110 -0.130749  1.000000   \n",
            "Total                -0.069779       0.219508    0.998470  0.646194  0.607110   \n",
            "Tingkat Kepuasan     -0.238890      -0.090784   -0.192463 -0.378933 -0.023874   \n",
            "\n",
            "                     Total  Tingkat Kepuasan  \n",
            "ID Pelanggan     -0.069779         -0.238890  \n",
            "Jenis Kelamin     0.219508         -0.090784  \n",
            "Pendapatan        0.998470         -0.192463  \n",
            "Harga             0.646194         -0.378933  \n",
            "Jumlah            0.607110         -0.023874  \n",
            "Total             1.000000         -0.192463  \n",
            "Tingkat Kepuasan -0.192463          1.000000  \n"
          ]
        }
      ]
    }
  ]
}