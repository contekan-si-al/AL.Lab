{
  "nbformat": 4,
  "nbformat_minor": 0,
  "metadata": {
    "colab": {
      "name": "Python for Data Professional Beginner - Part 1.ipynb",
      "provenance": []
    },
    "kernelspec": {
      "name": "python3",
      "display_name": "Python 3"
    },
    "language_info": {
      "name": "python"
    }
  },
  "cells": [
    {
      "cell_type": "markdown",
      "source": [
        "## Mari Mengenal Python"
      ],
      "metadata": {
        "id": "B1cz3DYi8xYa"
      }
    },
    {
      "cell_type": "markdown",
      "source": [
        "#### [Program pertama: \"Hello World\"](https://academy.dqlab.id/main/livecode/157/283/1247?pr=0)"
      ],
      "metadata": {
        "id": "-ED3Mncl9KnA"
      }
    },
    {
      "cell_type": "code",
      "source": [
        "print(\"Hello World!\")"
      ],
      "metadata": {
        "colab": {
          "base_uri": "https://localhost:8080/"
        },
        "id": "Wk5TjvOD9N81",
        "outputId": "bc50b631-120b-4bee-9125-6a8d3528dfd1"
      },
      "execution_count": 1,
      "outputs": [
        {
          "output_type": "stream",
          "name": "stdout",
          "text": [
            "Hello World!\n"
          ]
        }
      ]
    },
    {
      "cell_type": "markdown",
      "source": [
        "#### [Program Pertamaku](https://academy.dqlab.id/main/livecode/157/283/1248?pr=0)"
      ],
      "metadata": {
        "id": "e_WubGVp9lW7"
      }
    },
    {
      "cell_type": "code",
      "source": [
        "print(\"Halo Dunia\")\n",
        "\n",
        "print(\"Riset Bahasa Python\")"
      ],
      "metadata": {
        "colab": {
          "base_uri": "https://localhost:8080/"
        },
        "id": "NOQm2AjY9ova",
        "outputId": "cf53ade6-72ff-4213-8fc8-8065602b6780"
      },
      "execution_count": 2,
      "outputs": [
        {
          "output_type": "stream",
          "name": "stdout",
          "text": [
            "Halo Dunia\n",
            "Riset Bahasa Python\n"
          ]
        }
      ]
    },
    {
      "cell_type": "markdown",
      "source": [
        "#### [Struktur Program Python - Part 1](https://academy.dqlab.id/main/livecode/157/283/1249?pr=0)"
      ],
      "metadata": {
        "id": "QkTP8UqC9ur7"
      }
    },
    {
      "cell_type": "code",
      "source": [
        "# Statement\n",
        "print(\"Belajar Python menyenangkan\") \n",
        "print(\"Halo Dunia\")\n",
        "print(\"Hello World!\")\n",
        "\n",
        "# Variables & Literals\n",
        "bilangan1 = 5\n",
        "bilangan2 = 10\n",
        "kalimat1 = \"Belajar Bahasa Python\"\n",
        "\n",
        "# Operators\n",
        "print(bilangan1 + bilangan2)"
      ],
      "metadata": {
        "colab": {
          "base_uri": "https://localhost:8080/"
        },
        "id": "W0wZ9quH9yeA",
        "outputId": "eb35fefb-92f3-46a0-b2a5-ef3cfba34f27"
      },
      "execution_count": 3,
      "outputs": [
        {
          "output_type": "stream",
          "name": "stdout",
          "text": [
            "Belajar Python menyenangkan\n",
            "Halo Dunia\n",
            "Hello World!\n",
            "15\n"
          ]
        }
      ]
    },
    {
      "cell_type": "markdown",
      "source": [
        "#### [Tugas Praktek (Pengurangan Bilangan)](https://academy.dqlab.id/main/livecode/157/283/1250?pr=0)"
      ],
      "metadata": {
        "id": "wG7avUPo-FKw"
      }
    },
    {
      "cell_type": "code",
      "source": [
        "bilangan1 = 20\n",
        "bilangan2 = 10\n",
        "\n",
        "print(bilangan1 - bilangan2)"
      ],
      "metadata": {
        "colab": {
          "base_uri": "https://localhost:8080/"
        },
        "id": "oyY_mgjP-LA0",
        "outputId": "ef0516b5-368d-451f-952d-1905be1a7196"
      },
      "execution_count": 4,
      "outputs": [
        {
          "output_type": "stream",
          "name": "stdout",
          "text": [
            "10\n"
          ]
        }
      ]
    },
    {
      "cell_type": "markdown",
      "source": [
        "#### [Tugas Praktek (Harga Final)](https://academy.dqlab.id/main/livecode/157/283/1251?pr=0)"
      ],
      "metadata": {
        "id": "LYzPqinF-ScL"
      }
    },
    {
      "cell_type": "code",
      "source": [
        "harga_asli = 20000\n",
        "potongan = 2000\n",
        "\n",
        "harga_setelah_potongan = harga_asli - potongan\n",
        "harga_final = harga_setelah_potongan * 1.1 #angka 1.1 karena PPN sebesar 10% (100% + 10% = 110% atau 1.1)\n",
        "\n",
        "print(harga_final)"
      ],
      "metadata": {
        "colab": {
          "base_uri": "https://localhost:8080/"
        },
        "id": "3ORQDIyr-j2C",
        "outputId": "005964e8-124d-4a1f-eabf-4c566d39406e"
      },
      "execution_count": 5,
      "outputs": [
        {
          "output_type": "stream",
          "name": "stdout",
          "text": [
            "19800.0\n"
          ]
        }
      ]
    },
    {
      "cell_type": "markdown",
      "source": [
        "#### [Struktur Program Python - Part 2](https://academy.dqlab.id/main/livecode/157/283/1252?pr=0)"
      ],
      "metadata": {
        "id": "wpSc9fUu_fab"
      }
    },
    {
      "cell_type": "code",
      "source": [
        "# perintah pada baris ini tidak mempengaruhi program"
      ],
      "metadata": {
        "id": "wbKsHTZB_jXc"
      },
      "execution_count": 6,
      "outputs": []
    },
    {
      "cell_type": "code",
      "source": [
        "'''\n",
        "perintah ini tidak akan dieksekusi oleh Pyhton\n",
        "dan perintah ini juga tidak akan dieksekusi\n",
        "perintah ini juga tidak akan dieksekusi\n",
        "'''"
      ],
      "metadata": {
        "colab": {
          "base_uri": "https://localhost:8080/",
          "height": 53
        },
        "id": "j-Xl9HOH_pGi",
        "outputId": "69923cb4-2dc5-4c04-f8c3-c0fedbc5fbbd"
      },
      "execution_count": 7,
      "outputs": [
        {
          "output_type": "execute_result",
          "data": {
            "text/plain": [
              "'\\nperintah ini tidak akan dieksekusi oleh Pyhton\\ndan perintah ini juga tidak akan dieksekusi\\nperintah ini juga tidak akan dieksekusi\\n'"
            ],
            "application/vnd.google.colaboratory.intrinsic+json": {
              "type": "string"
            }
          },
          "metadata": {},
          "execution_count": 7
        }
      ]
    },
    {
      "cell_type": "markdown",
      "source": [
        "## Python Variables & Data Types"
      ],
      "metadata": {
        "id": "NaOkp9518z1d"
      }
    },
    {
      "cell_type": "markdown",
      "source": [
        "#### [Python Variables](https://academy.dqlab.id/main/livecode/157/284/1255?pr=0)"
      ],
      "metadata": {
        "id": "z5SOGiDf_-LS"
      }
    },
    {
      "cell_type": "code",
      "source": [
        "bil1 = 10\n",
        "bil2 = 20\n",
        "kalimat = \"Halo Dunia\""
      ],
      "metadata": {
        "id": "gsl4VwdeABSq"
      },
      "execution_count": 8,
      "outputs": []
    },
    {
      "cell_type": "code",
      "source": [
        "x = 5\n",
        "\n",
        "\"\"\"usahakan memberikan nama yang lebih bermakna\n",
        "terkait dengan penggunaan sebuah variabel,\n",
        "seperti:\"\"\"\n",
        "\n",
        "angka1 = 5"
      ],
      "metadata": {
        "id": "JEwDeY6rAI68"
      },
      "execution_count": 9,
      "outputs": []
    },
    {
      "cell_type": "markdown",
      "source": [
        "#### [Aturan Penamaan Python Variables](https://academy.dqlab.id/main/livecode/157/284/1256?pr=0)"
      ],
      "metadata": {
        "id": "vum99JAnAfve"
      }
    },
    {
      "cell_type": "code",
      "source": [
        "bil1, bil2 = 3, 4"
      ],
      "metadata": {
        "id": "w9Hu86cEAjXZ"
      },
      "execution_count": 11,
      "outputs": []
    },
    {
      "cell_type": "code",
      "source": [
        "salam = \"Selamat Pagi\"; penutup = \"Salam Sejahtera\""
      ],
      "metadata": {
        "id": "TaqEfCxlAyiP"
      },
      "execution_count": 13,
      "outputs": []
    },
    {
      "cell_type": "markdown",
      "source": [
        "#### [Sequence Type – Part 1](https://academy.dqlab.id/main/livecode/157/284/1262?pr=0)"
      ],
      "metadata": {
        "id": "WTXY3fHfBZXm"
      }
    },
    {
      "cell_type": "code",
      "source": [
        "contoh_list = [1,'dua',3,4.0,5]\n",
        "print(contoh_list[0])\n",
        "print(contoh_list[3])\n",
        "\n",
        "contoh_list = [1,'dua',3,4.0,5]\n",
        "contoh_list[3] = 'empat'\n",
        "print(contoh_list[3])"
      ],
      "metadata": {
        "colab": {
          "base_uri": "https://localhost:8080/"
        },
        "id": "k-AemCtwBeKq",
        "outputId": "c234d4ed-6d07-4e03-ae74-586854635092"
      },
      "execution_count": 14,
      "outputs": [
        {
          "output_type": "stream",
          "name": "stdout",
          "text": [
            "1\n",
            "4.0\n",
            "empat\n"
          ]
        }
      ]
    },
    {
      "cell_type": "markdown",
      "source": [
        "#### [Sequence Type – Part 2](https://academy.dqlab.id/main/livecode/157/284/1263?pr=0)"
      ],
      "metadata": {
        "id": "9RibZtTOBl2G"
      }
    },
    {
      "cell_type": "code",
      "source": [
        "contoh_tuple = ('Januari', 'Februari', 'Maret', 'April')\n",
        "print(contoh_tuple[0])"
      ],
      "metadata": {
        "colab": {
          "base_uri": "https://localhost:8080/"
        },
        "id": "VUzhyvG0BoxV",
        "outputId": "0490d131-2b62-43d0-b296-029511cae17e"
      },
      "execution_count": 16,
      "outputs": [
        {
          "output_type": "stream",
          "name": "stdout",
          "text": [
            "Januari\n"
          ]
        }
      ]
    },
    {
      "cell_type": "code",
      "source": [
        "contoh_tuple = ('Januari', 'Februari', 'Maret', 'April')\n",
        "contoh_tuple[0] = 'Desember'"
      ],
      "metadata": {
        "colab": {
          "base_uri": "https://localhost:8080/",
          "height": 183
        },
        "id": "ptKNkkowCNTy",
        "outputId": "f40445f1-e142-4270-d498-7e417e2b3231"
      },
      "execution_count": 17,
      "outputs": [
        {
          "output_type": "error",
          "ename": "TypeError",
          "evalue": "ignored",
          "traceback": [
            "\u001b[0;31m---------------------------------------------------------------------------\u001b[0m",
            "\u001b[0;31mTypeError\u001b[0m                                 Traceback (most recent call last)",
            "\u001b[0;32m<ipython-input-17-3c510a9e3f3b>\u001b[0m in \u001b[0;36m<module>\u001b[0;34m()\u001b[0m\n\u001b[1;32m      1\u001b[0m \u001b[0mcontoh_tuple\u001b[0m \u001b[0;34m=\u001b[0m \u001b[0;34m(\u001b[0m\u001b[0;34m'Januari'\u001b[0m\u001b[0;34m,\u001b[0m \u001b[0;34m'Februari'\u001b[0m\u001b[0;34m,\u001b[0m \u001b[0;34m'Maret'\u001b[0m\u001b[0;34m,\u001b[0m \u001b[0;34m'April'\u001b[0m\u001b[0;34m)\u001b[0m\u001b[0;34m\u001b[0m\u001b[0;34m\u001b[0m\u001b[0m\n\u001b[0;32m----> 2\u001b[0;31m \u001b[0mcontoh_tuple\u001b[0m\u001b[0;34m[\u001b[0m\u001b[0;36m0\u001b[0m\u001b[0;34m]\u001b[0m \u001b[0;34m=\u001b[0m \u001b[0;34m'Desember'\u001b[0m\u001b[0;34m\u001b[0m\u001b[0;34m\u001b[0m\u001b[0m\n\u001b[0m",
            "\u001b[0;31mTypeError\u001b[0m: 'tuple' object does not support item assignment"
          ]
        }
      ]
    },
    {
      "cell_type": "markdown",
      "source": [
        "#### [Set Type](https://academy.dqlab.id/main/livecode/157/284/1264?pr=0)"
      ],
      "metadata": {
        "id": "boiKMGOUCY5R"
      }
    },
    {
      "cell_type": "code",
      "source": [
        "contoh_list = ['Dewi', 'Budi', 'Cici', 'Linda', 'Cici'] \n",
        "print(contoh_list)\n",
        "\n",
        "contoh_set = {'Dewi', 'Budi', 'Cici', 'Linda', 'Cici'}\n",
        "print(contoh_set)\n",
        "\n",
        "contoh_frozen_set = ({'Dewi', 'Budi', 'Cici', 'Linda', 'Cici'})\n",
        "print(contoh_frozen_set)"
      ],
      "metadata": {
        "colab": {
          "base_uri": "https://localhost:8080/"
        },
        "id": "EytTOcUdCcW5",
        "outputId": "011e9de0-2f00-40dd-e681-b89a235729f1"
      },
      "execution_count": 18,
      "outputs": [
        {
          "output_type": "stream",
          "name": "stdout",
          "text": [
            "['Dewi', 'Budi', 'Cici', 'Linda', 'Cici']\n",
            "{'Dewi', 'Linda', 'Cici', 'Budi'}\n",
            "{'Dewi', 'Linda', 'Cici', 'Budi'}\n"
          ]
        }
      ]
    },
    {
      "cell_type": "markdown",
      "source": [
        "#### [Mapping Type](https://academy.dqlab.id/main/livecode/157/284/1265?pr=0)"
      ],
      "metadata": {
        "id": "55PtsfwKCnnN"
      }
    },
    {
      "cell_type": "code",
      "source": [
        "person = {'nama': 'John Doe', 'pekerjaan': 'Programmer'}\n",
        "\n",
        "print(person['nama'])\n",
        "print(person['pekerjaan'])"
      ],
      "metadata": {
        "colab": {
          "base_uri": "https://localhost:8080/"
        },
        "id": "c3m3gTeGCqo7",
        "outputId": "f43f9306-04e7-4d9b-8b6e-27182f95c31d"
      },
      "execution_count": 19,
      "outputs": [
        {
          "output_type": "stream",
          "name": "stdout",
          "text": [
            "John Doe\n",
            "Programmer\n"
          ]
        }
      ]
    },
    {
      "cell_type": "markdown",
      "source": [
        "#### [Tugas Praktek (Dictionary)](https://academy.dqlab.id/main/livecode/157/284/1266?pr=0)"
      ],
      "metadata": {
        "id": "XYSxa5XFCwwZ"
      }
    },
    {
      "cell_type": "code",
      "source": [
        "sepatu = {\"nama\": \"Sepatu Niko\", \"harga\": 150000, \"diskon\": 30000 }\n",
        "baju = {\"nama\": \"Baju Unikloh\", \"harga\": 80000, \"diskon\": 8000 }\n",
        "celana = {\"nama\": \"Celana Lepis\", \"harga\": 200000, \"diskon\": 60000 }"
      ],
      "metadata": {
        "id": "zLYh1_XwC6VX"
      },
      "execution_count": 20,
      "outputs": []
    },
    {
      "cell_type": "markdown",
      "source": [
        "#### [Tugas Praktek (Daftar Belanja)](https://academy.dqlab.id/main/livecode/157/284/1267?pr=0)"
      ],
      "metadata": {
        "id": "00SKvZBsDEuQ"
      }
    },
    {
      "cell_type": "code",
      "source": [
        "sepatu = {\"nama\": \"Sepatu Niko\", \"harga\": 150000, \"diskon\": 30000} \n",
        "baju = {\"nama\": \"Baju Unikloh\", \"harga\": 80000, \"diskon\": 8000} \n",
        "celana = {\"nama\": \"Celana Lepis\", \"harga\": 200000, \"diskon\": 60000} \n",
        "\n",
        "daftar_belanja = [sepatu, baju, celana]"
      ],
      "metadata": {
        "id": "BZEftg7EDN-B"
      },
      "execution_count": 21,
      "outputs": []
    },
    {
      "cell_type": "markdown",
      "source": [
        "#### [Tugas Praktek (Total Harga + Pajak)](https://academy.dqlab.id/main/livecode/157/284/1268?pr=0)"
      ],
      "metadata": {
        "id": "iCOiG3uVDcq6"
      }
    },
    {
      "cell_type": "code",
      "source": [
        "# Data yang dinyatakan ke dalam dictionary\n",
        "sepatu = {\"nama\": \"Sepatu Niko\", \"harga\": 150000, \"diskon\": 30000} \n",
        "baju = {\"nama\": \"Baju Unikloh\", \"harga\": 80000, \"diskon\": 8000} \n",
        "celana = {\"nama\": \"Celana Lepis\", \"harga\": 200000, \"diskon\": 60000}\n",
        "\n",
        "# Hitunglah harga masing-masing data setelah dikurangi diskon\n",
        "harga_sepatu = sepatu[\"harga\"] - sepatu[\"diskon\"] \n",
        "harga_baju = baju[\"harga\"] - baju[\"diskon\"]\n",
        "harga_celana = celana[\"harga\"] - celana[\"diskon\"]\n",
        "\n",
        "# Hitung harga total\n",
        "total_harga = harga_sepatu + harga_baju + harga_celana\n",
        "\n",
        "# Hitung harga kena pajak\n",
        "total_pajak = total_harga * 0.1\n",
        "\n",
        "# Cetak total_harga + total_pajak\n",
        "print(total_harga + total_pajak)"
      ],
      "metadata": {
        "colab": {
          "base_uri": "https://localhost:8080/"
        },
        "id": "TnT997lnDkid",
        "outputId": "f701ff60-9412-426e-9d17-d183f193ebec"
      },
      "execution_count": 22,
      "outputs": [
        {
          "output_type": "stream",
          "name": "stdout",
          "text": [
            "365200.0\n"
          ]
        }
      ]
    },
    {
      "cell_type": "markdown",
      "source": [
        "## Python Operators"
      ],
      "metadata": {
        "id": "ReAvbYT682Kz"
      }
    },
    {
      "cell_type": "markdown",
      "source": [
        "#### [Identity Operators](https://academy.dqlab.id/main/livecode/157/293/1293?pr=0)"
      ],
      "metadata": {
        "id": "QF3DmPUQD1uM"
      }
    },
    {
      "cell_type": "code",
      "source": [
        "x = 10 # mula-mula x merupakan sebuah integer\n",
        "\n",
        "print(type(x) is int)"
      ],
      "metadata": {
        "colab": {
          "base_uri": "https://localhost:8080/"
        },
        "id": "YFlTD4mgD6ol",
        "outputId": "e4db555e-6918-4048-ebc1-12b710334219"
      },
      "execution_count": 23,
      "outputs": [
        {
          "output_type": "stream",
          "name": "stdout",
          "text": [
            "True\n"
          ]
        }
      ]
    },
    {
      "cell_type": "code",
      "source": [
        "x /= 3\n",
        "\n",
        "print(type(x) is int)"
      ],
      "metadata": {
        "colab": {
          "base_uri": "https://localhost:8080/"
        },
        "id": "KvMKsm_zED72",
        "outputId": "3b705aee-3c61-4766-c99c-8c5a568acb62"
      },
      "execution_count": 24,
      "outputs": [
        {
          "output_type": "stream",
          "name": "stdout",
          "text": [
            "False\n"
          ]
        }
      ]
    },
    {
      "cell_type": "code",
      "source": [
        "print(type(x) is float)"
      ],
      "metadata": {
        "colab": {
          "base_uri": "https://localhost:8080/"
        },
        "id": "uGaq0i86ENGl",
        "outputId": "0714cd46-8098-4df3-cbd7-e77e5c01b440"
      },
      "execution_count": 25,
      "outputs": [
        {
          "output_type": "stream",
          "name": "stdout",
          "text": [
            "True\n"
          ]
        }
      ]
    },
    {
      "cell_type": "markdown",
      "source": [
        "#### [Nilai Prioritas Operator dalam Python – Part 1](https://academy.dqlab.id/main/livecode/157/293/1295?pr=0)"
      ],
      "metadata": {
        "id": "YlT3ehjDEZlv"
      }
    },
    {
      "cell_type": "code",
      "source": [
        "# Kode awal\n",
        "total_harga = 150000\n",
        "potongan_harga = 0.3\n",
        "pajak = 0.1 # pajak dalam persen ~ 10%\n",
        "\n",
        "harga_bayar = 1 - potongan_harga # baris pertama\n",
        "harga_bayar *= total_harga # baris kedua\n",
        "pajak_bayar = pajak * harga_bayar # baris ketiga\n",
        "harga_bayar += pajak_bayar # baris ke-4\n",
        "\n",
        "print(\"Kode awal - harga_bayar=\", harga_bayar)\n",
        "\n",
        "# Penyederhanaan baris kode dengan menerapkan prioritas operator\n",
        "total_harga = 150000\n",
        "potongan_harga = 0.3\n",
        "pajak = 0.1 # pajak dalam persen ~ 10%\n",
        "\n",
        "harga_bayar = (1 - potongan_harga) * total_harga #baris pertama \n",
        "harga_bayar += harga_bayar * pajak # baris kedua\n",
        "\n",
        "print(\"Penyederhanaan kode - harga_bayar=\", harga_bayar)"
      ],
      "metadata": {
        "colab": {
          "base_uri": "https://localhost:8080/"
        },
        "id": "oIBQv1WzEeZV",
        "outputId": "cdbb7562-c78f-422b-dda9-3bde0c333f00"
      },
      "execution_count": 26,
      "outputs": [
        {
          "output_type": "stream",
          "name": "stdout",
          "text": [
            "Kode awal - harga_bayar= 115500.0\n",
            "Penyederhanaan kode - harga_bayar= 115500.0\n"
          ]
        }
      ]
    },
    {
      "cell_type": "markdown",
      "source": [
        "#### [Nilai Prioritas Operator dalam Python – Part 2](https://academy.dqlab.id/main/livecode/157/293/1296?pr=0)"
      ],
      "metadata": {
        "id": "yNFQ6MleEwPV"
      }
    },
    {
      "cell_type": "code",
      "source": [
        "nilai = (1 - 0.3) * 100\n",
        "# nilai = 0.7 * 100\n",
        "# nilai = 70\n",
        "\n",
        "print(nilai) # akan menghasilkan output 70"
      ],
      "metadata": {
        "colab": {
          "base_uri": "https://localhost:8080/"
        },
        "id": "4__Q3FZDE0RI",
        "outputId": "c49bf677-6fb3-43ca-8dde-10e8e5fd9ffd"
      },
      "execution_count": 27,
      "outputs": [
        {
          "output_type": "stream",
          "name": "stdout",
          "text": [
            "70.0\n"
          ]
        }
      ]
    },
    {
      "cell_type": "code",
      "source": [
        "nilai = (3 + 2) ** 2 + (4 + 4) / 2 % 4\n",
        "\n",
        "# berikut merupakan simulasi dari urutan pengerjaan yang dilakukan Python,\n",
        "# 1. Python akan mengerjakan bagian di dalam kurung paling Kiri\n",
        "#    nilai = 5 ** 2 + (4 + 4) / 2 % 4\n",
        "# 2. Python akan mengerjakan bagian di dalam kurung yang tersisa\n",
        "#    nilai = 5 ** 2 + 8 / 2 % 4\n",
        "# 3. Operator pangkat akan dikerjakan oleh Python\n",
        "#    nilai = 25 + 8 / 2 % 4\n",
        "# 4. Python akan menjalankan operator pembagian dikarenakan prioritasnya lebih\n",
        "#    tinggi dibanding operator penambahan\n",
        "#    nilai = 25 + 4 % 4\n",
        "# 5. Python akan mengerjakan operator modulus dikarenakan prioritasnya juga\n",
        "#    lebih tinggi dibanding operator penambahan\n",
        "#    nilai = 25 + 0\n",
        "# 6. Python akan mengerjakan operator penambahan\n",
        "#    nilai = 25\n",
        "\n",
        "print(nilai) # akan menghasilkan output 25"
      ],
      "metadata": {
        "colab": {
          "base_uri": "https://localhost:8080/"
        },
        "id": "Hr6HYB95FEEY",
        "outputId": "e7d274da-0a3c-4c2b-94e0-2ccbc3f70fc9"
      },
      "execution_count": 32,
      "outputs": [
        {
          "output_type": "stream",
          "name": "stdout",
          "text": [
            "25.0\n"
          ]
        }
      ]
    },
    {
      "cell_type": "markdown",
      "source": [
        "#### [Tugas Praktek (Total Harga)](https://academy.dqlab.id/main/livecode/157/293/1298?pr=0)"
      ],
      "metadata": {
        "id": "0jUfJM__Hnov"
      }
    },
    {
      "cell_type": "code",
      "source": [
        "sepatu = { \"nama\" : \"Sepatu Niko\", \"harga\": 150000, \"diskon\": 30000 }\n",
        "baju = { \"nama\" : \"Baju Unikloh\", \"harga\": 80000, \"diskon\": 8000 }\n",
        "celana = { \"nama\" : \"Celana Lepis\", \"harga\": 200000, \"diskon\": 60000 }\n",
        "\n",
        "harga_sepatu = sepatu[\"harga\"] - sepatu[\"diskon\"]\n",
        "harga_baju = baju[\"harga\"] - baju[\"diskon\"]\n",
        "harga_celana = celana[\"harga\"] - celana[\"diskon\"]\n",
        "\n",
        "total_harga = (harga_sepatu + harga_baju + harga_celana) * 1.1 \n",
        "\n",
        "print(total_harga)"
      ],
      "metadata": {
        "colab": {
          "base_uri": "https://localhost:8080/"
        },
        "id": "NWmzco8hHtT-",
        "outputId": "53f5f7fa-c47d-4de3-fc00-0cdfe8417fca"
      },
      "execution_count": 33,
      "outputs": [
        {
          "output_type": "stream",
          "name": "stdout",
          "text": [
            "365200.00000000006\n"
          ]
        }
      ]
    },
    {
      "cell_type": "markdown",
      "source": [
        "## Pythons Conditioning & Looping"
      ],
      "metadata": {
        "id": "RbG_DGyV84sr"
      }
    },
    {
      "cell_type": "markdown",
      "source": [
        "#### [Python Conditioning for Decision – Part 2](https://academy.dqlab.id/main/livecode/157/294/1300?pr=0)"
      ],
      "metadata": {
        "id": "IpPWpR9wH9rQ"
      }
    },
    {
      "cell_type": "code",
      "source": [
        "# Statement if\n",
        "x = 4\n",
        "\n",
        "if x % 2 == 0: # jika sisa bagi x dengan 2 sama dengan 0\n",
        "    print(\"x habis dibagi dua\") # statemen aksi lebih menjorok ke dalam\n",
        "\n",
        "\n",
        "# Statement if ... elif ... else\n",
        "x = 7\n",
        "\n",
        "if x % 2 == 0: # jika sisa bagi x dengan 2 sama dengan 0\n",
        "    print(\"x habis dibagi dua\")\n",
        "elif x % 3 == 0: # jika sisa bagi x dengan 3 sama dengan 0\n",
        "    print(\"x habis dibagi tiga\")\n",
        "elif x % 5 == 0: # jika sisa bagi x dengan 5 sama dengan 0\n",
        "    print(\"x habis dibagi lima\")\n",
        "else:\n",
        "    print(\"x tidak habis dibagi dua, tiga ataupun lima\")"
      ],
      "metadata": {
        "colab": {
          "base_uri": "https://localhost:8080/"
        },
        "id": "LrwwJL9yIA3j",
        "outputId": "7c7f422b-ec90-497c-96d5-8b3541460923"
      },
      "execution_count": 35,
      "outputs": [
        {
          "output_type": "stream",
          "name": "stdout",
          "text": [
            "x habis dibagi dua\n",
            "x tidak habis dibagi dua, tiga ataupun lima\n"
          ]
        }
      ]
    },
    {
      "cell_type": "markdown",
      "source": [
        "#### [Python Conditioning for Decision – Part 3](https://academy.dqlab.id/main/livecode/157/294/1301?pr=0)"
      ],
      "metadata": {
        "id": "zzp0r0sYIGVB"
      }
    },
    {
      "cell_type": "code",
      "source": [
        "jam = 13\n",
        "\n",
        "if jam >= 5 and jam < 12: # selama jam di antara 5 s.d. 12\n",
        "    print(\"Selamat pagi!\")\n",
        "elif jam >= 12 and jam < 17: # selama jam di antara 12 s.d. 17\n",
        "    print(\"Selamat siang!\")\n",
        "elif jam >= 17 and jam < 19: # selama jam di antara 17 s.d. 19\n",
        "    print(\"Selamat sore!\")\n",
        "else: # selain kondisi di atas\n",
        "    print(\"Selamat malam!\")"
      ],
      "metadata": {
        "colab": {
          "base_uri": "https://localhost:8080/"
        },
        "id": "IvJEIVl7IM5j",
        "outputId": "c286c7ef-98cc-4773-e74d-ab19f8cdeba9"
      },
      "execution_count": 36,
      "outputs": [
        {
          "output_type": "stream",
          "name": "stdout",
          "text": [
            "Selamat siang!\n"
          ]
        }
      ]
    },
    {
      "cell_type": "markdown",
      "source": [
        "#### [Tugas Praktek (Tagihan Pembayaran)](https://academy.dqlab.id/main/livecode/157/294/1302?pr=0)"
      ],
      "metadata": {
        "id": "F_9m0e0LIqAU"
      }
    },
    {
      "cell_type": "code",
      "source": [
        "tagihan_ke = 'Mr. Yoyo'\n",
        "\n",
        "warehousing = { 'harga_harian': 1000000, 'total_hari':15 } \n",
        "cleansing = { 'harga_harian': 1500000, 'total_hari':10 } \n",
        "integration = { 'harga_harian':2000000, 'total_hari':15 } \n",
        "transform = { 'harga_harian':2500000, 'total_hari':10 }\n",
        "\n",
        "sub_warehousing = warehousing['harga_harian'] * warehousing['total_hari'] \n",
        "sub_cleansing = cleansing['harga_harian'] * cleansing['total_hari'] \n",
        "sub_integration = integration['harga_harian'] * integration['total_hari'] \n",
        "sub_transform = transform['harga_harian'] * transform['total_hari']\n",
        "\n",
        "total_harga = sub_warehousing + sub_cleansing + sub_integration + sub_transform\n",
        "\n",
        "print(\"Tagihan kepada:\") \n",
        "print(tagihan_ke)\n",
        "\n",
        "print(\"Selamat pagi, anda harus membayar tagihan sebesar:\") \n",
        "print(total_harga)"
      ],
      "metadata": {
        "colab": {
          "base_uri": "https://localhost:8080/"
        },
        "id": "NkQco-9uIvVg",
        "outputId": "7c76060c-ece1-4237-fdfb-ce5e671df7f4"
      },
      "execution_count": 37,
      "outputs": [
        {
          "output_type": "stream",
          "name": "stdout",
          "text": [
            "Tagihan kepada:\n",
            "Mr. Yoyo\n",
            "Selamat pagi, anda harus membayar tagihan sebesar:\n",
            "85000000\n"
          ]
        }
      ]
    },
    {
      "cell_type": "markdown",
      "source": [
        "#### [Tugas Praktek (Tagihan + Keterangan Waktu)](https://academy.dqlab.id/main/livecode/157/294/1303?pr=0)"
      ],
      "metadata": {
        "id": "tkp9GwC4JRDc"
      }
    },
    {
      "cell_type": "code",
      "source": [
        "jam = 17\n",
        "tagihan_ke = 'Mr. Yoyo'\n",
        "\n",
        "warehousing = { 'harga_harian': 1000000, 'total_hari':15 } \n",
        "cleansing = { 'harga_harian': 1500000, 'total_hari':10 } \n",
        "integration = { 'harga_harian':2000000, 'total_hari':15 } \n",
        "transform = { 'harga_harian':2500000, 'total_hari':10 }\n",
        "\n",
        "sub_warehousing = warehousing['harga_harian']*warehousing['total_hari'] \n",
        "sub_cleansing = cleansing['harga_harian']*cleansing['total_hari'] \n",
        "sub_integration = integration['harga_harian']*integration['total_hari'] \n",
        "sub_transform = transform['harga_harian']*transform['total_hari']\n",
        "\n",
        "total_harga = sub_warehousing+sub_cleansing+sub_integration+sub_transform\n",
        "\n",
        "print(\"Tagihan kepada:\")\n",
        "print(tagihan_ke)\n",
        "\n",
        "if jam > 19:\n",
        "    print(\"Selamat malam, anda harus membayar tagihan sebesar:\")\n",
        "elif jam > 17:\n",
        "    print(\"Selamat sore, anda harus membayar tagihan sebesar:\") \n",
        "elif jam > 12:\n",
        "    print(\"Selamat siang, anda harus membayar tagihan sebesar:\")\n",
        "else:\n",
        "    print(\"Selamat pagi, anda harus membayar tagihan sebesar:\") \n",
        "    \n",
        "print(total_harga)"
      ],
      "metadata": {
        "colab": {
          "base_uri": "https://localhost:8080/"
        },
        "id": "wDhAfDhZJfPr",
        "outputId": "b9a5bfbb-b42f-44de-e4c9-60d8f3c1b55a"
      },
      "execution_count": 38,
      "outputs": [
        {
          "output_type": "stream",
          "name": "stdout",
          "text": [
            "Tagihan kepada:\n",
            "Mr. Yoyo\n",
            "Selamat siang, anda harus membayar tagihan sebesar:\n",
            "85000000\n"
          ]
        }
      ]
    },
    {
      "cell_type": "markdown",
      "source": [
        "#### [Python while loops – Part 1](https://academy.dqlab.id/main/livecode/157/294/1305?pr=0)"
      ],
      "metadata": {
        "id": "t0hCSbjZJu7H"
      }
    },
    {
      "cell_type": "code",
      "source": [
        "# Tagihan\n",
        "tagihan = [50000, 75000, 125000, 300000, 200000]\n",
        "\n",
        "# Tanpa menggunakan while loop\n",
        "total_tagihan = tagihan[0] + tagihan[1] + tagihan[2] + tagihan[3] + tagihan[4]\n",
        "print(total_tagihan)\n",
        "\n",
        "# Dengan menggunakan while loop\n",
        "i = 0 # sebuah variabel untuk mengakses setiap elemen tagihan satu per satu\n",
        "jumlah_tagihan = len(tagihan) # panjang (jumlah elemen dalam) list tagihan\n",
        "total_tagihan = 0 # mula-mula, set total_tagihan ke 0\n",
        "while i < jumlah_tagihan: # selama nilai i kurang dari jumlah_tagihan\n",
        "    total_tagihan += tagihan[i] # tambahkan tagihan[i] ke total_tagihan\n",
        "    i += 1 # tambahkan nilai i dengan 1 untuk memproses tagihan selanjutnya.\n",
        "print(total_tagihan)"
      ],
      "metadata": {
        "colab": {
          "base_uri": "https://localhost:8080/"
        },
        "id": "TjsLHXxGJyfH",
        "outputId": "376ab12d-5e42-494b-8338-a84970e7ebf0"
      },
      "execution_count": 39,
      "outputs": [
        {
          "output_type": "stream",
          "name": "stdout",
          "text": [
            "750000\n",
            "750000\n"
          ]
        }
      ]
    },
    {
      "cell_type": "markdown",
      "source": [
        "#### [Python while loops – Part 2](https://academy.dqlab.id/main/livecode/157/294/1306?pr=0)"
      ],
      "metadata": {
        "id": "u7TpFXMhJ76D"
      }
    },
    {
      "cell_type": "code",
      "source": [
        "tagihan = [50000, 75000, -150000, 125000, 300000, -50000, 200000]\n",
        "\n",
        "i = 0\n",
        "jumlah_tagihan = len(tagihan)\n",
        "total_tagihan = 0\n",
        "\n",
        "while i < jumlah_tagihan:\n",
        "    # jika terdapat tagihan ke-i yang bernilai minus (di bawah nol),\n",
        "    # pengulangan akan dihentikan\n",
        "    if tagihan[i] < 0:\n",
        "        total_tagihan = -1\n",
        "        print(\"terdapat angka minus dalam tagihan, perhitungan dihentikan!\")\n",
        "        break\n",
        "    total_tagihan += tagihan[i]\n",
        "    i += 1\n",
        "    \n",
        "print(total_tagihan)"
      ],
      "metadata": {
        "colab": {
          "base_uri": "https://localhost:8080/"
        },
        "id": "VvqszOomKAo7",
        "outputId": "d6ccc02f-8e94-4f06-b173-ec7a58e21115"
      },
      "execution_count": 40,
      "outputs": [
        {
          "output_type": "stream",
          "name": "stdout",
          "text": [
            "terdapat angka minus dalam tagihan, perhitungan dihentikan!\n",
            "-1\n"
          ]
        }
      ]
    },
    {
      "cell_type": "markdown",
      "source": [
        "#### [Python while loops – Part 3](https://academy.dqlab.id/main/livecode/157/294/1307?pr=0)"
      ],
      "metadata": {
        "id": "2L_79LF7KJxk"
      }
    },
    {
      "cell_type": "code",
      "source": [
        "tagihan = [50000, 75000, -150000, 125000, 300000, -50000, 200000]\n",
        "\n",
        "i = 0\n",
        "jumlah_tagihan = len(tagihan)\n",
        "total_tagihan = 0\n",
        "\n",
        "while i < jumlah_tagihan:\n",
        "    # jika terdapat tagihan ke-i yang bernilai minus (di bawah nol),\n",
        "    # abaikan tagihan ke-i dan lanjutkan ke tagihan berikutnya\n",
        "    if tagihan[i] < 0:\n",
        "        i += 1\n",
        "        continue\n",
        "    total_tagihan += tagihan[i]\n",
        "    i += 1\n",
        "\n",
        "print(total_tagihan)"
      ],
      "metadata": {
        "colab": {
          "base_uri": "https://localhost:8080/"
        },
        "id": "Lg17UhRlKOKj",
        "outputId": "759ec61d-f782-4980-93b3-de313f8ab132"
      },
      "execution_count": 41,
      "outputs": [
        {
          "output_type": "stream",
          "name": "stdout",
          "text": [
            "750000\n"
          ]
        }
      ]
    },
    {
      "cell_type": "markdown",
      "source": [
        "#### [Python for loops – Part 1](https://academy.dqlab.id/main/livecode/157/294/1308?pr=0)"
      ],
      "metadata": {
        "id": "OTL9RnhYKhLr"
      }
    },
    {
      "cell_type": "code",
      "source": [
        "list_tagihan = [50000, 75000, -150000, 125000, 300000, -50000, 200000]\n",
        "\n",
        "total_tagihan = 0\n",
        "\n",
        "for tagihan in list_tagihan: # untuk setiap tagihan dalam list_tagihan\n",
        "    total_tagihan += tagihan # tambahkan tagihan ke total_tagihan\n",
        "\n",
        "print(total_tagihan)"
      ],
      "metadata": {
        "colab": {
          "base_uri": "https://localhost:8080/"
        },
        "id": "S5_zyFD-KnFi",
        "outputId": "abe28247-309f-482d-fb02-058b25201b1f"
      },
      "execution_count": 42,
      "outputs": [
        {
          "output_type": "stream",
          "name": "stdout",
          "text": [
            "550000\n"
          ]
        }
      ]
    },
    {
      "cell_type": "markdown",
      "source": [
        "#### [Python for loops – Part 2](https://academy.dqlab.id/main/livecode/157/294/1309?pr=0)"
      ],
      "metadata": {
        "id": "hINmzVVLK2e2"
      }
    },
    {
      "cell_type": "code",
      "source": [
        "list_tagihan = [50000, 75000, -150000, 125000, 300000, -50000, 200000]\n",
        "\n",
        "# For loops with break\n",
        "print(\"For loops with break\")\n",
        "total_tagihan_break = 0\n",
        "for tagihan in list_tagihan:\n",
        "    if tagihan < 0:\n",
        "        print(\"Terdapat angka minus dalam tagihan, perhitungan dihentikan!\")\n",
        "        break\n",
        "    total_tagihan_break += tagihan\n",
        "print(\"Total tagihan %d.\" % total_tagihan_break)\n",
        "print()\n",
        "\n",
        "# For loops with continue\n",
        "print(\"For loops with continue\")\n",
        "total_tagihan_continue = 0\n",
        "for tagihan in list_tagihan:\n",
        "    if tagihan < 0:\n",
        "        print(\"Terdapat angka minus dalam tagihan, tagihan %d dilewati!\" % tagihan)\n",
        "        continue\n",
        "    total_tagihan_continue += tagihan\n",
        "print(\"Total tagihan %d.\" % total_tagihan_continue)"
      ],
      "metadata": {
        "colab": {
          "base_uri": "https://localhost:8080/"
        },
        "id": "i-QxhcbgK85q",
        "outputId": "8e13aba2-9806-410c-fee5-3d74af75c444"
      },
      "execution_count": 43,
      "outputs": [
        {
          "output_type": "stream",
          "name": "stdout",
          "text": [
            "For loops with break\n",
            "Terdapat angka minus dalam tagihan, perhitungan dihentikan!\n",
            "Total tagihan 125000.\n",
            "\n",
            "For loops with continue\n",
            "Terdapat angka minus dalam tagihan, tagihan -150000 dilewati!\n",
            "Terdapat angka minus dalam tagihan, tagihan -50000 dilewati!\n",
            "Total tagihan 750000.\n"
          ]
        }
      ]
    },
    {
      "cell_type": "markdown",
      "source": [
        "#### [Python for loops – Part 3](https://academy.dqlab.id/main/livecode/157/294/1310?pr=0)"
      ],
      "metadata": {
        "id": "BIuCMkL8LDIs"
      }
    },
    {
      "cell_type": "code",
      "source": [
        "list_daerah = ['Malang', 'Palembang', 'Medan']\n",
        "list_buah = ['Apel', 'Duku', 'Jeruk']\n",
        "\n",
        "for nama_daerah in list_daerah:\n",
        "    for nama_buah in list_buah:\n",
        "        print(nama_buah+\" \"+nama_daerah)"
      ],
      "metadata": {
        "colab": {
          "base_uri": "https://localhost:8080/"
        },
        "id": "ODK103sTLGq6",
        "outputId": "0b2ee73a-8ffe-42d1-cbc1-dfcbf5785e8e"
      },
      "execution_count": 44,
      "outputs": [
        {
          "output_type": "stream",
          "name": "stdout",
          "text": [
            "Apel Malang\n",
            "Duku Malang\n",
            "Jeruk Malang\n",
            "Apel Palembang\n",
            "Duku Palembang\n",
            "Jeruk Palembang\n",
            "Apel Medan\n",
            "Duku Medan\n",
            "Jeruk Medan\n"
          ]
        }
      ]
    },
    {
      "cell_type": "markdown",
      "source": [
        "#### [Tugas Praktek (*Cash Flow*)](https://academy.dqlab.id/main/livecode/157/294/1311?pr=0)"
      ],
      "metadata": {
        "id": "7Ovv4ukdLVpW"
      }
    },
    {
      "cell_type": "code",
      "source": [
        "list_cash_flow = [\n",
        "2500000, 5000000, -1000000, -2500000, 5000000, 10000000,\n",
        "-5000000, 7500000, 10000000, -1500000, 25000000, -2500000\n",
        "]\n",
        "\n",
        "total_pengeluaran, total_pemasukan = 0, 0\n",
        "\n",
        "for dana in list_cash_flow:\n",
        "    if dana > 0:\n",
        "        total_pemasukan += dana\n",
        "    else:\n",
        "        total_pengeluaran += dana\n",
        "        \n",
        "total_pengeluaran *= -1\n",
        "\n",
        "print(total_pengeluaran)\n",
        "print(total_pemasukan)"
      ],
      "metadata": {
        "colab": {
          "base_uri": "https://localhost:8080/"
        },
        "id": "gy6o_1w-LjYi",
        "outputId": "6d0da8a2-57ed-4707-bb56-d69049346f2d"
      },
      "execution_count": 45,
      "outputs": [
        {
          "output_type": "stream",
          "name": "stdout",
          "text": [
            "12500000\n",
            "65000000\n"
          ]
        }
      ]
    },
    {
      "cell_type": "markdown",
      "source": [
        "## Mini Quiz"
      ],
      "metadata": {
        "id": "Xey9xzlt87Av"
      }
    },
    {
      "cell_type": "markdown",
      "source": [
        "#### [Ekspedisi Pamanku](https://academy.dqlab.id/main/livecode/157/295/1313?pr=0)"
      ],
      "metadata": {
        "id": "P1eCZuaBLtLP"
      }
    },
    {
      "cell_type": "code",
      "source": [
        "# Data\n",
        "uang_jalan = 1500000\n",
        "jumlah_hari = 31\n",
        "list_plat_nomor = [8993, 2198, 2501, 2735, 3772, 4837, 9152]\n",
        "\n",
        "\n",
        "# Pengecekan kendaraan dengan nomor pelat ganjil atau genap \n",
        "# Deklarasikan kendaraan_genap dan kendaraan_ganjil = 0\n",
        "kendaraan_genap = 0\n",
        "kendaraan_ganjil = 0\n",
        "\n",
        "for plat_nomor in list_plat_nomor:\n",
        "    if plat_nomor % 2 == 0:\n",
        "        kendaraan_genap += 1\n",
        "    else:\n",
        "        kendaraan_ganjil += 1\n",
        "\n",
        "\n",
        "# Total pengeluaran untuk kendaraan dengan nomor pelat ganjil \n",
        "# dan genap dalam 1 bulan\n",
        "i = 1\n",
        "total_pengeluaran = 0\n",
        "\n",
        "while i <= jumlah_hari:\n",
        "    if i % 2 == 0:\n",
        "        total_pengeluaran += (kendaraan_genap * uang_jalan)\n",
        "    else:\n",
        "        total_pengeluaran += (kendaraan_ganjil * uang_jalan)\n",
        "    i += 1\n",
        "\n",
        "\n",
        "# Cetak total pengeluaran\n",
        "print(total_pengeluaran)"
      ],
      "metadata": {
        "colab": {
          "base_uri": "https://localhost:8080/"
        },
        "id": "y60HFus_Lwg2",
        "outputId": "4391c932-b5ed-4443-fccf-437a4a0503e7"
      },
      "execution_count": 47,
      "outputs": [
        {
          "output_type": "stream",
          "name": "stdout",
          "text": [
            "163500000\n"
          ]
        }
      ]
    }
  ]
}