{
  "nbformat": 4,
  "nbformat_minor": 0,
  "metadata": {
    "colab": {
      "name": "Data Wrangling Python.ipynb",
      "provenance": []
    },
    "kernelspec": {
      "name": "python3",
      "display_name": "Python 3"
    },
    "language_info": {
      "name": "python"
    }
  },
  "cells": [
    {
      "cell_type": "code",
      "source": [
        "# singkronisasi ke g-drive\n",
        "\n",
        "from google.colab import drive\n",
        "drive.mount('/content/drive')"
      ],
      "metadata": {
        "colab": {
          "base_uri": "https://localhost:8080/"
        },
        "id": "DkR7Mkak1YPM",
        "outputId": "9f400547-eb16-4c38-c4bb-59142ebf7650"
      },
      "execution_count": 1,
      "outputs": [
        {
          "output_type": "stream",
          "name": "stdout",
          "text": [
            "Mounted at /content/drive\n"
          ]
        }
      ]
    },
    {
      "cell_type": "markdown",
      "source": [
        "## Cara Membaca Data Menggunakan Pandas"
      ],
      "metadata": {
        "id": "voB1z4imkwVX"
      }
    },
    {
      "cell_type": "markdown",
      "source": [
        "#### [Membaca file dengan menggunakan pandas](https://academy.dqlab.id/main/livecode/79/142/578?pr=0)"
      ],
      "metadata": {
        "id": "lnSmQ1sg1Lvv"
      }
    },
    {
      "cell_type": "code",
      "source": [
        "import pandas as pd\n",
        "\n",
        "csv_data = pd.read_csv(\"/content/drive/MyDrive/AL. Lab/Sanca/Datasets/shopping_data.csv\")\n",
        "\n",
        "print(csv_data)"
      ],
      "metadata": {
        "colab": {
          "base_uri": "https://localhost:8080/"
        },
        "id": "kqZ-lzTH1QIv",
        "outputId": "95ba5a33-e151-49d4-ed13-4ad0be189134"
      },
      "execution_count": 2,
      "outputs": [
        {
          "output_type": "stream",
          "name": "stdout",
          "text": [
            "     CustomerID   Genre  Age  Annual Income (k$)  Spending Score (1-100)\n",
            "0             1    Male   19                  15                      39\n",
            "1             2    Male   21                  15                      81\n",
            "2             3  Female   20                  16                       6\n",
            "3             4  Female   23                  16                      77\n",
            "4             5  Female   31                  17                      40\n",
            "..          ...     ...  ...                 ...                     ...\n",
            "195         196  Female   35                 120                      79\n",
            "196         197  Female   45                 126                      28\n",
            "197         198    Male   32                 126                      74\n",
            "198         199    Male   32                 137                      18\n",
            "199         200    Male   30                 137                      83\n",
            "\n",
            "[200 rows x 5 columns]\n"
          ]
        }
      ]
    },
    {
      "cell_type": "markdown",
      "source": [
        "#### [Membaca file dengan menggunakan head()](https://academy.dqlab.id/main/livecode/79/142/579?pr=0)"
      ],
      "metadata": {
        "id": "bTeeJnlo127G"
      }
    },
    {
      "cell_type": "code",
      "source": [
        "print(csv_data.head())"
      ],
      "metadata": {
        "colab": {
          "base_uri": "https://localhost:8080/"
        },
        "id": "1pRpw7q217MC",
        "outputId": "97a8ca74-2074-4089-ddf6-4214c5c1afe4"
      },
      "execution_count": 3,
      "outputs": [
        {
          "output_type": "stream",
          "name": "stdout",
          "text": [
            "   CustomerID   Genre  Age  Annual Income (k$)  Spending Score (1-100)\n",
            "0           1    Male   19                  15                      39\n",
            "1           2    Male   21                  15                      81\n",
            "2           3  Female   20                  16                       6\n",
            "3           4  Female   23                  16                      77\n",
            "4           5  Female   31                  17                      40\n"
          ]
        }
      ]
    },
    {
      "cell_type": "markdown",
      "source": [
        "#### [Melakukan akses data kolom](https://academy.dqlab.id/main/livecode/79/142/580?pr=0)"
      ],
      "metadata": {
        "id": "3n5Kjv9p2Hca"
      }
    },
    {
      "cell_type": "code",
      "source": [
        "print(csv_data[\"Age\"])"
      ],
      "metadata": {
        "colab": {
          "base_uri": "https://localhost:8080/"
        },
        "id": "Sbu2xQHF2Lm2",
        "outputId": "166757ef-4cb9-4508-c9e6-456d6ae63eb0"
      },
      "execution_count": 5,
      "outputs": [
        {
          "output_type": "stream",
          "name": "stdout",
          "text": [
            "0      19\n",
            "1      21\n",
            "2      20\n",
            "3      23\n",
            "4      31\n",
            "       ..\n",
            "195    35\n",
            "196    45\n",
            "197    32\n",
            "198    32\n",
            "199    30\n",
            "Name: Age, Length: 200, dtype: int64\n"
          ]
        }
      ]
    },
    {
      "cell_type": "markdown",
      "source": [
        "#### [Melakukan akses data melalui baris](https://academy.dqlab.id/main/livecode/79/142/581?pr=0)"
      ],
      "metadata": {
        "id": "J3eWos1m2kGY"
      }
    },
    {
      "cell_type": "code",
      "source": [
        "print(csv_data.head(9))"
      ],
      "metadata": {
        "colab": {
          "base_uri": "https://localhost:8080/"
        },
        "id": "a_EP9p4922Qr",
        "outputId": "5079a86e-853d-49ef-9354-e3527dfceb7b"
      },
      "execution_count": 7,
      "outputs": [
        {
          "output_type": "stream",
          "name": "stdout",
          "text": [
            "   CustomerID   Genre  Age  Annual Income (k$)  Spending Score (1-100)\n",
            "0           1    Male   19                  15                      39\n",
            "1           2    Male   21                  15                      81\n",
            "2           3  Female   20                  16                       6\n",
            "3           4  Female   23                  16                      77\n",
            "4           5  Female   31                  17                      40\n",
            "5           6  Female   22                  17                      76\n",
            "6           7  Female   35                  18                       6\n",
            "7           8  Female   23                  18                      94\n",
            "8           9    Male   64                  19                       3\n"
          ]
        }
      ]
    },
    {
      "cell_type": "code",
      "source": [
        "# Tugas Praktek\n",
        "\n",
        "print(csv_data.iloc[5])"
      ],
      "metadata": {
        "colab": {
          "base_uri": "https://localhost:8080/"
        },
        "id": "LLjRxBXE2qFX",
        "outputId": "b172728d-9e91-49a8-bae2-74eb44913d08"
      },
      "execution_count": 8,
      "outputs": [
        {
          "output_type": "stream",
          "name": "stdout",
          "text": [
            "CustomerID                     6\n",
            "Genre                     Female\n",
            "Age                           22\n",
            "Annual Income (k$)            17\n",
            "Spending Score (1-100)        76\n",
            "Name: 5, dtype: object\n"
          ]
        }
      ]
    },
    {
      "cell_type": "markdown",
      "source": [
        "#### [Menampilkan suatu data dari baris dan kolom tertentu](https://academy.dqlab.id/main/livecode/79/142/582?pr=0)"
      ],
      "metadata": {
        "id": "h-AOtS8n3DIV"
      }
    },
    {
      "cell_type": "code",
      "source": [
        "print(csv_data[\"Age\"].iloc[1])\n",
        "\n",
        "print(\"Cuplikan Dataset:\")\n",
        "\n",
        "print(csv_data.head())"
      ],
      "metadata": {
        "colab": {
          "base_uri": "https://localhost:8080/"
        },
        "id": "UBr0FV5i3GJh",
        "outputId": "9a90b473-48ed-43e2-a3c3-5e3e81ccabb5"
      },
      "execution_count": 9,
      "outputs": [
        {
          "output_type": "stream",
          "name": "stdout",
          "text": [
            "21\n",
            "Cuplikan Dataset:\n",
            "   CustomerID   Genre  Age  Annual Income (k$)  Spending Score (1-100)\n",
            "0           1    Male   19                  15                      39\n",
            "1           2    Male   21                  15                      81\n",
            "2           3  Female   20                  16                       6\n",
            "3           4  Female   23                  16                      77\n",
            "4           5  Female   31                  17                      40\n"
          ]
        }
      ]
    },
    {
      "cell_type": "markdown",
      "source": [
        "#### [Menampilkan data dalam range tertentu](https://academy.dqlab.id/main/livecode/79/142/583?pr=0)"
      ],
      "metadata": {
        "id": "gCpS_5HV3R7y"
      }
    },
    {
      "cell_type": "code",
      "source": [
        "print(\"Menampilkan data ke 5 sampai kurang dari 10 dalam satu baris:\")\n",
        "\n",
        "print(csv_data.iloc[5:10])"
      ],
      "metadata": {
        "colab": {
          "base_uri": "https://localhost:8080/"
        },
        "id": "CS91vuZ13V0q",
        "outputId": "b52d3c7d-67be-4580-9cdb-e46f31d3418d"
      },
      "execution_count": 10,
      "outputs": [
        {
          "output_type": "stream",
          "name": "stdout",
          "text": [
            "Menampilkan data ke 5 sampai kurang dari 10 dalam satu baris:\n",
            "   CustomerID   Genre  Age  Annual Income (k$)  Spending Score (1-100)\n",
            "5           6  Female   22                  17                      76\n",
            "6           7  Female   35                  18                       6\n",
            "7           8  Female   23                  18                      94\n",
            "8           9    Male   64                  19                       3\n",
            "9          10  Female   30                  19                      72\n"
          ]
        }
      ]
    },
    {
      "cell_type": "markdown",
      "source": [
        "#### [Menampilkan informasi statistik dengan Numpy](https://academy.dqlab.id/main/livecode/79/142/584?pr=0)"
      ],
      "metadata": {
        "id": "vfJ95fVy3cKG"
      }
    },
    {
      "cell_type": "code",
      "source": [
        "print(csv_data.describe(include=\"all\"))"
      ],
      "metadata": {
        "colab": {
          "base_uri": "https://localhost:8080/"
        },
        "id": "YSlATiTH31jC",
        "outputId": "61374e0c-1a01-4d2a-c96c-695a7ac3e301"
      },
      "execution_count": 12,
      "outputs": [
        {
          "output_type": "stream",
          "name": "stdout",
          "text": [
            "        CustomerID   Genre         Age  Annual Income (k$)  \\\n",
            "count   200.000000     200  200.000000          200.000000   \n",
            "unique         NaN       2         NaN                 NaN   \n",
            "top            NaN  Female         NaN                 NaN   \n",
            "freq           NaN     112         NaN                 NaN   \n",
            "mean    100.500000     NaN   38.850000           60.560000   \n",
            "std      57.879185     NaN   13.969007           26.264721   \n",
            "min       1.000000     NaN   18.000000           15.000000   \n",
            "25%      50.750000     NaN   28.750000           41.500000   \n",
            "50%     100.500000     NaN   36.000000           61.500000   \n",
            "75%     150.250000     NaN   49.000000           78.000000   \n",
            "max     200.000000     NaN   70.000000          137.000000   \n",
            "\n",
            "        Spending Score (1-100)  \n",
            "count               200.000000  \n",
            "unique                     NaN  \n",
            "top                        NaN  \n",
            "freq                       NaN  \n",
            "mean                 50.200000  \n",
            "std                  25.823522  \n",
            "min                   1.000000  \n",
            "25%                  34.750000  \n",
            "50%                  50.000000  \n",
            "75%                  73.000000  \n",
            "max                  99.000000  \n"
          ]
        }
      ]
    },
    {
      "cell_type": "markdown",
      "source": [
        "**Note :** Banyak nilai `NaN` yang tampil. Hal itu karena pada dataset ada format data *string* yang akhirnya memunculkan format `NaN`."
      ],
      "metadata": {
        "id": "SyCIsPPL4Si5"
      }
    },
    {
      "cell_type": "code",
      "source": [
        "# Tugas Praktek\n",
        "\n",
        "print(csv_data.describe(exclude=[\"O\"])) # mengabaikan data yang non-numerical untuk diproses"
      ],
      "metadata": {
        "colab": {
          "base_uri": "https://localhost:8080/"
        },
        "id": "HJXibVXx3fb1",
        "outputId": "de152e3f-0213-41b9-aadc-a3f341106e13"
      },
      "execution_count": 11,
      "outputs": [
        {
          "output_type": "stream",
          "name": "stdout",
          "text": [
            "       CustomerID         Age  Annual Income (k$)  Spending Score (1-100)\n",
            "count  200.000000  200.000000          200.000000              200.000000\n",
            "mean   100.500000   38.850000           60.560000               50.200000\n",
            "std     57.879185   13.969007           26.264721               25.823522\n",
            "min      1.000000   18.000000           15.000000                1.000000\n",
            "25%     50.750000   28.750000           41.500000               34.750000\n",
            "50%    100.500000   36.000000           61.500000               50.000000\n",
            "75%    150.250000   49.000000           78.000000               73.000000\n",
            "max    200.000000   70.000000          137.000000               99.000000\n"
          ]
        }
      ]
    },
    {
      "cell_type": "markdown",
      "source": [
        "## Data Missing Hingga Normalisasi Data"
      ],
      "metadata": {
        "id": "0oLRBe2rkxkZ"
      }
    },
    {
      "cell_type": "markdown",
      "source": [
        "#### [Melakukan pengecekan untuk nilai NULL yang ada](https://academy.dqlab.id/main/livecode/79/144/586?pr=0)"
      ],
      "metadata": {
        "id": "R3Acsxss4iRQ"
      }
    },
    {
      "cell_type": "code",
      "source": [
        "print(csv_data.isnull().values.any())"
      ],
      "metadata": {
        "colab": {
          "base_uri": "https://localhost:8080/"
        },
        "id": "flRXqcEq4o85",
        "outputId": "be52181a-9d5c-4e43-95d9-11e9604ff631"
      },
      "execution_count": 14,
      "outputs": [
        {
          "output_type": "stream",
          "name": "stdout",
          "text": [
            "False\n"
          ]
        }
      ]
    },
    {
      "cell_type": "markdown",
      "source": [
        "**Note :** data yang digunakan merupakan data yang lengkap, maka dari itu *output* yang dihasilkan `False`."
      ],
      "metadata": {
        "id": "7XMdrz2X487v"
      }
    },
    {
      "cell_type": "code",
      "source": [
        "import pandas as pd\n",
        "\n",
        "data_miss = pd.read_csv(\"/content/drive/MyDrive/AL. Lab/Sanca/Datasets/shopping_data_missingvalue.csv\")\n",
        "\n",
        "print(data_miss.isnull().values.any())"
      ],
      "metadata": {
        "colab": {
          "base_uri": "https://localhost:8080/"
        },
        "id": "a79zSbzK5DES",
        "outputId": "84477a96-d710-43a1-e6ce-7d54147d82c4"
      },
      "execution_count": 15,
      "outputs": [
        {
          "output_type": "stream",
          "name": "stdout",
          "text": [
            "True\n"
          ]
        }
      ]
    },
    {
      "cell_type": "markdown",
      "source": [
        "#### [Mengisi dengan Mean](https://academy.dqlab.id/main/livecode/79/144/588?pr=0)"
      ],
      "metadata": {
        "id": "T0GmmXjR5kpF"
      }
    },
    {
      "cell_type": "code",
      "source": [
        "print(data_miss.mean())\n",
        "\n",
        "print(\"Dataset yang masih terdapat nilai kosong ! :\")\n",
        "print(data_miss.head(10))\n",
        "\n",
        "data_miss = data_miss.fillna(data_miss.mean())\n",
        "\n",
        "print(\"Dataset yang sudah diproses Handling Missing Values dengan Mean :\")\n",
        "print(data_miss.head(10))"
      ],
      "metadata": {
        "colab": {
          "base_uri": "https://localhost:8080/"
        },
        "id": "pKHjkK835p09",
        "outputId": "c4e97a03-80b4-47ef-ab13-7c3f6e1f890c"
      },
      "execution_count": 16,
      "outputs": [
        {
          "output_type": "stream",
          "name": "stdout",
          "text": [
            "CustomerID                100.500000\n",
            "Age                        38.939698\n",
            "Annual Income (k$)         61.005051\n",
            "Spending Score (1-100)     50.489899\n",
            "dtype: float64\n",
            "Dataset yang masih terdapat nilai kosong ! :\n",
            "   CustomerID   Genre   Age  Annual Income (k$)  Spending Score (1-100)\n",
            "0           1    Male  19.0                15.0                    39.0\n",
            "1           2    Male   NaN                15.0                    81.0\n",
            "2           3  Female  20.0                 NaN                     6.0\n",
            "3           4  Female  23.0                16.0                    77.0\n",
            "4           5  Female  31.0                17.0                     NaN\n",
            "5           6  Female  22.0                 NaN                    76.0\n",
            "6           7  Female  35.0                18.0                     6.0\n",
            "7           8  Female  23.0                18.0                    94.0\n",
            "8           9    Male  64.0                19.0                     NaN\n",
            "9          10  Female  30.0                19.0                    72.0\n",
            "Dataset yang sudah diproses Handling Missing Values dengan Mean :\n",
            "   CustomerID   Genre        Age  Annual Income (k$)  Spending Score (1-100)\n",
            "0           1    Male  19.000000           15.000000               39.000000\n",
            "1           2    Male  38.939698           15.000000               81.000000\n",
            "2           3  Female  20.000000           61.005051                6.000000\n",
            "3           4  Female  23.000000           16.000000               77.000000\n",
            "4           5  Female  31.000000           17.000000               50.489899\n",
            "5           6  Female  22.000000           61.005051               76.000000\n",
            "6           7  Female  35.000000           18.000000                6.000000\n",
            "7           8  Female  23.000000           18.000000               94.000000\n",
            "8           9    Male  64.000000           19.000000               50.489899\n",
            "9          10  Female  30.000000           19.000000               72.000000\n"
          ]
        },
        {
          "output_type": "stream",
          "name": "stderr",
          "text": [
            "/usr/local/lib/python3.7/dist-packages/ipykernel_launcher.py:1: FutureWarning: Dropping of nuisance columns in DataFrame reductions (with 'numeric_only=None') is deprecated; in a future version this will raise TypeError.  Select only valid columns before calling the reduction.\n",
            "  \"\"\"Entry point for launching an IPython kernel.\n",
            "/usr/local/lib/python3.7/dist-packages/ipykernel_launcher.py:6: FutureWarning: Dropping of nuisance columns in DataFrame reductions (with 'numeric_only=None') is deprecated; in a future version this will raise TypeError.  Select only valid columns before calling the reduction.\n",
            "  \n"
          ]
        }
      ]
    },
    {
      "cell_type": "markdown",
      "source": [
        "#### [Mengisi dengan Median](https://academy.dqlab.id/main/livecode/79/144/589?pr=0)"
      ],
      "metadata": {
        "id": "qvn4lkgl6PT5"
      }
    },
    {
      "cell_type": "code",
      "source": [
        "data_miss1 = pd.read_csv(\"/content/drive/MyDrive/AL. Lab/Sanca/Datasets/shopping_data_missingvalue.csv\")\n"
      ],
      "metadata": {
        "id": "9yPiuJ3g6mB0"
      },
      "execution_count": 18,
      "outputs": []
    },
    {
      "cell_type": "code",
      "source": [
        "print(\"Dataset yang masih terdapat nilai kosong ! :\")\n",
        "print(data_miss1.head(10))\n",
        "\n",
        "data_miss1 = data_miss1.fillna(data_miss.median())\n",
        "\n",
        "print(\"Dataset yang sudah diproses Handling Missing Values dengan Median :\")\n",
        "print(data_miss1.head(10))\t"
      ],
      "metadata": {
        "colab": {
          "base_uri": "https://localhost:8080/"
        },
        "id": "CCw3a6fa6TZ-",
        "outputId": "6f9b0d66-ccb6-4902-bbde-cde5cb0e0549"
      },
      "execution_count": 19,
      "outputs": [
        {
          "output_type": "stream",
          "name": "stdout",
          "text": [
            "Dataset yang masih terdapat nilai kosong ! :\n",
            "   CustomerID   Genre   Age  Annual Income (k$)  Spending Score (1-100)\n",
            "0           1    Male  19.0                15.0                    39.0\n",
            "1           2    Male   NaN                15.0                    81.0\n",
            "2           3  Female  20.0                 NaN                     6.0\n",
            "3           4  Female  23.0                16.0                    77.0\n",
            "4           5  Female  31.0                17.0                     NaN\n",
            "5           6  Female  22.0                 NaN                    76.0\n",
            "6           7  Female  35.0                18.0                     6.0\n",
            "7           8  Female  23.0                18.0                    94.0\n",
            "8           9    Male  64.0                19.0                     NaN\n",
            "9          10  Female  30.0                19.0                    72.0\n",
            "Dataset yang sudah diproses Handling Missing Values dengan Median :\n",
            "   CustomerID   Genre   Age  Annual Income (k$)  Spending Score (1-100)\n",
            "0           1    Male  19.0           15.000000                    39.0\n",
            "1           2    Male  36.0           15.000000                    81.0\n",
            "2           3  Female  20.0           61.502525                     6.0\n",
            "3           4  Female  23.0           16.000000                    77.0\n",
            "4           5  Female  31.0           17.000000                    50.0\n",
            "5           6  Female  22.0           61.502525                    76.0\n",
            "6           7  Female  35.0           18.000000                     6.0\n",
            "7           8  Female  23.0           18.000000                    94.0\n",
            "8           9    Male  64.0           19.000000                    50.0\n",
            "9          10  Female  30.0           19.000000                    72.0\n"
          ]
        },
        {
          "output_type": "stream",
          "name": "stderr",
          "text": [
            "/usr/local/lib/python3.7/dist-packages/ipykernel_launcher.py:4: FutureWarning: Dropping of nuisance columns in DataFrame reductions (with 'numeric_only=None') is deprecated; in a future version this will raise TypeError.  Select only valid columns before calling the reduction.\n",
            "  after removing the cwd from sys.path.\n"
          ]
        }
      ]
    },
    {
      "cell_type": "markdown",
      "source": [
        "#### [Praktek Normalisasi menggunakan Scikit Learn pada Python](https://academy.dqlab.id/main/livecode/79/144/593?pr=0)"
      ],
      "metadata": {
        "id": "Te-UgTtw7Bh1"
      }
    },
    {
      "cell_type": "code",
      "source": [
        "from sklearn import preprocessing\n",
        "\n",
        "data = pd.read_csv(\"/content/drive/MyDrive/AL. Lab/Sanca/Datasets/shopping_data.csv\")\n",
        "array = data.values\n",
        "\n",
        "X = array[:,2:5] #memisahkan fitur dari dataset. \n",
        "Y = array[:,0:1]  #memisahkan class dari dataset\n",
        "\n",
        "dataset=pd.DataFrame({\"Customer ID\":array[:,0],\"Gender\":array[:,1],\"Age\":array[:,2],\"Income\":array[:,3],\"Spending Score\":array[:,4]})\n",
        "print(\"dataset sebelum dinormalisasi :\")\n",
        "print(dataset.head(10))\n",
        "\n",
        "min_max_scaler = preprocessing.MinMaxScaler(feature_range=(0,1)) #inisialisasi normalisasi MinMax\n",
        "data = min_max_scaler.fit_transform(X) #transformasi MinMax untuk fitur\n",
        "dataset = pd.DataFrame({\"Age\":data[:,0],\"Income\":data[:,1],\"Spending Score\":data[:,2],\"Customer ID\":array[:,0],\"Gender\":array[:,1]})\n",
        "\n",
        "print(\"dataset setelah dinormalisasi :\")\n",
        "print(dataset.head(10))"
      ],
      "metadata": {
        "colab": {
          "base_uri": "https://localhost:8080/"
        },
        "id": "h5DsUK7r7FrX",
        "outputId": "110dc94b-afd3-480c-8248-788b1f5f6f03"
      },
      "execution_count": 20,
      "outputs": [
        {
          "output_type": "stream",
          "name": "stdout",
          "text": [
            "dataset sebelum dinormalisasi :\n",
            "  Customer ID  Gender Age Income Spending Score\n",
            "0           1    Male  19     15             39\n",
            "1           2    Male  21     15             81\n",
            "2           3  Female  20     16              6\n",
            "3           4  Female  23     16             77\n",
            "4           5  Female  31     17             40\n",
            "5           6  Female  22     17             76\n",
            "6           7  Female  35     18              6\n",
            "7           8  Female  23     18             94\n",
            "8           9    Male  64     19              3\n",
            "9          10  Female  30     19             72\n",
            "dataset setelah dinormalisasi :\n",
            "        Age    Income  Spending Score Customer ID  Gender\n",
            "0  0.019231  0.000000        0.387755           1    Male\n",
            "1  0.057692  0.000000        0.816327           2    Male\n",
            "2  0.038462  0.008197        0.051020           3  Female\n",
            "3  0.096154  0.008197        0.775510           4  Female\n",
            "4  0.250000  0.016393        0.397959           5  Female\n",
            "5  0.076923  0.016393        0.765306           6  Female\n",
            "6  0.326923  0.024590        0.051020           7  Female\n",
            "7  0.096154  0.024590        0.948980           8  Female\n",
            "8  0.884615  0.032787        0.020408           9    Male\n",
            "9  0.230769  0.032787        0.724490          10  Female\n"
          ]
        }
      ]
    }
  ]
}