{
  "nbformat": 4,
  "nbformat_minor": 0,
  "metadata": {
    "colab": {
      "name": "Python for Data Professional Beginner - Part 2.ipynb",
      "provenance": []
    },
    "kernelspec": {
      "name": "python3",
      "display_name": "Python 3"
    },
    "language_info": {
      "name": "python"
    }
  },
  "cells": [
    {
      "cell_type": "markdown",
      "source": [
        "## Collection Manipulation dengan Python"
      ],
      "metadata": {
        "id": "LIfOXW-BMd2L"
      }
    },
    {
      "cell_type": "markdown",
      "source": [
        "#### [Mengakses List dan Tuple – Part 1](https://academy.dqlab.id/main/livecode/160/296/1315?pr=0)"
      ],
      "metadata": {
        "id": "oF5g7pOHSF3c"
      }
    },
    {
      "cell_type": "code",
      "source": [
        "bulan_pembelian = ('Januari', 'Februari', 'Maret', 'April', 'Mei', 'Juni', 'Juli', 'Agustus', 'September', 'Oktober', 'November', 'Desember')\n",
        "\n",
        "print(bulan_pembelian[0])\n",
        "print(bulan_pembelian[5])\n",
        "print(bulan_pembelian[-1])\n",
        "print(bulan_pembelian[-2])"
      ],
      "metadata": {
        "colab": {
          "base_uri": "https://localhost:8080/"
        },
        "id": "ESb0FJYvSLNV",
        "outputId": "195f0511-1e96-4a86-b050-58813331e623"
      },
      "execution_count": 1,
      "outputs": [
        {
          "output_type": "stream",
          "name": "stdout",
          "text": [
            "Januari\n",
            "Juni\n",
            "Desember\n",
            "November\n"
          ]
        }
      ]
    },
    {
      "cell_type": "markdown",
      "source": [
        "#### [Mengakses List dan Tuple – Part 2](https://academy.dqlab.id/main/livecode/160/296/1316?pr=0)"
      ],
      "metadata": {
        "id": "CBbAJny9SRC1"
      }
    },
    {
      "cell_type": "code",
      "source": [
        "bulan_pembelian = ('Januari', 'Februari', 'Maret', 'April', 'Mei', 'Juni', 'Juli', 'Agustus', 'September', 'Oktober', 'November', 'Desember')\n",
        "\n",
        "pertengahan_tahun = bulan_pembelian[4:8]\n",
        "print(pertengahan_tahun)\n",
        "\n",
        "awal_tahun = bulan_pembelian[:5]\n",
        "print(awal_tahun)\n",
        "\n",
        "akhir_tahun = bulan_pembelian[8:]\n",
        "print(akhir_tahun)\n",
        "\n",
        "print(bulan_pembelian[-4:-1])"
      ],
      "metadata": {
        "colab": {
          "base_uri": "https://localhost:8080/"
        },
        "id": "tQuHDmeqSUhE",
        "outputId": "9ddba699-b4b3-49c4-951b-6505ee9d7fa8"
      },
      "execution_count": 2,
      "outputs": [
        {
          "output_type": "stream",
          "name": "stdout",
          "text": [
            "('Mei', 'Juni', 'Juli', 'Agustus')\n",
            "('Januari', 'Februari', 'Maret', 'April', 'Mei')\n",
            "('September', 'Oktober', 'November', 'Desember')\n",
            "('September', 'Oktober', 'November')\n"
          ]
        }
      ]
    },
    {
      "cell_type": "markdown",
      "source": [
        "#### [Penggabungan Dua atau Lebih List atau Tuple](https://academy.dqlab.id/main/livecode/160/296/1317?pr=0)"
      ],
      "metadata": {
        "id": "m6X0EGrISZ0r"
      }
    },
    {
      "cell_type": "code",
      "source": [
        "list_makanan = ['Gado-gado', 'Ayam Goreng', 'Rendang']\n",
        "list_minuman = ['Es Teh', 'Es Jeruk', 'Es Campur']\n",
        "\n",
        "list_menu = list_makanan + list_minuman\n",
        "\n",
        "print(list_menu)"
      ],
      "metadata": {
        "colab": {
          "base_uri": "https://localhost:8080/"
        },
        "id": "-7wXc-w7Sgwv",
        "outputId": "6100bb7a-c360-48c9-8e87-c0b92b6d8db8"
      },
      "execution_count": 3,
      "outputs": [
        {
          "output_type": "stream",
          "name": "stdout",
          "text": [
            "['Gado-gado', 'Ayam Goreng', 'Rendang', 'Es Teh', 'Es Jeruk', 'Es Campur']\n"
          ]
        }
      ]
    },
    {
      "cell_type": "markdown",
      "source": [
        "#### [List Manipulation – Part 1](https://academy.dqlab.id/main/livecode/160/296/1319?pr=0)"
      ],
      "metadata": {
        "id": "BGtZWpdtS9ow"
      }
    },
    {
      "cell_type": "code",
      "source": [
        "# Fitur .append()\n",
        "print(\">>> Fitur .append()\")\n",
        "\n",
        "list_makanan = ['Gado-gado', 'Ayam Goreng', 'Rendang']\n",
        "list_makanan.append('Ketoprak')\n",
        "\n",
        "print(list_makanan)\n",
        "\n",
        "\n",
        "# Fitur .clear()\n",
        "print(\">>> Fitur .clear()\")\n",
        "\n",
        "list_makanan = ['Gado-gado', 'Ayam Goreng', 'Rendang']\n",
        "list_makanan.clear()\n",
        "\n",
        "print(list_makanan)\n",
        "\n",
        "\n",
        "# Fitur .copy()\n",
        "print(\">>> Fitur .copy()\")\n",
        "\n",
        "list_makanan1 = ['Gado-gado', 'Ayam Goreng', 'Rendang']\n",
        "list_makanan2 = list_makanan1.copy()\n",
        "list_makanan3 = list_makanan1\n",
        "list_makanan2.append('Opor')\n",
        "list_makanan3.append('Ketoprak')\n",
        "\n",
        "print(list_makanan1)\n",
        "print(list_makanan2)\n",
        "\n",
        "\n",
        "# Fitur .count()\n",
        "print(\">>> Fitur .count()\")\n",
        "\n",
        "list_score = ['Budi', 'Sud', 'Budi', 'Budi', 'Budi', 'Sud', 'Sud']\n",
        "score_budi = list_score.count('Budi')\n",
        "score_sud = list_score.count('Sud')\n",
        "\n",
        "print(score_budi) # akan menampilkan output 4\n",
        "print(score_sud) # akan menampilkan output 3\n",
        "\n",
        "\n",
        "# Fitur .extend()\n",
        "print(\">>> Fitur .extend()\")\n",
        "\n",
        "list_menu = ['Gado-gado', 'Ayam Goreng', 'Rendang']\n",
        "list_minuman = ['Es Teh', 'Es Jeruk', 'Es Campur']\n",
        "list_menu.extend(list_minuman)\n",
        "\n",
        "print(list_menu)"
      ],
      "metadata": {
        "colab": {
          "base_uri": "https://localhost:8080/"
        },
        "id": "X2NfaUZuTBYL",
        "outputId": "c82b05b1-4c83-416c-baa7-5fd70941faa9"
      },
      "execution_count": 4,
      "outputs": [
        {
          "output_type": "stream",
          "name": "stdout",
          "text": [
            ">>> Fitur .append()\n",
            "['Gado-gado', 'Ayam Goreng', 'Rendang', 'Ketoprak']\n",
            ">>> Fitur .clear()\n",
            "[]\n",
            ">>> Fitur .copy()\n",
            "['Gado-gado', 'Ayam Goreng', 'Rendang', 'Ketoprak']\n",
            "['Gado-gado', 'Ayam Goreng', 'Rendang', 'Opor']\n",
            ">>> Fitur .count()\n",
            "4\n",
            "3\n",
            ">>> Fitur .extend()\n",
            "['Gado-gado', 'Ayam Goreng', 'Rendang', 'Es Teh', 'Es Jeruk', 'Es Campur']\n"
          ]
        }
      ]
    },
    {
      "cell_type": "markdown",
      "source": [
        "#### [List Manipulation – Part 2](https://academy.dqlab.id/main/livecode/160/296/1320?pr=0)"
      ],
      "metadata": {
        "id": "qjPp7r-ZTXpb"
      }
    },
    {
      "cell_type": "code",
      "source": [
        "# Fitur .index()\n",
        "print(\">>> Fitur .index()\")\n",
        "\n",
        "list_score = ['Budi','Sud','Budi','Budi','Budi','Sud','Sud']\n",
        "score_pertama_sud = list_score.index('Sud') + 1\n",
        "\n",
        "print(score_pertama_sud) # akan menampilkan output 2\n",
        "\n",
        "\n",
        "# Fitur .insert()\n",
        "print(\">>> Fitur .insert()\")\n",
        "\n",
        "list_score = ['Budi','Sud','Budi','Budi','Sud']\n",
        "list_score.insert(3, 'Sud')\n",
        "\n",
        "print(list_score)\n",
        "\n",
        "\n",
        "# Fitur .pop()\n",
        "print(\">>> Fitur .pop()\")\n",
        "\n",
        "list_menu = ['Gado-gado', 'Ayam Goreng', 'Rendang']\n",
        "list_menu.pop(1)\n",
        "\n",
        "print(list_menu)\n",
        "\n",
        "\n",
        "# Fitur .remove()\n",
        "print(\">>> Fitur .remove()\")\n",
        "\n",
        "list_menu = ['Gado-gado', 'Ayam Goreng', 'Rendang', 'Ketoprak']\n",
        "list_menu.remove('Rendang')\n",
        "\n",
        "print(list_menu)\n",
        "\n",
        "\n",
        "# Fitur .reverse()\n",
        "print(\">>> Fitur .reverse()\")\n",
        "\n",
        "list_menu = ['Gado-gado', 'Ayam Goreng', 'Rendang', 'Ketoprak']\n",
        "list_menu.reverse()\n",
        "\n",
        "print(list_menu)\n",
        "\n",
        "\n",
        "# Fitur .sort()\n",
        "print(\">>> Fitur .sort()\")\n",
        "\n",
        "list_menu = ['Gado-gado', 'Ayam Goreng', 'Rendang', 'Ketoprak']\n",
        "list_menu.sort() # Default: Ascending\n",
        "\n",
        "print(list_menu) \n",
        "\n",
        "list_menu.sort(reverse=True)# Descending\n",
        "\n",
        "print(list_menu)"
      ],
      "metadata": {
        "colab": {
          "base_uri": "https://localhost:8080/"
        },
        "id": "Kfo-RCifTdni",
        "outputId": "06fae9c0-b31d-470d-81ae-2dcb923e6d16"
      },
      "execution_count": 5,
      "outputs": [
        {
          "output_type": "stream",
          "name": "stdout",
          "text": [
            ">>> Fitur .index()\n",
            "2\n",
            ">>> Fitur .insert()\n",
            "['Budi', 'Sud', 'Budi', 'Sud', 'Budi', 'Sud']\n",
            ">>> Fitur .pop()\n",
            "['Gado-gado', 'Rendang']\n",
            ">>> Fitur .remove()\n",
            "['Gado-gado', 'Ayam Goreng', 'Ketoprak']\n",
            ">>> Fitur .reverse()\n",
            "['Ketoprak', 'Rendang', 'Ayam Goreng', 'Gado-gado']\n",
            ">>> Fitur .sort()\n",
            "['Ayam Goreng', 'Gado-gado', 'Ketoprak', 'Rendang']\n",
            "['Rendang', 'Ketoprak', 'Gado-gado', 'Ayam Goreng']\n"
          ]
        }
      ]
    },
    {
      "cell_type": "markdown",
      "source": [
        "#### [Tuple Manipulation](https://academy.dqlab.id/main/livecode/160/296/1321?pr=0)"
      ],
      "metadata": {
        "id": "H1iXe8C0Ttfw"
      }
    },
    {
      "cell_type": "code",
      "source": [
        "# Fitur .count()\n",
        "print(\">>> Fitur .count()\")\n",
        "\n",
        "tuple_score = ('Budi', 'Sud', 'Budi', 'Budi', 'Budi', 'Sud', 'Sud')\n",
        "score_budi = tuple_score.count('Budi')\n",
        "score_sud = tuple_score.count('Sud')\n",
        "\n",
        "print(score_budi) # akan menampilkan output 4\n",
        "print(score_sud) # akan menampilkan output 3\n",
        "\n",
        "\n",
        "# Fitur .index()\n",
        "print(\">>> Fitur .index()\")\n",
        "\n",
        "tuple_score = ('Budi','Sud','Budi','Budi','Budi','Sud','Sud')\n",
        "score_pertama_sud = tuple_score.index('Sud')+1\n",
        "\n",
        "print(score_pertama_sud) # akan menampilkan output 2"
      ],
      "metadata": {
        "colab": {
          "base_uri": "https://localhost:8080/"
        },
        "id": "EEg8m-CDTwgY",
        "outputId": "d4b6263d-7c8f-4631-f8ca-fd9cb74399a4"
      },
      "execution_count": 6,
      "outputs": [
        {
          "output_type": "stream",
          "name": "stdout",
          "text": [
            ">>> Fitur .count()\n",
            "4\n",
            "3\n",
            ">>> Fitur .index()\n",
            "2\n"
          ]
        }
      ]
    },
    {
      "cell_type": "markdown",
      "source": [
        "#### [Set Manipulation – Part 1](https://academy.dqlab.id/main/livecode/160/296/1323?pr=0)"
      ],
      "metadata": {
        "id": "qaqCd_EMT6hP"
      }
    },
    {
      "cell_type": "code",
      "source": [
        "# Fitur .add()\n",
        "print(\">>> Fitur .add()\")\n",
        "\n",
        "set_buah = {'Jeruk','Apel','Anggur'}\n",
        "set_buah.add('Melon')\n",
        "\n",
        "print(set_buah)\n",
        "\n",
        "\n",
        "# Fitur .clear()\n",
        "print(\">>> Fitur .clear()\")\n",
        "\n",
        "set_buah = {'Jeruk','Apel','Anggur'}\n",
        "set_buah.clear()\n",
        "\n",
        "print(set_buah)\n",
        "\n",
        "\n",
        "# Fitur .copy()\n",
        "print(\">>> Fitur .copy()\")\n",
        "\n",
        "set_buah1 = {'Jeruk','Apel','Anggur'}\n",
        "set_buah2 = set_buah1\n",
        "set_buah3 = set_buah1.copy()\n",
        "set_buah2.add('Melon')\n",
        "set_buah3.add('Kiwi')\n",
        "\n",
        "print(set_buah1)\n",
        "print(set_buah2)\n",
        "\n",
        "\n",
        "# Fitur .update()\n",
        "print(\">>> Fitur .update()\")\n",
        "\n",
        "parcel1 = {'Anggur','Apel','Jeruk'}\n",
        "parcel2 = {'Apel','Kiwi','Melon'}\n",
        "parcel1.update(parcel2)\n",
        "\n",
        "print(parcel1)\n",
        "\n",
        "\n",
        "# Fitur .pop()\n",
        "print(\">>> Fitur .pop()\")\n",
        "\n",
        "parcel = {'Anggur','Apel','Jeruk'}\n",
        "buah = parcel.pop()\n",
        "\n",
        "print(buah)\n",
        "print(parcel)\n",
        "\n",
        "\n",
        "# Fitur .remove()\n",
        "print(\">>> Fitur .remove()\")\n",
        "\n",
        "parcel = {'Anggur','Apel','Jeruk'}\n",
        "parcel.remove('Apel')\n",
        "\n",
        "print(parcel)"
      ],
      "metadata": {
        "colab": {
          "base_uri": "https://localhost:8080/"
        },
        "id": "7YMH5StbT-LW",
        "outputId": "4dbe5b2f-6df2-4196-8e46-93650dc9f8b4"
      },
      "execution_count": 7,
      "outputs": [
        {
          "output_type": "stream",
          "name": "stdout",
          "text": [
            ">>> Fitur .add()\n",
            "{'Apel', 'Anggur', 'Jeruk', 'Melon'}\n",
            ">>> Fitur .clear()\n",
            "set()\n",
            ">>> Fitur .copy()\n",
            "{'Apel', 'Anggur', 'Jeruk', 'Melon'}\n",
            "{'Apel', 'Anggur', 'Jeruk', 'Melon'}\n",
            ">>> Fitur .update()\n",
            "{'Anggur', 'Jeruk', 'Melon', 'Kiwi', 'Apel'}\n",
            ">>> Fitur .pop()\n",
            "Jeruk\n",
            "{'Anggur', 'Apel'}\n",
            ">>> Fitur .remove()\n",
            "{'Jeruk', 'Anggur'}\n"
          ]
        }
      ]
    },
    {
      "cell_type": "markdown",
      "source": [
        "#### [Set Manipulation – Part 2](https://academy.dqlab.id/main/livecode/160/296/1324?pr=0)"
      ],
      "metadata": {
        "id": "pXlSGxpZUJv0"
      }
    },
    {
      "cell_type": "code",
      "source": [
        "# Fitur .union()\n",
        "print(\">>> Fitur .union()\")\n",
        "\n",
        "parcel1 = {'Anggur','Apel','Jeruk'}\n",
        "parcel2 = {'Apel','Kiwi','Melon'}\n",
        "\n",
        "parcel3 = parcel1.union(parcel2)\n",
        "\n",
        "print(parcel1)\n",
        "print(parcel3)\n",
        "\n",
        "\n",
        "# Fitur .isdisjoint()\n",
        "print(\">>> Fitur .isdisjoint()\")\n",
        "\n",
        "parcel1 = {'Anggur','Apel','Jeruk'}\n",
        "parcel2 = {'Kiwi','Melon','Pisang'}\n",
        "parcel3 = {'Apel','Srikaya','Semangka'}\n",
        "\n",
        "parcel1_parcel2_disjoint = parcel1.isdisjoint(parcel2)\n",
        "\n",
        "print(parcel1_parcel2_disjoint)\n",
        "\n",
        "parcel1_parcel3_disjoint = parcel1.isdisjoint(parcel3)\n",
        "\n",
        "print(parcel1_parcel3_disjoint)\n",
        "\n",
        "\n",
        "# Fitur .issubset()\n",
        "print(\">>> Fitur .issubset()\")\n",
        "\n",
        "parcel_A = {'Anggur', 'Apel'}\n",
        "parcel_B = {'Durian','Semangka','Apel'}\n",
        "parcel_C = {'Anggur', 'Kiwi', 'Apel', 'Jeruk', 'Melon'}\n",
        "\n",
        "parcel_A_dalam_C = parcel_A.issubset(parcel_C)\n",
        "parcel_B_dalam_C = parcel_B.issubset(parcel_C)\n",
        "\n",
        "print(parcel_A_dalam_C)\n",
        "print(parcel_B_dalam_C)\n",
        "\n",
        "\n",
        "# Fitur .issuperset()\n",
        "print(\">>> Fitur .issuperset()\")\n",
        "\n",
        "parcel_C_mengandung_A = parcel_C.issuperset(parcel_A)\n",
        "parcel_C_mengandung_B = parcel_C.issuperset(parcel_B)\n",
        "\n",
        "print(parcel_C_mengandung_A)\n",
        "print(parcel_C_mengandung_B)\n",
        "\n",
        "\n",
        "# Fitur .intersection()\n",
        "print(\">>> Fitur .intersection()\")\n",
        "\n",
        "parcel_A = {'Anggur', 'Kiwi', 'Apel', 'Jeruk', 'Melon'}\n",
        "parcel_B = {'Apel', 'Jeruk', 'Semangka', 'Durian', 'Tomat'}\n",
        "\n",
        "parcel_C = parcel_A.intersection(parcel_B)\n",
        "\n",
        "print(parcel_C)\n",
        "\n",
        "\n",
        "# Fitur .difference()\n",
        "print(\">>> Fitur .difference()\")\n",
        "\n",
        "parcel_C = parcel_A.difference(parcel_B)\n",
        "\n",
        "print(parcel_C)\n",
        "\n",
        "\n",
        "# Fitur .symmetric_difference()\n",
        "print(\">>> Fitur .symmetric_difference()\")\n",
        "\n",
        "parcel_A = {'Anggur', 'Apel', 'Jeruk', 'Melon'}\n",
        "parcel_B = {'Apel','Jeruk','Semangka','Leci'}\n",
        "\n",
        "parcel_C = parcel_A.symmetric_difference(parcel_B)\n",
        "\n",
        "print(parcel_C)"
      ],
      "metadata": {
        "colab": {
          "base_uri": "https://localhost:8080/"
        },
        "id": "c6Ry0wzEUN7N",
        "outputId": "74bfc337-c418-45ea-8c59-ec34fb3346cb"
      },
      "execution_count": 8,
      "outputs": [
        {
          "output_type": "stream",
          "name": "stdout",
          "text": [
            ">>> Fitur .union()\n",
            "{'Jeruk', 'Anggur', 'Apel'}\n",
            "{'Anggur', 'Jeruk', 'Melon', 'Kiwi', 'Apel'}\n",
            ">>> Fitur .isdisjoint()\n",
            "True\n",
            "False\n",
            ">>> Fitur .issubset()\n",
            "True\n",
            "False\n",
            ">>> Fitur .issuperset()\n",
            "True\n",
            "False\n",
            ">>> Fitur .intersection()\n",
            "{'Apel', 'Jeruk'}\n",
            ">>> Fitur .difference()\n",
            "{'Anggur', 'Kiwi', 'Melon'}\n",
            ">>> Fitur .symmetric_difference()\n",
            "{'Anggur', 'Semangka', 'Melon', 'Leci'}\n"
          ]
        }
      ]
    },
    {
      "cell_type": "markdown",
      "source": [
        "#### [Dictionary Manipulation](https://academy.dqlab.id/main/livecode/160/296/1326?pr=0)"
      ],
      "metadata": {
        "id": "SqfaAOD9Uonm"
      }
    },
    {
      "cell_type": "code",
      "source": [
        "# Fitur .clear()\n",
        "print(\">>> Fitur .clear()\")\n",
        "\n",
        "info_karyawan = {'nama' : 'Aksara',\n",
        "                 'nik' : '1211011',\n",
        "                 'pekerjaan' : 'Data Analyst'}\n",
        "\n",
        "info_karyawan.clear()\n",
        "\n",
        "print(info_karyawan)\n",
        "\n",
        "\n",
        "# Fitur .copy()\n",
        "print(\">>> Fitur .copy()\")\n",
        "\n",
        "info_karyawan1 = {'nama' : 'Aksara',\n",
        "                  'nik' : '1211011',\n",
        "                  'pekerjaan' : 'Data Analyst'}\n",
        "\n",
        "info_karyawan2 = info_karyawan1.copy()\n",
        "\n",
        "info_karyawan2['nama'] = 'Senja'\n",
        "info_karyawan2['nik'] = '1211056'\n",
        "\n",
        "print(info_karyawan1)\n",
        "print(info_karyawan2)\n",
        "\n",
        "\n",
        "# Fitur .keys()\n",
        "print(\">>> Fitur .keys()\")\n",
        "\n",
        "info_karyawan = {'nama' : 'Aksara',\n",
        "                 'nik' : '1211011',\n",
        "                 'pekerjaan' : 'Data Analyst'}\n",
        "\n",
        "kunci_akses = list(info_karyawan.keys())\n",
        "\n",
        "print(kunci_akses)\n",
        "\n",
        "\n",
        "# Fitur .values()\n",
        "print(\">>> Fitur .values()\")\n",
        "\n",
        "value_dict = list(info_karyawan.values())\n",
        "\n",
        "print(value_dict)\n",
        "\n",
        "\n",
        "# Fitur .update()\n",
        "print(\">>> Fitur .update()\")\n",
        "\n",
        "info_karyawan.update({'skillset':['Python', 'R']})\n",
        "\n",
        "print(info_karyawan)"
      ],
      "metadata": {
        "colab": {
          "base_uri": "https://localhost:8080/"
        },
        "id": "_UOXQc9RUwM1",
        "outputId": "c586c4dc-d20a-4592-d44f-2502c2d3ac53"
      },
      "execution_count": 9,
      "outputs": [
        {
          "output_type": "stream",
          "name": "stdout",
          "text": [
            ">>> Fitur .clear()\n",
            "{}\n",
            ">>> Fitur .copy()\n",
            "{'nama': 'Aksara', 'nik': '1211011', 'pekerjaan': 'Data Analyst'}\n",
            "{'nama': 'Senja', 'nik': '1211056', 'pekerjaan': 'Data Analyst'}\n",
            ">>> Fitur .keys()\n",
            "['nama', 'nik', 'pekerjaan']\n",
            ">>> Fitur .values()\n",
            "['Aksara', '1211011', 'Data Analyst']\n",
            ">>> Fitur .update()\n",
            "{'nama': 'Aksara', 'nik': '1211011', 'pekerjaan': 'Data Analyst', 'skillset': ['Python', 'R']}\n"
          ]
        }
      ]
    },
    {
      "cell_type": "markdown",
      "source": [
        "#### [Useful Tips and Tricks](https://academy.dqlab.id/main/livecode/160/296/1327?pr=0)"
      ],
      "metadata": {
        "id": "hBgdP2uBU8Oq"
      }
    },
    {
      "cell_type": "code",
      "source": [
        "# Tuple\n",
        "print(\">>> Tuple\")\n",
        "\n",
        "tuple_menu = ('Gado-gado','Ayam Goreng','Rendang','Ketoprak')\n",
        "\n",
        "jumlah_menu = len(tuple_menu)\n",
        "\n",
        "print(jumlah_menu)\n",
        "\n",
        "\n",
        "# List\n",
        "print(\">>> List\")\n",
        "\n",
        "list_menu = ['Gado-gado','Ayam Goreng','Rendang','Ketoprak']\n",
        "\n",
        "jumlah_menu = len(list_menu)\n",
        "\n",
        "print(jumlah_menu)\n",
        "\n",
        "\n",
        "# Konversi tipe data\n",
        "print(\">>> Konversi tipe data\")\n",
        "\n",
        "list_buah = ['Apel', 'Apel', 'Jeruk', 'Markisa', 'Jeruk', 'Markisa', 'Apel']\n",
        "\n",
        "set_buah = set(list_buah)\n",
        "\n",
        "print(set_buah)\n",
        "\n",
        "list_buah = list(set_buah)\n",
        "list_buah.sort()\n",
        "\n",
        "print(list_buah)"
      ],
      "metadata": {
        "colab": {
          "base_uri": "https://localhost:8080/"
        },
        "id": "Q2BhUQj8U_yb",
        "outputId": "457cec28-c370-456b-8f61-031f5c8f0088"
      },
      "execution_count": 10,
      "outputs": [
        {
          "output_type": "stream",
          "name": "stdout",
          "text": [
            ">>> Tuple\n",
            "4\n",
            ">>> List\n",
            "4\n",
            ">>> Konversi tipe data\n",
            "{'Jeruk', 'Markisa', 'Apel'}\n",
            "['Apel', 'Jeruk', 'Markisa']\n"
          ]
        }
      ]
    },
    {
      "cell_type": "markdown",
      "source": [
        "#### [Tugas Praktek (Rataan *Cash Flow*)](https://academy.dqlab.id/main/livecode/160/296/1328?pr=0)"
      ],
      "metadata": {
        "id": "ByjFvADcVdt-"
      }
    },
    {
      "cell_type": "code",
      "source": [
        "# Data keuangan\n",
        "keuangan = {\n",
        "'pengeluaran': [2, 2.5, 2.25, 2.5, 3.2, 2.5, 3.5, 4, 3],\n",
        "'pemasukan': [7.8, 7.5, 9, 7.6, 7.2, 7.5, 7, 10, 7.5]\n",
        "}\n",
        "\n",
        "# Perhitungan rata-rata pemasukan dan rata-rata pengeluaran\n",
        "total_pengeluaran = 0\n",
        "total_pemasukan = 0\n",
        "\n",
        "for biaya in keuangan['pengeluaran']: \n",
        "    total_pengeluaran += biaya\n",
        "for biaya in keuangan['pemasukan']: \n",
        "    total_pemasukan += biaya\n",
        "    \n",
        "rata_rata_pengeluaran = total_pengeluaran / len(keuangan['pengeluaran']) \n",
        "rata_rata_pemasukan = total_pemasukan / len(keuangan['pemasukan'])\n",
        "\n",
        "print(rata_rata_pengeluaran) \n",
        "print(rata_rata_pemasukan)"
      ],
      "metadata": {
        "colab": {
          "base_uri": "https://localhost:8080/"
        },
        "id": "NsLdk82hVlig",
        "outputId": "c91049f9-59ce-4bf4-9048-21791a13e7a7"
      },
      "execution_count": 11,
      "outputs": [
        {
          "output_type": "stream",
          "name": "stdout",
          "text": [
            "2.8277777777777775\n",
            "7.8999999999999995\n"
          ]
        }
      ]
    },
    {
      "cell_type": "markdown",
      "source": [
        "## String Manipulation dengan Python"
      ],
      "metadata": {
        "id": "5q9WownkMfA2"
      }
    },
    {
      "cell_type": "markdown",
      "source": [
        "#### [Tinjauan Ulang String pada Python](https://academy.dqlab.id/main/livecode/160/297/1329?pr=0)"
      ],
      "metadata": {
        "id": "xFQlV4O9V2OT"
      }
    },
    {
      "cell_type": "code",
      "source": [
        "nama_produk = 'Sepatu Niko'\n",
        "kategori_produk = 'Busana Pria'"
      ],
      "metadata": {
        "id": "5X5C926IV6Ka"
      },
      "execution_count": 14,
      "outputs": []
    },
    {
      "cell_type": "code",
      "source": [
        "deskripsi_produk = '''Sepatu Niko merupakan sepatu kasual yang aerodinamis.\n",
        "Sepatu ini tersedia dalam berbagai macam ukuran. Untuk\n",
        "informasi lebih lanjut hubungi kami di no. 0832-xxxx-xxxx.\n",
        "'''\n",
        "print(deskripsi_produk)"
      ],
      "metadata": {
        "colab": {
          "base_uri": "https://localhost:8080/"
        },
        "id": "ub1RWFOQW5jR",
        "outputId": "bc5a2927-4dbf-48e9-b893-08774b30d887"
      },
      "execution_count": 16,
      "outputs": [
        {
          "output_type": "stream",
          "name": "stdout",
          "text": [
            "Sepatu Niko merupakan sepatu kasual yang aerodinamis.\n",
            "Sepatu ini tersedia dalam berbagai macam ukuran. Untuk\n",
            "informasi lebih lanjut hubungi kami di no. 0832-xxxx-xxxx.\n",
            "\n"
          ]
        }
      ]
    },
    {
      "cell_type": "code",
      "source": [
        "komentar_terbaik_produk = \"\"\"Sepatu Niko nyaman dipakai dan\n",
        "bahannya tidak mudah kotor.\n",
        "\"\"\"\n",
        "print(komentar_terbaik_produk)"
      ],
      "metadata": {
        "colab": {
          "base_uri": "https://localhost:8080/"
        },
        "id": "vFZ20dKUW5cB",
        "outputId": "e20798db-e357-450c-a56d-98e267aca886"
      },
      "execution_count": 13,
      "outputs": [
        {
          "output_type": "stream",
          "name": "stdout",
          "text": [
            "Sepatu Niko nyaman dipakai dan\n",
            "bahannya tidak mudah kotor.\n",
            "\n"
          ]
        }
      ]
    },
    {
      "cell_type": "markdown",
      "source": [
        "#### [Apa itu String Manipulation?](https://academy.dqlab.id/main/livecode/160/297/1330?pr=0)"
      ],
      "metadata": {
        "id": "-mOJfeiZXHwe"
      }
    },
    {
      "cell_type": "code",
      "source": [
        "nama_produk = \"Sepatu Niko\"\n",
        "\n",
        "nama_produk = nama_produk[:2] + \"P\" + nama_produk[3:9] + \"K\" + nama_produk[-1]\n",
        "\n",
        "print(nama_produk)\n",
        "print(nama_produk[:7])\n",
        "print(nama_produk[7:])\n",
        "print(len(nama_produk))"
      ],
      "metadata": {
        "colab": {
          "base_uri": "https://localhost:8080/"
        },
        "id": "KXxuA2zYXLlM",
        "outputId": "8858016c-7570-4cbc-a7c8-407ad017c750"
      },
      "execution_count": 17,
      "outputs": [
        {
          "output_type": "stream",
          "name": "stdout",
          "text": [
            "SePatu NiKo\n",
            "SePatu \n",
            "NiKo\n",
            "11\n"
          ]
        }
      ]
    },
    {
      "cell_type": "markdown",
      "source": [
        "#### [Operator “+” untuk Tipe Data String](https://academy.dqlab.id/main/livecode/160/297/1331?pr=0)"
      ],
      "metadata": {
        "id": "nHITd29VXStt"
      }
    },
    {
      "cell_type": "code",
      "source": [
        "nama_depan = 'John'\n",
        "nama_belakang = 'Doee'\n",
        "\n",
        "nama_lengkap = nama_depan + ' ' + nama_belakang\n",
        "\n",
        "print(nama_lengkap)\n",
        "\n",
        "umur = '27 tahun'\n",
        "alamat = 'Jl. Anggrek No. 100'\n",
        "\n",
        "nama_umur_alamat = 'Hi, saya ' + nama_lengkap + ' umur ' + umur + ', tinggal di ' + alamat + '.'\n",
        "\n",
        "print(nama_umur_alamat)"
      ],
      "metadata": {
        "colab": {
          "base_uri": "https://localhost:8080/"
        },
        "id": "pshaI9dtXWo-",
        "outputId": "a8f4bc10-9c7d-4a50-ccfc-5418fc6bbcae"
      },
      "execution_count": 19,
      "outputs": [
        {
          "output_type": "stream",
          "name": "stdout",
          "text": [
            "John Doee\n",
            "Hi, saya John Doee umur 27 tahun, tinggal di Jl. Anggrek No. 100.\n"
          ]
        }
      ]
    },
    {
      "cell_type": "markdown",
      "source": [
        "#### [Menghilangkan Spasi di Awal dan/atau di Akhir](https://academy.dqlab.id/main/livecode/160/297/1332?pr=0)"
      ],
      "metadata": {
        "id": "2H7eyjk0XdMq"
      }
    },
    {
      "cell_type": "code",
      "source": [
        "# Fitur .strip()\n",
        "print(\">>> Fitur .strip()\")\n",
        "\n",
        "kata_sambutan = ' halo, selamat siang! '\n",
        "kata_sambutan = kata_sambutan.strip()\n",
        "\n",
        "print(kata_sambutan)\n",
        "\n",
        "\n",
        "# Fitur .lstrip()\n",
        "print(\">>> Fitur .lstrip()\")\n",
        "\n",
        "kata_sambutan = ' halo, selamat siang! '\n",
        "kata_sambutan = kata_sambutan.lstrip()\n",
        "\n",
        "print(kata_sambutan)\n",
        "\n",
        "\n",
        "# Fitur .rstrip()\n",
        "print(\">>> Fitur .rstrip()\")\n",
        "\n",
        "kata_sambutan = ' halo, selamat siang! '\n",
        "kata_sambutan = kata_sambutan.rstrip()\n",
        "\n",
        "print(kata_sambutan)"
      ],
      "metadata": {
        "colab": {
          "base_uri": "https://localhost:8080/"
        },
        "id": "XUWvCW3cXivn",
        "outputId": "4aa8ca2f-d172-415f-b2ce-0e755d130436"
      },
      "execution_count": 20,
      "outputs": [
        {
          "output_type": "stream",
          "name": "stdout",
          "text": [
            ">>> Fitur .strip()\n",
            "halo, selamat siang!\n",
            ">>> Fitur .lstrip()\n",
            "halo, selamat siang! \n",
            ">>> Fitur .rstrip()\n",
            " halo, selamat siang!\n"
          ]
        }
      ]
    },
    {
      "cell_type": "markdown",
      "source": [
        "#### [Merubah Caps pada String](https://academy.dqlab.id/main/livecode/160/297/1333?pr=0)"
      ],
      "metadata": {
        "id": "98D0qDVEX2Vl"
      }
    },
    {
      "cell_type": "code",
      "source": [
        "# Fitur .capitalize()\n",
        "print(\">>> Fitur .capitalize()\")\n",
        "\n",
        "judul_buku = 'belajar bahasa Python'\n",
        "\n",
        "print(judul_buku.capitalize())\n",
        "\n",
        "\n",
        "# Fitur .lower()\n",
        "print(\">>> Fitur .lower()\")\n",
        "\n",
        "judul_buku = 'Belajar Bahasa PYTHON.'\n",
        "\n",
        "print(judul_buku.lower())\n",
        "\n",
        "\n",
        "# Fitur .upper()\n",
        "print(\">>> Fitur .upper()\")\n",
        "\n",
        "judul_buku = 'Belajar Bahasa PYTHON.'\n",
        "\n",
        "print(judul_buku.upper())"
      ],
      "metadata": {
        "colab": {
          "base_uri": "https://localhost:8080/"
        },
        "id": "ikUKfC_CX8Ul",
        "outputId": "aeffb4c9-a870-4768-d572-7422329344c5"
      },
      "execution_count": 21,
      "outputs": [
        {
          "output_type": "stream",
          "name": "stdout",
          "text": [
            ">>> Fitur .capitalize()\n",
            "Belajar bahasa python\n",
            ">>> Fitur .lower()\n",
            "belajar bahasa python.\n",
            ">>> Fitur .upper()\n",
            "BELAJAR BAHASA PYTHON.\n"
          ]
        }
      ]
    },
    {
      "cell_type": "markdown",
      "source": [
        "#### [Pemecahan, Penggabungan, dan Penggantian String](https://academy.dqlab.id/main/livecode/160/297/1334?pr=0)"
      ],
      "metadata": {
        "id": "3znC7qzqYRJV"
      }
    },
    {
      "cell_type": "code",
      "source": [
        "# Fitur .split()\n",
        "print(\">>> Fitur .split()\")\n",
        "\n",
        "frasa = \"ani dan budi dan wati dan johan\"\n",
        "\n",
        "karakter = frasa.split(\"dan\")\n",
        "\n",
        "print(karakter)\n",
        "\n",
        "kata = frasa.split(\" \")\n",
        "\n",
        "print(kata)\n",
        "\n",
        "\n",
        "# Fitur .join()\n",
        "print(\">>> Fitur .join()\")\n",
        "\n",
        "pemisah = \" dan \"\n",
        "karakter = [\"Ricky\", \"Peter\", \"Jordan\"]\n",
        "\n",
        "frasa = pemisah.join(karakter)\n",
        "\n",
        "print(frasa)\n",
        "\n",
        "frasa = \" \".join(karakter)\n",
        "\n",
        "print(frasa)\n",
        "\n",
        "\n",
        "# Fitur .replace()\n",
        "print(\">>> Fitur .replace()\")\n",
        "\n",
        "frasa = \"apel malang apel yang paling segar, apel sehat, apel nikmat\"\n",
        "frasa = frasa.replace(\"apel\", \"jeruk\")\n",
        "\n",
        "print(frasa)"
      ],
      "metadata": {
        "colab": {
          "base_uri": "https://localhost:8080/"
        },
        "id": "Kz3b6NI2YVAE",
        "outputId": "037da4a4-3f3e-4c9f-9998-593fe3aced0c"
      },
      "execution_count": 22,
      "outputs": [
        {
          "output_type": "stream",
          "name": "stdout",
          "text": [
            ">>> Fitur .split()\n",
            "['ani ', ' budi ', ' wati ', ' johan']\n",
            "['ani', 'dan', 'budi', 'dan', 'wati', 'dan', 'johan']\n",
            ">>> Fitur .join()\n",
            "Ricky dan Peter dan Jordan\n",
            "Ricky Peter Jordan\n",
            ">>> Fitur .replace()\n",
            "jeruk malang jeruk yang paling segar, jeruk sehat, jeruk nikmat\n"
          ]
        }
      ]
    },
    {
      "cell_type": "markdown",
      "source": [
        "#### [Menentukan Posisi dan Jumlah Sub-string pada String](https://academy.dqlab.id/main/livecode/160/297/1335?pr=0)"
      ],
      "metadata": {
        "id": "CSotvt8eYfpo"
      }
    },
    {
      "cell_type": "code",
      "source": [
        "teks = \"Apel malang adalah apel termanis dibanding apel-apel lainnya\"\n",
        "\n",
        "# Fitur .find()\n",
        "print(\">>> Fitur .find()\")\n",
        "\n",
        "print(teks.find(\"Apel\"))\n",
        "print(teks.find(\"malang\"))\n",
        "\n",
        "\n",
        "# Fitur .count()\n",
        "print(\">>> Fitur .count()\")\n",
        "\n",
        "kemunculan_kata_apel = teks.count(\"apel\")\n",
        "\n",
        "print(kemunculan_kata_apel)"
      ],
      "metadata": {
        "colab": {
          "base_uri": "https://localhost:8080/"
        },
        "id": "JdCWRHueYjXD",
        "outputId": "479f90c0-ffdc-48c8-8982-e6843490b40b"
      },
      "execution_count": 23,
      "outputs": [
        {
          "output_type": "stream",
          "name": "stdout",
          "text": [
            ">>> Fitur .find()\n",
            "0\n",
            "5\n",
            ">>> Fitur .count()\n",
            "3\n"
          ]
        }
      ]
    },
    {
      "cell_type": "markdown",
      "source": [
        "#### [Menentukan String Apakah Diawali/Diakhiri oleh Sub-string](https://academy.dqlab.id/main/livecode/160/297/1336?pr=0)"
      ],
      "metadata": {
        "id": "cWT7uCGSYrUM"
      }
    },
    {
      "cell_type": "code",
      "source": [
        "# Fitur .startswith()\n",
        "print(\">>> Fitur .startswith()\")\n",
        "\n",
        "teks = \"Apel malang adalah apel termanis dibanding apel-apel lainnya\"\n",
        "\n",
        "print(teks.startswith(\"Apel\"))\n",
        "print(teks.startswith(\"apel\"))\n",
        "\n",
        "\n",
        "# Fitur .endswith()\n",
        "print(\">>> Fitur .endswith()\")\n",
        "\n",
        "print(teks.endswith(\"lainnya\"))\n",
        "print(teks.endswith(\"apel\"))"
      ],
      "metadata": {
        "colab": {
          "base_uri": "https://localhost:8080/"
        },
        "id": "dSLcZsntYvat",
        "outputId": "3bdaee13-4ad9-4aa1-cb1e-2d04ad497c3e"
      },
      "execution_count": 24,
      "outputs": [
        {
          "output_type": "stream",
          "name": "stdout",
          "text": [
            ">>> Fitur .startswith()\n",
            "True\n",
            "False\n",
            ">>> Fitur .endswith()\n",
            "True\n",
            "False\n"
          ]
        }
      ]
    },
    {
      "cell_type": "markdown",
      "source": [
        "#### [Tugas Praktek (Menghitung Jumlah Artikel)](https://academy.dqlab.id/main/livecode/160/297/1337?pr=0)"
      ],
      "metadata": {
        "id": "SSoeT8zLZHgN"
      }
    },
    {
      "cell_type": "code",
      "source": [
        "judul_artikel = [\n",
        "\"Buah Salak Baik untuk Mata\", \"Buah Salak Kaya Potasium\", \n",
        "\"Buah Jeruk Kaya Vitamin C\", \"Buah Salak Kaya Manfaat\", \n",
        "\"Salak Baik untuk Jantung\", \"Jeruk dapat Memperkuat Tulang\", \n",
        "\"Jeruk Mencegah Penyakit Asma\", \"Jeruk Memperkuat Gigi\", \n",
        "\"Jeruk Mencegah Kolesterol Jahat\", \"Salak Mencegah Diabetes\", \n",
        "\"Salak Memperkuat Dinding Usus\", \"Salak Baik untuk Darah\",\n",
        "\"Jeruk Kaya Manfaat untuk Jantung\", \"Salak si Kecil yang Baik\", \n",
        "\"Jeruk dan Salak Buah Kaya Manfaat\", \"Buah Jeruk Enak\",\n",
        "\"Tips Panen Jeruk Ribuan Kilo\", \"Tips Bertanam Salak\", \n",
        "\"Salak Manis untuk Berbuka\", \"Jeruk Baik untuk Wajah\"\n",
        "]\n",
        "\n",
        "jumlah_artikel_jeruk = 0\n",
        "jumlah_artikel_salak = 0\n",
        "\n",
        "for judul in judul_artikel:\n",
        "    if judul.count(\"Jeruk\") > 0: \n",
        "        jumlah_artikel_jeruk += 1\n",
        "    if judul.count(\"Salak\") > 0:\n",
        "        jumlah_artikel_salak += 1\n",
        "        \n",
        "print(jumlah_artikel_jeruk) \n",
        "print(jumlah_artikel_salak)"
      ],
      "metadata": {
        "colab": {
          "base_uri": "https://localhost:8080/"
        },
        "id": "tnn9s6iFZQeY",
        "outputId": "b8a40c0e-73b5-41a2-8ccd-d22cd2e3b0a7"
      },
      "execution_count": 25,
      "outputs": [
        {
          "output_type": "stream",
          "name": "stdout",
          "text": [
            "10\n",
            "11\n"
          ]
        }
      ]
    },
    {
      "cell_type": "markdown",
      "source": [
        "#### [Tugas Praktek (Menghitung Kata Positif)](https://academy.dqlab.id/main/livecode/160/297/1338?pr=0)"
      ],
      "metadata": {
        "id": "O0U9M71MZZGg"
      }
    },
    {
      "cell_type": "code",
      "source": [
        "judul_artikel = [\n",
        "\"Buah Salak Baik untuk Mata\", \"Buah Salak Kaya Potasium\", \n",
        "\"Buah Jeruk Kaya Vitamin C\", \"Buah Salak Kaya Manfaat\", \n",
        "\"Salak Baik untuk Jantung\", \"Jeruk dapat Memperkuat Tulang\", \n",
        "\"Jeruk Mencegah Penyakit Asma\", \"Jeruk Memperkuat Gigi\", \n",
        "\"Jeruk Mencegah Kolesterol Jahat\", \"Salak Mencegah Diabetes\", \n",
        "\"Salak Memperkuat Dinding Usus\", \"Salak Baik untuk Darah\",\n",
        "\"Jeruk Kaya Manfaat untuk Jantung\", \"Salak si Kecil yang Baik\", \n",
        "\"Jeruk dan Salak Buah Kaya Manfaat\", \"Buah Jeruk Enak\",\n",
        "\"Tips Panen Jeruk Ribuan Kilo\", \"Tips Bertanam Salak\", \n",
        "\"Salak Manis untuk Berbuka\", \"Jeruk Baik untuk Wajah\"\n",
        "]\n",
        "\n",
        "kata_positif = [\"Kaya\", \"Baik\", \"Mencegah\", \"Memperkuat\"]\n",
        "\n",
        "kata_positif_jeruk = 0\n",
        "kata_positif_salak = 0\n",
        "\n",
        "for judul in judul_artikel: \n",
        "    for kata in kata_positif:\n",
        "        if judul.count(\"Jeruk\") > 0 and judul.count(kata) > 0: \n",
        "            kata_positif_jeruk += 1\n",
        "        if judul.count(\"Salak\") > 0 and judul.count(kata) > 0:\n",
        "            kata_positif_salak += 1\n",
        "            \n",
        "print(kata_positif_jeruk) \n",
        "print(kata_positif_salak)"
      ],
      "metadata": {
        "colab": {
          "base_uri": "https://localhost:8080/"
        },
        "id": "EwwTMch3ZhDt",
        "outputId": "88702b0e-2e77-419f-af06-41822aa0fe2a"
      },
      "execution_count": 26,
      "outputs": [
        {
          "output_type": "stream",
          "name": "stdout",
          "text": [
            "8\n",
            "9\n"
          ]
        }
      ]
    },
    {
      "cell_type": "markdown",
      "source": [
        "## Functions"
      ],
      "metadata": {
        "id": "jzJWocTFMkIr"
      }
    },
    {
      "cell_type": "markdown",
      "source": [
        "#### [Fungsi Pertama](https://academy.dqlab.id/main/livecode/160/298/1340?pr=0)"
      ],
      "metadata": {
        "id": "Xr0NtqLyZzUo"
      }
    },
    {
      "cell_type": "code",
      "source": [
        "# Definisikan fungsi\n",
        "def contoh_fungsi():\n",
        "    print(\"Halo Dunia\")\n",
        "    print(\"Aku sedang belajar bahasa Python\")\n",
        "    \n",
        "# Panggil fungsi yang telah didefinisikan\n",
        "contoh_fungsi()"
      ],
      "metadata": {
        "colab": {
          "base_uri": "https://localhost:8080/"
        },
        "id": "7HSOqs8RZ2Mx",
        "outputId": "8f5f5fe4-2442-4f07-a658-17c790927722"
      },
      "execution_count": 27,
      "outputs": [
        {
          "output_type": "stream",
          "name": "stdout",
          "text": [
            "Halo Dunia\n",
            "Aku sedang belajar bahasa Python\n"
          ]
        }
      ]
    },
    {
      "cell_type": "markdown",
      "source": [
        "#### [Fungsi Kedua](https://academy.dqlab.id/main/livecode/160/298/1341?pr=0)"
      ],
      "metadata": {
        "id": "2DVHtDzRaK4U"
      }
    },
    {
      "cell_type": "code",
      "source": [
        "# Definsikan fungsi \n",
        "def fungsi_dengan_argumen(nama_depan, nama_belakang):\n",
        "    print(nama_depan+\" \"+nama_belakang)\n",
        "    \n",
        "# Panggil fungsi dengan memasukkan argumen\n",
        "# nama_depan yaitu \"John\" dan nama_belakang \"Doe\"\n",
        "fungsi_dengan_argumen(\"John\", \"Doe\")"
      ],
      "metadata": {
        "colab": {
          "base_uri": "https://localhost:8080/"
        },
        "id": "NgHS0yUBaOYF",
        "outputId": "6b4baadc-995b-46d6-d929-fefd79d6bcd1"
      },
      "execution_count": 28,
      "outputs": [
        {
          "output_type": "stream",
          "name": "stdout",
          "text": [
            "John Doe\n"
          ]
        }
      ]
    },
    {
      "cell_type": "markdown",
      "source": [
        "#### [Fungsi Ketiga](https://academy.dqlab.id/main/livecode/160/298/1342?pr=0)"
      ],
      "metadata": {
        "id": "h9w46q_Dal68"
      }
    },
    {
      "cell_type": "code",
      "source": [
        "# Definsikan fungsi dengan nilai default argument kedua adalah \"\".\n",
        "def fungsi_dengan_argumen(nama_depan, nama_belakang = \"\"):\n",
        "\tprint(nama_depan+\" \"+nama_belakang)\n",
        " \n",
        "# Panggil fungsi dengan memasukkan argumen nama_depan \"John\"\n",
        "fungsi_dengan_argumen(\"John\")\n",
        "\n",
        "# Panggil fungsi dengan memasukkan argumen\n",
        "# nama_depan yaitu \"John\" dan nama_belakang \"Doe\"\n",
        "fungsi_dengan_argumen(\"John\", \"Doe\")"
      ],
      "metadata": {
        "colab": {
          "base_uri": "https://localhost:8080/"
        },
        "id": "tCGbZYb9apaI",
        "outputId": "194c78b7-4fb6-41d0-9c43-0392695e30db"
      },
      "execution_count": 29,
      "outputs": [
        {
          "output_type": "stream",
          "name": "stdout",
          "text": [
            "John \n",
            "John Doe\n"
          ]
        }
      ]
    },
    {
      "cell_type": "markdown",
      "source": [
        "#### [Tugas Praktek (Fungsi Menghitung Rataan)](https://academy.dqlab.id/main/livecode/160/298/1343?pr=0)"
      ],
      "metadata": {
        "id": "kHhrPDHRbJFM"
      }
    },
    {
      "cell_type": "code",
      "source": [
        "# Dua buah data yang tersimpan dalam tipe list\n",
        "data1 = [70, 70, 70, 100, 100, 100, 120, 120, 150, 150]\n",
        "data2 = [50, 60, 60, 50, 70, 70, 100, 80, 100, 90]\n",
        "\n",
        "# Definisikan fungsi hitng_rata_rata\n",
        "def hitung_rata_rata(data):\n",
        "    jumlah = 0\n",
        "    for item in data:\n",
        "        jumlah += item\n",
        "    rata_rata = jumlah/len(data)\n",
        "    return rata_rata\n",
        "\n",
        "# Hitung nilai rata-rata dari kedua data yang dimiliki\n",
        "print('Rata-rata data1:')\n",
        "print(hitung_rata_rata(data1))\n",
        "\n",
        "print('Rata-rata data2:')\n",
        "print(hitung_rata_rata(data2))"
      ],
      "metadata": {
        "colab": {
          "base_uri": "https://localhost:8080/"
        },
        "id": "SkLGmcyfbTWl",
        "outputId": "60bc257c-34d4-468a-8f78-25879b28bc73"
      },
      "execution_count": 30,
      "outputs": [
        {
          "output_type": "stream",
          "name": "stdout",
          "text": [
            "Rata-rata data1:\n",
            "105.0\n",
            "Rata-rata data2:\n",
            "73.0\n"
          ]
        }
      ]
    },
    {
      "cell_type": "markdown",
      "source": [
        "#### [Tugas Praktek (Fungsi Menghitung Standar Deviasi)](https://academy.dqlab.id/main/livecode/160/298/1344?pr=0)"
      ],
      "metadata": {
        "id": "_GzMbhStbcY9"
      }
    },
    {
      "cell_type": "code",
      "source": [
        "# Dua buah data yang tersimpan dalam tipe list\n",
        "data1 = [70, 70, 70, 100, 100, 100, 120, 120, 150, 150]\n",
        "data2 = [50, 60, 60, 50, 70, 70, 100, 80, 100, 90]\n",
        "\n",
        "# Fungsi rata-rata data\n",
        "def hitung_rata_rata(data):\n",
        "    jumlah = 0\n",
        "    for item in data:\n",
        "        jumlah += item\n",
        "    rata_rata = jumlah/len(data)\n",
        "    return rata_rata\n",
        "\n",
        "# Definisikan fungsi hitung_standar_deviasi\n",
        "def hitung_standar_deviasi(data):\n",
        "    rata_rata_data = hitung_rata_rata(data)\n",
        "    varians = 0\n",
        "    for item in data:\n",
        "        varians += (item - rata_rata_data) ** 2\n",
        "    varians /= len(data)\n",
        "    standar_deviasi = varians ** (1/2)\n",
        "    return standar_deviasi\n",
        "\n",
        "# Hitung nilai standar deviasi dari kedua data yang dimiliki\n",
        "print('Standar deviasi data1:')\n",
        "print(hitung_standar_deviasi(data1))\n",
        "\n",
        "print('Standar deviasi data2:')\n",
        "print(hitung_standar_deviasi(data2))"
      ],
      "metadata": {
        "colab": {
          "base_uri": "https://localhost:8080/"
        },
        "id": "sFvsMj5tbkJh",
        "outputId": "1b995885-909a-4b2d-d019-08fc4948523e"
      },
      "execution_count": 31,
      "outputs": [
        {
          "output_type": "stream",
          "name": "stdout",
          "text": [
            "Standar deviasi data1:\n",
            "28.722813232690143\n",
            "Standar deviasi data2:\n",
            "17.916472867168917\n"
          ]
        }
      ]
    },
    {
      "cell_type": "markdown",
      "source": [
        "#### [Tugas Praktek (Fungsi Deskripsi Proerti)](https://academy.dqlab.id/main/livecode/160/298/1345?pr=0)"
      ],
      "metadata": {
        "id": "GqJmEuBfbzxw"
      }
    },
    {
      "cell_type": "code",
      "source": [
        "# Data properti\n",
        "tabel_properti = {\n",
        "'luas_tanah': [70, 70, 70, 100, 100, 100, 120, 120, 150, 150],\n",
        "'luas_bangunan': [50, 60, 60, 50, 70, 70, 100, 80, 100, 90],\n",
        "'jarak': [15, 30, 55, 30, 25, 50, 20, 50, 50, 15],\n",
        "'harga': [500, 400, 300, 700, 1000, 650, 2000, 1200, 1800, 3000]\n",
        "}\n",
        "\n",
        "# Fungsi rata-rata data\n",
        "def hitung_rata_rata(data):\n",
        "    jumlah = 0\n",
        "    for item in data:\n",
        "        jumlah += item\n",
        "    rata_rata = jumlah/len(data)\n",
        "    return rata_rata\n",
        "\n",
        "# Fungsi hitung_standar_deviasi\n",
        "def hitung_standar_deviasi(data):\n",
        "    rata_rata_data = hitung_rata_rata(data)\n",
        "    varians = 0\n",
        "    for item in data:\n",
        "        varians += (item - rata_rata_data) ** 2\n",
        "        varians /= len(data)\n",
        "    standar_deviasi = varians ** (1/2)\n",
        "    return standar_deviasi\n",
        "\n",
        "# Definisikan fungsi untuk menghitung rata-rata dan standar deviasi\n",
        "# setiap kolom pada tabel_properti yang diberikan oleh key dict.\n",
        "def deskripsi_properti(tabel):\n",
        "    for key in tabel.keys():\n",
        "        print('Rata-rata ' + key + ':')\n",
        "        print(hitung_rata_rata(tabel[key])) \n",
        "        print('Standar deviasi ' + key + ':')\n",
        "        print(hitung_standar_deviasi(tabel[key]))\n",
        "        print('')\n",
        "        \n",
        "# Panggil fungsi deskripsi_properti untuk menghitung rata-rata \n",
        "# dan standar deviasi setiap kolom pada tabel_properti\n",
        "deskripsi_properti(tabel_properti)"
      ],
      "metadata": {
        "colab": {
          "base_uri": "https://localhost:8080/"
        },
        "id": "97JebNqUb7i9",
        "outputId": "c693729e-c200-4e3b-90de-0b059fe4e6c3"
      },
      "execution_count": 32,
      "outputs": [
        {
          "output_type": "stream",
          "name": "stdout",
          "text": [
            "Rata-rata luas_tanah:\n",
            "105.0\n",
            "Standar deviasi luas_tanah:\n",
            "14.93311056335886\n",
            "\n",
            "Rata-rata luas_bangunan:\n",
            "73.0\n",
            "Standar deviasi luas_bangunan:\n",
            "6.025948374480153\n",
            "\n",
            "Rata-rata jarak:\n",
            "34.0\n",
            "Standar deviasi jarak:\n",
            "6.24005184770928\n",
            "\n",
            "Rata-rata harga:\n",
            "1155.0\n",
            "Standar deviasi harga:\n",
            "587.0594351517378\n",
            "\n"
          ]
        }
      ]
    },
    {
      "cell_type": "markdown",
      "source": [
        "## Manipulasi Berkas Teks dan Library Matematika pada Python"
      ],
      "metadata": {
        "id": "fWUIEuHTMmZX"
      }
    },
    {
      "cell_type": "markdown",
      "source": [
        "#### [Membaca Berkas Teks – Part 1](https://academy.dqlab.id/main/livecode/160/299/1381?pr=0)"
      ],
      "metadata": {
        "id": "31cJZSgEcm1H"
      }
    },
    {
      "cell_type": "code",
      "source": [
        "import requests\n",
        "url = \"https://storage.googleapis.com/dqlab-dataset/hello.txt\"\n",
        "response = requests.get(url)\n",
        "\n",
        "# Cetak kode status dari response\n",
        "print(response)\n",
        "\n",
        "# Cetak isi file hello.txt menggunakan method response.iter_lines()\n",
        "print(\"\\n>> Cetak isi file hello.txt menggunakan method response.iter_lines():\")\n",
        "for baris in response.iter_lines():\n",
        "\tprint(baris)"
      ],
      "metadata": {
        "colab": {
          "base_uri": "https://localhost:8080/"
        },
        "id": "WjdSDcUjcr0E",
        "outputId": "54ef4889-b1e0-44fe-e984-c7ec1d679a07"
      },
      "execution_count": 33,
      "outputs": [
        {
          "output_type": "stream",
          "name": "stdout",
          "text": [
            "<Response [200]>\n",
            "\n",
            ">> Cetak isi file hello.txt menggunakan method response.iter_lines():\n",
            "b'Kita sedang belajar Python'\n",
            "b'Tepatnya belajar memanipulasi berkas teks'\n",
            "b'Memanipulasi berkas dengan Python sangatlah mudah!'\n"
          ]
        }
      ]
    },
    {
      "cell_type": "markdown",
      "source": [
        "#### [Membaca Berkas Teks – Part 2](https://academy.dqlab.id/main/livecode/160/299/1382?pr=0)"
      ],
      "metadata": {
        "id": "5cAvBOjLcykw"
      }
    },
    {
      "cell_type": "code",
      "source": [
        "import requests\n",
        "url = \"https://storage.googleapis.com/dqlab-dataset/hello.txt\"\n",
        "response = requests.get(url)\n",
        "\n",
        "# Cetak kode status dari response\n",
        "print(response)\n",
        "\n",
        "# Cetak isi file hello.txt menggunakan atribut response.text\n",
        "print(\"\\n>> Cetak isi file hello.txt menggunakan atribut response.text:\")\n",
        "print(response.text)"
      ],
      "metadata": {
        "colab": {
          "base_uri": "https://localhost:8080/"
        },
        "id": "ZgOCdSH5c1YH",
        "outputId": "7288419b-5d20-4155-e9bf-b17db05a4ce3"
      },
      "execution_count": 34,
      "outputs": [
        {
          "output_type": "stream",
          "name": "stdout",
          "text": [
            "<Response [200]>\n",
            "\n",
            ">> Cetak isi file hello.txt menggunakan atribut response.text:\n",
            "Kita sedang belajar Python\r\n",
            "Tepatnya belajar memanipulasi berkas teks\r\n",
            "Memanipulasi berkas dengan Python sangatlah mudah!\n"
          ]
        }
      ]
    },
    {
      "cell_type": "markdown",
      "source": [
        "#### [Menulis Berkas Teks – Part 1](https://academy.dqlab.id/main/livecode/160/299/1383?pr=0)"
      ],
      "metadata": {
        "id": "Pps5jWyRdSHk"
      }
    },
    {
      "cell_type": "code",
      "source": [
        "# singkronisasi ke g-drive\n",
        "\n",
        "from google.colab import drive\n",
        "drive.mount('/content/drive')"
      ],
      "metadata": {
        "colab": {
          "base_uri": "https://localhost:8080/"
        },
        "id": "nWWAoFf9dS1J",
        "outputId": "60a497c3-4f15-4103-f925-48258694cd28"
      },
      "execution_count": 35,
      "outputs": [
        {
          "output_type": "stream",
          "name": "stdout",
          "text": [
            "Mounted at /content/drive\n"
          ]
        }
      ]
    },
    {
      "cell_type": "code",
      "source": [
        "# Menulis ke file hello.txt\n",
        "file = open(\"/content/drive/MyDrive/AL. Lab/Sanca/Datasets/hello.txt\", \"w\")\n",
        "file.write(\"Sekarang kita belajar menulis dengan menggunakan Python\")\n",
        "file.write(\"Menulis konten file dengan mode w (write).\")\n",
        "file.close()"
      ],
      "metadata": {
        "id": "AX8Z7HRHdYkh"
      },
      "execution_count": 36,
      "outputs": []
    },
    {
      "cell_type": "markdown",
      "source": [
        "#### [Menulis Berkas Teks – Part 2](https://academy.dqlab.id/main/livecode/160/299/1384?pr=0)"
      ],
      "metadata": {
        "id": "dgG3lCxFdpGj"
      }
    },
    {
      "cell_type": "code",
      "source": [
        "# Menulis ke file dengan mode append\n",
        "file = open(\"/content/drive/MyDrive/AL. Lab/Sanca/Datasets/hello.txt\", \"a\")\n",
        "file.writelines([\n",
        "\"Sekarang kita belajar menulis dengan menggunakan Python\", \n",
        "\"Menulis konten file dengan mode a (append).\"\n",
        "])\n",
        "file.close()"
      ],
      "metadata": {
        "id": "lMS2M3rEdsvb"
      },
      "execution_count": 37,
      "outputs": []
    },
    {
      "cell_type": "markdown",
      "source": [
        "#### [Fungsi dalam Library Matematika – Part 1](https://academy.dqlab.id/main/livecode/160/299/1388?pr=0)"
      ],
      "metadata": {
        "id": "9gtGRmB8eddz"
      }
    },
    {
      "cell_type": "code",
      "source": [
        "# Import library math\n",
        "import math\n",
        "\n",
        "\n",
        "# Fungsi math.ceil()\n",
        "\n",
        "print(\">>> Fungsi math.ceil()\")\n",
        "\n",
        "x = 10.32\n",
        "y = 13.87\n",
        "\n",
        "x_ceil = math.ceil(x)\n",
        "y_ceil = math.ceil(y)\n",
        "\n",
        "print(x_ceil)\n",
        "print(y_ceil)\n",
        "\n",
        "\n",
        "# Fungsi math.floor()\n",
        "\n",
        "print(\">>> Fungsi math.floor()\")\n",
        "\n",
        "x_floor = math.floor(x)\n",
        "y_floor = math.floor(y)\n",
        "\n",
        "print(x_floor)\n",
        "print(y_floor)\n",
        "\n",
        "\n",
        "# Fungsi math.fabs()\n",
        "\n",
        "print(\">>> Fungsi math.fabs()\")\n",
        "\n",
        "x = 10.32\n",
        "y = -13.87\n",
        "\n",
        "x = math.fabs(x)\n",
        "y = math.fabs(y)\n",
        "\n",
        "print(x)\n",
        "print(y)\n",
        "\n",
        "\n",
        "# Fungsi math.factorial()\n",
        "\n",
        "print(\">>> Fungsi math.factorial()\")\n",
        "\n",
        "x_factorial = math.factorial(5)\n",
        "\n",
        "print(x_factorial)\n",
        "\n",
        "\n",
        "# Fungsi math.fsum()\n",
        "\n",
        "print(\">>> Fungsi math.fsum()\")\n",
        "\n",
        "x = [1, 2, 3, 4, 5, 6, -6, -5, -4]\n",
        "\n",
        "total = math.fsum(x)\n",
        "\n",
        "print(total)"
      ],
      "metadata": {
        "colab": {
          "base_uri": "https://localhost:8080/"
        },
        "id": "Xsbvd3J9egVA",
        "outputId": "1fff5ba4-3a82-445f-9547-6a386e2872e6"
      },
      "execution_count": 38,
      "outputs": [
        {
          "output_type": "stream",
          "name": "stdout",
          "text": [
            ">>> Fungsi math.ceil()\n",
            "11\n",
            "14\n",
            ">>> Fungsi math.floor()\n",
            "10\n",
            "13\n",
            ">>> Fungsi math.fabs()\n",
            "10.32\n",
            "13.87\n",
            ">>> Fungsi math.factorial()\n",
            "120\n",
            ">>> Fungsi math.fsum()\n",
            "6.0\n"
          ]
        }
      ]
    },
    {
      "cell_type": "markdown",
      "source": [
        "#### [Fungsi dalam Library Matematika – Part 2](https://academy.dqlab.id/main/livecode/160/299/1389?pr=0)"
      ],
      "metadata": {
        "id": "jF1Oxj-YfHmm"
      }
    },
    {
      "cell_type": "code",
      "source": [
        "# Import library math\n",
        "import math\n",
        "\n",
        "\n",
        "# Fungsi math.log()\n",
        "\n",
        "print(\">>> Fungsi math.log()\")\n",
        "\n",
        "# x = log basis 2 dari 8\n",
        "x = math.log(8,2)\n",
        "\n",
        "# y = log basis 3 dari 81\n",
        "y = math.log(81,3)\n",
        "\n",
        "# z = log basis 10 dari 10000\n",
        "z = math.log(10000,10)\n",
        "\n",
        "print(x)\n",
        "print(y)\n",
        "print(z)\n",
        "\n",
        "\n",
        "# Fungsi math.sqrt()\n",
        "\n",
        "print(\">>> Fungsi math.sqrt()\")\n",
        "\n",
        "# akar kuadrat dari 100\n",
        "x = math.sqrt(100)\n",
        "print(x)\n",
        "\n",
        "# akar kuadrat dari 2\n",
        "y = math.sqrt(2)\n",
        "print(y)\n",
        "\n",
        "\n",
        "# Fungsi math.copysign()\n",
        "\n",
        "print(\">>> Fungsi math.copysign()\")\n",
        "\n",
        "x = 10.32\n",
        "y = -13.87\n",
        "z = -15\n",
        "\n",
        "x = math.copysign(x, z)\n",
        "y = math.copysign(y, z)\n",
        "z = math.copysign(z, 10)\n",
        "\n",
        "print(x)\n",
        "print(y)\n",
        "print(z)"
      ],
      "metadata": {
        "colab": {
          "base_uri": "https://localhost:8080/"
        },
        "id": "dzg3HTUlfM22",
        "outputId": "ffded610-1df5-4da8-cd59-bca57221e0d6"
      },
      "execution_count": 39,
      "outputs": [
        {
          "output_type": "stream",
          "name": "stdout",
          "text": [
            ">>> Fungsi math.log()\n",
            "3.0\n",
            "4.0\n",
            "4.0\n",
            ">>> Fungsi math.sqrt()\n",
            "10.0\n",
            "1.4142135623730951\n",
            ">>> Fungsi math.copysign()\n",
            "-10.32\n",
            "-13.87\n",
            "15.0\n"
          ]
        }
      ]
    },
    {
      "cell_type": "markdown",
      "source": [
        "## Mini Quiz"
      ],
      "metadata": {
        "id": "h34SLdP7MppH"
      }
    },
    {
      "cell_type": "markdown",
      "source": [
        "#### [Harga Rumah di Tangerang](https://academy.dqlab.id/main/livecode/160/303/1392?pr=0)"
      ],
      "metadata": {
        "id": "Ijn_f5kwficw"
      }
    },
    {
      "cell_type": "code",
      "source": [
        "import requests\n",
        "from contextlib import closing\n",
        "import csv\n",
        "\n",
        "# STEP 1: \n",
        "# Baca file \"harga_rumah.txt\"\n",
        "url = \"https://storage.googleapis.com/dqlab-dataset/harga_rumah.txt\"\n",
        "data_harga_rumah = []\n",
        "with closing(requests.get(url, stream=True)) as r:\n",
        "    f = (line.decode('utf-8') for line in r.iter_lines())\n",
        "    data_harga_rumah = [row for row in csv.reader(f)]\n",
        "\n",
        "# Buat list of dict dengan nama harga rumah\n",
        "key_harga_rumah = data_harga_rumah[0]\n",
        "harga_rumah = []\n",
        "for baris_harga_rumah in data_harga_rumah[1:]:\n",
        "\tdict_harga_rumah = dict()\n",
        "\tfor i in range(len(baris_harga_rumah)):\n",
        "\t\tdict_harga_rumah[key_harga_rumah[i]] = baris_harga_rumah[i]\n",
        "\tharga_rumah.append(dict_harga_rumah)\n",
        "print(harga_rumah)\n",
        "\n",
        "# STEP 2:\n",
        "# Buat fungsi  get_all_specified_attribute yang menerima parameter list_of_dictionary \n",
        "# (tipe data list yang berisikan sekumpulan tipe data dictionary) dan specified_key \n",
        "# (tipe data string). Fungsi akan mengembalikan sebuah list yang berisikan seluruh \n",
        "# atribut dengan kunci (key) specified_key. \n",
        "def get_all_specified_attributes(list_of_dictionary, specified_key):\n",
        "\tlist_attributes = []\n",
        "\tfor data in list_of_dictionary:\n",
        "\t\tattribute = data[specified_key]\n",
        "\t\tlist_attributes.append(attribute)\n",
        "\treturn list_attributes\n",
        "\n",
        "# STEP 3: \n",
        "# Buat fungsi fungsi min_value yang menerima parameter list_attributes (berupa \n",
        "# tipe data list) dan mengembalikan nilai terkecil dalam list_attributes \n",
        "def min_value(list_attributes):\n",
        "\tmin_attribute = 9999\n",
        "\tfor attr in list_attributes:\n",
        "\t\tif int(attr) < min_attribute:\n",
        "\t\t\tmin_attribute = int(attr)\n",
        "\treturn min_attribute\n",
        "\n",
        "# Buat fungsi dan max_value yang menerima parameter list_attribute dan \n",
        "# mengembalikan nilai terbesar dalam list_attributes.\t\n",
        "def max_value(list_attributes):\n",
        "\tmax_attribute = -9999\n",
        "\tfor attr in list_attributes:\n",
        "\t\tif int(attr) > max_attribute:\n",
        "\t\t\tmax_attribute = int(attr)\n",
        "\treturn max_attribute\n",
        "\n",
        "# STEP 4: \n",
        "# Buat fungsi transform_attribute yang menerima parameter attr (sebuah \n",
        "# bilangan), max_attr (sebuah bilangan) dan min_attr (sebuah bilangan) \n",
        "# yang mengembalikan nilai transformasi dari sebuah attribute.\n",
        "def transform_attribute(attr, max_attr, min_attr):\n",
        "\tnilai_transformasi = (attr - min_attr) / (max_attr - min_attr)\n",
        "\treturn nilai_transformasi\n",
        "\n",
        "# STEP 5:\n",
        "# Buat fungsi data_transformation yang menerima parameter list_of_dictionary \n",
        "# (sebuah list yang berisikan tipe data dictionary) dan list_attribute_names \n",
        "# (sebuah list yang berisikan tipe data string) mengembalikan hasil \n",
        "# transformasi data dari list_of_dictionary berdasarkan list_attribute_names \n",
        "# dan attr_info telah dispesifikasikan.\n",
        "def data_transformation(list_of_dictionary, list_attribute_names):\n",
        "\tattr_info = {}\n",
        "\tfor attr_name in list_attribute_names:\n",
        "\t\tspecified_attributes = get_all_specified_attributes(list_of_dictionary, attr_name)\n",
        "\t\tmax_attr = max_value(specified_attributes)\n",
        "\t\tmin_attr = min_value(specified_attributes)\n",
        "\t\tattr_info[attr_name] = {'max': max_attr, 'min': min_attr}\n",
        "\t\tdata_idx = 0\n",
        "\t\twhile(data_idx < len(list_of_dictionary)):\n",
        "\t\t\tlist_of_dictionary[data_idx][attr_name] = transform_attribute(int(list_of_dictionary[data_idx][attr_name]), max_attr, min_attr)\n",
        "\t\t\tdata_idx += 1\n",
        "\treturn list_of_dictionary, attr_info\n",
        "\n",
        "# STEP 6:\n",
        "# Berdasarkan data baru dan attr_info ini, buat fungsi transform_data yang\n",
        "# menerima parameter data dan attr_info dan mengembalikan nilai atribut \n",
        "# dari data baru yang telah ditransformasikan.\n",
        "def transform_data(data, attr_info):\n",
        "\tfor key_name in data.keys():\n",
        "\t\tdata[key_name] = (data[key_name] - attr_info[key_name]['min']) / (\n",
        "\t\t                  attr_info[key_name]['max'] - attr_info[key_name]['min'])\n",
        "\treturn data\n",
        "\n",
        "# STEP 7:\n",
        "# Buat fungsi yang digunakan untuk sistem prediksi harga berdasarkan \n",
        "# nilai kemiripan atribut, yaitu argument input data dan list_of_data!\n",
        "def abs_value(value):\n",
        "\tif value < 0:\n",
        "\t\treturn -value\n",
        "\telse:\n",
        "\t\treturn value\n",
        "def price_based_on_similarity(data, list_of_data):\n",
        "\tprediksi_harga = 0\n",
        "\tperbedaan_terkecil = 999\n",
        "\tfor data_point in list_of_data:\n",
        "\t\tperbedaan= abs_value(data['tanah'] - data_point['tanah'])\n",
        "\t\tperbedaan+= abs_value(data['bangunan'] - data_point['bangunan'])\n",
        "\t\tperbedaan+= abs_value(data['jarak_ke_pusat'] - data_point['jarak_ke_pusat'])\n",
        "\t\tif perbedaan < perbedaan_terkecil:\n",
        "\t\t\tprediksi_harga = data_point['harga']\n",
        "\t\t\tperbedaan_terkecil = perbedaan\n",
        "\treturn prediksi_harga\n",
        "\n",
        "# STEP 8:\n",
        "# Hitung harga rumah yang telah ditransformasikan ke dalam variabel \n",
        "# harga_rumah berikut dengan atributnya attr_info\n",
        "harga_rumah, attr_info = data_transformation(harga_rumah,\n",
        "                                             ['tanah','bangunan','jarak_ke_pusat'])\n",
        "\n",
        "# Gunakan variabel data untuk memprediksi harga rumah\n",
        "data = {'tanah': 110, 'bangunan': 80, 'jarak_ke_pusat': 35}\n",
        "\n",
        "# Transformasikan data tersebut dengan dengan menggunakan attr_info yang telah \n",
        "# diperoleh yang kembali disimpan ke variabel data.\n",
        "data = transform_data(data, attr_info)\n",
        "\n",
        "# Hitunglah prediksi harga dari variabel data tersebut.\n",
        "harga = price_based_on_similarity(data, harga_rumah)\n",
        "\n",
        "print(\"Prediksi harga rumah: \", harga)"
      ],
      "metadata": {
        "colab": {
          "base_uri": "https://localhost:8080/"
        },
        "id": "UkQYkiJ2fmDX",
        "outputId": "13c047cc-ae31-4692-c193-57723f89aaeb"
      },
      "execution_count": 42,
      "outputs": [
        {
          "output_type": "stream",
          "name": "stdout",
          "text": [
            "[{'tanah': '70', 'bangunan': '50', 'jarak_ke_pusat': '15', 'harga': '500'}, {'tanah': '70', 'bangunan': '60', 'jarak_ke_pusat': '30', 'harga': '400'}, {'tanah': '70', 'bangunan': '60', 'jarak_ke_pusat': '55', 'harga': '300'}, {'tanah': '100', 'bangunan': '50', 'jarak_ke_pusat': '30', 'harga': '700'}, {'tanah': '100', 'bangunan': '70', 'jarak_ke_pusat': '25', 'harga': '1000'}, {'tanah': '100', 'bangunan': '70', 'jarak_ke_pusat': '50', 'harga': '650'}, {'tanah': '120', 'bangunan': '100', 'jarak_ke_pusat': '20', 'harga': '2000'}, {'tanah': '120', 'bangunan': '80', 'jarak_ke_pusat': '50', 'harga': '1200'}, {'tanah': '150', 'bangunan': '100', 'jarak_ke_pusat': '50', 'harga': '1800'}, {'tanah': '150', 'bangunan': '90', 'jarak_ke_pusat': '15', 'harga': '3000'}]\n",
            "Prediksi harga rumah:  1200\n"
          ]
        }
      ]
    }
  ]
}