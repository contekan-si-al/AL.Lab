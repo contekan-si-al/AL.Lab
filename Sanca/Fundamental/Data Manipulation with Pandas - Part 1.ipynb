{
  "nbformat": 4,
  "nbformat_minor": 0,
  "metadata": {
    "colab": {
      "name": "Data Manipulation with Pandas - Part 1.ipynb",
      "provenance": []
    },
    "kernelspec": {
      "name": "python3",
      "display_name": "Python 3"
    },
    "language_info": {
      "name": "python"
    }
  },
  "cells": [
    {
      "cell_type": "markdown",
      "source": [
        "## Introduction to Pandas"
      ],
      "metadata": {
        "id": "PcfW27AyR9E6"
      }
    },
    {
      "cell_type": "markdown",
      "source": [
        "#### [Memanggil Library Pandas](https://academy.dqlab.id/main/livecode/178/346/1682?pr=0)"
      ],
      "metadata": {
        "id": "fliwbEQdSZxd"
      }
    },
    {
      "cell_type": "code",
      "source": [
        "import pandas as pd\n",
        "import numpy as np"
      ],
      "metadata": {
        "id": "pwaLOoBeSc3p"
      },
      "execution_count": 1,
      "outputs": []
    },
    {
      "cell_type": "markdown",
      "source": [
        "#### [DataFrame & Series](https://academy.dqlab.id/main/livecode/178/346/1683?pr=0)"
      ],
      "metadata": {
        "id": "_feK-hlNSo5_"
      }
    },
    {
      "cell_type": "code",
      "source": [
        "# Series\n",
        "number_list = pd.Series([1,2,3,4,5,6])\n",
        "\n",
        "print(\"Series:\")\n",
        "print(number_list)\n",
        "\n",
        "\n",
        "# DataFrame\n",
        "matrix = [[1,2,3],\n",
        "          ['a','b','c'],\n",
        "          [3,4,5],\n",
        "          ['d',4,6]]\n",
        "\n",
        "matrix_list = pd.DataFrame(matrix)\n",
        "\n",
        "print(\"DataFrame:\")\n",
        "print(matrix_list)"
      ],
      "metadata": {
        "colab": {
          "base_uri": "https://localhost:8080/"
        },
        "id": "7hSxZ93NSsOt",
        "outputId": "438e8139-47d1-4ed5-fab8-c61766af9b11"
      },
      "execution_count": 3,
      "outputs": [
        {
          "output_type": "stream",
          "name": "stdout",
          "text": [
            "Series:\n",
            "0    1\n",
            "1    2\n",
            "2    3\n",
            "3    4\n",
            "4    5\n",
            "5    6\n",
            "dtype: int64\n",
            "DataFrame:\n",
            "   0  1  2\n",
            "0  1  2  3\n",
            "1  a  b  c\n",
            "2  3  4  5\n",
            "3  d  4  6\n"
          ]
        }
      ]
    },
    {
      "cell_type": "markdown",
      "source": [
        "#### [Atribut DataFrame & Series - Part 1](https://academy.dqlab.id/main/livecode/178/346/1684?pr=0)"
      ],
      "metadata": {
        "id": "KNGrW9ygTNqz"
      }
    },
    {
      "cell_type": "code",
      "source": [
        "# Series\n",
        "number_list = pd.Series([1,2,3,4,5,6])\n",
        "\n",
        "# DataFrame\n",
        "matrix_list = pd.DataFrame([[1,2,3],\n",
        "\t\t\t\t            ['a','b','c'],\n",
        "\t\t\t\t            [3,4,5],\n",
        "\t\t\t\t            ['d',4,6]])\n",
        "\n",
        "# [1] method .info()\n",
        "print(\"[1] method .info()\")\n",
        "print(matrix_list.info())\n",
        "\n",
        "# [2] attribute .shape\n",
        "print(\"\\n[2] attribute .shape\")\n",
        "print(\"    Shape dari number_list:\", number_list.shape)\n",
        "print(\"    Shape dari matrix_list:\", matrix_list.shape)\n",
        "\n",
        "# [3] attribute .dtypes\n",
        "print(\"\\n[3] attribute .dtypes\")\n",
        "print(\"    Tipe data number_list:\", number_list.dtypes)\n",
        "print(\"    Tipe data matrix_list:\", matrix_list.dtypes)\n",
        "\n",
        "# [4] attribute .astype()\n",
        "print(\"\\n[4] method .astype()\")\n",
        "print(\"    Konversi number_list ke str:\", number_list.astype(\"str\"))\n",
        "print(\"    Konversi matrix_list ke str:\", matrix_list.astype(\"str\"))"
      ],
      "metadata": {
        "colab": {
          "base_uri": "https://localhost:8080/"
        },
        "id": "dkMTfu2-TRH_",
        "outputId": "1568c274-57c1-4e4f-f698-96677b51d493"
      },
      "execution_count": 4,
      "outputs": [
        {
          "output_type": "stream",
          "name": "stdout",
          "text": [
            "[1] method .info()\n",
            "<class 'pandas.core.frame.DataFrame'>\n",
            "RangeIndex: 4 entries, 0 to 3\n",
            "Data columns (total 3 columns):\n",
            " #   Column  Non-Null Count  Dtype \n",
            "---  ------  --------------  ----- \n",
            " 0   0       4 non-null      object\n",
            " 1   1       4 non-null      object\n",
            " 2   2       4 non-null      object\n",
            "dtypes: object(3)\n",
            "memory usage: 224.0+ bytes\n",
            "None\n",
            "\n",
            "[2] attribute .shape\n",
            "    Shape dari number_list: (6,)\n",
            "    Shape dari matrix_list: (4, 3)\n",
            "\n",
            "[3] attribute .dtypes\n",
            "    Tipe data number_list: int64\n",
            "    Tipe data matrix_list: 0    object\n",
            "1    object\n",
            "2    object\n",
            "dtype: object\n",
            "\n",
            "[4] method .astype()\n",
            "    Konversi number_list ke str: 0    1\n",
            "1    2\n",
            "2    3\n",
            "3    4\n",
            "4    5\n",
            "5    6\n",
            "dtype: object\n",
            "    Konversi matrix_list ke str:    0  1  2\n",
            "0  1  2  3\n",
            "1  a  b  c\n",
            "2  3  4  5\n",
            "3  d  4  6\n"
          ]
        }
      ]
    },
    {
      "cell_type": "markdown",
      "source": [
        "#### [Atribut DataFrame & Series - Part 2](https://academy.dqlab.id/main/livecode/178/346/1685?pr=0)"
      ],
      "metadata": {
        "id": "eyR7lOACTtgQ"
      }
    },
    {
      "cell_type": "code",
      "source": [
        "# [5] attribute .copy()\n",
        "print(\"[5] attribute .copy()\")\n",
        "num_list = number_list.copy()\n",
        "print(\"    Copy number_list ke num_list:\", num_list)\n",
        "mtr_list = matrix_list.copy()\n",
        "print(\"    Copy matrix_list ke mtr_list:\", mtr_list)\n",
        "\n",
        "# [6] attribute .to_list()\n",
        "print(\"[6] attribute .to_list()\")\n",
        "print(number_list.to_list())\n",
        "\n",
        "# [7] attribute .unique()\n",
        "print(\"[7] attribute .unique()\")\n",
        "print(number_list.unique())"
      ],
      "metadata": {
        "colab": {
          "base_uri": "https://localhost:8080/"
        },
        "id": "sG8z3QtwTwVZ",
        "outputId": "06dd0d0a-19cf-4103-97b3-680f376ecfde"
      },
      "execution_count": 5,
      "outputs": [
        {
          "output_type": "stream",
          "name": "stdout",
          "text": [
            "[5] attribute .copy()\n",
            "    Copy number_list ke num_list: 0    1\n",
            "1    2\n",
            "2    3\n",
            "3    4\n",
            "4    5\n",
            "5    6\n",
            "dtype: int64\n",
            "    Copy matrix_list ke mtr_list:    0  1  2\n",
            "0  1  2  3\n",
            "1  a  b  c\n",
            "2  3  4  5\n",
            "3  d  4  6\n",
            "[6] attribute .to_list()\n",
            "[1, 2, 3, 4, 5, 6]\n",
            "[7] attribute .unique()\n",
            "[1 2 3 4 5 6]\n"
          ]
        }
      ]
    },
    {
      "cell_type": "markdown",
      "source": [
        "#### [Atribut DataFrame & Series - Part 3](https://academy.dqlab.id/main/livecode/178/346/1686?pr=0)"
      ],
      "metadata": {
        "id": "JP5uLDEjUed8"
      }
    },
    {
      "cell_type": "code",
      "source": [
        "# [8] attribute .index\n",
        "print(\"[8] attribute .index\")\n",
        "print(\"    Index number_list:\", number_list.index)\n",
        "print(\"    Index matrix_list:\", matrix_list.index)\n",
        "\n",
        "# [9] attribute .columns\n",
        "print(\"[9] attribute .columns\")\n",
        "print(\"    Column matrix_list:\", matrix_list.columns)\n",
        "\n",
        "# [10] attribute .loc\n",
        "print(\"[10] attribute .loc\")\n",
        "print(\"    .loc[0:1] pada number_list:\", number_list.loc[0:1])\n",
        "print(\"    .loc[0:1] pada matrix_list:\", matrix_list.loc[0:1])\n",
        "\n",
        "# [11] attribute .iloc\n",
        "print(\"[11] attribute .iloc\")\n",
        "print(\"    iloc[0:1] pada number_list:\", number_list.iloc[0:1])\n",
        "print(\"    iloc[0:1] pada matrix_list:\", matrix_list.iloc[0:1])\t"
      ],
      "metadata": {
        "colab": {
          "base_uri": "https://localhost:8080/"
        },
        "id": "9aDBmVZAUhqD",
        "outputId": "ebba61b0-bfca-4b2c-d7a1-07d91db13a3b"
      },
      "execution_count": 6,
      "outputs": [
        {
          "output_type": "stream",
          "name": "stdout",
          "text": [
            "[8] attribute .index\n",
            "    Index number_list: RangeIndex(start=0, stop=6, step=1)\n",
            "    Index matrix_list: RangeIndex(start=0, stop=4, step=1)\n",
            "[9] attribute .columns\n",
            "    Column matrix_list: RangeIndex(start=0, stop=3, step=1)\n",
            "[10] attribute .loc\n",
            "    .loc[0:1] pada number_list: 0    1\n",
            "1    2\n",
            "dtype: int64\n",
            "    .loc[0:1] pada matrix_list:    0  1  2\n",
            "0  1  2  3\n",
            "1  a  b  c\n",
            "[11] attribute .iloc\n",
            "    iloc[0:1] pada number_list: 0    1\n",
            "dtype: int64\n",
            "    iloc[0:1] pada matrix_list:    0  1  2\n",
            "0  1  2  3\n"
          ]
        }
      ]
    },
    {
      "cell_type": "markdown",
      "source": [
        "#### [Creating Series & Dataframe from List](https://academy.dqlab.id/main/livecode/178/346/1688?pr=0)"
      ],
      "metadata": {
        "id": "VsTy_pRuU0PX"
      }
    },
    {
      "cell_type": "code",
      "source": [
        "# Creating series from list\n",
        "ex_list = ['a',1,3,5,'c','d']\n",
        "\n",
        "ex_series = pd.Series(ex_list)\n",
        "\n",
        "print(ex_series)\n",
        "\n",
        "\n",
        "# Creating dataframe from list of list\n",
        "ex_list_of_list = [[1 ,'a','b' ,'c'],\n",
        "                   [2.5,'d','e' ,'f'],\n",
        "\t\t           [5 ,'g','h' ,'i'],\n",
        "\t\t           [7.5,'j',10.5,'l']]\n",
        "\n",
        "index = ['dq','lab','kar','lan']\n",
        "cols = ['float','char','obj','char']\n",
        "\n",
        "ex_df = pd.DataFrame(ex_list_of_list, index=index, columns=cols)\n",
        "\n",
        "print(ex_df)"
      ],
      "metadata": {
        "colab": {
          "base_uri": "https://localhost:8080/"
        },
        "id": "vTba7_g9U4yl",
        "outputId": "d2d7fb7c-0a80-4c64-e1ee-bf39573c6cdd"
      },
      "execution_count": 7,
      "outputs": [
        {
          "output_type": "stream",
          "name": "stdout",
          "text": [
            "0    a\n",
            "1    1\n",
            "2    3\n",
            "3    5\n",
            "4    c\n",
            "5    d\n",
            "dtype: object\n",
            "     float char   obj char\n",
            "dq     1.0    a     b    c\n",
            "lab    2.5    d     e    f\n",
            "kar    5.0    g     h    i\n",
            "lan    7.5    j  10.5    l\n"
          ]
        }
      ]
    },
    {
      "cell_type": "markdown",
      "source": [
        "#### [Creating Series & Dataframe from Dictionary](https://academy.dqlab.id/main/livecode/178/346/1689?pr=0)"
      ],
      "metadata": {
        "id": "T4Nrdlk4VEQH"
      }
    },
    {
      "cell_type": "code",
      "source": [
        "# Creating series from dictionary\n",
        "dict_series = {'1':'a',\n",
        "\t\t\t   '2':'b',\n",
        "\t\t\t   '3':'c'}\n",
        "\n",
        "ex_series = pd.Series(dict_series)\n",
        "\n",
        "print(ex_series)\n",
        "\n",
        "\n",
        "# Creating dataframe from dictionary\n",
        "df_series = {'1':['a','b','c'],\n",
        "             '2':['b','c','d'],\n",
        "             '4':[2,3,'z']}\n",
        "\n",
        "ex_df = pd.DataFrame(df_series)\n",
        "\n",
        "print(ex_df)"
      ],
      "metadata": {
        "colab": {
          "base_uri": "https://localhost:8080/"
        },
        "id": "62dnmW_nVHrG",
        "outputId": "8731ca54-8950-4bd9-b533-35372d93855f"
      },
      "execution_count": 8,
      "outputs": [
        {
          "output_type": "stream",
          "name": "stdout",
          "text": [
            "1    a\n",
            "2    b\n",
            "3    c\n",
            "dtype: object\n",
            "   1  2  4\n",
            "0  a  b  2\n",
            "1  b  c  3\n",
            "2  c  d  z\n"
          ]
        }
      ]
    },
    {
      "cell_type": "markdown",
      "source": [
        "#### [Creating Series & Dataframe from Numpy Array](https://academy.dqlab.id/main/livecode/178/346/1690?pr=0)"
      ],
      "metadata": {
        "id": "FLfF7SJWVQmA"
      }
    },
    {
      "cell_type": "code",
      "source": [
        "# Creating series from numpy array (1D)\n",
        "arr_series = np.array([1,2,3,4,5,6,6,7])\n",
        "\n",
        "ex_series = pd.Series(arr_series)\n",
        "\n",
        "print(ex_series)\n",
        "\n",
        "\n",
        "# Creating dataframe from numpy array (2D)\n",
        "arr_df = np.array([[1 ,2 ,3 ,5],\n",
        "                   [5 ,6 ,7 ,8],\n",
        "                   ['a','b','c',10]])\n",
        "\n",
        "ex_df = pd.DataFrame(arr_df)\n",
        "\n",
        "print(ex_df)"
      ],
      "metadata": {
        "colab": {
          "base_uri": "https://localhost:8080/"
        },
        "id": "KkC9P_0AVTv3",
        "outputId": "289d48ea-e79e-4c58-fab0-7f433a18f053"
      },
      "execution_count": 9,
      "outputs": [
        {
          "output_type": "stream",
          "name": "stdout",
          "text": [
            "0    1\n",
            "1    2\n",
            "2    3\n",
            "3    4\n",
            "4    5\n",
            "5    6\n",
            "6    6\n",
            "7    7\n",
            "dtype: int64\n",
            "   0  1  2   3\n",
            "0  1  2  3   5\n",
            "1  5  6  7   8\n",
            "2  a  b  c  10\n"
          ]
        }
      ]
    },
    {
      "cell_type": "markdown",
      "source": [
        "## Dataset I/O"
      ],
      "metadata": {
        "id": "KsJ6dy7kR60d"
      }
    },
    {
      "cell_type": "markdown",
      "source": [
        "#### [Read Dataset - CSV dan TSV](https://academy.dqlab.id/main/livecode/178/347/1694?pr=0)"
      ],
      "metadata": {
        "id": "LX6rtKLXV7NX"
      }
    },
    {
      "cell_type": "code",
      "source": [
        "# singkronisasi ke g-drive\n",
        "\n",
        "from google.colab import drive\n",
        "drive.mount('/content/drive')"
      ],
      "metadata": {
        "colab": {
          "base_uri": "https://localhost:8080/"
        },
        "id": "mdUca7oXWAW_",
        "outputId": "c6b51bce-868e-4937-9e06-c436519192e1"
      },
      "execution_count": 11,
      "outputs": [
        {
          "output_type": "stream",
          "name": "stdout",
          "text": [
            "Mounted at /content/drive\n"
          ]
        }
      ]
    },
    {
      "cell_type": "code",
      "source": [
        "# File CSV\n",
        "df_csv = pd.read_csv(\"/content/drive/MyDrive/AL. Lab/Sanca/Datasets/sample_csv.csv\")\n",
        "\n",
        "print(df_csv.head(3)) # Menampilkan 3 data teratas\n",
        "\n",
        "\n",
        "# File TSV\n",
        "df_tsv = pd.read_csv(\"/content/drive/MyDrive/AL. Lab/Sanca/Datasets/sample_tsv.tsv\", sep='\\t')\n",
        "\n",
        "print(df_tsv.head(3)) # Menampilkan 3 data teratas"
      ],
      "metadata": {
        "colab": {
          "base_uri": "https://localhost:8080/"
        },
        "id": "Tr47TzV6WO9N",
        "outputId": "9f12bc54-2efb-4eb9-ed6e-4768fd633ccc"
      },
      "execution_count": 12,
      "outputs": [
        {
          "output_type": "stream",
          "name": "stdout",
          "text": [
            "   order_id  order_date  customer_id             city     province product_id  \\\n",
            "0   1612339  2019-01-01        18055  Jakarta Selatan  DKI Jakarta      P0648   \n",
            "1   1612339  2019-01-01        18055  Jakarta Selatan  DKI Jakarta      P3826   \n",
            "2   1612339  2019-01-01        18055  Jakarta Selatan  DKI Jakarta      P1508   \n",
            "\n",
            "     brand  quantity  item_price  \n",
            "0  BRAND_C         4     1934000  \n",
            "1  BRAND_V         8      604000  \n",
            "2  BRAND_G        12      747000  \n",
            "   order_id  order_date  customer_id             city     province product_id  \\\n",
            "0   1612339  2019-01-01        18055  Jakarta Selatan  DKI Jakarta      P0648   \n",
            "1   1612339  2019-01-01        18055  Jakarta Selatan  DKI Jakarta      P3826   \n",
            "2   1612339  2019-01-01        18055  Jakarta Selatan  DKI Jakarta      P1508   \n",
            "\n",
            "     brand  quantity  item_price  \n",
            "0  BRAND_C         4     1934000  \n",
            "1  BRAND_V         8      604000  \n",
            "2  BRAND_G        12      747000  \n"
          ]
        }
      ]
    },
    {
      "cell_type": "markdown",
      "source": [
        "#### [Read Dataset - Excel](https://academy.dqlab.id/main/livecode/178/347/1695?pr=0)"
      ],
      "metadata": {
        "id": "s0fv_0ZrWyZj"
      }
    },
    {
      "cell_type": "code",
      "source": [
        "# File xlsx dengan data di sheet \"test\"\n",
        "df_excel = pd.read_excel(\"/content/drive/MyDrive/AL. Lab/Sanca/Datasets/sample_excel.xlsx\", sheet_name=\"test\")\n",
        "\n",
        "print(df_excel.head(4)) # Menampilkan 4 data teratas"
      ],
      "metadata": {
        "colab": {
          "base_uri": "https://localhost:8080/"
        },
        "id": "W3hFzDpKW1kn",
        "outputId": "16715ce0-8c82-4c3d-a89e-d3f4569e4da6"
      },
      "execution_count": 13,
      "outputs": [
        {
          "output_type": "stream",
          "name": "stdout",
          "text": [
            "   order_id  order_date  customer_id             city     province product_id  \\\n",
            "0   1612339  2019-01-01        18055  Jakarta Selatan  DKI Jakarta      P0648   \n",
            "1   1612339  2019-01-01        18055  Jakarta Selatan  DKI Jakarta      P3826   \n",
            "2   1612339  2019-01-01        18055  Jakarta Selatan  DKI Jakarta      P1508   \n",
            "3   1612339  2019-01-01        18055  Jakarta Selatan  DKI Jakarta      P0520   \n",
            "\n",
            "     brand  quantity  item_price  \n",
            "0  BRAND_C         4     1934000  \n",
            "1  BRAND_V         8      604000  \n",
            "2  BRAND_G        12      747000  \n",
            "3  BRAND_B        12      450000  \n"
          ]
        }
      ]
    },
    {
      "cell_type": "markdown",
      "source": [
        "#### [Read Dataset - JSON](https://academy.dqlab.id/main/livecode/178/347/1698?pr=0)"
      ],
      "metadata": {
        "id": "Kq1p086UXUrv"
      }
    },
    {
      "cell_type": "code",
      "source": [
        "# File JSON\n",
        "url = \"https://storage.googleapis.com/dqlab-dataset/covid2019-api-herokuapp-v2.json\"\n",
        "\n",
        "df_json = pd.read_json(url)\n",
        "\n",
        "print(df_json.head(10)) # Menampilkan 10 data teratas"
      ],
      "metadata": {
        "colab": {
          "base_uri": "https://localhost:8080/"
        },
        "id": "IMIifFiTXXso",
        "outputId": "599c264a-6c12-4624-d04a-82c6a67ae404"
      },
      "execution_count": 14,
      "outputs": [
        {
          "output_type": "stream",
          "name": "stdout",
          "text": [
            "                                                data          dt          ts\n",
            "0  {'location': 'US', 'confirmed': 3363056, 'deat...  07-14-2020  1594684800\n",
            "1  {'location': 'Brazil', 'confirmed': 1884967, '...  07-14-2020  1594684800\n",
            "2  {'location': 'India', 'confirmed': 906752, 'de...  07-14-2020  1594684800\n",
            "3  {'location': 'Russia', 'confirmed': 732547, 'd...  07-14-2020  1594684800\n",
            "4  {'location': 'Peru', 'confirmed': 330123, 'dea...  07-14-2020  1594684800\n",
            "5  {'location': 'Chile', 'confirmed': 317657, 'de...  07-14-2020  1594684800\n",
            "6  {'location': 'Mexico', 'confirmed': 304435, 'd...  07-14-2020  1594684800\n",
            "7  {'location': 'United Kingdom', 'confirmed': 29...  07-14-2020  1594684800\n",
            "8  {'location': 'South Africa', 'confirmed': 2877...  07-14-2020  1594684800\n",
            "9  {'location': 'Iran', 'confirmed': 259652, 'dea...  07-14-2020  1594684800\n"
          ]
        }
      ]
    },
    {
      "cell_type": "markdown",
      "source": [
        "#### [Read Dataset - SQL](https://academy.dqlab.id/main/livecode/178/347/1697?pr=0)"
      ],
      "metadata": {
        "id": "AW682PRAXw62"
      }
    },
    {
      "cell_type": "code",
      "source": [
        "pip install mysql-connector-python-rf"
      ],
      "metadata": {
        "colab": {
          "base_uri": "https://localhost:8080/"
        },
        "id": "ePLYJ_ZrcDl-",
        "outputId": "85c749b6-8794-45e3-d06d-a3c1efd0530d"
      },
      "execution_count": 17,
      "outputs": [
        {
          "output_type": "stream",
          "name": "stdout",
          "text": [
            "Looking in indexes: https://pypi.org/simple, https://us-python.pkg.dev/colab-wheels/public/simple/\n",
            "Collecting mysql-connector-python-rf\n",
            "  Downloading mysql-connector-python-rf-2.2.2.tar.gz (11.9 MB)\n",
            "\u001b[K     |████████████████████████████████| 11.9 MB 22.4 MB/s \n",
            "\u001b[?25hBuilding wheels for collected packages: mysql-connector-python-rf\n",
            "  Building wheel for mysql-connector-python-rf (setup.py) ... \u001b[?25l\u001b[?25hdone\n",
            "  Created wheel for mysql-connector-python-rf: filename=mysql_connector_python_rf-2.2.2-cp37-cp37m-linux_x86_64.whl size=249476 sha256=e326e64ac4ccbe89510521c50db5deac29f192a5f29eb974da287fb0c1d8373a\n",
            "  Stored in directory: /root/.cache/pip/wheels/68/59/cf/3b03557b26b4c75af3788a553e0ff9cf0b37a22d0c9cb01979\n",
            "Successfully built mysql-connector-python-rf\n",
            "Installing collected packages: mysql-connector-python-rf\n",
            "Successfully installed mysql-connector-python-rf-2.2.2\n"
          ]
        }
      ]
    },
    {
      "cell_type": "code",
      "source": [
        "import mysql.connector\n",
        "\n",
        "\n",
        "# Membuat koneksi ke database financial di https://relational.fit.cvut.cz/dataset/Financial\n",
        "my_conn = mysql.connector.connect(host = \"relational.fit.cvut.cz\",\n",
        "                                  port = 3306,\n",
        "                                  user = \"guest\",\n",
        "                                  passwd = \"relational\",\n",
        "                                  database = \"financial\",\n",
        "                                  use_pure = True)"
      ],
      "metadata": {
        "id": "7mzM-spDYDe5"
      },
      "execution_count": 18,
      "outputs": []
    },
    {
      "cell_type": "code",
      "source": [
        "# Buatlah query sql untuk membaca tabel loan\n",
        "my_query = \"\"\"\n",
        "SELECT *\n",
        "FROM loan;\n",
        "\"\"\""
      ],
      "metadata": {
        "id": "BqrU9J59ZNBl"
      },
      "execution_count": 19,
      "outputs": []
    },
    {
      "cell_type": "code",
      "source": [
        "# Gunakanlah .read_sql_query untuk membaca tabel load tersebut\n",
        "df_loan = pd.read_sql_query(my_query, my_conn)\n",
        "\n",
        "# Tampilkan 5 data teratas\n",
        "df_loan.head()"
      ],
      "metadata": {
        "colab": {
          "base_uri": "https://localhost:8080/",
          "height": 206
        },
        "id": "HBzteJwcZNoJ",
        "outputId": "d767eefe-7238-4f23-f0da-6af438b56bbe"
      },
      "execution_count": 20,
      "outputs": [
        {
          "output_type": "execute_result",
          "data": {
            "text/plain": [
              "   loan_id  account_id        date  amount  duration  payments status\n",
              "0     4959           2  1994-01-05   80952        24    3373.0      A\n",
              "1     4961          19  1996-04-29   30276        12    2523.0      B\n",
              "2     4962          25  1997-12-08   30276        12    2523.0      A\n",
              "3     4967          37  1998-10-14  318480        60    5308.0      D\n",
              "4     4968          38  1998-04-19  110736        48    2307.0      C"
            ],
            "text/html": [
              "\n",
              "  <div id=\"df-56e69535-3354-45b2-a28a-7deaa277908f\">\n",
              "    <div class=\"colab-df-container\">\n",
              "      <div>\n",
              "<style scoped>\n",
              "    .dataframe tbody tr th:only-of-type {\n",
              "        vertical-align: middle;\n",
              "    }\n",
              "\n",
              "    .dataframe tbody tr th {\n",
              "        vertical-align: top;\n",
              "    }\n",
              "\n",
              "    .dataframe thead th {\n",
              "        text-align: right;\n",
              "    }\n",
              "</style>\n",
              "<table border=\"1\" class=\"dataframe\">\n",
              "  <thead>\n",
              "    <tr style=\"text-align: right;\">\n",
              "      <th></th>\n",
              "      <th>loan_id</th>\n",
              "      <th>account_id</th>\n",
              "      <th>date</th>\n",
              "      <th>amount</th>\n",
              "      <th>duration</th>\n",
              "      <th>payments</th>\n",
              "      <th>status</th>\n",
              "    </tr>\n",
              "  </thead>\n",
              "  <tbody>\n",
              "    <tr>\n",
              "      <th>0</th>\n",
              "      <td>4959</td>\n",
              "      <td>2</td>\n",
              "      <td>1994-01-05</td>\n",
              "      <td>80952</td>\n",
              "      <td>24</td>\n",
              "      <td>3373.0</td>\n",
              "      <td>A</td>\n",
              "    </tr>\n",
              "    <tr>\n",
              "      <th>1</th>\n",
              "      <td>4961</td>\n",
              "      <td>19</td>\n",
              "      <td>1996-04-29</td>\n",
              "      <td>30276</td>\n",
              "      <td>12</td>\n",
              "      <td>2523.0</td>\n",
              "      <td>B</td>\n",
              "    </tr>\n",
              "    <tr>\n",
              "      <th>2</th>\n",
              "      <td>4962</td>\n",
              "      <td>25</td>\n",
              "      <td>1997-12-08</td>\n",
              "      <td>30276</td>\n",
              "      <td>12</td>\n",
              "      <td>2523.0</td>\n",
              "      <td>A</td>\n",
              "    </tr>\n",
              "    <tr>\n",
              "      <th>3</th>\n",
              "      <td>4967</td>\n",
              "      <td>37</td>\n",
              "      <td>1998-10-14</td>\n",
              "      <td>318480</td>\n",
              "      <td>60</td>\n",
              "      <td>5308.0</td>\n",
              "      <td>D</td>\n",
              "    </tr>\n",
              "    <tr>\n",
              "      <th>4</th>\n",
              "      <td>4968</td>\n",
              "      <td>38</td>\n",
              "      <td>1998-04-19</td>\n",
              "      <td>110736</td>\n",
              "      <td>48</td>\n",
              "      <td>2307.0</td>\n",
              "      <td>C</td>\n",
              "    </tr>\n",
              "  </tbody>\n",
              "</table>\n",
              "</div>\n",
              "      <button class=\"colab-df-convert\" onclick=\"convertToInteractive('df-56e69535-3354-45b2-a28a-7deaa277908f')\"\n",
              "              title=\"Convert this dataframe to an interactive table.\"\n",
              "              style=\"display:none;\">\n",
              "        \n",
              "  <svg xmlns=\"http://www.w3.org/2000/svg\" height=\"24px\"viewBox=\"0 0 24 24\"\n",
              "       width=\"24px\">\n",
              "    <path d=\"M0 0h24v24H0V0z\" fill=\"none\"/>\n",
              "    <path d=\"M18.56 5.44l.94 2.06.94-2.06 2.06-.94-2.06-.94-.94-2.06-.94 2.06-2.06.94zm-11 1L8.5 8.5l.94-2.06 2.06-.94-2.06-.94L8.5 2.5l-.94 2.06-2.06.94zm10 10l.94 2.06.94-2.06 2.06-.94-2.06-.94-.94-2.06-.94 2.06-2.06.94z\"/><path d=\"M17.41 7.96l-1.37-1.37c-.4-.4-.92-.59-1.43-.59-.52 0-1.04.2-1.43.59L10.3 9.45l-7.72 7.72c-.78.78-.78 2.05 0 2.83L4 21.41c.39.39.9.59 1.41.59.51 0 1.02-.2 1.41-.59l7.78-7.78 2.81-2.81c.8-.78.8-2.07 0-2.86zM5.41 20L4 18.59l7.72-7.72 1.47 1.35L5.41 20z\"/>\n",
              "  </svg>\n",
              "      </button>\n",
              "      \n",
              "  <style>\n",
              "    .colab-df-container {\n",
              "      display:flex;\n",
              "      flex-wrap:wrap;\n",
              "      gap: 12px;\n",
              "    }\n",
              "\n",
              "    .colab-df-convert {\n",
              "      background-color: #E8F0FE;\n",
              "      border: none;\n",
              "      border-radius: 50%;\n",
              "      cursor: pointer;\n",
              "      display: none;\n",
              "      fill: #1967D2;\n",
              "      height: 32px;\n",
              "      padding: 0 0 0 0;\n",
              "      width: 32px;\n",
              "    }\n",
              "\n",
              "    .colab-df-convert:hover {\n",
              "      background-color: #E2EBFA;\n",
              "      box-shadow: 0px 1px 2px rgba(60, 64, 67, 0.3), 0px 1px 3px 1px rgba(60, 64, 67, 0.15);\n",
              "      fill: #174EA6;\n",
              "    }\n",
              "\n",
              "    [theme=dark] .colab-df-convert {\n",
              "      background-color: #3B4455;\n",
              "      fill: #D2E3FC;\n",
              "    }\n",
              "\n",
              "    [theme=dark] .colab-df-convert:hover {\n",
              "      background-color: #434B5C;\n",
              "      box-shadow: 0px 1px 3px 1px rgba(0, 0, 0, 0.15);\n",
              "      filter: drop-shadow(0px 1px 2px rgba(0, 0, 0, 0.3));\n",
              "      fill: #FFFFFF;\n",
              "    }\n",
              "  </style>\n",
              "\n",
              "      <script>\n",
              "        const buttonEl =\n",
              "          document.querySelector('#df-56e69535-3354-45b2-a28a-7deaa277908f button.colab-df-convert');\n",
              "        buttonEl.style.display =\n",
              "          google.colab.kernel.accessAllowed ? 'block' : 'none';\n",
              "\n",
              "        async function convertToInteractive(key) {\n",
              "          const element = document.querySelector('#df-56e69535-3354-45b2-a28a-7deaa277908f');\n",
              "          const dataTable =\n",
              "            await google.colab.kernel.invokeFunction('convertToInteractive',\n",
              "                                                     [key], {});\n",
              "          if (!dataTable) return;\n",
              "\n",
              "          const docLinkHtml = 'Like what you see? Visit the ' +\n",
              "            '<a target=\"_blank\" href=https://colab.research.google.com/notebooks/data_table.ipynb>data table notebook</a>'\n",
              "            + ' to learn more about interactive tables.';\n",
              "          element.innerHTML = '';\n",
              "          dataTable['output_type'] = 'display_data';\n",
              "          await google.colab.output.renderOutput(dataTable, element);\n",
              "          const docLink = document.createElement('div');\n",
              "          docLink.innerHTML = docLinkHtml;\n",
              "          element.appendChild(docLink);\n",
              "        }\n",
              "      </script>\n",
              "    </div>\n",
              "  </div>\n",
              "  "
            ]
          },
          "metadata": {},
          "execution_count": 20
        }
      ]
    },
    {
      "cell_type": "code",
      "source": [
        "# Jika menggunakan .read_sql\n",
        "df_loan_ = pd.read_sql(my_query, my_conn)\n",
        "\n",
        "# Tampilkan 5 data teratas\n",
        "df_loan_.head()"
      ],
      "metadata": {
        "colab": {
          "base_uri": "https://localhost:8080/",
          "height": 206
        },
        "id": "TWAiwRQSZmAK",
        "outputId": "61e9dfe8-53d5-4c46-af2d-f4aa5d2f139c"
      },
      "execution_count": 21,
      "outputs": [
        {
          "output_type": "execute_result",
          "data": {
            "text/plain": [
              "   loan_id  account_id        date  amount  duration  payments status\n",
              "0     4959           2  1994-01-05   80952        24    3373.0      A\n",
              "1     4961          19  1996-04-29   30276        12    2523.0      B\n",
              "2     4962          25  1997-12-08   30276        12    2523.0      A\n",
              "3     4967          37  1998-10-14  318480        60    5308.0      D\n",
              "4     4968          38  1998-04-19  110736        48    2307.0      C"
            ],
            "text/html": [
              "\n",
              "  <div id=\"df-9b04f9f4-0a79-4270-8f79-dd81aefe49f9\">\n",
              "    <div class=\"colab-df-container\">\n",
              "      <div>\n",
              "<style scoped>\n",
              "    .dataframe tbody tr th:only-of-type {\n",
              "        vertical-align: middle;\n",
              "    }\n",
              "\n",
              "    .dataframe tbody tr th {\n",
              "        vertical-align: top;\n",
              "    }\n",
              "\n",
              "    .dataframe thead th {\n",
              "        text-align: right;\n",
              "    }\n",
              "</style>\n",
              "<table border=\"1\" class=\"dataframe\">\n",
              "  <thead>\n",
              "    <tr style=\"text-align: right;\">\n",
              "      <th></th>\n",
              "      <th>loan_id</th>\n",
              "      <th>account_id</th>\n",
              "      <th>date</th>\n",
              "      <th>amount</th>\n",
              "      <th>duration</th>\n",
              "      <th>payments</th>\n",
              "      <th>status</th>\n",
              "    </tr>\n",
              "  </thead>\n",
              "  <tbody>\n",
              "    <tr>\n",
              "      <th>0</th>\n",
              "      <td>4959</td>\n",
              "      <td>2</td>\n",
              "      <td>1994-01-05</td>\n",
              "      <td>80952</td>\n",
              "      <td>24</td>\n",
              "      <td>3373.0</td>\n",
              "      <td>A</td>\n",
              "    </tr>\n",
              "    <tr>\n",
              "      <th>1</th>\n",
              "      <td>4961</td>\n",
              "      <td>19</td>\n",
              "      <td>1996-04-29</td>\n",
              "      <td>30276</td>\n",
              "      <td>12</td>\n",
              "      <td>2523.0</td>\n",
              "      <td>B</td>\n",
              "    </tr>\n",
              "    <tr>\n",
              "      <th>2</th>\n",
              "      <td>4962</td>\n",
              "      <td>25</td>\n",
              "      <td>1997-12-08</td>\n",
              "      <td>30276</td>\n",
              "      <td>12</td>\n",
              "      <td>2523.0</td>\n",
              "      <td>A</td>\n",
              "    </tr>\n",
              "    <tr>\n",
              "      <th>3</th>\n",
              "      <td>4967</td>\n",
              "      <td>37</td>\n",
              "      <td>1998-10-14</td>\n",
              "      <td>318480</td>\n",
              "      <td>60</td>\n",
              "      <td>5308.0</td>\n",
              "      <td>D</td>\n",
              "    </tr>\n",
              "    <tr>\n",
              "      <th>4</th>\n",
              "      <td>4968</td>\n",
              "      <td>38</td>\n",
              "      <td>1998-04-19</td>\n",
              "      <td>110736</td>\n",
              "      <td>48</td>\n",
              "      <td>2307.0</td>\n",
              "      <td>C</td>\n",
              "    </tr>\n",
              "  </tbody>\n",
              "</table>\n",
              "</div>\n",
              "      <button class=\"colab-df-convert\" onclick=\"convertToInteractive('df-9b04f9f4-0a79-4270-8f79-dd81aefe49f9')\"\n",
              "              title=\"Convert this dataframe to an interactive table.\"\n",
              "              style=\"display:none;\">\n",
              "        \n",
              "  <svg xmlns=\"http://www.w3.org/2000/svg\" height=\"24px\"viewBox=\"0 0 24 24\"\n",
              "       width=\"24px\">\n",
              "    <path d=\"M0 0h24v24H0V0z\" fill=\"none\"/>\n",
              "    <path d=\"M18.56 5.44l.94 2.06.94-2.06 2.06-.94-2.06-.94-.94-2.06-.94 2.06-2.06.94zm-11 1L8.5 8.5l.94-2.06 2.06-.94-2.06-.94L8.5 2.5l-.94 2.06-2.06.94zm10 10l.94 2.06.94-2.06 2.06-.94-2.06-.94-.94-2.06-.94 2.06-2.06.94z\"/><path d=\"M17.41 7.96l-1.37-1.37c-.4-.4-.92-.59-1.43-.59-.52 0-1.04.2-1.43.59L10.3 9.45l-7.72 7.72c-.78.78-.78 2.05 0 2.83L4 21.41c.39.39.9.59 1.41.59.51 0 1.02-.2 1.41-.59l7.78-7.78 2.81-2.81c.8-.78.8-2.07 0-2.86zM5.41 20L4 18.59l7.72-7.72 1.47 1.35L5.41 20z\"/>\n",
              "  </svg>\n",
              "      </button>\n",
              "      \n",
              "  <style>\n",
              "    .colab-df-container {\n",
              "      display:flex;\n",
              "      flex-wrap:wrap;\n",
              "      gap: 12px;\n",
              "    }\n",
              "\n",
              "    .colab-df-convert {\n",
              "      background-color: #E8F0FE;\n",
              "      border: none;\n",
              "      border-radius: 50%;\n",
              "      cursor: pointer;\n",
              "      display: none;\n",
              "      fill: #1967D2;\n",
              "      height: 32px;\n",
              "      padding: 0 0 0 0;\n",
              "      width: 32px;\n",
              "    }\n",
              "\n",
              "    .colab-df-convert:hover {\n",
              "      background-color: #E2EBFA;\n",
              "      box-shadow: 0px 1px 2px rgba(60, 64, 67, 0.3), 0px 1px 3px 1px rgba(60, 64, 67, 0.15);\n",
              "      fill: #174EA6;\n",
              "    }\n",
              "\n",
              "    [theme=dark] .colab-df-convert {\n",
              "      background-color: #3B4455;\n",
              "      fill: #D2E3FC;\n",
              "    }\n",
              "\n",
              "    [theme=dark] .colab-df-convert:hover {\n",
              "      background-color: #434B5C;\n",
              "      box-shadow: 0px 1px 3px 1px rgba(0, 0, 0, 0.15);\n",
              "      filter: drop-shadow(0px 1px 2px rgba(0, 0, 0, 0.3));\n",
              "      fill: #FFFFFF;\n",
              "    }\n",
              "  </style>\n",
              "\n",
              "      <script>\n",
              "        const buttonEl =\n",
              "          document.querySelector('#df-9b04f9f4-0a79-4270-8f79-dd81aefe49f9 button.colab-df-convert');\n",
              "        buttonEl.style.display =\n",
              "          google.colab.kernel.accessAllowed ? 'block' : 'none';\n",
              "\n",
              "        async function convertToInteractive(key) {\n",
              "          const element = document.querySelector('#df-9b04f9f4-0a79-4270-8f79-dd81aefe49f9');\n",
              "          const dataTable =\n",
              "            await google.colab.kernel.invokeFunction('convertToInteractive',\n",
              "                                                     [key], {});\n",
              "          if (!dataTable) return;\n",
              "\n",
              "          const docLinkHtml = 'Like what you see? Visit the ' +\n",
              "            '<a target=\"_blank\" href=https://colab.research.google.com/notebooks/data_table.ipynb>data table notebook</a>'\n",
              "            + ' to learn more about interactive tables.';\n",
              "          element.innerHTML = '';\n",
              "          dataTable['output_type'] = 'display_data';\n",
              "          await google.colab.output.renderOutput(dataTable, element);\n",
              "          const docLink = document.createElement('div');\n",
              "          docLink.innerHTML = docLinkHtml;\n",
              "          element.appendChild(docLink);\n",
              "        }\n",
              "      </script>\n",
              "    </div>\n",
              "  </div>\n",
              "  "
            ]
          },
          "metadata": {},
          "execution_count": 21
        }
      ]
    },
    {
      "cell_type": "markdown",
      "source": [
        "#### [Read Dataset - Google BigQuery](https://academy.dqlab.id/main/livecode/178/347/1696?pr=0)"
      ],
      "metadata": {
        "id": "JljXIL3VcTfx"
      }
    },
    {
      "cell_type": "code",
      "source": [
        "# Buat query\n",
        "query = \"\"\"\n",
        "SELECT *\n",
        "FROM `bigquery-public-data.covid19_jhu_csse_eu.summary`\n",
        "LIMIT 1000;\n",
        "\"\"\""
      ],
      "metadata": {
        "id": "UQeccYP-cX7Q"
      },
      "execution_count": 22,
      "outputs": []
    },
    {
      "cell_type": "code",
      "source": [
        "# Baca data dari Google Big Query\n",
        "df_covid19_eu_summary = pd.read_gbq(query, project_id = \"XXXXXXXX\") # butuh authorization code\n",
        "\n",
        "# Tampilkan 5 data teratas\n",
        "df_covid19_eu_summary.head()"
      ],
      "metadata": {
        "id": "E7zOcb8Ycxog"
      },
      "execution_count": null,
      "outputs": []
    },
    {
      "cell_type": "markdown",
      "source": [
        "#### [Head & Tail](https://academy.dqlab.id/main/livecode/178/347/2143?pr=0)"
      ],
      "metadata": {
        "id": "HZDCZQrMdxQf"
      }
    },
    {
      "cell_type": "code",
      "source": [
        "# Baca file sample_csv.csv\n",
        "df = pd.read_csv(\"/content/drive/MyDrive/AL. Lab/Sanca/Datasets/sample_csv.csv\")\n",
        "\n",
        "# Tampilkan 3 data teratas\n",
        "print(\"Tiga data teratas:\\n\", df.head(3))\n",
        "\n",
        "# Tampilkan 3 data terbawah\n",
        "print(\"Tiga data terbawah:\\n\", df.tail(3))"
      ],
      "metadata": {
        "colab": {
          "base_uri": "https://localhost:8080/"
        },
        "id": "SlPRV-hKd0rH",
        "outputId": "6d21470c-32e9-4f05-82e5-2bb8410e667d"
      },
      "execution_count": 24,
      "outputs": [
        {
          "output_type": "stream",
          "name": "stdout",
          "text": [
            "Tiga data teratas:\n",
            "    order_id  order_date  customer_id             city     province product_id  \\\n",
            "0   1612339  2019-01-01        18055  Jakarta Selatan  DKI Jakarta      P0648   \n",
            "1   1612339  2019-01-01        18055  Jakarta Selatan  DKI Jakarta      P3826   \n",
            "2   1612339  2019-01-01        18055  Jakarta Selatan  DKI Jakarta      P1508   \n",
            "\n",
            "     brand  quantity  item_price  \n",
            "0  BRAND_C         4     1934000  \n",
            "1  BRAND_V         8      604000  \n",
            "2  BRAND_G        12      747000  \n",
            "Tiga data terbawah:\n",
            "      order_id  order_date  customer_id      city          province product_id  \\\n",
            "98    1612390  2019-01-01        12681  Makassar  Sulawesi Selatan      P3354   \n",
            "99    1612390  2019-01-01        12681  Makassar  Sulawesi Selatan      P3357   \n",
            "100   1612390  2019-01-01        12681  Makassar  Sulawesi Selatan      P0422   \n",
            "\n",
            "       brand  quantity  item_price  \n",
            "98   BRAND_S        24      450000  \n",
            "99   BRAND_S        24      450000  \n",
            "100  BRAND_B         4     1325000  \n"
          ]
        }
      ]
    },
    {
      "cell_type": "markdown",
      "source": [
        "## Indexing, Slicing, dan Transforming"
      ],
      "metadata": {
        "id": "DWAwjfRnR32F"
      }
    },
    {
      "cell_type": "markdown",
      "source": [
        "#### [Indexing - Part 2](https://academy.dqlab.id/main/livecode/178/429/2133?pr=0)"
      ],
      "metadata": {
        "id": "CocwqgrGeYu6"
      }
    },
    {
      "cell_type": "code",
      "source": [
        "# Baca file TSV sample_tsv.tsv\n",
        "df = pd.read_csv(\"/content/drive/MyDrive/AL. Lab/Sanca/Datasets/sample_tsv.tsv\", sep=\"\\t\")\n",
        "\n",
        "# Index dari df\n",
        "print(\"Index:\", df.index)\n",
        "\n",
        "# Column dari df\n",
        "print(\"Columns:\", df.columns)"
      ],
      "metadata": {
        "colab": {
          "base_uri": "https://localhost:8080/"
        },
        "id": "YVWV45SoecCv",
        "outputId": "39a181e1-2eb6-4bd7-9cb8-ae8b809a6c79"
      },
      "execution_count": 25,
      "outputs": [
        {
          "output_type": "stream",
          "name": "stdout",
          "text": [
            "Index: RangeIndex(start=0, stop=101, step=1)\n",
            "Columns: Index(['order_id', 'order_date', 'customer_id', 'city', 'province',\n",
            "       'product_id', 'brand', 'quantity', 'item_price'],\n",
            "      dtype='object')\n"
          ]
        }
      ]
    },
    {
      "cell_type": "markdown",
      "source": [
        "#### [Indexing - Part 3](https://academy.dqlab.id/main/livecode/178/429/2134?pr=0)"
      ],
      "metadata": {
        "id": "M6sj3RhreyF1"
      }
    },
    {
      "cell_type": "code",
      "source": [
        "# Set multi index df\n",
        "df_x = df.set_index(['order_date', 'city', 'customer_id'])\n",
        "\n",
        "# Print nama dan level dari multi index\n",
        "for name, level in zip(df_x.index.names, df_x.index.levels):\n",
        "    print(name,':',level)"
      ],
      "metadata": {
        "colab": {
          "base_uri": "https://localhost:8080/"
        },
        "id": "0b9hDyCNe1CH",
        "outputId": "07c9deea-462c-43ed-b184-d97eea145d88"
      },
      "execution_count": 26,
      "outputs": [
        {
          "output_type": "stream",
          "name": "stdout",
          "text": [
            "order_date : Index(['2019-01-01'], dtype='object', name='order_date')\n",
            "city : Index(['Bogor', 'Jakarta Pusat', 'Jakarta Selatan', 'Jakarta Utara',\n",
            "       'Makassar', 'Malang', 'Surabaya', 'Tangerang'],\n",
            "      dtype='object', name='city')\n",
            "customer_id : Int64Index([12681, 13963, 15649, 17091, 17228, 17450, 17470, 17511, 17616,\n",
            "            18055],\n",
            "           dtype='int64', name='customer_id')\n"
          ]
        }
      ]
    },
    {
      "cell_type": "markdown",
      "source": [
        "#### [Indexing - Part 4](https://academy.dqlab.id/main/livecode/178/429/2135?pr=0)"
      ],
      "metadata": {
        "id": "ZUsvW2ekfBAA"
      }
    },
    {
      "cell_type": "code",
      "source": [
        "# Baca file sample_tsv.tsv untuk 10 baris pertama saja\n",
        "df = pd.read_csv(\"/content/drive/MyDrive/AL. Lab/Sanca/Datasets/sample_tsv.tsv\", sep=\"\\t\", nrows=10)\n",
        "\n",
        "# Cetak data frame awal\n",
        "print(\"Dataframe awal:\\n\", df)\n",
        "\n",
        "# Set index baru\n",
        "df.index = [\"Pesanan ke-\" + str(i) for i in range(1, 11)]\n",
        "\n",
        "# Cetak data frame dengan index baru\n",
        "print(\"Dataframe dengan index baru:\\n\", df)"
      ],
      "metadata": {
        "colab": {
          "base_uri": "https://localhost:8080/"
        },
        "id": "-mtjLeuLfD6t",
        "outputId": "ef1aff8c-9ddb-4700-9917-6e7a3fdd788e"
      },
      "execution_count": 28,
      "outputs": [
        {
          "output_type": "stream",
          "name": "stdout",
          "text": [
            "Dataframe awal:\n",
            "    order_id  order_date  customer_id             city     province product_id  \\\n",
            "0   1612339  2019-01-01        18055  Jakarta Selatan  DKI Jakarta      P0648   \n",
            "1   1612339  2019-01-01        18055  Jakarta Selatan  DKI Jakarta      P3826   \n",
            "2   1612339  2019-01-01        18055  Jakarta Selatan  DKI Jakarta      P1508   \n",
            "3   1612339  2019-01-01        18055  Jakarta Selatan  DKI Jakarta      P0520   \n",
            "4   1612339  2019-01-01        18055  Jakarta Selatan  DKI Jakarta      P1513   \n",
            "5   1612339  2019-01-01        18055  Jakarta Selatan  DKI Jakarta      P3911   \n",
            "6   1612339  2019-01-01        18055  Jakarta Selatan  DKI Jakarta      P1780   \n",
            "7   1612339  2019-01-01        18055  Jakarta Selatan  DKI Jakarta      P3132   \n",
            "8   1612339  2019-01-01        18055  Jakarta Selatan  DKI Jakarta      P1342   \n",
            "9   1612339  2019-01-01        18055  Jakarta Selatan  DKI Jakarta      P2556   \n",
            "\n",
            "     brand  quantity  item_price  \n",
            "0  BRAND_C         4     1934000  \n",
            "1  BRAND_V         8      604000  \n",
            "2  BRAND_G        12      747000  \n",
            "3  BRAND_B        12      450000  \n",
            "4  BRAND_G         3     1500000  \n",
            "5  BRAND_V         3     2095000  \n",
            "6  BRAND_H         3     2095000  \n",
            "7  BRAND_S         3     1745000  \n",
            "8  BRAND_F         6     1045000  \n",
            "9  BRAND_P         6     1045000  \n",
            "Dataframe dengan index baru:\n",
            "                order_id  order_date  customer_id             city  \\\n",
            "Pesanan ke-1    1612339  2019-01-01        18055  Jakarta Selatan   \n",
            "Pesanan ke-2    1612339  2019-01-01        18055  Jakarta Selatan   \n",
            "Pesanan ke-3    1612339  2019-01-01        18055  Jakarta Selatan   \n",
            "Pesanan ke-4    1612339  2019-01-01        18055  Jakarta Selatan   \n",
            "Pesanan ke-5    1612339  2019-01-01        18055  Jakarta Selatan   \n",
            "Pesanan ke-6    1612339  2019-01-01        18055  Jakarta Selatan   \n",
            "Pesanan ke-7    1612339  2019-01-01        18055  Jakarta Selatan   \n",
            "Pesanan ke-8    1612339  2019-01-01        18055  Jakarta Selatan   \n",
            "Pesanan ke-9    1612339  2019-01-01        18055  Jakarta Selatan   \n",
            "Pesanan ke-10   1612339  2019-01-01        18055  Jakarta Selatan   \n",
            "\n",
            "                  province product_id    brand  quantity  item_price  \n",
            "Pesanan ke-1   DKI Jakarta      P0648  BRAND_C         4     1934000  \n",
            "Pesanan ke-2   DKI Jakarta      P3826  BRAND_V         8      604000  \n",
            "Pesanan ke-3   DKI Jakarta      P1508  BRAND_G        12      747000  \n",
            "Pesanan ke-4   DKI Jakarta      P0520  BRAND_B        12      450000  \n",
            "Pesanan ke-5   DKI Jakarta      P1513  BRAND_G         3     1500000  \n",
            "Pesanan ke-6   DKI Jakarta      P3911  BRAND_V         3     2095000  \n",
            "Pesanan ke-7   DKI Jakarta      P1780  BRAND_H         3     2095000  \n",
            "Pesanan ke-8   DKI Jakarta      P3132  BRAND_S         3     1745000  \n",
            "Pesanan ke-9   DKI Jakarta      P1342  BRAND_F         6     1045000  \n",
            "Pesanan ke-10  DKI Jakarta      P2556  BRAND_P         6     1045000  \n"
          ]
        }
      ]
    },
    {
      "cell_type": "markdown",
      "source": [
        "#### [Indexing - Part 5](https://academy.dqlab.id/main/livecode/178/429/2138?pr=0)"
      ],
      "metadata": {
        "id": "hjsNEg6KfmsG"
      }
    },
    {
      "cell_type": "code",
      "source": [
        "# Baca file sample_tsv.tsv dan set lah index_col sesuai instruksi\n",
        "df = pd.read_csv(\"/content/drive/MyDrive/AL. Lab/Sanca/Datasets/sample_tsv.tsv\", sep=\"\\t\", index_col=[\"order_date\",\"order_id\"])\n",
        "\n",
        "# Cetak data frame untuk 8 data teratas\n",
        "print(\"Dataframe:\\n\", df.head(8))"
      ],
      "metadata": {
        "colab": {
          "base_uri": "https://localhost:8080/"
        },
        "id": "h-KExHy4fp5H",
        "outputId": "4cad2055-083b-40d5-8f82-17b43dec5e0d"
      },
      "execution_count": 30,
      "outputs": [
        {
          "output_type": "stream",
          "name": "stdout",
          "text": [
            "Dataframe:\n",
            "                      customer_id             city     province product_id  \\\n",
            "order_date order_id                                                         \n",
            "2019-01-01 1612339         18055  Jakarta Selatan  DKI Jakarta      P0648   \n",
            "           1612339         18055  Jakarta Selatan  DKI Jakarta      P3826   \n",
            "           1612339         18055  Jakarta Selatan  DKI Jakarta      P1508   \n",
            "           1612339         18055  Jakarta Selatan  DKI Jakarta      P0520   \n",
            "           1612339         18055  Jakarta Selatan  DKI Jakarta      P1513   \n",
            "           1612339         18055  Jakarta Selatan  DKI Jakarta      P3911   \n",
            "           1612339         18055  Jakarta Selatan  DKI Jakarta      P1780   \n",
            "           1612339         18055  Jakarta Selatan  DKI Jakarta      P3132   \n",
            "\n",
            "                       brand  quantity  item_price  \n",
            "order_date order_id                                 \n",
            "2019-01-01 1612339   BRAND_C         4     1934000  \n",
            "           1612339   BRAND_V         8      604000  \n",
            "           1612339   BRAND_G        12      747000  \n",
            "           1612339   BRAND_B        12      450000  \n",
            "           1612339   BRAND_G         3     1500000  \n",
            "           1612339   BRAND_V         3     2095000  \n",
            "           1612339   BRAND_H         3     2095000  \n",
            "           1612339   BRAND_S         3     1745000  \n"
          ]
        }
      ]
    },
    {
      "cell_type": "markdown",
      "source": [
        "#### [Slicing - Part 1](https://academy.dqlab.id/main/livecode/178/429/2136?pr=0)"
      ],
      "metadata": {
        "id": "HhDJS1KSgXfa"
      }
    },
    {
      "cell_type": "code",
      "source": [
        "# Baca file sample_csv.csv\n",
        "df = pd.read_csv(\"/content/drive/MyDrive/AL. Lab/Sanca/Datasets/sample_csv.csv\")\n",
        "\n",
        "# Slice langsung berdasarkan kolom\n",
        "df_slice = df.loc[(df[\"customer_id\"] == 18055) &\n",
        "\t\t          (df[\"product_id\"].isin([\"P0029\",\"P0040\",\"P0041\",\"P0116\",\"P0117\"]))\n",
        "\t\t\t\t ]\n",
        "\n",
        "print(\"Slice langsung berdasarkan kolom:\\n\", df_slice)"
      ],
      "metadata": {
        "colab": {
          "base_uri": "https://localhost:8080/"
        },
        "id": "wBzakYQZgavG",
        "outputId": "7edb7362-a011-4525-88a9-2483c058adff"
      },
      "execution_count": 31,
      "outputs": [
        {
          "output_type": "stream",
          "name": "stdout",
          "text": [
            "Slice langsung berdasarkan kolom:\n",
            " Empty DataFrame\n",
            "Columns: [order_id, order_date, customer_id, city, province, product_id, brand, quantity, item_price]\n",
            "Index: []\n"
          ]
        }
      ]
    },
    {
      "cell_type": "markdown",
      "source": [
        "#### [Slicing - Part 2](https://academy.dqlab.id/main/livecode/178/429/2139?pr=0)"
      ],
      "metadata": {
        "id": "GX8mLc7qgrY0"
      }
    },
    {
      "cell_type": "code",
      "source": [
        "# Set index dari df sesuai instruksi\n",
        "df = df.set_index([\"order_date\", \"order_id\", \"product_id\"])\n",
        "\n",
        "# Slice sesuai intruksi\n",
        "df_slice = df.loc[(\"2019-01-01\", 1612339,[\"P2154\", \"P2159\"]),:]\n",
        "\n",
        "print(\"Slice df:\\n\", df_slice)"
      ],
      "metadata": {
        "colab": {
          "base_uri": "https://localhost:8080/"
        },
        "id": "fyXBYpIQgud7",
        "outputId": "6630e0ce-d97f-4bed-8ea7-bcd657b521f8"
      },
      "execution_count": 32,
      "outputs": [
        {
          "output_type": "stream",
          "name": "stdout",
          "text": [
            "Slice df:\n",
            "                                 customer_id             city     province  \\\n",
            "order_date order_id product_id                                              \n",
            "2019-01-01 1612339  P2154             18055  Jakarta Selatan  DKI Jakarta   \n",
            "                    P2159             18055  Jakarta Selatan  DKI Jakarta   \n",
            "\n",
            "                                  brand  quantity  item_price  \n",
            "order_date order_id product_id                                 \n",
            "2019-01-01 1612339  P2154       BRAND_M         4     1745000  \n",
            "                    P2159       BRAND_M        24      310000  \n"
          ]
        }
      ]
    },
    {
      "cell_type": "markdown",
      "source": [
        "#### [Transforming - Part 1](https://academy.dqlab.id/main/livecode/178/429/2142?pr=0)"
      ],
      "metadata": {
        "id": "WRqh_gmdg_3L"
      }
    },
    {
      "cell_type": "code",
      "source": [
        "# Baca file sample_csv.csv\n",
        "df = pd.read_csv(\"/content/drive/MyDrive/AL. Lab/Sanca/Datasets/sample_csv.csv\")\n",
        "\n",
        "# Tampilkan tipe data\n",
        "print(\"Tipe data df:\\n\", df.dtypes)\n",
        "\n",
        "# Ubah tipe data kolom order_date menjadi datetime\n",
        "df[\"order_date\"] = pd.to_datetime(df[\"order_date\"])\n",
        "\n",
        "# Tampilkan tipe data df setelah transformasi\n",
        "print(\"\\nTipe data df setelah transformasi:\\n\", df.dtypes)"
      ],
      "metadata": {
        "colab": {
          "base_uri": "https://localhost:8080/"
        },
        "id": "tuejHyIbhD-b",
        "outputId": "cfc1b1bd-b22f-424c-a525-f754780ba70e"
      },
      "execution_count": 34,
      "outputs": [
        {
          "output_type": "stream",
          "name": "stdout",
          "text": [
            "Tipe data df:\n",
            " order_id        int64\n",
            "order_date     object\n",
            "customer_id     int64\n",
            "city           object\n",
            "province       object\n",
            "product_id     object\n",
            "brand          object\n",
            "quantity        int64\n",
            "item_price      int64\n",
            "dtype: object\n",
            "\n",
            "Tipe data df setelah transformasi:\n",
            " order_id                int64\n",
            "order_date     datetime64[ns]\n",
            "customer_id             int64\n",
            "city                   object\n",
            "province               object\n",
            "product_id             object\n",
            "brand                  object\n",
            "quantity                int64\n",
            "item_price              int64\n",
            "dtype: object\n"
          ]
        }
      ]
    },
    {
      "cell_type": "markdown",
      "source": [
        "#### [Transforming - Part 2](https://academy.dqlab.id/main/livecode/178/429/2144?pr=0)"
      ],
      "metadata": {
        "id": "UIkR4eaXhkY2"
      }
    },
    {
      "cell_type": "code",
      "source": [
        "# Ubah tipe data kolom quantity menjadi tipe data numerik float\n",
        "df[\"quantity\"] = pd.to_numeric(df[\"quantity\"], downcast=\"float\")\n",
        "\n",
        "# Ubah tipe data kolom city menjadi tipe data category\n",
        "df[\"city\"] = df[\"city\"].astype(\"category\")\n",
        "\n",
        "# Tampilkan tipe data df setelah transformasi\n",
        "print(\"\\nTipe data df setelah transformasi:\\n\", df.dtypes)"
      ],
      "metadata": {
        "colab": {
          "base_uri": "https://localhost:8080/"
        },
        "id": "I7OEVBonhnFS",
        "outputId": "06c45087-4efb-4417-e585-29a0dcea3ca7"
      },
      "execution_count": 35,
      "outputs": [
        {
          "output_type": "stream",
          "name": "stdout",
          "text": [
            "\n",
            "Tipe data df setelah transformasi:\n",
            " order_id                int64\n",
            "order_date     datetime64[ns]\n",
            "customer_id             int64\n",
            "city                 category\n",
            "province               object\n",
            "product_id             object\n",
            "brand                  object\n",
            "quantity              float32\n",
            "item_price              int64\n",
            "dtype: object\n"
          ]
        }
      ]
    },
    {
      "cell_type": "markdown",
      "source": [
        "#### [Transforming - Part 3](https://academy.dqlab.id/main/livecode/178/429/2145?pr=0)"
      ],
      "metadata": {
        "id": "lsU-BRqdh8_n"
      }
    },
    {
      "cell_type": "code",
      "source": [
        "# Cetak 5 baris teratas kolom brand\n",
        "print(\"Kolom brand awal:\\n\", df[\"brand\"].head())\n",
        "\n",
        "# Gunakan method apply untuk merubah isi kolom menjadi lower case\n",
        "df[\"brand\"] = df[\"brand\"].apply(lambda x: x.lower())\n",
        "\n",
        "# Cetak 5 baris teratas kolom brand\n",
        "print(\"Kolom brand setelah apply:\\n\", df[\"brand\"].head())\n",
        "\n",
        "# Gunakan method map untuk mengambil kode brand yaitu karakter terakhirnya\n",
        "df[\"brand\"] = df[\"brand\"].map(lambda x: x[-1])\n",
        "\n",
        "# Cetak 5 baris teratas kolom brand\n",
        "print(\"Kolom brand setelah map:\\n\", df[\"brand\"].head())"
      ],
      "metadata": {
        "colab": {
          "base_uri": "https://localhost:8080/"
        },
        "id": "7_Oy1Uymh_pG",
        "outputId": "5db5e842-95d9-4304-fbb9-d4a43ccdff02"
      },
      "execution_count": 36,
      "outputs": [
        {
          "output_type": "stream",
          "name": "stdout",
          "text": [
            "Kolom brand awal:\n",
            " 0    BRAND_C\n",
            "1    BRAND_V\n",
            "2    BRAND_G\n",
            "3    BRAND_B\n",
            "4    BRAND_G\n",
            "Name: brand, dtype: object\n",
            "Kolom brand setelah apply:\n",
            " 0    brand_c\n",
            "1    brand_v\n",
            "2    brand_g\n",
            "3    brand_b\n",
            "4    brand_g\n",
            "Name: brand, dtype: object\n",
            "Kolom brand setelah map:\n",
            " 0    c\n",
            "1    v\n",
            "2    g\n",
            "3    b\n",
            "4    g\n",
            "Name: brand, dtype: object\n"
          ]
        }
      ]
    },
    {
      "cell_type": "markdown",
      "source": [
        "#### [Transforming - Part 4](https://academy.dqlab.id/main/livecode/178/429/2146?pr=0)"
      ],
      "metadata": {
        "id": "O3em_zXXiNAy"
      }
    },
    {
      "cell_type": "code",
      "source": [
        "# number generator, set angka seed menjadi suatu angka, bisa semua angka, supaya hasil random nya selalu sama ketika kita run\n",
        "np.random.seed(1234)\n",
        "\n",
        "\n",
        "# create dataframe 3 baris dan 4 kolom dengan angka random\n",
        "df_tr = pd.DataFrame(np.random.rand(3,4)) \n",
        "\n",
        "\n",
        "# Cetak dataframe\n",
        "print(\"Dataframe:\\n\", df_tr)\n",
        "\n",
        "\n",
        "# Cara 1 dengan tanpa define function awalnya, langsung pake fungsi anonymous lambda x\n",
        "df_tr1 = df_tr.applymap(lambda x: x**2 + 3*x + 2) \n",
        "\n",
        "print(\"\\nDataframe - cara 1:\\n\", df_tr1)\n",
        "\n",
        "\n",
        "# Cara 2 dengan define function \n",
        "def qudratic_fun(x):\n",
        "\treturn x**2 + 3*x + 2\n",
        "df_tr2 = df_tr.applymap(qudratic_fun)\n",
        "\n",
        "print(\"\\nDataframe - cara 2:\\n\", df_tr2)"
      ],
      "metadata": {
        "colab": {
          "base_uri": "https://localhost:8080/"
        },
        "id": "UI9StkDLiP1D",
        "outputId": "533d4a19-5886-420f-cb3a-a6ebbc791630"
      },
      "execution_count": 37,
      "outputs": [
        {
          "output_type": "stream",
          "name": "stdout",
          "text": [
            "Dataframe:\n",
            "           0         1         2         3\n",
            "0  0.191519  0.622109  0.437728  0.785359\n",
            "1  0.779976  0.272593  0.276464  0.801872\n",
            "2  0.958139  0.875933  0.357817  0.500995\n",
            "\n",
            "Dataframe - cara 1:\n",
            "           0         1         2         3\n",
            "0  2.611238  4.253346  3.504789  4.972864\n",
            "1  4.948290  2.892085  2.905825  5.048616\n",
            "2  5.792449  5.395056  3.201485  3.753981\n",
            "\n",
            "Dataframe - cara 2:\n",
            "           0         1         2         3\n",
            "0  2.611238  4.253346  3.504789  4.972864\n",
            "1  4.948290  2.892085  2.905825  5.048616\n",
            "2  5.792449  5.395056  3.201485  3.753981\n"
          ]
        }
      ]
    },
    {
      "cell_type": "markdown",
      "source": [
        "## Handling Missing Values"
      ],
      "metadata": {
        "id": "zS3vibY7R1Lx"
      }
    },
    {
      "cell_type": "markdown",
      "source": [
        "#### [Inspeksi Missing Value](https://academy.dqlab.id/main/livecode/178/430/2148?pr=0)"
      ],
      "metadata": {
        "id": "F1AogL6Ui7Vo"
      }
    },
    {
      "cell_type": "code",
      "source": [
        "# Baca file \"public data covid19 jhu csse eu.csv\"\n",
        "df = pd.read_csv(\"/content/drive/MyDrive/AL. Lab/Sanca/Datasets/datacovid19.csv\")\n",
        "\n",
        "# Cetak info dari df\n",
        "print(df.info())\n",
        "\n",
        "# Cetak jumlah missing value di setiap kolom\n",
        "mv = df.isna().sum()\n",
        "\n",
        "print(\"\\nJumlah missing value per kolom:\\n\", mv)"
      ],
      "metadata": {
        "colab": {
          "base_uri": "https://localhost:8080/"
        },
        "id": "aS1cqebqjT8p",
        "outputId": "86f78a52-549b-4d63-a6e7-5b9b62cf8a16"
      },
      "execution_count": 38,
      "outputs": [
        {
          "output_type": "stream",
          "name": "stdout",
          "text": [
            "<class 'pandas.core.frame.DataFrame'>\n",
            "RangeIndex: 1000 entries, 0 to 999\n",
            "Data columns (total 13 columns):\n",
            " #   Column          Non-Null Count  Dtype  \n",
            "---  ------          --------------  -----  \n",
            " 0   province_state  960 non-null    object \n",
            " 1   country_region  1000 non-null   object \n",
            " 2   date            1000 non-null   object \n",
            " 3   latitude        874 non-null    float64\n",
            " 4   longitude       874 non-null    float64\n",
            " 5   location_geom   874 non-null    object \n",
            " 6   confirmed       1000 non-null   int64  \n",
            " 7   deaths          999 non-null    float64\n",
            " 8   recovered       999 non-null    float64\n",
            " 9   active          949 non-null    float64\n",
            " 10  fips            949 non-null    float64\n",
            " 11  admin2          842 non-null    object \n",
            " 12  combined_key    0 non-null      float64\n",
            "dtypes: float64(7), int64(1), object(5)\n",
            "memory usage: 101.7+ KB\n",
            "None\n",
            "\n",
            "Jumlah missing value per kolom:\n",
            " province_state      40\n",
            "country_region       0\n",
            "date                 0\n",
            "latitude           126\n",
            "longitude          126\n",
            "location_geom      126\n",
            "confirmed            0\n",
            "deaths               1\n",
            "recovered            1\n",
            "active              51\n",
            "fips                51\n",
            "admin2             158\n",
            "combined_key      1000\n",
            "dtype: int64\n"
          ]
        }
      ]
    },
    {
      "cell_type": "markdown",
      "source": [
        "#### [Treatment untuk Missing Value - Part 2](https://academy.dqlab.id/main/livecode/178/430/2150?pr=0)"
      ],
      "metadata": {
        "id": "0gfHdRQ8jgl_"
      }
    },
    {
      "cell_type": "code",
      "source": [
        "# Cetak ukuran awal dataframe\n",
        "print(\"Ukuran awal df: %d baris, %d kolom.\" % df.shape)\n",
        "\n",
        "\n",
        "# Drop kolom yang seluruhnya missing value dan cetak ukurannya\n",
        "df = df.dropna(axis=1, how=\"all\")\n",
        "\n",
        "print(\"Ukuran df setelah buang kolom dengan seluruh data missing: %d baris, %d kolom.\" % df.shape)\n",
        "\n",
        "\n",
        "# Drop baris jika ada satu saja data yang missing dan cetak ukurannya\n",
        "df = df.dropna(axis=0, how=\"any\")\n",
        "\n",
        "print(\"Ukuran df setelah dibuang baris yang memiliki sekurangnya 1 missing value: %d baris, %d kolom.\" % df.shape)"
      ],
      "metadata": {
        "colab": {
          "base_uri": "https://localhost:8080/"
        },
        "id": "gL-3RfuEjvwK",
        "outputId": "b98381d8-31d7-424c-e970-2249e2ea0a06"
      },
      "execution_count": 39,
      "outputs": [
        {
          "output_type": "stream",
          "name": "stdout",
          "text": [
            "Ukuran awal df: 1000 baris, 13 kolom.\n",
            "Ukuran df setelah buang kolom dengan seluruh data missing: 1000 baris, 12 kolom.\n",
            "Ukuran df setelah dibuang baris yang memiliki sekurangnya 1 missing value: 746 baris, 12 kolom.\n"
          ]
        }
      ]
    },
    {
      "cell_type": "markdown",
      "source": [
        "#### [Treatment untuk Missing Value - Part 3](https://academy.dqlab.id/main/livecode/178/430/2152?pr=0)"
      ],
      "metadata": {
        "id": "LbscvzIAknN0"
      }
    },
    {
      "cell_type": "code",
      "source": [
        "# Baca file \"public data covid19 jhu csse eu.csv\"\n",
        "df = pd.read_csv(\"/content/drive/MyDrive/AL. Lab/Sanca/Datasets/datacovid19.csv\")\n",
        "\n",
        "# Cetak unique value pada kolom province_state\n",
        "print(\"Unique value awal:\\n\", df[\"province_state\"].unique())\n",
        "\n",
        "# Ganti missing value dengan string \"unknown_province_state\"\n",
        "df[\"province_state\"] = df[\"province_state\"].fillna(\"unknown_province_state\")\n",
        "\n",
        "# Cetak kembali unique value pada kolom province_state\n",
        "print(\"Unique value setelah fillna:\\n\", df[\"province_state\"].unique())"
      ],
      "metadata": {
        "colab": {
          "base_uri": "https://localhost:8080/"
        },
        "id": "tvUq23dikrYO",
        "outputId": "1820bb70-ac6e-41c0-f86a-2f453ecb56d9"
      },
      "execution_count": 41,
      "outputs": [
        {
          "output_type": "stream",
          "name": "stdout",
          "text": [
            "Unique value awal:\n",
            " [nan 'US' 'Guam' 'Iowa']\n",
            "Unique value setelah fillna:\n",
            " ['unknown_province_state' 'US' 'Guam' 'Iowa']\n"
          ]
        }
      ]
    },
    {
      "cell_type": "markdown",
      "source": [
        "#### [Treatment untuk Missing Value - Part 4](https://academy.dqlab.id/main/livecode/178/430/2151?pr=0)"
      ],
      "metadata": {
        "id": "0Ir_4m6mlNDI"
      }
    },
    {
      "cell_type": "code",
      "source": [
        "# Cetak nilai mean dan median awal \n",
        "print(\"Awal: mean = %f, median = %f.\" % (df[\"active\"].mean(), df[\"active\"].median()))\n",
        "\n",
        "# Isi missing value kolom active dengan median\n",
        "df_median = df[\"active\"].fillna(df[\"active\"].median())\n",
        "\n",
        "# Cetak nilai mean dan median awal setelah diisi dengan median\n",
        "print(\"Fillna median: mean = %f, median = %f.\" % (df_median.mean(), df_median.median()))\n",
        "\n",
        "# Isi missing value kolom active dengan mean\n",
        "df_mean = df[\"active\"].fillna(df[\"active\"].mean())\n",
        "\n",
        "# Cetak nilai mean dan median awal setelah diisi dengan mean\n",
        "print(\"Fillna mean: mean = %f, median = %f.\" % (df_mean.mean(), df_mean.median()))"
      ],
      "metadata": {
        "colab": {
          "base_uri": "https://localhost:8080/"
        },
        "id": "lss6kTDklWHz",
        "outputId": "d4303af1-06d4-4d6d-ddf7-27d7e8b15006"
      },
      "execution_count": 42,
      "outputs": [
        {
          "output_type": "stream",
          "name": "stdout",
          "text": [
            "Awal: mean = 192.571128, median = 41.000000.\n",
            "Fillna median: mean = 184.841000, median = 41.000000.\n",
            "Fillna mean: mean = 192.571128, median = 49.000000.\n"
          ]
        }
      ]
    },
    {
      "cell_type": "markdown",
      "source": [
        "#### [Treatment untuk Missing Value - Part 5](https://academy.dqlab.id/main/livecode/178/430/2155?pr=0)"
      ],
      "metadata": {
        "id": "kmqkv294lmuR"
      }
    },
    {
      "cell_type": "code",
      "source": [
        "# Data\n",
        "ts = pd.Series({\n",
        "   \"2020-01-01\":9,\n",
        "   \"2020-01-02\":np.nan,\n",
        "   \"2020-01-05\":np.nan,\n",
        "   \"2020-01-07\":24,\n",
        "   \"2020-01-10\":np.nan,\n",
        "   \"2020-01-12\":np.nan,\n",
        "   \"2020-01-15\":33,\n",
        "   \"2020-01-17\":np.nan,\n",
        "   \"2020-01-16\":40,\n",
        "   \"2020-01-20\":45,\n",
        "   \"2020-01-22\":52,\n",
        "   \"2020-01-25\":75,\n",
        "   \"2020-01-28\":np.nan,\n",
        "   \"2020-01-30\":np.nan\n",
        "})\n",
        "\n",
        "# Isi missing value menggunakan interpolasi linier\n",
        "ts = ts.interpolate()\n",
        "\n",
        "# Cetak time series setelah interpolasi linier\n",
        "print(\"Setelah diisi missing valuenya:\\n\", ts)"
      ],
      "metadata": {
        "colab": {
          "base_uri": "https://localhost:8080/"
        },
        "id": "UQL3TVOmlpzx",
        "outputId": "a447796e-e09b-4e47-ac44-5b824738bcce"
      },
      "execution_count": 43,
      "outputs": [
        {
          "output_type": "stream",
          "name": "stdout",
          "text": [
            "Setelah diisi missing valuenya:\n",
            " 2020-01-01     9.0\n",
            "2020-01-02    14.0\n",
            "2020-01-05    19.0\n",
            "2020-01-07    24.0\n",
            "2020-01-10    27.0\n",
            "2020-01-12    30.0\n",
            "2020-01-15    33.0\n",
            "2020-01-17    36.5\n",
            "2020-01-16    40.0\n",
            "2020-01-20    45.0\n",
            "2020-01-22    52.0\n",
            "2020-01-25    75.0\n",
            "2020-01-28    75.0\n",
            "2020-01-30    75.0\n",
            "dtype: float64\n"
          ]
        }
      ]
    },
    {
      "cell_type": "markdown",
      "source": [
        "## Mini Project"
      ],
      "metadata": {
        "id": "ml7jsYU6RyM9"
      }
    },
    {
      "cell_type": "code",
      "source": [
        "# 1. Baca dataset\n",
        "print(\"[1] BACA DATASET\")\n",
        "df = pd.read_csv(\"/content/drive/MyDrive/AL. Lab/Sanca/Datasets/retail_raw_test.csv\", low_memory=False)\n",
        "print(\"    Dataset:\\n\", df.head())\n",
        "print(\"    Info:\\n\", df.info())\n",
        "\n",
        "# 2. Ubah tipe data\n",
        "print(\"\\n[2] UBAH TIPE DATA\")\n",
        "df[\"customer_id\"] = df[\"customer_id\"].apply(lambda x: x.split(\"'\")[1]).astype(\"int64\")\n",
        "df[\"quantity\"] = df[\"quantity\"].apply(lambda x: x.split(\"'\")[1]).astype(\"int64\")\n",
        "df[\"item_price\"] = df[\"item_price\"].apply(lambda x: x.split(\"'\")[1]).astype(\"int64\")\n",
        "print(\"    Tipe data:\\n\", df.dtypes)\n",
        "\n",
        "# 3. Transform \"product_value\" supaya bentuknya seragam dengan format \"PXXXX\", assign ke kolom baru \"product_id\", dan drop kolom \"product_value\", jika terdapat nan gantilah dengan \"unknown\"\n",
        "print(\"\\n[3] TRANSFORM product_value MENJADI product_id\")\n",
        "# Buat fungsi\n",
        "import math\n",
        "def impute_product_value(val):\n",
        "    if math.isnan(val):\n",
        "        return \"unknown\"\n",
        "    else:\n",
        "        return 'P' + '{:0>4}'.format(str(val).split('.')[0])\n",
        "# Buat kolom \"product_id\"\n",
        "df[\"product_id\"] = df[\"product_value\"].apply(lambda x: impute_product_value(x))\n",
        "# Hapus kolom \"product_value\"\n",
        "df.drop([\"product_value\"], axis=1, inplace=True)\n",
        "# Cetak 5 data teratas\n",
        "print(df.head())\n",
        "\n",
        "# 4. Tranform order_date menjadi value dengan format \"YYYY-mm-dd\"\n",
        "print(\"\\n[4] TRANSFORM order_date MENJADI FORMAT YYYY-mm-dd\")\n",
        "months_dict = {\n",
        "   \"Jan\":\"01\",\n",
        "   \"Feb\":\"02\",\n",
        "   \"Mar\":\"03\",\n",
        "   \"Apr\":\"04\",\n",
        "   \"May\":\"05\",\n",
        "   \"Jun\":\"06\",\n",
        "   \"Jul\":\"07\",\n",
        "   \"Aug\":\"08\",\n",
        "   \"Sep\":\"09\",\n",
        "   \"Oct\":\"10\",\n",
        "   \"Nov\":\"11\",\n",
        "   \"Dec\":\"12\"\n",
        "}\n",
        "df[\"order_date\"] = pd.to_datetime(df[\"order_date\"].apply(lambda x: str(x)[-4:] + \"-\" + months_dict[str(x)[:3]] + \"-\" + str(x)[4:7]))\n",
        "print(\"    Tipe data:\\n\", df.dtypes)\n",
        "\n",
        "# 5. Mengatasi data yang hilang di beberapa kolom\n",
        "print(\"\\n[5] HANDLING MISSING VALUE\")\n",
        "# Kolom \"city\" dan \"province\" masih memiliki missing value, nilai yang hilang di kedua kolom ini diisi saja dengan \"unknown\"\n",
        "df[[\"city\",\"province\"]] = df[[\"city\",\"province\"]].fillna(\"unknown\")\n",
        "# Kolom brand juga masih memiliki missing value, Ganti value NaN menjadi \"no_brand\"\n",
        "df[\"brand\"] = df[\"brand\"].fillna(\"no_brand\")\n",
        "# Cek apakah masih terdapat missing value di seluruh kolom \n",
        "print(\"    Info:\\n\", df.info())\n",
        "\n",
        "# 6. Membuat kolom baru \"city/province\" dengan menggabungkan kolom \"city\" dan kolom \"province\" dan delete kolom asalnya\n",
        "print(\"\\n[6] MEMBUAT KOLOM BARU city/province\")\n",
        "df[\"city/province\"] = df[\"city\"] + \"/\" + df[\"province\"]\n",
        "# drop kolom \"city\" dan \"province\" karena telah digabungkan\n",
        "df.drop([\"city\",\"province\"], axis=1, inplace=True)\n",
        "# Cetak 5 data teratas\n",
        "print(df.head())\n",
        "\n",
        "# 7. Membuat hierarchical index yang terdiri dari kolom \"city/province\", \"order_date\", \"customer_id\", \"order_id\", \"product_id\"\n",
        "print(\"\\n[7] MEMBUAT HIERACHICAL INDEX\")\n",
        "df = df.set_index([\"city/province\",\"order_date\",\"customer_id\",\"order_id\",\"product_id\"])\n",
        "# urutkanlah berdasarkan index yang baru\n",
        "df = df.sort_index()\n",
        "# Cetak 5 data teratas\n",
        "print(df.head())\n",
        "\n",
        "# 8. Membuat kolom \"total_price\" yang formula nya perkalian antara kolom \"quantity\" dan kolom \"item_price\"\n",
        "print(\"\\n[8] MEMBUAT KOLOM total_price\")\n",
        "df[\"total_price\"] = df[\"quantity\"] * df[\"item_price\"]\n",
        "# Cetak 5 data teratas\n",
        "print(df.head())\n",
        "\n",
        "# 9. Slice dataset agar hanya terdapat data bulan Januari 2019\n",
        "print(\"\\n[9] SLICE DATASET UNTUK BULAN JANUARI 2019 SAJA\")\n",
        "idx = pd.IndexSlice\n",
        "df_jan2019 = df.loc[idx[:, \"2019-01-01\":\"2019-01-31\"], :]\n",
        "print(\"Dataset akhir:\\n\", df_jan2019)\n",
        "\n",
        "# END OF PROJECT"
      ],
      "metadata": {
        "colab": {
          "base_uri": "https://localhost:8080/"
        },
        "id": "IzCYFpEbmWqR",
        "outputId": "a7bc1e77-b178-4276-dec4-07124c3c0acc"
      },
      "execution_count": 44,
      "outputs": [
        {
          "output_type": "stream",
          "name": "stdout",
          "text": [
            "[1] BACA DATASET\n",
            "    Dataset:\n",
            "    order_id    order_date customer_id           city     province    brand  \\\n",
            "0   1730350  Dec 11, 2019      '13447      Surakarta  Jawa Tengah  BRAND_F   \n",
            "1   1677490  Jul 31, 2019          '0            NaN          NaN  BRAND_F   \n",
            "2   1704211  Oct 18, 2019      '16128  Jakarta Pusat  DKI Jakarta  BRAND_H   \n",
            "3   1679695  Aug 07, 2019      '16225     Yogyakarta   Yogyakarta  BRAND_H   \n",
            "4   1679080  Aug 05, 2019          '0            NaN          NaN  BRAND_E   \n",
            "\n",
            "  quantity item_price  product_value  \n",
            "0      '24    '113000         1374.0  \n",
            "1       '1   '1164000         1370.0  \n",
            "2      '12    '747000         1679.0  \n",
            "3       '6    '590000         1708.0  \n",
            "4       '2    '740000         1201.0  \n",
            "<class 'pandas.core.frame.DataFrame'>\n",
            "RangeIndex: 5000 entries, 0 to 4999\n",
            "Data columns (total 9 columns):\n",
            " #   Column         Non-Null Count  Dtype  \n",
            "---  ------         --------------  -----  \n",
            " 0   order_id       5000 non-null   int64  \n",
            " 1   order_date     5000 non-null   object \n",
            " 2   customer_id    5000 non-null   object \n",
            " 3   city           3802 non-null   object \n",
            " 4   province       3802 non-null   object \n",
            " 5   brand          4995 non-null   object \n",
            " 6   quantity       5000 non-null   object \n",
            " 7   item_price     5000 non-null   object \n",
            " 8   product_value  4995 non-null   float64\n",
            "dtypes: float64(1), int64(1), object(7)\n",
            "memory usage: 351.7+ KB\n",
            "    Info:\n",
            " None\n",
            "\n",
            "[2] UBAH TIPE DATA\n",
            "    Tipe data:\n",
            " order_id           int64\n",
            "order_date        object\n",
            "customer_id        int64\n",
            "city              object\n",
            "province          object\n",
            "brand             object\n",
            "quantity           int64\n",
            "item_price         int64\n",
            "product_value    float64\n",
            "dtype: object\n",
            "\n",
            "[3] TRANSFORM product_value MENJADI product_id\n",
            "   order_id    order_date  customer_id           city     province    brand  \\\n",
            "0   1730350  Dec 11, 2019        13447      Surakarta  Jawa Tengah  BRAND_F   \n",
            "1   1677490  Jul 31, 2019            0            NaN          NaN  BRAND_F   \n",
            "2   1704211  Oct 18, 2019        16128  Jakarta Pusat  DKI Jakarta  BRAND_H   \n",
            "3   1679695  Aug 07, 2019        16225     Yogyakarta   Yogyakarta  BRAND_H   \n",
            "4   1679080  Aug 05, 2019            0            NaN          NaN  BRAND_E   \n",
            "\n",
            "   quantity  item_price product_id  \n",
            "0        24      113000      P1374  \n",
            "1         1     1164000      P1370  \n",
            "2        12      747000      P1679  \n",
            "3         6      590000      P1708  \n",
            "4         2      740000      P1201  \n",
            "\n",
            "[4] TRANSFORM order_date MENJADI FORMAT YYYY-mm-dd\n",
            "    Tipe data:\n",
            " order_id                int64\n",
            "order_date     datetime64[ns]\n",
            "customer_id             int64\n",
            "city                   object\n",
            "province               object\n",
            "brand                  object\n",
            "quantity                int64\n",
            "item_price              int64\n",
            "product_id             object\n",
            "dtype: object\n",
            "\n",
            "[5] HANDLING MISSING VALUE\n",
            "<class 'pandas.core.frame.DataFrame'>\n",
            "RangeIndex: 5000 entries, 0 to 4999\n",
            "Data columns (total 9 columns):\n",
            " #   Column       Non-Null Count  Dtype         \n",
            "---  ------       --------------  -----         \n",
            " 0   order_id     5000 non-null   int64         \n",
            " 1   order_date   5000 non-null   datetime64[ns]\n",
            " 2   customer_id  5000 non-null   int64         \n",
            " 3   city         5000 non-null   object        \n",
            " 4   province     5000 non-null   object        \n",
            " 5   brand        5000 non-null   object        \n",
            " 6   quantity     5000 non-null   int64         \n",
            " 7   item_price   5000 non-null   int64         \n",
            " 8   product_id   5000 non-null   object        \n",
            "dtypes: datetime64[ns](1), int64(4), object(4)\n",
            "memory usage: 351.7+ KB\n",
            "    Info:\n",
            " None\n",
            "\n",
            "[6] MEMBUAT KOLOM BARU city/province\n",
            "   order_id order_date  customer_id    brand  quantity  item_price product_id  \\\n",
            "0   1730350 2019-12-11        13447  BRAND_F        24      113000      P1374   \n",
            "1   1677490 2019-07-31            0  BRAND_F         1     1164000      P1370   \n",
            "2   1704211 2019-10-18        16128  BRAND_H        12      747000      P1679   \n",
            "3   1679695 2019-08-07        16225  BRAND_H         6      590000      P1708   \n",
            "4   1679080 2019-08-05            0  BRAND_E         2      740000      P1201   \n",
            "\n",
            "               city/province  \n",
            "0      Surakarta/Jawa Tengah  \n",
            "1            unknown/unknown  \n",
            "2  Jakarta Pusat/DKI Jakarta  \n",
            "3      Yogyakarta/Yogyakarta  \n",
            "4            unknown/unknown  \n",
            "\n",
            "[7] MEMBUAT HIERACHICAL INDEX\n",
            "                                                                     brand  \\\n",
            "city/province          order_date customer_id order_id product_id            \n",
            "Banda Aceh/Aceh        2019-04-17 12818       1642480  P1936       BRAND_K   \n",
            "                       2019-11-12 12360       1715116  P0758       BRAND_C   \n",
            "                                                       P3042       BRAND_R   \n",
            "                       2019-12-09 12374       1729036  P1660       BRAND_G   \n",
            "Bandar Lampung/Lampung 2019-01-15 12515       1619257  P0628       BRAND_C   \n",
            "\n",
            "                                                                   quantity  \\\n",
            "city/province          order_date customer_id order_id product_id             \n",
            "Banda Aceh/Aceh        2019-04-17 12818       1642480  P1936             24   \n",
            "                       2019-11-12 12360       1715116  P0758              8   \n",
            "                                                       P3042             12   \n",
            "                       2019-12-09 12374       1729036  P1660              4   \n",
            "Bandar Lampung/Lampung 2019-01-15 12515       1619257  P0628             12   \n",
            "\n",
            "                                                                   item_price  \n",
            "city/province          order_date customer_id order_id product_id              \n",
            "Banda Aceh/Aceh        2019-04-17 12818       1642480  P1936           450000  \n",
            "                       2019-11-12 12360       1715116  P0758           695000  \n",
            "                                                       P3042           310000  \n",
            "                       2019-12-09 12374       1729036  P1660          2795000  \n",
            "Bandar Lampung/Lampung 2019-01-15 12515       1619257  P0628           695000  \n",
            "\n",
            "[8] MEMBUAT KOLOM total_price\n",
            "                                                                     brand  \\\n",
            "city/province          order_date customer_id order_id product_id            \n",
            "Banda Aceh/Aceh        2019-04-17 12818       1642480  P1936       BRAND_K   \n",
            "                       2019-11-12 12360       1715116  P0758       BRAND_C   \n",
            "                                                       P3042       BRAND_R   \n",
            "                       2019-12-09 12374       1729036  P1660       BRAND_G   \n",
            "Bandar Lampung/Lampung 2019-01-15 12515       1619257  P0628       BRAND_C   \n",
            "\n",
            "                                                                   quantity  \\\n",
            "city/province          order_date customer_id order_id product_id             \n",
            "Banda Aceh/Aceh        2019-04-17 12818       1642480  P1936             24   \n",
            "                       2019-11-12 12360       1715116  P0758              8   \n",
            "                                                       P3042             12   \n",
            "                       2019-12-09 12374       1729036  P1660              4   \n",
            "Bandar Lampung/Lampung 2019-01-15 12515       1619257  P0628             12   \n",
            "\n",
            "                                                                   item_price  \\\n",
            "city/province          order_date customer_id order_id product_id               \n",
            "Banda Aceh/Aceh        2019-04-17 12818       1642480  P1936           450000   \n",
            "                       2019-11-12 12360       1715116  P0758           695000   \n",
            "                                                       P3042           310000   \n",
            "                       2019-12-09 12374       1729036  P1660          2795000   \n",
            "Bandar Lampung/Lampung 2019-01-15 12515       1619257  P0628           695000   \n",
            "\n",
            "                                                                   total_price  \n",
            "city/province          order_date customer_id order_id product_id               \n",
            "Banda Aceh/Aceh        2019-04-17 12818       1642480  P1936          10800000  \n",
            "                       2019-11-12 12360       1715116  P0758           5560000  \n",
            "                                                       P3042           3720000  \n",
            "                       2019-12-09 12374       1729036  P1660          11180000  \n",
            "Bandar Lampung/Lampung 2019-01-15 12515       1619257  P0628           8340000  \n",
            "\n",
            "[9] SLICE DATASET UNTUK BULAN JANUARI 2019 SAJA\n",
            "Dataset akhir:\n",
            "                                                                      brand  \\\n",
            "city/province          order_date customer_id order_id product_id            \n",
            "Bandar Lampung/Lampung 2019-01-15 12515       1619257  P0628       BRAND_C   \n",
            "Bandung/Jawa Barat     2019-01-09 16134       1617055  P1597       BRAND_G   \n",
            "                       2019-01-10 17392       1617952  P2137       BRAND_M   \n",
            "                       2019-01-14 15527       1618828  P3115       BRAND_S   \n",
            "                       2019-01-29 13253       1620289  P0099       BRAND_A   \n",
            "...                                                                    ...   \n",
            "unknown/unknown        2019-01-30 0           1620766  P3070       BRAND_R   \n",
            "                                                       P3483       BRAND_S   \n",
            "                       2019-01-31 0           1621057  P1298       BRAND_F   \n",
            "                                                       P1773       BRAND_H   \n",
            "                                                       P2877       BRAND_R   \n",
            "\n",
            "                                                                   quantity  \\\n",
            "city/province          order_date customer_id order_id product_id             \n",
            "Bandar Lampung/Lampung 2019-01-15 12515       1619257  P0628             12   \n",
            "Bandung/Jawa Barat     2019-01-09 16134       1617055  P1597              9   \n",
            "                       2019-01-10 17392       1617952  P2137              2   \n",
            "                       2019-01-14 15527       1618828  P3115              1   \n",
            "                       2019-01-29 13253       1620289  P0099             12   \n",
            "...                                                                     ...   \n",
            "unknown/unknown        2019-01-30 0           1620766  P3070              1   \n",
            "                                                       P3483              3   \n",
            "                       2019-01-31 0           1621057  P1298              1   \n",
            "                                                       P1773              5   \n",
            "                                                       P2877              1   \n",
            "\n",
            "                                                                   item_price  \\\n",
            "city/province          order_date customer_id order_id product_id               \n",
            "Bandar Lampung/Lampung 2019-01-15 12515       1619257  P0628           695000   \n",
            "Bandung/Jawa Barat     2019-01-09 16134       1617055  P1597           520000   \n",
            "                       2019-01-10 17392       1617952  P2137          1062000   \n",
            "                       2019-01-14 15527       1618828  P3115          1045000   \n",
            "                       2019-01-29 13253       1620289  P0099           450000   \n",
            "...                                                                       ...   \n",
            "unknown/unknown        2019-01-30 0           1620766  P3070           593000   \n",
            "                                                       P3483           593000   \n",
            "                       2019-01-31 0           1621057  P1298           296000   \n",
            "                                                       P1773           593000   \n",
            "                                                       P2877          1486000   \n",
            "\n",
            "                                                                   total_price  \n",
            "city/province          order_date customer_id order_id product_id               \n",
            "Bandar Lampung/Lampung 2019-01-15 12515       1619257  P0628           8340000  \n",
            "Bandung/Jawa Barat     2019-01-09 16134       1617055  P1597           4680000  \n",
            "                       2019-01-10 17392       1617952  P2137           2124000  \n",
            "                       2019-01-14 15527       1618828  P3115           1045000  \n",
            "                       2019-01-29 13253       1620289  P0099           5400000  \n",
            "...                                                                        ...  \n",
            "unknown/unknown        2019-01-30 0           1620766  P3070            593000  \n",
            "                                                       P3483           1779000  \n",
            "                       2019-01-31 0           1621057  P1298            296000  \n",
            "                                                       P1773           2965000  \n",
            "                                                       P2877           1486000  \n",
            "\n",
            "[334 rows x 4 columns]\n"
          ]
        }
      ]
    }
  ]
}