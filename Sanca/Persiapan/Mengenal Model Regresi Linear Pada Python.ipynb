{
  "nbformat": 4,
  "nbformat_minor": 0,
  "metadata": {
    "colab": {
      "provenance": []
    },
    "kernelspec": {
      "name": "python3",
      "display_name": "Python 3"
    },
    "language_info": {
      "name": "python"
    }
  },
  "cells": [
    {
      "cell_type": "code",
      "execution_count": 1,
      "metadata": {
        "colab": {
          "base_uri": "https://localhost:8080/"
        },
        "id": "bVUBVjrXFzes",
        "outputId": "29da4d68-3100-4f4d-9585-987c337b93bb"
      },
      "outputs": [
        {
          "output_type": "stream",
          "name": "stdout",
          "text": [
            "Mounted at /content/drive\n"
          ]
        }
      ],
      "source": [
        "# singkronisasi ke g-drive\n",
        "\n",
        "from google.colab import drive\n",
        "drive.mount('/content/drive')"
      ]
    },
    {
      "cell_type": "markdown",
      "source": [
        "## Kunjungan ke Dokter Gigi dan Penjualan Makanan"
      ],
      "metadata": {
        "id": "8lTlAIkTF_So"
      }
    },
    {
      "cell_type": "markdown",
      "source": [
        "#### [Membaca Dataset](https://academy.dqlab.id/main/livecode/371/792/4110?pr=0)"
      ],
      "metadata": {
        "id": "ZArZtcVRGWAE"
      }
    },
    {
      "cell_type": "code",
      "source": [
        "# import pandas sebagai aliasnya pd\n",
        "import pandas as pd"
      ],
      "metadata": {
        "id": "sa7ATa9fJeqU"
      },
      "execution_count": 2,
      "outputs": []
    },
    {
      "cell_type": "code",
      "source": [
        "# Baca dataset kunjungan_dokter_gigi_kota_x_dqlab.tsv sesuai dengan url yang diberikan\n",
        "df_kunjungan = pd.read_csv(\"/content/drive/MyDrive/AL. Lab/Sanca/Datasets/kunjungan_dokter_gigi_kota_x_dqlab.tsv\", sep=\"\\t\")\n",
        "\n",
        "# Cetak ukuran dataset sehingga diketahui jumlah baris dan kolomnya\n",
        "print(\"Ukuran df_kunjungan:\", df_kunjungan.shape)\n",
        "\n",
        "# Cetak data frame df_kunjungan\n",
        "print(df_kunjungan)"
      ],
      "metadata": {
        "colab": {
          "base_uri": "https://localhost:8080/"
        },
        "id": "4Dyrm1PeKEIZ",
        "outputId": "4feafaa5-b4e2-42f9-9c23-90a7742b611c"
      },
      "execution_count": 3,
      "outputs": [
        {
          "output_type": "stream",
          "name": "stdout",
          "text": [
            "Ukuran df_kunjungan: (24, 3)\n",
            "    Bulan  Tahun  tingkat kunjungan ke dokter gigi\n",
            "0       1   1996                                37\n",
            "1       2   1996                                32\n",
            "2       3   1996                                56\n",
            "3       4   1996                                43\n",
            "4       5   1996                                52\n",
            "5       6   1996                                70\n",
            "6       7   1996                                64\n",
            "7       8   1996                                88\n",
            "8       9   1996                                74\n",
            "9      10   1996                                98\n",
            "10     11   1996                                80\n",
            "11     12   1996                                46\n",
            "12      1   1997                                66\n",
            "13      2   1997                                78\n",
            "14      3   1997                                46\n",
            "15      4   1997                                62\n",
            "16      5   1997                               124\n",
            "17      6   1997                               106\n",
            "18      7   1997                               110\n",
            "19      8   1997                                98\n",
            "20      9   1997                                76\n",
            "21     10   1997                               132\n",
            "22     11   1997                                82\n",
            "23     12   1997                                84\n"
          ]
        }
      ]
    },
    {
      "cell_type": "code",
      "source": [
        "# Baca dataset tingkat_penjualan_kota_x_dqlab.tsv sesuai dengan url yang diberikan\n",
        "df_penjualan = pd.read_csv(\"/content/drive/MyDrive/AL. Lab/Sanca/Datasets/tingkat_penjualan_kota_x_dqlab.tsv\", sep=\"\\t\")\n",
        "\n",
        "# Cetak ukuran dataset sehingga diketahui jumlah baris dan kolomnya\n",
        "print(\"\\n\\nUkuran df_penjualan:\", df_penjualan.shape)\n",
        "\n",
        "# Cetak data frame df_penjualan\n",
        "print(df_penjualan)"
      ],
      "metadata": {
        "colab": {
          "base_uri": "https://localhost:8080/"
        },
        "id": "XsmdjSyZKFyi",
        "outputId": "8d206eb8-1cdb-420f-c136-2431a30281ac"
      },
      "execution_count": 4,
      "outputs": [
        {
          "output_type": "stream",
          "name": "stdout",
          "text": [
            "\n",
            "\n",
            "Ukuran df_penjualan: (24, 6)\n",
            "    No  Bulan  Tahun  penjualan permen  penjualan sereal  \\\n",
            "0    1      1   1996            200661             10324   \n",
            "1    2      2   1996            297141             13150   \n",
            "2    3      3   1996            235586              5398   \n",
            "3    4      4   1996            299498              7609   \n",
            "4    5      5   1996            395824              5190   \n",
            "5    6      6   1996            247212             14571   \n",
            "6    7      7   1996            273899             13407   \n",
            "7    8      8   1996            184405              8914   \n",
            "8    9      9   1996            141211              3663   \n",
            "9   10     10   1996            292225             14756   \n",
            "10  11     11   1996            227864              3883   \n",
            "11  12     12   1996            259963              5720   \n",
            "12  13      1   1997            433783             16209   \n",
            "13  14      2   1997            343034              5955   \n",
            "14  15      3   1997            419255             14789   \n",
            "15  16      4   1997            393175             11150   \n",
            "16  17      5   1997            304954              4930   \n",
            "17  18      6   1997            439380             15041   \n",
            "18  19      7   1997            270706             14210   \n",
            "19  20      8   1997            319472              5002   \n",
            "20  21      9   1997            262688              3172   \n",
            "21  22     10   1997            322140              9818   \n",
            "22  23     11   1997            467572             13545   \n",
            "23  24     12   1997            431484              2372   \n",
            "\n",
            "    penjualan buah pisang  \n",
            "0                  112146  \n",
            "1                  175417  \n",
            "2                  104645  \n",
            "3                  112283  \n",
            "4                  137083  \n",
            "5                  198130  \n",
            "6                  194685  \n",
            "7                  100091  \n",
            "8                  194972  \n",
            "9                  133166  \n",
            "10                 155598  \n",
            "11                 104563  \n",
            "12                 104216  \n",
            "13                 142908  \n",
            "14                 135994  \n",
            "15                 154659  \n",
            "16                 122983  \n",
            "17                 104657  \n",
            "18                 163008  \n",
            "19                 149116  \n",
            "20                 144727  \n",
            "21                 148500  \n",
            "22                 120676  \n",
            "23                 162135  \n"
          ]
        }
      ]
    },
    {
      "cell_type": "markdown",
      "source": [
        "#### [Penggabungan Kolom Tahun dan Bulan](https://academy.dqlab.id/main/livecode/371/792/4112?pr=0)"
      ],
      "metadata": {
        "id": "8X0Spec1Kx1e"
      }
    },
    {
      "cell_type": "code",
      "source": [
        "# Gabungkan kolom Tahun dan Bulan menjadi kolom Periode dengan isi tiap barisnya memiliki format YYYY-MM \n",
        "str_bulan = lambda x: \"0\"+str(x) if x<10 else str(x)\n",
        "df_kunjungan[\"Periode\"] = df_kunjungan[\"Tahun\"].map(str) + \"-\" + df_kunjungan[\"Bulan\"].map(str_bulan)\n",
        "df_penjualan[\"Periode\"] = df_penjualan[\"Tahun\"].map(str) + \"-\" + df_penjualan[\"Bulan\"].map(str_bulan)\n",
        "\n",
        "# Drop kolom Tahun, Bulan dari df_kunjungan\n",
        "df_kunjungan.drop(columns=[\"Tahun\", \"Bulan\"], inplace=True)\n",
        "\n",
        "# Drop kolom Tahun, Bulan dan No dari df_penjualan\n",
        "df_penjualan.drop(columns=[\"Tahun\", \"Bulan\", \"No\"], inplace=True)\n",
        "\n",
        "# Inspeksi nama-nama kolom di kedua dataframe\n",
        "print(\"Nama kolom df_kunjungan:\", df_kunjungan.columns)\n",
        "print(\"\\nNama kolom df_penjualan\", df_penjualan.columns)"
      ],
      "metadata": {
        "colab": {
          "base_uri": "https://localhost:8080/"
        },
        "id": "71Q9VtXtK1tB",
        "outputId": "1c739017-8c2c-4c99-bc72-ecf2de4c4022"
      },
      "execution_count": 5,
      "outputs": [
        {
          "output_type": "stream",
          "name": "stdout",
          "text": [
            "Nama kolom df_kunjungan: Index(['tingkat kunjungan ke dokter gigi', 'Periode'], dtype='object')\n",
            "\n",
            "Nama kolom df_penjualan Index(['penjualan permen', 'penjualan sereal', 'penjualan buah pisang',\n",
            "       'Periode'],\n",
            "      dtype='object')\n"
          ]
        }
      ]
    },
    {
      "cell_type": "markdown",
      "source": [
        "#### [Penggabungan Kedua Dataset](https://academy.dqlab.id/main/livecode/371/792/4113?pr=0)"
      ],
      "metadata": {
        "id": "PaZWW6L3Ml9n"
      }
    },
    {
      "cell_type": "code",
      "source": [
        "# Set index kolom Periode\n",
        "df_kunjungan.set_index(\"Periode\", inplace=True)\n",
        "df_penjualan.set_index(\"Periode\", inplace=True)\n",
        "\n",
        "# Gabungkan kedua dataframe dengan Periode yang telah menjadi key column nya\n",
        "df = df_kunjungan.join(df_penjualan)\n",
        "print(\"Ukuran df:\", df.shape)\n",
        "print(df)"
      ],
      "metadata": {
        "colab": {
          "base_uri": "https://localhost:8080/"
        },
        "id": "EbiVjHyXMpss",
        "outputId": "98d22376-c4a7-4eb1-859e-103b034421d1"
      },
      "execution_count": 6,
      "outputs": [
        {
          "output_type": "stream",
          "name": "stdout",
          "text": [
            "Ukuran df: (24, 4)\n",
            "         tingkat kunjungan ke dokter gigi  penjualan permen  penjualan sereal  \\\n",
            "Periode                                                                         \n",
            "1996-01                                37            200661             10324   \n",
            "1996-02                                32            297141             13150   \n",
            "1996-03                                56            235586              5398   \n",
            "1996-04                                43            299498              7609   \n",
            "1996-05                                52            395824              5190   \n",
            "1996-06                                70            247212             14571   \n",
            "1996-07                                64            273899             13407   \n",
            "1996-08                                88            184405              8914   \n",
            "1996-09                                74            141211              3663   \n",
            "1996-10                                98            292225             14756   \n",
            "1996-11                                80            227864              3883   \n",
            "1996-12                                46            259963              5720   \n",
            "1997-01                                66            433783             16209   \n",
            "1997-02                                78            343034              5955   \n",
            "1997-03                                46            419255             14789   \n",
            "1997-04                                62            393175             11150   \n",
            "1997-05                               124            304954              4930   \n",
            "1997-06                               106            439380             15041   \n",
            "1997-07                               110            270706             14210   \n",
            "1997-08                                98            319472              5002   \n",
            "1997-09                                76            262688              3172   \n",
            "1997-10                               132            322140              9818   \n",
            "1997-11                                82            467572             13545   \n",
            "1997-12                                84            431484              2372   \n",
            "\n",
            "         penjualan buah pisang  \n",
            "Periode                         \n",
            "1996-01                 112146  \n",
            "1996-02                 175417  \n",
            "1996-03                 104645  \n",
            "1996-04                 112283  \n",
            "1996-05                 137083  \n",
            "1996-06                 198130  \n",
            "1996-07                 194685  \n",
            "1996-08                 100091  \n",
            "1996-09                 194972  \n",
            "1996-10                 133166  \n",
            "1996-11                 155598  \n",
            "1996-12                 104563  \n",
            "1997-01                 104216  \n",
            "1997-02                 142908  \n",
            "1997-03                 135994  \n",
            "1997-04                 154659  \n",
            "1997-05                 122983  \n",
            "1997-06                 104657  \n",
            "1997-07                 163008  \n",
            "1997-08                 149116  \n",
            "1997-09                 144727  \n",
            "1997-10                 148500  \n",
            "1997-11                 120676  \n",
            "1997-12                 162135  \n"
          ]
        }
      ]
    },
    {
      "cell_type": "markdown",
      "source": [
        "#### [Cara Ringkas](https://academy.dqlab.id/main/livecode/371/792/4114?pr=0)"
      ],
      "metadata": {
        "id": "mrKHPXBFNElj"
      }
    },
    {
      "cell_type": "code",
      "source": [
        "# Import pandas \n",
        "import pandas as pd\n",
        "pd.set_option(\"display.max_columns\",5)\n",
        "\n",
        "\n",
        "# Baca kedua dataset\n",
        "df_kunjungan = pd.read_csv(\"/content/drive/MyDrive/AL. Lab/Sanca/Datasets/kunjungan_dokter_gigi_kota_x_dqlab.tsv\", sep=\"\\t\")\n",
        "df_penjualan = pd.read_csv(\"/content/drive/MyDrive/AL. Lab/Sanca/Datasets/tingkat_penjualan_kota_x_dqlab.tsv\", sep=\"\\t\")\n",
        "\n",
        "# Menggabungkan kolom Tahun dan Bulan menjadi kolom Periode dengan isi tiap barisnya memiliki format YYYY-MM \n",
        "str_bulan = lambda x: \"0\"+str(x) if x<10 else str(x)\n",
        "df_kunjungan[\"Periode\"] = df_kunjungan[\"Tahun\"].map(str) + \"-\" + df_kunjungan[\"Bulan\"].map(str_bulan)\n",
        "df_penjualan[\"Periode\"] = df_penjualan[\"Tahun\"].map(str) + \"-\" + df_penjualan[\"Bulan\"].map(str_bulan)\\\n",
        "\n",
        "# Menggabungkan kedua dataframe dengan Periode sebagai key column nya\n",
        "data = (df_kunjungan.drop(columns=[\"Tahun\", \"Bulan\"]) # Drop kolom Tahun, Bulan dari df_kunjungan\n",
        "                    .set_index(\"Periode\") # Set index kolom Periode\n",
        "                    .join(df_penjualan.drop(columns=[\"Tahun\", \"Bulan\", \"No\"]) #Drop kolom Tahun, Bulan dan No dari df_penjualan\n",
        "                                      .set_index(\"Periode\") # Set index kolom Periode\n",
        "                          )\n",
        "      )\n",
        "\n",
        "print(data)"
      ],
      "metadata": {
        "colab": {
          "base_uri": "https://localhost:8080/"
        },
        "id": "9SmE4rvmNUgl",
        "outputId": "8e11721d-bb3b-41b8-f657-4da376234978"
      },
      "execution_count": 12,
      "outputs": [
        {
          "output_type": "stream",
          "name": "stdout",
          "text": [
            "         tingkat kunjungan ke dokter gigi  penjualan permen  penjualan sereal  \\\n",
            "Periode                                                                         \n",
            "1996-01                                37            200661             10324   \n",
            "1996-02                                32            297141             13150   \n",
            "1996-03                                56            235586              5398   \n",
            "1996-04                                43            299498              7609   \n",
            "1996-05                                52            395824              5190   \n",
            "1996-06                                70            247212             14571   \n",
            "1996-07                                64            273899             13407   \n",
            "1996-08                                88            184405              8914   \n",
            "1996-09                                74            141211              3663   \n",
            "1996-10                                98            292225             14756   \n",
            "1996-11                                80            227864              3883   \n",
            "1996-12                                46            259963              5720   \n",
            "1997-01                                66            433783             16209   \n",
            "1997-02                                78            343034              5955   \n",
            "1997-03                                46            419255             14789   \n",
            "1997-04                                62            393175             11150   \n",
            "1997-05                               124            304954              4930   \n",
            "1997-06                               106            439380             15041   \n",
            "1997-07                               110            270706             14210   \n",
            "1997-08                                98            319472              5002   \n",
            "1997-09                                76            262688              3172   \n",
            "1997-10                               132            322140              9818   \n",
            "1997-11                                82            467572             13545   \n",
            "1997-12                                84            431484              2372   \n",
            "\n",
            "         penjualan buah pisang  \n",
            "Periode                         \n",
            "1996-01                 112146  \n",
            "1996-02                 175417  \n",
            "1996-03                 104645  \n",
            "1996-04                 112283  \n",
            "1996-05                 137083  \n",
            "1996-06                 198130  \n",
            "1996-07                 194685  \n",
            "1996-08                 100091  \n",
            "1996-09                 194972  \n",
            "1996-10                 133166  \n",
            "1996-11                 155598  \n",
            "1996-12                 104563  \n",
            "1997-01                 104216  \n",
            "1997-02                 142908  \n",
            "1997-03                 135994  \n",
            "1997-04                 154659  \n",
            "1997-05                 122983  \n",
            "1997-06                 104657  \n",
            "1997-07                 163008  \n",
            "1997-08                 149116  \n",
            "1997-09                 144727  \n",
            "1997-10                 148500  \n",
            "1997-11                 120676  \n",
            "1997-12                 162135  \n"
          ]
        }
      ]
    },
    {
      "cell_type": "markdown",
      "source": [
        "#### [Korelasi Penjualan Makanan dengan Kunjungan ke Dokter Gigi: Visualisasi](https://academy.dqlab.id/main/livecode/371/792/4115?pr=0)"
      ],
      "metadata": {
        "id": "diilHM91PuLj"
      }
    },
    {
      "cell_type": "code",
      "source": [
        "# Import matplotlib.pyplot sebagai alias\n",
        "import matplotlib.pyplot as plt\n",
        "\n",
        "\n",
        "# Kolom x adalah kolom dengan awalan penjualan\n",
        "x_cols = df.columns[1:]\n",
        "\n",
        "# Kolom y merupakan kolom tingkat kunjungan ke dokter gigi\n",
        "y_col = \"tingkat kunjungan ke dokter gigi\"\n",
        "\n",
        "# Buat visualisasi \n",
        "fig, axs = plt.subplots(len(x_cols), 1, figsize=(8,12))\n",
        "for ax, x_col in zip(axs, x_cols):\n",
        "    # Plotkan dengan scatter\n",
        "    df.plot.scatter(x=x_col, y=y_col, c=\"darkcyan\", s=60, ax=ax)\n",
        "    ax.set_xlabel(x_col, fontsize=14)\n",
        "    ax.set_ylabel(y_col, fontsize=14)\n",
        "    ax.grid()\n",
        "plt.tight_layout()\n",
        "plt.show()"
      ],
      "metadata": {
        "colab": {
          "base_uri": "https://localhost:8080/",
          "height": 859
        },
        "id": "EGRlW_Z2PzVI",
        "outputId": "a9aee537-1e33-404b-811b-e0fa12fe7a7e"
      },
      "execution_count": 13,
      "outputs": [
        {
          "output_type": "display_data",
          "data": {
            "text/plain": [
              "<Figure size 576x864 with 3 Axes>"
            ],
            "image/png": "[encoded data removed]"
          },
          "metadata": {
            "needs_background": "light"
          }
        }
      ]
    },
    {
      "cell_type": "markdown",
      "source": [
        "#### [Korelasi Penjualan Makanan dengan Kunjungan ke Dokter Gigi: Koefisien Korelasi Pearson](https://academy.dqlab.id/main/livecode/371/792/4118?pr=0)"
      ],
      "metadata": {
        "id": "obs_H8GbQnLT"
      }
    },
    {
      "cell_type": "code",
      "source": [
        "print(\"Koefisien korelasi Pearson:\")\n",
        "print(\"---------------------------\")\n",
        "print(df.corr()[\"tingkat kunjungan ke dokter gigi\"])"
      ],
      "metadata": {
        "colab": {
          "base_uri": "https://localhost:8080/"
        },
        "id": "bn5l2RhOQrqV",
        "outputId": "9a934fa7-8170-4119-b1b7-f1aabb1dbbd7"
      },
      "execution_count": 14,
      "outputs": [
        {
          "output_type": "stream",
          "name": "stdout",
          "text": [
            "Koefisien korelasi Pearson:\n",
            "---------------------------\n",
            "tingkat kunjungan ke dokter gigi    1.000000\n",
            "penjualan permen                    0.083333\n",
            "penjualan sereal                   -0.027465\n",
            "penjualan buah pisang               0.028650\n",
            "Name: tingkat kunjungan ke dokter gigi, dtype: float64\n"
          ]
        }
      ]
    },
    {
      "cell_type": "markdown",
      "source": [
        "#### [The Delayed Effect](https://academy.dqlab.id/main/livecode/371/792/4119?pr=0)"
      ],
      "metadata": {
        "id": "R2rSHKHQRNNm"
      }
    },
    {
      "cell_type": "code",
      "source": [
        "# import stats dari scipy\n",
        "from scipy import stats\n",
        "\n",
        "\n",
        "# Spesifikasi keterlambatan hingga 8 bulan\n",
        "n_delays = 8\n",
        "\n",
        "# Spesifikasi jumlah kolom untuk subplots\n",
        "n_plt_cols = 2\n",
        "\n",
        "fig, axs = plt.subplots(round(n_delays/2), n_plt_cols, figsize=(12, 3.5*round(n_delays/2)), sharey=True)\n",
        "\n",
        "for i in range(n_delays):\n",
        "    # Ingat: varibel bebas dan variabel bergantung harus memiliki ukuran yang sama\n",
        "    # Ambilah variabel bebas: penjualan permen\n",
        "    x = df[\"penjualan permen\"][:-(i+1)]\n",
        "\n",
        "    # Ambilah variabel bergantung: tingkat kunjungan ke dokter gigi dan implementasikan keterlambatan\n",
        "    y = df[\"tingkat kunjungan ke dokter gigi\"][i+1:]\n",
        "\n",
        "    # Hitung koefisien korelasi Pearson\n",
        "    pearson_r, p_value = stats.pearsonr(x, y)\n",
        "    \n",
        "    # Buat title setiap subplots dan juga tambatkan nilai  \n",
        "    # koefisien korelasi Pearson yang telah dihitung\n",
        "    title = \"Efek keterlambatan %d bulan (r = %.2f)\" % (i+1, pearson_r)\n",
        "    \n",
        "    # Buat scatter plot\n",
        "    ax = axs[i // n_plt_cols][i % n_plt_cols]\n",
        "    ax.scatter(x, y, c=\"darkcyan\")\n",
        "    ax.set_title(title, fontsize=14, color=\"maroon\")\n",
        "    if i % n_plt_cols == 0:\n",
        "        ax.set_ylabel(\"tingkat kunjungan ke dokter gigi\", fontsize=12)\n",
        "    ax.set_xlabel(\"penjualan permen\", fontsize=12)\n",
        "    ax.set_xlim([120000, 480000])\n",
        "    ax.grid()\n",
        "\n",
        "plt.tight_layout()\n",
        "plt.show()"
      ],
      "metadata": {
        "colab": {
          "base_uri": "https://localhost:8080/",
          "height": 994
        },
        "id": "b35T3LtVRQ07",
        "outputId": "1b542210-88a7-4038-d3c3-4c033a9eaa9f"
      },
      "execution_count": 15,
      "outputs": [
        {
          "output_type": "display_data",
          "data": {
            "text/plain": [
              "<Figure size 864x1008 with 8 Axes>"
            ],
            "image/png": "[encoded data removed]"
          },
          "metadata": {
            "needs_background": "light"
          }
        }
      ]
    },
    {
      "cell_type": "markdown",
      "source": [
        "## Regresi Linier"
      ],
      "metadata": {
        "id": "GjED0ELJGNux"
      }
    },
    {
      "cell_type": "markdown",
      "source": [
        "#### [Menentukan Persamaan Linier](https://academy.dqlab.id/main/livecode/371/794/4121?pr=0)"
      ],
      "metadata": {
        "id": "xbBf7zCSSEx0"
      }
    },
    {
      "cell_type": "code",
      "source": [
        "# Import numpy sebagai aliasnya np\n",
        "import numpy as np\n",
        "\n",
        "\n",
        "# Ambillah variabel bebas dan bergantung df untuk keterlambatan 4 bulan\n",
        "# dan ubahlah menjadi numpy 1d narray\n",
        "x = df[\"penjualan permen\"][:-4].to_numpy()\n",
        "y = df[\"tingkat kunjungan ke dokter gigi\"][4:].to_numpy()\n",
        "\n",
        "# Hitunglah nilai rata-rata variabel bebas dan bergantung\n",
        "x_mean = x.mean()\n",
        "y_mean = y.mean()\n",
        "\n",
        "# Hitung nilai pembilang dan penyebut untuk m\n",
        "m_pembilang = ((x - x_mean) * (y - y_mean)).sum()\n",
        "m_penyebut = ((x - x_mean)**2).sum()\n",
        "\n",
        "# Hitung nilai koefisien regresi linier\n",
        "m = m_pembilang / m_penyebut\n",
        "b = y_mean - m * x_mean\n",
        "print(\"Persamaan regresi linier: y = %.4e * x + %.4f\" % (m, b))"
      ],
      "metadata": {
        "colab": {
          "base_uri": "https://localhost:8080/"
        },
        "id": "MQaMY_XcSIUF",
        "outputId": "5ec4ab32-b7af-47df-a87b-2e5a4e2ccdd0"
      },
      "execution_count": 16,
      "outputs": [
        {
          "output_type": "stream",
          "name": "stdout",
          "text": [
            "Persamaan regresi linier: y = 2.3035e-04 * x + 12.9341\n"
          ]
        }
      ]
    },
    {
      "cell_type": "markdown",
      "source": [
        "#### [Prediksi Tingkat Kunjungan](https://academy.dqlab.id/main/livecode/371/794/4122?pr=0)"
      ],
      "metadata": {
        "id": "VTIry44OSven"
      }
    },
    {
      "cell_type": "code",
      "source": [
        "# Ambillah butir data variabel bebas yang belum digunakan\n",
        "x_new = df[\"penjualan permen\"][-4:].to_numpy()\n",
        "\n",
        "#  Gunakan x_new ke dalam persamaan regresi\n",
        "y_pred = m * x_new + b\n",
        "print(\"Prediksi tingkat kunjungan ke dokter gigi 1998-01 s/d 1998-04:\")\n",
        "for i, kunjungan in enumerate(y_pred):\n",
        "    print(\"1998-0%d: %4d kunjungan.\" % (i+1, round(kunjungan)))"
      ],
      "metadata": {
        "colab": {
          "base_uri": "https://localhost:8080/"
        },
        "id": "7QSQT4BhS1Yj",
        "outputId": "8953c1b9-6cc0-41c4-834e-03f18c4adddb"
      },
      "execution_count": 17,
      "outputs": [
        {
          "output_type": "stream",
          "name": "stdout",
          "text": [
            "Prediksi tingkat kunjungan ke dokter gigi 1998-01 s/d 1998-04:\n",
            "1998-01:   73 kunjungan.\n",
            "1998-02:   87 kunjungan.\n",
            "1998-03:  121 kunjungan.\n",
            "1998-04:  112 kunjungan.\n"
          ]
        }
      ]
    },
    {
      "cell_type": "markdown",
      "source": [
        "#### [Regresi Linier dengan Scikit-Learn](https://academy.dqlab.id/main/livecode/371/794/4125?pr=0)"
      ],
      "metadata": {
        "id": "l081kZPHTg65"
      }
    },
    {
      "cell_type": "code",
      "source": [
        "# Importlah LinearRegression dari sklearn.linear_model\n",
        "from sklearn.linear_model import LinearRegression\n",
        "\n",
        "\n",
        "# Ambillah variabel bebas dan bergantung untuk keterlambatan 4 bulan\n",
        "# dan ubahlah menjadi numpy 2d narray melalui .reshape((-1,1))\n",
        "x = df[\"penjualan permen\"][:-4].to_numpy().reshape((-1,1))\n",
        "y = df[\"tingkat kunjungan ke dokter gigi\"][4:].to_numpy().reshape((-1,1))\n",
        "\n",
        "# Instansiasi LinearRegression ke dalam lr\n",
        "lr = LinearRegression()\n",
        "\n",
        "# Terapkan method fit pada variabel bebas dan bergantung\n",
        "lr.fit(x,y)\n",
        "\n",
        "# Ambillah butir data variabel bebas yang belum digunakan\n",
        "# dan ubahlah menjadi numpy 2d narray melalui .reshape((-1,1))\n",
        "x_new = df[\"penjualan permen\"][-4:].to_numpy().reshape((-1,1))\n",
        "\n",
        "# Prediksilah x_new dengan method predict\n",
        "y_pred = lr.predict(x_new)\n",
        "\n",
        "print(\"Persamaan regresi linier: y = %.4e * x + %.4f\\n\" % (lr.coef_, lr.intercept_))\n",
        "print(\"Prediksi tingkat kunjungan ke dokter gigi 1998-01 s/d 1998-04:\")\n",
        "for i, kunjungan in enumerate(y_pred):\n",
        "    print(\"1998-0%d: %4d kunjungan.\" % (i+1, round(kunjungan[0])))"
      ],
      "metadata": {
        "colab": {
          "base_uri": "https://localhost:8080/"
        },
        "id": "tIWMrtvDTzXv",
        "outputId": "36eb82fd-0569-4bfe-86a9-58072b9df476"
      },
      "execution_count": 18,
      "outputs": [
        {
          "output_type": "stream",
          "name": "stdout",
          "text": [
            "Persamaan regresi linier: y = 2.3035e-04 * x + 12.9341\n",
            "\n",
            "Prediksi tingkat kunjungan ke dokter gigi 1998-01 s/d 1998-04:\n",
            "1998-01:   73 kunjungan.\n",
            "1998-02:   87 kunjungan.\n",
            "1998-03:  121 kunjungan.\n",
            "1998-04:  112 kunjungan.\n"
          ]
        }
      ]
    },
    {
      "cell_type": "markdown",
      "source": [
        "## Mini Project"
      ],
      "metadata": {
        "id": "j0PhsBeCGRFc"
      }
    },
    {
      "cell_type": "markdown",
      "source": [
        "#### [Mini Project](https://academy.dqlab.id/main/livecode/371/793/4127?pr=0)"
      ],
      "metadata": {
        "id": "UrXiFfSlUesB"
      }
    },
    {
      "cell_type": "code",
      "source": [
        "# Ambillah variabel bebas dan bergantung untuk keterlambatan 4 bulan\n",
        "# dan ubahlah menjadi numpy 1d narray\n",
        "x = df[\"penjualan permen\"][:-4].to_numpy()\n",
        "y = df[\"tingkat kunjungan ke dokter gigi\"][4:].to_numpy()\n",
        "\n",
        "# Penggunaan numpy.polyfit\n",
        "print(\"Penggunaan numpy.polyfit:\")\n",
        "np_out = np.polyfit(x, y, 1)\n",
        "print(\"  Persamaan regresi linier: y = %.4e * x + %.4f\\n\" % (np_out[0], np_out[1]))\n",
        "\n",
        "# Penggunaan stats.linregress\n",
        "print(\"Penggunaan stats.linregress dari scipy:\")\n",
        "sclr_out = stats.linregress(x, y)\n",
        "print(\"  Persamaan regresi linier: y = %.4e * x + %.4f\\n\" % (sclr_out.slope, sclr_out.intercept))\n",
        "\n",
        "# Gunakan salah satu nilai saja dari np_out atau sclr_out\n",
        "# untuk koefisien regresi liniernya (gunakan sclr_out)\n",
        "\n",
        "# Ambillah butir data variabel bebas yang belum digunakan\n",
        "x_new = df[\"penjualan permen\"][-4:].to_numpy()\n",
        "#  Gunakan x_new ke dalam persamaan regresi linier\n",
        "y_pred = sclr_out.slope * x_new + sclr_out.intercept\n",
        "print(\"Prediksi tingkat kunjungan ke dokter gigi 1998-01 s/d 1998-04:\")\n",
        "for i, kunjungan in enumerate(y_pred):\n",
        "    print(\"1998-0%d: %4d kunjungan.\" % (i+1, round(kunjungan)))"
      ],
      "metadata": {
        "colab": {
          "base_uri": "https://localhost:8080/"
        },
        "id": "TV1NH5mAUiBp",
        "outputId": "c3d6bb16-1997-443a-a607-48d184fa779d"
      },
      "execution_count": 19,
      "outputs": [
        {
          "output_type": "stream",
          "name": "stdout",
          "text": [
            "Penggunaan numpy.polyfit:\n",
            "  Persamaan regresi linier: y = 2.3035e-04 * x + 12.9341\n",
            "\n",
            "Penggunaan stats.linregress dari scipy:\n",
            "  Persamaan regresi linier: y = 2.3035e-04 * x + 12.9341\n",
            "\n",
            "Prediksi tingkat kunjungan ke dokter gigi 1998-01 s/d 1998-04:\n",
            "1998-01:   73 kunjungan.\n",
            "1998-02:   87 kunjungan.\n",
            "1998-03:  121 kunjungan.\n",
            "1998-04:  112 kunjungan.\n"
          ]
        }
      ]
    }
  ]
}