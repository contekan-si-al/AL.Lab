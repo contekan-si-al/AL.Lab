{
  "nbformat": 4,
  "nbformat_minor": 0,
  "metadata": {
    "colab": {
      "name": "Introduction to Data Science with Python.ipynb",
      "provenance": []
    },
    "kernelspec": {
      "name": "python3",
      "display_name": "Python 3"
    },
    "language_info": {
      "name": "python"
    }
  },
  "cells": [
    {
      "cell_type": "markdown",
      "source": [
        "## 1. Dasar Python"
      ],
      "metadata": {
        "id": "4NTURGdFgPgg"
      }
    },
    {
      "cell_type": "markdown",
      "source": [
        "#### [Python “Hello World” & Statement](https://academy.dqlab.id/main/livecode/162/306/1398?pr=0)"
      ],
      "metadata": {
        "id": "ZCmb32digriY"
      }
    },
    {
      "cell_type": "code",
      "execution_count": 1,
      "metadata": {
        "colab": {
          "base_uri": "https://localhost:8080/"
        },
        "id": "ITSDZyKIgEAE",
        "outputId": "0301a8fa-a8cc-417c-ac0f-475109ab4b97"
      },
      "outputs": [
        {
          "output_type": "stream",
          "name": "stdout",
          "text": [
            "Hello World.\n",
            "Saya Aksara, baru belajar Python.\n"
          ]
        }
      ],
      "source": [
        "print(\"Hello World.\")\n",
        "\n",
        "print(\"Saya Aksara, baru belajar Python.\")"
      ]
    },
    {
      "cell_type": "markdown",
      "source": [
        "#### [Variables di Python](https://academy.dqlab.id/main/livecode/162/306/1399?pr=0)"
      ],
      "metadata": {
        "id": "qXloBrJkhbpI"
      }
    },
    {
      "cell_type": "code",
      "source": [
        "bil1 = 10\n",
        "Bil_2 = 20\n",
        "Frasa = \"Halo Dunia\"\n",
        "bil1, Bil_2 = 10, 20\n",
        "salam = \"Selamat Pagi\"; Penutup = \"Salam Sejahtera\""
      ],
      "metadata": {
        "id": "-I15gpHIhgIf"
      },
      "execution_count": 2,
      "outputs": []
    },
    {
      "cell_type": "markdown",
      "source": [
        "#### [Comments di Python](https://academy.dqlab.id/main/livecode/162/306/1401?pr=0)"
      ],
      "metadata": {
        "id": "lLMwgfychuZ0"
      }
    },
    {
      "cell_type": "code",
      "source": [
        "# perintah pada baris ini tidak mempengaruhi program\n",
        "'''\n",
        "perintah ini tidak akan dieksekusi oleh Python\n",
        "dan perintah ini juga tidak akan dieksekusi\n",
        "perintah ini juga tidak akan dieksekusi\n",
        "'''\n",
        "print(\"jadi # digunakan untuk membuat comment pada Python\")"
      ],
      "metadata": {
        "colab": {
          "base_uri": "https://localhost:8080/"
        },
        "id": "uQ4599C9hxis",
        "outputId": "1808dc04-3a46-4569-c78e-981888120e23"
      },
      "execution_count": 3,
      "outputs": [
        {
          "output_type": "stream",
          "name": "stdout",
          "text": [
            "jadi # digunakan untuk membuat comment pada Python\n"
          ]
        }
      ]
    },
    {
      "cell_type": "markdown",
      "source": [
        "## 2. Lanjutan Dasar Python"
      ],
      "metadata": {
        "id": "fIqiwbHDiTRv"
      }
    },
    {
      "cell_type": "markdown",
      "source": [
        "#### [Tugas Praktek (Tipe Data)](https://academy.dqlab.id/main/livecode/162/307/1406?pr=0)"
      ],
      "metadata": {
        "id": "uEu_ZmM0iWb4"
      }
    },
    {
      "cell_type": "code",
      "source": [
        "text = \"Belajar Python di DQLab.\"\n",
        "print(list(text))\n",
        "print(tuple(text))\n",
        "print(set(text))"
      ],
      "metadata": {
        "colab": {
          "base_uri": "https://localhost:8080/"
        },
        "id": "Ub5vpz7Li7wQ",
        "outputId": "33f8bbdd-3eda-4db6-a67b-52c5353e3656"
      },
      "execution_count": 4,
      "outputs": [
        {
          "output_type": "stream",
          "name": "stdout",
          "text": [
            "['B', 'e', 'l', 'a', 'j', 'a', 'r', ' ', 'P', 'y', 't', 'h', 'o', 'n', ' ', 'd', 'i', ' ', 'D', 'Q', 'L', 'a', 'b', '.']\n",
            "('B', 'e', 'l', 'a', 'j', 'a', 'r', ' ', 'P', 'y', 't', 'h', 'o', 'n', ' ', 'd', 'i', ' ', 'D', 'Q', 'L', 'a', 'b', '.')\n",
            "{'d', 'a', 'B', 'n', '.', 'h', 'i', 'P', 't', 'L', 'D', 'j', 'l', 'o', 'y', ' ', 'b', 'r', 'e', 'Q'}\n"
          ]
        }
      ]
    },
    {
      "cell_type": "markdown",
      "source": [
        "#### [Menggunakan Library di Python](https://academy.dqlab.id/main/livecode/162/307/1408?pr=0)"
      ],
      "metadata": {
        "id": "U_37o8qFjC8Q"
      }
    },
    {
      "cell_type": "code",
      "source": [
        "import math\n",
        "import numpy as np\n",
        "import pandas as pd\n",
        "import seaborn as sns"
      ],
      "metadata": {
        "id": "JT3REfFCjJLu"
      },
      "execution_count": 5,
      "outputs": []
    }
  ]
}