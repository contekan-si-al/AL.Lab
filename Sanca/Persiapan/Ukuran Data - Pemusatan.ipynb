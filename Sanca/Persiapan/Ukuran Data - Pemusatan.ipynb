{
  "nbformat": 4,
  "nbformat_minor": 0,
  "metadata": {
    "colab": {
      "provenance": []
    },
    "kernelspec": {
      "name": "python3",
      "display_name": "Python 3"
    },
    "language_info": {
      "name": "python"
    }
  },
  "cells": [
    {
      "cell_type": "code",
      "execution_count": 1,
      "metadata": {
        "colab": {
          "base_uri": "https://localhost:8080/"
        },
        "id": "2-Cm27VU-S2J",
        "outputId": "1fc15dfd-081c-4e97-9e05-820f0543b202"
      },
      "outputs": [
        {
          "output_type": "stream",
          "name": "stdout",
          "text": [
            "Mounted at /content/drive\n"
          ]
        }
      ],
      "source": [
        "# singkronisasi ke g-drive\n",
        "\n",
        "from google.colab import drive\n",
        "drive.mount('/content/drive')"
      ]
    },
    {
      "cell_type": "markdown",
      "source": [
        "## Ukuran Pemusatan Data dengan Python"
      ],
      "metadata": {
        "id": "WCL45VtS-v3O"
      }
    },
    {
      "cell_type": "markdown",
      "source": [
        "#### [Membaca Data Survei](https://academy.dqlab.id/main/livecode/365/786/4051?pr=0)"
      ],
      "metadata": {
        "id": "TU7-lwjF_zsf"
      }
    },
    {
      "cell_type": "code",
      "source": [
        "# Import library pandas sebagai aliasnya pd\n",
        "import pandas as pd\n",
        "\n",
        "\n",
        "# Membaca file survei_tinggi_badan.txt\n",
        "df = pd.read_csv(\"/content/drive/MyDrive/AL. Lab/Sanca/Datasets/survei_tinggi_badan.txt\")\n",
        "\n",
        "# Mencetak 5 data teratas\n",
        "print(df.head(5))"
      ],
      "metadata": {
        "colab": {
          "base_uri": "https://localhost:8080/"
        },
        "id": "FKQSznJn_49A",
        "outputId": "d78d5f13-565e-480c-e42a-a84b3be0bfb7"
      },
      "execution_count": 2,
      "outputs": [
        {
          "output_type": "stream",
          "name": "stdout",
          "text": [
            "   tinggi badan (cm)\n",
            "0                157\n",
            "1                163\n",
            "2                156\n",
            "3                166\n",
            "4                162\n"
          ]
        }
      ]
    },
    {
      "cell_type": "markdown",
      "source": [
        "#### [Mengubah Nama Kolom](https://academy.dqlab.id/main/livecode/365/786/4052?pr=0)"
      ],
      "metadata": {
        "id": "DSJk9nlDAfMb"
      }
    },
    {
      "cell_type": "code",
      "source": [
        "# melakukan rename terhadap kolom \"tinggi badan (cm)\" menjadi \"tinggi\"\n",
        "df.rename({'tinggi badan (cm)' : 'tinggi'}, axis=1, inplace=True)\n",
        "print(df.head(5))"
      ],
      "metadata": {
        "colab": {
          "base_uri": "https://localhost:8080/"
        },
        "id": "kMKGymGvAitP",
        "outputId": "ef388ee0-ad1e-4960-9b60-709f90d708d7"
      },
      "execution_count": 4,
      "outputs": [
        {
          "output_type": "stream",
          "name": "stdout",
          "text": [
            "   tinggi\n",
            "0     157\n",
            "1     163\n",
            "2     156\n",
            "3     166\n",
            "4     162\n"
          ]
        }
      ]
    },
    {
      "cell_type": "markdown",
      "source": [
        "#### [Nilai Mean](https://academy.dqlab.id/main/livecode/365/786/4053?pr=0)"
      ],
      "metadata": {
        "id": "pZUniA80BDlZ"
      }
    },
    {
      "cell_type": "code",
      "source": [
        "# Mengecek apakah ada data yang bernilai null\n",
        "print(\"Mengecek apakah ada data yang bernilai null\")\n",
        "print(df.isnull().any().any())\n",
        "\n",
        "# Mengecek jumlah data\n",
        "print(\"\\nMengecek jumlah data\")\n",
        "print(df.shape)\n",
        "\n",
        "# Mendapatkan nilai mean menggunakan fungsi mean yang disediakan pandas\n",
        "print(\"\\nMean:\", df[\"tinggi\"].mean())"
      ],
      "metadata": {
        "colab": {
          "base_uri": "https://localhost:8080/"
        },
        "id": "ZnlhJQ2WBGsK",
        "outputId": "4dc81383-49c4-4f47-b187-a21b26bbc452"
      },
      "execution_count": 5,
      "outputs": [
        {
          "output_type": "stream",
          "name": "stdout",
          "text": [
            "Mengecek apakah ada data yang bernilai null\n",
            "False\n",
            "\n",
            "Mengecek jumlah data\n",
            "(250, 1)\n",
            "\n",
            "Mean: 161.352\n"
          ]
        }
      ]
    },
    {
      "cell_type": "markdown",
      "source": [
        "#### [Nilai Median dan Modus](https://academy.dqlab.id/main/livecode/365/786/4054?pr=0)"
      ],
      "metadata": {
        "id": "3zuJ87CPBb_X"
      }
    },
    {
      "cell_type": "code",
      "source": [
        "# Mendapatkan nilai median menggunakan fungsi median yang disediakan pandas\n",
        "print(\"Median data\")\n",
        "print(\">> Median: \", df[\"tinggi\"].median())\n",
        "\n",
        "# Mendapatkan nilai modus menggunakan fungsi mode yang disediakan pandas\n",
        "print(\"\\nModus data\")\n",
        "print(\">> Modus: \", df[\"tinggi\"].mode())"
      ],
      "metadata": {
        "colab": {
          "base_uri": "https://localhost:8080/"
        },
        "id": "TtOwrbr0Bg_c",
        "outputId": "decedc6c-4aa5-4e08-8927-599c5e380aff"
      },
      "execution_count": 6,
      "outputs": [
        {
          "output_type": "stream",
          "name": "stdout",
          "text": [
            "Median data\n",
            ">> Median:  161.0\n",
            "\n",
            "Modus data\n",
            ">> Modus:  0    162\n",
            "dtype: int64\n"
          ]
        }
      ]
    },
    {
      "cell_type": "markdown",
      "source": [
        "## Anscombe’s Quartet"
      ],
      "metadata": {
        "id": "vWOVTtN2-xR2"
      }
    },
    {
      "cell_type": "markdown",
      "source": [
        "#### [Membaca Dataset](https://academy.dqlab.id/main/livecode/365/787/4056?pr=0)"
      ],
      "metadata": {
        "id": "756zY6HlCBTL"
      }
    },
    {
      "cell_type": "code",
      "source": [
        "#load dataset ke dataframe anscombe\n",
        "anscombe = pd.read_csv(\"/content/drive/MyDrive/AL. Lab/Sanca/Datasets/anscombe.csv\")\n",
        "\n",
        "# menampilkan seluruh baris data yang ada\n",
        "print(\"Anscombe's Quartet\")\n",
        "print(anscombe)\n",
        "\n",
        "# menampilkan mean dataset anscombe\n",
        "print(\"\\nMean dari Anscombe's Quartet\")\n",
        "print(anscombe.mean())"
      ],
      "metadata": {
        "colab": {
          "base_uri": "https://localhost:8080/"
        },
        "id": "9QHpc7l1CM8G",
        "outputId": "97c6c717-fd11-4678-d78b-b2d6f781ad0f"
      },
      "execution_count": 7,
      "outputs": [
        {
          "output_type": "stream",
          "name": "stdout",
          "text": [
            "Anscombe's Quartet\n",
            "    x1  x2  x3  x4     y1    y2     y3     y4\n",
            "0   10  10  10   8   8.04  9.14   7.46   6.58\n",
            "1    8   8   8   8   6.95  8.14   6.77   5.76\n",
            "2   13  13  13   8   7.58  8.74  12.74   7.71\n",
            "3    9   9   9   8   8.81  8.77   7.11   8.84\n",
            "4   11  11  11   8   8.33  9.26   7.81   8.47\n",
            "5   14  14  14   8   9.96  8.10   8.84   7.04\n",
            "6    6   6   6   8   7.24  6.13   6.08   5.25\n",
            "7    4   4   4  19   4.26  3.10   5.39  12.50\n",
            "8   12  12  12   8  10.84  9.13   8.15   5.56\n",
            "9    7   7   7   8   4.82  7.26   6.42   7.91\n",
            "10   5   5   5   8   5.68  4.74   5.73   6.89\n",
            "\n",
            "Mean dari Anscombe's Quartet\n",
            "x1    9.000000\n",
            "x2    9.000000\n",
            "x3    9.000000\n",
            "x4    9.000000\n",
            "y1    7.500909\n",
            "y2    7.500909\n",
            "y3    7.500000\n",
            "y4    7.500909\n",
            "dtype: float64\n"
          ]
        }
      ]
    },
    {
      "cell_type": "markdown",
      "source": [
        "#### [Visualisasi Scatter](https://academy.dqlab.id/main/livecode/365/787/4057?pr=0)"
      ],
      "metadata": {
        "id": "vqa9MeLZCpBX"
      }
    },
    {
      "cell_type": "code",
      "source": [
        "# import matplotlib untuk plotting\n",
        "import matplotlib.pyplot as plt\n",
        "\n",
        "\n",
        "fig, ax = plt.subplots(nrows=2, ncols=2, figsize=(8,8))\n",
        "\n",
        "# scatter plot (x1, y1), (x2, y2), (x3, y3), dan (x4, y4)\n",
        "ax[0][0].scatter(anscombe.x1, anscombe.y1)\n",
        "ax[0][1].scatter(anscombe.x2, anscombe.y2)\n",
        "ax[1][0].scatter(anscombe.x3, anscombe.y3)\n",
        "ax[1][1].scatter(anscombe.x4, anscombe.y4)\n",
        "\n",
        "k = 1\n",
        "for i in range(2):\n",
        "\tfor j in range(2):\n",
        "\t\tax[i][j].set_xlabel(\"x\" + str(k), fontsize=12)\n",
        "\t\tax[i][j].set_ylabel(\"y\" + str(k), fontsize=12)\n",
        "\t\tax[i][j].grid()\n",
        "\t\tk += 1\n",
        "\t\t\n",
        "plt.tight_layout()\n",
        "plt.show()"
      ],
      "metadata": {
        "colab": {
          "base_uri": "https://localhost:8080/",
          "height": 585
        },
        "id": "F0IKqBnJCvLd",
        "outputId": "1fe485de-1153-4cc0-c202-7eab14894ae3"
      },
      "execution_count": 8,
      "outputs": [
        {
          "output_type": "display_data",
          "data": {
            "text/plain": [
              "<Figure size 576x576 with 4 Axes>"
            ],
            "image/png": "[encoded data removed]"
          },
          "metadata": {
            "needs_background": "light"
          }
        }
      ]
    },
    {
      "cell_type": "markdown",
      "source": [
        "#### [Latihan](https://academy.dqlab.id/main/livecode/365/787/4058?pr=0)"
      ],
      "metadata": {
        "id": "F77OZg78DYt_"
      }
    },
    {
      "cell_type": "code",
      "source": [
        "# mendapatkan nilai mean menggunakan fungsi mean yang disediakan pandas\n",
        "print(df[\"tinggi\"].mean())\n",
        "\n",
        "# mendapatkan nilai median menggunakan fungsi median yang disediakan pandas\n",
        "print(df[\"tinggi\"].median())\n",
        "\n",
        "# mendapatkan nilai modus menggunakan fungsi mode yang disediakan pandas\n",
        "print(df[\"tinggi\"].mode())"
      ],
      "metadata": {
        "colab": {
          "base_uri": "https://localhost:8080/"
        },
        "id": "zxSfcrsTDdNO",
        "outputId": "d469ac8d-2bcb-4665-857e-e761bf374507"
      },
      "execution_count": 9,
      "outputs": [
        {
          "output_type": "stream",
          "name": "stdout",
          "text": [
            "161.352\n",
            "161.0\n",
            "0    162\n",
            "dtype: int64\n"
          ]
        }
      ]
    }
  ]
}