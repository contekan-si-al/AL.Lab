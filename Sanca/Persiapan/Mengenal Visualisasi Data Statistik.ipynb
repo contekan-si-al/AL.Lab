{
  "nbformat": 4,
  "nbformat_minor": 0,
  "metadata": {
    "colab": {
      "name": "Mengenal Visualisasi Data Statistik.ipynb",
      "provenance": []
    },
    "kernelspec": {
      "name": "python3",
      "display_name": "Python 3"
    },
    "language_info": {
      "name": "python"
    }
  },
  "cells": [
    {
      "cell_type": "code",
      "source": [
        "from google.colab import drive\n",
        "drive.mount('/content/drive')"
      ],
      "metadata": {
        "colab": {
          "base_uri": "https://localhost:8080/"
        },
        "id": "yG9u2WHikqbh",
        "outputId": "964d279d-30e7-4972-a4f1-de4820ceb09f"
      },
      "execution_count": 1,
      "outputs": [
        {
          "output_type": "stream",
          "name": "stdout",
          "text": [
            "Mounted at /content/drive\n"
          ]
        }
      ]
    },
    {
      "cell_type": "markdown",
      "source": [
        "## Pengantar Kasus"
      ],
      "metadata": {
        "id": "dOaKhxFqja4x"
      }
    },
    {
      "cell_type": "markdown",
      "source": [
        "#### [Implementasi Visualisasi Data Statistik](https://academy.dqlab.id/main/livecode/366/770/3992?pr=0)"
      ],
      "metadata": {
        "id": "NQyeAXlGjy24"
      }
    },
    {
      "cell_type": "code",
      "source": [
        "# import library pandas\n",
        "import pandas as pd\n",
        "\n",
        "# membaca file transaksi_retail_dqlab_v2.tsv\n",
        "df = pd.read_csv(\"/content/drive/MyDrive/AL. Lab/Sanca/Datasets/transaksi_retail_dqlab_v2.tsv\", delimiter=\"\\t\")\n",
        "\n",
        "# menampilkan 5 data pertama\n",
        "print(df.head(5))\n"
      ],
      "metadata": {
        "colab": {
          "base_uri": "https://localhost:8080/"
        },
        "id": "s9S7uOYSkIZm",
        "outputId": "3191b5c2-c83e-45e9-d940-c7c036f8b116"
      },
      "execution_count": 2,
      "outputs": [
        {
          "output_type": "stream",
          "name": "stdout",
          "text": [
            "      Tanggal Kode Produk            Nama Produk  Jumlah  Harga\n",
            "0  10-04-2020     Item-11      Sabun Cuci Piring       3  14000\n",
            "1  10-04-2020     Item-11      Sabun Cuci Piring       3  14000\n",
            "2  10-04-2020     Item-11      Sabun Cuci Piring       2  14000\n",
            "3  10-04-2020     Item-02  Bawang Putih 200 gram       3  15000\n",
            "4  10-04-2020     Item-03  Gula Pasir Putih 1 kg       2  12500\n"
          ]
        }
      ]
    },
    {
      "cell_type": "markdown",
      "source": [
        "#### [Mengelompokkan Data](https://academy.dqlab.id/main/livecode/366/770/3993?pr=0)"
      ],
      "metadata": {
        "id": "lihyQljBlDP_"
      }
    },
    {
      "cell_type": "code",
      "source": [
        "# menghitung total jumlah barang yang dibeli berdasarkan produk\n",
        "print(df[\"Jumlah\"].groupby(df[\"Nama Produk\"]).sum())"
      ],
      "metadata": {
        "colab": {
          "base_uri": "https://localhost:8080/"
        },
        "id": "34_wxcULlgG0",
        "outputId": "c2b402fc-74a9-4325-94f8-f57b6d5a1574"
      },
      "execution_count": 4,
      "outputs": [
        {
          "output_type": "stream",
          "name": "stdout",
          "text": [
            "Nama Produk\n",
            "Balsem Putih 20 gram        13\n",
            "Batere AA                  184\n",
            "Bawang Putih 200 gram      402\n",
            "Beras Pulen 5 kg            27\n",
            "Biskuit Waver Kaleng       135\n",
            "Gula Pasir Putih 1 kg      547\n",
            "Ketan Hitam 500 gram        23\n",
            "Kopi Instant               384\n",
            "Mi Goreng Instant          642\n",
            "Obat Batuk                  73\n",
            "Obat Diare                   4\n",
            "Pisau Cukur                 31\n",
            "Roti Tawar                 172\n",
            "Sabun Cuci Piring          108\n",
            "Sabun Mandi Cair 100 ml    394\n",
            "Sabut Cuci Piring           36\n",
            "Teh Celup Melati            58\n",
            "Telur Ayam Negeri           29\n",
            "Vitamin C                  146\n",
            "Name: Jumlah, dtype: int64\n"
          ]
        }
      ]
    },
    {
      "cell_type": "markdown",
      "source": [
        "#### [Mengubah Tanggal](https://academy.dqlab.id/main/livecode/366/770/3994?pr=0)"
      ],
      "metadata": {
        "id": "qusNGcJ-lz2N"
      }
    },
    {
      "cell_type": "code",
      "source": [
        "import datetime\n",
        "# membuat kolom baru bernama \"Bulan\" yang bertipe datetime dalam format \"%m-%Y\"\n",
        "df[\"Bulan\"] = df[\"Tanggal\"].apply(\n",
        "\tlambda x: datetime.datetime.strptime(x, \"%d-%m-%Y\").strftime(\"%m-%Y\")\n",
        ")\n",
        "\n",
        "# menghitung jumlah item penjualan per produk per bulan\n",
        "print(df.groupby([\"Bulan\", \"Nama Produk\"])[\"Jumlah\"].sum())"
      ],
      "metadata": {
        "colab": {
          "base_uri": "https://localhost:8080/"
        },
        "id": "YehxgfrWl7-P",
        "outputId": "a77d1334-1764-4b1f-bce3-fa67807c9506"
      },
      "execution_count": 5,
      "outputs": [
        {
          "output_type": "stream",
          "name": "stdout",
          "text": [
            "Bulan    Nama Produk            \n",
            "04-2020  Balsem Putih 20 gram        13\n",
            "         Batere AA                   79\n",
            "         Bawang Putih 200 gram      169\n",
            "         Beras Pulen 5 kg            27\n",
            "         Biskuit Waver Kaleng        92\n",
            "         Gula Pasir Putih 1 kg      272\n",
            "         Ketan Hitam 500 gram        23\n",
            "         Kopi Instant               123\n",
            "         Mi Goreng Instant          247\n",
            "         Obat Batuk                  73\n",
            "         Obat Diare                   4\n",
            "         Pisau Cukur                 31\n",
            "         Roti Tawar                  96\n",
            "         Sabun Cuci Piring           96\n",
            "         Sabun Mandi Cair 100 ml    195\n",
            "         Sabut Cuci Piring           28\n",
            "         Teh Celup Melati            58\n",
            "         Telur Ayam Negeri           29\n",
            "         Vitamin C                   98\n",
            "05-2020  Batere AA                   93\n",
            "         Bawang Putih 200 gram      220\n",
            "         Biskuit Waver Kaleng        43\n",
            "         Gula Pasir Putih 1 kg      246\n",
            "         Kopi Instant               217\n",
            "         Mi Goreng Instant          323\n",
            "         Roti Tawar                  76\n",
            "         Sabun Cuci Piring           12\n",
            "         Sabun Mandi Cair 100 ml    199\n",
            "         Sabut Cuci Piring            8\n",
            "         Vitamin C                   48\n",
            "06-2020  Batere AA                   12\n",
            "         Bawang Putih 200 gram       13\n",
            "         Gula Pasir Putih 1 kg       29\n",
            "         Kopi Instant                44\n",
            "         Mi Goreng Instant           72\n",
            "Name: Jumlah, dtype: int64\n"
          ]
        }
      ]
    },
    {
      "cell_type": "markdown",
      "source": [
        "#### [Grafik Scatter Plot](https://academy.dqlab.id/main/livecode/366/770/3995?pr=0)"
      ],
      "metadata": {
        "id": "-KmF_vxEmy0X"
      }
    },
    {
      "cell_type": "code",
      "source": [
        "import matplotlib.pyplot as plt\n",
        "# plot scatter untuuk kolom \"Harga\" dan \"Jumlah\"\n",
        "plt.scatter(df[\"Harga\"], df[\"Jumlah\"], alpha = 0.2)\n",
        "plt.xlabel(\"Harga\", fontsize=11)\n",
        "plt.ylabel(\"Jumlah\", fontsize=11)\n",
        "plt.tight_layout()\n",
        "plt.show()"
      ],
      "metadata": {
        "colab": {
          "base_uri": "https://localhost:8080/",
          "height": 297
        },
        "id": "4Mvxxaf2m3tc",
        "outputId": "855d2d5d-c6fc-4061-9559-d97d21ad2efd"
      },
      "execution_count": 6,
      "outputs": [
        {
          "output_type": "display_data",
          "data": {
            "text/plain": [
              "<Figure size 432x288 with 1 Axes>"
            ],
            "image/png": "[encoded data removed]"
          },
          "metadata": {
            "needs_background": "light"
          }
        }
      ]
    },
    {
      "cell_type": "markdown",
      "source": [
        "#### [Grafik Histogram](https://academy.dqlab.id/main/livecode/366/770/3996?pr=0)"
      ],
      "metadata": {
        "id": "V2ZFN_LvnZ4f"
      }
    },
    {
      "cell_type": "code",
      "source": [
        "# menampilkan histogram jumlah\n",
        "import matplotlib.pyplot as plt\n",
        "plt.figure(figsize=(8,6))\n",
        "plt.hist(df[\"Jumlah\"])\n",
        "plt.grid(color=\"gray\", linestyle=\"-\", linewidth=0.5)\n",
        "plt.xticks(rotation=45)\n",
        "plt.tight_layout()\n",
        "plt.show()"
      ],
      "metadata": {
        "colab": {
          "base_uri": "https://localhost:8080/",
          "height": 441
        },
        "id": "72boWKCPndzQ",
        "outputId": "1159a6f6-67c0-489b-816c-1a51f2ff1b28"
      },
      "execution_count": 7,
      "outputs": [
        {
          "output_type": "display_data",
          "data": {
            "text/plain": [
              "<Figure size 576x432 with 1 Axes>"
            ],
            "image/png": "[encoded data removed]"
          },
          "metadata": {
            "needs_background": "light"
          }
        }
      ]
    },
    {
      "cell_type": "markdown",
      "source": [
        "#### [Line Chart](https://academy.dqlab.id/main/livecode/366/770/3997?pr=0)"
      ],
      "metadata": {
        "id": "O-PTmcDSn0AU"
      }
    },
    {
      "cell_type": "code",
      "source": [
        "# mengambil data Mi Goreng Instant saja\n",
        "produk_mi = df[df[\"Nama Produk\"] == \"Mi Goreng Instant\"]\n",
        "\n",
        "# x adalah bulan transaksi\n",
        "x = [\"04-2020\",\"05-2020\", \"06-2020\"]\n",
        "\n",
        "# y jumlah item Mi Goreng Instant yang terjual\n",
        "y = produk_mi.groupby([\"Bulan\",\"Nama Produk\"])[\"Jumlah\"].sum()\n",
        "\n",
        "# membuat line chart menggunakan fungsi plot\n",
        "plt.plot(x,y)\n",
        "plt.title(\"Jumlah Penjualan Mi Goreng Instant Per Bulan\", pad=10, fontsize=12, color=\"blue\")\n",
        "plt.xlabel(\"Bulan\", fontsize=11)\n",
        "plt.ylabel(\"Jumlah\", fontsize=11)\n",
        "plt.grid(color=\"gray\", linestyle=\"-\", linewidth=0.5)\n",
        "plt.tight_layout()\n",
        "plt.show()"
      ],
      "metadata": {
        "colab": {
          "base_uri": "https://localhost:8080/",
          "height": 297
        },
        "id": "5KpVa1Kkn8Cz",
        "outputId": "a36eb824-6739-484a-9f43-bf6b5244b072"
      },
      "execution_count": 9,
      "outputs": [
        {
          "output_type": "display_data",
          "data": {
            "text/plain": [
              "<Figure size 432x288 with 1 Axes>"
            ],
            "image/png": "[encoded data removed]"
          },
          "metadata": {
            "needs_background": "light"
          }
        }
      ]
    },
    {
      "cell_type": "markdown",
      "source": [
        "## Mini Project"
      ],
      "metadata": {
        "id": "g9s-_Dr2jv7s"
      }
    },
    {
      "cell_type": "markdown",
      "source": [
        "#### [Membuat Tabel Frekuensi](https://academy.dqlab.id/main/livecode/366/779/3998?pr=0)"
      ],
      "metadata": {
        "id": "vpB8cqx3p80Y"
      }
    },
    {
      "cell_type": "code",
      "source": [
        "# Menghitung total harga untuk setiap row\n",
        "df[\"Total\"] = df[\"Harga\"] * df[\"Jumlah\"]\n",
        "\n",
        "# menghitung total penjualan per produk per bulan\n",
        "print(df.groupby([\"Bulan\", \"Nama Produk\"])[\"Total\"].sum())"
      ],
      "metadata": {
        "colab": {
          "base_uri": "https://localhost:8080/"
        },
        "id": "z6kRcmquqCN-",
        "outputId": "18ef8ec9-972d-4a72-bbee-1f91c933e6fc"
      },
      "execution_count": 10,
      "outputs": [
        {
          "output_type": "stream",
          "name": "stdout",
          "text": [
            "Bulan    Nama Produk            \n",
            "04-2020  Balsem Putih 20 gram        289900\n",
            "         Batere AA                   948000\n",
            "         Bawang Putih 200 gram      2535000\n",
            "         Beras Pulen 5 kg           1701000\n",
            "         Biskuit Waver Kaleng       2208000\n",
            "         Gula Pasir Putih 1 kg      3400000\n",
            "         Ketan Hitam 500 gram        414000\n",
            "         Kopi Instant                639600\n",
            "         Mi Goreng Instant           642200\n",
            "         Obat Batuk                  365000\n",
            "         Obat Diare                   20000\n",
            "         Pisau Cukur                 201500\n",
            "         Roti Tawar                 1200000\n",
            "         Sabun Cuci Piring          1344000\n",
            "         Sabun Mandi Cair 100 ml    2047500\n",
            "         Sabut Cuci Piring           210000\n",
            "         Teh Celup Melati            452400\n",
            "         Telur Ayam Negeri            49300\n",
            "         Vitamin C                   196000\n",
            "05-2020  Batere AA                  1116000\n",
            "         Bawang Putih 200 gram      3300000\n",
            "         Biskuit Waver Kaleng       1032000\n",
            "         Gula Pasir Putih 1 kg      3075000\n",
            "         Kopi Instant               1128400\n",
            "         Mi Goreng Instant           839800\n",
            "         Roti Tawar                  950000\n",
            "         Sabun Cuci Piring           168000\n",
            "         Sabun Mandi Cair 100 ml    2089500\n",
            "         Sabut Cuci Piring            60000\n",
            "         Vitamin C                    96000\n",
            "06-2020  Batere AA                   144000\n",
            "         Bawang Putih 200 gram       195000\n",
            "         Gula Pasir Putih 1 kg       362500\n",
            "         Kopi Instant                228800\n",
            "         Mi Goreng Instant           187200\n",
            "Name: Total, dtype: int64\n"
          ]
        }
      ]
    },
    {
      "cell_type": "markdown",
      "source": [
        "#### [Membuat Line Chart](https://academy.dqlab.id/main/livecode/366/779/3999?pr=0)"
      ],
      "metadata": {
        "id": "8ofTLHInq-mv"
      }
    },
    {
      "cell_type": "code",
      "source": [
        "# mengambil data Kopi Instant saja\n",
        "produk_kopi = df[df[\"Nama Produk\"] == \"Kopi Instant\"]\n",
        "\n",
        "# x adalah bulan transaksi\n",
        "x = [\"04-2020\", \"05-2020\", \"06-2020\"]\n",
        "\n",
        "# y jumlah item Kopi Instant yang terjual\n",
        "y = produk_kopi.groupby([\"Bulan\", \"Nama Produk\"])[\"Jumlah\"].sum()\n",
        "\n",
        "import matplotlib.pyplot as plt\n",
        "# membuat line chart menggunakan fungsi plot\n",
        "plt.plot(x, y)\n",
        "plt.title(\"Jumlah Penjualan Kopi Instant Per Bulan\", pad=10, fontsize=12, color=\"blue\")\n",
        "plt.xlabel(\"Bulan\", fontsize=11)\n",
        "plt.ylabel(\"Jumlah\",fontsize=11)\n",
        "plt.grid(color=\"gray\", linestyle=\"-\", linewidth=0.5)\n",
        "plt.tight_layout()\n",
        "plt.show()"
      ],
      "metadata": {
        "colab": {
          "base_uri": "https://localhost:8080/",
          "height": 297
        },
        "id": "QD5a-COhrJ5S",
        "outputId": "f3d3d1f2-b482-4128-c418-8c0ed1795297"
      },
      "execution_count": 11,
      "outputs": [
        {
          "output_type": "display_data",
          "data": {
            "text/plain": [
              "<Figure size 432x288 with 1 Axes>"
            ],
            "image/png": "[encoded data removed]"
          },
          "metadata": {
            "needs_background": "light"
          }
        }
      ]
    }
  ]
}