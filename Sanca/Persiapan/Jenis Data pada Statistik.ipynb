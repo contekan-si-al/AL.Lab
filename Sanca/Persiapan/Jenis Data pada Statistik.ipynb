{
  "nbformat": 4,
  "nbformat_minor": 0,
  "metadata": {
    "colab": {
      "name": "Jenis Data pada Statistik.ipynb",
      "provenance": []
    },
    "kernelspec": {
      "name": "python3",
      "display_name": "Python 3"
    },
    "language_info": {
      "name": "python"
    }
  },
  "cells": [
    {
      "cell_type": "markdown",
      "source": [
        "\n",
        "## Mari Kita Pahami dari Kasus Survei Sederhana"
      ],
      "metadata": {
        "id": "-6x5NjGNC3SZ"
      }
    },
    {
      "cell_type": "markdown",
      "source": [
        "#### [Praktik melalui Python untuk Klasifikasi Data Survei](https://academy.dqlab.id/main/livecode/362/827/4189?pr=0)"
      ],
      "metadata": {
        "id": "a8CYIdX5C-C1"
      }
    },
    {
      "cell_type": "code",
      "source": [
        "# Untuk seluruh jawaban yang ditandai dengan ___,\n",
        "#   gunakan lowercase string!\n",
        "# Jika untuk jawaban nama kolom lebih dari satu, nama kolom \n",
        "#   harus berurut dan dinyatakan menggunakan list of string\n",
        "# Gunakan tanda petik \"\" untuk mengetikkan jawaban yang bertipe string.\n",
        "\n",
        "# Berdasarkan pihak pengumpul data. Data mu ini jenisnya apa?\n",
        "pihak = \"primer\"\n",
        "print(\"Berdasarkan pihak pengumpul data:\", pihak)\n",
        "\n",
        "# Berdasarkan sumber data. Data mu ini jenisnya apa?\n",
        "sumber = \"eksternal\"\n",
        "print(\"\\nBerdasarkan sumber data:\", sumber)\n",
        "\n",
        "# Nama-nama kolom: jenis_kelamin, umur_tahun, jenis_pekerjaan,\n",
        "#   cek_medis, tinggi_badan_cm, berat_badan_kg\n",
        "# Atribut/kolom dengan data kuantitatif?\n",
        "data_kuantitatif = [\"umur_tahun\", \"tinggi_badan_cm\", \"berat_badan_kg\"]\n",
        "print(\"\\nAtribut/kolom dengan data kuantitatif:\\n \", data_kuantitatif)"
      ],
      "metadata": {
        "colab": {
          "base_uri": "https://localhost:8080/"
        },
        "id": "K6GNxsvaEVIT",
        "outputId": "c5cf1810-6e5e-4cf9-cc07-b54407840fa7"
      },
      "execution_count": 2,
      "outputs": [
        {
          "output_type": "stream",
          "name": "stdout",
          "text": [
            "Berdasarkan pihak pengumpul data: primer\n",
            "\n",
            "Berdasarkan sumber data: eksternal\n",
            "\n",
            "Atribut/kolom dengan data kuantitatif:\n",
            "  ['umur_tahun', 'tinggi_badan_cm', 'berat_badan_kg']\n"
          ]
        }
      ]
    },
    {
      "cell_type": "markdown",
      "source": [
        "#### [Skala Pengukuran Data: Praktik dengan Data Survei](https://academy.dqlab.id/main/livecode/362/827/4191?pr=0)"
      ],
      "metadata": {
        "id": "QjZ3_Jr7HmmN"
      }
    },
    {
      "cell_type": "code",
      "source": [
        "# Untuk seluruh jawaban yang ditandai dengan ___,\n",
        "#   gunakan lowercase string!\n",
        "# Jika untuk jawaban nama kolom lebih dari satu, nama kolom \n",
        "#   harus berurut dan dinyatakan menggunakan list of string\n",
        "# Nama-nama kolom: jenis_kelamin, umur_tahun, jenis_pekerjaan,\n",
        "#   cek_medis, tinggi_badan_cm, berat_badan_kg\n",
        "# Gunakan tanda petik \"\" untuk mengetikkan jawaban yang bertipe string.\n",
        "\n",
        "# Skala nominal/kategorikal\n",
        "nominal = [\"jenis_kelamin\", \"jenis_pekerjaan\"]\n",
        "print(\"Kolom dengan skala nominal/kategorikal:\\n \", nominal)\n",
        "\n",
        "# Skala ordinal\n",
        "ordinal = \"cek_medis\"\n",
        "print(\"\\nKolom dengan skala ordinal:\\n \", ordinal)\n",
        "\n",
        "# Skala interval\n",
        "interval = None\n",
        "print(\"\\nKolom dengan skala interval:\\n \", interval)\n",
        "\n",
        "# Skala rasio\n",
        "rasio = [\"umur_tahun\", \"tinggi_badan_cm\", \"berat_badan_kg\"]\n",
        "print(\"\\nKolom dengan skala rasio:\\n \", rasio)"
      ],
      "metadata": {
        "colab": {
          "base_uri": "https://localhost:8080/"
        },
        "id": "4dMlmYgqHr-b",
        "outputId": "9b7273e6-b4c4-484d-9971-40a21971741d"
      },
      "execution_count": 3,
      "outputs": [
        {
          "output_type": "stream",
          "name": "stdout",
          "text": [
            "Kolom dengan skala nominal/kategorikal:\n",
            "  ['jenis_kelamin', 'jenis_pekerjaan']\n",
            "\n",
            "Kolom dengan skala ordinal:\n",
            "  cek_medis\n",
            "\n",
            "Kolom dengan skala interval:\n",
            "  None\n",
            "\n",
            "Kolom dengan skala rasio:\n",
            "  ['umur_tahun', 'tinggi_badan_cm', 'berat_badan_kg']\n"
          ]
        }
      ]
    },
    {
      "cell_type": "markdown",
      "source": [
        "#### [Data Nominal di Pandas - Praktik](https://academy.dqlab.id/main/livecode/362/827/4193?pr=0)"
      ],
      "metadata": {
        "id": "eV_pm6y6IZAT"
      }
    },
    {
      "cell_type": "code",
      "source": [
        "# Importlah pandas sebagai aliasnya pd\n",
        "import pandas as pd\n",
        "# Data jenis_kelamin\n",
        "gender = [\"Pria\", \"Pria\", \"Wanita\", \"Pria\", \"Wanita\",\n",
        "          \"Wanita\", \"Wanita\", \"Pria\", \"Pria\", \"Wanita\"]\n",
        "df = pd.DataFrame({\"jenis_kelamin\": gender})\n",
        "# Cek tipe data\n",
        "print(\"Cek tipe data awal:\\n \", df.dtypes)\n",
        "\n",
        "# Buat kategori untuk kolom jenis_kelamin\n",
        "cat = pd.CategoricalDtype([\"Pria\", \"Wanita\"])\n",
        "# Ubahlah tipe data kolom jenis_kelamin\n",
        "df = df.astype({\"jenis_kelamin\": cat})\n",
        "# Cek kembali tipe data\n",
        "print(\"\\nCek tipe data setelah diubah:\\n \", df.dtypes)\n"
      ],
      "metadata": {
        "colab": {
          "base_uri": "https://localhost:8080/"
        },
        "id": "cTxL3CLEIeJg",
        "outputId": "a5da6c51-5b50-4a64-df0a-418b4c7afc1f"
      },
      "execution_count": 4,
      "outputs": [
        {
          "output_type": "stream",
          "name": "stdout",
          "text": [
            "Cek tipe data awal:\n",
            "  jenis_kelamin    object\n",
            "dtype: object\n",
            "\n",
            "Cek tipe data setelah diubah:\n",
            "  jenis_kelamin    category\n",
            "dtype: object\n"
          ]
        }
      ]
    },
    {
      "cell_type": "markdown",
      "source": [
        "#### [Data Ordinal di Pandas - Praktik](https://academy.dqlab.id/main/livecode/362/827/4194?pr=0)"
      ],
      "metadata": {
        "id": "oR77jqvGRZI7"
      }
    },
    {
      "cell_type": "code",
      "source": [
        "# Importlah pandas sebagai aliasnya pd\n",
        "import pandas as pd\n",
        "# Data jenis_kelamin\n",
        "gender = [\"Pria\", \"Pria\", \"Wanita\", \"Pria\", \"Wanita\",\n",
        "          \"Wanita\", \"Wanita\", \"Pria\", \"Pria\", \"Wanita\"]\n",
        "# Data cek medis\n",
        "mcu = [\"tidak pernah\", \"rutin (1 tahun sekali)\",\n",
        "       \"tidak tentu waktunya\", \"tidak pernah\", \n",
        "       \"rutin (1 tahun sekali)\", \"lebih dari 2 tahun sekali\",\n",
        "       \"tidak pernah\", \"tidak pernah\", \n",
        "       \"rutin (1 tahun sekali)\", \"2 tahun sekali\"]\n",
        "# Data frame\n",
        "df = pd.DataFrame({\"jenis_kelamin\": gender,\n",
        "                   \"cek_medis\": mcu})\n",
        "# Cek tipe data\n",
        "print(\"Cek tipe data awal:\\n\", df.dtypes)\n",
        "\n",
        "# Buat kategori untuk kolom jenis_kelamin\n",
        "cat = pd.CategoricalDtype([\"Pria\", \"Wanita\"])\n",
        "# Buat kategori berurut untuk kolom cek_medis\n",
        "ordl = pd.CategoricalDtype([\"tidak pernah\", \n",
        "                            \"tidak tentu waktunya\",\n",
        "                            \"lebih dari 2 tahun sekali\",\n",
        "                            \"2 tahun sekali\",\n",
        "                            \"rutin (1 tahun sekali)\"], ordered=True)\n",
        "# Ubahlah tipe data kolom jenis_kelamin dan cek_medis\n",
        "df = df.astype({\"jenis_kelamin\": cat,\n",
        "                \"cek_medis\": ordl})\n",
        "# Cek kembali tipe data\n",
        "print(\"\\nCek tipe data setelah diubah:\\n\", df.dtypes)\n",
        "\n",
        "# Cetaklah tiga baris teratas sesuai dengan yang ditunjukkan pada bagian Theory, ketikkan di baris 33\n",
        "print(\"\\n\", df[\"cek_medis\"].head(3))"
      ],
      "metadata": {
        "colab": {
          "base_uri": "https://localhost:8080/"
        },
        "id": "SghYQ_XcRegX",
        "outputId": "a53df2a8-e945-47fd-9d20-15cbeff229af"
      },
      "execution_count": 5,
      "outputs": [
        {
          "output_type": "stream",
          "name": "stdout",
          "text": [
            "Cek tipe data awal:\n",
            " jenis_kelamin    object\n",
            "cek_medis        object\n",
            "dtype: object\n",
            "\n",
            "Cek tipe data setelah diubah:\n",
            " jenis_kelamin    category\n",
            "cek_medis        category\n",
            "dtype: object\n",
            "\n",
            " 0              tidak pernah\n",
            "1    rutin (1 tahun sekali)\n",
            "2      tidak tentu waktunya\n",
            "Name: cek_medis, dtype: category\n",
            "Categories (5, object): ['tidak pernah' < 'tidak tentu waktunya' < 'lebih dari 2 tahun sekali' <\n",
            "                         '2 tahun sekali' < 'rutin (1 tahun sekali)']\n"
          ]
        }
      ]
    },
    {
      "cell_type": "markdown",
      "source": [
        "#### [pandas.cut untuk Data Berkelompok - Praktik](https://academy.dqlab.id/main/livecode/362/827/4198?pr=0)"
      ],
      "metadata": {
        "id": "KM_YcqTiUYOk"
      }
    },
    {
      "cell_type": "code",
      "source": [
        "# Importlah pandas sebagai aliasnya pd\n",
        "import pandas as pd\n",
        "# Data berat badan 120 orang \n",
        "bb120 = [71.2, 66.8, 66.9, 65.9, 69.7, 63.4, 71.5, 66.5, 68.6, 67.5, \n",
        "         70.9, 63.9, 67.4, 67.2, 70.3, 65.8, 67.7, 66.2, 68.1, 69.2, \n",
        "         65.8, 70.3, 69.8, 69.0, 69.8, 66.6, 67.8, 66.1, 67.5, 69.1, \n",
        "         66.6, 67.2, 66.6, 66.3, 66.7, 68.0, 65.8, 68.5, 71.3, 69.5, \n",
        "         67.6, 66.2, 66.5, 71.4, 68.1, 66.7, 68.4, 72.2, 68.2, 69.2, \n",
        "         68.6, 67.3, 65.7, 67.3, 67.6, 69.2, 69.7, 69.9, 68.6, 69.8, \n",
        "         66.5, 70.5, 69.0, 67.4, 69.0, 67.8, 70.3, 71.0, 72.4, 65.2, \n",
        "         65.1, 67.0, 68.3, 69.8, 68.6, 64.0, 67.4, 69.7, 68.5, 69.5, \n",
        "         67.6, 67.6, 68.4, 68.8, 68.4, 68.2, 66.7, 68.8, 68.2, 70.3, \n",
        "         70.4, 68.4, 67.2, 66.7, 68.8, 68.2, 67.3, 68.1, 66.8, 69.4, \n",
        "         67.1, 70.4, 68.8, 69.2, 65.8, 68.3, 69.5, 66.1, 67.5, 68.1, \n",
        "         65.3, 68.6, 69.7, 66.3, 68.7, 65.4, 67.9, 64.8, 70.2, 68.8]\n",
        "# Bin dengan menggunakan urutan bilangan (menggunakan list)\n",
        "# yang sesuai dengan tabel yang dicontohkan\n",
        "bin_list = list(range(63, 74))\n",
        "print(\"bin berat badan dalam urutan bilangan:\\n\", bin_list)\n",
        "# Buatlah kelompok data seperti tabel yang ditunjukkan\n",
        "bin_bb = pd.cut(bb120, bin_list, right=False, include_lowest=True)\n",
        "# Ubah bb120 ke dalam pandas.DataFrame\n",
        "df_bb120 = pd.DataFrame(bb120)\n",
        "# Kelompokkanlah df_bb120 ke dalam bin yang telah disediakan\n",
        "tabel_bb = df_bb120.groupby(bin_bb).count()\n",
        "# Untuk menset header dari tabel_bb\n",
        "tabel_bb.rename(columns={0: \"frekuensi\"}, inplace=True)\n",
        "tabel_bb.index.rename(\"rentang berat badan [kg]\", inplace=True)\n",
        "print(\"\\nData berkelompok berat badan 120 orang:\\n\", tabel_bb)"
      ],
      "metadata": {
        "colab": {
          "base_uri": "https://localhost:8080/"
        },
        "id": "xgDjE_6XUcvG",
        "outputId": "577de730-cc52-45c8-ea14-188375fbf3ed"
      },
      "execution_count": 6,
      "outputs": [
        {
          "output_type": "stream",
          "name": "stdout",
          "text": [
            "bin berat badan dalam urutan bilangan:\n",
            " [63, 64, 65, 66, 67, 68, 69, 70, 71, 72, 73]\n",
            "\n",
            "Data berkelompok berat badan 120 orang:\n",
            "                           frekuensi\n",
            "rentang berat badan [kg]           \n",
            "[63, 64)                          2\n",
            "[64, 65)                          2\n",
            "[65, 66)                         10\n",
            "[66, 67)                         19\n",
            "[67, 68)                         22\n",
            "[68, 69)                         28\n",
            "[69, 70)                         21\n",
            "[70, 71)                          9\n",
            "[71, 72)                          5\n",
            "[72, 73)                          2\n"
          ]
        }
      ]
    },
    {
      "cell_type": "markdown",
      "source": [
        "## Mini Project"
      ],
      "metadata": {
        "id": "D_K9vAsfC6oJ"
      }
    },
    {
      "cell_type": "markdown",
      "source": [
        "#### [Kondisi Kesehatan 120 Orang Berdasarkan Nilai BMI-nya](https://academy.dqlab.id/main/livecode/362/801/4199?pr=0)"
      ],
      "metadata": {
        "id": "j4f5JFh7ezH2"
      }
    },
    {
      "cell_type": "code",
      "source": [
        "# Importlah pandas sebagai aliasnya pd\n",
        "import pandas as pd\n",
        "# Data berat badan 120 orang (kg)\n",
        "bb120 = [71.2, 66.8, 66.9, 65.9, 69.7, 63.4, 71.5, 66.5, 68.6, 67.5, \n",
        "         70.9, 63.9, 67.4, 67.2, 70.3, 65.8, 67.7, 66.2, 68.1, 69.2, \n",
        "         65.8, 70.3, 69.8, 69.0, 69.8, 66.6, 67.8, 66.1, 67.5, 69.1, \n",
        "         66.6, 67.2, 66.6, 66.3, 66.7, 68.0, 65.8, 68.5, 71.3, 69.5, \n",
        "         67.6, 66.2, 66.5, 71.4, 68.1, 66.7, 68.4, 72.2, 68.2, 69.2, \n",
        "         68.6, 67.3, 65.7, 67.3, 67.6, 69.2, 69.7, 69.9, 68.6, 69.8, \n",
        "         66.5, 70.5, 69.0, 67.4, 69.0, 67.8, 70.3, 71.0, 72.4, 65.2, \n",
        "         65.1, 67.0, 68.3, 69.8, 68.6, 64.0, 67.4, 69.7, 68.5, 69.5, \n",
        "         67.6, 67.6, 68.4, 68.8, 68.4, 68.2, 66.7, 68.8, 68.2, 70.3, \n",
        "         70.4, 68.4, 67.2, 66.7, 68.8, 68.2, 67.3, 68.1, 66.8, 69.4, \n",
        "         67.1, 70.4, 68.8, 69.2, 65.8, 68.3, 69.5, 66.1, 67.5, 68.1, \n",
        "         65.3, 68.6, 69.7, 66.3, 68.7, 65.4, 67.9, 64.8, 70.2, 68.8]\n",
        "# Data tinggi badan 120 orang (cm)\n",
        "tb120 = [157., 163., 156., 166., 162., 165., 155., 160., 164., 161., \n",
        "         172., 149., 166., 162., 167., 161., 144., 164., 160., 155., \n",
        "         157., 162., 177., 163., 155., 173., 159., 156., 154., 157., \n",
        "         174., 167., 166., 162., 163., 165., 163., 162., 168., 160., \n",
        "         163., 156., 171., 170., 150., 160., 165., 165., 166., 159., \n",
        "         136., 163., 152., 166., 166., 149., 167., 160., 157., 164., \n",
        "         170., 171., 154., 159., 162., 162., 159., 147., 160., 154., \n",
        "         162., 156., 161., 157., 159., 159., 170., 166., 160., 154., \n",
        "         168., 152., 154., 157., 155., 156., 170., 161., 157., 166., \n",
        "         163., 154., 158., 165., 174., 171., 167., 161., 151., 157., \n",
        "         160., 165., 162., 162., 173., 164., 160., 159., 162., 156.,\n",
        "         170., 160., 158., 156., 167., 153., 159., 163., 161., 163.]\n",
        "\n",
        "# DataFrame yang berisi bb120 dan tb120\n",
        "df = pd.DataFrame({\"berat_badan_kg\": bb120,\n",
        "                   \"tinggi_badan_cm\": tb120})\n",
        "# Hitunglah BMI-nya sesuai dengan persamaan yang diberikan\n",
        "df[\"BMI\"]= df[\"berat_badan_kg\"] / (df[\"tinggi_badan_cm\"]/100)**2\n",
        "# Cetak lima data teratas data frame df\n",
        "print(\"Lima data teratas:\", df.head(), sep=\"\\n\")\n",
        "\n",
        "# Buat urutan bilangan yang merupakan batas dari kategori BMI\n",
        "bin_list = [0, 18.5, 25, 30, 1000]\n",
        "# Kategorikan nilai BMI melalui kolom BMI yang telah dihitung\n",
        "bin_cut = pd.cut(df[\"BMI\"], bin_list, right=False, include_lowest=True)\n",
        "# Kelompokkanlah kolom BMI sesuai dengan kategorinya dan hitung jumlah orang disetiap kategorinya\n",
        "kondisi = df[[\"BMI\"]].groupby(bin_cut).count()\n",
        "kondisi.rename(columns={\"BMI\": \"Jumlah\"}, inplace=True)\n",
        "# Kondisi kesehatan 120 penduduk di suatu kelurahan\n",
        "print(\"\\nKondisi kesehatan 120 penduduk di suatu kelurahan:\")\n",
        "print(kondisi)"
      ],
      "metadata": {
        "colab": {
          "base_uri": "https://localhost:8080/"
        },
        "id": "svlVKXHJe5Es",
        "outputId": "aacda5bf-9be5-4395-e127-6225f36e2468"
      },
      "execution_count": 7,
      "outputs": [
        {
          "output_type": "stream",
          "name": "stdout",
          "text": [
            "Lima data teratas:\n",
            "   berat_badan_kg  tinggi_badan_cm        BMI\n",
            "0            71.2            157.0  28.885553\n",
            "1            66.8            163.0  25.142083\n",
            "2            66.9            156.0  27.490138\n",
            "3            65.9            166.0  23.914937\n",
            "4            69.7            162.0  26.558451\n",
            "\n",
            "Kondisi kesehatan 120 penduduk di suatu kelurahan:\n",
            "                Jumlah\n",
            "BMI                   \n",
            "[0.0, 18.5)          0\n",
            "[18.5, 25.0)        32\n",
            "[25.0, 30.0)        83\n",
            "[30.0, 1000.0)       5\n"
          ]
        }
      ]
    }
  ]
}