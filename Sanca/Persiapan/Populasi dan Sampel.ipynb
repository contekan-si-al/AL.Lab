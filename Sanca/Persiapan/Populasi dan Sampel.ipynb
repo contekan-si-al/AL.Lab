{
  "nbformat": 4,
  "nbformat_minor": 0,
  "metadata": {
    "colab": {
      "name": "Populasi dan Sampel.ipynb",
      "provenance": []
    },
    "kernelspec": {
      "name": "python3",
      "display_name": "Python 3"
    },
    "language_info": {
      "name": "python"
    }
  },
  "cells": [
    {
      "cell_type": "markdown",
      "source": [
        "## Penarikan Sampel"
      ],
      "metadata": {
        "id": "GHdhf_VK98ns"
      }
    },
    {
      "cell_type": "markdown",
      "source": [
        "#### [Simple Random Sampling Menggunakan Python](https://academy.dqlab.id/main/livecode/361/800/4179?pr=0)"
      ],
      "metadata": {
        "id": "m_H_m1Y--Fu2"
      }
    },
    {
      "cell_type": "code",
      "source": [
        "# Import modul random\n",
        "import random\n",
        "\n",
        "# Set seed sebagai bilangan bulat 0, dan dapat diganti\n",
        "# dengan bilangan bulat lainnya, sesuai dengan instruksi Senja\n",
        "random.seed(1234)\n",
        "\n",
        "# Ambil sampel dalam rentang butir data, yaitu 1 s/d 120\n",
        "# Inisialisasi sampel\n",
        "sampel = []\n",
        "# Looping sebanyak sampel yang ingin ditarik yaitu 10% (12 butir data)\n",
        "for i in range(12): \n",
        "    sampel.append(random.randint(1, 120))\n",
        "# Cetaklah sampel\n",
        "print(\"sampel:\", sampel)"
      ],
      "metadata": {
        "colab": {
          "base_uri": "https://localhost:8080/"
        },
        "id": "4yIGEBXs-S5M",
        "outputId": "97e4d228-12dd-4940-d738-960e496a9415"
      },
      "execution_count": 1,
      "outputs": [
        {
          "output_type": "stream",
          "name": "stdout",
          "text": [
            "sampel: [100, 57, 15, 1, 12, 117, 104, 75, 5, 86, 89, 11]\n"
          ]
        }
      ]
    },
    {
      "cell_type": "markdown",
      "source": [
        "#### [Simple Random Sampling Menggunakan Numpy](https://academy.dqlab.id/main/livecode/361/800/4180?pr=0)"
      ],
      "metadata": {
        "id": "AjxnXH6O-Y3O"
      }
    },
    {
      "cell_type": "code",
      "source": [
        "# Import numpy sebagai aliasnya np\n",
        "import numpy as np\n",
        "\n",
        "# Set seed sebagai bilangan bulat 0, dan dapat diganti\n",
        "# dengan bilangan bulat lainnya\n",
        "np.random.seed(0)\n",
        "\n",
        "# Ambil sampel dalam rentang butir data, yaitu 1 s/d 120,\n",
        "# sebanyak 10% (12 butir data)\n",
        "sampel = np.random.randint(1, 121, size=12)\n",
        "# Cetaklah sampel\n",
        "print(\"sampel:\", sampel)\n"
      ],
      "metadata": {
        "colab": {
          "base_uri": "https://localhost:8080/"
        },
        "id": "R3aibo53-cTq",
        "outputId": "7218aab0-1fbf-4f67-d5d9-114328726cb3"
      },
      "execution_count": 2,
      "outputs": [
        {
          "output_type": "stream",
          "name": "stdout",
          "text": [
            "sampel: [ 45  48 118  65  68  68 104  10  84  22 115  37]\n"
          ]
        }
      ]
    },
    {
      "cell_type": "markdown",
      "source": [
        "#### [Menentukan Jumlah Sampel](https://academy.dqlab.id/main/livecode/361/800/4429?pr=0)"
      ],
      "metadata": {
        "id": "domw0AoA-mTj"
      }
    },
    {
      "cell_type": "code",
      "source": [
        "# Import math\n",
        "import math\n",
        "# Jumlah anggota populasi\n",
        "N = 8963\n",
        "# Proporsi\n",
        "p = 0.25\n",
        "# z-score\n",
        "z = 1.96\n",
        "# Margin of error\n",
        "e = 0.05\n",
        "# Perhitungan ukuran sampel, n\n",
        "n_aksen = z**2 * p * (1 - p) / e**2\n",
        "n = n_aksen / (1 + (n_aksen / N))\n",
        "# Cetak jumlah sampel\n",
        "print(\"Jumlah sampel:\", math.ceil(n))"
      ],
      "metadata": {
        "colab": {
          "base_uri": "https://localhost:8080/"
        },
        "id": "Xsj5x9fM-qHa",
        "outputId": "af84fe2d-0bd1-4e58-b21e-c2bdb6ad013d"
      },
      "execution_count": 3,
      "outputs": [
        {
          "output_type": "stream",
          "name": "stdout",
          "text": [
            "Jumlah sampel: 280\n"
          ]
        }
      ]
    },
    {
      "cell_type": "markdown",
      "source": [
        "## Mini Project"
      ],
      "metadata": {
        "id": "pRPFfMFD9_yg"
      }
    },
    {
      "cell_type": "markdown",
      "source": [
        "#### [Problem 1](https://academy.dqlab.id/main/livecode/361/824/4430?pr=0)"
      ],
      "metadata": {
        "id": "aQq1h0tU-yT7"
      }
    },
    {
      "cell_type": "code",
      "source": [
        "# Import numpy sebagai aliasnya np\n",
        "import numpy as np\n",
        "# Jumlah anggota populasi\n",
        "N = 8963\n",
        "# Proporsi\n",
        "p = 0.25\n",
        "# Selang kepercayaan (confidence interval)\n",
        "ci = [0.70, 0.75, 0.80, 0.85, 0.92, 0.95, 0.96, 0.98, 0.99, 0.999]\n",
        "# z-score\n",
        "z = [1.04, 1.15, 1.28, 1.44, 1.75, 1.96, 2.05, 2.33, 2.58, 3.29]\n",
        "z = np.array(z)\n",
        "# Margin of error\n",
        "e = 0.05\n",
        "# Perhitungan ukuran sampel, n\n",
        "n_aksen = z**2 * p * (1 - p) / e**2\n",
        "n = np.ceil(n_aksen / (1 + (n_aksen / N)))\n",
        "# Cetak ukuran sampel untuk setiap variasi selang kepercayaan\n",
        "print(\"Ukuran sampel untuk setiap variasi selang kepercayaan\")\n",
        "print(\"+--------------------+---------------+\")\n",
        "print(\"| Selang kepercayaan | Jumlah sampel |\")\n",
        "print(\"+--------------------+---------------+\")\n",
        "for ci_, n_ in zip(ci, n):\n",
        "    print(\"| %17.3f  | %13d |\" % (ci_, n_))\n",
        "print(\"+--------------------+---------------+\")"
      ],
      "metadata": {
        "colab": {
          "base_uri": "https://localhost:8080/"
        },
        "id": "fZtEDdSo-2j9",
        "outputId": "cb0644cb-d7f2-4210-8718-f1a5b039577b"
      },
      "execution_count": 4,
      "outputs": [
        {
          "output_type": "stream",
          "name": "stdout",
          "text": [
            "Ukuran sampel untuk setiap variasi selang kepercayaan\n",
            "+--------------------+---------------+\n",
            "| Selang kepercayaan | Jumlah sampel |\n",
            "+--------------------+---------------+\n",
            "|             0.700  |            81 |\n",
            "|             0.750  |            99 |\n",
            "|             0.800  |           122 |\n",
            "|             0.850  |           153 |\n",
            "|             0.920  |           224 |\n",
            "|             0.950  |           280 |\n",
            "|             0.960  |           305 |\n",
            "|             0.980  |           390 |\n",
            "|             0.990  |           473 |\n",
            "|             0.999  |           745 |\n",
            "+--------------------+---------------+\n"
          ]
        }
      ]
    },
    {
      "cell_type": "markdown",
      "source": [
        "#### [Problem 2](https://academy.dqlab.id/main/livecode/361/824/4431?pr=0)"
      ],
      "metadata": {
        "id": "mdreIi1g-25a"
      }
    },
    {
      "cell_type": "code",
      "source": [
        "# Import numpy sebagai aliasnya\n",
        "import numpy as np\n",
        "# Jumlah anggota populasi\n",
        "N = 8963\n",
        "# Proporsi\n",
        "p = 0.25\n",
        "# Selang kepercayaan (confidence interval) ci = 0.95\n",
        "# dengan z-score sebesar\n",
        "z =  1.96\n",
        "# Margin of error\n",
        "e = np.array([0.01, 0.02, 0.05, 0.10, 0.20, 0.25, 0.33, 0.50])\n",
        "# Perhitungan ukuran sampel, n\n",
        "n_aksen = z**2 * p * (1 - p) / e**2\n",
        "n = np.ceil(n_aksen / (1 + (n_aksen / N)))\n",
        "# Cetak ukuran sampel untuk setiap variasi margin galat\n",
        "print(\"Ukuran sampel untuk setiap variasi margin galat\")\n",
        "print(\"+--------------+---------------+\")\n",
        "print(\"| Margin galat | Jumlah sampel |\")\n",
        "print(\"+--------------+---------------+\")\n",
        "for e_, n_ in zip(e, n):\n",
        "    print(\"| %12.2f | %13d |\" % (e_, n_))\n",
        "print(\"+--------------+---------------+\")"
      ],
      "metadata": {
        "colab": {
          "base_uri": "https://localhost:8080/"
        },
        "id": "mYN68bYn-7Dl",
        "outputId": "2fd4deb5-a5a5-4dd2-a615-c7d0495937c7"
      },
      "execution_count": 5,
      "outputs": [
        {
          "output_type": "stream",
          "name": "stdout",
          "text": [
            "Ukuran sampel untuk setiap variasi margin galat\n",
            "+--------------+---------------+\n",
            "| Margin galat | Jumlah sampel |\n",
            "+--------------+---------------+\n",
            "|         0.01 |          3994 |\n",
            "|         0.02 |          1500 |\n",
            "|         0.05 |           280 |\n",
            "|         0.10 |            72 |\n",
            "|         0.20 |            18 |\n",
            "|         0.25 |            12 |\n",
            "|         0.33 |             7 |\n",
            "|         0.50 |             3 |\n",
            "+--------------+---------------+\n"
          ]
        }
      ]
    }
  ]
}