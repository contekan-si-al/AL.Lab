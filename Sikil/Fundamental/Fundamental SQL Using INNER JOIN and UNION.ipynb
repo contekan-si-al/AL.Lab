{
  "nbformat": 4,
  "nbformat_minor": 0,
  "metadata": {
    "colab": {
      "name": "Fundamental SQL Using INNER JOIN and UNION.ipynb",
      "provenance": []
    },
    "kernelspec": {
      "name": "python3",
      "display_name": "Python 3"
    },
    "language_info": {
      "name": "python"
    }
  },
  "cells": [
    {
      "cell_type": "code",
      "source": [
        "# membuat koneksi\n",
        "\n",
        "%reload_ext sql\n",
        "%sql sqlite://"
      ],
      "metadata": {
        "colab": {
          "base_uri": "https://localhost:8080/",
          "height": 35
        },
        "id": "fa8-Q3mAcEjg",
        "outputId": "9aa907fb-5778-4242-ee50-2e0f60a80300"
      },
      "execution_count": 1,
      "outputs": [
        {
          "output_type": "execute_result",
          "data": {
            "text/plain": [
              "'Connected: @None'"
            ],
            "application/vnd.google.colaboratory.intrinsic+json": {
              "type": "string"
            }
          },
          "metadata": {},
          "execution_count": 1
        }
      ]
    },
    {
      "cell_type": "markdown",
      "source": [
        "## Database"
      ],
      "metadata": {
        "id": "dDJf3k8HZ7TS"
      }
    },
    {
      "cell_type": "markdown",
      "source": [
        "#### Tabel **ms_item_warna**"
      ],
      "metadata": {
        "id": "0l_NPn8dZ-_V"
      }
    },
    {
      "cell_type": "code",
      "execution_count": 2,
      "metadata": {
        "colab": {
          "base_uri": "https://localhost:8080/"
        },
        "id": "_Mm_Djj8YS3L",
        "outputId": "2f708bc3-a671-4cd8-f092-02f34288d158"
      },
      "outputs": [
        {
          "output_type": "stream",
          "name": "stdout",
          "text": [
            " * sqlite://\n",
            "Done.\n"
          ]
        },
        {
          "output_type": "execute_result",
          "data": {
            "text/plain": [
              "[]"
            ]
          },
          "metadata": {},
          "execution_count": 2
        }
      ],
      "source": [
        "# membuat tabel\n",
        "%%sql\n",
        "\n",
        "CREATE TABLE IF NOT EXISTS ms_item_warna (\n",
        "    `nama_barang` VARCHAR(15),\n",
        "    `warna` VARCHAR(15)\n",
        ");"
      ]
    },
    {
      "cell_type": "code",
      "source": [
        "# mengisi tabel\n",
        "%%sql\n",
        "\n",
        "INSERT INTO\n",
        "    ms_item_warna\n",
        "VALUES\n",
        "    ('apel', 'merah'),\n",
        "    ('bayam', 'hijau'),\n",
        "    ('daun bawang', 'hijau'),\n",
        "    ('duku', 'kuning pekat'),\n",
        "    ('durian', 'kuning'),\n",
        "    ('gandum', 'coklat'),\n",
        "    ('jambu air', 'merah'),\n",
        "    ('jeruk', 'oranye');"
      ],
      "metadata": {
        "colab": {
          "base_uri": "https://localhost:8080/"
        },
        "id": "oZc956nubP0X",
        "outputId": "1472dbf9-cd7a-44c9-c614-90d164d034b7"
      },
      "execution_count": 3,
      "outputs": [
        {
          "output_type": "stream",
          "name": "stdout",
          "text": [
            " * sqlite://\n",
            "8 rows affected.\n"
          ]
        },
        {
          "output_type": "execute_result",
          "data": {
            "text/plain": [
              "[]"
            ]
          },
          "metadata": {},
          "execution_count": 3
        }
      ]
    },
    {
      "cell_type": "markdown",
      "source": [
        "#### Tabel **ms_item_kategori**"
      ],
      "metadata": {
        "id": "H3EGtnVcbFtI"
      }
    },
    {
      "cell_type": "code",
      "source": [
        "# membuat tabel\n",
        "%%sql\n",
        "\n",
        "CREATE TABLE IF NOT EXISTS ms_item_kategori (\n",
        "    `nama_item` VARCHAR(15),\n",
        "    `kategori` VARCHAR(15)\n",
        ");"
      ],
      "metadata": {
        "colab": {
          "base_uri": "https://localhost:8080/"
        },
        "id": "zq_TmCwTbOf3",
        "outputId": "83dec719-7747-489f-8f9d-6ae0642a35d2"
      },
      "execution_count": 4,
      "outputs": [
        {
          "output_type": "stream",
          "name": "stdout",
          "text": [
            " * sqlite://\n",
            "Done.\n"
          ]
        },
        {
          "output_type": "execute_result",
          "data": {
            "text/plain": [
              "[]"
            ]
          },
          "metadata": {},
          "execution_count": 4
        }
      ]
    },
    {
      "cell_type": "code",
      "source": [
        "# mengisi tabel\n",
        "%%sql\n",
        "\n",
        "INSERT INTO\n",
        "    ms_item_kategori\n",
        "VALUES\n",
        "    ('bayam', 'sayuran'),\n",
        "    ('belimbing', 'buah'),\n",
        "    ('duku', 'buah'),\n",
        "    ('durian', 'buah'),\n",
        "    ('gandum', 'buah'),\n",
        "    ('jamur', 'sayuran'),\n",
        "    ('jambu air', 'buah'),\n",
        "    ('jeruk', 'buah');"
      ],
      "metadata": {
        "colab": {
          "base_uri": "https://localhost:8080/"
        },
        "id": "bu1bBlrVbQSo",
        "outputId": "cd5a7ceb-1873-43fa-ef47-acec3f3a6a0b"
      },
      "execution_count": 5,
      "outputs": [
        {
          "output_type": "stream",
          "name": "stdout",
          "text": [
            " * sqlite://\n",
            "8 rows affected.\n"
          ]
        },
        {
          "output_type": "execute_result",
          "data": {
            "text/plain": [
              "[]"
            ]
          },
          "metadata": {},
          "execution_count": 5
        }
      ]
    },
    {
      "cell_type": "markdown",
      "source": [
        "#### Tabel **tr_penjualan**"
      ],
      "metadata": {
        "id": "C59reNLmbO_L"
      }
    },
    {
      "cell_type": "code",
      "source": [
        "# membuat tabel\n",
        "%%sql\n",
        "\n",
        "CREATE TABLE IF NOT EXISTS tr_penjualan (\n",
        "    `kode_transaksi` VARCHAR(7),\n",
        "    `kode_pelanggan` VARCHAR(12),\n",
        "    `no_urut` INT,\n",
        "    `kode_produk` VARCHAR(7),\n",
        "    `nama_produk` VARCHAR(31),\n",
        "    `qty` INT,\n",
        "    `harga` INT\n",
        ");"
      ],
      "metadata": {
        "colab": {
          "base_uri": "https://localhost:8080/"
        },
        "id": "fLgFSUUCbW_L",
        "outputId": "8c503d54-b9ea-489e-e6b7-df7db01ffa0d"
      },
      "execution_count": 6,
      "outputs": [
        {
          "output_type": "stream",
          "name": "stdout",
          "text": [
            " * sqlite://\n",
            "Done.\n"
          ]
        },
        {
          "output_type": "execute_result",
          "data": {
            "text/plain": [
              "[]"
            ]
          },
          "metadata": {},
          "execution_count": 6
        }
      ]
    },
    {
      "cell_type": "code",
      "source": [
        "# mengisi tabel\n",
        "%%sql\n",
        "\n",
        "INSERT INTO\n",
        "    tr_penjualan\n",
        "VALUES\n",
        "    (\n",
        "        'tr-001',\n",
        "        'dqlabcust07',\n",
        "        1,\n",
        "        'prod-01',\n",
        "        'Kotak Pensil DQLab',\n",
        "        5,\n",
        "        62500\n",
        "    ),\n",
        "    (\n",
        "        'tr-001',\n",
        "        'dqlabcust07',\n",
        "        2,\n",
        "        'prod-03',\n",
        "        'Flash disk DQLab 32 GB',\n",
        "        1,\n",
        "        100000\n",
        "    ),\n",
        "    (\n",
        "        'tr-001',\n",
        "        'dqlabcust07',\n",
        "        3,\n",
        "        'prod-09',\n",
        "        'Buku Planner Agenda DQLab',\n",
        "        3,\n",
        "        92000\n",
        "    ),\n",
        "    (\n",
        "        'tr-001',\n",
        "        'dqlabcust07',\n",
        "        4,\n",
        "        'prod-04',\n",
        "        'Flashdisk DQLab 32 GB',\n",
        "        3,\n",
        "        40000\n",
        "    ),\n",
        "    (\n",
        "        'tr-002',\n",
        "        'dqlabcust01',\n",
        "        1,\n",
        "        'prod-03',\n",
        "        'Gift Voucher DQLab 100rb',\n",
        "        2,\n",
        "        100000\n",
        "    ),\n",
        "    (\n",
        "        'tr-002',\n",
        "        'dqlabcust01',\n",
        "        2,\n",
        "        'prod-10',\n",
        "        'Sticky Notes DQLab 500 sheets',\n",
        "        4,\n",
        "        55000\n",
        "    ),\n",
        "    (\n",
        "        'tr-002',\n",
        "        'dqlabcust01',\n",
        "        3,\n",
        "        'prod-07',\n",
        "        'Tas Travel Organizer DQLab',\n",
        "        1,\n",
        "        48000\n",
        "    ),\n",
        "    (\n",
        "        'tr-003',\n",
        "        'dqlabcust03',\n",
        "        1,\n",
        "        'prod-02',\n",
        "        'Flashdisk DQLab 64 GB',\n",
        "        2,\n",
        "        55000\n",
        "    ),\n",
        "    (\n",
        "        'tr-004',\n",
        "        'dqlabcust03',\n",
        "        1,\n",
        "        'prod-10',\n",
        "        'Sticky Notes DQLab 500 sheets',\n",
        "        5,\n",
        "        55000\n",
        "    ),\n",
        "    (\n",
        "        'tr-004',\n",
        "        'dqlabcust03',\n",
        "        2,\n",
        "        'prod-04',\n",
        "        'Flashdisk DQLab 32 GB',\n",
        "        4,\n",
        "        40000\n",
        "    ),\n",
        "    (\n",
        "        'tr-005',\n",
        "        'dqlabcust05',\n",
        "        1,\n",
        "        'prod-09',\n",
        "        'Buku Planner Agenda DQLab',\n",
        "        3,\n",
        "        92000\n",
        "    ),\n",
        "    (\n",
        "        'tr-005',\n",
        "        'dqlabcust05',\n",
        "        2,\n",
        "        'prod-01',\n",
        "        'Kotak Pensil DQLab',\n",
        "        1,\n",
        "        62500\n",
        "    ),\n",
        "    (\n",
        "        'tr-005',\n",
        "        'dqlabcust05',\n",
        "        3,\n",
        "        'prod-04',\n",
        "        'Flashdisk DQLab 32 GB',\n",
        "        2,\n",
        "        40000\n",
        "    ),\n",
        "    (\n",
        "        'tr-006',\n",
        "        'dqlabcust02',\n",
        "        1,\n",
        "        'prod-05',\n",
        "        'Gift Voucher DQLab 250rb',\n",
        "        4,\n",
        "        250000\n",
        "    ),\n",
        "    (\n",
        "        'tr-006',\n",
        "        'dqlabcust02',\n",
        "        2,\n",
        "        'prod-08',\n",
        "        'Gantungan Kunci DQLab',\n",
        "        2,\n",
        "        15800\n",
        "    );"
      ],
      "metadata": {
        "colab": {
          "base_uri": "https://localhost:8080/"
        },
        "id": "7rw5qwgFbXb3",
        "outputId": "98fae36d-1358-4768-ade4-f5a7eac5d4e0"
      },
      "execution_count": 7,
      "outputs": [
        {
          "output_type": "stream",
          "name": "stdout",
          "text": [
            " * sqlite://\n",
            "15 rows affected.\n"
          ]
        },
        {
          "output_type": "execute_result",
          "data": {
            "text/plain": [
              "[]"
            ]
          },
          "metadata": {},
          "execution_count": 7
        }
      ]
    },
    {
      "cell_type": "markdown",
      "source": [
        "#### Tabel **ms_produk**"
      ],
      "metadata": {
        "id": "Hhg2tQ-2bX43"
      }
    },
    {
      "cell_type": "code",
      "source": [
        "# membuat tabel\n",
        "%%sql\n",
        "\n",
        "CREATE TABLE IF NOT EXISTS ms_produk (\n",
        "    `no_urut` INT,\n",
        "    `kode_produk` VARCHAR(13),\n",
        "    `nama_produk` VARCHAR(36),\n",
        "    `harga` INT\n",
        ");"
      ],
      "metadata": {
        "colab": {
          "base_uri": "https://localhost:8080/"
        },
        "id": "PuukZzrncJjk",
        "outputId": "186e252c-0a87-41b8-fa69-1b510c73763f"
      },
      "execution_count": 8,
      "outputs": [
        {
          "output_type": "stream",
          "name": "stdout",
          "text": [
            " * sqlite://\n",
            "Done.\n"
          ]
        },
        {
          "output_type": "execute_result",
          "data": {
            "text/plain": [
              "[]"
            ]
          },
          "metadata": {},
          "execution_count": 8
        }
      ]
    },
    {
      "cell_type": "code",
      "source": [
        "# mengisi tabel\n",
        "%%sql\n",
        "\n",
        "INSERT INTO\n",
        "    ms_produk\n",
        "VALUES\n",
        "    (\n",
        "        1,\n",
        "        'prod-01',\n",
        "        'Kotak Pensil DQLab',\n",
        "        62500\n",
        "    ),\n",
        "    (\n",
        "        2,\n",
        "        'prod-02',\n",
        "        'Flashdisk DQLab 64 GB',\n",
        "        55000\n",
        "    ),\n",
        "    (\n",
        "        3,\n",
        "        'prod-03',\n",
        "        'Gift Voucher DQLab 100rb',\n",
        "        100000\n",
        "    ),\n",
        "    (\n",
        "        4,\n",
        "        'prod-04',\n",
        "        'Flashdisk DQLab 32 GB',\n",
        "        40000\n",
        "    ),\n",
        "    (\n",
        "        5,\n",
        "        'prod-05',\n",
        "        'Gift Voucher DQLab 250rb',\n",
        "        250000\n",
        "    ),\n",
        "    (\n",
        "        6,\n",
        "        'prod-06',\n",
        "        'Pulpen Multifunction + Laser DQLab',\n",
        "        92500\n",
        "    ),\n",
        "    (\n",
        "        7,\n",
        "        'prod-07',\n",
        "        'Tas Travel Organizer DQLab',\n",
        "        48000\n",
        "    ),\n",
        "    (\n",
        "        8,\n",
        "        'prod-08',\n",
        "        'Gantungan Kunci DQLab',\n",
        "        15800\n",
        "    ),\n",
        "    (\n",
        "        9,\n",
        "        'prod-09',\n",
        "        'Buku Planner Agenda DQLab',\n",
        "        92000\n",
        "    ),\n",
        "    (\n",
        "        10,\n",
        "        'prod-10',\n",
        "        'Sticky Notes DQLab 500 sheets',\n",
        "        55000\n",
        "    );"
      ],
      "metadata": {
        "colab": {
          "base_uri": "https://localhost:8080/"
        },
        "id": "3qQN2J0WcJaD",
        "outputId": "f8a408fe-d8e4-4ac7-8b1c-7672217bb96a"
      },
      "execution_count": 9,
      "outputs": [
        {
          "output_type": "stream",
          "name": "stdout",
          "text": [
            " * sqlite://\n",
            "10 rows affected.\n"
          ]
        },
        {
          "output_type": "execute_result",
          "data": {
            "text/plain": [
              "[]"
            ]
          },
          "metadata": {},
          "execution_count": 9
        }
      ]
    },
    {
      "cell_type": "markdown",
      "source": [
        "#### Tabel **ms_produk_1**"
      ],
      "metadata": {
        "id": "f1oC7Wvpd2Ik"
      }
    },
    {
      "cell_type": "code",
      "source": [
        "# membuat tabel\n",
        "%%sql\n",
        "\n",
        "CREATE TABLE IF NOT EXISTS ms_produk_1 (\n",
        "    `no_urut` INT,\n",
        "    `kode_produk` VARCHAR(13),\n",
        "    `nama_produk` VARCHAR(36),\n",
        "    `harga` INT\n",
        ");"
      ],
      "metadata": {
        "colab": {
          "base_uri": "https://localhost:8080/"
        },
        "id": "JOV9KNrRd8xL",
        "outputId": "1cf7e9b5-d2cc-4dad-815e-cd91d7a4ce9b"
      },
      "execution_count": 10,
      "outputs": [
        {
          "output_type": "stream",
          "name": "stdout",
          "text": [
            " * sqlite://\n",
            "Done.\n"
          ]
        },
        {
          "output_type": "execute_result",
          "data": {
            "text/plain": [
              "[]"
            ]
          },
          "metadata": {},
          "execution_count": 10
        }
      ]
    },
    {
      "cell_type": "code",
      "source": [
        "# mengisi tabel\n",
        "%%sql\n",
        "\n",
        "INSERT INTO\n",
        "    ms_produk_1\n",
        "VALUES\n",
        "    (\n",
        "        1,\n",
        "        'prod-01',\n",
        "        'Kotak Pensil DQLab',\n",
        "        62500\n",
        "    ),\n",
        "    (\n",
        "        2,\n",
        "        'prod-02',\n",
        "        'Flashdisk DQLab 64 GB',\n",
        "        55000\n",
        "    ),\n",
        "    (\n",
        "        3,\n",
        "        'prod-03',\n",
        "        'Gift Voucher DQLab 100rb',\n",
        "        100000\n",
        "    ),\n",
        "    (\n",
        "        4,\n",
        "        'prod-04',\n",
        "        'Flashdisk DQLab 32 GB',\n",
        "        40000\n",
        "    ),\n",
        "    (\n",
        "        5,\n",
        "        'prod-05',\n",
        "        'Gift Voucher DQLab 250rb',\n",
        "        250000\n",
        "    );"
      ],
      "metadata": {
        "colab": {
          "base_uri": "https://localhost:8080/"
        },
        "id": "CeHkTbdRd9DO",
        "outputId": "37c36a57-8439-4178-f037-87c0e1b9a294"
      },
      "execution_count": 11,
      "outputs": [
        {
          "output_type": "stream",
          "name": "stdout",
          "text": [
            " * sqlite://\n",
            "5 rows affected.\n"
          ]
        },
        {
          "output_type": "execute_result",
          "data": {
            "text/plain": [
              "[]"
            ]
          },
          "metadata": {},
          "execution_count": 11
        }
      ]
    },
    {
      "cell_type": "markdown",
      "source": [
        "#### Tabel **ms_produk_2**"
      ],
      "metadata": {
        "id": "cnqngCWdd9Yg"
      }
    },
    {
      "cell_type": "code",
      "source": [
        "# membuat tabel\n",
        "%%sql\n",
        "\n",
        "CREATE TABLE IF NOT EXISTS ms_produk_2 (\n",
        "    `no_urut` INT,\n",
        "    `kode_produk` VARCHAR(13),\n",
        "    `nama_produk` VARCHAR(36),\n",
        "    `harga` INT\n",
        ");"
      ],
      "metadata": {
        "colab": {
          "base_uri": "https://localhost:8080/"
        },
        "id": "_Ygney7Id_9h",
        "outputId": "4397e086-909c-46ec-fbf5-43eb7145edb8"
      },
      "execution_count": 12,
      "outputs": [
        {
          "output_type": "stream",
          "name": "stdout",
          "text": [
            " * sqlite://\n",
            "Done.\n"
          ]
        },
        {
          "output_type": "execute_result",
          "data": {
            "text/plain": [
              "[]"
            ]
          },
          "metadata": {},
          "execution_count": 12
        }
      ]
    },
    {
      "cell_type": "code",
      "source": [
        "# mengisi tabel\n",
        "%%sql\n",
        "\n",
        "INSERT INTO\n",
        "    ms_produk_2\n",
        "VALUES\n",
        "    (\n",
        "        6,\n",
        "        'prod-06',\n",
        "        'Pulpen Multifunction + Laser DQLab',\n",
        "        92500\n",
        "    ),\n",
        "    (\n",
        "        7,\n",
        "        'prod-07',\n",
        "        'Tas Travel Organizer DQLab',\n",
        "        48000\n",
        "    ),\n",
        "    (\n",
        "        8,\n",
        "        'prod-08',\n",
        "        'Gantungan Kunci DQLab',\n",
        "        15800\n",
        "    ),\n",
        "    (\n",
        "        9,\n",
        "        'prod-09',\n",
        "        'Buku Planner Agenda DQLab',\n",
        "        92000\n",
        "    ),\n",
        "    (\n",
        "        10,\n",
        "        'prod-10',\n",
        "        'Sticky Notes DQLab 500 sheets',\n",
        "        55000\n",
        "    );"
      ],
      "metadata": {
        "colab": {
          "base_uri": "https://localhost:8080/"
        },
        "id": "63IxmYCVeAQx",
        "outputId": "498dc3a9-b0c8-4fb3-8eaf-0c469611a9d7"
      },
      "execution_count": 13,
      "outputs": [
        {
          "output_type": "stream",
          "name": "stdout",
          "text": [
            " * sqlite://\n",
            "5 rows affected.\n"
          ]
        },
        {
          "output_type": "execute_result",
          "data": {
            "text/plain": [
              "[]"
            ]
          },
          "metadata": {},
          "execution_count": 13
        }
      ]
    },
    {
      "cell_type": "markdown",
      "source": [
        "#### Tabel **tabel_A**"
      ],
      "metadata": {
        "id": "C6T6Aeq7eCZ-"
      }
    },
    {
      "cell_type": "code",
      "source": [
        "# membuat tabel\n",
        "%%sql\n",
        "\n",
        "CREATE TABLE IF NOT EXISTS tabel_A (\n",
        "    `kode_transaksi` VARCHAR(16),\n",
        "    `kode_pelanggan` VARCHAR(16),\n",
        "    `no_urut` INT,\n",
        "    `kode_produk` VARCHAR(13),\n",
        "    `nama_produk` VARCHAR(31),\n",
        "    `qty` INT,\n",
        "    `harga` INT,\n",
        "    `total` INT\n",
        ");"
      ],
      "metadata": {
        "colab": {
          "base_uri": "https://localhost:8080/"
        },
        "id": "GJnNsDcyeJtW",
        "outputId": "811b87ff-1f8c-4064-dcd9-15aa729660d9"
      },
      "execution_count": 14,
      "outputs": [
        {
          "output_type": "stream",
          "name": "stdout",
          "text": [
            " * sqlite://\n",
            "Done.\n"
          ]
        },
        {
          "output_type": "execute_result",
          "data": {
            "text/plain": [
              "[]"
            ]
          },
          "metadata": {},
          "execution_count": 14
        }
      ]
    },
    {
      "cell_type": "code",
      "source": [
        "# mengisi tabel\n",
        "%%sql\n",
        "\n",
        "INSERT INTO\n",
        "    tabel_A\n",
        "VALUES\n",
        "    (\n",
        "        'tr-001',\n",
        "        'dqlabcust07',\n",
        "        1,\n",
        "        'prod-01',\n",
        "        'Kotak Pensil DQLab',\n",
        "        5,\n",
        "        62500,\n",
        "        312500\n",
        "    ),\n",
        "    (\n",
        "        'tr-001',\n",
        "        'dqlabcust07',\n",
        "        2,\n",
        "        'prod-03',\n",
        "        'Flash disk DQLab 32 GB',\n",
        "        1,\n",
        "        100000,\n",
        "        100000\n",
        "    ),\n",
        "    (\n",
        "        'tr-001',\n",
        "        'dqlabcust07',\n",
        "        3,\n",
        "        'prod-09',\n",
        "        'Buku Planner Agenda DQLab',\n",
        "        3,\n",
        "        92000,\n",
        "        276000\n",
        "    ),\n",
        "    (\n",
        "        'tr-001',\n",
        "        'dqlabcust07',\n",
        "        4,\n",
        "        'prod-04',\n",
        "        'Flashdisk DQLab 32 GB',\n",
        "        3,\n",
        "        40000,\n",
        "        120000\n",
        "    ),\n",
        "    (\n",
        "        'tr-002',\n",
        "        'dqlabcust01',\n",
        "        1,\n",
        "        'prod-03',\n",
        "        'Gift Voucher DQLab 100rb',\n",
        "        2,\n",
        "        100000,\n",
        "        200000\n",
        "    ),\n",
        "    (\n",
        "        'tr-002',\n",
        "        'dqlabcust01',\n",
        "        2,\n",
        "        'prod-10',\n",
        "        'Sticky Notes DQLab 500 sheets',\n",
        "        4,\n",
        "        55000,\n",
        "        220000\n",
        "    ),\n",
        "    (\n",
        "        'tr-002',\n",
        "        'dqlabcust01',\n",
        "        3,\n",
        "        'prod-07',\n",
        "        'Tas Travel Organizer DQLab',\n",
        "        1,\n",
        "        48000,\n",
        "        48000\n",
        "    ),\n",
        "    (\n",
        "        'tr-003',\n",
        "        'dqlabcust03',\n",
        "        1,\n",
        "        'prod-02',\n",
        "        'Flashdisk DQLab 64 GB',\n",
        "        2,\n",
        "        55000,\n",
        "        110000\n",
        "    );"
      ],
      "metadata": {
        "colab": {
          "base_uri": "https://localhost:8080/"
        },
        "id": "2xwI3JxPeKFi",
        "outputId": "4be5c9db-6cf1-40b4-fbce-9959fe07e48d"
      },
      "execution_count": 15,
      "outputs": [
        {
          "output_type": "stream",
          "name": "stdout",
          "text": [
            " * sqlite://\n",
            "8 rows affected.\n"
          ]
        },
        {
          "output_type": "execute_result",
          "data": {
            "text/plain": [
              "[]"
            ]
          },
          "metadata": {},
          "execution_count": 15
        }
      ]
    },
    {
      "cell_type": "markdown",
      "source": [
        "#### Tabel **tabel_B**"
      ],
      "metadata": {
        "id": "DrxYq8P0eKzq"
      }
    },
    {
      "cell_type": "code",
      "source": [
        "# membuat tabel\n",
        "%%sql\n",
        "\n",
        "CREATE TABLE IF NOT EXISTS tabel_B (\n",
        "    `kode_transaksi` VARCHAR(16),\n",
        "    `kode_pelanggan` VARCHAR(16),\n",
        "    `no_urut` INT,\n",
        "    `kode_produk` VARCHAR(13),\n",
        "    `nama_produk` VARCHAR(31),\n",
        "    `qty` INT,\n",
        "    `harga` INT,\n",
        "    `total` INT\n",
        ");"
      ],
      "metadata": {
        "colab": {
          "base_uri": "https://localhost:8080/"
        },
        "id": "n4k9zSQdeNi5",
        "outputId": "287dc772-c3f4-43b6-afe6-e50bce7025da"
      },
      "execution_count": 16,
      "outputs": [
        {
          "output_type": "stream",
          "name": "stdout",
          "text": [
            " * sqlite://\n",
            "Done.\n"
          ]
        },
        {
          "output_type": "execute_result",
          "data": {
            "text/plain": [
              "[]"
            ]
          },
          "metadata": {},
          "execution_count": 16
        }
      ]
    },
    {
      "cell_type": "code",
      "source": [
        "# mengisi tabel\n",
        "%%sql\n",
        "\n",
        "INSERT INTO\n",
        "    tabel_B\n",
        "VALUES\n",
        "    (\n",
        "        'tr-004',\n",
        "        'dqlabcust03',\n",
        "        1,\n",
        "        'prod-10',\n",
        "        'Sticky Notes DQLab 500 sheets',\n",
        "        5,\n",
        "        55000,\n",
        "        275000\n",
        "    ),\n",
        "    (\n",
        "        'tr-004',\n",
        "        'dqlabcust03',\n",
        "        2,\n",
        "        'prod-04',\n",
        "        'Flashdisk DQLab 32 GB',\n",
        "        4,\n",
        "        40000,\n",
        "        160000\n",
        "    ),\n",
        "    (\n",
        "        'tr-005',\n",
        "        'dqlabcust05',\n",
        "        1,\n",
        "        'prod-09',\n",
        "        'Buku Planner Agenda DQLab',\n",
        "        3,\n",
        "        92000,\n",
        "        276000\n",
        "    ),\n",
        "    (\n",
        "        'tr-005',\n",
        "        'dqlabcust05',\n",
        "        2,\n",
        "        'prod-01',\n",
        "        'Kotak Pensil DQLab',\n",
        "        1,\n",
        "        62500,\n",
        "        62500\n",
        "    ),\n",
        "    (\n",
        "        'tr-005',\n",
        "        'dqlabcust05',\n",
        "        3,\n",
        "        'prod-04',\n",
        "        'Flashdisk DQLab 32 GB',\n",
        "        2,\n",
        "        40000,\n",
        "        80000\n",
        "    ),\n",
        "    (\n",
        "        'tr-006',\n",
        "        'dqlabcust02',\n",
        "        1,\n",
        "        'prod-05',\n",
        "        'Gift Voucher DQLab 250rb',\n",
        "        4,\n",
        "        250000,\n",
        "        1000000\n",
        "    ),\n",
        "    (\n",
        "        'tr-006',\n",
        "        'dqlabcust02',\n",
        "        2,\n",
        "        'prod-08',\n",
        "        'Gantungan Kunci DQLab',\n",
        "        2,\n",
        "        15800,\n",
        "        31600\n",
        "    );"
      ],
      "metadata": {
        "colab": {
          "base_uri": "https://localhost:8080/"
        },
        "id": "l51Nf2dueNz6",
        "outputId": "0d497795-9f7c-4973-908e-170cff9861c3"
      },
      "execution_count": 17,
      "outputs": [
        {
          "output_type": "stream",
          "name": "stdout",
          "text": [
            " * sqlite://\n",
            "7 rows affected.\n"
          ]
        },
        {
          "output_type": "execute_result",
          "data": {
            "text/plain": [
              "[]"
            ]
          },
          "metadata": {},
          "execution_count": 17
        }
      ]
    },
    {
      "cell_type": "markdown",
      "source": [
        "#### Tabel **Customers**"
      ],
      "metadata": {
        "id": "pvkcUQ7yfJn8"
      }
    },
    {
      "cell_type": "code",
      "source": [
        "# membuat tabel\n",
        "%%sql\n",
        "\n",
        "CREATE TABLE IF NOT EXISTS Customers (\n",
        "    `CustomerID` INT,\n",
        "    `CustomerName` VARCHAR(17),\n",
        "    `ContactName` VARCHAR(13),\n",
        "    `Address` VARCHAR(13),\n",
        "    `City` VARCHAR(10),\n",
        "    `PostalCode` INT,\n",
        "    `Country` VARCHAR(11)\n",
        ");"
      ],
      "metadata": {
        "colab": {
          "base_uri": "https://localhost:8080/"
        },
        "id": "PZSjuy-5fL_R",
        "outputId": "b874823f-d125-4142-934b-2d70a916f931"
      },
      "execution_count": 18,
      "outputs": [
        {
          "output_type": "stream",
          "name": "stdout",
          "text": [
            " * sqlite://\n",
            "Done.\n"
          ]
        },
        {
          "output_type": "execute_result",
          "data": {
            "text/plain": [
              "[]"
            ]
          },
          "metadata": {},
          "execution_count": 18
        }
      ]
    },
    {
      "cell_type": "code",
      "source": [
        "# mengisi tabel\n",
        "%%sql\n",
        "\n",
        "INSERT INTO\n",
        "    Customers\n",
        "VALUES\n",
        "    (\n",
        "        1,\n",
        "        'Fransiska Maria',\n",
        "        'Maria',\n",
        "        'Jl Sudirman',\n",
        "        'Jakarta',\n",
        "        14450,\n",
        "        'Indonesia'\n",
        "    ),\n",
        "    (\n",
        "        2,\n",
        "        'Ana Helena',\n",
        "        'Ana Helena',\n",
        "        'Jl Madura',\n",
        "        'Surabaya',\n",
        "        5021,\n",
        "        'Indonesia'\n",
        "    ),\n",
        "    (\n",
        "        3,\n",
        "        'Lily Subari',\n",
        "        'Lili',\n",
        "        'Jl Sumba',\n",
        "        'Makassar',\n",
        "        5023,\n",
        "        'Indonesia'\n",
        "    );"
      ],
      "metadata": {
        "colab": {
          "base_uri": "https://localhost:8080/"
        },
        "id": "s5M7DP7NfMUZ",
        "outputId": "9d9cd7e2-6ac8-4622-da71-e6a5d92785d6"
      },
      "execution_count": 19,
      "outputs": [
        {
          "output_type": "stream",
          "name": "stdout",
          "text": [
            " * sqlite://\n",
            "3 rows affected.\n"
          ]
        },
        {
          "output_type": "execute_result",
          "data": {
            "text/plain": [
              "[]"
            ]
          },
          "metadata": {},
          "execution_count": 19
        }
      ]
    },
    {
      "cell_type": "markdown",
      "source": [
        "#### Tabel **ms_pelanggan**"
      ],
      "metadata": {
        "id": "t-k_bnjYfQB6"
      }
    },
    {
      "cell_type": "code",
      "source": [
        "# membuat tabel\n",
        "%%sql\n",
        "\n",
        "CREATE TABLE IF NOT EXISTS ms_pelanggan (\n",
        "    `no_urut` INT,\n",
        "    `kode_pelanggan` VARCHAR(12),\n",
        "    `nama_customer` VARCHAR(21),\n",
        "    `alamat` VARCHAR(42)\n",
        ");"
      ],
      "metadata": {
        "colab": {
          "base_uri": "https://localhost:8080/"
        },
        "id": "tlcdATzUfSED",
        "outputId": "d2f4cf12-2b74-4434-8cbd-9699a6b603d4"
      },
      "execution_count": 20,
      "outputs": [
        {
          "output_type": "stream",
          "name": "stdout",
          "text": [
            " * sqlite://\n",
            "Done.\n"
          ]
        },
        {
          "output_type": "execute_result",
          "data": {
            "text/plain": [
              "[]"
            ]
          },
          "metadata": {},
          "execution_count": 20
        }
      ]
    },
    {
      "cell_type": "code",
      "source": [
        "# mengisi tabel\n",
        "%%sql\n",
        "\n",
        "INSERT INTO\n",
        "    ms_pelanggan\n",
        "VALUES\n",
        "    (\n",
        "        1,\n",
        "        'dqlabcust01',\n",
        "        'Eva Novianti, S.H.',\n",
        "        'Vila Sempilan, No. 67 - Kota B'\n",
        "    ),\n",
        "    (\n",
        "        2,\n",
        "        'dqlabcust02',\n",
        "        'Heidi Goh',\n",
        "        'Vila Sempilan, No. 11 - Kota B'\n",
        "    ),\n",
        "    (\n",
        "        3,\n",
        "        'dqlabcust03',\n",
        "        'Unang Handoko',\n",
        "        'Vila Sempilan, No. 1 - Kota B'\n",
        "    ),\n",
        "    (\n",
        "        4,\n",
        "        'dqlabcust04',\n",
        "        'Jokolono Sukarman',\n",
        "        'Vila Permata Intan Berkilau, Blok C5-7'\n",
        "    ),\n",
        "    (\n",
        "        5,\n",
        "        'dqlabcust05',\n",
        "        'Tommy Sinaga',\n",
        "        'Vila Permata Intan Berkilau, Blok A1/2'\n",
        "    ),\n",
        "    (\n",
        "        6,\n",
        "        'dqlabcust06',\n",
        "        'Irwan Setianto',\n",
        "        'Vila Gunung Seribu, Blok O1 - No. 1'\n",
        "    ),\n",
        "    (\n",
        "        7,\n",
        "        'dqlabcust07',\n",
        "        'Agus Cahyono',\n",
        "        'Vila Gunung Seribu, Blok F4 - No. 8'\n",
        "    ),\n",
        "    (\n",
        "        8,\n",
        "        'dqlabcust08',\n",
        "        'Maria Sirait',\n",
        "        'Vila Bukit Sagitarius, Gang. Sawit No. 3'\n",
        "    ),\n",
        "    (\n",
        "        9,\n",
        "        'dqlabcust09',\n",
        "        'Ir. Ita Nugraha',\n",
        "        'Vila Bukit Sagitarius, Gang Kelapa No. 6'\n",
        "    ),\n",
        "    (\n",
        "        10,\n",
        "        'dqlabcust10',\n",
        "        'Djoko Wardoyo, Drs.',\n",
        "        'Vila Bukit Sagitarius, Blok A1 No. 1'\n",
        "    );"
      ],
      "metadata": {
        "colab": {
          "base_uri": "https://localhost:8080/"
        },
        "id": "cE-x8ERdfSSH",
        "outputId": "ceaefd99-3af3-468a-ef9d-b46937ffb8a8"
      },
      "execution_count": 21,
      "outputs": [
        {
          "output_type": "stream",
          "name": "stdout",
          "text": [
            " * sqlite://\n",
            "10 rows affected.\n"
          ]
        },
        {
          "output_type": "execute_result",
          "data": {
            "text/plain": [
              "[]"
            ]
          },
          "metadata": {},
          "execution_count": 21
        }
      ]
    },
    {
      "cell_type": "markdown",
      "source": [
        "#### Tabel **Suppliers**"
      ],
      "metadata": {
        "id": "X8MRTYJrfSwO"
      }
    },
    {
      "cell_type": "code",
      "source": [
        "# membuat tabel\n",
        "%%sql\n",
        "\n",
        "CREATE TABLE IF NOT EXISTS Suppliers (\n",
        "    `SupplierID` INT,\n",
        "    `ContactName` VARCHAR(13),\n",
        "    `SupplierName` VARCHAR(16),\n",
        "    `Address` VARCHAR(19),\n",
        "    `City` VARCHAR(10),\n",
        "    `PostalCode` INT,\n",
        "    `Country` VARCHAR(11)\n",
        ");"
      ],
      "metadata": {
        "colab": {
          "base_uri": "https://localhost:8080/"
        },
        "id": "K_BbopDEfYgu",
        "outputId": "2f47f1be-89e9-407b-dffe-26831d726ff1"
      },
      "execution_count": 22,
      "outputs": [
        {
          "output_type": "stream",
          "name": "stdout",
          "text": [
            " * sqlite://\n",
            "Done.\n"
          ]
        },
        {
          "output_type": "execute_result",
          "data": {
            "text/plain": [
              "[]"
            ]
          },
          "metadata": {},
          "execution_count": 22
        }
      ]
    },
    {
      "cell_type": "code",
      "source": [
        "# mengisi tabel\n",
        "%%sql\n",
        "\n",
        "INSERT INTO\n",
        "    Suppliers\n",
        "VALUES\n",
        "    (\n",
        "        1,\n",
        "        'Yulius',\n",
        "        'Yulius Syrup',\n",
        "        'Jl Jayakarta',\n",
        "        'Jakarta',\n",
        "        14450,\n",
        "        'Indonesia'\n",
        "    ),\n",
        "    (\n",
        "        2,\n",
        "        'Sherly Ani',\n",
        "        'Bandung Bakery',\n",
        "        'Jalan Asia Afrika',\n",
        "        'Bandung',\n",
        "        70117,\n",
        "        'Indonesia'\n",
        "    ),\n",
        "    (\n",
        "        3,\n",
        "        'Regina Tara',\n",
        "        'Tara Pastry',\n",
        "        'Jalan Merpati',\n",
        "        'Semarang',\n",
        "        48104,\n",
        "        'Indonesia'\n",
        "    );"
      ],
      "metadata": {
        "colab": {
          "base_uri": "https://localhost:8080/"
        },
        "id": "LqT96KFFfYv2",
        "outputId": "ac0b1da3-ee39-42ca-a103-e27f24fc86b0"
      },
      "execution_count": 23,
      "outputs": [
        {
          "output_type": "stream",
          "name": "stdout",
          "text": [
            " * sqlite://\n",
            "3 rows affected.\n"
          ]
        },
        {
          "output_type": "execute_result",
          "data": {
            "text/plain": [
              "[]"
            ]
          },
          "metadata": {},
          "execution_count": 23
        }
      ]
    },
    {
      "cell_type": "markdown",
      "source": [
        "## Penggabungan Tabel dari Relasi Kolom"
      ],
      "metadata": {
        "id": "e71FpZldax1D"
      }
    },
    {
      "cell_type": "markdown",
      "source": [
        "#### [Tugas Praktek (Melihat Keseluruhan Isi dari Tabel)](https://academy.dqlab.id/main/livecode/244/406/2034?pr=0)"
      ],
      "metadata": {
        "id": "t6BySg1AgQV6"
      }
    },
    {
      "cell_type": "code",
      "source": [
        "%%sql\n",
        "\n",
        "-- melihat tabel ms_item_kategori\n",
        "SELECT *\n",
        "FROM\n",
        "  ms_item_kategori;"
      ],
      "metadata": {
        "colab": {
          "base_uri": "https://localhost:8080/",
          "height": 0
        },
        "id": "G4_I8l2VgdNq",
        "outputId": "8b6dba45-9096-4c0d-88bc-e61a7028df3c"
      },
      "execution_count": 24,
      "outputs": [
        {
          "output_type": "stream",
          "name": "stdout",
          "text": [
            " * sqlite://\n",
            "Done.\n"
          ]
        },
        {
          "output_type": "execute_result",
          "data": {
            "text/plain": [
              "[('bayam', 'sayuran'),\n",
              " ('belimbing', 'buah'),\n",
              " ('duku', 'buah'),\n",
              " ('durian', 'buah'),\n",
              " ('gandum', 'buah'),\n",
              " ('jamur', 'sayuran'),\n",
              " ('jambu air', 'buah'),\n",
              " ('jeruk', 'buah')]"
            ],
            "text/html": [
              "<table>\n",
              "    <thead>\n",
              "        <tr>\n",
              "            <th>nama_item</th>\n",
              "            <th>kategori</th>\n",
              "        </tr>\n",
              "    </thead>\n",
              "    <tbody>\n",
              "        <tr>\n",
              "            <td>bayam</td>\n",
              "            <td>sayuran</td>\n",
              "        </tr>\n",
              "        <tr>\n",
              "            <td>belimbing</td>\n",
              "            <td>buah</td>\n",
              "        </tr>\n",
              "        <tr>\n",
              "            <td>duku</td>\n",
              "            <td>buah</td>\n",
              "        </tr>\n",
              "        <tr>\n",
              "            <td>durian</td>\n",
              "            <td>buah</td>\n",
              "        </tr>\n",
              "        <tr>\n",
              "            <td>gandum</td>\n",
              "            <td>buah</td>\n",
              "        </tr>\n",
              "        <tr>\n",
              "            <td>jamur</td>\n",
              "            <td>sayuran</td>\n",
              "        </tr>\n",
              "        <tr>\n",
              "            <td>jambu air</td>\n",
              "            <td>buah</td>\n",
              "        </tr>\n",
              "        <tr>\n",
              "            <td>jeruk</td>\n",
              "            <td>buah</td>\n",
              "        </tr>\n",
              "    </tbody>\n",
              "</table>"
            ]
          },
          "metadata": {},
          "execution_count": 24
        }
      ]
    },
    {
      "cell_type": "code",
      "source": [
        "%%sql\n",
        "\n",
        "-- melihat tabel ms_item_warna\n",
        "SELECT *\n",
        "FROM\n",
        "  ms_item_warna;"
      ],
      "metadata": {
        "colab": {
          "base_uri": "https://localhost:8080/",
          "height": 0
        },
        "id": "GbJpVmmhgdfq",
        "outputId": "d069f04f-4a66-4aec-b800-8972126dfaab"
      },
      "execution_count": 25,
      "outputs": [
        {
          "output_type": "stream",
          "name": "stdout",
          "text": [
            " * sqlite://\n",
            "Done.\n"
          ]
        },
        {
          "output_type": "execute_result",
          "data": {
            "text/plain": [
              "[('apel', 'merah'),\n",
              " ('bayam', 'hijau'),\n",
              " ('daun bawang', 'hijau'),\n",
              " ('duku', 'kuning pekat'),\n",
              " ('durian', 'kuning'),\n",
              " ('gandum', 'coklat'),\n",
              " ('jambu air', 'merah'),\n",
              " ('jeruk', 'oranye')]"
            ],
            "text/html": [
              "<table>\n",
              "    <thead>\n",
              "        <tr>\n",
              "            <th>nama_barang</th>\n",
              "            <th>warna</th>\n",
              "        </tr>\n",
              "    </thead>\n",
              "    <tbody>\n",
              "        <tr>\n",
              "            <td>apel</td>\n",
              "            <td>merah</td>\n",
              "        </tr>\n",
              "        <tr>\n",
              "            <td>bayam</td>\n",
              "            <td>hijau</td>\n",
              "        </tr>\n",
              "        <tr>\n",
              "            <td>daun bawang</td>\n",
              "            <td>hijau</td>\n",
              "        </tr>\n",
              "        <tr>\n",
              "            <td>duku</td>\n",
              "            <td>kuning pekat</td>\n",
              "        </tr>\n",
              "        <tr>\n",
              "            <td>durian</td>\n",
              "            <td>kuning</td>\n",
              "        </tr>\n",
              "        <tr>\n",
              "            <td>gandum</td>\n",
              "            <td>coklat</td>\n",
              "        </tr>\n",
              "        <tr>\n",
              "            <td>jambu air</td>\n",
              "            <td>merah</td>\n",
              "        </tr>\n",
              "        <tr>\n",
              "            <td>jeruk</td>\n",
              "            <td>oranye</td>\n",
              "        </tr>\n",
              "    </tbody>\n",
              "</table>"
            ]
          },
          "metadata": {},
          "execution_count": 25
        }
      ]
    },
    {
      "cell_type": "markdown",
      "source": [
        "#### [Menggabungkan Tabel dengan Key Columns](https://academy.dqlab.id/main/livecode/244/406/2038?pr=0)"
      ],
      "metadata": {
        "id": "z-7PckxbhCdp"
      }
    },
    {
      "cell_type": "code",
      "source": [
        "%%sql\n",
        "\n",
        "SELECT *\n",
        "FROM\n",
        "  ms_item_kategori,\n",
        "  ms_item_warna\n",
        "WHERE\n",
        "  nama_barang = nama_item;"
      ],
      "metadata": {
        "colab": {
          "base_uri": "https://localhost:8080/",
          "height": 0
        },
        "id": "IMT8Qg7GhGD5",
        "outputId": "2ffa0da3-7fcc-411a-f8b4-9271a1c48d85"
      },
      "execution_count": 26,
      "outputs": [
        {
          "output_type": "stream",
          "name": "stdout",
          "text": [
            " * sqlite://\n",
            "Done.\n"
          ]
        },
        {
          "output_type": "execute_result",
          "data": {
            "text/plain": [
              "[('bayam', 'sayuran', 'bayam', 'hijau'),\n",
              " ('duku', 'buah', 'duku', 'kuning pekat'),\n",
              " ('durian', 'buah', 'durian', 'kuning'),\n",
              " ('gandum', 'buah', 'gandum', 'coklat'),\n",
              " ('jambu air', 'buah', 'jambu air', 'merah'),\n",
              " ('jeruk', 'buah', 'jeruk', 'oranye')]"
            ],
            "text/html": [
              "<table>\n",
              "    <thead>\n",
              "        <tr>\n",
              "            <th>nama_item</th>\n",
              "            <th>kategori</th>\n",
              "            <th>nama_barang</th>\n",
              "            <th>warna</th>\n",
              "        </tr>\n",
              "    </thead>\n",
              "    <tbody>\n",
              "        <tr>\n",
              "            <td>bayam</td>\n",
              "            <td>sayuran</td>\n",
              "            <td>bayam</td>\n",
              "            <td>hijau</td>\n",
              "        </tr>\n",
              "        <tr>\n",
              "            <td>duku</td>\n",
              "            <td>buah</td>\n",
              "            <td>duku</td>\n",
              "            <td>kuning pekat</td>\n",
              "        </tr>\n",
              "        <tr>\n",
              "            <td>durian</td>\n",
              "            <td>buah</td>\n",
              "            <td>durian</td>\n",
              "            <td>kuning</td>\n",
              "        </tr>\n",
              "        <tr>\n",
              "            <td>gandum</td>\n",
              "            <td>buah</td>\n",
              "            <td>gandum</td>\n",
              "            <td>coklat</td>\n",
              "        </tr>\n",
              "        <tr>\n",
              "            <td>jambu air</td>\n",
              "            <td>buah</td>\n",
              "            <td>jambu air</td>\n",
              "            <td>merah</td>\n",
              "        </tr>\n",
              "        <tr>\n",
              "            <td>jeruk</td>\n",
              "            <td>buah</td>\n",
              "            <td>jeruk</td>\n",
              "            <td>oranye</td>\n",
              "        </tr>\n",
              "    </tbody>\n",
              "</table>"
            ]
          },
          "metadata": {},
          "execution_count": 26
        }
      ]
    },
    {
      "cell_type": "markdown",
      "source": [
        "#### [Bagaimana jika urutan Tabel diubah?](https://academy.dqlab.id/main/livecode/244/406/2044?pr=0)"
      ],
      "metadata": {
        "id": "7Bxm-GRGhucc"
      }
    },
    {
      "cell_type": "code",
      "source": [
        "%%sql\n",
        "\n",
        "SELECT *\n",
        "FROM\n",
        "  ms_item_warna,\n",
        "  ms_item_kategori\n",
        "WHERE\n",
        "  nama_barang = nama_item;"
      ],
      "metadata": {
        "colab": {
          "base_uri": "https://localhost:8080/",
          "height": 0
        },
        "id": "lF7s3hd6hyJI",
        "outputId": "c47cde68-1a6f-405d-ea98-0acd5a64d6df"
      },
      "execution_count": 27,
      "outputs": [
        {
          "output_type": "stream",
          "name": "stdout",
          "text": [
            " * sqlite://\n",
            "Done.\n"
          ]
        },
        {
          "output_type": "execute_result",
          "data": {
            "text/plain": [
              "[('bayam', 'hijau', 'bayam', 'sayuran'),\n",
              " ('duku', 'kuning pekat', 'duku', 'buah'),\n",
              " ('durian', 'kuning', 'durian', 'buah'),\n",
              " ('gandum', 'coklat', 'gandum', 'buah'),\n",
              " ('jambu air', 'merah', 'jambu air', 'buah'),\n",
              " ('jeruk', 'oranye', 'jeruk', 'buah')]"
            ],
            "text/html": [
              "<table>\n",
              "    <thead>\n",
              "        <tr>\n",
              "            <th>nama_barang</th>\n",
              "            <th>warna</th>\n",
              "            <th>nama_item</th>\n",
              "            <th>kategori</th>\n",
              "        </tr>\n",
              "    </thead>\n",
              "    <tbody>\n",
              "        <tr>\n",
              "            <td>bayam</td>\n",
              "            <td>hijau</td>\n",
              "            <td>bayam</td>\n",
              "            <td>sayuran</td>\n",
              "        </tr>\n",
              "        <tr>\n",
              "            <td>duku</td>\n",
              "            <td>kuning pekat</td>\n",
              "            <td>duku</td>\n",
              "            <td>buah</td>\n",
              "        </tr>\n",
              "        <tr>\n",
              "            <td>durian</td>\n",
              "            <td>kuning</td>\n",
              "            <td>durian</td>\n",
              "            <td>buah</td>\n",
              "        </tr>\n",
              "        <tr>\n",
              "            <td>gandum</td>\n",
              "            <td>coklat</td>\n",
              "            <td>gandum</td>\n",
              "            <td>buah</td>\n",
              "        </tr>\n",
              "        <tr>\n",
              "            <td>jambu air</td>\n",
              "            <td>merah</td>\n",
              "            <td>jambu air</td>\n",
              "            <td>buah</td>\n",
              "        </tr>\n",
              "        <tr>\n",
              "            <td>jeruk</td>\n",
              "            <td>oranye</td>\n",
              "            <td>jeruk</td>\n",
              "            <td>buah</td>\n",
              "        </tr>\n",
              "    </tbody>\n",
              "</table>"
            ]
          },
          "metadata": {},
          "execution_count": 27
        }
      ]
    },
    {
      "cell_type": "markdown",
      "source": [
        "#### [Menggunakan Prefix Nama Tabel](https://academy.dqlab.id/main/livecode/244/406/2045?pr=0)"
      ],
      "metadata": {
        "id": "Exs7nolXiFmc"
      }
    },
    {
      "cell_type": "code",
      "source": [
        "%%sql\n",
        "\n",
        "SELECT\n",
        "  ms_item_kategori.*,\n",
        "  ms_item_warna.*\n",
        "FROM\n",
        "  ms_item_warna,\n",
        "  ms_item_kategori\n",
        "WHERE\n",
        "  nama_barang = nama_item;"
      ],
      "metadata": {
        "colab": {
          "base_uri": "https://localhost:8080/",
          "height": 0
        },
        "id": "w32Tv8boiJVQ",
        "outputId": "63d11651-0b72-4dd8-c41b-d32e164ca887"
      },
      "execution_count": 28,
      "outputs": [
        {
          "output_type": "stream",
          "name": "stdout",
          "text": [
            " * sqlite://\n",
            "Done.\n"
          ]
        },
        {
          "output_type": "execute_result",
          "data": {
            "text/plain": [
              "[('bayam', 'sayuran', 'bayam', 'hijau'),\n",
              " ('duku', 'buah', 'duku', 'kuning pekat'),\n",
              " ('durian', 'buah', 'durian', 'kuning'),\n",
              " ('gandum', 'buah', 'gandum', 'coklat'),\n",
              " ('jambu air', 'buah', 'jambu air', 'merah'),\n",
              " ('jeruk', 'buah', 'jeruk', 'oranye')]"
            ],
            "text/html": [
              "<table>\n",
              "    <thead>\n",
              "        <tr>\n",
              "            <th>nama_item</th>\n",
              "            <th>kategori</th>\n",
              "            <th>nama_barang</th>\n",
              "            <th>warna</th>\n",
              "        </tr>\n",
              "    </thead>\n",
              "    <tbody>\n",
              "        <tr>\n",
              "            <td>bayam</td>\n",
              "            <td>sayuran</td>\n",
              "            <td>bayam</td>\n",
              "            <td>hijau</td>\n",
              "        </tr>\n",
              "        <tr>\n",
              "            <td>duku</td>\n",
              "            <td>buah</td>\n",
              "            <td>duku</td>\n",
              "            <td>kuning pekat</td>\n",
              "        </tr>\n",
              "        <tr>\n",
              "            <td>durian</td>\n",
              "            <td>buah</td>\n",
              "            <td>durian</td>\n",
              "            <td>kuning</td>\n",
              "        </tr>\n",
              "        <tr>\n",
              "            <td>gandum</td>\n",
              "            <td>buah</td>\n",
              "            <td>gandum</td>\n",
              "            <td>coklat</td>\n",
              "        </tr>\n",
              "        <tr>\n",
              "            <td>jambu air</td>\n",
              "            <td>buah</td>\n",
              "            <td>jambu air</td>\n",
              "            <td>merah</td>\n",
              "        </tr>\n",
              "        <tr>\n",
              "            <td>jeruk</td>\n",
              "            <td>buah</td>\n",
              "            <td>jeruk</td>\n",
              "            <td>oranye</td>\n",
              "        </tr>\n",
              "    </tbody>\n",
              "</table>"
            ]
          },
          "metadata": {},
          "execution_count": 28
        }
      ]
    },
    {
      "cell_type": "markdown",
      "source": [
        "#### [Penggabungan Tanpa Kondisi](https://academy.dqlab.id/main/livecode/244/406/2046?pr=0)"
      ],
      "metadata": {
        "id": "4j3JV8hDihpQ"
      }
    },
    {
      "cell_type": "code",
      "source": [
        "%%sql\n",
        "\n",
        "SELECT *\n",
        "FROM\n",
        "  ms_item_kategori,\n",
        "  ms_item_warna;"
      ],
      "metadata": {
        "colab": {
          "base_uri": "https://localhost:8080/",
          "height": 0
        },
        "id": "0DaGKm97ik9Q",
        "outputId": "9a517112-ab3c-4a9e-836d-42470ddcf59c"
      },
      "execution_count": 29,
      "outputs": [
        {
          "output_type": "stream",
          "name": "stdout",
          "text": [
            " * sqlite://\n",
            "Done.\n"
          ]
        },
        {
          "output_type": "execute_result",
          "data": {
            "text/plain": [
              "[('bayam', 'sayuran', 'apel', 'merah'),\n",
              " ('bayam', 'sayuran', 'bayam', 'hijau'),\n",
              " ('bayam', 'sayuran', 'daun bawang', 'hijau'),\n",
              " ('bayam', 'sayuran', 'duku', 'kuning pekat'),\n",
              " ('bayam', 'sayuran', 'durian', 'kuning'),\n",
              " ('bayam', 'sayuran', 'gandum', 'coklat'),\n",
              " ('bayam', 'sayuran', 'jambu air', 'merah'),\n",
              " ('bayam', 'sayuran', 'jeruk', 'oranye'),\n",
              " ('belimbing', 'buah', 'apel', 'merah'),\n",
              " ('belimbing', 'buah', 'bayam', 'hijau'),\n",
              " ('belimbing', 'buah', 'daun bawang', 'hijau'),\n",
              " ('belimbing', 'buah', 'duku', 'kuning pekat'),\n",
              " ('belimbing', 'buah', 'durian', 'kuning'),\n",
              " ('belimbing', 'buah', 'gandum', 'coklat'),\n",
              " ('belimbing', 'buah', 'jambu air', 'merah'),\n",
              " ('belimbing', 'buah', 'jeruk', 'oranye'),\n",
              " ('duku', 'buah', 'apel', 'merah'),\n",
              " ('duku', 'buah', 'bayam', 'hijau'),\n",
              " ('duku', 'buah', 'daun bawang', 'hijau'),\n",
              " ('duku', 'buah', 'duku', 'kuning pekat'),\n",
              " ('duku', 'buah', 'durian', 'kuning'),\n",
              " ('duku', 'buah', 'gandum', 'coklat'),\n",
              " ('duku', 'buah', 'jambu air', 'merah'),\n",
              " ('duku', 'buah', 'jeruk', 'oranye'),\n",
              " ('durian', 'buah', 'apel', 'merah'),\n",
              " ('durian', 'buah', 'bayam', 'hijau'),\n",
              " ('durian', 'buah', 'daun bawang', 'hijau'),\n",
              " ('durian', 'buah', 'duku', 'kuning pekat'),\n",
              " ('durian', 'buah', 'durian', 'kuning'),\n",
              " ('durian', 'buah', 'gandum', 'coklat'),\n",
              " ('durian', 'buah', 'jambu air', 'merah'),\n",
              " ('durian', 'buah', 'jeruk', 'oranye'),\n",
              " ('gandum', 'buah', 'apel', 'merah'),\n",
              " ('gandum', 'buah', 'bayam', 'hijau'),\n",
              " ('gandum', 'buah', 'daun bawang', 'hijau'),\n",
              " ('gandum', 'buah', 'duku', 'kuning pekat'),\n",
              " ('gandum', 'buah', 'durian', 'kuning'),\n",
              " ('gandum', 'buah', 'gandum', 'coklat'),\n",
              " ('gandum', 'buah', 'jambu air', 'merah'),\n",
              " ('gandum', 'buah', 'jeruk', 'oranye'),\n",
              " ('jamur', 'sayuran', 'apel', 'merah'),\n",
              " ('jamur', 'sayuran', 'bayam', 'hijau'),\n",
              " ('jamur', 'sayuran', 'daun bawang', 'hijau'),\n",
              " ('jamur', 'sayuran', 'duku', 'kuning pekat'),\n",
              " ('jamur', 'sayuran', 'durian', 'kuning'),\n",
              " ('jamur', 'sayuran', 'gandum', 'coklat'),\n",
              " ('jamur', 'sayuran', 'jambu air', 'merah'),\n",
              " ('jamur', 'sayuran', 'jeruk', 'oranye'),\n",
              " ('jambu air', 'buah', 'apel', 'merah'),\n",
              " ('jambu air', 'buah', 'bayam', 'hijau'),\n",
              " ('jambu air', 'buah', 'daun bawang', 'hijau'),\n",
              " ('jambu air', 'buah', 'duku', 'kuning pekat'),\n",
              " ('jambu air', 'buah', 'durian', 'kuning'),\n",
              " ('jambu air', 'buah', 'gandum', 'coklat'),\n",
              " ('jambu air', 'buah', 'jambu air', 'merah'),\n",
              " ('jambu air', 'buah', 'jeruk', 'oranye'),\n",
              " ('jeruk', 'buah', 'apel', 'merah'),\n",
              " ('jeruk', 'buah', 'bayam', 'hijau'),\n",
              " ('jeruk', 'buah', 'daun bawang', 'hijau'),\n",
              " ('jeruk', 'buah', 'duku', 'kuning pekat'),\n",
              " ('jeruk', 'buah', 'durian', 'kuning'),\n",
              " ('jeruk', 'buah', 'gandum', 'coklat'),\n",
              " ('jeruk', 'buah', 'jambu air', 'merah'),\n",
              " ('jeruk', 'buah', 'jeruk', 'oranye')]"
            ],
            "text/html": [
              "<table>\n",
              "    <thead>\n",
              "        <tr>\n",
              "            <th>nama_item</th>\n",
              "            <th>kategori</th>\n",
              "            <th>nama_barang</th>\n",
              "            <th>warna</th>\n",
              "        </tr>\n",
              "    </thead>\n",
              "    <tbody>\n",
              "        <tr>\n",
              "            <td>bayam</td>\n",
              "            <td>sayuran</td>\n",
              "            <td>apel</td>\n",
              "            <td>merah</td>\n",
              "        </tr>\n",
              "        <tr>\n",
              "            <td>bayam</td>\n",
              "            <td>sayuran</td>\n",
              "            <td>bayam</td>\n",
              "            <td>hijau</td>\n",
              "        </tr>\n",
              "        <tr>\n",
              "            <td>bayam</td>\n",
              "            <td>sayuran</td>\n",
              "            <td>daun bawang</td>\n",
              "            <td>hijau</td>\n",
              "        </tr>\n",
              "        <tr>\n",
              "            <td>bayam</td>\n",
              "            <td>sayuran</td>\n",
              "            <td>duku</td>\n",
              "            <td>kuning pekat</td>\n",
              "        </tr>\n",
              "        <tr>\n",
              "            <td>bayam</td>\n",
              "            <td>sayuran</td>\n",
              "            <td>durian</td>\n",
              "            <td>kuning</td>\n",
              "        </tr>\n",
              "        <tr>\n",
              "            <td>bayam</td>\n",
              "            <td>sayuran</td>\n",
              "            <td>gandum</td>\n",
              "            <td>coklat</td>\n",
              "        </tr>\n",
              "        <tr>\n",
              "            <td>bayam</td>\n",
              "            <td>sayuran</td>\n",
              "            <td>jambu air</td>\n",
              "            <td>merah</td>\n",
              "        </tr>\n",
              "        <tr>\n",
              "            <td>bayam</td>\n",
              "            <td>sayuran</td>\n",
              "            <td>jeruk</td>\n",
              "            <td>oranye</td>\n",
              "        </tr>\n",
              "        <tr>\n",
              "            <td>belimbing</td>\n",
              "            <td>buah</td>\n",
              "            <td>apel</td>\n",
              "            <td>merah</td>\n",
              "        </tr>\n",
              "        <tr>\n",
              "            <td>belimbing</td>\n",
              "            <td>buah</td>\n",
              "            <td>bayam</td>\n",
              "            <td>hijau</td>\n",
              "        </tr>\n",
              "        <tr>\n",
              "            <td>belimbing</td>\n",
              "            <td>buah</td>\n",
              "            <td>daun bawang</td>\n",
              "            <td>hijau</td>\n",
              "        </tr>\n",
              "        <tr>\n",
              "            <td>belimbing</td>\n",
              "            <td>buah</td>\n",
              "            <td>duku</td>\n",
              "            <td>kuning pekat</td>\n",
              "        </tr>\n",
              "        <tr>\n",
              "            <td>belimbing</td>\n",
              "            <td>buah</td>\n",
              "            <td>durian</td>\n",
              "            <td>kuning</td>\n",
              "        </tr>\n",
              "        <tr>\n",
              "            <td>belimbing</td>\n",
              "            <td>buah</td>\n",
              "            <td>gandum</td>\n",
              "            <td>coklat</td>\n",
              "        </tr>\n",
              "        <tr>\n",
              "            <td>belimbing</td>\n",
              "            <td>buah</td>\n",
              "            <td>jambu air</td>\n",
              "            <td>merah</td>\n",
              "        </tr>\n",
              "        <tr>\n",
              "            <td>belimbing</td>\n",
              "            <td>buah</td>\n",
              "            <td>jeruk</td>\n",
              "            <td>oranye</td>\n",
              "        </tr>\n",
              "        <tr>\n",
              "            <td>duku</td>\n",
              "            <td>buah</td>\n",
              "            <td>apel</td>\n",
              "            <td>merah</td>\n",
              "        </tr>\n",
              "        <tr>\n",
              "            <td>duku</td>\n",
              "            <td>buah</td>\n",
              "            <td>bayam</td>\n",
              "            <td>hijau</td>\n",
              "        </tr>\n",
              "        <tr>\n",
              "            <td>duku</td>\n",
              "            <td>buah</td>\n",
              "            <td>daun bawang</td>\n",
              "            <td>hijau</td>\n",
              "        </tr>\n",
              "        <tr>\n",
              "            <td>duku</td>\n",
              "            <td>buah</td>\n",
              "            <td>duku</td>\n",
              "            <td>kuning pekat</td>\n",
              "        </tr>\n",
              "        <tr>\n",
              "            <td>duku</td>\n",
              "            <td>buah</td>\n",
              "            <td>durian</td>\n",
              "            <td>kuning</td>\n",
              "        </tr>\n",
              "        <tr>\n",
              "            <td>duku</td>\n",
              "            <td>buah</td>\n",
              "            <td>gandum</td>\n",
              "            <td>coklat</td>\n",
              "        </tr>\n",
              "        <tr>\n",
              "            <td>duku</td>\n",
              "            <td>buah</td>\n",
              "            <td>jambu air</td>\n",
              "            <td>merah</td>\n",
              "        </tr>\n",
              "        <tr>\n",
              "            <td>duku</td>\n",
              "            <td>buah</td>\n",
              "            <td>jeruk</td>\n",
              "            <td>oranye</td>\n",
              "        </tr>\n",
              "        <tr>\n",
              "            <td>durian</td>\n",
              "            <td>buah</td>\n",
              "            <td>apel</td>\n",
              "            <td>merah</td>\n",
              "        </tr>\n",
              "        <tr>\n",
              "            <td>durian</td>\n",
              "            <td>buah</td>\n",
              "            <td>bayam</td>\n",
              "            <td>hijau</td>\n",
              "        </tr>\n",
              "        <tr>\n",
              "            <td>durian</td>\n",
              "            <td>buah</td>\n",
              "            <td>daun bawang</td>\n",
              "            <td>hijau</td>\n",
              "        </tr>\n",
              "        <tr>\n",
              "            <td>durian</td>\n",
              "            <td>buah</td>\n",
              "            <td>duku</td>\n",
              "            <td>kuning pekat</td>\n",
              "        </tr>\n",
              "        <tr>\n",
              "            <td>durian</td>\n",
              "            <td>buah</td>\n",
              "            <td>durian</td>\n",
              "            <td>kuning</td>\n",
              "        </tr>\n",
              "        <tr>\n",
              "            <td>durian</td>\n",
              "            <td>buah</td>\n",
              "            <td>gandum</td>\n",
              "            <td>coklat</td>\n",
              "        </tr>\n",
              "        <tr>\n",
              "            <td>durian</td>\n",
              "            <td>buah</td>\n",
              "            <td>jambu air</td>\n",
              "            <td>merah</td>\n",
              "        </tr>\n",
              "        <tr>\n",
              "            <td>durian</td>\n",
              "            <td>buah</td>\n",
              "            <td>jeruk</td>\n",
              "            <td>oranye</td>\n",
              "        </tr>\n",
              "        <tr>\n",
              "            <td>gandum</td>\n",
              "            <td>buah</td>\n",
              "            <td>apel</td>\n",
              "            <td>merah</td>\n",
              "        </tr>\n",
              "        <tr>\n",
              "            <td>gandum</td>\n",
              "            <td>buah</td>\n",
              "            <td>bayam</td>\n",
              "            <td>hijau</td>\n",
              "        </tr>\n",
              "        <tr>\n",
              "            <td>gandum</td>\n",
              "            <td>buah</td>\n",
              "            <td>daun bawang</td>\n",
              "            <td>hijau</td>\n",
              "        </tr>\n",
              "        <tr>\n",
              "            <td>gandum</td>\n",
              "            <td>buah</td>\n",
              "            <td>duku</td>\n",
              "            <td>kuning pekat</td>\n",
              "        </tr>\n",
              "        <tr>\n",
              "            <td>gandum</td>\n",
              "            <td>buah</td>\n",
              "            <td>durian</td>\n",
              "            <td>kuning</td>\n",
              "        </tr>\n",
              "        <tr>\n",
              "            <td>gandum</td>\n",
              "            <td>buah</td>\n",
              "            <td>gandum</td>\n",
              "            <td>coklat</td>\n",
              "        </tr>\n",
              "        <tr>\n",
              "            <td>gandum</td>\n",
              "            <td>buah</td>\n",
              "            <td>jambu air</td>\n",
              "            <td>merah</td>\n",
              "        </tr>\n",
              "        <tr>\n",
              "            <td>gandum</td>\n",
              "            <td>buah</td>\n",
              "            <td>jeruk</td>\n",
              "            <td>oranye</td>\n",
              "        </tr>\n",
              "        <tr>\n",
              "            <td>jamur</td>\n",
              "            <td>sayuran</td>\n",
              "            <td>apel</td>\n",
              "            <td>merah</td>\n",
              "        </tr>\n",
              "        <tr>\n",
              "            <td>jamur</td>\n",
              "            <td>sayuran</td>\n",
              "            <td>bayam</td>\n",
              "            <td>hijau</td>\n",
              "        </tr>\n",
              "        <tr>\n",
              "            <td>jamur</td>\n",
              "            <td>sayuran</td>\n",
              "            <td>daun bawang</td>\n",
              "            <td>hijau</td>\n",
              "        </tr>\n",
              "        <tr>\n",
              "            <td>jamur</td>\n",
              "            <td>sayuran</td>\n",
              "            <td>duku</td>\n",
              "            <td>kuning pekat</td>\n",
              "        </tr>\n",
              "        <tr>\n",
              "            <td>jamur</td>\n",
              "            <td>sayuran</td>\n",
              "            <td>durian</td>\n",
              "            <td>kuning</td>\n",
              "        </tr>\n",
              "        <tr>\n",
              "            <td>jamur</td>\n",
              "            <td>sayuran</td>\n",
              "            <td>gandum</td>\n",
              "            <td>coklat</td>\n",
              "        </tr>\n",
              "        <tr>\n",
              "            <td>jamur</td>\n",
              "            <td>sayuran</td>\n",
              "            <td>jambu air</td>\n",
              "            <td>merah</td>\n",
              "        </tr>\n",
              "        <tr>\n",
              "            <td>jamur</td>\n",
              "            <td>sayuran</td>\n",
              "            <td>jeruk</td>\n",
              "            <td>oranye</td>\n",
              "        </tr>\n",
              "        <tr>\n",
              "            <td>jambu air</td>\n",
              "            <td>buah</td>\n",
              "            <td>apel</td>\n",
              "            <td>merah</td>\n",
              "        </tr>\n",
              "        <tr>\n",
              "            <td>jambu air</td>\n",
              "            <td>buah</td>\n",
              "            <td>bayam</td>\n",
              "            <td>hijau</td>\n",
              "        </tr>\n",
              "        <tr>\n",
              "            <td>jambu air</td>\n",
              "            <td>buah</td>\n",
              "            <td>daun bawang</td>\n",
              "            <td>hijau</td>\n",
              "        </tr>\n",
              "        <tr>\n",
              "            <td>jambu air</td>\n",
              "            <td>buah</td>\n",
              "            <td>duku</td>\n",
              "            <td>kuning pekat</td>\n",
              "        </tr>\n",
              "        <tr>\n",
              "            <td>jambu air</td>\n",
              "            <td>buah</td>\n",
              "            <td>durian</td>\n",
              "            <td>kuning</td>\n",
              "        </tr>\n",
              "        <tr>\n",
              "            <td>jambu air</td>\n",
              "            <td>buah</td>\n",
              "            <td>gandum</td>\n",
              "            <td>coklat</td>\n",
              "        </tr>\n",
              "        <tr>\n",
              "            <td>jambu air</td>\n",
              "            <td>buah</td>\n",
              "            <td>jambu air</td>\n",
              "            <td>merah</td>\n",
              "        </tr>\n",
              "        <tr>\n",
              "            <td>jambu air</td>\n",
              "            <td>buah</td>\n",
              "            <td>jeruk</td>\n",
              "            <td>oranye</td>\n",
              "        </tr>\n",
              "        <tr>\n",
              "            <td>jeruk</td>\n",
              "            <td>buah</td>\n",
              "            <td>apel</td>\n",
              "            <td>merah</td>\n",
              "        </tr>\n",
              "        <tr>\n",
              "            <td>jeruk</td>\n",
              "            <td>buah</td>\n",
              "            <td>bayam</td>\n",
              "            <td>hijau</td>\n",
              "        </tr>\n",
              "        <tr>\n",
              "            <td>jeruk</td>\n",
              "            <td>buah</td>\n",
              "            <td>daun bawang</td>\n",
              "            <td>hijau</td>\n",
              "        </tr>\n",
              "        <tr>\n",
              "            <td>jeruk</td>\n",
              "            <td>buah</td>\n",
              "            <td>duku</td>\n",
              "            <td>kuning pekat</td>\n",
              "        </tr>\n",
              "        <tr>\n",
              "            <td>jeruk</td>\n",
              "            <td>buah</td>\n",
              "            <td>durian</td>\n",
              "            <td>kuning</td>\n",
              "        </tr>\n",
              "        <tr>\n",
              "            <td>jeruk</td>\n",
              "            <td>buah</td>\n",
              "            <td>gandum</td>\n",
              "            <td>coklat</td>\n",
              "        </tr>\n",
              "        <tr>\n",
              "            <td>jeruk</td>\n",
              "            <td>buah</td>\n",
              "            <td>jambu air</td>\n",
              "            <td>merah</td>\n",
              "        </tr>\n",
              "        <tr>\n",
              "            <td>jeruk</td>\n",
              "            <td>buah</td>\n",
              "            <td>jeruk</td>\n",
              "            <td>oranye</td>\n",
              "        </tr>\n",
              "    </tbody>\n",
              "</table>"
            ]
          },
          "metadata": {},
          "execution_count": 29
        }
      ]
    },
    {
      "cell_type": "markdown",
      "source": [
        "## INNER JOIN"
      ],
      "metadata": {
        "id": "agJMiBdxa0u8"
      }
    },
    {
      "cell_type": "markdown",
      "source": [
        "#### [Tugas Praktek: Menggunakan INNER JOIN (1/3)](https://academy.dqlab.id/main/livecode/244/407/2051?pr=0)"
      ],
      "metadata": {
        "id": "8oOvsYVPi6nd"
      }
    },
    {
      "cell_type": "code",
      "source": [
        "%%sql\n",
        "\n",
        "SELECT *\n",
        "FROM\n",
        "  ms_item_warna\n",
        "INNER JOIN\n",
        "  ms_item_kategori\n",
        "ON\n",
        "  ms_item_warna.nama_barang = ms_item_kategori.nama_item;"
      ],
      "metadata": {
        "colab": {
          "base_uri": "https://localhost:8080/",
          "height": 0
        },
        "id": "mNB5RjXSi_lA",
        "outputId": "19e1355f-eaee-49de-8964-fe6fc43a0630"
      },
      "execution_count": 30,
      "outputs": [
        {
          "output_type": "stream",
          "name": "stdout",
          "text": [
            " * sqlite://\n",
            "Done.\n"
          ]
        },
        {
          "output_type": "execute_result",
          "data": {
            "text/plain": [
              "[('bayam', 'hijau', 'bayam', 'sayuran'),\n",
              " ('duku', 'kuning pekat', 'duku', 'buah'),\n",
              " ('durian', 'kuning', 'durian', 'buah'),\n",
              " ('gandum', 'coklat', 'gandum', 'buah'),\n",
              " ('jambu air', 'merah', 'jambu air', 'buah'),\n",
              " ('jeruk', 'oranye', 'jeruk', 'buah')]"
            ],
            "text/html": [
              "<table>\n",
              "    <thead>\n",
              "        <tr>\n",
              "            <th>nama_barang</th>\n",
              "            <th>warna</th>\n",
              "            <th>nama_item</th>\n",
              "            <th>kategori</th>\n",
              "        </tr>\n",
              "    </thead>\n",
              "    <tbody>\n",
              "        <tr>\n",
              "            <td>bayam</td>\n",
              "            <td>hijau</td>\n",
              "            <td>bayam</td>\n",
              "            <td>sayuran</td>\n",
              "        </tr>\n",
              "        <tr>\n",
              "            <td>duku</td>\n",
              "            <td>kuning pekat</td>\n",
              "            <td>duku</td>\n",
              "            <td>buah</td>\n",
              "        </tr>\n",
              "        <tr>\n",
              "            <td>durian</td>\n",
              "            <td>kuning</td>\n",
              "            <td>durian</td>\n",
              "            <td>buah</td>\n",
              "        </tr>\n",
              "        <tr>\n",
              "            <td>gandum</td>\n",
              "            <td>coklat</td>\n",
              "            <td>gandum</td>\n",
              "            <td>buah</td>\n",
              "        </tr>\n",
              "        <tr>\n",
              "            <td>jambu air</td>\n",
              "            <td>merah</td>\n",
              "            <td>jambu air</td>\n",
              "            <td>buah</td>\n",
              "        </tr>\n",
              "        <tr>\n",
              "            <td>jeruk</td>\n",
              "            <td>oranye</td>\n",
              "            <td>jeruk</td>\n",
              "            <td>buah</td>\n",
              "        </tr>\n",
              "    </tbody>\n",
              "</table>"
            ]
          },
          "metadata": {},
          "execution_count": 30
        }
      ]
    },
    {
      "cell_type": "markdown",
      "source": [
        "#### [tabel tr_penjualan dan tabel ms_produk](https://academy.dqlab.id/main/livecode/244/407/2052?pr=0)"
      ],
      "metadata": {
        "id": "y3SJIbYejZwA"
      }
    },
    {
      "cell_type": "code",
      "source": [
        "%%sql\n",
        "\n",
        "--melihat isi tabel tr_penjualan\n",
        "SELECT *\n",
        "FROM\n",
        "  tr_penjualan;"
      ],
      "metadata": {
        "colab": {
          "base_uri": "https://localhost:8080/",
          "height": 0
        },
        "id": "0mH64Ogvjcz0",
        "outputId": "0572be35-79b2-4ba3-aa9a-9e96c7217402"
      },
      "execution_count": 31,
      "outputs": [
        {
          "output_type": "stream",
          "name": "stdout",
          "text": [
            " * sqlite://\n",
            "Done.\n"
          ]
        },
        {
          "output_type": "execute_result",
          "data": {
            "text/plain": [
              "[('tr-001', 'dqlabcust07', 1, 'prod-01', 'Kotak Pensil DQLab', 5, 62500),\n",
              " ('tr-001', 'dqlabcust07', 2, 'prod-03', 'Flash disk DQLab 32 GB', 1, 100000),\n",
              " ('tr-001', 'dqlabcust07', 3, 'prod-09', 'Buku Planner Agenda DQLab', 3, 92000),\n",
              " ('tr-001', 'dqlabcust07', 4, 'prod-04', 'Flashdisk DQLab 32 GB', 3, 40000),\n",
              " ('tr-002', 'dqlabcust01', 1, 'prod-03', 'Gift Voucher DQLab 100rb', 2, 100000),\n",
              " ('tr-002', 'dqlabcust01', 2, 'prod-10', 'Sticky Notes DQLab 500 sheets', 4, 55000),\n",
              " ('tr-002', 'dqlabcust01', 3, 'prod-07', 'Tas Travel Organizer DQLab', 1, 48000),\n",
              " ('tr-003', 'dqlabcust03', 1, 'prod-02', 'Flashdisk DQLab 64 GB', 2, 55000),\n",
              " ('tr-004', 'dqlabcust03', 1, 'prod-10', 'Sticky Notes DQLab 500 sheets', 5, 55000),\n",
              " ('tr-004', 'dqlabcust03', 2, 'prod-04', 'Flashdisk DQLab 32 GB', 4, 40000),\n",
              " ('tr-005', 'dqlabcust05', 1, 'prod-09', 'Buku Planner Agenda DQLab', 3, 92000),\n",
              " ('tr-005', 'dqlabcust05', 2, 'prod-01', 'Kotak Pensil DQLab', 1, 62500),\n",
              " ('tr-005', 'dqlabcust05', 3, 'prod-04', 'Flashdisk DQLab 32 GB', 2, 40000),\n",
              " ('tr-006', 'dqlabcust02', 1, 'prod-05', 'Gift Voucher DQLab 250rb', 4, 250000),\n",
              " ('tr-006', 'dqlabcust02', 2, 'prod-08', 'Gantungan Kunci DQLab', 2, 15800)]"
            ],
            "text/html": [
              "<table>\n",
              "    <thead>\n",
              "        <tr>\n",
              "            <th>kode_transaksi</th>\n",
              "            <th>kode_pelanggan</th>\n",
              "            <th>no_urut</th>\n",
              "            <th>kode_produk</th>\n",
              "            <th>nama_produk</th>\n",
              "            <th>qty</th>\n",
              "            <th>harga</th>\n",
              "        </tr>\n",
              "    </thead>\n",
              "    <tbody>\n",
              "        <tr>\n",
              "            <td>tr-001</td>\n",
              "            <td>dqlabcust07</td>\n",
              "            <td>1</td>\n",
              "            <td>prod-01</td>\n",
              "            <td>Kotak Pensil DQLab</td>\n",
              "            <td>5</td>\n",
              "            <td>62500</td>\n",
              "        </tr>\n",
              "        <tr>\n",
              "            <td>tr-001</td>\n",
              "            <td>dqlabcust07</td>\n",
              "            <td>2</td>\n",
              "            <td>prod-03</td>\n",
              "            <td>Flash disk DQLab 32 GB</td>\n",
              "            <td>1</td>\n",
              "            <td>100000</td>\n",
              "        </tr>\n",
              "        <tr>\n",
              "            <td>tr-001</td>\n",
              "            <td>dqlabcust07</td>\n",
              "            <td>3</td>\n",
              "            <td>prod-09</td>\n",
              "            <td>Buku Planner Agenda DQLab</td>\n",
              "            <td>3</td>\n",
              "            <td>92000</td>\n",
              "        </tr>\n",
              "        <tr>\n",
              "            <td>tr-001</td>\n",
              "            <td>dqlabcust07</td>\n",
              "            <td>4</td>\n",
              "            <td>prod-04</td>\n",
              "            <td>Flashdisk DQLab 32 GB</td>\n",
              "            <td>3</td>\n",
              "            <td>40000</td>\n",
              "        </tr>\n",
              "        <tr>\n",
              "            <td>tr-002</td>\n",
              "            <td>dqlabcust01</td>\n",
              "            <td>1</td>\n",
              "            <td>prod-03</td>\n",
              "            <td>Gift Voucher DQLab 100rb</td>\n",
              "            <td>2</td>\n",
              "            <td>100000</td>\n",
              "        </tr>\n",
              "        <tr>\n",
              "            <td>tr-002</td>\n",
              "            <td>dqlabcust01</td>\n",
              "            <td>2</td>\n",
              "            <td>prod-10</td>\n",
              "            <td>Sticky Notes DQLab 500 sheets</td>\n",
              "            <td>4</td>\n",
              "            <td>55000</td>\n",
              "        </tr>\n",
              "        <tr>\n",
              "            <td>tr-002</td>\n",
              "            <td>dqlabcust01</td>\n",
              "            <td>3</td>\n",
              "            <td>prod-07</td>\n",
              "            <td>Tas Travel Organizer DQLab</td>\n",
              "            <td>1</td>\n",
              "            <td>48000</td>\n",
              "        </tr>\n",
              "        <tr>\n",
              "            <td>tr-003</td>\n",
              "            <td>dqlabcust03</td>\n",
              "            <td>1</td>\n",
              "            <td>prod-02</td>\n",
              "            <td>Flashdisk DQLab 64 GB</td>\n",
              "            <td>2</td>\n",
              "            <td>55000</td>\n",
              "        </tr>\n",
              "        <tr>\n",
              "            <td>tr-004</td>\n",
              "            <td>dqlabcust03</td>\n",
              "            <td>1</td>\n",
              "            <td>prod-10</td>\n",
              "            <td>Sticky Notes DQLab 500 sheets</td>\n",
              "            <td>5</td>\n",
              "            <td>55000</td>\n",
              "        </tr>\n",
              "        <tr>\n",
              "            <td>tr-004</td>\n",
              "            <td>dqlabcust03</td>\n",
              "            <td>2</td>\n",
              "            <td>prod-04</td>\n",
              "            <td>Flashdisk DQLab 32 GB</td>\n",
              "            <td>4</td>\n",
              "            <td>40000</td>\n",
              "        </tr>\n",
              "        <tr>\n",
              "            <td>tr-005</td>\n",
              "            <td>dqlabcust05</td>\n",
              "            <td>1</td>\n",
              "            <td>prod-09</td>\n",
              "            <td>Buku Planner Agenda DQLab</td>\n",
              "            <td>3</td>\n",
              "            <td>92000</td>\n",
              "        </tr>\n",
              "        <tr>\n",
              "            <td>tr-005</td>\n",
              "            <td>dqlabcust05</td>\n",
              "            <td>2</td>\n",
              "            <td>prod-01</td>\n",
              "            <td>Kotak Pensil DQLab</td>\n",
              "            <td>1</td>\n",
              "            <td>62500</td>\n",
              "        </tr>\n",
              "        <tr>\n",
              "            <td>tr-005</td>\n",
              "            <td>dqlabcust05</td>\n",
              "            <td>3</td>\n",
              "            <td>prod-04</td>\n",
              "            <td>Flashdisk DQLab 32 GB</td>\n",
              "            <td>2</td>\n",
              "            <td>40000</td>\n",
              "        </tr>\n",
              "        <tr>\n",
              "            <td>tr-006</td>\n",
              "            <td>dqlabcust02</td>\n",
              "            <td>1</td>\n",
              "            <td>prod-05</td>\n",
              "            <td>Gift Voucher DQLab 250rb</td>\n",
              "            <td>4</td>\n",
              "            <td>250000</td>\n",
              "        </tr>\n",
              "        <tr>\n",
              "            <td>tr-006</td>\n",
              "            <td>dqlabcust02</td>\n",
              "            <td>2</td>\n",
              "            <td>prod-08</td>\n",
              "            <td>Gantungan Kunci DQLab</td>\n",
              "            <td>2</td>\n",
              "            <td>15800</td>\n",
              "        </tr>\n",
              "    </tbody>\n",
              "</table>"
            ]
          },
          "metadata": {},
          "execution_count": 31
        }
      ]
    },
    {
      "cell_type": "code",
      "source": [
        "%%sql\n",
        "\n",
        "--melihat isi tabel ms_produk\n",
        "SELECT *\n",
        "FROM\n",
        "  ms_produk;"
      ],
      "metadata": {
        "colab": {
          "base_uri": "https://localhost:8080/",
          "height": 0
        },
        "id": "865MFnr8jeZ1",
        "outputId": "9b950ba0-1757-4e13-dc50-8cd487d5f6e8"
      },
      "execution_count": 32,
      "outputs": [
        {
          "output_type": "stream",
          "name": "stdout",
          "text": [
            " * sqlite://\n",
            "Done.\n"
          ]
        },
        {
          "output_type": "execute_result",
          "data": {
            "text/plain": [
              "[(1, 'prod-01', 'Kotak Pensil DQLab', 62500),\n",
              " (2, 'prod-02', 'Flashdisk DQLab 64 GB', 55000),\n",
              " (3, 'prod-03', 'Gift Voucher DQLab 100rb', 100000),\n",
              " (4, 'prod-04', 'Flashdisk DQLab 32 GB', 40000),\n",
              " (5, 'prod-05', 'Gift Voucher DQLab 250rb', 250000),\n",
              " (6, 'prod-06', 'Pulpen Multifunction + Laser DQLab', 92500),\n",
              " (7, 'prod-07', 'Tas Travel Organizer DQLab', 48000),\n",
              " (8, 'prod-08', 'Gantungan Kunci DQLab', 15800),\n",
              " (9, 'prod-09', 'Buku Planner Agenda DQLab', 92000),\n",
              " (10, 'prod-10', 'Sticky Notes DQLab 500 sheets', 55000)]"
            ],
            "text/html": [
              "<table>\n",
              "    <thead>\n",
              "        <tr>\n",
              "            <th>no_urut</th>\n",
              "            <th>kode_produk</th>\n",
              "            <th>nama_produk</th>\n",
              "            <th>harga</th>\n",
              "        </tr>\n",
              "    </thead>\n",
              "    <tbody>\n",
              "        <tr>\n",
              "            <td>1</td>\n",
              "            <td>prod-01</td>\n",
              "            <td>Kotak Pensil DQLab</td>\n",
              "            <td>62500</td>\n",
              "        </tr>\n",
              "        <tr>\n",
              "            <td>2</td>\n",
              "            <td>prod-02</td>\n",
              "            <td>Flashdisk DQLab 64 GB</td>\n",
              "            <td>55000</td>\n",
              "        </tr>\n",
              "        <tr>\n",
              "            <td>3</td>\n",
              "            <td>prod-03</td>\n",
              "            <td>Gift Voucher DQLab 100rb</td>\n",
              "            <td>100000</td>\n",
              "        </tr>\n",
              "        <tr>\n",
              "            <td>4</td>\n",
              "            <td>prod-04</td>\n",
              "            <td>Flashdisk DQLab 32 GB</td>\n",
              "            <td>40000</td>\n",
              "        </tr>\n",
              "        <tr>\n",
              "            <td>5</td>\n",
              "            <td>prod-05</td>\n",
              "            <td>Gift Voucher DQLab 250rb</td>\n",
              "            <td>250000</td>\n",
              "        </tr>\n",
              "        <tr>\n",
              "            <td>6</td>\n",
              "            <td>prod-06</td>\n",
              "            <td>Pulpen Multifunction + Laser DQLab</td>\n",
              "            <td>92500</td>\n",
              "        </tr>\n",
              "        <tr>\n",
              "            <td>7</td>\n",
              "            <td>prod-07</td>\n",
              "            <td>Tas Travel Organizer DQLab</td>\n",
              "            <td>48000</td>\n",
              "        </tr>\n",
              "        <tr>\n",
              "            <td>8</td>\n",
              "            <td>prod-08</td>\n",
              "            <td>Gantungan Kunci DQLab</td>\n",
              "            <td>15800</td>\n",
              "        </tr>\n",
              "        <tr>\n",
              "            <td>9</td>\n",
              "            <td>prod-09</td>\n",
              "            <td>Buku Planner Agenda DQLab</td>\n",
              "            <td>92000</td>\n",
              "        </tr>\n",
              "        <tr>\n",
              "            <td>10</td>\n",
              "            <td>prod-10</td>\n",
              "            <td>Sticky Notes DQLab 500 sheets</td>\n",
              "            <td>55000</td>\n",
              "        </tr>\n",
              "    </tbody>\n",
              "</table>"
            ]
          },
          "metadata": {},
          "execution_count": 32
        }
      ]
    },
    {
      "cell_type": "markdown",
      "source": [
        "#### [Tugas Praktek: Menggunakan INNER JOIN (2/3)](https://academy.dqlab.id/main/livecode/244/407/2054?pr=0)"
      ],
      "metadata": {
        "id": "4PqGQ5wNj4yl"
      }
    },
    {
      "cell_type": "code",
      "source": [
        "%%sql\n",
        "\n",
        "SELECT *\n",
        "FROM\n",
        "  tr_penjualan\n",
        "INNER JOIN\n",
        "  ms_produk\n",
        "ON\n",
        "  tr_penjualan.kode_produk = ms_produk.kode_produk;"
      ],
      "metadata": {
        "colab": {
          "base_uri": "https://localhost:8080/",
          "height": 0
        },
        "id": "IY1YBHmgj89j",
        "outputId": "27c50325-c90a-4e6c-fedd-c5927281c302"
      },
      "execution_count": 33,
      "outputs": [
        {
          "output_type": "stream",
          "name": "stdout",
          "text": [
            " * sqlite://\n",
            "Done.\n"
          ]
        },
        {
          "output_type": "execute_result",
          "data": {
            "text/plain": [
              "[('tr-001', 'dqlabcust07', 1, 'prod-01', 'Kotak Pensil DQLab', 5, 62500, 1, 'prod-01', 'Kotak Pensil DQLab', 62500),\n",
              " ('tr-001', 'dqlabcust07', 2, 'prod-03', 'Flash disk DQLab 32 GB', 1, 100000, 3, 'prod-03', 'Gift Voucher DQLab 100rb', 100000),\n",
              " ('tr-001', 'dqlabcust07', 3, 'prod-09', 'Buku Planner Agenda DQLab', 3, 92000, 9, 'prod-09', 'Buku Planner Agenda DQLab', 92000),\n",
              " ('tr-001', 'dqlabcust07', 4, 'prod-04', 'Flashdisk DQLab 32 GB', 3, 40000, 4, 'prod-04', 'Flashdisk DQLab 32 GB', 40000),\n",
              " ('tr-002', 'dqlabcust01', 1, 'prod-03', 'Gift Voucher DQLab 100rb', 2, 100000, 3, 'prod-03', 'Gift Voucher DQLab 100rb', 100000),\n",
              " ('tr-002', 'dqlabcust01', 2, 'prod-10', 'Sticky Notes DQLab 500 sheets', 4, 55000, 10, 'prod-10', 'Sticky Notes DQLab 500 sheets', 55000),\n",
              " ('tr-002', 'dqlabcust01', 3, 'prod-07', 'Tas Travel Organizer DQLab', 1, 48000, 7, 'prod-07', 'Tas Travel Organizer DQLab', 48000),\n",
              " ('tr-003', 'dqlabcust03', 1, 'prod-02', 'Flashdisk DQLab 64 GB', 2, 55000, 2, 'prod-02', 'Flashdisk DQLab 64 GB', 55000),\n",
              " ('tr-004', 'dqlabcust03', 1, 'prod-10', 'Sticky Notes DQLab 500 sheets', 5, 55000, 10, 'prod-10', 'Sticky Notes DQLab 500 sheets', 55000),\n",
              " ('tr-004', 'dqlabcust03', 2, 'prod-04', 'Flashdisk DQLab 32 GB', 4, 40000, 4, 'prod-04', 'Flashdisk DQLab 32 GB', 40000),\n",
              " ('tr-005', 'dqlabcust05', 1, 'prod-09', 'Buku Planner Agenda DQLab', 3, 92000, 9, 'prod-09', 'Buku Planner Agenda DQLab', 92000),\n",
              " ('tr-005', 'dqlabcust05', 2, 'prod-01', 'Kotak Pensil DQLab', 1, 62500, 1, 'prod-01', 'Kotak Pensil DQLab', 62500),\n",
              " ('tr-005', 'dqlabcust05', 3, 'prod-04', 'Flashdisk DQLab 32 GB', 2, 40000, 4, 'prod-04', 'Flashdisk DQLab 32 GB', 40000),\n",
              " ('tr-006', 'dqlabcust02', 1, 'prod-05', 'Gift Voucher DQLab 250rb', 4, 250000, 5, 'prod-05', 'Gift Voucher DQLab 250rb', 250000),\n",
              " ('tr-006', 'dqlabcust02', 2, 'prod-08', 'Gantungan Kunci DQLab', 2, 15800, 8, 'prod-08', 'Gantungan Kunci DQLab', 15800)]"
            ],
            "text/html": [
              "<table>\n",
              "    <thead>\n",
              "        <tr>\n",
              "            <th>kode_transaksi</th>\n",
              "            <th>kode_pelanggan</th>\n",
              "            <th>no_urut</th>\n",
              "            <th>kode_produk</th>\n",
              "            <th>nama_produk</th>\n",
              "            <th>qty</th>\n",
              "            <th>harga</th>\n",
              "            <th>no_urut_1</th>\n",
              "            <th>kode_produk_1</th>\n",
              "            <th>nama_produk_1</th>\n",
              "            <th>harga_1</th>\n",
              "        </tr>\n",
              "    </thead>\n",
              "    <tbody>\n",
              "        <tr>\n",
              "            <td>tr-001</td>\n",
              "            <td>dqlabcust07</td>\n",
              "            <td>1</td>\n",
              "            <td>prod-01</td>\n",
              "            <td>Kotak Pensil DQLab</td>\n",
              "            <td>5</td>\n",
              "            <td>62500</td>\n",
              "            <td>1</td>\n",
              "            <td>prod-01</td>\n",
              "            <td>Kotak Pensil DQLab</td>\n",
              "            <td>62500</td>\n",
              "        </tr>\n",
              "        <tr>\n",
              "            <td>tr-001</td>\n",
              "            <td>dqlabcust07</td>\n",
              "            <td>2</td>\n",
              "            <td>prod-03</td>\n",
              "            <td>Flash disk DQLab 32 GB</td>\n",
              "            <td>1</td>\n",
              "            <td>100000</td>\n",
              "            <td>3</td>\n",
              "            <td>prod-03</td>\n",
              "            <td>Gift Voucher DQLab 100rb</td>\n",
              "            <td>100000</td>\n",
              "        </tr>\n",
              "        <tr>\n",
              "            <td>tr-001</td>\n",
              "            <td>dqlabcust07</td>\n",
              "            <td>3</td>\n",
              "            <td>prod-09</td>\n",
              "            <td>Buku Planner Agenda DQLab</td>\n",
              "            <td>3</td>\n",
              "            <td>92000</td>\n",
              "            <td>9</td>\n",
              "            <td>prod-09</td>\n",
              "            <td>Buku Planner Agenda DQLab</td>\n",
              "            <td>92000</td>\n",
              "        </tr>\n",
              "        <tr>\n",
              "            <td>tr-001</td>\n",
              "            <td>dqlabcust07</td>\n",
              "            <td>4</td>\n",
              "            <td>prod-04</td>\n",
              "            <td>Flashdisk DQLab 32 GB</td>\n",
              "            <td>3</td>\n",
              "            <td>40000</td>\n",
              "            <td>4</td>\n",
              "            <td>prod-04</td>\n",
              "            <td>Flashdisk DQLab 32 GB</td>\n",
              "            <td>40000</td>\n",
              "        </tr>\n",
              "        <tr>\n",
              "            <td>tr-002</td>\n",
              "            <td>dqlabcust01</td>\n",
              "            <td>1</td>\n",
              "            <td>prod-03</td>\n",
              "            <td>Gift Voucher DQLab 100rb</td>\n",
              "            <td>2</td>\n",
              "            <td>100000</td>\n",
              "            <td>3</td>\n",
              "            <td>prod-03</td>\n",
              "            <td>Gift Voucher DQLab 100rb</td>\n",
              "            <td>100000</td>\n",
              "        </tr>\n",
              "        <tr>\n",
              "            <td>tr-002</td>\n",
              "            <td>dqlabcust01</td>\n",
              "            <td>2</td>\n",
              "            <td>prod-10</td>\n",
              "            <td>Sticky Notes DQLab 500 sheets</td>\n",
              "            <td>4</td>\n",
              "            <td>55000</td>\n",
              "            <td>10</td>\n",
              "            <td>prod-10</td>\n",
              "            <td>Sticky Notes DQLab 500 sheets</td>\n",
              "            <td>55000</td>\n",
              "        </tr>\n",
              "        <tr>\n",
              "            <td>tr-002</td>\n",
              "            <td>dqlabcust01</td>\n",
              "            <td>3</td>\n",
              "            <td>prod-07</td>\n",
              "            <td>Tas Travel Organizer DQLab</td>\n",
              "            <td>1</td>\n",
              "            <td>48000</td>\n",
              "            <td>7</td>\n",
              "            <td>prod-07</td>\n",
              "            <td>Tas Travel Organizer DQLab</td>\n",
              "            <td>48000</td>\n",
              "        </tr>\n",
              "        <tr>\n",
              "            <td>tr-003</td>\n",
              "            <td>dqlabcust03</td>\n",
              "            <td>1</td>\n",
              "            <td>prod-02</td>\n",
              "            <td>Flashdisk DQLab 64 GB</td>\n",
              "            <td>2</td>\n",
              "            <td>55000</td>\n",
              "            <td>2</td>\n",
              "            <td>prod-02</td>\n",
              "            <td>Flashdisk DQLab 64 GB</td>\n",
              "            <td>55000</td>\n",
              "        </tr>\n",
              "        <tr>\n",
              "            <td>tr-004</td>\n",
              "            <td>dqlabcust03</td>\n",
              "            <td>1</td>\n",
              "            <td>prod-10</td>\n",
              "            <td>Sticky Notes DQLab 500 sheets</td>\n",
              "            <td>5</td>\n",
              "            <td>55000</td>\n",
              "            <td>10</td>\n",
              "            <td>prod-10</td>\n",
              "            <td>Sticky Notes DQLab 500 sheets</td>\n",
              "            <td>55000</td>\n",
              "        </tr>\n",
              "        <tr>\n",
              "            <td>tr-004</td>\n",
              "            <td>dqlabcust03</td>\n",
              "            <td>2</td>\n",
              "            <td>prod-04</td>\n",
              "            <td>Flashdisk DQLab 32 GB</td>\n",
              "            <td>4</td>\n",
              "            <td>40000</td>\n",
              "            <td>4</td>\n",
              "            <td>prod-04</td>\n",
              "            <td>Flashdisk DQLab 32 GB</td>\n",
              "            <td>40000</td>\n",
              "        </tr>\n",
              "        <tr>\n",
              "            <td>tr-005</td>\n",
              "            <td>dqlabcust05</td>\n",
              "            <td>1</td>\n",
              "            <td>prod-09</td>\n",
              "            <td>Buku Planner Agenda DQLab</td>\n",
              "            <td>3</td>\n",
              "            <td>92000</td>\n",
              "            <td>9</td>\n",
              "            <td>prod-09</td>\n",
              "            <td>Buku Planner Agenda DQLab</td>\n",
              "            <td>92000</td>\n",
              "        </tr>\n",
              "        <tr>\n",
              "            <td>tr-005</td>\n",
              "            <td>dqlabcust05</td>\n",
              "            <td>2</td>\n",
              "            <td>prod-01</td>\n",
              "            <td>Kotak Pensil DQLab</td>\n",
              "            <td>1</td>\n",
              "            <td>62500</td>\n",
              "            <td>1</td>\n",
              "            <td>prod-01</td>\n",
              "            <td>Kotak Pensil DQLab</td>\n",
              "            <td>62500</td>\n",
              "        </tr>\n",
              "        <tr>\n",
              "            <td>tr-005</td>\n",
              "            <td>dqlabcust05</td>\n",
              "            <td>3</td>\n",
              "            <td>prod-04</td>\n",
              "            <td>Flashdisk DQLab 32 GB</td>\n",
              "            <td>2</td>\n",
              "            <td>40000</td>\n",
              "            <td>4</td>\n",
              "            <td>prod-04</td>\n",
              "            <td>Flashdisk DQLab 32 GB</td>\n",
              "            <td>40000</td>\n",
              "        </tr>\n",
              "        <tr>\n",
              "            <td>tr-006</td>\n",
              "            <td>dqlabcust02</td>\n",
              "            <td>1</td>\n",
              "            <td>prod-05</td>\n",
              "            <td>Gift Voucher DQLab 250rb</td>\n",
              "            <td>4</td>\n",
              "            <td>250000</td>\n",
              "            <td>5</td>\n",
              "            <td>prod-05</td>\n",
              "            <td>Gift Voucher DQLab 250rb</td>\n",
              "            <td>250000</td>\n",
              "        </tr>\n",
              "        <tr>\n",
              "            <td>tr-006</td>\n",
              "            <td>dqlabcust02</td>\n",
              "            <td>2</td>\n",
              "            <td>prod-08</td>\n",
              "            <td>Gantungan Kunci DQLab</td>\n",
              "            <td>2</td>\n",
              "            <td>15800</td>\n",
              "            <td>8</td>\n",
              "            <td>prod-08</td>\n",
              "            <td>Gantungan Kunci DQLab</td>\n",
              "            <td>15800</td>\n",
              "        </tr>\n",
              "    </tbody>\n",
              "</table>"
            ]
          },
          "metadata": {},
          "execution_count": 33
        }
      ]
    },
    {
      "cell_type": "markdown",
      "source": [
        "#### [Tugas Praktek: Menggunakan INNER JOIN (3/3)](https://academy.dqlab.id/main/livecode/244/407/2057?pr=0)"
      ],
      "metadata": {
        "id": "4ALVmjN8kR3T"
      }
    },
    {
      "cell_type": "code",
      "source": [
        "%%sql\n",
        "\n",
        "SELECT\n",
        "  tr_penjualan.kode_transaksi,\n",
        "  tr_penjualan.kode_pelanggan,\n",
        "  tr_penjualan.kode_produk,\n",
        "  ms_produk.nama_produk,\n",
        "  ms_produk.harga,\n",
        "  tr_penjualan.qty,\n",
        "  ms_produk.harga * tr_penjualan.qty AS total \n",
        "FROM\n",
        "  tr_penjualan\n",
        "INNER JOIN\n",
        "  ms_produk\n",
        "ON\n",
        "  tr_penjualan.kode_produk = ms_produk.kode_produk;"
      ],
      "metadata": {
        "colab": {
          "base_uri": "https://localhost:8080/",
          "height": 0
        },
        "id": "EUeZfKzHkVM4",
        "outputId": "b54d12d5-d4c3-44df-fd97-183f30bf09e6"
      },
      "execution_count": 34,
      "outputs": [
        {
          "output_type": "stream",
          "name": "stdout",
          "text": [
            " * sqlite://\n",
            "Done.\n"
          ]
        },
        {
          "output_type": "execute_result",
          "data": {
            "text/plain": [
              "[('tr-001', 'dqlabcust07', 'prod-01', 'Kotak Pensil DQLab', 62500, 5, 312500),\n",
              " ('tr-001', 'dqlabcust07', 'prod-03', 'Gift Voucher DQLab 100rb', 100000, 1, 100000),\n",
              " ('tr-001', 'dqlabcust07', 'prod-09', 'Buku Planner Agenda DQLab', 92000, 3, 276000),\n",
              " ('tr-001', 'dqlabcust07', 'prod-04', 'Flashdisk DQLab 32 GB', 40000, 3, 120000),\n",
              " ('tr-002', 'dqlabcust01', 'prod-03', 'Gift Voucher DQLab 100rb', 100000, 2, 200000),\n",
              " ('tr-002', 'dqlabcust01', 'prod-10', 'Sticky Notes DQLab 500 sheets', 55000, 4, 220000),\n",
              " ('tr-002', 'dqlabcust01', 'prod-07', 'Tas Travel Organizer DQLab', 48000, 1, 48000),\n",
              " ('tr-003', 'dqlabcust03', 'prod-02', 'Flashdisk DQLab 64 GB', 55000, 2, 110000),\n",
              " ('tr-004', 'dqlabcust03', 'prod-10', 'Sticky Notes DQLab 500 sheets', 55000, 5, 275000),\n",
              " ('tr-004', 'dqlabcust03', 'prod-04', 'Flashdisk DQLab 32 GB', 40000, 4, 160000),\n",
              " ('tr-005', 'dqlabcust05', 'prod-09', 'Buku Planner Agenda DQLab', 92000, 3, 276000),\n",
              " ('tr-005', 'dqlabcust05', 'prod-01', 'Kotak Pensil DQLab', 62500, 1, 62500),\n",
              " ('tr-005', 'dqlabcust05', 'prod-04', 'Flashdisk DQLab 32 GB', 40000, 2, 80000),\n",
              " ('tr-006', 'dqlabcust02', 'prod-05', 'Gift Voucher DQLab 250rb', 250000, 4, 1000000),\n",
              " ('tr-006', 'dqlabcust02', 'prod-08', 'Gantungan Kunci DQLab', 15800, 2, 31600)]"
            ],
            "text/html": [
              "<table>\n",
              "    <thead>\n",
              "        <tr>\n",
              "            <th>kode_transaksi</th>\n",
              "            <th>kode_pelanggan</th>\n",
              "            <th>kode_produk</th>\n",
              "            <th>nama_produk</th>\n",
              "            <th>harga</th>\n",
              "            <th>qty</th>\n",
              "            <th>total</th>\n",
              "        </tr>\n",
              "    </thead>\n",
              "    <tbody>\n",
              "        <tr>\n",
              "            <td>tr-001</td>\n",
              "            <td>dqlabcust07</td>\n",
              "            <td>prod-01</td>\n",
              "            <td>Kotak Pensil DQLab</td>\n",
              "            <td>62500</td>\n",
              "            <td>5</td>\n",
              "            <td>312500</td>\n",
              "        </tr>\n",
              "        <tr>\n",
              "            <td>tr-001</td>\n",
              "            <td>dqlabcust07</td>\n",
              "            <td>prod-03</td>\n",
              "            <td>Gift Voucher DQLab 100rb</td>\n",
              "            <td>100000</td>\n",
              "            <td>1</td>\n",
              "            <td>100000</td>\n",
              "        </tr>\n",
              "        <tr>\n",
              "            <td>tr-001</td>\n",
              "            <td>dqlabcust07</td>\n",
              "            <td>prod-09</td>\n",
              "            <td>Buku Planner Agenda DQLab</td>\n",
              "            <td>92000</td>\n",
              "            <td>3</td>\n",
              "            <td>276000</td>\n",
              "        </tr>\n",
              "        <tr>\n",
              "            <td>tr-001</td>\n",
              "            <td>dqlabcust07</td>\n",
              "            <td>prod-04</td>\n",
              "            <td>Flashdisk DQLab 32 GB</td>\n",
              "            <td>40000</td>\n",
              "            <td>3</td>\n",
              "            <td>120000</td>\n",
              "        </tr>\n",
              "        <tr>\n",
              "            <td>tr-002</td>\n",
              "            <td>dqlabcust01</td>\n",
              "            <td>prod-03</td>\n",
              "            <td>Gift Voucher DQLab 100rb</td>\n",
              "            <td>100000</td>\n",
              "            <td>2</td>\n",
              "            <td>200000</td>\n",
              "        </tr>\n",
              "        <tr>\n",
              "            <td>tr-002</td>\n",
              "            <td>dqlabcust01</td>\n",
              "            <td>prod-10</td>\n",
              "            <td>Sticky Notes DQLab 500 sheets</td>\n",
              "            <td>55000</td>\n",
              "            <td>4</td>\n",
              "            <td>220000</td>\n",
              "        </tr>\n",
              "        <tr>\n",
              "            <td>tr-002</td>\n",
              "            <td>dqlabcust01</td>\n",
              "            <td>prod-07</td>\n",
              "            <td>Tas Travel Organizer DQLab</td>\n",
              "            <td>48000</td>\n",
              "            <td>1</td>\n",
              "            <td>48000</td>\n",
              "        </tr>\n",
              "        <tr>\n",
              "            <td>tr-003</td>\n",
              "            <td>dqlabcust03</td>\n",
              "            <td>prod-02</td>\n",
              "            <td>Flashdisk DQLab 64 GB</td>\n",
              "            <td>55000</td>\n",
              "            <td>2</td>\n",
              "            <td>110000</td>\n",
              "        </tr>\n",
              "        <tr>\n",
              "            <td>tr-004</td>\n",
              "            <td>dqlabcust03</td>\n",
              "            <td>prod-10</td>\n",
              "            <td>Sticky Notes DQLab 500 sheets</td>\n",
              "            <td>55000</td>\n",
              "            <td>5</td>\n",
              "            <td>275000</td>\n",
              "        </tr>\n",
              "        <tr>\n",
              "            <td>tr-004</td>\n",
              "            <td>dqlabcust03</td>\n",
              "            <td>prod-04</td>\n",
              "            <td>Flashdisk DQLab 32 GB</td>\n",
              "            <td>40000</td>\n",
              "            <td>4</td>\n",
              "            <td>160000</td>\n",
              "        </tr>\n",
              "        <tr>\n",
              "            <td>tr-005</td>\n",
              "            <td>dqlabcust05</td>\n",
              "            <td>prod-09</td>\n",
              "            <td>Buku Planner Agenda DQLab</td>\n",
              "            <td>92000</td>\n",
              "            <td>3</td>\n",
              "            <td>276000</td>\n",
              "        </tr>\n",
              "        <tr>\n",
              "            <td>tr-005</td>\n",
              "            <td>dqlabcust05</td>\n",
              "            <td>prod-01</td>\n",
              "            <td>Kotak Pensil DQLab</td>\n",
              "            <td>62500</td>\n",
              "            <td>1</td>\n",
              "            <td>62500</td>\n",
              "        </tr>\n",
              "        <tr>\n",
              "            <td>tr-005</td>\n",
              "            <td>dqlabcust05</td>\n",
              "            <td>prod-04</td>\n",
              "            <td>Flashdisk DQLab 32 GB</td>\n",
              "            <td>40000</td>\n",
              "            <td>2</td>\n",
              "            <td>80000</td>\n",
              "        </tr>\n",
              "        <tr>\n",
              "            <td>tr-006</td>\n",
              "            <td>dqlabcust02</td>\n",
              "            <td>prod-05</td>\n",
              "            <td>Gift Voucher DQLab 250rb</td>\n",
              "            <td>250000</td>\n",
              "            <td>4</td>\n",
              "            <td>1000000</td>\n",
              "        </tr>\n",
              "        <tr>\n",
              "            <td>tr-006</td>\n",
              "            <td>dqlabcust02</td>\n",
              "            <td>prod-08</td>\n",
              "            <td>Gantungan Kunci DQLab</td>\n",
              "            <td>15800</td>\n",
              "            <td>2</td>\n",
              "            <td>31600</td>\n",
              "        </tr>\n",
              "    </tbody>\n",
              "</table>"
            ]
          },
          "metadata": {},
          "execution_count": 34
        }
      ]
    },
    {
      "cell_type": "markdown",
      "source": [
        "## UNION"
      ],
      "metadata": {
        "id": "KKHIf1tZa2Wf"
      }
    },
    {
      "cell_type": "markdown",
      "source": [
        "#### [Tabel yang Akan Digabungkan](https://academy.dqlab.id/main/livecode/244/408/2061?pr=0)"
      ],
      "metadata": {
        "id": "6sgZeaOcko6r"
      }
    },
    {
      "cell_type": "code",
      "source": [
        "%%sql\n",
        "\n",
        "-- melihat tabel_A\n",
        "SELECT *\n",
        "FROM\n",
        "  tabel_A;"
      ],
      "metadata": {
        "colab": {
          "base_uri": "https://localhost:8080/",
          "height": 246
        },
        "id": "W8xP1-FRlSUn",
        "outputId": "536cb891-5a5c-4532-d4ae-5092f41436d8"
      },
      "execution_count": 35,
      "outputs": [
        {
          "output_type": "stream",
          "name": "stdout",
          "text": [
            " * sqlite://\n",
            "Done.\n"
          ]
        },
        {
          "output_type": "execute_result",
          "data": {
            "text/plain": [
              "[('tr-001', 'dqlabcust07', 1, 'prod-01', 'Kotak Pensil DQLab', 5, 62500, 312500),\n",
              " ('tr-001', 'dqlabcust07', 2, 'prod-03', 'Flash disk DQLab 32 GB', 1, 100000, 100000),\n",
              " ('tr-001', 'dqlabcust07', 3, 'prod-09', 'Buku Planner Agenda DQLab', 3, 92000, 276000),\n",
              " ('tr-001', 'dqlabcust07', 4, 'prod-04', 'Flashdisk DQLab 32 GB', 3, 40000, 120000),\n",
              " ('tr-002', 'dqlabcust01', 1, 'prod-03', 'Gift Voucher DQLab 100rb', 2, 100000, 200000),\n",
              " ('tr-002', 'dqlabcust01', 2, 'prod-10', 'Sticky Notes DQLab 500 sheets', 4, 55000, 220000),\n",
              " ('tr-002', 'dqlabcust01', 3, 'prod-07', 'Tas Travel Organizer DQLab', 1, 48000, 48000),\n",
              " ('tr-003', 'dqlabcust03', 1, 'prod-02', 'Flashdisk DQLab 64 GB', 2, 55000, 110000)]"
            ],
            "text/html": [
              "<table>\n",
              "    <thead>\n",
              "        <tr>\n",
              "            <th>kode_transaksi</th>\n",
              "            <th>kode_pelanggan</th>\n",
              "            <th>no_urut</th>\n",
              "            <th>kode_produk</th>\n",
              "            <th>nama_produk</th>\n",
              "            <th>qty</th>\n",
              "            <th>harga</th>\n",
              "            <th>total</th>\n",
              "        </tr>\n",
              "    </thead>\n",
              "    <tbody>\n",
              "        <tr>\n",
              "            <td>tr-001</td>\n",
              "            <td>dqlabcust07</td>\n",
              "            <td>1</td>\n",
              "            <td>prod-01</td>\n",
              "            <td>Kotak Pensil DQLab</td>\n",
              "            <td>5</td>\n",
              "            <td>62500</td>\n",
              "            <td>312500</td>\n",
              "        </tr>\n",
              "        <tr>\n",
              "            <td>tr-001</td>\n",
              "            <td>dqlabcust07</td>\n",
              "            <td>2</td>\n",
              "            <td>prod-03</td>\n",
              "            <td>Flash disk DQLab 32 GB</td>\n",
              "            <td>1</td>\n",
              "            <td>100000</td>\n",
              "            <td>100000</td>\n",
              "        </tr>\n",
              "        <tr>\n",
              "            <td>tr-001</td>\n",
              "            <td>dqlabcust07</td>\n",
              "            <td>3</td>\n",
              "            <td>prod-09</td>\n",
              "            <td>Buku Planner Agenda DQLab</td>\n",
              "            <td>3</td>\n",
              "            <td>92000</td>\n",
              "            <td>276000</td>\n",
              "        </tr>\n",
              "        <tr>\n",
              "            <td>tr-001</td>\n",
              "            <td>dqlabcust07</td>\n",
              "            <td>4</td>\n",
              "            <td>prod-04</td>\n",
              "            <td>Flashdisk DQLab 32 GB</td>\n",
              "            <td>3</td>\n",
              "            <td>40000</td>\n",
              "            <td>120000</td>\n",
              "        </tr>\n",
              "        <tr>\n",
              "            <td>tr-002</td>\n",
              "            <td>dqlabcust01</td>\n",
              "            <td>1</td>\n",
              "            <td>prod-03</td>\n",
              "            <td>Gift Voucher DQLab 100rb</td>\n",
              "            <td>2</td>\n",
              "            <td>100000</td>\n",
              "            <td>200000</td>\n",
              "        </tr>\n",
              "        <tr>\n",
              "            <td>tr-002</td>\n",
              "            <td>dqlabcust01</td>\n",
              "            <td>2</td>\n",
              "            <td>prod-10</td>\n",
              "            <td>Sticky Notes DQLab 500 sheets</td>\n",
              "            <td>4</td>\n",
              "            <td>55000</td>\n",
              "            <td>220000</td>\n",
              "        </tr>\n",
              "        <tr>\n",
              "            <td>tr-002</td>\n",
              "            <td>dqlabcust01</td>\n",
              "            <td>3</td>\n",
              "            <td>prod-07</td>\n",
              "            <td>Tas Travel Organizer DQLab</td>\n",
              "            <td>1</td>\n",
              "            <td>48000</td>\n",
              "            <td>48000</td>\n",
              "        </tr>\n",
              "        <tr>\n",
              "            <td>tr-003</td>\n",
              "            <td>dqlabcust03</td>\n",
              "            <td>1</td>\n",
              "            <td>prod-02</td>\n",
              "            <td>Flashdisk DQLab 64 GB</td>\n",
              "            <td>2</td>\n",
              "            <td>55000</td>\n",
              "            <td>110000</td>\n",
              "        </tr>\n",
              "    </tbody>\n",
              "</table>"
            ]
          },
          "metadata": {},
          "execution_count": 35
        }
      ]
    },
    {
      "cell_type": "code",
      "source": [
        "%%sql\n",
        "\n",
        "-- melihat tabel_B\n",
        "SELECT *\n",
        "FROM\n",
        "  tabel_B;"
      ],
      "metadata": {
        "colab": {
          "base_uri": "https://localhost:8080/",
          "height": 225
        },
        "id": "YMDZZDB7lTyY",
        "outputId": "cae33538-baef-4219-9b15-6affd0ba13b8"
      },
      "execution_count": 36,
      "outputs": [
        {
          "output_type": "stream",
          "name": "stdout",
          "text": [
            " * sqlite://\n",
            "Done.\n"
          ]
        },
        {
          "output_type": "execute_result",
          "data": {
            "text/plain": [
              "[('tr-004', 'dqlabcust03', 1, 'prod-10', 'Sticky Notes DQLab 500 sheets', 5, 55000, 275000),\n",
              " ('tr-004', 'dqlabcust03', 2, 'prod-04', 'Flashdisk DQLab 32 GB', 4, 40000, 160000),\n",
              " ('tr-005', 'dqlabcust05', 1, 'prod-09', 'Buku Planner Agenda DQLab', 3, 92000, 276000),\n",
              " ('tr-005', 'dqlabcust05', 2, 'prod-01', 'Kotak Pensil DQLab', 1, 62500, 62500),\n",
              " ('tr-005', 'dqlabcust05', 3, 'prod-04', 'Flashdisk DQLab 32 GB', 2, 40000, 80000),\n",
              " ('tr-006', 'dqlabcust02', 1, 'prod-05', 'Gift Voucher DQLab 250rb', 4, 250000, 1000000),\n",
              " ('tr-006', 'dqlabcust02', 2, 'prod-08', 'Gantungan Kunci DQLab', 2, 15800, 31600)]"
            ],
            "text/html": [
              "<table>\n",
              "    <thead>\n",
              "        <tr>\n",
              "            <th>kode_transaksi</th>\n",
              "            <th>kode_pelanggan</th>\n",
              "            <th>no_urut</th>\n",
              "            <th>kode_produk</th>\n",
              "            <th>nama_produk</th>\n",
              "            <th>qty</th>\n",
              "            <th>harga</th>\n",
              "            <th>total</th>\n",
              "        </tr>\n",
              "    </thead>\n",
              "    <tbody>\n",
              "        <tr>\n",
              "            <td>tr-004</td>\n",
              "            <td>dqlabcust03</td>\n",
              "            <td>1</td>\n",
              "            <td>prod-10</td>\n",
              "            <td>Sticky Notes DQLab 500 sheets</td>\n",
              "            <td>5</td>\n",
              "            <td>55000</td>\n",
              "            <td>275000</td>\n",
              "        </tr>\n",
              "        <tr>\n",
              "            <td>tr-004</td>\n",
              "            <td>dqlabcust03</td>\n",
              "            <td>2</td>\n",
              "            <td>prod-04</td>\n",
              "            <td>Flashdisk DQLab 32 GB</td>\n",
              "            <td>4</td>\n",
              "            <td>40000</td>\n",
              "            <td>160000</td>\n",
              "        </tr>\n",
              "        <tr>\n",
              "            <td>tr-005</td>\n",
              "            <td>dqlabcust05</td>\n",
              "            <td>1</td>\n",
              "            <td>prod-09</td>\n",
              "            <td>Buku Planner Agenda DQLab</td>\n",
              "            <td>3</td>\n",
              "            <td>92000</td>\n",
              "            <td>276000</td>\n",
              "        </tr>\n",
              "        <tr>\n",
              "            <td>tr-005</td>\n",
              "            <td>dqlabcust05</td>\n",
              "            <td>2</td>\n",
              "            <td>prod-01</td>\n",
              "            <td>Kotak Pensil DQLab</td>\n",
              "            <td>1</td>\n",
              "            <td>62500</td>\n",
              "            <td>62500</td>\n",
              "        </tr>\n",
              "        <tr>\n",
              "            <td>tr-005</td>\n",
              "            <td>dqlabcust05</td>\n",
              "            <td>3</td>\n",
              "            <td>prod-04</td>\n",
              "            <td>Flashdisk DQLab 32 GB</td>\n",
              "            <td>2</td>\n",
              "            <td>40000</td>\n",
              "            <td>80000</td>\n",
              "        </tr>\n",
              "        <tr>\n",
              "            <td>tr-006</td>\n",
              "            <td>dqlabcust02</td>\n",
              "            <td>1</td>\n",
              "            <td>prod-05</td>\n",
              "            <td>Gift Voucher DQLab 250rb</td>\n",
              "            <td>4</td>\n",
              "            <td>250000</td>\n",
              "            <td>1000000</td>\n",
              "        </tr>\n",
              "        <tr>\n",
              "            <td>tr-006</td>\n",
              "            <td>dqlabcust02</td>\n",
              "            <td>2</td>\n",
              "            <td>prod-08</td>\n",
              "            <td>Gantungan Kunci DQLab</td>\n",
              "            <td>2</td>\n",
              "            <td>15800</td>\n",
              "            <td>31600</td>\n",
              "        </tr>\n",
              "    </tbody>\n",
              "</table>"
            ]
          },
          "metadata": {},
          "execution_count": 36
        }
      ]
    },
    {
      "cell_type": "markdown",
      "source": [
        "#### [Menggunakan UNION](https://academy.dqlab.id/main/livecode/244/408/2062?pr=0)"
      ],
      "metadata": {
        "id": "6tDCvgcImB_L"
      }
    },
    {
      "cell_type": "code",
      "source": [
        "%%sql\n",
        "\n",
        "SELECT *\n",
        "FROM\n",
        "  tabel_A\n",
        "UNION\n",
        "SELECT *\n",
        "FROM\n",
        "  tabel_B;"
      ],
      "metadata": {
        "colab": {
          "base_uri": "https://localhost:8080/",
          "height": 395
        },
        "id": "btx83eJlmGsn",
        "outputId": "ae3df518-86fc-4f76-a81e-97f535d9a577"
      },
      "execution_count": 37,
      "outputs": [
        {
          "output_type": "stream",
          "name": "stdout",
          "text": [
            " * sqlite://\n",
            "Done.\n"
          ]
        },
        {
          "output_type": "execute_result",
          "data": {
            "text/plain": [
              "[('tr-001', 'dqlabcust07', 1, 'prod-01', 'Kotak Pensil DQLab', 5, 62500, 312500),\n",
              " ('tr-001', 'dqlabcust07', 2, 'prod-03', 'Flash disk DQLab 32 GB', 1, 100000, 100000),\n",
              " ('tr-001', 'dqlabcust07', 3, 'prod-09', 'Buku Planner Agenda DQLab', 3, 92000, 276000),\n",
              " ('tr-001', 'dqlabcust07', 4, 'prod-04', 'Flashdisk DQLab 32 GB', 3, 40000, 120000),\n",
              " ('tr-002', 'dqlabcust01', 1, 'prod-03', 'Gift Voucher DQLab 100rb', 2, 100000, 200000),\n",
              " ('tr-002', 'dqlabcust01', 2, 'prod-10', 'Sticky Notes DQLab 500 sheets', 4, 55000, 220000),\n",
              " ('tr-002', 'dqlabcust01', 3, 'prod-07', 'Tas Travel Organizer DQLab', 1, 48000, 48000),\n",
              " ('tr-003', 'dqlabcust03', 1, 'prod-02', 'Flashdisk DQLab 64 GB', 2, 55000, 110000),\n",
              " ('tr-004', 'dqlabcust03', 1, 'prod-10', 'Sticky Notes DQLab 500 sheets', 5, 55000, 275000),\n",
              " ('tr-004', 'dqlabcust03', 2, 'prod-04', 'Flashdisk DQLab 32 GB', 4, 40000, 160000),\n",
              " ('tr-005', 'dqlabcust05', 1, 'prod-09', 'Buku Planner Agenda DQLab', 3, 92000, 276000),\n",
              " ('tr-005', 'dqlabcust05', 2, 'prod-01', 'Kotak Pensil DQLab', 1, 62500, 62500),\n",
              " ('tr-005', 'dqlabcust05', 3, 'prod-04', 'Flashdisk DQLab 32 GB', 2, 40000, 80000),\n",
              " ('tr-006', 'dqlabcust02', 1, 'prod-05', 'Gift Voucher DQLab 250rb', 4, 250000, 1000000),\n",
              " ('tr-006', 'dqlabcust02', 2, 'prod-08', 'Gantungan Kunci DQLab', 2, 15800, 31600)]"
            ],
            "text/html": [
              "<table>\n",
              "    <thead>\n",
              "        <tr>\n",
              "            <th>kode_transaksi</th>\n",
              "            <th>kode_pelanggan</th>\n",
              "            <th>no_urut</th>\n",
              "            <th>kode_produk</th>\n",
              "            <th>nama_produk</th>\n",
              "            <th>qty</th>\n",
              "            <th>harga</th>\n",
              "            <th>total</th>\n",
              "        </tr>\n",
              "    </thead>\n",
              "    <tbody>\n",
              "        <tr>\n",
              "            <td>tr-001</td>\n",
              "            <td>dqlabcust07</td>\n",
              "            <td>1</td>\n",
              "            <td>prod-01</td>\n",
              "            <td>Kotak Pensil DQLab</td>\n",
              "            <td>5</td>\n",
              "            <td>62500</td>\n",
              "            <td>312500</td>\n",
              "        </tr>\n",
              "        <tr>\n",
              "            <td>tr-001</td>\n",
              "            <td>dqlabcust07</td>\n",
              "            <td>2</td>\n",
              "            <td>prod-03</td>\n",
              "            <td>Flash disk DQLab 32 GB</td>\n",
              "            <td>1</td>\n",
              "            <td>100000</td>\n",
              "            <td>100000</td>\n",
              "        </tr>\n",
              "        <tr>\n",
              "            <td>tr-001</td>\n",
              "            <td>dqlabcust07</td>\n",
              "            <td>3</td>\n",
              "            <td>prod-09</td>\n",
              "            <td>Buku Planner Agenda DQLab</td>\n",
              "            <td>3</td>\n",
              "            <td>92000</td>\n",
              "            <td>276000</td>\n",
              "        </tr>\n",
              "        <tr>\n",
              "            <td>tr-001</td>\n",
              "            <td>dqlabcust07</td>\n",
              "            <td>4</td>\n",
              "            <td>prod-04</td>\n",
              "            <td>Flashdisk DQLab 32 GB</td>\n",
              "            <td>3</td>\n",
              "            <td>40000</td>\n",
              "            <td>120000</td>\n",
              "        </tr>\n",
              "        <tr>\n",
              "            <td>tr-002</td>\n",
              "            <td>dqlabcust01</td>\n",
              "            <td>1</td>\n",
              "            <td>prod-03</td>\n",
              "            <td>Gift Voucher DQLab 100rb</td>\n",
              "            <td>2</td>\n",
              "            <td>100000</td>\n",
              "            <td>200000</td>\n",
              "        </tr>\n",
              "        <tr>\n",
              "            <td>tr-002</td>\n",
              "            <td>dqlabcust01</td>\n",
              "            <td>2</td>\n",
              "            <td>prod-10</td>\n",
              "            <td>Sticky Notes DQLab 500 sheets</td>\n",
              "            <td>4</td>\n",
              "            <td>55000</td>\n",
              "            <td>220000</td>\n",
              "        </tr>\n",
              "        <tr>\n",
              "            <td>tr-002</td>\n",
              "            <td>dqlabcust01</td>\n",
              "            <td>3</td>\n",
              "            <td>prod-07</td>\n",
              "            <td>Tas Travel Organizer DQLab</td>\n",
              "            <td>1</td>\n",
              "            <td>48000</td>\n",
              "            <td>48000</td>\n",
              "        </tr>\n",
              "        <tr>\n",
              "            <td>tr-003</td>\n",
              "            <td>dqlabcust03</td>\n",
              "            <td>1</td>\n",
              "            <td>prod-02</td>\n",
              "            <td>Flashdisk DQLab 64 GB</td>\n",
              "            <td>2</td>\n",
              "            <td>55000</td>\n",
              "            <td>110000</td>\n",
              "        </tr>\n",
              "        <tr>\n",
              "            <td>tr-004</td>\n",
              "            <td>dqlabcust03</td>\n",
              "            <td>1</td>\n",
              "            <td>prod-10</td>\n",
              "            <td>Sticky Notes DQLab 500 sheets</td>\n",
              "            <td>5</td>\n",
              "            <td>55000</td>\n",
              "            <td>275000</td>\n",
              "        </tr>\n",
              "        <tr>\n",
              "            <td>tr-004</td>\n",
              "            <td>dqlabcust03</td>\n",
              "            <td>2</td>\n",
              "            <td>prod-04</td>\n",
              "            <td>Flashdisk DQLab 32 GB</td>\n",
              "            <td>4</td>\n",
              "            <td>40000</td>\n",
              "            <td>160000</td>\n",
              "        </tr>\n",
              "        <tr>\n",
              "            <td>tr-005</td>\n",
              "            <td>dqlabcust05</td>\n",
              "            <td>1</td>\n",
              "            <td>prod-09</td>\n",
              "            <td>Buku Planner Agenda DQLab</td>\n",
              "            <td>3</td>\n",
              "            <td>92000</td>\n",
              "            <td>276000</td>\n",
              "        </tr>\n",
              "        <tr>\n",
              "            <td>tr-005</td>\n",
              "            <td>dqlabcust05</td>\n",
              "            <td>2</td>\n",
              "            <td>prod-01</td>\n",
              "            <td>Kotak Pensil DQLab</td>\n",
              "            <td>1</td>\n",
              "            <td>62500</td>\n",
              "            <td>62500</td>\n",
              "        </tr>\n",
              "        <tr>\n",
              "            <td>tr-005</td>\n",
              "            <td>dqlabcust05</td>\n",
              "            <td>3</td>\n",
              "            <td>prod-04</td>\n",
              "            <td>Flashdisk DQLab 32 GB</td>\n",
              "            <td>2</td>\n",
              "            <td>40000</td>\n",
              "            <td>80000</td>\n",
              "        </tr>\n",
              "        <tr>\n",
              "            <td>tr-006</td>\n",
              "            <td>dqlabcust02</td>\n",
              "            <td>1</td>\n",
              "            <td>prod-05</td>\n",
              "            <td>Gift Voucher DQLab 250rb</td>\n",
              "            <td>4</td>\n",
              "            <td>250000</td>\n",
              "            <td>1000000</td>\n",
              "        </tr>\n",
              "        <tr>\n",
              "            <td>tr-006</td>\n",
              "            <td>dqlabcust02</td>\n",
              "            <td>2</td>\n",
              "            <td>prod-08</td>\n",
              "            <td>Gantungan Kunci DQLab</td>\n",
              "            <td>2</td>\n",
              "            <td>15800</td>\n",
              "            <td>31600</td>\n",
              "        </tr>\n",
              "    </tbody>\n",
              "</table>"
            ]
          },
          "metadata": {},
          "execution_count": 37
        }
      ]
    },
    {
      "cell_type": "markdown",
      "source": [
        "#### [Menggunakan UNION dengan Klausa WHERE](https://academy.dqlab.id/main/livecode/244/408/2063?pr=0)"
      ],
      "metadata": {
        "id": "8IsiI1_7mScG"
      }
    },
    {
      "cell_type": "code",
      "source": [
        "%%sql\n",
        "\n",
        "SELECT *\n",
        "FROM\n",
        "  tabel_A\n",
        "WHERE\n",
        "  kode_pelanggan = 'dqlabcust03'\n",
        "UNION\n",
        "SELECT *\n",
        "FROM\n",
        "  tabel_B\n",
        "WHERE\n",
        "  kode_pelanggan = 'dqlabcust03';"
      ],
      "metadata": {
        "colab": {
          "base_uri": "https://localhost:8080/",
          "height": 139
        },
        "id": "O-uD13IpmWVw",
        "outputId": "81b20f87-78fa-4ea0-eb95-568262d6d712"
      },
      "execution_count": 38,
      "outputs": [
        {
          "output_type": "stream",
          "name": "stdout",
          "text": [
            " * sqlite://\n",
            "Done.\n"
          ]
        },
        {
          "output_type": "execute_result",
          "data": {
            "text/plain": [
              "[('tr-003', 'dqlabcust03', 1, 'prod-02', 'Flashdisk DQLab 64 GB', 2, 55000, 110000),\n",
              " ('tr-004', 'dqlabcust03', 1, 'prod-10', 'Sticky Notes DQLab 500 sheets', 5, 55000, 275000),\n",
              " ('tr-004', 'dqlabcust03', 2, 'prod-04', 'Flashdisk DQLab 32 GB', 4, 40000, 160000)]"
            ],
            "text/html": [
              "<table>\n",
              "    <thead>\n",
              "        <tr>\n",
              "            <th>kode_transaksi</th>\n",
              "            <th>kode_pelanggan</th>\n",
              "            <th>no_urut</th>\n",
              "            <th>kode_produk</th>\n",
              "            <th>nama_produk</th>\n",
              "            <th>qty</th>\n",
              "            <th>harga</th>\n",
              "            <th>total</th>\n",
              "        </tr>\n",
              "    </thead>\n",
              "    <tbody>\n",
              "        <tr>\n",
              "            <td>tr-003</td>\n",
              "            <td>dqlabcust03</td>\n",
              "            <td>1</td>\n",
              "            <td>prod-02</td>\n",
              "            <td>Flashdisk DQLab 64 GB</td>\n",
              "            <td>2</td>\n",
              "            <td>55000</td>\n",
              "            <td>110000</td>\n",
              "        </tr>\n",
              "        <tr>\n",
              "            <td>tr-004</td>\n",
              "            <td>dqlabcust03</td>\n",
              "            <td>1</td>\n",
              "            <td>prod-10</td>\n",
              "            <td>Sticky Notes DQLab 500 sheets</td>\n",
              "            <td>5</td>\n",
              "            <td>55000</td>\n",
              "            <td>275000</td>\n",
              "        </tr>\n",
              "        <tr>\n",
              "            <td>tr-004</td>\n",
              "            <td>dqlabcust03</td>\n",
              "            <td>2</td>\n",
              "            <td>prod-04</td>\n",
              "            <td>Flashdisk DQLab 32 GB</td>\n",
              "            <td>4</td>\n",
              "            <td>40000</td>\n",
              "            <td>160000</td>\n",
              "        </tr>\n",
              "    </tbody>\n",
              "</table>"
            ]
          },
          "metadata": {},
          "execution_count": 38
        }
      ]
    },
    {
      "cell_type": "markdown",
      "source": [
        "#### [Menggunakan UNION dan Menyelaraskan Kolom-Kolomnya](https://academy.dqlab.id/main/livecode/244/408/2065?pr=0)"
      ],
      "metadata": {
        "id": "rxLacSFzmj5G"
      }
    },
    {
      "cell_type": "code",
      "source": [
        "%%sql\n",
        "\n",
        "SELECT\n",
        " CustomerName,\n",
        " ContactName,\n",
        " City,\n",
        " PostalCode \n",
        "FROM\n",
        "  Customers \n",
        "UNION \n",
        "SELECT\n",
        "  SupplierName,\n",
        "  ContactName,\n",
        "  City,\n",
        "  PostalCode \n",
        "FROM Suppliers;"
      ],
      "metadata": {
        "colab": {
          "base_uri": "https://localhost:8080/",
          "height": 203
        },
        "id": "rvoGD2zSmpMY",
        "outputId": "d4a817f4-ac41-400c-c139-2739de15a068"
      },
      "execution_count": 39,
      "outputs": [
        {
          "output_type": "stream",
          "name": "stdout",
          "text": [
            " * sqlite://\n",
            "Done.\n"
          ]
        },
        {
          "output_type": "execute_result",
          "data": {
            "text/plain": [
              "[('Ana Helena', 'Ana Helena', 'Surabaya', 5021),\n",
              " ('Bandung Bakery', 'Sherly Ani', 'Bandung', 70117),\n",
              " ('Fransiska Maria', 'Maria', 'Jakarta', 14450),\n",
              " ('Lily Subari', 'Lili', 'Makassar', 5023),\n",
              " ('Tara Pastry', 'Regina Tara', 'Semarang', 48104),\n",
              " ('Yulius Syrup', 'Yulius', 'Jakarta', 14450)]"
            ],
            "text/html": [
              "<table>\n",
              "    <thead>\n",
              "        <tr>\n",
              "            <th>CustomerName</th>\n",
              "            <th>ContactName</th>\n",
              "            <th>City</th>\n",
              "            <th>PostalCode</th>\n",
              "        </tr>\n",
              "    </thead>\n",
              "    <tbody>\n",
              "        <tr>\n",
              "            <td>Ana Helena</td>\n",
              "            <td>Ana Helena</td>\n",
              "            <td>Surabaya</td>\n",
              "            <td>5021</td>\n",
              "        </tr>\n",
              "        <tr>\n",
              "            <td>Bandung Bakery</td>\n",
              "            <td>Sherly Ani</td>\n",
              "            <td>Bandung</td>\n",
              "            <td>70117</td>\n",
              "        </tr>\n",
              "        <tr>\n",
              "            <td>Fransiska Maria</td>\n",
              "            <td>Maria</td>\n",
              "            <td>Jakarta</td>\n",
              "            <td>14450</td>\n",
              "        </tr>\n",
              "        <tr>\n",
              "            <td>Lily Subari</td>\n",
              "            <td>Lili</td>\n",
              "            <td>Makassar</td>\n",
              "            <td>5023</td>\n",
              "        </tr>\n",
              "        <tr>\n",
              "            <td>Tara Pastry</td>\n",
              "            <td>Regina Tara</td>\n",
              "            <td>Semarang</td>\n",
              "            <td>48104</td>\n",
              "        </tr>\n",
              "        <tr>\n",
              "            <td>Yulius Syrup</td>\n",
              "            <td>Yulius</td>\n",
              "            <td>Jakarta</td>\n",
              "            <td>14450</td>\n",
              "        </tr>\n",
              "    </tbody>\n",
              "</table>"
            ]
          },
          "metadata": {},
          "execution_count": 39
        }
      ]
    },
    {
      "cell_type": "markdown",
      "source": [
        "## Mini Project"
      ],
      "metadata": {
        "id": "Ycn1o6n-a3gg"
      }
    },
    {
      "cell_type": "markdown",
      "source": [
        "#### [Project INNER JOIN](https://academy.dqlab.id/main/livecode/244/409/2070?pr=0)"
      ],
      "metadata": {
        "id": "ZB58bto3oG3o"
      }
    },
    {
      "cell_type": "code",
      "source": [
        "%%sql\n",
        "\n",
        "SELECT DISTINCT\n",
        "  ms_pelanggan.kode_pelanggan,\n",
        "  ms_pelanggan.nama_customer,\n",
        "  ms_pelanggan.alamat\n",
        "FROM\n",
        "  ms_pelanggan\n",
        "INNER JOIN\n",
        "  tr_penjualan\n",
        "ON\n",
        "  ms_pelanggan.kode_pelanggan = tr_penjualan.kode_pelanggan\n",
        "WHERE\n",
        "  tr_penjualan.nama_produk = 'Kotak Pensil DQLab'\n",
        "  OR tr_penjualan.nama_produk = 'Flashdisk DQLab 32 GB'\n",
        "  OR tr_penjualan.nama_produk = 'Sticky Notes DQLab 500 sheets';"
      ],
      "metadata": {
        "colab": {
          "base_uri": "https://localhost:8080/",
          "height": 161
        },
        "id": "Ov8LqfJFoMqH",
        "outputId": "9e2f8b2e-bfa2-4159-a3d1-2f7e387167ce"
      },
      "execution_count": 40,
      "outputs": [
        {
          "output_type": "stream",
          "name": "stdout",
          "text": [
            " * sqlite://\n",
            "Done.\n"
          ]
        },
        {
          "output_type": "execute_result",
          "data": {
            "text/plain": [
              "[('dqlabcust07', 'Agus Cahyono', 'Vila Gunung Seribu, Blok F4 - No. 8'),\n",
              " ('dqlabcust01', 'Eva Novianti, S.H.', 'Vila Sempilan, No. 67 - Kota B'),\n",
              " ('dqlabcust03', 'Unang Handoko', 'Vila Sempilan, No. 1 - Kota B'),\n",
              " ('dqlabcust05', 'Tommy Sinaga', 'Vila Permata Intan Berkilau, Blok A1/2')]"
            ],
            "text/html": [
              "<table>\n",
              "    <thead>\n",
              "        <tr>\n",
              "            <th>kode_pelanggan</th>\n",
              "            <th>nama_customer</th>\n",
              "            <th>alamat</th>\n",
              "        </tr>\n",
              "    </thead>\n",
              "    <tbody>\n",
              "        <tr>\n",
              "            <td>dqlabcust07</td>\n",
              "            <td>Agus Cahyono</td>\n",
              "            <td>Vila Gunung Seribu, Blok F4 - No. 8</td>\n",
              "        </tr>\n",
              "        <tr>\n",
              "            <td>dqlabcust01</td>\n",
              "            <td>Eva Novianti, S.H.</td>\n",
              "            <td>Vila Sempilan, No. 67 - Kota B</td>\n",
              "        </tr>\n",
              "        <tr>\n",
              "            <td>dqlabcust03</td>\n",
              "            <td>Unang Handoko</td>\n",
              "            <td>Vila Sempilan, No. 1 - Kota B</td>\n",
              "        </tr>\n",
              "        <tr>\n",
              "            <td>dqlabcust05</td>\n",
              "            <td>Tommy Sinaga</td>\n",
              "            <td>Vila Permata Intan Berkilau, Blok A1/2</td>\n",
              "        </tr>\n",
              "    </tbody>\n",
              "</table>"
            ]
          },
          "metadata": {},
          "execution_count": 40
        }
      ]
    },
    {
      "cell_type": "markdown",
      "source": [
        "#### [Project UNION](https://academy.dqlab.id/main/livecode/244/409/2071?pr=0)"
      ],
      "metadata": {
        "id": "HSzdUC-2ofRm"
      }
    },
    {
      "cell_type": "code",
      "source": [
        "%%sql\n",
        "\n",
        "SELECT\n",
        "  nama_produk,\n",
        "  kode_produk,\n",
        "  harga\n",
        "FROM\n",
        "  ms_produk_1\n",
        "WHERE\n",
        "  harga < 100000\n",
        "UNION\n",
        "SELECT\n",
        "  nama_produk,\n",
        "  kode_produk,\n",
        "  harga\n",
        "FROM\n",
        "  ms_produk_2\n",
        "WHERE\n",
        "  harga < 50000;"
      ],
      "metadata": {
        "colab": {
          "base_uri": "https://localhost:8080/",
          "height": 182
        },
        "id": "IniN8S1Kojaf",
        "outputId": "2fa4916f-14c7-4b56-b3d5-e32afbebf323"
      },
      "execution_count": 41,
      "outputs": [
        {
          "output_type": "stream",
          "name": "stdout",
          "text": [
            " * sqlite://\n",
            "Done.\n"
          ]
        },
        {
          "output_type": "execute_result",
          "data": {
            "text/plain": [
              "[('Flashdisk DQLab 32 GB', 'prod-04', 40000),\n",
              " ('Flashdisk DQLab 64 GB', 'prod-02', 55000),\n",
              " ('Gantungan Kunci DQLab', 'prod-08', 15800),\n",
              " ('Kotak Pensil DQLab', 'prod-01', 62500),\n",
              " ('Tas Travel Organizer DQLab', 'prod-07', 48000)]"
            ],
            "text/html": [
              "<table>\n",
              "    <thead>\n",
              "        <tr>\n",
              "            <th>nama_produk</th>\n",
              "            <th>kode_produk</th>\n",
              "            <th>harga</th>\n",
              "        </tr>\n",
              "    </thead>\n",
              "    <tbody>\n",
              "        <tr>\n",
              "            <td>Flashdisk DQLab 32 GB</td>\n",
              "            <td>prod-04</td>\n",
              "            <td>40000</td>\n",
              "        </tr>\n",
              "        <tr>\n",
              "            <td>Flashdisk DQLab 64 GB</td>\n",
              "            <td>prod-02</td>\n",
              "            <td>55000</td>\n",
              "        </tr>\n",
              "        <tr>\n",
              "            <td>Gantungan Kunci DQLab</td>\n",
              "            <td>prod-08</td>\n",
              "            <td>15800</td>\n",
              "        </tr>\n",
              "        <tr>\n",
              "            <td>Kotak Pensil DQLab</td>\n",
              "            <td>prod-01</td>\n",
              "            <td>62500</td>\n",
              "        </tr>\n",
              "        <tr>\n",
              "            <td>Tas Travel Organizer DQLab</td>\n",
              "            <td>prod-07</td>\n",
              "            <td>48000</td>\n",
              "        </tr>\n",
              "    </tbody>\n",
              "</table>"
            ]
          },
          "metadata": {},
          "execution_count": 41
        }
      ]
    }
  ]
}