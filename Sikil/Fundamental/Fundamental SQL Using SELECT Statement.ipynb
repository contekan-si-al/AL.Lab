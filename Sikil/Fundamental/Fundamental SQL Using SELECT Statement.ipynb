{
  "nbformat": 4,
  "nbformat_minor": 0,
  "metadata": {
    "colab": {
      "name": "Fundamental SQL Using SELECT Statement.ipynb",
      "provenance": []
    },
    "kernelspec": {
      "name": "python3",
      "display_name": "Python 3"
    },
    "language_info": {
      "name": "python"
    }
  },
  "cells": [
    {
      "cell_type": "markdown",
      "source": [
        "## Mempersiapkan Database"
      ],
      "metadata": {
        "id": "iMPi4Nb9FyTa"
      }
    },
    {
      "cell_type": "code",
      "execution_count": 1,
      "metadata": {
        "colab": {
          "base_uri": "https://localhost:8080/"
        },
        "outputId": "6fbf0738-f436-4c71-eb7b-98a83e6c2a8b",
        "id": "77C4g4VIFyTb"
      },
      "outputs": [
        {
          "output_type": "stream",
          "name": "stdout",
          "text": [
            "Opened database successfully\n",
            "Table created successfully\n"
          ]
        }
      ],
      "source": [
        "# Membuat Tabel\n",
        "\n",
        "import sqlite3\n",
        "\n",
        "conn = sqlite3.connect('AL-Lab.db')\n",
        "print(\"Opened database successfully\");\n",
        "\n",
        "conn.execute('''\n",
        "CREATE TABLE IF NOT EXISTS ms_produk(no_urut, \n",
        "                      kode_produk, \n",
        "                      nama_produk,\n",
        "                      harga);\n",
        "             ''')\n",
        "\n",
        "conn.commit()\n",
        "\n",
        "print(\"Table created successfully\");\n",
        "\n",
        "#conn.close()"
      ]
    },
    {
      "cell_type": "code",
      "source": [
        "# Memasukkan Nilai\n",
        "\n",
        "conn.execute(\"INSERT INTO ms_produk VALUES(1, 'prod-01', 'Kotak Pensil DQLab', 62500);\")\n",
        "conn.execute(\"INSERT INTO ms_produk VALUES(2, 'prod-02', 'Flashdisk DQLab 64 GB', 55000);\")\n",
        "conn.execute(\"INSERT INTO ms_produk VALUES(3, 'prod-03', 'Gift Voucher DQLab 100rb', 100000);\")\n",
        "conn.execute(\"INSERT INTO ms_produk VALUES(4, 'prod-04', 'Flashdisk DQLab 32 GB', 40000);\")\n",
        "conn.execute(\"INSERT INTO ms_produk VALUES(5, 'prod-05', 'Gift Voucher DQLab 250rb', 250000);\")\n",
        "conn.execute(\"INSERT INTO ms_produk VALUES(6, 'prod-06', 'Pulpen Multifunction + Laser DQLab', 92500);\")\n",
        "conn.execute(\"INSERT INTO ms_produk VALUES(7, 'prod-07', 'Tas Travel Organizer DQLab', 48000);\")\n",
        "conn.execute(\"INSERT INTO ms_produk VALUES(8, 'prod-08', 'Gantungan Kunci DQLab', 15800);\")\n",
        "conn.execute(\"INSERT INTO ms_produk VALUES(9, 'prod-09', 'Buku Planner Agenda DQLab', 92000);\")\n",
        "conn.execute(\"INSERT INTO ms_produk VALUES(10, 'prod-10', 'Sticky Notes DQLab 500 sheets', 55000);\")\n",
        "\n",
        "conn.commit()"
      ],
      "metadata": {
        "id": "Vk34jhpcFyTc"
      },
      "execution_count": 2,
      "outputs": []
    },
    {
      "cell_type": "code",
      "source": [
        "conn.execute('''\n",
        "CREATE TABLE IF NOT EXISTS ms_pelanggan(no_urut, \n",
        "                      kode_pelanggan, \n",
        "                      nama_customer,\n",
        "                      alamat);\n",
        "             ''')\n",
        "\n",
        "conn.commit()\n",
        "\n",
        "print(\"Table created successfully\");\n",
        "\n",
        "#conn.close()"
      ],
      "metadata": {
        "colab": {
          "base_uri": "https://localhost:8080/"
        },
        "outputId": "b3069d09-6c41-4d73-b5c8-43f14e7ffac4",
        "id": "H2sCUrDdFyTd"
      },
      "execution_count": 3,
      "outputs": [
        {
          "output_type": "stream",
          "name": "stdout",
          "text": [
            "Table created successfully\n"
          ]
        }
      ]
    },
    {
      "cell_type": "code",
      "source": [
        "# Memasukkan Nilai\n",
        "\n",
        "conn.execute(\"INSERT INTO ms_pelanggan VALUES(1, 'al-cust01', 'Eva Novianti, S.H.', 'Vila Sempilan, No. 67 - Kota B');\")\n",
        "conn.execute(\"INSERT INTO ms_pelanggan VALUES(2, 'al-cust02', 'Heidi Goh', 'Vila Sempilan, No. 11 - Kota B');\")\n",
        "conn.execute(\"INSERT INTO ms_pelanggan VALUES(3, 'al-cust03', 'Unang Handoko', 'Vila Sempilan, No. 1 - Kota B');\")\n",
        "conn.execute(\"INSERT INTO ms_pelanggan VALUES(4, 'al-cust04', 'Jokolono Sukarman', 'Vila Permata Intan Berkilau, Blok C5-7');\")\n",
        "conn.execute(\"INSERT INTO ms_pelanggan VALUES(5, 'al-cust05', 'Tommy Sinaga', 'Vila Permata Intan Berkilau, Blok A1/2');\")\n",
        "conn.execute(\"INSERT INTO ms_pelanggan VALUES(6, 'al-cust06', 'Irwan Setianto', 'Vila Gunung Seribu, Blok O1 - No. 1');\")\n",
        "conn.execute(\"INSERT INTO ms_pelanggan VALUES(7, 'al-cust07', 'Agus Cahyono', 'Vila Gunung Seribu, Blok F4 - No. 8');\")\n",
        "conn.execute(\"INSERT INTO ms_pelanggan VALUES(8, 'al-cust08', 'Maria Sirait', 'Vila Bukit Sagitarius, Gang. Sawit No. 3');\")\n",
        "conn.execute(\"INSERT INTO ms_pelanggan VALUES(9, 'al-cust09', 'Ir. Ita Nugraha', 'Vila Bukit Sagitarius, Gang Kelapa No. 6');\")\n",
        "conn.execute(\"INSERT INTO ms_pelanggan VALUES(10, 'al-cust10', 'Djoko Wardoyo, Drs.', 'Vila Bukit Sagitarius, Blok A1 No. 1');\")\n",
        "conn.execute(\"INSERT INTO ms_pelanggan VALUES(11, 'al-cust11', 'Unang Handoko', 'Vila Sempilan, No. 1 - Kota B');\")\n",
        "conn.execute(\"INSERT INTO ms_pelanggan VALUES(12, 'al-cust12', 'Tommy Sinaga', 'Vila Permata Intan Berkilau, Blok A1/2');\")\n",
        "\n",
        "conn.commit()"
      ],
      "metadata": {
        "id": "GqweZXNRFyTd"
      },
      "execution_count": 4,
      "outputs": []
    },
    {
      "cell_type": "markdown",
      "source": [
        "## Penggunaan Perintah SELECT… FROM…"
      ],
      "metadata": {
        "id": "PXM5wql3FyTd"
      }
    },
    {
      "cell_type": "markdown",
      "source": [
        "#### [Mengambil Seluruh Kolom dalam suatu Tabel](https://academy.dqlab.id/main/livecode/213/385/1898?pr=0)"
      ],
      "metadata": {
        "id": "K3B2tzwkFyTd"
      }
    },
    {
      "cell_type": "code",
      "source": [
        "# Melihat Tabel\n",
        "\n",
        "conn = sqlite3.connect('AL-Lab.db')\n",
        "\n",
        "cursor = conn.execute('''\n",
        "                      SELECT * FROM ms_produk;\n",
        "                      ''')\n",
        "\n",
        "for row in cursor:\n",
        "  print(row)\n",
        "#conn.close()"
      ],
      "metadata": {
        "colab": {
          "base_uri": "https://localhost:8080/"
        },
        "outputId": "3e90a276-c42f-42ce-d87c-1f92caea91cd",
        "id": "6Nw6wBRsFyTe"
      },
      "execution_count": 5,
      "outputs": [
        {
          "output_type": "stream",
          "name": "stdout",
          "text": [
            "(1, 'prod-01', 'Kotak Pensil DQLab', 62500)\n",
            "(2, 'prod-02', 'Flashdisk DQLab 64 GB', 55000)\n",
            "(3, 'prod-03', 'Gift Voucher DQLab 100rb', 100000)\n",
            "(4, 'prod-04', 'Flashdisk DQLab 32 GB', 40000)\n",
            "(5, 'prod-05', 'Gift Voucher DQLab 250rb', 250000)\n",
            "(6, 'prod-06', 'Pulpen Multifunction + Laser DQLab', 92500)\n",
            "(7, 'prod-07', 'Tas Travel Organizer DQLab', 48000)\n",
            "(8, 'prod-08', 'Gantungan Kunci DQLab', 15800)\n",
            "(9, 'prod-09', 'Buku Planner Agenda DQLab', 92000)\n",
            "(10, 'prod-10', 'Sticky Notes DQLab 500 sheets', 55000)\n"
          ]
        }
      ]
    },
    {
      "cell_type": "markdown",
      "source": [
        "#### [Mengambil Satu Kolom dari Tabel](https://academy.dqlab.id/main/livecode/213/385/1899?pr=0)"
      ],
      "metadata": {
        "id": "ZBpaUSttFyTe"
      }
    },
    {
      "cell_type": "code",
      "source": [
        "# Melihat kolom nama_produk\n",
        "\n",
        "conn = sqlite3.connect('AL-Lab.db')\n",
        "\n",
        "cursor = conn.execute('''\n",
        "                      SELECT nama_produk FROM ms_produk;\n",
        "                      ''')\n",
        "\n",
        "for row in cursor:\n",
        "  print(row)\n",
        "#conn.close()"
      ],
      "metadata": {
        "colab": {
          "base_uri": "https://localhost:8080/"
        },
        "outputId": "3e5eac36-8a26-42b9-c759-4582270e4d16",
        "id": "y_k5JsxGFyTe"
      },
      "execution_count": 6,
      "outputs": [
        {
          "output_type": "stream",
          "name": "stdout",
          "text": [
            "('Kotak Pensil DQLab',)\n",
            "('Flashdisk DQLab 64 GB',)\n",
            "('Gift Voucher DQLab 100rb',)\n",
            "('Flashdisk DQLab 32 GB',)\n",
            "('Gift Voucher DQLab 250rb',)\n",
            "('Pulpen Multifunction + Laser DQLab',)\n",
            "('Tas Travel Organizer DQLab',)\n",
            "('Gantungan Kunci DQLab',)\n",
            "('Buku Planner Agenda DQLab',)\n",
            "('Sticky Notes DQLab 500 sheets',)\n"
          ]
        }
      ]
    },
    {
      "cell_type": "markdown",
      "source": [
        "#### [Mengambil Lebih dari Satu Kolom dari Tabel](https://academy.dqlab.id/main/livecode/213/385/1901?pr=0)"
      ],
      "metadata": {
        "id": "92SDtknFFyTe"
      }
    },
    {
      "cell_type": "code",
      "source": [
        "# Melihat kolom nama_produk dan harga\n",
        "\n",
        "conn = sqlite3.connect('AL-Lab.db')\n",
        "\n",
        "cursor = conn.execute('''\n",
        "                      SELECT nama_produk, harga FROM ms_produk;\n",
        "                      ''')\n",
        "\n",
        "for row in cursor:\n",
        "  print(row)\n",
        "#conn.close()"
      ],
      "metadata": {
        "colab": {
          "base_uri": "https://localhost:8080/"
        },
        "outputId": "d7240cae-d4fe-4a5f-c1d0-9074f648bd39",
        "id": "JHffOzeyFyTf"
      },
      "execution_count": 7,
      "outputs": [
        {
          "output_type": "stream",
          "name": "stdout",
          "text": [
            "('Kotak Pensil DQLab', 62500)\n",
            "('Flashdisk DQLab 64 GB', 55000)\n",
            "('Gift Voucher DQLab 100rb', 100000)\n",
            "('Flashdisk DQLab 32 GB', 40000)\n",
            "('Gift Voucher DQLab 250rb', 250000)\n",
            "('Pulpen Multifunction + Laser DQLab', 92500)\n",
            "('Tas Travel Organizer DQLab', 48000)\n",
            "('Gantungan Kunci DQLab', 15800)\n",
            "('Buku Planner Agenda DQLab', 92000)\n",
            "('Sticky Notes DQLab 500 sheets', 55000)\n"
          ]
        }
      ]
    },
    {
      "cell_type": "markdown",
      "source": [
        "#### [Membatasi Pengambilan Jumlah Row Data](https://academy.dqlab.id/main/livecode/213/385/1903?pr=0)"
      ],
      "metadata": {
        "id": "lu4jUhXhFyTf"
      }
    },
    {
      "cell_type": "code",
      "source": [
        "# Melihat 3 baris data kolom nama_produk\n",
        "\n",
        "conn = sqlite3.connect('AL-Lab.db')\n",
        "\n",
        "cursor = conn.execute('''\n",
        "                      SELECT nama_produk, harga FROM ms_produk LIMIT 5;\n",
        "                      ''')\n",
        "\n",
        "for row in cursor:\n",
        "  print(row)\n",
        "#conn.close()"
      ],
      "metadata": {
        "colab": {
          "base_uri": "https://localhost:8080/"
        },
        "outputId": "14d94dd9-6fdc-42e4-ed64-27a2f8a29d20",
        "id": "TJS1-2q4FyTf"
      },
      "execution_count": 8,
      "outputs": [
        {
          "output_type": "stream",
          "name": "stdout",
          "text": [
            "('Kotak Pensil DQLab', 62500)\n",
            "('Flashdisk DQLab 64 GB', 55000)\n",
            "('Gift Voucher DQLab 100rb', 100000)\n",
            "('Flashdisk DQLab 32 GB', 40000)\n",
            "('Gift Voucher DQLab 250rb', 250000)\n"
          ]
        }
      ]
    },
    {
      "cell_type": "markdown",
      "source": [
        "#### [Penggunaan SELECT DISTINCT statement](https://academy.dqlab.id/main/livecode/213/385/1988?pr=0)"
      ],
      "metadata": {
        "id": "6KCMKWCMFyTf"
      }
    },
    {
      "cell_type": "code",
      "source": [
        "# Melihat kolom nama_customer, lamat tanpa duplikasi\n",
        "\n",
        "conn = sqlite3.connect('AL-Lab.db')\n",
        "\n",
        "cursor = conn.execute('''\n",
        "                      SELECT DISTINCT nama_customer, alamat FROM ms_pelanggan;\n",
        "                      ''')\n",
        "\n",
        "for row in cursor:\n",
        "  print(row)\n",
        "#conn.close()"
      ],
      "metadata": {
        "colab": {
          "base_uri": "https://localhost:8080/"
        },
        "outputId": "eaa950c7-bfa3-46e3-aeb6-16711cc046ad",
        "id": "wnyMt81wFyTg"
      },
      "execution_count": 11,
      "outputs": [
        {
          "output_type": "stream",
          "name": "stdout",
          "text": [
            "('Eva Novianti, S.H.', 'Vila Sempilan, No. 67 - Kota B')\n",
            "('Heidi Goh', 'Vila Sempilan, No. 11 - Kota B')\n",
            "('Unang Handoko', 'Vila Sempilan, No. 1 - Kota B')\n",
            "('Jokolono Sukarman', 'Vila Permata Intan Berkilau, Blok C5-7')\n",
            "('Tommy Sinaga', 'Vila Permata Intan Berkilau, Blok A1/2')\n",
            "('Irwan Setianto', 'Vila Gunung Seribu, Blok O1 - No. 1')\n",
            "('Agus Cahyono', 'Vila Gunung Seribu, Blok F4 - No. 8')\n",
            "('Maria Sirait', 'Vila Bukit Sagitarius, Gang. Sawit No. 3')\n",
            "('Ir. Ita Nugraha', 'Vila Bukit Sagitarius, Gang Kelapa No. 6')\n",
            "('Djoko Wardoyo, Drs.', 'Vila Bukit Sagitarius, Blok A1 No. 1')\n"
          ]
        }
      ]
    },
    {
      "cell_type": "markdown",
      "source": [
        "## Prefix dan Alias"
      ],
      "metadata": {
        "id": "m9iM4t46FyTg"
      }
    },
    {
      "cell_type": "markdown",
      "source": [
        "#### [Menggunakan Prefix pada Nama Kolom](https://academy.dqlab.id/main/livecode/213/386/1907?pr=0)"
      ],
      "metadata": {
        "id": "vVAs6Ej_Ghqp"
      }
    },
    {
      "cell_type": "code",
      "source": [
        "# Melihat kolom kode_produk menggunakan prefix nama tabel\n",
        "\n",
        "conn = sqlite3.connect('AL-Lab.db')\n",
        "\n",
        "cursor = conn.execute('''\n",
        "                      SELECT ms_produk.kode_produk FROM ms_produk;\n",
        "                      ''')\n",
        "\n",
        "for row in cursor:\n",
        "  print(row)\n",
        "#conn.close()"
      ],
      "metadata": {
        "colab": {
          "base_uri": "https://localhost:8080/"
        },
        "id": "-BaCSD1wGk4b",
        "outputId": "a05c1590-a571-4e54-dd05-69653a6bf3f2"
      },
      "execution_count": 12,
      "outputs": [
        {
          "output_type": "stream",
          "name": "stdout",
          "text": [
            "('prod-01',)\n",
            "('prod-02',)\n",
            "('prod-03',)\n",
            "('prod-04',)\n",
            "('prod-05',)\n",
            "('prod-06',)\n",
            "('prod-07',)\n",
            "('prod-08',)\n",
            "('prod-09',)\n",
            "('prod-10',)\n"
          ]
        }
      ]
    },
    {
      "cell_type": "markdown",
      "source": [
        "#### [Menggunakan Alias pada Kolom](https://academy.dqlab.id/main/livecode/213/386/1909?pr=0)"
      ],
      "metadata": {
        "id": "WalaErNhHA-5"
      }
    },
    {
      "cell_type": "code",
      "source": [
        "# Menerapkan alias pada kolom no_urut dan nama_produk\n",
        "\n",
        "conn = sqlite3.connect('AL-Lab.db')\n",
        "\n",
        "cursor = conn.execute('''\n",
        "                      SELECT no_urut AS nomor, nama_produk AS nama FROM ms_produk;\n",
        "                      ''')\n",
        "\n",
        "for row in cursor:\n",
        "  print(row)\n",
        "#conn.close()"
      ],
      "metadata": {
        "colab": {
          "base_uri": "https://localhost:8080/"
        },
        "id": "ohxzI1ptHEhP",
        "outputId": "11e8c665-b0dd-488e-80e1-f88b45f84864"
      },
      "execution_count": 13,
      "outputs": [
        {
          "output_type": "stream",
          "name": "stdout",
          "text": [
            "(1, 'Kotak Pensil DQLab')\n",
            "(2, 'Flashdisk DQLab 64 GB')\n",
            "(3, 'Gift Voucher DQLab 100rb')\n",
            "(4, 'Flashdisk DQLab 32 GB')\n",
            "(5, 'Gift Voucher DQLab 250rb')\n",
            "(6, 'Pulpen Multifunction + Laser DQLab')\n",
            "(7, 'Tas Travel Organizer DQLab')\n",
            "(8, 'Gantungan Kunci DQLab')\n",
            "(9, 'Buku Planner Agenda DQLab')\n",
            "(10, 'Sticky Notes DQLab 500 sheets')\n"
          ]
        }
      ]
    },
    {
      "cell_type": "markdown",
      "source": [
        "#### [Menghilangkan Keyword 'AS'](https://academy.dqlab.id/main/livecode/213/386/1911?pr=0)"
      ],
      "metadata": {
        "id": "SyaVDc-UHgpp"
      }
    },
    {
      "cell_type": "code",
      "source": [
        "# Menerapkan alias pada kolom no_urut dan nama_produk tanpa keyword AS\n",
        "\n",
        "conn = sqlite3.connect('AL-Lab.db')\n",
        "\n",
        "cursor = conn.execute('''\n",
        "                      SELECT no_urut nomor, nama_produk nama FROM ms_produk;\n",
        "                      ''')\n",
        "\n",
        "for row in cursor:\n",
        "  print(row)\n",
        "#conn.close()"
      ],
      "metadata": {
        "colab": {
          "base_uri": "https://localhost:8080/"
        },
        "id": "47ehVSCkHmYR",
        "outputId": "aced04da-e248-4a8a-ddc4-0a12dd02a3e0"
      },
      "execution_count": 14,
      "outputs": [
        {
          "output_type": "stream",
          "name": "stdout",
          "text": [
            "(1, 'Kotak Pensil DQLab')\n",
            "(2, 'Flashdisk DQLab 64 GB')\n",
            "(3, 'Gift Voucher DQLab 100rb')\n",
            "(4, 'Flashdisk DQLab 32 GB')\n",
            "(5, 'Gift Voucher DQLab 250rb')\n",
            "(6, 'Pulpen Multifunction + Laser DQLab')\n",
            "(7, 'Tas Travel Organizer DQLab')\n",
            "(8, 'Gantungan Kunci DQLab')\n",
            "(9, 'Buku Planner Agenda DQLab')\n",
            "(10, 'Sticky Notes DQLab 500 sheets')\n"
          ]
        }
      ]
    },
    {
      "cell_type": "markdown",
      "source": [
        "#### [Menggabungkan Prefix dan Alias](https://academy.dqlab.id/main/livecode/213/386/1913?pr=0)"
      ],
      "metadata": {
        "id": "T-1KOKPyH9n4"
      }
    },
    {
      "cell_type": "code",
      "source": [
        "# Menerapkan prefix dan alias pada kolom harga\n",
        "\n",
        "conn = sqlite3.connect('AL-Lab.db')\n",
        "\n",
        "cursor = conn.execute('''\n",
        "                      SELECT ms_produk.harga AS harga_jual from ms_produk;\n",
        "                      ''')\n",
        "\n",
        "for row in cursor:\n",
        "  print(row)\n",
        "#conn.close()"
      ],
      "metadata": {
        "colab": {
          "base_uri": "https://localhost:8080/"
        },
        "id": "bRwLx7cYIBJw",
        "outputId": "abd07710-8c8d-4c4d-97f3-29bf27ab2b9e"
      },
      "execution_count": 15,
      "outputs": [
        {
          "output_type": "stream",
          "name": "stdout",
          "text": [
            "(62500,)\n",
            "(55000,)\n",
            "(100000,)\n",
            "(40000,)\n",
            "(250000,)\n",
            "(92500,)\n",
            "(48000,)\n",
            "(15800,)\n",
            "(92000,)\n",
            "(55000,)\n"
          ]
        }
      ]
    },
    {
      "cell_type": "markdown",
      "source": [
        "#### [Menggunakan Alias pada Tabel](https://academy.dqlab.id/main/livecode/213/386/1914?pr=0)"
      ],
      "metadata": {
        "id": "Sx0Wo9YuIRIh"
      }
    },
    {
      "cell_type": "code",
      "source": [
        "# Menerapkan alias pada tabel tanpa keyword AS\n",
        "\n",
        "conn = sqlite3.connect('AL-Lab.db')\n",
        "\n",
        "cursor = conn.execute('''\n",
        "                      SELECT * FROM ms_produk t2;\n",
        "                      ''')\n",
        "\n",
        "for row in cursor:\n",
        "  print(row)\n",
        "#conn.close()"
      ],
      "metadata": {
        "colab": {
          "base_uri": "https://localhost:8080/"
        },
        "id": "5OAVZhfOIUWl",
        "outputId": "67cd723c-9eaf-43c2-9b15-3b5d40c6084e"
      },
      "execution_count": 16,
      "outputs": [
        {
          "output_type": "stream",
          "name": "stdout",
          "text": [
            "(1, 'prod-01', 'Kotak Pensil DQLab', 62500)\n",
            "(2, 'prod-02', 'Flashdisk DQLab 64 GB', 55000)\n",
            "(3, 'prod-03', 'Gift Voucher DQLab 100rb', 100000)\n",
            "(4, 'prod-04', 'Flashdisk DQLab 32 GB', 40000)\n",
            "(5, 'prod-05', 'Gift Voucher DQLab 250rb', 250000)\n",
            "(6, 'prod-06', 'Pulpen Multifunction + Laser DQLab', 92500)\n",
            "(7, 'prod-07', 'Tas Travel Organizer DQLab', 48000)\n",
            "(8, 'prod-08', 'Gantungan Kunci DQLab', 15800)\n",
            "(9, 'prod-09', 'Buku Planner Agenda DQLab', 92000)\n",
            "(10, 'prod-10', 'Sticky Notes DQLab 500 sheets', 55000)\n"
          ]
        }
      ]
    },
    {
      "cell_type": "markdown",
      "source": [
        "#### [Prefix dengan Alias Tabel](https://academy.dqlab.id/main/livecode/213/386/1915?pr=0)"
      ],
      "metadata": {
        "id": "z2xHsFgXIgvL"
      }
    },
    {
      "cell_type": "code",
      "source": [
        "# Menerapkan alias pada tabel tanpa keyword AS, prefix pada kolom nama_produk dan harga\n",
        "\n",
        "conn = sqlite3.connect('AL-Lab.db')\n",
        "\n",
        "cursor = conn.execute('''\n",
        "                      SELECT t2.nama_produk, t2.harga FROM ms_produk t2;\n",
        "                      ''')\n",
        "\n",
        "for row in cursor:\n",
        "  print(row)\n",
        "#conn.close()"
      ],
      "metadata": {
        "colab": {
          "base_uri": "https://localhost:8080/"
        },
        "id": "gzpBo2nKIj-K",
        "outputId": "3a842888-fa8c-49a4-e9bb-13bf564921da"
      },
      "execution_count": 17,
      "outputs": [
        {
          "output_type": "stream",
          "name": "stdout",
          "text": [
            "('Kotak Pensil DQLab', 62500)\n",
            "('Flashdisk DQLab 64 GB', 55000)\n",
            "('Gift Voucher DQLab 100rb', 100000)\n",
            "('Flashdisk DQLab 32 GB', 40000)\n",
            "('Gift Voucher DQLab 250rb', 250000)\n",
            "('Pulpen Multifunction + Laser DQLab', 92500)\n",
            "('Tas Travel Organizer DQLab', 48000)\n",
            "('Gantungan Kunci DQLab', 15800)\n",
            "('Buku Planner Agenda DQLab', 92000)\n",
            "('Sticky Notes DQLab 500 sheets', 55000)\n"
          ]
        }
      ]
    },
    {
      "cell_type": "markdown",
      "source": [
        "## Menggunakan Filter"
      ],
      "metadata": {
        "id": "XuI4qUf5FyTg"
      }
    },
    {
      "cell_type": "markdown",
      "source": [
        "#### [Menggunakan WHERE](https://academy.dqlab.id/main/livecode/213/387/1919?pr=0)"
      ],
      "metadata": {
        "id": "9TCAfK4SI5MI"
      }
    },
    {
      "cell_type": "code",
      "source": [
        "# Mengeluarkan data nama_produk bernilai \"Tas Travel Organizer DQLab\"\n",
        "\n",
        "conn = sqlite3.connect('AL-Lab.db')\n",
        "\n",
        "cursor = conn.execute('''\n",
        "                      SELECT * FROM ms_produk WHERE nama_produk = 'Tas Travel Organizer DQLab';\n",
        "                      ''')\n",
        "\n",
        "for row in cursor:\n",
        "  print(row)\n",
        "#conn.close()"
      ],
      "metadata": {
        "colab": {
          "base_uri": "https://localhost:8080/"
        },
        "id": "OGZ7xUgRI8eY",
        "outputId": "22cc56e1-b25e-4f97-e259-87df990569eb"
      },
      "execution_count": 18,
      "outputs": [
        {
          "output_type": "stream",
          "name": "stdout",
          "text": [
            "(7, 'prod-07', 'Tas Travel Organizer DQLab', 48000)\n"
          ]
        }
      ]
    },
    {
      "cell_type": "markdown",
      "source": [
        "#### [Menggunakan Operand OR](https://academy.dqlab.id/main/livecode/213/387/1920?pr=0)"
      ],
      "metadata": {
        "id": "vTtVYWsYJJXU"
      }
    },
    {
      "cell_type": "code",
      "source": [
        "# Mengeluarkan beberapa data nama_produk dengan kriteria tertentu\n",
        "\n",
        "conn = sqlite3.connect('AL-Lab.db')\n",
        "\n",
        "cursor = conn.execute('''\n",
        "                      SELECT * FROM ms_produk\n",
        "                      WHERE nama_produk = 'Gantungan Kunci DQLab'\n",
        "                      OR nama_produk = 'Tas Travel Organizer DQLab'\n",
        "                      OR nama_produk = 'Flashdisk DQLab 64 GB';\n",
        "                      ''')\n",
        "\n",
        "for row in cursor:\n",
        "  print(row)\n",
        "#conn.close()"
      ],
      "metadata": {
        "colab": {
          "base_uri": "https://localhost:8080/"
        },
        "id": "-AK_xgz-JMqI",
        "outputId": "d2038b81-5bc9-4267-80c7-9258aec7d802"
      },
      "execution_count": 19,
      "outputs": [
        {
          "output_type": "stream",
          "name": "stdout",
          "text": [
            "(2, 'prod-02', 'Flashdisk DQLab 64 GB', 55000)\n",
            "(7, 'prod-07', 'Tas Travel Organizer DQLab', 48000)\n",
            "(8, 'prod-08', 'Gantungan Kunci DQLab', 15800)\n"
          ]
        }
      ]
    },
    {
      "cell_type": "markdown",
      "source": [
        "#### [Filter untuk Angka](https://academy.dqlab.id/main/livecode/213/387/1921?pr=0)"
      ],
      "metadata": {
        "id": "5BrOXSSpJZGE"
      }
    },
    {
      "cell_type": "code",
      "source": [
        "# Mengeluarkan data dengan harga lebih dari 50.000\n",
        "\n",
        "conn = sqlite3.connect('AL-Lab.db')\n",
        "\n",
        "cursor = conn.execute('''\n",
        "                      SELECT * FROM ms_produk WHERE harga > 50000;\n",
        "                      ''')\n",
        "\n",
        "for row in cursor:\n",
        "  print(row)\n",
        "#conn.close()"
      ],
      "metadata": {
        "colab": {
          "base_uri": "https://localhost:8080/"
        },
        "id": "YnJhSJPDJcVE",
        "outputId": "4928eef8-be88-435a-c6e4-edc85f93f429"
      },
      "execution_count": 20,
      "outputs": [
        {
          "output_type": "stream",
          "name": "stdout",
          "text": [
            "(1, 'prod-01', 'Kotak Pensil DQLab', 62500)\n",
            "(2, 'prod-02', 'Flashdisk DQLab 64 GB', 55000)\n",
            "(3, 'prod-03', 'Gift Voucher DQLab 100rb', 100000)\n",
            "(5, 'prod-05', 'Gift Voucher DQLab 250rb', 250000)\n",
            "(6, 'prod-06', 'Pulpen Multifunction + Laser DQLab', 92500)\n",
            "(9, 'prod-09', 'Buku Planner Agenda DQLab', 92000)\n",
            "(10, 'prod-10', 'Sticky Notes DQLab 500 sheets', 55000)\n"
          ]
        }
      ]
    },
    {
      "cell_type": "markdown",
      "source": [
        "#### [Menggunakan Operand AND](https://academy.dqlab.id/main/livecode/213/387/1924?pr=0)"
      ],
      "metadata": {
        "id": "_1VyzJ-pJnEs"
      }
    },
    {
      "cell_type": "code",
      "source": [
        "# Mengeluarkan data dengan nama produk dan harga tertentu\n",
        "\n",
        "conn = sqlite3.connect('AL-Lab.db')\n",
        "\n",
        "cursor = conn.execute('''\n",
        "                      SELECT * FROM ms_produk\n",
        "                      WHERE nama_produk = 'Gantungan Kunci DQLab'\n",
        "                      AND harga < 50000;\n",
        "                      ''')\n",
        "\n",
        "for row in cursor:\n",
        "  print(row)\n",
        "#conn.close()"
      ],
      "metadata": {
        "colab": {
          "base_uri": "https://localhost:8080/"
        },
        "id": "A-MCZxgdJqLB",
        "outputId": "f242b204-a6e1-484a-820d-0d2a511d98dc"
      },
      "execution_count": 21,
      "outputs": [
        {
          "output_type": "stream",
          "name": "stdout",
          "text": [
            "(8, 'prod-08', 'Gantungan Kunci DQLab', 15800)\n"
          ]
        }
      ]
    },
    {
      "cell_type": "markdown",
      "source": [
        "## Mini Project"
      ],
      "metadata": {
        "id": "slWV3tY-FyTg"
      }
    },
    {
      "cell_type": "markdown",
      "source": [
        "#### [Proyek dari Cabang A](https://academy.dqlab.id/main/livecode/213/388/1929?pr=0)"
      ],
      "metadata": {
        "id": "MVNxFbovRVIM"
      }
    },
    {
      "cell_type": "code",
      "source": [
        "conn.execute('''\n",
        "CREATE TABLE IF NOT EXISTS tr_penjualan(\n",
        "                      kode_transaksi, \n",
        "                      kode_pelanggan, \n",
        "                      no_urut,\n",
        "                      kode_produk,\n",
        "                      nama_produk,\n",
        "                      qty,\n",
        "                      harga);\n",
        "             ''')\n",
        "\n",
        "conn.commit()\n",
        "\n",
        "print(\"Table created successfully\");\n",
        "\n",
        "#conn.close()"
      ],
      "metadata": {
        "colab": {
          "base_uri": "https://localhost:8080/"
        },
        "id": "hRBzvY8GR0NP",
        "outputId": "63ce16bf-eb9e-4462-ab43-1df2496bd128"
      },
      "execution_count": 23,
      "outputs": [
        {
          "output_type": "stream",
          "name": "stdout",
          "text": [
            "Table created successfully\n"
          ]
        }
      ]
    },
    {
      "cell_type": "code",
      "source": [
        "# Memasukkan Nilai\n",
        "\n",
        "conn.execute(\"INSERT INTO tr_penjualan VALUES('tr-001', 'al-cust07', 1, 'prod-01', 'Kotak Pensil', 5, 62500);\")\n",
        "conn.execute(\"INSERT INTO tr_penjualan VALUES('tr-001', 'al-cust07', 2, 'prod-03', 'Flashdrive 32 GB', 1, 100000);\")\n",
        "conn.execute(\"INSERT INTO tr_penjualan VALUES('tr-001', 'al-cust07', 3, 'prod-09', 'Buku Planner Agenda', 3, 92000);\")\n",
        "conn.execute(\"INSERT INTO tr_penjualan VALUES('tr-001', 'al-cust07', 4, 'prod-04', 'Flashdrive 32 GB', 3, 40000);\")\n",
        "conn.execute(\"INSERT INTO tr_penjualan VALUES('tr-002', 'al-cust01', 1, 'prod-03', 'Gift Voucher 100rb', 2, 100000);\")\n",
        "conn.execute(\"INSERT INTO tr_penjualan VALUES('tr-002', 'al-cust01', 2, 'prod-10', 'Sticky Notes 500 sheets', 4, 55000);\")\n",
        "conn.execute(\"INSERT INTO tr_penjualan VALUES('tr-002', 'al-cust01', 3, 'prod-07', 'Tas Travel Organizer', 1, 48000);\")\n",
        "conn.execute(\"INSERT INTO tr_penjualan VALUES('tr-003', 'al-cust03', 1, 'prod-02', 'Flashdrive 64 GB', 2, 55000);\")\n",
        "conn.execute(\"INSERT INTO tr_penjualan VALUES('tr-004', 'al-cust03', 1, 'prod-10', 'Sticky Notes 500 sheets', 5, 55000);\")\n",
        "conn.execute(\"INSERT INTO tr_penjualan VALUES('tr-004', 'al-cust03', 2, 'prod-04', 'Flashdrive 32 GB', 4, 40000);\")\n",
        "conn.execute(\"INSERT INTO tr_penjualan VALUES('tr-005', 'al-cust05', 1, 'prod-09', 'Buku Planner Agenda', 3, 92000);\")\n",
        "conn.execute(\"INSERT INTO tr_penjualan VALUES('tr-005', 'al-cust05', 2, 'prod-01', 'Kotak Pensil', 1, 62500);\")\n",
        "conn.execute(\"INSERT INTO tr_penjualan VALUES('tr-005', 'al-cust05', 3, 'prod-04', 'Flashdrive 32 GB', 2, 40000);\")\n",
        "conn.execute(\"INSERT INTO tr_penjualan VALUES('tr-006', 'al-cust02', 1, 'prod-05', 'Gift Voucher 250rb', 4, 250000);\")\n",
        "conn.execute(\"INSERT INTO tr_penjualan VALUES('tr-006', 'al-cust02', 2, 'prod-08', 'Gantungan Kunci', 2, 15800);\")\n",
        "\n",
        "conn.commit()"
      ],
      "metadata": {
        "id": "_sX0i2zXRzct"
      },
      "execution_count": 25,
      "outputs": []
    },
    {
      "cell_type": "code",
      "source": [
        "# Mengeluarkan data dengan nama produk dan harga tertentu\n",
        "\n",
        "conn = sqlite3.connect('AL-Lab.db')\n",
        "\n",
        "cursor = conn.execute('''\n",
        "                      SELECT kode_pelanggan, nama_produk, qty, harga, qty * harga AS total\n",
        "                      FROM tr_penjualan\n",
        "                      WHERE qty*harga >=100000\n",
        "                      ORDER BY total DESC;\n",
        "                      ''')\n",
        "\n",
        "for row in cursor:\n",
        "  print(row)\n",
        "#conn.close()"
      ],
      "metadata": {
        "colab": {
          "base_uri": "https://localhost:8080/"
        },
        "id": "dOgAJjE7RYIX",
        "outputId": "cbae3061-d258-4656-8edb-4e8f0507fe16"
      },
      "execution_count": 26,
      "outputs": [
        {
          "output_type": "stream",
          "name": "stdout",
          "text": [
            "('al-cust02', 'Gift Voucher 250rb', 4, 250000, 1000000)\n",
            "('al-cust07', 'Kotak Pensil', 5, 62500, 312500)\n",
            "('al-cust07', 'Buku Planner Agenda', 3, 92000, 276000)\n",
            "('al-cust05', 'Buku Planner Agenda', 3, 92000, 276000)\n",
            "('al-cust03', 'Sticky Notes 500 sheets', 5, 55000, 275000)\n",
            "('al-cust01', 'Sticky Notes 500 sheets', 4, 55000, 220000)\n",
            "('al-cust01', 'Gift Voucher 100rb', 2, 100000, 200000)\n",
            "('al-cust03', 'Flashdrive 32 GB', 4, 40000, 160000)\n",
            "('al-cust07', 'Flashdrive 32 GB', 3, 40000, 120000)\n",
            "('al-cust03', 'Flashdrive 64 GB', 2, 55000, 110000)\n",
            "('al-cust07', 'Flashdrive 32 GB', 1, 100000, 100000)\n"
          ]
        }
      ]
    }
  ]
}