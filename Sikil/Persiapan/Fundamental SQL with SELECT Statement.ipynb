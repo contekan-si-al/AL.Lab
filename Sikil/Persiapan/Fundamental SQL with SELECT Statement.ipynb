{
  "nbformat": 4,
  "nbformat_minor": 0,
  "metadata": {
    "colab": {
      "name": "Fundamental SQL with SELECT Statement.ipynb",
      "provenance": []
    },
    "kernelspec": {
      "name": "python3",
      "display_name": "Python 3"
    },
    "language_info": {
      "name": "python"
    }
  },
  "cells": [
    {
      "cell_type": "markdown",
      "source": [
        "## SQL dan Perintah SELECT"
      ],
      "metadata": {
        "id": "xw8U6a4kSwg3"
      }
    },
    {
      "cell_type": "code",
      "execution_count": 1,
      "metadata": {
        "colab": {
          "base_uri": "https://localhost:8080/"
        },
        "id": "V7tFaCZDNy6L",
        "outputId": "65e8f62f-e46a-4539-edf5-2642f64d1b1b"
      },
      "outputs": [
        {
          "output_type": "stream",
          "name": "stdout",
          "text": [
            "Opened database successfully\n",
            "Table created successfully\n"
          ]
        }
      ],
      "source": [
        "# Membuat Tabel\n",
        "\n",
        "import sqlite3\n",
        "\n",
        "conn = sqlite3.connect('produk.db')\n",
        "print(\"Opened database successfully\");\n",
        "\n",
        "conn.execute('''\n",
        "CREATE TABLE IF NOT EXISTS ms_produk(no_urut, \n",
        "                      kode_produk, \n",
        "                      nama_produk,\n",
        "                      harga);\n",
        "             ''')\n",
        "\n",
        "conn.commit()\n",
        "\n",
        "print(\"Table created successfully\");\n",
        "\n",
        "#conn.close()"
      ]
    },
    {
      "cell_type": "code",
      "source": [
        "# Memasukkan Nilai\n",
        "\n",
        "conn.execute(\"INSERT INTO ms_produk VALUES(1, 'prod-01', 'Kotak Pensil DQLab', 62500);\")\n",
        "conn.execute(\"INSERT INTO ms_produk VALUES(2, 'prod-02', 'Flashdisk DQLab 64 GB', 55000);\")\n",
        "conn.execute(\"INSERT INTO ms_produk VALUES(3, 'prod-03', 'Gift Voucher DQLab 100rb', 100000);\")\n",
        "conn.execute(\"INSERT INTO ms_produk VALUES(4, 'prod-04', 'Flashdisk DQLab 32 GB', 40000);\")\n",
        "conn.execute(\"INSERT INTO ms_produk VALUES(5, 'prod-05', 'Gift Voucher DQLab 250rb', 250000);\")\n",
        "conn.execute(\"INSERT INTO ms_produk VALUES(6, 'prod-06', 'Pulpen Multifunction + Laser DQLab', 92500);\")\n",
        "conn.execute(\"INSERT INTO ms_produk VALUES(7, 'prod-07', 'Tas Travel Organizer DQLab', 48000);\")\n",
        "conn.execute(\"INSERT INTO ms_produk VALUES(8, 'prod-08', 'Gantungan Kunci DQLab', 15800);\")\n",
        "conn.execute(\"INSERT INTO ms_produk VALUES(9, 'prod-09', 'Buku Planner Agenda DQLab', 92000);\")\n",
        "conn.execute(\"INSERT INTO ms_produk VALUES(10, 'prod-10', 'Sticky Notes DQLab 500 sheets', 55000);\")\n",
        "\n",
        "conn.commit()"
      ],
      "metadata": {
        "id": "pur_6UtZObyY"
      },
      "execution_count": 2,
      "outputs": []
    },
    {
      "cell_type": "markdown",
      "source": [
        "#### [Perintah SELECT](https://academy.dqlab.id/main/livecode/91/213/1086?pr=0)"
      ],
      "metadata": {
        "id": "fyM0L9dsS32-"
      }
    },
    {
      "cell_type": "code",
      "source": [
        "# Melihat Tabel\n",
        "\n",
        "conn = sqlite3.connect('produk.db')\n",
        "\n",
        "cursor = conn.execute('''\n",
        "                      SELECT * FROM ms_produk;\n",
        "                      ''')\n",
        "\n",
        "for row in cursor:\n",
        "  print(row)\n",
        "#conn.close()"
      ],
      "metadata": {
        "colab": {
          "base_uri": "https://localhost:8080/"
        },
        "id": "fxOqN9ilR9La",
        "outputId": "b9abaa3c-3c06-4711-ba3a-8d364d69655b"
      },
      "execution_count": 4,
      "outputs": [
        {
          "output_type": "stream",
          "name": "stdout",
          "text": [
            "(1, 'prod-01', 'Kotak Pensil DQLab', 62500)\n",
            "(2, 'prod-02', 'Flashdisk DQLab 64 GB', 55000)\n",
            "(3, 'prod-03', 'Gift Voucher DQLab 100rb', 100000)\n",
            "(4, 'prod-04', 'Flashdisk DQLab 32 GB', 40000)\n",
            "(5, 'prod-05', 'Gift Voucher DQLab 250rb', 250000)\n",
            "(6, 'prod-06', 'Pulpen Multifunction + Laser DQLab', 92500)\n",
            "(7, 'prod-07', 'Tas Travel Organizer DQLab', 48000)\n",
            "(8, 'prod-08', 'Gantungan Kunci DQLab', 15800)\n",
            "(9, 'prod-09', 'Buku Planner Agenda DQLab', 92000)\n",
            "(10, 'prod-10', 'Sticky Notes DQLab 500 sheets', 55000)\n"
          ]
        }
      ]
    },
    {
      "cell_type": "markdown",
      "source": [
        "## Menentukan Kolom dan Jumlah Baris yang Ditampilkan"
      ],
      "metadata": {
        "id": "xNRz_xSmTlW3"
      }
    },
    {
      "cell_type": "markdown",
      "source": [
        "#### [Mengambil Satu Kolom dari Table](https://academy.dqlab.id/main/livecode/91/214/1093?pr=0)"
      ],
      "metadata": {
        "id": "G5pnSwwYTq5O"
      }
    },
    {
      "cell_type": "code",
      "source": [
        "# Melihat kolom nama_produk\n",
        "\n",
        "conn = sqlite3.connect('produk.db')\n",
        "\n",
        "cursor = conn.execute('''\n",
        "                      SELECT nama_produk FROM ms_produk;\n",
        "                      ''')\n",
        "\n",
        "for row in cursor:\n",
        "  print(row)\n",
        "#conn.close()"
      ],
      "metadata": {
        "colab": {
          "base_uri": "https://localhost:8080/"
        },
        "id": "7poFAPrXTzW0",
        "outputId": "a9f8fa81-ee7e-461c-d8f7-86548d6e3e59"
      },
      "execution_count": 5,
      "outputs": [
        {
          "output_type": "stream",
          "name": "stdout",
          "text": [
            "('Kotak Pensil DQLab',)\n",
            "('Flashdisk DQLab 64 GB',)\n",
            "('Gift Voucher DQLab 100rb',)\n",
            "('Flashdisk DQLab 32 GB',)\n",
            "('Gift Voucher DQLab 250rb',)\n",
            "('Pulpen Multifunction + Laser DQLab',)\n",
            "('Tas Travel Organizer DQLab',)\n",
            "('Gantungan Kunci DQLab',)\n",
            "('Buku Planner Agenda DQLab',)\n",
            "('Sticky Notes DQLab 500 sheets',)\n"
          ]
        }
      ]
    },
    {
      "cell_type": "markdown",
      "source": [
        "#### [Mengambil Lebih dari Satu Kolom](https://academy.dqlab.id/main/livecode/91/214/1095?pr=0)"
      ],
      "metadata": {
        "id": "LhOuyenmUTrC"
      }
    },
    {
      "cell_type": "code",
      "source": [
        "# Melihat kolom nama_produk dan harga\n",
        "\n",
        "conn = sqlite3.connect('produk.db')\n",
        "\n",
        "cursor = conn.execute('''\n",
        "                      SELECT nama_produk, harga FROM ms_produk;\n",
        "                      ''')\n",
        "\n",
        "for row in cursor:\n",
        "  print(row)\n",
        "#conn.close()"
      ],
      "metadata": {
        "colab": {
          "base_uri": "https://localhost:8080/"
        },
        "id": "bGTRB1IxUaWR",
        "outputId": "386044b7-b93c-4c3b-85d4-631b38008674"
      },
      "execution_count": 6,
      "outputs": [
        {
          "output_type": "stream",
          "name": "stdout",
          "text": [
            "('Kotak Pensil DQLab', 62500)\n",
            "('Flashdisk DQLab 64 GB', 55000)\n",
            "('Gift Voucher DQLab 100rb', 100000)\n",
            "('Flashdisk DQLab 32 GB', 40000)\n",
            "('Gift Voucher DQLab 250rb', 250000)\n",
            "('Pulpen Multifunction + Laser DQLab', 92500)\n",
            "('Tas Travel Organizer DQLab', 48000)\n",
            "('Gantungan Kunci DQLab', 15800)\n",
            "('Buku Planner Agenda DQLab', 92000)\n",
            "('Sticky Notes DQLab 500 sheets', 55000)\n"
          ]
        }
      ]
    },
    {
      "cell_type": "markdown",
      "source": [
        "#### [Membatasi Pengambilan Jumlah Row Data](https://academy.dqlab.id/main/livecode/91/214/1097?pr=0)"
      ],
      "metadata": {
        "id": "OvzHmDRrVGOF"
      }
    },
    {
      "cell_type": "code",
      "source": [
        "# Melihat 3 baris data kolom nama_produk\n",
        "\n",
        "conn = sqlite3.connect('produk.db')\n",
        "\n",
        "cursor = conn.execute('''\n",
        "                      SELECT nama_produk FROM ms_produk LIMIT 3;\n",
        "                      ''')\n",
        "\n",
        "for row in cursor:\n",
        "  print(row)\n",
        "#conn.close()"
      ],
      "metadata": {
        "colab": {
          "base_uri": "https://localhost:8080/"
        },
        "id": "xTA0cB3sVKPx",
        "outputId": "6cca8a06-921d-4cf8-f632-1862f84fd307"
      },
      "execution_count": 7,
      "outputs": [
        {
          "output_type": "stream",
          "name": "stdout",
          "text": [
            "('Kotak Pensil DQLab',)\n",
            "('Flashdisk DQLab 64 GB',)\n",
            "('Gift Voucher DQLab 100rb',)\n"
          ]
        }
      ]
    },
    {
      "cell_type": "markdown",
      "source": [
        "## Prefix dan Alias"
      ],
      "metadata": {
        "id": "b9vrV45EViL-"
      }
    },
    {
      "cell_type": "markdown",
      "source": [
        "#### [Menggunakan Prefix pada Nama Kolom](https://academy.dqlab.id/main/livecode/91/215/1100?pr=0)"
      ],
      "metadata": {
        "id": "YF3P1wEXVmNS"
      }
    },
    {
      "cell_type": "code",
      "source": [
        "# Melihat kolom kode_produk menggunakan prefix nama tabel\n",
        "\n",
        "conn = sqlite3.connect('produk.db')\n",
        "\n",
        "cursor = conn.execute('''\n",
        "                      SELECT ms_produk.kode_produk FROM ms_produk;\n",
        "                      ''')\n",
        "\n",
        "for row in cursor:\n",
        "  print(row)\n",
        "#conn.close()"
      ],
      "metadata": {
        "colab": {
          "base_uri": "https://localhost:8080/"
        },
        "id": "tK7ccgFIVq0J",
        "outputId": "b015777f-dc90-44be-a708-b97ae7a740f0"
      },
      "execution_count": 8,
      "outputs": [
        {
          "output_type": "stream",
          "name": "stdout",
          "text": [
            "('prod-01',)\n",
            "('prod-02',)\n",
            "('prod-03',)\n",
            "('prod-04',)\n",
            "('prod-05',)\n",
            "('prod-06',)\n",
            "('prod-07',)\n",
            "('prod-08',)\n",
            "('prod-09',)\n",
            "('prod-10',)\n"
          ]
        }
      ]
    },
    {
      "cell_type": "markdown",
      "source": [
        "#### [Menggunakan Alias pada Kolom](https://academy.dqlab.id/main/livecode/91/215/1102?pr=0)"
      ],
      "metadata": {
        "id": "JI0jx3fnWJRu"
      }
    },
    {
      "cell_type": "code",
      "source": [
        "# Menerapkan alias pada kolom no_urut dan nama_produk\n",
        "\n",
        "conn = sqlite3.connect('produk.db')\n",
        "\n",
        "cursor = conn.execute('''\n",
        "                      SELECT no_urut AS nomor, nama_produk AS nama FROM ms_produk;\n",
        "                      ''')\n",
        "\n",
        "for row in cursor:\n",
        "  print(row)\n",
        "#conn.close()"
      ],
      "metadata": {
        "colab": {
          "base_uri": "https://localhost:8080/"
        },
        "id": "NtWq0HCtWNFh",
        "outputId": "a16f14bb-f25e-477e-8fe4-e6404cf7c7e6"
      },
      "execution_count": 9,
      "outputs": [
        {
          "output_type": "stream",
          "name": "stdout",
          "text": [
            "(1, 'Kotak Pensil DQLab')\n",
            "(2, 'Flashdisk DQLab 64 GB')\n",
            "(3, 'Gift Voucher DQLab 100rb')\n",
            "(4, 'Flashdisk DQLab 32 GB')\n",
            "(5, 'Gift Voucher DQLab 250rb')\n",
            "(6, 'Pulpen Multifunction + Laser DQLab')\n",
            "(7, 'Tas Travel Organizer DQLab')\n",
            "(8, 'Gantungan Kunci DQLab')\n",
            "(9, 'Buku Planner Agenda DQLab')\n",
            "(10, 'Sticky Notes DQLab 500 sheets')\n"
          ]
        }
      ]
    },
    {
      "cell_type": "markdown",
      "source": [
        "#### [Menghilangkan Keyword 'AS'](https://academy.dqlab.id/main/livecode/91/215/1104?pr=0)"
      ],
      "metadata": {
        "id": "4cdL9Vq0Zs1s"
      }
    },
    {
      "cell_type": "code",
      "source": [
        "# Menerapkan alias pada kolom no_urut dan nama_produk tanpa keyword AS\n",
        "\n",
        "conn = sqlite3.connect('produk.db')\n",
        "\n",
        "cursor = conn.execute('''\n",
        "                      SELECT no_urut nomor, nama_produk nama FROM ms_produk;\n",
        "                      ''')\n",
        "\n",
        "for row in cursor:\n",
        "  print(row)\n",
        "#conn.close()"
      ],
      "metadata": {
        "colab": {
          "base_uri": "https://localhost:8080/"
        },
        "id": "Ceu085scZxxK",
        "outputId": "407ef774-ad75-4b4d-e562-3696813fb10c"
      },
      "execution_count": 10,
      "outputs": [
        {
          "output_type": "stream",
          "name": "stdout",
          "text": [
            "(1, 'Kotak Pensil DQLab')\n",
            "(2, 'Flashdisk DQLab 64 GB')\n",
            "(3, 'Gift Voucher DQLab 100rb')\n",
            "(4, 'Flashdisk DQLab 32 GB')\n",
            "(5, 'Gift Voucher DQLab 250rb')\n",
            "(6, 'Pulpen Multifunction + Laser DQLab')\n",
            "(7, 'Tas Travel Organizer DQLab')\n",
            "(8, 'Gantungan Kunci DQLab')\n",
            "(9, 'Buku Planner Agenda DQLab')\n",
            "(10, 'Sticky Notes DQLab 500 sheets')\n"
          ]
        }
      ]
    },
    {
      "cell_type": "markdown",
      "source": [
        "#### [Menggabungkan Prefix dan Alias](https://academy.dqlab.id/main/livecode/91/215/1106?pr=0)"
      ],
      "metadata": {
        "id": "dUD0Fj-0aEJB"
      }
    },
    {
      "cell_type": "code",
      "source": [
        "# Menerapkan prefix dan alias pada kolom harga\n",
        "\n",
        "conn = sqlite3.connect('produk.db')\n",
        "\n",
        "cursor = conn.execute('''\n",
        "                      SELECT ms_produk.harga AS harga_jual from ms_produk;\n",
        "                      ''')\n",
        "\n",
        "for row in cursor:\n",
        "  print(row)\n",
        "#conn.close()"
      ],
      "metadata": {
        "colab": {
          "base_uri": "https://localhost:8080/"
        },
        "id": "enc86x9NaI09",
        "outputId": "371fb86a-319a-4f69-c346-759a4856666b"
      },
      "execution_count": 11,
      "outputs": [
        {
          "output_type": "stream",
          "name": "stdout",
          "text": [
            "(62500,)\n",
            "(55000,)\n",
            "(100000,)\n",
            "(40000,)\n",
            "(250000,)\n",
            "(92500,)\n",
            "(48000,)\n",
            "(15800,)\n",
            "(92000,)\n",
            "(55000,)\n"
          ]
        }
      ]
    },
    {
      "cell_type": "markdown",
      "source": [
        "#### [Menggunakan Alias pada Table](https://academy.dqlab.id/main/livecode/91/215/1107?pr=0)"
      ],
      "metadata": {
        "id": "EQvZhW4easJQ"
      }
    },
    {
      "cell_type": "code",
      "source": [
        "# Menerapkan alias pada tabel tanpa keyword AS\n",
        "\n",
        "conn = sqlite3.connect('produk.db')\n",
        "\n",
        "cursor = conn.execute('''\n",
        "                      SELECT * FROM ms_produk t2;\n",
        "                      ''')\n",
        "\n",
        "for row in cursor:\n",
        "  print(row)\n",
        "#conn.close()"
      ],
      "metadata": {
        "colab": {
          "base_uri": "https://localhost:8080/"
        },
        "id": "2p9A21RKaxl1",
        "outputId": "0d91d493-3da9-4ba4-af29-68c7d1b82b35"
      },
      "execution_count": 12,
      "outputs": [
        {
          "output_type": "stream",
          "name": "stdout",
          "text": [
            "(1, 'prod-01', 'Kotak Pensil DQLab', 62500)\n",
            "(2, 'prod-02', 'Flashdisk DQLab 64 GB', 55000)\n",
            "(3, 'prod-03', 'Gift Voucher DQLab 100rb', 100000)\n",
            "(4, 'prod-04', 'Flashdisk DQLab 32 GB', 40000)\n",
            "(5, 'prod-05', 'Gift Voucher DQLab 250rb', 250000)\n",
            "(6, 'prod-06', 'Pulpen Multifunction + Laser DQLab', 92500)\n",
            "(7, 'prod-07', 'Tas Travel Organizer DQLab', 48000)\n",
            "(8, 'prod-08', 'Gantungan Kunci DQLab', 15800)\n",
            "(9, 'prod-09', 'Buku Planner Agenda DQLab', 92000)\n",
            "(10, 'prod-10', 'Sticky Notes DQLab 500 sheets', 55000)\n"
          ]
        }
      ]
    },
    {
      "cell_type": "markdown",
      "source": [
        "### [Prefix dengan Alias Table](https://academy.dqlab.id/main/livecode/91/215/1108?pr=0)"
      ],
      "metadata": {
        "id": "-W6v1hEHbLVF"
      }
    },
    {
      "cell_type": "code",
      "source": [
        "# Menerapkan alias pada tabel tanpa keyword AS, prefix pada kolom nama_produk dan harga\n",
        "\n",
        "conn = sqlite3.connect('produk.db')\n",
        "\n",
        "cursor = conn.execute('''\n",
        "                      SELECT t2.nama_produk, t2.harga FROM ms_produk t2;\n",
        "                      ''')\n",
        "\n",
        "for row in cursor:\n",
        "  print(row)\n",
        "#conn.close()"
      ],
      "metadata": {
        "colab": {
          "base_uri": "https://localhost:8080/"
        },
        "id": "Ly6rLS2kbPWB",
        "outputId": "0689a51a-a2ba-47e4-a711-c996709492fd"
      },
      "execution_count": 13,
      "outputs": [
        {
          "output_type": "stream",
          "name": "stdout",
          "text": [
            "('Kotak Pensil DQLab', 62500)\n",
            "('Flashdisk DQLab 64 GB', 55000)\n",
            "('Gift Voucher DQLab 100rb', 100000)\n",
            "('Flashdisk DQLab 32 GB', 40000)\n",
            "('Gift Voucher DQLab 250rb', 250000)\n",
            "('Pulpen Multifunction + Laser DQLab', 92500)\n",
            "('Tas Travel Organizer DQLab', 48000)\n",
            "('Gantungan Kunci DQLab', 15800)\n",
            "('Buku Planner Agenda DQLab', 92000)\n",
            "('Sticky Notes DQLab 500 sheets', 55000)\n"
          ]
        }
      ]
    },
    {
      "cell_type": "markdown",
      "source": [
        "## Menggunakan Filter"
      ],
      "metadata": {
        "id": "N3xqmwEHbp0R"
      }
    },
    {
      "cell_type": "markdown",
      "source": [
        "#### [Menggunakan WHERE](https://academy.dqlab.id/main/livecode/91/216/1111?pr=0)"
      ],
      "metadata": {
        "id": "oie7R5LGb0Sx"
      }
    },
    {
      "cell_type": "code",
      "source": [
        "# Mengeluarkan data nama_produk bernilai \"Tas Travel Organizer DQLab\"\n",
        "\n",
        "conn = sqlite3.connect('produk.db')\n",
        "\n",
        "cursor = conn.execute('''\n",
        "                      SELECT * FROM ms_produk WHERE nama_produk = 'Tas Travel Organizer DQLab';\n",
        "                      ''')\n",
        "\n",
        "for row in cursor:\n",
        "  print(row)\n",
        "#conn.close()"
      ],
      "metadata": {
        "colab": {
          "base_uri": "https://localhost:8080/"
        },
        "id": "halCktflbsJJ",
        "outputId": "639030a9-68fa-472e-b6f5-58b0db308707"
      },
      "execution_count": 14,
      "outputs": [
        {
          "output_type": "stream",
          "name": "stdout",
          "text": [
            "(7, 'prod-07', 'Tas Travel Organizer DQLab', 48000)\n"
          ]
        }
      ]
    },
    {
      "cell_type": "markdown",
      "source": [
        "#### [Menggunakan Operand OR](https://academy.dqlab.id/main/livecode/91/216/1112?pr=0)"
      ],
      "metadata": {
        "id": "0FWdxT1IcfXJ"
      }
    },
    {
      "cell_type": "code",
      "source": [
        "# Mengeluarkan beberapa data nama_produk dengan kriteria tertentu\n",
        "\n",
        "conn = sqlite3.connect('produk.db')\n",
        "\n",
        "cursor = conn.execute('''\n",
        "                      SELECT * FROM ms_produk\n",
        "                      WHERE nama_produk = 'Gantungan Kunci DQLab'\n",
        "                      OR nama_produk = 'Tas Travel Organizer DQLab'\n",
        "                      OR nama_produk = 'Flashdisk DQLab 64 GB';\n",
        "                      ''')\n",
        "\n",
        "for row in cursor:\n",
        "  print(row)\n",
        "#conn.close()"
      ],
      "metadata": {
        "colab": {
          "base_uri": "https://localhost:8080/"
        },
        "id": "3yf6OcXlcjW9",
        "outputId": "0a5d0350-c178-4bdd-d24f-fe6f90290683"
      },
      "execution_count": 15,
      "outputs": [
        {
          "output_type": "stream",
          "name": "stdout",
          "text": [
            "(2, 'prod-02', 'Flashdisk DQLab 64 GB', 55000)\n",
            "(7, 'prod-07', 'Tas Travel Organizer DQLab', 48000)\n",
            "(8, 'prod-08', 'Gantungan Kunci DQLab', 15800)\n"
          ]
        }
      ]
    },
    {
      "cell_type": "markdown",
      "source": [
        "#### [Filter untuk Angka](https://academy.dqlab.id/main/livecode/91/216/1113?pr=0)"
      ],
      "metadata": {
        "id": "OT9j9mkAdTlw"
      }
    },
    {
      "cell_type": "code",
      "source": [
        "# Mengeluarkan data dengan harga lebih dari 50.000\n",
        "\n",
        "conn = sqlite3.connect('produk.db')\n",
        "\n",
        "cursor = conn.execute('''\n",
        "                      SELECT * FROM ms_produk WHERE harga > 50000;\n",
        "                      ''')\n",
        "\n",
        "for row in cursor:\n",
        "  print(row)\n",
        "#conn.close()"
      ],
      "metadata": {
        "colab": {
          "base_uri": "https://localhost:8080/"
        },
        "id": "bPXUeG-PdXxI",
        "outputId": "56219415-bbef-488d-ecde-c4b0a6c32429"
      },
      "execution_count": 16,
      "outputs": [
        {
          "output_type": "stream",
          "name": "stdout",
          "text": [
            "(1, 'prod-01', 'Kotak Pensil DQLab', 62500)\n",
            "(2, 'prod-02', 'Flashdisk DQLab 64 GB', 55000)\n",
            "(3, 'prod-03', 'Gift Voucher DQLab 100rb', 100000)\n",
            "(5, 'prod-05', 'Gift Voucher DQLab 250rb', 250000)\n",
            "(6, 'prod-06', 'Pulpen Multifunction + Laser DQLab', 92500)\n",
            "(9, 'prod-09', 'Buku Planner Agenda DQLab', 92000)\n",
            "(10, 'prod-10', 'Sticky Notes DQLab 500 sheets', 55000)\n"
          ]
        }
      ]
    },
    {
      "cell_type": "markdown",
      "source": [
        "#### [Menggunakan Operand AND](https://academy.dqlab.id/main/livecode/91/216/1114?pr=0)"
      ],
      "metadata": {
        "id": "aevC4JZmdxCz"
      }
    },
    {
      "cell_type": "code",
      "source": [
        "# Mengeluarkan data dengan nama produk dan harga tertentu\n",
        "\n",
        "conn = sqlite3.connect('produk.db')\n",
        "\n",
        "cursor = conn.execute('''\n",
        "                      SELECT * FROM ms_produk\n",
        "                      WHERE nama_produk = 'Gantungan Kunci DQLab'\n",
        "                      AND harga < 50000;\n",
        "                      ''')\n",
        "\n",
        "for row in cursor:\n",
        "  print(row)\n",
        "#conn.close()"
      ],
      "metadata": {
        "colab": {
          "base_uri": "https://localhost:8080/"
        },
        "id": "tDl7aMSId2mh",
        "outputId": "06846b81-8793-492e-e2e0-44a95e89d9d4"
      },
      "execution_count": 17,
      "outputs": [
        {
          "output_type": "stream",
          "name": "stdout",
          "text": [
            "(8, 'prod-08', 'Gantungan Kunci DQLab', 15800)\n"
          ]
        }
      ]
    }
  ]
}